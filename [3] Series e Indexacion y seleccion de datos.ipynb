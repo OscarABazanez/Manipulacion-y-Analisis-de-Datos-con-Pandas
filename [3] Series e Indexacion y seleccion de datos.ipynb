{
 "cells": [
  {
   "cell_type": "code",
   "metadata": {
    "tags": [],
    "cell_id": "00000-42994651-2d1a-41f9-8b32-8af56c96756f",
    "deepnote_to_be_reexecuted": false,
    "source_hash": "9b82ee11",
    "execution_start": 1624808726874,
    "execution_millis": 9,
    "deepnote_cell_type": "code"
   },
   "source": "import pandas as pd",
   "outputs": [],
   "execution_count": null
  },
  {
   "cell_type": "code",
   "source": "sr = pd.Series([10,32,432,13,231])\nprint(sr)\n\nprint('-'*59)\nprint('Valores',sr.values)\n\nprint('-'*59)\nprint('Index',sr.index)\n\nprint('-'*59)\nprint('Dimensionalidad',sr.shape)\n\nprint('-'*59)\nsr = pd.Series([10,32,432,13,231], index=['a','b','c','d','e'])\nprint('Cambiar el indice', sr)",
   "metadata": {
    "tags": [],
    "cell_id": "00002-b9965703-f353-44cf-b122-0a89b9f166a9",
    "deepnote_to_be_reexecuted": false,
    "source_hash": "224de3e",
    "execution_start": 1624809118718,
    "execution_millis": 5,
    "deepnote_cell_type": "code"
   },
   "outputs": [
    {
     "name": "stdout",
     "text": "0     10\n1     32\n2    432\n3     13\n4    231\ndtype: int64\n-----------------------------------------------------------\nValores [ 10  32 432  13 231]\n-----------------------------------------------------------\nIndex RangeIndex(start=0, stop=5, step=1)\n-----------------------------------------------------------\nDimensionalidad (5,)\n-----------------------------------------------------------\nCambiar el indice a     10\nb     32\nc    432\nd     13\ne    231\ndtype: int64\n",
     "output_type": "stream"
    }
   ],
   "execution_count": null
  },
  {
   "cell_type": "code",
   "source": "dict_data = {'CO': 100,'MX':200,'AR':300}\ndict_data.keys()",
   "metadata": {
    "tags": [],
    "cell_id": "00002-34ef592b-2b38-49cc-a671-1940d05d44eb",
    "deepnote_to_be_reexecuted": false,
    "source_hash": "decf63e4",
    "execution_start": 1624809227673,
    "execution_millis": 8,
    "deepnote_cell_type": "code"
   },
   "outputs": [
    {
     "output_type": "execute_result",
     "execution_count": 21,
     "data": {
      "text/plain": "dict_keys(['CO', 'MX', 'AR'])"
     },
     "metadata": {}
    }
   ],
   "execution_count": null
  },
  {
   "cell_type": "code",
   "source": "#Extraer valor del dict\ndict_data['MX']",
   "metadata": {
    "tags": [],
    "cell_id": "00003-306c9973-0c56-431d-b9ed-a0e00a6c0424",
    "deepnote_to_be_reexecuted": false,
    "source_hash": "1270c5c5",
    "execution_start": 1624809265843,
    "execution_millis": 7,
    "deepnote_cell_type": "code"
   },
   "outputs": [
    {
     "output_type": "execute_result",
     "execution_count": 22,
     "data": {
      "text/plain": "200"
     },
     "metadata": {}
    }
   ],
   "execution_count": null
  },
  {
   "cell_type": "code",
   "source": "#Se define la variable nula\nsr = pd.Series(dict_data,index=['CO','MX','PE'])",
   "metadata": {
    "tags": [],
    "cell_id": "00004-3ab9239e-3990-4266-bb96-6c4ab85bd19b",
    "deepnote_to_be_reexecuted": false,
    "source_hash": "261e83d",
    "execution_start": 1624809381716,
    "execution_millis": 20,
    "deepnote_cell_type": "code"
   },
   "outputs": [
    {
     "output_type": "execute_result",
     "execution_count": 27,
     "data": {
      "text/plain": "CO    100.0\nMX    200.0\nPE      NaN\ndtype: float64"
     },
     "metadata": {}
    }
   ],
   "execution_count": null
  },
  {
   "cell_type": "code",
   "source": "sr.isnull()",
   "metadata": {
    "tags": [],
    "cell_id": "00005-1e8b2abc-2e75-4910-ac9d-e6e90c16de9c",
    "deepnote_to_be_reexecuted": false,
    "source_hash": "9b5b2ce9",
    "execution_start": 1624809492183,
    "execution_millis": 13,
    "deepnote_cell_type": "code"
   },
   "outputs": [
    {
     "output_type": "execute_result",
     "execution_count": 30,
     "data": {
      "text/plain": "a    False\nb    False\nc    False\nd    False\ne    False\ndtype: bool"
     },
     "metadata": {}
    }
   ],
   "execution_count": null
  },
  {
   "cell_type": "code",
   "source": "sr.notnull()",
   "metadata": {
    "tags": [],
    "cell_id": "00006-b9776249-2d70-4d92-a6f9-5c44f9d1e94f",
    "deepnote_to_be_reexecuted": false,
    "source_hash": "171ca05e",
    "execution_start": 1624809502663,
    "execution_millis": 10,
    "deepnote_cell_type": "code"
   },
   "outputs": [
    {
     "output_type": "execute_result",
     "execution_count": 31,
     "data": {
      "text/plain": "a    True\nb    True\nc    True\nd    True\ne    True\ndtype: bool"
     },
     "metadata": {}
    }
   ],
   "execution_count": null
  },
  {
   "cell_type": "code",
   "source": "import numpy as np\nn",
   "metadata": {
    "tags": [],
    "cell_id": "00005-2bea6e70-5c1b-4a4c-885d-dd79607909e0",
    "deepnote_to_be_reexecuted": false,
    "source_hash": "144cc452",
    "execution_start": 1624809408165,
    "execution_millis": 21,
    "deepnote_cell_type": "code"
   },
   "outputs": [
    {
     "output_type": "execute_result",
     "execution_count": 28,
     "data": {
      "text/plain": "nan"
     },
     "metadata": {}
    }
   ],
   "execution_count": null
  },
  {
   "cell_type": "code",
   "source": "np.nan+10",
   "metadata": {
    "tags": [],
    "cell_id": "00006-41cb6fcd-dc39-4270-ab02-dcc059adbc57",
    "deepnote_to_be_reexecuted": false,
    "source_hash": "69210902",
    "execution_start": 1624809425635,
    "execution_millis": 6,
    "deepnote_cell_type": "code"
   },
   "outputs": [
    {
     "output_type": "execute_result",
     "execution_count": 29,
     "data": {
      "text/plain": "nan"
     },
     "metadata": {}
    }
   ],
   "execution_count": null
  },
  {
   "cell_type": "markdown",
   "source": "<a style='text-decoration:none;line-height:16px;display:flex;color:#5B5B62;padding:10px;justify-content:end;' href='https://deepnote.com?utm_source=created-in-deepnote-cell&projectId=40d7a071-7e6a-4668-9914-a7e81441c111' target=\"_blank\">\n<img alt='Created in deepnote.com' style='display:inline;max-height:16px;margin:0px;margin-right:7.5px;' src='data:image/svg+xml;base64,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' > </img>\nCreated in <span style='font-weight:600;margin-left:4px;'>Deepnote</span></a>",
   "metadata": {
    "tags": [],
    "created_in_deepnote_cell": true,
    "deepnote_cell_type": "markdown"
   }
  }
 ],
 "nbformat": 4,
 "nbformat_minor": 2,
 "metadata": {
  "orig_nbformat": 2,
  "deepnote": {
   "is_reactive": false
  },
  "deepnote_notebook_id": "9e5481cd-b002-4370-bacb-ab6feabb22f7",
  "deepnote_execution_queue": []
 }
}