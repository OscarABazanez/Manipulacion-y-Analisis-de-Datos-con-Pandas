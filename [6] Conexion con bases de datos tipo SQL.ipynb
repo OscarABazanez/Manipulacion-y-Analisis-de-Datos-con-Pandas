{
 "cells": [
  {
   "cell_type": "markdown",
   "source": "# PostgreSQL\nValida que tengas la librería psycopg2 usando el comando import. Si no está instalada en tu ambiente, usa el comando !pip install psycopg2 en la terminal de python para instalarlo.\n\nComenzamos cargando las librerías:",
   "metadata": {
    "tags": [],
    "cell_id": "00001-ff197c7f-bfb2-4b68-a6cc-f8b64964e829",
    "deepnote_cell_type": "markdown"
   }
  },
  {
   "cell_type": "code",
   "metadata": {
    "tags": [],
    "cell_id": "00000-52e63fa4-adad-43a1-93f0-d533d8275e23",
    "deepnote_to_be_reexecuted": false,
    "source_hash": "9f91ef74",
    "execution_start": 1624816083650,
    "execution_millis": 0,
    "deepnote_cell_type": "code"
   },
   "source": "import pandas as pd\nimport psycopg2",
   "outputs": [],
   "execution_count": 1
  },
  {
   "cell_type": "markdown",
   "source": "Luego creamos el elemento de conexión con el siguieente código:",
   "metadata": {
    "tags": [],
    "cell_id": "00002-4ab2f172-513d-405a-9037-08279ec0c563",
    "deepnote_cell_type": "markdown"
   }
  },
  {
   "cell_type": "code",
   "source": "conn_sql = psycopg2.connect(user = \"user_name\",\n                            password = \"password\",\n                            host = \"xxx.xxx.xxx.xxx\",\n                            port = \"5432\",\n                            database = \"postgres_db_name\")",
   "metadata": {
    "tags": [],
    "cell_id": "00003-3eaa2cf8-8f63-4eac-ac6a-b8e7a3e1ffe3",
    "deepnote_cell_type": "code"
   },
   "outputs": [],
   "execution_count": null
  },
  {
   "cell_type": "markdown",
   "source": "Seguido simplemente definimos nuestra query en SQL:",
   "metadata": {
    "tags": [],
    "cell_id": "00004-6d2a5831-96fa-4046-9c88-6e6ff079f1d8",
    "deepnote_cell_type": "markdown"
   }
  },
  {
   "cell_type": "code",
   "source": "query_sql = '''\nselect *\nfrom table_name\nlimit 10\n'''",
   "metadata": {
    "tags": [],
    "cell_id": "00005-dc274734-bd21-42d3-95fa-4c2f5db8ec92",
    "deepnote_cell_type": "code"
   },
   "outputs": [],
   "execution_count": null
  },
  {
   "cell_type": "markdown",
   "source": "Y creamos nuestro dataframe:",
   "metadata": {
    "tags": [],
    "cell_id": "00006-e07ee6c2-e541-4780-a56e-e5bbc8e8b58f",
    "deepnote_cell_type": "markdown"
   }
  },
  {
   "cell_type": "code",
   "source": "df = pd.read_sql(query_sql, sql_conn)\ndf.head(5)",
   "metadata": {
    "tags": [],
    "cell_id": "00007-a0ffe12d-4129-462e-ae4a-274caf0dc453",
    "deepnote_cell_type": "code"
   },
   "outputs": [],
   "execution_count": null
  },
  {
   "cell_type": "markdown",
   "source": "# SQL Server\nValida que tengas la librería pyodbc usando el comando import, si no está instalada en tu ambiente, usa el comando !pip install pyodbc en la terminal python para instalarlo.\n\nComenzamos cargando las librerías:",
   "metadata": {
    "tags": [],
    "cell_id": "00008-89de03dd-5386-4ebe-bb80-db2af8d9b11e",
    "deepnote_cell_type": "markdown"
   }
  },
  {
   "cell_type": "code",
   "source": "import pandas as pd\nimport pyodbc",
   "metadata": {
    "tags": [],
    "cell_id": "00009-3171159c-c9db-4fbe-93ca-37ac34276c26",
    "deepnote_cell_type": "code"
   },
   "outputs": [],
   "execution_count": null
  },
  {
   "cell_type": "markdown",
   "source": "Luego creamos el elemento de conexión con el siguiente código:",
   "metadata": {
    "tags": [],
    "cell_id": "00010-2434e9d3-ee53-4bf0-9359-b69bf5cce48c",
    "deepnote_cell_type": "markdown"
   }
  },
  {
   "cell_type": "code",
   "source": "driver = '{SQL Server}'\nserver_name = 'server_name'\ndb_name = 'database_name'\nuser = 'user'\npassword = 'password'\nsql_conn = pyodbc.connect('''\nDRIVER={};SERVER={};DATABASE={};UID={};PWD={};\nTrusted_Connection=yes\n'''.format(driver, server_name, db_name, user, password))",
   "metadata": {
    "tags": [],
    "cell_id": "00011-cfa7adec-5348-40a4-88a1-576e55919ea5",
    "deepnote_cell_type": "code"
   },
   "outputs": [],
   "execution_count": null
  },
  {
   "cell_type": "markdown",
   "source": "O si tienes el DSN:",
   "metadata": {
    "tags": [],
    "cell_id": "00012-20936431-28b5-438f-b3e8-0fead748a49b",
    "deepnote_cell_type": "markdown"
   }
  },
  {
   "cell_type": "code",
   "source": "dsn = 'odbc_datasource_name'\nsql_conn = pyodbc.connect('''\nDSN={};UID={};PWD={};Trusted_Connection=yes;\n'''.format(dsn, user, password))\nSeguido simplemente definimos nuestra query en SQL:\t\nquery_sql = 'select * from table_name limit 10'",
   "metadata": {
    "tags": [],
    "cell_id": "00013-f31f44a2-5c30-4587-8c55-31c539f0a45b",
    "deepnote_cell_type": "code"
   },
   "outputs": [],
   "execution_count": null
  },
  {
   "cell_type": "markdown",
   "source": "Y creamos nuestro dataframe con:",
   "metadata": {
    "tags": [],
    "cell_id": "00014-93a1272f-8eab-45cd-9f78-70097f03416f",
    "deepnote_cell_type": "markdown"
   }
  },
  {
   "cell_type": "code",
   "source": "df = pd.read_sql(query_sql, sql_conn)\ndf.head(5)",
   "metadata": {
    "tags": [],
    "cell_id": "00015-01344527-edbe-4d55-9bac-db6a329fc643",
    "deepnote_cell_type": "code"
   },
   "outputs": [],
   "execution_count": null
  },
  {
   "cell_type": "markdown",
   "source": "# MySQL / Oracle / Otras\n\nValida que tengas la librería sqlalchemy usando el comando import, si no está instalada en tu ambiente, usa el comando !pip install sqlalchemy en la terminal de python para instalarlo.\n\nComenzamos cargando las librerías:",
   "metadata": {
    "tags": [],
    "cell_id": "00016-0e1572ca-c100-477f-80b0-1357d60ae902",
    "deepnote_cell_type": "markdown"
   }
  },
  {
   "cell_type": "code",
   "source": "import pandas as pd\nimport sqlalchemy as sql\nEscogemos nuestra base de datos, Oracle, MySql o la de tu preferencia:\ndatabase_type = 'mysql'\ndatabase_type = 'oracle'",
   "metadata": {
    "tags": [],
    "cell_id": "00017-d7fd0694-14dc-4a30-8d9a-0d20f4573296",
    "deepnote_cell_type": "code"
   },
   "outputs": [],
   "execution_count": null
  },
  {
   "cell_type": "markdown",
   "source": "Luego creamos el elemento de conexión con el siguiente código:",
   "metadata": {
    "tags": [],
    "cell_id": "00018-898fc308-7abb-4c9d-b588-799bc0ef7c9d",
    "deepnote_cell_type": "markdown"
   }
  },
  {
   "cell_type": "code",
   "source": "user = 'user_name'\npassword = 'password'\nhost = 'xxx.xxx.xxx.xxx:port'\ndatabase = 'database_name'\n\nconn_string = '{}://{}:{}@{}/{}'.format(\ndatabase_type, user, password, host, database)\n\nsql_conn = sql.create_engine(conn_string)",
   "metadata": {
    "tags": [],
    "cell_id": "00019-bc7d80da-63ef-430b-9a90-67fbbc7f41f2",
    "deepnote_cell_type": "code"
   },
   "outputs": [],
   "execution_count": null
  },
  {
   "cell_type": "markdown",
   "source": "Seguido simplemente definimos nuestra query en SQL:",
   "metadata": {
    "tags": [],
    "cell_id": "00020-39282471-174a-4ab4-b207-a034f1a31d5c",
    "deepnote_cell_type": "markdown"
   }
  },
  {
   "cell_type": "code",
   "source": "query_sql = '''\nselect *\nfrom table_name\nlimit 10\n'''",
   "metadata": {
    "tags": [],
    "cell_id": "00021-ac807527-d388-4c42-8368-1d6e694cdfb0",
    "deepnote_cell_type": "code"
   },
   "outputs": [],
   "execution_count": null
  },
  {
   "cell_type": "markdown",
   "source": "Y creamos nuestro dataframe con:",
   "metadata": {
    "tags": [],
    "cell_id": "00022-1bc85709-0d98-4d43-b07b-d9065790d7ca",
    "deepnote_cell_type": "markdown"
   }
  },
  {
   "cell_type": "code",
   "source": "df = pd.read_sql(query_sql, sql_conn)\ndf.head(5)",
   "metadata": {
    "tags": [],
    "cell_id": "00023-ade0ba87-46a5-44de-811c-5b7cb5dae837",
    "deepnote_cell_type": "code"
   },
   "outputs": [],
   "execution_count": null
  },
  {
   "cell_type": "markdown",
   "source": "La libreria sqlalchemy también soporta PostgreSQL y otras fuentes de datos.",
   "metadata": {
    "tags": [],
    "cell_id": "00024-ccbd57d0-eb4d-4fac-ba86-62ca557d2e03",
    "deepnote_cell_type": "markdown"
   }
  },
  {
   "cell_type": "markdown",
   "source": "<a style='text-decoration:none;line-height:16px;display:flex;color:#5B5B62;padding:10px;justify-content:end;' href='https://deepnote.com?utm_source=created-in-deepnote-cell&projectId=40d7a071-7e6a-4668-9914-a7e81441c111' target=\"_blank\">\n<img alt='Created in deepnote.com' style='display:inline;max-height:16px;margin:0px;margin-right:7.5px;' src='data:image/svg+xml;base64,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' > </img>\nCreated in <span style='font-weight:600;margin-left:4px;'>Deepnote</span></a>",
   "metadata": {
    "tags": [],
    "created_in_deepnote_cell": true,
    "deepnote_cell_type": "markdown"
   }
  }
 ],
 "nbformat": 4,
 "nbformat_minor": 2,
 "metadata": {
  "orig_nbformat": 2,
  "deepnote": {
   "is_reactive": false
  },
  "deepnote_notebook_id": "6bb889e0-ce9c-434f-a390-ae367621a3a9",
  "deepnote_execution_queue": []
 }
}