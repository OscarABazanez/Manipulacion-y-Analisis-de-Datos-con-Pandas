{
 "cells": [
  {
   "cell_type": "markdown",
   "source": "# Informacion de Covid 19",
   "metadata": {
    "tags": [],
    "cell_id": "00000-8d85d3f4-25a2-44af-b712-4bf993013525",
    "deepnote_cell_type": "markdown"
   }
  },
  {
   "cell_type": "code",
   "metadata": {
    "tags": [],
    "cell_id": "00000-ca88c0eb-1748-436a-96b9-c9f6a1ba70a0",
    "deepnote_to_be_reexecuted": false,
    "source_hash": "10c9f67f",
    "execution_start": 1625411269839,
    "execution_millis": 45,
    "deepnote_cell_type": "code"
   },
   "source": "import pandas as pd\nimport matplotlib.pyplot as plt\ndf = pd.read_csv('db/covid_19_data.csv')\ndf['ObservationDate'] = pd.to_datetime(df['ObservationDate'])\ndf.sample(10)",
   "execution_count": 32,
   "outputs": [
    {
     "output_type": "execute_result",
     "execution_count": 32,
     "data": {
      "application/vnd.deepnote.dataframe.v2+json": {
       "row_count": 10,
       "column_count": 8,
       "columns": [
        {
         "name": "SNo",
         "dtype": "int64",
         "stats": {
          "unique_count": 10,
          "nan_count": 0,
          "min": "7",
          "max": "2814",
          "histogram": [
           {
            "bin_start": 7,
            "bin_end": 287.7,
            "count": 2
           },
           {
            "bin_start": 287.7,
            "bin_end": 568.4,
            "count": 1
           },
           {
            "bin_start": 568.4,
            "bin_end": 849.0999999999999,
            "count": 1
           },
           {
            "bin_start": 849.0999999999999,
            "bin_end": 1129.8,
            "count": 2
           },
           {
            "bin_start": 1129.8,
            "bin_end": 1410.5,
            "count": 0
           },
           {
            "bin_start": 1410.5,
            "bin_end": 1691.1999999999998,
            "count": 1
           },
           {
            "bin_start": 1691.1999999999998,
            "bin_end": 1971.8999999999999,
            "count": 2
           },
           {
            "bin_start": 1971.8999999999999,
            "bin_end": 2252.6,
            "count": 0
           },
           {
            "bin_start": 2252.6,
            "bin_end": 2533.2999999999997,
            "count": 0
           },
           {
            "bin_start": 2533.2999999999997,
            "bin_end": 2814,
            "count": 1
           }
          ]
         }
        },
        {
         "name": "ObservationDate",
         "dtype": "datetime64[ns]",
         "stats": {
          "unique_count": 9,
          "nan_count": 0,
          "min": "2020-01-22 00:00:00",
          "max": "2020-02-29 00:00:00",
          "histogram": [
           {
            "bin_start": 1579651200000000000,
            "bin_end": 1579979520000000000,
            "count": 1
           },
           {
            "bin_start": 1579979520000000000,
            "bin_end": 1580307840000000000,
            "count": 1
           },
           {
            "bin_start": 1580307840000000000,
            "bin_end": 1580636160000000000,
            "count": 1
           },
           {
            "bin_start": 1580636160000000000,
            "bin_end": 1580964480000000000,
            "count": 1
           },
           {
            "bin_start": 1580964480000000000,
            "bin_end": 1581292800000000000,
            "count": 2
           },
           {
            "bin_start": 1581292800000000000,
            "bin_end": 1581621120000000000,
            "count": 0
           },
           {
            "bin_start": 1581621120000000000,
            "bin_end": 1581949440000000000,
            "count": 1
           },
           {
            "bin_start": 1581949440000000000,
            "bin_end": 1582277760000000000,
            "count": 2
           },
           {
            "bin_start": 1582277760000000000,
            "bin_end": 1582606080000000000,
            "count": 0
           },
           {
            "bin_start": 1582606080000000000,
            "bin_end": 1582934400000000000,
            "count": 1
           }
          ]
         }
        },
        {
         "name": "Province/State",
         "dtype": "object",
         "stats": {
          "unique_count": 7,
          "nan_count": 3,
          "categories": [
           {
            "name": "Guangxi",
            "count": 1
           },
           {
            "name": "6 others",
            "count": 6
           },
           {
            "name": "Missing",
            "count": 3
           }
          ]
         }
        },
        {
         "name": "Country/Region",
         "dtype": "object",
         "stats": {
          "unique_count": 7,
          "nan_count": 0,
          "categories": [
           {
            "name": "Mainland China",
            "count": 4
           },
           {
            "name": "Finland",
            "count": 1
           },
           {
            "name": "5 others",
            "count": 5
           }
          ]
         }
        },
        {
         "name": "Last Update",
         "dtype": "object",
         "stats": {
          "unique_count": 10,
          "nan_count": 0,
          "categories": [
           {
            "name": "1/22/2020 17:00",
            "count": 1
           },
           {
            "name": "1/26/20 16:00",
            "count": 1
           },
           {
            "name": "8 others",
            "count": 8
           }
          ]
         }
        },
        {
         "name": "Confirmed",
         "dtype": "float64",
         "stats": {
          "unique_count": 9,
          "nan_count": 0,
          "min": "1.0",
          "max": "463.0",
          "histogram": [
           {
            "bin_start": 1,
            "bin_end": 47.2,
            "count": 8
           },
           {
            "bin_start": 47.2,
            "bin_end": 93.4,
            "count": 0
           },
           {
            "bin_start": 93.4,
            "bin_end": 139.60000000000002,
            "count": 0
           },
           {
            "bin_start": 139.60000000000002,
            "bin_end": 185.8,
            "count": 1
           },
           {
            "bin_start": 185.8,
            "bin_end": 232,
            "count": 0
           },
           {
            "bin_start": 232,
            "bin_end": 278.20000000000005,
            "count": 0
           },
           {
            "bin_start": 278.20000000000005,
            "bin_end": 324.40000000000003,
            "count": 0
           },
           {
            "bin_start": 324.40000000000003,
            "bin_end": 370.6,
            "count": 0
           },
           {
            "bin_start": 370.6,
            "bin_end": 416.8,
            "count": 0
           },
           {
            "bin_start": 416.8,
            "bin_end": 463,
            "count": 1
           }
          ]
         }
        },
        {
         "name": "Deaths",
         "dtype": "float64",
         "stats": {
          "unique_count": 3,
          "nan_count": 0,
          "min": "0.0",
          "max": "2.0",
          "histogram": [
           {
            "bin_start": 0,
            "bin_end": 0.2,
            "count": 8
           },
           {
            "bin_start": 0.2,
            "bin_end": 0.4,
            "count": 0
           },
           {
            "bin_start": 0.4,
            "bin_end": 0.6000000000000001,
            "count": 0
           },
           {
            "bin_start": 0.6000000000000001,
            "bin_end": 0.8,
            "count": 0
           },
           {
            "bin_start": 0.8,
            "bin_end": 1,
            "count": 0
           },
           {
            "bin_start": 1,
            "bin_end": 1.2000000000000002,
            "count": 1
           },
           {
            "bin_start": 1.2000000000000002,
            "bin_end": 1.4000000000000001,
            "count": 0
           },
           {
            "bin_start": 1.4000000000000001,
            "bin_end": 1.6,
            "count": 0
           },
           {
            "bin_start": 1.6,
            "bin_end": 1.8,
            "count": 0
           },
           {
            "bin_start": 1.8,
            "bin_end": 2,
            "count": 1
           }
          ]
         }
        },
        {
         "name": "Recovered",
         "dtype": "float64",
         "stats": {
          "unique_count": 5,
          "nan_count": 0,
          "min": "0.0",
          "max": "114.0",
          "histogram": [
           {
            "bin_start": 0,
            "bin_end": 11.4,
            "count": 8
           },
           {
            "bin_start": 11.4,
            "bin_end": 22.8,
            "count": 0
           },
           {
            "bin_start": 22.8,
            "bin_end": 34.2,
            "count": 0
           },
           {
            "bin_start": 34.2,
            "bin_end": 45.6,
            "count": 0
           },
           {
            "bin_start": 45.6,
            "bin_end": 57,
            "count": 0
           },
           {
            "bin_start": 57,
            "bin_end": 68.4,
            "count": 0
           },
           {
            "bin_start": 68.4,
            "bin_end": 79.8,
            "count": 1
           },
           {
            "bin_start": 79.8,
            "bin_end": 91.2,
            "count": 0
           },
           {
            "bin_start": 91.2,
            "bin_end": 102.60000000000001,
            "count": 0
           },
           {
            "bin_start": 102.60000000000001,
            "bin_end": 114,
            "count": 1
           }
          ]
         }
        },
        {
         "name": "_deepnote_index_column",
         "dtype": "int64"
        }
       ],
       "rows_top": [
        {
         "SNo": 7,
         "ObservationDate": "2020-01-22T00:00:00.000000",
         "Province/State": "Guangxi",
         "Country/Region": "Mainland China",
         "Last Update": "1/22/2020 17:00",
         "Confirmed": 2,
         "Deaths": 0,
         "Recovered": 0,
         "_deepnote_index_column": 6
        },
        {
         "SNo": 185,
         "ObservationDate": "2020-01-26T00:00:00.000000",
         "Province/State": "Hainan",
         "Country/Region": "Mainland China",
         "Last Update": "1/26/20 16:00",
         "Confirmed": 22,
         "Deaths": 0,
         "Recovered": 0,
         "_deepnote_index_column": 184
        },
        {
         "SNo": 1931,
         "ObservationDate": "2020-02-20T00:00:00.000000",
         "Province/State": "nan",
         "Country/Region": "Finland",
         "Last Update": "2020-02-12T00:03:12",
         "Confirmed": 1,
         "Deaths": 0,
         "Recovered": 1,
         "_deepnote_index_column": 1930
        },
        {
         "SNo": 2814,
         "ObservationDate": "2020-02-29T00:00:00.000000",
         "Province/State": "Tempe, AZ",
         "Country/Region": "US",
         "Last Update": "2020-02-25T21:23:03",
         "Confirmed": 1,
         "Deaths": 0,
         "Recovered": 1,
         "_deepnote_index_column": 2813
        },
        {
         "SNo": 1426,
         "ObservationDate": "2020-02-14T00:00:00.000000",
         "Province/State": "Sichuan",
         "Country/Region": "Mainland China",
         "Last Update": "2020-02-14T11:13:22",
         "Confirmed": 463,
         "Deaths": 1,
         "Recovered": 114,
         "_deepnote_index_column": 1425
        },
        {
         "SNo": 958,
         "ObservationDate": "2020-02-07T00:00:00.000000",
         "Province/State": "nan",
         "Country/Region": "UK",
         "Last Update": "2020-02-07T18:33:02",
         "Confirmed": 3,
         "Deaths": 0,
         "Recovered": 0,
         "_deepnote_index_column": 957
        },
        {
         "SNo": 464,
         "ObservationDate": "2020-01-31T00:00:00.000000",
         "Province/State": "Macau",
         "Country/Region": "Macau",
         "Last Update": "1/31/2020 23:59",
         "Confirmed": 7,
         "Deaths": 0,
         "Recovered": 0,
         "_deepnote_index_column": 463
        },
        {
         "SNo": 808,
         "ObservationDate": "2020-02-05T00:00:00.000000",
         "Province/State": "New South Wales",
         "Country/Region": "Australia",
         "Last Update": "2020-02-01T18:12:49",
         "Confirmed": 4,
         "Deaths": 0,
         "Recovered": 2,
         "_deepnote_index_column": 807
        },
        {
         "SNo": 1886,
         "ObservationDate": "2020-02-20T00:00:00.000000",
         "Province/State": "Yunnan",
         "Country/Region": "Mainland China",
         "Last Update": "2020-02-20T23:13:05",
         "Confirmed": 174,
         "Deaths": 2,
         "Recovered": 79,
         "_deepnote_index_column": 1885
        },
        {
         "SNo": 1010,
         "ObservationDate": "2020-02-08T00:00:00.000000",
         "Province/State": "nan",
         "Country/Region": "Singapore",
         "Last Update": "2020-02-08T12:53:01",
         "Confirmed": 33,
         "Deaths": 0,
         "Recovered": 2,
         "_deepnote_index_column": 1009
        }
       ],
       "rows_bottom": null
      },
      "text/plain": "       SNo ObservationDate   Province/State  Country/Region  \\\n6        7      2020-01-22          Guangxi  Mainland China   \n184    185      2020-01-26           Hainan  Mainland China   \n1930  1931      2020-02-20              NaN         Finland   \n2813  2814      2020-02-29        Tempe, AZ              US   \n1425  1426      2020-02-14          Sichuan  Mainland China   \n957    958      2020-02-07              NaN              UK   \n463    464      2020-01-31            Macau           Macau   \n807    808      2020-02-05  New South Wales       Australia   \n1885  1886      2020-02-20           Yunnan  Mainland China   \n1009  1010      2020-02-08              NaN       Singapore   \n\n              Last Update  Confirmed  Deaths  Recovered  \n6         1/22/2020 17:00        2.0     0.0        0.0  \n184         1/26/20 16:00       22.0     0.0        0.0  \n1930  2020-02-12T00:03:12        1.0     0.0        1.0  \n2813  2020-02-25T21:23:03        1.0     0.0        1.0  \n1425  2020-02-14T11:13:22      463.0     1.0      114.0  \n957   2020-02-07T18:33:02        3.0     0.0        0.0  \n463       1/31/2020 23:59        7.0     0.0        0.0  \n807   2020-02-01T18:12:49        4.0     0.0        2.0  \n1885  2020-02-20T23:13:05      174.0     2.0       79.0  \n1009  2020-02-08T12:53:01       33.0     0.0        2.0  ",
      "text/html": "<div>\n<style scoped>\n    .dataframe tbody tr th:only-of-type {\n        vertical-align: middle;\n    }\n\n    .dataframe tbody tr th {\n        vertical-align: top;\n    }\n\n    .dataframe thead th {\n        text-align: right;\n    }\n</style>\n<table border=\"1\" class=\"dataframe\">\n  <thead>\n    <tr style=\"text-align: right;\">\n      <th></th>\n      <th>SNo</th>\n      <th>ObservationDate</th>\n      <th>Province/State</th>\n      <th>Country/Region</th>\n      <th>Last Update</th>\n      <th>Confirmed</th>\n      <th>Deaths</th>\n      <th>Recovered</th>\n    </tr>\n  </thead>\n  <tbody>\n    <tr>\n      <th>6</th>\n      <td>7</td>\n      <td>2020-01-22</td>\n      <td>Guangxi</td>\n      <td>Mainland China</td>\n      <td>1/22/2020 17:00</td>\n      <td>2.0</td>\n      <td>0.0</td>\n      <td>0.0</td>\n    </tr>\n    <tr>\n      <th>184</th>\n      <td>185</td>\n      <td>2020-01-26</td>\n      <td>Hainan</td>\n      <td>Mainland China</td>\n      <td>1/26/20 16:00</td>\n      <td>22.0</td>\n      <td>0.0</td>\n      <td>0.0</td>\n    </tr>\n    <tr>\n      <th>1930</th>\n      <td>1931</td>\n      <td>2020-02-20</td>\n      <td>NaN</td>\n      <td>Finland</td>\n      <td>2020-02-12T00:03:12</td>\n      <td>1.0</td>\n      <td>0.0</td>\n      <td>1.0</td>\n    </tr>\n    <tr>\n      <th>2813</th>\n      <td>2814</td>\n      <td>2020-02-29</td>\n      <td>Tempe, AZ</td>\n      <td>US</td>\n      <td>2020-02-25T21:23:03</td>\n      <td>1.0</td>\n      <td>0.0</td>\n      <td>1.0</td>\n    </tr>\n    <tr>\n      <th>1425</th>\n      <td>1426</td>\n      <td>2020-02-14</td>\n      <td>Sichuan</td>\n      <td>Mainland China</td>\n      <td>2020-02-14T11:13:22</td>\n      <td>463.0</td>\n      <td>1.0</td>\n      <td>114.0</td>\n    </tr>\n    <tr>\n      <th>957</th>\n      <td>958</td>\n      <td>2020-02-07</td>\n      <td>NaN</td>\n      <td>UK</td>\n      <td>2020-02-07T18:33:02</td>\n      <td>3.0</td>\n      <td>0.0</td>\n      <td>0.0</td>\n    </tr>\n    <tr>\n      <th>463</th>\n      <td>464</td>\n      <td>2020-01-31</td>\n      <td>Macau</td>\n      <td>Macau</td>\n      <td>1/31/2020 23:59</td>\n      <td>7.0</td>\n      <td>0.0</td>\n      <td>0.0</td>\n    </tr>\n    <tr>\n      <th>807</th>\n      <td>808</td>\n      <td>2020-02-05</td>\n      <td>New South Wales</td>\n      <td>Australia</td>\n      <td>2020-02-01T18:12:49</td>\n      <td>4.0</td>\n      <td>0.0</td>\n      <td>2.0</td>\n    </tr>\n    <tr>\n      <th>1885</th>\n      <td>1886</td>\n      <td>2020-02-20</td>\n      <td>Yunnan</td>\n      <td>Mainland China</td>\n      <td>2020-02-20T23:13:05</td>\n      <td>174.0</td>\n      <td>2.0</td>\n      <td>79.0</td>\n    </tr>\n    <tr>\n      <th>1009</th>\n      <td>1010</td>\n      <td>2020-02-08</td>\n      <td>NaN</td>\n      <td>Singapore</td>\n      <td>2020-02-08T12:53:01</td>\n      <td>33.0</td>\n      <td>0.0</td>\n      <td>2.0</td>\n    </tr>\n  </tbody>\n</table>\n</div>"
     },
     "metadata": {}
    }
   ]
  },
  {
   "cell_type": "markdown",
   "source": "## Eliminamos columnas del Dataframe",
   "metadata": {
    "tags": [],
    "cell_id": "00002-ab00038e-f3d7-4301-8d92-1430bb0ca3b7",
    "deepnote_cell_type": "markdown"
   }
  },
  {
   "cell_type": "code",
   "metadata": {
    "tags": [],
    "cell_id": "00003-037640a4-c812-48c3-90de-0ee7b06571a4",
    "deepnote_to_be_reexecuted": false,
    "source_hash": "9a2bae96",
    "execution_start": 1625411270319,
    "execution_millis": 53,
    "deepnote_cell_type": "code"
   },
   "source": "df = df[['ObservationDate',\n 'Country/Region',\n 'Confirmed',\n 'Deaths',\n 'Recovered']]\ndf",
   "execution_count": 33,
   "outputs": [
    {
     "output_type": "execute_result",
     "execution_count": 33,
     "data": {
      "application/vnd.deepnote.dataframe.v2+json": {
       "row_count": 3395,
       "column_count": 5,
       "columns": [
        {
         "name": "ObservationDate",
         "dtype": "datetime64[ns]",
         "stats": {
          "unique_count": 43,
          "nan_count": 0,
          "min": "2020-01-22 00:00:00",
          "max": "2020-03-04 00:00:00",
          "histogram": [
           {
            "bin_start": 1579651200000000000,
            "bin_end": 1580014080000000000,
            "count": 216
           },
           {
            "bin_start": 1580014080000000000,
            "bin_end": 1580376960000000000,
            "count": 215
           },
           {
            "bin_start": 1580376960000000000,
            "bin_end": 1580739840000000000,
            "count": 264
           },
           {
            "bin_start": 1580739840000000000,
            "bin_end": 1581102720000000000,
            "count": 284
           },
           {
            "bin_start": 1581102720000000000,
            "bin_end": 1581465600000000000,
            "count": 289
           },
           {
            "bin_start": 1581465600000000000,
            "bin_end": 1581828480000000000,
            "count": 372
           },
           {
            "bin_start": 1581828480000000000,
            "bin_end": 1582191360000000000,
            "count": 302
           },
           {
            "bin_start": 1582191360000000000,
            "bin_end": 1582554240000000000,
            "count": 343
           },
           {
            "bin_start": 1582554240000000000,
            "bin_end": 1582917120000000000,
            "count": 414
           },
           {
            "bin_start": 1582917120000000000,
            "bin_end": 1583280000000000000,
            "count": 696
           }
          ]
         }
        },
        {
         "name": "Country/Region",
         "dtype": "object",
         "stats": {
          "unique_count": 90,
          "nan_count": 0,
          "categories": [
           {
            "name": "Mainland China",
            "count": 1327
           },
           {
            "name": "US",
            "count": 491
           },
           {
            "name": "88 others",
            "count": 1577
           }
          ]
         }
        },
        {
         "name": "Confirmed",
         "dtype": "float64",
         "stats": {
          "unique_count": 569,
          "nan_count": 0,
          "min": "0.0",
          "max": "67332.0",
          "histogram": [
           {
            "bin_start": 0,
            "bin_end": 6733.2,
            "count": 3362
           },
           {
            "bin_start": 6733.2,
            "bin_end": 13466.4,
            "count": 2
           },
           {
            "bin_start": 13466.4,
            "bin_end": 20199.6,
            "count": 3
           },
           {
            "bin_start": 20199.6,
            "bin_end": 26932.8,
            "count": 2
           },
           {
            "bin_start": 26932.8,
            "bin_end": 33666,
            "count": 5
           },
           {
            "bin_start": 33666,
            "bin_end": 40399.2,
            "count": 0
           },
           {
            "bin_start": 40399.2,
            "bin_end": 47132.4,
            "count": 0
           },
           {
            "bin_start": 47132.4,
            "bin_end": 53865.6,
            "count": 1
           },
           {
            "bin_start": 53865.6,
            "bin_end": 60598.799999999996,
            "count": 4
           },
           {
            "bin_start": 60598.799999999996,
            "bin_end": 67332,
            "count": 16
           }
          ]
         }
        },
        {
         "name": "Deaths",
         "dtype": "float64",
         "stats": {
          "unique_count": 69,
          "nan_count": 0,
          "min": "0.0",
          "max": "2871.0",
          "histogram": [
           {
            "bin_start": 0,
            "bin_end": 287.1,
            "count": 3363
           },
           {
            "bin_start": 287.1,
            "bin_end": 574.2,
            "count": 4
           },
           {
            "bin_start": 574.2,
            "bin_end": 861.3000000000001,
            "count": 3
           },
           {
            "bin_start": 861.3000000000001,
            "bin_end": 1148.4,
            "count": 4
           },
           {
            "bin_start": 1148.4,
            "bin_end": 1435.5,
            "count": 1
           },
           {
            "bin_start": 1435.5,
            "bin_end": 1722.6000000000001,
            "count": 3
           },
           {
            "bin_start": 1722.6000000000001,
            "bin_end": 2009.7000000000003,
            "count": 2
           },
           {
            "bin_start": 2009.7000000000003,
            "bin_end": 2296.8,
            "count": 3
           },
           {
            "bin_start": 2296.8,
            "bin_end": 2583.9,
            "count": 4
           },
           {
            "bin_start": 2583.9,
            "bin_end": 2871,
            "count": 8
           }
          ]
         }
        },
        {
         "name": "Recovered",
         "dtype": "float64",
         "stats": {
          "unique_count": 419,
          "nan_count": 0,
          "min": "0.0",
          "max": "38557.0",
          "histogram": [
           {
            "bin_start": 0,
            "bin_end": 3855.7,
            "count": 3375
           },
           {
            "bin_start": 3855.7,
            "bin_end": 7711.4,
            "count": 3
           },
           {
            "bin_start": 7711.4,
            "bin_end": 11567.099999999999,
            "count": 3
           },
           {
            "bin_start": 11567.099999999999,
            "bin_end": 15422.8,
            "count": 4
           },
           {
            "bin_start": 15422.8,
            "bin_end": 19278.5,
            "count": 2
           },
           {
            "bin_start": 19278.5,
            "bin_end": 23134.199999999997,
            "count": 1
           },
           {
            "bin_start": 23134.199999999997,
            "bin_end": 26989.899999999998,
            "count": 2
           },
           {
            "bin_start": 26989.899999999998,
            "bin_end": 30845.6,
            "count": 1
           },
           {
            "bin_start": 30845.6,
            "bin_end": 34701.299999999996,
            "count": 2
           },
           {
            "bin_start": 34701.299999999996,
            "bin_end": 38557,
            "count": 2
           }
          ]
         }
        },
        {
         "name": "_deepnote_index_column",
         "dtype": "int64"
        }
       ],
       "rows_top": [
        {
         "ObservationDate": "2020-01-22T00:00:00.000000",
         "Country/Region": "Mainland China",
         "Confirmed": 1,
         "Deaths": 0,
         "Recovered": 0,
         "_deepnote_index_column": 0
        },
        {
         "ObservationDate": "2020-01-22T00:00:00.000000",
         "Country/Region": "Mainland China",
         "Confirmed": 14,
         "Deaths": 0,
         "Recovered": 0,
         "_deepnote_index_column": 1
        },
        {
         "ObservationDate": "2020-01-22T00:00:00.000000",
         "Country/Region": "Mainland China",
         "Confirmed": 6,
         "Deaths": 0,
         "Recovered": 0,
         "_deepnote_index_column": 2
        },
        {
         "ObservationDate": "2020-01-22T00:00:00.000000",
         "Country/Region": "Mainland China",
         "Confirmed": 1,
         "Deaths": 0,
         "Recovered": 0,
         "_deepnote_index_column": 3
        },
        {
         "ObservationDate": "2020-01-22T00:00:00.000000",
         "Country/Region": "Mainland China",
         "Confirmed": 0,
         "Deaths": 0,
         "Recovered": 0,
         "_deepnote_index_column": 4
        },
        {
         "ObservationDate": "2020-01-22T00:00:00.000000",
         "Country/Region": "Mainland China",
         "Confirmed": 26,
         "Deaths": 0,
         "Recovered": 0,
         "_deepnote_index_column": 5
        },
        {
         "ObservationDate": "2020-01-22T00:00:00.000000",
         "Country/Region": "Mainland China",
         "Confirmed": 2,
         "Deaths": 0,
         "Recovered": 0,
         "_deepnote_index_column": 6
        },
        {
         "ObservationDate": "2020-01-22T00:00:00.000000",
         "Country/Region": "Mainland China",
         "Confirmed": 1,
         "Deaths": 0,
         "Recovered": 0,
         "_deepnote_index_column": 7
        },
        {
         "ObservationDate": "2020-01-22T00:00:00.000000",
         "Country/Region": "Mainland China",
         "Confirmed": 4,
         "Deaths": 0,
         "Recovered": 0,
         "_deepnote_index_column": 8
        },
        {
         "ObservationDate": "2020-01-22T00:00:00.000000",
         "Country/Region": "Mainland China",
         "Confirmed": 1,
         "Deaths": 0,
         "Recovered": 0,
         "_deepnote_index_column": 9
        },
        {
         "ObservationDate": "2020-01-22T00:00:00.000000",
         "Country/Region": "Mainland China",
         "Confirmed": 0,
         "Deaths": 0,
         "Recovered": 0,
         "_deepnote_index_column": 10
        },
        {
         "ObservationDate": "2020-01-22T00:00:00.000000",
         "Country/Region": "Mainland China",
         "Confirmed": 5,
         "Deaths": 0,
         "Recovered": 0,
         "_deepnote_index_column": 11
        },
        {
         "ObservationDate": "2020-01-22T00:00:00.000000",
         "Country/Region": "Hong Kong",
         "Confirmed": 0,
         "Deaths": 0,
         "Recovered": 0,
         "_deepnote_index_column": 12
        },
        {
         "ObservationDate": "2020-01-22T00:00:00.000000",
         "Country/Region": "Mainland China",
         "Confirmed": 444,
         "Deaths": 17,
         "Recovered": 28,
         "_deepnote_index_column": 13
        },
        {
         "ObservationDate": "2020-01-22T00:00:00.000000",
         "Country/Region": "Mainland China",
         "Confirmed": 4,
         "Deaths": 0,
         "Recovered": 0,
         "_deepnote_index_column": 14
        },
        {
         "ObservationDate": "2020-01-22T00:00:00.000000",
         "Country/Region": "Mainland China",
         "Confirmed": 0,
         "Deaths": 0,
         "Recovered": 0,
         "_deepnote_index_column": 15
        },
        {
         "ObservationDate": "2020-01-22T00:00:00.000000",
         "Country/Region": "Mainland China",
         "Confirmed": 1,
         "Deaths": 0,
         "Recovered": 0,
         "_deepnote_index_column": 16
        },
        {
         "ObservationDate": "2020-01-22T00:00:00.000000",
         "Country/Region": "Mainland China",
         "Confirmed": 2,
         "Deaths": 0,
         "Recovered": 0,
         "_deepnote_index_column": 17
        },
        {
         "ObservationDate": "2020-01-22T00:00:00.000000",
         "Country/Region": "Mainland China",
         "Confirmed": 0,
         "Deaths": 0,
         "Recovered": 0,
         "_deepnote_index_column": 18
        },
        {
         "ObservationDate": "2020-01-22T00:00:00.000000",
         "Country/Region": "Mainland China",
         "Confirmed": 2,
         "Deaths": 0,
         "Recovered": 0,
         "_deepnote_index_column": 19
        },
        {
         "ObservationDate": "2020-01-22T00:00:00.000000",
         "Country/Region": "Macau",
         "Confirmed": 1,
         "Deaths": 0,
         "Recovered": 0,
         "_deepnote_index_column": 20
        },
        {
         "ObservationDate": "2020-01-22T00:00:00.000000",
         "Country/Region": "Mainland China",
         "Confirmed": 1,
         "Deaths": 0,
         "Recovered": 0,
         "_deepnote_index_column": 21
        },
        {
         "ObservationDate": "2020-01-22T00:00:00.000000",
         "Country/Region": "Mainland China",
         "Confirmed": 0,
         "Deaths": 0,
         "Recovered": 0,
         "_deepnote_index_column": 22
        },
        {
         "ObservationDate": "2020-01-22T00:00:00.000000",
         "Country/Region": "Mainland China",
         "Confirmed": 0,
         "Deaths": 0,
         "Recovered": 0,
         "_deepnote_index_column": 23
        },
        {
         "ObservationDate": "2020-01-22T00:00:00.000000",
         "Country/Region": "Mainland China",
         "Confirmed": 2,
         "Deaths": 0,
         "Recovered": 0,
         "_deepnote_index_column": 24
        },
        {
         "ObservationDate": "2020-01-22T00:00:00.000000",
         "Country/Region": "Mainland China",
         "Confirmed": 9,
         "Deaths": 0,
         "Recovered": 0,
         "_deepnote_index_column": 25
        },
        {
         "ObservationDate": "2020-01-22T00:00:00.000000",
         "Country/Region": "Mainland China",
         "Confirmed": 1,
         "Deaths": 0,
         "Recovered": 0,
         "_deepnote_index_column": 26
        },
        {
         "ObservationDate": "2020-01-22T00:00:00.000000",
         "Country/Region": "Mainland China",
         "Confirmed": 5,
         "Deaths": 0,
         "Recovered": 0,
         "_deepnote_index_column": 27
        },
        {
         "ObservationDate": "2020-01-22T00:00:00.000000",
         "Country/Region": "Taiwan",
         "Confirmed": 1,
         "Deaths": 0,
         "Recovered": 0,
         "_deepnote_index_column": 28
        },
        {
         "ObservationDate": "2020-01-22T00:00:00.000000",
         "Country/Region": "Mainland China",
         "Confirmed": 4,
         "Deaths": 0,
         "Recovered": 0,
         "_deepnote_index_column": 29
        },
        {
         "ObservationDate": "2020-01-22T00:00:00.000000",
         "Country/Region": "Mainland China",
         "Confirmed": 0,
         "Deaths": 0,
         "Recovered": 0,
         "_deepnote_index_column": 30
        },
        {
         "ObservationDate": "2020-01-22T00:00:00.000000",
         "Country/Region": "US",
         "Confirmed": 1,
         "Deaths": 0,
         "Recovered": 0,
         "_deepnote_index_column": 31
        },
        {
         "ObservationDate": "2020-01-22T00:00:00.000000",
         "Country/Region": "Mainland China",
         "Confirmed": 0,
         "Deaths": 0,
         "Recovered": 0,
         "_deepnote_index_column": 32
        },
        {
         "ObservationDate": "2020-01-22T00:00:00.000000",
         "Country/Region": "Mainland China",
         "Confirmed": 1,
         "Deaths": 0,
         "Recovered": 0,
         "_deepnote_index_column": 33
        },
        {
         "ObservationDate": "2020-01-22T00:00:00.000000",
         "Country/Region": "Mainland China",
         "Confirmed": 10,
         "Deaths": 0,
         "Recovered": 0,
         "_deepnote_index_column": 34
        },
        {
         "ObservationDate": "2020-01-22T00:00:00.000000",
         "Country/Region": "Japan",
         "Confirmed": 2,
         "Deaths": 0,
         "Recovered": 0,
         "_deepnote_index_column": 35
        },
        {
         "ObservationDate": "2020-01-22T00:00:00.000000",
         "Country/Region": "Thailand",
         "Confirmed": 2,
         "Deaths": 0,
         "Recovered": 0,
         "_deepnote_index_column": 36
        },
        {
         "ObservationDate": "2020-01-22T00:00:00.000000",
         "Country/Region": "South Korea",
         "Confirmed": 1,
         "Deaths": 0,
         "Recovered": 0,
         "_deepnote_index_column": 37
        },
        {
         "ObservationDate": "2020-01-23T00:00:00.000000",
         "Country/Region": "Mainland China",
         "Confirmed": 9,
         "Deaths": 0,
         "Recovered": 0,
         "_deepnote_index_column": 38
        },
        {
         "ObservationDate": "2020-01-23T00:00:00.000000",
         "Country/Region": "Mainland China",
         "Confirmed": 22,
         "Deaths": 0,
         "Recovered": 0,
         "_deepnote_index_column": 39
        },
        {
         "ObservationDate": "2020-01-23T00:00:00.000000",
         "Country/Region": "Mainland China",
         "Confirmed": 9,
         "Deaths": 0,
         "Recovered": 0,
         "_deepnote_index_column": 40
        },
        {
         "ObservationDate": "2020-01-23T00:00:00.000000",
         "Country/Region": "Mainland China",
         "Confirmed": 5,
         "Deaths": 0,
         "Recovered": 0,
         "_deepnote_index_column": 41
        },
        {
         "ObservationDate": "2020-01-23T00:00:00.000000",
         "Country/Region": "Mainland China",
         "Confirmed": 2,
         "Deaths": 0,
         "Recovered": 0,
         "_deepnote_index_column": 42
        },
        {
         "ObservationDate": "2020-01-23T00:00:00.000000",
         "Country/Region": "Mainland China",
         "Confirmed": 32,
         "Deaths": 0,
         "Recovered": 2,
         "_deepnote_index_column": 43
        },
        {
         "ObservationDate": "2020-01-23T00:00:00.000000",
         "Country/Region": "Mainland China",
         "Confirmed": 5,
         "Deaths": 0,
         "Recovered": 0,
         "_deepnote_index_column": 44
        },
        {
         "ObservationDate": "2020-01-23T00:00:00.000000",
         "Country/Region": "Mainland China",
         "Confirmed": 3,
         "Deaths": 0,
         "Recovered": 0,
         "_deepnote_index_column": 45
        },
        {
         "ObservationDate": "2020-01-23T00:00:00.000000",
         "Country/Region": "Mainland China",
         "Confirmed": 5,
         "Deaths": 0,
         "Recovered": 0,
         "_deepnote_index_column": 46
        },
        {
         "ObservationDate": "2020-01-23T00:00:00.000000",
         "Country/Region": "Mainland China",
         "Confirmed": 1,
         "Deaths": 1,
         "Recovered": 0,
         "_deepnote_index_column": 47
        },
        {
         "ObservationDate": "2020-01-23T00:00:00.000000",
         "Country/Region": "Mainland China",
         "Confirmed": 2,
         "Deaths": 0,
         "Recovered": 0,
         "_deepnote_index_column": 48
        },
        {
         "ObservationDate": "2020-01-23T00:00:00.000000",
         "Country/Region": "Mainland China",
         "Confirmed": 5,
         "Deaths": 0,
         "Recovered": 0,
         "_deepnote_index_column": 49
        },
        {
         "ObservationDate": "2020-01-23T00:00:00.000000",
         "Country/Region": "Hong Kong",
         "Confirmed": 2,
         "Deaths": 0,
         "Recovered": 0,
         "_deepnote_index_column": 50
        },
        {
         "ObservationDate": "2020-01-23T00:00:00.000000",
         "Country/Region": "Mainland China",
         "Confirmed": 444,
         "Deaths": 17,
         "Recovered": 28,
         "_deepnote_index_column": 51
        },
        {
         "ObservationDate": "2020-01-23T00:00:00.000000",
         "Country/Region": "Mainland China",
         "Confirmed": 9,
         "Deaths": 0,
         "Recovered": 0,
         "_deepnote_index_column": 52
        },
        {
         "ObservationDate": "2020-01-23T00:00:00.000000",
         "Country/Region": "Mainland China",
         "Confirmed": 0,
         "Deaths": 0,
         "Recovered": 0,
         "_deepnote_index_column": 53
        },
        {
         "ObservationDate": "2020-01-23T00:00:00.000000",
         "Country/Region": "Mainland China",
         "Confirmed": 5,
         "Deaths": 0,
         "Recovered": 0,
         "_deepnote_index_column": 54
        },
        {
         "ObservationDate": "2020-01-23T00:00:00.000000",
         "Country/Region": "Mainland China",
         "Confirmed": 7,
         "Deaths": 0,
         "Recovered": 0,
         "_deepnote_index_column": 55
        },
        {
         "ObservationDate": "2020-01-23T00:00:00.000000",
         "Country/Region": "Mainland China",
         "Confirmed": 1,
         "Deaths": 0,
         "Recovered": 0,
         "_deepnote_index_column": 56
        },
        {
         "ObservationDate": "2020-01-23T00:00:00.000000",
         "Country/Region": "Mainland China",
         "Confirmed": 3,
         "Deaths": 0,
         "Recovered": 0,
         "_deepnote_index_column": 57
        },
        {
         "ObservationDate": "2020-01-23T00:00:00.000000",
         "Country/Region": "Macau",
         "Confirmed": 2,
         "Deaths": 0,
         "Recovered": 0,
         "_deepnote_index_column": 58
        },
        {
         "ObservationDate": "2020-01-23T00:00:00.000000",
         "Country/Region": "Mainland China",
         "Confirmed": 1,
         "Deaths": 0,
         "Recovered": 0,
         "_deepnote_index_column": 59
        },
        {
         "ObservationDate": "2020-01-23T00:00:00.000000",
         "Country/Region": "Mainland China",
         "Confirmed": 0,
         "Deaths": 0,
         "Recovered": 0,
         "_deepnote_index_column": 60
        },
        {
         "ObservationDate": "2020-01-23T00:00:00.000000",
         "Country/Region": "Mainland China",
         "Confirmed": 3,
         "Deaths": 0,
         "Recovered": 0,
         "_deepnote_index_column": 61
        },
        {
         "ObservationDate": "2020-01-23T00:00:00.000000",
         "Country/Region": "Mainland China",
         "Confirmed": 6,
         "Deaths": 0,
         "Recovered": 0,
         "_deepnote_index_column": 62
        },
        {
         "ObservationDate": "2020-01-23T00:00:00.000000",
         "Country/Region": "Mainland China",
         "Confirmed": 16,
         "Deaths": 0,
         "Recovered": 0,
         "_deepnote_index_column": 63
        },
        {
         "ObservationDate": "2020-01-23T00:00:00.000000",
         "Country/Region": "Mainland China",
         "Confirmed": 1,
         "Deaths": 0,
         "Recovered": 0,
         "_deepnote_index_column": 64
        },
        {
         "ObservationDate": "2020-01-23T00:00:00.000000",
         "Country/Region": "Mainland China",
         "Confirmed": 8,
         "Deaths": 0,
         "Recovered": 0,
         "_deepnote_index_column": 65
        },
        {
         "ObservationDate": "2020-01-23T00:00:00.000000",
         "Country/Region": "Taiwan",
         "Confirmed": 1,
         "Deaths": 0,
         "Recovered": 0,
         "_deepnote_index_column": 66
        },
        {
         "ObservationDate": "2020-01-23T00:00:00.000000",
         "Country/Region": "Mainland China",
         "Confirmed": 4,
         "Deaths": 0,
         "Recovered": 0,
         "_deepnote_index_column": 67
        },
        {
         "ObservationDate": "2020-01-23T00:00:00.000000",
         "Country/Region": "Mainland China",
         "Confirmed": 0,
         "Deaths": 0,
         "Recovered": 0,
         "_deepnote_index_column": 68
        },
        {
         "ObservationDate": "2020-01-23T00:00:00.000000",
         "Country/Region": "US",
         "Confirmed": 1,
         "Deaths": 0,
         "Recovered": 0,
         "_deepnote_index_column": 69
        },
        {
         "ObservationDate": "2020-01-23T00:00:00.000000",
         "Country/Region": "Mainland China",
         "Confirmed": 2,
         "Deaths": 0,
         "Recovered": 0,
         "_deepnote_index_column": 70
        },
        {
         "ObservationDate": "2020-01-23T00:00:00.000000",
         "Country/Region": "Mainland China",
         "Confirmed": 2,
         "Deaths": 0,
         "Recovered": 0,
         "_deepnote_index_column": 71
        },
        {
         "ObservationDate": "2020-01-23T00:00:00.000000",
         "Country/Region": "Mainland China",
         "Confirmed": 27,
         "Deaths": 0,
         "Recovered": 0,
         "_deepnote_index_column": 72
        },
        {
         "ObservationDate": "2020-01-23T00:00:00.000000",
         "Country/Region": "Japan",
         "Confirmed": 1,
         "Deaths": 0,
         "Recovered": 0,
         "_deepnote_index_column": 73
        },
        {
         "ObservationDate": "2020-01-23T00:00:00.000000",
         "Country/Region": "Thailand",
         "Confirmed": 3,
         "Deaths": 0,
         "Recovered": 0,
         "_deepnote_index_column": 74
        },
        {
         "ObservationDate": "2020-01-23T00:00:00.000000",
         "Country/Region": "South Korea",
         "Confirmed": 1,
         "Deaths": 0,
         "Recovered": 0,
         "_deepnote_index_column": 75
        },
        {
         "ObservationDate": "2020-01-23T00:00:00.000000",
         "Country/Region": "Singapore",
         "Confirmed": 1,
         "Deaths": 0,
         "Recovered": 0,
         "_deepnote_index_column": 76
        },
        {
         "ObservationDate": "2020-01-23T00:00:00.000000",
         "Country/Region": "Philippines",
         "Confirmed": 0,
         "Deaths": 0,
         "Recovered": 0,
         "_deepnote_index_column": 77
        },
        {
         "ObservationDate": "2020-01-23T00:00:00.000000",
         "Country/Region": "Malaysia",
         "Confirmed": 0,
         "Deaths": 0,
         "Recovered": 0,
         "_deepnote_index_column": 78
        },
        {
         "ObservationDate": "2020-01-23T00:00:00.000000",
         "Country/Region": "Vietnam",
         "Confirmed": 2,
         "Deaths": 0,
         "Recovered": 0,
         "_deepnote_index_column": 79
        },
        {
         "ObservationDate": "2020-01-23T00:00:00.000000",
         "Country/Region": "Australia",
         "Confirmed": 0,
         "Deaths": 0,
         "Recovered": 0,
         "_deepnote_index_column": 80
        },
        {
         "ObservationDate": "2020-01-23T00:00:00.000000",
         "Country/Region": "Mexico",
         "Confirmed": 0,
         "Deaths": 0,
         "Recovered": 0,
         "_deepnote_index_column": 81
        },
        {
         "ObservationDate": "2020-01-23T00:00:00.000000",
         "Country/Region": "Brazil",
         "Confirmed": 0,
         "Deaths": 0,
         "Recovered": 0,
         "_deepnote_index_column": 82
        },
        {
         "ObservationDate": "2020-01-23T00:00:00.000000",
         "Country/Region": "Colombia",
         "Confirmed": 0,
         "Deaths": 0,
         "Recovered": 0,
         "_deepnote_index_column": 83
        },
        {
         "ObservationDate": "2020-01-24T00:00:00.000000",
         "Country/Region": "Mainland China",
         "Confirmed": 549,
         "Deaths": 24,
         "Recovered": 31,
         "_deepnote_index_column": 84
        },
        {
         "ObservationDate": "2020-01-24T00:00:00.000000",
         "Country/Region": "Mainland China",
         "Confirmed": 53,
         "Deaths": 0,
         "Recovered": 2,
         "_deepnote_index_column": 85
        },
        {
         "ObservationDate": "2020-01-24T00:00:00.000000",
         "Country/Region": "Mainland China",
         "Confirmed": 43,
         "Deaths": 0,
         "Recovered": 1,
         "_deepnote_index_column": 86
        },
        {
         "ObservationDate": "2020-01-24T00:00:00.000000",
         "Country/Region": "Mainland China",
         "Confirmed": 36,
         "Deaths": 0,
         "Recovered": 1,
         "_deepnote_index_column": 87
        },
        {
         "ObservationDate": "2020-01-24T00:00:00.000000",
         "Country/Region": "Mainland China",
         "Confirmed": 27,
         "Deaths": 0,
         "Recovered": 0,
         "_deepnote_index_column": 88
        },
        {
         "ObservationDate": "2020-01-24T00:00:00.000000",
         "Country/Region": "Mainland China",
         "Confirmed": 24,
         "Deaths": 0,
         "Recovered": 0,
         "_deepnote_index_column": 89
        },
        {
         "ObservationDate": "2020-01-24T00:00:00.000000",
         "Country/Region": "Mainland China",
         "Confirmed": 23,
         "Deaths": 0,
         "Recovered": 0,
         "_deepnote_index_column": 90
        },
        {
         "ObservationDate": "2020-01-24T00:00:00.000000",
         "Country/Region": "Mainland China",
         "Confirmed": 20,
         "Deaths": 0,
         "Recovered": 1,
         "_deepnote_index_column": 91
        },
        {
         "ObservationDate": "2020-01-24T00:00:00.000000",
         "Country/Region": "Mainland China",
         "Confirmed": 18,
         "Deaths": 0,
         "Recovered": 0,
         "_deepnote_index_column": 92
        },
        {
         "ObservationDate": "2020-01-24T00:00:00.000000",
         "Country/Region": "Mainland China",
         "Confirmed": 15,
         "Deaths": 0,
         "Recovered": 0,
         "_deepnote_index_column": 93
        },
        {
         "ObservationDate": "2020-01-24T00:00:00.000000",
         "Country/Region": "Mainland China",
         "Confirmed": 15,
         "Deaths": 0,
         "Recovered": 0,
         "_deepnote_index_column": 94
        },
        {
         "ObservationDate": "2020-01-24T00:00:00.000000",
         "Country/Region": "Mainland China",
         "Confirmed": 15,
         "Deaths": 0,
         "Recovered": 0,
         "_deepnote_index_column": 95
        },
        {
         "ObservationDate": "2020-01-24T00:00:00.000000",
         "Country/Region": "Mainland China",
         "Confirmed": 10,
         "Deaths": 0,
         "Recovered": 0,
         "_deepnote_index_column": 96
        },
        {
         "ObservationDate": "2020-01-24T00:00:00.000000",
         "Country/Region": "Mainland China",
         "Confirmed": 9,
         "Deaths": 0,
         "Recovered": 0,
         "_deepnote_index_column": 97
        },
        {
         "ObservationDate": "2020-01-24T00:00:00.000000",
         "Country/Region": "Mainland China",
         "Confirmed": 9,
         "Deaths": 0,
         "Recovered": 0,
         "_deepnote_index_column": 98
        },
        {
         "ObservationDate": "2020-01-24T00:00:00.000000",
         "Country/Region": "Mainland China",
         "Confirmed": 8,
         "Deaths": 0,
         "Recovered": 0,
         "_deepnote_index_column": 99
        }
       ],
       "rows_bottom": [
        {
         "ObservationDate": "2020-03-04T00:00:00.000000",
         "Country/Region": "San Marino",
         "Confirmed": 16,
         "Deaths": 1,
         "Recovered": 0,
         "_deepnote_index_column": 3295
        },
        {
         "ObservationDate": "2020-03-04T00:00:00.000000",
         "Country/Region": "Vietnam",
         "Confirmed": 16,
         "Deaths": 0,
         "Recovered": 16,
         "_deepnote_index_column": 3296
        },
        {
         "ObservationDate": "2020-03-04T00:00:00.000000",
         "Country/Region": "Israel",
         "Confirmed": 15,
         "Deaths": 0,
         "Recovered": 1,
         "_deepnote_index_column": 3297
        },
        {
         "ObservationDate": "2020-03-04T00:00:00.000000",
         "Country/Region": "Oman",
         "Confirmed": 15,
         "Deaths": 0,
         "Recovered": 2,
         "_deepnote_index_column": 3298
        },
        {
         "ObservationDate": "2020-03-04T00:00:00.000000",
         "Country/Region": "Lebanon",
         "Confirmed": 13,
         "Deaths": 0,
         "Recovered": 1,
         "_deepnote_index_column": 3299
        },
        {
         "ObservationDate": "2020-03-04T00:00:00.000000",
         "Country/Region": "Algeria",
         "Confirmed": 12,
         "Deaths": 0,
         "Recovered": 0,
         "_deepnote_index_column": 3300
        },
        {
         "ObservationDate": "2020-03-04T00:00:00.000000",
         "Country/Region": "Canada",
         "Confirmed": 12,
         "Deaths": 0,
         "Recovered": 3,
         "_deepnote_index_column": 3301
        },
        {
         "ObservationDate": "2020-03-04T00:00:00.000000",
         "Country/Region": "Australia",
         "Confirmed": 11,
         "Deaths": 0,
         "Recovered": 1,
         "_deepnote_index_column": 3302
        },
        {
         "ObservationDate": "2020-03-04T00:00:00.000000",
         "Country/Region": "US",
         "Confirmed": 11,
         "Deaths": 0,
         "Recovered": 1,
         "_deepnote_index_column": 3303
        },
        {
         "ObservationDate": "2020-03-04T00:00:00.000000",
         "Country/Region": "Australia",
         "Confirmed": 10,
         "Deaths": 0,
         "Recovered": 4,
         "_deepnote_index_column": 3304
        },
        {
         "ObservationDate": "2020-03-04T00:00:00.000000",
         "Country/Region": "Croatia",
         "Confirmed": 10,
         "Deaths": 0,
         "Recovered": 0,
         "_deepnote_index_column": 3305
        },
        {
         "ObservationDate": "2020-03-04T00:00:00.000000",
         "Country/Region": "Denmark",
         "Confirmed": 10,
         "Deaths": 0,
         "Recovered": 0,
         "_deepnote_index_column": 3306
        },
        {
         "ObservationDate": "2020-03-04T00:00:00.000000",
         "Country/Region": "Ecuador",
         "Confirmed": 10,
         "Deaths": 0,
         "Recovered": 0,
         "_deepnote_index_column": 3307
        },
        {
         "ObservationDate": "2020-03-04T00:00:00.000000",
         "Country/Region": "Macau",
         "Confirmed": 10,
         "Deaths": 0,
         "Recovered": 9,
         "_deepnote_index_column": 3308
        },
        {
         "ObservationDate": "2020-03-04T00:00:00.000000",
         "Country/Region": "US",
         "Confirmed": 10,
         "Deaths": 0,
         "Recovered": 0,
         "_deepnote_index_column": 3309
        },
        {
         "ObservationDate": "2020-03-04T00:00:00.000000",
         "Country/Region": "Greece",
         "Confirmed": 9,
         "Deaths": 0,
         "Recovered": 0,
         "_deepnote_index_column": 3310
        },
        {
         "ObservationDate": "2020-03-04T00:00:00.000000",
         "Country/Region": "Czech Republic",
         "Confirmed": 8,
         "Deaths": 0,
         "Recovered": 0,
         "_deepnote_index_column": 3311
        },
        {
         "ObservationDate": "2020-03-04T00:00:00.000000",
         "Country/Region": "Qatar",
         "Confirmed": 8,
         "Deaths": 0,
         "Recovered": 0,
         "_deepnote_index_column": 3312
        },
        {
         "ObservationDate": "2020-03-04T00:00:00.000000",
         "Country/Region": "US",
         "Confirmed": 8,
         "Deaths": 1,
         "Recovered": 0,
         "_deepnote_index_column": 3313
        },
        {
         "ObservationDate": "2020-03-04T00:00:00.000000",
         "Country/Region": "US",
         "Confirmed": 7,
         "Deaths": 0,
         "Recovered": 0,
         "_deepnote_index_column": 3314
        },
        {
         "ObservationDate": "2020-03-04T00:00:00.000000",
         "Country/Region": "Belarus",
         "Confirmed": 6,
         "Deaths": 0,
         "Recovered": 0,
         "_deepnote_index_column": 3315
        },
        {
         "ObservationDate": "2020-03-04T00:00:00.000000",
         "Country/Region": "Finland",
         "Confirmed": 6,
         "Deaths": 0,
         "Recovered": 1,
         "_deepnote_index_column": 3316
        },
        {
         "ObservationDate": "2020-03-04T00:00:00.000000",
         "Country/Region": "Ireland",
         "Confirmed": 6,
         "Deaths": 0,
         "Recovered": 0,
         "_deepnote_index_column": 3317
        },
        {
         "ObservationDate": "2020-03-04T00:00:00.000000",
         "Country/Region": "Australia",
         "Confirmed": 5,
         "Deaths": 0,
         "Recovered": 2,
         "_deepnote_index_column": 3318
        },
        {
         "ObservationDate": "2020-03-04T00:00:00.000000",
         "Country/Region": "Mexico",
         "Confirmed": 5,
         "Deaths": 0,
         "Recovered": 1,
         "_deepnote_index_column": 3319
        },
        {
         "ObservationDate": "2020-03-04T00:00:00.000000",
         "Country/Region": "Pakistan",
         "Confirmed": 5,
         "Deaths": 0,
         "Recovered": 0,
         "_deepnote_index_column": 3320
        },
        {
         "ObservationDate": "2020-03-04T00:00:00.000000",
         "Country/Region": "Portugal",
         "Confirmed": 5,
         "Deaths": 0,
         "Recovered": 0,
         "_deepnote_index_column": 3321
        },
        {
         "ObservationDate": "2020-03-04T00:00:00.000000",
         "Country/Region": "Brazil",
         "Confirmed": 4,
         "Deaths": 0,
         "Recovered": 0,
         "_deepnote_index_column": 3322
        },
        {
         "ObservationDate": "2020-03-04T00:00:00.000000",
         "Country/Region": "Romania",
         "Confirmed": 4,
         "Deaths": 0,
         "Recovered": 1,
         "_deepnote_index_column": 3323
        },
        {
         "ObservationDate": "2020-03-04T00:00:00.000000",
         "Country/Region": "Senegal",
         "Confirmed": 4,
         "Deaths": 0,
         "Recovered": 0,
         "_deepnote_index_column": 3324
        },
        {
         "ObservationDate": "2020-03-04T00:00:00.000000",
         "Country/Region": "US",
         "Confirmed": 4,
         "Deaths": 0,
         "Recovered": 2,
         "_deepnote_index_column": 3325
        },
        {
         "ObservationDate": "2020-03-04T00:00:00.000000",
         "Country/Region": "Azerbaijan",
         "Confirmed": 3,
         "Deaths": 0,
         "Recovered": 0,
         "_deepnote_index_column": 3326
        },
        {
         "ObservationDate": "2020-03-04T00:00:00.000000",
         "Country/Region": "Georgia",
         "Confirmed": 3,
         "Deaths": 0,
         "Recovered": 0,
         "_deepnote_index_column": 3327
        },
        {
         "ObservationDate": "2020-03-04T00:00:00.000000",
         "Country/Region": "New Zealand",
         "Confirmed": 3,
         "Deaths": 0,
         "Recovered": 0,
         "_deepnote_index_column": 3328
        },
        {
         "ObservationDate": "2020-03-04T00:00:00.000000",
         "Country/Region": "Philippines",
         "Confirmed": 3,
         "Deaths": 1,
         "Recovered": 1,
         "_deepnote_index_column": 3329
        },
        {
         "ObservationDate": "2020-03-04T00:00:00.000000",
         "Country/Region": "Russia",
         "Confirmed": 3,
         "Deaths": 0,
         "Recovered": 2,
         "_deepnote_index_column": 3330
        },
        {
         "ObservationDate": "2020-03-04T00:00:00.000000",
         "Country/Region": "Saint Barthelemy",
         "Confirmed": 3,
         "Deaths": 0,
         "Recovered": 0,
         "_deepnote_index_column": 3331
        },
        {
         "ObservationDate": "2020-03-04T00:00:00.000000",
         "Country/Region": "US",
         "Confirmed": 3,
         "Deaths": 0,
         "Recovered": 0,
         "_deepnote_index_column": 3332
        },
        {
         "ObservationDate": "2020-03-04T00:00:00.000000",
         "Country/Region": "Australia",
         "Confirmed": 2,
         "Deaths": 1,
         "Recovered": 0,
         "_deepnote_index_column": 3333
        },
        {
         "ObservationDate": "2020-03-04T00:00:00.000000",
         "Country/Region": "Egypt",
         "Confirmed": 2,
         "Deaths": 0,
         "Recovered": 1,
         "_deepnote_index_column": 3334
        },
        {
         "ObservationDate": "2020-03-04T00:00:00.000000",
         "Country/Region": "Estonia",
         "Confirmed": 2,
         "Deaths": 0,
         "Recovered": 0,
         "_deepnote_index_column": 3335
        },
        {
         "ObservationDate": "2020-03-04T00:00:00.000000",
         "Country/Region": "Hungary",
         "Confirmed": 2,
         "Deaths": 0,
         "Recovered": 0,
         "_deepnote_index_column": 3336
        },
        {
         "ObservationDate": "2020-03-04T00:00:00.000000",
         "Country/Region": "Indonesia",
         "Confirmed": 2,
         "Deaths": 0,
         "Recovered": 0,
         "_deepnote_index_column": 3337
        },
        {
         "ObservationDate": "2020-03-04T00:00:00.000000",
         "Country/Region": "US",
         "Confirmed": 2,
         "Deaths": 0,
         "Recovered": 0,
         "_deepnote_index_column": 3338
        },
        {
         "ObservationDate": "2020-03-04T00:00:00.000000",
         "Country/Region": "US",
         "Confirmed": 2,
         "Deaths": 0,
         "Recovered": 0,
         "_deepnote_index_column": 3339
        },
        {
         "ObservationDate": "2020-03-04T00:00:00.000000",
         "Country/Region": "US",
         "Confirmed": 2,
         "Deaths": 0,
         "Recovered": 0,
         "_deepnote_index_column": 3340
        },
        {
         "ObservationDate": "2020-03-04T00:00:00.000000",
         "Country/Region": "US",
         "Confirmed": 2,
         "Deaths": 1,
         "Recovered": 0,
         "_deepnote_index_column": 3341
        },
        {
         "ObservationDate": "2020-03-04T00:00:00.000000",
         "Country/Region": "US",
         "Confirmed": 2,
         "Deaths": 0,
         "Recovered": 0,
         "_deepnote_index_column": 3342
        },
        {
         "ObservationDate": "2020-03-04T00:00:00.000000",
         "Country/Region": "US",
         "Confirmed": 2,
         "Deaths": 0,
         "Recovered": 0,
         "_deepnote_index_column": 3343
        },
        {
         "ObservationDate": "2020-03-04T00:00:00.000000",
         "Country/Region": "US",
         "Confirmed": 2,
         "Deaths": 0,
         "Recovered": 0,
         "_deepnote_index_column": 3344
        },
        {
         "ObservationDate": "2020-03-04T00:00:00.000000",
         "Country/Region": "US",
         "Confirmed": 2,
         "Deaths": 0,
         "Recovered": 1,
         "_deepnote_index_column": 3345
        },
        {
         "ObservationDate": "2020-03-04T00:00:00.000000",
         "Country/Region": "US",
         "Confirmed": 2,
         "Deaths": 0,
         "Recovered": 0,
         "_deepnote_index_column": 3346
        },
        {
         "ObservationDate": "2020-03-04T00:00:00.000000",
         "Country/Region": "US",
         "Confirmed": 2,
         "Deaths": 0,
         "Recovered": 0,
         "_deepnote_index_column": 3347
        },
        {
         "ObservationDate": "2020-03-04T00:00:00.000000",
         "Country/Region": "Afghanistan",
         "Confirmed": 1,
         "Deaths": 0,
         "Recovered": 0,
         "_deepnote_index_column": 3348
        },
        {
         "ObservationDate": "2020-03-04T00:00:00.000000",
         "Country/Region": "Andorra",
         "Confirmed": 1,
         "Deaths": 0,
         "Recovered": 0,
         "_deepnote_index_column": 3349
        },
        {
         "ObservationDate": "2020-03-04T00:00:00.000000",
         "Country/Region": "Argentina",
         "Confirmed": 1,
         "Deaths": 0,
         "Recovered": 0,
         "_deepnote_index_column": 3350
        },
        {
         "ObservationDate": "2020-03-04T00:00:00.000000",
         "Country/Region": "Armenia",
         "Confirmed": 1,
         "Deaths": 0,
         "Recovered": 0,
         "_deepnote_index_column": 3351
        },
        {
         "ObservationDate": "2020-03-04T00:00:00.000000",
         "Country/Region": "Australia",
         "Confirmed": 1,
         "Deaths": 0,
         "Recovered": 0,
         "_deepnote_index_column": 3352
        },
        {
         "ObservationDate": "2020-03-04T00:00:00.000000",
         "Country/Region": "Australia",
         "Confirmed": 1,
         "Deaths": 0,
         "Recovered": 0,
         "_deepnote_index_column": 3353
        },
        {
         "ObservationDate": "2020-03-04T00:00:00.000000",
         "Country/Region": "Cambodia",
         "Confirmed": 1,
         "Deaths": 0,
         "Recovered": 1,
         "_deepnote_index_column": 3354
        },
        {
         "ObservationDate": "2020-03-04T00:00:00.000000",
         "Country/Region": "Canada",
         "Confirmed": 1,
         "Deaths": 0,
         "Recovered": 0,
         "_deepnote_index_column": 3355
        },
        {
         "ObservationDate": "2020-03-04T00:00:00.000000",
         "Country/Region": "Canada",
         "Confirmed": 1,
         "Deaths": 0,
         "Recovered": 1,
         "_deepnote_index_column": 3356
        },
        {
         "ObservationDate": "2020-03-04T00:00:00.000000",
         "Country/Region": "Chile",
         "Confirmed": 1,
         "Deaths": 0,
         "Recovered": 0,
         "_deepnote_index_column": 3357
        },
        {
         "ObservationDate": "2020-03-04T00:00:00.000000",
         "Country/Region": "Dominican Republic",
         "Confirmed": 1,
         "Deaths": 0,
         "Recovered": 0,
         "_deepnote_index_column": 3358
        },
        {
         "ObservationDate": "2020-03-04T00:00:00.000000",
         "Country/Region": "Faroe Islands",
         "Confirmed": 1,
         "Deaths": 0,
         "Recovered": 0,
         "_deepnote_index_column": 3359
        },
        {
         "ObservationDate": "2020-03-04T00:00:00.000000",
         "Country/Region": "Gibraltar",
         "Confirmed": 1,
         "Deaths": 0,
         "Recovered": 0,
         "_deepnote_index_column": 3360
        },
        {
         "ObservationDate": "2020-03-04T00:00:00.000000",
         "Country/Region": "Jordan",
         "Confirmed": 1,
         "Deaths": 0,
         "Recovered": 0,
         "_deepnote_index_column": 3361
        },
        {
         "ObservationDate": "2020-03-04T00:00:00.000000",
         "Country/Region": "Latvia",
         "Confirmed": 1,
         "Deaths": 0,
         "Recovered": 0,
         "_deepnote_index_column": 3362
        },
        {
         "ObservationDate": "2020-03-04T00:00:00.000000",
         "Country/Region": "Liechtenstein",
         "Confirmed": 1,
         "Deaths": 0,
         "Recovered": 0,
         "_deepnote_index_column": 3363
        },
        {
         "ObservationDate": "2020-03-04T00:00:00.000000",
         "Country/Region": "Lithuania",
         "Confirmed": 1,
         "Deaths": 0,
         "Recovered": 0,
         "_deepnote_index_column": 3364
        },
        {
         "ObservationDate": "2020-03-04T00:00:00.000000",
         "Country/Region": "Luxembourg",
         "Confirmed": 1,
         "Deaths": 0,
         "Recovered": 0,
         "_deepnote_index_column": 3365
        },
        {
         "ObservationDate": "2020-03-04T00:00:00.000000",
         "Country/Region": "Mainland China",
         "Confirmed": 1,
         "Deaths": 0,
         "Recovered": 1,
         "_deepnote_index_column": 3366
        },
        {
         "ObservationDate": "2020-03-04T00:00:00.000000",
         "Country/Region": "Monaco",
         "Confirmed": 1,
         "Deaths": 0,
         "Recovered": 0,
         "_deepnote_index_column": 3367
        },
        {
         "ObservationDate": "2020-03-04T00:00:00.000000",
         "Country/Region": "Morocco",
         "Confirmed": 1,
         "Deaths": 0,
         "Recovered": 0,
         "_deepnote_index_column": 3368
        },
        {
         "ObservationDate": "2020-03-04T00:00:00.000000",
         "Country/Region": "Nepal",
         "Confirmed": 1,
         "Deaths": 0,
         "Recovered": 1,
         "_deepnote_index_column": 3369
        },
        {
         "ObservationDate": "2020-03-04T00:00:00.000000",
         "Country/Region": "Nigeria",
         "Confirmed": 1,
         "Deaths": 0,
         "Recovered": 0,
         "_deepnote_index_column": 3370
        },
        {
         "ObservationDate": "2020-03-04T00:00:00.000000",
         "Country/Region": "North Macedonia",
         "Confirmed": 1,
         "Deaths": 0,
         "Recovered": 0,
         "_deepnote_index_column": 3371
        },
        {
         "ObservationDate": "2020-03-04T00:00:00.000000",
         "Country/Region": "Poland",
         "Confirmed": 1,
         "Deaths": 0,
         "Recovered": 0,
         "_deepnote_index_column": 3372
        },
        {
         "ObservationDate": "2020-03-04T00:00:00.000000",
         "Country/Region": "Saudi Arabia",
         "Confirmed": 1,
         "Deaths": 0,
         "Recovered": 0,
         "_deepnote_index_column": 3373
        },
        {
         "ObservationDate": "2020-03-04T00:00:00.000000",
         "Country/Region": "Sri Lanka",
         "Confirmed": 1,
         "Deaths": 0,
         "Recovered": 1,
         "_deepnote_index_column": 3374
        },
        {
         "ObservationDate": "2020-03-04T00:00:00.000000",
         "Country/Region": "Tunisia",
         "Confirmed": 1,
         "Deaths": 0,
         "Recovered": 0,
         "_deepnote_index_column": 3375
        },
        {
         "ObservationDate": "2020-03-04T00:00:00.000000",
         "Country/Region": "US",
         "Confirmed": 1,
         "Deaths": 0,
         "Recovered": 0,
         "_deepnote_index_column": 3376
        },
        {
         "ObservationDate": "2020-03-04T00:00:00.000000",
         "Country/Region": "US",
         "Confirmed": 1,
         "Deaths": 0,
         "Recovered": 0,
         "_deepnote_index_column": 3377
        },
        {
         "ObservationDate": "2020-03-04T00:00:00.000000",
         "Country/Region": "US",
         "Confirmed": 1,
         "Deaths": 0,
         "Recovered": 1,
         "_deepnote_index_column": 3378
        },
        {
         "ObservationDate": "2020-03-04T00:00:00.000000",
         "Country/Region": "US",
         "Confirmed": 1,
         "Deaths": 0,
         "Recovered": 0,
         "_deepnote_index_column": 3379
        },
        {
         "ObservationDate": "2020-03-04T00:00:00.000000",
         "Country/Region": "US",
         "Confirmed": 1,
         "Deaths": 0,
         "Recovered": 0,
         "_deepnote_index_column": 3380
        },
        {
         "ObservationDate": "2020-03-04T00:00:00.000000",
         "Country/Region": "US",
         "Confirmed": 1,
         "Deaths": 0,
         "Recovered": 1,
         "_deepnote_index_column": 3381
        },
        {
         "ObservationDate": "2020-03-04T00:00:00.000000",
         "Country/Region": "US",
         "Confirmed": 1,
         "Deaths": 0,
         "Recovered": 0,
         "_deepnote_index_column": 3382
        },
        {
         "ObservationDate": "2020-03-04T00:00:00.000000",
         "Country/Region": "US",
         "Confirmed": 1,
         "Deaths": 0,
         "Recovered": 0,
         "_deepnote_index_column": 3383
        },
        {
         "ObservationDate": "2020-03-04T00:00:00.000000",
         "Country/Region": "US",
         "Confirmed": 1,
         "Deaths": 0,
         "Recovered": 0,
         "_deepnote_index_column": 3384
        },
        {
         "ObservationDate": "2020-03-04T00:00:00.000000",
         "Country/Region": "US",
         "Confirmed": 1,
         "Deaths": 0,
         "Recovered": 0,
         "_deepnote_index_column": 3385
        },
        {
         "ObservationDate": "2020-03-04T00:00:00.000000",
         "Country/Region": "US",
         "Confirmed": 1,
         "Deaths": 0,
         "Recovered": 0,
         "_deepnote_index_column": 3386
        },
        {
         "ObservationDate": "2020-03-04T00:00:00.000000",
         "Country/Region": "US",
         "Confirmed": 1,
         "Deaths": 0,
         "Recovered": 1,
         "_deepnote_index_column": 3387
        },
        {
         "ObservationDate": "2020-03-04T00:00:00.000000",
         "Country/Region": "US",
         "Confirmed": 1,
         "Deaths": 0,
         "Recovered": 0,
         "_deepnote_index_column": 3388
        },
        {
         "ObservationDate": "2020-03-04T00:00:00.000000",
         "Country/Region": "US",
         "Confirmed": 1,
         "Deaths": 0,
         "Recovered": 0,
         "_deepnote_index_column": 3389
        },
        {
         "ObservationDate": "2020-03-04T00:00:00.000000",
         "Country/Region": "Ukraine",
         "Confirmed": 1,
         "Deaths": 0,
         "Recovered": 0,
         "_deepnote_index_column": 3390
        },
        {
         "ObservationDate": "2020-03-04T00:00:00.000000",
         "Country/Region": "Australia",
         "Confirmed": 0,
         "Deaths": 0,
         "Recovered": 0,
         "_deepnote_index_column": 3391
        },
        {
         "ObservationDate": "2020-03-04T00:00:00.000000",
         "Country/Region": "US",
         "Confirmed": 0,
         "Deaths": 0,
         "Recovered": 0,
         "_deepnote_index_column": 3392
        },
        {
         "ObservationDate": "2020-03-04T00:00:00.000000",
         "Country/Region": "US",
         "Confirmed": 0,
         "Deaths": 0,
         "Recovered": 0,
         "_deepnote_index_column": 3393
        },
        {
         "ObservationDate": "2020-03-04T00:00:00.000000",
         "Country/Region": "US",
         "Confirmed": 0,
         "Deaths": 0,
         "Recovered": 0,
         "_deepnote_index_column": 3394
        }
       ]
      },
      "text/plain": "     ObservationDate  Country/Region  Confirmed  Deaths  Recovered\n0         2020-01-22  Mainland China        1.0     0.0        0.0\n1         2020-01-22  Mainland China       14.0     0.0        0.0\n2         2020-01-22  Mainland China        6.0     0.0        0.0\n3         2020-01-22  Mainland China        1.0     0.0        0.0\n4         2020-01-22  Mainland China        0.0     0.0        0.0\n...              ...             ...        ...     ...        ...\n3390      2020-03-04         Ukraine        1.0     0.0        0.0\n3391      2020-03-04       Australia        0.0     0.0        0.0\n3392      2020-03-04              US        0.0     0.0        0.0\n3393      2020-03-04              US        0.0     0.0        0.0\n3394      2020-03-04              US        0.0     0.0        0.0\n\n[3395 rows x 5 columns]",
      "text/html": "<div>\n<style scoped>\n    .dataframe tbody tr th:only-of-type {\n        vertical-align: middle;\n    }\n\n    .dataframe tbody tr th {\n        vertical-align: top;\n    }\n\n    .dataframe thead th {\n        text-align: right;\n    }\n</style>\n<table border=\"1\" class=\"dataframe\">\n  <thead>\n    <tr style=\"text-align: right;\">\n      <th></th>\n      <th>ObservationDate</th>\n      <th>Country/Region</th>\n      <th>Confirmed</th>\n      <th>Deaths</th>\n      <th>Recovered</th>\n    </tr>\n  </thead>\n  <tbody>\n    <tr>\n      <th>0</th>\n      <td>2020-01-22</td>\n      <td>Mainland China</td>\n      <td>1.0</td>\n      <td>0.0</td>\n      <td>0.0</td>\n    </tr>\n    <tr>\n      <th>1</th>\n      <td>2020-01-22</td>\n      <td>Mainland China</td>\n      <td>14.0</td>\n      <td>0.0</td>\n      <td>0.0</td>\n    </tr>\n    <tr>\n      <th>2</th>\n      <td>2020-01-22</td>\n      <td>Mainland China</td>\n      <td>6.0</td>\n      <td>0.0</td>\n      <td>0.0</td>\n    </tr>\n    <tr>\n      <th>3</th>\n      <td>2020-01-22</td>\n      <td>Mainland China</td>\n      <td>1.0</td>\n      <td>0.0</td>\n      <td>0.0</td>\n    </tr>\n    <tr>\n      <th>4</th>\n      <td>2020-01-22</td>\n      <td>Mainland China</td>\n      <td>0.0</td>\n      <td>0.0</td>\n      <td>0.0</td>\n    </tr>\n    <tr>\n      <th>...</th>\n      <td>...</td>\n      <td>...</td>\n      <td>...</td>\n      <td>...</td>\n      <td>...</td>\n    </tr>\n    <tr>\n      <th>3390</th>\n      <td>2020-03-04</td>\n      <td>Ukraine</td>\n      <td>1.0</td>\n      <td>0.0</td>\n      <td>0.0</td>\n    </tr>\n    <tr>\n      <th>3391</th>\n      <td>2020-03-04</td>\n      <td>Australia</td>\n      <td>0.0</td>\n      <td>0.0</td>\n      <td>0.0</td>\n    </tr>\n    <tr>\n      <th>3392</th>\n      <td>2020-03-04</td>\n      <td>US</td>\n      <td>0.0</td>\n      <td>0.0</td>\n      <td>0.0</td>\n    </tr>\n    <tr>\n      <th>3393</th>\n      <td>2020-03-04</td>\n      <td>US</td>\n      <td>0.0</td>\n      <td>0.0</td>\n      <td>0.0</td>\n    </tr>\n    <tr>\n      <th>3394</th>\n      <td>2020-03-04</td>\n      <td>US</td>\n      <td>0.0</td>\n      <td>0.0</td>\n      <td>0.0</td>\n    </tr>\n  </tbody>\n</table>\n<p>3395 rows × 5 columns</p>\n</div>"
     },
     "metadata": {}
    }
   ]
  },
  {
   "cell_type": "markdown",
   "source": "## Obtenemos la suma de los casos del dia de observacion",
   "metadata": {
    "tags": [],
    "cell_id": "00004-d1d5e3b5-5cde-461c-943c-ae5470fa7a36",
    "deepnote_cell_type": "markdown"
   }
  },
  {
   "cell_type": "code",
   "metadata": {
    "tags": [],
    "cell_id": "00005-69ddd7ad-f979-4e69-9c1a-2bd34f0e97ff",
    "deepnote_to_be_reexecuted": false,
    "source_hash": "f3ee7bc1",
    "execution_start": 1625411270725,
    "execution_millis": 28,
    "deepnote_cell_type": "code"
   },
   "source": "df_time = df.groupby('ObservationDate').sum()\ndf_time.head(5)",
   "execution_count": 34,
   "outputs": [
    {
     "output_type": "execute_result",
     "execution_count": 34,
     "data": {
      "application/vnd.deepnote.dataframe.v2+json": {
       "row_count": 5,
       "column_count": 3,
       "columns": [
        {
         "name": "Confirmed",
         "dtype": "float64",
         "stats": {
          "unique_count": 5,
          "nan_count": 0,
          "min": "555.0",
          "max": "2118.0",
          "histogram": [
           {
            "bin_start": 555,
            "bin_end": 711.3,
            "count": 2
           },
           {
            "bin_start": 711.3,
            "bin_end": 867.6,
            "count": 0
           },
           {
            "bin_start": 867.6,
            "bin_end": 1023.9000000000001,
            "count": 1
           },
           {
            "bin_start": 1023.9000000000001,
            "bin_end": 1180.2,
            "count": 0
           },
           {
            "bin_start": 1180.2,
            "bin_end": 1336.5,
            "count": 0
           },
           {
            "bin_start": 1336.5,
            "bin_end": 1492.8000000000002,
            "count": 1
           },
           {
            "bin_start": 1492.8000000000002,
            "bin_end": 1649.1000000000001,
            "count": 0
           },
           {
            "bin_start": 1649.1000000000001,
            "bin_end": 1805.4,
            "count": 0
           },
           {
            "bin_start": 1805.4,
            "bin_end": 1961.7,
            "count": 0
           },
           {
            "bin_start": 1961.7,
            "bin_end": 2118,
            "count": 1
           }
          ]
         }
        },
        {
         "name": "Deaths",
         "dtype": "float64",
         "stats": {
          "unique_count": 5,
          "nan_count": 0,
          "min": "17.0",
          "max": "56.0",
          "histogram": [
           {
            "bin_start": 17,
            "bin_end": 20.9,
            "count": 2
           },
           {
            "bin_start": 20.9,
            "bin_end": 24.8,
            "count": 0
           },
           {
            "bin_start": 24.8,
            "bin_end": 28.7,
            "count": 1
           },
           {
            "bin_start": 28.7,
            "bin_end": 32.6,
            "count": 0
           },
           {
            "bin_start": 32.6,
            "bin_end": 36.5,
            "count": 0
           },
           {
            "bin_start": 36.5,
            "bin_end": 40.4,
            "count": 0
           },
           {
            "bin_start": 40.4,
            "bin_end": 44.3,
            "count": 1
           },
           {
            "bin_start": 44.3,
            "bin_end": 48.2,
            "count": 0
           },
           {
            "bin_start": 48.2,
            "bin_end": 52.1,
            "count": 0
           },
           {
            "bin_start": 52.1,
            "bin_end": 56,
            "count": 1
           }
          ]
         }
        },
        {
         "name": "Recovered",
         "dtype": "float64",
         "stats": {
          "unique_count": 5,
          "nan_count": 0,
          "min": "28.0",
          "max": "52.0",
          "histogram": [
           {
            "bin_start": 28,
            "bin_end": 30.4,
            "count": 2
           },
           {
            "bin_start": 30.4,
            "bin_end": 32.8,
            "count": 0
           },
           {
            "bin_start": 32.8,
            "bin_end": 35.2,
            "count": 0
           },
           {
            "bin_start": 35.2,
            "bin_end": 37.6,
            "count": 1
           },
           {
            "bin_start": 37.6,
            "bin_end": 40,
            "count": 1
           },
           {
            "bin_start": 40,
            "bin_end": 42.4,
            "count": 0
           },
           {
            "bin_start": 42.4,
            "bin_end": 44.8,
            "count": 0
           },
           {
            "bin_start": 44.8,
            "bin_end": 47.2,
            "count": 0
           },
           {
            "bin_start": 47.2,
            "bin_end": 49.599999999999994,
            "count": 0
           },
           {
            "bin_start": 49.599999999999994,
            "bin_end": 52,
            "count": 1
           }
          ]
         }
        },
        {
         "name": "_deepnote_index_column",
         "dtype": "datetime64[ns]"
        }
       ],
       "rows_top": [
        {
         "Confirmed": 555,
         "Deaths": 17,
         "Recovered": 28,
         "_deepnote_index_column": "2020-01-22T00:00:00.000000"
        },
        {
         "Confirmed": 653,
         "Deaths": 18,
         "Recovered": 30,
         "_deepnote_index_column": "2020-01-23T00:00:00.000000"
        },
        {
         "Confirmed": 941,
         "Deaths": 26,
         "Recovered": 36,
         "_deepnote_index_column": "2020-01-24T00:00:00.000000"
        },
        {
         "Confirmed": 1438,
         "Deaths": 42,
         "Recovered": 39,
         "_deepnote_index_column": "2020-01-25T00:00:00.000000"
        },
        {
         "Confirmed": 2118,
         "Deaths": 56,
         "Recovered": 52,
         "_deepnote_index_column": "2020-01-26T00:00:00.000000"
        }
       ],
       "rows_bottom": null
      },
      "text/plain": "                 Confirmed  Deaths  Recovered\nObservationDate                              \n2020-01-22           555.0    17.0       28.0\n2020-01-23           653.0    18.0       30.0\n2020-01-24           941.0    26.0       36.0\n2020-01-25          1438.0    42.0       39.0\n2020-01-26          2118.0    56.0       52.0",
      "text/html": "<div>\n<style scoped>\n    .dataframe tbody tr th:only-of-type {\n        vertical-align: middle;\n    }\n\n    .dataframe tbody tr th {\n        vertical-align: top;\n    }\n\n    .dataframe thead th {\n        text-align: right;\n    }\n</style>\n<table border=\"1\" class=\"dataframe\">\n  <thead>\n    <tr style=\"text-align: right;\">\n      <th></th>\n      <th>Confirmed</th>\n      <th>Deaths</th>\n      <th>Recovered</th>\n    </tr>\n    <tr>\n      <th>ObservationDate</th>\n      <th></th>\n      <th></th>\n      <th></th>\n    </tr>\n  </thead>\n  <tbody>\n    <tr>\n      <th>2020-01-22</th>\n      <td>555.0</td>\n      <td>17.0</td>\n      <td>28.0</td>\n    </tr>\n    <tr>\n      <th>2020-01-23</th>\n      <td>653.0</td>\n      <td>18.0</td>\n      <td>30.0</td>\n    </tr>\n    <tr>\n      <th>2020-01-24</th>\n      <td>941.0</td>\n      <td>26.0</td>\n      <td>36.0</td>\n    </tr>\n    <tr>\n      <th>2020-01-25</th>\n      <td>1438.0</td>\n      <td>42.0</td>\n      <td>39.0</td>\n    </tr>\n    <tr>\n      <th>2020-01-26</th>\n      <td>2118.0</td>\n      <td>56.0</td>\n      <td>52.0</td>\n    </tr>\n  </tbody>\n</table>\n</div>"
     },
     "metadata": {}
    }
   ]
  },
  {
   "cell_type": "markdown",
   "source": "## Dividimos el DataFrame en dos secciones.",
   "metadata": {
    "tags": [],
    "cell_id": "00006-39ae7ba2-4e9d-42f9-a821-e9863a0f8909",
    "deepnote_cell_type": "markdown"
   }
  },
  {
   "cell_type": "code",
   "metadata": {
    "tags": [],
    "cell_id": "00006-a84acb43-3e41-4e6e-82dd-0263bf0e492a",
    "deepnote_to_be_reexecuted": false,
    "source_hash": "3280af42",
    "execution_start": 1625411271128,
    "execution_millis": 6,
    "deepnote_cell_type": "code"
   },
   "source": "df1 = df_time['Confirmed'].iloc[10:15]\ndf1",
   "execution_count": 35,
   "outputs": [
    {
     "output_type": "execute_result",
     "execution_count": 35,
     "data": {
      "text/plain": "ObservationDate\n2020-02-01    12038.0\n2020-02-02    16787.0\n2020-02-03    19881.0\n2020-02-04    23892.0\n2020-02-05    27636.0\nName: Confirmed, dtype: float64"
     },
     "metadata": {}
    }
   ]
  },
  {
   "cell_type": "code",
   "metadata": {
    "tags": [],
    "cell_id": "00008-7de06ab1-d8f3-409e-92da-62af7ebbffdc",
    "deepnote_to_be_reexecuted": false,
    "source_hash": "121db377",
    "execution_start": 1625411271338,
    "execution_millis": 4,
    "deepnote_cell_type": "code"
   },
   "source": "df2 = df_time['Deaths'].iloc[12:17]\ndf2",
   "execution_count": 36,
   "outputs": [
    {
     "output_type": "execute_result",
     "execution_count": 36,
     "data": {
      "text/plain": "ObservationDate\n2020-02-03    426.0\n2020-02-04    492.0\n2020-02-05    564.0\n2020-02-06    634.0\n2020-02-07    719.0\nName: Deaths, dtype: float64"
     },
     "metadata": {}
    }
   ]
  },
  {
   "cell_type": "markdown",
   "source": "## Obtenemos cuantos estan sobreviviendo sobre esas fechas",
   "metadata": {
    "tags": [],
    "cell_id": "00009-a8105cba-c539-44ea-bb2d-5e653829b841",
    "deepnote_cell_type": "markdown"
   }
  },
  {
   "cell_type": "code",
   "metadata": {
    "tags": [],
    "cell_id": "00010-774aafe9-8a1d-4ed6-ab77-8f6b67639779",
    "deepnote_to_be_reexecuted": false,
    "source_hash": "5319f571",
    "execution_start": 1625411271715,
    "execution_millis": 8,
    "deepnote_cell_type": "code"
   },
   "source": "df1 - df2",
   "execution_count": 37,
   "outputs": [
    {
     "output_type": "execute_result",
     "execution_count": 37,
     "data": {
      "text/plain": "ObservationDate\n2020-02-01        NaN\n2020-02-02        NaN\n2020-02-03    19455.0\n2020-02-04    23400.0\n2020-02-05    27072.0\n2020-02-06        NaN\n2020-02-07        NaN\ndtype: float64"
     },
     "metadata": {}
    }
   ]
  },
  {
   "cell_type": "markdown",
   "source": "## El promedio de cada tipo de casos",
   "metadata": {
    "tags": [],
    "cell_id": "00011-5fc729bb-5dae-4de7-b965-3e16cd2bd668",
    "deepnote_cell_type": "markdown"
   }
  },
  {
   "cell_type": "code",
   "metadata": {
    "tags": [],
    "cell_id": "00011-b4e4804c-13a6-4be7-8788-7daa7660bfcb",
    "deepnote_to_be_reexecuted": false,
    "source_hash": "1eca6cf9",
    "execution_start": 1625411272127,
    "execution_millis": 11,
    "deepnote_cell_type": "code"
   },
   "source": "df_time.diff().mean()",
   "execution_count": 38,
   "outputs": [
    {
     "output_type": "execute_result",
     "execution_count": 38,
     "data": {
      "text/plain": "Confirmed    2251.642857\nDeaths         77.071429\nRecovered    1217.690476\ndtype: float64"
     },
     "metadata": {}
    }
   ]
  },
  {
   "cell_type": "code",
   "metadata": {
    "tags": [],
    "cell_id": "00014-31029865-834b-409d-9328-8a1e5a605816",
    "deepnote_to_be_reexecuted": false,
    "source_hash": "214393a3",
    "execution_start": 1625411272379,
    "execution_millis": 37,
    "deepnote_cell_type": "code"
   },
   "source": "df_diff = df_time.diff()\ndf_diff",
   "execution_count": 39,
   "outputs": [
    {
     "output_type": "execute_result",
     "execution_count": 39,
     "data": {
      "application/vnd.deepnote.dataframe.v2+json": {
       "row_count": 43,
       "column_count": 3,
       "columns": [
        {
         "name": "Confirmed",
         "dtype": "float64",
         "stats": {
          "unique_count": 42,
          "nan_count": 1,
          "min": "98.0",
          "max": "15148.0",
          "histogram": [
           {
            "bin_start": 98,
            "bin_end": 1603,
            "count": 16
           },
           {
            "bin_start": 1603,
            "bin_end": 3108,
            "count": 19
           },
           {
            "bin_start": 3108,
            "bin_end": 4613,
            "count": 4
           },
           {
            "bin_start": 4613,
            "bin_end": 6118,
            "count": 1
           },
           {
            "bin_start": 6118,
            "bin_end": 7623,
            "count": 1
           },
           {
            "bin_start": 7623,
            "bin_end": 9128,
            "count": 0
           },
           {
            "bin_start": 9128,
            "bin_end": 10633,
            "count": 0
           },
           {
            "bin_start": 10633,
            "bin_end": 12138,
            "count": 0
           },
           {
            "bin_start": 12138,
            "bin_end": 13643,
            "count": 0
           },
           {
            "bin_start": 13643,
            "bin_end": 15148,
            "count": 1
           }
          ]
         }
        },
        {
         "name": "Deaths",
         "dtype": "float64",
         "stats": {
          "unique_count": 41,
          "nan_count": 1,
          "min": "1.0",
          "max": "253.0",
          "histogram": [
           {
            "bin_start": 1,
            "bin_end": 26.2,
            "count": 9
           },
           {
            "bin_start": 26.2,
            "bin_end": 51.4,
            "count": 5
           },
           {
            "bin_start": 51.4,
            "bin_end": 76.6,
            "count": 9
           },
           {
            "bin_start": 76.6,
            "bin_end": 101.8,
            "count": 8
           },
           {
            "bin_start": 101.8,
            "bin_end": 127,
            "count": 5
           },
           {
            "bin_start": 127,
            "bin_end": 152.2,
            "count": 3
           },
           {
            "bin_start": 152.2,
            "bin_end": 177.4,
            "count": 1
           },
           {
            "bin_start": 177.4,
            "bin_end": 202.6,
            "count": 0
           },
           {
            "bin_start": 202.6,
            "bin_end": 227.79999999999998,
            "count": 1
           },
           {
            "bin_start": 227.79999999999998,
            "bin_end": 253,
            "count": 1
           }
          ]
         }
        },
        {
         "name": "Recovered",
         "dtype": "float64",
         "stats": {
          "unique_count": 41,
          "nan_count": 1,
          "min": "2.0",
          "max": "3996.0",
          "histogram": [
           {
            "bin_start": 2,
            "bin_end": 401.4,
            "count": 15
           },
           {
            "bin_start": 401.4,
            "bin_end": 800.8,
            "count": 8
           },
           {
            "bin_start": 800.8,
            "bin_end": 1200.1999999999998,
            "count": 1
           },
           {
            "bin_start": 1200.1999999999998,
            "bin_end": 1599.6,
            "count": 2
           },
           {
            "bin_start": 1599.6,
            "bin_end": 1999,
            "count": 5
           },
           {
            "bin_start": 1999,
            "bin_end": 2398.3999999999996,
            "count": 1
           },
           {
            "bin_start": 2398.3999999999996,
            "bin_end": 2797.7999999999997,
            "count": 3
           },
           {
            "bin_start": 2797.7999999999997,
            "bin_end": 3197.2,
            "count": 5
           },
           {
            "bin_start": 3197.2,
            "bin_end": 3596.6,
            "count": 1
           },
           {
            "bin_start": 3596.6,
            "bin_end": 3996,
            "count": 1
           }
          ]
         }
        },
        {
         "name": "_deepnote_index_column",
         "dtype": "datetime64[ns]"
        }
       ],
       "rows_top": [
        {
         "Confirmed": "nan",
         "Deaths": "nan",
         "Recovered": "nan",
         "_deepnote_index_column": "2020-01-22T00:00:00.000000"
        },
        {
         "Confirmed": 98,
         "Deaths": 1,
         "Recovered": 2,
         "_deepnote_index_column": "2020-01-23T00:00:00.000000"
        },
        {
         "Confirmed": 288,
         "Deaths": 8,
         "Recovered": 6,
         "_deepnote_index_column": "2020-01-24T00:00:00.000000"
        },
        {
         "Confirmed": 497,
         "Deaths": 16,
         "Recovered": 3,
         "_deepnote_index_column": "2020-01-25T00:00:00.000000"
        },
        {
         "Confirmed": 680,
         "Deaths": 14,
         "Recovered": 13,
         "_deepnote_index_column": "2020-01-26T00:00:00.000000"
        },
        {
         "Confirmed": 809,
         "Deaths": 26,
         "Recovered": 9,
         "_deepnote_index_column": "2020-01-27T00:00:00.000000"
        },
        {
         "Confirmed": 2651,
         "Deaths": 49,
         "Recovered": 46,
         "_deepnote_index_column": "2020-01-28T00:00:00.000000"
        },
        {
         "Confirmed": 587,
         "Deaths": 2,
         "Recovered": 19,
         "_deepnote_index_column": "2020-01-29T00:00:00.000000"
        },
        {
         "Confirmed": 2070,
         "Deaths": 38,
         "Recovered": 17,
         "_deepnote_index_column": "2020-01-30T00:00:00.000000"
        },
        {
         "Confirmed": 1690,
         "Deaths": 42,
         "Recovered": 79,
         "_deepnote_index_column": "2020-01-31T00:00:00.000000"
        },
        {
         "Confirmed": 2113,
         "Deaths": 46,
         "Recovered": 62,
         "_deepnote_index_column": "2020-02-01T00:00:00.000000"
        },
        {
         "Confirmed": 4749,
         "Deaths": 103,
         "Recovered": 188,
         "_deepnote_index_column": "2020-02-02T00:00:00.000000"
        },
        {
         "Confirmed": 3094,
         "Deaths": 64,
         "Recovered": 151,
         "_deepnote_index_column": "2020-02-03T00:00:00.000000"
        },
        {
         "Confirmed": 4011,
         "Deaths": 66,
         "Recovered": 229,
         "_deepnote_index_column": "2020-02-04T00:00:00.000000"
        },
        {
         "Confirmed": 3744,
         "Deaths": 72,
         "Recovered": 272,
         "_deepnote_index_column": "2020-02-05T00:00:00.000000"
        },
        {
         "Confirmed": 3182,
         "Deaths": 70,
         "Recovered": 363,
         "_deepnote_index_column": "2020-02-06T00:00:00.000000"
        },
        {
         "Confirmed": 3574,
         "Deaths": 85,
         "Recovered": 524,
         "_deepnote_index_column": "2020-02-07T00:00:00.000000"
        },
        {
         "Confirmed": 2729,
         "Deaths": 87,
         "Recovered": 605,
         "_deepnote_index_column": "2020-02-08T00:00:00.000000"
        },
        {
         "Confirmed": 3030,
         "Deaths": 100,
         "Recovered": 628,
         "_deepnote_index_column": "2020-02-09T00:00:00.000000"
        },
        {
         "Confirmed": 2612,
         "Deaths": 107,
         "Recovered": 702,
         "_deepnote_index_column": "2020-02-10T00:00:00.000000"
        },
        {
         "Confirmed": 2040,
         "Deaths": 100,
         "Recovered": 737,
         "_deepnote_index_column": "2020-02-11T00:00:00.000000"
        },
        {
         "Confirmed": 419,
         "Deaths": 5,
         "Recovered": 467,
         "_deepnote_index_column": "2020-02-12T00:00:00.000000"
        },
        {
         "Confirmed": 15148,
         "Deaths": 253,
         "Recovered": 1145,
         "_deepnote_index_column": "2020-02-13T00:00:00.000000"
        },
        {
         "Confirmed": 6517,
         "Deaths": 152,
         "Recovered": 1763,
         "_deepnote_index_column": "2020-02-14T00:00:00.000000"
        },
        {
         "Confirmed": 2145,
         "Deaths": 143,
         "Recovered": 1337,
         "_deepnote_index_column": "2020-02-15T00:00:00.000000"
        },
        {
         "Confirmed": 2194,
         "Deaths": 104,
         "Recovered": 1470,
         "_deepnote_index_column": "2020-02-16T00:00:00.000000"
        },
        {
         "Confirmed": 2034,
         "Deaths": 98,
         "Recovered": 1718,
         "_deepnote_index_column": "2020-02-17T00:00:00.000000"
        },
        {
         "Confirmed": 1878,
         "Deaths": 139,
         "Recovered": 1769,
         "_deepnote_index_column": "2020-02-18T00:00:00.000000"
        },
        {
         "Confirmed": 503,
         "Deaths": 115,
         "Recovered": 1769,
         "_deepnote_index_column": "2020-02-19T00:00:00.000000"
        },
        {
         "Confirmed": 558,
         "Deaths": 125,
         "Recovered": 2056,
         "_deepnote_index_column": "2020-02-20T00:00:00.000000"
        },
        {
         "Confirmed": 644,
         "Deaths": 4,
         "Recovered": 713,
         "_deepnote_index_column": "2020-02-21T00:00:00.000000"
        },
        {
         "Confirmed": 1756,
         "Deaths": 207,
         "Recovered": 3996,
         "_deepnote_index_column": "2020-02-22T00:00:00.000000"
        },
        {
         "Confirmed": 386,
         "Deaths": 11,
         "Recovered": 508,
         "_deepnote_index_column": "2020-02-23T00:00:00.000000"
        },
        {
         "Confirmed": 585,
         "Deaths": 160,
         "Recovered": 1833,
         "_deepnote_index_column": "2020-02-24T00:00:00.000000"
        },
        {
         "Confirmed": 845,
         "Deaths": 79,
         "Recovered": 2678,
         "_deepnote_index_column": "2020-02-25T00:00:00.000000"
        },
        {
         "Confirmed": 982,
         "Deaths": 62,
         "Recovered": 2479,
         "_deepnote_index_column": "2020-02-26T00:00:00.000000"
        },
        {
         "Confirmed": 1359,
         "Deaths": 44,
         "Recovered": 2893,
         "_deepnote_index_column": "2020-02-27T00:00:00.000000"
        },
        {
         "Confirmed": 1368,
         "Deaths": 58,
         "Recovered": 3434,
         "_deepnote_index_column": "2020-02-28T00:00:00.000000"
        },
        {
         "Confirmed": 1889,
         "Deaths": 69,
         "Recovered": 3071,
         "_deepnote_index_column": "2020-02-29T00:00:00.000000"
        },
        {
         "Confirmed": 2358,
         "Deaths": 55,
         "Recovered": 2934,
         "_deepnote_index_column": "2020-03-01T00:00:00.000000"
        },
        {
         "Confirmed": 1938,
         "Deaths": 89,
         "Recovered": 2886,
         "_deepnote_index_column": "2020-03-02T00:00:00.000000"
        },
        {
         "Confirmed": 2535,
         "Deaths": 75,
         "Recovered": 2627,
         "_deepnote_index_column": "2020-03-03T00:00:00.000000"
        },
        {
         "Confirmed": 2280,
         "Deaths": 94,
         "Recovered": 2942,
         "_deepnote_index_column": "2020-03-04T00:00:00.000000"
        }
       ],
       "rows_bottom": null
      },
      "text/plain": "                 Confirmed  Deaths  Recovered\nObservationDate                              \n2020-01-22             NaN     NaN        NaN\n2020-01-23            98.0     1.0        2.0\n2020-01-24           288.0     8.0        6.0\n2020-01-25           497.0    16.0        3.0\n2020-01-26           680.0    14.0       13.0\n2020-01-27           809.0    26.0        9.0\n2020-01-28          2651.0    49.0       46.0\n2020-01-29           587.0     2.0       19.0\n2020-01-30          2070.0    38.0       17.0\n2020-01-31          1690.0    42.0       79.0\n2020-02-01          2113.0    46.0       62.0\n2020-02-02          4749.0   103.0      188.0\n2020-02-03          3094.0    64.0      151.0\n2020-02-04          4011.0    66.0      229.0\n2020-02-05          3744.0    72.0      272.0\n2020-02-06          3182.0    70.0      363.0\n2020-02-07          3574.0    85.0      524.0\n2020-02-08          2729.0    87.0      605.0\n2020-02-09          3030.0   100.0      628.0\n2020-02-10          2612.0   107.0      702.0\n2020-02-11          2040.0   100.0      737.0\n2020-02-12           419.0     5.0      467.0\n2020-02-13         15148.0   253.0     1145.0\n2020-02-14          6517.0   152.0     1763.0\n2020-02-15          2145.0   143.0     1337.0\n2020-02-16          2194.0   104.0     1470.0\n2020-02-17          2034.0    98.0     1718.0\n2020-02-18          1878.0   139.0     1769.0\n2020-02-19           503.0   115.0     1769.0\n2020-02-20           558.0   125.0     2056.0\n2020-02-21           644.0     4.0      713.0\n2020-02-22          1756.0   207.0     3996.0\n2020-02-23           386.0    11.0      508.0\n2020-02-24           585.0   160.0     1833.0\n2020-02-25           845.0    79.0     2678.0\n2020-02-26           982.0    62.0     2479.0\n2020-02-27          1359.0    44.0     2893.0\n2020-02-28          1368.0    58.0     3434.0\n2020-02-29          1889.0    69.0     3071.0\n2020-03-01          2358.0    55.0     2934.0\n2020-03-02          1938.0    89.0     2886.0\n2020-03-03          2535.0    75.0     2627.0\n2020-03-04          2280.0    94.0     2942.0",
      "text/html": "<div>\n<style scoped>\n    .dataframe tbody tr th:only-of-type {\n        vertical-align: middle;\n    }\n\n    .dataframe tbody tr th {\n        vertical-align: top;\n    }\n\n    .dataframe thead th {\n        text-align: right;\n    }\n</style>\n<table border=\"1\" class=\"dataframe\">\n  <thead>\n    <tr style=\"text-align: right;\">\n      <th></th>\n      <th>Confirmed</th>\n      <th>Deaths</th>\n      <th>Recovered</th>\n    </tr>\n    <tr>\n      <th>ObservationDate</th>\n      <th></th>\n      <th></th>\n      <th></th>\n    </tr>\n  </thead>\n  <tbody>\n    <tr>\n      <th>2020-01-22</th>\n      <td>NaN</td>\n      <td>NaN</td>\n      <td>NaN</td>\n    </tr>\n    <tr>\n      <th>2020-01-23</th>\n      <td>98.0</td>\n      <td>1.0</td>\n      <td>2.0</td>\n    </tr>\n    <tr>\n      <th>2020-01-24</th>\n      <td>288.0</td>\n      <td>8.0</td>\n      <td>6.0</td>\n    </tr>\n    <tr>\n      <th>2020-01-25</th>\n      <td>497.0</td>\n      <td>16.0</td>\n      <td>3.0</td>\n    </tr>\n    <tr>\n      <th>2020-01-26</th>\n      <td>680.0</td>\n      <td>14.0</td>\n      <td>13.0</td>\n    </tr>\n    <tr>\n      <th>2020-01-27</th>\n      <td>809.0</td>\n      <td>26.0</td>\n      <td>9.0</td>\n    </tr>\n    <tr>\n      <th>2020-01-28</th>\n      <td>2651.0</td>\n      <td>49.0</td>\n      <td>46.0</td>\n    </tr>\n    <tr>\n      <th>2020-01-29</th>\n      <td>587.0</td>\n      <td>2.0</td>\n      <td>19.0</td>\n    </tr>\n    <tr>\n      <th>2020-01-30</th>\n      <td>2070.0</td>\n      <td>38.0</td>\n      <td>17.0</td>\n    </tr>\n    <tr>\n      <th>2020-01-31</th>\n      <td>1690.0</td>\n      <td>42.0</td>\n      <td>79.0</td>\n    </tr>\n    <tr>\n      <th>2020-02-01</th>\n      <td>2113.0</td>\n      <td>46.0</td>\n      <td>62.0</td>\n    </tr>\n    <tr>\n      <th>2020-02-02</th>\n      <td>4749.0</td>\n      <td>103.0</td>\n      <td>188.0</td>\n    </tr>\n    <tr>\n      <th>2020-02-03</th>\n      <td>3094.0</td>\n      <td>64.0</td>\n      <td>151.0</td>\n    </tr>\n    <tr>\n      <th>2020-02-04</th>\n      <td>4011.0</td>\n      <td>66.0</td>\n      <td>229.0</td>\n    </tr>\n    <tr>\n      <th>2020-02-05</th>\n      <td>3744.0</td>\n      <td>72.0</td>\n      <td>272.0</td>\n    </tr>\n    <tr>\n      <th>2020-02-06</th>\n      <td>3182.0</td>\n      <td>70.0</td>\n      <td>363.0</td>\n    </tr>\n    <tr>\n      <th>2020-02-07</th>\n      <td>3574.0</td>\n      <td>85.0</td>\n      <td>524.0</td>\n    </tr>\n    <tr>\n      <th>2020-02-08</th>\n      <td>2729.0</td>\n      <td>87.0</td>\n      <td>605.0</td>\n    </tr>\n    <tr>\n      <th>2020-02-09</th>\n      <td>3030.0</td>\n      <td>100.0</td>\n      <td>628.0</td>\n    </tr>\n    <tr>\n      <th>2020-02-10</th>\n      <td>2612.0</td>\n      <td>107.0</td>\n      <td>702.0</td>\n    </tr>\n    <tr>\n      <th>2020-02-11</th>\n      <td>2040.0</td>\n      <td>100.0</td>\n      <td>737.0</td>\n    </tr>\n    <tr>\n      <th>2020-02-12</th>\n      <td>419.0</td>\n      <td>5.0</td>\n      <td>467.0</td>\n    </tr>\n    <tr>\n      <th>2020-02-13</th>\n      <td>15148.0</td>\n      <td>253.0</td>\n      <td>1145.0</td>\n    </tr>\n    <tr>\n      <th>2020-02-14</th>\n      <td>6517.0</td>\n      <td>152.0</td>\n      <td>1763.0</td>\n    </tr>\n    <tr>\n      <th>2020-02-15</th>\n      <td>2145.0</td>\n      <td>143.0</td>\n      <td>1337.0</td>\n    </tr>\n    <tr>\n      <th>2020-02-16</th>\n      <td>2194.0</td>\n      <td>104.0</td>\n      <td>1470.0</td>\n    </tr>\n    <tr>\n      <th>2020-02-17</th>\n      <td>2034.0</td>\n      <td>98.0</td>\n      <td>1718.0</td>\n    </tr>\n    <tr>\n      <th>2020-02-18</th>\n      <td>1878.0</td>\n      <td>139.0</td>\n      <td>1769.0</td>\n    </tr>\n    <tr>\n      <th>2020-02-19</th>\n      <td>503.0</td>\n      <td>115.0</td>\n      <td>1769.0</td>\n    </tr>\n    <tr>\n      <th>2020-02-20</th>\n      <td>558.0</td>\n      <td>125.0</td>\n      <td>2056.0</td>\n    </tr>\n    <tr>\n      <th>2020-02-21</th>\n      <td>644.0</td>\n      <td>4.0</td>\n      <td>713.0</td>\n    </tr>\n    <tr>\n      <th>2020-02-22</th>\n      <td>1756.0</td>\n      <td>207.0</td>\n      <td>3996.0</td>\n    </tr>\n    <tr>\n      <th>2020-02-23</th>\n      <td>386.0</td>\n      <td>11.0</td>\n      <td>508.0</td>\n    </tr>\n    <tr>\n      <th>2020-02-24</th>\n      <td>585.0</td>\n      <td>160.0</td>\n      <td>1833.0</td>\n    </tr>\n    <tr>\n      <th>2020-02-25</th>\n      <td>845.0</td>\n      <td>79.0</td>\n      <td>2678.0</td>\n    </tr>\n    <tr>\n      <th>2020-02-26</th>\n      <td>982.0</td>\n      <td>62.0</td>\n      <td>2479.0</td>\n    </tr>\n    <tr>\n      <th>2020-02-27</th>\n      <td>1359.0</td>\n      <td>44.0</td>\n      <td>2893.0</td>\n    </tr>\n    <tr>\n      <th>2020-02-28</th>\n      <td>1368.0</td>\n      <td>58.0</td>\n      <td>3434.0</td>\n    </tr>\n    <tr>\n      <th>2020-02-29</th>\n      <td>1889.0</td>\n      <td>69.0</td>\n      <td>3071.0</td>\n    </tr>\n    <tr>\n      <th>2020-03-01</th>\n      <td>2358.0</td>\n      <td>55.0</td>\n      <td>2934.0</td>\n    </tr>\n    <tr>\n      <th>2020-03-02</th>\n      <td>1938.0</td>\n      <td>89.0</td>\n      <td>2886.0</td>\n    </tr>\n    <tr>\n      <th>2020-03-03</th>\n      <td>2535.0</td>\n      <td>75.0</td>\n      <td>2627.0</td>\n    </tr>\n    <tr>\n      <th>2020-03-04</th>\n      <td>2280.0</td>\n      <td>94.0</td>\n      <td>2942.0</td>\n    </tr>\n  </tbody>\n</table>\n</div>"
     },
     "metadata": {}
    }
   ]
  },
  {
   "cell_type": "markdown",
   "source": "Remplzamos el valor nulo, por otro valor.",
   "metadata": {
    "tags": [],
    "cell_id": "00015-a6e341f5-86f4-4d49-a4c0-43d581c7c0eb",
    "deepnote_cell_type": "markdown"
   }
  },
  {
   "cell_type": "code",
   "metadata": {
    "tags": [],
    "cell_id": "00015-9ae4ea57-0aad-4471-8623-add62c7e93b0",
    "deepnote_to_be_reexecuted": false,
    "source_hash": "a2e6a14",
    "execution_start": 1625411272818,
    "execution_millis": 25,
    "deepnote_cell_type": "code"
   },
   "source": "df_diff = df_diff.fillna({'Confirmed': 555.0,\n 'Deaths': 17.0,\n 'Recovered': 28.0})\ndf_diff.head(3)",
   "execution_count": 40,
   "outputs": [
    {
     "output_type": "execute_result",
     "execution_count": 40,
     "data": {
      "application/vnd.deepnote.dataframe.v2+json": {
       "row_count": 3,
       "column_count": 3,
       "columns": [
        {
         "name": "Confirmed",
         "dtype": "float64",
         "stats": {
          "unique_count": 3,
          "nan_count": 0,
          "min": "98.0",
          "max": "555.0",
          "histogram": [
           {
            "bin_start": 98,
            "bin_end": 143.7,
            "count": 1
           },
           {
            "bin_start": 143.7,
            "bin_end": 189.4,
            "count": 0
           },
           {
            "bin_start": 189.4,
            "bin_end": 235.10000000000002,
            "count": 0
           },
           {
            "bin_start": 235.10000000000002,
            "bin_end": 280.8,
            "count": 0
           },
           {
            "bin_start": 280.8,
            "bin_end": 326.5,
            "count": 1
           },
           {
            "bin_start": 326.5,
            "bin_end": 372.20000000000005,
            "count": 0
           },
           {
            "bin_start": 372.20000000000005,
            "bin_end": 417.90000000000003,
            "count": 0
           },
           {
            "bin_start": 417.90000000000003,
            "bin_end": 463.6,
            "count": 0
           },
           {
            "bin_start": 463.6,
            "bin_end": 509.3,
            "count": 0
           },
           {
            "bin_start": 509.3,
            "bin_end": 555,
            "count": 1
           }
          ]
         }
        },
        {
         "name": "Deaths",
         "dtype": "float64",
         "stats": {
          "unique_count": 3,
          "nan_count": 0,
          "min": "1.0",
          "max": "17.0",
          "histogram": [
           {
            "bin_start": 1,
            "bin_end": 2.6,
            "count": 1
           },
           {
            "bin_start": 2.6,
            "bin_end": 4.2,
            "count": 0
           },
           {
            "bin_start": 4.2,
            "bin_end": 5.800000000000001,
            "count": 0
           },
           {
            "bin_start": 5.800000000000001,
            "bin_end": 7.4,
            "count": 0
           },
           {
            "bin_start": 7.4,
            "bin_end": 9,
            "count": 1
           },
           {
            "bin_start": 9,
            "bin_end": 10.600000000000001,
            "count": 0
           },
           {
            "bin_start": 10.600000000000001,
            "bin_end": 12.200000000000001,
            "count": 0
           },
           {
            "bin_start": 12.200000000000001,
            "bin_end": 13.8,
            "count": 0
           },
           {
            "bin_start": 13.8,
            "bin_end": 15.4,
            "count": 0
           },
           {
            "bin_start": 15.4,
            "bin_end": 17,
            "count": 1
           }
          ]
         }
        },
        {
         "name": "Recovered",
         "dtype": "float64",
         "stats": {
          "unique_count": 3,
          "nan_count": 0,
          "min": "2.0",
          "max": "28.0",
          "histogram": [
           {
            "bin_start": 2,
            "bin_end": 4.6,
            "count": 1
           },
           {
            "bin_start": 4.6,
            "bin_end": 7.2,
            "count": 1
           },
           {
            "bin_start": 7.2,
            "bin_end": 9.8,
            "count": 0
           },
           {
            "bin_start": 9.8,
            "bin_end": 12.4,
            "count": 0
           },
           {
            "bin_start": 12.4,
            "bin_end": 15,
            "count": 0
           },
           {
            "bin_start": 15,
            "bin_end": 17.6,
            "count": 0
           },
           {
            "bin_start": 17.6,
            "bin_end": 20.2,
            "count": 0
           },
           {
            "bin_start": 20.2,
            "bin_end": 22.8,
            "count": 0
           },
           {
            "bin_start": 22.8,
            "bin_end": 25.400000000000002,
            "count": 0
           },
           {
            "bin_start": 25.400000000000002,
            "bin_end": 28,
            "count": 1
           }
          ]
         }
        },
        {
         "name": "_deepnote_index_column",
         "dtype": "datetime64[ns]"
        }
       ],
       "rows_top": [
        {
         "Confirmed": 555,
         "Deaths": 17,
         "Recovered": 28,
         "_deepnote_index_column": "2020-01-22T00:00:00.000000"
        },
        {
         "Confirmed": 98,
         "Deaths": 1,
         "Recovered": 2,
         "_deepnote_index_column": "2020-01-23T00:00:00.000000"
        },
        {
         "Confirmed": 288,
         "Deaths": 8,
         "Recovered": 6,
         "_deepnote_index_column": "2020-01-24T00:00:00.000000"
        }
       ],
       "rows_bottom": null
      },
      "text/plain": "                 Confirmed  Deaths  Recovered\nObservationDate                              \n2020-01-22           555.0    17.0       28.0\n2020-01-23            98.0     1.0        2.0\n2020-01-24           288.0     8.0        6.0",
      "text/html": "<div>\n<style scoped>\n    .dataframe tbody tr th:only-of-type {\n        vertical-align: middle;\n    }\n\n    .dataframe tbody tr th {\n        vertical-align: top;\n    }\n\n    .dataframe thead th {\n        text-align: right;\n    }\n</style>\n<table border=\"1\" class=\"dataframe\">\n  <thead>\n    <tr style=\"text-align: right;\">\n      <th></th>\n      <th>Confirmed</th>\n      <th>Deaths</th>\n      <th>Recovered</th>\n    </tr>\n    <tr>\n      <th>ObservationDate</th>\n      <th></th>\n      <th></th>\n      <th></th>\n    </tr>\n  </thead>\n  <tbody>\n    <tr>\n      <th>2020-01-22</th>\n      <td>555.0</td>\n      <td>17.0</td>\n      <td>28.0</td>\n    </tr>\n    <tr>\n      <th>2020-01-23</th>\n      <td>98.0</td>\n      <td>1.0</td>\n      <td>2.0</td>\n    </tr>\n    <tr>\n      <th>2020-01-24</th>\n      <td>288.0</td>\n      <td>8.0</td>\n      <td>6.0</td>\n    </tr>\n  </tbody>\n</table>\n</div>"
     },
     "metadata": {}
    }
   ]
  },
  {
   "cell_type": "markdown",
   "source": "# Suma acumulativa(cumsum)",
   "metadata": {
    "tags": [],
    "cell_id": "00016-4a656287-458d-443d-ae4f-983511ce93ea",
    "deepnote_cell_type": "markdown"
   }
  },
  {
   "cell_type": "code",
   "metadata": {
    "tags": [],
    "cell_id": "00017-dc7dfd30-faa9-415a-8ea4-1e047751e564",
    "deepnote_to_be_reexecuted": false,
    "source_hash": "c9e032f3",
    "execution_start": 1625411273212,
    "execution_millis": 21,
    "deepnote_cell_type": "code"
   },
   "source": "df_diff.cumsum()",
   "execution_count": 41,
   "outputs": [
    {
     "output_type": "execute_result",
     "execution_count": 41,
     "data": {
      "application/vnd.deepnote.dataframe.v2+json": {
       "row_count": 43,
       "column_count": 3,
       "columns": [
        {
         "name": "Confirmed",
         "dtype": "float64",
         "stats": {
          "unique_count": 43,
          "nan_count": 0,
          "min": "555.0",
          "max": "95124.0",
          "histogram": [
           {
            "bin_start": 555,
            "bin_end": 10011.9,
            "count": 10
           },
           {
            "bin_start": 10011.9,
            "bin_end": 19468.8,
            "count": 2
           },
           {
            "bin_start": 19468.8,
            "bin_end": 28925.699999999997,
            "count": 3
           },
           {
            "bin_start": 28925.699999999997,
            "bin_end": 38382.6,
            "count": 3
           },
           {
            "bin_start": 38382.6,
            "bin_end": 47839.5,
            "count": 4
           },
           {
            "bin_start": 47839.5,
            "bin_end": 57296.399999999994,
            "count": 0
           },
           {
            "bin_start": 57296.399999999994,
            "bin_end": 66753.3,
            "count": 1
           },
           {
            "bin_start": 66753.3,
            "bin_end": 76210.2,
            "count": 7
           },
           {
            "bin_start": 76210.2,
            "bin_end": 85667.09999999999,
            "count": 8
           },
           {
            "bin_start": 85667.09999999999,
            "bin_end": 95124,
            "count": 5
           }
          ]
         }
        },
        {
         "name": "Deaths",
         "dtype": "float64",
         "stats": {
          "unique_count": 43,
          "nan_count": 0,
          "min": "17.0",
          "max": "3254.0",
          "histogram": [
           {
            "bin_start": 17,
            "bin_end": 340.7,
            "count": 11
           },
           {
            "bin_start": 340.7,
            "bin_end": 664.4,
            "count": 5
           },
           {
            "bin_start": 664.4,
            "bin_end": 988.0999999999999,
            "count": 3
           },
           {
            "bin_start": 988.0999999999999,
            "bin_end": 1311.8,
            "count": 3
           },
           {
            "bin_start": 1311.8,
            "bin_end": 1635.5,
            "count": 2
           },
           {
            "bin_start": 1635.5,
            "bin_end": 1959.1999999999998,
            "count": 3
           },
           {
            "bin_start": 1959.1999999999998,
            "bin_end": 2282.9,
            "count": 4
           },
           {
            "bin_start": 2282.9,
            "bin_end": 2606.6,
            "count": 2
           },
           {
            "bin_start": 2606.6,
            "bin_end": 2930.2999999999997,
            "count": 5
           },
           {
            "bin_start": 2930.2999999999997,
            "bin_end": 3254,
            "count": 5
           }
          ]
         }
        },
        {
         "name": "Recovered",
         "dtype": "float64",
         "stats": {
          "unique_count": 43,
          "nan_count": 0,
          "min": "28.0",
          "max": "51171.0",
          "histogram": [
           {
            "bin_start": 28,
            "bin_end": 5142.3,
            "count": 21
           },
           {
            "bin_start": 5142.3,
            "bin_end": 10256.6,
            "count": 4
           },
           {
            "bin_start": 10256.6,
            "bin_end": 15370.900000000001,
            "count": 3
           },
           {
            "bin_start": 15370.900000000001,
            "bin_end": 20485.2,
            "count": 3
           },
           {
            "bin_start": 20485.2,
            "bin_end": 25599.5,
            "count": 3
           },
           {
            "bin_start": 25599.5,
            "bin_end": 30713.800000000003,
            "count": 2
           },
           {
            "bin_start": 30713.800000000003,
            "bin_end": 35828.1,
            "count": 1
           },
           {
            "bin_start": 35828.1,
            "bin_end": 40942.4,
            "count": 2
           },
           {
            "bin_start": 40942.4,
            "bin_end": 46056.700000000004,
            "count": 2
           },
           {
            "bin_start": 46056.700000000004,
            "bin_end": 51171,
            "count": 2
           }
          ]
         }
        },
        {
         "name": "_deepnote_index_column",
         "dtype": "datetime64[ns]"
        }
       ],
       "rows_top": [
        {
         "Confirmed": 555,
         "Deaths": 17,
         "Recovered": 28,
         "_deepnote_index_column": "2020-01-22T00:00:00.000000"
        },
        {
         "Confirmed": 653,
         "Deaths": 18,
         "Recovered": 30,
         "_deepnote_index_column": "2020-01-23T00:00:00.000000"
        },
        {
         "Confirmed": 941,
         "Deaths": 26,
         "Recovered": 36,
         "_deepnote_index_column": "2020-01-24T00:00:00.000000"
        },
        {
         "Confirmed": 1438,
         "Deaths": 42,
         "Recovered": 39,
         "_deepnote_index_column": "2020-01-25T00:00:00.000000"
        },
        {
         "Confirmed": 2118,
         "Deaths": 56,
         "Recovered": 52,
         "_deepnote_index_column": "2020-01-26T00:00:00.000000"
        },
        {
         "Confirmed": 2927,
         "Deaths": 82,
         "Recovered": 61,
         "_deepnote_index_column": "2020-01-27T00:00:00.000000"
        },
        {
         "Confirmed": 5578,
         "Deaths": 131,
         "Recovered": 107,
         "_deepnote_index_column": "2020-01-28T00:00:00.000000"
        },
        {
         "Confirmed": 6165,
         "Deaths": 133,
         "Recovered": 126,
         "_deepnote_index_column": "2020-01-29T00:00:00.000000"
        },
        {
         "Confirmed": 8235,
         "Deaths": 171,
         "Recovered": 143,
         "_deepnote_index_column": "2020-01-30T00:00:00.000000"
        },
        {
         "Confirmed": 9925,
         "Deaths": 213,
         "Recovered": 222,
         "_deepnote_index_column": "2020-01-31T00:00:00.000000"
        },
        {
         "Confirmed": 12038,
         "Deaths": 259,
         "Recovered": 284,
         "_deepnote_index_column": "2020-02-01T00:00:00.000000"
        },
        {
         "Confirmed": 16787,
         "Deaths": 362,
         "Recovered": 472,
         "_deepnote_index_column": "2020-02-02T00:00:00.000000"
        },
        {
         "Confirmed": 19881,
         "Deaths": 426,
         "Recovered": 623,
         "_deepnote_index_column": "2020-02-03T00:00:00.000000"
        },
        {
         "Confirmed": 23892,
         "Deaths": 492,
         "Recovered": 852,
         "_deepnote_index_column": "2020-02-04T00:00:00.000000"
        },
        {
         "Confirmed": 27636,
         "Deaths": 564,
         "Recovered": 1124,
         "_deepnote_index_column": "2020-02-05T00:00:00.000000"
        },
        {
         "Confirmed": 30818,
         "Deaths": 634,
         "Recovered": 1487,
         "_deepnote_index_column": "2020-02-06T00:00:00.000000"
        },
        {
         "Confirmed": 34392,
         "Deaths": 719,
         "Recovered": 2011,
         "_deepnote_index_column": "2020-02-07T00:00:00.000000"
        },
        {
         "Confirmed": 37121,
         "Deaths": 806,
         "Recovered": 2616,
         "_deepnote_index_column": "2020-02-08T00:00:00.000000"
        },
        {
         "Confirmed": 40151,
         "Deaths": 906,
         "Recovered": 3244,
         "_deepnote_index_column": "2020-02-09T00:00:00.000000"
        },
        {
         "Confirmed": 42763,
         "Deaths": 1013,
         "Recovered": 3946,
         "_deepnote_index_column": "2020-02-10T00:00:00.000000"
        },
        {
         "Confirmed": 44803,
         "Deaths": 1113,
         "Recovered": 4683,
         "_deepnote_index_column": "2020-02-11T00:00:00.000000"
        },
        {
         "Confirmed": 45222,
         "Deaths": 1118,
         "Recovered": 5150,
         "_deepnote_index_column": "2020-02-12T00:00:00.000000"
        },
        {
         "Confirmed": 60370,
         "Deaths": 1371,
         "Recovered": 6295,
         "_deepnote_index_column": "2020-02-13T00:00:00.000000"
        },
        {
         "Confirmed": 66887,
         "Deaths": 1523,
         "Recovered": 8058,
         "_deepnote_index_column": "2020-02-14T00:00:00.000000"
        },
        {
         "Confirmed": 69032,
         "Deaths": 1666,
         "Recovered": 9395,
         "_deepnote_index_column": "2020-02-15T00:00:00.000000"
        },
        {
         "Confirmed": 71226,
         "Deaths": 1770,
         "Recovered": 10865,
         "_deepnote_index_column": "2020-02-16T00:00:00.000000"
        },
        {
         "Confirmed": 73260,
         "Deaths": 1868,
         "Recovered": 12583,
         "_deepnote_index_column": "2020-02-17T00:00:00.000000"
        },
        {
         "Confirmed": 75138,
         "Deaths": 2007,
         "Recovered": 14352,
         "_deepnote_index_column": "2020-02-18T00:00:00.000000"
        },
        {
         "Confirmed": 75641,
         "Deaths": 2122,
         "Recovered": 16121,
         "_deepnote_index_column": "2020-02-19T00:00:00.000000"
        },
        {
         "Confirmed": 76199,
         "Deaths": 2247,
         "Recovered": 18177,
         "_deepnote_index_column": "2020-02-20T00:00:00.000000"
        },
        {
         "Confirmed": 76843,
         "Deaths": 2251,
         "Recovered": 18890,
         "_deepnote_index_column": "2020-02-21T00:00:00.000000"
        },
        {
         "Confirmed": 78599,
         "Deaths": 2458,
         "Recovered": 22886,
         "_deepnote_index_column": "2020-02-22T00:00:00.000000"
        },
        {
         "Confirmed": 78985,
         "Deaths": 2469,
         "Recovered": 23394,
         "_deepnote_index_column": "2020-02-23T00:00:00.000000"
        },
        {
         "Confirmed": 79570,
         "Deaths": 2629,
         "Recovered": 25227,
         "_deepnote_index_column": "2020-02-24T00:00:00.000000"
        },
        {
         "Confirmed": 80415,
         "Deaths": 2708,
         "Recovered": 27905,
         "_deepnote_index_column": "2020-02-25T00:00:00.000000"
        },
        {
         "Confirmed": 81397,
         "Deaths": 2770,
         "Recovered": 30384,
         "_deepnote_index_column": "2020-02-26T00:00:00.000000"
        },
        {
         "Confirmed": 82756,
         "Deaths": 2814,
         "Recovered": 33277,
         "_deepnote_index_column": "2020-02-27T00:00:00.000000"
        },
        {
         "Confirmed": 84124,
         "Deaths": 2872,
         "Recovered": 36711,
         "_deepnote_index_column": "2020-02-28T00:00:00.000000"
        },
        {
         "Confirmed": 86013,
         "Deaths": 2941,
         "Recovered": 39782,
         "_deepnote_index_column": "2020-02-29T00:00:00.000000"
        },
        {
         "Confirmed": 88371,
         "Deaths": 2996,
         "Recovered": 42716,
         "_deepnote_index_column": "2020-03-01T00:00:00.000000"
        },
        {
         "Confirmed": 90309,
         "Deaths": 3085,
         "Recovered": 45602,
         "_deepnote_index_column": "2020-03-02T00:00:00.000000"
        },
        {
         "Confirmed": 92844,
         "Deaths": 3160,
         "Recovered": 48229,
         "_deepnote_index_column": "2020-03-03T00:00:00.000000"
        },
        {
         "Confirmed": 95124,
         "Deaths": 3254,
         "Recovered": 51171,
         "_deepnote_index_column": "2020-03-04T00:00:00.000000"
        }
       ],
       "rows_bottom": null
      },
      "text/plain": "                 Confirmed  Deaths  Recovered\nObservationDate                              \n2020-01-22           555.0    17.0       28.0\n2020-01-23           653.0    18.0       30.0\n2020-01-24           941.0    26.0       36.0\n2020-01-25          1438.0    42.0       39.0\n2020-01-26          2118.0    56.0       52.0\n2020-01-27          2927.0    82.0       61.0\n2020-01-28          5578.0   131.0      107.0\n2020-01-29          6165.0   133.0      126.0\n2020-01-30          8235.0   171.0      143.0\n2020-01-31          9925.0   213.0      222.0\n2020-02-01         12038.0   259.0      284.0\n2020-02-02         16787.0   362.0      472.0\n2020-02-03         19881.0   426.0      623.0\n2020-02-04         23892.0   492.0      852.0\n2020-02-05         27636.0   564.0     1124.0\n2020-02-06         30818.0   634.0     1487.0\n2020-02-07         34392.0   719.0     2011.0\n2020-02-08         37121.0   806.0     2616.0\n2020-02-09         40151.0   906.0     3244.0\n2020-02-10         42763.0  1013.0     3946.0\n2020-02-11         44803.0  1113.0     4683.0\n2020-02-12         45222.0  1118.0     5150.0\n2020-02-13         60370.0  1371.0     6295.0\n2020-02-14         66887.0  1523.0     8058.0\n2020-02-15         69032.0  1666.0     9395.0\n2020-02-16         71226.0  1770.0    10865.0\n2020-02-17         73260.0  1868.0    12583.0\n2020-02-18         75138.0  2007.0    14352.0\n2020-02-19         75641.0  2122.0    16121.0\n2020-02-20         76199.0  2247.0    18177.0\n2020-02-21         76843.0  2251.0    18890.0\n2020-02-22         78599.0  2458.0    22886.0\n2020-02-23         78985.0  2469.0    23394.0\n2020-02-24         79570.0  2629.0    25227.0\n2020-02-25         80415.0  2708.0    27905.0\n2020-02-26         81397.0  2770.0    30384.0\n2020-02-27         82756.0  2814.0    33277.0\n2020-02-28         84124.0  2872.0    36711.0\n2020-02-29         86013.0  2941.0    39782.0\n2020-03-01         88371.0  2996.0    42716.0\n2020-03-02         90309.0  3085.0    45602.0\n2020-03-03         92844.0  3160.0    48229.0\n2020-03-04         95124.0  3254.0    51171.0",
      "text/html": "<div>\n<style scoped>\n    .dataframe tbody tr th:only-of-type {\n        vertical-align: middle;\n    }\n\n    .dataframe tbody tr th {\n        vertical-align: top;\n    }\n\n    .dataframe thead th {\n        text-align: right;\n    }\n</style>\n<table border=\"1\" class=\"dataframe\">\n  <thead>\n    <tr style=\"text-align: right;\">\n      <th></th>\n      <th>Confirmed</th>\n      <th>Deaths</th>\n      <th>Recovered</th>\n    </tr>\n    <tr>\n      <th>ObservationDate</th>\n      <th></th>\n      <th></th>\n      <th></th>\n    </tr>\n  </thead>\n  <tbody>\n    <tr>\n      <th>2020-01-22</th>\n      <td>555.0</td>\n      <td>17.0</td>\n      <td>28.0</td>\n    </tr>\n    <tr>\n      <th>2020-01-23</th>\n      <td>653.0</td>\n      <td>18.0</td>\n      <td>30.0</td>\n    </tr>\n    <tr>\n      <th>2020-01-24</th>\n      <td>941.0</td>\n      <td>26.0</td>\n      <td>36.0</td>\n    </tr>\n    <tr>\n      <th>2020-01-25</th>\n      <td>1438.0</td>\n      <td>42.0</td>\n      <td>39.0</td>\n    </tr>\n    <tr>\n      <th>2020-01-26</th>\n      <td>2118.0</td>\n      <td>56.0</td>\n      <td>52.0</td>\n    </tr>\n    <tr>\n      <th>2020-01-27</th>\n      <td>2927.0</td>\n      <td>82.0</td>\n      <td>61.0</td>\n    </tr>\n    <tr>\n      <th>2020-01-28</th>\n      <td>5578.0</td>\n      <td>131.0</td>\n      <td>107.0</td>\n    </tr>\n    <tr>\n      <th>2020-01-29</th>\n      <td>6165.0</td>\n      <td>133.0</td>\n      <td>126.0</td>\n    </tr>\n    <tr>\n      <th>2020-01-30</th>\n      <td>8235.0</td>\n      <td>171.0</td>\n      <td>143.0</td>\n    </tr>\n    <tr>\n      <th>2020-01-31</th>\n      <td>9925.0</td>\n      <td>213.0</td>\n      <td>222.0</td>\n    </tr>\n    <tr>\n      <th>2020-02-01</th>\n      <td>12038.0</td>\n      <td>259.0</td>\n      <td>284.0</td>\n    </tr>\n    <tr>\n      <th>2020-02-02</th>\n      <td>16787.0</td>\n      <td>362.0</td>\n      <td>472.0</td>\n    </tr>\n    <tr>\n      <th>2020-02-03</th>\n      <td>19881.0</td>\n      <td>426.0</td>\n      <td>623.0</td>\n    </tr>\n    <tr>\n      <th>2020-02-04</th>\n      <td>23892.0</td>\n      <td>492.0</td>\n      <td>852.0</td>\n    </tr>\n    <tr>\n      <th>2020-02-05</th>\n      <td>27636.0</td>\n      <td>564.0</td>\n      <td>1124.0</td>\n    </tr>\n    <tr>\n      <th>2020-02-06</th>\n      <td>30818.0</td>\n      <td>634.0</td>\n      <td>1487.0</td>\n    </tr>\n    <tr>\n      <th>2020-02-07</th>\n      <td>34392.0</td>\n      <td>719.0</td>\n      <td>2011.0</td>\n    </tr>\n    <tr>\n      <th>2020-02-08</th>\n      <td>37121.0</td>\n      <td>806.0</td>\n      <td>2616.0</td>\n    </tr>\n    <tr>\n      <th>2020-02-09</th>\n      <td>40151.0</td>\n      <td>906.0</td>\n      <td>3244.0</td>\n    </tr>\n    <tr>\n      <th>2020-02-10</th>\n      <td>42763.0</td>\n      <td>1013.0</td>\n      <td>3946.0</td>\n    </tr>\n    <tr>\n      <th>2020-02-11</th>\n      <td>44803.0</td>\n      <td>1113.0</td>\n      <td>4683.0</td>\n    </tr>\n    <tr>\n      <th>2020-02-12</th>\n      <td>45222.0</td>\n      <td>1118.0</td>\n      <td>5150.0</td>\n    </tr>\n    <tr>\n      <th>2020-02-13</th>\n      <td>60370.0</td>\n      <td>1371.0</td>\n      <td>6295.0</td>\n    </tr>\n    <tr>\n      <th>2020-02-14</th>\n      <td>66887.0</td>\n      <td>1523.0</td>\n      <td>8058.0</td>\n    </tr>\n    <tr>\n      <th>2020-02-15</th>\n      <td>69032.0</td>\n      <td>1666.0</td>\n      <td>9395.0</td>\n    </tr>\n    <tr>\n      <th>2020-02-16</th>\n      <td>71226.0</td>\n      <td>1770.0</td>\n      <td>10865.0</td>\n    </tr>\n    <tr>\n      <th>2020-02-17</th>\n      <td>73260.0</td>\n      <td>1868.0</td>\n      <td>12583.0</td>\n    </tr>\n    <tr>\n      <th>2020-02-18</th>\n      <td>75138.0</td>\n      <td>2007.0</td>\n      <td>14352.0</td>\n    </tr>\n    <tr>\n      <th>2020-02-19</th>\n      <td>75641.0</td>\n      <td>2122.0</td>\n      <td>16121.0</td>\n    </tr>\n    <tr>\n      <th>2020-02-20</th>\n      <td>76199.0</td>\n      <td>2247.0</td>\n      <td>18177.0</td>\n    </tr>\n    <tr>\n      <th>2020-02-21</th>\n      <td>76843.0</td>\n      <td>2251.0</td>\n      <td>18890.0</td>\n    </tr>\n    <tr>\n      <th>2020-02-22</th>\n      <td>78599.0</td>\n      <td>2458.0</td>\n      <td>22886.0</td>\n    </tr>\n    <tr>\n      <th>2020-02-23</th>\n      <td>78985.0</td>\n      <td>2469.0</td>\n      <td>23394.0</td>\n    </tr>\n    <tr>\n      <th>2020-02-24</th>\n      <td>79570.0</td>\n      <td>2629.0</td>\n      <td>25227.0</td>\n    </tr>\n    <tr>\n      <th>2020-02-25</th>\n      <td>80415.0</td>\n      <td>2708.0</td>\n      <td>27905.0</td>\n    </tr>\n    <tr>\n      <th>2020-02-26</th>\n      <td>81397.0</td>\n      <td>2770.0</td>\n      <td>30384.0</td>\n    </tr>\n    <tr>\n      <th>2020-02-27</th>\n      <td>82756.0</td>\n      <td>2814.0</td>\n      <td>33277.0</td>\n    </tr>\n    <tr>\n      <th>2020-02-28</th>\n      <td>84124.0</td>\n      <td>2872.0</td>\n      <td>36711.0</td>\n    </tr>\n    <tr>\n      <th>2020-02-29</th>\n      <td>86013.0</td>\n      <td>2941.0</td>\n      <td>39782.0</td>\n    </tr>\n    <tr>\n      <th>2020-03-01</th>\n      <td>88371.0</td>\n      <td>2996.0</td>\n      <td>42716.0</td>\n    </tr>\n    <tr>\n      <th>2020-03-02</th>\n      <td>90309.0</td>\n      <td>3085.0</td>\n      <td>45602.0</td>\n    </tr>\n    <tr>\n      <th>2020-03-03</th>\n      <td>92844.0</td>\n      <td>3160.0</td>\n      <td>48229.0</td>\n    </tr>\n    <tr>\n      <th>2020-03-04</th>\n      <td>95124.0</td>\n      <td>3254.0</td>\n      <td>51171.0</td>\n    </tr>\n  </tbody>\n</table>\n</div>"
     },
     "metadata": {}
    }
   ]
  },
  {
   "cell_type": "markdown",
   "source": "# Resamople : Nos ayuda a manejar las series de tiempo.\nPodemos obtener valores de una seriede tiempo especifico y aplicar funciones.\n\n| Alias      | Description           |\n| ---------- |:---------------------:|\n| B          | Business day          |\n| D          | Calendar day          |\n| W          | Weekly                |\n| M          | Month end             |\n| Q          | Quarter end           |\n| A          | Year end              |\n| BA         | Business year end     |\n| AS         | Year start            |\n| H          | Hourly frequency      |\n| T, min     | Minutely frequency    |\n| S          | Secondly frequency    |\n| L, ms      | Millisecond frequency |\n| U, us      | Microsecond frequency |\n| N, ns      | Nanosecond frequency  |\n",
   "metadata": {
    "tags": [],
    "cell_id": "00018-dafc96a4-e2f5-4cbd-ba13-2de982523b39",
    "deepnote_cell_type": "markdown"
   }
  },
  {
   "cell_type": "code",
   "metadata": {
    "tags": [],
    "cell_id": "00019-1d5a8d2e-0775-4468-91d0-ad94fbacd381",
    "deepnote_to_be_reexecuted": false,
    "source_hash": "ba6cfb1b",
    "execution_start": 1625411273679,
    "execution_millis": 7,
    "deepnote_cell_type": "code"
   },
   "source": "df_diff.resample('7d').sum()",
   "execution_count": 42,
   "outputs": [
    {
     "output_type": "execute_result",
     "execution_count": 42,
     "data": {
      "application/vnd.deepnote.dataframe.v2+json": {
       "row_count": 7,
       "column_count": 3,
       "columns": [
        {
         "name": "Confirmed",
         "dtype": "float64",
         "stats": {
          "unique_count": 7,
          "nan_count": 0,
          "min": "2280.0",
          "max": "30335.0",
          "histogram": [
           {
            "bin_start": 2280,
            "bin_end": 5085.5,
            "count": 1
           },
           {
            "bin_start": 5085.5,
            "bin_end": 7891,
            "count": 2
           },
           {
            "bin_start": 7891,
            "bin_end": 10696.5,
            "count": 0
           },
           {
            "bin_start": 10696.5,
            "bin_end": 13502,
            "count": 1
           },
           {
            "bin_start": 13502,
            "bin_end": 16307.5,
            "count": 0
           },
           {
            "bin_start": 16307.5,
            "bin_end": 19113,
            "count": 1
           },
           {
            "bin_start": 19113,
            "bin_end": 21918.5,
            "count": 1
           },
           {
            "bin_start": 21918.5,
            "bin_end": 24724,
            "count": 0
           },
           {
            "bin_start": 24724,
            "bin_end": 27529.5,
            "count": 0
           },
           {
            "bin_start": 27529.5,
            "bin_end": 30335,
            "count": 1
           }
          ]
         }
        },
        {
         "name": "Deaths",
         "dtype": "float64",
         "stats": {
          "unique_count": 7,
          "nan_count": 0,
          "min": "94.0",
          "max": "894.0",
          "histogram": [
           {
            "bin_start": 94,
            "bin_end": 174,
            "count": 2
           },
           {
            "bin_start": 174,
            "bin_end": 254,
            "count": 0
           },
           {
            "bin_start": 254,
            "bin_end": 334,
            "count": 0
           },
           {
            "bin_start": 334,
            "bin_end": 414,
            "count": 1
           },
           {
            "bin_start": 414,
            "bin_end": 494,
            "count": 1
           },
           {
            "bin_start": 494,
            "bin_end": 574,
            "count": 0
           },
           {
            "bin_start": 574,
            "bin_end": 654,
            "count": 1
           },
           {
            "bin_start": 654,
            "bin_end": 734,
            "count": 1
           },
           {
            "bin_start": 734,
            "bin_end": 814,
            "count": 0
           },
           {
            "bin_start": 814,
            "bin_end": 894,
            "count": 1
           }
          ]
         }
        },
        {
         "name": "Recovered",
         "dtype": "float64",
         "stats": {
          "unique_count": 7,
          "nan_count": 0,
          "min": "107.0",
          "max": "20324.0",
          "histogram": [
           {
            "bin_start": 107,
            "bin_end": 2128.7,
            "count": 2
           },
           {
            "bin_start": 2128.7,
            "bin_end": 4150.4,
            "count": 2
           },
           {
            "bin_start": 4150.4,
            "bin_end": 6172.1,
            "count": 0
           },
           {
            "bin_start": 6172.1,
            "bin_end": 8193.8,
            "count": 0
           },
           {
            "bin_start": 8193.8,
            "bin_end": 10215.5,
            "count": 1
           },
           {
            "bin_start": 10215.5,
            "bin_end": 12237.2,
            "count": 0
           },
           {
            "bin_start": 12237.2,
            "bin_end": 14258.9,
            "count": 1
           },
           {
            "bin_start": 14258.9,
            "bin_end": 16280.6,
            "count": 0
           },
           {
            "bin_start": 16280.6,
            "bin_end": 18302.3,
            "count": 0
           },
           {
            "bin_start": 18302.3,
            "bin_end": 20324,
            "count": 1
           }
          ]
         }
        },
        {
         "name": "_deepnote_index_column",
         "dtype": "datetime64[ns]"
        }
       ],
       "rows_top": [
        {
         "Confirmed": 5578,
         "Deaths": 131,
         "Recovered": 107,
         "_deepnote_index_column": "2020-01-22T00:00:00.000000"
        },
        {
         "Confirmed": 18314,
         "Deaths": 361,
         "Recovered": 745,
         "_deepnote_index_column": "2020-01-29T00:00:00.000000"
        },
        {
         "Confirmed": 20911,
         "Deaths": 621,
         "Recovered": 3831,
         "_deepnote_index_column": "2020-02-05T00:00:00.000000"
        },
        {
         "Confirmed": 30335,
         "Deaths": 894,
         "Recovered": 9669,
         "_deepnote_index_column": "2020-02-12T00:00:00.000000"
        },
        {
         "Confirmed": 5277,
         "Deaths": 701,
         "Recovered": 13553,
         "_deepnote_index_column": "2020-02-19T00:00:00.000000"
        },
        {
         "Confirmed": 12429,
         "Deaths": 452,
         "Recovered": 20324,
         "_deepnote_index_column": "2020-02-26T00:00:00.000000"
        },
        {
         "Confirmed": 2280,
         "Deaths": 94,
         "Recovered": 2942,
         "_deepnote_index_column": "2020-03-04T00:00:00.000000"
        }
       ],
       "rows_bottom": null
      },
      "text/plain": "                 Confirmed  Deaths  Recovered\nObservationDate                              \n2020-01-22          5578.0   131.0      107.0\n2020-01-29         18314.0   361.0      745.0\n2020-02-05         20911.0   621.0     3831.0\n2020-02-12         30335.0   894.0     9669.0\n2020-02-19          5277.0   701.0    13553.0\n2020-02-26         12429.0   452.0    20324.0\n2020-03-04          2280.0    94.0     2942.0",
      "text/html": "<div>\n<style scoped>\n    .dataframe tbody tr th:only-of-type {\n        vertical-align: middle;\n    }\n\n    .dataframe tbody tr th {\n        vertical-align: top;\n    }\n\n    .dataframe thead th {\n        text-align: right;\n    }\n</style>\n<table border=\"1\" class=\"dataframe\">\n  <thead>\n    <tr style=\"text-align: right;\">\n      <th></th>\n      <th>Confirmed</th>\n      <th>Deaths</th>\n      <th>Recovered</th>\n    </tr>\n    <tr>\n      <th>ObservationDate</th>\n      <th></th>\n      <th></th>\n      <th></th>\n    </tr>\n  </thead>\n  <tbody>\n    <tr>\n      <th>2020-01-22</th>\n      <td>5578.0</td>\n      <td>131.0</td>\n      <td>107.0</td>\n    </tr>\n    <tr>\n      <th>2020-01-29</th>\n      <td>18314.0</td>\n      <td>361.0</td>\n      <td>745.0</td>\n    </tr>\n    <tr>\n      <th>2020-02-05</th>\n      <td>20911.0</td>\n      <td>621.0</td>\n      <td>3831.0</td>\n    </tr>\n    <tr>\n      <th>2020-02-12</th>\n      <td>30335.0</td>\n      <td>894.0</td>\n      <td>9669.0</td>\n    </tr>\n    <tr>\n      <th>2020-02-19</th>\n      <td>5277.0</td>\n      <td>701.0</td>\n      <td>13553.0</td>\n    </tr>\n    <tr>\n      <th>2020-02-26</th>\n      <td>12429.0</td>\n      <td>452.0</td>\n      <td>20324.0</td>\n    </tr>\n    <tr>\n      <th>2020-03-04</th>\n      <td>2280.0</td>\n      <td>94.0</td>\n      <td>2942.0</td>\n    </tr>\n  </tbody>\n</table>\n</div>"
     },
     "metadata": {}
    }
   ]
  },
  {
   "cell_type": "code",
   "metadata": {
    "tags": [],
    "cell_id": "00020-74ea402d-1fa2-46a6-bb3c-9d3f94b545d7",
    "deepnote_to_be_reexecuted": false,
    "source_hash": "9bd8b7cf",
    "execution_start": 1625411273934,
    "execution_millis": 5,
    "deepnote_cell_type": "code"
   },
   "source": "df_diff.resample('W-sun').sum()",
   "execution_count": 43,
   "outputs": [
    {
     "output_type": "execute_result",
     "execution_count": 43,
     "data": {
      "application/vnd.deepnote.dataframe.v2+json": {
       "row_count": 7,
       "column_count": 3,
       "columns": [
        {
         "name": "Confirmed",
         "dtype": "float64",
         "stats": {
          "unique_count": 7,
          "nan_count": 0,
          "min": "2118.0",
          "max": "31075.0",
          "histogram": [
           {
            "bin_start": 2118,
            "bin_end": 5013.7,
            "count": 1
           },
           {
            "bin_start": 5013.7,
            "bin_end": 7909.4,
            "count": 2
           },
           {
            "bin_start": 7909.4,
            "bin_end": 10805.099999999999,
            "count": 1
           },
           {
            "bin_start": 10805.099999999999,
            "bin_end": 13700.8,
            "count": 0
           },
           {
            "bin_start": 13700.8,
            "bin_end": 16596.5,
            "count": 1
           },
           {
            "bin_start": 16596.5,
            "bin_end": 19492.199999999997,
            "count": 0
           },
           {
            "bin_start": 19492.199999999997,
            "bin_end": 22387.899999999998,
            "count": 0
           },
           {
            "bin_start": 22387.899999999998,
            "bin_end": 25283.6,
            "count": 1
           },
           {
            "bin_start": 25283.6,
            "bin_end": 28179.3,
            "count": 0
           },
           {
            "bin_start": 28179.3,
            "bin_end": 31075,
            "count": 1
           }
          ]
         }
        },
        {
         "name": "Deaths",
         "dtype": "float64",
         "stats": {
          "unique_count": 7,
          "nan_count": 0,
          "min": "56.0",
          "max": "864.0",
          "histogram": [
           {
            "bin_start": 56,
            "bin_end": 136.8,
            "count": 1
           },
           {
            "bin_start": 136.8,
            "bin_end": 217.6,
            "count": 0
           },
           {
            "bin_start": 217.6,
            "bin_end": 298.4,
            "count": 1
           },
           {
            "bin_start": 298.4,
            "bin_end": 379.2,
            "count": 1
           },
           {
            "bin_start": 379.2,
            "bin_end": 460,
            "count": 0
           },
           {
            "bin_start": 460,
            "bin_end": 540.8,
            "count": 1
           },
           {
            "bin_start": 540.8,
            "bin_end": 621.6,
            "count": 1
           },
           {
            "bin_start": 621.6,
            "bin_end": 702.4,
            "count": 1
           },
           {
            "bin_start": 702.4,
            "bin_end": 783.1999999999999,
            "count": 0
           },
           {
            "bin_start": 783.1999999999999,
            "bin_end": 864,
            "count": 1
           }
          ]
         }
        },
        {
         "name": "Recovered",
         "dtype": "float64",
         "stats": {
          "unique_count": 7,
          "nan_count": 0,
          "min": "52.0",
          "max": "19322.0",
          "histogram": [
           {
            "bin_start": 52,
            "bin_end": 1979,
            "count": 2
           },
           {
            "bin_start": 1979,
            "bin_end": 3906,
            "count": 1
           },
           {
            "bin_start": 3906,
            "bin_end": 5833,
            "count": 0
           },
           {
            "bin_start": 5833,
            "bin_end": 7760,
            "count": 1
           },
           {
            "bin_start": 7760,
            "bin_end": 9687,
            "count": 1
           },
           {
            "bin_start": 9687,
            "bin_end": 11614,
            "count": 0
           },
           {
            "bin_start": 11614,
            "bin_end": 13541,
            "count": 1
           },
           {
            "bin_start": 13541,
            "bin_end": 15468,
            "count": 0
           },
           {
            "bin_start": 15468,
            "bin_end": 17395,
            "count": 0
           },
           {
            "bin_start": 17395,
            "bin_end": 19322,
            "count": 1
           }
          ]
         }
        },
        {
         "name": "_deepnote_index_column",
         "dtype": "datetime64[ns]"
        }
       ],
       "rows_top": [
        {
         "Confirmed": 2118,
         "Deaths": 56,
         "Recovered": 52,
         "_deepnote_index_column": "2020-01-26T00:00:00.000000"
        },
        {
         "Confirmed": 14669,
         "Deaths": 306,
         "Recovered": 420,
         "_deepnote_index_column": "2020-02-02T00:00:00.000000"
        },
        {
         "Confirmed": 23364,
         "Deaths": 544,
         "Recovered": 2772,
         "_deepnote_index_column": "2020-02-09T00:00:00.000000"
        },
        {
         "Confirmed": 31075,
         "Deaths": 864,
         "Recovered": 7621,
         "_deepnote_index_column": "2020-02-16T00:00:00.000000"
        },
        {
         "Confirmed": 7759,
         "Deaths": 699,
         "Recovered": 12529,
         "_deepnote_index_column": "2020-02-23T00:00:00.000000"
        },
        {
         "Confirmed": 9386,
         "Deaths": 527,
         "Recovered": 19322,
         "_deepnote_index_column": "2020-03-01T00:00:00.000000"
        },
        {
         "Confirmed": 6753,
         "Deaths": 258,
         "Recovered": 8455,
         "_deepnote_index_column": "2020-03-08T00:00:00.000000"
        }
       ],
       "rows_bottom": null
      },
      "text/plain": "                 Confirmed  Deaths  Recovered\nObservationDate                              \n2020-01-26          2118.0    56.0       52.0\n2020-02-02         14669.0   306.0      420.0\n2020-02-09         23364.0   544.0     2772.0\n2020-02-16         31075.0   864.0     7621.0\n2020-02-23          7759.0   699.0    12529.0\n2020-03-01          9386.0   527.0    19322.0\n2020-03-08          6753.0   258.0     8455.0",
      "text/html": "<div>\n<style scoped>\n    .dataframe tbody tr th:only-of-type {\n        vertical-align: middle;\n    }\n\n    .dataframe tbody tr th {\n        vertical-align: top;\n    }\n\n    .dataframe thead th {\n        text-align: right;\n    }\n</style>\n<table border=\"1\" class=\"dataframe\">\n  <thead>\n    <tr style=\"text-align: right;\">\n      <th></th>\n      <th>Confirmed</th>\n      <th>Deaths</th>\n      <th>Recovered</th>\n    </tr>\n    <tr>\n      <th>ObservationDate</th>\n      <th></th>\n      <th></th>\n      <th></th>\n    </tr>\n  </thead>\n  <tbody>\n    <tr>\n      <th>2020-01-26</th>\n      <td>2118.0</td>\n      <td>56.0</td>\n      <td>52.0</td>\n    </tr>\n    <tr>\n      <th>2020-02-02</th>\n      <td>14669.0</td>\n      <td>306.0</td>\n      <td>420.0</td>\n    </tr>\n    <tr>\n      <th>2020-02-09</th>\n      <td>23364.0</td>\n      <td>544.0</td>\n      <td>2772.0</td>\n    </tr>\n    <tr>\n      <th>2020-02-16</th>\n      <td>31075.0</td>\n      <td>864.0</td>\n      <td>7621.0</td>\n    </tr>\n    <tr>\n      <th>2020-02-23</th>\n      <td>7759.0</td>\n      <td>699.0</td>\n      <td>12529.0</td>\n    </tr>\n    <tr>\n      <th>2020-03-01</th>\n      <td>9386.0</td>\n      <td>527.0</td>\n      <td>19322.0</td>\n    </tr>\n    <tr>\n      <th>2020-03-08</th>\n      <td>6753.0</td>\n      <td>258.0</td>\n      <td>8455.0</td>\n    </tr>\n  </tbody>\n</table>\n</div>"
     },
     "metadata": {}
    }
   ]
  },
  {
   "cell_type": "code",
   "metadata": {
    "tags": [],
    "cell_id": "00021-f52050b2-c8e5-4258-8576-d60617f54191",
    "deepnote_to_be_reexecuted": false,
    "source_hash": "b82a1b23",
    "execution_start": 1625411274138,
    "execution_millis": 14,
    "deepnote_cell_type": "code"
   },
   "source": "df_diff.resample('M').sum()",
   "execution_count": 44,
   "outputs": [
    {
     "output_type": "execute_result",
     "execution_count": 44,
     "data": {
      "application/vnd.deepnote.dataframe.v2+json": {
       "row_count": 3,
       "column_count": 3,
       "columns": [
        {
         "name": "Confirmed",
         "dtype": "float64",
         "stats": {
          "unique_count": 3,
          "nan_count": 0,
          "min": "9111.0",
          "max": "76088.0",
          "histogram": [
           {
            "bin_start": 9111,
            "bin_end": 15808.7,
            "count": 2
           },
           {
            "bin_start": 15808.7,
            "bin_end": 22506.4,
            "count": 0
           },
           {
            "bin_start": 22506.4,
            "bin_end": 29204.1,
            "count": 0
           },
           {
            "bin_start": 29204.1,
            "bin_end": 35901.8,
            "count": 0
           },
           {
            "bin_start": 35901.8,
            "bin_end": 42599.5,
            "count": 0
           },
           {
            "bin_start": 42599.5,
            "bin_end": 49297.2,
            "count": 0
           },
           {
            "bin_start": 49297.2,
            "bin_end": 55994.9,
            "count": 0
           },
           {
            "bin_start": 55994.9,
            "bin_end": 62692.6,
            "count": 0
           },
           {
            "bin_start": 62692.6,
            "bin_end": 69390.29999999999,
            "count": 0
           },
           {
            "bin_start": 69390.29999999999,
            "bin_end": 76088,
            "count": 1
           }
          ]
         }
        },
        {
         "name": "Deaths",
         "dtype": "float64",
         "stats": {
          "unique_count": 3,
          "nan_count": 0,
          "min": "213.0",
          "max": "2728.0",
          "histogram": [
           {
            "bin_start": 213,
            "bin_end": 464.5,
            "count": 2
           },
           {
            "bin_start": 464.5,
            "bin_end": 716,
            "count": 0
           },
           {
            "bin_start": 716,
            "bin_end": 967.5,
            "count": 0
           },
           {
            "bin_start": 967.5,
            "bin_end": 1219,
            "count": 0
           },
           {
            "bin_start": 1219,
            "bin_end": 1470.5,
            "count": 0
           },
           {
            "bin_start": 1470.5,
            "bin_end": 1722,
            "count": 0
           },
           {
            "bin_start": 1722,
            "bin_end": 1973.5,
            "count": 0
           },
           {
            "bin_start": 1973.5,
            "bin_end": 2225,
            "count": 0
           },
           {
            "bin_start": 2225,
            "bin_end": 2476.5,
            "count": 0
           },
           {
            "bin_start": 2476.5,
            "bin_end": 2728,
            "count": 1
           }
          ]
         }
        },
        {
         "name": "Recovered",
         "dtype": "float64",
         "stats": {
          "unique_count": 3,
          "nan_count": 0,
          "min": "222.0",
          "max": "39560.0",
          "histogram": [
           {
            "bin_start": 222,
            "bin_end": 4155.8,
            "count": 1
           },
           {
            "bin_start": 4155.8,
            "bin_end": 8089.6,
            "count": 0
           },
           {
            "bin_start": 8089.6,
            "bin_end": 12023.400000000001,
            "count": 1
           },
           {
            "bin_start": 12023.400000000001,
            "bin_end": 15957.2,
            "count": 0
           },
           {
            "bin_start": 15957.2,
            "bin_end": 19891,
            "count": 0
           },
           {
            "bin_start": 19891,
            "bin_end": 23824.800000000003,
            "count": 0
           },
           {
            "bin_start": 23824.800000000003,
            "bin_end": 27758.600000000002,
            "count": 0
           },
           {
            "bin_start": 27758.600000000002,
            "bin_end": 31692.4,
            "count": 0
           },
           {
            "bin_start": 31692.4,
            "bin_end": 35626.200000000004,
            "count": 0
           },
           {
            "bin_start": 35626.200000000004,
            "bin_end": 39560,
            "count": 1
           }
          ]
         }
        },
        {
         "name": "_deepnote_index_column",
         "dtype": "datetime64[ns]"
        }
       ],
       "rows_top": [
        {
         "Confirmed": 9925,
         "Deaths": 213,
         "Recovered": 222,
         "_deepnote_index_column": "2020-01-31T00:00:00.000000"
        },
        {
         "Confirmed": 76088,
         "Deaths": 2728,
         "Recovered": 39560,
         "_deepnote_index_column": "2020-02-29T00:00:00.000000"
        },
        {
         "Confirmed": 9111,
         "Deaths": 313,
         "Recovered": 11389,
         "_deepnote_index_column": "2020-03-31T00:00:00.000000"
        }
       ],
       "rows_bottom": null
      },
      "text/plain": "                 Confirmed  Deaths  Recovered\nObservationDate                              \n2020-01-31          9925.0   213.0      222.0\n2020-02-29         76088.0  2728.0    39560.0\n2020-03-31          9111.0   313.0    11389.0",
      "text/html": "<div>\n<style scoped>\n    .dataframe tbody tr th:only-of-type {\n        vertical-align: middle;\n    }\n\n    .dataframe tbody tr th {\n        vertical-align: top;\n    }\n\n    .dataframe thead th {\n        text-align: right;\n    }\n</style>\n<table border=\"1\" class=\"dataframe\">\n  <thead>\n    <tr style=\"text-align: right;\">\n      <th></th>\n      <th>Confirmed</th>\n      <th>Deaths</th>\n      <th>Recovered</th>\n    </tr>\n    <tr>\n      <th>ObservationDate</th>\n      <th></th>\n      <th></th>\n      <th></th>\n    </tr>\n  </thead>\n  <tbody>\n    <tr>\n      <th>2020-01-31</th>\n      <td>9925.0</td>\n      <td>213.0</td>\n      <td>222.0</td>\n    </tr>\n    <tr>\n      <th>2020-02-29</th>\n      <td>76088.0</td>\n      <td>2728.0</td>\n      <td>39560.0</td>\n    </tr>\n    <tr>\n      <th>2020-03-31</th>\n      <td>9111.0</td>\n      <td>313.0</td>\n      <td>11389.0</td>\n    </tr>\n  </tbody>\n</table>\n</div>"
     },
     "metadata": {}
    }
   ]
  },
  {
   "cell_type": "markdown",
   "source": "# Variable nulas en series de tiempo",
   "metadata": {
    "tags": [],
    "cell_id": "00022-1b02a996-c9d8-49db-90ad-24fcdaa1301a",
    "deepnote_cell_type": "markdown"
   }
  },
  {
   "cell_type": "code",
   "source": "df_cum = df_time.resample('12h').sum(min_count=1)\ndf_cum",
   "metadata": {
    "tags": [],
    "cell_id": "00023-fea40472-1ac0-4a6c-b838-5d30aad6f527",
    "deepnote_to_be_reexecuted": false,
    "source_hash": "ead7a18b",
    "execution_start": 1625411274559,
    "execution_millis": 9,
    "deepnote_cell_type": "code"
   },
   "outputs": [
    {
     "output_type": "execute_result",
     "execution_count": 45,
     "data": {
      "application/vnd.deepnote.dataframe.v2+json": {
       "row_count": 85,
       "column_count": 3,
       "columns": [
        {
         "name": "Confirmed",
         "dtype": "float64",
         "stats": {
          "unique_count": 43,
          "nan_count": 42,
          "min": "555.0",
          "max": "95124.0",
          "histogram": [
           {
            "bin_start": 555,
            "bin_end": 10011.9,
            "count": 10
           },
           {
            "bin_start": 10011.9,
            "bin_end": 19468.8,
            "count": 2
           },
           {
            "bin_start": 19468.8,
            "bin_end": 28925.699999999997,
            "count": 3
           },
           {
            "bin_start": 28925.699999999997,
            "bin_end": 38382.6,
            "count": 3
           },
           {
            "bin_start": 38382.6,
            "bin_end": 47839.5,
            "count": 4
           },
           {
            "bin_start": 47839.5,
            "bin_end": 57296.399999999994,
            "count": 0
           },
           {
            "bin_start": 57296.399999999994,
            "bin_end": 66753.3,
            "count": 1
           },
           {
            "bin_start": 66753.3,
            "bin_end": 76210.2,
            "count": 7
           },
           {
            "bin_start": 76210.2,
            "bin_end": 85667.09999999999,
            "count": 8
           },
           {
            "bin_start": 85667.09999999999,
            "bin_end": 95124,
            "count": 5
           }
          ]
         }
        },
        {
         "name": "Deaths",
         "dtype": "float64",
         "stats": {
          "unique_count": 43,
          "nan_count": 42,
          "min": "17.0",
          "max": "3254.0",
          "histogram": [
           {
            "bin_start": 17,
            "bin_end": 340.7,
            "count": 11
           },
           {
            "bin_start": 340.7,
            "bin_end": 664.4,
            "count": 5
           },
           {
            "bin_start": 664.4,
            "bin_end": 988.0999999999999,
            "count": 3
           },
           {
            "bin_start": 988.0999999999999,
            "bin_end": 1311.8,
            "count": 3
           },
           {
            "bin_start": 1311.8,
            "bin_end": 1635.5,
            "count": 2
           },
           {
            "bin_start": 1635.5,
            "bin_end": 1959.1999999999998,
            "count": 3
           },
           {
            "bin_start": 1959.1999999999998,
            "bin_end": 2282.9,
            "count": 4
           },
           {
            "bin_start": 2282.9,
            "bin_end": 2606.6,
            "count": 2
           },
           {
            "bin_start": 2606.6,
            "bin_end": 2930.2999999999997,
            "count": 5
           },
           {
            "bin_start": 2930.2999999999997,
            "bin_end": 3254,
            "count": 5
           }
          ]
         }
        },
        {
         "name": "Recovered",
         "dtype": "float64",
         "stats": {
          "unique_count": 43,
          "nan_count": 42,
          "min": "28.0",
          "max": "51171.0",
          "histogram": [
           {
            "bin_start": 28,
            "bin_end": 5142.3,
            "count": 21
           },
           {
            "bin_start": 5142.3,
            "bin_end": 10256.6,
            "count": 4
           },
           {
            "bin_start": 10256.6,
            "bin_end": 15370.900000000001,
            "count": 3
           },
           {
            "bin_start": 15370.900000000001,
            "bin_end": 20485.2,
            "count": 3
           },
           {
            "bin_start": 20485.2,
            "bin_end": 25599.5,
            "count": 3
           },
           {
            "bin_start": 25599.5,
            "bin_end": 30713.800000000003,
            "count": 2
           },
           {
            "bin_start": 30713.800000000003,
            "bin_end": 35828.1,
            "count": 1
           },
           {
            "bin_start": 35828.1,
            "bin_end": 40942.4,
            "count": 2
           },
           {
            "bin_start": 40942.4,
            "bin_end": 46056.700000000004,
            "count": 2
           },
           {
            "bin_start": 46056.700000000004,
            "bin_end": 51171,
            "count": 2
           }
          ]
         }
        },
        {
         "name": "_deepnote_index_column",
         "dtype": "datetime64[ns]"
        }
       ],
       "rows_top": [
        {
         "Confirmed": 555,
         "Deaths": 17,
         "Recovered": 28,
         "_deepnote_index_column": "2020-01-22T00:00:00.000000"
        },
        {
         "Confirmed": "nan",
         "Deaths": "nan",
         "Recovered": "nan",
         "_deepnote_index_column": "2020-01-22T12:00:00.000000"
        },
        {
         "Confirmed": 653,
         "Deaths": 18,
         "Recovered": 30,
         "_deepnote_index_column": "2020-01-23T00:00:00.000000"
        },
        {
         "Confirmed": "nan",
         "Deaths": "nan",
         "Recovered": "nan",
         "_deepnote_index_column": "2020-01-23T12:00:00.000000"
        },
        {
         "Confirmed": 941,
         "Deaths": 26,
         "Recovered": 36,
         "_deepnote_index_column": "2020-01-24T00:00:00.000000"
        },
        {
         "Confirmed": "nan",
         "Deaths": "nan",
         "Recovered": "nan",
         "_deepnote_index_column": "2020-01-24T12:00:00.000000"
        },
        {
         "Confirmed": 1438,
         "Deaths": 42,
         "Recovered": 39,
         "_deepnote_index_column": "2020-01-25T00:00:00.000000"
        },
        {
         "Confirmed": "nan",
         "Deaths": "nan",
         "Recovered": "nan",
         "_deepnote_index_column": "2020-01-25T12:00:00.000000"
        },
        {
         "Confirmed": 2118,
         "Deaths": 56,
         "Recovered": 52,
         "_deepnote_index_column": "2020-01-26T00:00:00.000000"
        },
        {
         "Confirmed": "nan",
         "Deaths": "nan",
         "Recovered": "nan",
         "_deepnote_index_column": "2020-01-26T12:00:00.000000"
        },
        {
         "Confirmed": 2927,
         "Deaths": 82,
         "Recovered": 61,
         "_deepnote_index_column": "2020-01-27T00:00:00.000000"
        },
        {
         "Confirmed": "nan",
         "Deaths": "nan",
         "Recovered": "nan",
         "_deepnote_index_column": "2020-01-27T12:00:00.000000"
        },
        {
         "Confirmed": 5578,
         "Deaths": 131,
         "Recovered": 107,
         "_deepnote_index_column": "2020-01-28T00:00:00.000000"
        },
        {
         "Confirmed": "nan",
         "Deaths": "nan",
         "Recovered": "nan",
         "_deepnote_index_column": "2020-01-28T12:00:00.000000"
        },
        {
         "Confirmed": 6165,
         "Deaths": 133,
         "Recovered": 126,
         "_deepnote_index_column": "2020-01-29T00:00:00.000000"
        },
        {
         "Confirmed": "nan",
         "Deaths": "nan",
         "Recovered": "nan",
         "_deepnote_index_column": "2020-01-29T12:00:00.000000"
        },
        {
         "Confirmed": 8235,
         "Deaths": 171,
         "Recovered": 143,
         "_deepnote_index_column": "2020-01-30T00:00:00.000000"
        },
        {
         "Confirmed": "nan",
         "Deaths": "nan",
         "Recovered": "nan",
         "_deepnote_index_column": "2020-01-30T12:00:00.000000"
        },
        {
         "Confirmed": 9925,
         "Deaths": 213,
         "Recovered": 222,
         "_deepnote_index_column": "2020-01-31T00:00:00.000000"
        },
        {
         "Confirmed": "nan",
         "Deaths": "nan",
         "Recovered": "nan",
         "_deepnote_index_column": "2020-01-31T12:00:00.000000"
        },
        {
         "Confirmed": 12038,
         "Deaths": 259,
         "Recovered": 284,
         "_deepnote_index_column": "2020-02-01T00:00:00.000000"
        },
        {
         "Confirmed": "nan",
         "Deaths": "nan",
         "Recovered": "nan",
         "_deepnote_index_column": "2020-02-01T12:00:00.000000"
        },
        {
         "Confirmed": 16787,
         "Deaths": 362,
         "Recovered": 472,
         "_deepnote_index_column": "2020-02-02T00:00:00.000000"
        },
        {
         "Confirmed": "nan",
         "Deaths": "nan",
         "Recovered": "nan",
         "_deepnote_index_column": "2020-02-02T12:00:00.000000"
        },
        {
         "Confirmed": 19881,
         "Deaths": 426,
         "Recovered": 623,
         "_deepnote_index_column": "2020-02-03T00:00:00.000000"
        },
        {
         "Confirmed": "nan",
         "Deaths": "nan",
         "Recovered": "nan",
         "_deepnote_index_column": "2020-02-03T12:00:00.000000"
        },
        {
         "Confirmed": 23892,
         "Deaths": 492,
         "Recovered": 852,
         "_deepnote_index_column": "2020-02-04T00:00:00.000000"
        },
        {
         "Confirmed": "nan",
         "Deaths": "nan",
         "Recovered": "nan",
         "_deepnote_index_column": "2020-02-04T12:00:00.000000"
        },
        {
         "Confirmed": 27636,
         "Deaths": 564,
         "Recovered": 1124,
         "_deepnote_index_column": "2020-02-05T00:00:00.000000"
        },
        {
         "Confirmed": "nan",
         "Deaths": "nan",
         "Recovered": "nan",
         "_deepnote_index_column": "2020-02-05T12:00:00.000000"
        },
        {
         "Confirmed": 30818,
         "Deaths": 634,
         "Recovered": 1487,
         "_deepnote_index_column": "2020-02-06T00:00:00.000000"
        },
        {
         "Confirmed": "nan",
         "Deaths": "nan",
         "Recovered": "nan",
         "_deepnote_index_column": "2020-02-06T12:00:00.000000"
        },
        {
         "Confirmed": 34392,
         "Deaths": 719,
         "Recovered": 2011,
         "_deepnote_index_column": "2020-02-07T00:00:00.000000"
        },
        {
         "Confirmed": "nan",
         "Deaths": "nan",
         "Recovered": "nan",
         "_deepnote_index_column": "2020-02-07T12:00:00.000000"
        },
        {
         "Confirmed": 37121,
         "Deaths": 806,
         "Recovered": 2616,
         "_deepnote_index_column": "2020-02-08T00:00:00.000000"
        },
        {
         "Confirmed": "nan",
         "Deaths": "nan",
         "Recovered": "nan",
         "_deepnote_index_column": "2020-02-08T12:00:00.000000"
        },
        {
         "Confirmed": 40151,
         "Deaths": 906,
         "Recovered": 3244,
         "_deepnote_index_column": "2020-02-09T00:00:00.000000"
        },
        {
         "Confirmed": "nan",
         "Deaths": "nan",
         "Recovered": "nan",
         "_deepnote_index_column": "2020-02-09T12:00:00.000000"
        },
        {
         "Confirmed": 42763,
         "Deaths": 1013,
         "Recovered": 3946,
         "_deepnote_index_column": "2020-02-10T00:00:00.000000"
        },
        {
         "Confirmed": "nan",
         "Deaths": "nan",
         "Recovered": "nan",
         "_deepnote_index_column": "2020-02-10T12:00:00.000000"
        },
        {
         "Confirmed": 44803,
         "Deaths": 1113,
         "Recovered": 4683,
         "_deepnote_index_column": "2020-02-11T00:00:00.000000"
        },
        {
         "Confirmed": "nan",
         "Deaths": "nan",
         "Recovered": "nan",
         "_deepnote_index_column": "2020-02-11T12:00:00.000000"
        },
        {
         "Confirmed": 45222,
         "Deaths": 1118,
         "Recovered": 5150,
         "_deepnote_index_column": "2020-02-12T00:00:00.000000"
        },
        {
         "Confirmed": "nan",
         "Deaths": "nan",
         "Recovered": "nan",
         "_deepnote_index_column": "2020-02-12T12:00:00.000000"
        },
        {
         "Confirmed": 60370,
         "Deaths": 1371,
         "Recovered": 6295,
         "_deepnote_index_column": "2020-02-13T00:00:00.000000"
        },
        {
         "Confirmed": "nan",
         "Deaths": "nan",
         "Recovered": "nan",
         "_deepnote_index_column": "2020-02-13T12:00:00.000000"
        },
        {
         "Confirmed": 66887,
         "Deaths": 1523,
         "Recovered": 8058,
         "_deepnote_index_column": "2020-02-14T00:00:00.000000"
        },
        {
         "Confirmed": "nan",
         "Deaths": "nan",
         "Recovered": "nan",
         "_deepnote_index_column": "2020-02-14T12:00:00.000000"
        },
        {
         "Confirmed": 69032,
         "Deaths": 1666,
         "Recovered": 9395,
         "_deepnote_index_column": "2020-02-15T00:00:00.000000"
        },
        {
         "Confirmed": "nan",
         "Deaths": "nan",
         "Recovered": "nan",
         "_deepnote_index_column": "2020-02-15T12:00:00.000000"
        },
        {
         "Confirmed": 71226,
         "Deaths": 1770,
         "Recovered": 10865,
         "_deepnote_index_column": "2020-02-16T00:00:00.000000"
        },
        {
         "Confirmed": "nan",
         "Deaths": "nan",
         "Recovered": "nan",
         "_deepnote_index_column": "2020-02-16T12:00:00.000000"
        },
        {
         "Confirmed": 73260,
         "Deaths": 1868,
         "Recovered": 12583,
         "_deepnote_index_column": "2020-02-17T00:00:00.000000"
        },
        {
         "Confirmed": "nan",
         "Deaths": "nan",
         "Recovered": "nan",
         "_deepnote_index_column": "2020-02-17T12:00:00.000000"
        },
        {
         "Confirmed": 75138,
         "Deaths": 2007,
         "Recovered": 14352,
         "_deepnote_index_column": "2020-02-18T00:00:00.000000"
        },
        {
         "Confirmed": "nan",
         "Deaths": "nan",
         "Recovered": "nan",
         "_deepnote_index_column": "2020-02-18T12:00:00.000000"
        },
        {
         "Confirmed": 75641,
         "Deaths": 2122,
         "Recovered": 16121,
         "_deepnote_index_column": "2020-02-19T00:00:00.000000"
        },
        {
         "Confirmed": "nan",
         "Deaths": "nan",
         "Recovered": "nan",
         "_deepnote_index_column": "2020-02-19T12:00:00.000000"
        },
        {
         "Confirmed": 76199,
         "Deaths": 2247,
         "Recovered": 18177,
         "_deepnote_index_column": "2020-02-20T00:00:00.000000"
        },
        {
         "Confirmed": "nan",
         "Deaths": "nan",
         "Recovered": "nan",
         "_deepnote_index_column": "2020-02-20T12:00:00.000000"
        },
        {
         "Confirmed": 76843,
         "Deaths": 2251,
         "Recovered": 18890,
         "_deepnote_index_column": "2020-02-21T00:00:00.000000"
        },
        {
         "Confirmed": "nan",
         "Deaths": "nan",
         "Recovered": "nan",
         "_deepnote_index_column": "2020-02-21T12:00:00.000000"
        },
        {
         "Confirmed": 78599,
         "Deaths": 2458,
         "Recovered": 22886,
         "_deepnote_index_column": "2020-02-22T00:00:00.000000"
        },
        {
         "Confirmed": "nan",
         "Deaths": "nan",
         "Recovered": "nan",
         "_deepnote_index_column": "2020-02-22T12:00:00.000000"
        },
        {
         "Confirmed": 78985,
         "Deaths": 2469,
         "Recovered": 23394,
         "_deepnote_index_column": "2020-02-23T00:00:00.000000"
        },
        {
         "Confirmed": "nan",
         "Deaths": "nan",
         "Recovered": "nan",
         "_deepnote_index_column": "2020-02-23T12:00:00.000000"
        },
        {
         "Confirmed": 79570,
         "Deaths": 2629,
         "Recovered": 25227,
         "_deepnote_index_column": "2020-02-24T00:00:00.000000"
        },
        {
         "Confirmed": "nan",
         "Deaths": "nan",
         "Recovered": "nan",
         "_deepnote_index_column": "2020-02-24T12:00:00.000000"
        },
        {
         "Confirmed": 80415,
         "Deaths": 2708,
         "Recovered": 27905,
         "_deepnote_index_column": "2020-02-25T00:00:00.000000"
        },
        {
         "Confirmed": "nan",
         "Deaths": "nan",
         "Recovered": "nan",
         "_deepnote_index_column": "2020-02-25T12:00:00.000000"
        },
        {
         "Confirmed": 81397,
         "Deaths": 2770,
         "Recovered": 30384,
         "_deepnote_index_column": "2020-02-26T00:00:00.000000"
        },
        {
         "Confirmed": "nan",
         "Deaths": "nan",
         "Recovered": "nan",
         "_deepnote_index_column": "2020-02-26T12:00:00.000000"
        },
        {
         "Confirmed": 82756,
         "Deaths": 2814,
         "Recovered": 33277,
         "_deepnote_index_column": "2020-02-27T00:00:00.000000"
        },
        {
         "Confirmed": "nan",
         "Deaths": "nan",
         "Recovered": "nan",
         "_deepnote_index_column": "2020-02-27T12:00:00.000000"
        },
        {
         "Confirmed": 84124,
         "Deaths": 2872,
         "Recovered": 36711,
         "_deepnote_index_column": "2020-02-28T00:00:00.000000"
        },
        {
         "Confirmed": "nan",
         "Deaths": "nan",
         "Recovered": "nan",
         "_deepnote_index_column": "2020-02-28T12:00:00.000000"
        },
        {
         "Confirmed": 86013,
         "Deaths": 2941,
         "Recovered": 39782,
         "_deepnote_index_column": "2020-02-29T00:00:00.000000"
        },
        {
         "Confirmed": "nan",
         "Deaths": "nan",
         "Recovered": "nan",
         "_deepnote_index_column": "2020-02-29T12:00:00.000000"
        },
        {
         "Confirmed": 88371,
         "Deaths": 2996,
         "Recovered": 42716,
         "_deepnote_index_column": "2020-03-01T00:00:00.000000"
        },
        {
         "Confirmed": "nan",
         "Deaths": "nan",
         "Recovered": "nan",
         "_deepnote_index_column": "2020-03-01T12:00:00.000000"
        },
        {
         "Confirmed": 90309,
         "Deaths": 3085,
         "Recovered": 45602,
         "_deepnote_index_column": "2020-03-02T00:00:00.000000"
        },
        {
         "Confirmed": "nan",
         "Deaths": "nan",
         "Recovered": "nan",
         "_deepnote_index_column": "2020-03-02T12:00:00.000000"
        },
        {
         "Confirmed": 92844,
         "Deaths": 3160,
         "Recovered": 48229,
         "_deepnote_index_column": "2020-03-03T00:00:00.000000"
        },
        {
         "Confirmed": "nan",
         "Deaths": "nan",
         "Recovered": "nan",
         "_deepnote_index_column": "2020-03-03T12:00:00.000000"
        },
        {
         "Confirmed": 95124,
         "Deaths": 3254,
         "Recovered": 51171,
         "_deepnote_index_column": "2020-03-04T00:00:00.000000"
        }
       ],
       "rows_bottom": null
      },
      "text/plain": "                     Confirmed  Deaths  Recovered\nObservationDate                                  \n2020-01-22 00:00:00      555.0    17.0       28.0\n2020-01-22 12:00:00        NaN     NaN        NaN\n2020-01-23 00:00:00      653.0    18.0       30.0\n2020-01-23 12:00:00        NaN     NaN        NaN\n2020-01-24 00:00:00      941.0    26.0       36.0\n...                        ...     ...        ...\n2020-03-02 00:00:00    90309.0  3085.0    45602.0\n2020-03-02 12:00:00        NaN     NaN        NaN\n2020-03-03 00:00:00    92844.0  3160.0    48229.0\n2020-03-03 12:00:00        NaN     NaN        NaN\n2020-03-04 00:00:00    95124.0  3254.0    51171.0\n\n[85 rows x 3 columns]",
      "text/html": "<div>\n<style scoped>\n    .dataframe tbody tr th:only-of-type {\n        vertical-align: middle;\n    }\n\n    .dataframe tbody tr th {\n        vertical-align: top;\n    }\n\n    .dataframe thead th {\n        text-align: right;\n    }\n</style>\n<table border=\"1\" class=\"dataframe\">\n  <thead>\n    <tr style=\"text-align: right;\">\n      <th></th>\n      <th>Confirmed</th>\n      <th>Deaths</th>\n      <th>Recovered</th>\n    </tr>\n    <tr>\n      <th>ObservationDate</th>\n      <th></th>\n      <th></th>\n      <th></th>\n    </tr>\n  </thead>\n  <tbody>\n    <tr>\n      <th>2020-01-22 00:00:00</th>\n      <td>555.0</td>\n      <td>17.0</td>\n      <td>28.0</td>\n    </tr>\n    <tr>\n      <th>2020-01-22 12:00:00</th>\n      <td>NaN</td>\n      <td>NaN</td>\n      <td>NaN</td>\n    </tr>\n    <tr>\n      <th>2020-01-23 00:00:00</th>\n      <td>653.0</td>\n      <td>18.0</td>\n      <td>30.0</td>\n    </tr>\n    <tr>\n      <th>2020-01-23 12:00:00</th>\n      <td>NaN</td>\n      <td>NaN</td>\n      <td>NaN</td>\n    </tr>\n    <tr>\n      <th>2020-01-24 00:00:00</th>\n      <td>941.0</td>\n      <td>26.0</td>\n      <td>36.0</td>\n    </tr>\n    <tr>\n      <th>...</th>\n      <td>...</td>\n      <td>...</td>\n      <td>...</td>\n    </tr>\n    <tr>\n      <th>2020-03-02 00:00:00</th>\n      <td>90309.0</td>\n      <td>3085.0</td>\n      <td>45602.0</td>\n    </tr>\n    <tr>\n      <th>2020-03-02 12:00:00</th>\n      <td>NaN</td>\n      <td>NaN</td>\n      <td>NaN</td>\n    </tr>\n    <tr>\n      <th>2020-03-03 00:00:00</th>\n      <td>92844.0</td>\n      <td>3160.0</td>\n      <td>48229.0</td>\n    </tr>\n    <tr>\n      <th>2020-03-03 12:00:00</th>\n      <td>NaN</td>\n      <td>NaN</td>\n      <td>NaN</td>\n    </tr>\n    <tr>\n      <th>2020-03-04 00:00:00</th>\n      <td>95124.0</td>\n      <td>3254.0</td>\n      <td>51171.0</td>\n    </tr>\n  </tbody>\n</table>\n<p>85 rows × 3 columns</p>\n</div>"
     },
     "metadata": {}
    }
   ],
   "execution_count": 45
  },
  {
   "cell_type": "markdown",
   "source": "## Completar los valores nulos\n**Bfill** : copia el valor siguiente donde habia un valor nulo.\n\n**ffill** : copia el valor previo donde habia un valor nulo.\n\n**fillna(A-remplazar)** : Remplazamos por el valor que deseamos.\n\n**interpolate()** : Nos ayuda a crear valores medion entre los espacios de valores nulos de acuerdo la valor previo y siguiente.",
   "metadata": {
    "tags": [],
    "cell_id": "00024-7b71b8b6-1ddd-4a4c-8a46-e717af9f3ec8",
    "deepnote_cell_type": "markdown"
   }
  },
  {
   "cell_type": "code",
   "source": "df_cum.bfill()\ndf_cum.ffill()\ndf_cum = df_cum.interpolate()\ndf_cum.head(3)",
   "metadata": {
    "tags": [],
    "cell_id": "00024-4ecb34b3-0646-4f0c-9bb5-eba1c750874a",
    "deepnote_to_be_reexecuted": false,
    "source_hash": "ab9d0415",
    "execution_start": 1625411274979,
    "execution_millis": 24,
    "deepnote_cell_type": "code"
   },
   "outputs": [
    {
     "output_type": "execute_result",
     "execution_count": 46,
     "data": {
      "application/vnd.deepnote.dataframe.v2+json": {
       "row_count": 3,
       "column_count": 3,
       "columns": [
        {
         "name": "Confirmed",
         "dtype": "float64",
         "stats": {
          "unique_count": 3,
          "nan_count": 0,
          "min": "555.0",
          "max": "653.0",
          "histogram": [
           {
            "bin_start": 555,
            "bin_end": 564.8,
            "count": 1
           },
           {
            "bin_start": 564.8,
            "bin_end": 574.6,
            "count": 0
           },
           {
            "bin_start": 574.6,
            "bin_end": 584.4,
            "count": 0
           },
           {
            "bin_start": 584.4,
            "bin_end": 594.2,
            "count": 0
           },
           {
            "bin_start": 594.2,
            "bin_end": 604,
            "count": 0
           },
           {
            "bin_start": 604,
            "bin_end": 613.8,
            "count": 1
           },
           {
            "bin_start": 613.8,
            "bin_end": 623.6,
            "count": 0
           },
           {
            "bin_start": 623.6,
            "bin_end": 633.4,
            "count": 0
           },
           {
            "bin_start": 633.4,
            "bin_end": 643.2,
            "count": 0
           },
           {
            "bin_start": 643.2,
            "bin_end": 653,
            "count": 1
           }
          ]
         }
        },
        {
         "name": "Deaths",
         "dtype": "float64",
         "stats": {
          "unique_count": 3,
          "nan_count": 0,
          "min": "17.0",
          "max": "18.0",
          "histogram": [
           {
            "bin_start": 17,
            "bin_end": 17.1,
            "count": 1
           },
           {
            "bin_start": 17.1,
            "bin_end": 17.2,
            "count": 0
           },
           {
            "bin_start": 17.2,
            "bin_end": 17.3,
            "count": 0
           },
           {
            "bin_start": 17.3,
            "bin_end": 17.4,
            "count": 0
           },
           {
            "bin_start": 17.4,
            "bin_end": 17.5,
            "count": 0
           },
           {
            "bin_start": 17.5,
            "bin_end": 17.6,
            "count": 1
           },
           {
            "bin_start": 17.6,
            "bin_end": 17.7,
            "count": 0
           },
           {
            "bin_start": 17.7,
            "bin_end": 17.8,
            "count": 0
           },
           {
            "bin_start": 17.8,
            "bin_end": 17.9,
            "count": 0
           },
           {
            "bin_start": 17.9,
            "bin_end": 18,
            "count": 1
           }
          ]
         }
        },
        {
         "name": "Recovered",
         "dtype": "float64",
         "stats": {
          "unique_count": 3,
          "nan_count": 0,
          "min": "28.0",
          "max": "30.0",
          "histogram": [
           {
            "bin_start": 28,
            "bin_end": 28.2,
            "count": 1
           },
           {
            "bin_start": 28.2,
            "bin_end": 28.4,
            "count": 0
           },
           {
            "bin_start": 28.4,
            "bin_end": 28.6,
            "count": 0
           },
           {
            "bin_start": 28.6,
            "bin_end": 28.8,
            "count": 0
           },
           {
            "bin_start": 28.8,
            "bin_end": 29,
            "count": 0
           },
           {
            "bin_start": 29,
            "bin_end": 29.2,
            "count": 1
           },
           {
            "bin_start": 29.2,
            "bin_end": 29.4,
            "count": 0
           },
           {
            "bin_start": 29.4,
            "bin_end": 29.6,
            "count": 0
           },
           {
            "bin_start": 29.6,
            "bin_end": 29.8,
            "count": 0
           },
           {
            "bin_start": 29.8,
            "bin_end": 30,
            "count": 1
           }
          ]
         }
        },
        {
         "name": "_deepnote_index_column",
         "dtype": "datetime64[ns]"
        }
       ],
       "rows_top": [
        {
         "Confirmed": 555,
         "Deaths": 17,
         "Recovered": 28,
         "_deepnote_index_column": "2020-01-22T00:00:00.000000"
        },
        {
         "Confirmed": 604,
         "Deaths": 17.5,
         "Recovered": 29,
         "_deepnote_index_column": "2020-01-22T12:00:00.000000"
        },
        {
         "Confirmed": 653,
         "Deaths": 18,
         "Recovered": 30,
         "_deepnote_index_column": "2020-01-23T00:00:00.000000"
        }
       ],
       "rows_bottom": null
      },
      "text/plain": "                     Confirmed  Deaths  Recovered\nObservationDate                                  \n2020-01-22 00:00:00      555.0    17.0       28.0\n2020-01-22 12:00:00      604.0    17.5       29.0\n2020-01-23 00:00:00      653.0    18.0       30.0",
      "text/html": "<div>\n<style scoped>\n    .dataframe tbody tr th:only-of-type {\n        vertical-align: middle;\n    }\n\n    .dataframe tbody tr th {\n        vertical-align: top;\n    }\n\n    .dataframe thead th {\n        text-align: right;\n    }\n</style>\n<table border=\"1\" class=\"dataframe\">\n  <thead>\n    <tr style=\"text-align: right;\">\n      <th></th>\n      <th>Confirmed</th>\n      <th>Deaths</th>\n      <th>Recovered</th>\n    </tr>\n    <tr>\n      <th>ObservationDate</th>\n      <th></th>\n      <th></th>\n      <th></th>\n    </tr>\n  </thead>\n  <tbody>\n    <tr>\n      <th>2020-01-22 00:00:00</th>\n      <td>555.0</td>\n      <td>17.0</td>\n      <td>28.0</td>\n    </tr>\n    <tr>\n      <th>2020-01-22 12:00:00</th>\n      <td>604.0</td>\n      <td>17.5</td>\n      <td>29.0</td>\n    </tr>\n    <tr>\n      <th>2020-01-23 00:00:00</th>\n      <td>653.0</td>\n      <td>18.0</td>\n      <td>30.0</td>\n    </tr>\n  </tbody>\n</table>\n</div>"
     },
     "metadata": {}
    }
   ],
   "execution_count": 46
  },
  {
   "cell_type": "code",
   "source": "df_cum['rate'] = 1 - df_cum['Deaths'] / df_cum['Confirmed']\ndf_cum = df_cum.reset_index()\ndf_cum",
   "metadata": {
    "tags": [],
    "cell_id": "00026-e4ebbdde-3a80-4a5b-876a-8e777170f241",
    "deepnote_to_be_reexecuted": false,
    "source_hash": "85b29764",
    "execution_start": 1625411275205,
    "execution_millis": 7,
    "deepnote_cell_type": "code"
   },
   "outputs": [
    {
     "output_type": "execute_result",
     "execution_count": 47,
     "data": {
      "application/vnd.deepnote.dataframe.v2+json": {
       "row_count": 85,
       "column_count": 5,
       "columns": [
        {
         "name": "ObservationDate",
         "dtype": "datetime64[ns]",
         "stats": {
          "unique_count": 85,
          "nan_count": 0,
          "min": "2020-01-22 00:00:00",
          "max": "2020-03-04 00:00:00",
          "histogram": [
           {
            "bin_start": 1579651200000000000,
            "bin_end": 1580014080000000000,
            "count": 9
           },
           {
            "bin_start": 1580014080000000000,
            "bin_end": 1580376960000000000,
            "count": 8
           },
           {
            "bin_start": 1580376960000000000,
            "bin_end": 1580739840000000000,
            "count": 9
           },
           {
            "bin_start": 1580739840000000000,
            "bin_end": 1581102720000000000,
            "count": 8
           },
           {
            "bin_start": 1581102720000000000,
            "bin_end": 1581465600000000000,
            "count": 8
           },
           {
            "bin_start": 1581465600000000000,
            "bin_end": 1581828480000000000,
            "count": 9
           },
           {
            "bin_start": 1581828480000000000,
            "bin_end": 1582191360000000000,
            "count": 8
           },
           {
            "bin_start": 1582191360000000000,
            "bin_end": 1582554240000000000,
            "count": 9
           },
           {
            "bin_start": 1582554240000000000,
            "bin_end": 1582917120000000000,
            "count": 8
           },
           {
            "bin_start": 1582917120000000000,
            "bin_end": 1583280000000000000,
            "count": 9
           }
          ]
         }
        },
        {
         "name": "Confirmed",
         "dtype": "float64",
         "stats": {
          "unique_count": 85,
          "nan_count": 0,
          "min": "555.0",
          "max": "95124.0",
          "histogram": [
           {
            "bin_start": 555,
            "bin_end": 10011.9,
            "count": 19
           },
           {
            "bin_start": 10011.9,
            "bin_end": 19468.8,
            "count": 5
           },
           {
            "bin_start": 19468.8,
            "bin_end": 28925.699999999997,
            "count": 5
           },
           {
            "bin_start": 28925.699999999997,
            "bin_end": 38382.6,
            "count": 6
           },
           {
            "bin_start": 38382.6,
            "bin_end": 47839.5,
            "count": 8
           },
           {
            "bin_start": 47839.5,
            "bin_end": 57296.399999999994,
            "count": 1
           },
           {
            "bin_start": 57296.399999999994,
            "bin_end": 66753.3,
            "count": 2
           },
           {
            "bin_start": 66753.3,
            "bin_end": 76210.2,
            "count": 13
           },
           {
            "bin_start": 76210.2,
            "bin_end": 85667.09999999999,
            "count": 17
           },
           {
            "bin_start": 85667.09999999999,
            "bin_end": 95124,
            "count": 9
           }
          ]
         }
        },
        {
         "name": "Deaths",
         "dtype": "float64",
         "stats": {
          "unique_count": 85,
          "nan_count": 0,
          "min": "17.0",
          "max": "3254.0",
          "histogram": [
           {
            "bin_start": 17,
            "bin_end": 340.7,
            "count": 22
           },
           {
            "bin_start": 340.7,
            "bin_end": 664.4,
            "count": 9
           },
           {
            "bin_start": 664.4,
            "bin_end": 988.0999999999999,
            "count": 7
           },
           {
            "bin_start": 988.0999999999999,
            "bin_end": 1311.8,
            "count": 6
           },
           {
            "bin_start": 1311.8,
            "bin_end": 1635.5,
            "count": 4
           },
           {
            "bin_start": 1635.5,
            "bin_end": 1959.1999999999998,
            "count": 6
           },
           {
            "bin_start": 1959.1999999999998,
            "bin_end": 2282.9,
            "count": 7
           },
           {
            "bin_start": 2282.9,
            "bin_end": 2606.6,
            "count": 5
           },
           {
            "bin_start": 2606.6,
            "bin_end": 2930.2999999999997,
            "count": 10
           },
           {
            "bin_start": 2930.2999999999997,
            "bin_end": 3254,
            "count": 9
           }
          ]
         }
        },
        {
         "name": "Recovered",
         "dtype": "float64",
         "stats": {
          "unique_count": 85,
          "nan_count": 0,
          "min": "28.0",
          "max": "51171.0",
          "histogram": [
           {
            "bin_start": 28,
            "bin_end": 5142.3,
            "count": 42
           },
           {
            "bin_start": 5142.3,
            "bin_end": 10256.6,
            "count": 8
           },
           {
            "bin_start": 10256.6,
            "bin_end": 15370.900000000001,
            "count": 6
           },
           {
            "bin_start": 15370.900000000001,
            "bin_end": 20485.2,
            "count": 5
           },
           {
            "bin_start": 20485.2,
            "bin_end": 25599.5,
            "count": 6
           },
           {
            "bin_start": 25599.5,
            "bin_end": 30713.800000000003,
            "count": 4
           },
           {
            "bin_start": 30713.800000000003,
            "bin_end": 35828.1,
            "count": 3
           },
           {
            "bin_start": 35828.1,
            "bin_end": 40942.4,
            "count": 3
           },
           {
            "bin_start": 40942.4,
            "bin_end": 46056.700000000004,
            "count": 4
           },
           {
            "bin_start": 46056.700000000004,
            "bin_end": 51171,
            "count": 4
           }
          ]
         }
        },
        {
         "name": "rate",
         "dtype": "float64",
         "stats": {
          "unique_count": 85,
          "nan_count": 0,
          "min": "0.9657920188385686",
          "max": "0.9795918367346939",
          "histogram": [
           {
            "bin_start": 0.9657920188385686,
            "bin_end": 0.9671720006281811,
            "count": 19
           },
           {
            "bin_start": 0.9671720006281811,
            "bin_end": 0.9685519824177936,
            "count": 1
           },
           {
            "bin_start": 0.9685519824177936,
            "bin_end": 0.9699319642074061,
            "count": 5
           },
           {
            "bin_start": 0.9699319642074061,
            "bin_end": 0.9713119459970186,
            "count": 6
           },
           {
            "bin_start": 0.9713119459970186,
            "bin_end": 0.9726919277866313,
            "count": 9
           },
           {
            "bin_start": 0.9726919277866313,
            "bin_end": 0.9740719095762438,
            "count": 3
           },
           {
            "bin_start": 0.9740719095762438,
            "bin_end": 0.9754518913658563,
            "count": 7
           },
           {
            "bin_start": 0.9754518913658563,
            "bin_end": 0.9768318731554688,
            "count": 7
           },
           {
            "bin_start": 0.9768318731554688,
            "bin_end": 0.9782118549450813,
            "count": 7
           },
           {
            "bin_start": 0.9782118549450813,
            "bin_end": 0.9795918367346939,
            "count": 21
           }
          ]
         }
        },
        {
         "name": "_deepnote_index_column",
         "dtype": "int64"
        }
       ],
       "rows_top": [
        {
         "ObservationDate": "2020-01-22T00:00:00.000000",
         "Confirmed": 555,
         "Deaths": 17,
         "Recovered": 28,
         "rate": 0.9693693693693693,
         "_deepnote_index_column": 0
        },
        {
         "ObservationDate": "2020-01-22T12:00:00.000000",
         "Confirmed": 604,
         "Deaths": 17.5,
         "Recovered": 29,
         "rate": 0.9710264900662252,
         "_deepnote_index_column": 1
        },
        {
         "ObservationDate": "2020-01-23T00:00:00.000000",
         "Confirmed": 653,
         "Deaths": 18,
         "Recovered": 30,
         "rate": 0.9724349157733537,
         "_deepnote_index_column": 2
        },
        {
         "ObservationDate": "2020-01-23T12:00:00.000000",
         "Confirmed": 797,
         "Deaths": 22,
         "Recovered": 33,
         "rate": 0.972396486825596,
         "_deepnote_index_column": 3
        },
        {
         "ObservationDate": "2020-01-24T00:00:00.000000",
         "Confirmed": 941,
         "Deaths": 26,
         "Recovered": 36,
         "rate": 0.9723698193411264,
         "_deepnote_index_column": 4
        },
        {
         "ObservationDate": "2020-01-24T12:00:00.000000",
         "Confirmed": 1189.5,
         "Deaths": 34,
         "Recovered": 37.5,
         "rate": 0.971416561580496,
         "_deepnote_index_column": 5
        },
        {
         "ObservationDate": "2020-01-25T00:00:00.000000",
         "Confirmed": 1438,
         "Deaths": 42,
         "Recovered": 39,
         "rate": 0.9707927677329624,
         "_deepnote_index_column": 6
        },
        {
         "ObservationDate": "2020-01-25T12:00:00.000000",
         "Confirmed": 1778,
         "Deaths": 49,
         "Recovered": 45.5,
         "rate": 0.9724409448818898,
         "_deepnote_index_column": 7
        },
        {
         "ObservationDate": "2020-01-26T00:00:00.000000",
         "Confirmed": 2118,
         "Deaths": 56,
         "Recovered": 52,
         "rate": 0.9735599622285175,
         "_deepnote_index_column": 8
        },
        {
         "ObservationDate": "2020-01-26T12:00:00.000000",
         "Confirmed": 2522.5,
         "Deaths": 69,
         "Recovered": 56.5,
         "rate": 0.9726461843409316,
         "_deepnote_index_column": 9
        },
        {
         "ObservationDate": "2020-01-27T00:00:00.000000",
         "Confirmed": 2927,
         "Deaths": 82,
         "Recovered": 61,
         "rate": 0.97198496754356,
         "_deepnote_index_column": 10
        },
        {
         "ObservationDate": "2020-01-27T12:00:00.000000",
         "Confirmed": 4252.5,
         "Deaths": 106.5,
         "Recovered": 84,
         "rate": 0.9749559082892416,
         "_deepnote_index_column": 11
        },
        {
         "ObservationDate": "2020-01-28T00:00:00.000000",
         "Confirmed": 5578,
         "Deaths": 131,
         "Recovered": 107,
         "rate": 0.9765148798852635,
         "_deepnote_index_column": 12
        },
        {
         "ObservationDate": "2020-01-28T12:00:00.000000",
         "Confirmed": 5871.5,
         "Deaths": 132,
         "Recovered": 116.5,
         "rate": 0.9775185216724858,
         "_deepnote_index_column": 13
        },
        {
         "ObservationDate": "2020-01-29T00:00:00.000000",
         "Confirmed": 6165,
         "Deaths": 133,
         "Recovered": 126,
         "rate": 0.978426601784266,
         "_deepnote_index_column": 14
        },
        {
         "ObservationDate": "2020-01-29T12:00:00.000000",
         "Confirmed": 7200,
         "Deaths": 152,
         "Recovered": 134.5,
         "rate": 0.9788888888888889,
         "_deepnote_index_column": 15
        },
        {
         "ObservationDate": "2020-01-30T00:00:00.000000",
         "Confirmed": 8235,
         "Deaths": 171,
         "Recovered": 143,
         "rate": 0.9792349726775956,
         "_deepnote_index_column": 16
        },
        {
         "ObservationDate": "2020-01-30T12:00:00.000000",
         "Confirmed": 9080,
         "Deaths": 192,
         "Recovered": 182.5,
         "rate": 0.9788546255506608,
         "_deepnote_index_column": 17
        },
        {
         "ObservationDate": "2020-01-31T00:00:00.000000",
         "Confirmed": 9925,
         "Deaths": 213,
         "Recovered": 222,
         "rate": 0.9785390428211587,
         "_deepnote_index_column": 18
        },
        {
         "ObservationDate": "2020-01-31T12:00:00.000000",
         "Confirmed": 10981.5,
         "Deaths": 236,
         "Recovered": 253,
         "rate": 0.9785093111141465,
         "_deepnote_index_column": 19
        },
        {
         "ObservationDate": "2020-02-01T00:00:00.000000",
         "Confirmed": 12038,
         "Deaths": 259,
         "Recovered": 284,
         "rate": 0.9784847981392257,
         "_deepnote_index_column": 20
        },
        {
         "ObservationDate": "2020-02-01T12:00:00.000000",
         "Confirmed": 14412.5,
         "Deaths": 310.5,
         "Recovered": 378,
         "rate": 0.9784562012142237,
         "_deepnote_index_column": 21
        },
        {
         "ObservationDate": "2020-02-02T00:00:00.000000",
         "Confirmed": 16787,
         "Deaths": 362,
         "Recovered": 472,
         "rate": 0.9784356942872461,
         "_deepnote_index_column": 22
        },
        {
         "ObservationDate": "2020-02-02T12:00:00.000000",
         "Confirmed": 18334,
         "Deaths": 394,
         "Recovered": 547.5,
         "rate": 0.9785098723682775,
         "_deepnote_index_column": 23
        },
        {
         "ObservationDate": "2020-02-03T00:00:00.000000",
         "Confirmed": 19881,
         "Deaths": 426,
         "Recovered": 623,
         "rate": 0.9785725064131583,
         "_deepnote_index_column": 24
        },
        {
         "ObservationDate": "2020-02-03T12:00:00.000000",
         "Confirmed": 21886.5,
         "Deaths": 459,
         "Recovered": 737.5,
         "rate": 0.9790281680487972,
         "_deepnote_index_column": 25
        },
        {
         "ObservationDate": "2020-02-04T00:00:00.000000",
         "Confirmed": 23892,
         "Deaths": 492,
         "Recovered": 852,
         "rate": 0.9794073329984933,
         "_deepnote_index_column": 26
        },
        {
         "ObservationDate": "2020-02-04T12:00:00.000000",
         "Confirmed": 25764,
         "Deaths": 528,
         "Recovered": 988,
         "rate": 0.9795062878435026,
         "_deepnote_index_column": 27
        },
        {
         "ObservationDate": "2020-02-05T00:00:00.000000",
         "Confirmed": 27636,
         "Deaths": 564,
         "Recovered": 1124,
         "rate": 0.9795918367346939,
         "_deepnote_index_column": 28
        },
        {
         "ObservationDate": "2020-02-05T12:00:00.000000",
         "Confirmed": 29227,
         "Deaths": 599,
         "Recovered": 1305.5,
         "rate": 0.9795052519930202,
         "_deepnote_index_column": 29
        },
        {
         "ObservationDate": "2020-02-06T00:00:00.000000",
         "Confirmed": 30818,
         "Deaths": 634,
         "Recovered": 1487,
         "rate": 0.9794276072425206,
         "_deepnote_index_column": 30
        },
        {
         "ObservationDate": "2020-02-06T12:00:00.000000",
         "Confirmed": 32605,
         "Deaths": 676.5,
         "Recovered": 1749,
         "rate": 0.9792516485201657,
         "_deepnote_index_column": 31
        },
        {
         "ObservationDate": "2020-02-07T00:00:00.000000",
         "Confirmed": 34392,
         "Deaths": 719,
         "Recovered": 2011,
         "rate": 0.979093975343103,
         "_deepnote_index_column": 32
        },
        {
         "ObservationDate": "2020-02-07T12:00:00.000000",
         "Confirmed": 35756.5,
         "Deaths": 762.5,
         "Recovered": 2313.5,
         "rate": 0.9786752059066184,
         "_deepnote_index_column": 33
        },
        {
         "ObservationDate": "2020-02-08T00:00:00.000000",
         "Confirmed": 37121,
         "Deaths": 806,
         "Recovered": 2616,
         "rate": 0.9782872228657633,
         "_deepnote_index_column": 34
        },
        {
         "ObservationDate": "2020-02-08T12:00:00.000000",
         "Confirmed": 38636,
         "Deaths": 856,
         "Recovered": 2930,
         "rate": 0.9778444973599751,
         "_deepnote_index_column": 35
        },
        {
         "ObservationDate": "2020-02-09T00:00:00.000000",
         "Confirmed": 40151,
         "Deaths": 906,
         "Recovered": 3244,
         "rate": 0.9774351821872431,
         "_deepnote_index_column": 36
        },
        {
         "ObservationDate": "2020-02-09T12:00:00.000000",
         "Confirmed": 41457,
         "Deaths": 959.5,
         "Recovered": 3595,
         "rate": 0.9768555370624985,
         "_deepnote_index_column": 37
        },
        {
         "ObservationDate": "2020-02-10T00:00:00.000000",
         "Confirmed": 42763,
         "Deaths": 1013,
         "Recovered": 3946,
         "rate": 0.9763112971494049,
         "_deepnote_index_column": 38
        },
        {
         "ObservationDate": "2020-02-10T12:00:00.000000",
         "Confirmed": 43783,
         "Deaths": 1063,
         "Recovered": 4314.5,
         "rate": 0.9757211703172464,
         "_deepnote_index_column": 39
        },
        {
         "ObservationDate": "2020-02-11T00:00:00.000000",
         "Confirmed": 44803,
         "Deaths": 1113,
         "Recovered": 4683,
         "rate": 0.975157913532576,
         "_deepnote_index_column": 40
        },
        {
         "ObservationDate": "2020-02-11T12:00:00.000000",
         "Confirmed": 45012.5,
         "Deaths": 1115.5,
         "Recovered": 4916.5,
         "rate": 0.9752179950013885,
         "_deepnote_index_column": 41
        },
        {
         "ObservationDate": "2020-02-12T00:00:00.000000",
         "Confirmed": 45222,
         "Deaths": 1118,
         "Recovered": 5150,
         "rate": 0.975277519791252,
         "_deepnote_index_column": 42
        },
        {
         "ObservationDate": "2020-02-12T12:00:00.000000",
         "Confirmed": 52796,
         "Deaths": 1244.5,
         "Recovered": 5722.5,
         "rate": 0.9764281384953406,
         "_deepnote_index_column": 43
        },
        {
         "ObservationDate": "2020-02-13T00:00:00.000000",
         "Confirmed": 60370,
         "Deaths": 1371,
         "Recovered": 6295,
         "rate": 0.9772900447242008,
         "_deepnote_index_column": 44
        },
        {
         "ObservationDate": "2020-02-13T12:00:00.000000",
         "Confirmed": 63628.5,
         "Deaths": 1447,
         "Recovered": 7176.5,
         "rate": 0.9772586183864149,
         "_deepnote_index_column": 45
        },
        {
         "ObservationDate": "2020-02-14T00:00:00.000000",
         "Confirmed": 66887,
         "Deaths": 1523,
         "Recovered": 8058,
         "rate": 0.9772302540104953,
         "_deepnote_index_column": 46
        },
        {
         "ObservationDate": "2020-02-14T12:00:00.000000",
         "Confirmed": 67959.5,
         "Deaths": 1594.5,
         "Recovered": 8726.5,
         "rate": 0.9765374965972381,
         "_deepnote_index_column": 47
        },
        {
         "ObservationDate": "2020-02-15T00:00:00.000000",
         "Confirmed": 69032,
         "Deaths": 1666,
         "Recovered": 9395,
         "rate": 0.9758662649206166,
         "_deepnote_index_column": 48
        },
        {
         "ObservationDate": "2020-02-15T12:00:00.000000",
         "Confirmed": 70129,
         "Deaths": 1718,
         "Recovered": 10130,
         "rate": 0.9755022886395072,
         "_deepnote_index_column": 49
        },
        {
         "ObservationDate": "2020-02-16T00:00:00.000000",
         "Confirmed": 71226,
         "Deaths": 1770,
         "Recovered": 10865,
         "rate": 0.9751495240502064,
         "_deepnote_index_column": 50
        },
        {
         "ObservationDate": "2020-02-16T12:00:00.000000",
         "Confirmed": 72243,
         "Deaths": 1819,
         "Recovered": 11724,
         "rate": 0.9748210899325886,
         "_deepnote_index_column": 51
        },
        {
         "ObservationDate": "2020-02-17T00:00:00.000000",
         "Confirmed": 73260,
         "Deaths": 1868,
         "Recovered": 12583,
         "rate": 0.9745017745017746,
         "_deepnote_index_column": 52
        },
        {
         "ObservationDate": "2020-02-17T12:00:00.000000",
         "Confirmed": 74199,
         "Deaths": 1937.5,
         "Recovered": 13467.5,
         "rate": 0.9738877882451246,
         "_deepnote_index_column": 53
        },
        {
         "ObservationDate": "2020-02-18T00:00:00.000000",
         "Confirmed": 75138,
         "Deaths": 2007,
         "Recovered": 14352,
         "rate": 0.9732891479677394,
         "_deepnote_index_column": 54
        },
        {
         "ObservationDate": "2020-02-18T12:00:00.000000",
         "Confirmed": 75389.5,
         "Deaths": 2064.5,
         "Recovered": 15236.5,
         "rate": 0.9726155499107966,
         "_deepnote_index_column": 55
        },
        {
         "ObservationDate": "2020-02-19T00:00:00.000000",
         "Confirmed": 75641,
         "Deaths": 2122,
         "Recovered": 16121,
         "rate": 0.9719464311682817,
         "_deepnote_index_column": 56
        },
        {
         "ObservationDate": "2020-02-19T12:00:00.000000",
         "Confirmed": 75920,
         "Deaths": 2184.5,
         "Recovered": 17149,
         "rate": 0.9712262908324553,
         "_deepnote_index_column": 57
        },
        {
         "ObservationDate": "2020-02-20T00:00:00.000000",
         "Confirmed": 76199,
         "Deaths": 2247,
         "Recovered": 18177,
         "rate": 0.9705114240344361,
         "_deepnote_index_column": 58
        },
        {
         "ObservationDate": "2020-02-20T12:00:00.000000",
         "Confirmed": 76521,
         "Deaths": 2249,
         "Recovered": 18533.5,
         "rate": 0.9706093752041923,
         "_deepnote_index_column": 59
        },
        {
         "ObservationDate": "2020-02-21T00:00:00.000000",
         "Confirmed": 76843,
         "Deaths": 2251,
         "Recovered": 18890,
         "rate": 0.9707065054721966,
         "_deepnote_index_column": 60
        },
        {
         "ObservationDate": "2020-02-21T12:00:00.000000",
         "Confirmed": 77721,
         "Deaths": 2354.5,
         "Recovered": 20888,
         "rate": 0.9697057423347615,
         "_deepnote_index_column": 61
        },
        {
         "ObservationDate": "2020-02-22T00:00:00.000000",
         "Confirmed": 78599,
         "Deaths": 2458,
         "Recovered": 22886,
         "rate": 0.9687273374979325,
         "_deepnote_index_column": 62
        },
        {
         "ObservationDate": "2020-02-22T12:00:00.000000",
         "Confirmed": 78792,
         "Deaths": 2463.5,
         "Recovered": 23140,
         "rate": 0.9687341354452229,
         "_deepnote_index_column": 63
        },
        {
         "ObservationDate": "2020-02-23T00:00:00.000000",
         "Confirmed": 78985,
         "Deaths": 2469,
         "Recovered": 23394,
         "rate": 0.9687409001709185,
         "_deepnote_index_column": 64
        },
        {
         "ObservationDate": "2020-02-23T12:00:00.000000",
         "Confirmed": 79277.5,
         "Deaths": 2549,
         "Recovered": 24310.5,
         "rate": 0.9678471192961433,
         "_deepnote_index_column": 65
        },
        {
         "ObservationDate": "2020-02-24T00:00:00.000000",
         "Confirmed": 79570,
         "Deaths": 2629,
         "Recovered": 25227,
         "rate": 0.9669599095136358,
         "_deepnote_index_column": 66
        },
        {
         "ObservationDate": "2020-02-24T12:00:00.000000",
         "Confirmed": 79992.5,
         "Deaths": 2668.5,
         "Recovered": 26566,
         "rate": 0.9666406225583648,
         "_deepnote_index_column": 67
        },
        {
         "ObservationDate": "2020-02-25T00:00:00.000000",
         "Confirmed": 80415,
         "Deaths": 2708,
         "Recovered": 27905,
         "rate": 0.9663246906671641,
         "_deepnote_index_column": 68
        },
        {
         "ObservationDate": "2020-02-25T12:00:00.000000",
         "Confirmed": 80906,
         "Deaths": 2739,
         "Recovered": 29144.5,
         "rate": 0.9661458977084518,
         "_deepnote_index_column": 69
        },
        {
         "ObservationDate": "2020-02-26T00:00:00.000000",
         "Confirmed": 81397,
         "Deaths": 2770,
         "Recovered": 30384,
         "rate": 0.9659692617664042,
         "_deepnote_index_column": 70
        },
        {
         "ObservationDate": "2020-02-26T12:00:00.000000",
         "Confirmed": 82076.5,
         "Deaths": 2792,
         "Recovered": 31830.5,
         "rate": 0.9659829549261969,
         "_deepnote_index_column": 71
        },
        {
         "ObservationDate": "2020-02-27T00:00:00.000000",
         "Confirmed": 82756,
         "Deaths": 2814,
         "Recovered": 33277,
         "rate": 0.9659964232200686,
         "_deepnote_index_column": 72
        },
        {
         "ObservationDate": "2020-02-27T12:00:00.000000",
         "Confirmed": 83440,
         "Deaths": 2843,
         "Recovered": 34994,
         "rate": 0.9659276126558006,
         "_deepnote_index_column": 73
        },
        {
         "ObservationDate": "2020-02-28T00:00:00.000000",
         "Confirmed": 84124,
         "Deaths": 2872,
         "Recovered": 36711,
         "rate": 0.9658599210688983,
         "_deepnote_index_column": 74
        },
        {
         "ObservationDate": "2020-02-28T12:00:00.000000",
         "Confirmed": 85068.5,
         "Deaths": 2906.5,
         "Recovered": 38246.5,
         "rate": 0.9658334165995639,
         "_deepnote_index_column": 75
        },
        {
         "ObservationDate": "2020-02-29T00:00:00.000000",
         "Confirmed": 86013,
         "Deaths": 2941,
         "Recovered": 39782,
         "rate": 0.9658074942159907,
         "_deepnote_index_column": 76
        },
        {
         "ObservationDate": "2020-02-29T12:00:00.000000",
         "Confirmed": 87192,
         "Deaths": 2968.5,
         "Recovered": 41249,
         "rate": 0.9659544453619598,
         "_deepnote_index_column": 77
        },
        {
         "ObservationDate": "2020-03-01T00:00:00.000000",
         "Confirmed": 88371,
         "Deaths": 2996,
         "Recovered": 42716,
         "rate": 0.9660974754161433,
         "_deepnote_index_column": 78
        },
        {
         "ObservationDate": "2020-03-01T12:00:00.000000",
         "Confirmed": 89340,
         "Deaths": 3040.5,
         "Recovered": 44159,
         "rate": 0.9659670920080591,
         "_deepnote_index_column": 79
        },
        {
         "ObservationDate": "2020-03-02T00:00:00.000000",
         "Confirmed": 90309,
         "Deaths": 3085,
         "Recovered": 45602,
         "rate": 0.965839506582954,
         "_deepnote_index_column": 80
        },
        {
         "ObservationDate": "2020-03-02T12:00:00.000000",
         "Confirmed": 91576.5,
         "Deaths": 3122.5,
         "Recovered": 46915.5,
         "rate": 0.9659028244145605,
         "_deepnote_index_column": 81
        },
        {
         "ObservationDate": "2020-03-03T00:00:00.000000",
         "Confirmed": 92844,
         "Deaths": 3160,
         "Recovered": 48229,
         "rate": 0.9659644134246693,
         "_deepnote_index_column": 82
        },
        {
         "ObservationDate": "2020-03-03T12:00:00.000000",
         "Confirmed": 93984,
         "Deaths": 3207,
         "Recovered": 49700,
         "rate": 0.9658771705822268,
         "_deepnote_index_column": 83
        },
        {
         "ObservationDate": "2020-03-04T00:00:00.000000",
         "Confirmed": 95124,
         "Deaths": 3254,
         "Recovered": 51171,
         "rate": 0.9657920188385686,
         "_deepnote_index_column": 84
        }
       ],
       "rows_bottom": null
      },
      "text/plain": "       ObservationDate  Confirmed  Deaths  Recovered      rate\n0  2020-01-22 00:00:00      555.0    17.0       28.0  0.969369\n1  2020-01-22 12:00:00      604.0    17.5       29.0  0.971026\n2  2020-01-23 00:00:00      653.0    18.0       30.0  0.972435\n3  2020-01-23 12:00:00      797.0    22.0       33.0  0.972396\n4  2020-01-24 00:00:00      941.0    26.0       36.0  0.972370\n..                 ...        ...     ...        ...       ...\n80 2020-03-02 00:00:00    90309.0  3085.0    45602.0  0.965840\n81 2020-03-02 12:00:00    91576.5  3122.5    46915.5  0.965903\n82 2020-03-03 00:00:00    92844.0  3160.0    48229.0  0.965964\n83 2020-03-03 12:00:00    93984.0  3207.0    49700.0  0.965877\n84 2020-03-04 00:00:00    95124.0  3254.0    51171.0  0.965792\n\n[85 rows x 5 columns]",
      "text/html": "<div>\n<style scoped>\n    .dataframe tbody tr th:only-of-type {\n        vertical-align: middle;\n    }\n\n    .dataframe tbody tr th {\n        vertical-align: top;\n    }\n\n    .dataframe thead th {\n        text-align: right;\n    }\n</style>\n<table border=\"1\" class=\"dataframe\">\n  <thead>\n    <tr style=\"text-align: right;\">\n      <th></th>\n      <th>ObservationDate</th>\n      <th>Confirmed</th>\n      <th>Deaths</th>\n      <th>Recovered</th>\n      <th>rate</th>\n    </tr>\n  </thead>\n  <tbody>\n    <tr>\n      <th>0</th>\n      <td>2020-01-22 00:00:00</td>\n      <td>555.0</td>\n      <td>17.0</td>\n      <td>28.0</td>\n      <td>0.969369</td>\n    </tr>\n    <tr>\n      <th>1</th>\n      <td>2020-01-22 12:00:00</td>\n      <td>604.0</td>\n      <td>17.5</td>\n      <td>29.0</td>\n      <td>0.971026</td>\n    </tr>\n    <tr>\n      <th>2</th>\n      <td>2020-01-23 00:00:00</td>\n      <td>653.0</td>\n      <td>18.0</td>\n      <td>30.0</td>\n      <td>0.972435</td>\n    </tr>\n    <tr>\n      <th>3</th>\n      <td>2020-01-23 12:00:00</td>\n      <td>797.0</td>\n      <td>22.0</td>\n      <td>33.0</td>\n      <td>0.972396</td>\n    </tr>\n    <tr>\n      <th>4</th>\n      <td>2020-01-24 00:00:00</td>\n      <td>941.0</td>\n      <td>26.0</td>\n      <td>36.0</td>\n      <td>0.972370</td>\n    </tr>\n    <tr>\n      <th>...</th>\n      <td>...</td>\n      <td>...</td>\n      <td>...</td>\n      <td>...</td>\n      <td>...</td>\n    </tr>\n    <tr>\n      <th>80</th>\n      <td>2020-03-02 00:00:00</td>\n      <td>90309.0</td>\n      <td>3085.0</td>\n      <td>45602.0</td>\n      <td>0.965840</td>\n    </tr>\n    <tr>\n      <th>81</th>\n      <td>2020-03-02 12:00:00</td>\n      <td>91576.5</td>\n      <td>3122.5</td>\n      <td>46915.5</td>\n      <td>0.965903</td>\n    </tr>\n    <tr>\n      <th>82</th>\n      <td>2020-03-03 00:00:00</td>\n      <td>92844.0</td>\n      <td>3160.0</td>\n      <td>48229.0</td>\n      <td>0.965964</td>\n    </tr>\n    <tr>\n      <th>83</th>\n      <td>2020-03-03 12:00:00</td>\n      <td>93984.0</td>\n      <td>3207.0</td>\n      <td>49700.0</td>\n      <td>0.965877</td>\n    </tr>\n    <tr>\n      <th>84</th>\n      <td>2020-03-04 00:00:00</td>\n      <td>95124.0</td>\n      <td>3254.0</td>\n      <td>51171.0</td>\n      <td>0.965792</td>\n    </tr>\n  </tbody>\n</table>\n<p>85 rows × 5 columns</p>\n</div>"
     },
     "metadata": {}
    }
   ],
   "execution_count": 47
  },
  {
   "cell_type": "markdown",
   "source": "## Groupby especializado para series de tiempo",
   "metadata": {
    "tags": [],
    "cell_id": "00027-ef67b2df-c6d9-4b28-ad7f-0026e702e912",
    "deepnote_cell_type": "markdown"
   }
  },
  {
   "cell_type": "code",
   "source": "df_cum.groupby(pd.Grouper(key='ObservationDate', freq='M'))[['rate']].mean()",
   "metadata": {
    "tags": [],
    "cell_id": "00027-ba96d392-b6a1-45ad-91e4-a54373e8b65e",
    "deepnote_to_be_reexecuted": false,
    "source_hash": "16730a2f",
    "execution_start": 1625411276662,
    "execution_millis": 17,
    "deepnote_cell_type": "code"
   },
   "outputs": [
    {
     "output_type": "execute_result",
     "execution_count": 48,
     "data": {
      "application/vnd.deepnote.dataframe.v2+json": {
       "row_count": 3,
       "column_count": 1,
       "columns": [
        {
         "name": "rate",
         "dtype": "float64",
         "stats": {
          "unique_count": 3,
          "nan_count": 0,
          "min": "0.9659200716095973",
          "max": "0.9745940611183868",
          "histogram": [
           {
            "bin_start": 0.9659200716095973,
            "bin_end": 0.9667874705604762,
            "count": 1
           },
           {
            "bin_start": 0.9667874705604762,
            "bin_end": 0.9676548695113552,
            "count": 0
           },
           {
            "bin_start": 0.9676548695113552,
            "bin_end": 0.9685222684622341,
            "count": 0
           },
           {
            "bin_start": 0.9685222684622341,
            "bin_end": 0.969389667413113,
            "count": 0
           },
           {
            "bin_start": 0.969389667413113,
            "bin_end": 0.970257066363992,
            "count": 0
           },
           {
            "bin_start": 0.970257066363992,
            "bin_end": 0.971124465314871,
            "count": 0
           },
           {
            "bin_start": 0.971124465314871,
            "bin_end": 0.9719918642657499,
            "count": 0
           },
           {
            "bin_start": 0.9719918642657499,
            "bin_end": 0.9728592632166289,
            "count": 0
           },
           {
            "bin_start": 0.9728592632166289,
            "bin_end": 0.9737266621675078,
            "count": 1
           },
           {
            "bin_start": 0.9737266621675078,
            "bin_end": 0.9745940611183868,
            "count": 1
           }
          ]
         }
        },
        {
         "name": "_deepnote_index_column",
         "dtype": "datetime64[ns]"
        }
       ],
       "rows_top": [
        {
         "rate": 0.9745940611183868,
         "_deepnote_index_column": "2020-01-31T00:00:00.000000"
        },
        {
         "rate": 0.9735619071451979,
         "_deepnote_index_column": "2020-02-29T00:00:00.000000"
        },
        {
         "rate": 0.9659200716095973,
         "_deepnote_index_column": "2020-03-31T00:00:00.000000"
        }
       ],
       "rows_bottom": null
      },
      "text/plain": "                     rate\nObservationDate          \n2020-01-31       0.974594\n2020-02-29       0.973562\n2020-03-31       0.965920",
      "text/html": "<div>\n<style scoped>\n    .dataframe tbody tr th:only-of-type {\n        vertical-align: middle;\n    }\n\n    .dataframe tbody tr th {\n        vertical-align: top;\n    }\n\n    .dataframe thead th {\n        text-align: right;\n    }\n</style>\n<table border=\"1\" class=\"dataframe\">\n  <thead>\n    <tr style=\"text-align: right;\">\n      <th></th>\n      <th>rate</th>\n    </tr>\n    <tr>\n      <th>ObservationDate</th>\n      <th></th>\n    </tr>\n  </thead>\n  <tbody>\n    <tr>\n      <th>2020-01-31</th>\n      <td>0.974594</td>\n    </tr>\n    <tr>\n      <th>2020-02-29</th>\n      <td>0.973562</td>\n    </tr>\n    <tr>\n      <th>2020-03-31</th>\n      <td>0.965920</td>\n    </tr>\n  </tbody>\n</table>\n</div>"
     },
     "metadata": {}
    }
   ],
   "execution_count": 48
  },
  {
   "cell_type": "code",
   "source": "sr = df_cum.groupby(pd.Grouper(key='ObservationDate', freq = '1D'))['rate'].mean()\nsr.plot()",
   "metadata": {
    "tags": [],
    "cell_id": "00029-b5ca1f05-b435-4c3c-a0b5-e829f9d86281",
    "deepnote_to_be_reexecuted": false,
    "source_hash": "3aff0f65",
    "execution_start": 1625411399547,
    "execution_millis": 252,
    "deepnote_cell_type": "code"
   },
   "outputs": [
    {
     "output_type": "execute_result",
     "execution_count": 55,
     "data": {
      "text/plain": "<AxesSubplot:xlabel='ObservationDate'>"
     },
     "metadata": {}
    },
    {
     "data": {
      "text/plain": "<Figure size 432x288 with 1 Axes>",
      "image/png": "[encoded data removed]"
     },
     "metadata": {
      "needs_background": "light",
      "image/png": {
       "width": 384,
       "height": 298
      }
     },
     "output_type": "display_data"
    }
   ],
   "execution_count": 55
  },
  {
   "cell_type": "code",
   "source": "sr.plot()\nsr.rolling(window=7).mean().plot()\nsr.rolling(window=14).mean().plot()",
   "metadata": {
    "tags": [],
    "cell_id": "00030-5512bcc5-3930-49cc-adfa-5d0078a2d43d",
    "deepnote_to_be_reexecuted": false,
    "source_hash": "e1bcc61b",
    "execution_start": 1625411405574,
    "execution_millis": 297,
    "deepnote_cell_type": "code"
   },
   "outputs": [
    {
     "output_type": "execute_result",
     "execution_count": 56,
     "data": {
      "text/plain": "<AxesSubplot:xlabel='ObservationDate'>"
     },
     "metadata": {}
    },
    {
     "data": {
      "text/plain": "<Figure size 432x288 with 1 Axes>",
      "image/png": "[encoded data removed]"
     },
     "metadata": {
      "needs_background": "light",
      "image/png": {
       "width": 384,
       "height": 298
      }
     },
     "output_type": "display_data"
    }
   ],
   "execution_count": 56
  },
  {
   "cell_type": "code",
   "source": "sr.rolling(window=14).std().plot()",
   "metadata": {
    "tags": [],
    "cell_id": "00031-bcfa91a1-5de9-4068-8c87-1ef71adc6be1",
    "deepnote_to_be_reexecuted": false,
    "source_hash": "52f8076a",
    "execution_start": 1625411493084,
    "execution_millis": 251,
    "deepnote_cell_type": "code"
   },
   "outputs": [
    {
     "output_type": "execute_result",
     "execution_count": 61,
     "data": {
      "text/plain": "<AxesSubplot:xlabel='ObservationDate'>"
     },
     "metadata": {}
    },
    {
     "data": {
      "text/plain": "<Figure size 432x288 with 1 Axes>",
      "image/png": "[encoded data removed]"
     },
     "metadata": {
      "needs_background": "light",
      "image/png": {
       "width": 390,
       "height": 297
      }
     },
     "output_type": "display_data"
    }
   ],
   "execution_count": 61
  },
  {
   "cell_type": "markdown",
   "source": "<a style='text-decoration:none;line-height:16px;display:flex;color:#5B5B62;padding:10px;justify-content:end;' href='https://deepnote.com?utm_source=created-in-deepnote-cell&projectId=40d7a071-7e6a-4668-9914-a7e81441c111' target=\"_blank\">\n<img alt='Created in deepnote.com' style='display:inline;max-height:16px;margin:0px;margin-right:7.5px;' src='data:image/svg+xml;base64,PD94bWwgdmVyc2lvbj0iMS4wIiBlbmNvZGluZz0iVVRGLTgiPz4KPHN2ZyB3aWR0aD0iODBweCIgaGVpZ2h0PSI4MHB4IiB2aWV3Qm94PSIwIDAgODAgODAiIHZlcnNpb249IjEuMSIgeG1sbnM9Imh0dHA6Ly93d3cudzMub3JnLzIwMDAvc3ZnIiB4bWxuczp4bGluaz0iaHR0cDovL3d3dy53My5vcmcvMTk5OS94bGluayI+CiAgICA8IS0tIEdlbmVyYXRvcjogU2tldGNoIDU0LjEgKDc2NDkwKSAtIGh0dHBzOi8vc2tldGNoYXBwLmNvbSAtLT4KICAgIDx0aXRsZT5Hcm91cCAzPC90aXRsZT4KICAgIDxkZXNjPkNyZWF0ZWQgd2l0aCBTa2V0Y2guPC9kZXNjPgogICAgPGcgaWQ9IkxhbmRpbmciIHN0cm9rZT0ibm9uZSIgc3Ryb2tlLXdpZHRoPSIxIiBmaWxsPSJub25lIiBmaWxsLXJ1bGU9ImV2ZW5vZGQiPgogICAgICAgIDxnIGlkPSJBcnRib2FyZCIgdHJhbnNmb3JtPSJ0cmFuc2xhdGUoLTEyMzUuMDAwMDAwLCAtNzkuMDAwMDAwKSI+CiAgICAgICAgICAgIDxnIGlkPSJHcm91cC0zIiB0cmFuc2Zvcm09InRyYW5zbGF0ZSgxMjM1LjAwMDAwMCwgNzkuMDAwMDAwKSI+CiAgICAgICAgICAgICAgICA8cG9seWdvbiBpZD0iUGF0aC0yMCIgZmlsbD0iIzAyNjVCNCIgcG9pbnRzPSIyLjM3NjIzNzYyIDgwIDM4LjA0NzY2NjcgODAgNTcuODIxNzgyMiA3My44MDU3NTkyIDU3LjgyMTc4MjIgMzIuNzU5MjczOSAzOS4xNDAyMjc4IDMxLjY4MzE2ODMiPjwvcG9seWdvbj4KICAgICAgICAgICAgICAgIDxwYXRoIGQ9Ik0zNS4wMDc3MTgsODAgQzQyLjkwNjIwMDcsNzYuNDU0OTM1OCA0Ny41NjQ5MTY3LDcxLjU0MjI2NzEgNDguOTgzODY2LDY1LjI2MTk5MzkgQzUxLjExMjI4OTksNTUuODQxNTg0MiA0MS42NzcxNzk1LDQ5LjIxMjIyODQgMjUuNjIzOTg0Niw0OS4yMTIyMjg0IEMyNS40ODQ5Mjg5LDQ5LjEyNjg0NDggMjkuODI2MTI5Niw0My4yODM4MjQ4IDM4LjY0NzU4NjksMzEuNjgzMTY4MyBMNzIuODcxMjg3MSwzMi41NTQ0MjUgTDY1LjI4MDk3Myw2Ny42NzYzNDIxIEw1MS4xMTIyODk5LDc3LjM3NjE0NCBMMzUuMDA3NzE4LDgwIFoiIGlkPSJQYXRoLTIyIiBmaWxsPSIjMDAyODY4Ij48L3BhdGg+CiAgICAgICAgICAgICAgICA8cGF0aCBkPSJNMCwzNy43MzA0NDA1IEwyNy4xMTQ1MzcsMC4yNTcxMTE0MzYgQzYyLjM3MTUxMjMsLTEuOTkwNzE3MDEgODAsMTAuNTAwMzkyNyA4MCwzNy43MzA0NDA1IEM4MCw2NC45NjA0ODgyIDY0Ljc3NjUwMzgsNzkuMDUwMzQxNCAzNC4zMjk1MTEzLDgwIEM0Ny4wNTUzNDg5LDc3LjU2NzA4MDggNTMuNDE4MjY3Nyw3MC4zMTM2MTAzIDUzLjQxODI2NzcsNTguMjM5NTg4NSBDNTMuNDE4MjY3Nyw0MC4xMjg1NTU3IDM2LjMwMzk1NDQsMzcuNzMwNDQwNSAyNS4yMjc0MTcsMzcuNzMwNDQwNSBDMTcuODQzMDU4NiwzNy43MzA0NDA1IDkuNDMzOTE5NjYsMzcuNzMwNDQwNSAwLDM3LjczMDQ0MDUgWiIgaWQ9IlBhdGgtMTkiIGZpbGw9IiMzNzkzRUYiPjwvcGF0aD4KICAgICAgICAgICAgPC9nPgogICAgICAgIDwvZz4KICAgIDwvZz4KPC9zdmc+' > </img>\nCreated in <span style='font-weight:600;margin-left:4px;'>Deepnote</span></a>",
   "metadata": {
    "tags": [],
    "created_in_deepnote_cell": true,
    "deepnote_cell_type": "markdown"
   }
  }
 ],
 "nbformat": 4,
 "nbformat_minor": 2,
 "metadata": {
  "orig_nbformat": 2,
  "deepnote": {
   "is_reactive": false
  },
  "deepnote_notebook_id": "62d9220a-636c-47a3-afc5-69fdde9c9a10",
  "deepnote_execution_queue": []
 }
}