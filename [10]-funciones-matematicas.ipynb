{
 "cells": [
  {
   "cell_type": "markdown",
   "source": "# Funciones matematicas de pandas\n```\n+    add()\n-    sub(), subtract()\n*    mul(), multiply()\n/    truediv(), div(), divide()\n//   floordiv()\n%    mod()\n**   pow()\n```\n",
   "metadata": {
    "tags": [],
    "cell_id": "00012-4c9f3351-297f-45f4-a6e3-0cc34b6f1049",
    "deepnote_cell_type": "markdown"
   }
  },
  {
   "cell_type": "code",
   "source": "import pandas as pd\nimport numpy as np\n\ndf_lmerged = pd.read_csv('db/london_merged.csv')\ndf_lmerged.head(5)",
   "metadata": {
    "tags": [],
    "cell_id": "00000-69e42ef1-83a9-4255-a553-d5b45e6a36ce",
    "deepnote_to_be_reexecuted": false,
    "source_hash": "35ec50cd",
    "execution_start": 1624931901377,
    "execution_millis": 79,
    "deepnote_cell_type": "code"
   },
   "outputs": [
    {
     "output_type": "execute_result",
     "execution_count": 12,
     "data": {
      "application/vnd.deepnote.dataframe.v2+json": {
       "row_count": 5,
       "column_count": 10,
       "columns": [
        {
         "name": "timestamp",
         "dtype": "object",
         "stats": {
          "unique_count": 5,
          "nan_count": 0,
          "categories": [
           {
            "name": "2015-01-04 00:00:00",
            "count": 1
           },
           {
            "name": "2015-01-04 01:00:00",
            "count": 1
           },
           {
            "name": "3 others",
            "count": 3
           }
          ]
         }
        },
        {
         "name": "cnt",
         "dtype": "int64",
         "stats": {
          "unique_count": 5,
          "nan_count": 0,
          "min": "47",
          "max": "182",
          "histogram": [
           {
            "bin_start": 47,
            "bin_end": 60.5,
            "count": 1
           },
           {
            "bin_start": 60.5,
            "bin_end": 74,
            "count": 1
           },
           {
            "bin_start": 74,
            "bin_end": 87.5,
            "count": 0
           },
           {
            "bin_start": 87.5,
            "bin_end": 101,
            "count": 0
           },
           {
            "bin_start": 101,
            "bin_end": 114.5,
            "count": 0
           },
           {
            "bin_start": 114.5,
            "bin_end": 128,
            "count": 0
           },
           {
            "bin_start": 128,
            "bin_end": 141.5,
            "count": 2
           },
           {
            "bin_start": 141.5,
            "bin_end": 155,
            "count": 0
           },
           {
            "bin_start": 155,
            "bin_end": 168.5,
            "count": 0
           },
           {
            "bin_start": 168.5,
            "bin_end": 182,
            "count": 1
           }
          ]
         }
        },
        {
         "name": "t1",
         "dtype": "float64",
         "stats": {
          "unique_count": 3,
          "nan_count": 0,
          "min": "2.0",
          "max": "3.0",
          "histogram": [
           {
            "bin_start": 2,
            "bin_end": 2.1,
            "count": 2
           },
           {
            "bin_start": 2.1,
            "bin_end": 2.2,
            "count": 0
           },
           {
            "bin_start": 2.2,
            "bin_end": 2.3,
            "count": 0
           },
           {
            "bin_start": 2.3,
            "bin_end": 2.4,
            "count": 0
           },
           {
            "bin_start": 2.4,
            "bin_end": 2.5,
            "count": 0
           },
           {
            "bin_start": 2.5,
            "bin_end": 2.6,
            "count": 1
           },
           {
            "bin_start": 2.6,
            "bin_end": 2.7,
            "count": 0
           },
           {
            "bin_start": 2.7,
            "bin_end": 2.8,
            "count": 0
           },
           {
            "bin_start": 2.8,
            "bin_end": 2.9,
            "count": 0
           },
           {
            "bin_start": 2.9,
            "bin_end": 3,
            "count": 2
           }
          ]
         }
        },
        {
         "name": "t2",
         "dtype": "float64",
         "stats": {
          "unique_count": 3,
          "nan_count": 0,
          "min": "0.0",
          "max": "2.5",
          "histogram": [
           {
            "bin_start": 0,
            "bin_end": 0.25,
            "count": 1
           },
           {
            "bin_start": 0.25,
            "bin_end": 0.5,
            "count": 0
           },
           {
            "bin_start": 0.5,
            "bin_end": 0.75,
            "count": 0
           },
           {
            "bin_start": 0.75,
            "bin_end": 1,
            "count": 0
           },
           {
            "bin_start": 1,
            "bin_end": 1.25,
            "count": 0
           },
           {
            "bin_start": 1.25,
            "bin_end": 1.5,
            "count": 0
           },
           {
            "bin_start": 1.5,
            "bin_end": 1.75,
            "count": 0
           },
           {
            "bin_start": 1.75,
            "bin_end": 2,
            "count": 0
           },
           {
            "bin_start": 2,
            "bin_end": 2.25,
            "count": 2
           },
           {
            "bin_start": 2.25,
            "bin_end": 2.5,
            "count": 2
           }
          ]
         }
        },
        {
         "name": "hum",
         "dtype": "float64",
         "stats": {
          "unique_count": 3,
          "nan_count": 0,
          "min": "93.0",
          "max": "100.0",
          "histogram": [
           {
            "bin_start": 93,
            "bin_end": 93.7,
            "count": 3
           },
           {
            "bin_start": 93.7,
            "bin_end": 94.4,
            "count": 0
           },
           {
            "bin_start": 94.4,
            "bin_end": 95.1,
            "count": 0
           },
           {
            "bin_start": 95.1,
            "bin_end": 95.8,
            "count": 0
           },
           {
            "bin_start": 95.8,
            "bin_end": 96.5,
            "count": 0
           },
           {
            "bin_start": 96.5,
            "bin_end": 97.2,
            "count": 1
           },
           {
            "bin_start": 97.2,
            "bin_end": 97.9,
            "count": 0
           },
           {
            "bin_start": 97.9,
            "bin_end": 98.6,
            "count": 0
           },
           {
            "bin_start": 98.6,
            "bin_end": 99.3,
            "count": 0
           },
           {
            "bin_start": 99.3,
            "bin_end": 100,
            "count": 1
           }
          ]
         }
        },
        {
         "name": "wind_speed",
         "dtype": "float64",
         "stats": {
          "unique_count": 4,
          "nan_count": 0,
          "min": "0.0",
          "max": "6.5",
          "histogram": [
           {
            "bin_start": 0,
            "bin_end": 0.65,
            "count": 2
           },
           {
            "bin_start": 0.65,
            "bin_end": 1.3,
            "count": 0
           },
           {
            "bin_start": 1.3,
            "bin_end": 1.9500000000000002,
            "count": 0
           },
           {
            "bin_start": 1.9500000000000002,
            "bin_end": 2.6,
            "count": 0
           },
           {
            "bin_start": 2.6,
            "bin_end": 3.25,
            "count": 0
           },
           {
            "bin_start": 3.25,
            "bin_end": 3.9000000000000004,
            "count": 0
           },
           {
            "bin_start": 3.9000000000000004,
            "bin_end": 4.55,
            "count": 0
           },
           {
            "bin_start": 4.55,
            "bin_end": 5.2,
            "count": 1
           },
           {
            "bin_start": 5.2,
            "bin_end": 5.8500000000000005,
            "count": 0
           },
           {
            "bin_start": 5.8500000000000005,
            "bin_end": 6.5,
            "count": 2
           }
          ]
         }
        },
        {
         "name": "weather_code",
         "dtype": "float64",
         "stats": {
          "unique_count": 2,
          "nan_count": 0,
          "min": "1.0",
          "max": "3.0",
          "histogram": [
           {
            "bin_start": 1,
            "bin_end": 1.2,
            "count": 4
           },
           {
            "bin_start": 1.2,
            "bin_end": 1.4,
            "count": 0
           },
           {
            "bin_start": 1.4,
            "bin_end": 1.6,
            "count": 0
           },
           {
            "bin_start": 1.6,
            "bin_end": 1.8,
            "count": 0
           },
           {
            "bin_start": 1.8,
            "bin_end": 2,
            "count": 0
           },
           {
            "bin_start": 2,
            "bin_end": 2.2,
            "count": 0
           },
           {
            "bin_start": 2.2,
            "bin_end": 2.4000000000000004,
            "count": 0
           },
           {
            "bin_start": 2.4000000000000004,
            "bin_end": 2.6,
            "count": 0
           },
           {
            "bin_start": 2.6,
            "bin_end": 2.8,
            "count": 0
           },
           {
            "bin_start": 2.8,
            "bin_end": 3,
            "count": 1
           }
          ]
         }
        },
        {
         "name": "is_holiday",
         "dtype": "float64",
         "stats": {
          "unique_count": 1,
          "nan_count": 0,
          "min": "0.0",
          "max": "0.0",
          "histogram": [
           {
            "bin_start": -0.5,
            "bin_end": -0.4,
            "count": 0
           },
           {
            "bin_start": -0.4,
            "bin_end": -0.3,
            "count": 0
           },
           {
            "bin_start": -0.3,
            "bin_end": -0.19999999999999996,
            "count": 0
           },
           {
            "bin_start": -0.19999999999999996,
            "bin_end": -0.09999999999999998,
            "count": 0
           },
           {
            "bin_start": -0.09999999999999998,
            "bin_end": 0,
            "count": 0
           },
           {
            "bin_start": 0,
            "bin_end": 0.10000000000000009,
            "count": 5
           },
           {
            "bin_start": 0.10000000000000009,
            "bin_end": 0.20000000000000007,
            "count": 0
           },
           {
            "bin_start": 0.20000000000000007,
            "bin_end": 0.30000000000000004,
            "count": 0
           },
           {
            "bin_start": 0.30000000000000004,
            "bin_end": 0.4,
            "count": 0
           },
           {
            "bin_start": 0.4,
            "bin_end": 0.5,
            "count": 0
           }
          ]
         }
        },
        {
         "name": "is_weekend",
         "dtype": "float64",
         "stats": {
          "unique_count": 1,
          "nan_count": 0,
          "min": "1.0",
          "max": "1.0",
          "histogram": [
           {
            "bin_start": 0.5,
            "bin_end": 0.6,
            "count": 0
           },
           {
            "bin_start": 0.6,
            "bin_end": 0.7,
            "count": 0
           },
           {
            "bin_start": 0.7,
            "bin_end": 0.8,
            "count": 0
           },
           {
            "bin_start": 0.8,
            "bin_end": 0.9,
            "count": 0
           },
           {
            "bin_start": 0.9,
            "bin_end": 1,
            "count": 0
           },
           {
            "bin_start": 1,
            "bin_end": 1.1,
            "count": 5
           },
           {
            "bin_start": 1.1,
            "bin_end": 1.2000000000000002,
            "count": 0
           },
           {
            "bin_start": 1.2000000000000002,
            "bin_end": 1.3,
            "count": 0
           },
           {
            "bin_start": 1.3,
            "bin_end": 1.4,
            "count": 0
           },
           {
            "bin_start": 1.4,
            "bin_end": 1.5,
            "count": 0
           }
          ]
         }
        },
        {
         "name": "season",
         "dtype": "float64",
         "stats": {
          "unique_count": 1,
          "nan_count": 0,
          "min": "3.0",
          "max": "3.0",
          "histogram": [
           {
            "bin_start": 2.5,
            "bin_end": 2.6,
            "count": 0
           },
           {
            "bin_start": 2.6,
            "bin_end": 2.7,
            "count": 0
           },
           {
            "bin_start": 2.7,
            "bin_end": 2.8,
            "count": 0
           },
           {
            "bin_start": 2.8,
            "bin_end": 2.9,
            "count": 0
           },
           {
            "bin_start": 2.9,
            "bin_end": 3,
            "count": 0
           },
           {
            "bin_start": 3,
            "bin_end": 3.1,
            "count": 5
           },
           {
            "bin_start": 3.1,
            "bin_end": 3.2,
            "count": 0
           },
           {
            "bin_start": 3.2,
            "bin_end": 3.3,
            "count": 0
           },
           {
            "bin_start": 3.3,
            "bin_end": 3.4,
            "count": 0
           },
           {
            "bin_start": 3.4,
            "bin_end": 3.5,
            "count": 0
           }
          ]
         }
        },
        {
         "name": "_deepnote_index_column",
         "dtype": "int64"
        }
       ],
       "rows_top": [
        {
         "timestamp": "2015-01-04 00:00:00",
         "cnt": 182,
         "t1": 3,
         "t2": 2,
         "hum": 93,
         "wind_speed": 6,
         "weather_code": 3,
         "is_holiday": 0,
         "is_weekend": 1,
         "season": 3,
         "_deepnote_index_column": 0
        },
        {
         "timestamp": "2015-01-04 01:00:00",
         "cnt": 138,
         "t1": 3,
         "t2": 2.5,
         "hum": 93,
         "wind_speed": 5,
         "weather_code": 1,
         "is_holiday": 0,
         "is_weekend": 1,
         "season": 3,
         "_deepnote_index_column": 1
        },
        {
         "timestamp": "2015-01-04 02:00:00",
         "cnt": 134,
         "t1": 2.5,
         "t2": 2.5,
         "hum": 96.5,
         "wind_speed": 0,
         "weather_code": 1,
         "is_holiday": 0,
         "is_weekend": 1,
         "season": 3,
         "_deepnote_index_column": 2
        },
        {
         "timestamp": "2015-01-04 03:00:00",
         "cnt": 72,
         "t1": 2,
         "t2": 2,
         "hum": 100,
         "wind_speed": 0,
         "weather_code": 1,
         "is_holiday": 0,
         "is_weekend": 1,
         "season": 3,
         "_deepnote_index_column": 3
        },
        {
         "timestamp": "2015-01-04 04:00:00",
         "cnt": 47,
         "t1": 2,
         "t2": 0,
         "hum": 93,
         "wind_speed": 6.5,
         "weather_code": 1,
         "is_holiday": 0,
         "is_weekend": 1,
         "season": 3,
         "_deepnote_index_column": 4
        }
       ],
       "rows_bottom": null
      },
      "text/plain": "             timestamp  cnt   t1   t2    hum  wind_speed  weather_code  \\\n0  2015-01-04 00:00:00  182  3.0  2.0   93.0         6.0           3.0   \n1  2015-01-04 01:00:00  138  3.0  2.5   93.0         5.0           1.0   \n2  2015-01-04 02:00:00  134  2.5  2.5   96.5         0.0           1.0   \n3  2015-01-04 03:00:00   72  2.0  2.0  100.0         0.0           1.0   \n4  2015-01-04 04:00:00   47  2.0  0.0   93.0         6.5           1.0   \n\n   is_holiday  is_weekend  season  \n0         0.0         1.0     3.0  \n1         0.0         1.0     3.0  \n2         0.0         1.0     3.0  \n3         0.0         1.0     3.0  \n4         0.0         1.0     3.0  ",
      "text/html": "<div>\n<style scoped>\n    .dataframe tbody tr th:only-of-type {\n        vertical-align: middle;\n    }\n\n    .dataframe tbody tr th {\n        vertical-align: top;\n    }\n\n    .dataframe thead th {\n        text-align: right;\n    }\n</style>\n<table border=\"1\" class=\"dataframe\">\n  <thead>\n    <tr style=\"text-align: right;\">\n      <th></th>\n      <th>timestamp</th>\n      <th>cnt</th>\n      <th>t1</th>\n      <th>t2</th>\n      <th>hum</th>\n      <th>wind_speed</th>\n      <th>weather_code</th>\n      <th>is_holiday</th>\n      <th>is_weekend</th>\n      <th>season</th>\n    </tr>\n  </thead>\n  <tbody>\n    <tr>\n      <th>0</th>\n      <td>2015-01-04 00:00:00</td>\n      <td>182</td>\n      <td>3.0</td>\n      <td>2.0</td>\n      <td>93.0</td>\n      <td>6.0</td>\n      <td>3.0</td>\n      <td>0.0</td>\n      <td>1.0</td>\n      <td>3.0</td>\n    </tr>\n    <tr>\n      <th>1</th>\n      <td>2015-01-04 01:00:00</td>\n      <td>138</td>\n      <td>3.0</td>\n      <td>2.5</td>\n      <td>93.0</td>\n      <td>5.0</td>\n      <td>1.0</td>\n      <td>0.0</td>\n      <td>1.0</td>\n      <td>3.0</td>\n    </tr>\n    <tr>\n      <th>2</th>\n      <td>2015-01-04 02:00:00</td>\n      <td>134</td>\n      <td>2.5</td>\n      <td>2.5</td>\n      <td>96.5</td>\n      <td>0.0</td>\n      <td>1.0</td>\n      <td>0.0</td>\n      <td>1.0</td>\n      <td>3.0</td>\n    </tr>\n    <tr>\n      <th>3</th>\n      <td>2015-01-04 03:00:00</td>\n      <td>72</td>\n      <td>2.0</td>\n      <td>2.0</td>\n      <td>100.0</td>\n      <td>0.0</td>\n      <td>1.0</td>\n      <td>0.0</td>\n      <td>1.0</td>\n      <td>3.0</td>\n    </tr>\n    <tr>\n      <th>4</th>\n      <td>2015-01-04 04:00:00</td>\n      <td>47</td>\n      <td>2.0</td>\n      <td>0.0</td>\n      <td>93.0</td>\n      <td>6.5</td>\n      <td>1.0</td>\n      <td>0.0</td>\n      <td>1.0</td>\n      <td>3.0</td>\n    </tr>\n  </tbody>\n</table>\n</div>"
     },
     "metadata": {}
    }
   ],
   "execution_count": 12
  },
  {
   "cell_type": "code",
   "source": "df_lmerged.dtypes",
   "metadata": {
    "tags": [],
    "cell_id": "00001-940a719c-974a-4960-add3-428bc7e338f3",
    "deepnote_to_be_reexecuted": false,
    "source_hash": "660ef206",
    "execution_start": 1624931916343,
    "execution_millis": 7,
    "deepnote_cell_type": "code"
   },
   "outputs": [
    {
     "output_type": "execute_result",
     "execution_count": 21,
     "data": {
      "text/plain": "timestamp       datetime64[ns]\ncnt                      int64\nt1                     float64\nt2                     float64\nhum                    float64\nwind_speed             float64\nweather_code           float64\nis_holiday             float64\nis_weekend             float64\nseason                 float64\nhour                     int64\ndtype: object"
     },
     "metadata": {}
    }
   ],
   "execution_count": 21
  },
  {
   "cell_type": "code",
   "source": "#Convertir el tipo de dato en datetime\ndf_lmerged['timestamp'] = pd.to_datetime(df_lmerged['timestamp'])\ndf_lmerged['hour'] = df_lmerged['timestamp'].dt.hour\ndf_lmerged['hour'] ",
   "metadata": {
    "tags": [],
    "cell_id": "00002-98e2d03f-de86-4187-acc1-8ade2c107efd",
    "deepnote_to_be_reexecuted": false,
    "source_hash": "f05ec85f",
    "execution_start": 1624931912605,
    "execution_millis": 12,
    "deepnote_cell_type": "code"
   },
   "outputs": [
    {
     "output_type": "execute_result",
     "execution_count": 17,
     "data": {
      "text/plain": "0         0\n1         1\n2         2\n3         3\n4         4\n         ..\n17409    19\n17410    20\n17411    21\n17412    22\n17413    23\nName: hour, Length: 17414, dtype: int64"
     },
     "metadata": {}
    }
   ],
   "execution_count": 17
  },
  {
   "cell_type": "markdown",
   "source": "",
   "metadata": {
    "tags": [],
    "cell_id": "00003-1fe2105a-561a-42cd-9e29-202bb521b4e3",
    "deepnote_cell_type": "markdown"
   }
  },
  {
   "cell_type": "code",
   "source": "df = df_lmerged.iloc[:, 1:]\ndf",
   "metadata": {
    "tags": [],
    "cell_id": "00003-f7b8649b-2820-4f7a-9837-15987f0a09d1",
    "deepnote_to_be_reexecuted": false,
    "source_hash": "a68bce26",
    "execution_start": 1624932079589,
    "execution_millis": 107,
    "deepnote_cell_type": "code"
   },
   "outputs": [
    {
     "output_type": "execute_result",
     "execution_count": 26,
     "data": {
      "application/vnd.deepnote.dataframe.v2+json": {
       "row_count": 17414,
       "column_count": 10,
       "columns": [
        {
         "name": "cnt",
         "dtype": "int64",
         "stats": {
          "unique_count": 3781,
          "nan_count": 0,
          "min": "0",
          "max": "7860",
          "histogram": [
           {
            "bin_start": 0,
            "bin_end": 786,
            "count": 8274
           },
           {
            "bin_start": 786,
            "bin_end": 1572,
            "count": 4416
           },
           {
            "bin_start": 1572,
            "bin_end": 2358,
            "count": 2355
           },
           {
            "bin_start": 2358,
            "bin_end": 3144,
            "count": 1241
           },
           {
            "bin_start": 3144,
            "bin_end": 3930,
            "count": 561
           },
           {
            "bin_start": 3930,
            "bin_end": 4716,
            "count": 471
           },
           {
            "bin_start": 4716,
            "bin_end": 5502,
            "count": 88
           },
           {
            "bin_start": 5502,
            "bin_end": 6288,
            "count": 2
           },
           {
            "bin_start": 6288,
            "bin_end": 7074,
            "count": 3
           },
           {
            "bin_start": 7074,
            "bin_end": 7860,
            "count": 3
           }
          ]
         }
        },
        {
         "name": "t1",
         "dtype": "float64",
         "stats": {
          "unique_count": 73,
          "nan_count": 0,
          "min": "-1.5",
          "max": "34.0",
          "histogram": [
           {
            "bin_start": -1.5,
            "bin_end": 2.05,
            "count": 417
           },
           {
            "bin_start": 2.05,
            "bin_end": 5.6,
            "count": 1567
           },
           {
            "bin_start": 5.6,
            "bin_end": 9.149999999999999,
            "count": 3489
           },
           {
            "bin_start": 9.149999999999999,
            "bin_end": 12.7,
            "count": 3478
           },
           {
            "bin_start": 12.7,
            "bin_end": 16.25,
            "count": 4139
           },
           {
            "bin_start": 16.25,
            "bin_end": 19.799999999999997,
            "count": 2520
           },
           {
            "bin_start": 19.799999999999997,
            "bin_end": 23.349999999999998,
            "count": 1340
           },
           {
            "bin_start": 23.349999999999998,
            "bin_end": 26.9,
            "count": 359
           },
           {
            "bin_start": 26.9,
            "bin_end": 30.45,
            "count": 77
           },
           {
            "bin_start": 30.45,
            "bin_end": 34,
            "count": 28
           }
          ]
         }
        },
        {
         "name": "t2",
         "dtype": "float64",
         "stats": {
          "unique_count": 82,
          "nan_count": 0,
          "min": "-6.0",
          "max": "34.0",
          "histogram": [
           {
            "bin_start": -6,
            "bin_end": -2,
            "count": 103
           },
           {
            "bin_start": -2,
            "bin_end": 2,
            "count": 1235
           },
           {
            "bin_start": 2,
            "bin_end": 6,
            "count": 2825
           },
           {
            "bin_start": 6,
            "bin_end": 10,
            "count": 2454
           },
           {
            "bin_start": 10,
            "bin_end": 14,
            "count": 3619
           },
           {
            "bin_start": 14,
            "bin_end": 18,
            "count": 4000
           },
           {
            "bin_start": 18,
            "bin_end": 22,
            "count": 2358
           },
           {
            "bin_start": 22,
            "bin_end": 26,
            "count": 649
           },
           {
            "bin_start": 26,
            "bin_end": 30,
            "count": 138
           },
           {
            "bin_start": 30,
            "bin_end": 34,
            "count": 33
           }
          ]
         }
        },
        {
         "name": "hum",
         "dtype": "float64",
         "stats": {
          "unique_count": 143,
          "nan_count": 0,
          "min": "20.5",
          "max": "100.0",
          "histogram": [
           {
            "bin_start": 20.5,
            "bin_end": 28.45,
            "count": 25
           },
           {
            "bin_start": 28.45,
            "bin_end": 36.4,
            "count": 148
           },
           {
            "bin_start": 36.4,
            "bin_end": 44.35,
            "count": 582
           },
           {
            "bin_start": 44.35,
            "bin_end": 52.3,
            "count": 1154
           },
           {
            "bin_start": 52.3,
            "bin_end": 60.25,
            "count": 1721
           },
           {
            "bin_start": 60.25,
            "bin_end": 68.2,
            "count": 2492
           },
           {
            "bin_start": 68.2,
            "bin_end": 76.15,
            "count": 3423
           },
           {
            "bin_start": 76.15,
            "bin_end": 84.1,
            "count": 3963
           },
           {
            "bin_start": 84.1,
            "bin_end": 92.05,
            "count": 2910
           },
           {
            "bin_start": 92.05,
            "bin_end": 100,
            "count": 996
           }
          ]
         }
        },
        {
         "name": "wind_speed",
         "dtype": "float64",
         "stats": {
          "unique_count": 103,
          "nan_count": 0,
          "min": "0.0",
          "max": "56.5",
          "histogram": [
           {
            "bin_start": 0,
            "bin_end": 5.65,
            "count": 1100
           },
           {
            "bin_start": 5.65,
            "bin_end": 11.3,
            "count": 4559
           },
           {
            "bin_start": 11.3,
            "bin_end": 16.950000000000003,
            "count": 4198
           },
           {
            "bin_start": 16.950000000000003,
            "bin_end": 22.6,
            "count": 4285
           },
           {
            "bin_start": 22.6,
            "bin_end": 28.25,
            "count": 1985
           },
           {
            "bin_start": 28.25,
            "bin_end": 33.900000000000006,
            "count": 868
           },
           {
            "bin_start": 33.900000000000006,
            "bin_end": 39.550000000000004,
            "count": 300
           },
           {
            "bin_start": 39.550000000000004,
            "bin_end": 45.2,
            "count": 86
           },
           {
            "bin_start": 45.2,
            "bin_end": 50.85,
            "count": 27
           },
           {
            "bin_start": 50.85,
            "bin_end": 56.5,
            "count": 6
           }
          ]
         }
        },
        {
         "name": "weather_code",
         "dtype": "float64"
        },
        {
         "name": "is_holiday",
         "dtype": "float64"
        },
        {
         "name": "is_weekend",
         "dtype": "float64"
        },
        {
         "name": "season",
         "dtype": "float64"
        },
        {
         "name": "hour",
         "dtype": "int64"
        },
        {
         "name": "_deepnote_index_column",
         "dtype": "int64"
        }
       ],
       "rows_top": [
        {
         "cnt": 182,
         "t1": 3,
         "t2": 2,
         "hum": 93,
         "wind_speed": 6,
         "weather_code": 3,
         "is_holiday": 0,
         "is_weekend": 1,
         "season": 3,
         "hour": 0,
         "_deepnote_index_column": 0
        },
        {
         "cnt": 138,
         "t1": 3,
         "t2": 2.5,
         "hum": 93,
         "wind_speed": 5,
         "weather_code": 1,
         "is_holiday": 0,
         "is_weekend": 1,
         "season": 3,
         "hour": 1,
         "_deepnote_index_column": 1
        },
        {
         "cnt": 134,
         "t1": 2.5,
         "t2": 2.5,
         "hum": 96.5,
         "wind_speed": 0,
         "weather_code": 1,
         "is_holiday": 0,
         "is_weekend": 1,
         "season": 3,
         "hour": 2,
         "_deepnote_index_column": 2
        },
        {
         "cnt": 72,
         "t1": 2,
         "t2": 2,
         "hum": 100,
         "wind_speed": 0,
         "weather_code": 1,
         "is_holiday": 0,
         "is_weekend": 1,
         "season": 3,
         "hour": 3,
         "_deepnote_index_column": 3
        },
        {
         "cnt": 47,
         "t1": 2,
         "t2": 0,
         "hum": 93,
         "wind_speed": 6.5,
         "weather_code": 1,
         "is_holiday": 0,
         "is_weekend": 1,
         "season": 3,
         "hour": 4,
         "_deepnote_index_column": 4
        },
        {
         "cnt": 46,
         "t1": 2,
         "t2": 2,
         "hum": 93,
         "wind_speed": 4,
         "weather_code": 1,
         "is_holiday": 0,
         "is_weekend": 1,
         "season": 3,
         "hour": 5,
         "_deepnote_index_column": 5
        },
        {
         "cnt": 51,
         "t1": 1,
         "t2": -1,
         "hum": 100,
         "wind_speed": 7,
         "weather_code": 4,
         "is_holiday": 0,
         "is_weekend": 1,
         "season": 3,
         "hour": 6,
         "_deepnote_index_column": 6
        },
        {
         "cnt": 75,
         "t1": 1,
         "t2": -1,
         "hum": 100,
         "wind_speed": 7,
         "weather_code": 4,
         "is_holiday": 0,
         "is_weekend": 1,
         "season": 3,
         "hour": 7,
         "_deepnote_index_column": 7
        },
        {
         "cnt": 131,
         "t1": 1.5,
         "t2": -1,
         "hum": 96.5,
         "wind_speed": 8,
         "weather_code": 4,
         "is_holiday": 0,
         "is_weekend": 1,
         "season": 3,
         "hour": 8,
         "_deepnote_index_column": 8
        },
        {
         "cnt": 301,
         "t1": 2,
         "t2": -0.5,
         "hum": 100,
         "wind_speed": 9,
         "weather_code": 3,
         "is_holiday": 0,
         "is_weekend": 1,
         "season": 3,
         "hour": 9,
         "_deepnote_index_column": 9
        },
        {
         "cnt": 528,
         "t1": 3,
         "t2": -0.5,
         "hum": 93,
         "wind_speed": 12,
         "weather_code": 3,
         "is_holiday": 0,
         "is_weekend": 1,
         "season": 3,
         "hour": 10,
         "_deepnote_index_column": 10
        },
        {
         "cnt": 727,
         "t1": 2,
         "t2": -1.5,
         "hum": 100,
         "wind_speed": 12,
         "weather_code": 3,
         "is_holiday": 0,
         "is_weekend": 1,
         "season": 3,
         "hour": 11,
         "_deepnote_index_column": 11
        },
        {
         "cnt": 862,
         "t1": 2,
         "t2": -1.5,
         "hum": 96.5,
         "wind_speed": 13,
         "weather_code": 4,
         "is_holiday": 0,
         "is_weekend": 1,
         "season": 3,
         "hour": 12,
         "_deepnote_index_column": 12
        },
        {
         "cnt": 916,
         "t1": 3,
         "t2": -0.5,
         "hum": 87,
         "wind_speed": 15,
         "weather_code": 3,
         "is_holiday": 0,
         "is_weekend": 1,
         "season": 3,
         "hour": 13,
         "_deepnote_index_column": 13
        },
        {
         "cnt": 1039,
         "t1": 2.5,
         "t2": 0,
         "hum": 90,
         "wind_speed": 8,
         "weather_code": 3,
         "is_holiday": 0,
         "is_weekend": 1,
         "season": 3,
         "hour": 14,
         "_deepnote_index_column": 14
        },
        {
         "cnt": 869,
         "t1": 2,
         "t2": -1.5,
         "hum": 93,
         "wind_speed": 11,
         "weather_code": 3,
         "is_holiday": 0,
         "is_weekend": 1,
         "season": 3,
         "hour": 15,
         "_deepnote_index_column": 15
        },
        {
         "cnt": 737,
         "t1": 3,
         "t2": 0,
         "hum": 93,
         "wind_speed": 12,
         "weather_code": 3,
         "is_holiday": 0,
         "is_weekend": 1,
         "season": 3,
         "hour": 16,
         "_deepnote_index_column": 16
        },
        {
         "cnt": 594,
         "t1": 3,
         "t2": 0,
         "hum": 93,
         "wind_speed": 11,
         "weather_code": 3,
         "is_holiday": 0,
         "is_weekend": 1,
         "season": 3,
         "hour": 17,
         "_deepnote_index_column": 17
        },
        {
         "cnt": 522,
         "t1": 3,
         "t2": 1.5,
         "hum": 93,
         "wind_speed": 6.5,
         "weather_code": 3,
         "is_holiday": 0,
         "is_weekend": 1,
         "season": 3,
         "hour": 18,
         "_deepnote_index_column": 18
        },
        {
         "cnt": 379,
         "t1": 3,
         "t2": 1,
         "hum": 93,
         "wind_speed": 7,
         "weather_code": 3,
         "is_holiday": 0,
         "is_weekend": 1,
         "season": 3,
         "hour": 19,
         "_deepnote_index_column": 19
        },
        {
         "cnt": 328,
         "t1": 3,
         "t2": 3,
         "hum": 93,
         "wind_speed": 4,
         "weather_code": 3,
         "is_holiday": 0,
         "is_weekend": 1,
         "season": 3,
         "hour": 20,
         "_deepnote_index_column": 20
        },
        {
         "cnt": 221,
         "t1": 3,
         "t2": 2.5,
         "hum": 93,
         "wind_speed": 5,
         "weather_code": 4,
         "is_holiday": 0,
         "is_weekend": 1,
         "season": 3,
         "hour": 21,
         "_deepnote_index_column": 21
        },
        {
         "cnt": 178,
         "t1": 3,
         "t2": 2,
         "hum": 93,
         "wind_speed": 6,
         "weather_code": 4,
         "is_holiday": 0,
         "is_weekend": 1,
         "season": 3,
         "hour": 22,
         "_deepnote_index_column": 22
        },
        {
         "cnt": 157,
         "t1": 4,
         "t2": 3.5,
         "hum": 87,
         "wind_speed": 5,
         "weather_code": 4,
         "is_holiday": 0,
         "is_weekend": 1,
         "season": 3,
         "hour": 23,
         "_deepnote_index_column": 23
        },
        {
         "cnt": 83,
         "t1": 4,
         "t2": 3,
         "hum": 93,
         "wind_speed": 6,
         "weather_code": 4,
         "is_holiday": 0,
         "is_weekend": 0,
         "season": 3,
         "hour": 0,
         "_deepnote_index_column": 24
        },
        {
         "cnt": 67,
         "t1": 4,
         "t2": 3.5,
         "hum": 93,
         "wind_speed": 5,
         "weather_code": 4,
         "is_holiday": 0,
         "is_weekend": 0,
         "season": 3,
         "hour": 1,
         "_deepnote_index_column": 25
        },
        {
         "cnt": 32,
         "t1": 5,
         "t2": 4,
         "hum": 87,
         "wind_speed": 6,
         "weather_code": 4,
         "is_holiday": 0,
         "is_weekend": 0,
         "season": 3,
         "hour": 2,
         "_deepnote_index_column": 26
        },
        {
         "cnt": 22,
         "t1": 6,
         "t2": 4.5,
         "hum": 84,
         "wind_speed": 7.5,
         "weather_code": 4,
         "is_holiday": 0,
         "is_weekend": 0,
         "season": 3,
         "hour": 3,
         "_deepnote_index_column": 27
        },
        {
         "cnt": 38,
         "t1": 6.5,
         "t2": 5,
         "hum": 84,
         "wind_speed": 8,
         "weather_code": 4,
         "is_holiday": 0,
         "is_weekend": 0,
         "season": 3,
         "hour": 4,
         "_deepnote_index_column": 28
        },
        {
         "cnt": 81,
         "t1": 6,
         "t2": 5.5,
         "hum": 87,
         "wind_speed": 5,
         "weather_code": 4,
         "is_holiday": 0,
         "is_weekend": 0,
         "season": 3,
         "hour": 5,
         "_deepnote_index_column": 29
        },
        {
         "cnt": 444,
         "t1": 7,
         "t2": 6.5,
         "hum": 81,
         "wind_speed": 5,
         "weather_code": 3,
         "is_holiday": 0,
         "is_weekend": 0,
         "season": 3,
         "hour": 6,
         "_deepnote_index_column": 30
        },
        {
         "cnt": 1597,
         "t1": 7,
         "t2": 6,
         "hum": 81,
         "wind_speed": 6.5,
         "weather_code": 3,
         "is_holiday": 0,
         "is_weekend": 0,
         "season": 3,
         "hour": 7,
         "_deepnote_index_column": 31
        },
        {
         "cnt": 3161,
         "t1": 8,
         "t2": 7.5,
         "hum": 79,
         "wind_speed": 5,
         "weather_code": 3,
         "is_holiday": 0,
         "is_weekend": 0,
         "season": 3,
         "hour": 8,
         "_deepnote_index_column": 32
        },
        {
         "cnt": 1342,
         "t1": 8,
         "t2": 7,
         "hum": 82,
         "wind_speed": 6,
         "weather_code": 3,
         "is_holiday": 0,
         "is_weekend": 0,
         "season": 3,
         "hour": 9,
         "_deepnote_index_column": 33
        },
        {
         "cnt": 568,
         "t1": 9,
         "t2": 8,
         "hum": 84.5,
         "wind_speed": 6.5,
         "weather_code": 3,
         "is_holiday": 0,
         "is_weekend": 0,
         "season": 3,
         "hour": 10,
         "_deepnote_index_column": 34
        },
        {
         "cnt": 584,
         "t1": 9,
         "t2": 7.5,
         "hum": 90.5,
         "wind_speed": 10,
         "weather_code": 3,
         "is_holiday": 0,
         "is_weekend": 0,
         "season": 3,
         "hour": 11,
         "_deepnote_index_column": 35
        },
        {
         "cnt": 762,
         "t1": 10,
         "t2": 8,
         "hum": 85,
         "wind_speed": 11,
         "weather_code": 3,
         "is_holiday": 0,
         "is_weekend": 0,
         "season": 3,
         "hour": 12,
         "_deepnote_index_column": 36
        },
        {
         "cnt": 873,
         "t1": 10,
         "t2": 8.5,
         "hum": 82,
         "wind_speed": 10,
         "weather_code": 3,
         "is_holiday": 0,
         "is_weekend": 0,
         "season": 3,
         "hour": 13,
         "_deepnote_index_column": 37
        },
        {
         "cnt": 672,
         "t1": 10,
         "t2": 9,
         "hum": 82,
         "wind_speed": 9,
         "weather_code": 3,
         "is_holiday": 0,
         "is_weekend": 0,
         "season": 3,
         "hour": 14,
         "_deepnote_index_column": 38
        },
        {
         "cnt": 807,
         "t1": 10,
         "t2": 8.5,
         "hum": 79,
         "wind_speed": 10,
         "weather_code": 3,
         "is_holiday": 0,
         "is_weekend": 0,
         "season": 3,
         "hour": 15,
         "_deepnote_index_column": 39
        },
        {
         "cnt": 1192,
         "t1": 10,
         "t2": 8.5,
         "hum": 73.5,
         "wind_speed": 13,
         "weather_code": 3,
         "is_holiday": 0,
         "is_weekend": 0,
         "season": 3,
         "hour": 16,
         "_deepnote_index_column": 40
        },
        {
         "cnt": 2761,
         "t1": 9.5,
         "t2": 7.5,
         "hum": 73.5,
         "wind_speed": 12,
         "weather_code": 3,
         "is_holiday": 0,
         "is_weekend": 0,
         "season": 3,
         "hour": 17,
         "_deepnote_index_column": 41
        },
        {
         "cnt": 2389,
         "t1": 9.5,
         "t2": 7.5,
         "hum": 69,
         "wind_speed": 14,
         "weather_code": 3,
         "is_holiday": 0,
         "is_weekend": 0,
         "season": 3,
         "hour": 18,
         "_deepnote_index_column": 42
        },
        {
         "cnt": 1274,
         "t1": 9,
         "t2": 6.5,
         "hum": 71,
         "wind_speed": 14,
         "weather_code": 3,
         "is_holiday": 0,
         "is_weekend": 0,
         "season": 3,
         "hour": 19,
         "_deepnote_index_column": 43
        },
        {
         "cnt": 696,
         "t1": 9,
         "t2": 7,
         "hum": 71,
         "wind_speed": 14,
         "weather_code": 3,
         "is_holiday": 0,
         "is_weekend": 0,
         "season": 3,
         "hour": 20,
         "_deepnote_index_column": 44
        },
        {
         "cnt": 411,
         "t1": 9,
         "t2": 7,
         "hum": 71,
         "wind_speed": 11,
         "weather_code": 3,
         "is_holiday": 0,
         "is_weekend": 0,
         "season": 3,
         "hour": 21,
         "_deepnote_index_column": 45
        },
        {
         "cnt": 324,
         "t1": 9,
         "t2": 7.5,
         "hum": 71,
         "wind_speed": 10,
         "weather_code": 4,
         "is_holiday": 0,
         "is_weekend": 0,
         "season": 3,
         "hour": 22,
         "_deepnote_index_column": 46
        },
        {
         "cnt": 192,
         "t1": 8.5,
         "t2": 7.5,
         "hum": 73.5,
         "wind_speed": 8,
         "weather_code": 4,
         "is_holiday": 0,
         "is_weekend": 0,
         "season": 3,
         "hour": 23,
         "_deepnote_index_column": 47
        },
        {
         "cnt": 91,
         "t1": 8,
         "t2": 6.5,
         "hum": 76,
         "wind_speed": 8,
         "weather_code": 4,
         "is_holiday": 0,
         "is_weekend": 0,
         "season": 3,
         "hour": 0,
         "_deepnote_index_column": 48
        },
        {
         "cnt": 73,
         "t1": 8,
         "t2": 6.5,
         "hum": 76,
         "wind_speed": 8,
         "weather_code": 4,
         "is_holiday": 0,
         "is_weekend": 0,
         "season": 3,
         "hour": 1,
         "_deepnote_index_column": 49
        }
       ],
       "rows_bottom": [
        {
         "cnt": 119,
         "t1": 5,
         "t2": 2,
         "hum": 93,
         "wind_speed": 12,
         "weather_code": 3,
         "is_holiday": 0,
         "is_weekend": 1,
         "season": 3,
         "hour": 22,
         "_deepnote_index_column": 17364
        },
        {
         "cnt": 89,
         "t1": 5,
         "t2": 2.5,
         "hum": 90,
         "wind_speed": 10,
         "weather_code": 1,
         "is_holiday": 0,
         "is_weekend": 1,
         "season": 3,
         "hour": 23,
         "_deepnote_index_column": 17365
        },
        {
         "cnt": 84,
         "t1": 5,
         "t2": 2,
         "hum": 87,
         "wind_speed": 13,
         "weather_code": 1,
         "is_holiday": 1,
         "is_weekend": 0,
         "season": 3,
         "hour": 0,
         "_deepnote_index_column": 17366
        },
        {
         "cnt": 62,
         "t1": 5,
         "t2": 2,
         "hum": 87,
         "wind_speed": 12,
         "weather_code": 1,
         "is_holiday": 1,
         "is_weekend": 0,
         "season": 3,
         "hour": 1,
         "_deepnote_index_column": 17367
        },
        {
         "cnt": 41,
         "t1": 4.5,
         "t2": 1.5,
         "hum": 90,
         "wind_speed": 14,
         "weather_code": 1,
         "is_holiday": 1,
         "is_weekend": 0,
         "season": 3,
         "hour": 2,
         "_deepnote_index_column": 17368
        },
        {
         "cnt": 23,
         "t1": 3.5,
         "t2": 0.5,
         "hum": 90,
         "wind_speed": 13,
         "weather_code": 1,
         "is_holiday": 1,
         "is_weekend": 0,
         "season": 3,
         "hour": 3,
         "_deepnote_index_column": 17369
        },
        {
         "cnt": 18,
         "t1": 3,
         "t2": 0.5,
         "hum": 93,
         "wind_speed": 8,
         "weather_code": 2,
         "is_holiday": 1,
         "is_weekend": 0,
         "season": 3,
         "hour": 4,
         "_deepnote_index_column": 17370
        },
        {
         "cnt": 35,
         "t1": 3,
         "t2": 2.5,
         "hum": 93,
         "wind_speed": 5,
         "weather_code": 2,
         "is_holiday": 1,
         "is_weekend": 0,
         "season": 3,
         "hour": 5,
         "_deepnote_index_column": 17371
        },
        {
         "cnt": 64,
         "t1": 3,
         "t2": 0,
         "hum": 87,
         "wind_speed": 10,
         "weather_code": 2,
         "is_holiday": 1,
         "is_weekend": 0,
         "season": 3,
         "hour": 6,
         "_deepnote_index_column": 17372
        },
        {
         "cnt": 111,
         "t1": 3,
         "t2": 0,
         "hum": 87,
         "wind_speed": 9,
         "weather_code": 1,
         "is_holiday": 1,
         "is_weekend": 0,
         "season": 3,
         "hour": 7,
         "_deepnote_index_column": 17373
        },
        {
         "cnt": 203,
         "t1": 3,
         "t2": 0,
         "hum": 87,
         "wind_speed": 9,
         "weather_code": 1,
         "is_holiday": 1,
         "is_weekend": 0,
         "season": 3,
         "hour": 8,
         "_deepnote_index_column": 17374
        },
        {
         "cnt": 411,
         "t1": 3,
         "t2": -0.5,
         "hum": 87,
         "wind_speed": 12,
         "weather_code": 1,
         "is_holiday": 1,
         "is_weekend": 0,
         "season": 3,
         "hour": 9,
         "_deepnote_index_column": 17375
        },
        {
         "cnt": 668,
         "t1": 4,
         "t2": 0,
         "hum": 81,
         "wind_speed": 17,
         "weather_code": 1,
         "is_holiday": 1,
         "is_weekend": 0,
         "season": 3,
         "hour": 10,
         "_deepnote_index_column": 17376
        },
        {
         "cnt": 1021,
         "t1": 4.5,
         "t2": 1.5,
         "hum": 78.5,
         "wind_speed": 16,
         "weather_code": 1,
         "is_holiday": 1,
         "is_weekend": 0,
         "season": 3,
         "hour": 11,
         "_deepnote_index_column": 17377
        },
        {
         "cnt": 1267,
         "t1": 5,
         "t2": 2,
         "hum": 78.5,
         "wind_speed": 14,
         "weather_code": 1,
         "is_holiday": 1,
         "is_weekend": 0,
         "season": 3,
         "hour": 12,
         "_deepnote_index_column": 17378
        },
        {
         "cnt": 1316,
         "t1": 5.5,
         "t2": 3,
         "hum": 73.5,
         "wind_speed": 11,
         "weather_code": 2,
         "is_holiday": 1,
         "is_weekend": 0,
         "season": 3,
         "hour": 13,
         "_deepnote_index_column": 17379
        },
        {
         "cnt": 1520,
         "t1": 6,
         "t2": 4,
         "hum": 71,
         "wind_speed": 11,
         "weather_code": 2,
         "is_holiday": 1,
         "is_weekend": 0,
         "season": 3,
         "hour": 14,
         "_deepnote_index_column": 17380
        },
        {
         "cnt": 1350,
         "t1": 5,
         "t2": 3,
         "hum": 76,
         "wind_speed": 9,
         "weather_code": 1,
         "is_holiday": 1,
         "is_weekend": 0,
         "season": 3,
         "hour": 15,
         "_deepnote_index_column": 17381
        },
        {
         "cnt": 971,
         "t1": 5,
         "t2": 2.5,
         "hum": 76,
         "wind_speed": 11,
         "weather_code": 1,
         "is_holiday": 1,
         "is_weekend": 0,
         "season": 3,
         "hour": 16,
         "_deepnote_index_column": 17382
        },
        {
         "cnt": 718,
         "t1": 4,
         "t2": 1.5,
         "hum": 81,
         "wind_speed": 10,
         "weather_code": 1,
         "is_holiday": 1,
         "is_weekend": 0,
         "season": 3,
         "hour": 17,
         "_deepnote_index_column": 17383
        },
        {
         "cnt": 594,
         "t1": 3,
         "t2": 0,
         "hum": 84,
         "wind_speed": 9,
         "weather_code": 1,
         "is_holiday": 1,
         "is_weekend": 0,
         "season": 3,
         "hour": 18,
         "_deepnote_index_column": 17384
        },
        {
         "cnt": 433,
         "t1": 3,
         "t2": 0,
         "hum": 81,
         "wind_speed": 11,
         "weather_code": 1,
         "is_holiday": 1,
         "is_weekend": 0,
         "season": 3,
         "hour": 19,
         "_deepnote_index_column": 17385
        },
        {
         "cnt": 334,
         "t1": 3,
         "t2": 0,
         "hum": 75,
         "wind_speed": 13,
         "weather_code": 1,
         "is_holiday": 1,
         "is_weekend": 0,
         "season": 3,
         "hour": 20,
         "_deepnote_index_column": 17386
        },
        {
         "cnt": 233,
         "t1": 2.5,
         "t2": -0.5,
         "hum": 78,
         "wind_speed": 11,
         "weather_code": 1,
         "is_holiday": 1,
         "is_weekend": 0,
         "season": 3,
         "hour": 21,
         "_deepnote_index_column": 17387
        },
        {
         "cnt": 201,
         "t1": 2,
         "t2": -1,
         "hum": 81,
         "wind_speed": 10,
         "weather_code": 1,
         "is_holiday": 1,
         "is_weekend": 0,
         "season": 3,
         "hour": 22,
         "_deepnote_index_column": 17388
        },
        {
         "cnt": 145,
         "t1": 1,
         "t2": -2,
         "hum": 93,
         "wind_speed": 10,
         "weather_code": 1,
         "is_holiday": 1,
         "is_weekend": 0,
         "season": 3,
         "hour": 23,
         "_deepnote_index_column": 17389
        },
        {
         "cnt": 63,
         "t1": 1,
         "t2": -2,
         "hum": 90,
         "wind_speed": 11,
         "weather_code": 1,
         "is_holiday": 0,
         "is_weekend": 0,
         "season": 3,
         "hour": 0,
         "_deepnote_index_column": 17390
        },
        {
         "cnt": 49,
         "t1": 1,
         "t2": -2,
         "hum": 87,
         "wind_speed": 10,
         "weather_code": 1,
         "is_holiday": 0,
         "is_weekend": 0,
         "season": 3,
         "hour": 1,
         "_deepnote_index_column": 17391
        },
        {
         "cnt": 43,
         "t1": 0.5,
         "t2": -3,
         "hum": 90,
         "wind_speed": 11,
         "weather_code": 1,
         "is_holiday": 0,
         "is_weekend": 0,
         "season": 3,
         "hour": 2,
         "_deepnote_index_column": 17392
        },
        {
         "cnt": 10,
         "t1": 0,
         "t2": -4,
         "hum": 93,
         "wind_speed": 13,
         "weather_code": 1,
         "is_holiday": 0,
         "is_weekend": 0,
         "season": 3,
         "hour": 3,
         "_deepnote_index_column": 17393
        },
        {
         "cnt": 30,
         "t1": 0,
         "t2": -4,
         "hum": 93,
         "wind_speed": 14,
         "weather_code": 1,
         "is_holiday": 0,
         "is_weekend": 0,
         "season": 3,
         "hour": 4,
         "_deepnote_index_column": 17394
        },
        {
         "cnt": 83,
         "t1": 0.5,
         "t2": -3.5,
         "hum": 90,
         "wind_speed": 14,
         "weather_code": 3,
         "is_holiday": 0,
         "is_weekend": 0,
         "season": 3,
         "hour": 5,
         "_deepnote_index_column": 17395
        },
        {
         "cnt": 434,
         "t1": 1,
         "t2": -3.5,
         "hum": 87,
         "wind_speed": 18,
         "weather_code": 1,
         "is_holiday": 0,
         "is_weekend": 0,
         "season": 3,
         "hour": 6,
         "_deepnote_index_column": 17396
        },
        {
         "cnt": 1407,
         "t1": 1,
         "t2": -4,
         "hum": 87,
         "wind_speed": 19,
         "weather_code": 1,
         "is_holiday": 0,
         "is_weekend": 0,
         "season": 3,
         "hour": 7,
         "_deepnote_index_column": 17397
        },
        {
         "cnt": 2904,
         "t1": 1,
         "t2": -3.5,
         "hum": 87,
         "wind_speed": 18.5,
         "weather_code": 3,
         "is_holiday": 0,
         "is_weekend": 0,
         "season": 3,
         "hour": 8,
         "_deepnote_index_column": 17398
        },
        {
         "cnt": 1357,
         "t1": 2.5,
         "t2": -1.5,
         "hum": 81,
         "wind_speed": 14,
         "weather_code": 1,
         "is_holiday": 0,
         "is_weekend": 0,
         "season": 3,
         "hour": 9,
         "_deepnote_index_column": 17399
        },
        {
         "cnt": 661,
         "t1": 3,
         "t2": -2,
         "hum": 81,
         "wind_speed": 20,
         "weather_code": 1,
         "is_holiday": 0,
         "is_weekend": 0,
         "season": 3,
         "hour": 10,
         "_deepnote_index_column": 17400
        },
        {
         "cnt": 636,
         "t1": 4,
         "t2": 0,
         "hum": 78,
         "wind_speed": 21,
         "weather_code": 1,
         "is_holiday": 0,
         "is_weekend": 0,
         "season": 3,
         "hour": 11,
         "_deepnote_index_column": 17401
        },
        {
         "cnt": 825,
         "t1": 5,
         "t2": 1,
         "hum": 76,
         "wind_speed": 21,
         "weather_code": 3,
         "is_holiday": 0,
         "is_weekend": 0,
         "season": 3,
         "hour": 12,
         "_deepnote_index_column": 17402
        },
        {
         "cnt": 878,
         "t1": 6,
         "t2": 2,
         "hum": 71,
         "wind_speed": 23,
         "weather_code": 4,
         "is_holiday": 0,
         "is_weekend": 0,
         "season": 3,
         "hour": 13,
         "_deepnote_index_column": 17403
        },
        {
         "cnt": 765,
         "t1": 6,
         "t2": 2,
         "hum": 73.5,
         "wind_speed": 22,
         "weather_code": 3,
         "is_holiday": 0,
         "is_weekend": 0,
         "season": 3,
         "hour": 14,
         "_deepnote_index_column": 17404
        },
        {
         "cnt": 845,
         "t1": 6,
         "t2": 2,
         "hum": 71,
         "wind_speed": 27,
         "weather_code": 4,
         "is_holiday": 0,
         "is_weekend": 0,
         "season": 3,
         "hour": 15,
         "_deepnote_index_column": 17405
        },
        {
         "cnt": 1201,
         "t1": 6,
         "t2": 2,
         "hum": 71,
         "wind_speed": 26,
         "weather_code": 4,
         "is_holiday": 0,
         "is_weekend": 0,
         "season": 3,
         "hour": 16,
         "_deepnote_index_column": 17406
        },
        {
         "cnt": 2742,
         "t1": 6,
         "t2": 2,
         "hum": 73.5,
         "wind_speed": 21,
         "weather_code": 3,
         "is_holiday": 0,
         "is_weekend": 0,
         "season": 3,
         "hour": 17,
         "_deepnote_index_column": 17407
        },
        {
         "cnt": 2220,
         "t1": 5,
         "t2": 1,
         "hum": 81,
         "wind_speed": 22,
         "weather_code": 2,
         "is_holiday": 0,
         "is_weekend": 0,
         "season": 3,
         "hour": 18,
         "_deepnote_index_column": 17408
        },
        {
         "cnt": 1042,
         "t1": 5,
         "t2": 1,
         "hum": 81,
         "wind_speed": 19,
         "weather_code": 3,
         "is_holiday": 0,
         "is_weekend": 0,
         "season": 3,
         "hour": 19,
         "_deepnote_index_column": 17409
        },
        {
         "cnt": 541,
         "t1": 5,
         "t2": 1,
         "hum": 81,
         "wind_speed": 21,
         "weather_code": 4,
         "is_holiday": 0,
         "is_weekend": 0,
         "season": 3,
         "hour": 20,
         "_deepnote_index_column": 17410
        },
        {
         "cnt": 337,
         "t1": 5.5,
         "t2": 1.5,
         "hum": 78.5,
         "wind_speed": 24,
         "weather_code": 4,
         "is_holiday": 0,
         "is_weekend": 0,
         "season": 3,
         "hour": 21,
         "_deepnote_index_column": 17411
        },
        {
         "cnt": 224,
         "t1": 5.5,
         "t2": 1.5,
         "hum": 76,
         "wind_speed": 23,
         "weather_code": 4,
         "is_holiday": 0,
         "is_weekend": 0,
         "season": 3,
         "hour": 22,
         "_deepnote_index_column": 17412
        },
        {
         "cnt": 139,
         "t1": 5,
         "t2": 1,
         "hum": 76,
         "wind_speed": 22,
         "weather_code": 2,
         "is_holiday": 0,
         "is_weekend": 0,
         "season": 3,
         "hour": 23,
         "_deepnote_index_column": 17413
        }
       ]
      },
      "text/plain": "        cnt   t1   t2    hum  wind_speed  weather_code  is_holiday  \\\n0       182  3.0  2.0   93.0         6.0           3.0         0.0   \n1       138  3.0  2.5   93.0         5.0           1.0         0.0   \n2       134  2.5  2.5   96.5         0.0           1.0         0.0   \n3        72  2.0  2.0  100.0         0.0           1.0         0.0   \n4        47  2.0  0.0   93.0         6.5           1.0         0.0   \n...     ...  ...  ...    ...         ...           ...         ...   \n17409  1042  5.0  1.0   81.0        19.0           3.0         0.0   \n17410   541  5.0  1.0   81.0        21.0           4.0         0.0   \n17411   337  5.5  1.5   78.5        24.0           4.0         0.0   \n17412   224  5.5  1.5   76.0        23.0           4.0         0.0   \n17413   139  5.0  1.0   76.0        22.0           2.0         0.0   \n\n       is_weekend  season  hour  \n0             1.0     3.0     0  \n1             1.0     3.0     1  \n2             1.0     3.0     2  \n3             1.0     3.0     3  \n4             1.0     3.0     4  \n...           ...     ...   ...  \n17409         0.0     3.0    19  \n17410         0.0     3.0    20  \n17411         0.0     3.0    21  \n17412         0.0     3.0    22  \n17413         0.0     3.0    23  \n\n[17414 rows x 10 columns]",
      "text/html": "<div>\n<style scoped>\n    .dataframe tbody tr th:only-of-type {\n        vertical-align: middle;\n    }\n\n    .dataframe tbody tr th {\n        vertical-align: top;\n    }\n\n    .dataframe thead th {\n        text-align: right;\n    }\n</style>\n<table border=\"1\" class=\"dataframe\">\n  <thead>\n    <tr style=\"text-align: right;\">\n      <th></th>\n      <th>cnt</th>\n      <th>t1</th>\n      <th>t2</th>\n      <th>hum</th>\n      <th>wind_speed</th>\n      <th>weather_code</th>\n      <th>is_holiday</th>\n      <th>is_weekend</th>\n      <th>season</th>\n      <th>hour</th>\n    </tr>\n  </thead>\n  <tbody>\n    <tr>\n      <th>0</th>\n      <td>182</td>\n      <td>3.0</td>\n      <td>2.0</td>\n      <td>93.0</td>\n      <td>6.0</td>\n      <td>3.0</td>\n      <td>0.0</td>\n      <td>1.0</td>\n      <td>3.0</td>\n      <td>0</td>\n    </tr>\n    <tr>\n      <th>1</th>\n      <td>138</td>\n      <td>3.0</td>\n      <td>2.5</td>\n      <td>93.0</td>\n      <td>5.0</td>\n      <td>1.0</td>\n      <td>0.0</td>\n      <td>1.0</td>\n      <td>3.0</td>\n      <td>1</td>\n    </tr>\n    <tr>\n      <th>2</th>\n      <td>134</td>\n      <td>2.5</td>\n      <td>2.5</td>\n      <td>96.5</td>\n      <td>0.0</td>\n      <td>1.0</td>\n      <td>0.0</td>\n      <td>1.0</td>\n      <td>3.0</td>\n      <td>2</td>\n    </tr>\n    <tr>\n      <th>3</th>\n      <td>72</td>\n      <td>2.0</td>\n      <td>2.0</td>\n      <td>100.0</td>\n      <td>0.0</td>\n      <td>1.0</td>\n      <td>0.0</td>\n      <td>1.0</td>\n      <td>3.0</td>\n      <td>3</td>\n    </tr>\n    <tr>\n      <th>4</th>\n      <td>47</td>\n      <td>2.0</td>\n      <td>0.0</td>\n      <td>93.0</td>\n      <td>6.5</td>\n      <td>1.0</td>\n      <td>0.0</td>\n      <td>1.0</td>\n      <td>3.0</td>\n      <td>4</td>\n    </tr>\n    <tr>\n      <th>...</th>\n      <td>...</td>\n      <td>...</td>\n      <td>...</td>\n      <td>...</td>\n      <td>...</td>\n      <td>...</td>\n      <td>...</td>\n      <td>...</td>\n      <td>...</td>\n      <td>...</td>\n    </tr>\n    <tr>\n      <th>17409</th>\n      <td>1042</td>\n      <td>5.0</td>\n      <td>1.0</td>\n      <td>81.0</td>\n      <td>19.0</td>\n      <td>3.0</td>\n      <td>0.0</td>\n      <td>0.0</td>\n      <td>3.0</td>\n      <td>19</td>\n    </tr>\n    <tr>\n      <th>17410</th>\n      <td>541</td>\n      <td>5.0</td>\n      <td>1.0</td>\n      <td>81.0</td>\n      <td>21.0</td>\n      <td>4.0</td>\n      <td>0.0</td>\n      <td>0.0</td>\n      <td>3.0</td>\n      <td>20</td>\n    </tr>\n    <tr>\n      <th>17411</th>\n      <td>337</td>\n      <td>5.5</td>\n      <td>1.5</td>\n      <td>78.5</td>\n      <td>24.0</td>\n      <td>4.0</td>\n      <td>0.0</td>\n      <td>0.0</td>\n      <td>3.0</td>\n      <td>21</td>\n    </tr>\n    <tr>\n      <th>17412</th>\n      <td>224</td>\n      <td>5.5</td>\n      <td>1.5</td>\n      <td>76.0</td>\n      <td>23.0</td>\n      <td>4.0</td>\n      <td>0.0</td>\n      <td>0.0</td>\n      <td>3.0</td>\n      <td>22</td>\n    </tr>\n    <tr>\n      <th>17413</th>\n      <td>139</td>\n      <td>5.0</td>\n      <td>1.0</td>\n      <td>76.0</td>\n      <td>22.0</td>\n      <td>2.0</td>\n      <td>0.0</td>\n      <td>0.0</td>\n      <td>3.0</td>\n      <td>23</td>\n    </tr>\n  </tbody>\n</table>\n<p>17414 rows × 10 columns</p>\n</div>"
     },
     "metadata": {}
    }
   ],
   "execution_count": 26
  },
  {
   "cell_type": "markdown",
   "source": "Restamos la temperatura 1 con la temperatura 2",
   "metadata": {
    "tags": [],
    "cell_id": "00005-3d15d650-7676-4943-aaf2-7c4e212533d3",
    "deepnote_cell_type": "markdown"
   }
  },
  {
   "cell_type": "code",
   "source": "df['t1']-df['t2']",
   "metadata": {
    "tags": [],
    "cell_id": "00005-75bcd058-c8ac-49de-9080-1efda7f6f93f",
    "deepnote_to_be_reexecuted": false,
    "source_hash": "25fdeeeb",
    "execution_start": 1624932573189,
    "execution_millis": 11,
    "deepnote_cell_type": "code"
   },
   "outputs": [
    {
     "output_type": "execute_result",
     "execution_count": 37,
     "data": {
      "text/plain": "0        1.0\n1        0.5\n2        0.0\n3        0.0\n4        2.0\n        ... \n17409    4.0\n17410    4.0\n17411    4.0\n17412    4.0\n17413    4.0\nLength: 17414, dtype: float64"
     },
     "metadata": {}
    }
   ],
   "execution_count": 37
  },
  {
   "cell_type": "markdown",
   "source": "Obtenemos los indice que van 2 en 2.\n\n**Pero obtendremos variables nulas** en todos los indices que nos saltamos.",
   "metadata": {
    "tags": [],
    "cell_id": "00007-f3dd5570-f16a-4fc0-aa53-e9d0242d8332",
    "deepnote_cell_type": "markdown"
   }
  },
  {
   "cell_type": "code",
   "source": "df['t1'].iloc[::2] - df['t2']",
   "metadata": {
    "tags": [],
    "cell_id": "00004-c09ac63b-3db4-410d-8053-dc10d4ac707e",
    "deepnote_to_be_reexecuted": false,
    "source_hash": "2fdda695",
    "execution_start": 1624932455012,
    "execution_millis": 12,
    "deepnote_cell_type": "code"
   },
   "outputs": [
    {
     "output_type": "execute_result",
     "execution_count": 34,
     "data": {
      "text/plain": "0        1.0\n1        NaN\n2        0.0\n3        NaN\n4        2.0\n        ... \n17409    NaN\n17410    4.0\n17411    NaN\n17412    4.0\n17413    NaN\nLength: 17414, dtype: float64"
     },
     "metadata": {}
    }
   ],
   "execution_count": 34
  },
  {
   "cell_type": "markdown",
   "source": "Para evitar las variables nulas podemos usar la funcion **.sub** y podemos asignarle un valos a esos campos vacios",
   "metadata": {
    "tags": [],
    "cell_id": "00009-cb17e4e4-d159-4031-8f00-731f7cba121d",
    "deepnote_cell_type": "markdown"
   }
  },
  {
   "cell_type": "code",
   "source": "df['t1'].iloc[::2].sub(df['t2'],fill_value=1000)",
   "metadata": {
    "tags": [],
    "cell_id": "00006-5f62b138-c4d9-452b-a602-b618803268fe",
    "deepnote_to_be_reexecuted": false,
    "source_hash": "e2863927",
    "execution_start": 1624932717852,
    "execution_millis": 12,
    "deepnote_cell_type": "code"
   },
   "outputs": [
    {
     "output_type": "execute_result",
     "execution_count": 39,
     "data": {
      "text/plain": "0          1.0\n1        997.5\n2          0.0\n3        998.0\n4          2.0\n         ...  \n17409    999.0\n17410      4.0\n17411    998.5\n17412      4.0\n17413    999.0\nLength: 17414, dtype: float64"
     },
     "metadata": {}
    }
   ],
   "execution_count": 39
  },
  {
   "cell_type": "code",
   "source": "df['t1'].add(df['t2'])",
   "metadata": {
    "tags": [],
    "cell_id": "00011-6eb5c462-3a5d-48ff-ae4b-c0cca1c39697",
    "deepnote_to_be_reexecuted": false,
    "source_hash": "983b7030",
    "execution_start": 1624932888021,
    "execution_millis": 12,
    "deepnote_cell_type": "code"
   },
   "outputs": [
    {
     "output_type": "execute_result",
     "execution_count": 40,
     "data": {
      "text/plain": "0        5.0\n1        5.5\n2        5.0\n3        4.0\n4        2.0\n        ... \n17409    6.0\n17410    6.0\n17411    7.0\n17412    7.0\n17413    6.0\nLength: 17414, dtype: float64"
     },
     "metadata": {}
    }
   ],
   "execution_count": 40
  },
  {
   "cell_type": "markdown",
   "source": "# Funciones mas complejas y lambdas\n\n**apply()** se utiliza para aplicar una función a lo largo de un eje (columna o fila).\n\n**applymap()** se usa para aplicar una función a todos los elementos del DataFrame.\n\n**map()** se usa para sustituir cada valor de una fila por otro valor.",
   "metadata": {
    "tags": [],
    "cell_id": "00013-da4765af-5d62-4fb3-8a2a-7b0276038fae",
    "deepnote_cell_type": "markdown"
   }
  },
  {
   "cell_type": "code",
   "source": "def fun_1(x, a=4, b=1):\n    y = x ** 2 + a*x /b\n    return y\ndf['hour'].apply(fun_1)",
   "metadata": {
    "tags": [],
    "cell_id": "00014-6fe450f9-0d25-4c10-ac4e-8534faf6925d",
    "deepnote_to_be_reexecuted": false,
    "source_hash": "d69aa949",
    "execution_start": 1624934519984,
    "execution_millis": 27,
    "deepnote_cell_type": "code"
   },
   "outputs": [
    {
     "output_type": "execute_result",
     "execution_count": 61,
     "data": {
      "text/plain": "0          0.0\n1          5.0\n2         12.0\n3         21.0\n4         32.0\n         ...  \n17409    437.0\n17410    480.0\n17411    525.0\n17412    572.0\n17413    621.0\nName: hour, Length: 17414, dtype: float64"
     },
     "metadata": {}
    }
   ],
   "execution_count": 61
  },
  {
   "cell_type": "code",
   "source": "df['hour'].apply(fun_1,a=20,b=-100)",
   "metadata": {
    "tags": [],
    "cell_id": "00015-9053f37a-3c4c-4073-b767-2630bcdc28cd",
    "deepnote_to_be_reexecuted": false,
    "source_hash": "df9bd149",
    "execution_start": 1624934540746,
    "execution_millis": 5,
    "deepnote_cell_type": "code"
   },
   "outputs": [
    {
     "output_type": "execute_result",
     "execution_count": 63,
     "data": {
      "text/plain": "0          0.0\n1          0.8\n2          3.6\n3          8.4\n4         15.2\n         ...  \n17409    357.2\n17410    396.0\n17411    436.8\n17412    479.6\n17413    524.4\nName: hour, Length: 17414, dtype: float64"
     },
     "metadata": {}
    }
   ],
   "execution_count": 63
  },
  {
   "cell_type": "code",
   "source": "df['t1'].apply(lambda x: x+273)",
   "metadata": {
    "tags": [],
    "cell_id": "00016-3a7e9a7b-2fd9-407d-8aba-6f437684e179",
    "deepnote_to_be_reexecuted": false,
    "source_hash": "fc96d246",
    "execution_start": 1624934584094,
    "execution_millis": 6,
    "deepnote_cell_type": "code"
   },
   "outputs": [
    {
     "output_type": "execute_result",
     "execution_count": 64,
     "data": {
      "text/plain": "0        276.0\n1        276.0\n2        275.5\n3        275.0\n4        275.0\n         ...  \n17409    278.0\n17410    278.0\n17411    278.5\n17412    278.5\n17413    278.0\nName: t1, Length: 17414, dtype: float64"
     },
     "metadata": {}
    }
   ],
   "execution_count": 64
  },
  {
   "cell_type": "code",
   "source": "df.apply(lambda x: x.mean())",
   "metadata": {
    "tags": [],
    "cell_id": "00017-cd1f46d7-3e1c-498a-8d74-648431060819",
    "deepnote_to_be_reexecuted": false,
    "source_hash": "ba78d550",
    "execution_start": 1624934623118,
    "execution_millis": 4,
    "deepnote_cell_type": "code"
   },
   "outputs": [
    {
     "output_type": "execute_result",
     "execution_count": 66,
     "data": {
      "text/plain": "cnt             1143.101642\nt1                12.468091\nt2                11.520836\nhum               72.324954\nwind_speed        15.913063\nweather_code       2.722752\nis_holiday         0.022051\nis_weekend         0.285403\nseason             1.492075\nhour              11.513265\ndtype: float64"
     },
     "metadata": {}
    }
   ],
   "execution_count": 66
  },
  {
   "cell_type": "code",
   "source": "df.apply(lambda x: x.mean(), axis=1)",
   "metadata": {
    "tags": [],
    "cell_id": "00018-8d5fff51-c581-4599-bac1-46f5451a13ca",
    "deepnote_to_be_reexecuted": false,
    "source_hash": "e1931ba7",
    "execution_start": 1624934723789,
    "execution_millis": 2184,
    "deepnote_cell_type": "code"
   },
   "outputs": [
    {
     "output_type": "execute_result",
     "execution_count": 72,
     "data": {
      "text/plain": "0         29.30\n1         24.75\n2         24.25\n3         18.40\n4         15.75\n          ...  \n17409    117.30\n17410     67.60\n17411     47.45\n17412     35.90\n17413     27.10\nLength: 17414, dtype: float64"
     },
     "metadata": {}
    }
   ],
   "execution_count": 72
  },
  {
   "cell_type": "markdown",
   "source": "Resta la T1 con la T2 usando las filas",
   "metadata": {
    "tags": [],
    "cell_id": "00019-c5caddcf-602d-4a51-ae71-35cd1cc9431f",
    "deepnote_cell_type": "markdown"
   }
  },
  {
   "cell_type": "code",
   "source": "df.apply(lambda x: x['t1'] - x['t2'], axis=1)",
   "metadata": {
    "tags": [],
    "cell_id": "00019-41f4da8c-d96c-453f-b136-505068a9ccf3",
    "deepnote_to_be_reexecuted": false,
    "source_hash": "7bede4c1",
    "execution_start": 1624934837588,
    "execution_millis": 385,
    "deepnote_cell_type": "code"
   },
   "outputs": [
    {
     "output_type": "execute_result",
     "execution_count": 76,
     "data": {
      "text/plain": "0        1.0\n1        0.5\n2        0.0\n3        0.0\n4        2.0\n        ... \n17409    4.0\n17410    4.0\n17411    4.0\n17412    4.0\n17413    4.0\nLength: 17414, dtype: float64"
     },
     "metadata": {}
    }
   ],
   "execution_count": 76
  },
  {
   "cell_type": "code",
   "source": "df.applymap(lambda x: x*510)",
   "metadata": {
    "tags": [],
    "cell_id": "00022-7f9910d8-05c9-49e2-86f2-2befa96e9829",
    "deepnote_to_be_reexecuted": false,
    "source_hash": "58c88cf5",
    "execution_start": 1624935078298,
    "execution_millis": 189,
    "deepnote_cell_type": "code"
   },
   "outputs": [
    {
     "output_type": "execute_result",
     "execution_count": 77,
     "data": {
      "application/vnd.deepnote.dataframe.v2+json": {
       "row_count": 17414,
       "column_count": 10,
       "columns": [
        {
         "name": "cnt",
         "dtype": "int64",
         "stats": {
          "unique_count": 3781,
          "nan_count": 0,
          "min": "0",
          "max": "4008600",
          "histogram": [
           {
            "bin_start": 0,
            "bin_end": 400860,
            "count": 8274
           },
           {
            "bin_start": 400860,
            "bin_end": 801720,
            "count": 4416
           },
           {
            "bin_start": 801720,
            "bin_end": 1202580,
            "count": 2355
           },
           {
            "bin_start": 1202580,
            "bin_end": 1603440,
            "count": 1241
           },
           {
            "bin_start": 1603440,
            "bin_end": 2004300,
            "count": 561
           },
           {
            "bin_start": 2004300,
            "bin_end": 2405160,
            "count": 471
           },
           {
            "bin_start": 2405160,
            "bin_end": 2806020,
            "count": 88
           },
           {
            "bin_start": 2806020,
            "bin_end": 3206880,
            "count": 2
           },
           {
            "bin_start": 3206880,
            "bin_end": 3607740,
            "count": 3
           },
           {
            "bin_start": 3607740,
            "bin_end": 4008600,
            "count": 3
           }
          ]
         }
        },
        {
         "name": "t1",
         "dtype": "float64",
         "stats": {
          "unique_count": 73,
          "nan_count": 0,
          "min": "-765.0",
          "max": "17340.0",
          "histogram": [
           {
            "bin_start": -765,
            "bin_end": 1045.5,
            "count": 417
           },
           {
            "bin_start": 1045.5,
            "bin_end": 2856,
            "count": 1567
           },
           {
            "bin_start": 2856,
            "bin_end": 4666.5,
            "count": 3489
           },
           {
            "bin_start": 4666.5,
            "bin_end": 6477,
            "count": 3478
           },
           {
            "bin_start": 6477,
            "bin_end": 8287.5,
            "count": 4139
           },
           {
            "bin_start": 8287.5,
            "bin_end": 10098,
            "count": 2520
           },
           {
            "bin_start": 10098,
            "bin_end": 11908.5,
            "count": 1340
           },
           {
            "bin_start": 11908.5,
            "bin_end": 13719,
            "count": 359
           },
           {
            "bin_start": 13719,
            "bin_end": 15529.5,
            "count": 77
           },
           {
            "bin_start": 15529.5,
            "bin_end": 17340,
            "count": 28
           }
          ]
         }
        },
        {
         "name": "t2",
         "dtype": "float64",
         "stats": {
          "unique_count": 82,
          "nan_count": 0,
          "min": "-3060.0",
          "max": "17340.0",
          "histogram": [
           {
            "bin_start": -3060,
            "bin_end": -1020,
            "count": 103
           },
           {
            "bin_start": -1020,
            "bin_end": 1020,
            "count": 1235
           },
           {
            "bin_start": 1020,
            "bin_end": 3060,
            "count": 2825
           },
           {
            "bin_start": 3060,
            "bin_end": 5100,
            "count": 2454
           },
           {
            "bin_start": 5100,
            "bin_end": 7140,
            "count": 3619
           },
           {
            "bin_start": 7140,
            "bin_end": 9180,
            "count": 4000
           },
           {
            "bin_start": 9180,
            "bin_end": 11220,
            "count": 2358
           },
           {
            "bin_start": 11220,
            "bin_end": 13260,
            "count": 649
           },
           {
            "bin_start": 13260,
            "bin_end": 15300,
            "count": 138
           },
           {
            "bin_start": 15300,
            "bin_end": 17340,
            "count": 33
           }
          ]
         }
        },
        {
         "name": "hum",
         "dtype": "float64",
         "stats": {
          "unique_count": 143,
          "nan_count": 0,
          "min": "10455.0",
          "max": "51000.0",
          "histogram": [
           {
            "bin_start": 10455,
            "bin_end": 14509.5,
            "count": 25
           },
           {
            "bin_start": 14509.5,
            "bin_end": 18564,
            "count": 148
           },
           {
            "bin_start": 18564,
            "bin_end": 22618.5,
            "count": 582
           },
           {
            "bin_start": 22618.5,
            "bin_end": 26673,
            "count": 1154
           },
           {
            "bin_start": 26673,
            "bin_end": 30727.5,
            "count": 1721
           },
           {
            "bin_start": 30727.5,
            "bin_end": 34782,
            "count": 2492
           },
           {
            "bin_start": 34782,
            "bin_end": 38836.5,
            "count": 3423
           },
           {
            "bin_start": 38836.5,
            "bin_end": 42891,
            "count": 3963
           },
           {
            "bin_start": 42891,
            "bin_end": 46945.5,
            "count": 2910
           },
           {
            "bin_start": 46945.5,
            "bin_end": 51000,
            "count": 996
           }
          ]
         }
        },
        {
         "name": "wind_speed",
         "dtype": "float64",
         "stats": {
          "unique_count": 103,
          "nan_count": 0,
          "min": "0.0",
          "max": "28815.0",
          "histogram": [
           {
            "bin_start": 0,
            "bin_end": 2881.5,
            "count": 1100
           },
           {
            "bin_start": 2881.5,
            "bin_end": 5763,
            "count": 4559
           },
           {
            "bin_start": 5763,
            "bin_end": 8644.5,
            "count": 4198
           },
           {
            "bin_start": 8644.5,
            "bin_end": 11526,
            "count": 4285
           },
           {
            "bin_start": 11526,
            "bin_end": 14407.5,
            "count": 1985
           },
           {
            "bin_start": 14407.5,
            "bin_end": 17289,
            "count": 868
           },
           {
            "bin_start": 17289,
            "bin_end": 20170.5,
            "count": 300
           },
           {
            "bin_start": 20170.5,
            "bin_end": 23052,
            "count": 86
           },
           {
            "bin_start": 23052,
            "bin_end": 25933.5,
            "count": 27
           },
           {
            "bin_start": 25933.5,
            "bin_end": 28815,
            "count": 6
           }
          ]
         }
        },
        {
         "name": "weather_code",
         "dtype": "float64"
        },
        {
         "name": "is_holiday",
         "dtype": "float64"
        },
        {
         "name": "is_weekend",
         "dtype": "float64"
        },
        {
         "name": "season",
         "dtype": "float64"
        },
        {
         "name": "hour",
         "dtype": "int64"
        },
        {
         "name": "_deepnote_index_column",
         "dtype": "int64"
        }
       ],
       "rows_top": [
        {
         "cnt": 92820,
         "t1": 1530,
         "t2": 1020,
         "hum": 47430,
         "wind_speed": 3060,
         "weather_code": 1530,
         "is_holiday": 0,
         "is_weekend": 510,
         "season": 1530,
         "hour": 0,
         "_deepnote_index_column": 0
        },
        {
         "cnt": 70380,
         "t1": 1530,
         "t2": 1275,
         "hum": 47430,
         "wind_speed": 2550,
         "weather_code": 510,
         "is_holiday": 0,
         "is_weekend": 510,
         "season": 1530,
         "hour": 510,
         "_deepnote_index_column": 1
        },
        {
         "cnt": 68340,
         "t1": 1275,
         "t2": 1275,
         "hum": 49215,
         "wind_speed": 0,
         "weather_code": 510,
         "is_holiday": 0,
         "is_weekend": 510,
         "season": 1530,
         "hour": 1020,
         "_deepnote_index_column": 2
        },
        {
         "cnt": 36720,
         "t1": 1020,
         "t2": 1020,
         "hum": 51000,
         "wind_speed": 0,
         "weather_code": 510,
         "is_holiday": 0,
         "is_weekend": 510,
         "season": 1530,
         "hour": 1530,
         "_deepnote_index_column": 3
        },
        {
         "cnt": 23970,
         "t1": 1020,
         "t2": 0,
         "hum": 47430,
         "wind_speed": 3315,
         "weather_code": 510,
         "is_holiday": 0,
         "is_weekend": 510,
         "season": 1530,
         "hour": 2040,
         "_deepnote_index_column": 4
        },
        {
         "cnt": 23460,
         "t1": 1020,
         "t2": 1020,
         "hum": 47430,
         "wind_speed": 2040,
         "weather_code": 510,
         "is_holiday": 0,
         "is_weekend": 510,
         "season": 1530,
         "hour": 2550,
         "_deepnote_index_column": 5
        },
        {
         "cnt": 26010,
         "t1": 510,
         "t2": -510,
         "hum": 51000,
         "wind_speed": 3570,
         "weather_code": 2040,
         "is_holiday": 0,
         "is_weekend": 510,
         "season": 1530,
         "hour": 3060,
         "_deepnote_index_column": 6
        },
        {
         "cnt": 38250,
         "t1": 510,
         "t2": -510,
         "hum": 51000,
         "wind_speed": 3570,
         "weather_code": 2040,
         "is_holiday": 0,
         "is_weekend": 510,
         "season": 1530,
         "hour": 3570,
         "_deepnote_index_column": 7
        },
        {
         "cnt": 66810,
         "t1": 765,
         "t2": -510,
         "hum": 49215,
         "wind_speed": 4080,
         "weather_code": 2040,
         "is_holiday": 0,
         "is_weekend": 510,
         "season": 1530,
         "hour": 4080,
         "_deepnote_index_column": 8
        },
        {
         "cnt": 153510,
         "t1": 1020,
         "t2": -255,
         "hum": 51000,
         "wind_speed": 4590,
         "weather_code": 1530,
         "is_holiday": 0,
         "is_weekend": 510,
         "season": 1530,
         "hour": 4590,
         "_deepnote_index_column": 9
        },
        {
         "cnt": 269280,
         "t1": 1530,
         "t2": -255,
         "hum": 47430,
         "wind_speed": 6120,
         "weather_code": 1530,
         "is_holiday": 0,
         "is_weekend": 510,
         "season": 1530,
         "hour": 5100,
         "_deepnote_index_column": 10
        },
        {
         "cnt": 370770,
         "t1": 1020,
         "t2": -765,
         "hum": 51000,
         "wind_speed": 6120,
         "weather_code": 1530,
         "is_holiday": 0,
         "is_weekend": 510,
         "season": 1530,
         "hour": 5610,
         "_deepnote_index_column": 11
        },
        {
         "cnt": 439620,
         "t1": 1020,
         "t2": -765,
         "hum": 49215,
         "wind_speed": 6630,
         "weather_code": 2040,
         "is_holiday": 0,
         "is_weekend": 510,
         "season": 1530,
         "hour": 6120,
         "_deepnote_index_column": 12
        },
        {
         "cnt": 467160,
         "t1": 1530,
         "t2": -255,
         "hum": 44370,
         "wind_speed": 7650,
         "weather_code": 1530,
         "is_holiday": 0,
         "is_weekend": 510,
         "season": 1530,
         "hour": 6630,
         "_deepnote_index_column": 13
        },
        {
         "cnt": 529890,
         "t1": 1275,
         "t2": 0,
         "hum": 45900,
         "wind_speed": 4080,
         "weather_code": 1530,
         "is_holiday": 0,
         "is_weekend": 510,
         "season": 1530,
         "hour": 7140,
         "_deepnote_index_column": 14
        },
        {
         "cnt": 443190,
         "t1": 1020,
         "t2": -765,
         "hum": 47430,
         "wind_speed": 5610,
         "weather_code": 1530,
         "is_holiday": 0,
         "is_weekend": 510,
         "season": 1530,
         "hour": 7650,
         "_deepnote_index_column": 15
        },
        {
         "cnt": 375870,
         "t1": 1530,
         "t2": 0,
         "hum": 47430,
         "wind_speed": 6120,
         "weather_code": 1530,
         "is_holiday": 0,
         "is_weekend": 510,
         "season": 1530,
         "hour": 8160,
         "_deepnote_index_column": 16
        },
        {
         "cnt": 302940,
         "t1": 1530,
         "t2": 0,
         "hum": 47430,
         "wind_speed": 5610,
         "weather_code": 1530,
         "is_holiday": 0,
         "is_weekend": 510,
         "season": 1530,
         "hour": 8670,
         "_deepnote_index_column": 17
        },
        {
         "cnt": 266220,
         "t1": 1530,
         "t2": 765,
         "hum": 47430,
         "wind_speed": 3315,
         "weather_code": 1530,
         "is_holiday": 0,
         "is_weekend": 510,
         "season": 1530,
         "hour": 9180,
         "_deepnote_index_column": 18
        },
        {
         "cnt": 193290,
         "t1": 1530,
         "t2": 510,
         "hum": 47430,
         "wind_speed": 3570,
         "weather_code": 1530,
         "is_holiday": 0,
         "is_weekend": 510,
         "season": 1530,
         "hour": 9690,
         "_deepnote_index_column": 19
        },
        {
         "cnt": 167280,
         "t1": 1530,
         "t2": 1530,
         "hum": 47430,
         "wind_speed": 2040,
         "weather_code": 1530,
         "is_holiday": 0,
         "is_weekend": 510,
         "season": 1530,
         "hour": 10200,
         "_deepnote_index_column": 20
        },
        {
         "cnt": 112710,
         "t1": 1530,
         "t2": 1275,
         "hum": 47430,
         "wind_speed": 2550,
         "weather_code": 2040,
         "is_holiday": 0,
         "is_weekend": 510,
         "season": 1530,
         "hour": 10710,
         "_deepnote_index_column": 21
        },
        {
         "cnt": 90780,
         "t1": 1530,
         "t2": 1020,
         "hum": 47430,
         "wind_speed": 3060,
         "weather_code": 2040,
         "is_holiday": 0,
         "is_weekend": 510,
         "season": 1530,
         "hour": 11220,
         "_deepnote_index_column": 22
        },
        {
         "cnt": 80070,
         "t1": 2040,
         "t2": 1785,
         "hum": 44370,
         "wind_speed": 2550,
         "weather_code": 2040,
         "is_holiday": 0,
         "is_weekend": 510,
         "season": 1530,
         "hour": 11730,
         "_deepnote_index_column": 23
        },
        {
         "cnt": 42330,
         "t1": 2040,
         "t2": 1530,
         "hum": 47430,
         "wind_speed": 3060,
         "weather_code": 2040,
         "is_holiday": 0,
         "is_weekend": 0,
         "season": 1530,
         "hour": 0,
         "_deepnote_index_column": 24
        },
        {
         "cnt": 34170,
         "t1": 2040,
         "t2": 1785,
         "hum": 47430,
         "wind_speed": 2550,
         "weather_code": 2040,
         "is_holiday": 0,
         "is_weekend": 0,
         "season": 1530,
         "hour": 510,
         "_deepnote_index_column": 25
        },
        {
         "cnt": 16320,
         "t1": 2550,
         "t2": 2040,
         "hum": 44370,
         "wind_speed": 3060,
         "weather_code": 2040,
         "is_holiday": 0,
         "is_weekend": 0,
         "season": 1530,
         "hour": 1020,
         "_deepnote_index_column": 26
        },
        {
         "cnt": 11220,
         "t1": 3060,
         "t2": 2295,
         "hum": 42840,
         "wind_speed": 3825,
         "weather_code": 2040,
         "is_holiday": 0,
         "is_weekend": 0,
         "season": 1530,
         "hour": 1530,
         "_deepnote_index_column": 27
        },
        {
         "cnt": 19380,
         "t1": 3315,
         "t2": 2550,
         "hum": 42840,
         "wind_speed": 4080,
         "weather_code": 2040,
         "is_holiday": 0,
         "is_weekend": 0,
         "season": 1530,
         "hour": 2040,
         "_deepnote_index_column": 28
        },
        {
         "cnt": 41310,
         "t1": 3060,
         "t2": 2805,
         "hum": 44370,
         "wind_speed": 2550,
         "weather_code": 2040,
         "is_holiday": 0,
         "is_weekend": 0,
         "season": 1530,
         "hour": 2550,
         "_deepnote_index_column": 29
        },
        {
         "cnt": 226440,
         "t1": 3570,
         "t2": 3315,
         "hum": 41310,
         "wind_speed": 2550,
         "weather_code": 1530,
         "is_holiday": 0,
         "is_weekend": 0,
         "season": 1530,
         "hour": 3060,
         "_deepnote_index_column": 30
        },
        {
         "cnt": 814470,
         "t1": 3570,
         "t2": 3060,
         "hum": 41310,
         "wind_speed": 3315,
         "weather_code": 1530,
         "is_holiday": 0,
         "is_weekend": 0,
         "season": 1530,
         "hour": 3570,
         "_deepnote_index_column": 31
        },
        {
         "cnt": 1612110,
         "t1": 4080,
         "t2": 3825,
         "hum": 40290,
         "wind_speed": 2550,
         "weather_code": 1530,
         "is_holiday": 0,
         "is_weekend": 0,
         "season": 1530,
         "hour": 4080,
         "_deepnote_index_column": 32
        },
        {
         "cnt": 684420,
         "t1": 4080,
         "t2": 3570,
         "hum": 41820,
         "wind_speed": 3060,
         "weather_code": 1530,
         "is_holiday": 0,
         "is_weekend": 0,
         "season": 1530,
         "hour": 4590,
         "_deepnote_index_column": 33
        },
        {
         "cnt": 289680,
         "t1": 4590,
         "t2": 4080,
         "hum": 43095,
         "wind_speed": 3315,
         "weather_code": 1530,
         "is_holiday": 0,
         "is_weekend": 0,
         "season": 1530,
         "hour": 5100,
         "_deepnote_index_column": 34
        },
        {
         "cnt": 297840,
         "t1": 4590,
         "t2": 3825,
         "hum": 46155,
         "wind_speed": 5100,
         "weather_code": 1530,
         "is_holiday": 0,
         "is_weekend": 0,
         "season": 1530,
         "hour": 5610,
         "_deepnote_index_column": 35
        },
        {
         "cnt": 388620,
         "t1": 5100,
         "t2": 4080,
         "hum": 43350,
         "wind_speed": 5610,
         "weather_code": 1530,
         "is_holiday": 0,
         "is_weekend": 0,
         "season": 1530,
         "hour": 6120,
         "_deepnote_index_column": 36
        },
        {
         "cnt": 445230,
         "t1": 5100,
         "t2": 4335,
         "hum": 41820,
         "wind_speed": 5100,
         "weather_code": 1530,
         "is_holiday": 0,
         "is_weekend": 0,
         "season": 1530,
         "hour": 6630,
         "_deepnote_index_column": 37
        },
        {
         "cnt": 342720,
         "t1": 5100,
         "t2": 4590,
         "hum": 41820,
         "wind_speed": 4590,
         "weather_code": 1530,
         "is_holiday": 0,
         "is_weekend": 0,
         "season": 1530,
         "hour": 7140,
         "_deepnote_index_column": 38
        },
        {
         "cnt": 411570,
         "t1": 5100,
         "t2": 4335,
         "hum": 40290,
         "wind_speed": 5100,
         "weather_code": 1530,
         "is_holiday": 0,
         "is_weekend": 0,
         "season": 1530,
         "hour": 7650,
         "_deepnote_index_column": 39
        },
        {
         "cnt": 607920,
         "t1": 5100,
         "t2": 4335,
         "hum": 37485,
         "wind_speed": 6630,
         "weather_code": 1530,
         "is_holiday": 0,
         "is_weekend": 0,
         "season": 1530,
         "hour": 8160,
         "_deepnote_index_column": 40
        },
        {
         "cnt": 1408110,
         "t1": 4845,
         "t2": 3825,
         "hum": 37485,
         "wind_speed": 6120,
         "weather_code": 1530,
         "is_holiday": 0,
         "is_weekend": 0,
         "season": 1530,
         "hour": 8670,
         "_deepnote_index_column": 41
        },
        {
         "cnt": 1218390,
         "t1": 4845,
         "t2": 3825,
         "hum": 35190,
         "wind_speed": 7140,
         "weather_code": 1530,
         "is_holiday": 0,
         "is_weekend": 0,
         "season": 1530,
         "hour": 9180,
         "_deepnote_index_column": 42
        },
        {
         "cnt": 649740,
         "t1": 4590,
         "t2": 3315,
         "hum": 36210,
         "wind_speed": 7140,
         "weather_code": 1530,
         "is_holiday": 0,
         "is_weekend": 0,
         "season": 1530,
         "hour": 9690,
         "_deepnote_index_column": 43
        },
        {
         "cnt": 354960,
         "t1": 4590,
         "t2": 3570,
         "hum": 36210,
         "wind_speed": 7140,
         "weather_code": 1530,
         "is_holiday": 0,
         "is_weekend": 0,
         "season": 1530,
         "hour": 10200,
         "_deepnote_index_column": 44
        },
        {
         "cnt": 209610,
         "t1": 4590,
         "t2": 3570,
         "hum": 36210,
         "wind_speed": 5610,
         "weather_code": 1530,
         "is_holiday": 0,
         "is_weekend": 0,
         "season": 1530,
         "hour": 10710,
         "_deepnote_index_column": 45
        },
        {
         "cnt": 165240,
         "t1": 4590,
         "t2": 3825,
         "hum": 36210,
         "wind_speed": 5100,
         "weather_code": 2040,
         "is_holiday": 0,
         "is_weekend": 0,
         "season": 1530,
         "hour": 11220,
         "_deepnote_index_column": 46
        },
        {
         "cnt": 97920,
         "t1": 4335,
         "t2": 3825,
         "hum": 37485,
         "wind_speed": 4080,
         "weather_code": 2040,
         "is_holiday": 0,
         "is_weekend": 0,
         "season": 1530,
         "hour": 11730,
         "_deepnote_index_column": 47
        },
        {
         "cnt": 46410,
         "t1": 4080,
         "t2": 3315,
         "hum": 38760,
         "wind_speed": 4080,
         "weather_code": 2040,
         "is_holiday": 0,
         "is_weekend": 0,
         "season": 1530,
         "hour": 0,
         "_deepnote_index_column": 48
        },
        {
         "cnt": 37230,
         "t1": 4080,
         "t2": 3315,
         "hum": 38760,
         "wind_speed": 4080,
         "weather_code": 2040,
         "is_holiday": 0,
         "is_weekend": 0,
         "season": 1530,
         "hour": 510,
         "_deepnote_index_column": 49
        }
       ],
       "rows_bottom": [
        {
         "cnt": 60690,
         "t1": 2550,
         "t2": 1020,
         "hum": 47430,
         "wind_speed": 6120,
         "weather_code": 1530,
         "is_holiday": 0,
         "is_weekend": 510,
         "season": 1530,
         "hour": 11220,
         "_deepnote_index_column": 17364
        },
        {
         "cnt": 45390,
         "t1": 2550,
         "t2": 1275,
         "hum": 45900,
         "wind_speed": 5100,
         "weather_code": 510,
         "is_holiday": 0,
         "is_weekend": 510,
         "season": 1530,
         "hour": 11730,
         "_deepnote_index_column": 17365
        },
        {
         "cnt": 42840,
         "t1": 2550,
         "t2": 1020,
         "hum": 44370,
         "wind_speed": 6630,
         "weather_code": 510,
         "is_holiday": 510,
         "is_weekend": 0,
         "season": 1530,
         "hour": 0,
         "_deepnote_index_column": 17366
        },
        {
         "cnt": 31620,
         "t1": 2550,
         "t2": 1020,
         "hum": 44370,
         "wind_speed": 6120,
         "weather_code": 510,
         "is_holiday": 510,
         "is_weekend": 0,
         "season": 1530,
         "hour": 510,
         "_deepnote_index_column": 17367
        },
        {
         "cnt": 20910,
         "t1": 2295,
         "t2": 765,
         "hum": 45900,
         "wind_speed": 7140,
         "weather_code": 510,
         "is_holiday": 510,
         "is_weekend": 0,
         "season": 1530,
         "hour": 1020,
         "_deepnote_index_column": 17368
        },
        {
         "cnt": 11730,
         "t1": 1785,
         "t2": 255,
         "hum": 45900,
         "wind_speed": 6630,
         "weather_code": 510,
         "is_holiday": 510,
         "is_weekend": 0,
         "season": 1530,
         "hour": 1530,
         "_deepnote_index_column": 17369
        },
        {
         "cnt": 9180,
         "t1": 1530,
         "t2": 255,
         "hum": 47430,
         "wind_speed": 4080,
         "weather_code": 1020,
         "is_holiday": 510,
         "is_weekend": 0,
         "season": 1530,
         "hour": 2040,
         "_deepnote_index_column": 17370
        },
        {
         "cnt": 17850,
         "t1": 1530,
         "t2": 1275,
         "hum": 47430,
         "wind_speed": 2550,
         "weather_code": 1020,
         "is_holiday": 510,
         "is_weekend": 0,
         "season": 1530,
         "hour": 2550,
         "_deepnote_index_column": 17371
        },
        {
         "cnt": 32640,
         "t1": 1530,
         "t2": 0,
         "hum": 44370,
         "wind_speed": 5100,
         "weather_code": 1020,
         "is_holiday": 510,
         "is_weekend": 0,
         "season": 1530,
         "hour": 3060,
         "_deepnote_index_column": 17372
        },
        {
         "cnt": 56610,
         "t1": 1530,
         "t2": 0,
         "hum": 44370,
         "wind_speed": 4590,
         "weather_code": 510,
         "is_holiday": 510,
         "is_weekend": 0,
         "season": 1530,
         "hour": 3570,
         "_deepnote_index_column": 17373
        },
        {
         "cnt": 103530,
         "t1": 1530,
         "t2": 0,
         "hum": 44370,
         "wind_speed": 4590,
         "weather_code": 510,
         "is_holiday": 510,
         "is_weekend": 0,
         "season": 1530,
         "hour": 4080,
         "_deepnote_index_column": 17374
        },
        {
         "cnt": 209610,
         "t1": 1530,
         "t2": -255,
         "hum": 44370,
         "wind_speed": 6120,
         "weather_code": 510,
         "is_holiday": 510,
         "is_weekend": 0,
         "season": 1530,
         "hour": 4590,
         "_deepnote_index_column": 17375
        },
        {
         "cnt": 340680,
         "t1": 2040,
         "t2": 0,
         "hum": 41310,
         "wind_speed": 8670,
         "weather_code": 510,
         "is_holiday": 510,
         "is_weekend": 0,
         "season": 1530,
         "hour": 5100,
         "_deepnote_index_column": 17376
        },
        {
         "cnt": 520710,
         "t1": 2295,
         "t2": 765,
         "hum": 40035,
         "wind_speed": 8160,
         "weather_code": 510,
         "is_holiday": 510,
         "is_weekend": 0,
         "season": 1530,
         "hour": 5610,
         "_deepnote_index_column": 17377
        },
        {
         "cnt": 646170,
         "t1": 2550,
         "t2": 1020,
         "hum": 40035,
         "wind_speed": 7140,
         "weather_code": 510,
         "is_holiday": 510,
         "is_weekend": 0,
         "season": 1530,
         "hour": 6120,
         "_deepnote_index_column": 17378
        },
        {
         "cnt": 671160,
         "t1": 2805,
         "t2": 1530,
         "hum": 37485,
         "wind_speed": 5610,
         "weather_code": 1020,
         "is_holiday": 510,
         "is_weekend": 0,
         "season": 1530,
         "hour": 6630,
         "_deepnote_index_column": 17379
        },
        {
         "cnt": 775200,
         "t1": 3060,
         "t2": 2040,
         "hum": 36210,
         "wind_speed": 5610,
         "weather_code": 1020,
         "is_holiday": 510,
         "is_weekend": 0,
         "season": 1530,
         "hour": 7140,
         "_deepnote_index_column": 17380
        },
        {
         "cnt": 688500,
         "t1": 2550,
         "t2": 1530,
         "hum": 38760,
         "wind_speed": 4590,
         "weather_code": 510,
         "is_holiday": 510,
         "is_weekend": 0,
         "season": 1530,
         "hour": 7650,
         "_deepnote_index_column": 17381
        },
        {
         "cnt": 495210,
         "t1": 2550,
         "t2": 1275,
         "hum": 38760,
         "wind_speed": 5610,
         "weather_code": 510,
         "is_holiday": 510,
         "is_weekend": 0,
         "season": 1530,
         "hour": 8160,
         "_deepnote_index_column": 17382
        },
        {
         "cnt": 366180,
         "t1": 2040,
         "t2": 765,
         "hum": 41310,
         "wind_speed": 5100,
         "weather_code": 510,
         "is_holiday": 510,
         "is_weekend": 0,
         "season": 1530,
         "hour": 8670,
         "_deepnote_index_column": 17383
        },
        {
         "cnt": 302940,
         "t1": 1530,
         "t2": 0,
         "hum": 42840,
         "wind_speed": 4590,
         "weather_code": 510,
         "is_holiday": 510,
         "is_weekend": 0,
         "season": 1530,
         "hour": 9180,
         "_deepnote_index_column": 17384
        },
        {
         "cnt": 220830,
         "t1": 1530,
         "t2": 0,
         "hum": 41310,
         "wind_speed": 5610,
         "weather_code": 510,
         "is_holiday": 510,
         "is_weekend": 0,
         "season": 1530,
         "hour": 9690,
         "_deepnote_index_column": 17385
        },
        {
         "cnt": 170340,
         "t1": 1530,
         "t2": 0,
         "hum": 38250,
         "wind_speed": 6630,
         "weather_code": 510,
         "is_holiday": 510,
         "is_weekend": 0,
         "season": 1530,
         "hour": 10200,
         "_deepnote_index_column": 17386
        },
        {
         "cnt": 118830,
         "t1": 1275,
         "t2": -255,
         "hum": 39780,
         "wind_speed": 5610,
         "weather_code": 510,
         "is_holiday": 510,
         "is_weekend": 0,
         "season": 1530,
         "hour": 10710,
         "_deepnote_index_column": 17387
        },
        {
         "cnt": 102510,
         "t1": 1020,
         "t2": -510,
         "hum": 41310,
         "wind_speed": 5100,
         "weather_code": 510,
         "is_holiday": 510,
         "is_weekend": 0,
         "season": 1530,
         "hour": 11220,
         "_deepnote_index_column": 17388
        },
        {
         "cnt": 73950,
         "t1": 510,
         "t2": -1020,
         "hum": 47430,
         "wind_speed": 5100,
         "weather_code": 510,
         "is_holiday": 510,
         "is_weekend": 0,
         "season": 1530,
         "hour": 11730,
         "_deepnote_index_column": 17389
        },
        {
         "cnt": 32130,
         "t1": 510,
         "t2": -1020,
         "hum": 45900,
         "wind_speed": 5610,
         "weather_code": 510,
         "is_holiday": 0,
         "is_weekend": 0,
         "season": 1530,
         "hour": 0,
         "_deepnote_index_column": 17390
        },
        {
         "cnt": 24990,
         "t1": 510,
         "t2": -1020,
         "hum": 44370,
         "wind_speed": 5100,
         "weather_code": 510,
         "is_holiday": 0,
         "is_weekend": 0,
         "season": 1530,
         "hour": 510,
         "_deepnote_index_column": 17391
        },
        {
         "cnt": 21930,
         "t1": 255,
         "t2": -1530,
         "hum": 45900,
         "wind_speed": 5610,
         "weather_code": 510,
         "is_holiday": 0,
         "is_weekend": 0,
         "season": 1530,
         "hour": 1020,
         "_deepnote_index_column": 17392
        },
        {
         "cnt": 5100,
         "t1": 0,
         "t2": -2040,
         "hum": 47430,
         "wind_speed": 6630,
         "weather_code": 510,
         "is_holiday": 0,
         "is_weekend": 0,
         "season": 1530,
         "hour": 1530,
         "_deepnote_index_column": 17393
        },
        {
         "cnt": 15300,
         "t1": 0,
         "t2": -2040,
         "hum": 47430,
         "wind_speed": 7140,
         "weather_code": 510,
         "is_holiday": 0,
         "is_weekend": 0,
         "season": 1530,
         "hour": 2040,
         "_deepnote_index_column": 17394
        },
        {
         "cnt": 42330,
         "t1": 255,
         "t2": -1785,
         "hum": 45900,
         "wind_speed": 7140,
         "weather_code": 1530,
         "is_holiday": 0,
         "is_weekend": 0,
         "season": 1530,
         "hour": 2550,
         "_deepnote_index_column": 17395
        },
        {
         "cnt": 221340,
         "t1": 510,
         "t2": -1785,
         "hum": 44370,
         "wind_speed": 9180,
         "weather_code": 510,
         "is_holiday": 0,
         "is_weekend": 0,
         "season": 1530,
         "hour": 3060,
         "_deepnote_index_column": 17396
        },
        {
         "cnt": 717570,
         "t1": 510,
         "t2": -2040,
         "hum": 44370,
         "wind_speed": 9690,
         "weather_code": 510,
         "is_holiday": 0,
         "is_weekend": 0,
         "season": 1530,
         "hour": 3570,
         "_deepnote_index_column": 17397
        },
        {
         "cnt": 1481040,
         "t1": 510,
         "t2": -1785,
         "hum": 44370,
         "wind_speed": 9435,
         "weather_code": 1530,
         "is_holiday": 0,
         "is_weekend": 0,
         "season": 1530,
         "hour": 4080,
         "_deepnote_index_column": 17398
        },
        {
         "cnt": 692070,
         "t1": 1275,
         "t2": -765,
         "hum": 41310,
         "wind_speed": 7140,
         "weather_code": 510,
         "is_holiday": 0,
         "is_weekend": 0,
         "season": 1530,
         "hour": 4590,
         "_deepnote_index_column": 17399
        },
        {
         "cnt": 337110,
         "t1": 1530,
         "t2": -1020,
         "hum": 41310,
         "wind_speed": 10200,
         "weather_code": 510,
         "is_holiday": 0,
         "is_weekend": 0,
         "season": 1530,
         "hour": 5100,
         "_deepnote_index_column": 17400
        },
        {
         "cnt": 324360,
         "t1": 2040,
         "t2": 0,
         "hum": 39780,
         "wind_speed": 10710,
         "weather_code": 510,
         "is_holiday": 0,
         "is_weekend": 0,
         "season": 1530,
         "hour": 5610,
         "_deepnote_index_column": 17401
        },
        {
         "cnt": 420750,
         "t1": 2550,
         "t2": 510,
         "hum": 38760,
         "wind_speed": 10710,
         "weather_code": 1530,
         "is_holiday": 0,
         "is_weekend": 0,
         "season": 1530,
         "hour": 6120,
         "_deepnote_index_column": 17402
        },
        {
         "cnt": 447780,
         "t1": 3060,
         "t2": 1020,
         "hum": 36210,
         "wind_speed": 11730,
         "weather_code": 2040,
         "is_holiday": 0,
         "is_weekend": 0,
         "season": 1530,
         "hour": 6630,
         "_deepnote_index_column": 17403
        },
        {
         "cnt": 390150,
         "t1": 3060,
         "t2": 1020,
         "hum": 37485,
         "wind_speed": 11220,
         "weather_code": 1530,
         "is_holiday": 0,
         "is_weekend": 0,
         "season": 1530,
         "hour": 7140,
         "_deepnote_index_column": 17404
        },
        {
         "cnt": 430950,
         "t1": 3060,
         "t2": 1020,
         "hum": 36210,
         "wind_speed": 13770,
         "weather_code": 2040,
         "is_holiday": 0,
         "is_weekend": 0,
         "season": 1530,
         "hour": 7650,
         "_deepnote_index_column": 17405
        },
        {
         "cnt": 612510,
         "t1": 3060,
         "t2": 1020,
         "hum": 36210,
         "wind_speed": 13260,
         "weather_code": 2040,
         "is_holiday": 0,
         "is_weekend": 0,
         "season": 1530,
         "hour": 8160,
         "_deepnote_index_column": 17406
        },
        {
         "cnt": 1398420,
         "t1": 3060,
         "t2": 1020,
         "hum": 37485,
         "wind_speed": 10710,
         "weather_code": 1530,
         "is_holiday": 0,
         "is_weekend": 0,
         "season": 1530,
         "hour": 8670,
         "_deepnote_index_column": 17407
        },
        {
         "cnt": 1132200,
         "t1": 2550,
         "t2": 510,
         "hum": 41310,
         "wind_speed": 11220,
         "weather_code": 1020,
         "is_holiday": 0,
         "is_weekend": 0,
         "season": 1530,
         "hour": 9180,
         "_deepnote_index_column": 17408
        },
        {
         "cnt": 531420,
         "t1": 2550,
         "t2": 510,
         "hum": 41310,
         "wind_speed": 9690,
         "weather_code": 1530,
         "is_holiday": 0,
         "is_weekend": 0,
         "season": 1530,
         "hour": 9690,
         "_deepnote_index_column": 17409
        },
        {
         "cnt": 275910,
         "t1": 2550,
         "t2": 510,
         "hum": 41310,
         "wind_speed": 10710,
         "weather_code": 2040,
         "is_holiday": 0,
         "is_weekend": 0,
         "season": 1530,
         "hour": 10200,
         "_deepnote_index_column": 17410
        },
        {
         "cnt": 171870,
         "t1": 2805,
         "t2": 765,
         "hum": 40035,
         "wind_speed": 12240,
         "weather_code": 2040,
         "is_holiday": 0,
         "is_weekend": 0,
         "season": 1530,
         "hour": 10710,
         "_deepnote_index_column": 17411
        },
        {
         "cnt": 114240,
         "t1": 2805,
         "t2": 765,
         "hum": 38760,
         "wind_speed": 11730,
         "weather_code": 2040,
         "is_holiday": 0,
         "is_weekend": 0,
         "season": 1530,
         "hour": 11220,
         "_deepnote_index_column": 17412
        },
        {
         "cnt": 70890,
         "t1": 2550,
         "t2": 510,
         "hum": 38760,
         "wind_speed": 11220,
         "weather_code": 1020,
         "is_holiday": 0,
         "is_weekend": 0,
         "season": 1530,
         "hour": 11730,
         "_deepnote_index_column": 17413
        }
       ]
      },
      "text/plain": "          cnt      t1      t2      hum  wind_speed  weather_code  is_holiday  \\\n0       92820  1530.0  1020.0  47430.0      3060.0        1530.0         0.0   \n1       70380  1530.0  1275.0  47430.0      2550.0         510.0         0.0   \n2       68340  1275.0  1275.0  49215.0         0.0         510.0         0.0   \n3       36720  1020.0  1020.0  51000.0         0.0         510.0         0.0   \n4       23970  1020.0     0.0  47430.0      3315.0         510.0         0.0   \n...       ...     ...     ...      ...         ...           ...         ...   \n17409  531420  2550.0   510.0  41310.0      9690.0        1530.0         0.0   \n17410  275910  2550.0   510.0  41310.0     10710.0        2040.0         0.0   \n17411  171870  2805.0   765.0  40035.0     12240.0        2040.0         0.0   \n17412  114240  2805.0   765.0  38760.0     11730.0        2040.0         0.0   \n17413   70890  2550.0   510.0  38760.0     11220.0        1020.0         0.0   \n\n       is_weekend  season   hour  \n0           510.0  1530.0      0  \n1           510.0  1530.0    510  \n2           510.0  1530.0   1020  \n3           510.0  1530.0   1530  \n4           510.0  1530.0   2040  \n...           ...     ...    ...  \n17409         0.0  1530.0   9690  \n17410         0.0  1530.0  10200  \n17411         0.0  1530.0  10710  \n17412         0.0  1530.0  11220  \n17413         0.0  1530.0  11730  \n\n[17414 rows x 10 columns]",
      "text/html": "<div>\n<style scoped>\n    .dataframe tbody tr th:only-of-type {\n        vertical-align: middle;\n    }\n\n    .dataframe tbody tr th {\n        vertical-align: top;\n    }\n\n    .dataframe thead th {\n        text-align: right;\n    }\n</style>\n<table border=\"1\" class=\"dataframe\">\n  <thead>\n    <tr style=\"text-align: right;\">\n      <th></th>\n      <th>cnt</th>\n      <th>t1</th>\n      <th>t2</th>\n      <th>hum</th>\n      <th>wind_speed</th>\n      <th>weather_code</th>\n      <th>is_holiday</th>\n      <th>is_weekend</th>\n      <th>season</th>\n      <th>hour</th>\n    </tr>\n  </thead>\n  <tbody>\n    <tr>\n      <th>0</th>\n      <td>92820</td>\n      <td>1530.0</td>\n      <td>1020.0</td>\n      <td>47430.0</td>\n      <td>3060.0</td>\n      <td>1530.0</td>\n      <td>0.0</td>\n      <td>510.0</td>\n      <td>1530.0</td>\n      <td>0</td>\n    </tr>\n    <tr>\n      <th>1</th>\n      <td>70380</td>\n      <td>1530.0</td>\n      <td>1275.0</td>\n      <td>47430.0</td>\n      <td>2550.0</td>\n      <td>510.0</td>\n      <td>0.0</td>\n      <td>510.0</td>\n      <td>1530.0</td>\n      <td>510</td>\n    </tr>\n    <tr>\n      <th>2</th>\n      <td>68340</td>\n      <td>1275.0</td>\n      <td>1275.0</td>\n      <td>49215.0</td>\n      <td>0.0</td>\n      <td>510.0</td>\n      <td>0.0</td>\n      <td>510.0</td>\n      <td>1530.0</td>\n      <td>1020</td>\n    </tr>\n    <tr>\n      <th>3</th>\n      <td>36720</td>\n      <td>1020.0</td>\n      <td>1020.0</td>\n      <td>51000.0</td>\n      <td>0.0</td>\n      <td>510.0</td>\n      <td>0.0</td>\n      <td>510.0</td>\n      <td>1530.0</td>\n      <td>1530</td>\n    </tr>\n    <tr>\n      <th>4</th>\n      <td>23970</td>\n      <td>1020.0</td>\n      <td>0.0</td>\n      <td>47430.0</td>\n      <td>3315.0</td>\n      <td>510.0</td>\n      <td>0.0</td>\n      <td>510.0</td>\n      <td>1530.0</td>\n      <td>2040</td>\n    </tr>\n    <tr>\n      <th>...</th>\n      <td>...</td>\n      <td>...</td>\n      <td>...</td>\n      <td>...</td>\n      <td>...</td>\n      <td>...</td>\n      <td>...</td>\n      <td>...</td>\n      <td>...</td>\n      <td>...</td>\n    </tr>\n    <tr>\n      <th>17409</th>\n      <td>531420</td>\n      <td>2550.0</td>\n      <td>510.0</td>\n      <td>41310.0</td>\n      <td>9690.0</td>\n      <td>1530.0</td>\n      <td>0.0</td>\n      <td>0.0</td>\n      <td>1530.0</td>\n      <td>9690</td>\n    </tr>\n    <tr>\n      <th>17410</th>\n      <td>275910</td>\n      <td>2550.0</td>\n      <td>510.0</td>\n      <td>41310.0</td>\n      <td>10710.0</td>\n      <td>2040.0</td>\n      <td>0.0</td>\n      <td>0.0</td>\n      <td>1530.0</td>\n      <td>10200</td>\n    </tr>\n    <tr>\n      <th>17411</th>\n      <td>171870</td>\n      <td>2805.0</td>\n      <td>765.0</td>\n      <td>40035.0</td>\n      <td>12240.0</td>\n      <td>2040.0</td>\n      <td>0.0</td>\n      <td>0.0</td>\n      <td>1530.0</td>\n      <td>10710</td>\n    </tr>\n    <tr>\n      <th>17412</th>\n      <td>114240</td>\n      <td>2805.0</td>\n      <td>765.0</td>\n      <td>38760.0</td>\n      <td>11730.0</td>\n      <td>2040.0</td>\n      <td>0.0</td>\n      <td>0.0</td>\n      <td>1530.0</td>\n      <td>11220</td>\n    </tr>\n    <tr>\n      <th>17413</th>\n      <td>70890</td>\n      <td>2550.0</td>\n      <td>510.0</td>\n      <td>38760.0</td>\n      <td>11220.0</td>\n      <td>1020.0</td>\n      <td>0.0</td>\n      <td>0.0</td>\n      <td>1530.0</td>\n      <td>11730</td>\n    </tr>\n  </tbody>\n</table>\n<p>17414 rows × 10 columns</p>\n</div>"
     },
     "metadata": {}
    }
   ],
   "execution_count": 77
  },
  {
   "cell_type": "markdown",
   "source": "<a style='text-decoration:none;line-height:16px;display:flex;color:#5B5B62;padding:10px;justify-content:end;' href='https://deepnote.com?utm_source=created-in-deepnote-cell&projectId=40d7a071-7e6a-4668-9914-a7e81441c111' target=\"_blank\">\n<img alt='Created in deepnote.com' style='display:inline;max-height:16px;margin:0px;margin-right:7.5px;' src='data:image/svg+xml;base64,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' > </img>\nCreated in <span style='font-weight:600;margin-left:4px;'>Deepnote</span></a>",
   "metadata": {
    "tags": [],
    "created_in_deepnote_cell": true,
    "deepnote_cell_type": "markdown"
   }
  }
 ],
 "nbformat": 4,
 "nbformat_minor": 2,
 "metadata": {
  "orig_nbformat": 2,
  "deepnote": {
   "is_reactive": false
  },
  "deepnote_notebook_id": "00c91b3c-583f-4760-aad4-c4f3e8c280c7",
  "deepnote_execution_queue": []
 }
}