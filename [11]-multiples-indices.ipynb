{
 "cells": [
  {
   "cell_type": "code",
   "metadata": {
    "tags": [],
    "cell_id": "00000-a657f68b-d9ab-4364-92e4-e7818a84cb80",
    "deepnote_to_be_reexecuted": false,
    "source_hash": "36daddad",
    "execution_start": 1625016020253,
    "execution_millis": 50,
    "deepnote_cell_type": "code"
   },
   "source": "import pandas as pd\nimport numpy as np\n\ndf_prob = pd.read_csv('db/poblacion.csv')\ndf_prob",
   "execution_count": 33,
   "outputs": [
    {
     "output_type": "execute_result",
     "execution_count": 33,
     "data": {
      "application/vnd.deepnote.dataframe.v2+json": {
       "row_count": 1040,
       "column_count": 3,
       "columns": [
        {
         "name": "Country",
         "dtype": "object",
         "stats": {
          "unique_count": 260,
          "nan_count": 0,
          "categories": [
           {
            "name": "Afghanistan",
            "count": 4
           },
           {
            "name": "Albania",
            "count": 4
           },
           {
            "name": "258 others",
            "count": 1032
           }
          ]
         }
        },
        {
         "name": "year",
         "dtype": "int64",
         "stats": {
          "unique_count": 4,
          "nan_count": 0,
          "min": "2015",
          "max": "2018",
          "histogram": [
           {
            "bin_start": 2015,
            "bin_end": 2015.3,
            "count": 260
           },
           {
            "bin_start": 2015.3,
            "bin_end": 2015.6,
            "count": 0
           },
           {
            "bin_start": 2015.6,
            "bin_end": 2015.9,
            "count": 0
           },
           {
            "bin_start": 2015.9,
            "bin_end": 2016.2,
            "count": 260
           },
           {
            "bin_start": 2016.2,
            "bin_end": 2016.5,
            "count": 0
           },
           {
            "bin_start": 2016.5,
            "bin_end": 2016.8,
            "count": 0
           },
           {
            "bin_start": 2016.8,
            "bin_end": 2017.1,
            "count": 260
           },
           {
            "bin_start": 2017.1,
            "bin_end": 2017.4,
            "count": 0
           },
           {
            "bin_start": 2017.4,
            "bin_end": 2017.7,
            "count": 0
           },
           {
            "bin_start": 2017.7,
            "bin_end": 2018,
            "count": 260
           }
          ]
         }
        },
        {
         "name": "pop",
         "dtype": "float64",
         "stats": {
          "unique_count": 1028,
          "nan_count": 8,
          "min": "11099.0",
          "max": "6412522234.0",
          "histogram": [
           {
            "bin_start": 11099,
            "bin_end": 641262212.5,
            "count": 931
           },
           {
            "bin_start": 641262212.5,
            "bin_end": 1282513326,
            "count": 38
           },
           {
            "bin_start": 1282513326,
            "bin_end": 1923764439.5,
            "count": 23
           },
           {
            "bin_start": 1923764439.5,
            "bin_end": 2565015553,
            "count": 16
           },
           {
            "bin_start": 2565015553,
            "bin_end": 3206266666.5,
            "count": 6
           },
           {
            "bin_start": 3206266666.5,
            "bin_end": 3847517780,
            "count": 2
           },
           {
            "bin_start": 3847517780,
            "bin_end": 4488768893.5,
            "count": 0
           },
           {
            "bin_start": 4488768893.5,
            "bin_end": 5130020007,
            "count": 4
           },
           {
            "bin_start": 5130020007,
            "bin_end": 5771271120.5,
            "count": 4
           },
           {
            "bin_start": 5771271120.5,
            "bin_end": 6412522234,
            "count": 8
           }
          ]
         }
        },
        {
         "name": "_deepnote_index_column",
         "dtype": "int64"
        }
       ],
       "rows_top": [
        {
         "Country": "Afghanistan",
         "year": 2015,
         "pop": 34413603,
         "_deepnote_index_column": 0
        },
        {
         "Country": "Albania",
         "year": 2015,
         "pop": 2880703,
         "_deepnote_index_column": 1
        },
        {
         "Country": "Algeria",
         "year": 2015,
         "pop": 39728025,
         "_deepnote_index_column": 2
        },
        {
         "Country": "American Samoa",
         "year": 2015,
         "pop": 55812,
         "_deepnote_index_column": 3
        },
        {
         "Country": "Andorra",
         "year": 2015,
         "pop": 78011,
         "_deepnote_index_column": 4
        },
        {
         "Country": "Angola",
         "year": 2015,
         "pop": 27884381,
         "_deepnote_index_column": 5
        },
        {
         "Country": "Antigua and Barbuda",
         "year": 2015,
         "pop": 93566,
         "_deepnote_index_column": 6
        },
        {
         "Country": "Argentina",
         "year": 2015,
         "pop": 43131966,
         "_deepnote_index_column": 7
        },
        {
         "Country": "Armenia",
         "year": 2015,
         "pop": 2925553,
         "_deepnote_index_column": 8
        },
        {
         "Country": "Aruba",
         "year": 2015,
         "pop": 104341,
         "_deepnote_index_column": 9
        },
        {
         "Country": "Australia",
         "year": 2015,
         "pop": 23815995,
         "_deepnote_index_column": 10
        },
        {
         "Country": "Austria",
         "year": 2015,
         "pop": 8642699,
         "_deepnote_index_column": 11
        },
        {
         "Country": "Azerbaijan",
         "year": 2015,
         "pop": 9649341,
         "_deepnote_index_column": 12
        },
        {
         "Country": "Bahamas, The",
         "year": 2015,
         "pop": 374206,
         "_deepnote_index_column": 13
        },
        {
         "Country": "Bahrain",
         "year": 2015,
         "pop": 1371851,
         "_deepnote_index_column": 14
        },
        {
         "Country": "Bangladesh",
         "year": 2015,
         "pop": 156256276,
         "_deepnote_index_column": 15
        },
        {
         "Country": "Barbados",
         "year": 2015,
         "pop": 285324,
         "_deepnote_index_column": 16
        },
        {
         "Country": "Belarus",
         "year": 2015,
         "pop": 9489616,
         "_deepnote_index_column": 17
        },
        {
         "Country": "Belgium",
         "year": 2015,
         "pop": 11274196,
         "_deepnote_index_column": 18
        },
        {
         "Country": "Belize",
         "year": 2015,
         "pop": 360933,
         "_deepnote_index_column": 19
        },
        {
         "Country": "Benin",
         "year": 2015,
         "pop": 10575952,
         "_deepnote_index_column": 20
        },
        {
         "Country": "Bermuda",
         "year": 2015,
         "pop": 65239,
         "_deepnote_index_column": 21
        },
        {
         "Country": "Bhutan",
         "year": 2015,
         "pop": 727876,
         "_deepnote_index_column": 22
        },
        {
         "Country": "Bolivia",
         "year": 2015,
         "pop": 10869730,
         "_deepnote_index_column": 23
        },
        {
         "Country": "Bosnia and Herzegovina",
         "year": 2015,
         "pop": 3429361,
         "_deepnote_index_column": 24
        },
        {
         "Country": "Botswana",
         "year": 2015,
         "pop": 2120716,
         "_deepnote_index_column": 25
        },
        {
         "Country": "Brazil",
         "year": 2015,
         "pop": 204471769,
         "_deepnote_index_column": 26
        },
        {
         "Country": "British Virgin Islands",
         "year": 2015,
         "pop": 29152,
         "_deepnote_index_column": 27
        },
        {
         "Country": "Brunei Darussalam",
         "year": 2015,
         "pop": 414907,
         "_deepnote_index_column": 28
        },
        {
         "Country": "Bulgaria",
         "year": 2015,
         "pop": 7177991,
         "_deepnote_index_column": 29
        },
        {
         "Country": "Burkina Faso",
         "year": 2015,
         "pop": 18110624,
         "_deepnote_index_column": 30
        },
        {
         "Country": "Burundi",
         "year": 2015,
         "pop": 10160030,
         "_deepnote_index_column": 31
        },
        {
         "Country": "Cabo Verde",
         "year": 2015,
         "pop": 524743,
         "_deepnote_index_column": 32
        },
        {
         "Country": "Cambodia",
         "year": 2015,
         "pop": 15521436,
         "_deepnote_index_column": 33
        },
        {
         "Country": "Cameroon",
         "year": 2015,
         "pop": 23298368,
         "_deepnote_index_column": 34
        },
        {
         "Country": "Canada",
         "year": 2015,
         "pop": 35702908,
         "_deepnote_index_column": 35
        },
        {
         "Country": "Cayman Islands",
         "year": 2015,
         "pop": 61724,
         "_deepnote_index_column": 36
        },
        {
         "Country": "Central African Republic",
         "year": 2015,
         "pop": 4493170,
         "_deepnote_index_column": 37
        },
        {
         "Country": "Chad",
         "year": 2015,
         "pop": 14110975,
         "_deepnote_index_column": 38
        },
        {
         "Country": "Channel Islands",
         "year": 2015,
         "pop": 165385,
         "_deepnote_index_column": 39
        },
        {
         "Country": "Chile",
         "year": 2015,
         "pop": 17969353,
         "_deepnote_index_column": 40
        },
        {
         "Country": "China",
         "year": 2015,
         "pop": 1371220000,
         "_deepnote_index_column": 41
        },
        {
         "Country": "Colombia",
         "year": 2015,
         "pop": 47520667,
         "_deepnote_index_column": 42
        },
        {
         "Country": "Comoros",
         "year": 2015,
         "pop": 777424,
         "_deepnote_index_column": 43
        },
        {
         "Country": "Congo, Dem. Rep.",
         "year": 2015,
         "pop": 76244544,
         "_deepnote_index_column": 44
        },
        {
         "Country": "Congo, Rep.",
         "year": 2015,
         "pop": 4856095,
         "_deepnote_index_column": 45
        },
        {
         "Country": "Costa Rica",
         "year": 2015,
         "pop": 4847804,
         "_deepnote_index_column": 46
        },
        {
         "Country": "Cote d'Ivoire",
         "year": 2015,
         "pop": 23226143,
         "_deepnote_index_column": 47
        },
        {
         "Country": "Croatia",
         "year": 2015,
         "pop": 4203604,
         "_deepnote_index_column": 48
        },
        {
         "Country": "Cuba",
         "year": 2015,
         "pop": 11324781,
         "_deepnote_index_column": 49
        },
        {
         "Country": "Curacao",
         "year": 2015,
         "pop": 157980,
         "_deepnote_index_column": 50
        },
        {
         "Country": "Cyprus",
         "year": 2015,
         "pop": 1160985,
         "_deepnote_index_column": 51
        },
        {
         "Country": "Czech Republic",
         "year": 2015,
         "pop": 10546059,
         "_deepnote_index_column": 52
        },
        {
         "Country": "Denmark",
         "year": 2015,
         "pop": 5683483,
         "_deepnote_index_column": 53
        },
        {
         "Country": "Djibouti",
         "year": 2015,
         "pop": 913993,
         "_deepnote_index_column": 54
        },
        {
         "Country": "Dominica",
         "year": 2015,
         "pop": 71183,
         "_deepnote_index_column": 55
        },
        {
         "Country": "Dominican Republic",
         "year": 2015,
         "pop": 10281680,
         "_deepnote_index_column": 56
        },
        {
         "Country": "Ecuador",
         "year": 2015,
         "pop": 16212020,
         "_deepnote_index_column": 57
        },
        {
         "Country": "Egypt, Arab Rep.",
         "year": 2015,
         "pop": 92442547,
         "_deepnote_index_column": 58
        },
        {
         "Country": "El Salvador",
         "year": 2015,
         "pop": 6325124,
         "_deepnote_index_column": 59
        },
        {
         "Country": "Equatorial Guinea",
         "year": 2015,
         "pop": 1168568,
         "_deepnote_index_column": 60
        },
        {
         "Country": "Eritrea",
         "year": 2015,
         "pop": "nan",
         "_deepnote_index_column": 61
        },
        {
         "Country": "Estonia",
         "year": 2015,
         "pop": 1315407,
         "_deepnote_index_column": 62
        },
        {
         "Country": "Eswatini",
         "year": 2015,
         "pop": 1104044,
         "_deepnote_index_column": 63
        },
        {
         "Country": "Ethiopia",
         "year": 2015,
         "pop": 100835458,
         "_deepnote_index_column": 64
        },
        {
         "Country": "Faroe Islands",
         "year": 2015,
         "pop": 48051,
         "_deepnote_index_column": 65
        },
        {
         "Country": "Fiji",
         "year": 2015,
         "pop": 868627,
         "_deepnote_index_column": 66
        },
        {
         "Country": "Finland",
         "year": 2015,
         "pop": 5479531,
         "_deepnote_index_column": 67
        },
        {
         "Country": "France",
         "year": 2015,
         "pop": 66593366,
         "_deepnote_index_column": 68
        },
        {
         "Country": "French Polynesia",
         "year": 2015,
         "pop": 273124,
         "_deepnote_index_column": 69
        },
        {
         "Country": "Gabon",
         "year": 2015,
         "pop": 1947686,
         "_deepnote_index_column": 70
        },
        {
         "Country": "Gambia, The",
         "year": 2015,
         "pop": 2085860,
         "_deepnote_index_column": 71
        },
        {
         "Country": "Georgia",
         "year": 2015,
         "pop": 3725276,
         "_deepnote_index_column": 72
        },
        {
         "Country": "Germany",
         "year": 2015,
         "pop": 81686611,
         "_deepnote_index_column": 73
        },
        {
         "Country": "Ghana",
         "year": 2015,
         "pop": 27849205,
         "_deepnote_index_column": 74
        },
        {
         "Country": "Gibraltar",
         "year": 2015,
         "pop": 33736,
         "_deepnote_index_column": 75
        },
        {
         "Country": "Greece",
         "year": 2015,
         "pop": 10820883,
         "_deepnote_index_column": 76
        },
        {
         "Country": "Greenland",
         "year": 2015,
         "pop": 56114,
         "_deepnote_index_column": 77
        },
        {
         "Country": "Grenada",
         "year": 2015,
         "pop": 109599,
         "_deepnote_index_column": 78
        },
        {
         "Country": "Guam",
         "year": 2015,
         "pop": 161853,
         "_deepnote_index_column": 79
        },
        {
         "Country": "Guatemala",
         "year": 2015,
         "pop": 16252429,
         "_deepnote_index_column": 80
        },
        {
         "Country": "Guinea",
         "year": 2015,
         "pop": 11432088,
         "_deepnote_index_column": 81
        },
        {
         "Country": "Guinea-Bissau",
         "year": 2015,
         "pop": 1737202,
         "_deepnote_index_column": 82
        },
        {
         "Country": "Guyana",
         "year": 2015,
         "pop": 767432,
         "_deepnote_index_column": 83
        },
        {
         "Country": "Haiti",
         "year": 2015,
         "pop": 10695542,
         "_deepnote_index_column": 84
        },
        {
         "Country": "Honduras",
         "year": 2015,
         "pop": 9112916,
         "_deepnote_index_column": 85
        },
        {
         "Country": "Hong Kong SAR, China",
         "year": 2015,
         "pop": 7291300,
         "_deepnote_index_column": 86
        },
        {
         "Country": "Hungary",
         "year": 2015,
         "pop": 9843028,
         "_deepnote_index_column": 87
        },
        {
         "Country": "Iceland",
         "year": 2015,
         "pop": 330815,
         "_deepnote_index_column": 88
        },
        {
         "Country": "India",
         "year": 2015,
         "pop": 1310152403,
         "_deepnote_index_column": 89
        },
        {
         "Country": "Indonesia",
         "year": 2015,
         "pop": 258383256,
         "_deepnote_index_column": 90
        },
        {
         "Country": "Iran, Islamic Rep.",
         "year": 2015,
         "pop": 78492215,
         "_deepnote_index_column": 91
        },
        {
         "Country": "Iraq",
         "year": 2015,
         "pop": 35572261,
         "_deepnote_index_column": 92
        },
        {
         "Country": "Ireland",
         "year": 2015,
         "pop": 4701957,
         "_deepnote_index_column": 93
        },
        {
         "Country": "Isle of Man",
         "year": 2015,
         "pop": 83234,
         "_deepnote_index_column": 94
        },
        {
         "Country": "Israel",
         "year": 2015,
         "pop": 8380100,
         "_deepnote_index_column": 95
        },
        {
         "Country": "Italy",
         "year": 2015,
         "pop": 60730582,
         "_deepnote_index_column": 96
        },
        {
         "Country": "Jamaica",
         "year": 2015,
         "pop": 2891021,
         "_deepnote_index_column": 97
        },
        {
         "Country": "Japan",
         "year": 2015,
         "pop": 127141000,
         "_deepnote_index_column": 98
        },
        {
         "Country": "Jordan",
         "year": 2015,
         "pop": 9266575,
         "_deepnote_index_column": 99
        },
        {
         "Country": "Kazakhstan",
         "year": 2015,
         "pop": 17542806,
         "_deepnote_index_column": 100
        },
        {
         "Country": "Kenya",
         "year": 2015,
         "pop": 47878336,
         "_deepnote_index_column": 101
        },
        {
         "Country": "Kiribati",
         "year": 2015,
         "pop": 110930,
         "_deepnote_index_column": 102
        },
        {
         "Country": "Korea, Dem. People’s Rep.",
         "year": 2015,
         "pop": 25183833,
         "_deepnote_index_column": 103
        },
        {
         "Country": "Korea, Rep.",
         "year": 2015,
         "pop": 51014947,
         "_deepnote_index_column": 104
        },
        {
         "Country": "Kosovo",
         "year": 2015,
         "pop": 1801800,
         "_deepnote_index_column": 105
        },
        {
         "Country": "Kuwait",
         "year": 2015,
         "pop": 3835591,
         "_deepnote_index_column": 106
        },
        {
         "Country": "Kyrgyz Republic",
         "year": 2015,
         "pop": 5956900,
         "_deepnote_index_column": 107
        },
        {
         "Country": "Lao PDR",
         "year": 2015,
         "pop": 6741164,
         "_deepnote_index_column": 108
        },
        {
         "Country": "Latvia",
         "year": 2015,
         "pop": 1977527,
         "_deepnote_index_column": 109
        },
        {
         "Country": "Lebanon",
         "year": 2015,
         "pop": 6532678,
         "_deepnote_index_column": 110
        },
        {
         "Country": "Lesotho",
         "year": 2015,
         "pop": 2059021,
         "_deepnote_index_column": 111
        },
        {
         "Country": "Liberia",
         "year": 2015,
         "pop": 4472230,
         "_deepnote_index_column": 112
        },
        {
         "Country": "Libya",
         "year": 2015,
         "pop": 6418315,
         "_deepnote_index_column": 113
        },
        {
         "Country": "Liechtenstein",
         "year": 2015,
         "pop": 37470,
         "_deepnote_index_column": 114
        },
        {
         "Country": "Lithuania",
         "year": 2015,
         "pop": 2904910,
         "_deepnote_index_column": 115
        },
        {
         "Country": "Luxembourg",
         "year": 2015,
         "pop": 569604,
         "_deepnote_index_column": 116
        },
        {
         "Country": "Macao SAR, China",
         "year": 2015,
         "pop": 602085,
         "_deepnote_index_column": 117
        },
        {
         "Country": "Madagascar",
         "year": 2015,
         "pop": 24234088,
         "_deepnote_index_column": 118
        },
        {
         "Country": "Malawi",
         "year": 2015,
         "pop": 16745303,
         "_deepnote_index_column": 119
        },
        {
         "Country": "Malaysia",
         "year": 2015,
         "pop": 30270962,
         "_deepnote_index_column": 120
        },
        {
         "Country": "Maldives",
         "year": 2015,
         "pop": 454915,
         "_deepnote_index_column": 121
        },
        {
         "Country": "Mali",
         "year": 2015,
         "pop": 17438778,
         "_deepnote_index_column": 122
        },
        {
         "Country": "Malta",
         "year": 2015,
         "pop": 445053,
         "_deepnote_index_column": 123
        },
        {
         "Country": "Marshall Islands",
         "year": 2015,
         "pop": 57439,
         "_deepnote_index_column": 124
        },
        {
         "Country": "Mauritania",
         "year": 2015,
         "pop": 4046301,
         "_deepnote_index_column": 125
        },
        {
         "Country": "Mauritius",
         "year": 2015,
         "pop": 1262605,
         "_deepnote_index_column": 126
        },
        {
         "Country": "Mexico",
         "year": 2015,
         "pop": 121858258,
         "_deepnote_index_column": 127
        },
        {
         "Country": "Micronesia, Fed. Sts.",
         "year": 2015,
         "pop": 108895,
         "_deepnote_index_column": 128
        },
        {
         "Country": "Moldova",
         "year": 2015,
         "pop": 3554108,
         "_deepnote_index_column": 129
        },
        {
         "Country": "Monaco",
         "year": 2015,
         "pop": 37718,
         "_deepnote_index_column": 130
        },
        {
         "Country": "Mongolia",
         "year": 2015,
         "pop": 2998439,
         "_deepnote_index_column": 131
        },
        {
         "Country": "Montenegro",
         "year": 2015,
         "pop": 622159,
         "_deepnote_index_column": 132
        },
        {
         "Country": "Morocco",
         "year": 2015,
         "pop": 34663603,
         "_deepnote_index_column": 133
        },
        {
         "Country": "Mozambique",
         "year": 2015,
         "pop": 27042002,
         "_deepnote_index_column": 134
        },
        {
         "Country": "Myanmar",
         "year": 2015,
         "pop": 52680726,
         "_deepnote_index_column": 135
        },
        {
         "Country": "Namibia",
         "year": 2015,
         "pop": 2314904,
         "_deepnote_index_column": 136
        },
        {
         "Country": "Nauru",
         "year": 2015,
         "pop": 12475,
         "_deepnote_index_column": 137
        },
        {
         "Country": "Nepal",
         "year": 2015,
         "pop": 27015031,
         "_deepnote_index_column": 138
        },
        {
         "Country": "Netherlands",
         "year": 2015,
         "pop": 16939923,
         "_deepnote_index_column": 139
        },
        {
         "Country": "New Caledonia",
         "year": 2015,
         "pop": 272400,
         "_deepnote_index_column": 140
        },
        {
         "Country": "New Zealand",
         "year": 2015,
         "pop": 4595700,
         "_deepnote_index_column": 141
        },
        {
         "Country": "Nicaragua",
         "year": 2015,
         "pop": 6223240,
         "_deepnote_index_column": 142
        },
        {
         "Country": "Niger",
         "year": 2015,
         "pop": 20001663,
         "_deepnote_index_column": 143
        },
        {
         "Country": "Nigeria",
         "year": 2015,
         "pop": 181137448,
         "_deepnote_index_column": 144
        },
        {
         "Country": "North Macedonia",
         "year": 2015,
         "pop": 2079328,
         "_deepnote_index_column": 145
        },
        {
         "Country": "Northern Mariana Islands",
         "year": 2015,
         "pop": 55780,
         "_deepnote_index_column": 146
        },
        {
         "Country": "Norway",
         "year": 2015,
         "pop": 5188607,
         "_deepnote_index_column": 147
        },
        {
         "Country": "Oman",
         "year": 2015,
         "pop": 4267348,
         "_deepnote_index_column": 148
        },
        {
         "Country": "Pakistan",
         "year": 2015,
         "pop": 199426964,
         "_deepnote_index_column": 149
        },
        {
         "Country": "Palau",
         "year": 2015,
         "pop": 17665,
         "_deepnote_index_column": 150
        },
        {
         "Country": "Panama",
         "year": 2015,
         "pop": 3968487,
         "_deepnote_index_column": 151
        },
        {
         "Country": "Papua New Guinea",
         "year": 2015,
         "pop": 8107775,
         "_deepnote_index_column": 152
        },
        {
         "Country": "Paraguay",
         "year": 2015,
         "pop": 6688746,
         "_deepnote_index_column": 153
        },
        {
         "Country": "Peru",
         "year": 2015,
         "pop": 30470734,
         "_deepnote_index_column": 154
        },
        {
         "Country": "Philippines",
         "year": 2015,
         "pop": 102113212,
         "_deepnote_index_column": 155
        },
        {
         "Country": "Poland",
         "year": 2015,
         "pop": 37986412,
         "_deepnote_index_column": 156
        },
        {
         "Country": "Portugal",
         "year": 2015,
         "pop": 10358076,
         "_deepnote_index_column": 157
        },
        {
         "Country": "Puerto Rico",
         "year": 2015,
         "pop": 3473166,
         "_deepnote_index_column": 158
        },
        {
         "Country": "Qatar",
         "year": 2015,
         "pop": 2565710,
         "_deepnote_index_column": 159
        },
        {
         "Country": "Romania",
         "year": 2015,
         "pop": 19815481,
         "_deepnote_index_column": 160
        },
        {
         "Country": "Russian Federation",
         "year": 2015,
         "pop": 144096870,
         "_deepnote_index_column": 161
        },
        {
         "Country": "Rwanda",
         "year": 2015,
         "pop": 11369071,
         "_deepnote_index_column": 162
        },
        {
         "Country": "Samoa",
         "year": 2015,
         "pop": 193513,
         "_deepnote_index_column": 163
        },
        {
         "Country": "San Marino",
         "year": 2015,
         "pop": 33272,
         "_deepnote_index_column": 164
        },
        {
         "Country": "Sao Tome and Principe",
         "year": 2015,
         "pop": 199432,
         "_deepnote_index_column": 165
        }
       ],
       "rows_bottom": [
        {
         "Country": "Ireland",
         "year": 2018,
         "pop": 4853506,
         "_deepnote_index_column": 873
        },
        {
         "Country": "Isle of Man",
         "year": 2018,
         "pop": 84077,
         "_deepnote_index_column": 874
        },
        {
         "Country": "Israel",
         "year": 2018,
         "pop": 8883800,
         "_deepnote_index_column": 875
        },
        {
         "Country": "Italy",
         "year": 2018,
         "pop": 60431283,
         "_deepnote_index_column": 876
        },
        {
         "Country": "Jamaica",
         "year": 2018,
         "pop": 2934855,
         "_deepnote_index_column": 877
        },
        {
         "Country": "Japan",
         "year": 2018,
         "pop": 126529100,
         "_deepnote_index_column": 878
        },
        {
         "Country": "Jordan",
         "year": 2018,
         "pop": 9956011,
         "_deepnote_index_column": 879
        },
        {
         "Country": "Kazakhstan",
         "year": 2018,
         "pop": 18276499,
         "_deepnote_index_column": 880
        },
        {
         "Country": "Kenya",
         "year": 2018,
         "pop": 51393010,
         "_deepnote_index_column": 881
        },
        {
         "Country": "Kiribati",
         "year": 2018,
         "pop": 115847,
         "_deepnote_index_column": 882
        },
        {
         "Country": "Korea, Dem. People’s Rep.",
         "year": 2018,
         "pop": 25549819,
         "_deepnote_index_column": 883
        },
        {
         "Country": "Korea, Rep.",
         "year": 2018,
         "pop": 51635256,
         "_deepnote_index_column": 884
        },
        {
         "Country": "Kosovo",
         "year": 2018,
         "pop": 1845300,
         "_deepnote_index_column": 885
        },
        {
         "Country": "Kuwait",
         "year": 2018,
         "pop": 4137309,
         "_deepnote_index_column": 886
        },
        {
         "Country": "Kyrgyz Republic",
         "year": 2018,
         "pop": 6315800,
         "_deepnote_index_column": 887
        },
        {
         "Country": "Lao PDR",
         "year": 2018,
         "pop": 7061507,
         "_deepnote_index_column": 888
        },
        {
         "Country": "Latvia",
         "year": 2018,
         "pop": 1926542,
         "_deepnote_index_column": 889
        },
        {
         "Country": "Lebanon",
         "year": 2018,
         "pop": 6848925,
         "_deepnote_index_column": 890
        },
        {
         "Country": "Lesotho",
         "year": 2018,
         "pop": 2108132,
         "_deepnote_index_column": 891
        },
        {
         "Country": "Liberia",
         "year": 2018,
         "pop": 4818977,
         "_deepnote_index_column": 892
        },
        {
         "Country": "Libya",
         "year": 2018,
         "pop": 6678567,
         "_deepnote_index_column": 893
        },
        {
         "Country": "Liechtenstein",
         "year": 2018,
         "pop": 37910,
         "_deepnote_index_column": 894
        },
        {
         "Country": "Lithuania",
         "year": 2018,
         "pop": 2789533,
         "_deepnote_index_column": 895
        },
        {
         "Country": "Luxembourg",
         "year": 2018,
         "pop": 607728,
         "_deepnote_index_column": 896
        },
        {
         "Country": "Macao SAR, China",
         "year": 2018,
         "pop": 631636,
         "_deepnote_index_column": 897
        },
        {
         "Country": "Madagascar",
         "year": 2018,
         "pop": 26262368,
         "_deepnote_index_column": 898
        },
        {
         "Country": "Malawi",
         "year": 2018,
         "pop": 18143315,
         "_deepnote_index_column": 899
        },
        {
         "Country": "Malaysia",
         "year": 2018,
         "pop": 31528585,
         "_deepnote_index_column": 900
        },
        {
         "Country": "Maldives",
         "year": 2018,
         "pop": 515696,
         "_deepnote_index_column": 901
        },
        {
         "Country": "Mali",
         "year": 2018,
         "pop": 19077690,
         "_deepnote_index_column": 902
        },
        {
         "Country": "Malta",
         "year": 2018,
         "pop": 483530,
         "_deepnote_index_column": 903
        },
        {
         "Country": "Marshall Islands",
         "year": 2018,
         "pop": 58413,
         "_deepnote_index_column": 904
        },
        {
         "Country": "Mauritania",
         "year": 2018,
         "pop": 4403319,
         "_deepnote_index_column": 905
        },
        {
         "Country": "Mauritius",
         "year": 2018,
         "pop": 1265303,
         "_deepnote_index_column": 906
        },
        {
         "Country": "Mexico",
         "year": 2018,
         "pop": 126190788,
         "_deepnote_index_column": 907
        },
        {
         "Country": "Micronesia, Fed. Sts.",
         "year": 2018,
         "pop": 112640,
         "_deepnote_index_column": 908
        },
        {
         "Country": "Moldova",
         "year": 2018,
         "pop": 3545883,
         "_deepnote_index_column": 909
        },
        {
         "Country": "Monaco",
         "year": 2018,
         "pop": 38682,
         "_deepnote_index_column": 910
        },
        {
         "Country": "Mongolia",
         "year": 2018,
         "pop": 3170208,
         "_deepnote_index_column": 911
        },
        {
         "Country": "Montenegro",
         "year": 2018,
         "pop": 622345,
         "_deepnote_index_column": 912
        },
        {
         "Country": "Morocco",
         "year": 2018,
         "pop": 36029138,
         "_deepnote_index_column": 913
        },
        {
         "Country": "Mozambique",
         "year": 2018,
         "pop": 29495962,
         "_deepnote_index_column": 914
        },
        {
         "Country": "Myanmar",
         "year": 2018,
         "pop": 53708395,
         "_deepnote_index_column": 915
        },
        {
         "Country": "Namibia",
         "year": 2018,
         "pop": 2448255,
         "_deepnote_index_column": 916
        },
        {
         "Country": "Nauru",
         "year": 2018,
         "pop": 12704,
         "_deepnote_index_column": 917
        },
        {
         "Country": "Nepal",
         "year": 2018,
         "pop": 28087871,
         "_deepnote_index_column": 918
        },
        {
         "Country": "Netherlands",
         "year": 2018,
         "pop": 17231017,
         "_deepnote_index_column": 919
        },
        {
         "Country": "New Caledonia",
         "year": 2018,
         "pop": 284060,
         "_deepnote_index_column": 920
        },
        {
         "Country": "New Zealand",
         "year": 2018,
         "pop": 4885500,
         "_deepnote_index_column": 921
        },
        {
         "Country": "Nicaragua",
         "year": 2018,
         "pop": 6465513,
         "_deepnote_index_column": 922
        },
        {
         "Country": "Niger",
         "year": 2018,
         "pop": 22442948,
         "_deepnote_index_column": 923
        },
        {
         "Country": "Nigeria",
         "year": 2018,
         "pop": 195874740,
         "_deepnote_index_column": 924
        },
        {
         "Country": "North Macedonia",
         "year": 2018,
         "pop": 2082958,
         "_deepnote_index_column": 925
        },
        {
         "Country": "Northern Mariana Islands",
         "year": 2018,
         "pop": 56882,
         "_deepnote_index_column": 926
        },
        {
         "Country": "Norway",
         "year": 2018,
         "pop": 5314336,
         "_deepnote_index_column": 927
        },
        {
         "Country": "Oman",
         "year": 2018,
         "pop": 4829483,
         "_deepnote_index_column": 928
        },
        {
         "Country": "Pakistan",
         "year": 2018,
         "pop": 212215030,
         "_deepnote_index_column": 929
        },
        {
         "Country": "Palau",
         "year": 2018,
         "pop": 17907,
         "_deepnote_index_column": 930
        },
        {
         "Country": "Panama",
         "year": 2018,
         "pop": 4176873,
         "_deepnote_index_column": 931
        },
        {
         "Country": "Papua New Guinea",
         "year": 2018,
         "pop": 8606316,
         "_deepnote_index_column": 932
        },
        {
         "Country": "Paraguay",
         "year": 2018,
         "pop": 6956071,
         "_deepnote_index_column": 933
        },
        {
         "Country": "Peru",
         "year": 2018,
         "pop": 31989256,
         "_deepnote_index_column": 934
        },
        {
         "Country": "Philippines",
         "year": 2018,
         "pop": 106651922,
         "_deepnote_index_column": 935
        },
        {
         "Country": "Poland",
         "year": 2018,
         "pop": 37978548,
         "_deepnote_index_column": 936
        },
        {
         "Country": "Portugal",
         "year": 2018,
         "pop": 10281762,
         "_deepnote_index_column": 937
        },
        {
         "Country": "Puerto Rico",
         "year": 2018,
         "pop": 3195153,
         "_deepnote_index_column": 938
        },
        {
         "Country": "Qatar",
         "year": 2018,
         "pop": 2781677,
         "_deepnote_index_column": 939
        },
        {
         "Country": "Romania",
         "year": 2018,
         "pop": 19473936,
         "_deepnote_index_column": 940
        },
        {
         "Country": "Russian Federation",
         "year": 2018,
         "pop": 144478050,
         "_deepnote_index_column": 941
        },
        {
         "Country": "Rwanda",
         "year": 2018,
         "pop": 12301939,
         "_deepnote_index_column": 942
        },
        {
         "Country": "Samoa",
         "year": 2018,
         "pop": 196130,
         "_deepnote_index_column": 943
        },
        {
         "Country": "San Marino",
         "year": 2018,
         "pop": 33785,
         "_deepnote_index_column": 944
        },
        {
         "Country": "Sao Tome and Principe",
         "year": 2018,
         "pop": 211028,
         "_deepnote_index_column": 945
        },
        {
         "Country": "Saudi Arabia",
         "year": 2018,
         "pop": 33699947,
         "_deepnote_index_column": 946
        },
        {
         "Country": "Senegal",
         "year": 2018,
         "pop": 15854360,
         "_deepnote_index_column": 947
        },
        {
         "Country": "Serbia",
         "year": 2018,
         "pop": 6982084,
         "_deepnote_index_column": 948
        },
        {
         "Country": "Seychelles",
         "year": 2018,
         "pop": 96762,
         "_deepnote_index_column": 949
        },
        {
         "Country": "Sierra Leone",
         "year": 2018,
         "pop": 7650154,
         "_deepnote_index_column": 950
        },
        {
         "Country": "Singapore",
         "year": 2018,
         "pop": 5638676,
         "_deepnote_index_column": 951
        },
        {
         "Country": "Sint Maarten (Dutch part)",
         "year": 2018,
         "pop": 40654,
         "_deepnote_index_column": 952
        },
        {
         "Country": "Slovak Republic",
         "year": 2018,
         "pop": 5447011,
         "_deepnote_index_column": 953
        },
        {
         "Country": "Slovenia",
         "year": 2018,
         "pop": 2067372,
         "_deepnote_index_column": 954
        },
        {
         "Country": "Solomon Islands",
         "year": 2018,
         "pop": 652858,
         "_deepnote_index_column": 955
        },
        {
         "Country": "Somalia",
         "year": 2018,
         "pop": 15008154,
         "_deepnote_index_column": 956
        },
        {
         "Country": "South Africa",
         "year": 2018,
         "pop": 57779622,
         "_deepnote_index_column": 957
        },
        {
         "Country": "South Sudan",
         "year": 2018,
         "pop": 10975920,
         "_deepnote_index_column": 958
        },
        {
         "Country": "Spain",
         "year": 2018,
         "pop": 46723749,
         "_deepnote_index_column": 959
        },
        {
         "Country": "Sri Lanka",
         "year": 2018,
         "pop": 21670000,
         "_deepnote_index_column": 960
        },
        {
         "Country": "St. Kitts and Nevis",
         "year": 2018,
         "pop": 52441,
         "_deepnote_index_column": 961
        },
        {
         "Country": "St. Lucia",
         "year": 2018,
         "pop": 181889,
         "_deepnote_index_column": 962
        },
        {
         "Country": "St. Martin (French part)",
         "year": 2018,
         "pop": 37264,
         "_deepnote_index_column": 963
        },
        {
         "Country": "St. Vincent and the Grenadines",
         "year": 2018,
         "pop": 110210,
         "_deepnote_index_column": 964
        },
        {
         "Country": "Sudan",
         "year": 2018,
         "pop": 41801533,
         "_deepnote_index_column": 965
        },
        {
         "Country": "Suriname",
         "year": 2018,
         "pop": 575991,
         "_deepnote_index_column": 966
        },
        {
         "Country": "Sweden",
         "year": 2018,
         "pop": 10183175,
         "_deepnote_index_column": 967
        },
        {
         "Country": "Switzerland",
         "year": 2018,
         "pop": 8516543,
         "_deepnote_index_column": 968
        },
        {
         "Country": "Syrian Arab Republic",
         "year": 2018,
         "pop": 16906283,
         "_deepnote_index_column": 969
        },
        {
         "Country": "Tajikistan",
         "year": 2018,
         "pop": 9100837,
         "_deepnote_index_column": 970
        },
        {
         "Country": "Tanzania",
         "year": 2018,
         "pop": 56318348,
         "_deepnote_index_column": 971
        },
        {
         "Country": "Thailand",
         "year": 2018,
         "pop": 69428524,
         "_deepnote_index_column": 972
        },
        {
         "Country": "Timor-Leste",
         "year": 2018,
         "pop": 1267972,
         "_deepnote_index_column": 973
        },
        {
         "Country": "Togo",
         "year": 2018,
         "pop": 7889094,
         "_deepnote_index_column": 974
        },
        {
         "Country": "Tonga",
         "year": 2018,
         "pop": 103197,
         "_deepnote_index_column": 975
        },
        {
         "Country": "Trinidad and Tobago",
         "year": 2018,
         "pop": 1389858,
         "_deepnote_index_column": 976
        },
        {
         "Country": "Tunisia",
         "year": 2018,
         "pop": 11565204,
         "_deepnote_index_column": 977
        },
        {
         "Country": "Turkey",
         "year": 2018,
         "pop": 82319724,
         "_deepnote_index_column": 978
        },
        {
         "Country": "Turkmenistan",
         "year": 2018,
         "pop": 5850908,
         "_deepnote_index_column": 979
        },
        {
         "Country": "Turks and Caicos Islands",
         "year": 2018,
         "pop": 37665,
         "_deepnote_index_column": 980
        },
        {
         "Country": "Tuvalu",
         "year": 2018,
         "pop": 11508,
         "_deepnote_index_column": 981
        },
        {
         "Country": "Uganda",
         "year": 2018,
         "pop": 42723139,
         "_deepnote_index_column": 982
        },
        {
         "Country": "Ukraine",
         "year": 2018,
         "pop": 44622516,
         "_deepnote_index_column": 983
        },
        {
         "Country": "United Arab Emirates",
         "year": 2018,
         "pop": 9630959,
         "_deepnote_index_column": 984
        },
        {
         "Country": "United Kingdom",
         "year": 2018,
         "pop": 66488991,
         "_deepnote_index_column": 985
        },
        {
         "Country": "United States",
         "year": 2018,
         "pop": 327167434,
         "_deepnote_index_column": 986
        },
        {
         "Country": "Uruguay",
         "year": 2018,
         "pop": 3449299,
         "_deepnote_index_column": 987
        },
        {
         "Country": "Uzbekistan",
         "year": 2018,
         "pop": 32955400,
         "_deepnote_index_column": 988
        },
        {
         "Country": "Vanuatu",
         "year": 2018,
         "pop": 292680,
         "_deepnote_index_column": 989
        },
        {
         "Country": "Venezuela, RB",
         "year": 2018,
         "pop": 28870195,
         "_deepnote_index_column": 990
        },
        {
         "Country": "Vietnam",
         "year": 2018,
         "pop": 95540395,
         "_deepnote_index_column": 991
        },
        {
         "Country": "Virgin Islands (U.S.)",
         "year": 2018,
         "pop": 106977,
         "_deepnote_index_column": 992
        },
        {
         "Country": "West Bank and Gaza",
         "year": 2018,
         "pop": 4569087,
         "_deepnote_index_column": 993
        },
        {
         "Country": "Yemen, Rep.",
         "year": 2018,
         "pop": 28498687,
         "_deepnote_index_column": 994
        },
        {
         "Country": "Zambia",
         "year": 2018,
         "pop": 17351822,
         "_deepnote_index_column": 995
        },
        {
         "Country": "Zimbabwe",
         "year": 2018,
         "pop": 14439018,
         "_deepnote_index_column": 996
        },
        {
         "Country": "Arab World",
         "year": 2018,
         "pop": 419790588,
         "_deepnote_index_column": 997
        },
        {
         "Country": "Caribbean small states",
         "year": 2018,
         "pop": 7358965,
         "_deepnote_index_column": 998
        },
        {
         "Country": "Central Europe and the Baltics",
         "year": 2018,
         "pop": 102511922,
         "_deepnote_index_column": 999
        },
        {
         "Country": "Early-demographic dividend",
         "year": 2018,
         "pop": 3249140605,
         "_deepnote_index_column": 1000
        },
        {
         "Country": "East Asia & Pacific",
         "year": 2018,
         "pop": 2328220870,
         "_deepnote_index_column": 1001
        },
        {
         "Country": "East Asia & Pacific (excluding high income)",
         "year": 2018,
         "pop": 2081651801,
         "_deepnote_index_column": 1002
        },
        {
         "Country": "East Asia & Pacific (IDA & IBRD countries)",
         "year": 2018,
         "pop": 2056064424,
         "_deepnote_index_column": 1003
        },
        {
         "Country": "Euro area",
         "year": 2018,
         "pop": 341783171,
         "_deepnote_index_column": 1004
        },
        {
         "Country": "Europe & Central Asia",
         "year": 2018,
         "pop": 918793590,
         "_deepnote_index_column": 1005
        },
        {
         "Country": "Europe & Central Asia (excluding high income)",
         "year": 2018,
         "pop": 417797257,
         "_deepnote_index_column": 1006
        },
        {
         "Country": "Europe & Central Asia (IDA & IBRD countries)",
         "year": 2018,
         "pop": 459865205,
         "_deepnote_index_column": 1007
        },
        {
         "Country": "European Union",
         "year": 2018,
         "pop": 513213363,
         "_deepnote_index_column": 1008
        },
        {
         "Country": "Fragile and conflict affected situations",
         "year": 2018,
         "pop": 515215936,
         "_deepnote_index_column": 1009
        },
        {
         "Country": "Heavily indebted poor countries (HIPC)",
         "year": 2018,
         "pop": 780234406,
         "_deepnote_index_column": 1010
        },
        {
         "Country": "High income",
         "year": 2018,
         "pop": 1210312147,
         "_deepnote_index_column": 1011
        },
        {
         "Country": "IBRD only",
         "year": 2018,
         "pop": 4772284113,
         "_deepnote_index_column": 1012
        },
        {
         "Country": "IDA & IBRD total",
         "year": 2018,
         "pop": 6412522234,
         "_deepnote_index_column": 1013
        },
        {
         "Country": "IDA blend",
         "year": 2018,
         "pop": 555830605,
         "_deepnote_index_column": 1014
        },
        {
         "Country": "IDA only",
         "year": 2018,
         "pop": 1084407516,
         "_deepnote_index_column": 1015
        },
        {
         "Country": "IDA total",
         "year": 2018,
         "pop": 1640238121,
         "_deepnote_index_column": 1016
        },
        {
         "Country": "Late-demographic dividend",
         "year": 2018,
         "pop": 2288665963,
         "_deepnote_index_column": 1017
        },
        {
         "Country": "Latin America & Caribbean",
         "year": 2018,
         "pop": 641357515,
         "_deepnote_index_column": 1018
        },
        {
         "Country": "Latin America & Caribbean (excluding high income)",
         "year": 2018,
         "pop": 609013934,
         "_deepnote_index_column": 1019
        },
        {
         "Country": "Latin America & the Caribbean (IDA & IBRD countries)",
         "year": 2018,
         "pop": 625569713,
         "_deepnote_index_column": 1020
        },
        {
         "Country": "Least developed countries: UN classification",
         "year": 2018,
         "pop": 1009662578,
         "_deepnote_index_column": 1021
        },
        {
         "Country": "Low & middle income",
         "year": 2018,
         "pop": 6383958209,
         "_deepnote_index_column": 1022
        },
        {
         "Country": "Low income",
         "year": 2018,
         "pop": 705417321,
         "_deepnote_index_column": 1023
        },
        {
         "Country": "Lower middle income",
         "year": 2018,
         "pop": 3022905169,
         "_deepnote_index_column": 1024
        },
        {
         "Country": "Middle East & North Africa",
         "year": 2018,
         "pop": 448912859,
         "_deepnote_index_column": 1025
        },
        {
         "Country": "Middle East & North Africa (excluding high income)",
         "year": 2018,
         "pop": 382896715,
         "_deepnote_index_column": 1026
        },
        {
         "Country": "Middle East & North Africa (IDA & IBRD countries)",
         "year": 2018,
         "pop": 378327628,
         "_deepnote_index_column": 1027
        },
        {
         "Country": "Middle income",
         "year": 2018,
         "pop": 5678540888,
         "_deepnote_index_column": 1028
        },
        {
         "Country": "North America",
         "year": 2018,
         "pop": 364290258,
         "_deepnote_index_column": 1029
        },
        {
         "Country": "Not classified",
         "year": 2018,
         "pop": "nan",
         "_deepnote_index_column": 1030
        },
        {
         "Country": "OECD members",
         "year": 2018,
         "pop": 1303529456,
         "_deepnote_index_column": 1031
        },
        {
         "Country": "Other small states",
         "year": 2018,
         "pop": 30758989,
         "_deepnote_index_column": 1032
        },
        {
         "Country": "Pacific island small states",
         "year": 2018,
         "pop": 2457367,
         "_deepnote_index_column": 1033
        },
        {
         "Country": "Post-demographic dividend",
         "year": 2018,
         "pop": 1109997273,
         "_deepnote_index_column": 1034
        },
        {
         "Country": "Pre-demographic dividend",
         "year": 2018,
         "pop": 919485393,
         "_deepnote_index_column": 1035
        },
        {
         "Country": "Small states",
         "year": 2018,
         "pop": 40575321,
         "_deepnote_index_column": 1036
        },
        {
         "Country": "South Asia",
         "year": 2018,
         "pop": 1814388744,
         "_deepnote_index_column": 1037
        },
        {
         "Country": "South Asia (IDA & IBRD)",
         "year": 2018,
         "pop": 1814388744,
         "_deepnote_index_column": 1038
        },
        {
         "Country": "Sub-Saharan Africa",
         "year": 2018,
         "pop": 1078306520,
         "_deepnote_index_column": 1039
        }
       ]
      },
      "text/plain": "                       Country  year             pop\n0                  Afghanistan  2015    34,413,603.0\n1                      Albania  2015     2,880,703.0\n2                      Algeria  2015    39,728,025.0\n3               American Samoa  2015        55,812.0\n4                      Andorra  2015        78,011.0\n...                        ...   ...             ...\n1035  Pre-demographic dividend  2018   919,485,393.0\n1036              Small states  2018    40,575,321.0\n1037                South Asia  2018 1,814,388,744.0\n1038   South Asia (IDA & IBRD)  2018 1,814,388,744.0\n1039        Sub-Saharan Africa  2018 1,078,306,520.0\n\n[1040 rows x 3 columns]",
      "text/html": "<div>\n<style scoped>\n    .dataframe tbody tr th:only-of-type {\n        vertical-align: middle;\n    }\n\n    .dataframe tbody tr th {\n        vertical-align: top;\n    }\n\n    .dataframe thead th {\n        text-align: right;\n    }\n</style>\n<table border=\"1\" class=\"dataframe\">\n  <thead>\n    <tr style=\"text-align: right;\">\n      <th></th>\n      <th>Country</th>\n      <th>year</th>\n      <th>pop</th>\n    </tr>\n  </thead>\n  <tbody>\n    <tr>\n      <th>0</th>\n      <td>Afghanistan</td>\n      <td>2015</td>\n      <td>34,413,603.0</td>\n    </tr>\n    <tr>\n      <th>1</th>\n      <td>Albania</td>\n      <td>2015</td>\n      <td>2,880,703.0</td>\n    </tr>\n    <tr>\n      <th>2</th>\n      <td>Algeria</td>\n      <td>2015</td>\n      <td>39,728,025.0</td>\n    </tr>\n    <tr>\n      <th>3</th>\n      <td>American Samoa</td>\n      <td>2015</td>\n      <td>55,812.0</td>\n    </tr>\n    <tr>\n      <th>4</th>\n      <td>Andorra</td>\n      <td>2015</td>\n      <td>78,011.0</td>\n    </tr>\n    <tr>\n      <th>...</th>\n      <td>...</td>\n      <td>...</td>\n      <td>...</td>\n    </tr>\n    <tr>\n      <th>1035</th>\n      <td>Pre-demographic dividend</td>\n      <td>2018</td>\n      <td>919,485,393.0</td>\n    </tr>\n    <tr>\n      <th>1036</th>\n      <td>Small states</td>\n      <td>2018</td>\n      <td>40,575,321.0</td>\n    </tr>\n    <tr>\n      <th>1037</th>\n      <td>South Asia</td>\n      <td>2018</td>\n      <td>1,814,388,744.0</td>\n    </tr>\n    <tr>\n      <th>1038</th>\n      <td>South Asia (IDA &amp; IBRD)</td>\n      <td>2018</td>\n      <td>1,814,388,744.0</td>\n    </tr>\n    <tr>\n      <th>1039</th>\n      <td>Sub-Saharan Africa</td>\n      <td>2018</td>\n      <td>1,078,306,520.0</td>\n    </tr>\n  </tbody>\n</table>\n<p>1040 rows × 3 columns</p>\n</div>"
     },
     "metadata": {}
    }
   ]
  },
  {
   "cell_type": "code",
   "metadata": {
    "tags": [],
    "cell_id": "00001-250ff8df-c0de-4fae-a844-88155dcce437",
    "deepnote_to_be_reexecuted": false,
    "source_hash": "ff9eac54",
    "execution_start": 1625016020869,
    "execution_millis": 2,
    "deepnote_cell_type": "code"
   },
   "source": "pd.options.display.float_format = '{:,.1f}'.format",
   "execution_count": 34,
   "outputs": []
  },
  {
   "cell_type": "code",
   "metadata": {
    "tags": [],
    "cell_id": "00002-350fb614-e37b-4cd5-850c-36f348f36cc2",
    "deepnote_to_be_reexecuted": false,
    "source_hash": "d439b3d",
    "execution_start": 1625016021114,
    "execution_millis": 6,
    "deepnote_cell_type": "code"
   },
   "source": "df_prob['year'] = pd.Categorical(df_prob['year'].apply(str))\ndf_prob.dtypes",
   "execution_count": 35,
   "outputs": [
    {
     "output_type": "execute_result",
     "execution_count": 35,
     "data": {
      "text/plain": "Country      object\nyear       category\npop         float64\ndtype: object"
     },
     "metadata": {}
    }
   ]
  },
  {
   "cell_type": "code",
   "metadata": {
    "tags": [],
    "cell_id": "00003-459ab2af-88eb-40af-a691-d510cb706b22",
    "deepnote_to_be_reexecuted": false,
    "source_hash": "d204b3ea",
    "execution_start": 1625016021329,
    "execution_millis": 6,
    "deepnote_cell_type": "code"
   },
   "source": "id_filtro = df_prob['Country'].isin(['Aruba','Colombia'])\nid_filtro",
   "execution_count": 36,
   "outputs": [
    {
     "output_type": "execute_result",
     "execution_count": 36,
     "data": {
      "text/plain": "0       False\n1       False\n2       False\n3       False\n4       False\n        ...  \n1035    False\n1036    False\n1037    False\n1038    False\n1039    False\nName: Country, Length: 1040, dtype: bool"
     },
     "metadata": {}
    }
   ]
  },
  {
   "cell_type": "code",
   "metadata": {
    "tags": [],
    "cell_id": "00004-c1f4e830-0c9e-40dc-840a-ef0712e4fd75",
    "deepnote_to_be_reexecuted": false,
    "source_hash": "cb1f9521",
    "execution_start": 1625016021515,
    "execution_millis": 47,
    "deepnote_cell_type": "code"
   },
   "source": "df_sample = df_prob[id_filtro]\ndf_sample",
   "execution_count": 37,
   "outputs": [
    {
     "output_type": "execute_result",
     "execution_count": 37,
     "data": {
      "application/vnd.deepnote.dataframe.v2+json": {
       "row_count": 8,
       "column_count": 3,
       "columns": [
        {
         "name": "Country",
         "dtype": "object",
         "stats": {
          "unique_count": 2,
          "nan_count": 0,
          "categories": [
           {
            "name": "Aruba",
            "count": 4
           },
           {
            "name": "Colombia",
            "count": 4
           }
          ]
         }
        },
        {
         "name": "year",
         "dtype": "category",
         "stats": {
          "unique_count": 4,
          "nan_count": 0,
          "categories": [
           {
            "name": "2015",
            "count": 2
           },
           {
            "name": "2016",
            "count": 2
           },
           {
            "name": "2 others",
            "count": 4
           }
          ]
         }
        },
        {
         "name": "pop",
         "dtype": "float64",
         "stats": {
          "unique_count": 8,
          "nan_count": 0,
          "min": "104341.0",
          "max": "49648685.0",
          "histogram": [
           {
            "bin_start": 104341,
            "bin_end": 5058775.4,
            "count": 4
           },
           {
            "bin_start": 5058775.4,
            "bin_end": 10013209.8,
            "count": 0
           },
           {
            "bin_start": 10013209.8,
            "bin_end": 14967644.200000001,
            "count": 0
           },
           {
            "bin_start": 14967644.200000001,
            "bin_end": 19922078.6,
            "count": 0
           },
           {
            "bin_start": 19922078.6,
            "bin_end": 24876513,
            "count": 0
           },
           {
            "bin_start": 24876513,
            "bin_end": 29830947.400000002,
            "count": 0
           },
           {
            "bin_start": 29830947.400000002,
            "bin_end": 34785381.800000004,
            "count": 0
           },
           {
            "bin_start": 34785381.800000004,
            "bin_end": 39739816.2,
            "count": 0
           },
           {
            "bin_start": 39739816.2,
            "bin_end": 44694250.6,
            "count": 0
           },
           {
            "bin_start": 44694250.6,
            "bin_end": 49648685,
            "count": 4
           }
          ]
         }
        },
        {
         "name": "_deepnote_index_column",
         "dtype": "int64"
        }
       ],
       "rows_top": [
        {
         "Country": "Aruba",
         "year": "2015",
         "pop": 104341,
         "_deepnote_index_column": 9
        },
        {
         "Country": "Colombia",
         "year": "2015",
         "pop": 47520667,
         "_deepnote_index_column": 42
        },
        {
         "Country": "Aruba",
         "year": "2016",
         "pop": 104872,
         "_deepnote_index_column": 269
        },
        {
         "Country": "Colombia",
         "year": "2016",
         "pop": 48171392,
         "_deepnote_index_column": 302
        },
        {
         "Country": "Aruba",
         "year": "2017",
         "pop": 105366,
         "_deepnote_index_column": 529
        },
        {
         "Country": "Colombia",
         "year": "2017",
         "pop": 48901066,
         "_deepnote_index_column": 562
        },
        {
         "Country": "Aruba",
         "year": "2018",
         "pop": 105845,
         "_deepnote_index_column": 789
        },
        {
         "Country": "Colombia",
         "year": "2018",
         "pop": 49648685,
         "_deepnote_index_column": 822
        }
       ],
       "rows_bottom": null
      },
      "text/plain": "      Country  year          pop\n9       Aruba  2015    104,341.0\n42   Colombia  2015 47,520,667.0\n269     Aruba  2016    104,872.0\n302  Colombia  2016 48,171,392.0\n529     Aruba  2017    105,366.0\n562  Colombia  2017 48,901,066.0\n789     Aruba  2018    105,845.0\n822  Colombia  2018 49,648,685.0",
      "text/html": "<div>\n<style scoped>\n    .dataframe tbody tr th:only-of-type {\n        vertical-align: middle;\n    }\n\n    .dataframe tbody tr th {\n        vertical-align: top;\n    }\n\n    .dataframe thead th {\n        text-align: right;\n    }\n</style>\n<table border=\"1\" class=\"dataframe\">\n  <thead>\n    <tr style=\"text-align: right;\">\n      <th></th>\n      <th>Country</th>\n      <th>year</th>\n      <th>pop</th>\n    </tr>\n  </thead>\n  <tbody>\n    <tr>\n      <th>9</th>\n      <td>Aruba</td>\n      <td>2015</td>\n      <td>104,341.0</td>\n    </tr>\n    <tr>\n      <th>42</th>\n      <td>Colombia</td>\n      <td>2015</td>\n      <td>47,520,667.0</td>\n    </tr>\n    <tr>\n      <th>269</th>\n      <td>Aruba</td>\n      <td>2016</td>\n      <td>104,872.0</td>\n    </tr>\n    <tr>\n      <th>302</th>\n      <td>Colombia</td>\n      <td>2016</td>\n      <td>48,171,392.0</td>\n    </tr>\n    <tr>\n      <th>529</th>\n      <td>Aruba</td>\n      <td>2017</td>\n      <td>105,366.0</td>\n    </tr>\n    <tr>\n      <th>562</th>\n      <td>Colombia</td>\n      <td>2017</td>\n      <td>48,901,066.0</td>\n    </tr>\n    <tr>\n      <th>789</th>\n      <td>Aruba</td>\n      <td>2018</td>\n      <td>105,845.0</td>\n    </tr>\n    <tr>\n      <th>822</th>\n      <td>Colombia</td>\n      <td>2018</td>\n      <td>49,648,685.0</td>\n    </tr>\n  </tbody>\n</table>\n</div>"
     },
     "metadata": {}
    }
   ]
  },
  {
   "cell_type": "markdown",
   "source": "# Crear multiples indices",
   "metadata": {
    "tags": [],
    "cell_id": "00005-cf95a984-cd1e-43ff-bc23-0dc9befc42fb",
    "deepnote_cell_type": "markdown"
   }
  },
  {
   "cell_type": "code",
   "metadata": {
    "tags": [],
    "cell_id": "00005-7c1b7dda-7512-4ef4-a94f-abf67d626d6a",
    "deepnote_to_be_reexecuted": false,
    "source_hash": "f206c891",
    "execution_start": 1625016021937,
    "execution_millis": 13,
    "deepnote_cell_type": "code"
   },
   "source": "df_sample = df_sample.set_index(['Country','year']).sort_index()\ndf_sample",
   "execution_count": 38,
   "outputs": [
    {
     "output_type": "execute_result",
     "execution_count": 38,
     "data": {
      "application/vnd.deepnote.dataframe.v2+json": {
       "row_count": 8,
       "column_count": 1,
       "columns": [
        {
         "name": "pop",
         "dtype": "float64",
         "stats": {
          "unique_count": 8,
          "nan_count": 0,
          "min": "104341.0",
          "max": "49648685.0",
          "histogram": [
           {
            "bin_start": 104341,
            "bin_end": 5058775.4,
            "count": 4
           },
           {
            "bin_start": 5058775.4,
            "bin_end": 10013209.8,
            "count": 0
           },
           {
            "bin_start": 10013209.8,
            "bin_end": 14967644.200000001,
            "count": 0
           },
           {
            "bin_start": 14967644.200000001,
            "bin_end": 19922078.6,
            "count": 0
           },
           {
            "bin_start": 19922078.6,
            "bin_end": 24876513,
            "count": 0
           },
           {
            "bin_start": 24876513,
            "bin_end": 29830947.400000002,
            "count": 0
           },
           {
            "bin_start": 29830947.400000002,
            "bin_end": 34785381.800000004,
            "count": 0
           },
           {
            "bin_start": 34785381.800000004,
            "bin_end": 39739816.2,
            "count": 0
           },
           {
            "bin_start": 39739816.2,
            "bin_end": 44694250.6,
            "count": 0
           },
           {
            "bin_start": 44694250.6,
            "bin_end": 49648685,
            "count": 4
           }
          ]
         }
        },
        {
         "name": "_deepnote_index_column",
         "dtype": "object"
        }
       ],
       "rows_top": [
        {
         "pop": 104341,
         "_deepnote_index_column": "('Aruba', '2015')"
        },
        {
         "pop": 104872,
         "_deepnote_index_column": "('Aruba', '2016')"
        },
        {
         "pop": 105366,
         "_deepnote_index_column": "('Aruba', '2017')"
        },
        {
         "pop": 105845,
         "_deepnote_index_column": "('Aruba', '2018')"
        },
        {
         "pop": 47520667,
         "_deepnote_index_column": "('Colombia', '2015')"
        },
        {
         "pop": 48171392,
         "_deepnote_index_column": "('Colombia', '2016')"
        },
        {
         "pop": 48901066,
         "_deepnote_index_column": "('Colombia', '2017')"
        },
        {
         "pop": 49648685,
         "_deepnote_index_column": "('Colombia', '2018')"
        }
       ],
       "rows_bottom": null
      },
      "text/plain": "                       pop\nCountry  year             \nAruba    2015    104,341.0\n         2016    104,872.0\n         2017    105,366.0\n         2018    105,845.0\nColombia 2015 47,520,667.0\n         2016 48,171,392.0\n         2017 48,901,066.0\n         2018 49,648,685.0",
      "text/html": "<div>\n<style scoped>\n    .dataframe tbody tr th:only-of-type {\n        vertical-align: middle;\n    }\n\n    .dataframe tbody tr th {\n        vertical-align: top;\n    }\n\n    .dataframe thead th {\n        text-align: right;\n    }\n</style>\n<table border=\"1\" class=\"dataframe\">\n  <thead>\n    <tr style=\"text-align: right;\">\n      <th></th>\n      <th></th>\n      <th>pop</th>\n    </tr>\n    <tr>\n      <th>Country</th>\n      <th>year</th>\n      <th></th>\n    </tr>\n  </thead>\n  <tbody>\n    <tr>\n      <th rowspan=\"4\" valign=\"top\">Aruba</th>\n      <th>2015</th>\n      <td>104,341.0</td>\n    </tr>\n    <tr>\n      <th>2016</th>\n      <td>104,872.0</td>\n    </tr>\n    <tr>\n      <th>2017</th>\n      <td>105,366.0</td>\n    </tr>\n    <tr>\n      <th>2018</th>\n      <td>105,845.0</td>\n    </tr>\n    <tr>\n      <th rowspan=\"4\" valign=\"top\">Colombia</th>\n      <th>2015</th>\n      <td>47,520,667.0</td>\n    </tr>\n    <tr>\n      <th>2016</th>\n      <td>48,171,392.0</td>\n    </tr>\n    <tr>\n      <th>2017</th>\n      <td>48,901,066.0</td>\n    </tr>\n    <tr>\n      <th>2018</th>\n      <td>49,648,685.0</td>\n    </tr>\n  </tbody>\n</table>\n</div>"
     },
     "metadata": {}
    }
   ]
  },
  {
   "cell_type": "markdown",
   "source": "## loc : Seleccion de indices en una pequeña muestra",
   "metadata": {
    "tags": [],
    "cell_id": "00007-74dd9ce9-316d-4c9b-85b3-28bba0605c1c",
    "deepnote_cell_type": "markdown"
   }
  },
  {
   "cell_type": "code",
   "metadata": {
    "tags": [],
    "cell_id": "00007-5e61f487-1c67-47a0-bc8c-f392ea5cec46",
    "deepnote_to_be_reexecuted": false,
    "source_hash": "c1d155a0",
    "execution_start": 1625016022411,
    "execution_millis": 10,
    "deepnote_cell_type": "code"
   },
   "source": "df_sample.loc['Colombia',:].loc['2016',:]",
   "execution_count": 39,
   "outputs": [
    {
     "output_type": "execute_result",
     "execution_count": 39,
     "data": {
      "text/plain": "pop   48,171,392.0\nName: 2016, dtype: float64"
     },
     "metadata": {}
    }
   ]
  },
  {
   "cell_type": "markdown",
   "source": "## xs : Seleccion de indices en una pequeña muestra",
   "metadata": {
    "tags": [],
    "cell_id": "00009-bdb6cb5e-0dc8-43b5-bbc3-aae07592edba",
    "deepnote_cell_type": "markdown"
   }
  },
  {
   "cell_type": "code",
   "metadata": {
    "tags": [],
    "cell_id": "00008-c0726c31-31e4-4338-a81e-7258b3c7a685",
    "deepnote_to_be_reexecuted": false,
    "source_hash": "48028f76",
    "execution_start": 1625016022876,
    "execution_millis": 7,
    "deepnote_cell_type": "code"
   },
   "source": "df_sample.xs(['Aruba','2018'])",
   "execution_count": 40,
   "outputs": [
    {
     "output_type": "execute_result",
     "execution_count": 40,
     "data": {
      "text/plain": "pop   105,845.0\nName: (Aruba, 2018), dtype: float64"
     },
     "metadata": {}
    }
   ]
  },
  {
   "cell_type": "code",
   "metadata": {
    "tags": [],
    "cell_id": "00009-49dfc323-87f1-4e12-ab86-3abbc38859f9",
    "deepnote_to_be_reexecuted": false,
    "source_hash": "7dcd6686",
    "execution_start": 1625016023119,
    "execution_millis": 7,
    "deepnote_cell_type": "code"
   },
   "source": "df_sample.xs('2018', level='year')",
   "execution_count": 41,
   "outputs": [
    {
     "output_type": "execute_result",
     "execution_count": 41,
     "data": {
      "application/vnd.deepnote.dataframe.v2+json": {
       "row_count": 2,
       "column_count": 1,
       "columns": [
        {
         "name": "pop",
         "dtype": "float64",
         "stats": {
          "unique_count": 2,
          "nan_count": 0,
          "min": "105845.0",
          "max": "49648685.0",
          "histogram": [
           {
            "bin_start": 105845,
            "bin_end": 5060129,
            "count": 1
           },
           {
            "bin_start": 5060129,
            "bin_end": 10014413,
            "count": 0
           },
           {
            "bin_start": 10014413,
            "bin_end": 14968697,
            "count": 0
           },
           {
            "bin_start": 14968697,
            "bin_end": 19922981,
            "count": 0
           },
           {
            "bin_start": 19922981,
            "bin_end": 24877265,
            "count": 0
           },
           {
            "bin_start": 24877265,
            "bin_end": 29831549,
            "count": 0
           },
           {
            "bin_start": 29831549,
            "bin_end": 34785833,
            "count": 0
           },
           {
            "bin_start": 34785833,
            "bin_end": 39740117,
            "count": 0
           },
           {
            "bin_start": 39740117,
            "bin_end": 44694401,
            "count": 0
           },
           {
            "bin_start": 44694401,
            "bin_end": 49648685,
            "count": 1
           }
          ]
         }
        },
        {
         "name": "_deepnote_index_column",
         "dtype": "object"
        }
       ],
       "rows_top": [
        {
         "pop": 105845,
         "_deepnote_index_column": "Aruba"
        },
        {
         "pop": 49648685,
         "_deepnote_index_column": "Colombia"
        }
       ],
       "rows_bottom": null
      },
      "text/plain": "                  pop\nCountry              \nAruba       105,845.0\nColombia 49,648,685.0",
      "text/html": "<div>\n<style scoped>\n    .dataframe tbody tr th:only-of-type {\n        vertical-align: middle;\n    }\n\n    .dataframe tbody tr th {\n        vertical-align: top;\n    }\n\n    .dataframe thead th {\n        text-align: right;\n    }\n</style>\n<table border=\"1\" class=\"dataframe\">\n  <thead>\n    <tr style=\"text-align: right;\">\n      <th></th>\n      <th>pop</th>\n    </tr>\n    <tr>\n      <th>Country</th>\n      <th></th>\n    </tr>\n  </thead>\n  <tbody>\n    <tr>\n      <th>Aruba</th>\n      <td>105,845.0</td>\n    </tr>\n    <tr>\n      <th>Colombia</th>\n      <td>49,648,685.0</td>\n    </tr>\n  </tbody>\n</table>\n</div>"
     },
     "metadata": {}
    }
   ]
  },
  {
   "cell_type": "markdown",
   "source": "Seleccionar ",
   "metadata": {
    "tags": [],
    "cell_id": "00010-365535ff-880b-49a9-b4df-e162f51f8cea",
    "deepnote_cell_type": "markdown"
   }
  },
  {
   "cell_type": "code",
   "metadata": {
    "tags": [],
    "cell_id": "00010-2193e4e6-4d52-492a-8d69-b0b52c535e57",
    "deepnote_to_be_reexecuted": false,
    "source_hash": "5c5b2533",
    "execution_start": 1625016023636,
    "execution_millis": 44,
    "deepnote_cell_type": "code"
   },
   "source": "df_countries = df_prob.set_index(['Country','year']).sort_index(ascending=[True,True])\ndf_countries",
   "execution_count": 42,
   "outputs": [
    {
     "output_type": "execute_result",
     "execution_count": 42,
     "data": {
      "application/vnd.deepnote.dataframe.v2+json": {
       "row_count": 1040,
       "column_count": 1,
       "columns": [
        {
         "name": "pop",
         "dtype": "float64",
         "stats": {
          "unique_count": 1028,
          "nan_count": 8,
          "min": "11099.0",
          "max": "6412522234.0",
          "histogram": [
           {
            "bin_start": 11099,
            "bin_end": 641262212.5,
            "count": 931
           },
           {
            "bin_start": 641262212.5,
            "bin_end": 1282513326,
            "count": 38
           },
           {
            "bin_start": 1282513326,
            "bin_end": 1923764439.5,
            "count": 23
           },
           {
            "bin_start": 1923764439.5,
            "bin_end": 2565015553,
            "count": 16
           },
           {
            "bin_start": 2565015553,
            "bin_end": 3206266666.5,
            "count": 6
           },
           {
            "bin_start": 3206266666.5,
            "bin_end": 3847517780,
            "count": 2
           },
           {
            "bin_start": 3847517780,
            "bin_end": 4488768893.5,
            "count": 0
           },
           {
            "bin_start": 4488768893.5,
            "bin_end": 5130020007,
            "count": 4
           },
           {
            "bin_start": 5130020007,
            "bin_end": 5771271120.5,
            "count": 4
           },
           {
            "bin_start": 5771271120.5,
            "bin_end": 6412522234,
            "count": 8
           }
          ]
         }
        },
        {
         "name": "_deepnote_index_column",
         "dtype": "object"
        }
       ],
       "rows_top": [
        {
         "pop": 34413603,
         "_deepnote_index_column": "('Afghanistan', '2015')"
        },
        {
         "pop": 35383128,
         "_deepnote_index_column": "('Afghanistan', '2016')"
        },
        {
         "pop": 36296400,
         "_deepnote_index_column": "('Afghanistan', '2017')"
        },
        {
         "pop": 37172386,
         "_deepnote_index_column": "('Afghanistan', '2018')"
        },
        {
         "pop": 2880703,
         "_deepnote_index_column": "('Albania', '2015')"
        },
        {
         "pop": 2876101,
         "_deepnote_index_column": "('Albania', '2016')"
        },
        {
         "pop": 2873457,
         "_deepnote_index_column": "('Albania', '2017')"
        },
        {
         "pop": 2866376,
         "_deepnote_index_column": "('Albania', '2018')"
        },
        {
         "pop": 39728025,
         "_deepnote_index_column": "('Algeria', '2015')"
        },
        {
         "pop": 40551404,
         "_deepnote_index_column": "('Algeria', '2016')"
        },
        {
         "pop": 41389198,
         "_deepnote_index_column": "('Algeria', '2017')"
        },
        {
         "pop": 42228429,
         "_deepnote_index_column": "('Algeria', '2018')"
        },
        {
         "pop": 55812,
         "_deepnote_index_column": "('American Samoa', '2015')"
        },
        {
         "pop": 55741,
         "_deepnote_index_column": "('American Samoa', '2016')"
        },
        {
         "pop": 55620,
         "_deepnote_index_column": "('American Samoa', '2017')"
        },
        {
         "pop": 55465,
         "_deepnote_index_column": "('American Samoa', '2018')"
        },
        {
         "pop": 78011,
         "_deepnote_index_column": "('Andorra', '2015')"
        },
        {
         "pop": 77297,
         "_deepnote_index_column": "('Andorra', '2016')"
        },
        {
         "pop": 77001,
         "_deepnote_index_column": "('Andorra', '2017')"
        },
        {
         "pop": 77006,
         "_deepnote_index_column": "('Andorra', '2018')"
        },
        {
         "pop": 27884381,
         "_deepnote_index_column": "('Angola', '2015')"
        },
        {
         "pop": 28842484,
         "_deepnote_index_column": "('Angola', '2016')"
        },
        {
         "pop": 29816748,
         "_deepnote_index_column": "('Angola', '2017')"
        },
        {
         "pop": 30809762,
         "_deepnote_index_column": "('Angola', '2018')"
        },
        {
         "pop": 93566,
         "_deepnote_index_column": "('Antigua and Barbuda', '2015')"
        },
        {
         "pop": 94527,
         "_deepnote_index_column": "('Antigua and Barbuda', '2016')"
        },
        {
         "pop": 95426,
         "_deepnote_index_column": "('Antigua and Barbuda', '2017')"
        },
        {
         "pop": 96286,
         "_deepnote_index_column": "('Antigua and Barbuda', '2018')"
        },
        {
         "pop": 396028278,
         "_deepnote_index_column": "('Arab World', '2015')"
        },
        {
         "pop": 404024433,
         "_deepnote_index_column": "('Arab World', '2016')"
        },
        {
         "pop": 411898965,
         "_deepnote_index_column": "('Arab World', '2017')"
        },
        {
         "pop": 419790588,
         "_deepnote_index_column": "('Arab World', '2018')"
        },
        {
         "pop": 43131966,
         "_deepnote_index_column": "('Argentina', '2015')"
        },
        {
         "pop": 43590368,
         "_deepnote_index_column": "('Argentina', '2016')"
        },
        {
         "pop": 44044811,
         "_deepnote_index_column": "('Argentina', '2017')"
        },
        {
         "pop": 44494502,
         "_deepnote_index_column": "('Argentina', '2018')"
        },
        {
         "pop": 2925553,
         "_deepnote_index_column": "('Armenia', '2015')"
        },
        {
         "pop": 2936146,
         "_deepnote_index_column": "('Armenia', '2016')"
        },
        {
         "pop": 2944809,
         "_deepnote_index_column": "('Armenia', '2017')"
        },
        {
         "pop": 2951776,
         "_deepnote_index_column": "('Armenia', '2018')"
        },
        {
         "pop": 104341,
         "_deepnote_index_column": "('Aruba', '2015')"
        },
        {
         "pop": 104872,
         "_deepnote_index_column": "('Aruba', '2016')"
        },
        {
         "pop": 105366,
         "_deepnote_index_column": "('Aruba', '2017')"
        },
        {
         "pop": 105845,
         "_deepnote_index_column": "('Aruba', '2018')"
        },
        {
         "pop": 23815995,
         "_deepnote_index_column": "('Australia', '2015')"
        },
        {
         "pop": 24190907,
         "_deepnote_index_column": "('Australia', '2016')"
        },
        {
         "pop": 24601860,
         "_deepnote_index_column": "('Australia', '2017')"
        },
        {
         "pop": 24992369,
         "_deepnote_index_column": "('Australia', '2018')"
        },
        {
         "pop": 8642699,
         "_deepnote_index_column": "('Austria', '2015')"
        },
        {
         "pop": 8736668,
         "_deepnote_index_column": "('Austria', '2016')"
        },
        {
         "pop": 8797566,
         "_deepnote_index_column": "('Austria', '2017')"
        },
        {
         "pop": 8847037,
         "_deepnote_index_column": "('Austria', '2018')"
        },
        {
         "pop": 9649341,
         "_deepnote_index_column": "('Azerbaijan', '2015')"
        },
        {
         "pop": 9757812,
         "_deepnote_index_column": "('Azerbaijan', '2016')"
        },
        {
         "pop": 9854033,
         "_deepnote_index_column": "('Azerbaijan', '2017')"
        },
        {
         "pop": 9942334,
         "_deepnote_index_column": "('Azerbaijan', '2018')"
        },
        {
         "pop": 374206,
         "_deepnote_index_column": "('Bahamas, The', '2015')"
        },
        {
         "pop": 377931,
         "_deepnote_index_column": "('Bahamas, The', '2016')"
        },
        {
         "pop": 381761,
         "_deepnote_index_column": "('Bahamas, The', '2017')"
        },
        {
         "pop": 385640,
         "_deepnote_index_column": "('Bahamas, The', '2018')"
        },
        {
         "pop": 1371851,
         "_deepnote_index_column": "('Bahrain', '2015')"
        },
        {
         "pop": 1425791,
         "_deepnote_index_column": "('Bahrain', '2016')"
        },
        {
         "pop": 1494074,
         "_deepnote_index_column": "('Bahrain', '2017')"
        },
        {
         "pop": 1569439,
         "_deepnote_index_column": "('Bahrain', '2018')"
        },
        {
         "pop": 156256276,
         "_deepnote_index_column": "('Bangladesh', '2015')"
        },
        {
         "pop": 157970840,
         "_deepnote_index_column": "('Bangladesh', '2016')"
        },
        {
         "pop": 159670593,
         "_deepnote_index_column": "('Bangladesh', '2017')"
        },
        {
         "pop": 161356039,
         "_deepnote_index_column": "('Bangladesh', '2018')"
        },
        {
         "pop": 285324,
         "_deepnote_index_column": "('Barbados', '2015')"
        },
        {
         "pop": 285796,
         "_deepnote_index_column": "('Barbados', '2016')"
        },
        {
         "pop": 286233,
         "_deepnote_index_column": "('Barbados', '2017')"
        },
        {
         "pop": 286641,
         "_deepnote_index_column": "('Barbados', '2018')"
        },
        {
         "pop": 9489616,
         "_deepnote_index_column": "('Belarus', '2015')"
        },
        {
         "pop": 9501534,
         "_deepnote_index_column": "('Belarus', '2016')"
        },
        {
         "pop": 9498264,
         "_deepnote_index_column": "('Belarus', '2017')"
        },
        {
         "pop": 9485386,
         "_deepnote_index_column": "('Belarus', '2018')"
        },
        {
         "pop": 11274196,
         "_deepnote_index_column": "('Belgium', '2015')"
        },
        {
         "pop": 11331422,
         "_deepnote_index_column": "('Belgium', '2016')"
        },
        {
         "pop": 11375158,
         "_deepnote_index_column": "('Belgium', '2017')"
        },
        {
         "pop": 11422068,
         "_deepnote_index_column": "('Belgium', '2018')"
        },
        {
         "pop": 360933,
         "_deepnote_index_column": "('Belize', '2015')"
        },
        {
         "pop": 368400,
         "_deepnote_index_column": "('Belize', '2016')"
        },
        {
         "pop": 375769,
         "_deepnote_index_column": "('Belize', '2017')"
        },
        {
         "pop": 383071,
         "_deepnote_index_column": "('Belize', '2018')"
        },
        {
         "pop": 10575952,
         "_deepnote_index_column": "('Benin', '2015')"
        },
        {
         "pop": 10872067,
         "_deepnote_index_column": "('Benin', '2016')"
        },
        {
         "pop": 11175204,
         "_deepnote_index_column": "('Benin', '2017')"
        },
        {
         "pop": 11485048,
         "_deepnote_index_column": "('Benin', '2018')"
        },
        {
         "pop": 65239,
         "_deepnote_index_column": "('Bermuda', '2015')"
        },
        {
         "pop": 64555,
         "_deepnote_index_column": "('Bermuda', '2016')"
        },
        {
         "pop": 63874,
         "_deepnote_index_column": "('Bermuda', '2017')"
        },
        {
         "pop": 63968,
         "_deepnote_index_column": "('Bermuda', '2018')"
        },
        {
         "pop": 727876,
         "_deepnote_index_column": "('Bhutan', '2015')"
        },
        {
         "pop": 736709,
         "_deepnote_index_column": "('Bhutan', '2016')"
        },
        {
         "pop": 745568,
         "_deepnote_index_column": "('Bhutan', '2017')"
        },
        {
         "pop": 754394,
         "_deepnote_index_column": "('Bhutan', '2018')"
        },
        {
         "pop": 10869730,
         "_deepnote_index_column": "('Bolivia', '2015')"
        },
        {
         "pop": 11031813,
         "_deepnote_index_column": "('Bolivia', '2016')"
        },
        {
         "pop": 11192854,
         "_deepnote_index_column": "('Bolivia', '2017')"
        },
        {
         "pop": 11353142,
         "_deepnote_index_column": "('Bolivia', '2018')"
        },
        {
         "pop": 3429361,
         "_deepnote_index_column": "('Bosnia and Herzegovina', '2015')"
        },
        {
         "pop": 3386267,
         "_deepnote_index_column": "('Bosnia and Herzegovina', '2016')"
        },
        {
         "pop": 3351527,
         "_deepnote_index_column": "('Bosnia and Herzegovina', '2017')"
        },
        {
         "pop": 3323929,
         "_deepnote_index_column": "('Bosnia and Herzegovina', '2018')"
        },
        {
         "pop": 2120716,
         "_deepnote_index_column": "('Botswana', '2015')"
        },
        {
         "pop": 2159944,
         "_deepnote_index_column": "('Botswana', '2016')"
        },
        {
         "pop": 2205128,
         "_deepnote_index_column": "('Botswana', '2017')"
        },
        {
         "pop": 2254126,
         "_deepnote_index_column": "('Botswana', '2018')"
        },
        {
         "pop": 204471769,
         "_deepnote_index_column": "('Brazil', '2015')"
        },
        {
         "pop": 206163058,
         "_deepnote_index_column": "('Brazil', '2016')"
        },
        {
         "pop": 207833831,
         "_deepnote_index_column": "('Brazil', '2017')"
        },
        {
         "pop": 209469333,
         "_deepnote_index_column": "('Brazil', '2018')"
        },
        {
         "pop": 29152,
         "_deepnote_index_column": "('British Virgin Islands', '2015')"
        },
        {
         "pop": 29355,
         "_deepnote_index_column": "('British Virgin Islands', '2016')"
        },
        {
         "pop": 29577,
         "_deepnote_index_column": "('British Virgin Islands', '2017')"
        },
        {
         "pop": 29802,
         "_deepnote_index_column": "('British Virgin Islands', '2018')"
        },
        {
         "pop": 414907,
         "_deepnote_index_column": "('Brunei Darussalam', '2015')"
        },
        {
         "pop": 419800,
         "_deepnote_index_column": "('Brunei Darussalam', '2016')"
        },
        {
         "pop": 424473,
         "_deepnote_index_column": "('Brunei Darussalam', '2017')"
        },
        {
         "pop": 428962,
         "_deepnote_index_column": "('Brunei Darussalam', '2018')"
        },
        {
         "pop": 7177991,
         "_deepnote_index_column": "('Bulgaria', '2015')"
        },
        {
         "pop": 7127822,
         "_deepnote_index_column": "('Bulgaria', '2016')"
        },
        {
         "pop": 7075947,
         "_deepnote_index_column": "('Bulgaria', '2017')"
        },
        {
         "pop": 7024216,
         "_deepnote_index_column": "('Bulgaria', '2018')"
        },
        {
         "pop": 18110624,
         "_deepnote_index_column": "('Burkina Faso', '2015')"
        },
        {
         "pop": 18646378,
         "_deepnote_index_column": "('Burkina Faso', '2016')"
        },
        {
         "pop": 19193284,
         "_deepnote_index_column": "('Burkina Faso', '2017')"
        },
        {
         "pop": 19751535,
         "_deepnote_index_column": "('Burkina Faso', '2018')"
        },
        {
         "pop": 10160030,
         "_deepnote_index_column": "('Burundi', '2015')"
        },
        {
         "pop": 10487998,
         "_deepnote_index_column": "('Burundi', '2016')"
        },
        {
         "pop": 10827024,
         "_deepnote_index_column": "('Burundi', '2017')"
        },
        {
         "pop": 11175378,
         "_deepnote_index_column": "('Burundi', '2018')"
        },
        {
         "pop": 524743,
         "_deepnote_index_column": "('Cabo Verde', '2015')"
        },
        {
         "pop": 531146,
         "_deepnote_index_column": "('Cabo Verde', '2016')"
        },
        {
         "pop": 537497,
         "_deepnote_index_column": "('Cabo Verde', '2017')"
        },
        {
         "pop": 543767,
         "_deepnote_index_column": "('Cabo Verde', '2018')"
        },
        {
         "pop": 15521436,
         "_deepnote_index_column": "('Cambodia', '2015')"
        },
        {
         "pop": 15766293,
         "_deepnote_index_column": "('Cambodia', '2016')"
        },
        {
         "pop": 16009414,
         "_deepnote_index_column": "('Cambodia', '2017')"
        },
        {
         "pop": 16249798,
         "_deepnote_index_column": "('Cambodia', '2018')"
        },
        {
         "pop": 23298368,
         "_deepnote_index_column": "('Cameroon', '2015')"
        },
        {
         "pop": 23926539,
         "_deepnote_index_column": "('Cameroon', '2016')"
        },
        {
         "pop": 24566045,
         "_deepnote_index_column": "('Cameroon', '2017')"
        },
        {
         "pop": 25216237,
         "_deepnote_index_column": "('Cameroon', '2018')"
        },
        {
         "pop": 35702908,
         "_deepnote_index_column": "('Canada', '2015')"
        },
        {
         "pop": 36109487,
         "_deepnote_index_column": "('Canada', '2016')"
        },
        {
         "pop": 36540268,
         "_deepnote_index_column": "('Canada', '2017')"
        },
        {
         "pop": 37058856,
         "_deepnote_index_column": "('Canada', '2018')"
        },
        {
         "pop": 7222212,
         "_deepnote_index_column": "('Caribbean small states', '2015')"
        },
        {
         "pop": 7269386,
         "_deepnote_index_column": "('Caribbean small states', '2016')"
        },
        {
         "pop": 7314990,
         "_deepnote_index_column": "('Caribbean small states', '2017')"
        },
        {
         "pop": 7358965,
         "_deepnote_index_column": "('Caribbean small states', '2018')"
        },
        {
         "pop": 61724,
         "_deepnote_index_column": "('Cayman Islands', '2015')"
        },
        {
         "pop": 62569,
         "_deepnote_index_column": "('Cayman Islands', '2016')"
        },
        {
         "pop": 63382,
         "_deepnote_index_column": "('Cayman Islands', '2017')"
        },
        {
         "pop": 64174,
         "_deepnote_index_column": "('Cayman Islands', '2018')"
        },
        {
         "pop": 4493170,
         "_deepnote_index_column": "('Central African Republic', '2015')"
        },
        {
         "pop": 4537687,
         "_deepnote_index_column": "('Central African Republic', '2016')"
        },
        {
         "pop": 4596028,
         "_deepnote_index_column": "('Central African Republic', '2017')"
        },
        {
         "pop": 4666377,
         "_deepnote_index_column": "('Central African Republic', '2018')"
        },
        {
         "pop": 103257751,
         "_deepnote_index_column": "('Central Europe and the Baltics', '2015')"
        },
        {
         "pop": 102994343,
         "_deepnote_index_column": "('Central Europe and the Baltics', '2016')"
        },
        {
         "pop": 102738854,
         "_deepnote_index_column": "('Central Europe and the Baltics', '2017')"
        },
        {
         "pop": 102511922,
         "_deepnote_index_column": "('Central Europe and the Baltics', '2018')"
        },
        {
         "pop": 14110975,
         "_deepnote_index_column": "('Chad', '2015')"
        },
        {
         "pop": 14561666,
         "_deepnote_index_column": "('Chad', '2016')"
        },
        {
         "pop": 15016773,
         "_deepnote_index_column": "('Chad', '2017')"
        },
        {
         "pop": 15477751,
         "_deepnote_index_column": "('Chad', '2018')"
        },
        {
         "pop": 165385,
         "_deepnote_index_column": "('Channel Islands', '2015')"
        },
        {
         "pop": 166923,
         "_deepnote_index_column": "('Channel Islands', '2016')"
        },
        {
         "pop": 168665,
         "_deepnote_index_column": "('Channel Islands', '2017')"
        },
        {
         "pop": 170499,
         "_deepnote_index_column": "('Channel Islands', '2018')"
        },
        {
         "pop": 17969353,
         "_deepnote_index_column": "('Chile', '2015')"
        },
        {
         "pop": 18209068,
         "_deepnote_index_column": "('Chile', '2016')"
        },
        {
         "pop": 18470439,
         "_deepnote_index_column": "('Chile', '2017')"
        },
        {
         "pop": 18729160,
         "_deepnote_index_column": "('Chile', '2018')"
        },
        {
         "pop": 1371220000,
         "_deepnote_index_column": "('China', '2015')"
        },
        {
         "pop": 1378665000,
         "_deepnote_index_column": "('China', '2016')"
        },
        {
         "pop": 1386395000,
         "_deepnote_index_column": "('China', '2017')"
        },
        {
         "pop": 1392730000,
         "_deepnote_index_column": "('China', '2018')"
        },
        {
         "pop": 47520667,
         "_deepnote_index_column": "('Colombia', '2015')"
        },
        {
         "pop": 48171392,
         "_deepnote_index_column": "('Colombia', '2016')"
        },
        {
         "pop": 48901066,
         "_deepnote_index_column": "('Colombia', '2017')"
        },
        {
         "pop": 49648685,
         "_deepnote_index_column": "('Colombia', '2018')"
        },
        {
         "pop": 777424,
         "_deepnote_index_column": "('Comoros', '2015')"
        },
        {
         "pop": 795592,
         "_deepnote_index_column": "('Comoros', '2016')"
        },
        {
         "pop": 813892,
         "_deepnote_index_column": "('Comoros', '2017')"
        },
        {
         "pop": 832322,
         "_deepnote_index_column": "('Comoros', '2018')"
        },
        {
         "pop": 76244544,
         "_deepnote_index_column": "('Congo, Dem. Rep.', '2015')"
        },
        {
         "pop": 78789127,
         "_deepnote_index_column": "('Congo, Dem. Rep.', '2016')"
        },
        {
         "pop": 81398764,
         "_deepnote_index_column": "('Congo, Dem. Rep.', '2017')"
        },
        {
         "pop": 84068091,
         "_deepnote_index_column": "('Congo, Dem. Rep.', '2018')"
        },
        {
         "pop": 4856095,
         "_deepnote_index_column": "('Congo, Rep.', '2015')"
        },
        {
         "pop": 4980999,
         "_deepnote_index_column": "('Congo, Rep.', '2016')"
        },
        {
         "pop": 5110702,
         "_deepnote_index_column": "('Congo, Rep.', '2017')"
        },
        {
         "pop": 5244363,
         "_deepnote_index_column": "('Congo, Rep.', '2018')"
        },
        {
         "pop": 4847804,
         "_deepnote_index_column": "('Costa Rica', '2015')"
        },
        {
         "pop": 4899345,
         "_deepnote_index_column": "('Costa Rica', '2016')"
        },
        {
         "pop": 4949954,
         "_deepnote_index_column": "('Costa Rica', '2017')"
        },
        {
         "pop": 4999441,
         "_deepnote_index_column": "('Costa Rica', '2018')"
        },
        {
         "pop": 23226143,
         "_deepnote_index_column": "(\"Cote d'Ivoire\", '2015')"
        },
        {
         "pop": 23822714,
         "_deepnote_index_column": "(\"Cote d'Ivoire\", '2016')"
        },
        {
         "pop": 24437469,
         "_deepnote_index_column": "(\"Cote d'Ivoire\", '2017')"
        },
        {
         "pop": 25069229,
         "_deepnote_index_column": "(\"Cote d'Ivoire\", '2018')"
        },
        {
         "pop": 4203604,
         "_deepnote_index_column": "('Croatia', '2015')"
        },
        {
         "pop": 4174349,
         "_deepnote_index_column": "('Croatia', '2016')"
        },
        {
         "pop": 4124531,
         "_deepnote_index_column": "('Croatia', '2017')"
        },
        {
         "pop": 4089400,
         "_deepnote_index_column": "('Croatia', '2018')"
        },
        {
         "pop": 11324781,
         "_deepnote_index_column": "('Cuba', '2015')"
        },
        {
         "pop": 11335109,
         "_deepnote_index_column": "('Cuba', '2016')"
        },
        {
         "pop": 11339259,
         "_deepnote_index_column": "('Cuba', '2017')"
        },
        {
         "pop": 11338138,
         "_deepnote_index_column": "('Cuba', '2018')"
        },
        {
         "pop": 157980,
         "_deepnote_index_column": "('Curacao', '2015')"
        },
        {
         "pop": 159664,
         "_deepnote_index_column": "('Curacao', '2016')"
        },
        {
         "pop": 160175,
         "_deepnote_index_column": "('Curacao', '2017')"
        },
        {
         "pop": 159849,
         "_deepnote_index_column": "('Curacao', '2018')"
        },
        {
         "pop": 1160985,
         "_deepnote_index_column": "('Cyprus', '2015')"
        },
        {
         "pop": 1170187,
         "_deepnote_index_column": "('Cyprus', '2016')"
        },
        {
         "pop": 1179680,
         "_deepnote_index_column": "('Cyprus', '2017')"
        },
        {
         "pop": 1189265,
         "_deepnote_index_column": "('Cyprus', '2018')"
        },
        {
         "pop": 10546059,
         "_deepnote_index_column": "('Czech Republic', '2015')"
        },
        {
         "pop": 10566332,
         "_deepnote_index_column": "('Czech Republic', '2016')"
        },
        {
         "pop": 10594438,
         "_deepnote_index_column": "('Czech Republic', '2017')"
        },
        {
         "pop": 10625695,
         "_deepnote_index_column": "('Czech Republic', '2018')"
        },
        {
         "pop": 5683483,
         "_deepnote_index_column": "('Denmark', '2015')"
        },
        {
         "pop": 5728010,
         "_deepnote_index_column": "('Denmark', '2016')"
        },
        {
         "pop": 5764980,
         "_deepnote_index_column": "('Denmark', '2017')"
        },
        {
         "pop": 5797446,
         "_deepnote_index_column": "('Denmark', '2018')"
        },
        {
         "pop": 913993,
         "_deepnote_index_column": "('Djibouti', '2015')"
        },
        {
         "pop": 929112,
         "_deepnote_index_column": "('Djibouti', '2016')"
        },
        {
         "pop": 944097,
         "_deepnote_index_column": "('Djibouti', '2017')"
        },
        {
         "pop": 958920,
         "_deepnote_index_column": "('Djibouti', '2018')"
        },
        {
         "pop": 71183,
         "_deepnote_index_column": "('Dominica', '2015')"
        },
        {
         "pop": 71307,
         "_deepnote_index_column": "('Dominica', '2016')"
        },
        {
         "pop": 71458,
         "_deepnote_index_column": "('Dominica', '2017')"
        },
        {
         "pop": 71625,
         "_deepnote_index_column": "('Dominica', '2018')"
        },
        {
         "pop": 10281680,
         "_deepnote_index_column": "('Dominican Republic', '2015')"
        },
        {
         "pop": 10397743,
         "_deepnote_index_column": "('Dominican Republic', '2016')"
        },
        {
         "pop": 10513131,
         "_deepnote_index_column": "('Dominican Republic', '2017')"
        },
        {
         "pop": 10627165,
         "_deepnote_index_column": "('Dominican Republic', '2018')"
        },
        {
         "pop": 3122841922,
         "_deepnote_index_column": "('Early-demographic dividend', '2015')"
        },
        {
         "pop": 3165142287,
         "_deepnote_index_column": "('Early-demographic dividend', '2016')"
        },
        {
         "pop": 3207188541,
         "_deepnote_index_column": "('Early-demographic dividend', '2017')"
        },
        {
         "pop": 3249140605,
         "_deepnote_index_column": "('Early-demographic dividend', '2018')"
        },
        {
         "pop": 2282855831,
         "_deepnote_index_column": "('East Asia & Pacific', '2015')"
        },
        {
         "pop": 2298514046,
         "_deepnote_index_column": "('East Asia & Pacific', '2016')"
        },
        {
         "pop": 2314202003,
         "_deepnote_index_column": "('East Asia & Pacific', '2017')"
        },
        {
         "pop": 2328220870,
         "_deepnote_index_column": "('East Asia & Pacific', '2018')"
        },
        {
         "pop": 2012980531,
         "_deepnote_index_column": "('East Asia & Pacific (IDA & IBRD countries)', '2015')"
        },
        {
         "pop": 2027771091,
         "_deepnote_index_column": "('East Asia & Pacific (IDA & IBRD countries)', '2016')"
        },
        {
         "pop": 2042687863,
         "_deepnote_index_column": "('East Asia & Pacific (IDA & IBRD countries)', '2017')"
        },
        {
         "pop": 2056064424,
         "_deepnote_index_column": "('East Asia & Pacific (IDA & IBRD countries)', '2018')"
        },
        {
         "pop": 2038202511,
         "_deepnote_index_column": "('East Asia & Pacific (excluding high income)', '2015')"
        },
        {
         "pop": 2053116851,
         "_deepnote_index_column": "('East Asia & Pacific (excluding high income)', '2016')"
        },
        {
         "pop": 2068155660,
         "_deepnote_index_column": "('East Asia & Pacific (excluding high income)', '2017')"
        },
        {
         "pop": 2081651801,
         "_deepnote_index_column": "('East Asia & Pacific (excluding high income)', '2018')"
        },
        {
         "pop": 16212020,
         "_deepnote_index_column": "('Ecuador', '2015')"
        },
        {
         "pop": 16491115,
         "_deepnote_index_column": "('Ecuador', '2016')"
        },
        {
         "pop": 16785361,
         "_deepnote_index_column": "('Ecuador', '2017')"
        },
        {
         "pop": 17084357,
         "_deepnote_index_column": "('Ecuador', '2018')"
        },
        {
         "pop": 92442547,
         "_deepnote_index_column": "('Egypt, Arab Rep.', '2015')"
        },
        {
         "pop": 94447072,
         "_deepnote_index_column": "('Egypt, Arab Rep.', '2016')"
        },
        {
         "pop": 96442593,
         "_deepnote_index_column": "('Egypt, Arab Rep.', '2017')"
        },
        {
         "pop": 98423595,
         "_deepnote_index_column": "('Egypt, Arab Rep.', '2018')"
        },
        {
         "pop": 6325124,
         "_deepnote_index_column": "('El Salvador', '2015')"
        },
        {
         "pop": 6356143,
         "_deepnote_index_column": "('El Salvador', '2016')"
        },
        {
         "pop": 6388122,
         "_deepnote_index_column": "('El Salvador', '2017')"
        },
        {
         "pop": 6420744,
         "_deepnote_index_column": "('El Salvador', '2018')"
        },
        {
         "pop": 1168568,
         "_deepnote_index_column": "('Equatorial Guinea', '2015')"
        },
        {
         "pop": 1215179,
         "_deepnote_index_column": "('Equatorial Guinea', '2016')"
        },
        {
         "pop": 1262001,
         "_deepnote_index_column": "('Equatorial Guinea', '2017')"
        },
        {
         "pop": 1308974,
         "_deepnote_index_column": "('Equatorial Guinea', '2018')"
        },
        {
         "pop": "nan",
         "_deepnote_index_column": "('Eritrea', '2015')"
        },
        {
         "pop": "nan",
         "_deepnote_index_column": "('Eritrea', '2016')"
        },
        {
         "pop": "nan",
         "_deepnote_index_column": "('Eritrea', '2017')"
        },
        {
         "pop": "nan",
         "_deepnote_index_column": "('Eritrea', '2018')"
        },
        {
         "pop": 1315407,
         "_deepnote_index_column": "('Estonia', '2015')"
        },
        {
         "pop": 1315790,
         "_deepnote_index_column": "('Estonia', '2016')"
        },
        {
         "pop": 1317384,
         "_deepnote_index_column": "('Estonia', '2017')"
        },
        {
         "pop": 1320884,
         "_deepnote_index_column": "('Estonia', '2018')"
        },
        {
         "pop": 1104044,
         "_deepnote_index_column": "('Eswatini', '2015')"
        },
        {
         "pop": 1113984,
         "_deepnote_index_column": "('Eswatini', '2016')"
        },
        {
         "pop": 1124753,
         "_deepnote_index_column": "('Eswatini', '2017')"
        },
        {
         "pop": 1136191,
         "_deepnote_index_column": "('Eswatini', '2018')"
        },
        {
         "pop": 100835458,
         "_deepnote_index_column": "('Ethiopia', '2015')"
        },
        {
         "pop": 103603501,
         "_deepnote_index_column": "('Ethiopia', '2016')"
        },
        {
         "pop": 106400024,
         "_deepnote_index_column": "('Ethiopia', '2017')"
        },
        {
         "pop": 109224559,
         "_deepnote_index_column": "('Ethiopia', '2018')"
        },
        {
         "pop": 339533474,
         "_deepnote_index_column": "('Euro area', '2015')"
        },
        {
         "pop": 340616924,
         "_deepnote_index_column": "('Euro area', '2016')"
        },
        {
         "pop": 341164362,
         "_deepnote_index_column": "('Euro area', '2017')"
        },
        {
         "pop": 341783171,
         "_deepnote_index_column": "('Euro area', '2018')"
        },
        {
         "pop": 907498192,
         "_deepnote_index_column": "('Europe & Central Asia', '2015')"
        },
        {
         "pop": 911812364,
         "_deepnote_index_column": "('Europe & Central Asia', '2016')"
        },
        {
         "pop": 915420161,
         "_deepnote_index_column": "('Europe & Central Asia', '2017')"
        },
        {
         "pop": 918793590,
         "_deepnote_index_column": "('Europe & Central Asia', '2018')"
        },
        {
         "pop": 453034345,
         "_deepnote_index_column": "('Europe & Central Asia (IDA & IBRD countries)', '2015')"
        },
        {
         "pop": 455505650,
         "_deepnote_index_column": "('Europe & Central Asia (IDA & IBRD countries)', '2016')"
        },
        {
         "pop": 457810292,
         "_deepnote_index_column": "('Europe & Central Asia (IDA & IBRD countries)', '2017')"
        },
        {
         "pop": 459865205,
         "_deepnote_index_column": "('Europe & Central Asia (IDA & IBRD countries)', '2018')"
        },
        {
         "pop": 410844329,
         "_deepnote_index_column": "('Europe & Central Asia (excluding high income)', '2015')"
        },
        {
         "pop": 413361214,
         "_deepnote_index_column": "('Europe & Central Asia (excluding high income)', '2016')"
        },
        {
         "pop": 415710935,
         "_deepnote_index_column": "('Europe & Central Asia (excluding high income)', '2017')"
        },
        {
         "pop": 417797257,
         "_deepnote_index_column": "('Europe & Central Asia (excluding high income)', '2018')"
        },
        {
         "pop": 509717579,
         "_deepnote_index_column": "('European Union', '2015')"
        },
        {
         "pop": 511218529,
         "_deepnote_index_column": "('European Union', '2016')"
        },
        {
         "pop": 512191098,
         "_deepnote_index_column": "('European Union', '2017')"
        },
        {
         "pop": 513213363,
         "_deepnote_index_column": "('European Union', '2018')"
        },
        {
         "pop": 48051,
         "_deepnote_index_column": "('Faroe Islands', '2015')"
        },
        {
         "pop": 48173,
         "_deepnote_index_column": "('Faroe Islands', '2016')"
        },
        {
         "pop": 48331,
         "_deepnote_index_column": "('Faroe Islands', '2017')"
        },
        {
         "pop": 48497,
         "_deepnote_index_column": "('Faroe Islands', '2018')"
        },
        {
         "pop": 868627,
         "_deepnote_index_column": "('Fiji', '2015')"
        },
        {
         "pop": 872399,
         "_deepnote_index_column": "('Fiji', '2016')"
        },
        {
         "pop": 877459,
         "_deepnote_index_column": "('Fiji', '2017')"
        },
        {
         "pop": 883483,
         "_deepnote_index_column": "('Fiji', '2018')"
        },
        {
         "pop": 5479531,
         "_deepnote_index_column": "('Finland', '2015')"
        },
        {
         "pop": 5495303,
         "_deepnote_index_column": "('Finland', '2016')"
        },
        {
         "pop": 5508214,
         "_deepnote_index_column": "('Finland', '2017')"
        },
        {
         "pop": 5518050,
         "_deepnote_index_column": "('Finland', '2018')"
        },
        {
         "pop": 482530732,
         "_deepnote_index_column": "('Fragile and conflict affected situations', '2015')"
        },
        {
         "pop": 493290951,
         "_deepnote_index_column": "('Fragile and conflict affected situations', '2016')"
        },
        {
         "pop": 504119229,
         "_deepnote_index_column": "('Fragile and conflict affected situations', '2017')"
        },
        {
         "pop": 515215936,
         "_deepnote_index_column": "('Fragile and conflict affected situations', '2018')"
        },
        {
         "pop": 66593366,
         "_deepnote_index_column": "('France', '2015')"
        },
        {
         "pop": 66859768,
         "_deepnote_index_column": "('France', '2016')"
        },
        {
         "pop": 66865144,
         "_deepnote_index_column": "('France', '2017')"
        },
        {
         "pop": 66987244,
         "_deepnote_index_column": "('France', '2018')"
        },
        {
         "pop": 273124,
         "_deepnote_index_column": "('French Polynesia', '2015')"
        },
        {
         "pop": 274575,
         "_deepnote_index_column": "('French Polynesia', '2016')"
        },
        {
         "pop": 276103,
         "_deepnote_index_column": "('French Polynesia', '2017')"
        },
        {
         "pop": 277679,
         "_deepnote_index_column": "('French Polynesia', '2018')"
        },
        {
         "pop": 1947686,
         "_deepnote_index_column": "('Gabon', '2015')"
        },
        {
         "pop": 2007873,
         "_deepnote_index_column": "('Gabon', '2016')"
        },
        {
         "pop": 2064823,
         "_deepnote_index_column": "('Gabon', '2017')"
        },
        {
         "pop": 2119275,
         "_deepnote_index_column": "('Gabon', '2018')"
        },
        {
         "pop": 2085860,
         "_deepnote_index_column": "('Gambia, The', '2015')"
        },
        {
         "pop": 2149139,
         "_deepnote_index_column": "('Gambia, The', '2016')"
        },
        {
         "pop": 2213894,
         "_deepnote_index_column": "('Gambia, The', '2017')"
        },
        {
         "pop": 2280102,
         "_deepnote_index_column": "('Gambia, The', '2018')"
        },
        {
         "pop": 3725276,
         "_deepnote_index_column": "('Georgia', '2015')"
        },
        {
         "pop": 3727505,
         "_deepnote_index_column": "('Georgia', '2016')"
        },
        {
         "pop": 3728004,
         "_deepnote_index_column": "('Georgia', '2017')"
        },
        {
         "pop": 3731000,
         "_deepnote_index_column": "('Georgia', '2018')"
        },
        {
         "pop": 81686611,
         "_deepnote_index_column": "('Germany', '2015')"
        },
        {
         "pop": 82348669,
         "_deepnote_index_column": "('Germany', '2016')"
        },
        {
         "pop": 82657002,
         "_deepnote_index_column": "('Germany', '2017')"
        },
        {
         "pop": 82927922,
         "_deepnote_index_column": "('Germany', '2018')"
        },
        {
         "pop": 27849205,
         "_deepnote_index_column": "('Ghana', '2015')"
        },
        {
         "pop": 28481946,
         "_deepnote_index_column": "('Ghana', '2016')"
        },
        {
         "pop": 29121471,
         "_deepnote_index_column": "('Ghana', '2017')"
        },
        {
         "pop": 29767108,
         "_deepnote_index_column": "('Ghana', '2018')"
        },
        {
         "pop": 33736,
         "_deepnote_index_column": "('Gibraltar', '2015')"
        },
        {
         "pop": 33737,
         "_deepnote_index_column": "('Gibraltar', '2016')"
        },
        {
         "pop": 33728,
         "_deepnote_index_column": "('Gibraltar', '2017')"
        },
        {
         "pop": 33718,
         "_deepnote_index_column": "('Gibraltar', '2018')"
        },
        {
         "pop": 10820883,
         "_deepnote_index_column": "('Greece', '2015')"
        },
        {
         "pop": 10775971,
         "_deepnote_index_column": "('Greece', '2016')"
        },
        {
         "pop": 10754679,
         "_deepnote_index_column": "('Greece', '2017')"
        },
        {
         "pop": 10727668,
         "_deepnote_index_column": "('Greece', '2018')"
        },
        {
         "pop": 56114,
         "_deepnote_index_column": "('Greenland', '2015')"
        },
        {
         "pop": 56186,
         "_deepnote_index_column": "('Greenland', '2016')"
        },
        {
         "pop": 56171,
         "_deepnote_index_column": "('Greenland', '2017')"
        },
        {
         "pop": 56025,
         "_deepnote_index_column": "('Greenland', '2018')"
        },
        {
         "pop": 109599,
         "_deepnote_index_column": "('Grenada', '2015')"
        },
        {
         "pop": 110261,
         "_deepnote_index_column": "('Grenada', '2016')"
        },
        {
         "pop": 110874,
         "_deepnote_index_column": "('Grenada', '2017')"
        },
        {
         "pop": 111454,
         "_deepnote_index_column": "('Grenada', '2018')"
        },
        {
         "pop": 161853,
         "_deepnote_index_column": "('Guam', '2015')"
        },
        {
         "pop": 162951,
         "_deepnote_index_column": "('Guam', '2016')"
        },
        {
         "pop": 164281,
         "_deepnote_index_column": "('Guam', '2017')"
        },
        {
         "pop": 165768,
         "_deepnote_index_column": "('Guam', '2018')"
        },
        {
         "pop": 16252429,
         "_deepnote_index_column": "('Guatemala', '2015')"
        },
        {
         "pop": 16583060,
         "_deepnote_index_column": "('Guatemala', '2016')"
        },
        {
         "pop": 16914936,
         "_deepnote_index_column": "('Guatemala', '2017')"
        },
        {
         "pop": 17247807,
         "_deepnote_index_column": "('Guatemala', '2018')"
        },
        {
         "pop": 11432088,
         "_deepnote_index_column": "('Guinea', '2015')"
        },
        {
         "pop": 11738441,
         "_deepnote_index_column": "('Guinea', '2016')"
        },
        {
         "pop": 12067539,
         "_deepnote_index_column": "('Guinea', '2017')"
        },
        {
         "pop": 12414318,
         "_deepnote_index_column": "('Guinea', '2018')"
        },
        {
         "pop": 1737202,
         "_deepnote_index_column": "('Guinea-Bissau', '2015')"
        },
        {
         "pop": 1782437,
         "_deepnote_index_column": "('Guinea-Bissau', '2016')"
        },
        {
         "pop": 1828146,
         "_deepnote_index_column": "('Guinea-Bissau', '2017')"
        },
        {
         "pop": 1874309,
         "_deepnote_index_column": "('Guinea-Bissau', '2018')"
        },
        {
         "pop": 767432,
         "_deepnote_index_column": "('Guyana', '2015')"
        },
        {
         "pop": 771366,
         "_deepnote_index_column": "('Guyana', '2016')"
        },
        {
         "pop": 775221,
         "_deepnote_index_column": "('Guyana', '2017')"
        },
        {
         "pop": 779004,
         "_deepnote_index_column": "('Guyana', '2018')"
        },
        {
         "pop": 10695542,
         "_deepnote_index_column": "('Haiti', '2015')"
        },
        {
         "pop": 10839970,
         "_deepnote_index_column": "('Haiti', '2016')"
        },
        {
         "pop": 10982366,
         "_deepnote_index_column": "('Haiti', '2017')"
        },
        {
         "pop": 11123176,
         "_deepnote_index_column": "('Haiti', '2018')"
        },
        {
         "pop": 718128416,
         "_deepnote_index_column": "('Heavily indebted poor countries (HIPC)', '2015')"
        },
        {
         "pop": 738387254,
         "_deepnote_index_column": "('Heavily indebted poor countries (HIPC)', '2016')"
        },
        {
         "pop": 759106221,
         "_deepnote_index_column": "('Heavily indebted poor countries (HIPC)', '2017')"
        },
        {
         "pop": 780234406,
         "_deepnote_index_column": "('Heavily indebted poor countries (HIPC)', '2018')"
        },
        {
         "pop": 1191326855,
         "_deepnote_index_column": "('High income', '2015')"
        },
        {
         "pop": 1198350350,
         "_deepnote_index_column": "('High income', '2016')"
        },
        {
         "pop": 1204429565,
         "_deepnote_index_column": "('High income', '2017')"
        },
        {
         "pop": 1210312147,
         "_deepnote_index_column": "('High income', '2018')"
        },
        {
         "pop": 9112916,
         "_deepnote_index_column": "('Honduras', '2015')"
        },
        {
         "pop": 9270795,
         "_deepnote_index_column": "('Honduras', '2016')"
        },
        {
         "pop": 9429013,
         "_deepnote_index_column": "('Honduras', '2017')"
        },
        {
         "pop": 9587522,
         "_deepnote_index_column": "('Honduras', '2018')"
        },
        {
         "pop": 7291300,
         "_deepnote_index_column": "('Hong Kong SAR, China', '2015')"
        },
        {
         "pop": 7336600,
         "_deepnote_index_column": "('Hong Kong SAR, China', '2016')"
        },
        {
         "pop": 7391700,
         "_deepnote_index_column": "('Hong Kong SAR, China', '2017')"
        },
        {
         "pop": 7451000,
         "_deepnote_index_column": "('Hong Kong SAR, China', '2018')"
        },
        {
         "pop": 9843028,
         "_deepnote_index_column": "('Hungary', '2015')"
        },
        {
         "pop": 9814023,
         "_deepnote_index_column": "('Hungary', '2016')"
        },
        {
         "pop": 9787966,
         "_deepnote_index_column": "('Hungary', '2017')"
        },
        {
         "pop": 9768785,
         "_deepnote_index_column": "('Hungary', '2018')"
        },
        {
         "pop": 4643767826,
         "_deepnote_index_column": "('IBRD only', '2015')"
        },
        {
         "pop": 4687686335,
         "_deepnote_index_column": "('IBRD only', '2016')"
        },
        {
         "pop": 4731120193,
         "_deepnote_index_column": "('IBRD only', '2017')"
        },
        {
         "pop": 4772284113,
         "_deepnote_index_column": "('IBRD only', '2018')"
        },
        {
         "pop": 6177552865,
         "_deepnote_index_column": "('IDA & IBRD total', '2015')"
        },
        {
         "pop": 6256138021,
         "_deepnote_index_column": "('IDA & IBRD total', '2016')"
        },
        {
         "pop": 6335039629,
         "_deepnote_index_column": "('IDA & IBRD total', '2017')"
        },
        {
         "pop": 6412522234,
         "_deepnote_index_column": "('IDA & IBRD total', '2018')"
        },
        {
         "pop": 519429790,
         "_deepnote_index_column": "('IDA blend', '2015')"
        },
        {
         "pop": 531399044,
         "_deepnote_index_column": "('IDA blend', '2016')"
        },
        {
         "pop": 543525897,
         "_deepnote_index_column": "('IDA blend', '2017')"
        },
        {
         "pop": 555830605,
         "_deepnote_index_column": "('IDA blend', '2018')"
        },
        {
         "pop": 1014355249,
         "_deepnote_index_column": "('IDA only', '2015')"
        },
        {
         "pop": 1037052642,
         "_deepnote_index_column": "('IDA only', '2016')"
        },
        {
         "pop": 1060393539,
         "_deepnote_index_column": "('IDA only', '2017')"
        },
        {
         "pop": 1084407516,
         "_deepnote_index_column": "('IDA only', '2018')"
        },
        {
         "pop": 1533785039,
         "_deepnote_index_column": "('IDA total', '2015')"
        },
        {
         "pop": 1568451686,
         "_deepnote_index_column": "('IDA total', '2016')"
        },
        {
         "pop": 1603919436,
         "_deepnote_index_column": "('IDA total', '2017')"
        },
        {
         "pop": 1640238121,
         "_deepnote_index_column": "('IDA total', '2018')"
        },
        {
         "pop": 330815,
         "_deepnote_index_column": "('Iceland', '2015')"
        },
        {
         "pop": 335439,
         "_deepnote_index_column": "('Iceland', '2016')"
        },
        {
         "pop": 343400,
         "_deepnote_index_column": "('Iceland', '2017')"
        },
        {
         "pop": 353574,
         "_deepnote_index_column": "('Iceland', '2018')"
        },
        {
         "pop": 1310152403,
         "_deepnote_index_column": "('India', '2015')"
        },
        {
         "pop": 1324509589,
         "_deepnote_index_column": "('India', '2016')"
        },
        {
         "pop": 1338658835,
         "_deepnote_index_column": "('India', '2017')"
        },
        {
         "pop": 1352617328,
         "_deepnote_index_column": "('India', '2018')"
        },
        {
         "pop": 258383256,
         "_deepnote_index_column": "('Indonesia', '2015')"
        },
        {
         "pop": 261554226,
         "_deepnote_index_column": "('Indonesia', '2016')"
        },
        {
         "pop": 264645886,
         "_deepnote_index_column": "('Indonesia', '2017')"
        },
        {
         "pop": 267663435,
         "_deepnote_index_column": "('Indonesia', '2018')"
        },
        {
         "pop": 78492215,
         "_deepnote_index_column": "('Iran, Islamic Rep.', '2015')"
        },
        {
         "pop": 79564016,
         "_deepnote_index_column": "('Iran, Islamic Rep.', '2016')"
        },
        {
         "pop": 80673951,
         "_deepnote_index_column": "('Iran, Islamic Rep.', '2017')"
        },
        {
         "pop": 81800269,
         "_deepnote_index_column": "('Iran, Islamic Rep.', '2018')"
        },
        {
         "pop": 35572261,
         "_deepnote_index_column": "('Iraq', '2015')"
        },
        {
         "pop": 36610632,
         "_deepnote_index_column": "('Iraq', '2016')"
        },
        {
         "pop": 37552781,
         "_deepnote_index_column": "('Iraq', '2017')"
        },
        {
         "pop": 38433600,
         "_deepnote_index_column": "('Iraq', '2018')"
        },
        {
         "pop": 4701957,
         "_deepnote_index_column": "('Ireland', '2015')"
        },
        {
         "pop": 4755335,
         "_deepnote_index_column": "('Ireland', '2016')"
        },
        {
         "pop": 4807388,
         "_deepnote_index_column": "('Ireland', '2017')"
        },
        {
         "pop": 4853506,
         "_deepnote_index_column": "('Ireland', '2018')"
        },
        {
         "pop": 83234,
         "_deepnote_index_column": "('Isle of Man', '2015')"
        },
        {
         "pop": 83287,
         "_deepnote_index_column": "('Isle of Man', '2016')"
        },
        {
         "pop": 83598,
         "_deepnote_index_column": "('Isle of Man', '2017')"
        },
        {
         "pop": 84077,
         "_deepnote_index_column": "('Isle of Man', '2018')"
        },
        {
         "pop": 8380100,
         "_deepnote_index_column": "('Israel', '2015')"
        },
        {
         "pop": 8546000,
         "_deepnote_index_column": "('Israel', '2016')"
        },
        {
         "pop": 8713300,
         "_deepnote_index_column": "('Israel', '2017')"
        },
        {
         "pop": 8883800,
         "_deepnote_index_column": "('Israel', '2018')"
        },
        {
         "pop": 60730582,
         "_deepnote_index_column": "('Italy', '2015')"
        },
        {
         "pop": 60627498,
         "_deepnote_index_column": "('Italy', '2016')"
        },
        {
         "pop": 60536709,
         "_deepnote_index_column": "('Italy', '2017')"
        },
        {
         "pop": 60431283,
         "_deepnote_index_column": "('Italy', '2018')"
        },
        {
         "pop": 2891021,
         "_deepnote_index_column": "('Jamaica', '2015')"
        },
        {
         "pop": 2906238,
         "_deepnote_index_column": "('Jamaica', '2016')"
        },
        {
         "pop": 2920853,
         "_deepnote_index_column": "('Jamaica', '2017')"
        },
        {
         "pop": 2934855,
         "_deepnote_index_column": "('Jamaica', '2018')"
        },
        {
         "pop": 127141000,
         "_deepnote_index_column": "('Japan', '2015')"
        },
        {
         "pop": 126994511,
         "_deepnote_index_column": "('Japan', '2016')"
        },
        {
         "pop": 126785797,
         "_deepnote_index_column": "('Japan', '2017')"
        },
        {
         "pop": 126529100,
         "_deepnote_index_column": "('Japan', '2018')"
        },
        {
         "pop": 9266575,
         "_deepnote_index_column": "('Jordan', '2015')"
        },
        {
         "pop": 9551467,
         "_deepnote_index_column": "('Jordan', '2016')"
        },
        {
         "pop": 9779173,
         "_deepnote_index_column": "('Jordan', '2017')"
        },
        {
         "pop": 9956011,
         "_deepnote_index_column": "('Jordan', '2018')"
        },
        {
         "pop": 17542806,
         "_deepnote_index_column": "('Kazakhstan', '2015')"
        },
        {
         "pop": 17794055,
         "_deepnote_index_column": "('Kazakhstan', '2016')"
        },
        {
         "pop": 18037776,
         "_deepnote_index_column": "('Kazakhstan', '2017')"
        },
        {
         "pop": 18276499,
         "_deepnote_index_column": "('Kazakhstan', '2018')"
        },
        {
         "pop": 47878336,
         "_deepnote_index_column": "('Kenya', '2015')"
        },
        {
         "pop": 49051686,
         "_deepnote_index_column": "('Kenya', '2016')"
        },
        {
         "pop": 50221473,
         "_deepnote_index_column": "('Kenya', '2017')"
        },
        {
         "pop": 51393010,
         "_deepnote_index_column": "('Kenya', '2018')"
        },
        {
         "pop": 110930,
         "_deepnote_index_column": "('Kiribati', '2015')"
        },
        {
         "pop": 112524,
         "_deepnote_index_column": "('Kiribati', '2016')"
        },
        {
         "pop": 114158,
         "_deepnote_index_column": "('Kiribati', '2017')"
        },
        {
         "pop": 115847,
         "_deepnote_index_column": "('Kiribati', '2018')"
        },
        {
         "pop": 25183833,
         "_deepnote_index_column": "('Korea, Dem. People’s Rep.', '2015')"
        },
        {
         "pop": 25307744,
         "_deepnote_index_column": "('Korea, Dem. People’s Rep.', '2016')"
        },
        {
         "pop": 25429985,
         "_deepnote_index_column": "('Korea, Dem. People’s Rep.', '2017')"
        },
        {
         "pop": 25549819,
         "_deepnote_index_column": "('Korea, Dem. People’s Rep.', '2018')"
        },
        {
         "pop": 51014947,
         "_deepnote_index_column": "('Korea, Rep.', '2015')"
        },
        {
         "pop": 51245707,
         "_deepnote_index_column": "('Korea, Rep.', '2016')"
        },
        {
         "pop": 51466201,
         "_deepnote_index_column": "('Korea, Rep.', '2017')"
        },
        {
         "pop": 51635256,
         "_deepnote_index_column": "('Korea, Rep.', '2018')"
        }
       ],
       "rows_bottom": [
        {
         "pop": 6532678,
         "_deepnote_index_column": "('Lebanon', '2015')"
        },
        {
         "pop": 6711121,
         "_deepnote_index_column": "('Lebanon', '2016')"
        },
        {
         "pop": 6811873,
         "_deepnote_index_column": "('Lebanon', '2017')"
        },
        {
         "pop": 6848925,
         "_deepnote_index_column": "('Lebanon', '2018')"
        },
        {
         "pop": 2059021,
         "_deepnote_index_column": "('Lesotho', '2015')"
        },
        {
         "pop": 2075001,
         "_deepnote_index_column": "('Lesotho', '2016')"
        },
        {
         "pop": 2091412,
         "_deepnote_index_column": "('Lesotho', '2017')"
        },
        {
         "pop": 2108132,
         "_deepnote_index_column": "('Lesotho', '2018')"
        },
        {
         "pop": 4472230,
         "_deepnote_index_column": "('Liberia', '2015')"
        },
        {
         "pop": 4586788,
         "_deepnote_index_column": "('Liberia', '2016')"
        },
        {
         "pop": 4702228,
         "_deepnote_index_column": "('Liberia', '2017')"
        },
        {
         "pop": 4818977,
         "_deepnote_index_column": "('Liberia', '2018')"
        },
        {
         "pop": 6418315,
         "_deepnote_index_column": "('Libya', '2015')"
        },
        {
         "pop": 6492164,
         "_deepnote_index_column": "('Libya', '2016')"
        },
        {
         "pop": 6580724,
         "_deepnote_index_column": "('Libya', '2017')"
        },
        {
         "pop": 6678567,
         "_deepnote_index_column": "('Libya', '2018')"
        },
        {
         "pop": 37470,
         "_deepnote_index_column": "('Liechtenstein', '2015')"
        },
        {
         "pop": 37658,
         "_deepnote_index_column": "('Liechtenstein', '2016')"
        },
        {
         "pop": 37800,
         "_deepnote_index_column": "('Liechtenstein', '2017')"
        },
        {
         "pop": 37910,
         "_deepnote_index_column": "('Liechtenstein', '2018')"
        },
        {
         "pop": 2904910,
         "_deepnote_index_column": "('Lithuania', '2015')"
        },
        {
         "pop": 2868231,
         "_deepnote_index_column": "('Lithuania', '2016')"
        },
        {
         "pop": 2828403,
         "_deepnote_index_column": "('Lithuania', '2017')"
        },
        {
         "pop": 2789533,
         "_deepnote_index_column": "('Lithuania', '2018')"
        },
        {
         "pop": 6149221337,
         "_deepnote_index_column": "('Low & middle income', '2015')"
        },
        {
         "pop": 6227752871,
         "_deepnote_index_column": "('Low & middle income', '2016')"
        },
        {
         "pop": 6306560891,
         "_deepnote_index_column": "('Low & middle income', '2017')"
        },
        {
         "pop": 6383958209,
         "_deepnote_index_column": "('Low & middle income', '2018')"
        },
        {
         "pop": 653405207,
         "_deepnote_index_column": "('Low income', '2015')"
        },
        {
         "pop": 670117389,
         "_deepnote_index_column": "('Low income', '2016')"
        },
        {
         "pop": 687449530,
         "_deepnote_index_column": "('Low income', '2017')"
        },
        {
         "pop": 705417321,
         "_deepnote_index_column": "('Low income', '2018')"
        },
        {
         "pop": 2898058449,
         "_deepnote_index_column": "('Lower middle income', '2015')"
        },
        {
         "pop": 2939830821,
         "_deepnote_index_column": "('Lower middle income', '2016')"
        },
        {
         "pop": 2981420591,
         "_deepnote_index_column": "('Lower middle income', '2017')"
        },
        {
         "pop": 3022905169,
         "_deepnote_index_column": "('Lower middle income', '2018')"
        },
        {
         "pop": 569604,
         "_deepnote_index_column": "('Luxembourg', '2015')"
        },
        {
         "pop": 582014,
         "_deepnote_index_column": "('Luxembourg', '2016')"
        },
        {
         "pop": 596336,
         "_deepnote_index_column": "('Luxembourg', '2017')"
        },
        {
         "pop": 607728,
         "_deepnote_index_column": "('Luxembourg', '2018')"
        },
        {
         "pop": 602085,
         "_deepnote_index_column": "('Macao SAR, China', '2015')"
        },
        {
         "pop": 612836,
         "_deepnote_index_column": "('Macao SAR, China', '2016')"
        },
        {
         "pop": 622585,
         "_deepnote_index_column": "('Macao SAR, China', '2017')"
        },
        {
         "pop": 631636,
         "_deepnote_index_column": "('Macao SAR, China', '2018')"
        },
        {
         "pop": 24234088,
         "_deepnote_index_column": "('Madagascar', '2015')"
        },
        {
         "pop": 24894380,
         "_deepnote_index_column": "('Madagascar', '2016')"
        },
        {
         "pop": 25570540,
         "_deepnote_index_column": "('Madagascar', '2017')"
        },
        {
         "pop": 26262368,
         "_deepnote_index_column": "('Madagascar', '2018')"
        },
        {
         "pop": 16745303,
         "_deepnote_index_column": "('Malawi', '2015')"
        },
        {
         "pop": 17205289,
         "_deepnote_index_column": "('Malawi', '2016')"
        },
        {
         "pop": 17670260,
         "_deepnote_index_column": "('Malawi', '2017')"
        },
        {
         "pop": 18143315,
         "_deepnote_index_column": "('Malawi', '2018')"
        },
        {
         "pop": 30270962,
         "_deepnote_index_column": "('Malaysia', '2015')"
        },
        {
         "pop": 30684804,
         "_deepnote_index_column": "('Malaysia', '2016')"
        },
        {
         "pop": 31105028,
         "_deepnote_index_column": "('Malaysia', '2017')"
        },
        {
         "pop": 31528585,
         "_deepnote_index_column": "('Malaysia', '2018')"
        },
        {
         "pop": 454915,
         "_deepnote_index_column": "('Maldives', '2015')"
        },
        {
         "pop": 475513,
         "_deepnote_index_column": "('Maldives', '2016')"
        },
        {
         "pop": 496402,
         "_deepnote_index_column": "('Maldives', '2017')"
        },
        {
         "pop": 515696,
         "_deepnote_index_column": "('Maldives', '2018')"
        },
        {
         "pop": 17438778,
         "_deepnote_index_column": "('Mali', '2015')"
        },
        {
         "pop": 17965429,
         "_deepnote_index_column": "('Mali', '2016')"
        },
        {
         "pop": 18512394,
         "_deepnote_index_column": "('Mali', '2017')"
        },
        {
         "pop": 19077690,
         "_deepnote_index_column": "('Mali', '2018')"
        },
        {
         "pop": 445053,
         "_deepnote_index_column": "('Malta', '2015')"
        },
        {
         "pop": 455356,
         "_deepnote_index_column": "('Malta', '2016')"
        },
        {
         "pop": 467999,
         "_deepnote_index_column": "('Malta', '2017')"
        },
        {
         "pop": 483530,
         "_deepnote_index_column": "('Malta', '2018')"
        },
        {
         "pop": 57439,
         "_deepnote_index_column": "('Marshall Islands', '2015')"
        },
        {
         "pop": 57735,
         "_deepnote_index_column": "('Marshall Islands', '2016')"
        },
        {
         "pop": 58058,
         "_deepnote_index_column": "('Marshall Islands', '2017')"
        },
        {
         "pop": 58413,
         "_deepnote_index_column": "('Marshall Islands', '2018')"
        },
        {
         "pop": 4046301,
         "_deepnote_index_column": "('Mauritania', '2015')"
        },
        {
         "pop": 4163534,
         "_deepnote_index_column": "('Mauritania', '2016')"
        },
        {
         "pop": 4282574,
         "_deepnote_index_column": "('Mauritania', '2017')"
        },
        {
         "pop": 4403319,
         "_deepnote_index_column": "('Mauritania', '2018')"
        },
        {
         "pop": 1262605,
         "_deepnote_index_column": "('Mauritius', '2015')"
        },
        {
         "pop": 1263473,
         "_deepnote_index_column": "('Mauritius', '2016')"
        },
        {
         "pop": 1264613,
         "_deepnote_index_column": "('Mauritius', '2017')"
        },
        {
         "pop": 1265303,
         "_deepnote_index_column": "('Mauritius', '2018')"
        },
        {
         "pop": 121858258,
         "_deepnote_index_column": "('Mexico', '2015')"
        },
        {
         "pop": 123333376,
         "_deepnote_index_column": "('Mexico', '2016')"
        },
        {
         "pop": 124777324,
         "_deepnote_index_column": "('Mexico', '2017')"
        },
        {
         "pop": 126190788,
         "_deepnote_index_column": "('Mexico', '2018')"
        },
        {
         "pop": 108895,
         "_deepnote_index_column": "('Micronesia, Fed. Sts.', '2015')"
        },
        {
         "pop": 110215,
         "_deepnote_index_column": "('Micronesia, Fed. Sts.', '2016')"
        },
        {
         "pop": 111459,
         "_deepnote_index_column": "('Micronesia, Fed. Sts.', '2017')"
        },
        {
         "pop": 112640,
         "_deepnote_index_column": "('Micronesia, Fed. Sts.', '2018')"
        },
        {
         "pop": 425821770,
         "_deepnote_index_column": "('Middle East & North Africa', '2015')"
        },
        {
         "pop": 433597626,
         "_deepnote_index_column": "('Middle East & North Africa', '2016')"
        },
        {
         "pop": 441255234,
         "_deepnote_index_column": "('Middle East & North Africa', '2017')"
        },
        {
         "pop": 448912859,
         "_deepnote_index_column": "('Middle East & North Africa', '2018')"
        },
        {
         "pop": 359705458,
         "_deepnote_index_column": "('Middle East & North Africa (IDA & IBRD countries)', '2015')"
        },
        {
         "pop": 365909373,
         "_deepnote_index_column": "('Middle East & North Africa (IDA & IBRD countries)', '2016')"
        },
        {
         "pop": 372091950,
         "_deepnote_index_column": "('Middle East & North Africa (IDA & IBRD countries)', '2017')"
        },
        {
         "pop": 378327628,
         "_deepnote_index_column": "('Middle East & North Africa (IDA & IBRD countries)', '2018')"
        },
        {
         "pop": 363975550,
         "_deepnote_index_column": "('Middle East & North Africa (excluding high income)', '2015')"
        },
        {
         "pop": 370276461,
         "_deepnote_index_column": "('Middle East & North Africa (excluding high income)', '2016')"
        },
        {
         "pop": 376546755,
         "_deepnote_index_column": "('Middle East & North Africa (excluding high income)', '2017')"
        },
        {
         "pop": 382896715,
         "_deepnote_index_column": "('Middle East & North Africa (excluding high income)', '2018')"
        },
        {
         "pop": 5495816130,
         "_deepnote_index_column": "('Middle income', '2015')"
        },
        {
         "pop": 5557635482,
         "_deepnote_index_column": "('Middle income', '2016')"
        },
        {
         "pop": 5619111361,
         "_deepnote_index_column": "('Middle income', '2017')"
        },
        {
         "pop": 5678540888,
         "_deepnote_index_column": "('Middle income', '2018')"
        },
        {
         "pop": 3554108,
         "_deepnote_index_column": "('Moldova', '2015')"
        },
        {
         "pop": 3551954,
         "_deepnote_index_column": "('Moldova', '2016')"
        },
        {
         "pop": 3549196,
         "_deepnote_index_column": "('Moldova', '2017')"
        },
        {
         "pop": 3545883,
         "_deepnote_index_column": "('Moldova', '2018')"
        },
        {
         "pop": 37718,
         "_deepnote_index_column": "('Monaco', '2015')"
        },
        {
         "pop": 38070,
         "_deepnote_index_column": "('Monaco', '2016')"
        },
        {
         "pop": 38392,
         "_deepnote_index_column": "('Monaco', '2017')"
        },
        {
         "pop": 38682,
         "_deepnote_index_column": "('Monaco', '2018')"
        },
        {
         "pop": 2998439,
         "_deepnote_index_column": "('Mongolia', '2015')"
        },
        {
         "pop": 3056359,
         "_deepnote_index_column": "('Mongolia', '2016')"
        },
        {
         "pop": 3113779,
         "_deepnote_index_column": "('Mongolia', '2017')"
        },
        {
         "pop": 3170208,
         "_deepnote_index_column": "('Mongolia', '2018')"
        },
        {
         "pop": 622159,
         "_deepnote_index_column": "('Montenegro', '2015')"
        },
        {
         "pop": 622303,
         "_deepnote_index_column": "('Montenegro', '2016')"
        },
        {
         "pop": 622373,
         "_deepnote_index_column": "('Montenegro', '2017')"
        },
        {
         "pop": 622345,
         "_deepnote_index_column": "('Montenegro', '2018')"
        },
        {
         "pop": 34663603,
         "_deepnote_index_column": "('Morocco', '2015')"
        },
        {
         "pop": 35126296,
         "_deepnote_index_column": "('Morocco', '2016')"
        },
        {
         "pop": 35581294,
         "_deepnote_index_column": "('Morocco', '2017')"
        },
        {
         "pop": 36029138,
         "_deepnote_index_column": "('Morocco', '2018')"
        },
        {
         "pop": 27042002,
         "_deepnote_index_column": "('Mozambique', '2015')"
        },
        {
         "pop": 27829942,
         "_deepnote_index_column": "('Mozambique', '2016')"
        },
        {
         "pop": 28649007,
         "_deepnote_index_column": "('Mozambique', '2017')"
        },
        {
         "pop": 29495962,
         "_deepnote_index_column": "('Mozambique', '2018')"
        },
        {
         "pop": 52680726,
         "_deepnote_index_column": "('Myanmar', '2015')"
        },
        {
         "pop": 53045226,
         "_deepnote_index_column": "('Myanmar', '2016')"
        },
        {
         "pop": 53382581,
         "_deepnote_index_column": "('Myanmar', '2017')"
        },
        {
         "pop": 53708395,
         "_deepnote_index_column": "('Myanmar', '2018')"
        },
        {
         "pop": 2314904,
         "_deepnote_index_column": "('Namibia', '2015')"
        },
        {
         "pop": 2358041,
         "_deepnote_index_column": "('Namibia', '2016')"
        },
        {
         "pop": 2402603,
         "_deepnote_index_column": "('Namibia', '2017')"
        },
        {
         "pop": 2448255,
         "_deepnote_index_column": "('Namibia', '2018')"
        },
        {
         "pop": 12475,
         "_deepnote_index_column": "('Nauru', '2015')"
        },
        {
         "pop": 13049,
         "_deepnote_index_column": "('Nauru', '2016')"
        },
        {
         "pop": 12876,
         "_deepnote_index_column": "('Nauru', '2017')"
        },
        {
         "pop": 12704,
         "_deepnote_index_column": "('Nauru', '2018')"
        },
        {
         "pop": 27015031,
         "_deepnote_index_column": "('Nepal', '2015')"
        },
        {
         "pop": 27261131,
         "_deepnote_index_column": "('Nepal', '2016')"
        },
        {
         "pop": 27627124,
         "_deepnote_index_column": "('Nepal', '2017')"
        },
        {
         "pop": 28087871,
         "_deepnote_index_column": "('Nepal', '2018')"
        },
        {
         "pop": 16939923,
         "_deepnote_index_column": "('Netherlands', '2015')"
        },
        {
         "pop": 17030314,
         "_deepnote_index_column": "('Netherlands', '2016')"
        },
        {
         "pop": 17131296,
         "_deepnote_index_column": "('Netherlands', '2017')"
        },
        {
         "pop": 17231017,
         "_deepnote_index_column": "('Netherlands', '2018')"
        },
        {
         "pop": 272400,
         "_deepnote_index_column": "('New Caledonia', '2015')"
        },
        {
         "pop": 276550,
         "_deepnote_index_column": "('New Caledonia', '2016')"
        },
        {
         "pop": 280350,
         "_deepnote_index_column": "('New Caledonia', '2017')"
        },
        {
         "pop": 284060,
         "_deepnote_index_column": "('New Caledonia', '2018')"
        },
        {
         "pop": 4595700,
         "_deepnote_index_column": "('New Zealand', '2015')"
        },
        {
         "pop": 4693200,
         "_deepnote_index_column": "('New Zealand', '2016')"
        },
        {
         "pop": 4793900,
         "_deepnote_index_column": "('New Zealand', '2017')"
        },
        {
         "pop": 4885500,
         "_deepnote_index_column": "('New Zealand', '2018')"
        },
        {
         "pop": 6223240,
         "_deepnote_index_column": "('Nicaragua', '2015')"
        },
        {
         "pop": 6303974,
         "_deepnote_index_column": "('Nicaragua', '2016')"
        },
        {
         "pop": 6384855,
         "_deepnote_index_column": "('Nicaragua', '2017')"
        },
        {
         "pop": 6465513,
         "_deepnote_index_column": "('Nicaragua', '2018')"
        },
        {
         "pop": 20001663,
         "_deepnote_index_column": "('Niger', '2015')"
        },
        {
         "pop": 20788838,
         "_deepnote_index_column": "('Niger', '2016')"
        },
        {
         "pop": 21602472,
         "_deepnote_index_column": "('Niger', '2017')"
        },
        {
         "pop": 22442948,
         "_deepnote_index_column": "('Niger', '2018')"
        },
        {
         "pop": 181137448,
         "_deepnote_index_column": "('Nigeria', '2015')"
        },
        {
         "pop": 185960289,
         "_deepnote_index_column": "('Nigeria', '2016')"
        },
        {
         "pop": 190873311,
         "_deepnote_index_column": "('Nigeria', '2017')"
        },
        {
         "pop": 195874740,
         "_deepnote_index_column": "('Nigeria', '2018')"
        },
        {
         "pop": 356510820,
         "_deepnote_index_column": "('North America', '2015')"
        },
        {
         "pop": 359245384,
         "_deepnote_index_column": "('North America', '2016')"
        },
        {
         "pop": 361751263,
         "_deepnote_index_column": "('North America', '2017')"
        },
        {
         "pop": 364290258,
         "_deepnote_index_column": "('North America', '2018')"
        },
        {
         "pop": 2079328,
         "_deepnote_index_column": "('North Macedonia', '2015')"
        },
        {
         "pop": 2080745,
         "_deepnote_index_column": "('North Macedonia', '2016')"
        },
        {
         "pop": 2081996,
         "_deepnote_index_column": "('North Macedonia', '2017')"
        },
        {
         "pop": 2082958,
         "_deepnote_index_column": "('North Macedonia', '2018')"
        },
        {
         "pop": 55780,
         "_deepnote_index_column": "('Northern Mariana Islands', '2015')"
        },
        {
         "pop": 56188,
         "_deepnote_index_column": "('Northern Mariana Islands', '2016')"
        },
        {
         "pop": 56562,
         "_deepnote_index_column": "('Northern Mariana Islands', '2017')"
        },
        {
         "pop": 56882,
         "_deepnote_index_column": "('Northern Mariana Islands', '2018')"
        },
        {
         "pop": 5188607,
         "_deepnote_index_column": "('Norway', '2015')"
        },
        {
         "pop": 5234519,
         "_deepnote_index_column": "('Norway', '2016')"
        },
        {
         "pop": 5276968,
         "_deepnote_index_column": "('Norway', '2017')"
        },
        {
         "pop": 5314336,
         "_deepnote_index_column": "('Norway', '2018')"
        },
        {
         "pop": "nan",
         "_deepnote_index_column": "('Not classified', '2015')"
        },
        {
         "pop": "nan",
         "_deepnote_index_column": "('Not classified', '2016')"
        },
        {
         "pop": "nan",
         "_deepnote_index_column": "('Not classified', '2017')"
        },
        {
         "pop": "nan",
         "_deepnote_index_column": "('Not classified', '2018')"
        },
        {
         "pop": 1280466626,
         "_deepnote_index_column": "('OECD members', '2015')"
        },
        {
         "pop": 1288747101,
         "_deepnote_index_column": "('OECD members', '2016')"
        },
        {
         "pop": 1296225760,
         "_deepnote_index_column": "('OECD members', '2017')"
        },
        {
         "pop": 1303529456,
         "_deepnote_index_column": "('OECD members', '2018')"
        },
        {
         "pop": 4267348,
         "_deepnote_index_column": "('Oman', '2015')"
        },
        {
         "pop": 4479219,
         "_deepnote_index_column": "('Oman', '2016')"
        },
        {
         "pop": 4665935,
         "_deepnote_index_column": "('Oman', '2017')"
        },
        {
         "pop": 4829483,
         "_deepnote_index_column": "('Oman', '2018')"
        },
        {
         "pop": 28948869,
         "_deepnote_index_column": "('Other small states', '2015')"
        },
        {
         "pop": 29542879,
         "_deepnote_index_column": "('Other small states', '2016')"
        },
        {
         "pop": 30148800,
         "_deepnote_index_column": "('Other small states', '2017')"
        },
        {
         "pop": 30758989,
         "_deepnote_index_column": "('Other small states', '2018')"
        },
        {
         "pop": 2355672,
         "_deepnote_index_column": "('Pacific island small states', '2015')"
        },
        {
         "pop": 2388307,
         "_deepnote_index_column": "('Pacific island small states', '2016')"
        },
        {
         "pop": 2422086,
         "_deepnote_index_column": "('Pacific island small states', '2017')"
        },
        {
         "pop": 2457367,
         "_deepnote_index_column": "('Pacific island small states', '2018')"
        },
        {
         "pop": 199426964,
         "_deepnote_index_column": "('Pakistan', '2015')"
        },
        {
         "pop": 203627284,
         "_deepnote_index_column": "('Pakistan', '2016')"
        },
        {
         "pop": 207896686,
         "_deepnote_index_column": "('Pakistan', '2017')"
        },
        {
         "pop": 212215030,
         "_deepnote_index_column": "('Pakistan', '2018')"
        },
        {
         "pop": 17665,
         "_deepnote_index_column": "('Palau', '2015')"
        },
        {
         "pop": 17725,
         "_deepnote_index_column": "('Palau', '2016')"
        },
        {
         "pop": 17808,
         "_deepnote_index_column": "('Palau', '2017')"
        },
        {
         "pop": 17907,
         "_deepnote_index_column": "('Palau', '2018')"
        },
        {
         "pop": 3968487,
         "_deepnote_index_column": "('Panama', '2015')"
        },
        {
         "pop": 4037078,
         "_deepnote_index_column": "('Panama', '2016')"
        },
        {
         "pop": 4106771,
         "_deepnote_index_column": "('Panama', '2017')"
        },
        {
         "pop": 4176873,
         "_deepnote_index_column": "('Panama', '2018')"
        },
        {
         "pop": 8107775,
         "_deepnote_index_column": "('Papua New Guinea', '2015')"
        },
        {
         "pop": 8271760,
         "_deepnote_index_column": "('Papua New Guinea', '2016')"
        },
        {
         "pop": 8438029,
         "_deepnote_index_column": "('Papua New Guinea', '2017')"
        },
        {
         "pop": 8606316,
         "_deepnote_index_column": "('Papua New Guinea', '2018')"
        },
        {
         "pop": 6688746,
         "_deepnote_index_column": "('Paraguay', '2015')"
        },
        {
         "pop": 6777872,
         "_deepnote_index_column": "('Paraguay', '2016')"
        },
        {
         "pop": 6867062,
         "_deepnote_index_column": "('Paraguay', '2017')"
        },
        {
         "pop": 6956071,
         "_deepnote_index_column": "('Paraguay', '2018')"
        },
        {
         "pop": 30470734,
         "_deepnote_index_column": "('Peru', '2015')"
        },
        {
         "pop": 30926032,
         "_deepnote_index_column": "('Peru', '2016')"
        },
        {
         "pop": 31444297,
         "_deepnote_index_column": "('Peru', '2017')"
        },
        {
         "pop": 31989256,
         "_deepnote_index_column": "('Peru', '2018')"
        },
        {
         "pop": 102113212,
         "_deepnote_index_column": "('Philippines', '2015')"
        },
        {
         "pop": 103663927,
         "_deepnote_index_column": "('Philippines', '2016')"
        },
        {
         "pop": 105173264,
         "_deepnote_index_column": "('Philippines', '2017')"
        },
        {
         "pop": 106651922,
         "_deepnote_index_column": "('Philippines', '2018')"
        },
        {
         "pop": 37986412,
         "_deepnote_index_column": "('Poland', '2015')"
        },
        {
         "pop": 37970087,
         "_deepnote_index_column": "('Poland', '2016')"
        },
        {
         "pop": 37974826,
         "_deepnote_index_column": "('Poland', '2017')"
        },
        {
         "pop": 37978548,
         "_deepnote_index_column": "('Poland', '2018')"
        },
        {
         "pop": 10358076,
         "_deepnote_index_column": "('Portugal', '2015')"
        },
        {
         "pop": 10325452,
         "_deepnote_index_column": "('Portugal', '2016')"
        },
        {
         "pop": 10300300,
         "_deepnote_index_column": "('Portugal', '2017')"
        },
        {
         "pop": 10281762,
         "_deepnote_index_column": "('Portugal', '2018')"
        },
        {
         "pop": 1097025299,
         "_deepnote_index_column": "('Post-demographic dividend', '2015')"
        },
        {
         "pop": 1101992071,
         "_deepnote_index_column": "('Post-demographic dividend', '2016')"
        },
        {
         "pop": 1106035186,
         "_deepnote_index_column": "('Post-demographic dividend', '2017')"
        },
        {
         "pop": 1109997273,
         "_deepnote_index_column": "('Post-demographic dividend', '2018')"
        },
        {
         "pop": 845759344,
         "_deepnote_index_column": "('Pre-demographic dividend', '2015')"
        },
        {
         "pop": 869943914,
         "_deepnote_index_column": "('Pre-demographic dividend', '2016')"
        },
        {
         "pop": 894512725,
         "_deepnote_index_column": "('Pre-demographic dividend', '2017')"
        },
        {
         "pop": 919485393,
         "_deepnote_index_column": "('Pre-demographic dividend', '2018')"
        },
        {
         "pop": 3473166,
         "_deepnote_index_column": "('Puerto Rico', '2015')"
        },
        {
         "pop": 3406495,
         "_deepnote_index_column": "('Puerto Rico', '2016')"
        },
        {
         "pop": 3325001,
         "_deepnote_index_column": "('Puerto Rico', '2017')"
        },
        {
         "pop": 3195153,
         "_deepnote_index_column": "('Puerto Rico', '2018')"
        },
        {
         "pop": 2565710,
         "_deepnote_index_column": "('Qatar', '2015')"
        },
        {
         "pop": 2654374,
         "_deepnote_index_column": "('Qatar', '2016')"
        },
        {
         "pop": 2724724,
         "_deepnote_index_column": "('Qatar', '2017')"
        },
        {
         "pop": 2781677,
         "_deepnote_index_column": "('Qatar', '2018')"
        },
        {
         "pop": 19815481,
         "_deepnote_index_column": "('Romania', '2015')"
        },
        {
         "pop": 19702332,
         "_deepnote_index_column": "('Romania', '2016')"
        },
        {
         "pop": 19587491,
         "_deepnote_index_column": "('Romania', '2017')"
        },
        {
         "pop": 19473936,
         "_deepnote_index_column": "('Romania', '2018')"
        },
        {
         "pop": 144096870,
         "_deepnote_index_column": "('Russian Federation', '2015')"
        },
        {
         "pop": 144342396,
         "_deepnote_index_column": "('Russian Federation', '2016')"
        },
        {
         "pop": 144496740,
         "_deepnote_index_column": "('Russian Federation', '2017')"
        },
        {
         "pop": 144478050,
         "_deepnote_index_column": "('Russian Federation', '2018')"
        },
        {
         "pop": 11369071,
         "_deepnote_index_column": "('Rwanda', '2015')"
        },
        {
         "pop": 11668818,
         "_deepnote_index_column": "('Rwanda', '2016')"
        },
        {
         "pop": 11980937,
         "_deepnote_index_column": "('Rwanda', '2017')"
        },
        {
         "pop": 12301939,
         "_deepnote_index_column": "('Rwanda', '2018')"
        },
        {
         "pop": 193513,
         "_deepnote_index_column": "('Samoa', '2015')"
        },
        {
         "pop": 194535,
         "_deepnote_index_column": "('Samoa', '2016')"
        },
        {
         "pop": 195352,
         "_deepnote_index_column": "('Samoa', '2017')"
        },
        {
         "pop": 196130,
         "_deepnote_index_column": "('Samoa', '2018')"
        },
        {
         "pop": 33272,
         "_deepnote_index_column": "('San Marino', '2015')"
        },
        {
         "pop": 33504,
         "_deepnote_index_column": "('San Marino', '2016')"
        },
        {
         "pop": 33671,
         "_deepnote_index_column": "('San Marino', '2017')"
        },
        {
         "pop": 33785,
         "_deepnote_index_column": "('San Marino', '2018')"
        },
        {
         "pop": 199432,
         "_deepnote_index_column": "('Sao Tome and Principe', '2015')"
        },
        {
         "pop": 203227,
         "_deepnote_index_column": "('Sao Tome and Principe', '2016')"
        },
        {
         "pop": 207089,
         "_deepnote_index_column": "('Sao Tome and Principe', '2017')"
        },
        {
         "pop": 211028,
         "_deepnote_index_column": "('Sao Tome and Principe', '2018')"
        },
        {
         "pop": 31717667,
         "_deepnote_index_column": "('Saudi Arabia', '2015')"
        },
        {
         "pop": 32442572,
         "_deepnote_index_column": "('Saudi Arabia', '2016')"
        },
        {
         "pop": 33099147,
         "_deepnote_index_column": "('Saudi Arabia', '2017')"
        },
        {
         "pop": 33699947,
         "_deepnote_index_column": "('Saudi Arabia', '2018')"
        },
        {
         "pop": 14578459,
         "_deepnote_index_column": "('Senegal', '2015')"
        },
        {
         "pop": 14993528,
         "_deepnote_index_column": "('Senegal', '2016')"
        },
        {
         "pop": 15419381,
         "_deepnote_index_column": "('Senegal', '2017')"
        },
        {
         "pop": 15854360,
         "_deepnote_index_column": "('Senegal', '2018')"
        },
        {
         "pop": 7095383,
         "_deepnote_index_column": "('Serbia', '2015')"
        },
        {
         "pop": 7058322,
         "_deepnote_index_column": "('Serbia', '2016')"
        },
        {
         "pop": 7020858,
         "_deepnote_index_column": "('Serbia', '2017')"
        },
        {
         "pop": 6982084,
         "_deepnote_index_column": "('Serbia', '2018')"
        },
        {
         "pop": 93419,
         "_deepnote_index_column": "('Seychelles', '2015')"
        },
        {
         "pop": 94677,
         "_deepnote_index_column": "('Seychelles', '2016')"
        },
        {
         "pop": 95843,
         "_deepnote_index_column": "('Seychelles', '2017')"
        },
        {
         "pop": 96762,
         "_deepnote_index_column": "('Seychelles', '2018')"
        },
        {
         "pop": 7171914,
         "_deepnote_index_column": "('Sierra Leone', '2015')"
        },
        {
         "pop": 7328838,
         "_deepnote_index_column": "('Sierra Leone', '2016')"
        },
        {
         "pop": 7488431,
         "_deepnote_index_column": "('Sierra Leone', '2017')"
        },
        {
         "pop": 7650154,
         "_deepnote_index_column": "('Sierra Leone', '2018')"
        },
        {
         "pop": 5535002,
         "_deepnote_index_column": "('Singapore', '2015')"
        },
        {
         "pop": 5607283,
         "_deepnote_index_column": "('Singapore', '2016')"
        },
        {
         "pop": 5612253,
         "_deepnote_index_column": "('Singapore', '2017')"
        },
        {
         "pop": 5638676,
         "_deepnote_index_column": "('Singapore', '2018')"
        },
        {
         "pop": 38825,
         "_deepnote_index_column": "('Sint Maarten (Dutch part)', '2015')"
        },
        {
         "pop": 39969,
         "_deepnote_index_column": "('Sint Maarten (Dutch part)', '2016')"
        },
        {
         "pop": 40574,
         "_deepnote_index_column": "('Sint Maarten (Dutch part)', '2017')"
        },
        {
         "pop": 40654,
         "_deepnote_index_column": "('Sint Maarten (Dutch part)', '2018')"
        },
        {
         "pop": 5423801,
         "_deepnote_index_column": "('Slovak Republic', '2015')"
        },
        {
         "pop": 5430798,
         "_deepnote_index_column": "('Slovak Republic', '2016')"
        },
        {
         "pop": 5439232,
         "_deepnote_index_column": "('Slovak Republic', '2017')"
        },
        {
         "pop": 5447011,
         "_deepnote_index_column": "('Slovak Republic', '2018')"
        },
        {
         "pop": 2063531,
         "_deepnote_index_column": "('Slovenia', '2015')"
        },
        {
         "pop": 2065042,
         "_deepnote_index_column": "('Slovenia', '2016')"
        },
        {
         "pop": 2066388,
         "_deepnote_index_column": "('Slovenia', '2017')"
        },
        {
         "pop": 2067372,
         "_deepnote_index_column": "('Slovenia', '2018')"
        },
        {
         "pop": 38526753,
         "_deepnote_index_column": "('Small states', '2015')"
        },
        {
         "pop": 39200572,
         "_deepnote_index_column": "('Small states', '2016')"
        },
        {
         "pop": 39885876,
         "_deepnote_index_column": "('Small states', '2017')"
        },
        {
         "pop": 40575321,
         "_deepnote_index_column": "('Small states', '2018')"
        },
        {
         "pop": 603118,
         "_deepnote_index_column": "('Solomon Islands', '2015')"
        },
        {
         "pop": 619437,
         "_deepnote_index_column": "('Solomon Islands', '2016')"
        },
        {
         "pop": 636038,
         "_deepnote_index_column": "('Solomon Islands', '2017')"
        },
        {
         "pop": 652858,
         "_deepnote_index_column": "('Solomon Islands', '2018')"
        },
        {
         "pop": 13797201,
         "_deepnote_index_column": "('Somalia', '2015')"
        },
        {
         "pop": 14185613,
         "_deepnote_index_column": "('Somalia', '2016')"
        },
        {
         "pop": 14589119,
         "_deepnote_index_column": "('Somalia', '2017')"
        },
        {
         "pop": 15008154,
         "_deepnote_index_column": "('Somalia', '2018')"
        },
        {
         "pop": 55386367,
         "_deepnote_index_column": "('South Africa', '2015')"
        },
        {
         "pop": 56203654,
         "_deepnote_index_column": "('South Africa', '2016')"
        },
        {
         "pop": 57000451,
         "_deepnote_index_column": "('South Africa', '2017')"
        },
        {
         "pop": 57779622,
         "_deepnote_index_column": "('South Africa', '2018')"
        },
        {
         "pop": 1749417068,
         "_deepnote_index_column": "('South Asia', '2015')"
        },
        {
         "pop": 1771167194,
         "_deepnote_index_column": "('South Asia', '2016')"
        },
        {
         "pop": 1792835608,
         "_deepnote_index_column": "('South Asia', '2017')"
        },
        {
         "pop": 1814388744,
         "_deepnote_index_column": "('South Asia', '2018')"
        },
        {
         "pop": 1749417068,
         "_deepnote_index_column": "('South Asia (IDA & IBRD)', '2015')"
        },
        {
         "pop": 1771167194,
         "_deepnote_index_column": "('South Asia (IDA & IBRD)', '2016')"
        },
        {
         "pop": 1792835608,
         "_deepnote_index_column": "('South Asia (IDA & IBRD)', '2017')"
        },
        {
         "pop": 1814388744,
         "_deepnote_index_column": "('South Asia (IDA & IBRD)', '2018')"
        },
        {
         "pop": 10715658,
         "_deepnote_index_column": "('South Sudan', '2015')"
        },
        {
         "pop": 10832512,
         "_deepnote_index_column": "('South Sudan', '2016')"
        },
        {
         "pop": 10910759,
         "_deepnote_index_column": "('South Sudan', '2017')"
        },
        {
         "pop": 10975920,
         "_deepnote_index_column": "('South Sudan', '2018')"
        },
        {
         "pop": 46444832,
         "_deepnote_index_column": "('Spain', '2015')"
        },
        {
         "pop": 46483569,
         "_deepnote_index_column": "('Spain', '2016')"
        },
        {
         "pop": 46593236,
         "_deepnote_index_column": "('Spain', '2017')"
        },
        {
         "pop": 46723749,
         "_deepnote_index_column": "('Spain', '2018')"
        },
        {
         "pop": 20970000,
         "_deepnote_index_column": "('Sri Lanka', '2015')"
        },
        {
         "pop": 21203000,
         "_deepnote_index_column": "('Sri Lanka', '2016')"
        },
        {
         "pop": 21444000,
         "_deepnote_index_column": "('Sri Lanka', '2017')"
        },
        {
         "pop": 21670000,
         "_deepnote_index_column": "('Sri Lanka', '2018')"
        },
        {
         "pop": 51203,
         "_deepnote_index_column": "('St. Kitts and Nevis', '2015')"
        },
        {
         "pop": 51625,
         "_deepnote_index_column": "('St. Kitts and Nevis', '2016')"
        },
        {
         "pop": 52045,
         "_deepnote_index_column": "('St. Kitts and Nevis', '2017')"
        },
        {
         "pop": 52441,
         "_deepnote_index_column": "('St. Kitts and Nevis', '2018')"
        },
        {
         "pop": 179126,
         "_deepnote_index_column": "('St. Lucia', '2015')"
        },
        {
         "pop": 180024,
         "_deepnote_index_column": "('St. Lucia', '2016')"
        },
        {
         "pop": 180955,
         "_deepnote_index_column": "('St. Lucia', '2017')"
        },
        {
         "pop": 181889,
         "_deepnote_index_column": "('St. Lucia', '2018')"
        },
        {
         "pop": 35858,
         "_deepnote_index_column": "('St. Martin (French part)', '2015')"
        },
        {
         "pop": 36065,
         "_deepnote_index_column": "('St. Martin (French part)', '2016')"
        },
        {
         "pop": 36560,
         "_deepnote_index_column": "('St. Martin (French part)', '2017')"
        },
        {
         "pop": 37264,
         "_deepnote_index_column": "('St. Martin (French part)', '2018')"
        },
        {
         "pop": 109148,
         "_deepnote_index_column": "('St. Vincent and the Grenadines', '2015')"
        },
        {
         "pop": 109459,
         "_deepnote_index_column": "('St. Vincent and the Grenadines', '2016')"
        },
        {
         "pop": 109827,
         "_deepnote_index_column": "('St. Vincent and the Grenadines', '2017')"
        },
        {
         "pop": 110210,
         "_deepnote_index_column": "('St. Vincent and the Grenadines', '2018')"
        },
        {
         "pop": 995458478,
         "_deepnote_index_column": "('Sub-Saharan Africa', '2015')"
        },
        {
         "pop": 1022526541,
         "_deepnote_index_column": "('Sub-Saharan Africa', '2016')"
        },
        {
         "pop": 1050153672,
         "_deepnote_index_column": "('Sub-Saharan Africa', '2017')"
        },
        {
         "pop": 1078306520,
         "_deepnote_index_column": "('Sub-Saharan Africa', '2018')"
        },
        {
         "pop": 38902950,
         "_deepnote_index_column": "('Sudan', '2015')"
        },
        {
         "pop": 39847440,
         "_deepnote_index_column": "('Sudan', '2016')"
        },
        {
         "pop": 40813396,
         "_deepnote_index_column": "('Sudan', '2017')"
        },
        {
         "pop": 41801533,
         "_deepnote_index_column": "('Sudan', '2018')"
        },
        {
         "pop": 559143,
         "_deepnote_index_column": "('Suriname', '2015')"
        },
        {
         "pop": 564888,
         "_deepnote_index_column": "('Suriname', '2016')"
        },
        {
         "pop": 570496,
         "_deepnote_index_column": "('Suriname', '2017')"
        },
        {
         "pop": 575991,
         "_deepnote_index_column": "('Suriname', '2018')"
        },
        {
         "pop": 9799186,
         "_deepnote_index_column": "('Sweden', '2015')"
        },
        {
         "pop": 9923085,
         "_deepnote_index_column": "('Sweden', '2016')"
        },
        {
         "pop": 10057698,
         "_deepnote_index_column": "('Sweden', '2017')"
        },
        {
         "pop": 10183175,
         "_deepnote_index_column": "('Sweden', '2018')"
        },
        {
         "pop": 8282396,
         "_deepnote_index_column": "('Switzerland', '2015')"
        },
        {
         "pop": 8373338,
         "_deepnote_index_column": "('Switzerland', '2016')"
        },
        {
         "pop": 8451840,
         "_deepnote_index_column": "('Switzerland', '2017')"
        },
        {
         "pop": 8516543,
         "_deepnote_index_column": "('Switzerland', '2018')"
        },
        {
         "pop": 17997408,
         "_deepnote_index_column": "('Syrian Arab Republic', '2015')"
        },
        {
         "pop": 17453933,
         "_deepnote_index_column": "('Syrian Arab Republic', '2016')"
        },
        {
         "pop": 17068002,
         "_deepnote_index_column": "('Syrian Arab Republic', '2017')"
        },
        {
         "pop": 16906283,
         "_deepnote_index_column": "('Syrian Arab Republic', '2018')"
        },
        {
         "pop": 8454028,
         "_deepnote_index_column": "('Tajikistan', '2015')"
        },
        {
         "pop": 8663579,
         "_deepnote_index_column": "('Tajikistan', '2016')"
        },
        {
         "pop": 8880268,
         "_deepnote_index_column": "('Tajikistan', '2017')"
        },
        {
         "pop": 9100837,
         "_deepnote_index_column": "('Tajikistan', '2018')"
        },
        {
         "pop": 51482633,
         "_deepnote_index_column": "('Tanzania', '2015')"
        },
        {
         "pop": 53050790,
         "_deepnote_index_column": "('Tanzania', '2016')"
        },
        {
         "pop": 54663906,
         "_deepnote_index_column": "('Tanzania', '2017')"
        },
        {
         "pop": 56318348,
         "_deepnote_index_column": "('Tanzania', '2018')"
        },
        {
         "pop": 68714511,
         "_deepnote_index_column": "('Thailand', '2015')"
        },
        {
         "pop": 68971331,
         "_deepnote_index_column": "('Thailand', '2016')"
        },
        {
         "pop": 69209858,
         "_deepnote_index_column": "('Thailand', '2017')"
        },
        {
         "pop": 69428524,
         "_deepnote_index_column": "('Thailand', '2018')"
        },
        {
         "pop": 1196302,
         "_deepnote_index_column": "('Timor-Leste', '2015')"
        },
        {
         "pop": 1219288,
         "_deepnote_index_column": "('Timor-Leste', '2016')"
        },
        {
         "pop": 1243261,
         "_deepnote_index_column": "('Timor-Leste', '2017')"
        },
        {
         "pop": 1267972,
         "_deepnote_index_column": "('Timor-Leste', '2018')"
        },
        {
         "pop": 7323158,
         "_deepnote_index_column": "('Togo', '2015')"
        },
        {
         "pop": 7509952,
         "_deepnote_index_column": "('Togo', '2016')"
        },
        {
         "pop": 7698475,
         "_deepnote_index_column": "('Togo', '2017')"
        },
        {
         "pop": 7889094,
         "_deepnote_index_column": "('Togo', '2018')"
        },
        {
         "pop": 100781,
         "_deepnote_index_column": "('Tonga', '2015')"
        },
        {
         "pop": 101133,
         "_deepnote_index_column": "('Tonga', '2016')"
        },
        {
         "pop": 101998,
         "_deepnote_index_column": "('Tonga', '2017')"
        },
        {
         "pop": 103197,
         "_deepnote_index_column": "('Tonga', '2018')"
        },
        {
         "pop": 1370328,
         "_deepnote_index_column": "('Trinidad and Tobago', '2015')"
        },
        {
         "pop": 1377564,
         "_deepnote_index_column": "('Trinidad and Tobago', '2016')"
        },
        {
         "pop": 1384072,
         "_deepnote_index_column": "('Trinidad and Tobago', '2017')"
        },
        {
         "pop": 1389858,
         "_deepnote_index_column": "('Trinidad and Tobago', '2018')"
        },
        {
         "pop": 11179949,
         "_deepnote_index_column": "('Tunisia', '2015')"
        },
        {
         "pop": 11303946,
         "_deepnote_index_column": "('Tunisia', '2016')"
        },
        {
         "pop": 11433443,
         "_deepnote_index_column": "('Tunisia', '2017')"
        },
        {
         "pop": 11565204,
         "_deepnote_index_column": "('Tunisia', '2018')"
        },
        {
         "pop": 78529409,
         "_deepnote_index_column": "('Turkey', '2015')"
        },
        {
         "pop": 79821724,
         "_deepnote_index_column": "('Turkey', '2016')"
        },
        {
         "pop": 81101892,
         "_deepnote_index_column": "('Turkey', '2017')"
        },
        {
         "pop": 82319724,
         "_deepnote_index_column": "('Turkey', '2018')"
        },
        {
         "pop": 5565287,
         "_deepnote_index_column": "('Turkmenistan', '2015')"
        },
        {
         "pop": 5662372,
         "_deepnote_index_column": "('Turkmenistan', '2016')"
        },
        {
         "pop": 5757669,
         "_deepnote_index_column": "('Turkmenistan', '2017')"
        },
        {
         "pop": 5850908,
         "_deepnote_index_column": "('Turkmenistan', '2018')"
        },
        {
         "pop": 35981,
         "_deepnote_index_column": "('Turks and Caicos Islands', '2015')"
        },
        {
         "pop": 36559,
         "_deepnote_index_column": "('Turks and Caicos Islands', '2016')"
        },
        {
         "pop": 37115,
         "_deepnote_index_column": "('Turks and Caicos Islands', '2017')"
        },
        {
         "pop": 37665,
         "_deepnote_index_column": "('Turks and Caicos Islands', '2018')"
        },
        {
         "pop": 11099,
         "_deepnote_index_column": "('Tuvalu', '2015')"
        },
        {
         "pop": 11225,
         "_deepnote_index_column": "('Tuvalu', '2016')"
        },
        {
         "pop": 11370,
         "_deepnote_index_column": "('Tuvalu', '2017')"
        },
        {
         "pop": 11508,
         "_deepnote_index_column": "('Tuvalu', '2018')"
        },
        {
         "pop": 38225453,
         "_deepnote_index_column": "('Uganda', '2015')"
        },
        {
         "pop": 39647506,
         "_deepnote_index_column": "('Uganda', '2016')"
        },
        {
         "pop": 41162465,
         "_deepnote_index_column": "('Uganda', '2017')"
        },
        {
         "pop": 42723139,
         "_deepnote_index_column": "('Uganda', '2018')"
        },
        {
         "pop": 45154029,
         "_deepnote_index_column": "('Ukraine', '2015')"
        },
        {
         "pop": 45004645,
         "_deepnote_index_column": "('Ukraine', '2016')"
        },
        {
         "pop": 44831135,
         "_deepnote_index_column": "('Ukraine', '2017')"
        },
        {
         "pop": 44622516,
         "_deepnote_index_column": "('Ukraine', '2018')"
        },
        {
         "pop": 9262900,
         "_deepnote_index_column": "('United Arab Emirates', '2015')"
        },
        {
         "pop": 9360980,
         "_deepnote_index_column": "('United Arab Emirates', '2016')"
        },
        {
         "pop": 9487203,
         "_deepnote_index_column": "('United Arab Emirates', '2017')"
        },
        {
         "pop": 9630959,
         "_deepnote_index_column": "('United Arab Emirates', '2018')"
        },
        {
         "pop": 65128861,
         "_deepnote_index_column": "('United Kingdom', '2015')"
        },
        {
         "pop": 65595565,
         "_deepnote_index_column": "('United Kingdom', '2016')"
        },
        {
         "pop": 66058859,
         "_deepnote_index_column": "('United Kingdom', '2017')"
        },
        {
         "pop": 66488991,
         "_deepnote_index_column": "('United Kingdom', '2018')"
        },
        {
         "pop": 320742673,
         "_deepnote_index_column": "('United States', '2015')"
        },
        {
         "pop": 323071342,
         "_deepnote_index_column": "('United States', '2016')"
        },
        {
         "pop": 325147121,
         "_deepnote_index_column": "('United States', '2017')"
        },
        {
         "pop": 327167434,
         "_deepnote_index_column": "('United States', '2018')"
        },
        {
         "pop": 3412009,
         "_deepnote_index_column": "('Uruguay', '2015')"
        },
        {
         "pop": 3424132,
         "_deepnote_index_column": "('Uruguay', '2016')"
        },
        {
         "pop": 3436646,
         "_deepnote_index_column": "('Uruguay', '2017')"
        },
        {
         "pop": 3449299,
         "_deepnote_index_column": "('Uruguay', '2018')"
        },
        {
         "pop": 31298900,
         "_deepnote_index_column": "('Uzbekistan', '2015')"
        },
        {
         "pop": 31847900,
         "_deepnote_index_column": "('Uzbekistan', '2016')"
        },
        {
         "pop": 32388600,
         "_deepnote_index_column": "('Uzbekistan', '2017')"
        },
        {
         "pop": 32955400,
         "_deepnote_index_column": "('Uzbekistan', '2018')"
        },
        {
         "pop": 271130,
         "_deepnote_index_column": "('Vanuatu', '2015')"
        },
        {
         "pop": 278330,
         "_deepnote_index_column": "('Vanuatu', '2016')"
        },
        {
         "pop": 285510,
         "_deepnote_index_column": "('Vanuatu', '2017')"
        },
        {
         "pop": 292680,
         "_deepnote_index_column": "('Vanuatu', '2018')"
        },
        {
         "pop": 30081829,
         "_deepnote_index_column": "('Venezuela, RB', '2015')"
        },
        {
         "pop": 29846179,
         "_deepnote_index_column": "('Venezuela, RB', '2016')"
        },
        {
         "pop": 29390409,
         "_deepnote_index_column": "('Venezuela, RB', '2017')"
        },
        {
         "pop": 28870195,
         "_deepnote_index_column": "('Venezuela, RB', '2018')"
        },
        {
         "pop": 92677076,
         "_deepnote_index_column": "('Vietnam', '2015')"
        },
        {
         "pop": 93638724,
         "_deepnote_index_column": "('Vietnam', '2016')"
        },
        {
         "pop": 94596642,
         "_deepnote_index_column": "('Vietnam', '2017')"
        },
        {
         "pop": 95540395,
         "_deepnote_index_column": "('Vietnam', '2018')"
        },
        {
         "pop": 107710,
         "_deepnote_index_column": "('Virgin Islands (U.S.)', '2015')"
        },
        {
         "pop": 107510,
         "_deepnote_index_column": "('Virgin Islands (U.S.)', '2016')"
        },
        {
         "pop": 107268,
         "_deepnote_index_column": "('Virgin Islands (U.S.)', '2017')"
        },
        {
         "pop": 106977,
         "_deepnote_index_column": "('Virgin Islands (U.S.)', '2018')"
        },
        {
         "pop": 4270092,
         "_deepnote_index_column": "('West Bank and Gaza', '2015')"
        },
        {
         "pop": 4367088,
         "_deepnote_index_column": "('West Bank and Gaza', '2016')"
        },
        {
         "pop": 4454805,
         "_deepnote_index_column": "('West Bank and Gaza', '2017')"
        },
        {
         "pop": 4569087,
         "_deepnote_index_column": "('West Bank and Gaza', '2018')"
        },
        {
         "pop": 26497889,
         "_deepnote_index_column": "('Yemen, Rep.', '2015')"
        },
        {
         "pop": 27168210,
         "_deepnote_index_column": "('Yemen, Rep.', '2016')"
        },
        {
         "pop": 27834821,
         "_deepnote_index_column": "('Yemen, Rep.', '2017')"
        },
        {
         "pop": 28498687,
         "_deepnote_index_column": "('Yemen, Rep.', '2018')"
        },
        {
         "pop": 15879361,
         "_deepnote_index_column": "('Zambia', '2015')"
        },
        {
         "pop": 16363507,
         "_deepnote_index_column": "('Zambia', '2016')"
        },
        {
         "pop": 16853688,
         "_deepnote_index_column": "('Zambia', '2017')"
        },
        {
         "pop": 17351822,
         "_deepnote_index_column": "('Zambia', '2018')"
        },
        {
         "pop": 13814629,
         "_deepnote_index_column": "('Zimbabwe', '2015')"
        },
        {
         "pop": 14030390,
         "_deepnote_index_column": "('Zimbabwe', '2016')"
        },
        {
         "pop": 14236745,
         "_deepnote_index_column": "('Zimbabwe', '2017')"
        },
        {
         "pop": 14439018,
         "_deepnote_index_column": "('Zimbabwe', '2018')"
        }
       ]
      },
      "text/plain": "                          pop\nCountry     year             \nAfghanistan 2015 34,413,603.0\n            2016 35,383,128.0\n            2017 36,296,400.0\n            2018 37,172,386.0\nAlbania     2015  2,880,703.0\n...                       ...\nZambia      2018 17,351,822.0\nZimbabwe    2015 13,814,629.0\n            2016 14,030,390.0\n            2017 14,236,745.0\n            2018 14,439,018.0\n\n[1040 rows x 1 columns]",
      "text/html": "<div>\n<style scoped>\n    .dataframe tbody tr th:only-of-type {\n        vertical-align: middle;\n    }\n\n    .dataframe tbody tr th {\n        vertical-align: top;\n    }\n\n    .dataframe thead th {\n        text-align: right;\n    }\n</style>\n<table border=\"1\" class=\"dataframe\">\n  <thead>\n    <tr style=\"text-align: right;\">\n      <th></th>\n      <th></th>\n      <th>pop</th>\n    </tr>\n    <tr>\n      <th>Country</th>\n      <th>year</th>\n      <th></th>\n    </tr>\n  </thead>\n  <tbody>\n    <tr>\n      <th rowspan=\"4\" valign=\"top\">Afghanistan</th>\n      <th>2015</th>\n      <td>34,413,603.0</td>\n    </tr>\n    <tr>\n      <th>2016</th>\n      <td>35,383,128.0</td>\n    </tr>\n    <tr>\n      <th>2017</th>\n      <td>36,296,400.0</td>\n    </tr>\n    <tr>\n      <th>2018</th>\n      <td>37,172,386.0</td>\n    </tr>\n    <tr>\n      <th>Albania</th>\n      <th>2015</th>\n      <td>2,880,703.0</td>\n    </tr>\n    <tr>\n      <th>...</th>\n      <th>...</th>\n      <td>...</td>\n    </tr>\n    <tr>\n      <th>Zambia</th>\n      <th>2018</th>\n      <td>17,351,822.0</td>\n    </tr>\n    <tr>\n      <th rowspan=\"4\" valign=\"top\">Zimbabwe</th>\n      <th>2015</th>\n      <td>13,814,629.0</td>\n    </tr>\n    <tr>\n      <th>2016</th>\n      <td>14,030,390.0</td>\n    </tr>\n    <tr>\n      <th>2017</th>\n      <td>14,236,745.0</td>\n    </tr>\n    <tr>\n      <th>2018</th>\n      <td>14,439,018.0</td>\n    </tr>\n  </tbody>\n</table>\n<p>1040 rows × 1 columns</p>\n</div>"
     },
     "metadata": {}
    }
   ]
  },
  {
   "cell_type": "markdown",
   "source": "## Crear un indice con los paises deseados\n\nPor ejemplo: de Aruba a  Austria del año 2015 a 2017",
   "metadata": {
    "tags": [],
    "cell_id": "00014-526e2740-dee6-4653-8061-fa4c3afe6065",
    "deepnote_cell_type": "markdown"
   }
  },
  {
   "cell_type": "code",
   "metadata": {
    "tags": [],
    "cell_id": "00015-60c16273-1b9a-4e28-8712-b951fe24177e",
    "deepnote_to_be_reexecuted": false,
    "source_hash": "2d5c3e75",
    "execution_start": 1625016024149,
    "execution_millis": 6,
    "deepnote_cell_type": "code"
   },
   "source": "ids = pd.IndexSlice\ndf_countries.loc[ids['Aruba':'Austria','2015':'2017'],:].sort_index()",
   "execution_count": 43,
   "outputs": [
    {
     "output_type": "execute_result",
     "execution_count": 43,
     "data": {
      "application/vnd.deepnote.dataframe.v2+json": {
       "row_count": 9,
       "column_count": 1,
       "columns": [
        {
         "name": "pop",
         "dtype": "float64",
         "stats": {
          "unique_count": 9,
          "nan_count": 0,
          "min": "104341.0",
          "max": "24601860.0",
          "histogram": [
           {
            "bin_start": 104341,
            "bin_end": 2554092.9,
            "count": 3
           },
           {
            "bin_start": 2554092.9,
            "bin_end": 5003844.8,
            "count": 0
           },
           {
            "bin_start": 5003844.8,
            "bin_end": 7453596.699999999,
            "count": 0
           },
           {
            "bin_start": 7453596.699999999,
            "bin_end": 9903348.6,
            "count": 3
           },
           {
            "bin_start": 9903348.6,
            "bin_end": 12353100.5,
            "count": 0
           },
           {
            "bin_start": 12353100.5,
            "bin_end": 14802852.399999999,
            "count": 0
           },
           {
            "bin_start": 14802852.399999999,
            "bin_end": 17252604.3,
            "count": 0
           },
           {
            "bin_start": 17252604.3,
            "bin_end": 19702356.2,
            "count": 0
           },
           {
            "bin_start": 19702356.2,
            "bin_end": 22152108.099999998,
            "count": 0
           },
           {
            "bin_start": 22152108.099999998,
            "bin_end": 24601860,
            "count": 3
           }
          ]
         }
        },
        {
         "name": "_deepnote_index_column",
         "dtype": "object"
        }
       ],
       "rows_top": [
        {
         "pop": 104341,
         "_deepnote_index_column": "('Aruba', '2015')"
        },
        {
         "pop": 104872,
         "_deepnote_index_column": "('Aruba', '2016')"
        },
        {
         "pop": 105366,
         "_deepnote_index_column": "('Aruba', '2017')"
        },
        {
         "pop": 23815995,
         "_deepnote_index_column": "('Australia', '2015')"
        },
        {
         "pop": 24190907,
         "_deepnote_index_column": "('Australia', '2016')"
        },
        {
         "pop": 24601860,
         "_deepnote_index_column": "('Australia', '2017')"
        },
        {
         "pop": 8642699,
         "_deepnote_index_column": "('Austria', '2015')"
        },
        {
         "pop": 8736668,
         "_deepnote_index_column": "('Austria', '2016')"
        },
        {
         "pop": 8797566,
         "_deepnote_index_column": "('Austria', '2017')"
        }
       ],
       "rows_bottom": null
      },
      "text/plain": "                        pop\nCountry   year             \nAruba     2015    104,341.0\n          2016    104,872.0\n          2017    105,366.0\nAustralia 2015 23,815,995.0\n          2016 24,190,907.0\n          2017 24,601,860.0\nAustria   2015  8,642,699.0\n          2016  8,736,668.0\n          2017  8,797,566.0",
      "text/html": "<div>\n<style scoped>\n    .dataframe tbody tr th:only-of-type {\n        vertical-align: middle;\n    }\n\n    .dataframe tbody tr th {\n        vertical-align: top;\n    }\n\n    .dataframe thead th {\n        text-align: right;\n    }\n</style>\n<table border=\"1\" class=\"dataframe\">\n  <thead>\n    <tr style=\"text-align: right;\">\n      <th></th>\n      <th></th>\n      <th>pop</th>\n    </tr>\n    <tr>\n      <th>Country</th>\n      <th>year</th>\n      <th></th>\n    </tr>\n  </thead>\n  <tbody>\n    <tr>\n      <th rowspan=\"3\" valign=\"top\">Aruba</th>\n      <th>2015</th>\n      <td>104,341.0</td>\n    </tr>\n    <tr>\n      <th>2016</th>\n      <td>104,872.0</td>\n    </tr>\n    <tr>\n      <th>2017</th>\n      <td>105,366.0</td>\n    </tr>\n    <tr>\n      <th rowspan=\"3\" valign=\"top\">Australia</th>\n      <th>2015</th>\n      <td>23,815,995.0</td>\n    </tr>\n    <tr>\n      <th>2016</th>\n      <td>24,190,907.0</td>\n    </tr>\n    <tr>\n      <th>2017</th>\n      <td>24,601,860.0</td>\n    </tr>\n    <tr>\n      <th rowspan=\"3\" valign=\"top\">Austria</th>\n      <th>2015</th>\n      <td>8,642,699.0</td>\n    </tr>\n    <tr>\n      <th>2016</th>\n      <td>8,736,668.0</td>\n    </tr>\n    <tr>\n      <th>2017</th>\n      <td>8,797,566.0</td>\n    </tr>\n  </tbody>\n</table>\n</div>"
     },
     "metadata": {}
    }
   ]
  },
  {
   "cell_type": "markdown",
   "source": "## Acceder al valor del indice deseado",
   "metadata": {
    "tags": [],
    "cell_id": "00016-48c96883-cdf4-4ab4-8137-a9956f99f319",
    "deepnote_cell_type": "markdown"
   }
  },
  {
   "cell_type": "code",
   "metadata": {
    "tags": [],
    "cell_id": "00016-d11d7cbd-1bbe-4111-b472-b634d331711e",
    "deepnote_to_be_reexecuted": false,
    "source_hash": "9a63562f",
    "execution_start": 1625016024670,
    "execution_millis": 8,
    "deepnote_cell_type": "code"
   },
   "source": "df_countries.index.get_level_values(0)",
   "execution_count": 44,
   "outputs": [
    {
     "output_type": "execute_result",
     "execution_count": 44,
     "data": {
      "text/plain": "Index(['Afghanistan', 'Afghanistan', 'Afghanistan', 'Afghanistan', 'Albania',\n       'Albania', 'Albania', 'Albania', 'Algeria', 'Algeria',\n       ...\n       'Yemen, Rep.', 'Yemen, Rep.', 'Zambia', 'Zambia', 'Zambia', 'Zambia',\n       'Zimbabwe', 'Zimbabwe', 'Zimbabwe', 'Zimbabwe'],\n      dtype='object', name='Country', length=1040)"
     },
     "metadata": {}
    }
   ]
  },
  {
   "cell_type": "code",
   "source": "df_countries.index.get_level_values(1)",
   "metadata": {
    "tags": [],
    "cell_id": "00017-8f3a3855-030a-453c-8a68-7303a8e78d14",
    "deepnote_to_be_reexecuted": false,
    "source_hash": "f68ae5d0",
    "execution_start": 1625016024931,
    "execution_millis": 4,
    "deepnote_cell_type": "code"
   },
   "outputs": [
    {
     "output_type": "execute_result",
     "execution_count": 45,
     "data": {
      "text/plain": "CategoricalIndex(['2015', '2016', '2017', '2018', '2015', '2016', '2017',\n                  '2018', '2015', '2016',\n                  ...\n                  '2017', '2018', '2015', '2016', '2017', '2018', '2015',\n                  '2016', '2017', '2018'],\n                 categories=['2015', '2016', '2017', '2018'], ordered=False, name='year', dtype='category', length=1040)"
     },
     "metadata": {}
    }
   ],
   "execution_count": 45
  },
  {
   "cell_type": "markdown",
   "source": "Cuando trabajamos con un DataFrame con **multiples indices**, podemos extraer un **dato en especifico** con una **cadena de instrucciones**.",
   "metadata": {
    "tags": [],
    "cell_id": "00019-3f7068ef-c7d3-4fc1-ab8b-3c7eedd9b361",
    "deepnote_cell_type": "markdown"
   }
  },
  {
   "cell_type": "code",
   "source": "df_countries['pop']['Colombia']['2016']",
   "metadata": {
    "tags": [],
    "cell_id": "00019-02ce88a0-a263-4d3f-9d71-c86c14184547",
    "deepnote_to_be_reexecuted": false,
    "source_hash": "772ddf70",
    "execution_start": 1625016025427,
    "execution_millis": 5,
    "deepnote_cell_type": "code"
   },
   "outputs": [
    {
     "output_type": "execute_result",
     "execution_count": 46,
     "data": {
      "text/plain": "48171392.0"
     },
     "metadata": {}
    }
   ],
   "execution_count": 46
  },
  {
   "cell_type": "markdown",
   "source": "Unas de las **grandes utilidades** es cuando tenemos que aplicar **funciones** matematicas sobre el.\nY nos obtiene la poblacion total en cada año.",
   "metadata": {
    "tags": [],
    "cell_id": "00021-e35b4ef9-bef6-41e0-b5e3-58eec0d4d1ec",
    "deepnote_cell_type": "markdown"
   }
  },
  {
   "cell_type": "code",
   "source": "df_countries.sum(level='year')",
   "metadata": {
    "tags": [],
    "cell_id": "00020-c7d56aa7-5b2c-44f5-9b36-a54c7496f2a4",
    "deepnote_to_be_reexecuted": false,
    "source_hash": "d2b3b29c",
    "execution_start": 1625016026014,
    "execution_millis": 17,
    "deepnote_cell_type": "code"
   },
   "outputs": [
    {
     "output_type": "execute_result",
     "execution_count": 47,
     "data": {
      "application/vnd.deepnote.dataframe.v2+json": {
       "row_count": 4,
       "column_count": 1,
       "columns": [
        {
         "name": "pop",
         "dtype": "float64",
         "stats": {
          "unique_count": 4,
          "nan_count": 0,
          "min": "65679147019.0",
          "max": "68087886692.0",
          "histogram": [
           {
            "bin_start": 65679147019,
            "bin_end": 65920020986.3,
            "count": 1
           },
           {
            "bin_start": 65920020986.3,
            "bin_end": 66160894953.6,
            "count": 0
           },
           {
            "bin_start": 66160894953.6,
            "bin_end": 66401768920.9,
            "count": 0
           },
           {
            "bin_start": 66401768920.9,
            "bin_end": 66642642888.2,
            "count": 1
           },
           {
            "bin_start": 66642642888.2,
            "bin_end": 66883516855.5,
            "count": 0
           },
           {
            "bin_start": 66883516855.5,
            "bin_end": 67124390822.8,
            "count": 0
           },
           {
            "bin_start": 67124390822.8,
            "bin_end": 67365264790.1,
            "count": 1
           },
           {
            "bin_start": 67365264790.1,
            "bin_end": 67606138757.4,
            "count": 0
           },
           {
            "bin_start": 67606138757.4,
            "bin_end": 67847012724.7,
            "count": 0
           },
           {
            "bin_start": 67847012724.7,
            "bin_end": 68087886692,
            "count": 1
           }
          ]
         }
        },
        {
         "name": "_deepnote_index_column",
         "dtype": "category"
        }
       ],
       "rows_top": [
        {
         "pop": 65679147019,
         "_deepnote_index_column": "2015"
        },
        {
         "pop": 66487930677,
         "_deepnote_index_column": "2016"
        },
        {
         "pop": 67294176701,
         "_deepnote_index_column": "2017"
        },
        {
         "pop": 68087886692,
         "_deepnote_index_column": "2018"
        }
       ],
       "rows_bottom": null
      },
      "text/plain": "                  pop\nyear                 \n2015 65,679,147,019.0\n2016 66,487,930,677.0\n2017 67,294,176,701.0\n2018 68,087,886,692.0",
      "text/html": "<div>\n<style scoped>\n    .dataframe tbody tr th:only-of-type {\n        vertical-align: middle;\n    }\n\n    .dataframe tbody tr th {\n        vertical-align: top;\n    }\n\n    .dataframe thead th {\n        text-align: right;\n    }\n</style>\n<table border=\"1\" class=\"dataframe\">\n  <thead>\n    <tr style=\"text-align: right;\">\n      <th></th>\n      <th>pop</th>\n    </tr>\n    <tr>\n      <th>year</th>\n      <th></th>\n    </tr>\n  </thead>\n  <tbody>\n    <tr>\n      <th>2015</th>\n      <td>65,679,147,019.0</td>\n    </tr>\n    <tr>\n      <th>2016</th>\n      <td>66,487,930,677.0</td>\n    </tr>\n    <tr>\n      <th>2017</th>\n      <td>67,294,176,701.0</td>\n    </tr>\n    <tr>\n      <th>2018</th>\n      <td>68,087,886,692.0</td>\n    </tr>\n  </tbody>\n</table>\n</div>"
     },
     "metadata": {}
    }
   ],
   "execution_count": 47
  },
  {
   "cell_type": "code",
   "source": "df_sample",
   "metadata": {
    "tags": [],
    "cell_id": "00023-f735506c-5b4a-4075-840c-a660bc6acc0b",
    "deepnote_to_be_reexecuted": false,
    "source_hash": "17da25f4",
    "execution_start": 1625016026327,
    "execution_millis": 6,
    "deepnote_cell_type": "code"
   },
   "outputs": [
    {
     "output_type": "execute_result",
     "execution_count": 48,
     "data": {
      "application/vnd.deepnote.dataframe.v2+json": {
       "row_count": 8,
       "column_count": 1,
       "columns": [
        {
         "name": "pop",
         "dtype": "float64",
         "stats": {
          "unique_count": 8,
          "nan_count": 0,
          "min": "104341.0",
          "max": "49648685.0",
          "histogram": [
           {
            "bin_start": 104341,
            "bin_end": 5058775.4,
            "count": 4
           },
           {
            "bin_start": 5058775.4,
            "bin_end": 10013209.8,
            "count": 0
           },
           {
            "bin_start": 10013209.8,
            "bin_end": 14967644.200000001,
            "count": 0
           },
           {
            "bin_start": 14967644.200000001,
            "bin_end": 19922078.6,
            "count": 0
           },
           {
            "bin_start": 19922078.6,
            "bin_end": 24876513,
            "count": 0
           },
           {
            "bin_start": 24876513,
            "bin_end": 29830947.400000002,
            "count": 0
           },
           {
            "bin_start": 29830947.400000002,
            "bin_end": 34785381.800000004,
            "count": 0
           },
           {
            "bin_start": 34785381.800000004,
            "bin_end": 39739816.2,
            "count": 0
           },
           {
            "bin_start": 39739816.2,
            "bin_end": 44694250.6,
            "count": 0
           },
           {
            "bin_start": 44694250.6,
            "bin_end": 49648685,
            "count": 4
           }
          ]
         }
        },
        {
         "name": "_deepnote_index_column",
         "dtype": "object"
        }
       ],
       "rows_top": [
        {
         "pop": 104341,
         "_deepnote_index_column": "('Aruba', '2015')"
        },
        {
         "pop": 104872,
         "_deepnote_index_column": "('Aruba', '2016')"
        },
        {
         "pop": 105366,
         "_deepnote_index_column": "('Aruba', '2017')"
        },
        {
         "pop": 105845,
         "_deepnote_index_column": "('Aruba', '2018')"
        },
        {
         "pop": 47520667,
         "_deepnote_index_column": "('Colombia', '2015')"
        },
        {
         "pop": 48171392,
         "_deepnote_index_column": "('Colombia', '2016')"
        },
        {
         "pop": 48901066,
         "_deepnote_index_column": "('Colombia', '2017')"
        },
        {
         "pop": 49648685,
         "_deepnote_index_column": "('Colombia', '2018')"
        }
       ],
       "rows_bottom": null
      },
      "text/plain": "                       pop\nCountry  year             \nAruba    2015    104,341.0\n         2016    104,872.0\n         2017    105,366.0\n         2018    105,845.0\nColombia 2015 47,520,667.0\n         2016 48,171,392.0\n         2017 48,901,066.0\n         2018 49,648,685.0",
      "text/html": "<div>\n<style scoped>\n    .dataframe tbody tr th:only-of-type {\n        vertical-align: middle;\n    }\n\n    .dataframe tbody tr th {\n        vertical-align: top;\n    }\n\n    .dataframe thead th {\n        text-align: right;\n    }\n</style>\n<table border=\"1\" class=\"dataframe\">\n  <thead>\n    <tr style=\"text-align: right;\">\n      <th></th>\n      <th></th>\n      <th>pop</th>\n    </tr>\n    <tr>\n      <th>Country</th>\n      <th>year</th>\n      <th></th>\n    </tr>\n  </thead>\n  <tbody>\n    <tr>\n      <th rowspan=\"4\" valign=\"top\">Aruba</th>\n      <th>2015</th>\n      <td>104,341.0</td>\n    </tr>\n    <tr>\n      <th>2016</th>\n      <td>104,872.0</td>\n    </tr>\n    <tr>\n      <th>2017</th>\n      <td>105,366.0</td>\n    </tr>\n    <tr>\n      <th>2018</th>\n      <td>105,845.0</td>\n    </tr>\n    <tr>\n      <th rowspan=\"4\" valign=\"top\">Colombia</th>\n      <th>2015</th>\n      <td>47,520,667.0</td>\n    </tr>\n    <tr>\n      <th>2016</th>\n      <td>48,171,392.0</td>\n    </tr>\n    <tr>\n      <th>2017</th>\n      <td>48,901,066.0</td>\n    </tr>\n    <tr>\n      <th>2018</th>\n      <td>49,648,685.0</td>\n    </tr>\n  </tbody>\n</table>\n</div>"
     },
     "metadata": {}
    }
   ],
   "execution_count": 48
  },
  {
   "cell_type": "markdown",
   "source": "# unstack : Nos permite cambia la estructura de nuestro DataFrame.",
   "metadata": {
    "tags": [],
    "cell_id": "00024-ceb0cb7a-56c2-4559-b10a-cb313a8c1bb8",
    "deepnote_cell_type": "markdown"
   }
  },
  {
   "cell_type": "code",
   "source": "df_sample.unstack('year')",
   "metadata": {
    "tags": [],
    "cell_id": "00025-041f4df2-f837-43e8-9811-66a370d3a919",
    "deepnote_to_be_reexecuted": false,
    "source_hash": "e8dc91e9",
    "execution_start": 1625016027260,
    "execution_millis": 28,
    "deepnote_cell_type": "code"
   },
   "outputs": [
    {
     "output_type": "execute_result",
     "execution_count": 49,
     "data": {
      "application/vnd.deepnote.dataframe.v2+json": {
       "row_count": 2,
       "column_count": 4,
       "columns": [
        {
         "name": [
          "pop",
          "2015"
         ],
         "dtype": "float64",
         "stats": {
          "unique_count": 2,
          "nan_count": 0,
          "min": "104341.0",
          "max": "47520667.0",
          "histogram": [
           {
            "bin_start": 104341,
            "bin_end": 4845973.6,
            "count": 1
           },
           {
            "bin_start": 4845973.6,
            "bin_end": 9587606.2,
            "count": 0
           },
           {
            "bin_start": 9587606.2,
            "bin_end": 14329238.799999999,
            "count": 0
           },
           {
            "bin_start": 14329238.799999999,
            "bin_end": 19070871.4,
            "count": 0
           },
           {
            "bin_start": 19070871.4,
            "bin_end": 23812504,
            "count": 0
           },
           {
            "bin_start": 23812504,
            "bin_end": 28554136.599999998,
            "count": 0
           },
           {
            "bin_start": 28554136.599999998,
            "bin_end": 33295769.199999996,
            "count": 0
           },
           {
            "bin_start": 33295769.199999996,
            "bin_end": 38037401.8,
            "count": 0
           },
           {
            "bin_start": 38037401.8,
            "bin_end": 42779034.4,
            "count": 0
           },
           {
            "bin_start": 42779034.4,
            "bin_end": 47520667,
            "count": 1
           }
          ]
         }
        },
        {
         "name": [
          "pop",
          "2016"
         ],
         "dtype": "float64",
         "stats": {
          "unique_count": 2,
          "nan_count": 0,
          "min": "104872.0",
          "max": "48171392.0",
          "histogram": [
           {
            "bin_start": 104872,
            "bin_end": 4911524,
            "count": 1
           },
           {
            "bin_start": 4911524,
            "bin_end": 9718176,
            "count": 0
           },
           {
            "bin_start": 9718176,
            "bin_end": 14524828,
            "count": 0
           },
           {
            "bin_start": 14524828,
            "bin_end": 19331480,
            "count": 0
           },
           {
            "bin_start": 19331480,
            "bin_end": 24138132,
            "count": 0
           },
           {
            "bin_start": 24138132,
            "bin_end": 28944784,
            "count": 0
           },
           {
            "bin_start": 28944784,
            "bin_end": 33751436,
            "count": 0
           },
           {
            "bin_start": 33751436,
            "bin_end": 38558088,
            "count": 0
           },
           {
            "bin_start": 38558088,
            "bin_end": 43364740,
            "count": 0
           },
           {
            "bin_start": 43364740,
            "bin_end": 48171392,
            "count": 1
           }
          ]
         }
        },
        {
         "name": [
          "pop",
          "2017"
         ],
         "dtype": "float64",
         "stats": {
          "unique_count": 2,
          "nan_count": 0,
          "min": "105366.0",
          "max": "48901066.0",
          "histogram": [
           {
            "bin_start": 105366,
            "bin_end": 4984936,
            "count": 1
           },
           {
            "bin_start": 4984936,
            "bin_end": 9864506,
            "count": 0
           },
           {
            "bin_start": 9864506,
            "bin_end": 14744076,
            "count": 0
           },
           {
            "bin_start": 14744076,
            "bin_end": 19623646,
            "count": 0
           },
           {
            "bin_start": 19623646,
            "bin_end": 24503216,
            "count": 0
           },
           {
            "bin_start": 24503216,
            "bin_end": 29382786,
            "count": 0
           },
           {
            "bin_start": 29382786,
            "bin_end": 34262356,
            "count": 0
           },
           {
            "bin_start": 34262356,
            "bin_end": 39141926,
            "count": 0
           },
           {
            "bin_start": 39141926,
            "bin_end": 44021496,
            "count": 0
           },
           {
            "bin_start": 44021496,
            "bin_end": 48901066,
            "count": 1
           }
          ]
         }
        },
        {
         "name": [
          "pop",
          "2018"
         ],
         "dtype": "float64",
         "stats": {
          "unique_count": 2,
          "nan_count": 0,
          "min": "105845.0",
          "max": "49648685.0",
          "histogram": [
           {
            "bin_start": 105845,
            "bin_end": 5060129,
            "count": 1
           },
           {
            "bin_start": 5060129,
            "bin_end": 10014413,
            "count": 0
           },
           {
            "bin_start": 10014413,
            "bin_end": 14968697,
            "count": 0
           },
           {
            "bin_start": 14968697,
            "bin_end": 19922981,
            "count": 0
           },
           {
            "bin_start": 19922981,
            "bin_end": 24877265,
            "count": 0
           },
           {
            "bin_start": 24877265,
            "bin_end": 29831549,
            "count": 0
           },
           {
            "bin_start": 29831549,
            "bin_end": 34785833,
            "count": 0
           },
           {
            "bin_start": 34785833,
            "bin_end": 39740117,
            "count": 0
           },
           {
            "bin_start": 39740117,
            "bin_end": 44694401,
            "count": 0
           },
           {
            "bin_start": 44694401,
            "bin_end": 49648685,
            "count": 1
           }
          ]
         }
        },
        {
         "name": "_deepnote_index_column",
         "dtype": "object"
        }
       ],
       "rows_top": [
        {
         "('pop', '2015')": 104341,
         "('pop', '2016')": 104872,
         "('pop', '2017')": 105366,
         "('pop', '2018')": 105845,
         "_deepnote_index_column": "Aruba"
        },
        {
         "('pop', '2015')": 47520667,
         "('pop', '2016')": 48171392,
         "('pop', '2017')": 48901066,
         "('pop', '2018')": 49648685,
         "_deepnote_index_column": "Colombia"
        }
       ],
       "rows_bottom": null
      },
      "text/plain": "                  pop                                       \nyear             2015         2016         2017         2018\nCountry                                                     \nAruba       104,341.0    104,872.0    105,366.0    105,845.0\nColombia 47,520,667.0 48,171,392.0 48,901,066.0 49,648,685.0",
      "text/html": "<div>\n<style scoped>\n    .dataframe tbody tr th:only-of-type {\n        vertical-align: middle;\n    }\n\n    .dataframe tbody tr th {\n        vertical-align: top;\n    }\n\n    .dataframe thead tr th {\n        text-align: left;\n    }\n\n    .dataframe thead tr:last-of-type th {\n        text-align: right;\n    }\n</style>\n<table border=\"1\" class=\"dataframe\">\n  <thead>\n    <tr>\n      <th></th>\n      <th colspan=\"4\" halign=\"left\">pop</th>\n    </tr>\n    <tr>\n      <th>year</th>\n      <th>2015</th>\n      <th>2016</th>\n      <th>2017</th>\n      <th>2018</th>\n    </tr>\n    <tr>\n      <th>Country</th>\n      <th></th>\n      <th></th>\n      <th></th>\n      <th></th>\n    </tr>\n  </thead>\n  <tbody>\n    <tr>\n      <th>Aruba</th>\n      <td>104,341.0</td>\n      <td>104,872.0</td>\n      <td>105,366.0</td>\n      <td>105,845.0</td>\n    </tr>\n    <tr>\n      <th>Colombia</th>\n      <td>47,520,667.0</td>\n      <td>48,171,392.0</td>\n      <td>48,901,066.0</td>\n      <td>49,648,685.0</td>\n    </tr>\n  </tbody>\n</table>\n</div>"
     },
     "metadata": {}
    }
   ],
   "execution_count": 49
  },
  {
   "cell_type": "code",
   "source": "df_sample.unstack('year')",
   "metadata": {
    "tags": [],
    "cell_id": "00026-78e77dc6-830c-4c16-ba11-1dcf1a29c382",
    "deepnote_to_be_reexecuted": false,
    "source_hash": "e8dc91e9",
    "execution_start": 1625016463178,
    "execution_millis": 5,
    "deepnote_cell_type": "code"
   },
   "outputs": [
    {
     "output_type": "execute_result",
     "execution_count": 50,
     "data": {
      "application/vnd.deepnote.dataframe.v2+json": {
       "row_count": 2,
       "column_count": 4,
       "columns": [
        {
         "name": [
          "pop",
          "2015"
         ],
         "dtype": "float64",
         "stats": {
          "unique_count": 2,
          "nan_count": 0,
          "min": "104341.0",
          "max": "47520667.0",
          "histogram": [
           {
            "bin_start": 104341,
            "bin_end": 4845973.6,
            "count": 1
           },
           {
            "bin_start": 4845973.6,
            "bin_end": 9587606.2,
            "count": 0
           },
           {
            "bin_start": 9587606.2,
            "bin_end": 14329238.799999999,
            "count": 0
           },
           {
            "bin_start": 14329238.799999999,
            "bin_end": 19070871.4,
            "count": 0
           },
           {
            "bin_start": 19070871.4,
            "bin_end": 23812504,
            "count": 0
           },
           {
            "bin_start": 23812504,
            "bin_end": 28554136.599999998,
            "count": 0
           },
           {
            "bin_start": 28554136.599999998,
            "bin_end": 33295769.199999996,
            "count": 0
           },
           {
            "bin_start": 33295769.199999996,
            "bin_end": 38037401.8,
            "count": 0
           },
           {
            "bin_start": 38037401.8,
            "bin_end": 42779034.4,
            "count": 0
           },
           {
            "bin_start": 42779034.4,
            "bin_end": 47520667,
            "count": 1
           }
          ]
         }
        },
        {
         "name": [
          "pop",
          "2016"
         ],
         "dtype": "float64",
         "stats": {
          "unique_count": 2,
          "nan_count": 0,
          "min": "104872.0",
          "max": "48171392.0",
          "histogram": [
           {
            "bin_start": 104872,
            "bin_end": 4911524,
            "count": 1
           },
           {
            "bin_start": 4911524,
            "bin_end": 9718176,
            "count": 0
           },
           {
            "bin_start": 9718176,
            "bin_end": 14524828,
            "count": 0
           },
           {
            "bin_start": 14524828,
            "bin_end": 19331480,
            "count": 0
           },
           {
            "bin_start": 19331480,
            "bin_end": 24138132,
            "count": 0
           },
           {
            "bin_start": 24138132,
            "bin_end": 28944784,
            "count": 0
           },
           {
            "bin_start": 28944784,
            "bin_end": 33751436,
            "count": 0
           },
           {
            "bin_start": 33751436,
            "bin_end": 38558088,
            "count": 0
           },
           {
            "bin_start": 38558088,
            "bin_end": 43364740,
            "count": 0
           },
           {
            "bin_start": 43364740,
            "bin_end": 48171392,
            "count": 1
           }
          ]
         }
        },
        {
         "name": [
          "pop",
          "2017"
         ],
         "dtype": "float64",
         "stats": {
          "unique_count": 2,
          "nan_count": 0,
          "min": "105366.0",
          "max": "48901066.0",
          "histogram": [
           {
            "bin_start": 105366,
            "bin_end": 4984936,
            "count": 1
           },
           {
            "bin_start": 4984936,
            "bin_end": 9864506,
            "count": 0
           },
           {
            "bin_start": 9864506,
            "bin_end": 14744076,
            "count": 0
           },
           {
            "bin_start": 14744076,
            "bin_end": 19623646,
            "count": 0
           },
           {
            "bin_start": 19623646,
            "bin_end": 24503216,
            "count": 0
           },
           {
            "bin_start": 24503216,
            "bin_end": 29382786,
            "count": 0
           },
           {
            "bin_start": 29382786,
            "bin_end": 34262356,
            "count": 0
           },
           {
            "bin_start": 34262356,
            "bin_end": 39141926,
            "count": 0
           },
           {
            "bin_start": 39141926,
            "bin_end": 44021496,
            "count": 0
           },
           {
            "bin_start": 44021496,
            "bin_end": 48901066,
            "count": 1
           }
          ]
         }
        },
        {
         "name": [
          "pop",
          "2018"
         ],
         "dtype": "float64",
         "stats": {
          "unique_count": 2,
          "nan_count": 0,
          "min": "105845.0",
          "max": "49648685.0",
          "histogram": [
           {
            "bin_start": 105845,
            "bin_end": 5060129,
            "count": 1
           },
           {
            "bin_start": 5060129,
            "bin_end": 10014413,
            "count": 0
           },
           {
            "bin_start": 10014413,
            "bin_end": 14968697,
            "count": 0
           },
           {
            "bin_start": 14968697,
            "bin_end": 19922981,
            "count": 0
           },
           {
            "bin_start": 19922981,
            "bin_end": 24877265,
            "count": 0
           },
           {
            "bin_start": 24877265,
            "bin_end": 29831549,
            "count": 0
           },
           {
            "bin_start": 29831549,
            "bin_end": 34785833,
            "count": 0
           },
           {
            "bin_start": 34785833,
            "bin_end": 39740117,
            "count": 0
           },
           {
            "bin_start": 39740117,
            "bin_end": 44694401,
            "count": 0
           },
           {
            "bin_start": 44694401,
            "bin_end": 49648685,
            "count": 1
           }
          ]
         }
        },
        {
         "name": "_deepnote_index_column",
         "dtype": "object"
        }
       ],
       "rows_top": [
        {
         "('pop', '2015')": 104341,
         "('pop', '2016')": 104872,
         "('pop', '2017')": 105366,
         "('pop', '2018')": 105845,
         "_deepnote_index_column": "Aruba"
        },
        {
         "('pop', '2015')": 47520667,
         "('pop', '2016')": 48171392,
         "('pop', '2017')": 48901066,
         "('pop', '2018')": 49648685,
         "_deepnote_index_column": "Colombia"
        }
       ],
       "rows_bottom": null
      },
      "text/plain": "                  pop                                       \nyear             2015         2016         2017         2018\nCountry                                                     \nAruba       104,341.0    104,872.0    105,366.0    105,845.0\nColombia 47,520,667.0 48,171,392.0 48,901,066.0 49,648,685.0",
      "text/html": "<div>\n<style scoped>\n    .dataframe tbody tr th:only-of-type {\n        vertical-align: middle;\n    }\n\n    .dataframe tbody tr th {\n        vertical-align: top;\n    }\n\n    .dataframe thead tr th {\n        text-align: left;\n    }\n\n    .dataframe thead tr:last-of-type th {\n        text-align: right;\n    }\n</style>\n<table border=\"1\" class=\"dataframe\">\n  <thead>\n    <tr>\n      <th></th>\n      <th colspan=\"4\" halign=\"left\">pop</th>\n    </tr>\n    <tr>\n      <th>year</th>\n      <th>2015</th>\n      <th>2016</th>\n      <th>2017</th>\n      <th>2018</th>\n    </tr>\n    <tr>\n      <th>Country</th>\n      <th></th>\n      <th></th>\n      <th></th>\n      <th></th>\n    </tr>\n  </thead>\n  <tbody>\n    <tr>\n      <th>Aruba</th>\n      <td>104,341.0</td>\n      <td>104,872.0</td>\n      <td>105,366.0</td>\n      <td>105,845.0</td>\n    </tr>\n    <tr>\n      <th>Colombia</th>\n      <td>47,520,667.0</td>\n      <td>48,171,392.0</td>\n      <td>48,901,066.0</td>\n      <td>49,648,685.0</td>\n    </tr>\n  </tbody>\n</table>\n</div>"
     },
     "metadata": {}
    }
   ],
   "execution_count": 50
  },
  {
   "cell_type": "markdown",
   "source": "<a style='text-decoration:none;line-height:16px;display:flex;color:#5B5B62;padding:10px;justify-content:end;' href='https://deepnote.com?utm_source=created-in-deepnote-cell&projectId=40d7a071-7e6a-4668-9914-a7e81441c111' target=\"_blank\">\n<img alt='Created in deepnote.com' style='display:inline;max-height:16px;margin:0px;margin-right:7.5px;' src='data:image/svg+xml;base64,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' > </img>\nCreated in <span style='font-weight:600;margin-left:4px;'>Deepnote</span></a>",
   "metadata": {
    "tags": [],
    "created_in_deepnote_cell": true,
    "deepnote_cell_type": "markdown"
   }
  }
 ],
 "nbformat": 4,
 "nbformat_minor": 2,
 "metadata": {
  "orig_nbformat": 2,
  "deepnote": {
   "is_reactive": false
  },
  "deepnote_notebook_id": "5b66736b-2cce-4d22-8bf7-809a5b90cbce",
  "deepnote_execution_queue": []
 }
}