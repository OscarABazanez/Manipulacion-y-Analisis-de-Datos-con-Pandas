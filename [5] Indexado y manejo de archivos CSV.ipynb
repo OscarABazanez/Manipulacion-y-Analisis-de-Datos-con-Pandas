{
 "cells": [
  {
   "cell_type": "code",
   "metadata": {
    "tags": [],
    "cell_id": "00000-fe59e4af-4afc-4b26-bbc0-e432061a41cb",
    "deepnote_to_be_reexecuted": false,
    "source_hash": "c76c7c51",
    "execution_start": 1624823644719,
    "execution_millis": 5,
    "deepnote_cell_type": "code"
   },
   "source": "import pandas as pd\nimport numpy as np",
   "execution_count": 1,
   "outputs": []
  },
  {
   "cell_type": "code",
   "metadata": {
    "tags": [],
    "cell_id": "00001-46a79386-3613-41e7-a2ce-5361f30a8804",
    "deepnote_to_be_reexecuted": false,
    "source_hash": "79eaecee",
    "execution_start": 1624823645180,
    "execution_millis": 37,
    "deepnote_cell_type": "code"
   },
   "source": "dict_data = {\n    'edad' :     [ 10, 9, 13, 14, 12, 11, 12],\n    'cm' : [ 115, 110, 130, 155, 125, 120, 125],\n    'pais' :    [ 'co', 'mx', 'co', 'mx', 'mx', 'ch', 'ch'],\n    'genero' :  [ 'M', 'F', 'F', 'M', 'M', 'M', 'F'],\n    'Q1' : [ 5, 10, 8, np.nan, 7, 8, 3],\n    'Q2' : [ 7, 9, 9, 8, 8, 8, 9.]\n}\ndf = pd.DataFrame(dict_data)\ndf",
   "execution_count": 2,
   "outputs": [
    {
     "output_type": "execute_result",
     "execution_count": 2,
     "data": {
      "application/vnd.deepnote.dataframe.v2+json": {
       "row_count": 7,
       "column_count": 6,
       "columns": [
        {
         "name": "edad",
         "dtype": "int64",
         "stats": {
          "unique_count": 6,
          "nan_count": 0,
          "min": "9",
          "max": "14",
          "histogram": [
           {
            "bin_start": 9,
            "bin_end": 9.5,
            "count": 1
           },
           {
            "bin_start": 9.5,
            "bin_end": 10,
            "count": 0
           },
           {
            "bin_start": 10,
            "bin_end": 10.5,
            "count": 1
           },
           {
            "bin_start": 10.5,
            "bin_end": 11,
            "count": 0
           },
           {
            "bin_start": 11,
            "bin_end": 11.5,
            "count": 1
           },
           {
            "bin_start": 11.5,
            "bin_end": 12,
            "count": 0
           },
           {
            "bin_start": 12,
            "bin_end": 12.5,
            "count": 2
           },
           {
            "bin_start": 12.5,
            "bin_end": 13,
            "count": 0
           },
           {
            "bin_start": 13,
            "bin_end": 13.5,
            "count": 1
           },
           {
            "bin_start": 13.5,
            "bin_end": 14,
            "count": 1
           }
          ]
         }
        },
        {
         "name": "cm",
         "dtype": "int64",
         "stats": {
          "unique_count": 6,
          "nan_count": 0,
          "min": "110",
          "max": "155",
          "histogram": [
           {
            "bin_start": 110,
            "bin_end": 114.5,
            "count": 1
           },
           {
            "bin_start": 114.5,
            "bin_end": 119,
            "count": 1
           },
           {
            "bin_start": 119,
            "bin_end": 123.5,
            "count": 1
           },
           {
            "bin_start": 123.5,
            "bin_end": 128,
            "count": 2
           },
           {
            "bin_start": 128,
            "bin_end": 132.5,
            "count": 1
           },
           {
            "bin_start": 132.5,
            "bin_end": 137,
            "count": 0
           },
           {
            "bin_start": 137,
            "bin_end": 141.5,
            "count": 0
           },
           {
            "bin_start": 141.5,
            "bin_end": 146,
            "count": 0
           },
           {
            "bin_start": 146,
            "bin_end": 150.5,
            "count": 0
           },
           {
            "bin_start": 150.5,
            "bin_end": 155,
            "count": 1
           }
          ]
         }
        },
        {
         "name": "pais",
         "dtype": "object",
         "stats": {
          "unique_count": 3,
          "nan_count": 0,
          "categories": [
           {
            "name": "mx",
            "count": 3
           },
           {
            "name": "co",
            "count": 2
           },
           {
            "name": "ch",
            "count": 2
           }
          ]
         }
        },
        {
         "name": "genero",
         "dtype": "object",
         "stats": {
          "unique_count": 2,
          "nan_count": 0,
          "categories": [
           {
            "name": "M",
            "count": 4
           },
           {
            "name": "F",
            "count": 3
           }
          ]
         }
        },
        {
         "name": "Q1",
         "dtype": "float64",
         "stats": {
          "unique_count": 5,
          "nan_count": 1,
          "min": "3.0",
          "max": "10.0",
          "histogram": [
           {
            "bin_start": 3,
            "bin_end": 3.7,
            "count": 1
           },
           {
            "bin_start": 3.7,
            "bin_end": 4.4,
            "count": 0
           },
           {
            "bin_start": 4.4,
            "bin_end": 5.1,
            "count": 1
           },
           {
            "bin_start": 5.1,
            "bin_end": 5.8,
            "count": 0
           },
           {
            "bin_start": 5.8,
            "bin_end": 6.5,
            "count": 0
           },
           {
            "bin_start": 6.5,
            "bin_end": 7.199999999999999,
            "count": 1
           },
           {
            "bin_start": 7.199999999999999,
            "bin_end": 7.8999999999999995,
            "count": 0
           },
           {
            "bin_start": 7.8999999999999995,
            "bin_end": 8.6,
            "count": 2
           },
           {
            "bin_start": 8.6,
            "bin_end": 9.3,
            "count": 0
           },
           {
            "bin_start": 9.3,
            "bin_end": 10,
            "count": 1
           }
          ]
         }
        },
        {
         "name": "Q2",
         "dtype": "float64",
         "stats": {
          "unique_count": 3,
          "nan_count": 0,
          "min": "7.0",
          "max": "9.0",
          "histogram": [
           {
            "bin_start": 7,
            "bin_end": 7.2,
            "count": 1
           },
           {
            "bin_start": 7.2,
            "bin_end": 7.4,
            "count": 0
           },
           {
            "bin_start": 7.4,
            "bin_end": 7.6,
            "count": 0
           },
           {
            "bin_start": 7.6,
            "bin_end": 7.8,
            "count": 0
           },
           {
            "bin_start": 7.8,
            "bin_end": 8,
            "count": 0
           },
           {
            "bin_start": 8,
            "bin_end": 8.2,
            "count": 3
           },
           {
            "bin_start": 8.2,
            "bin_end": 8.4,
            "count": 0
           },
           {
            "bin_start": 8.4,
            "bin_end": 8.6,
            "count": 0
           },
           {
            "bin_start": 8.6,
            "bin_end": 8.8,
            "count": 0
           },
           {
            "bin_start": 8.8,
            "bin_end": 9,
            "count": 3
           }
          ]
         }
        },
        {
         "name": "_deepnote_index_column",
         "dtype": "int64"
        }
       ],
       "rows_top": [
        {
         "edad": 10,
         "cm": 115,
         "pais": "co",
         "genero": "M",
         "Q1": 5,
         "Q2": 7,
         "_deepnote_index_column": 0
        },
        {
         "edad": 9,
         "cm": 110,
         "pais": "mx",
         "genero": "F",
         "Q1": 10,
         "Q2": 9,
         "_deepnote_index_column": 1
        },
        {
         "edad": 13,
         "cm": 130,
         "pais": "co",
         "genero": "F",
         "Q1": 8,
         "Q2": 9,
         "_deepnote_index_column": 2
        },
        {
         "edad": 14,
         "cm": 155,
         "pais": "mx",
         "genero": "M",
         "Q1": "nan",
         "Q2": 8,
         "_deepnote_index_column": 3
        },
        {
         "edad": 12,
         "cm": 125,
         "pais": "mx",
         "genero": "M",
         "Q1": 7,
         "Q2": 8,
         "_deepnote_index_column": 4
        },
        {
         "edad": 11,
         "cm": 120,
         "pais": "ch",
         "genero": "M",
         "Q1": 8,
         "Q2": 8,
         "_deepnote_index_column": 5
        },
        {
         "edad": 12,
         "cm": 125,
         "pais": "ch",
         "genero": "F",
         "Q1": 3,
         "Q2": 9,
         "_deepnote_index_column": 6
        }
       ],
       "rows_bottom": null
      },
      "text/plain": "   edad   cm pais genero    Q1   Q2\n0    10  115   co      M   5.0  7.0\n1     9  110   mx      F  10.0  9.0\n2    13  130   co      F   8.0  9.0\n3    14  155   mx      M   NaN  8.0\n4    12  125   mx      M   7.0  8.0\n5    11  120   ch      M   8.0  8.0\n6    12  125   ch      F   3.0  9.0",
      "text/html": "<div>\n<style scoped>\n    .dataframe tbody tr th:only-of-type {\n        vertical-align: middle;\n    }\n\n    .dataframe tbody tr th {\n        vertical-align: top;\n    }\n\n    .dataframe thead th {\n        text-align: right;\n    }\n</style>\n<table border=\"1\" class=\"dataframe\">\n  <thead>\n    <tr style=\"text-align: right;\">\n      <th></th>\n      <th>edad</th>\n      <th>cm</th>\n      <th>pais</th>\n      <th>genero</th>\n      <th>Q1</th>\n      <th>Q2</th>\n    </tr>\n  </thead>\n  <tbody>\n    <tr>\n      <th>0</th>\n      <td>10</td>\n      <td>115</td>\n      <td>co</td>\n      <td>M</td>\n      <td>5.0</td>\n      <td>7.0</td>\n    </tr>\n    <tr>\n      <th>1</th>\n      <td>9</td>\n      <td>110</td>\n      <td>mx</td>\n      <td>F</td>\n      <td>10.0</td>\n      <td>9.0</td>\n    </tr>\n    <tr>\n      <th>2</th>\n      <td>13</td>\n      <td>130</td>\n      <td>co</td>\n      <td>F</td>\n      <td>8.0</td>\n      <td>9.0</td>\n    </tr>\n    <tr>\n      <th>3</th>\n      <td>14</td>\n      <td>155</td>\n      <td>mx</td>\n      <td>M</td>\n      <td>NaN</td>\n      <td>8.0</td>\n    </tr>\n    <tr>\n      <th>4</th>\n      <td>12</td>\n      <td>125</td>\n      <td>mx</td>\n      <td>M</td>\n      <td>7.0</td>\n      <td>8.0</td>\n    </tr>\n    <tr>\n      <th>5</th>\n      <td>11</td>\n      <td>120</td>\n      <td>ch</td>\n      <td>M</td>\n      <td>8.0</td>\n      <td>8.0</td>\n    </tr>\n    <tr>\n      <th>6</th>\n      <td>12</td>\n      <td>125</td>\n      <td>ch</td>\n      <td>F</td>\n      <td>3.0</td>\n      <td>9.0</td>\n    </tr>\n  </tbody>\n</table>\n</div>"
     },
     "metadata": {}
    }
   ]
  },
  {
   "cell_type": "markdown",
   "source": "# Crear un archivo de mi DataFrame\n- sep='-'  Separa mediante el simblo que tu le asigne\n- index=False Elimina el indice al exportarlo",
   "metadata": {
    "tags": [],
    "cell_id": "00002-63bc6a72-55ee-4317-9376-708bc0eef7ad",
    "deepnote_cell_type": "markdown"
   }
  },
  {
   "cell_type": "code",
   "metadata": {
    "tags": [],
    "cell_id": "00002-c5822827-e682-4914-bd0e-732b3af8dc68",
    "deepnote_to_be_reexecuted": false,
    "source_hash": "6e076c80",
    "execution_start": 1624823660094,
    "execution_millis": 3,
    "deepnote_cell_type": "code"
   },
   "source": "dir_bd = 'db/{}'\ndf.to_csv(dir_bd.format('test.csv'))",
   "execution_count": 4,
   "outputs": []
  },
  {
   "cell_type": "markdown",
   "source": "# Lectura de un archivo\n- sep='-' Indicas cual es el separador del archivo",
   "metadata": {
    "tags": [],
    "cell_id": "00004-7dee8fe6-0865-49f2-8fa7-8f8cf58b184f",
    "deepnote_cell_type": "markdown"
   }
  },
  {
   "cell_type": "code",
   "metadata": {
    "tags": [],
    "cell_id": "00004-fd853a26-2fd5-41fc-b68a-9351bbc2430b",
    "deepnote_to_be_reexecuted": false,
    "source_hash": "564f61c5",
    "execution_start": 1624814914390,
    "execution_millis": 18,
    "deepnote_cell_type": "code"
   },
   "source": "df_read = pd.read_csv('db/test.csv')\ndf_read",
   "execution_count": null,
   "outputs": [
    {
     "output_type": "execute_result",
     "execution_count": 6,
     "data": {
      "application/vnd.deepnote.dataframe.v2+json": {
       "row_count": 7,
       "column_count": 7,
       "columns": [
        {
         "name": "Unnamed: 0",
         "dtype": "int64",
         "stats": {
          "unique_count": 7,
          "nan_count": 0,
          "min": "0",
          "max": "6",
          "histogram": [
           {
            "bin_start": 0,
            "bin_end": 0.6,
            "count": 1
           },
           {
            "bin_start": 0.6,
            "bin_end": 1.2,
            "count": 1
           },
           {
            "bin_start": 1.2,
            "bin_end": 1.7999999999999998,
            "count": 0
           },
           {
            "bin_start": 1.7999999999999998,
            "bin_end": 2.4,
            "count": 1
           },
           {
            "bin_start": 2.4,
            "bin_end": 3,
            "count": 0
           },
           {
            "bin_start": 3,
            "bin_end": 3.5999999999999996,
            "count": 1
           },
           {
            "bin_start": 3.5999999999999996,
            "bin_end": 4.2,
            "count": 1
           },
           {
            "bin_start": 4.2,
            "bin_end": 4.8,
            "count": 0
           },
           {
            "bin_start": 4.8,
            "bin_end": 5.3999999999999995,
            "count": 1
           },
           {
            "bin_start": 5.3999999999999995,
            "bin_end": 6,
            "count": 1
           }
          ]
         }
        },
        {
         "name": "edad",
         "dtype": "int64",
         "stats": {
          "unique_count": 6,
          "nan_count": 0,
          "min": "9",
          "max": "14",
          "histogram": [
           {
            "bin_start": 9,
            "bin_end": 9.5,
            "count": 1
           },
           {
            "bin_start": 9.5,
            "bin_end": 10,
            "count": 0
           },
           {
            "bin_start": 10,
            "bin_end": 10.5,
            "count": 1
           },
           {
            "bin_start": 10.5,
            "bin_end": 11,
            "count": 0
           },
           {
            "bin_start": 11,
            "bin_end": 11.5,
            "count": 1
           },
           {
            "bin_start": 11.5,
            "bin_end": 12,
            "count": 0
           },
           {
            "bin_start": 12,
            "bin_end": 12.5,
            "count": 2
           },
           {
            "bin_start": 12.5,
            "bin_end": 13,
            "count": 0
           },
           {
            "bin_start": 13,
            "bin_end": 13.5,
            "count": 1
           },
           {
            "bin_start": 13.5,
            "bin_end": 14,
            "count": 1
           }
          ]
         }
        },
        {
         "name": "cm",
         "dtype": "int64",
         "stats": {
          "unique_count": 6,
          "nan_count": 0,
          "min": "110",
          "max": "155",
          "histogram": [
           {
            "bin_start": 110,
            "bin_end": 114.5,
            "count": 1
           },
           {
            "bin_start": 114.5,
            "bin_end": 119,
            "count": 1
           },
           {
            "bin_start": 119,
            "bin_end": 123.5,
            "count": 1
           },
           {
            "bin_start": 123.5,
            "bin_end": 128,
            "count": 2
           },
           {
            "bin_start": 128,
            "bin_end": 132.5,
            "count": 1
           },
           {
            "bin_start": 132.5,
            "bin_end": 137,
            "count": 0
           },
           {
            "bin_start": 137,
            "bin_end": 141.5,
            "count": 0
           },
           {
            "bin_start": 141.5,
            "bin_end": 146,
            "count": 0
           },
           {
            "bin_start": 146,
            "bin_end": 150.5,
            "count": 0
           },
           {
            "bin_start": 150.5,
            "bin_end": 155,
            "count": 1
           }
          ]
         }
        },
        {
         "name": "pais",
         "dtype": "object",
         "stats": {
          "unique_count": 3,
          "nan_count": 0,
          "categories": [
           {
            "name": "mx",
            "count": 3
           },
           {
            "name": "co",
            "count": 2
           },
           {
            "name": "ch",
            "count": 2
           }
          ]
         }
        },
        {
         "name": "genero",
         "dtype": "object",
         "stats": {
          "unique_count": 2,
          "nan_count": 0,
          "categories": [
           {
            "name": "M",
            "count": 4
           },
           {
            "name": "F",
            "count": 3
           }
          ]
         }
        },
        {
         "name": "Q1",
         "dtype": "float64",
         "stats": {
          "unique_count": 5,
          "nan_count": 1,
          "min": "3.0",
          "max": "10.0",
          "histogram": [
           {
            "bin_start": 3,
            "bin_end": 3.7,
            "count": 1
           },
           {
            "bin_start": 3.7,
            "bin_end": 4.4,
            "count": 0
           },
           {
            "bin_start": 4.4,
            "bin_end": 5.1,
            "count": 1
           },
           {
            "bin_start": 5.1,
            "bin_end": 5.8,
            "count": 0
           },
           {
            "bin_start": 5.8,
            "bin_end": 6.5,
            "count": 0
           },
           {
            "bin_start": 6.5,
            "bin_end": 7.199999999999999,
            "count": 1
           },
           {
            "bin_start": 7.199999999999999,
            "bin_end": 7.8999999999999995,
            "count": 0
           },
           {
            "bin_start": 7.8999999999999995,
            "bin_end": 8.6,
            "count": 2
           },
           {
            "bin_start": 8.6,
            "bin_end": 9.3,
            "count": 0
           },
           {
            "bin_start": 9.3,
            "bin_end": 10,
            "count": 1
           }
          ]
         }
        },
        {
         "name": "Q2",
         "dtype": "float64",
         "stats": {
          "unique_count": 3,
          "nan_count": 0,
          "min": "7.0",
          "max": "9.0",
          "histogram": [
           {
            "bin_start": 7,
            "bin_end": 7.2,
            "count": 1
           },
           {
            "bin_start": 7.2,
            "bin_end": 7.4,
            "count": 0
           },
           {
            "bin_start": 7.4,
            "bin_end": 7.6,
            "count": 0
           },
           {
            "bin_start": 7.6,
            "bin_end": 7.8,
            "count": 0
           },
           {
            "bin_start": 7.8,
            "bin_end": 8,
            "count": 0
           },
           {
            "bin_start": 8,
            "bin_end": 8.2,
            "count": 3
           },
           {
            "bin_start": 8.2,
            "bin_end": 8.4,
            "count": 0
           },
           {
            "bin_start": 8.4,
            "bin_end": 8.6,
            "count": 0
           },
           {
            "bin_start": 8.6,
            "bin_end": 8.8,
            "count": 0
           },
           {
            "bin_start": 8.8,
            "bin_end": 9,
            "count": 3
           }
          ]
         }
        },
        {
         "name": "_deepnote_index_column",
         "dtype": "int64"
        }
       ],
       "rows_top": [
        {
         "Unnamed: 0": 0,
         "edad": 10,
         "cm": 115,
         "pais": "co",
         "genero": "M",
         "Q1": 5,
         "Q2": 7,
         "_deepnote_index_column": 0
        },
        {
         "Unnamed: 0": 1,
         "edad": 9,
         "cm": 110,
         "pais": "mx",
         "genero": "F",
         "Q1": 10,
         "Q2": 9,
         "_deepnote_index_column": 1
        },
        {
         "Unnamed: 0": 2,
         "edad": 13,
         "cm": 130,
         "pais": "co",
         "genero": "F",
         "Q1": 8,
         "Q2": 9,
         "_deepnote_index_column": 2
        },
        {
         "Unnamed: 0": 3,
         "edad": 14,
         "cm": 155,
         "pais": "mx",
         "genero": "M",
         "Q1": "nan",
         "Q2": 8,
         "_deepnote_index_column": 3
        },
        {
         "Unnamed: 0": 4,
         "edad": 12,
         "cm": 125,
         "pais": "mx",
         "genero": "M",
         "Q1": 7,
         "Q2": 8,
         "_deepnote_index_column": 4
        },
        {
         "Unnamed: 0": 5,
         "edad": 11,
         "cm": 120,
         "pais": "ch",
         "genero": "M",
         "Q1": 8,
         "Q2": 8,
         "_deepnote_index_column": 5
        },
        {
         "Unnamed: 0": 6,
         "edad": 12,
         "cm": 125,
         "pais": "ch",
         "genero": "F",
         "Q1": 3,
         "Q2": 9,
         "_deepnote_index_column": 6
        }
       ],
       "rows_bottom": null
      },
      "text/plain": "   Unnamed: 0  edad   cm pais genero    Q1   Q2\n0           0    10  115   co      M   5.0  7.0\n1           1     9  110   mx      F  10.0  9.0\n2           2    13  130   co      F   8.0  9.0\n3           3    14  155   mx      M   NaN  8.0\n4           4    12  125   mx      M   7.0  8.0\n5           5    11  120   ch      M   8.0  8.0\n6           6    12  125   ch      F   3.0  9.0",
      "text/html": "<div>\n<style scoped>\n    .dataframe tbody tr th:only-of-type {\n        vertical-align: middle;\n    }\n\n    .dataframe tbody tr th {\n        vertical-align: top;\n    }\n\n    .dataframe thead th {\n        text-align: right;\n    }\n</style>\n<table border=\"1\" class=\"dataframe\">\n  <thead>\n    <tr style=\"text-align: right;\">\n      <th></th>\n      <th>Unnamed: 0</th>\n      <th>edad</th>\n      <th>cm</th>\n      <th>pais</th>\n      <th>genero</th>\n      <th>Q1</th>\n      <th>Q2</th>\n    </tr>\n  </thead>\n  <tbody>\n    <tr>\n      <th>0</th>\n      <td>0</td>\n      <td>10</td>\n      <td>115</td>\n      <td>co</td>\n      <td>M</td>\n      <td>5.0</td>\n      <td>7.0</td>\n    </tr>\n    <tr>\n      <th>1</th>\n      <td>1</td>\n      <td>9</td>\n      <td>110</td>\n      <td>mx</td>\n      <td>F</td>\n      <td>10.0</td>\n      <td>9.0</td>\n    </tr>\n    <tr>\n      <th>2</th>\n      <td>2</td>\n      <td>13</td>\n      <td>130</td>\n      <td>co</td>\n      <td>F</td>\n      <td>8.0</td>\n      <td>9.0</td>\n    </tr>\n    <tr>\n      <th>3</th>\n      <td>3</td>\n      <td>14</td>\n      <td>155</td>\n      <td>mx</td>\n      <td>M</td>\n      <td>NaN</td>\n      <td>8.0</td>\n    </tr>\n    <tr>\n      <th>4</th>\n      <td>4</td>\n      <td>12</td>\n      <td>125</td>\n      <td>mx</td>\n      <td>M</td>\n      <td>7.0</td>\n      <td>8.0</td>\n    </tr>\n    <tr>\n      <th>5</th>\n      <td>5</td>\n      <td>11</td>\n      <td>120</td>\n      <td>ch</td>\n      <td>M</td>\n      <td>8.0</td>\n      <td>8.0</td>\n    </tr>\n    <tr>\n      <th>6</th>\n      <td>6</td>\n      <td>12</td>\n      <td>125</td>\n      <td>ch</td>\n      <td>F</td>\n      <td>3.0</td>\n      <td>9.0</td>\n    </tr>\n  </tbody>\n</table>\n</div>"
     },
     "metadata": {}
    }
   ]
  },
  {
   "cell_type": "markdown",
   "source": "# Formatos de archivos\n\n- **CSV** - Es muy versatil ya que solo tiene comas y saltos de linea\n- **JSON** - Tiene un formato muy similar al de un diccionario de Python\n- **Excel** - Permite guardar el archivo en formato .xls para trabajar con el en Excel o Spreadsheets\n- **Pickle** - Permite comprimir la información, es util cuando se tienen tablas grandes\n- **Parquet** - Permite darle un formato que puede usarse en ambientes de Big Data como Hadoop.\n\nPara consultar mas tipos de archivos https://pandas.pydata.org/pandas-docs/stable/user_guide/io.html\n\n## Virtudes de los formatos de archivos \n- **CSV y formatos String**: Son simples, requieren alto costo computacional y algo lentos.\n- **HDF**: Gran soporte, adecuado para grandes cantidades de datos, rápido a costo de alto costo computacional.\n- **Parquet**: Puede igualar a hdf e inclusive trabajar por chunks y en paralelo.\n- **Pickle**: Es práctico pero lento con grandes cantidades de datos.\n\n<img src='data:image/png;base64,iVBORw0KGgoAAAANSUhEUgAAArwAAAIECAYAAAD7I/1bAAAABHNCSVQICAgIfAhkiAAAAAlwSFlzAAALEgAACxIB0t1+/AAAADh0RVh0U29mdHdhcmUAbWF0cGxvdGxpYiB2ZXJzaW9uMy4xLjMsIGh0dHA6Ly9tYXRwbG90bGliLm9yZy+AADFEAAAgAElEQVR4nOzdeZyNdf/H8fccs1hmmDGGhlDZ4laWxk6y3DGytaubFm6i7iikQkIoEZVIRKLkVras3USiIlJZ79JkH8sYk1kwM2fO9/eHu/NrMnGYmXOc77yej4fHY861fT/X9T3neM813+u6AowxRgAAAIClHL4uAAAAAMhPBF4AAABYjcALAAAAqxF4AQAAYDUCLwAAAKxG4AUAAIDVCLwAAACwGoEXQJ6ZOnWqhgwZ4usy8AeHDx9WtWrV5HQ6fV0KAPhMoK8LAOA/6tSp4/757NmzCg4OVqFChSRJI0aMUO/evb1Sx+HDh9WqVSvt2rVLgYFX9jU2depUzZ8/X0lJSQoLC1PdunX1+uuv53GlF8rIyFCzZs20du1a9e7dWx07dtS9996b7+3mhUmTJmnq1KkKDg6WJJUuXVpNmjRR7969Vbp0aY+20a1bt1zt83PPPadly5YpKCjIPW306NFq167dFW0PQMFA4AXgse+//979c8uWLTVq1Cg1btzYhxVdmUWLFmnJkiWaNWuWKlSooISEBK1du9YrbW/dulXVq1dXsWLFvNJeXouNjdX48eOVmZmp/fv3a9KkSbrrrru0cOFCj0NvbvXo0UNPP/30RZdxOp1X/MsQAPswpAFAnpk0aZIGDhwo6f//lL5gwQI1b95c9erV00cffaTt27erQ4cOiomJ0ciRI7Ot/8knnyg2Nlb16tVTjx49dOTIkRzb6dq1qySpXr16qlOnjr7//nu5XC5NmTJFLVq0UKNGjTRo0CClpKTkuP6OHTvUtGlTVahQQZIUFRWl+++/3z1/wYIFio2NVZ06ddSqVSvNmzfPPS82Nlbr1q1zv3Y6nWrYsKF27dolSfrhhx/UpUsXxcTEqGPHjtq8eXO2ttevX6/mzZtf8lh+/vnnuuOOOxQTE6Nu3bopLi7OPW/atGlq3bq16tSpo3bt2mn16tXueVlZWRo7dqwaNGigVq1aaf369Rdt52LbupigoCBVqVJFEydOVMmSJfXee+9Jkk6fPq3HHntMDRs2VL169fTYY4/p2LFjkqSJEydq69atGjlypOrUqePu/1GjRql58+aqW7eu7rrrLm3dutWjGv6sZcuWmjZtmjp06KDatWvL6XRedP8WLlyoLl26aMyYMYqJiVGrVq20bds2LVy4UM2bN1ejRo20aNEi9/IZGRkaO3asbrvtNjVu3FjDhg3TuXPnrqhWAF5mAOAKtGjRwnz11VfZpr355ptmwIABxhhjDh06ZKpWrWpeeOEFc+7cObNhwwZTs2ZN06dPH3Py5Elz7Ngx07BhQ7N582ZjjDGrV682rVu3Nr/88ovJzMw0kydPNvfff3+Obf++7czMTPe0jz/+2LRu3docPHjQpKammieeeMIMHDgwx/UXL15s6tWrZ6ZPn262b99unE5ntvnr1q0zBw4cMC6Xy2zevNncfPPNZufOncYYYyZNmmT69++fbdm2bdsaY4w5duyYqV+/vvniiy9MVlaW2bhxo6lfv75JTEx0L9+mTRsTFxdnjDGma9euZv78+RfU9+uvv5patWqZjRs3moyMDDNt2jTTunVrk56ebowxZsWKFebYsWMmKyvLLF++3NSqVcscP37cGGPM3LlzTZs2bUx8fLxJSkoyXbt2veBY/dHFtvVnf+zfP3r99dfNPffcY4wx5tSpU2bVqlXmzJkzJiUlxTz55JOmT58+7mVz2ufFixebU6dOmczMTDNjxgzTuHFjc+7cuRxrePbZZ82ECRNynNeiRQvTsWNHEx8fb86ePXvJ/VuwYIGpXr26+eSTT4zT6TQTJkwwzZs3N8OHDzfp6elmw4YNpnbt2iY1NdUYY8zo0aPNY489ZpKSkkxKSop57LHHzPjx43OsBcDVhTO8APLVE088oZCQEDVt2lRFixZV+/btFRkZqTJlyigmJka7d++WJM2bN0+9evVSpUqVFBgYqN69e2vPnj1/eZb3z5YuXapHHnlE5cuXV7FixdS/f3+tWLEix4u1OnXqpKFDh2rjxo3q1q2bGjdurGnTprnn33bbbapQoYICAgJUv359NWnSxH3WsUOHDlq7dq3Onj3rbveOO+6QJC1ZskS33nqrmjdvLofDoSZNmqhmzZrus6wHDx5UVlaWbrjhhovuy4oVK9S8eXM1adJEQUFB6tGjh86dO+ceUhIbG6syZcrI4XCoXbt2qlixorZv3y5JWrlypR5++GFFR0crPDxcjz322EXbuti2PFW6dGmdPn1akhQREaE2bdqoSJEiCg0NVZ8+fbRly5aLrt+pUydFREQoMDBQ3bt3V0ZGhvbt2/eXy8+cOVMxMTGKiYlRgwYNss3r1q2boqOjVbhwYY/279prr9Xdd9+tQoUKqV27djp69KieeOIJBQcHq2nTpgoODtbBgwdljNH8+fM1ePBghYeHKzQ0VI899piWL19+WccKgG8wwAlAvoqMjHT/HBIScsHrM2fOSJLi4+M1ZswYjR071j3fGKPjx4+rXLlyl2znxIkT2ZYrV66cnE6nEhMTVaZMmQuW79ixozp27KjMzEytWbNGzzzzjKpXr65mzZpp/fr1mjx5svbv3y+Xy6Vz586patWqkqSKFSuqUqVKWrdunVq0aKG1a9dq8eLF7n1YtWrVBUMefg9l69ev16233urRvpQtW9b92uFwKDo6WsePH5ckLV68WO+99577l4EzZ84oKSnJvW50dLR73T9uJycX25anjh8/rhIlSkg6fzHjyy+/rA0bNrhDcFpamrKystwXOP7ZjBkz9Mknn+jEiRMKCAhQamrqRWvo3r37X47h/eO+e7J/f3w//h6SS5Uq5Z4WEhKitLQ0nTp1SmfPntVdd93lnmeMkcvl+ss6AVw9CLwArgrR0dHuuxZcSkBAwAXTSpcune1scHx8vAIDA7MFmpwEBQUpNjZW06dP1969e9WgQQP17dtXY8eOVatWrRQUFKTHH39cxhj3Ou3bt9eyZcvkcrlUuXJlVaxY0b0PnTp10qhRo3Jsa/369erWrdsl96906dL6+eef3a+NMTp69KjKlCmjI0eOaOjQoZo1a5bq1KmjQoUKqVOnTu5lo6KidPToUffrP/78Z5falidcLpfWrVvnvnhx5syZ2rdvn+bPn6+oqCjt2bNHnTt3znb8/mjr1q169913NWvWLFWpUkUOh0P16tX7y+Uv5Y/vjbzYv99FRESocOHCWr58eY6/QAG4ujGkAcBVoUuXLpo2bZr27t0rSUpJSdHKlStzXLZkyZJyOBw6dOiQe1r79u31/vvv69ChQ0pLS9PEiRMVGxub45X6Cxcu1BdffKHU1FS5XC6tX79ev/zyi26++WZlZGQoIyNDJUuWVGBgoNavX6+vvvoq2/rt2rXTV199pY8++kjt27d3T+/YsaPWrVunDRs2KCsrS+np6dq8ebOOHTums2fPaseOHWrYsGG2bTmdTqWnp7v/ZWZmKjY2VuvXr9c333yjzMxMzZw5U8HBwapTp47Onj2rgIAAlSxZUtL5C+x+P2bS+T/hz5kzR8eOHdPp06ezDdX4s0tt62KcTqfi4uLUv39/nTx5Uo888oik82dzQ0JCVLx4cf3222966623sq1XqlSpbP2WlpamQoUKqWTJknI6nXrrrbeUmprqUQ2Xkpv9+zOHw6F7771XY8aMUWJioqTzZ7Y3bNiQJ7UCyF+c4QVwVfj73/+utLQ09e/fX0eOHFFYWJgaN26s2NjYC5YtUqSIevfurQceeEBOp1Pvvvuu7r77bh0/flxdu3ZVenq6mjZtqhdeeCHHtkJDQzV16lTFxcUpKytL5cqV0/DhwxUTEyNJGjp0qJ566illZGSoRYsWatmyZbb1S5curdq1a2vLli3Z7t0bHR2tKVOmaNy4cRowYIAcDoduvvlmDR8+XJs2bVLt2rUVEhKSbVvDhw/X8OHD3a87dOig8ePHa9y4cXrppZd0/PhxVa9e3X3/28qVK6t79+7q0qWLAgIC1LlzZ9WtW9e9/n333af9+/erU6dOKlasmHr06KFNmzbleBwuta2crFy5Up9//rmMMSpdurQaN26shQsXus96Pvzwwxo4cKAaNmyo0qVL69FHH9WaNWvc6z/00EN67rnn9NFHH6lTp056/vnn1axZM7Vp00ZFixZ1jz/OC1eyfxfzzDPPaPLkybrvvvuUlJSkMmXK6IEHHlCzZs3ypF4A+SfAXOnfjQAAHhs+fLiqVKmif/zjH74uBQAKHM7wAoAXVK9eXS1atPB1GQBQIHGGFwAAAFbjojUAAABYjcALAAAAqxF4AQAAYDW/uWgtKSlNLpddw40jI0OVmJg395uEd9Bn/oc+8z/0mX+hv/yPrX3mcAQoIqJYjvP8JvC6XMa6wCvJyn2yHX3mf+gz/0Of+Rf6y/8UtD5jSAMAAACsRuAFAACA1fxmSAMAAMDVIivLqaSkBDmdGb4u5bKdOOGQy+XydRlXLDAwWBERUSpUyPMYS+AFAAC4TElJCSpcuKiKFbtGAQEBvi7nsgQGOuR0+mfgNcYoLS1ZSUkJKlUq2uP1GNIAAABwmZzODBUrVtzvwq6/CwgIULFixS/7zDqBFwAA4AoQdn3jSo47gRcAAABWI/ACAABYbuPG9Xr//RkXXWbFiqUaN25MjvPuuaeDEhNP5kdpXsFFawAAABZzOp1q2rS5mjZt7utSfIbACwAAcJWbPv1tFSsWqgcf7CZJ+vTTRfr55/+qUKFC2rVrp9LTz6lWrboaMOBZBQQE6F//6qWqVatp+/YfVb9+Q117bXnt2rVDzzwzWF9//ZWmT58qpzNThQsX0eDBL6p8+QqSpJMnE9S3b28lJJxQ/foN9dRTz1wwZnbbtq2aPv1tpaenKzw8XM8/P0xRUaW9fkwuB0MaAAAArnKtW7fRmjWfuV+vWfOZ/v73turevZfefXe2Zs/+t1JSTuvrrze6l0lLS9O7785Wr16PZ9tWzZo36Z133tN7783VQw89qnfeecs9b9euHRoxYozmzJmvfft+1Zdfrsu2bnLyaU2f/rZee+1NzZz5gWJj22vq1Ld0teMMLwAAwFXu+utvkMvl0sGDB1S0aDEdPRqvm2+uraVLF2vx4gXKynLqt99+U+XK1dSkSTNJ0t//3jbHbZ08maDXX5+ghITjkqSsrCz3vJiYBoqIKClJatXqdv344/dq3ryle/6OHdt18OB+Pf54T0mSy5Wl8PCIfNnnvETgBQAA8AOtW9+uNWs+U2hoqFq0aK2jR+M1Z857mj59tsLDw/XOO5OVkZHuXr5w4SI5bmf8+LG688571KJFax06dFBPP/2ExzUYY1Snzi0aNerVXO+PNzGkAQAAwA+0bt1Gn3/+H61efX44w5kzZxQSUlhhYWFKTU3VF1987tF2UlNT3WNuly1bkm3e1q3fKikpSVlZWVq7drVq1aqbbX7Nmjdr166d2rfvV0nnL4iLi/slD/Yuf3GGFwAAwA9cc020ihcvrtTUVFWpUlXS+fG4//jHPYqMLKWbbqrl0XZ69nxMI0a8oLCwUDVpcmu2eX/7W029+OLz7ovWbr31tmzzw8PDNWzYS3r55ZFKT09XVlaW7rnnPlWqVDlP9jG/BBhjjK+L8ERiYqpcLr8o1WNRUWFKSEjxdRm4DPSZ/6HP/A995l8Kan8dO3ZA11xT0ddlXJHAQIecTpevy8iVnI6/wxGgyMjQHJdnSAMAAACsRuAFAACA1awbw1s8NEQhRYJ9XYZHMtMzfV0CAACA9awLvCFFgvX4TYN8XYZHpux4VdI5X5cBAABgNYY0AAAAwGoEXgAAAFjNuiENAAAA3pZf1xCln81Qcmr6pRfERRF4AQAAcim/riGasuNVicCbawxpAAAAwBX78ssvtHv3Tvfr//53t0aMGOrDii5E4AUAAMAV27DhC+3Zs8v9+sYba+jFF0f5sKILMaQBAADAz507d06jRr2o/ft/VaFCgapQoaKeemqghg8forS0NGVkZKhx4yZ6/PF+OnfurDp1aqcPP1yg8PBwSdJbb72uokWLqnv3Xtq1a6emTp2ktLQ0SdI//9lbjRs3zbHdzZu/0caNX2rr1m+1dOkS3X//gypT5hpNnvyGZsyYo6NH4/XPf3ZThw53avPmr5Wenq5hw0ZpyZIF2r17p4KDQ/TKK68pMrKUJOmDD2Zp/fq1ysrKUqlSpfXss0Pc83KDwAsAAODnNm/+RmfOpOmDDz6WJCUnJyskJERjx05U0aJF5XQ61b//v7Rp09dq2rSpmjW7TatXr9K993aR0+nU6tWrNHXqTKWkpGj8+DEaN+5NlSpVSidPnlTPng9p9ux/Kyws7IJ2GzRopKZNb9WNN1bX3XffL0natm1rtmVOnz6tm2+urd69/6W5c2frqaf6aNKkd/Tss0M1fvwrWrBgvnr1elyffbZCR44c0TvvzJLD4dCiRZ/orbdez5OzxQReAAAAP1e5chXt379Pr702VnXq3KLGjZvK5XJpypQ3tGPHdklGiYmJ2rv3ZzVt2lSxsR30xhvjdO+9XbRp09eqWPE6RUeX1TffbNTRo/EaOLCve9sBAQE6cuSQbryxxhXVVqRIUfcZ4qpVb1RUVGlVqVJNknTjjTdqy5bNkqSNG7/Uf/+7R927d5UkZWU5FRoamouj8v8IvAAAAH6uXLlr9cEH87V16xZt2vSVpk2brLZt71BKSrKmTZv1v7O9o5WRcf6OD7Vq1daZM2cUF/eLVq5cqnbtOkiSjJEqVaqiyZOn51ltwcFB7p8dDoeCg0P+8LqQsrKy/te20cMPd1f79p3yrO3fEXgBAAByKf1sxvlbiOXDdj1x4sRxFS9eQrfeepvq12+ozp3bKj7+iCIjSykkJEQJCSe0ceN6de58t3udtm3v0Lx5H+jHH7/XCy+8JEmqWfNmHT58UNu2bVXdujGSpD17dunGG2soICAgx7aLFSum1NTUXO6p1LTprfr443m69dYWKl68uDIyMnTgwH5VqVI119sm8AIAAORScmq6T++XGxf3i6ZOfUuS5HJlqWvXR9S6dRu98MKz6tbtPkVFldEtt9TLtk7btu11330d1a5dBxUuXFiSVLx4cb3yygRNnvyG3njjNTmdmSpbtpzGjp34l4G3TZt2Gj16hNat+9x90dqVaNv2Dp0+/ZuefLLX//bDpTvvvDdPAm+AMcbkeitekJiYKpfr0qVGRYXly42f88OUHa8qISHF12XgMkRFhdFnfoY+8z/0mX8pqP117NgBXXNNRV+XcUUCAx1yOl2+LiNXcjr+DkeAIiNzHvPLfXgBAABgNYY0AAAA4KL27v1Jo0ePuGD63Xffpw4dOvugostD4AUAAMBFValSTbNmzfV1GVeMIQ0AAACwGoEXAAAAViPwAgAAwGqM4QUAAMiliOIhCgwJzvPtOtMzlJTsu/v72oLACwAAkEuBIcHaN+DpPN/u9a9NlHTpwNu0aYz+858vVbRo0Txpd8WKpfr66w0aNeqvnx43f/5c/f3vbRURUVKStHjxJ0pPT9f99/8jT2rISwReAAAAXLb58z9STEx9d+Dt3PkeH1f01wi8AAAAFtmzZ5def328zp07q8KFi+ippwaqevW/yel0atCgp5ScfFrnzqWrRo2/6ZlnBisoKEiZmZmaOPFVbdu2VSVKhKtKlWoXbeP992fo5MkEDR36rIKDQ/Tii6O0du1qnT17Vv/611NasWKpVq9epdDQMMXF7VVUVGk99dQzmjz5dR0+fFjVq9fQsGEvKSAgQGlpqZo0aaLi4vYqIyNDderE6Mknn1ahQoXy7Jhw0RoAAIAlMjMzNWTIIPXs2Ufvvz9P//xnbw0ZMkiZmZkqVKiQXnxxlGbN+lBz5vxbWVlZWr58iSRpyZIFOno0Xh988LHeeONt7dmz66LtPPxwD5UqFaVRo8Zq1qy5uv76Gy5YZs+e3Xryyac1d+4ChYSEaMSIoXrxxdH64IP5+vXXX7R167eSpEmTJqp27bqaPn223ntvrpKSTmn58k/z9LhwhhcAAMASBw8eUFBQkGJi6kuS6tVroKCgIB08eEDXXXe9PvroA23e/LWysrKUkpKiwoULS5K2bftOsbHtFRgYqMDAQLVpE6vt23/IVS0331xLpUuXkXT+wRXXXBOtsLAwSVLlylV05Mgh1avXQBs3fqk9e3Zp3rwPJUnnzp1zr5dXCLwAAAAFwOrVq7R9+w+aOnWGQkKKaPbsmTp06GC+tRcc/P93rXA4HAoODvnD60LKysr63yujMWPGq1y5a/OtFoY0AAAAWKJChYrKzMzUtm1bJUnffbdFTqdTFSpUVGpqikqUCFexYsWUmpqq1atXude75ZYYrVq1Qk6nU+np57LN+yu/bye3mjS5VR988L47AP/222+Kjz+S6+3+EWd4AQAAcsmZnvG/W4jl/XYvR1BQkEaPfjXbRWujRo1VUFCQ2rZtrw0bvtT999+l8PAI1apVR+np52951rHjXfrll1/Uteu9KlEiXDfe+DclJSVetK177umiMWNGqnDhwnrxxVFXvI/9+g3QlClv6pFHHlBAQICCgoLVt+8AlS1b7oq3+WcBxhiTZ1vLR4mJqXK5Ll1qVFSYHr9pkBcqyr0pO15VQkKKr8vAZYiKCqPP/Ax95n/oM/9SUPvr2LEDuuaair4u44oEBjrkdLp8XUau5HT8HY4ARUaG5ri8187wpqena8yYMfrmm28UEhKi2rVr66WXXvJW8wAAACigvBZ4x40bp5CQEH322WcKCAjQyZMnvdU0AAAArsDSpYu1YMH8C6YPGfLiJe/VezXxSuBNS0vT4sWLtX79egUEBEiSSpUq5Y2mAQAAcIU6dOisDh06+7qMXPPKXRoOHTqk8PBwvfXWW7rrrrvUrVs3bd261RtNAwAA5As/uQzKOldy3L1yhjcrK0uHDh1SjRo19Oyzz+rHH39U7969tXr1aoWG5jy4+M/+ahCyv4uKCvN1CbhM9Jn/oc/8D33mXwpif6WkFNXZsykKCyvh/uu1PwkM9M870xpjlJKSrGLFil7W+84rgTc6OlqBgYFq3769JKlWrVqKiIjQvn37dNNNN3m0jcu5S4M/KYhXtvqzgno1sj+jz/wPfeZfCmp/FS0aoaSkBCUnJ/m6lMvmcDjkcvnvXRoCA4MVERF1wfvO53dpKFmypBo0aKCvvvpKTZs21b59+5SYmKiKFf3zdh4AAKBgK1QoUKVKRfu6jCtSEH9J8dpdGkaMGKHBgwdr7NixCgwM1KuvvqrixYt7q3kAAAAUUF4LvOXLl9ecOXO81RwAAAAgyUt3aQAAAAB8hcALAAAAqxF4AQAAYDUCLwAAAKxG4AUAAIDVCLwAAACwGoEXAAAAViPwAgAAwGoEXgAAAFiNwAsAAACrEXgBAABgNQIvAAAArEbgBQAAgNUIvAAAALAagRcAAABWI/ACAADAagReAAAAWI3ACwAAAKsReAEAAGA1Ai8AAACsRuAFAACA1Qi8AAAAsBqBFwAAAFYj8AIAAMBqBF4AAABYjcALAAAAqxF4AQAAYDUCLwAAAKxG4AUAAIDVCLwAAACwGoEXAAAAViPwAgAAwGoEXgAAAFiNwAsAAACrEXgBAABgNQIvAAAArEbgBQAAgNUIvAAAALAagRcAAABWI/ACAADAagReAAAAWI3ACwAAAKsReAEAAGA1Ai8AAACsRuAFAACA1Qi8AAAAsBqBFwAAAFYj8AIAAMBqBF4AAABYjcALAAAAqxF4AQAAYDUCLwAAAKxG4AUAAIDVCLwAAACwGoEXAAAAViPwAgAAwGoEXgAAAFgt0FsNtWzZUsHBwQoJCZEkDRw4UM2aNfNW8wAAACigvBZ4JenNN99U1apVvdkkAAAACjiGNAAAAMBqXj3DO3DgQBljdMstt6h///4qXry4x+tGRobmY2W+ExUV5usScJnoM/9Dn/kf+sy/0F/+p6D1WYAxxnijoaNHjyo6OloZGRkaPXq00tLSNH78eI/XT0xMlct16VKjosL0+E2DclOq10zZ8aoSElJ8XQYuQ1RUGH3mZ+gz/0Of+Rf6y//Y2mcOR8BfniD12pCG6OhoSVJwcLAefPBBbdu2zVtNAwAAoADzSuA9c+aMUlLO/yZhjNGKFStUvXp1bzQNAACAAs4rY3gTExP15JNPKisrSy6XS5UqVdKLL77ojaYBAABQwHkl8JYvX16LFy/2RlMAAABANtyWDAAAAFYj8AIAAMBqBF4AAABYjcALAAAAqxF4AQAAYDUCLwAAAKxG4AUAAIDVCLwAAACwGoEXAAAAViPwAgAAwGoEXgAAAFiNwAsAAACrEXgBAABgNQIvAAAArEbgBQAAgNUIvAAAALAagRcAAABWI/ACAADAagReAAAAWI3ACwAAAKsReAEAAGA1Ai8AAACsRuAFAACA1Qi8AAAAsBqBFwAAAFYj8AIAAMBqBF4AAABYjcALAAAAqxF4AQAAYDUCLwAAAKxG4AUAAIDVCLwAAACwGoEXAAAAViPwAgAAwGoEXgAAAFiNwAsAAACrEXgBAABgNQIvAAAArEbgBQAAgNUIvAAAALAagRcAAABWI/ACAADAagReAAAAWI3ACwAAAKsReAEAAGA1Ai8AAACsRuAFAACA1Qi8AAAAsBqBFwAAAFYj8AIAAMBqBF4AAABYjcALAAAAqxF4AQAAYLVAXxcAAMAfuTIzFRUV5usyPOJMz1BScrqvywBwCQReAMBVxREUpH0DnvZ1GR65/rWJkgi8wNWOIQ0AAACwmtcD71tvvaVq1arp559/9nbTAAAAKIC8Gnh37dqlH374QeXKlfNmswAAACjAvBZ4MzIyNHLkSA0fPtxbTQIAAADeC7xvvPGGOnbsqGuvvdZbTQIAAADeuUvD999/r507d2rgwIFXvI3IyNA8rOjq4S+33sH/o8/8D32G/MT7i1CmbeIAAB7nSURBVGPgjwpan3kl8G7ZskVxcXFq1aqVJOnYsWPq0aOHXn75ZTVt2tSjbSQmpsrlMpdczt86MCEhxdcl4DJERYXRZ36GPvM/fI/7Fz5j/sfWPnM4Av7yBKlXAm+vXr3Uq1cv9+uWLVtq6tSpqlq1qjeaBwAAQAHGfXgBAABgNZ88aW3t2rW+aBYAAAAFEGd4AQAAYDUCLwAAAKxG4AUAAIDVCLwAAACwGoEXAAAAViPwAgAAwGoEXgAAAFiNwAsAAACrEXgBAABgNQIvAAAArObxo4V/+eUXhYeHq1SpUkpLS9OMGTPkcDjUo0cPFSlSJD9rBAAAAK6Yx2d4+/fvr+TkZEnS2LFjtWXLFv3www8aNmxYvhUHAAAA5JbHZ3iPHDmiG264QcYYrV69WsuXL1fhwoXVqlWr/KwPAAAAyBWPA29ISIhSU1MVFxen6OholSxZUk6nU+np6flZHwAAAJArHgfe9u3b6+GHH1ZaWpq6du0qSdq9e7euvfbafCsOAAAAyC2PA+/gwYO1ceNGBQYGqmHDhpKkgIAAPf/88/lWHAAAAJBbHgdeSWratGm21zfddFOeFgMAAADktYsG3gcffFABAQGX3MiHH36YZwUBAAAAeemigffee+91/3zw4EEtWLBAd955p8qWLav4+HgtXrxYd999d74XCQAAAFypiwbeO++80/3zfffdpxkzZqhKlSruaR06dNDgwYPVt2/f/KsQAAAAyAWPHzwRFxenChUqZJt27bXX6tdff83zogAAAIC84nHgrVevnp577jnt379f586d0759+zRkyBDFxMTkZ30AAABArngceF955RVJ5+/HW6dOHXXo0EHGGI0ZMybfigMAAAByy+PbkoWHh2vixIlyuVw6deqUSpYsKYfD47wMAAAA+MRl3Yc3JSVF+/btU1paWrbpjRo1ytOiAAAAgLziceBduHChRo4cqaJFi6pw4cLu6QEBAfr888/zpTgAAAAgtzwOvBMnTtQbb7yh5s2b52c9AAAAQJ7yeBBuVlbWBY8WBgAAAK52Hgfenj176u2335bL5crPegAAAIA85fGQhlmzZunkyZN69913FR4enm3eF198kdd1AQAAAHnC48A7bty4/KwDAAAAyBceB9769evnZx0AAABAvvB4DG9mZqbefPNNtWrVSjfddJNatWqlN998UxkZGflZHwAAAJArlzWkYfv27RoxYoTKli2r+Ph4TZkyRampqRo8eHB+1ggAAABcMY8D76pVq7RkyRJFRERIkm644QbVqFFDnTp1IvACAADgquXxkAZjzGVNBwAAAK4GHgfetm3bqk+fPtqwYYPi4uL05Zdf6oknnlBsbGx+1gcAAADkisdDGp555hm9/fbbGjlypE6cOKEyZcqoXbt2evzxx/OzPgAAACBXPA68wcHB6tevn/r165ef9QAAAAB5yuMhDdOmTdP27duzTdu+fbumT5+e50UBAAAAecXjwDt79mxVrlw527RKlSrp/fffz/OiAAAAgLxyWQ+eCAzMPgIiKCiIB08AAADgquZx4P3b3/6muXPnZps2b9481ahRI8+LAgAAAPKKxxetPf/883r00Uf16aefqnz58jp06JASEhL03nvv5Wd9AAAAQK54HHirVKmizz77TF988YWOHj2q22+/XbfddpuKFSuWn/UBAAAAueJx4JWkYsWKqW7dujp+/Lhq166dXzUBAAAAecbjMbzx8fHq0qWLYmNj9eijj0qSVq1apSFDhuRbcQAAAEBueRx4hw0bpttuu03btm1z362hSZMm+vrrr/OtOAAAACC3PA68O3bsUK9eveRwOBQQECBJCgsLU0pKSr4VBwAAAOSWx4E3MjJSBw4cyDbtl19+UXR0dJ4XBQAAAOQVjwNv9+7d1bt3by1YsEBOp1PLli3T008/rZ49e+ZnfQAAAECueHyXhnvuuUfh4eH697//rejoaC1evFj9+vVT69at87M+AAAAIFcueYZ3586d+vnnnyVJrVu31iuvvKIbb7xRx48f15dffqm0tLR8LxIAAAC4UpcMvGPGjNHJkyfdr1944QUdOHBAXbp00d69ezVu3Lh8LRAAAADIjUsG3ri4OMXExEiSkpOTtX79eo0bN07/+Mc/NGHCBK1bty7fiwQAAACu1CUDb1ZWloKCgiRJP/zwg6KionT99ddLkqKjo5WcnJy/FQIAAAC5cMnAW7lyZa1cuVKStGLFCjVq1Mg97/jx4woLC8u/6gAAAIBcuuRdGgYOHKg+ffpo+PDhcjgcmjt3rnveihUrVLduXY8aevzxx3X48GE5HA4VLVpUL7zwgqpXr37llQMAAAAeuGTgjYmJ0bp167R//35dd911Cg0Ndc9r3ry52rVr51FDY8eOdZ8NXrNmjQYPHqxFixZdYdkAAACAZzy6D29oaKhq1qx5wfQbbrjB44b+OPQhNTXV/XhiAAAAID95/OCJvDBkyBB99dVXMsbo3Xff9WbTAAAAKKC8GnhHjx4tSVq8eLFeffVVTZ8+3eN1IyNDL72QH4qK4qI/f0Of+R/6DPmJ9xfHwB8VtD7zauD9XefOnTVs2DAlJSUpIiLCo3USE1PlcplLLudvHZiQkOLrEnAZoqLC6DM/Q5/5H77H/QufMf9ja585HAF/eYL0krclywtpaWk6evSo+/XatWtVokQJhYeHe6N5AAAAFGBeOcN79uxZ9evXT2fPnpXD4VCJEiU0depULlwDAABAvvNK4C1VqpTmz5/vjaYAAACAbLwypAEAAADwFQIvAAAArEbgBQAAgNUIvAAAALAagRcAAABWI/ACAADAagReAAAAWI3ACwAAAKsReAEAAGA1Ai8AAACsRuAFAACA1Qi8AAAAsBqBFwAAAFYj8AIAAMBqBF4AAABYjcALAAAAqxF4AQAAYDUCLwAAAKxG4AUAAIDVCLwAAACwGoEXAAAAViPwAgAAwGoEXgAAAFiNwAsAAACrEXgBAABgNQIvAAAArEbgBQAAgNUIvAAAALAagRcAAABWI/ACAADAagReAAAAWI3ACwAAAKsReAEAAGA1Ai8AAACsRuAFAACA1Qi8AAAAsBqBFwAAAFYj8AIAAMBqBF4AAABYjcALAAAAqxF4AQAAYDUCLwAAAKxG4AUAAIDVCLwAAACwGoEXAAAAViPwAgAAwGoEXgAAAFiNwAsAAACrEXgBAABgNQIvAAAArEbgBQAAgNUIvAAAALAagRcAAABWI/ACAADAagReAAAAWI3ACwAAAKsReAEAAGC1QG80kpSUpEGDBungwYMKDg5WxYoVNXLkSJUsWdIbzQMAAKAA88oZ3oCAAP3zn//UZ599pqVLl6p8+fIaP368N5oGAABAAeeVwBseHq4GDRq4X9euXVvx8fHeaBoAAAAFnFeGNPyRy+XSRx99pJYtW17WepGRoflUkW9FRYX5ugRcJvrM/9BnyE+8vzgG/qig9ZnXA+9LL72kokWLqmvXrpe1XmJiqlwuc8nl/K0DExJSfF0CLkNUVBh95mfoM//D97h/4TPmf2ztM4cj4C9PkHo18I4dO1YHDhzQ1KlT5XBwgwgAAADkP68F3gkTJmjnzp2aNm2agoODvdUsAAAACjivBN69e/fqnXfe0XXXXacuXbpIkq699lpNnjzZG80DAACgAPNK4K1SpYp++uknbzQFAAAAZMNAWgAAAFiNwAsAAACrEXgBAABgNQIvAAAArEbgBQAAgNUIvAAAALAagRcAAABWI/ACAADAagReAAAAWI3ACwAAAKsReAEAAGA1Ai8AAACsRuAFAACA1Qi8AAAAsBqBFwAAAFYj8AIAAMBqBF4AAABYjcALAAAAqxF4AQAAYDUCLwAAAKxG4AUAAIDVCLwAAACwGoEXAAAAViPwAgAAwGoEXgAAAFiNwAsAAACrEXgBAABgNQIvAAAArEbgBQAAgNUIvAAAALAagRcAAABWI/ACAADAagReAAAAWI3ACwAAAKsReAEAAGA1Ai8AAACsFujrAgAA+at4aIhCigT7ugwA8BkCLwBYLqRIsB6/aZCvy/DYlB2v+roEAJZhSAMAAACsRuAFAACA1Qi8AAAAsBqBFwAAAFYj8AIAAMBq3KXBh1yZmYqKCvN1GR5zpmcoKTnd12UAAABcFgKvDzmCgrRvwNO+LsNj1782URKBFwAA+BeGNAAAAMBqBF4AAABYjcALAAAAqxF4AQAAYDUCLwAAAKxG4AUAAIDVCLwAAACwGoEXAAAAViPwAgAAwGoEXgAAAFiNRwsDuCzFQ0MUUiTY12V4LDM909clAAB8zCuBd+zYsfrss8905MgRLV26VFWrVvVGswDyQUiRYD1+0yBfl+GxKTtelXTO12UAAHzIK0MaWrVqpQ8//FDlypXzRnMAAACAm1fO8MbExHijGQAAAOACXLQGAAAAq/nNRWuRkaG+LgGSoqLCfF2Cz3EM/A99hvzE+4tj4I8KWp/5TeBNTEyVy2UuuVxB60BvS0hI8XUJPhUVFcYx8MPPGH3mf33mT3h/8b3ob2ztM4cj4C9PkDKkAQAAAFbzSuAdNWqUbr31Vh07dkyPPvqo7rjjDm80CwAAAHhnSMPQoUM1dOhQbzQFAAAAZMOQBgAAAFiNwAsAAACrEXgBAABgNQIvAAAArEbgBQAAgNUIvAAAALAagRcAAABWI/ACAADAagReAAAAWI3ACwAAAKsReAEAAGA1Ai8AAACsRuAFAACA1Qi8AAAAsBqBFwAAAFYj8AIAAMBqBF4AAABYjcALAAAAqxF4AQAAYDUCLwAAAKxG4AUAAIDVCLwAAACwGoEXAAAAViPwAgAAwGoEXgAAAFiNwAsAAACrEXgBAABgNQIvAAAArEbgBQAAgNUIvAAAALBaoK8LAID85MrMVFRUmK/L8IgzPUNJyem+LgMArEPgBWA1R1CQ9g142tdleOT61yZKIvACQF5jSAMAAACsRuAFAACA1Qi8AAAAsBqBFwAAAFYj8AIAAMBqBF4AAABYjcALAAAAqxF4AQAAYDUePAEAwFWmeGiIQooE+7oMj2SmZ/q6BOCSCLwAAFxlQooE6/GbBvm6DI9M2fGqpHO+LgO4KIY0AAAAwGoEXgAAAFiNwAsAAACrEXgBAABgNQIvAAAArEbgBQAAgNUIvAAAALAagRcAAABWI/ACAADAajxpDQAAXDFXZqaiosJ8XYbHnOkZSkpO93UZ8DICLwAAuGKOoCDtG/C0r8vw2PWvTZRE4C1oGNIAAAAAqxF4AQAAYDWGNMCnioeGKKRIsK/L8FhmeqavSwAAAJeJwAufCikSrMdvGuTrMjw2Zcerks75ugwAAHAZvBZ49+3bp+eee06//fabwsPDNXbsWF133XXeah4AACDf+NNfLF0ZBe/OGl4LvC+++KIefPBBderUSUuWLNGwYcM0e/ZsbzUP5Al/uv0Ot94BAO/xp79YTtnxaoG7s4ZXAm9iYqJ2796t9957T5LUvn17vfTSSzp16pRKlizp0TYcjgCP2ytZNuKK6vSFwAj/qVW6vH7wlD/1lyMoSIdGjfR1GR4pP3SYHI6MfNm2P/WZ5F+fs/z4jEn0WX6iz/yrvyT6TLKzzy62TIAxxuRlQTnZuXOnnn32WS1fvtw9rV27dho3bpz+9re/5XfzAAAAKMC4LRkAAACs5pXAGx0drePHjysrK0uSlJWVpRMnTig6OtobzQMAAKAA80rgjYyMVPXq1bVs2TJJ0rJly1S9enWPx+8CAAAAV8orY3glKS4uTs8995ySk5NVvHhxjR07VjfccIM3mgYAAEAB5rXACwAAAPgCF60BAADAagReAAAAWI3ACwAAAKsReAEAAGA1Ai+st2bNGsXGxqpz58769ddfL3v9PXv2aMWKFdmmVatWTWlpaXlVInLhcvrij8vm9n2By9epUyedO3fO12XgKjZr1iwlJib6ugy/58lnrVu3blq3bt0F0xcuXKi+ffvmV2k+Q+CF9ebNm6e+fftq8eLFV3QrvD179mjVqlV5XpfT6czzbcJzuX1f4PItWbJEhQsX9nUZyAO/P0gqr82ePZvAmwf4rF0o0NcF2O7777/Xq6++6j6rNGjQIK1Zs0abNm1ScHCwihYtqnnz5mnIkCGqWrWqHn74YUnSzz//rD59+mjNmjUKCAjw5S74tTFjxui7777Tvn37NHfuXA0cOFDjx49390ffvn112223yel06rHHHlNSUpLS09N18803a8SIEUpLS9Obb76p1NRUderUSfXq1dPQoUMlSXPmzNHq1av122+/adCgQWrTpo0k6ccff8yxjcOHD+vuu+/WXXfdpU2bNum+++7TAw884JsDY5m/6ov//Oc/mjBhgkJCQnT77be7l//z+2LOnDm+Kr1AqVatmr777juNHz/+gu9ASVq8eLFmzJghSapQoYJGjhypyMhILVy4UMuWLVPx4sW1d+9ehYWFadKkSYqKivLl7vitatWq6YknntDnn3+uc+fOqX///u7PzIABA7Rv3z5lZmaqQoUKGjNmjEqUKKHNmzdr1KhRqlmzpnbv3q2nnnpKNWrU0KBBg5SQkKBy5crJ4XCoWbNm6tq1q7p166bu3burRYsWkpTt9YkTJzRq1CjFx8crPT1dd9xxh3r37q23335bJ06cUN++fRUSEqLXXntNlStX9uWhuqpdrB+rVaumbdu2qVixYoqLi9Po0aOVkJAgSerevbvuvPPObNtavny5Zs6cqcmTJ1/QzqJFizR37lxlZWUpNDRUw4cP98+TBAb5JikpyTRu3Nh89913xhhjnE6n2bVrl2nbtq3Jysoyxhjz22+/GWOM2bJli+ncubN73ZdfftlMmjTJ+0VbqGvXrmbt2rXm9OnTplOnTub48ePGGGOOHz9umjVrZk6fPm1cLpc5deqUMcYYl8tlnnnmGTN37lxjjDELFiwwTz75ZLZtVq1a1cyZM8cYY8zWrVtN06ZNjTHmom0cOnTIVK1a1Sxfvtwr+11Q/FVfJCQkmPr165u4uDhjjDHTpk0zVatWNampqcaY/39fwHuqVq1qtmzZkuN34E8//WSaNGni/uxMnDjR9OvXzxhz/jMYExNj4uPjjTHGDBkyxEyYMMEHe2CHqlWruv9/iYuLM/Xr1zcnT540xhiTmJjoXm7ChAlm3LhxxhhjNm3aZG688Uazbds29/x//etf7u0cPHjQ1K5d2/1Z/PPn64+vH3nkEfPtt98aY4xJT083DzzwgNm4caMxxpgWLVqYn376KV/22zYX68ffv+syMzPN7bffblasWOFe7/f/637vk2nTppmHH37YJCcnG2Oy/5+3ZcsW07NnT5Oenm6MMeaLL74w999/v9f2MS9xhjcf/fDDD6pUqZLq1q0rSSpUqJDKly8vp9OpIUOGqEGDBu7ffmNiYpSWlqaffvpJlSpV0rJly/Tvf//bl+Vb5/vvv9fhw4fVs2dP97SAgAAdOHBANWrU0MyZM/Xll1/K5XLp9OnTl/xzULt27SRJtWvX1okTJ5Senn7RNiIiIhQSEqLY2Nj82cECLKe++PHHH1WjRg33mYj7779f48eP92WZ0PkzTzl9B27evFnNmzdX6dKlJUldunRRp06d3OvVrVtX0dHRkqRatWrp66+/9n7xFrn33nslSTfccINq1KihH374Qa1atdKSJUu0dOlSZWZm6syZM7ruuuvc61SsWFF16tRxv968ebP7L17ly5dXo0aNLtnumTNn9O233+rUqVPuaWlpaYqLi1OTJk3yaO8Kjr/qx9/t27dPTqcz2/87ERER7p8nTZqksmXLatq0aQoODr5g+2vXrtV///tfdzvGGCUnJ+fX7uQrAq+XhYWFafny5dq8ebO+/vprjR8/XosWLVJUVJQ6d+6sRYsWqX79+qpUqZLKlSvn63KtYoxRtWrV9OGHH14wb/Hixfruu+/04YcfKjQ0VFOnTtX+/fsvur2QkBBJ53+Rkc6Pyb1YG4cPH1aRIkUYopIPcuoLXJ0cDkeO34GX8nsfS+f7Ob/GkBZkW7du1UcffaR58+apZMmSWrp0qebPn++eX7RoUY+3VahQIblcLvfr9PR0SZLL5VJAQIA++eQTBQUF5V3xuCK1a9fWV199pfj4+Gy/3PzOGKO7775b/fr1835xeYyL1vJR7dq1FRcXp++//17S+UH+p06d0tmzZ9WsWTMNHDhQYWFhOnTokCSpc+fOWrZsmT7++GPdddddvizdSnXq1NGBAwe0adMm97Tt27fLGKOUlBRFREQoNDRUKSkpWrZsmXuZ36fltg14V+3atbV79273Ly4ff/yxbwuCJCk5OTnH78AGDRpo/fr17nGG8+fPV+PGjX1crb0WLFggSdq/f792796t2rVrKzk5WaGhoQoPD1dGRoZ7mb/SsGFD9zKHDh3SN998455XoUIF7dixQ5L0yy+/aM+ePZLOf5/ecsstmjZtmnvZo0ePuvu9WLFiHn/fIud+/KPrr79egYGBWrlypXtaUlKS++dmzZpp+PDh6tWrl/bu3XvB9lu2bKklS5bo2LFjks7nmJ07d+bHruQ7zvDmo/DwcE2aNEmvvPKKzpw5I4fDofbt22vlypVyOp3KysrSrbfe6n6Dli1bVpUrV9a3336rCRMm+Lh6+5QoUUJTpkzRuHHjNGbMGGVmZqp8+fKaOnWqOnfurM8//1xt27ZVZGSkbrnlFvcZiUaNGmnmzJnq2LGj6tev7/4T3uW2Ae+KjIzUSy+9pN69e6tw4cLZLlqD78THx2v06NEXfAc6HA4NHDhQ3bt3l3T+T+QjR470cbX2ysrKUufOnXX27Fn3xYHNmjXTp59+qjZt2igiIkIxMTHu0JqTIUOGaNCgQVq2bJmuvfZaNWjQwD2vZ8+e6tevnz7//HPVqFFDNWrUcM8bP368Xn75ZXXo0EHS+ZA7evRoRUVF6aGHHtLgwYNVuHBhLlrzQE79+EeBgYGaMmWKRo4cqSlTpiggIEDdu3dX586d3cs0atRIL7/8svr06aM333wz2/r16tXTU089pT59+igrK0uZmZlq27atatas6ZX9y0sBhlNPAIB8lpiYqBYtWujHH39kWI+P/fEK/rz03HPPqWbNmuratWuebhc5y69+tBVDGgAA+Wr37t2677779MQTTxB2AfgEZ3gBAABgNc7wAgAAwGoEXgAAAFiNwAsAAACrEXgBII/Ex8erTp067ocidOvWjfv/AsBVgPvwAsBlatmypU6ePOl+spskrVq1SmXLlnU/aCY3Dh8+rFatWmV7slX58uX16aef5nrbudWyZUuNGjWKh0IA8CsEXgC4AlOnTs330LdlyxYFBl7517TT6czV+gBgC4Y0AEAeOXz4sKpVqyan05nj/E8++USxsbGqV6+eevTooSNHjlx2Gy6XS1OmTFGLFi3UqFEjDRo0yP0o1t/b//jjj3Xbbbfp4Ycfdk9bsGCBmjdvrnr16umjjz7S9u3b1aFDB8XExGR7otnBgwf10EMPqUGDBmrQoIEGDBig5ORkSdIzzzyj+Ph49e7dW3Xq1NH06dOv4CgBgPcReAHAC9asWaN33nlHb731lr755hvdcsstGjBgwGVvZ+HChVq0aJFmz56tNWvW6MyZMxc8gnfLli1asWKFZsyY4Z72448/6j//+Y8mTpyoMWPGaOrUqZo1a5aWL1+ulStX6tv/a+f+XVqHwjCOP4HSSkQRI2ot4uB/IBkE3URBCF1cHBwsaCz+WLo7Koigg4giLm7uBbs46SJWcKtDx0JpRSeJk3CcbiH0cu+1enu94fuZkpzkzcmZHg4vub2VJBljtLKyouvraxUKBdVqNR0cHEiSdnd3NTQ0pOPjY93f32t5efkTKwIA7UPgBYAWrK2tyXVdua6r1dXV395/fn4u3/c1OjqqWCymbDarh4eHX+7yjo+PN97xI7zm83ktLi5qeHhYnZ2dyuVyuri4CO0qb2xsyLZtdXR0hOabSCQ0OTkp27bleZ4cx9HAwIBc11WpVJIkjYyMaGJiQvF4XL29vcpkMioWi60uEwB8CzR3AUALDg8PP9TDW61Wtb29rZ2dncY1Y4zq9bpSqdRPn7m5uWnqwX18fAzdn0ql9Pb2pufn58a1wcHBplqO4zSOE4lE0/nr66sk6enpSVtbW7q7u1MQBDLGqLu7+4+/EwC+IwIvALRBMplUNptVOp3+VJ3+/v7QrnC1WlUsFpPjOKrVapIky7Jarr+3tyfLspTP59XT06PLy8umlgkA+N/Q0gAAbTA/P6+TkxOVy2VJ0svLiwqFwofreJ6ns7MzVSoVBUGg/f19zc7OftnfGIIgkG3b6urqUr1e1+npaWi8r69PlUrlS94FAO1C4AWANpientbS0pJyuZzGxsbkeZ6urq4+XGdubk7pdFoLCwuamppSPB7X5ubml81zfX1dpVJJruvK933NzMyExn3f19HRUaivGAC+O8sYY/71JAAAAIC/hR1eAAAARBqBFwAAAJFG4AUAAECkEXgBAAAQaQReAAAARBqBFwAAAJFG4AUAAECkEXgBAAAQaQReAAAARNo7VmX5lPdyU1IAAAAASUVORK5CYII='>\n<img src='data:image/png;base64,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'>\n<img src='data:image/png;base64,iVBORw0KGgoAAAANSUhEUgAAAsMAAAIECAYAAAD8YSNOAAAABHNCSVQICAgIfAhkiAAAAAlwSFlzAAALEgAACxIB0t1+/AAAADh0RVh0U29mdHdhcmUAbWF0cGxvdGxpYiB2ZXJzaW9uMy4xLjMsIGh0dHA6Ly9tYXRwbG90bGliLm9yZy+AADFEAAAgAElEQVR4nO3de1iUdf7/8dcAASISwoohWhmtpLl5QllTM7VUUoHqKq3VtayMsrRNRaNNzRJTSEvLlO2wX81ytVISD5WZWm4ecD1kmLqEpqGgoKKQHO/fH13NL9bTqMyM8Hk+rqvryntm7nkPtzM+vf3MjM2yLEsAAACAgTzcPQAAAADgLsQwAAAAjEUMAwAAwFjEMAAAAIxFDAMAAMBYxDAAAACMRQwDQDVo06aNDhw4cMHrHTx4UBERESovL5ckPfroo1q8eHG1zjJz5kyNGjXqom83e/ZsPf/882edszo5+rMCAFfwcvcAAOAOGRkZSklJ0d69e+Xp6akbbrhBiYmJuuWWWy5pf1u3br2k27399tuXdLtLtXHjRg0ePFh16tSxb4uKitLs2bMVHx9fLfdRWFioyZMna926dSouLlZISIjuvfdeDR06VNKl/6wAwBmIYQDGOXXqlOLj4zVhwgRFR0errKxMGRkZ8vb2vuh9lZeXy8urZr2UhoSEaN26dU7b/+TJk1VcXKzly5erXr16ys7O1t69e512fwBwOVgmAcA42dnZkqS+ffvK09NTvr6+6ty5s2666Sb7dT766CNFR0erffv2euSRR/Tzzz/bL4uIiND8+fPVs2dP9ezZ075t//79kqQ1a9YoLi5Obdu2VdeuXTVz5sxzzjJo0CAtWrRIkhQTE6M2bdrY/4uIiNDGjRslSdu2bdOAAQMUGRmpmJgY+3ZJOnDggAYOHKg2bdro4Ycf1rFjxy7p53K+5RUnT55UYmKiOnfurC5dumj69OmqqKg463W/++479evXT1dffbU8PDwUHh6u3r172y//7WeVm5tb5fG2atVKERER9uud7xgAQHUhhgEYp2nTpvL09NSYMWO0du1anThxosrlq1at0pw5c/TGG2/o22+/Vbt27TRy5MgzrrNw4UItX778jP3XqVNHU6ZMUUZGhubMmaMPP/xQq1atuuBcn376qbZu3aqtW7dq7Nixatq0qW6++Wbl5ubq8ccf1xNPPKFNmzZpzJgxGj58uAoKCiRJo0aN0s0336yNGzfqySefrPY1yJI0duxYeXl56fPPP9eSJUu0fv16e8T/r1atWmn69On6+OOPtW/fvnPus2HDhvbHu3XrVt1xxx3q06ePJMeOAQBUB2IYgHH8/f31wQcfyGaz6YUXXlDHjh0VHx+vo0ePSpIWLFigoUOHKjw8XF5eXoqPj9euXbuqnJkcOnSoAgMD5evre8b+o6KiFBERIQ8PD910003q06ePNm3a5PB8GRkZeu211/TWW2/J399faWlpuu2229S1a1d5eHioU6dOatmypdauXaucnBx99913GjFihLy9vdW+fXt17979vPvPy8tTZGSk/b+zBf3vHT16VGvXrlViYqL8/PwUHByshx56SMuWLTvr9V944QX169dP8+fPV58+fXTnnXdq7dq1572P1NRUZWdnKykpSZJjxwAAqkPNWugGANUkPDxcr7zyiiQpKytLo0ePVlJSkqZNm6acnBwlJSVpypQp9utblqXc3FyFhYVJkkJDQ8+57+3bt9vfnFdWVqbS0tIqywTO59ChQ3rmmWf0yiuvqGnTppKknJwcrVy5Ul999ZX9euXl5YqKilJeXp4CAgLk5+dnv6xRo0Y6dOjQOe/jYtcM5+TkqLy8XJ07d7Zvq6ysPOfPwNfXV/Hx8YqPj9epU6eUmpqqZ555Rl999ZUCAwPPuP7atWs1d+5cLVq0yP6XC0eOAQBUB2IYgPHCw8N1zz336F//+pekX0M3Pj5eMTEx57yNzWY752UjR47UwIED9fbbb8vHx0eTJk1yaB3v6dOnNWzYMA0ePFhdu3a1bw8NDVVsbKxefvnlM27z888/q7CwUMXFxfYgzsnJOe98F+uaa66Rt7e3NmzYcNFvFvT399fjjz+uOXPm6ODBg2fE8I8//qixY8dq5syZVeLakWMAANWBZRIAjJOVlaV3331Xhw8flvTr2dj09HS1atVKkjRgwAClpqbaPwHh5MmTWrFihcP7Lyoq0tVXXy0fHx/t2LFD6enpDt0uMTFRTZs21WOPPVZle0xMjL766it9/fXXqqioUElJiTZu3KjDhw8rLCxMLVu21MyZM1VaWqqMjIwqZ5CrQ0hIiDp16qRXXnlFp06dUmVlpX766adzLv148803tWPHDpWWlqqkpERz585VQECA/Uz3b06dOqUnn3xSf/vb3xQZGVnlsss9BgDgKM4MAzCOv7+/tm/frvfee08nT55UvXr11K1bNyUkJEiS7rzzThUVFenZZ5/Vzz//rHr16unWW29VdHS0Q/sfP368pkyZookTJ6pDhw6Kjo5WYWHhBW+3bNky+fr6qk2bNvZt//jHPxQZGalZs2YpOTlZI0eOlIeHh2655RZNmDBBkvTqq69qzJgxioqKUuvWrRUXF+fQ/V2MqVOnKiUlRXfddZeKiorUpEmTM6L9NzabTYmJicrJyZGXl5ciIiI0Z84c1a1bt8r1vv/+e2VnZ2vy5MmaPHmyffvWrVsv+xgAgKNslmVZ7h4CAAAAcAeWSQAAAMBYxDAAAACMRQwDAADAWMQwAAAAjEUMAwAAwFjEMAAAAIxVKz5n+NixIlVW8glxAAAAOJOHh03169c962W1IoYrKy1iGAAAABeNZRIAAAAwFjEMAAAAYxHDAAAAMBYxDAAAAGMRwwAAADAWMQwAAABjEcMAAAAwFjEMAAAAYxHDAAAAMBYxDAAAAGMRwwAAADAWMQwAAABjEcMAAAAwFjEMAAAAYxHDAAAAMBYxDAAAAGMRwwAAADAWMQwAAABjebl7AACA+9Sv5yMvX293j1ErlZ8u1bGTJe4eA8AFEMMAYDAvX2+tuz/B3WPUSrctnCoRw8AVj2USAAAAMBYxDAAAAGMRwwAAADAWMQwAAABjEcMAAAAwFjEMAAAAYxHDAAAAMBYxDAAAAGMRwwAAADAWMQwAAABjEcMAAAAwFjEMAAAAYxHDAAAAMBYxDAAAAGMRwwAAADAWMQwAAABjEcMAAAAwFjEMAAAAYxHDAAAAMBYxDAAAAGMRwwAAADAWMQwAAABjEcMAAAAwFjEMAAAAYxHDAAAAMBYxDAAAAGMRwwAAADAWMQwAAABjEcMAAAAwFjEMAAAAYxHDAAAAMBYxDAAAAGMRwwAAADAWMQwAAABjEcMAAAAwFjEMAAAAYxHDAAAAMBYxDAAAAGMRwwAAADAWMQwAAABjEcMAAAAwFjEMAAAAYxHDAAAAMBYxDAAAAGMRwwAAADAWMQwAAABjEcMAAAAwFjEMAAAAYxHDAAAAMBYxDAAAAGMRwwAAADAWMQwAAABjEcMAAAAwFjEMAAAAYxHDAAAAMBYxDAAAAGMRwwAAADAWMQwAAABjuSyGv/rqK8XFxSk2NlYxMTH6/PPPJUnZ2dnq37+/evXqpf79+2vfvn2uGgkAAACG83LFnViWpYSEBM2fP1/NmjXTDz/8oAceeEB33HGHxo8frwcffFCxsbFKS0vTuHHjNHfuXFeMBQAAAMO57Mywh4eHTp48KUk6efKkQkJCdOzYMWVmZqpv376SpL59+yozM1MFBQWuGgsAAAAGc8mZYZvNptdee01PPvmk/Pz8VFRUpNTUVB06dEgNGzaUp6enJMnT01MhISE6dOiQgoKCXDEaAAAADOaSGC4vL9ecOXM0a9YstWvXTlu2bNEzzzyjqVOnVsv+g4P9q2U/AABUpwYN6rl7BAAX4JIY3rVrl/Ly8tSuXTtJUrt27VSnTh35+PgoNzdXFRUV8vT0VEVFhfLy8hQaGnpR+8/PP6XKSssZowNArUasOdeRIyfdPQIASR4etnOePHXJmuFrrrlGhw8f1o8//ihJysrKUn5+vq677jo1b95c6enpkqT09HQ1b96cJRIAAABwCZecGW7QoIEmTJigESNGyGazSZKSkpIUGBioCRMmaOzYsZo1a5YCAgI0ZcoUV4wEAAAAyGZZVo1fX8AyCQC4NA0a1NO6+xPcPUatdNvCqSyTAK4Qbl8mAQAAAFyJiGEAAAAYixgGAACAsYhhAAAAGIsYBgAAgLGIYQAAABiLGAYAAICxiGEAAAAYixgGAACAsYhhAAAAGMvL3QO4kn9db9Xx83H3GLXSL8UlOlVU6u4xAAAALopRMVzHz0cRjaLdPUattDtnBTEMAABqHJZJAAAAwFjEMAAAAIxFDAMAAMBYxDAAAACMRQwDAADAWMQwAAAAjEUMAwAAwFjEMAAAAIxFDAMAAMBYxDAAAACMRQwDAADAWMQwAAAAjEUMAwAAwFjEMAAAAIxFDAMAAMBYxDAAAACMRQwDAADAWMQwAAAAjEUMAwAAwFjEMAAAAIxFDAMAAMBYxDAAAACMRQwDAADAWMQwAAAAjEUMAwAAwFjEMAAAAIxFDAMAAMBYxDAAAACMRQwDAADAWMQwAAAAjEUMAwAAwFjEMAAAAIxFDAMAAMBYxDAAAACMRQwDAADAWMQwAAAAjEUMAwAAwFjEMAAAAIxFDAMAAMBYxDAAAACMRQwDAADAWMQwAAAAjEUMAwAAwFhe7h4AQO1xtb+PvOt4u3uMWqn0l1KdOFXi7jEAoNYhhgFUG+863kru9Jy7x6iVRq+fLBHDAFDtWCYBAAAAYxHDAAAAMBbLJHDFqufvI1/WnzrF6V9KdZJ/cgcAgBjGlcu3jrf+0myku8eolebveZUYBgBALJMAAACAwYhhAAAAGIsYBgAAgLGIYQAAABiLN9ABAAA4UVCgrzyvusrdY9RKFWVlKjh++rL2QQwDAAA4kedVV+n4lzPcPUatFNhjuKTLi2GWSQAAAMBYxDAAAACMRQwDAADAWMQwAAAAjEUMAwAAwFjEMAAAAIxFDAMAAMBYxDAAAACMRQwDAADAWMQwAAAAjEUMAwAAwFjEMAAAAIxFDAMAAMBYxDAAAACMRQwDAADAWF6uuqOSkhIlJSXp22+/lY+Pj1q3bq2XXnpJ2dnZGjt2rI4fP67AwEBNmTJF119/vavGAgAAgMFcFsPJycny8fHRZ599JpvNpqNHj0qSxo8frwcffFCxsbFKS0vTuHHjNHfuXFeNBQAAAIO5ZJlEUVGRlixZohEjRshms0mS/vCHPyg/P1+ZmZnq27evJKlv377KzMxUQUGBK8YCAACA4VxyZvjAgQMKDAzUG2+8oY0bN6pu3boaMWKEfH191bBhQ3l6ekqSPD09FRISokOHDikoKMgVowEAAMBgLonhiooKHThwQC1atNCYMWO0fft2xcfH6/XXX6+W/QcH+1fLfnB5GjSo5+4RcBE4XjUPx6zm4ZgBzne5zzOXxHBoaKi8vLzsyyFatWql+vXry9fXV7m5uaqoqJCnp6cqKiqUl5en0NDQi9p/fv4pVVZaF7weL0rOdeTIyWrdH8fLuar7eEkcM2fjmNU8zjhmqHl4njmXI88zDw/bOU+eumTNcFBQkKKiorR+/XpJUnZ2tvLz83X99derefPmSk9PlySlp6erefPmLJEAAACAS7js0yRefPFFJSYmasqUKfLy8tLUqVMVEBCgCRMmaOzYsZo1a5YCAgI0ZcoUV40EAAAAw7kshps0aaJ58+adsT08PFyLFi1y1RgAAACAHd9ABwAAAGMRwwAAADAWMQwAAABjEcMAAAAwFjEMAAAAYxHDAAAAMBYxDAAAAGMRwwAAADCWw1+6sW/fPq1YsUJ5eXkKCQlR79691bRpU2fOBgAAADiVQ2eGly5dqrvvvlu7d+9WnTp1tGfPHt1zzz1aunSps+cDAAAAnMahM8OvvfaaUlNT1b59e/u2jIwMJSQkqF+/fk4bDgAAAHAmh84MFxUVqXXr1lW2tWrVSsXFxU4ZCgAAAHAFh2L44Ycf1rRp01RSUiJJOn36tKZPn66HH37YqcMBAAAAznTOZRJdu3aVzWaTJFmWpaNHj2revHkKCAhQYWGhLMtSgwYN9Pjjj7tsWAAAAKA6nTOGk5OTXTkHAAAA4HLnjOEOHTq4cg4AAADA5c77aRJvvPHGBXfw1FNPVdswAAAAgCtdMIabNm2qP/3pT7Is64zLf1tTDAAAANRE543h5557Tmlpafr+++8VGxur2NhYNWzY0FWzAQAAAE513o9WGzx4sD755BO9/vrrOnHihAYMGKCHH35YaWlpKi0tddWMAAAAgFM49DnDN954o0aPHq0vvvhCzZs313PPPactW7Y4ezYAAADAqRz6OuasrCwtXrxYy5cvV5MmTTRp0iS1bdvW2bMBAAAATnXeGJ43b56WLFmi06dPKzY2VvPnz1doaKirZgMAAACc6rwxPGnSJDVt2lQtW7bUf//7X02fPv2M60ydOtVpwwEAAADOdN4YHjZsGB+fBgAAgFrrvDH89NNPu2oOAAAAwOUc+jQJAAAAoDYihgEAAGAsYhgAAADGIoYBAABgrEuO4SVLlig7O7s6ZwEAAABcyqFvoDubGTNm6MSJE7r99tv16quvVudMAAAAgEtccgyvXr1aZWVl2rFjR3XOAwAAALiMQ8skfvjhh7Nuv+qqq9SuXbtqHQgAAABwFYdi+KGHHlJMTIzeeecd5eXlOXsmAAAAwCUciuFvvvlGw4cP1/bt29WrVy8NGTJEaWlp+uWXX5w9HwAAAOA0DsWwl5eX7rjjDs2YMUPr1q1TdHS03n77bd16661KSEjQli1bnD0nAAAAUO0u6qPVioqKtGrVKi1btky5ubnq06ePrrvuOo0ePVovvviis2YEAAAAnMKhT5NYs2aN0tLStG7dOrVt21b33Xef7rjjDvn4+EiS/vKXv6hbt24aP368U4cFAAAAqpNDMfzqq68qLi5Ozz33nEJCQs64PDAwUImJidU+HAAAAOBMF4zhiooKtWjRQoMGDZK3t/c5r3ffffdV62AAAACAs11wzbCnp6fWr18vm83minkAAAAAl3HoDXSDBw/WzJkzVVZW5ux5AAAAAJdxaM3w+++/r6NHj+q9995TUFBQlbPEa9ascdZsAAAAgFM5FMPJycnOngMAAABwOYdiuEOHDs6eAwAAAHA5h9YMl5WVacaMGerRo4f+9Kc/qUePHpoxY4ZKS0udPR8AAADgNA4vk9ixY4defPFFNWrUSDk5OZo1a5ZOnTrF5wsDAACgxnIohleuXKm0tDTVr19fknTDDTeoRYsWio2NJYYBAABQYzm0TMKyrIvaDgAAANQEDsVw79699cQTT+jrr79WVlaW1q1bp2HDhik6OtrZ8wEAAABO49AyidGjR+utt97SxIkTlZeXp5CQEPXp00dPPvmks+cDAAAAnMahGPb29taIESM0YsQIZ88DAAAAuIxDMSxJP//8s3744QcVFxdX2d6vX79qHwoAAABwBYdieM6cOZo1a5bCw8Pl6+tr326z2YhhAAAA1FgOxfC7776rjz/+WDfeeKOz5wEAAABcxqFPkwgMDFRYWJizZwEAAABcyqEzw4mJiXrhhRc0ePBgBQcHV7msUaNGThkMAAAAcDaHYrisrEzr169Xenp6le02m027du1yymAAAACAszkUwy+++KKeffZZ3XXXXVXeQAcAAADUZA7FcEVFhe655x55eno6ex4AAADAZRx6A92QIUOUmpoqy7KcPQ8AAADgMg6dGZ43b56OHj2qOXPmKDAwsMpla9asccZcAAAAgNM5FMPJycnOngMAAABwOYdiuEOHDs6eAwAAAHA5h9YMl5aWavr06erRo4fatWsnSfrmm2/0/vvvO3U4AAAAwJkciuGkpCTt2bNHKSkpstlskqQ//vGP+vDDD506HAAAAOBMDi2TWLVqlT7//HP5+fnJw+PXfm7YsKFyc3OdOhwAAADgTA6dGb7qqqtUUVFRZVtBQcEZnywBAAAA1CQOxXDv3r01ZswYHThwQJKUl5eniRMnqk+fPk4dDgAAAHAmh2L4b3/7mxo3bqyYmBgVFhaqV69eCgkJ0bBhw5w9HwAAAOA0Dq0Z9vb2VmJiohITE1VQUKD69evb30gHAAAA1FTnjeGcnJyzbj906JD9/xs1alS9EwEAAAAuct4Y7t69u/0MsGVZZ1xus9m0a9cu50wGAAAAONl5Y/imm27S6dOndffddysmJkYhISGumgsAAABwuvPG8JIlS7Rnzx4tXrxYDzzwgMLDwxUbG6uePXvK19fXVTMCAAAATnHBT5No1qyZxowZo9WrV+uhhx7SmjVr1LlzZ33//feumA8AAABwGoc+Wk2S9u3bp82bN2vbtm1q3ry5AgICnDkXAAAA4HTnXSZx/PhxLVu2TIsXL1ZRUZFiY2P1/vvv8wkSAAAAqBXOG8NdunRR48aNFRsbq1atWkmS9u/fr/3799uv07FjR+dOCAAAADjJeWO4QYMGKikp0cKFC7Vw4cIzLrfZbPryyy+dNhwAAADgTOeN4dWrV7tqDgAAAMDlHH4DHQAAAFDbuDyG33jjDUVERGjPnj2SpG3btikmJka9evXSkCFDlJ+f7+qRAAAAYCiXxvD333+vbdu2KSwsTJJUWVmp0aNHa9y4cfrss88UGRmplJQUV44EAAAAg7kshktLSzVx4kRNmDDBvm3nzp3y8fFRZGSkJGnAgAFauXKlq0YCAACA4c77Brrq9PrrrysmJkaNGze2bzt06FCVzywOCgpSZWWljh8/rsDAQIf3HRzsX62z4tI0aFDP3SPgInC8ah6OWc3DMQOc73KfZy6J4a1bt2rnzp0aNWqUU/afn39KlZXWBa/Hi5JzHTlyslr3x/Fyruo+XhLHzNk4ZjWPM44Zah6eZ87lyPPMw8N2zpOnLonhzZs3KysrSz169JAkHT58WI888ogGDRqknJwc+/UKCgrk4eFxUWeFAQAAgEvlkjXDQ4cO1TfffKPVq1dr9erVuuaaa/TOO+/o0Ucf1enTp5WRkSFJWrBggXr37u2KkQAAAADXrRk+Gw8PD02dOlXjx49XSUmJwsLClJyc7M6RAAAAYBC3xPDvv9mubdu2Wrp0qTvGAAAAgOH4BjoAAAAYixgGAACAsYhhAAAAGIsYBgAAgLGIYQAAABiLGAYAAICxiGEAAAAYixgGAACAsYhhAAAAGIsYBgAAgLGIYQAAABiLGAYAAICxiGEAAAAYixgGAACAsYhhAAAAGIsYBgAAgLGIYQAAABiLGAYAAICxiGEAAAAYixgGAACAsYhhAAAAGIsYBgAAgLGIYQAAABiLGAYAAICxiGEAAAAYixgGAACAsYhhAAAAGIsYBgAAgLGIYQAAABiLGAYAAICxiGEAAAAYixgGAACAsYhhAAAAGIsYBgAAgLGIYQAAABiLGAYAAICxiGEAAAAYixgGAACAsYhhAAAAGIsYBgAAgLGIYQAAABiLGAYAAICxiGEAAAAYixgGAACAsYhhAAAAGIsYBgAAgLGIYQAAABiLGAYAAICxiGEAAAAYixgGAACAsYhhAAAAGIsYBgAAgLGIYQAAABiLGAYAAICxiGEAAAAYixgGAACAsYhhAAAAGIsYBgAAgLGIYQAAABiLGAYAAICxiGEAAAAYixgGAACAsYhhAAAAGIsYBgAAgLGIYQAAABiLGAYAAICxiGEAAAAYixgGAACAsYhhAAAAGIsYBgAAgLGIYQAAABiLGAYAAICxiGEAAAAYixgGAACAsYhhAAAAGIsYBgAAgLGIYQAAABiLGAYAAICxiGEAAAAYixgGAACAsYhhAAAAGIsYBgAAgLG8XHEnx44dU0JCgn766Sd5e3vruuuu08SJExUUFKRt27Zp3LhxKikpUVhYmJKTkxUcHOyKsQAAAGA4l5wZttlsevTRR/XZZ59p6dKlatKkiVJSUlRZWanRo0dr3Lhx+uyzzxQZGamUlBRXjAQAAAC4JoYDAwMVFRVl/3Xr1q2Vk5OjnTt3ysfHR5GRkZKkAQMGaOXKla4YCQAAAHDNMonfq6ys1Icffqju3bvr0KFDatSokf2yoKAgVVZW6vjx4woMDHR4n8HB/s4YFRepQYN67h4BF4HjVfNwzGoejhngfJf7PHN5DL/00kvy8/PTwIED9cUXX1TLPvPzT6my0rrg9XhRcq4jR05W6/44Xs5V3cdL4pg5G8es5nHGMUPNw/PMuRx5nnl42M558tSlMTxlyhTt379fs2fPloeHh0JDQ5WTk2O/vKCgQB4eHhd1VhgAAAC4VC77aLVp06Zp586devPNN+Xt7S1JatmypU6fPq2MjAxJ0oIFC9S7d29XjQQAAADDueTM8N69ezVnzhxdf/31GjBggCSpcePGevPNNzV16lSNHz++ykerAQAAAK7gkhj+4x//qN27d5/1srZt22rp0qWuGAMAAACogm+gAwAAgLGIYQAAABiLGAYAAICxiGEAAAAYixgGAACAsYhhAAAAGIsYBgAAgLGIYQAAABiLGAYAAICxiGEAAAAYixgGAACAsYhhAAAAGIsYBgAAgLGIYQAAABiLGAYAAICxiGEAAAAYixgGAACAsbzcPQAAAHBc0NU+8vT2dvcYtVJFaakKTpS4ewy4GDEMAEAN4untrZyX/+buMWqlRn+fLokYNg3LJAAAAGAsYhgAAADGIoYBAABgLGIYAAAAxiKGAQAAYCxiGAAAAMYihgEAAGAsYhgAAADGIoYBAABgLGIYAAAAxiKGAQAAYCxiGAAAAMYihgEAAGAsYhgAAADGIoYBAABgLGIYAAAAxiKGAQAAYCxiGAAAAMYihgEAAGAsYhgAAADGIoYBAABgLGIYAAAAxiKGAQAAYCxiGAAAAMYihgEAAGAsYhgAAADGIoYBAABgLGIYAAAAxiKGAQAAYCxiGAAAAMYihgEAAGAsYhgAAADGIoYBAABgLGIYAAAAxiKGAQAAYCxiGAAAAMYihgEAAGAsYhgAAADGIoYBAABgLGIYAAAAxiKGAQAAYCxiGAAAAMYihqF5+8cAAA+uSURBVAEAAGAsYhgAAADGIoYBAABgLGIYAAAAxiKGAQAAYCxiGAAAAMYihgEAAGAsYhgAAADGIoYBAABgLGIYAAAAxiKGAQAAYCxiGAAAAMYihgEAAGAsYhgAAADGIoYBAABgLGIYAAAAxiKGAQAAYCxiGAAAAMYihgEAAGAsYhgAAADGIoYBAABgrCsihrOzs9W/f3/16tVL/fv31759+9w9EgAAAAxwRcTw+PHj9eCDD+qzzz7Tgw8+qHHjxrl7JAAAABjAy90D5OfnKzMzU++9954kqW/fvnrppZdUUFCgoKAgh/bh4WFz+P7CGodc0py4sIs5Do76Q1j9at8nfuWM4yVJAdcEOmW/cN4x82nA88xZnHXMPK/mmDmLs46Zh289p+wXjh2z813HZlmWVZ0DXaydO3dqzJgxWrZsmX3bXXfdpeTkZN18881unAwAAAC13RWxTAIAAABwB7fHcGhoqHJzc1VRUSFJqqioUF5enkJDQ908GQAAAGo7t8dwcHCwmjdvrvT0dElSenq6mjdv7vB6YQAAAOBSuX3NsCRlZWVp7NixKiwsVEBAgKZMmaIbbrjB3WMBAACglrsiYhgAAABwB7cvkwAAAADchRgGAACAsYhhAAAAGIsYBgAAgLGIYRht1apVio6OVlxcnH788ceLvv2uXbu0fPnyKtsiIiJUVFRUXSPiMlzMsfj9dS/39wUuXmxsrE6fPu3uMXAF++c//6n8/Hx3j1HjOfJcGzRokL766qsztn/yyScaPny4s0ZzG2IYRluwYIGGDx+uJUuWXNLH+e3atUsrV66s9rnKy8urfZ9w3OX+vsDFS0tLk6+vr7vHQDX47Uu0qtvcuXOJ4WrAc+1MXu4ewGRbt27V1KlT7WejEhIStGrVKm3YsEHe3t7y8/PTggUL9Pzzz6tZs2YaPHiwJGnPnj164okntGrVKtlsNnc+hBotKSlJW7ZsUXZ2tj744AONGjVKKSkp9uMxfPhw3X777SovL9fjjz+uY8eOqaSkRLfccotefPFFFRUVacaMGTp16pRiY2PVvn17/f3vf5ckzZs3T1988YWOHz+uhIQE9erVS5K0ffv2s97HwYMHde+99+qee+7Rhg0bdP/99+uBBx5wzw+mljnXsfj88881bdo0+fj4qGfPnvbr/+/vi3nz5rlrdKNERERoy5YtSklJOeM1UJKWLFmid955R5J07bXXauLEiQoODtYnn3yi9PR0BQQEaO/evapXr55mzpypBg0auPPh1FgREREaNmyYvvzyS50+fVrPPvus/TkzcuRIZWdnq6ysTNdee62SkpJ09dVXa+PGjXr55ZfVsmVLZWZm6plnnlGLFi2UkJCgI0eOKCwsTB4eHurSpYsGDhyoQYMGaciQIerWrZskVfl1Xl6eXn75ZeXk5KikpER9+vRRfHy83nrrLeXl5Wn48OHy8fHRq6++qhtvvNGdP6or2vmOY0REhP7zn/+obt26ysrK0qRJk3TkyBFJ0pAhQ3T33XdX2deyZcv07rvv6s033zzjfhYvXqwPPvhAFRUV8vf314QJE2rmCQQLbnHs2DHr1ltvtbZs2WJZlmWVl5db33//vdW7d2+roqLCsizLOn78uGVZlrV582YrLi7OftvJkydbM2fOdP3QtdDAgQOt1atXWydOnLBiY2Ot3Nxcy7IsKzc31+rSpYt14sQJq7Ky0iooKLAsy7IqKyut0aNHWx988IFlWZb18ccfW08//XSVfTZr1syaN2+eZVmWlZGRYXXu3NmyLOu893HgwAGrWbNm1rJly1zyuE1xrmNx5MgRq0OHDlZWVpZlWZaVmppqNWvWzDp16pRlWf//9wVcp1mzZtbmzZvP+hq4e/duq1OnTvbnzvTp060RI0ZYlvXrczAyMtLKycmxLMuynn/+eWvatGlueAS1Q7Nmzex/vmRlZVkdOnSwjh49almWZeXn59uvN23aNCs5OdmyLMvasGGDddNNN1n/+c9/7Jc/9dRT9v389NNPVuvWre3Pxf99fv3+1w899JC1adMmy7Isq6SkxHrggQesb775xrIsy+rWrZu1e/dupzzu2uZ8x/G317qysjKrZ8+e1vLly+23++3Put+OSWpqqjV48GCrsLDQsqyqf+Zt3rzZeuyxx6ySkhLLsixrzZo1Vv/+/V32GKsTZ4bdZNu2bQoPD1fbtm0lSZ6enmrSpInKy8v1/PPPKyoqyv635sjISBUVFWn37t0KDw9Xenq6/vWvf7lz/Fpn69atOnjwoB577DH7NpvNpv3796tFixZ69913tW7dOlVWVurEiRMX/Cemu+66S5LUunVr5eXlqaSk5Lz3Ub9+ffn4+Cg6Oto5D9BgZzsW27dvV4sWLexnMPr376+UlBR3jgn9esbqbK+BGzduVNeuXRUSEiJJGjBggGJjY+23a9u2rUJDQyVJrVq10r///W/XD1+L3HfffZKkG264QS1atNC2bdvUo0cPpaWlaenSpSorK1NxcbGuv/56+22uu+46tWnTxv7rjRs32v+lrEmTJurYseMF77e4uFibNm1SQUGBfVtRUZGysrLUqVOnanp05jjXcfxNdna2ysvLq/y5U79+ffv/z5w5U40aNVJqaqq8vb3P2P/q1av1ww8/2O/HsiwVFhY66+E4FTF8BalXr56WLVumjRs36t///rdSUlK0ePFiNWjQQHFxcVq8eLE6dOig8PBwhYWFuXvcWsWyLEVERGj+/PlnXLZkyRJt2bJF8+fPl7+/v2bPnq19+/add38+Pj6Sfv1LjvTrGuDz3cfBgwdVp04dlr04wdmOBa5MHh4eZ30NvJDfjrH063F21ppVk2VkZOjDDz/UggULFBQUpKVLl2rhwoX2y/38/Bzel6enpyorK+2/LikpkSRVVlbKZrPpo48+0lVXXVV9w+OStG7dWuvXr1dOTk6Vv/j8xrIs3XvvvRoxYoTrh6tmvIHOTVq3bq2srCxt3bpV0q9vOCgoKNAvv/yiLl26aNSoUapXr54OHDggSYqLi1N6eroWLVqke+65x52j10pt2rTR/v37tWHDBvu2HTt2yLIsnTx5UvXr15e/v79Onjyp9PR0+3V+23a59wHXat26tTIzM+1/qVm0aJF7B4IkqbCw8KyvgVFRUVq7dq19XePChQt16623unna2uvjjz+WJO3bt0+ZmZlq3bq1CgsL5e/vr8DAQJWWltqvcy5//vOf7dc5cOCAvv32W/tl1157rb777jtJ0n//+1/t2rVL0q+vp+3atVNqaqr9uocOHbIf97p16zr8eouzH8ffa9q0qby8vLRixQr7tmPHjtn/v0uXLpowYYKGDh2qvXv3nrH/7t27Ky0tTYcPH5b0a8fs3LnTGQ/F6Tgz7CaBgYGaOXOmXnnlFRUXF8vDw0N9+/bVihUrVF5eroqKCt12223237yNGjXSjTfeqE2bNmnatGlunr72ufrqqzVr1iwlJycrKSlJZWVlatKkiWbPnq24uDh9+eWX6t27t4KDg9WuXTv7mYyOHTvq3XffVUxMjDp06GD/Z8GLvQ+4VnBwsF566SXFx8fL19e3yhvo4D45OTmaNGnSGa+BHh4eGjVqlIYMGSLp1392nzhxopunrb0qKioUFxenX375xf5GxS5duujTTz9Vr169VL9+fUVGRtqD9myef/55JSQkKD09XY0bN1ZUVJT9sscee0wjRozQl19+qRYtWqhFixb2y1JSUjR58mT169dP0q8BPGnSJDVo0EB//etflZiYKF9fX95A54CzHcff8/Ly0qxZszRx4kTNmjVLNptNQ4YMUVxcnP06HTt21OTJk/XEE09oxowZVW7fvn17PfPMM3riiSdUUVGhsrIy9e7dWy1btnTJ46tONovTUgAAN8rPz1e3bt20fft2lgq52e8/aaA6jR07Vi1bttTAgQOrdb84O2cdx9qKZRIAALfJzMzU/fffr2HDhhHCANyCM8MAAAAwFmeGAQAAYCxiGAAAAMYihgEAAGAsYhgAXCAnJ0dt2rSxfyHEoEGD+HxjALgC8DnDAFCNunfvrqNHj9q/8U6SVq5cqUaNGtm/ZOdyHDx4UD169KjyjV9NmjTRp59+etn7vlzdu3fXyy+/zBdiAKhRiGEAqGazZ892ehBu3rxZXl6X/hJeXl5+WbcHgNqCZRIA4AIHDx5URESEysvLz3r5Rx99pOjoaLVv316PPPKIfv7554u+j8rKSs2aNUvdunVTx44dlZCQYP/62t/uf9GiRbr99ts1ePBg+7aPP/5YXbt2Vfv27fXhhx9qx44d6tevnyIjI6t809tPP/2kv/71r4qKilJUVJRGjhypwsJCSdLo0aOVk5Oj+Ph4tWnTRv/4xz8u4acEAK5HDAOAm61atUpz5szRG2+8oW+//Vbt2rXTyJEjL3o/n3zyiRYvXqy5c+dq1apVKi4uPuNrizdv3qzly5frnXfesW/bvn27Pv/8c02fPl1JSUmaPXu2/vnPf2rZsmVasWKFNm3aJEmyLEuPP/64vv76a61YsUKHDx/WzJkzJUnJyclq1KiRZs+era1bt+qxxx67jJ8IALgOMQwA1WzYsGGKjIxUZGSknnzyyQtef8GCBRo6dKjCw8Pl5eWl+Ph47dq167xnh//85z/b7+O3sF26dKkeeughNWnSRHXr1tWzzz6r5cuXVzkb/fTTT8vPz0++vr5V5vXx8VHnzp3l5+envn37Kjg4WA0bNlRkZKQyMzMlSdddd506deokb29vBQUF6eGHH9bmzZsv9ccEAFcEFowBQDV78803L2rNcE5OjpKSkjRlyhT7NsuylJubq7CwsLPeZsOGDWes+c3Ly6ty/bCwMJWXlys/P9++7ZprrjljX8HBwfb/9/HxOePXxcXFkqSjR49q0qRJysjIUFFRkSzLUkBAgMOPEwCuRMQwALhZaGio4uPjFRMTc1n7CQkJqXI2OScnR15eXgoODtbhw4clSTab7ZL3P23aNNlsNi1dulSBgYFatWrVGcswAKCmYZkEALjZgAEDlJqaqr1790qSTp48qRUrVlz0fvr27av/+7//04EDB1RUVKTp06crOjq62j41oqioSH5+fqpXr55yc3P19ttvV7n8D3/4gw4cOFAt9wUArkIMA4Cb3XnnnXr00Uf17LPPqm3bturbt6/WrVt30fu59957FRMTo4EDB6pHjx7y9vbWCy+8UG1zPvXUU8rMzFRkZKSGDh2qnj17Vrl86NCheuutt6qsYwaAK53NsizL3UMAAAAA7sCZYQAAABiLGAYAAICxiGEAAAAYixgGAACAsYhhAAAAGIsYBgAAgLGIYQAAABiLGAYAAICxiGEAAAAY6/8BDAS91RZavqwAAAAASUVORK5CYII='>\n<img src='data:image/png;base64,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'>\n<img src='data:image/png;base64,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'>\n<img src='data:image/png;base64,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'>",
   "metadata": {
    "tags": [],
    "cell_id": "00006-e229ce39-531d-4678-8919-e9914cc217fd",
    "deepnote_cell_type": "markdown"
   }
  },
  {
   "cell_type": "markdown",
   "source": "<a style='text-decoration:none;line-height:16px;display:flex;color:#5B5B62;padding:10px;justify-content:end;' href='https://deepnote.com?utm_source=created-in-deepnote-cell&projectId=40d7a071-7e6a-4668-9914-a7e81441c111' target=\"_blank\">\n<img alt='Created in deepnote.com' style='display:inline;max-height:16px;margin:0px;margin-right:7.5px;' src='data:image/svg+xml;base64,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' > </img>\nCreated in <span style='font-weight:600;margin-left:4px;'>Deepnote</span></a>",
   "metadata": {
    "tags": [],
    "created_in_deepnote_cell": true,
    "deepnote_cell_type": "markdown"
   }
  }
 ],
 "nbformat": 4,
 "nbformat_minor": 2,
 "metadata": {
  "orig_nbformat": 2,
  "deepnote": {
   "is_reactive": false
  },
  "deepnote_notebook_id": "d4ce697c-ec06-4c34-ab61-58e19dd9b7b5",
  "deepnote_execution_queue": []
 }
}