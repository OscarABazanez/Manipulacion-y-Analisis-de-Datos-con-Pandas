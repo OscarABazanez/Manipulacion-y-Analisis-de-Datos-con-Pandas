{
 "cells": [
  {
   "cell_type": "code",
   "metadata": {
    "tags": [],
    "cell_id": "00000-88399777-724a-4491-a044-e69144ee50b7",
    "deepnote_to_be_reexecuted": false,
    "source_hash": "aac84756",
    "execution_start": 1625252507771,
    "execution_millis": 44,
    "deepnote_cell_type": "code"
   },
   "source": "import pandas as pd\nimport numpy as np\nimport seaborn as sns\n\npd.options.display.float_format = '{:,.3f}'.format\ndf = sns.load_dataset('tips')\ndf",
   "execution_count": 22,
   "outputs": [
    {
     "output_type": "execute_result",
     "execution_count": 22,
     "data": {
      "application/vnd.deepnote.dataframe.v2+json": {
       "row_count": 244,
       "column_count": 7,
       "columns": [
        {
         "name": "total_bill",
         "dtype": "float64",
         "stats": {
          "unique_count": 229,
          "nan_count": 0,
          "min": "3.07",
          "max": "50.81",
          "histogram": [
           {
            "bin_start": 3.07,
            "bin_end": 7.843999999999999,
            "count": 7
           },
           {
            "bin_start": 7.843999999999999,
            "bin_end": 12.618,
            "count": 42
           },
           {
            "bin_start": 12.618,
            "bin_end": 17.392,
            "count": 68
           },
           {
            "bin_start": 17.392,
            "bin_end": 22.166,
            "count": 51
           },
           {
            "bin_start": 22.166,
            "bin_end": 26.94,
            "count": 31
           },
           {
            "bin_start": 26.94,
            "bin_end": 31.714,
            "count": 19
           },
           {
            "bin_start": 31.714,
            "bin_end": 36.488,
            "count": 12
           },
           {
            "bin_start": 36.488,
            "bin_end": 41.262,
            "count": 7
           },
           {
            "bin_start": 41.262,
            "bin_end": 46.036,
            "count": 3
           },
           {
            "bin_start": 46.036,
            "bin_end": 50.81,
            "count": 4
           }
          ]
         }
        },
        {
         "name": "tip",
         "dtype": "float64",
         "stats": {
          "unique_count": 123,
          "nan_count": 0,
          "min": "1.0",
          "max": "10.0",
          "histogram": [
           {
            "bin_start": 1,
            "bin_end": 1.9,
            "count": 41
           },
           {
            "bin_start": 1.9,
            "bin_end": 2.8,
            "count": 79
           },
           {
            "bin_start": 2.8,
            "bin_end": 3.7,
            "count": 66
           },
           {
            "bin_start": 3.7,
            "bin_end": 4.6,
            "count": 27
           },
           {
            "bin_start": 4.6,
            "bin_end": 5.5,
            "count": 19
           },
           {
            "bin_start": 5.5,
            "bin_end": 6.4,
            "count": 5
           },
           {
            "bin_start": 6.4,
            "bin_end": 7.3,
            "count": 4
           },
           {
            "bin_start": 7.3,
            "bin_end": 8.2,
            "count": 1
           },
           {
            "bin_start": 8.2,
            "bin_end": 9.1,
            "count": 1
           },
           {
            "bin_start": 9.1,
            "bin_end": 10,
            "count": 1
           }
          ]
         }
        },
        {
         "name": "sex",
         "dtype": "category",
         "stats": {
          "unique_count": 2,
          "nan_count": 0,
          "categories": [
           {
            "name": "Male",
            "count": 157
           },
           {
            "name": "Female",
            "count": 87
           }
          ]
         }
        },
        {
         "name": "smoker",
         "dtype": "category",
         "stats": {
          "unique_count": 2,
          "nan_count": 0,
          "categories": [
           {
            "name": "No",
            "count": 151
           },
           {
            "name": "Yes",
            "count": 93
           }
          ]
         }
        },
        {
         "name": "day",
         "dtype": "category",
         "stats": {
          "unique_count": 4,
          "nan_count": 0,
          "categories": [
           {
            "name": "Sat",
            "count": 87
           },
           {
            "name": "Sun",
            "count": 76
           },
           {
            "name": "2 others",
            "count": 81
           }
          ]
         }
        },
        {
         "name": "time",
         "dtype": "category",
         "stats": {
          "unique_count": 2,
          "nan_count": 0,
          "categories": [
           {
            "name": "Dinner",
            "count": 176
           },
           {
            "name": "Lunch",
            "count": 68
           }
          ]
         }
        },
        {
         "name": "size",
         "dtype": "int64",
         "stats": {
          "unique_count": 6,
          "nan_count": 0,
          "min": "1",
          "max": "6",
          "histogram": [
           {
            "bin_start": 1,
            "bin_end": 1.5,
            "count": 4
           },
           {
            "bin_start": 1.5,
            "bin_end": 2,
            "count": 0
           },
           {
            "bin_start": 2,
            "bin_end": 2.5,
            "count": 156
           },
           {
            "bin_start": 2.5,
            "bin_end": 3,
            "count": 0
           },
           {
            "bin_start": 3,
            "bin_end": 3.5,
            "count": 38
           },
           {
            "bin_start": 3.5,
            "bin_end": 4,
            "count": 0
           },
           {
            "bin_start": 4,
            "bin_end": 4.5,
            "count": 37
           },
           {
            "bin_start": 4.5,
            "bin_end": 5,
            "count": 0
           },
           {
            "bin_start": 5,
            "bin_end": 5.5,
            "count": 5
           },
           {
            "bin_start": 5.5,
            "bin_end": 6,
            "count": 4
           }
          ]
         }
        },
        {
         "name": "_deepnote_index_column",
         "dtype": "int64"
        }
       ],
       "rows_top": [
        {
         "total_bill": 16.99,
         "tip": 1.01,
         "sex": "Female",
         "smoker": "No",
         "day": "Sun",
         "time": "Dinner",
         "size": 2,
         "_deepnote_index_column": 0
        },
        {
         "total_bill": 10.34,
         "tip": 1.66,
         "sex": "Male",
         "smoker": "No",
         "day": "Sun",
         "time": "Dinner",
         "size": 3,
         "_deepnote_index_column": 1
        },
        {
         "total_bill": 21.01,
         "tip": 3.5,
         "sex": "Male",
         "smoker": "No",
         "day": "Sun",
         "time": "Dinner",
         "size": 3,
         "_deepnote_index_column": 2
        },
        {
         "total_bill": 23.68,
         "tip": 3.31,
         "sex": "Male",
         "smoker": "No",
         "day": "Sun",
         "time": "Dinner",
         "size": 2,
         "_deepnote_index_column": 3
        },
        {
         "total_bill": 24.59,
         "tip": 3.61,
         "sex": "Female",
         "smoker": "No",
         "day": "Sun",
         "time": "Dinner",
         "size": 4,
         "_deepnote_index_column": 4
        },
        {
         "total_bill": 25.29,
         "tip": 4.71,
         "sex": "Male",
         "smoker": "No",
         "day": "Sun",
         "time": "Dinner",
         "size": 4,
         "_deepnote_index_column": 5
        },
        {
         "total_bill": 8.77,
         "tip": 2,
         "sex": "Male",
         "smoker": "No",
         "day": "Sun",
         "time": "Dinner",
         "size": 2,
         "_deepnote_index_column": 6
        },
        {
         "total_bill": 26.88,
         "tip": 3.12,
         "sex": "Male",
         "smoker": "No",
         "day": "Sun",
         "time": "Dinner",
         "size": 4,
         "_deepnote_index_column": 7
        },
        {
         "total_bill": 15.04,
         "tip": 1.96,
         "sex": "Male",
         "smoker": "No",
         "day": "Sun",
         "time": "Dinner",
         "size": 2,
         "_deepnote_index_column": 8
        },
        {
         "total_bill": 14.78,
         "tip": 3.23,
         "sex": "Male",
         "smoker": "No",
         "day": "Sun",
         "time": "Dinner",
         "size": 2,
         "_deepnote_index_column": 9
        },
        {
         "total_bill": 10.27,
         "tip": 1.71,
         "sex": "Male",
         "smoker": "No",
         "day": "Sun",
         "time": "Dinner",
         "size": 2,
         "_deepnote_index_column": 10
        },
        {
         "total_bill": 35.26,
         "tip": 5,
         "sex": "Female",
         "smoker": "No",
         "day": "Sun",
         "time": "Dinner",
         "size": 4,
         "_deepnote_index_column": 11
        },
        {
         "total_bill": 15.42,
         "tip": 1.57,
         "sex": "Male",
         "smoker": "No",
         "day": "Sun",
         "time": "Dinner",
         "size": 2,
         "_deepnote_index_column": 12
        },
        {
         "total_bill": 18.43,
         "tip": 3,
         "sex": "Male",
         "smoker": "No",
         "day": "Sun",
         "time": "Dinner",
         "size": 4,
         "_deepnote_index_column": 13
        },
        {
         "total_bill": 14.83,
         "tip": 3.02,
         "sex": "Female",
         "smoker": "No",
         "day": "Sun",
         "time": "Dinner",
         "size": 2,
         "_deepnote_index_column": 14
        },
        {
         "total_bill": 21.58,
         "tip": 3.92,
         "sex": "Male",
         "smoker": "No",
         "day": "Sun",
         "time": "Dinner",
         "size": 2,
         "_deepnote_index_column": 15
        },
        {
         "total_bill": 10.33,
         "tip": 1.67,
         "sex": "Female",
         "smoker": "No",
         "day": "Sun",
         "time": "Dinner",
         "size": 3,
         "_deepnote_index_column": 16
        },
        {
         "total_bill": 16.29,
         "tip": 3.71,
         "sex": "Male",
         "smoker": "No",
         "day": "Sun",
         "time": "Dinner",
         "size": 3,
         "_deepnote_index_column": 17
        },
        {
         "total_bill": 16.97,
         "tip": 3.5,
         "sex": "Female",
         "smoker": "No",
         "day": "Sun",
         "time": "Dinner",
         "size": 3,
         "_deepnote_index_column": 18
        },
        {
         "total_bill": 20.65,
         "tip": 3.35,
         "sex": "Male",
         "smoker": "No",
         "day": "Sat",
         "time": "Dinner",
         "size": 3,
         "_deepnote_index_column": 19
        },
        {
         "total_bill": 17.92,
         "tip": 4.08,
         "sex": "Male",
         "smoker": "No",
         "day": "Sat",
         "time": "Dinner",
         "size": 2,
         "_deepnote_index_column": 20
        },
        {
         "total_bill": 20.29,
         "tip": 2.75,
         "sex": "Female",
         "smoker": "No",
         "day": "Sat",
         "time": "Dinner",
         "size": 2,
         "_deepnote_index_column": 21
        },
        {
         "total_bill": 15.77,
         "tip": 2.23,
         "sex": "Female",
         "smoker": "No",
         "day": "Sat",
         "time": "Dinner",
         "size": 2,
         "_deepnote_index_column": 22
        },
        {
         "total_bill": 39.42,
         "tip": 7.58,
         "sex": "Male",
         "smoker": "No",
         "day": "Sat",
         "time": "Dinner",
         "size": 4,
         "_deepnote_index_column": 23
        },
        {
         "total_bill": 19.82,
         "tip": 3.18,
         "sex": "Male",
         "smoker": "No",
         "day": "Sat",
         "time": "Dinner",
         "size": 2,
         "_deepnote_index_column": 24
        },
        {
         "total_bill": 17.81,
         "tip": 2.34,
         "sex": "Male",
         "smoker": "No",
         "day": "Sat",
         "time": "Dinner",
         "size": 4,
         "_deepnote_index_column": 25
        },
        {
         "total_bill": 13.37,
         "tip": 2,
         "sex": "Male",
         "smoker": "No",
         "day": "Sat",
         "time": "Dinner",
         "size": 2,
         "_deepnote_index_column": 26
        },
        {
         "total_bill": 12.69,
         "tip": 2,
         "sex": "Male",
         "smoker": "No",
         "day": "Sat",
         "time": "Dinner",
         "size": 2,
         "_deepnote_index_column": 27
        },
        {
         "total_bill": 21.7,
         "tip": 4.3,
         "sex": "Male",
         "smoker": "No",
         "day": "Sat",
         "time": "Dinner",
         "size": 2,
         "_deepnote_index_column": 28
        },
        {
         "total_bill": 19.65,
         "tip": 3,
         "sex": "Female",
         "smoker": "No",
         "day": "Sat",
         "time": "Dinner",
         "size": 2,
         "_deepnote_index_column": 29
        },
        {
         "total_bill": 9.55,
         "tip": 1.45,
         "sex": "Male",
         "smoker": "No",
         "day": "Sat",
         "time": "Dinner",
         "size": 2,
         "_deepnote_index_column": 30
        },
        {
         "total_bill": 18.35,
         "tip": 2.5,
         "sex": "Male",
         "smoker": "No",
         "day": "Sat",
         "time": "Dinner",
         "size": 4,
         "_deepnote_index_column": 31
        },
        {
         "total_bill": 15.06,
         "tip": 3,
         "sex": "Female",
         "smoker": "No",
         "day": "Sat",
         "time": "Dinner",
         "size": 2,
         "_deepnote_index_column": 32
        },
        {
         "total_bill": 20.69,
         "tip": 2.45,
         "sex": "Female",
         "smoker": "No",
         "day": "Sat",
         "time": "Dinner",
         "size": 4,
         "_deepnote_index_column": 33
        },
        {
         "total_bill": 17.78,
         "tip": 3.27,
         "sex": "Male",
         "smoker": "No",
         "day": "Sat",
         "time": "Dinner",
         "size": 2,
         "_deepnote_index_column": 34
        },
        {
         "total_bill": 24.06,
         "tip": 3.6,
         "sex": "Male",
         "smoker": "No",
         "day": "Sat",
         "time": "Dinner",
         "size": 3,
         "_deepnote_index_column": 35
        },
        {
         "total_bill": 16.31,
         "tip": 2,
         "sex": "Male",
         "smoker": "No",
         "day": "Sat",
         "time": "Dinner",
         "size": 3,
         "_deepnote_index_column": 36
        },
        {
         "total_bill": 16.93,
         "tip": 3.07,
         "sex": "Female",
         "smoker": "No",
         "day": "Sat",
         "time": "Dinner",
         "size": 3,
         "_deepnote_index_column": 37
        },
        {
         "total_bill": 18.69,
         "tip": 2.31,
         "sex": "Male",
         "smoker": "No",
         "day": "Sat",
         "time": "Dinner",
         "size": 3,
         "_deepnote_index_column": 38
        },
        {
         "total_bill": 31.27,
         "tip": 5,
         "sex": "Male",
         "smoker": "No",
         "day": "Sat",
         "time": "Dinner",
         "size": 3,
         "_deepnote_index_column": 39
        },
        {
         "total_bill": 16.04,
         "tip": 2.24,
         "sex": "Male",
         "smoker": "No",
         "day": "Sat",
         "time": "Dinner",
         "size": 3,
         "_deepnote_index_column": 40
        },
        {
         "total_bill": 17.46,
         "tip": 2.54,
         "sex": "Male",
         "smoker": "No",
         "day": "Sun",
         "time": "Dinner",
         "size": 2,
         "_deepnote_index_column": 41
        },
        {
         "total_bill": 13.94,
         "tip": 3.06,
         "sex": "Male",
         "smoker": "No",
         "day": "Sun",
         "time": "Dinner",
         "size": 2,
         "_deepnote_index_column": 42
        },
        {
         "total_bill": 9.68,
         "tip": 1.32,
         "sex": "Male",
         "smoker": "No",
         "day": "Sun",
         "time": "Dinner",
         "size": 2,
         "_deepnote_index_column": 43
        },
        {
         "total_bill": 30.4,
         "tip": 5.6,
         "sex": "Male",
         "smoker": "No",
         "day": "Sun",
         "time": "Dinner",
         "size": 4,
         "_deepnote_index_column": 44
        },
        {
         "total_bill": 18.29,
         "tip": 3,
         "sex": "Male",
         "smoker": "No",
         "day": "Sun",
         "time": "Dinner",
         "size": 2,
         "_deepnote_index_column": 45
        },
        {
         "total_bill": 22.23,
         "tip": 5,
         "sex": "Male",
         "smoker": "No",
         "day": "Sun",
         "time": "Dinner",
         "size": 2,
         "_deepnote_index_column": 46
        },
        {
         "total_bill": 32.4,
         "tip": 6,
         "sex": "Male",
         "smoker": "No",
         "day": "Sun",
         "time": "Dinner",
         "size": 4,
         "_deepnote_index_column": 47
        },
        {
         "total_bill": 28.55,
         "tip": 2.05,
         "sex": "Male",
         "smoker": "No",
         "day": "Sun",
         "time": "Dinner",
         "size": 3,
         "_deepnote_index_column": 48
        },
        {
         "total_bill": 18.04,
         "tip": 3,
         "sex": "Male",
         "smoker": "No",
         "day": "Sun",
         "time": "Dinner",
         "size": 2,
         "_deepnote_index_column": 49
        },
        {
         "total_bill": 12.54,
         "tip": 2.5,
         "sex": "Male",
         "smoker": "No",
         "day": "Sun",
         "time": "Dinner",
         "size": 2,
         "_deepnote_index_column": 50
        },
        {
         "total_bill": 10.29,
         "tip": 2.6,
         "sex": "Female",
         "smoker": "No",
         "day": "Sun",
         "time": "Dinner",
         "size": 2,
         "_deepnote_index_column": 51
        },
        {
         "total_bill": 34.81,
         "tip": 5.2,
         "sex": "Female",
         "smoker": "No",
         "day": "Sun",
         "time": "Dinner",
         "size": 4,
         "_deepnote_index_column": 52
        },
        {
         "total_bill": 9.94,
         "tip": 1.56,
         "sex": "Male",
         "smoker": "No",
         "day": "Sun",
         "time": "Dinner",
         "size": 2,
         "_deepnote_index_column": 53
        },
        {
         "total_bill": 25.56,
         "tip": 4.34,
         "sex": "Male",
         "smoker": "No",
         "day": "Sun",
         "time": "Dinner",
         "size": 4,
         "_deepnote_index_column": 54
        },
        {
         "total_bill": 19.49,
         "tip": 3.51,
         "sex": "Male",
         "smoker": "No",
         "day": "Sun",
         "time": "Dinner",
         "size": 2,
         "_deepnote_index_column": 55
        },
        {
         "total_bill": 38.01,
         "tip": 3,
         "sex": "Male",
         "smoker": "Yes",
         "day": "Sat",
         "time": "Dinner",
         "size": 4,
         "_deepnote_index_column": 56
        },
        {
         "total_bill": 26.41,
         "tip": 1.5,
         "sex": "Female",
         "smoker": "No",
         "day": "Sat",
         "time": "Dinner",
         "size": 2,
         "_deepnote_index_column": 57
        },
        {
         "total_bill": 11.24,
         "tip": 1.76,
         "sex": "Male",
         "smoker": "Yes",
         "day": "Sat",
         "time": "Dinner",
         "size": 2,
         "_deepnote_index_column": 58
        },
        {
         "total_bill": 48.27,
         "tip": 6.73,
         "sex": "Male",
         "smoker": "No",
         "day": "Sat",
         "time": "Dinner",
         "size": 4,
         "_deepnote_index_column": 59
        },
        {
         "total_bill": 20.29,
         "tip": 3.21,
         "sex": "Male",
         "smoker": "Yes",
         "day": "Sat",
         "time": "Dinner",
         "size": 2,
         "_deepnote_index_column": 60
        },
        {
         "total_bill": 13.81,
         "tip": 2,
         "sex": "Male",
         "smoker": "Yes",
         "day": "Sat",
         "time": "Dinner",
         "size": 2,
         "_deepnote_index_column": 61
        },
        {
         "total_bill": 11.02,
         "tip": 1.98,
         "sex": "Male",
         "smoker": "Yes",
         "day": "Sat",
         "time": "Dinner",
         "size": 2,
         "_deepnote_index_column": 62
        },
        {
         "total_bill": 18.29,
         "tip": 3.76,
         "sex": "Male",
         "smoker": "Yes",
         "day": "Sat",
         "time": "Dinner",
         "size": 4,
         "_deepnote_index_column": 63
        },
        {
         "total_bill": 17.59,
         "tip": 2.64,
         "sex": "Male",
         "smoker": "No",
         "day": "Sat",
         "time": "Dinner",
         "size": 3,
         "_deepnote_index_column": 64
        },
        {
         "total_bill": 20.08,
         "tip": 3.15,
         "sex": "Male",
         "smoker": "No",
         "day": "Sat",
         "time": "Dinner",
         "size": 3,
         "_deepnote_index_column": 65
        },
        {
         "total_bill": 16.45,
         "tip": 2.47,
         "sex": "Female",
         "smoker": "No",
         "day": "Sat",
         "time": "Dinner",
         "size": 2,
         "_deepnote_index_column": 66
        },
        {
         "total_bill": 3.07,
         "tip": 1,
         "sex": "Female",
         "smoker": "Yes",
         "day": "Sat",
         "time": "Dinner",
         "size": 1,
         "_deepnote_index_column": 67
        },
        {
         "total_bill": 20.23,
         "tip": 2.01,
         "sex": "Male",
         "smoker": "No",
         "day": "Sat",
         "time": "Dinner",
         "size": 2,
         "_deepnote_index_column": 68
        },
        {
         "total_bill": 15.01,
         "tip": 2.09,
         "sex": "Male",
         "smoker": "Yes",
         "day": "Sat",
         "time": "Dinner",
         "size": 2,
         "_deepnote_index_column": 69
        },
        {
         "total_bill": 12.02,
         "tip": 1.97,
         "sex": "Male",
         "smoker": "No",
         "day": "Sat",
         "time": "Dinner",
         "size": 2,
         "_deepnote_index_column": 70
        }
       ],
       "rows_bottom": [
        {
         "total_bill": 31.85,
         "tip": 3.18,
         "sex": "Male",
         "smoker": "Yes",
         "day": "Sun",
         "time": "Dinner",
         "size": 2,
         "_deepnote_index_column": 173
        },
        {
         "total_bill": 16.82,
         "tip": 4,
         "sex": "Male",
         "smoker": "Yes",
         "day": "Sun",
         "time": "Dinner",
         "size": 2,
         "_deepnote_index_column": 174
        },
        {
         "total_bill": 32.9,
         "tip": 3.11,
         "sex": "Male",
         "smoker": "Yes",
         "day": "Sun",
         "time": "Dinner",
         "size": 2,
         "_deepnote_index_column": 175
        },
        {
         "total_bill": 17.89,
         "tip": 2,
         "sex": "Male",
         "smoker": "Yes",
         "day": "Sun",
         "time": "Dinner",
         "size": 2,
         "_deepnote_index_column": 176
        },
        {
         "total_bill": 14.48,
         "tip": 2,
         "sex": "Male",
         "smoker": "Yes",
         "day": "Sun",
         "time": "Dinner",
         "size": 2,
         "_deepnote_index_column": 177
        },
        {
         "total_bill": 9.6,
         "tip": 4,
         "sex": "Female",
         "smoker": "Yes",
         "day": "Sun",
         "time": "Dinner",
         "size": 2,
         "_deepnote_index_column": 178
        },
        {
         "total_bill": 34.63,
         "tip": 3.55,
         "sex": "Male",
         "smoker": "Yes",
         "day": "Sun",
         "time": "Dinner",
         "size": 2,
         "_deepnote_index_column": 179
        },
        {
         "total_bill": 34.65,
         "tip": 3.68,
         "sex": "Male",
         "smoker": "Yes",
         "day": "Sun",
         "time": "Dinner",
         "size": 4,
         "_deepnote_index_column": 180
        },
        {
         "total_bill": 23.33,
         "tip": 5.65,
         "sex": "Male",
         "smoker": "Yes",
         "day": "Sun",
         "time": "Dinner",
         "size": 2,
         "_deepnote_index_column": 181
        },
        {
         "total_bill": 45.35,
         "tip": 3.5,
         "sex": "Male",
         "smoker": "Yes",
         "day": "Sun",
         "time": "Dinner",
         "size": 3,
         "_deepnote_index_column": 182
        },
        {
         "total_bill": 23.17,
         "tip": 6.5,
         "sex": "Male",
         "smoker": "Yes",
         "day": "Sun",
         "time": "Dinner",
         "size": 4,
         "_deepnote_index_column": 183
        },
        {
         "total_bill": 40.55,
         "tip": 3,
         "sex": "Male",
         "smoker": "Yes",
         "day": "Sun",
         "time": "Dinner",
         "size": 2,
         "_deepnote_index_column": 184
        },
        {
         "total_bill": 20.69,
         "tip": 5,
         "sex": "Male",
         "smoker": "No",
         "day": "Sun",
         "time": "Dinner",
         "size": 5,
         "_deepnote_index_column": 185
        },
        {
         "total_bill": 20.9,
         "tip": 3.5,
         "sex": "Female",
         "smoker": "Yes",
         "day": "Sun",
         "time": "Dinner",
         "size": 3,
         "_deepnote_index_column": 186
        },
        {
         "total_bill": 30.46,
         "tip": 2,
         "sex": "Male",
         "smoker": "Yes",
         "day": "Sun",
         "time": "Dinner",
         "size": 5,
         "_deepnote_index_column": 187
        },
        {
         "total_bill": 18.15,
         "tip": 3.5,
         "sex": "Female",
         "smoker": "Yes",
         "day": "Sun",
         "time": "Dinner",
         "size": 3,
         "_deepnote_index_column": 188
        },
        {
         "total_bill": 23.1,
         "tip": 4,
         "sex": "Male",
         "smoker": "Yes",
         "day": "Sun",
         "time": "Dinner",
         "size": 3,
         "_deepnote_index_column": 189
        },
        {
         "total_bill": 15.69,
         "tip": 1.5,
         "sex": "Male",
         "smoker": "Yes",
         "day": "Sun",
         "time": "Dinner",
         "size": 2,
         "_deepnote_index_column": 190
        },
        {
         "total_bill": 19.81,
         "tip": 4.19,
         "sex": "Female",
         "smoker": "Yes",
         "day": "Thur",
         "time": "Lunch",
         "size": 2,
         "_deepnote_index_column": 191
        },
        {
         "total_bill": 28.44,
         "tip": 2.56,
         "sex": "Male",
         "smoker": "Yes",
         "day": "Thur",
         "time": "Lunch",
         "size": 2,
         "_deepnote_index_column": 192
        },
        {
         "total_bill": 15.48,
         "tip": 2.02,
         "sex": "Male",
         "smoker": "Yes",
         "day": "Thur",
         "time": "Lunch",
         "size": 2,
         "_deepnote_index_column": 193
        },
        {
         "total_bill": 16.58,
         "tip": 4,
         "sex": "Male",
         "smoker": "Yes",
         "day": "Thur",
         "time": "Lunch",
         "size": 2,
         "_deepnote_index_column": 194
        },
        {
         "total_bill": 7.56,
         "tip": 1.44,
         "sex": "Male",
         "smoker": "No",
         "day": "Thur",
         "time": "Lunch",
         "size": 2,
         "_deepnote_index_column": 195
        },
        {
         "total_bill": 10.34,
         "tip": 2,
         "sex": "Male",
         "smoker": "Yes",
         "day": "Thur",
         "time": "Lunch",
         "size": 2,
         "_deepnote_index_column": 196
        },
        {
         "total_bill": 43.11,
         "tip": 5,
         "sex": "Female",
         "smoker": "Yes",
         "day": "Thur",
         "time": "Lunch",
         "size": 4,
         "_deepnote_index_column": 197
        },
        {
         "total_bill": 13,
         "tip": 2,
         "sex": "Female",
         "smoker": "Yes",
         "day": "Thur",
         "time": "Lunch",
         "size": 2,
         "_deepnote_index_column": 198
        },
        {
         "total_bill": 13.51,
         "tip": 2,
         "sex": "Male",
         "smoker": "Yes",
         "day": "Thur",
         "time": "Lunch",
         "size": 2,
         "_deepnote_index_column": 199
        },
        {
         "total_bill": 18.71,
         "tip": 4,
         "sex": "Male",
         "smoker": "Yes",
         "day": "Thur",
         "time": "Lunch",
         "size": 3,
         "_deepnote_index_column": 200
        },
        {
         "total_bill": 12.74,
         "tip": 2.01,
         "sex": "Female",
         "smoker": "Yes",
         "day": "Thur",
         "time": "Lunch",
         "size": 2,
         "_deepnote_index_column": 201
        },
        {
         "total_bill": 13,
         "tip": 2,
         "sex": "Female",
         "smoker": "Yes",
         "day": "Thur",
         "time": "Lunch",
         "size": 2,
         "_deepnote_index_column": 202
        },
        {
         "total_bill": 16.4,
         "tip": 2.5,
         "sex": "Female",
         "smoker": "Yes",
         "day": "Thur",
         "time": "Lunch",
         "size": 2,
         "_deepnote_index_column": 203
        },
        {
         "total_bill": 20.53,
         "tip": 4,
         "sex": "Male",
         "smoker": "Yes",
         "day": "Thur",
         "time": "Lunch",
         "size": 4,
         "_deepnote_index_column": 204
        },
        {
         "total_bill": 16.47,
         "tip": 3.23,
         "sex": "Female",
         "smoker": "Yes",
         "day": "Thur",
         "time": "Lunch",
         "size": 3,
         "_deepnote_index_column": 205
        },
        {
         "total_bill": 26.59,
         "tip": 3.41,
         "sex": "Male",
         "smoker": "Yes",
         "day": "Sat",
         "time": "Dinner",
         "size": 3,
         "_deepnote_index_column": 206
        },
        {
         "total_bill": 38.73,
         "tip": 3,
         "sex": "Male",
         "smoker": "Yes",
         "day": "Sat",
         "time": "Dinner",
         "size": 4,
         "_deepnote_index_column": 207
        },
        {
         "total_bill": 24.27,
         "tip": 2.03,
         "sex": "Male",
         "smoker": "Yes",
         "day": "Sat",
         "time": "Dinner",
         "size": 2,
         "_deepnote_index_column": 208
        },
        {
         "total_bill": 12.76,
         "tip": 2.23,
         "sex": "Female",
         "smoker": "Yes",
         "day": "Sat",
         "time": "Dinner",
         "size": 2,
         "_deepnote_index_column": 209
        },
        {
         "total_bill": 30.06,
         "tip": 2,
         "sex": "Male",
         "smoker": "Yes",
         "day": "Sat",
         "time": "Dinner",
         "size": 3,
         "_deepnote_index_column": 210
        },
        {
         "total_bill": 25.89,
         "tip": 5.16,
         "sex": "Male",
         "smoker": "Yes",
         "day": "Sat",
         "time": "Dinner",
         "size": 4,
         "_deepnote_index_column": 211
        },
        {
         "total_bill": 48.33,
         "tip": 9,
         "sex": "Male",
         "smoker": "No",
         "day": "Sat",
         "time": "Dinner",
         "size": 4,
         "_deepnote_index_column": 212
        },
        {
         "total_bill": 13.27,
         "tip": 2.5,
         "sex": "Female",
         "smoker": "Yes",
         "day": "Sat",
         "time": "Dinner",
         "size": 2,
         "_deepnote_index_column": 213
        },
        {
         "total_bill": 28.17,
         "tip": 6.5,
         "sex": "Female",
         "smoker": "Yes",
         "day": "Sat",
         "time": "Dinner",
         "size": 3,
         "_deepnote_index_column": 214
        },
        {
         "total_bill": 12.9,
         "tip": 1.1,
         "sex": "Female",
         "smoker": "Yes",
         "day": "Sat",
         "time": "Dinner",
         "size": 2,
         "_deepnote_index_column": 215
        },
        {
         "total_bill": 28.15,
         "tip": 3,
         "sex": "Male",
         "smoker": "Yes",
         "day": "Sat",
         "time": "Dinner",
         "size": 5,
         "_deepnote_index_column": 216
        },
        {
         "total_bill": 11.59,
         "tip": 1.5,
         "sex": "Male",
         "smoker": "Yes",
         "day": "Sat",
         "time": "Dinner",
         "size": 2,
         "_deepnote_index_column": 217
        },
        {
         "total_bill": 7.74,
         "tip": 1.44,
         "sex": "Male",
         "smoker": "Yes",
         "day": "Sat",
         "time": "Dinner",
         "size": 2,
         "_deepnote_index_column": 218
        },
        {
         "total_bill": 30.14,
         "tip": 3.09,
         "sex": "Female",
         "smoker": "Yes",
         "day": "Sat",
         "time": "Dinner",
         "size": 4,
         "_deepnote_index_column": 219
        },
        {
         "total_bill": 12.16,
         "tip": 2.2,
         "sex": "Male",
         "smoker": "Yes",
         "day": "Fri",
         "time": "Lunch",
         "size": 2,
         "_deepnote_index_column": 220
        },
        {
         "total_bill": 13.42,
         "tip": 3.48,
         "sex": "Female",
         "smoker": "Yes",
         "day": "Fri",
         "time": "Lunch",
         "size": 2,
         "_deepnote_index_column": 221
        },
        {
         "total_bill": 8.58,
         "tip": 1.92,
         "sex": "Male",
         "smoker": "Yes",
         "day": "Fri",
         "time": "Lunch",
         "size": 1,
         "_deepnote_index_column": 222
        },
        {
         "total_bill": 15.98,
         "tip": 3,
         "sex": "Female",
         "smoker": "No",
         "day": "Fri",
         "time": "Lunch",
         "size": 3,
         "_deepnote_index_column": 223
        },
        {
         "total_bill": 13.42,
         "tip": 1.58,
         "sex": "Male",
         "smoker": "Yes",
         "day": "Fri",
         "time": "Lunch",
         "size": 2,
         "_deepnote_index_column": 224
        },
        {
         "total_bill": 16.27,
         "tip": 2.5,
         "sex": "Female",
         "smoker": "Yes",
         "day": "Fri",
         "time": "Lunch",
         "size": 2,
         "_deepnote_index_column": 225
        },
        {
         "total_bill": 10.09,
         "tip": 2,
         "sex": "Female",
         "smoker": "Yes",
         "day": "Fri",
         "time": "Lunch",
         "size": 2,
         "_deepnote_index_column": 226
        },
        {
         "total_bill": 20.45,
         "tip": 3,
         "sex": "Male",
         "smoker": "No",
         "day": "Sat",
         "time": "Dinner",
         "size": 4,
         "_deepnote_index_column": 227
        },
        {
         "total_bill": 13.28,
         "tip": 2.72,
         "sex": "Male",
         "smoker": "No",
         "day": "Sat",
         "time": "Dinner",
         "size": 2,
         "_deepnote_index_column": 228
        },
        {
         "total_bill": 22.12,
         "tip": 2.88,
         "sex": "Female",
         "smoker": "Yes",
         "day": "Sat",
         "time": "Dinner",
         "size": 2,
         "_deepnote_index_column": 229
        },
        {
         "total_bill": 24.01,
         "tip": 2,
         "sex": "Male",
         "smoker": "Yes",
         "day": "Sat",
         "time": "Dinner",
         "size": 4,
         "_deepnote_index_column": 230
        },
        {
         "total_bill": 15.69,
         "tip": 3,
         "sex": "Male",
         "smoker": "Yes",
         "day": "Sat",
         "time": "Dinner",
         "size": 3,
         "_deepnote_index_column": 231
        },
        {
         "total_bill": 11.61,
         "tip": 3.39,
         "sex": "Male",
         "smoker": "No",
         "day": "Sat",
         "time": "Dinner",
         "size": 2,
         "_deepnote_index_column": 232
        },
        {
         "total_bill": 10.77,
         "tip": 1.47,
         "sex": "Male",
         "smoker": "No",
         "day": "Sat",
         "time": "Dinner",
         "size": 2,
         "_deepnote_index_column": 233
        },
        {
         "total_bill": 15.53,
         "tip": 3,
         "sex": "Male",
         "smoker": "Yes",
         "day": "Sat",
         "time": "Dinner",
         "size": 2,
         "_deepnote_index_column": 234
        },
        {
         "total_bill": 10.07,
         "tip": 1.25,
         "sex": "Male",
         "smoker": "No",
         "day": "Sat",
         "time": "Dinner",
         "size": 2,
         "_deepnote_index_column": 235
        },
        {
         "total_bill": 12.6,
         "tip": 1,
         "sex": "Male",
         "smoker": "Yes",
         "day": "Sat",
         "time": "Dinner",
         "size": 2,
         "_deepnote_index_column": 236
        },
        {
         "total_bill": 32.83,
         "tip": 1.17,
         "sex": "Male",
         "smoker": "Yes",
         "day": "Sat",
         "time": "Dinner",
         "size": 2,
         "_deepnote_index_column": 237
        },
        {
         "total_bill": 35.83,
         "tip": 4.67,
         "sex": "Female",
         "smoker": "No",
         "day": "Sat",
         "time": "Dinner",
         "size": 3,
         "_deepnote_index_column": 238
        },
        {
         "total_bill": 29.03,
         "tip": 5.92,
         "sex": "Male",
         "smoker": "No",
         "day": "Sat",
         "time": "Dinner",
         "size": 3,
         "_deepnote_index_column": 239
        },
        {
         "total_bill": 27.18,
         "tip": 2,
         "sex": "Female",
         "smoker": "Yes",
         "day": "Sat",
         "time": "Dinner",
         "size": 2,
         "_deepnote_index_column": 240
        },
        {
         "total_bill": 22.67,
         "tip": 2,
         "sex": "Male",
         "smoker": "Yes",
         "day": "Sat",
         "time": "Dinner",
         "size": 2,
         "_deepnote_index_column": 241
        },
        {
         "total_bill": 17.82,
         "tip": 1.75,
         "sex": "Male",
         "smoker": "No",
         "day": "Sat",
         "time": "Dinner",
         "size": 2,
         "_deepnote_index_column": 242
        },
        {
         "total_bill": 18.78,
         "tip": 3,
         "sex": "Female",
         "smoker": "No",
         "day": "Thur",
         "time": "Dinner",
         "size": 2,
         "_deepnote_index_column": 243
        }
       ]
      },
      "text/plain": "     total_bill   tip     sex smoker   day    time  size\n0        16.990 1.010  Female     No   Sun  Dinner     2\n1        10.340 1.660    Male     No   Sun  Dinner     3\n2        21.010 3.500    Male     No   Sun  Dinner     3\n3        23.680 3.310    Male     No   Sun  Dinner     2\n4        24.590 3.610  Female     No   Sun  Dinner     4\n..          ...   ...     ...    ...   ...     ...   ...\n239      29.030 5.920    Male     No   Sat  Dinner     3\n240      27.180 2.000  Female    Yes   Sat  Dinner     2\n241      22.670 2.000    Male    Yes   Sat  Dinner     2\n242      17.820 1.750    Male     No   Sat  Dinner     2\n243      18.780 3.000  Female     No  Thur  Dinner     2\n\n[244 rows x 7 columns]",
      "text/html": "<div>\n<style scoped>\n    .dataframe tbody tr th:only-of-type {\n        vertical-align: middle;\n    }\n\n    .dataframe tbody tr th {\n        vertical-align: top;\n    }\n\n    .dataframe thead th {\n        text-align: right;\n    }\n</style>\n<table border=\"1\" class=\"dataframe\">\n  <thead>\n    <tr style=\"text-align: right;\">\n      <th></th>\n      <th>total_bill</th>\n      <th>tip</th>\n      <th>sex</th>\n      <th>smoker</th>\n      <th>day</th>\n      <th>time</th>\n      <th>size</th>\n    </tr>\n  </thead>\n  <tbody>\n    <tr>\n      <th>0</th>\n      <td>16.990</td>\n      <td>1.010</td>\n      <td>Female</td>\n      <td>No</td>\n      <td>Sun</td>\n      <td>Dinner</td>\n      <td>2</td>\n    </tr>\n    <tr>\n      <th>1</th>\n      <td>10.340</td>\n      <td>1.660</td>\n      <td>Male</td>\n      <td>No</td>\n      <td>Sun</td>\n      <td>Dinner</td>\n      <td>3</td>\n    </tr>\n    <tr>\n      <th>2</th>\n      <td>21.010</td>\n      <td>3.500</td>\n      <td>Male</td>\n      <td>No</td>\n      <td>Sun</td>\n      <td>Dinner</td>\n      <td>3</td>\n    </tr>\n    <tr>\n      <th>3</th>\n      <td>23.680</td>\n      <td>3.310</td>\n      <td>Male</td>\n      <td>No</td>\n      <td>Sun</td>\n      <td>Dinner</td>\n      <td>2</td>\n    </tr>\n    <tr>\n      <th>4</th>\n      <td>24.590</td>\n      <td>3.610</td>\n      <td>Female</td>\n      <td>No</td>\n      <td>Sun</td>\n      <td>Dinner</td>\n      <td>4</td>\n    </tr>\n    <tr>\n      <th>...</th>\n      <td>...</td>\n      <td>...</td>\n      <td>...</td>\n      <td>...</td>\n      <td>...</td>\n      <td>...</td>\n      <td>...</td>\n    </tr>\n    <tr>\n      <th>239</th>\n      <td>29.030</td>\n      <td>5.920</td>\n      <td>Male</td>\n      <td>No</td>\n      <td>Sat</td>\n      <td>Dinner</td>\n      <td>3</td>\n    </tr>\n    <tr>\n      <th>240</th>\n      <td>27.180</td>\n      <td>2.000</td>\n      <td>Female</td>\n      <td>Yes</td>\n      <td>Sat</td>\n      <td>Dinner</td>\n      <td>2</td>\n    </tr>\n    <tr>\n      <th>241</th>\n      <td>22.670</td>\n      <td>2.000</td>\n      <td>Male</td>\n      <td>Yes</td>\n      <td>Sat</td>\n      <td>Dinner</td>\n      <td>2</td>\n    </tr>\n    <tr>\n      <th>242</th>\n      <td>17.820</td>\n      <td>1.750</td>\n      <td>Male</td>\n      <td>No</td>\n      <td>Sat</td>\n      <td>Dinner</td>\n      <td>2</td>\n    </tr>\n    <tr>\n      <th>243</th>\n      <td>18.780</td>\n      <td>3.000</td>\n      <td>Female</td>\n      <td>No</td>\n      <td>Thur</td>\n      <td>Dinner</td>\n      <td>2</td>\n    </tr>\n  </tbody>\n</table>\n<p>244 rows × 7 columns</p>\n</div>"
     },
     "metadata": {}
    }
   ]
  },
  {
   "cell_type": "code",
   "source": "df.describe(include='all')",
   "metadata": {
    "tags": [],
    "cell_id": "00002-8881bd08-33ae-4aa0-a959-f321d4da05e8",
    "deepnote_to_be_reexecuted": false,
    "source_hash": "b1cecf2d",
    "execution_start": 1625252508273,
    "execution_millis": 42,
    "deepnote_cell_type": "code"
   },
   "outputs": [
    {
     "output_type": "execute_result",
     "execution_count": 24,
     "data": {
      "application/vnd.deepnote.dataframe.v2+json": {
       "row_count": 11,
       "column_count": 7,
       "columns": [
        {
         "name": "total_bill",
         "dtype": "float64",
         "stats": {
          "unique_count": 8,
          "nan_count": 3,
          "min": "3.07",
          "max": "244.0",
          "histogram": [
           {
            "bin_start": 3.07,
            "bin_end": 27.163,
            "count": 6
           },
           {
            "bin_start": 27.163,
            "bin_end": 51.256,
            "count": 1
           },
           {
            "bin_start": 51.256,
            "bin_end": 75.34899999999999,
            "count": 0
           },
           {
            "bin_start": 75.34899999999999,
            "bin_end": 99.442,
            "count": 0
           },
           {
            "bin_start": 99.442,
            "bin_end": 123.535,
            "count": 0
           },
           {
            "bin_start": 123.535,
            "bin_end": 147.628,
            "count": 0
           },
           {
            "bin_start": 147.628,
            "bin_end": 171.721,
            "count": 0
           },
           {
            "bin_start": 171.721,
            "bin_end": 195.814,
            "count": 0
           },
           {
            "bin_start": 195.814,
            "bin_end": 219.90699999999998,
            "count": 0
           },
           {
            "bin_start": 219.90699999999998,
            "bin_end": 244,
            "count": 1
           }
          ]
         }
        },
        {
         "name": "tip",
         "dtype": "float64",
         "stats": {
          "unique_count": 8,
          "nan_count": 3,
          "min": "1.0",
          "max": "244.0",
          "histogram": [
           {
            "bin_start": 1,
            "bin_end": 25.3,
            "count": 7
           },
           {
            "bin_start": 25.3,
            "bin_end": 49.6,
            "count": 0
           },
           {
            "bin_start": 49.6,
            "bin_end": 73.9,
            "count": 0
           },
           {
            "bin_start": 73.9,
            "bin_end": 98.2,
            "count": 0
           },
           {
            "bin_start": 98.2,
            "bin_end": 122.5,
            "count": 0
           },
           {
            "bin_start": 122.5,
            "bin_end": 146.8,
            "count": 0
           },
           {
            "bin_start": 146.8,
            "bin_end": 171.1,
            "count": 0
           },
           {
            "bin_start": 171.1,
            "bin_end": 195.4,
            "count": 0
           },
           {
            "bin_start": 195.4,
            "bin_end": 219.70000000000002,
            "count": 0
           },
           {
            "bin_start": 219.70000000000002,
            "bin_end": 244,
            "count": 1
           }
          ]
         }
        },
        {
         "name": "sex",
         "dtype": "object",
         "stats": {
          "unique_count": 4,
          "nan_count": 7,
          "categories": [
           {
            "name": "244",
            "count": 1
           },
           {
            "name": "3 others",
            "count": 3
           },
           {
            "name": "Missing",
            "count": 7
           }
          ]
         }
        },
        {
         "name": "smoker",
         "dtype": "object",
         "stats": {
          "unique_count": 4,
          "nan_count": 7,
          "categories": [
           {
            "name": "244",
            "count": 1
           },
           {
            "name": "3 others",
            "count": 3
           },
           {
            "name": "Missing",
            "count": 7
           }
          ]
         }
        },
        {
         "name": "day",
         "dtype": "object",
         "stats": {
          "unique_count": 4,
          "nan_count": 7,
          "categories": [
           {
            "name": "244",
            "count": 1
           },
           {
            "name": "3 others",
            "count": 3
           },
           {
            "name": "Missing",
            "count": 7
           }
          ]
         }
        },
        {
         "name": "time",
         "dtype": "object",
         "stats": {
          "unique_count": 4,
          "nan_count": 7,
          "categories": [
           {
            "name": "244",
            "count": 1
           },
           {
            "name": "3 others",
            "count": 3
           },
           {
            "name": "Missing",
            "count": 7
           }
          ]
         }
        },
        {
         "name": "size",
         "dtype": "float64",
         "stats": {
          "unique_count": 7,
          "nan_count": 3,
          "min": "0.9510998047322344",
          "max": "244.0",
          "histogram": [
           {
            "bin_start": 0.9510998047322344,
            "bin_end": 25.25598982425901,
            "count": 7
           },
           {
            "bin_start": 25.25598982425901,
            "bin_end": 49.56087984378579,
            "count": 0
           },
           {
            "bin_start": 49.56087984378579,
            "bin_end": 73.86576986331256,
            "count": 0
           },
           {
            "bin_start": 73.86576986331256,
            "bin_end": 98.17065988283935,
            "count": 0
           },
           {
            "bin_start": 98.17065988283935,
            "bin_end": 122.47554990236613,
            "count": 0
           },
           {
            "bin_start": 122.47554990236613,
            "bin_end": 146.78043992189288,
            "count": 0
           },
           {
            "bin_start": 146.78043992189288,
            "bin_end": 171.08532994141967,
            "count": 0
           },
           {
            "bin_start": 171.08532994141967,
            "bin_end": 195.39021996094644,
            "count": 0
           },
           {
            "bin_start": 195.39021996094644,
            "bin_end": 219.6951099804732,
            "count": 0
           },
           {
            "bin_start": 219.6951099804732,
            "bin_end": 244,
            "count": 1
           }
          ]
         }
        },
        {
         "name": "_deepnote_index_column",
         "dtype": "object"
        }
       ],
       "rows_top": [
        {
         "total_bill": 244,
         "tip": 244,
         "sex": "244",
         "smoker": "244",
         "day": "244",
         "time": "244",
         "size": 244,
         "_deepnote_index_column": "count"
        },
        {
         "total_bill": "nan",
         "tip": "nan",
         "sex": "2",
         "smoker": "2",
         "day": "4",
         "time": "2",
         "size": "nan",
         "_deepnote_index_column": "unique"
        },
        {
         "total_bill": "nan",
         "tip": "nan",
         "sex": "Male",
         "smoker": "No",
         "day": "Sat",
         "time": "Dinner",
         "size": "nan",
         "_deepnote_index_column": "top"
        },
        {
         "total_bill": "nan",
         "tip": "nan",
         "sex": "157",
         "smoker": "151",
         "day": "87",
         "time": "176",
         "size": "nan",
         "_deepnote_index_column": "freq"
        },
        {
         "total_bill": 19.78594262295082,
         "tip": 2.99827868852459,
         "sex": "nan",
         "smoker": "nan",
         "day": "nan",
         "time": "nan",
         "size": 2.569672131147541,
         "_deepnote_index_column": "mean"
        },
        {
         "total_bill": 8.902411954856856,
         "tip": 1.3836381890011822,
         "sex": "nan",
         "smoker": "nan",
         "day": "nan",
         "time": "nan",
         "size": 0.9510998047322344,
         "_deepnote_index_column": "std"
        },
        {
         "total_bill": 3.07,
         "tip": 1,
         "sex": "nan",
         "smoker": "nan",
         "day": "nan",
         "time": "nan",
         "size": 1,
         "_deepnote_index_column": "min"
        },
        {
         "total_bill": 13.3475,
         "tip": 2,
         "sex": "nan",
         "smoker": "nan",
         "day": "nan",
         "time": "nan",
         "size": 2,
         "_deepnote_index_column": "25%"
        },
        {
         "total_bill": 17.795,
         "tip": 2.9,
         "sex": "nan",
         "smoker": "nan",
         "day": "nan",
         "time": "nan",
         "size": 2,
         "_deepnote_index_column": "50%"
        },
        {
         "total_bill": 24.127499999999998,
         "tip": 3.5624999999999996,
         "sex": "nan",
         "smoker": "nan",
         "day": "nan",
         "time": "nan",
         "size": 3,
         "_deepnote_index_column": "75%"
        },
        {
         "total_bill": 50.81,
         "tip": 10,
         "sex": "nan",
         "smoker": "nan",
         "day": "nan",
         "time": "nan",
         "size": 6,
         "_deepnote_index_column": "max"
        }
       ],
       "rows_bottom": null
      },
      "text/plain": "        total_bill     tip   sex smoker  day    time    size\ncount      244.000 244.000   244    244  244     244 244.000\nunique         NaN     NaN     2      2    4       2     NaN\ntop            NaN     NaN  Male     No  Sat  Dinner     NaN\nfreq           NaN     NaN   157    151   87     176     NaN\nmean        19.786   2.998   NaN    NaN  NaN     NaN   2.570\nstd          8.902   1.384   NaN    NaN  NaN     NaN   0.951\nmin          3.070   1.000   NaN    NaN  NaN     NaN   1.000\n25%         13.348   2.000   NaN    NaN  NaN     NaN   2.000\n50%         17.795   2.900   NaN    NaN  NaN     NaN   2.000\n75%         24.127   3.562   NaN    NaN  NaN     NaN   3.000\nmax         50.810  10.000   NaN    NaN  NaN     NaN   6.000",
      "text/html": "<div>\n<style scoped>\n    .dataframe tbody tr th:only-of-type {\n        vertical-align: middle;\n    }\n\n    .dataframe tbody tr th {\n        vertical-align: top;\n    }\n\n    .dataframe thead th {\n        text-align: right;\n    }\n</style>\n<table border=\"1\" class=\"dataframe\">\n  <thead>\n    <tr style=\"text-align: right;\">\n      <th></th>\n      <th>total_bill</th>\n      <th>tip</th>\n      <th>sex</th>\n      <th>smoker</th>\n      <th>day</th>\n      <th>time</th>\n      <th>size</th>\n    </tr>\n  </thead>\n  <tbody>\n    <tr>\n      <th>count</th>\n      <td>244.000</td>\n      <td>244.000</td>\n      <td>244</td>\n      <td>244</td>\n      <td>244</td>\n      <td>244</td>\n      <td>244.000</td>\n    </tr>\n    <tr>\n      <th>unique</th>\n      <td>NaN</td>\n      <td>NaN</td>\n      <td>2</td>\n      <td>2</td>\n      <td>4</td>\n      <td>2</td>\n      <td>NaN</td>\n    </tr>\n    <tr>\n      <th>top</th>\n      <td>NaN</td>\n      <td>NaN</td>\n      <td>Male</td>\n      <td>No</td>\n      <td>Sat</td>\n      <td>Dinner</td>\n      <td>NaN</td>\n    </tr>\n    <tr>\n      <th>freq</th>\n      <td>NaN</td>\n      <td>NaN</td>\n      <td>157</td>\n      <td>151</td>\n      <td>87</td>\n      <td>176</td>\n      <td>NaN</td>\n    </tr>\n    <tr>\n      <th>mean</th>\n      <td>19.786</td>\n      <td>2.998</td>\n      <td>NaN</td>\n      <td>NaN</td>\n      <td>NaN</td>\n      <td>NaN</td>\n      <td>2.570</td>\n    </tr>\n    <tr>\n      <th>std</th>\n      <td>8.902</td>\n      <td>1.384</td>\n      <td>NaN</td>\n      <td>NaN</td>\n      <td>NaN</td>\n      <td>NaN</td>\n      <td>0.951</td>\n    </tr>\n    <tr>\n      <th>min</th>\n      <td>3.070</td>\n      <td>1.000</td>\n      <td>NaN</td>\n      <td>NaN</td>\n      <td>NaN</td>\n      <td>NaN</td>\n      <td>1.000</td>\n    </tr>\n    <tr>\n      <th>25%</th>\n      <td>13.348</td>\n      <td>2.000</td>\n      <td>NaN</td>\n      <td>NaN</td>\n      <td>NaN</td>\n      <td>NaN</td>\n      <td>2.000</td>\n    </tr>\n    <tr>\n      <th>50%</th>\n      <td>17.795</td>\n      <td>2.900</td>\n      <td>NaN</td>\n      <td>NaN</td>\n      <td>NaN</td>\n      <td>NaN</td>\n      <td>2.000</td>\n    </tr>\n    <tr>\n      <th>75%</th>\n      <td>24.127</td>\n      <td>3.562</td>\n      <td>NaN</td>\n      <td>NaN</td>\n      <td>NaN</td>\n      <td>NaN</td>\n      <td>3.000</td>\n    </tr>\n    <tr>\n      <th>max</th>\n      <td>50.810</td>\n      <td>10.000</td>\n      <td>NaN</td>\n      <td>NaN</td>\n      <td>NaN</td>\n      <td>NaN</td>\n      <td>6.000</td>\n    </tr>\n  </tbody>\n</table>\n</div>"
     },
     "metadata": {}
    }
   ],
   "execution_count": 24
  },
  {
   "cell_type": "code",
   "source": "df.groupby(['sex','time'])[['total_bill']].mean()",
   "metadata": {
    "tags": [],
    "cell_id": "00001-621d0291-98ce-427c-9823-486c7d9fba33",
    "deepnote_to_be_reexecuted": false,
    "source_hash": "f831b2db",
    "execution_start": 1625252508533,
    "execution_millis": 8,
    "deepnote_cell_type": "code"
   },
   "outputs": [
    {
     "output_type": "execute_result",
     "execution_count": 25,
     "data": {
      "application/vnd.deepnote.dataframe.v2+json": {
       "row_count": 4,
       "column_count": 1,
       "columns": [
        {
         "name": "total_bill",
         "dtype": "float64",
         "stats": {
          "unique_count": 4,
          "nan_count": 0,
          "min": "16.339142857142857",
          "max": "21.461451612903236",
          "histogram": [
           {
            "bin_start": 16.339142857142857,
            "bin_end": 16.851373732718894,
            "count": 1
           },
           {
            "bin_start": 16.851373732718894,
            "bin_end": 17.36360460829493,
            "count": 0
           },
           {
            "bin_start": 17.36360460829493,
            "bin_end": 17.875835483870972,
            "count": 0
           },
           {
            "bin_start": 17.875835483870972,
            "bin_end": 18.38806635944701,
            "count": 1
           },
           {
            "bin_start": 18.38806635944701,
            "bin_end": 18.900297235023046,
            "count": 0
           },
           {
            "bin_start": 18.900297235023046,
            "bin_end": 19.412528110599084,
            "count": 1
           },
           {
            "bin_start": 19.412528110599084,
            "bin_end": 19.92475898617512,
            "count": 0
           },
           {
            "bin_start": 19.92475898617512,
            "bin_end": 20.436989861751158,
            "count": 0
           },
           {
            "bin_start": 20.436989861751158,
            "bin_end": 20.9492207373272,
            "count": 0
           },
           {
            "bin_start": 20.9492207373272,
            "bin_end": 21.461451612903236,
            "count": 1
           }
          ]
         }
        },
        {
         "name": "_deepnote_index_column",
         "dtype": "object"
        }
       ],
       "rows_top": [
        {
         "total_bill": 18.048484848484847,
         "_deepnote_index_column": "('Male', 'Lunch')"
        },
        {
         "total_bill": 21.461451612903236,
         "_deepnote_index_column": "('Male', 'Dinner')"
        },
        {
         "total_bill": 16.339142857142857,
         "_deepnote_index_column": "('Female', 'Lunch')"
        },
        {
         "total_bill": 19.21307692307692,
         "_deepnote_index_column": "('Female', 'Dinner')"
        }
       ],
       "rows_bottom": null
      },
      "text/plain": "               total_bill\nsex    time              \nMale   Lunch       18.048\n       Dinner      21.461\nFemale Lunch       16.339\n       Dinner      19.213",
      "text/html": "<div>\n<style scoped>\n    .dataframe tbody tr th:only-of-type {\n        vertical-align: middle;\n    }\n\n    .dataframe tbody tr th {\n        vertical-align: top;\n    }\n\n    .dataframe thead th {\n        text-align: right;\n    }\n</style>\n<table border=\"1\" class=\"dataframe\">\n  <thead>\n    <tr style=\"text-align: right;\">\n      <th></th>\n      <th></th>\n      <th>total_bill</th>\n    </tr>\n    <tr>\n      <th>sex</th>\n      <th>time</th>\n      <th></th>\n    </tr>\n  </thead>\n  <tbody>\n    <tr>\n      <th rowspan=\"2\" valign=\"top\">Male</th>\n      <th>Lunch</th>\n      <td>18.048</td>\n    </tr>\n    <tr>\n      <th>Dinner</th>\n      <td>21.461</td>\n    </tr>\n    <tr>\n      <th rowspan=\"2\" valign=\"top\">Female</th>\n      <th>Lunch</th>\n      <td>16.339</td>\n    </tr>\n    <tr>\n      <th>Dinner</th>\n      <td>19.213</td>\n    </tr>\n  </tbody>\n</table>\n</div>"
     },
     "metadata": {}
    }
   ],
   "execution_count": 25
  },
  {
   "cell_type": "code",
   "source": "df_gp = df.groupby(['sex','time'])[['total_bill']].mean().reset_index()\ndf_gp",
   "metadata": {
    "tags": [],
    "cell_id": "00002-7ba04856-20fb-4ccd-b27d-191eef733478",
    "deepnote_to_be_reexecuted": false,
    "source_hash": "e03f3587",
    "execution_start": 1625252508691,
    "execution_millis": 9,
    "deepnote_cell_type": "code"
   },
   "outputs": [
    {
     "output_type": "execute_result",
     "execution_count": 26,
     "data": {
      "application/vnd.deepnote.dataframe.v2+json": {
       "row_count": 4,
       "column_count": 3,
       "columns": [
        {
         "name": "sex",
         "dtype": "category",
         "stats": {
          "unique_count": 2,
          "nan_count": 0,
          "categories": [
           {
            "name": "Male",
            "count": 2
           },
           {
            "name": "Female",
            "count": 2
           }
          ]
         }
        },
        {
         "name": "time",
         "dtype": "category",
         "stats": {
          "unique_count": 2,
          "nan_count": 0,
          "categories": [
           {
            "name": "Lunch",
            "count": 2
           },
           {
            "name": "Dinner",
            "count": 2
           }
          ]
         }
        },
        {
         "name": "total_bill",
         "dtype": "float64",
         "stats": {
          "unique_count": 4,
          "nan_count": 0,
          "min": "16.339142857142857",
          "max": "21.461451612903236",
          "histogram": [
           {
            "bin_start": 16.339142857142857,
            "bin_end": 16.851373732718894,
            "count": 1
           },
           {
            "bin_start": 16.851373732718894,
            "bin_end": 17.36360460829493,
            "count": 0
           },
           {
            "bin_start": 17.36360460829493,
            "bin_end": 17.875835483870972,
            "count": 0
           },
           {
            "bin_start": 17.875835483870972,
            "bin_end": 18.38806635944701,
            "count": 1
           },
           {
            "bin_start": 18.38806635944701,
            "bin_end": 18.900297235023046,
            "count": 0
           },
           {
            "bin_start": 18.900297235023046,
            "bin_end": 19.412528110599084,
            "count": 1
           },
           {
            "bin_start": 19.412528110599084,
            "bin_end": 19.92475898617512,
            "count": 0
           },
           {
            "bin_start": 19.92475898617512,
            "bin_end": 20.436989861751158,
            "count": 0
           },
           {
            "bin_start": 20.436989861751158,
            "bin_end": 20.9492207373272,
            "count": 0
           },
           {
            "bin_start": 20.9492207373272,
            "bin_end": 21.461451612903236,
            "count": 1
           }
          ]
         }
        },
        {
         "name": "_deepnote_index_column",
         "dtype": "int64"
        }
       ],
       "rows_top": [
        {
         "sex": "Male",
         "time": "Lunch",
         "total_bill": 18.048484848484847,
         "_deepnote_index_column": 0
        },
        {
         "sex": "Male",
         "time": "Dinner",
         "total_bill": 21.461451612903236,
         "_deepnote_index_column": 1
        },
        {
         "sex": "Female",
         "time": "Lunch",
         "total_bill": 16.339142857142857,
         "_deepnote_index_column": 2
        },
        {
         "sex": "Female",
         "time": "Dinner",
         "total_bill": 19.21307692307692,
         "_deepnote_index_column": 3
        }
       ],
       "rows_bottom": null
      },
      "text/plain": "      sex    time  total_bill\n0    Male   Lunch      18.048\n1    Male  Dinner      21.461\n2  Female   Lunch      16.339\n3  Female  Dinner      19.213",
      "text/html": "<div>\n<style scoped>\n    .dataframe tbody tr th:only-of-type {\n        vertical-align: middle;\n    }\n\n    .dataframe tbody tr th {\n        vertical-align: top;\n    }\n\n    .dataframe thead th {\n        text-align: right;\n    }\n</style>\n<table border=\"1\" class=\"dataframe\">\n  <thead>\n    <tr style=\"text-align: right;\">\n      <th></th>\n      <th>sex</th>\n      <th>time</th>\n      <th>total_bill</th>\n    </tr>\n  </thead>\n  <tbody>\n    <tr>\n      <th>0</th>\n      <td>Male</td>\n      <td>Lunch</td>\n      <td>18.048</td>\n    </tr>\n    <tr>\n      <th>1</th>\n      <td>Male</td>\n      <td>Dinner</td>\n      <td>21.461</td>\n    </tr>\n    <tr>\n      <th>2</th>\n      <td>Female</td>\n      <td>Lunch</td>\n      <td>16.339</td>\n    </tr>\n    <tr>\n      <th>3</th>\n      <td>Female</td>\n      <td>Dinner</td>\n      <td>19.213</td>\n    </tr>\n  </tbody>\n</table>\n</div>"
     },
     "metadata": {}
    }
   ],
   "execution_count": 26
  },
  {
   "cell_type": "markdown",
   "source": "# Creando Pivot Table\nPivot nos ayuda crear tablas con **indices categoricos**\nPivot nos permite poder crear una tabla apartir de una agrupacion o crearla apartir del DataFrame original.\n<img src='https://pandas-docs.github.io/pandas-docs-travis/_images/reshaping_pivot.png'>",
   "metadata": {
    "tags": [],
    "cell_id": "00003-fe2cc54f-62cd-4a53-8945-db6e85c0dd96",
    "deepnote_cell_type": "markdown"
   }
  },
  {
   "cell_type": "code",
   "source": "df_gp.pivot_table(values='total_bill', index='sex', columns='time')",
   "metadata": {
    "tags": [],
    "cell_id": "00003-74e8c8e8-35e2-4329-be30-d9a36f11844e",
    "deepnote_to_be_reexecuted": false,
    "source_hash": "d30b2789",
    "execution_start": 1625252509109,
    "execution_millis": 13,
    "deepnote_cell_type": "code"
   },
   "outputs": [
    {
     "output_type": "execute_result",
     "execution_count": 27,
     "data": {
      "application/vnd.deepnote.dataframe.v2+json": {
       "row_count": 2,
       "column_count": 2,
       "columns": [
        {
         "name": "Lunch",
         "dtype": "float64",
         "stats": {
          "unique_count": 2,
          "nan_count": 0,
          "min": "16.339142857142857",
          "max": "18.048484848484847",
          "histogram": [
           {
            "bin_start": 16.339142857142857,
            "bin_end": 16.510077056277055,
            "count": 1
           },
           {
            "bin_start": 16.510077056277055,
            "bin_end": 16.681011255411256,
            "count": 0
           },
           {
            "bin_start": 16.681011255411256,
            "bin_end": 16.851945454545454,
            "count": 0
           },
           {
            "bin_start": 16.851945454545454,
            "bin_end": 17.022879653679652,
            "count": 0
           },
           {
            "bin_start": 17.022879653679652,
            "bin_end": 17.193813852813854,
            "count": 0
           },
           {
            "bin_start": 17.193813852813854,
            "bin_end": 17.36474805194805,
            "count": 0
           },
           {
            "bin_start": 17.36474805194805,
            "bin_end": 17.53568225108225,
            "count": 0
           },
           {
            "bin_start": 17.53568225108225,
            "bin_end": 17.706616450216448,
            "count": 0
           },
           {
            "bin_start": 17.706616450216448,
            "bin_end": 17.87755064935065,
            "count": 0
           },
           {
            "bin_start": 17.87755064935065,
            "bin_end": 18.048484848484847,
            "count": 1
           }
          ]
         }
        },
        {
         "name": "Dinner",
         "dtype": "float64",
         "stats": {
          "unique_count": 2,
          "nan_count": 0,
          "min": "19.21307692307692",
          "max": "21.461451612903236",
          "histogram": [
           {
            "bin_start": 19.21307692307692,
            "bin_end": 19.43791439205955,
            "count": 1
           },
           {
            "bin_start": 19.43791439205955,
            "bin_end": 19.66275186104218,
            "count": 0
           },
           {
            "bin_start": 19.66275186104218,
            "bin_end": 19.887589330024813,
            "count": 0
           },
           {
            "bin_start": 19.887589330024813,
            "bin_end": 20.112426799007444,
            "count": 0
           },
           {
            "bin_start": 20.112426799007444,
            "bin_end": 20.33726426799008,
            "count": 0
           },
           {
            "bin_start": 20.33726426799008,
            "bin_end": 20.56210173697271,
            "count": 0
           },
           {
            "bin_start": 20.56210173697271,
            "bin_end": 20.786939205955342,
            "count": 0
           },
           {
            "bin_start": 20.786939205955342,
            "bin_end": 21.011776674937973,
            "count": 0
           },
           {
            "bin_start": 21.011776674937973,
            "bin_end": 21.236614143920605,
            "count": 0
           },
           {
            "bin_start": 21.236614143920605,
            "bin_end": 21.461451612903236,
            "count": 1
           }
          ]
         }
        },
        {
         "name": "_deepnote_index_column",
         "dtype": "category"
        }
       ],
       "rows_top": [
        {
         "Lunch": 18.048484848484847,
         "Dinner": 21.461451612903236,
         "_deepnote_index_column": "Male"
        },
        {
         "Lunch": 16.339142857142857,
         "Dinner": 19.21307692307692,
         "_deepnote_index_column": "Female"
        }
       ],
       "rows_bottom": null
      },
      "text/plain": "time    Lunch  Dinner\nsex                  \nMale   18.048  21.461\nFemale 16.339  19.213",
      "text/html": "<div>\n<style scoped>\n    .dataframe tbody tr th:only-of-type {\n        vertical-align: middle;\n    }\n\n    .dataframe tbody tr th {\n        vertical-align: top;\n    }\n\n    .dataframe thead th {\n        text-align: right;\n    }\n</style>\n<table border=\"1\" class=\"dataframe\">\n  <thead>\n    <tr style=\"text-align: right;\">\n      <th>time</th>\n      <th>Lunch</th>\n      <th>Dinner</th>\n    </tr>\n    <tr>\n      <th>sex</th>\n      <th></th>\n      <th></th>\n    </tr>\n  </thead>\n  <tbody>\n    <tr>\n      <th>Male</th>\n      <td>18.048</td>\n      <td>21.461</td>\n    </tr>\n    <tr>\n      <th>Female</th>\n      <td>16.339</td>\n      <td>19.213</td>\n    </tr>\n  </tbody>\n</table>\n</div>"
     },
     "metadata": {}
    }
   ],
   "execution_count": 27
  },
  {
   "cell_type": "markdown",
   "source": "## Multiples funciones",
   "metadata": {
    "tags": [],
    "cell_id": "00005-594ec01e-1ecf-4ab0-bfdc-9e32f1ee38be",
    "deepnote_cell_type": "markdown"
   }
  },
  {
   "cell_type": "code",
   "source": "df_pivot = df.pivot_table(values='total_bill', index='sex', columns='time', aggfunc=[np.median,np.std])\ndf_pivot",
   "metadata": {
    "tags": [],
    "cell_id": "00005-b946de7b-7eb0-4315-96fa-a8e61c04b48b",
    "deepnote_to_be_reexecuted": false,
    "source_hash": "5e257f2b",
    "execution_start": 1625252509535,
    "execution_millis": 39,
    "deepnote_cell_type": "code"
   },
   "outputs": [
    {
     "output_type": "execute_result",
     "execution_count": 28,
     "data": {
      "application/vnd.deepnote.dataframe.v2+json": {
       "row_count": 2,
       "column_count": 4,
       "columns": [
        {
         "name": [
          "median",
          "Lunch"
         ],
         "dtype": "float64",
         "stats": {
          "unique_count": 2,
          "nan_count": 0,
          "min": "13.42",
          "max": "16.58",
          "histogram": [
           {
            "bin_start": 13.42,
            "bin_end": 13.736,
            "count": 1
           },
           {
            "bin_start": 13.736,
            "bin_end": 14.052,
            "count": 0
           },
           {
            "bin_start": 14.052,
            "bin_end": 14.367999999999999,
            "count": 0
           },
           {
            "bin_start": 14.367999999999999,
            "bin_end": 14.684,
            "count": 0
           },
           {
            "bin_start": 14.684,
            "bin_end": 15,
            "count": 0
           },
           {
            "bin_start": 15,
            "bin_end": 15.315999999999999,
            "count": 0
           },
           {
            "bin_start": 15.315999999999999,
            "bin_end": 15.631999999999998,
            "count": 0
           },
           {
            "bin_start": 15.631999999999998,
            "bin_end": 15.947999999999999,
            "count": 0
           },
           {
            "bin_start": 15.947999999999999,
            "bin_end": 16.264,
            "count": 0
           },
           {
            "bin_start": 16.264,
            "bin_end": 16.58,
            "count": 1
           }
          ]
         }
        },
        {
         "name": [
          "median",
          "Dinner"
         ],
         "dtype": "float64",
         "stats": {
          "unique_count": 2,
          "nan_count": 0,
          "min": "17.189999999999998",
          "max": "19.63",
          "histogram": [
           {
            "bin_start": 17.189999999999998,
            "bin_end": 17.433999999999997,
            "count": 1
           },
           {
            "bin_start": 17.433999999999997,
            "bin_end": 17.677999999999997,
            "count": 0
           },
           {
            "bin_start": 17.677999999999997,
            "bin_end": 17.921999999999997,
            "count": 0
           },
           {
            "bin_start": 17.921999999999997,
            "bin_end": 18.165999999999997,
            "count": 0
           },
           {
            "bin_start": 18.165999999999997,
            "bin_end": 18.409999999999997,
            "count": 0
           },
           {
            "bin_start": 18.409999999999997,
            "bin_end": 18.654,
            "count": 0
           },
           {
            "bin_start": 18.654,
            "bin_end": 18.898,
            "count": 0
           },
           {
            "bin_start": 18.898,
            "bin_end": 19.142,
            "count": 0
           },
           {
            "bin_start": 19.142,
            "bin_end": 19.386,
            "count": 0
           },
           {
            "bin_start": 19.386,
            "bin_end": 19.63,
            "count": 1
           }
          ]
         }
        },
        {
         "name": [
          "std",
          "Lunch"
         ],
         "dtype": "float64",
         "stats": {
          "unique_count": 2,
          "nan_count": 0,
          "min": "7.50080284778533",
          "max": "7.953435233128875",
          "histogram": [
           {
            "bin_start": 7.50080284778533,
            "bin_end": 7.5460660863196845,
            "count": 1
           },
           {
            "bin_start": 7.5460660863196845,
            "bin_end": 7.591329324854039,
            "count": 0
           },
           {
            "bin_start": 7.591329324854039,
            "bin_end": 7.636592563388394,
            "count": 0
           },
           {
            "bin_start": 7.636592563388394,
            "bin_end": 7.681855801922748,
            "count": 0
           },
           {
            "bin_start": 7.681855801922748,
            "bin_end": 7.727119040457103,
            "count": 0
           },
           {
            "bin_start": 7.727119040457103,
            "bin_end": 7.772382278991457,
            "count": 0
           },
           {
            "bin_start": 7.772382278991457,
            "bin_end": 7.817645517525811,
            "count": 0
           },
           {
            "bin_start": 7.817645517525811,
            "bin_end": 7.8629087560601665,
            "count": 0
           },
           {
            "bin_start": 7.8629087560601665,
            "bin_end": 7.908171994594521,
            "count": 0
           },
           {
            "bin_start": 7.908171994594521,
            "bin_end": 7.953435233128875,
            "count": 1
           }
          ]
         }
        },
        {
         "name": [
          "std",
          "Dinner"
         ],
         "dtype": "float64",
         "stats": {
          "unique_count": 2,
          "nan_count": 0,
          "min": "8.202085468536795",
          "max": "9.46097407226199",
          "histogram": [
           {
            "bin_start": 8.202085468536795,
            "bin_end": 8.327974328909315,
            "count": 1
           },
           {
            "bin_start": 8.327974328909315,
            "bin_end": 8.453863189281835,
            "count": 0
           },
           {
            "bin_start": 8.453863189281835,
            "bin_end": 8.579752049654354,
            "count": 0
           },
           {
            "bin_start": 8.579752049654354,
            "bin_end": 8.705640910026874,
            "count": 0
           },
           {
            "bin_start": 8.705640910026874,
            "bin_end": 8.831529770399392,
            "count": 0
           },
           {
            "bin_start": 8.831529770399392,
            "bin_end": 8.957418630771912,
            "count": 0
           },
           {
            "bin_start": 8.957418630771912,
            "bin_end": 9.083307491144431,
            "count": 0
           },
           {
            "bin_start": 9.083307491144431,
            "bin_end": 9.209196351516951,
            "count": 0
           },
           {
            "bin_start": 9.209196351516951,
            "bin_end": 9.33508521188947,
            "count": 0
           },
           {
            "bin_start": 9.33508521188947,
            "bin_end": 9.46097407226199,
            "count": 1
           }
          ]
         }
        },
        {
         "name": "_deepnote_index_column",
         "dtype": "category"
        }
       ],
       "rows_top": [
        {
         "('median', 'Lunch')": 16.58,
         "('median', 'Dinner')": 19.63,
         "('std', 'Lunch')": 7.953435233128875,
         "('std', 'Dinner')": 9.46097407226199,
         "_deepnote_index_column": "Male"
        },
        {
         "('median', 'Lunch')": 13.42,
         "('median', 'Dinner')": 17.189999999999998,
         "('std', 'Lunch')": 7.50080284778533,
         "('std', 'Dinner')": 8.202085468536795,
         "_deepnote_index_column": "Female"
        }
       ],
       "rows_bottom": null
      },
      "text/plain": "       median          std       \ntime    Lunch Dinner Lunch Dinner\nsex                              \nMale   16.580 19.630 7.953  9.461\nFemale 13.420 17.190 7.501  8.202",
      "text/html": "<div>\n<style scoped>\n    .dataframe tbody tr th:only-of-type {\n        vertical-align: middle;\n    }\n\n    .dataframe tbody tr th {\n        vertical-align: top;\n    }\n\n    .dataframe thead tr th {\n        text-align: left;\n    }\n\n    .dataframe thead tr:last-of-type th {\n        text-align: right;\n    }\n</style>\n<table border=\"1\" class=\"dataframe\">\n  <thead>\n    <tr>\n      <th></th>\n      <th colspan=\"2\" halign=\"left\">median</th>\n      <th colspan=\"2\" halign=\"left\">std</th>\n    </tr>\n    <tr>\n      <th>time</th>\n      <th>Lunch</th>\n      <th>Dinner</th>\n      <th>Lunch</th>\n      <th>Dinner</th>\n    </tr>\n    <tr>\n      <th>sex</th>\n      <th></th>\n      <th></th>\n      <th></th>\n      <th></th>\n    </tr>\n  </thead>\n  <tbody>\n    <tr>\n      <th>Male</th>\n      <td>16.580</td>\n      <td>19.630</td>\n      <td>7.953</td>\n      <td>9.461</td>\n    </tr>\n    <tr>\n      <th>Female</th>\n      <td>13.420</td>\n      <td>17.190</td>\n      <td>7.501</td>\n      <td>8.202</td>\n    </tr>\n  </tbody>\n</table>\n</div>"
     },
     "metadata": {}
    }
   ],
   "execution_count": 28
  },
  {
   "cell_type": "markdown",
   "source": "**Unstack**: Nos deshace las categorias.\n\n**reset_index**: Si lo queremos volver hacer un DataFrames.",
   "metadata": {
    "tags": [],
    "cell_id": "00007-abf408dc-ffee-49ef-b4b0-61b5d4d0483e",
    "deepnote_cell_type": "markdown"
   }
  },
  {
   "cell_type": "code",
   "source": "df_pivot.unstack().reset_index()",
   "metadata": {
    "tags": [],
    "cell_id": "00007-baa11a74-be56-4fb8-84e9-624278bc09bf",
    "deepnote_to_be_reexecuted": false,
    "source_hash": "bbbb28fa",
    "execution_start": 1625252510488,
    "execution_millis": 37,
    "deepnote_cell_type": "code"
   },
   "outputs": [
    {
     "output_type": "execute_result",
     "execution_count": 29,
     "data": {
      "application/vnd.deepnote.dataframe.v2+json": {
       "row_count": 8,
       "column_count": 4,
       "columns": [
        {
         "name": "level_0",
         "dtype": "object",
         "stats": {
          "unique_count": 2,
          "nan_count": 0,
          "categories": [
           {
            "name": "median",
            "count": 4
           },
           {
            "name": "std",
            "count": 4
           }
          ]
         }
        },
        {
         "name": "time",
         "dtype": "category",
         "stats": {
          "unique_count": 2,
          "nan_count": 0,
          "categories": [
           {
            "name": "Lunch",
            "count": 4
           },
           {
            "name": "Dinner",
            "count": 4
           }
          ]
         }
        },
        {
         "name": "sex",
         "dtype": "category",
         "stats": {
          "unique_count": 2,
          "nan_count": 0,
          "categories": [
           {
            "name": "Male",
            "count": 4
           },
           {
            "name": "Female",
            "count": 4
           }
          ]
         }
        },
        {
         "name": 0,
         "dtype": "float64",
         "stats": {
          "unique_count": 8,
          "nan_count": 0,
          "min": "7.50080284778533",
          "max": "19.63",
          "histogram": [
           {
            "bin_start": 7.50080284778533,
            "bin_end": 8.713722563006797,
            "count": 3
           },
           {
            "bin_start": 8.713722563006797,
            "bin_end": 9.926642278228265,
            "count": 1
           },
           {
            "bin_start": 9.926642278228265,
            "bin_end": 11.13956199344973,
            "count": 0
           },
           {
            "bin_start": 11.13956199344973,
            "bin_end": 12.352481708671197,
            "count": 0
           },
           {
            "bin_start": 12.352481708671197,
            "bin_end": 13.565401423892665,
            "count": 1
           },
           {
            "bin_start": 13.565401423892665,
            "bin_end": 14.77832113911413,
            "count": 0
           },
           {
            "bin_start": 14.77832113911413,
            "bin_end": 15.991240854335597,
            "count": 0
           },
           {
            "bin_start": 15.991240854335597,
            "bin_end": 17.204160569557065,
            "count": 2
           },
           {
            "bin_start": 17.204160569557065,
            "bin_end": 18.41708028477853,
            "count": 0
           },
           {
            "bin_start": 18.41708028477853,
            "bin_end": 19.63,
            "count": 1
           }
          ]
         }
        },
        {
         "name": "_deepnote_index_column",
         "dtype": "int64"
        }
       ],
       "rows_top": [
        {
         "0": 16.58,
         "level_0": "median",
         "time": "Lunch",
         "sex": "Male",
         "_deepnote_index_column": 0
        },
        {
         "0": 13.42,
         "level_0": "median",
         "time": "Lunch",
         "sex": "Female",
         "_deepnote_index_column": 1
        },
        {
         "0": 19.63,
         "level_0": "median",
         "time": "Dinner",
         "sex": "Male",
         "_deepnote_index_column": 2
        },
        {
         "0": 17.189999999999998,
         "level_0": "median",
         "time": "Dinner",
         "sex": "Female",
         "_deepnote_index_column": 3
        },
        {
         "0": 7.953435233128875,
         "level_0": "std",
         "time": "Lunch",
         "sex": "Male",
         "_deepnote_index_column": 4
        },
        {
         "0": 7.50080284778533,
         "level_0": "std",
         "time": "Lunch",
         "sex": "Female",
         "_deepnote_index_column": 5
        },
        {
         "0": 9.46097407226199,
         "level_0": "std",
         "time": "Dinner",
         "sex": "Male",
         "_deepnote_index_column": 6
        },
        {
         "0": 8.202085468536795,
         "level_0": "std",
         "time": "Dinner",
         "sex": "Female",
         "_deepnote_index_column": 7
        }
       ],
       "rows_bottom": null
      },
      "text/plain": "  level_0    time     sex      0\n0  median   Lunch    Male 16.580\n1  median   Lunch  Female 13.420\n2  median  Dinner    Male 19.630\n3  median  Dinner  Female 17.190\n4     std   Lunch    Male  7.953\n5     std   Lunch  Female  7.501\n6     std  Dinner    Male  9.461\n7     std  Dinner  Female  8.202",
      "text/html": "<div>\n<style scoped>\n    .dataframe tbody tr th:only-of-type {\n        vertical-align: middle;\n    }\n\n    .dataframe tbody tr th {\n        vertical-align: top;\n    }\n\n    .dataframe thead th {\n        text-align: right;\n    }\n</style>\n<table border=\"1\" class=\"dataframe\">\n  <thead>\n    <tr style=\"text-align: right;\">\n      <th></th>\n      <th>level_0</th>\n      <th>time</th>\n      <th>sex</th>\n      <th>0</th>\n    </tr>\n  </thead>\n  <tbody>\n    <tr>\n      <th>0</th>\n      <td>median</td>\n      <td>Lunch</td>\n      <td>Male</td>\n      <td>16.580</td>\n    </tr>\n    <tr>\n      <th>1</th>\n      <td>median</td>\n      <td>Lunch</td>\n      <td>Female</td>\n      <td>13.420</td>\n    </tr>\n    <tr>\n      <th>2</th>\n      <td>median</td>\n      <td>Dinner</td>\n      <td>Male</td>\n      <td>19.630</td>\n    </tr>\n    <tr>\n      <th>3</th>\n      <td>median</td>\n      <td>Dinner</td>\n      <td>Female</td>\n      <td>17.190</td>\n    </tr>\n    <tr>\n      <th>4</th>\n      <td>std</td>\n      <td>Lunch</td>\n      <td>Male</td>\n      <td>7.953</td>\n    </tr>\n    <tr>\n      <th>5</th>\n      <td>std</td>\n      <td>Lunch</td>\n      <td>Female</td>\n      <td>7.501</td>\n    </tr>\n    <tr>\n      <th>6</th>\n      <td>std</td>\n      <td>Dinner</td>\n      <td>Male</td>\n      <td>9.461</td>\n    </tr>\n    <tr>\n      <th>7</th>\n      <td>std</td>\n      <td>Dinner</td>\n      <td>Female</td>\n      <td>8.202</td>\n    </tr>\n  </tbody>\n</table>\n</div>"
     },
     "metadata": {}
    }
   ],
   "execution_count": 29
  },
  {
   "cell_type": "markdown",
   "source": "Se muestra la media de los fumadores que gastan mas en sus facturas  y propinas",
   "metadata": {
    "tags": [],
    "cell_id": "00010-f483ea5f-8df5-4fcf-91cf-d7d9d7fc3b3f",
    "deepnote_cell_type": "markdown"
   }
  },
  {
   "cell_type": "code",
   "source": "df.pivot_table(values=['total_bill','tip'], index='smoker', columns='time', aggfunc=[np.median,np.std])",
   "metadata": {
    "tags": [],
    "cell_id": "00011-68674b19-4996-4d42-9fc4-6dd6a8aa9b5e",
    "deepnote_to_be_reexecuted": false,
    "source_hash": "e06b81de",
    "execution_start": 1625252616588,
    "execution_millis": 11,
    "deepnote_cell_type": "code"
   },
   "outputs": [
    {
     "output_type": "execute_result",
     "execution_count": 33,
     "data": {
      "application/vnd.deepnote.dataframe.v2+json": {
       "row_count": 2,
       "column_count": 8,
       "columns": [
        {
         "name": [
          "median",
          "tip",
          "Lunch"
         ],
         "dtype": "float64",
         "stats": {
          "unique_count": 2,
          "nan_count": 0,
          "min": "2.18",
          "max": "2.5",
          "histogram": [
           {
            "bin_start": 2.18,
            "bin_end": 2.212,
            "count": 1
           },
           {
            "bin_start": 2.212,
            "bin_end": 2.244,
            "count": 0
           },
           {
            "bin_start": 2.244,
            "bin_end": 2.2760000000000002,
            "count": 0
           },
           {
            "bin_start": 2.2760000000000002,
            "bin_end": 2.3080000000000003,
            "count": 0
           },
           {
            "bin_start": 2.3080000000000003,
            "bin_end": 2.34,
            "count": 0
           },
           {
            "bin_start": 2.34,
            "bin_end": 2.372,
            "count": 0
           },
           {
            "bin_start": 2.372,
            "bin_end": 2.404,
            "count": 0
           },
           {
            "bin_start": 2.404,
            "bin_end": 2.436,
            "count": 0
           },
           {
            "bin_start": 2.436,
            "bin_end": 2.468,
            "count": 0
           },
           {
            "bin_start": 2.468,
            "bin_end": 2.5,
            "count": 1
           }
          ]
         }
        },
        {
         "name": [
          "median",
          "tip",
          "Dinner"
         ],
         "dtype": "float64",
         "stats": {
          "unique_count": 1,
          "nan_count": 0,
          "min": "3.0",
          "max": "3.0",
          "histogram": [
           {
            "bin_start": 2.5,
            "bin_end": 2.6,
            "count": 0
           },
           {
            "bin_start": 2.6,
            "bin_end": 2.7,
            "count": 0
           },
           {
            "bin_start": 2.7,
            "bin_end": 2.8,
            "count": 0
           },
           {
            "bin_start": 2.8,
            "bin_end": 2.9,
            "count": 0
           },
           {
            "bin_start": 2.9,
            "bin_end": 3,
            "count": 0
           },
           {
            "bin_start": 3,
            "bin_end": 3.1,
            "count": 2
           },
           {
            "bin_start": 3.1,
            "bin_end": 3.2,
            "count": 0
           },
           {
            "bin_start": 3.2,
            "bin_end": 3.3,
            "count": 0
           },
           {
            "bin_start": 3.3,
            "bin_end": 3.4,
            "count": 0
           },
           {
            "bin_start": 3.4,
            "bin_end": 3.5,
            "count": 0
           }
          ]
         }
        },
        {
         "name": [
          "median",
          "total_bill",
          "Lunch"
         ],
         "dtype": "float64",
         "stats": {
          "unique_count": 2,
          "nan_count": 0,
          "min": "15.95",
          "max": "16.0",
          "histogram": [
           {
            "bin_start": 15.95,
            "bin_end": 15.955,
            "count": 1
           },
           {
            "bin_start": 15.955,
            "bin_end": 15.959999999999999,
            "count": 0
           },
           {
            "bin_start": 15.959999999999999,
            "bin_end": 15.965,
            "count": 0
           },
           {
            "bin_start": 15.965,
            "bin_end": 15.969999999999999,
            "count": 0
           },
           {
            "bin_start": 15.969999999999999,
            "bin_end": 15.975,
            "count": 0
           },
           {
            "bin_start": 15.975,
            "bin_end": 15.98,
            "count": 0
           },
           {
            "bin_start": 15.98,
            "bin_end": 15.985,
            "count": 0
           },
           {
            "bin_start": 15.985,
            "bin_end": 15.99,
            "count": 0
           },
           {
            "bin_start": 15.99,
            "bin_end": 15.995,
            "count": 0
           },
           {
            "bin_start": 15.995,
            "bin_end": 16,
            "count": 1
           }
          ]
         }
        },
        {
         "name": [
          "median",
          "total_bill",
          "Dinner"
         ],
         "dtype": "float64",
         "stats": {
          "unique_count": 2,
          "nan_count": 0,
          "min": "18.265",
          "max": "20.695",
          "histogram": [
           {
            "bin_start": 18.265,
            "bin_end": 18.508,
            "count": 1
           },
           {
            "bin_start": 18.508,
            "bin_end": 18.751,
            "count": 0
           },
           {
            "bin_start": 18.751,
            "bin_end": 18.994,
            "count": 0
           },
           {
            "bin_start": 18.994,
            "bin_end": 19.237000000000002,
            "count": 0
           },
           {
            "bin_start": 19.237000000000002,
            "bin_end": 19.48,
            "count": 0
           },
           {
            "bin_start": 19.48,
            "bin_end": 19.723,
            "count": 0
           },
           {
            "bin_start": 19.723,
            "bin_end": 19.966,
            "count": 0
           },
           {
            "bin_start": 19.966,
            "bin_end": 20.209,
            "count": 0
           },
           {
            "bin_start": 20.209,
            "bin_end": 20.452,
            "count": 0
           },
           {
            "bin_start": 20.452,
            "bin_end": 20.695,
            "count": 1
           }
          ]
         }
        },
        {
         "name": [
          "std",
          "tip",
          "Lunch"
         ],
         "dtype": "float64",
         "stats": {
          "unique_count": 2,
          "nan_count": 0,
          "min": "1.055831538245638",
          "max": "1.2829640554889945",
          "histogram": [
           {
            "bin_start": 1.055831538245638,
            "bin_end": 1.0785447899699736,
            "count": 1
           },
           {
            "bin_start": 1.0785447899699736,
            "bin_end": 1.1012580416943094,
            "count": 0
           },
           {
            "bin_start": 1.1012580416943094,
            "bin_end": 1.123971293418645,
            "count": 0
           },
           {
            "bin_start": 1.123971293418645,
            "bin_end": 1.1466845451429806,
            "count": 0
           },
           {
            "bin_start": 1.1466845451429806,
            "bin_end": 1.1693977968673162,
            "count": 0
           },
           {
            "bin_start": 1.1693977968673162,
            "bin_end": 1.192111048591652,
            "count": 0
           },
           {
            "bin_start": 1.192111048591652,
            "bin_end": 1.2148243003159875,
            "count": 0
           },
           {
            "bin_start": 1.2148243003159875,
            "bin_end": 1.2375375520403231,
            "count": 0
           },
           {
            "bin_start": 1.2375375520403231,
            "bin_end": 1.260250803764659,
            "count": 0
           },
           {
            "bin_start": 1.260250803764659,
            "bin_end": 1.2829640554889945,
            "count": 1
           }
          ]
         }
        },
        {
         "name": [
          "std",
          "tip",
          "Dinner"
         ],
         "dtype": "float64",
         "stats": {
          "unique_count": 2,
          "nan_count": 0,
          "min": "1.3992803342177942",
          "max": "1.4999714006935438",
          "histogram": [
           {
            "bin_start": 1.3992803342177942,
            "bin_end": 1.409349440865369,
            "count": 1
           },
           {
            "bin_start": 1.409349440865369,
            "bin_end": 1.4194185475129442,
            "count": 0
           },
           {
            "bin_start": 1.4194185475129442,
            "bin_end": 1.429487654160519,
            "count": 0
           },
           {
            "bin_start": 1.429487654160519,
            "bin_end": 1.4395567608080941,
            "count": 0
           },
           {
            "bin_start": 1.4395567608080941,
            "bin_end": 1.449625867455669,
            "count": 0
           },
           {
            "bin_start": 1.449625867455669,
            "bin_end": 1.459694974103244,
            "count": 0
           },
           {
            "bin_start": 1.459694974103244,
            "bin_end": 1.469764080750819,
            "count": 0
           },
           {
            "bin_start": 1.469764080750819,
            "bin_end": 1.4798331873983939,
            "count": 0
           },
           {
            "bin_start": 1.4798331873983939,
            "bin_end": 1.489902294045969,
            "count": 0
           },
           {
            "bin_start": 1.489902294045969,
            "bin_end": 1.4999714006935438,
            "count": 1
           }
          ]
         }
        },
        {
         "name": [
          "std",
          "total_bill",
          "Lunch"
         ],
         "dtype": "float64",
         "stats": {
          "unique_count": 2,
          "nan_count": 0,
          "min": "7.719271580749945",
          "max": "7.871368087767369",
          "histogram": [
           {
            "bin_start": 7.719271580749945,
            "bin_end": 7.734481231451688,
            "count": 1
           },
           {
            "bin_start": 7.734481231451688,
            "bin_end": 7.74969088215343,
            "count": 0
           },
           {
            "bin_start": 7.74969088215343,
            "bin_end": 7.764900532855172,
            "count": 0
           },
           {
            "bin_start": 7.764900532855172,
            "bin_end": 7.780110183556914,
            "count": 0
           },
           {
            "bin_start": 7.780110183556914,
            "bin_end": 7.795319834258657,
            "count": 0
           },
           {
            "bin_start": 7.795319834258657,
            "bin_end": 7.8105294849604,
            "count": 0
           },
           {
            "bin_start": 7.8105294849604,
            "bin_end": 7.8257391356621415,
            "count": 0
           },
           {
            "bin_start": 7.8257391356621415,
            "bin_end": 7.840948786363884,
            "count": 0
           },
           {
            "bin_start": 7.840948786363884,
            "bin_end": 7.856158437065626,
            "count": 0
           },
           {
            "bin_start": 7.856158437065626,
            "bin_end": 7.871368087767369,
            "count": 1
           }
          ]
         }
        },
        {
         "name": [
          "std",
          "total_bill",
          "Dinner"
         ],
         "dtype": "float64",
         "stats": {
          "unique_count": 2,
          "nan_count": 0,
          "min": "8.342950376714455",
          "max": "10.2053296513109",
          "histogram": [
           {
            "bin_start": 8.342950376714455,
            "bin_end": 8.529188304174099,
            "count": 1
           },
           {
            "bin_start": 8.529188304174099,
            "bin_end": 8.715426231633744,
            "count": 0
           },
           {
            "bin_start": 8.715426231633744,
            "bin_end": 8.90166415909339,
            "count": 0
           },
           {
            "bin_start": 8.90166415909339,
            "bin_end": 9.087902086553033,
            "count": 0
           },
           {
            "bin_start": 9.087902086553033,
            "bin_end": 9.274140014012676,
            "count": 0
           },
           {
            "bin_start": 9.274140014012676,
            "bin_end": 9.460377941472322,
            "count": 0
           },
           {
            "bin_start": 9.460377941472322,
            "bin_end": 9.646615868931967,
            "count": 0
           },
           {
            "bin_start": 9.646615868931967,
            "bin_end": 9.83285379639161,
            "count": 0
           },
           {
            "bin_start": 9.83285379639161,
            "bin_end": 10.019091723851254,
            "count": 0
           },
           {
            "bin_start": 10.019091723851254,
            "bin_end": 10.2053296513109,
            "count": 1
           }
          ]
         }
        },
        {
         "name": "_deepnote_index_column",
         "dtype": "category"
        }
       ],
       "rows_top": [
        {
         "('median', 'tip', 'Lunch')": 2.5,
         "('median', 'tip', 'Dinner')": 3,
         "('median', 'total_bill', 'Lunch')": 16,
         "('median', 'total_bill', 'Dinner')": 20.695,
         "('std', 'tip', 'Lunch')": 1.055831538245638,
         "('std', 'tip', 'Dinner')": 1.4999714006935438,
         "('std', 'total_bill', 'Lunch')": 7.871368087767369,
         "('std', 'total_bill', 'Dinner')": 10.2053296513109,
         "_deepnote_index_column": "Yes"
        },
        {
         "('median', 'tip', 'Lunch')": 2.18,
         "('median', 'tip', 'Dinner')": 3,
         "('median', 'total_bill', 'Lunch')": 15.95,
         "('median', 'total_bill', 'Dinner')": 18.265,
         "('std', 'tip', 'Lunch')": 1.2829640554889945,
         "('std', 'tip', 'Dinner')": 1.3992803342177942,
         "('std', 'total_bill', 'Lunch')": 7.719271580749945,
         "('std', 'total_bill', 'Dinner')": 8.342950376714455,
         "_deepnote_index_column": "No"
        }
       ],
       "rows_bottom": null
      },
      "text/plain": "       median                            std                         \n          tip        total_bill          tip        total_bill       \ntime    Lunch Dinner      Lunch Dinner Lunch Dinner      Lunch Dinner\nsmoker                                                               \nYes     2.500  3.000     16.000 20.695 1.056  1.500      7.871 10.205\nNo      2.180  3.000     15.950 18.265 1.283  1.399      7.719  8.343",
      "text/html": "<div>\n<style scoped>\n    .dataframe tbody tr th:only-of-type {\n        vertical-align: middle;\n    }\n\n    .dataframe tbody tr th {\n        vertical-align: top;\n    }\n\n    .dataframe thead tr th {\n        text-align: left;\n    }\n\n    .dataframe thead tr:last-of-type th {\n        text-align: right;\n    }\n</style>\n<table border=\"1\" class=\"dataframe\">\n  <thead>\n    <tr>\n      <th></th>\n      <th colspan=\"4\" halign=\"left\">median</th>\n      <th colspan=\"4\" halign=\"left\">std</th>\n    </tr>\n    <tr>\n      <th></th>\n      <th colspan=\"2\" halign=\"left\">tip</th>\n      <th colspan=\"2\" halign=\"left\">total_bill</th>\n      <th colspan=\"2\" halign=\"left\">tip</th>\n      <th colspan=\"2\" halign=\"left\">total_bill</th>\n    </tr>\n    <tr>\n      <th>time</th>\n      <th>Lunch</th>\n      <th>Dinner</th>\n      <th>Lunch</th>\n      <th>Dinner</th>\n      <th>Lunch</th>\n      <th>Dinner</th>\n      <th>Lunch</th>\n      <th>Dinner</th>\n    </tr>\n    <tr>\n      <th>smoker</th>\n      <th></th>\n      <th></th>\n      <th></th>\n      <th></th>\n      <th></th>\n      <th></th>\n      <th></th>\n      <th></th>\n    </tr>\n  </thead>\n  <tbody>\n    <tr>\n      <th>Yes</th>\n      <td>2.500</td>\n      <td>3.000</td>\n      <td>16.000</td>\n      <td>20.695</td>\n      <td>1.056</td>\n      <td>1.500</td>\n      <td>7.871</td>\n      <td>10.205</td>\n    </tr>\n    <tr>\n      <th>No</th>\n      <td>2.180</td>\n      <td>3.000</td>\n      <td>15.950</td>\n      <td>18.265</td>\n      <td>1.283</td>\n      <td>1.399</td>\n      <td>7.719</td>\n      <td>8.343</td>\n    </tr>\n  </tbody>\n</table>\n</div>"
     },
     "metadata": {}
    }
   ],
   "execution_count": 33
  },
  {
   "cell_type": "markdown",
   "source": "<a style='text-decoration:none;line-height:16px;display:flex;color:#5B5B62;padding:10px;justify-content:end;' href='https://deepnote.com?utm_source=created-in-deepnote-cell&projectId=40d7a071-7e6a-4668-9914-a7e81441c111' target=\"_blank\">\n<img alt='Created in deepnote.com' style='display:inline;max-height:16px;margin:0px;margin-right:7.5px;' src='data:image/svg+xml;base64,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' > </img>\nCreated in <span style='font-weight:600;margin-left:4px;'>Deepnote</span></a>",
   "metadata": {
    "tags": [],
    "created_in_deepnote_cell": true,
    "deepnote_cell_type": "markdown"
   }
  }
 ],
 "nbformat": 4,
 "nbformat_minor": 2,
 "metadata": {
  "orig_nbformat": 2,
  "deepnote": {
   "is_reactive": false
  },
  "deepnote_notebook_id": "8ac8f9aa-64b0-4793-9d4c-abb94bdd1db4",
  "deepnote_execution_queue": []
 }
}