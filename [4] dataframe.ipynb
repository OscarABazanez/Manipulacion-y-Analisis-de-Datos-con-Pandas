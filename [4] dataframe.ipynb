{
 "cells": [
  {
   "cell_type": "code",
   "metadata": {
    "tags": [],
    "cell_id": "00000-b66ff593-1dc6-4591-adf6-c7265d47f4df",
    "deepnote_to_be_reexecuted": false,
    "source_hash": "46d7213c",
    "execution_start": 1624810088617,
    "execution_millis": 5,
    "deepnote_cell_type": "code"
   },
   "source": "import pandas as pd\nimport numpy as np\n\ndict_data = {'CH': [100, 800, 200], 'CO': [100, 200, 300], 'MX': [300, 500, 400]}\ndict_data",
   "execution_count": 9,
   "outputs": [
    {
     "output_type": "execute_result",
     "execution_count": 9,
     "data": {
      "text/plain": "{'CH': [100, 800, 200], 'CO': [100, 200, 300], 'MX': [300, 500, 400]}"
     },
     "metadata": {}
    }
   ]
  },
  {
   "cell_type": "markdown",
   "source": "# Crear un DataFrame",
   "metadata": {
    "tags": [],
    "cell_id": "00001-2ba3cf79-eebe-4009-90ae-46c2891e7dc2",
    "deepnote_cell_type": "markdown"
   }
  },
  {
   "cell_type": "code",
   "source": "df = pd.DataFrame(dict_data)\ndf",
   "metadata": {
    "tags": [],
    "cell_id": "00001-debd98b6-1e88-4a25-95ea-f6c7dba05ebf",
    "deepnote_to_be_reexecuted": false,
    "source_hash": "6033272a",
    "execution_start": 1624810088862,
    "execution_millis": 4,
    "deepnote_cell_type": "code"
   },
   "outputs": [
    {
     "output_type": "execute_result",
     "execution_count": 10,
     "data": {
      "application/vnd.deepnote.dataframe.v2+json": {
       "row_count": 3,
       "column_count": 3,
       "columns": [
        {
         "name": "CH",
         "dtype": "int64",
         "stats": {
          "unique_count": 3,
          "nan_count": 0,
          "min": "100",
          "max": "800",
          "histogram": [
           {
            "bin_start": 100,
            "bin_end": 170,
            "count": 1
           },
           {
            "bin_start": 170,
            "bin_end": 240,
            "count": 1
           },
           {
            "bin_start": 240,
            "bin_end": 310,
            "count": 0
           },
           {
            "bin_start": 310,
            "bin_end": 380,
            "count": 0
           },
           {
            "bin_start": 380,
            "bin_end": 450,
            "count": 0
           },
           {
            "bin_start": 450,
            "bin_end": 520,
            "count": 0
           },
           {
            "bin_start": 520,
            "bin_end": 590,
            "count": 0
           },
           {
            "bin_start": 590,
            "bin_end": 660,
            "count": 0
           },
           {
            "bin_start": 660,
            "bin_end": 730,
            "count": 0
           },
           {
            "bin_start": 730,
            "bin_end": 800,
            "count": 1
           }
          ]
         }
        },
        {
         "name": "CO",
         "dtype": "int64",
         "stats": {
          "unique_count": 3,
          "nan_count": 0,
          "min": "100",
          "max": "300",
          "histogram": [
           {
            "bin_start": 100,
            "bin_end": 120,
            "count": 1
           },
           {
            "bin_start": 120,
            "bin_end": 140,
            "count": 0
           },
           {
            "bin_start": 140,
            "bin_end": 160,
            "count": 0
           },
           {
            "bin_start": 160,
            "bin_end": 180,
            "count": 0
           },
           {
            "bin_start": 180,
            "bin_end": 200,
            "count": 0
           },
           {
            "bin_start": 200,
            "bin_end": 220,
            "count": 1
           },
           {
            "bin_start": 220,
            "bin_end": 240,
            "count": 0
           },
           {
            "bin_start": 240,
            "bin_end": 260,
            "count": 0
           },
           {
            "bin_start": 260,
            "bin_end": 280,
            "count": 0
           },
           {
            "bin_start": 280,
            "bin_end": 300,
            "count": 1
           }
          ]
         }
        },
        {
         "name": "MX",
         "dtype": "int64",
         "stats": {
          "unique_count": 3,
          "nan_count": 0,
          "min": "300",
          "max": "500",
          "histogram": [
           {
            "bin_start": 300,
            "bin_end": 320,
            "count": 1
           },
           {
            "bin_start": 320,
            "bin_end": 340,
            "count": 0
           },
           {
            "bin_start": 340,
            "bin_end": 360,
            "count": 0
           },
           {
            "bin_start": 360,
            "bin_end": 380,
            "count": 0
           },
           {
            "bin_start": 380,
            "bin_end": 400,
            "count": 0
           },
           {
            "bin_start": 400,
            "bin_end": 420,
            "count": 1
           },
           {
            "bin_start": 420,
            "bin_end": 440,
            "count": 0
           },
           {
            "bin_start": 440,
            "bin_end": 460,
            "count": 0
           },
           {
            "bin_start": 460,
            "bin_end": 480,
            "count": 0
           },
           {
            "bin_start": 480,
            "bin_end": 500,
            "count": 1
           }
          ]
         }
        },
        {
         "name": "_deepnote_index_column",
         "dtype": "int64"
        }
       ],
       "rows_top": [
        {
         "CH": 100,
         "CO": 100,
         "MX": 300,
         "_deepnote_index_column": 0
        },
        {
         "CH": 800,
         "CO": 200,
         "MX": 500,
         "_deepnote_index_column": 1
        },
        {
         "CH": 200,
         "CO": 300,
         "MX": 400,
         "_deepnote_index_column": 2
        }
       ],
       "rows_bottom": null
      },
      "text/plain": "    CH   CO   MX\n0  100  100  300\n1  800  200  500\n2  200  300  400",
      "text/html": "<div>\n<style scoped>\n    .dataframe tbody tr th:only-of-type {\n        vertical-align: middle;\n    }\n\n    .dataframe tbody tr th {\n        vertical-align: top;\n    }\n\n    .dataframe thead th {\n        text-align: right;\n    }\n</style>\n<table border=\"1\" class=\"dataframe\">\n  <thead>\n    <tr style=\"text-align: right;\">\n      <th></th>\n      <th>CH</th>\n      <th>CO</th>\n      <th>MX</th>\n    </tr>\n  </thead>\n  <tbody>\n    <tr>\n      <th>0</th>\n      <td>100</td>\n      <td>100</td>\n      <td>300</td>\n    </tr>\n    <tr>\n      <th>1</th>\n      <td>800</td>\n      <td>200</td>\n      <td>500</td>\n    </tr>\n    <tr>\n      <th>2</th>\n      <td>200</td>\n      <td>300</td>\n      <td>400</td>\n    </tr>\n  </tbody>\n</table>\n</div>"
     },
     "metadata": {}
    }
   ],
   "execution_count": 10
  },
  {
   "cell_type": "code",
   "source": "dict_data2 = {\n    'edad' :     [ 10, 9, 13, 14, 12, 11, 12],\n    'cm' : [ 115, 110, 130, 155, 125, 120, 125],\n    'pais' :    [ 'co', 'mx', 'co', 'mx', 'mx', 'ch', 'ch'],\n    'genero' :  [ 'M', 'F', 'F', 'M', 'M', 'M', 'F'],\n    'Q1' : [ 5, 10, 8, np.nan, 7, 8, 3],\n    'Q2' : [ 7, 9, 9, 8, 8, 8, 9.]\n}\ndict_data2",
   "metadata": {
    "tags": [],
    "cell_id": "00002-d022f84e-d29a-4726-abb2-ea4abe500d73",
    "deepnote_to_be_reexecuted": false,
    "source_hash": "683ad207",
    "execution_start": 1624810108927,
    "execution_millis": 12,
    "deepnote_cell_type": "code"
   },
   "outputs": [
    {
     "output_type": "execute_result",
     "execution_count": 12,
     "data": {
      "text/plain": "{'edad': [10, 9, 13, 14, 12, 11, 12],\n 'cm': [115, 110, 130, 155, 125, 120, 125],\n 'pais': ['co', 'mx', 'co', 'mx', 'mx', 'ch', 'ch'],\n 'genero': ['M', 'F', 'F', 'M', 'M', 'M', 'F'],\n 'Q1': [5, 10, 8, nan, 7, 8, 3],\n 'Q2': [7, 9, 9, 8, 8, 8, 9.0]}"
     },
     "metadata": {}
    }
   ],
   "execution_count": 12
  },
  {
   "cell_type": "code",
   "source": "df2 = pd.DataFrame(dict_data2,index=['ana','benito','camilo','daniel','erika','fabian','gabriela'])\ndf2",
   "metadata": {
    "tags": [],
    "cell_id": "00003-0bc7da8f-4b51-4270-b6c7-eba029dc7b5d",
    "deepnote_to_be_reexecuted": false,
    "source_hash": "dfa1ccd2",
    "execution_start": 1624810182892,
    "execution_millis": 22,
    "deepnote_cell_type": "code"
   },
   "outputs": [
    {
     "output_type": "execute_result",
     "execution_count": 18,
     "data": {
      "application/vnd.deepnote.dataframe.v2+json": {
       "row_count": 7,
       "column_count": 6,
       "columns": [
        {
         "name": "edad",
         "dtype": "int64",
         "stats": {
          "unique_count": 6,
          "nan_count": 0,
          "min": "9",
          "max": "14",
          "histogram": [
           {
            "bin_start": 9,
            "bin_end": 9.5,
            "count": 1
           },
           {
            "bin_start": 9.5,
            "bin_end": 10,
            "count": 0
           },
           {
            "bin_start": 10,
            "bin_end": 10.5,
            "count": 1
           },
           {
            "bin_start": 10.5,
            "bin_end": 11,
            "count": 0
           },
           {
            "bin_start": 11,
            "bin_end": 11.5,
            "count": 1
           },
           {
            "bin_start": 11.5,
            "bin_end": 12,
            "count": 0
           },
           {
            "bin_start": 12,
            "bin_end": 12.5,
            "count": 2
           },
           {
            "bin_start": 12.5,
            "bin_end": 13,
            "count": 0
           },
           {
            "bin_start": 13,
            "bin_end": 13.5,
            "count": 1
           },
           {
            "bin_start": 13.5,
            "bin_end": 14,
            "count": 1
           }
          ]
         }
        },
        {
         "name": "cm",
         "dtype": "int64",
         "stats": {
          "unique_count": 6,
          "nan_count": 0,
          "min": "110",
          "max": "155",
          "histogram": [
           {
            "bin_start": 110,
            "bin_end": 114.5,
            "count": 1
           },
           {
            "bin_start": 114.5,
            "bin_end": 119,
            "count": 1
           },
           {
            "bin_start": 119,
            "bin_end": 123.5,
            "count": 1
           },
           {
            "bin_start": 123.5,
            "bin_end": 128,
            "count": 2
           },
           {
            "bin_start": 128,
            "bin_end": 132.5,
            "count": 1
           },
           {
            "bin_start": 132.5,
            "bin_end": 137,
            "count": 0
           },
           {
            "bin_start": 137,
            "bin_end": 141.5,
            "count": 0
           },
           {
            "bin_start": 141.5,
            "bin_end": 146,
            "count": 0
           },
           {
            "bin_start": 146,
            "bin_end": 150.5,
            "count": 0
           },
           {
            "bin_start": 150.5,
            "bin_end": 155,
            "count": 1
           }
          ]
         }
        },
        {
         "name": "pais",
         "dtype": "object",
         "stats": {
          "unique_count": 3,
          "nan_count": 0,
          "categories": [
           {
            "name": "mx",
            "count": 3
           },
           {
            "name": "co",
            "count": 2
           },
           {
            "name": "ch",
            "count": 2
           }
          ]
         }
        },
        {
         "name": "genero",
         "dtype": "object",
         "stats": {
          "unique_count": 2,
          "nan_count": 0,
          "categories": [
           {
            "name": "M",
            "count": 4
           },
           {
            "name": "F",
            "count": 3
           }
          ]
         }
        },
        {
         "name": "Q1",
         "dtype": "float64",
         "stats": {
          "unique_count": 5,
          "nan_count": 1,
          "min": "3.0",
          "max": "10.0",
          "histogram": [
           {
            "bin_start": 3,
            "bin_end": 3.7,
            "count": 1
           },
           {
            "bin_start": 3.7,
            "bin_end": 4.4,
            "count": 0
           },
           {
            "bin_start": 4.4,
            "bin_end": 5.1,
            "count": 1
           },
           {
            "bin_start": 5.1,
            "bin_end": 5.8,
            "count": 0
           },
           {
            "bin_start": 5.8,
            "bin_end": 6.5,
            "count": 0
           },
           {
            "bin_start": 6.5,
            "bin_end": 7.199999999999999,
            "count": 1
           },
           {
            "bin_start": 7.199999999999999,
            "bin_end": 7.8999999999999995,
            "count": 0
           },
           {
            "bin_start": 7.8999999999999995,
            "bin_end": 8.6,
            "count": 2
           },
           {
            "bin_start": 8.6,
            "bin_end": 9.3,
            "count": 0
           },
           {
            "bin_start": 9.3,
            "bin_end": 10,
            "count": 1
           }
          ]
         }
        },
        {
         "name": "Q2",
         "dtype": "float64",
         "stats": {
          "unique_count": 3,
          "nan_count": 0,
          "min": "7.0",
          "max": "9.0",
          "histogram": [
           {
            "bin_start": 7,
            "bin_end": 7.2,
            "count": 1
           },
           {
            "bin_start": 7.2,
            "bin_end": 7.4,
            "count": 0
           },
           {
            "bin_start": 7.4,
            "bin_end": 7.6,
            "count": 0
           },
           {
            "bin_start": 7.6,
            "bin_end": 7.8,
            "count": 0
           },
           {
            "bin_start": 7.8,
            "bin_end": 8,
            "count": 0
           },
           {
            "bin_start": 8,
            "bin_end": 8.2,
            "count": 3
           },
           {
            "bin_start": 8.2,
            "bin_end": 8.4,
            "count": 0
           },
           {
            "bin_start": 8.4,
            "bin_end": 8.6,
            "count": 0
           },
           {
            "bin_start": 8.6,
            "bin_end": 8.8,
            "count": 0
           },
           {
            "bin_start": 8.8,
            "bin_end": 9,
            "count": 3
           }
          ]
         }
        },
        {
         "name": "_deepnote_index_column",
         "dtype": "object"
        }
       ],
       "rows_top": [
        {
         "edad": 10,
         "cm": 115,
         "pais": "co",
         "genero": "M",
         "Q1": 5,
         "Q2": 7,
         "_deepnote_index_column": "ana"
        },
        {
         "edad": 9,
         "cm": 110,
         "pais": "mx",
         "genero": "F",
         "Q1": 10,
         "Q2": 9,
         "_deepnote_index_column": "benito"
        },
        {
         "edad": 13,
         "cm": 130,
         "pais": "co",
         "genero": "F",
         "Q1": 8,
         "Q2": 9,
         "_deepnote_index_column": "camilo"
        },
        {
         "edad": 14,
         "cm": 155,
         "pais": "mx",
         "genero": "M",
         "Q1": "nan",
         "Q2": 8,
         "_deepnote_index_column": "daniel"
        },
        {
         "edad": 12,
         "cm": 125,
         "pais": "mx",
         "genero": "M",
         "Q1": 7,
         "Q2": 8,
         "_deepnote_index_column": "erika"
        },
        {
         "edad": 11,
         "cm": 120,
         "pais": "ch",
         "genero": "M",
         "Q1": 8,
         "Q2": 8,
         "_deepnote_index_column": "fabian"
        },
        {
         "edad": 12,
         "cm": 125,
         "pais": "ch",
         "genero": "F",
         "Q1": 3,
         "Q2": 9,
         "_deepnote_index_column": "gabriela"
        }
       ],
       "rows_bottom": null
      },
      "text/plain": "          edad   cm pais genero    Q1   Q2\nana         10  115   co      M   5.0  7.0\nbenito       9  110   mx      F  10.0  9.0\ncamilo      13  130   co      F   8.0  9.0\ndaniel      14  155   mx      M   NaN  8.0\nerika       12  125   mx      M   7.0  8.0\nfabian      11  120   ch      M   8.0  8.0\ngabriela    12  125   ch      F   3.0  9.0",
      "text/html": "<div>\n<style scoped>\n    .dataframe tbody tr th:only-of-type {\n        vertical-align: middle;\n    }\n\n    .dataframe tbody tr th {\n        vertical-align: top;\n    }\n\n    .dataframe thead th {\n        text-align: right;\n    }\n</style>\n<table border=\"1\" class=\"dataframe\">\n  <thead>\n    <tr style=\"text-align: right;\">\n      <th></th>\n      <th>edad</th>\n      <th>cm</th>\n      <th>pais</th>\n      <th>genero</th>\n      <th>Q1</th>\n      <th>Q2</th>\n    </tr>\n  </thead>\n  <tbody>\n    <tr>\n      <th>ana</th>\n      <td>10</td>\n      <td>115</td>\n      <td>co</td>\n      <td>M</td>\n      <td>5.0</td>\n      <td>7.0</td>\n    </tr>\n    <tr>\n      <th>benito</th>\n      <td>9</td>\n      <td>110</td>\n      <td>mx</td>\n      <td>F</td>\n      <td>10.0</td>\n      <td>9.0</td>\n    </tr>\n    <tr>\n      <th>camilo</th>\n      <td>13</td>\n      <td>130</td>\n      <td>co</td>\n      <td>F</td>\n      <td>8.0</td>\n      <td>9.0</td>\n    </tr>\n    <tr>\n      <th>daniel</th>\n      <td>14</td>\n      <td>155</td>\n      <td>mx</td>\n      <td>M</td>\n      <td>NaN</td>\n      <td>8.0</td>\n    </tr>\n    <tr>\n      <th>erika</th>\n      <td>12</td>\n      <td>125</td>\n      <td>mx</td>\n      <td>M</td>\n      <td>7.0</td>\n      <td>8.0</td>\n    </tr>\n    <tr>\n      <th>fabian</th>\n      <td>11</td>\n      <td>120</td>\n      <td>ch</td>\n      <td>M</td>\n      <td>8.0</td>\n      <td>8.0</td>\n    </tr>\n    <tr>\n      <th>gabriela</th>\n      <td>12</td>\n      <td>125</td>\n      <td>ch</td>\n      <td>F</td>\n      <td>3.0</td>\n      <td>9.0</td>\n    </tr>\n  </tbody>\n</table>\n</div>"
     },
     "metadata": {}
    }
   ],
   "execution_count": 18
  },
  {
   "cell_type": "markdown",
   "source": "# Funciones de Pandas",
   "metadata": {
    "tags": [],
    "cell_id": "00005-669f747f-47a8-4d4f-a2c9-3837e2384fc7",
    "deepnote_cell_type": "markdown"
   }
  },
  {
   "cell_type": "code",
   "source": "df2.columns\ndf2.values\ndf2.index\n#Te mostrara el minimo. maximo, media,std,…etc de las columnas numericas.\ndf2.describe()",
   "metadata": {
    "tags": [],
    "cell_id": "00004-01542d92-97cf-4e26-9662-e6260ca8a367",
    "deepnote_to_be_reexecuted": false,
    "source_hash": "106d0eec",
    "execution_start": 1624811264978,
    "execution_millis": 34,
    "deepnote_cell_type": "code"
   },
   "outputs": [
    {
     "output_type": "execute_result",
     "execution_count": 51,
     "data": {
      "application/vnd.deepnote.dataframe.v2+json": {
       "row_count": 8,
       "column_count": 4,
       "columns": [
        {
         "name": "edad",
         "dtype": "float64",
         "stats": {
          "unique_count": 8,
          "nan_count": 0,
          "min": "1.7182493859684491",
          "max": "14.0",
          "histogram": [
           {
            "bin_start": 1.7182493859684491,
            "bin_end": 2.946424447371604,
            "count": 1
           },
           {
            "bin_start": 2.946424447371604,
            "bin_end": 4.17459950877476,
            "count": 0
           },
           {
            "bin_start": 4.17459950877476,
            "bin_end": 5.402774570177915,
            "count": 0
           },
           {
            "bin_start": 5.402774570177915,
            "bin_end": 6.63094963158107,
            "count": 0
           },
           {
            "bin_start": 6.63094963158107,
            "bin_end": 7.859124692984225,
            "count": 1
           },
           {
            "bin_start": 7.859124692984225,
            "bin_end": 9.08729975438738,
            "count": 1
           },
           {
            "bin_start": 9.08729975438738,
            "bin_end": 10.315474815790536,
            "count": 0
           },
           {
            "bin_start": 10.315474815790536,
            "bin_end": 11.54364987719369,
            "count": 1
           },
           {
            "bin_start": 11.54364987719369,
            "bin_end": 12.771824938596845,
            "count": 3
           },
           {
            "bin_start": 12.771824938596845,
            "bin_end": 14,
            "count": 1
           }
          ]
         }
        },
        {
         "name": "cm",
         "dtype": "float64",
         "stats": {
          "unique_count": 8,
          "nan_count": 0,
          "min": "7.0",
          "max": "155.0",
          "histogram": [
           {
            "bin_start": 7,
            "bin_end": 21.8,
            "count": 2
           },
           {
            "bin_start": 21.8,
            "bin_end": 36.6,
            "count": 0
           },
           {
            "bin_start": 36.6,
            "bin_end": 51.400000000000006,
            "count": 0
           },
           {
            "bin_start": 51.400000000000006,
            "bin_end": 66.2,
            "count": 0
           },
           {
            "bin_start": 66.2,
            "bin_end": 81,
            "count": 0
           },
           {
            "bin_start": 81,
            "bin_end": 95.80000000000001,
            "count": 0
           },
           {
            "bin_start": 95.80000000000001,
            "bin_end": 110.60000000000001,
            "count": 1
           },
           {
            "bin_start": 110.60000000000001,
            "bin_end": 125.4,
            "count": 2
           },
           {
            "bin_start": 125.4,
            "bin_end": 140.20000000000002,
            "count": 2
           },
           {
            "bin_start": 140.20000000000002,
            "bin_end": 155,
            "count": 1
           }
          ]
         }
        },
        {
         "name": "Q1",
         "dtype": "float64",
         "stats": {
          "unique_count": 8,
          "nan_count": 0,
          "min": "2.48327740429189",
          "max": "10.0",
          "histogram": [
           {
            "bin_start": 2.48327740429189,
            "bin_end": 3.234949663862701,
            "count": 2
           },
           {
            "bin_start": 3.234949663862701,
            "bin_end": 3.986621923433512,
            "count": 0
           },
           {
            "bin_start": 3.986621923433512,
            "bin_end": 4.738294183004323,
            "count": 0
           },
           {
            "bin_start": 4.738294183004323,
            "bin_end": 5.489966442575134,
            "count": 0
           },
           {
            "bin_start": 5.489966442575134,
            "bin_end": 6.241638702145945,
            "count": 2
           },
           {
            "bin_start": 6.241638702145945,
            "bin_end": 6.993310961716755,
            "count": 1
           },
           {
            "bin_start": 6.993310961716755,
            "bin_end": 7.744983221287566,
            "count": 1
           },
           {
            "bin_start": 7.744983221287566,
            "bin_end": 8.496655480858378,
            "count": 1
           },
           {
            "bin_start": 8.496655480858378,
            "bin_end": 9.24832774042919,
            "count": 0
           },
           {
            "bin_start": 9.24832774042919,
            "bin_end": 10,
            "count": 1
           }
          ]
         }
        },
        {
         "name": "Q2",
         "dtype": "float64",
         "stats": {
          "unique_count": 5,
          "nan_count": 0,
          "min": "0.7559289460184545",
          "max": "9.0",
          "histogram": [
           {
            "bin_start": 0.7559289460184545,
            "bin_end": 1.5803360514166092,
            "count": 1
           },
           {
            "bin_start": 1.5803360514166092,
            "bin_end": 2.4047431568147637,
            "count": 0
           },
           {
            "bin_start": 2.4047431568147637,
            "bin_end": 3.2291502622129187,
            "count": 0
           },
           {
            "bin_start": 3.2291502622129187,
            "bin_end": 4.053557367611073,
            "count": 0
           },
           {
            "bin_start": 4.053557367611073,
            "bin_end": 4.877964473009228,
            "count": 0
           },
           {
            "bin_start": 4.877964473009228,
            "bin_end": 5.702371578407383,
            "count": 0
           },
           {
            "bin_start": 5.702371578407383,
            "bin_end": 6.526778683805537,
            "count": 0
           },
           {
            "bin_start": 6.526778683805537,
            "bin_end": 7.351185789203692,
            "count": 2
           },
           {
            "bin_start": 7.351185789203692,
            "bin_end": 8.175592894601847,
            "count": 2
           },
           {
            "bin_start": 8.175592894601847,
            "bin_end": 9,
            "count": 3
           }
          ]
         }
        },
        {
         "name": "_deepnote_index_column",
         "dtype": "object"
        }
       ],
       "rows_top": [
        {
         "edad": 7,
         "cm": 7,
         "Q1": 6,
         "Q2": 7,
         "_deepnote_index_column": "count"
        },
        {
         "edad": 11.571428571428571,
         "cm": 125.71428571428571,
         "Q1": 6.833333333333333,
         "Q2": 8.285714285714286,
         "_deepnote_index_column": "mean"
        },
        {
         "edad": 1.7182493859684491,
         "cm": 14.55694892155502,
         "Q1": 2.48327740429189,
         "Q2": 0.7559289460184545,
         "_deepnote_index_column": "std"
        },
        {
         "edad": 9,
         "cm": 110,
         "Q1": 3,
         "Q2": 7,
         "_deepnote_index_column": "min"
        },
        {
         "edad": 10.5,
         "cm": 117.5,
         "Q1": 5.5,
         "Q2": 8,
         "_deepnote_index_column": "25%"
        },
        {
         "edad": 12,
         "cm": 125,
         "Q1": 7.5,
         "Q2": 8,
         "_deepnote_index_column": "50%"
        },
        {
         "edad": 12.5,
         "cm": 127.5,
         "Q1": 8,
         "Q2": 9,
         "_deepnote_index_column": "75%"
        },
        {
         "edad": 14,
         "cm": 155,
         "Q1": 10,
         "Q2": 9,
         "_deepnote_index_column": "max"
        }
       ],
       "rows_bottom": null
      },
      "text/plain": "            edad          cm         Q1        Q2\ncount   7.000000    7.000000   6.000000  7.000000\nmean   11.571429  125.714286   6.833333  8.285714\nstd     1.718249   14.556949   2.483277  0.755929\nmin     9.000000  110.000000   3.000000  7.000000\n25%    10.500000  117.500000   5.500000  8.000000\n50%    12.000000  125.000000   7.500000  8.000000\n75%    12.500000  127.500000   8.000000  9.000000\nmax    14.000000  155.000000  10.000000  9.000000",
      "text/html": "<div>\n<style scoped>\n    .dataframe tbody tr th:only-of-type {\n        vertical-align: middle;\n    }\n\n    .dataframe tbody tr th {\n        vertical-align: top;\n    }\n\n    .dataframe thead th {\n        text-align: right;\n    }\n</style>\n<table border=\"1\" class=\"dataframe\">\n  <thead>\n    <tr style=\"text-align: right;\">\n      <th></th>\n      <th>edad</th>\n      <th>cm</th>\n      <th>Q1</th>\n      <th>Q2</th>\n    </tr>\n  </thead>\n  <tbody>\n    <tr>\n      <th>count</th>\n      <td>7.000000</td>\n      <td>7.000000</td>\n      <td>6.000000</td>\n      <td>7.000000</td>\n    </tr>\n    <tr>\n      <th>mean</th>\n      <td>11.571429</td>\n      <td>125.714286</td>\n      <td>6.833333</td>\n      <td>8.285714</td>\n    </tr>\n    <tr>\n      <th>std</th>\n      <td>1.718249</td>\n      <td>14.556949</td>\n      <td>2.483277</td>\n      <td>0.755929</td>\n    </tr>\n    <tr>\n      <th>min</th>\n      <td>9.000000</td>\n      <td>110.000000</td>\n      <td>3.000000</td>\n      <td>7.000000</td>\n    </tr>\n    <tr>\n      <th>25%</th>\n      <td>10.500000</td>\n      <td>117.500000</td>\n      <td>5.500000</td>\n      <td>8.000000</td>\n    </tr>\n    <tr>\n      <th>50%</th>\n      <td>12.000000</td>\n      <td>125.000000</td>\n      <td>7.500000</td>\n      <td>8.000000</td>\n    </tr>\n    <tr>\n      <th>75%</th>\n      <td>12.500000</td>\n      <td>127.500000</td>\n      <td>8.000000</td>\n      <td>9.000000</td>\n    </tr>\n    <tr>\n      <th>max</th>\n      <td>14.000000</td>\n      <td>155.000000</td>\n      <td>10.000000</td>\n      <td>9.000000</td>\n    </tr>\n  </tbody>\n</table>\n</div>"
     },
     "metadata": {}
    }
   ],
   "execution_count": 51
  },
  {
   "cell_type": "markdown",
   "source": "Valores repetidos y valores unicos",
   "metadata": {
    "tags": [],
    "cell_id": "00007-4dfef7be-4081-4707-9ceb-bf0623e21f41",
    "deepnote_cell_type": "markdown"
   }
  },
  {
   "cell_type": "code",
   "source": "df2['edad'].value_counts()\ndf2['edad'].unique()",
   "metadata": {
    "tags": [],
    "cell_id": "00007-4fd5efd1-6891-400d-aa42-f22d7771b4bf",
    "deepnote_to_be_reexecuted": false,
    "source_hash": "fce5d63",
    "execution_start": 1624811352958,
    "execution_millis": 10,
    "deepnote_cell_type": "code"
   },
   "outputs": [
    {
     "output_type": "execute_result",
     "execution_count": 55,
     "data": {
      "text/plain": "array([10,  9, 13, 14, 12, 11])"
     },
     "metadata": {}
    }
   ],
   "execution_count": 55
  },
  {
   "cell_type": "markdown",
   "source": "## Obtener los campos deseados",
   "metadata": {
    "tags": [],
    "cell_id": "00007-647b1ba3-4055-4998-8f13-89fcecd6dc8d",
    "deepnote_cell_type": "markdown"
   }
  },
  {
   "cell_type": "code",
   "source": "df2[['edad','cm','Q1']]",
   "metadata": {
    "tags": [],
    "cell_id": "00006-98d4acb4-b321-4356-9ad3-65250adaec43",
    "deepnote_to_be_reexecuted": false,
    "source_hash": "b33b50cc",
    "execution_start": 1624810284414,
    "execution_millis": 6,
    "deepnote_cell_type": "code"
   },
   "outputs": [
    {
     "output_type": "execute_result",
     "execution_count": 25,
     "data": {
      "application/vnd.deepnote.dataframe.v2+json": {
       "row_count": 7,
       "column_count": 3,
       "columns": [
        {
         "name": "edad",
         "dtype": "int64",
         "stats": {
          "unique_count": 6,
          "nan_count": 0,
          "min": "9",
          "max": "14",
          "histogram": [
           {
            "bin_start": 9,
            "bin_end": 9.5,
            "count": 1
           },
           {
            "bin_start": 9.5,
            "bin_end": 10,
            "count": 0
           },
           {
            "bin_start": 10,
            "bin_end": 10.5,
            "count": 1
           },
           {
            "bin_start": 10.5,
            "bin_end": 11,
            "count": 0
           },
           {
            "bin_start": 11,
            "bin_end": 11.5,
            "count": 1
           },
           {
            "bin_start": 11.5,
            "bin_end": 12,
            "count": 0
           },
           {
            "bin_start": 12,
            "bin_end": 12.5,
            "count": 2
           },
           {
            "bin_start": 12.5,
            "bin_end": 13,
            "count": 0
           },
           {
            "bin_start": 13,
            "bin_end": 13.5,
            "count": 1
           },
           {
            "bin_start": 13.5,
            "bin_end": 14,
            "count": 1
           }
          ]
         }
        },
        {
         "name": "cm",
         "dtype": "int64",
         "stats": {
          "unique_count": 6,
          "nan_count": 0,
          "min": "110",
          "max": "155",
          "histogram": [
           {
            "bin_start": 110,
            "bin_end": 114.5,
            "count": 1
           },
           {
            "bin_start": 114.5,
            "bin_end": 119,
            "count": 1
           },
           {
            "bin_start": 119,
            "bin_end": 123.5,
            "count": 1
           },
           {
            "bin_start": 123.5,
            "bin_end": 128,
            "count": 2
           },
           {
            "bin_start": 128,
            "bin_end": 132.5,
            "count": 1
           },
           {
            "bin_start": 132.5,
            "bin_end": 137,
            "count": 0
           },
           {
            "bin_start": 137,
            "bin_end": 141.5,
            "count": 0
           },
           {
            "bin_start": 141.5,
            "bin_end": 146,
            "count": 0
           },
           {
            "bin_start": 146,
            "bin_end": 150.5,
            "count": 0
           },
           {
            "bin_start": 150.5,
            "bin_end": 155,
            "count": 1
           }
          ]
         }
        },
        {
         "name": "Q1",
         "dtype": "float64",
         "stats": {
          "unique_count": 5,
          "nan_count": 1,
          "min": "3.0",
          "max": "10.0",
          "histogram": [
           {
            "bin_start": 3,
            "bin_end": 3.7,
            "count": 1
           },
           {
            "bin_start": 3.7,
            "bin_end": 4.4,
            "count": 0
           },
           {
            "bin_start": 4.4,
            "bin_end": 5.1,
            "count": 1
           },
           {
            "bin_start": 5.1,
            "bin_end": 5.8,
            "count": 0
           },
           {
            "bin_start": 5.8,
            "bin_end": 6.5,
            "count": 0
           },
           {
            "bin_start": 6.5,
            "bin_end": 7.199999999999999,
            "count": 1
           },
           {
            "bin_start": 7.199999999999999,
            "bin_end": 7.8999999999999995,
            "count": 0
           },
           {
            "bin_start": 7.8999999999999995,
            "bin_end": 8.6,
            "count": 2
           },
           {
            "bin_start": 8.6,
            "bin_end": 9.3,
            "count": 0
           },
           {
            "bin_start": 9.3,
            "bin_end": 10,
            "count": 1
           }
          ]
         }
        },
        {
         "name": "_deepnote_index_column",
         "dtype": "object"
        }
       ],
       "rows_top": [
        {
         "edad": 10,
         "cm": 115,
         "Q1": 5,
         "_deepnote_index_column": "ana"
        },
        {
         "edad": 9,
         "cm": 110,
         "Q1": 10,
         "_deepnote_index_column": "benito"
        },
        {
         "edad": 13,
         "cm": 130,
         "Q1": 8,
         "_deepnote_index_column": "camilo"
        },
        {
         "edad": 14,
         "cm": 155,
         "Q1": "nan",
         "_deepnote_index_column": "daniel"
        },
        {
         "edad": 12,
         "cm": 125,
         "Q1": 7,
         "_deepnote_index_column": "erika"
        },
        {
         "edad": 11,
         "cm": 120,
         "Q1": 8,
         "_deepnote_index_column": "fabian"
        },
        {
         "edad": 12,
         "cm": 125,
         "Q1": 3,
         "_deepnote_index_column": "gabriela"
        }
       ],
       "rows_bottom": null
      },
      "text/plain": "          edad   cm    Q1\nana         10  115   5.0\nbenito       9  110  10.0\ncamilo      13  130   8.0\ndaniel      14  155   NaN\nerika       12  125   7.0\nfabian      11  120   8.0\ngabriela    12  125   3.0",
      "text/html": "<div>\n<style scoped>\n    .dataframe tbody tr th:only-of-type {\n        vertical-align: middle;\n    }\n\n    .dataframe tbody tr th {\n        vertical-align: top;\n    }\n\n    .dataframe thead th {\n        text-align: right;\n    }\n</style>\n<table border=\"1\" class=\"dataframe\">\n  <thead>\n    <tr style=\"text-align: right;\">\n      <th></th>\n      <th>edad</th>\n      <th>cm</th>\n      <th>Q1</th>\n    </tr>\n  </thead>\n  <tbody>\n    <tr>\n      <th>ana</th>\n      <td>10</td>\n      <td>115</td>\n      <td>5.0</td>\n    </tr>\n    <tr>\n      <th>benito</th>\n      <td>9</td>\n      <td>110</td>\n      <td>10.0</td>\n    </tr>\n    <tr>\n      <th>camilo</th>\n      <td>13</td>\n      <td>130</td>\n      <td>8.0</td>\n    </tr>\n    <tr>\n      <th>daniel</th>\n      <td>14</td>\n      <td>155</td>\n      <td>NaN</td>\n    </tr>\n    <tr>\n      <th>erika</th>\n      <td>12</td>\n      <td>125</td>\n      <td>7.0</td>\n    </tr>\n    <tr>\n      <th>fabian</th>\n      <td>11</td>\n      <td>120</td>\n      <td>8.0</td>\n    </tr>\n    <tr>\n      <th>gabriela</th>\n      <td>12</td>\n      <td>125</td>\n      <td>3.0</td>\n    </tr>\n  </tbody>\n</table>\n</div>"
     },
     "metadata": {}
    }
   ],
   "execution_count": 25
  },
  {
   "cell_type": "markdown",
   "source": "## Localizar registros mediante sus indices y columnas",
   "metadata": {
    "tags": [],
    "cell_id": "00009-56b09cf8-8c0e-4688-bf03-0ab93cfd5cac",
    "deepnote_cell_type": "markdown"
   }
  },
  {
   "cell_type": "code",
   "source": "df2.loc['ana',['edad','cm','Q1']]",
   "metadata": {
    "tags": [],
    "cell_id": "00010-554f998b-a146-46c0-b706-a6c7f1b493db",
    "deepnote_to_be_reexecuted": false,
    "source_hash": "94f46",
    "execution_start": 1624810588282,
    "execution_millis": 4,
    "deepnote_cell_type": "code"
   },
   "outputs": [
    {
     "output_type": "execute_result",
     "execution_count": 28,
     "data": {
      "text/plain": "edad     10\ncm      115\nQ1      5.0\nName: ana, dtype: object"
     },
     "metadata": {}
    }
   ],
   "execution_count": 28
  },
  {
   "cell_type": "code",
   "source": "df2.loc[['ana','erika'],['edad','cm','Q1']]",
   "metadata": {
    "tags": [],
    "cell_id": "00011-dc5d4739-e93e-40bb-b61a-1a0005f56c52",
    "deepnote_to_be_reexecuted": false,
    "source_hash": "193f7892",
    "execution_start": 1624810603345,
    "execution_millis": 6,
    "deepnote_cell_type": "code"
   },
   "outputs": [
    {
     "output_type": "execute_result",
     "execution_count": 29,
     "data": {
      "application/vnd.deepnote.dataframe.v2+json": {
       "row_count": 2,
       "column_count": 3,
       "columns": [
        {
         "name": "edad",
         "dtype": "int64",
         "stats": {
          "unique_count": 2,
          "nan_count": 0,
          "min": "10",
          "max": "12",
          "histogram": [
           {
            "bin_start": 10,
            "bin_end": 10.2,
            "count": 1
           },
           {
            "bin_start": 10.2,
            "bin_end": 10.4,
            "count": 0
           },
           {
            "bin_start": 10.4,
            "bin_end": 10.6,
            "count": 0
           },
           {
            "bin_start": 10.6,
            "bin_end": 10.8,
            "count": 0
           },
           {
            "bin_start": 10.8,
            "bin_end": 11,
            "count": 0
           },
           {
            "bin_start": 11,
            "bin_end": 11.2,
            "count": 0
           },
           {
            "bin_start": 11.2,
            "bin_end": 11.4,
            "count": 0
           },
           {
            "bin_start": 11.4,
            "bin_end": 11.6,
            "count": 0
           },
           {
            "bin_start": 11.6,
            "bin_end": 11.8,
            "count": 0
           },
           {
            "bin_start": 11.8,
            "bin_end": 12,
            "count": 1
           }
          ]
         }
        },
        {
         "name": "cm",
         "dtype": "int64",
         "stats": {
          "unique_count": 2,
          "nan_count": 0,
          "min": "115",
          "max": "125",
          "histogram": [
           {
            "bin_start": 115,
            "bin_end": 116,
            "count": 1
           },
           {
            "bin_start": 116,
            "bin_end": 117,
            "count": 0
           },
           {
            "bin_start": 117,
            "bin_end": 118,
            "count": 0
           },
           {
            "bin_start": 118,
            "bin_end": 119,
            "count": 0
           },
           {
            "bin_start": 119,
            "bin_end": 120,
            "count": 0
           },
           {
            "bin_start": 120,
            "bin_end": 121,
            "count": 0
           },
           {
            "bin_start": 121,
            "bin_end": 122,
            "count": 0
           },
           {
            "bin_start": 122,
            "bin_end": 123,
            "count": 0
           },
           {
            "bin_start": 123,
            "bin_end": 124,
            "count": 0
           },
           {
            "bin_start": 124,
            "bin_end": 125,
            "count": 1
           }
          ]
         }
        },
        {
         "name": "Q1",
         "dtype": "float64",
         "stats": {
          "unique_count": 2,
          "nan_count": 0,
          "min": "5.0",
          "max": "7.0",
          "histogram": [
           {
            "bin_start": 5,
            "bin_end": 5.2,
            "count": 1
           },
           {
            "bin_start": 5.2,
            "bin_end": 5.4,
            "count": 0
           },
           {
            "bin_start": 5.4,
            "bin_end": 5.6,
            "count": 0
           },
           {
            "bin_start": 5.6,
            "bin_end": 5.8,
            "count": 0
           },
           {
            "bin_start": 5.8,
            "bin_end": 6,
            "count": 0
           },
           {
            "bin_start": 6,
            "bin_end": 6.2,
            "count": 0
           },
           {
            "bin_start": 6.2,
            "bin_end": 6.4,
            "count": 0
           },
           {
            "bin_start": 6.4,
            "bin_end": 6.6,
            "count": 0
           },
           {
            "bin_start": 6.6,
            "bin_end": 6.8,
            "count": 0
           },
           {
            "bin_start": 6.8,
            "bin_end": 7,
            "count": 1
           }
          ]
         }
        },
        {
         "name": "_deepnote_index_column",
         "dtype": "object"
        }
       ],
       "rows_top": [
        {
         "edad": 10,
         "cm": 115,
         "Q1": 5,
         "_deepnote_index_column": "ana"
        },
        {
         "edad": 12,
         "cm": 125,
         "Q1": 7,
         "_deepnote_index_column": "erika"
        }
       ],
       "rows_bottom": null
      },
      "text/plain": "       edad   cm   Q1\nana      10  115  5.0\nerika    12  125  7.0",
      "text/html": "<div>\n<style scoped>\n    .dataframe tbody tr th:only-of-type {\n        vertical-align: middle;\n    }\n\n    .dataframe tbody tr th {\n        vertical-align: top;\n    }\n\n    .dataframe thead th {\n        text-align: right;\n    }\n</style>\n<table border=\"1\" class=\"dataframe\">\n  <thead>\n    <tr style=\"text-align: right;\">\n      <th></th>\n      <th>edad</th>\n      <th>cm</th>\n      <th>Q1</th>\n    </tr>\n  </thead>\n  <tbody>\n    <tr>\n      <th>ana</th>\n      <td>10</td>\n      <td>115</td>\n      <td>5.0</td>\n    </tr>\n    <tr>\n      <th>erika</th>\n      <td>12</td>\n      <td>125</td>\n      <td>7.0</td>\n    </tr>\n  </tbody>\n</table>\n</div>"
     },
     "metadata": {}
    }
   ],
   "execution_count": 29
  },
  {
   "cell_type": "markdown",
   "source": "## Obtener un valor usando la posicion del DataFrame",
   "metadata": {
    "tags": [],
    "cell_id": "00012-59a4baa2-734d-4cc9-8c3c-3f172c7dcf8a",
    "deepnote_cell_type": "markdown"
   }
  },
  {
   "cell_type": "code",
   "source": "df2.iloc[2,1]",
   "metadata": {
    "tags": [],
    "cell_id": "00012-355ee0c3-ef34-4459-a889-2214b30e7b14",
    "deepnote_to_be_reexecuted": false,
    "source_hash": "fc0f83c0",
    "execution_start": 1624810765910,
    "execution_millis": 5,
    "deepnote_cell_type": "code"
   },
   "outputs": [
    {
     "output_type": "execute_result",
     "execution_count": 31,
     "data": {
      "text/plain": "130"
     },
     "metadata": {}
    }
   ],
   "execution_count": 31
  },
  {
   "cell_type": "code",
   "source": "df2.iloc[[2,3],[1,2,3]]",
   "metadata": {
    "tags": [],
    "cell_id": "00014-0704e8ac-3f64-4971-bcfe-d8438e8ded02",
    "deepnote_to_be_reexecuted": false,
    "source_hash": "52c5b23a",
    "execution_start": 1624810831047,
    "execution_millis": 7,
    "deepnote_cell_type": "code"
   },
   "outputs": [
    {
     "output_type": "execute_result",
     "execution_count": 32,
     "data": {
      "application/vnd.deepnote.dataframe.v2+json": {
       "row_count": 2,
       "column_count": 3,
       "columns": [
        {
         "name": "cm",
         "dtype": "int64",
         "stats": {
          "unique_count": 2,
          "nan_count": 0,
          "min": "130",
          "max": "155",
          "histogram": [
           {
            "bin_start": 130,
            "bin_end": 132.5,
            "count": 1
           },
           {
            "bin_start": 132.5,
            "bin_end": 135,
            "count": 0
           },
           {
            "bin_start": 135,
            "bin_end": 137.5,
            "count": 0
           },
           {
            "bin_start": 137.5,
            "bin_end": 140,
            "count": 0
           },
           {
            "bin_start": 140,
            "bin_end": 142.5,
            "count": 0
           },
           {
            "bin_start": 142.5,
            "bin_end": 145,
            "count": 0
           },
           {
            "bin_start": 145,
            "bin_end": 147.5,
            "count": 0
           },
           {
            "bin_start": 147.5,
            "bin_end": 150,
            "count": 0
           },
           {
            "bin_start": 150,
            "bin_end": 152.5,
            "count": 0
           },
           {
            "bin_start": 152.5,
            "bin_end": 155,
            "count": 1
           }
          ]
         }
        },
        {
         "name": "pais",
         "dtype": "object",
         "stats": {
          "unique_count": 2,
          "nan_count": 0,
          "categories": [
           {
            "name": "co",
            "count": 1
           },
           {
            "name": "mx",
            "count": 1
           }
          ]
         }
        },
        {
         "name": "genero",
         "dtype": "object",
         "stats": {
          "unique_count": 2,
          "nan_count": 0,
          "categories": [
           {
            "name": "F",
            "count": 1
           },
           {
            "name": "M",
            "count": 1
           }
          ]
         }
        },
        {
         "name": "_deepnote_index_column",
         "dtype": "object"
        }
       ],
       "rows_top": [
        {
         "cm": 130,
         "pais": "co",
         "genero": "F",
         "_deepnote_index_column": "camilo"
        },
        {
         "cm": 155,
         "pais": "mx",
         "genero": "M",
         "_deepnote_index_column": "daniel"
        }
       ],
       "rows_bottom": null
      },
      "text/plain": "         cm pais genero\ncamilo  130   co      F\ndaniel  155   mx      M",
      "text/html": "<div>\n<style scoped>\n    .dataframe tbody tr th:only-of-type {\n        vertical-align: middle;\n    }\n\n    .dataframe tbody tr th {\n        vertical-align: top;\n    }\n\n    .dataframe thead th {\n        text-align: right;\n    }\n</style>\n<table border=\"1\" class=\"dataframe\">\n  <thead>\n    <tr style=\"text-align: right;\">\n      <th></th>\n      <th>cm</th>\n      <th>pais</th>\n      <th>genero</th>\n    </tr>\n  </thead>\n  <tbody>\n    <tr>\n      <th>camilo</th>\n      <td>130</td>\n      <td>co</td>\n      <td>F</td>\n    </tr>\n    <tr>\n      <th>daniel</th>\n      <td>155</td>\n      <td>mx</td>\n      <td>M</td>\n    </tr>\n  </tbody>\n</table>\n</div>"
     },
     "metadata": {}
    }
   ],
   "execution_count": 32
  },
  {
   "cell_type": "code",
   "source": "#Obtiene todas las filas con las columnas deseadas.\ndf2.iloc[:,[1,2,3]]",
   "metadata": {
    "tags": [],
    "cell_id": "00015-88cb2ff3-0795-49b2-b88f-82f5f426838a",
    "deepnote_to_be_reexecuted": false,
    "source_hash": "43caa82e",
    "execution_start": 1624810863146,
    "execution_millis": 9,
    "deepnote_cell_type": "code"
   },
   "outputs": [
    {
     "output_type": "execute_result",
     "execution_count": 34,
     "data": {
      "application/vnd.deepnote.dataframe.v2+json": {
       "row_count": 7,
       "column_count": 3,
       "columns": [
        {
         "name": "cm",
         "dtype": "int64",
         "stats": {
          "unique_count": 6,
          "nan_count": 0,
          "min": "110",
          "max": "155",
          "histogram": [
           {
            "bin_start": 110,
            "bin_end": 114.5,
            "count": 1
           },
           {
            "bin_start": 114.5,
            "bin_end": 119,
            "count": 1
           },
           {
            "bin_start": 119,
            "bin_end": 123.5,
            "count": 1
           },
           {
            "bin_start": 123.5,
            "bin_end": 128,
            "count": 2
           },
           {
            "bin_start": 128,
            "bin_end": 132.5,
            "count": 1
           },
           {
            "bin_start": 132.5,
            "bin_end": 137,
            "count": 0
           },
           {
            "bin_start": 137,
            "bin_end": 141.5,
            "count": 0
           },
           {
            "bin_start": 141.5,
            "bin_end": 146,
            "count": 0
           },
           {
            "bin_start": 146,
            "bin_end": 150.5,
            "count": 0
           },
           {
            "bin_start": 150.5,
            "bin_end": 155,
            "count": 1
           }
          ]
         }
        },
        {
         "name": "pais",
         "dtype": "object",
         "stats": {
          "unique_count": 3,
          "nan_count": 0,
          "categories": [
           {
            "name": "mx",
            "count": 3
           },
           {
            "name": "co",
            "count": 2
           },
           {
            "name": "ch",
            "count": 2
           }
          ]
         }
        },
        {
         "name": "genero",
         "dtype": "object",
         "stats": {
          "unique_count": 2,
          "nan_count": 0,
          "categories": [
           {
            "name": "M",
            "count": 4
           },
           {
            "name": "F",
            "count": 3
           }
          ]
         }
        },
        {
         "name": "_deepnote_index_column",
         "dtype": "object"
        }
       ],
       "rows_top": [
        {
         "cm": 115,
         "pais": "co",
         "genero": "M",
         "_deepnote_index_column": "ana"
        },
        {
         "cm": 110,
         "pais": "mx",
         "genero": "F",
         "_deepnote_index_column": "benito"
        },
        {
         "cm": 130,
         "pais": "co",
         "genero": "F",
         "_deepnote_index_column": "camilo"
        },
        {
         "cm": 155,
         "pais": "mx",
         "genero": "M",
         "_deepnote_index_column": "daniel"
        },
        {
         "cm": 125,
         "pais": "mx",
         "genero": "M",
         "_deepnote_index_column": "erika"
        },
        {
         "cm": 120,
         "pais": "ch",
         "genero": "M",
         "_deepnote_index_column": "fabian"
        },
        {
         "cm": 125,
         "pais": "ch",
         "genero": "F",
         "_deepnote_index_column": "gabriela"
        }
       ],
       "rows_bottom": null
      },
      "text/plain": "           cm pais genero\nana       115   co      M\nbenito    110   mx      F\ncamilo    130   co      F\ndaniel    155   mx      M\nerika     125   mx      M\nfabian    120   ch      M\ngabriela  125   ch      F",
      "text/html": "<div>\n<style scoped>\n    .dataframe tbody tr th:only-of-type {\n        vertical-align: middle;\n    }\n\n    .dataframe tbody tr th {\n        vertical-align: top;\n    }\n\n    .dataframe thead th {\n        text-align: right;\n    }\n</style>\n<table border=\"1\" class=\"dataframe\">\n  <thead>\n    <tr style=\"text-align: right;\">\n      <th></th>\n      <th>cm</th>\n      <th>pais</th>\n      <th>genero</th>\n    </tr>\n  </thead>\n  <tbody>\n    <tr>\n      <th>ana</th>\n      <td>115</td>\n      <td>co</td>\n      <td>M</td>\n    </tr>\n    <tr>\n      <th>benito</th>\n      <td>110</td>\n      <td>mx</td>\n      <td>F</td>\n    </tr>\n    <tr>\n      <th>camilo</th>\n      <td>130</td>\n      <td>co</td>\n      <td>F</td>\n    </tr>\n    <tr>\n      <th>daniel</th>\n      <td>155</td>\n      <td>mx</td>\n      <td>M</td>\n    </tr>\n    <tr>\n      <th>erika</th>\n      <td>125</td>\n      <td>mx</td>\n      <td>M</td>\n    </tr>\n    <tr>\n      <th>fabian</th>\n      <td>120</td>\n      <td>ch</td>\n      <td>M</td>\n    </tr>\n    <tr>\n      <th>gabriela</th>\n      <td>125</td>\n      <td>ch</td>\n      <td>F</td>\n    </tr>\n  </tbody>\n</table>\n</div>"
     },
     "metadata": {}
    }
   ],
   "execution_count": 34
  },
  {
   "cell_type": "markdown",
   "source": "# Query con condiciones",
   "metadata": {
    "tags": [],
    "cell_id": "00016-cb68968a-02c4-41b5-92ab-7267e334853f",
    "deepnote_cell_type": "markdown"
   }
  },
  {
   "cell_type": "code",
   "source": "df2[(df2['edad'] >= 12) & (df2['pais'] == 'mx')]",
   "metadata": {
    "tags": [],
    "cell_id": "00017-d426f988-5367-410f-8e7f-0b6d99918ec4",
    "deepnote_to_be_reexecuted": false,
    "source_hash": "2d5f4b8b",
    "execution_start": 1624811028740,
    "execution_millis": 7,
    "deepnote_cell_type": "code"
   },
   "outputs": [
    {
     "output_type": "execute_result",
     "execution_count": 40,
     "data": {
      "application/vnd.deepnote.dataframe.v2+json": {
       "row_count": 2,
       "column_count": 6,
       "columns": [
        {
         "name": "edad",
         "dtype": "int64",
         "stats": {
          "unique_count": 2,
          "nan_count": 0,
          "min": "12",
          "max": "14",
          "histogram": [
           {
            "bin_start": 12,
            "bin_end": 12.2,
            "count": 1
           },
           {
            "bin_start": 12.2,
            "bin_end": 12.4,
            "count": 0
           },
           {
            "bin_start": 12.4,
            "bin_end": 12.6,
            "count": 0
           },
           {
            "bin_start": 12.6,
            "bin_end": 12.8,
            "count": 0
           },
           {
            "bin_start": 12.8,
            "bin_end": 13,
            "count": 0
           },
           {
            "bin_start": 13,
            "bin_end": 13.2,
            "count": 0
           },
           {
            "bin_start": 13.2,
            "bin_end": 13.4,
            "count": 0
           },
           {
            "bin_start": 13.4,
            "bin_end": 13.6,
            "count": 0
           },
           {
            "bin_start": 13.6,
            "bin_end": 13.8,
            "count": 0
           },
           {
            "bin_start": 13.8,
            "bin_end": 14,
            "count": 1
           }
          ]
         }
        },
        {
         "name": "cm",
         "dtype": "int64",
         "stats": {
          "unique_count": 2,
          "nan_count": 0,
          "min": "125",
          "max": "155",
          "histogram": [
           {
            "bin_start": 125,
            "bin_end": 128,
            "count": 1
           },
           {
            "bin_start": 128,
            "bin_end": 131,
            "count": 0
           },
           {
            "bin_start": 131,
            "bin_end": 134,
            "count": 0
           },
           {
            "bin_start": 134,
            "bin_end": 137,
            "count": 0
           },
           {
            "bin_start": 137,
            "bin_end": 140,
            "count": 0
           },
           {
            "bin_start": 140,
            "bin_end": 143,
            "count": 0
           },
           {
            "bin_start": 143,
            "bin_end": 146,
            "count": 0
           },
           {
            "bin_start": 146,
            "bin_end": 149,
            "count": 0
           },
           {
            "bin_start": 149,
            "bin_end": 152,
            "count": 0
           },
           {
            "bin_start": 152,
            "bin_end": 155,
            "count": 1
           }
          ]
         }
        },
        {
         "name": "pais",
         "dtype": "object",
         "stats": {
          "unique_count": 1,
          "nan_count": 0,
          "categories": [
           {
            "name": "mx",
            "count": 2
           }
          ]
         }
        },
        {
         "name": "genero",
         "dtype": "object",
         "stats": {
          "unique_count": 1,
          "nan_count": 0,
          "categories": [
           {
            "name": "M",
            "count": 2
           }
          ]
         }
        },
        {
         "name": "Q1",
         "dtype": "float64",
         "stats": {
          "unique_count": 1,
          "nan_count": 1,
          "min": "7.0",
          "max": "7.0",
          "histogram": [
           {
            "bin_start": 6.5,
            "bin_end": 6.6,
            "count": 0
           },
           {
            "bin_start": 6.6,
            "bin_end": 6.7,
            "count": 0
           },
           {
            "bin_start": 6.7,
            "bin_end": 6.8,
            "count": 0
           },
           {
            "bin_start": 6.8,
            "bin_end": 6.9,
            "count": 0
           },
           {
            "bin_start": 6.9,
            "bin_end": 7,
            "count": 0
           },
           {
            "bin_start": 7,
            "bin_end": 7.1,
            "count": 1
           },
           {
            "bin_start": 7.1,
            "bin_end": 7.2,
            "count": 0
           },
           {
            "bin_start": 7.2,
            "bin_end": 7.3,
            "count": 0
           },
           {
            "bin_start": 7.3,
            "bin_end": 7.4,
            "count": 0
           },
           {
            "bin_start": 7.4,
            "bin_end": 7.5,
            "count": 0
           }
          ]
         }
        },
        {
         "name": "Q2",
         "dtype": "float64",
         "stats": {
          "unique_count": 1,
          "nan_count": 0,
          "min": "8.0",
          "max": "8.0",
          "histogram": [
           {
            "bin_start": 7.5,
            "bin_end": 7.6,
            "count": 0
           },
           {
            "bin_start": 7.6,
            "bin_end": 7.7,
            "count": 0
           },
           {
            "bin_start": 7.7,
            "bin_end": 7.8,
            "count": 0
           },
           {
            "bin_start": 7.8,
            "bin_end": 7.9,
            "count": 0
           },
           {
            "bin_start": 7.9,
            "bin_end": 8,
            "count": 0
           },
           {
            "bin_start": 8,
            "bin_end": 8.1,
            "count": 2
           },
           {
            "bin_start": 8.1,
            "bin_end": 8.2,
            "count": 0
           },
           {
            "bin_start": 8.2,
            "bin_end": 8.3,
            "count": 0
           },
           {
            "bin_start": 8.3,
            "bin_end": 8.4,
            "count": 0
           },
           {
            "bin_start": 8.4,
            "bin_end": 8.5,
            "count": 0
           }
          ]
         }
        },
        {
         "name": "_deepnote_index_column",
         "dtype": "object"
        }
       ],
       "rows_top": [
        {
         "edad": 14,
         "cm": 155,
         "pais": "mx",
         "genero": "M",
         "Q1": "nan",
         "Q2": 8,
         "_deepnote_index_column": "daniel"
        },
        {
         "edad": 12,
         "cm": 125,
         "pais": "mx",
         "genero": "M",
         "Q1": 7,
         "Q2": 8,
         "_deepnote_index_column": "erika"
        }
       ],
       "rows_bottom": null
      },
      "text/plain": "        edad   cm pais genero   Q1   Q2\ndaniel    14  155   mx      M  NaN  8.0\nerika     12  125   mx      M  7.0  8.0",
      "text/html": "<div>\n<style scoped>\n    .dataframe tbody tr th:only-of-type {\n        vertical-align: middle;\n    }\n\n    .dataframe tbody tr th {\n        vertical-align: top;\n    }\n\n    .dataframe thead th {\n        text-align: right;\n    }\n</style>\n<table border=\"1\" class=\"dataframe\">\n  <thead>\n    <tr style=\"text-align: right;\">\n      <th></th>\n      <th>edad</th>\n      <th>cm</th>\n      <th>pais</th>\n      <th>genero</th>\n      <th>Q1</th>\n      <th>Q2</th>\n    </tr>\n  </thead>\n  <tbody>\n    <tr>\n      <th>daniel</th>\n      <td>14</td>\n      <td>155</td>\n      <td>mx</td>\n      <td>M</td>\n      <td>NaN</td>\n      <td>8.0</td>\n    </tr>\n    <tr>\n      <th>erika</th>\n      <td>12</td>\n      <td>125</td>\n      <td>mx</td>\n      <td>M</td>\n      <td>7.0</td>\n      <td>8.0</td>\n    </tr>\n  </tbody>\n</table>\n</div>"
     },
     "metadata": {}
    }
   ],
   "execution_count": 40
  },
  {
   "cell_type": "code",
   "source": "df2.query('edad>12')",
   "metadata": {
    "tags": [],
    "cell_id": "00018-e54ba606-4b30-499e-a88c-feaa26de1b18",
    "deepnote_to_be_reexecuted": false,
    "source_hash": "352b7794",
    "execution_start": 1624811061077,
    "execution_millis": 32,
    "deepnote_cell_type": "code"
   },
   "outputs": [
    {
     "output_type": "execute_result",
     "execution_count": 41,
     "data": {
      "application/vnd.deepnote.dataframe.v2+json": {
       "row_count": 2,
       "column_count": 6,
       "columns": [
        {
         "name": "edad",
         "dtype": "int64",
         "stats": {
          "unique_count": 2,
          "nan_count": 0,
          "min": "13",
          "max": "14",
          "histogram": [
           {
            "bin_start": 13,
            "bin_end": 13.1,
            "count": 1
           },
           {
            "bin_start": 13.1,
            "bin_end": 13.2,
            "count": 0
           },
           {
            "bin_start": 13.2,
            "bin_end": 13.3,
            "count": 0
           },
           {
            "bin_start": 13.3,
            "bin_end": 13.4,
            "count": 0
           },
           {
            "bin_start": 13.4,
            "bin_end": 13.5,
            "count": 0
           },
           {
            "bin_start": 13.5,
            "bin_end": 13.6,
            "count": 0
           },
           {
            "bin_start": 13.6,
            "bin_end": 13.7,
            "count": 0
           },
           {
            "bin_start": 13.7,
            "bin_end": 13.8,
            "count": 0
           },
           {
            "bin_start": 13.8,
            "bin_end": 13.9,
            "count": 0
           },
           {
            "bin_start": 13.9,
            "bin_end": 14,
            "count": 1
           }
          ]
         }
        },
        {
         "name": "cm",
         "dtype": "int64",
         "stats": {
          "unique_count": 2,
          "nan_count": 0,
          "min": "130",
          "max": "155",
          "histogram": [
           {
            "bin_start": 130,
            "bin_end": 132.5,
            "count": 1
           },
           {
            "bin_start": 132.5,
            "bin_end": 135,
            "count": 0
           },
           {
            "bin_start": 135,
            "bin_end": 137.5,
            "count": 0
           },
           {
            "bin_start": 137.5,
            "bin_end": 140,
            "count": 0
           },
           {
            "bin_start": 140,
            "bin_end": 142.5,
            "count": 0
           },
           {
            "bin_start": 142.5,
            "bin_end": 145,
            "count": 0
           },
           {
            "bin_start": 145,
            "bin_end": 147.5,
            "count": 0
           },
           {
            "bin_start": 147.5,
            "bin_end": 150,
            "count": 0
           },
           {
            "bin_start": 150,
            "bin_end": 152.5,
            "count": 0
           },
           {
            "bin_start": 152.5,
            "bin_end": 155,
            "count": 1
           }
          ]
         }
        },
        {
         "name": "pais",
         "dtype": "object",
         "stats": {
          "unique_count": 2,
          "nan_count": 0,
          "categories": [
           {
            "name": "co",
            "count": 1
           },
           {
            "name": "mx",
            "count": 1
           }
          ]
         }
        },
        {
         "name": "genero",
         "dtype": "object",
         "stats": {
          "unique_count": 2,
          "nan_count": 0,
          "categories": [
           {
            "name": "F",
            "count": 1
           },
           {
            "name": "M",
            "count": 1
           }
          ]
         }
        },
        {
         "name": "Q1",
         "dtype": "float64",
         "stats": {
          "unique_count": 1,
          "nan_count": 1,
          "min": "8.0",
          "max": "8.0",
          "histogram": [
           {
            "bin_start": 7.5,
            "bin_end": 7.6,
            "count": 0
           },
           {
            "bin_start": 7.6,
            "bin_end": 7.7,
            "count": 0
           },
           {
            "bin_start": 7.7,
            "bin_end": 7.8,
            "count": 0
           },
           {
            "bin_start": 7.8,
            "bin_end": 7.9,
            "count": 0
           },
           {
            "bin_start": 7.9,
            "bin_end": 8,
            "count": 0
           },
           {
            "bin_start": 8,
            "bin_end": 8.1,
            "count": 1
           },
           {
            "bin_start": 8.1,
            "bin_end": 8.2,
            "count": 0
           },
           {
            "bin_start": 8.2,
            "bin_end": 8.3,
            "count": 0
           },
           {
            "bin_start": 8.3,
            "bin_end": 8.4,
            "count": 0
           },
           {
            "bin_start": 8.4,
            "bin_end": 8.5,
            "count": 0
           }
          ]
         }
        },
        {
         "name": "Q2",
         "dtype": "float64",
         "stats": {
          "unique_count": 2,
          "nan_count": 0,
          "min": "8.0",
          "max": "9.0",
          "histogram": [
           {
            "bin_start": 8,
            "bin_end": 8.1,
            "count": 1
           },
           {
            "bin_start": 8.1,
            "bin_end": 8.2,
            "count": 0
           },
           {
            "bin_start": 8.2,
            "bin_end": 8.3,
            "count": 0
           },
           {
            "bin_start": 8.3,
            "bin_end": 8.4,
            "count": 0
           },
           {
            "bin_start": 8.4,
            "bin_end": 8.5,
            "count": 0
           },
           {
            "bin_start": 8.5,
            "bin_end": 8.6,
            "count": 0
           },
           {
            "bin_start": 8.6,
            "bin_end": 8.7,
            "count": 0
           },
           {
            "bin_start": 8.7,
            "bin_end": 8.8,
            "count": 0
           },
           {
            "bin_start": 8.8,
            "bin_end": 8.9,
            "count": 0
           },
           {
            "bin_start": 8.9,
            "bin_end": 9,
            "count": 1
           }
          ]
         }
        },
        {
         "name": "_deepnote_index_column",
         "dtype": "object"
        }
       ],
       "rows_top": [
        {
         "edad": 13,
         "cm": 130,
         "pais": "co",
         "genero": "F",
         "Q1": 8,
         "Q2": 9,
         "_deepnote_index_column": "camilo"
        },
        {
         "edad": 14,
         "cm": 155,
         "pais": "mx",
         "genero": "M",
         "Q1": "nan",
         "Q2": 8,
         "_deepnote_index_column": "daniel"
        }
       ],
       "rows_bottom": null
      },
      "text/plain": "        edad   cm pais genero   Q1   Q2\ncamilo    13  130   co      F  8.0  9.0\ndaniel    14  155   mx      M  NaN  8.0",
      "text/html": "<div>\n<style scoped>\n    .dataframe tbody tr th:only-of-type {\n        vertical-align: middle;\n    }\n\n    .dataframe tbody tr th {\n        vertical-align: top;\n    }\n\n    .dataframe thead th {\n        text-align: right;\n    }\n</style>\n<table border=\"1\" class=\"dataframe\">\n  <thead>\n    <tr style=\"text-align: right;\">\n      <th></th>\n      <th>edad</th>\n      <th>cm</th>\n      <th>pais</th>\n      <th>genero</th>\n      <th>Q1</th>\n      <th>Q2</th>\n    </tr>\n  </thead>\n  <tbody>\n    <tr>\n      <th>camilo</th>\n      <td>13</td>\n      <td>130</td>\n      <td>co</td>\n      <td>F</td>\n      <td>8.0</td>\n      <td>9.0</td>\n    </tr>\n    <tr>\n      <th>daniel</th>\n      <td>14</td>\n      <td>155</td>\n      <td>mx</td>\n      <td>M</td>\n      <td>NaN</td>\n      <td>8.0</td>\n    </tr>\n  </tbody>\n</table>\n</div>"
     },
     "metadata": {}
    }
   ],
   "execution_count": 41
  },
  {
   "cell_type": "code",
   "source": "df2[df2['Q2'] > df2['Q1']]",
   "metadata": {
    "tags": [],
    "cell_id": "00019-853100e2-dfd2-4155-919c-98679f5308f0",
    "deepnote_to_be_reexecuted": false,
    "source_hash": "453f9d79",
    "execution_start": 1624811101936,
    "execution_millis": 6,
    "deepnote_cell_type": "code"
   },
   "outputs": [
    {
     "output_type": "execute_result",
     "execution_count": 44,
     "data": {
      "application/vnd.deepnote.dataframe.v2+json": {
       "row_count": 4,
       "column_count": 6,
       "columns": [
        {
         "name": "edad",
         "dtype": "int64",
         "stats": {
          "unique_count": 3,
          "nan_count": 0,
          "min": "10",
          "max": "13",
          "histogram": [
           {
            "bin_start": 10,
            "bin_end": 10.3,
            "count": 1
           },
           {
            "bin_start": 10.3,
            "bin_end": 10.6,
            "count": 0
           },
           {
            "bin_start": 10.6,
            "bin_end": 10.9,
            "count": 0
           },
           {
            "bin_start": 10.9,
            "bin_end": 11.2,
            "count": 0
           },
           {
            "bin_start": 11.2,
            "bin_end": 11.5,
            "count": 0
           },
           {
            "bin_start": 11.5,
            "bin_end": 11.8,
            "count": 0
           },
           {
            "bin_start": 11.8,
            "bin_end": 12.1,
            "count": 2
           },
           {
            "bin_start": 12.1,
            "bin_end": 12.4,
            "count": 0
           },
           {
            "bin_start": 12.4,
            "bin_end": 12.7,
            "count": 0
           },
           {
            "bin_start": 12.7,
            "bin_end": 13,
            "count": 1
           }
          ]
         }
        },
        {
         "name": "cm",
         "dtype": "int64",
         "stats": {
          "unique_count": 3,
          "nan_count": 0,
          "min": "115",
          "max": "130",
          "histogram": [
           {
            "bin_start": 115,
            "bin_end": 116.5,
            "count": 1
           },
           {
            "bin_start": 116.5,
            "bin_end": 118,
            "count": 0
           },
           {
            "bin_start": 118,
            "bin_end": 119.5,
            "count": 0
           },
           {
            "bin_start": 119.5,
            "bin_end": 121,
            "count": 0
           },
           {
            "bin_start": 121,
            "bin_end": 122.5,
            "count": 0
           },
           {
            "bin_start": 122.5,
            "bin_end": 124,
            "count": 0
           },
           {
            "bin_start": 124,
            "bin_end": 125.5,
            "count": 2
           },
           {
            "bin_start": 125.5,
            "bin_end": 127,
            "count": 0
           },
           {
            "bin_start": 127,
            "bin_end": 128.5,
            "count": 0
           },
           {
            "bin_start": 128.5,
            "bin_end": 130,
            "count": 1
           }
          ]
         }
        },
        {
         "name": "pais",
         "dtype": "object",
         "stats": {
          "unique_count": 3,
          "nan_count": 0,
          "categories": [
           {
            "name": "co",
            "count": 2
           },
           {
            "name": "mx",
            "count": 1
           },
           {
            "name": "ch",
            "count": 1
           }
          ]
         }
        },
        {
         "name": "genero",
         "dtype": "object",
         "stats": {
          "unique_count": 2,
          "nan_count": 0,
          "categories": [
           {
            "name": "M",
            "count": 2
           },
           {
            "name": "F",
            "count": 2
           }
          ]
         }
        },
        {
         "name": "Q1",
         "dtype": "float64",
         "stats": {
          "unique_count": 4,
          "nan_count": 0,
          "min": "3.0",
          "max": "8.0",
          "histogram": [
           {
            "bin_start": 3,
            "bin_end": 3.5,
            "count": 1
           },
           {
            "bin_start": 3.5,
            "bin_end": 4,
            "count": 0
           },
           {
            "bin_start": 4,
            "bin_end": 4.5,
            "count": 0
           },
           {
            "bin_start": 4.5,
            "bin_end": 5,
            "count": 0
           },
           {
            "bin_start": 5,
            "bin_end": 5.5,
            "count": 1
           },
           {
            "bin_start": 5.5,
            "bin_end": 6,
            "count": 0
           },
           {
            "bin_start": 6,
            "bin_end": 6.5,
            "count": 0
           },
           {
            "bin_start": 6.5,
            "bin_end": 7,
            "count": 0
           },
           {
            "bin_start": 7,
            "bin_end": 7.5,
            "count": 1
           },
           {
            "bin_start": 7.5,
            "bin_end": 8,
            "count": 1
           }
          ]
         }
        },
        {
         "name": "Q2",
         "dtype": "float64",
         "stats": {
          "unique_count": 3,
          "nan_count": 0,
          "min": "7.0",
          "max": "9.0",
          "histogram": [
           {
            "bin_start": 7,
            "bin_end": 7.2,
            "count": 1
           },
           {
            "bin_start": 7.2,
            "bin_end": 7.4,
            "count": 0
           },
           {
            "bin_start": 7.4,
            "bin_end": 7.6,
            "count": 0
           },
           {
            "bin_start": 7.6,
            "bin_end": 7.8,
            "count": 0
           },
           {
            "bin_start": 7.8,
            "bin_end": 8,
            "count": 0
           },
           {
            "bin_start": 8,
            "bin_end": 8.2,
            "count": 1
           },
           {
            "bin_start": 8.2,
            "bin_end": 8.4,
            "count": 0
           },
           {
            "bin_start": 8.4,
            "bin_end": 8.6,
            "count": 0
           },
           {
            "bin_start": 8.6,
            "bin_end": 8.8,
            "count": 0
           },
           {
            "bin_start": 8.8,
            "bin_end": 9,
            "count": 2
           }
          ]
         }
        },
        {
         "name": "_deepnote_index_column",
         "dtype": "object"
        }
       ],
       "rows_top": [
        {
         "edad": 10,
         "cm": 115,
         "pais": "co",
         "genero": "M",
         "Q1": 5,
         "Q2": 7,
         "_deepnote_index_column": "ana"
        },
        {
         "edad": 13,
         "cm": 130,
         "pais": "co",
         "genero": "F",
         "Q1": 8,
         "Q2": 9,
         "_deepnote_index_column": "camilo"
        },
        {
         "edad": 12,
         "cm": 125,
         "pais": "mx",
         "genero": "M",
         "Q1": 7,
         "Q2": 8,
         "_deepnote_index_column": "erika"
        },
        {
         "edad": 12,
         "cm": 125,
         "pais": "ch",
         "genero": "F",
         "Q1": 3,
         "Q2": 9,
         "_deepnote_index_column": "gabriela"
        }
       ],
       "rows_bottom": null
      },
      "text/plain": "          edad   cm pais genero   Q1   Q2\nana         10  115   co      M  5.0  7.0\ncamilo      13  130   co      F  8.0  9.0\nerika       12  125   mx      M  7.0  8.0\ngabriela    12  125   ch      F  3.0  9.0",
      "text/html": "<div>\n<style scoped>\n    .dataframe tbody tr th:only-of-type {\n        vertical-align: middle;\n    }\n\n    .dataframe tbody tr th {\n        vertical-align: top;\n    }\n\n    .dataframe thead th {\n        text-align: right;\n    }\n</style>\n<table border=\"1\" class=\"dataframe\">\n  <thead>\n    <tr style=\"text-align: right;\">\n      <th></th>\n      <th>edad</th>\n      <th>cm</th>\n      <th>pais</th>\n      <th>genero</th>\n      <th>Q1</th>\n      <th>Q2</th>\n    </tr>\n  </thead>\n  <tbody>\n    <tr>\n      <th>ana</th>\n      <td>10</td>\n      <td>115</td>\n      <td>co</td>\n      <td>M</td>\n      <td>5.0</td>\n      <td>7.0</td>\n    </tr>\n    <tr>\n      <th>camilo</th>\n      <td>13</td>\n      <td>130</td>\n      <td>co</td>\n      <td>F</td>\n      <td>8.0</td>\n      <td>9.0</td>\n    </tr>\n    <tr>\n      <th>erika</th>\n      <td>12</td>\n      <td>125</td>\n      <td>mx</td>\n      <td>M</td>\n      <td>7.0</td>\n      <td>8.0</td>\n    </tr>\n    <tr>\n      <th>gabriela</th>\n      <td>12</td>\n      <td>125</td>\n      <td>ch</td>\n      <td>F</td>\n      <td>3.0</td>\n      <td>9.0</td>\n    </tr>\n  </tbody>\n</table>\n</div>"
     },
     "metadata": {}
    }
   ],
   "execution_count": 44
  },
  {
   "cell_type": "markdown",
   "source": "<a style='text-decoration:none;line-height:16px;display:flex;color:#5B5B62;padding:10px;justify-content:end;' href='https://deepnote.com?utm_source=created-in-deepnote-cell&projectId=40d7a071-7e6a-4668-9914-a7e81441c111' target=\"_blank\">\n<img alt='Created in deepnote.com' style='display:inline;max-height:16px;margin:0px;margin-right:7.5px;' src='data:image/svg+xml;base64,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' > </img>\nCreated in <span style='font-weight:600;margin-left:4px;'>Deepnote</span></a>",
   "metadata": {
    "tags": [],
    "created_in_deepnote_cell": true,
    "deepnote_cell_type": "markdown"
   }
  }
 ],
 "nbformat": 4,
 "nbformat_minor": 2,
 "metadata": {
  "orig_nbformat": 2,
  "deepnote": {
   "is_reactive": false
  },
  "deepnote_notebook_id": "92108387-c5aa-441c-859c-564fb5954337",
  "deepnote_execution_queue": []
 }
}