{
 "cells": [
  {
   "cell_type": "code",
   "metadata": {
    "tags": [],
    "cell_id": "00000-26fa5240-9691-4f37-b2a7-a3b18b0adb4d",
    "deepnote_to_be_reexecuted": false,
    "source_hash": "dd2df517",
    "execution_start": 1625095667868,
    "execution_millis": 12,
    "deepnote_cell_type": "code"
   },
   "source": "import pandas as pd\nimport numpy as np\ndf_left = pd.DataFrame(\n    {'X':['x0','x1','x2','x3'],\n    'W':['w0','w1','w2','w3'],\n    'Y':['y0','y1','y2','y3'],\n    'Mix':['y2','y3','a2','a3']},\n    index = [0,1,2,3])\ndf_left",
   "execution_count": 37,
   "outputs": [
    {
     "output_type": "execute_result",
     "execution_count": 37,
     "data": {
      "application/vnd.deepnote.dataframe.v2+json": {
       "row_count": 4,
       "column_count": 4,
       "columns": [
        {
         "name": "X",
         "dtype": "object",
         "stats": {
          "unique_count": 4,
          "nan_count": 0,
          "categories": [
           {
            "name": "x0",
            "count": 1
           },
           {
            "name": "x1",
            "count": 1
           },
           {
            "name": "2 others",
            "count": 2
           }
          ]
         }
        },
        {
         "name": "W",
         "dtype": "object",
         "stats": {
          "unique_count": 4,
          "nan_count": 0,
          "categories": [
           {
            "name": "w0",
            "count": 1
           },
           {
            "name": "w1",
            "count": 1
           },
           {
            "name": "2 others",
            "count": 2
           }
          ]
         }
        },
        {
         "name": "Y",
         "dtype": "object",
         "stats": {
          "unique_count": 4,
          "nan_count": 0,
          "categories": [
           {
            "name": "y0",
            "count": 1
           },
           {
            "name": "y1",
            "count": 1
           },
           {
            "name": "2 others",
            "count": 2
           }
          ]
         }
        },
        {
         "name": "Mix",
         "dtype": "object",
         "stats": {
          "unique_count": 4,
          "nan_count": 0,
          "categories": [
           {
            "name": "y2",
            "count": 1
           },
           {
            "name": "y3",
            "count": 1
           },
           {
            "name": "2 others",
            "count": 2
           }
          ]
         }
        },
        {
         "name": "_deepnote_index_column",
         "dtype": "int64"
        }
       ],
       "rows_top": [
        {
         "X": "x0",
         "W": "w0",
         "Y": "y0",
         "Mix": "y2",
         "_deepnote_index_column": 0
        },
        {
         "X": "x1",
         "W": "w1",
         "Y": "y1",
         "Mix": "y3",
         "_deepnote_index_column": 1
        },
        {
         "X": "x2",
         "W": "w2",
         "Y": "y2",
         "Mix": "a2",
         "_deepnote_index_column": 2
        },
        {
         "X": "x3",
         "W": "w3",
         "Y": "y3",
         "Mix": "a3",
         "_deepnote_index_column": 3
        }
       ],
       "rows_bottom": null
      },
      "text/plain": "    X   W   Y Mix\n0  x0  w0  y0  y2\n1  x1  w1  y1  y3\n2  x2  w2  y2  a2\n3  x3  w3  y3  a3",
      "text/html": "<div>\n<style scoped>\n    .dataframe tbody tr th:only-of-type {\n        vertical-align: middle;\n    }\n\n    .dataframe tbody tr th {\n        vertical-align: top;\n    }\n\n    .dataframe thead th {\n        text-align: right;\n    }\n</style>\n<table border=\"1\" class=\"dataframe\">\n  <thead>\n    <tr style=\"text-align: right;\">\n      <th></th>\n      <th>X</th>\n      <th>W</th>\n      <th>Y</th>\n      <th>Mix</th>\n    </tr>\n  </thead>\n  <tbody>\n    <tr>\n      <th>0</th>\n      <td>x0</td>\n      <td>w0</td>\n      <td>y0</td>\n      <td>y2</td>\n    </tr>\n    <tr>\n      <th>1</th>\n      <td>x1</td>\n      <td>w1</td>\n      <td>y1</td>\n      <td>y3</td>\n    </tr>\n    <tr>\n      <th>2</th>\n      <td>x2</td>\n      <td>w2</td>\n      <td>y2</td>\n      <td>a2</td>\n    </tr>\n    <tr>\n      <th>3</th>\n      <td>x3</td>\n      <td>w3</td>\n      <td>y3</td>\n      <td>a3</td>\n    </tr>\n  </tbody>\n</table>\n</div>"
     },
     "metadata": {}
    }
   ]
  },
  {
   "cell_type": "code",
   "metadata": {
    "tags": [],
    "cell_id": "00001-f7741b46-77af-4520-b6b3-f58bb14b6625",
    "deepnote_to_be_reexecuted": false,
    "source_hash": "9b1f322c",
    "execution_start": 1625095668309,
    "execution_millis": 10,
    "deepnote_cell_type": "code"
   },
   "source": "df_right = pd.DataFrame(\n    {'Z':['z2','z3','z4','z5'],\n     'A':['a2','a3','a4','a5'],\n     'Y':['y2','y3','y4','y5']},\n    index = [2,3,4,5])\ndf_right",
   "execution_count": 38,
   "outputs": [
    {
     "output_type": "execute_result",
     "execution_count": 38,
     "data": {
      "application/vnd.deepnote.dataframe.v2+json": {
       "row_count": 4,
       "column_count": 3,
       "columns": [
        {
         "name": "Z",
         "dtype": "object",
         "stats": {
          "unique_count": 4,
          "nan_count": 0,
          "categories": [
           {
            "name": "z2",
            "count": 1
           },
           {
            "name": "z3",
            "count": 1
           },
           {
            "name": "2 others",
            "count": 2
           }
          ]
         }
        },
        {
         "name": "A",
         "dtype": "object",
         "stats": {
          "unique_count": 4,
          "nan_count": 0,
          "categories": [
           {
            "name": "a2",
            "count": 1
           },
           {
            "name": "a3",
            "count": 1
           },
           {
            "name": "2 others",
            "count": 2
           }
          ]
         }
        },
        {
         "name": "Y",
         "dtype": "object",
         "stats": {
          "unique_count": 4,
          "nan_count": 0,
          "categories": [
           {
            "name": "y2",
            "count": 1
           },
           {
            "name": "y3",
            "count": 1
           },
           {
            "name": "2 others",
            "count": 2
           }
          ]
         }
        },
        {
         "name": "_deepnote_index_column",
         "dtype": "int64"
        }
       ],
       "rows_top": [
        {
         "Z": "z2",
         "A": "a2",
         "Y": "y2",
         "_deepnote_index_column": 2
        },
        {
         "Z": "z3",
         "A": "a3",
         "Y": "y3",
         "_deepnote_index_column": 3
        },
        {
         "Z": "z4",
         "A": "a4",
         "Y": "y4",
         "_deepnote_index_column": 4
        },
        {
         "Z": "z5",
         "A": "a5",
         "Y": "y5",
         "_deepnote_index_column": 5
        }
       ],
       "rows_bottom": null
      },
      "text/plain": "    Z   A   Y\n2  z2  a2  y2\n3  z3  a3  y3\n4  z4  a4  y4\n5  z5  a5  y5",
      "text/html": "<div>\n<style scoped>\n    .dataframe tbody tr th:only-of-type {\n        vertical-align: middle;\n    }\n\n    .dataframe tbody tr th {\n        vertical-align: top;\n    }\n\n    .dataframe thead th {\n        text-align: right;\n    }\n</style>\n<table border=\"1\" class=\"dataframe\">\n  <thead>\n    <tr style=\"text-align: right;\">\n      <th></th>\n      <th>Z</th>\n      <th>A</th>\n      <th>Y</th>\n    </tr>\n  </thead>\n  <tbody>\n    <tr>\n      <th>2</th>\n      <td>z2</td>\n      <td>a2</td>\n      <td>y2</td>\n    </tr>\n    <tr>\n      <th>3</th>\n      <td>z3</td>\n      <td>a3</td>\n      <td>y3</td>\n    </tr>\n    <tr>\n      <th>4</th>\n      <td>z4</td>\n      <td>a4</td>\n      <td>y4</td>\n    </tr>\n    <tr>\n      <th>5</th>\n      <td>z5</td>\n      <td>a5</td>\n      <td>y5</td>\n    </tr>\n  </tbody>\n</table>\n</div>"
     },
     "metadata": {}
    }
   ]
  },
  {
   "cell_type": "markdown",
   "source": "# Merge\nFunciona exactamente igual como en SQL, pero no tienes que escribir una gran cantidad de codigo y nos permite poder unir diferentes DataFrames seung la relacion que tengan.",
   "metadata": {
    "tags": [],
    "cell_id": "00002-d971386e-6354-4f0f-88fb-0ce3320667f5",
    "deepnote_cell_type": "markdown"
   }
  },
  {
   "cell_type": "code",
   "metadata": {
    "tags": [],
    "cell_id": "00002-bd8a5c9e-2170-42ac-a57d-ba30bf2ca8fc",
    "deepnote_to_be_reexecuted": false,
    "source_hash": "63be4db8",
    "execution_start": 1625095669184,
    "execution_millis": 36,
    "deepnote_cell_type": "code"
   },
   "source": "pd.merge(df_left,df_right, how='inner', on='Y')",
   "execution_count": 39,
   "outputs": [
    {
     "output_type": "execute_result",
     "execution_count": 39,
     "data": {
      "application/vnd.deepnote.dataframe.v2+json": {
       "row_count": 2,
       "column_count": 6,
       "columns": [
        {
         "name": "X",
         "dtype": "object",
         "stats": {
          "unique_count": 2,
          "nan_count": 0,
          "categories": [
           {
            "name": "x2",
            "count": 1
           },
           {
            "name": "x3",
            "count": 1
           }
          ]
         }
        },
        {
         "name": "W",
         "dtype": "object",
         "stats": {
          "unique_count": 2,
          "nan_count": 0,
          "categories": [
           {
            "name": "w2",
            "count": 1
           },
           {
            "name": "w3",
            "count": 1
           }
          ]
         }
        },
        {
         "name": "Y",
         "dtype": "object",
         "stats": {
          "unique_count": 2,
          "nan_count": 0,
          "categories": [
           {
            "name": "y2",
            "count": 1
           },
           {
            "name": "y3",
            "count": 1
           }
          ]
         }
        },
        {
         "name": "Mix",
         "dtype": "object",
         "stats": {
          "unique_count": 2,
          "nan_count": 0,
          "categories": [
           {
            "name": "a2",
            "count": 1
           },
           {
            "name": "a3",
            "count": 1
           }
          ]
         }
        },
        {
         "name": "Z",
         "dtype": "object",
         "stats": {
          "unique_count": 2,
          "nan_count": 0,
          "categories": [
           {
            "name": "z2",
            "count": 1
           },
           {
            "name": "z3",
            "count": 1
           }
          ]
         }
        },
        {
         "name": "A",
         "dtype": "object",
         "stats": {
          "unique_count": 2,
          "nan_count": 0,
          "categories": [
           {
            "name": "a2",
            "count": 1
           },
           {
            "name": "a3",
            "count": 1
           }
          ]
         }
        },
        {
         "name": "_deepnote_index_column",
         "dtype": "int64"
        }
       ],
       "rows_top": [
        {
         "X": "x2",
         "W": "w2",
         "Y": "y2",
         "Mix": "a2",
         "Z": "z2",
         "A": "a2",
         "_deepnote_index_column": 0
        },
        {
         "X": "x3",
         "W": "w3",
         "Y": "y3",
         "Mix": "a3",
         "Z": "z3",
         "A": "a3",
         "_deepnote_index_column": 1
        }
       ],
       "rows_bottom": null
      },
      "text/plain": "    X   W   Y Mix   Z   A\n0  x2  w2  y2  a2  z2  a2\n1  x3  w3  y3  a3  z3  a3",
      "text/html": "<div>\n<style scoped>\n    .dataframe tbody tr th:only-of-type {\n        vertical-align: middle;\n    }\n\n    .dataframe tbody tr th {\n        vertical-align: top;\n    }\n\n    .dataframe thead th {\n        text-align: right;\n    }\n</style>\n<table border=\"1\" class=\"dataframe\">\n  <thead>\n    <tr style=\"text-align: right;\">\n      <th></th>\n      <th>X</th>\n      <th>W</th>\n      <th>Y</th>\n      <th>Mix</th>\n      <th>Z</th>\n      <th>A</th>\n    </tr>\n  </thead>\n  <tbody>\n    <tr>\n      <th>0</th>\n      <td>x2</td>\n      <td>w2</td>\n      <td>y2</td>\n      <td>a2</td>\n      <td>z2</td>\n      <td>a2</td>\n    </tr>\n    <tr>\n      <th>1</th>\n      <td>x3</td>\n      <td>w3</td>\n      <td>y3</td>\n      <td>a3</td>\n      <td>z3</td>\n      <td>a3</td>\n    </tr>\n  </tbody>\n</table>\n</div>"
     },
     "metadata": {}
    }
   ]
  },
  {
   "cell_type": "markdown",
   "source": "Unir una columna con otra columna que **comparten** el mismo nombre.",
   "metadata": {
    "tags": [],
    "cell_id": "00004-9b4cd959-faca-48b0-b08f-5a22e3609a17",
    "deepnote_cell_type": "markdown"
   }
  },
  {
   "cell_type": "code",
   "metadata": {
    "tags": [],
    "cell_id": "00005-1eac5801-df2b-4e99-8369-0abda84a5241",
    "deepnote_to_be_reexecuted": false,
    "source_hash": "ca22e0d8",
    "execution_start": 1625095690785,
    "execution_millis": 5,
    "deepnote_cell_type": "code"
   },
   "source": "pd.merge(df_left,df_right, how='inner', left_on='Mix', right_on='Y', suffixes=['_left','_right'])",
   "execution_count": 44,
   "outputs": [
    {
     "output_type": "execute_result",
     "execution_count": 44,
     "data": {
      "application/vnd.deepnote.dataframe.v2+json": {
       "row_count": 2,
       "column_count": 7,
       "columns": [
        {
         "name": "X",
         "dtype": "object",
         "stats": {
          "unique_count": 2,
          "nan_count": 0,
          "categories": [
           {
            "name": "x0",
            "count": 1
           },
           {
            "name": "x1",
            "count": 1
           }
          ]
         }
        },
        {
         "name": "W",
         "dtype": "object",
         "stats": {
          "unique_count": 2,
          "nan_count": 0,
          "categories": [
           {
            "name": "w0",
            "count": 1
           },
           {
            "name": "w1",
            "count": 1
           }
          ]
         }
        },
        {
         "name": "Y_left",
         "dtype": "object",
         "stats": {
          "unique_count": 2,
          "nan_count": 0,
          "categories": [
           {
            "name": "y0",
            "count": 1
           },
           {
            "name": "y1",
            "count": 1
           }
          ]
         }
        },
        {
         "name": "Mix",
         "dtype": "object",
         "stats": {
          "unique_count": 2,
          "nan_count": 0,
          "categories": [
           {
            "name": "y2",
            "count": 1
           },
           {
            "name": "y3",
            "count": 1
           }
          ]
         }
        },
        {
         "name": "Z",
         "dtype": "object",
         "stats": {
          "unique_count": 2,
          "nan_count": 0,
          "categories": [
           {
            "name": "z2",
            "count": 1
           },
           {
            "name": "z3",
            "count": 1
           }
          ]
         }
        },
        {
         "name": "A",
         "dtype": "object",
         "stats": {
          "unique_count": 2,
          "nan_count": 0,
          "categories": [
           {
            "name": "a2",
            "count": 1
           },
           {
            "name": "a3",
            "count": 1
           }
          ]
         }
        },
        {
         "name": "Y_right",
         "dtype": "object",
         "stats": {
          "unique_count": 2,
          "nan_count": 0,
          "categories": [
           {
            "name": "y2",
            "count": 1
           },
           {
            "name": "y3",
            "count": 1
           }
          ]
         }
        },
        {
         "name": "_deepnote_index_column",
         "dtype": "int64"
        }
       ],
       "rows_top": [
        {
         "X": "x0",
         "W": "w0",
         "Y_left": "y0",
         "Mix": "y2",
         "Z": "z2",
         "A": "a2",
         "Y_right": "y2",
         "_deepnote_index_column": 0
        },
        {
         "X": "x1",
         "W": "w1",
         "Y_left": "y1",
         "Mix": "y3",
         "Z": "z3",
         "A": "a3",
         "Y_right": "y3",
         "_deepnote_index_column": 1
        }
       ],
       "rows_bottom": null
      },
      "text/plain": "    X   W Y_left Mix   Z   A Y_right\n0  x0  w0     y0  y2  z2  a2      y2\n1  x1  w1     y1  y3  z3  a3      y3",
      "text/html": "<div>\n<style scoped>\n    .dataframe tbody tr th:only-of-type {\n        vertical-align: middle;\n    }\n\n    .dataframe tbody tr th {\n        vertical-align: top;\n    }\n\n    .dataframe thead th {\n        text-align: right;\n    }\n</style>\n<table border=\"1\" class=\"dataframe\">\n  <thead>\n    <tr style=\"text-align: right;\">\n      <th></th>\n      <th>X</th>\n      <th>W</th>\n      <th>Y_left</th>\n      <th>Mix</th>\n      <th>Z</th>\n      <th>A</th>\n      <th>Y_right</th>\n    </tr>\n  </thead>\n  <tbody>\n    <tr>\n      <th>0</th>\n      <td>x0</td>\n      <td>w0</td>\n      <td>y0</td>\n      <td>y2</td>\n      <td>z2</td>\n      <td>a2</td>\n      <td>y2</td>\n    </tr>\n    <tr>\n      <th>1</th>\n      <td>x1</td>\n      <td>w1</td>\n      <td>y1</td>\n      <td>y3</td>\n      <td>z3</td>\n      <td>a3</td>\n      <td>y3</td>\n    </tr>\n  </tbody>\n</table>\n</div>"
     },
     "metadata": {}
    }
   ]
  },
  {
   "cell_type": "code",
   "metadata": {
    "tags": [],
    "cell_id": "00006-20f52fc9-2138-4af5-87e6-d98272597307",
    "deepnote_to_be_reexecuted": false,
    "source_hash": "68b410b",
    "execution_start": 1625095683424,
    "execution_millis": 11,
    "deepnote_cell_type": "code"
   },
   "source": "pd.merge(df_left,df_right, how='inner', left_on='Mix', right_on='A', suffixes=['_left','_right'])",
   "execution_count": 43,
   "outputs": [
    {
     "output_type": "execute_result",
     "execution_count": 43,
     "data": {
      "application/vnd.deepnote.dataframe.v2+json": {
       "row_count": 2,
       "column_count": 7,
       "columns": [
        {
         "name": "X",
         "dtype": "object",
         "stats": {
          "unique_count": 2,
          "nan_count": 0,
          "categories": [
           {
            "name": "x2",
            "count": 1
           },
           {
            "name": "x3",
            "count": 1
           }
          ]
         }
        },
        {
         "name": "W",
         "dtype": "object",
         "stats": {
          "unique_count": 2,
          "nan_count": 0,
          "categories": [
           {
            "name": "w2",
            "count": 1
           },
           {
            "name": "w3",
            "count": 1
           }
          ]
         }
        },
        {
         "name": "Y_left",
         "dtype": "object",
         "stats": {
          "unique_count": 2,
          "nan_count": 0,
          "categories": [
           {
            "name": "y2",
            "count": 1
           },
           {
            "name": "y3",
            "count": 1
           }
          ]
         }
        },
        {
         "name": "Mix",
         "dtype": "object",
         "stats": {
          "unique_count": 2,
          "nan_count": 0,
          "categories": [
           {
            "name": "a2",
            "count": 1
           },
           {
            "name": "a3",
            "count": 1
           }
          ]
         }
        },
        {
         "name": "Z",
         "dtype": "object",
         "stats": {
          "unique_count": 2,
          "nan_count": 0,
          "categories": [
           {
            "name": "z2",
            "count": 1
           },
           {
            "name": "z3",
            "count": 1
           }
          ]
         }
        },
        {
         "name": "A",
         "dtype": "object",
         "stats": {
          "unique_count": 2,
          "nan_count": 0,
          "categories": [
           {
            "name": "a2",
            "count": 1
           },
           {
            "name": "a3",
            "count": 1
           }
          ]
         }
        },
        {
         "name": "Y_right",
         "dtype": "object",
         "stats": {
          "unique_count": 2,
          "nan_count": 0,
          "categories": [
           {
            "name": "y2",
            "count": 1
           },
           {
            "name": "y3",
            "count": 1
           }
          ]
         }
        },
        {
         "name": "_deepnote_index_column",
         "dtype": "int64"
        }
       ],
       "rows_top": [
        {
         "X": "x2",
         "W": "w2",
         "Y_left": "y2",
         "Mix": "a2",
         "Z": "z2",
         "A": "a2",
         "Y_right": "y2",
         "_deepnote_index_column": 0
        },
        {
         "X": "x3",
         "W": "w3",
         "Y_left": "y3",
         "Mix": "a3",
         "Z": "z3",
         "A": "a3",
         "Y_right": "y3",
         "_deepnote_index_column": 1
        }
       ],
       "rows_bottom": null
      },
      "text/plain": "    X   W Y_left Mix   Z   A Y_right\n0  x2  w2     y2  a2  z2  a2      y2\n1  x3  w3     y3  a3  z3  a3      y3",
      "text/html": "<div>\n<style scoped>\n    .dataframe tbody tr th:only-of-type {\n        vertical-align: middle;\n    }\n\n    .dataframe tbody tr th {\n        vertical-align: top;\n    }\n\n    .dataframe thead th {\n        text-align: right;\n    }\n</style>\n<table border=\"1\" class=\"dataframe\">\n  <thead>\n    <tr style=\"text-align: right;\">\n      <th></th>\n      <th>X</th>\n      <th>W</th>\n      <th>Y_left</th>\n      <th>Mix</th>\n      <th>Z</th>\n      <th>A</th>\n      <th>Y_right</th>\n    </tr>\n  </thead>\n  <tbody>\n    <tr>\n      <th>0</th>\n      <td>x2</td>\n      <td>w2</td>\n      <td>y2</td>\n      <td>a2</td>\n      <td>z2</td>\n      <td>a2</td>\n      <td>y2</td>\n    </tr>\n    <tr>\n      <th>1</th>\n      <td>x3</td>\n      <td>w3</td>\n      <td>y3</td>\n      <td>a3</td>\n      <td>z3</td>\n      <td>a3</td>\n      <td>y3</td>\n    </tr>\n  </tbody>\n</table>\n</div>"
     },
     "metadata": {}
    }
   ]
  },
  {
   "cell_type": "markdown",
   "source": "## Tipos de Merge\n\n![](http://www.datasciencemadesimple.com/wp-content/uploads/2017/09/join-or-merge-in-python-pandas-1.png)",
   "metadata": {
    "tags": [],
    "cell_id": "00007-a02e74dc-628a-4125-9619-5213e426870d",
    "deepnote_cell_type": "markdown"
   }
  },
  {
   "cell_type": "code",
   "source": "df_left = pd.DataFrame(\n    {'X': ['x0', 'x1', 'x2', 'x3'],\n    'W': ['w0', 'w1', 'w2', 'w3'], \n    'Y': ['y0', 'y1', 'y2', 'y3'] },\n    index=[0,1,2,3])\ndf_right = pd.DataFrame(\n    {'Z': ['z2', 'z3', 'z4', 'z5'],\n    'A': ['a2', 'a3', 'a4', 'a5'], \n    'Y': ['y2', 'y3', 'y4', 'y5']},\n    index=[2,3,4,5])",
   "metadata": {
    "tags": [],
    "cell_id": "00007-e87696d9-024f-4778-883e-b4ae860614ad",
    "deepnote_to_be_reexecuted": false,
    "source_hash": "d8b60d1",
    "execution_start": 1625095151986,
    "execution_millis": 1,
    "deepnote_cell_type": "code"
   },
   "outputs": [],
   "execution_count": 19
  },
  {
   "cell_type": "markdown",
   "source": "**Inner**",
   "metadata": {
    "tags": [],
    "cell_id": "00009-f4d97877-0e6e-4179-849c-59eea93d93b0",
    "deepnote_cell_type": "markdown"
   }
  },
  {
   "cell_type": "code",
   "source": "pd.merge(df_left,df_right, how='inner')",
   "metadata": {
    "tags": [],
    "cell_id": "00009-9c01ce3e-0beb-454b-9d96-b3af2bc0dd43",
    "deepnote_to_be_reexecuted": false,
    "source_hash": "b604ffb9",
    "execution_start": 1625095178322,
    "execution_millis": 5,
    "deepnote_cell_type": "code"
   },
   "outputs": [
    {
     "output_type": "execute_result",
     "execution_count": 21,
     "data": {
      "application/vnd.deepnote.dataframe.v2+json": {
       "row_count": 2,
       "column_count": 5,
       "columns": [
        {
         "name": "X",
         "dtype": "object",
         "stats": {
          "unique_count": 2,
          "nan_count": 0,
          "categories": [
           {
            "name": "x2",
            "count": 1
           },
           {
            "name": "x3",
            "count": 1
           }
          ]
         }
        },
        {
         "name": "W",
         "dtype": "object",
         "stats": {
          "unique_count": 2,
          "nan_count": 0,
          "categories": [
           {
            "name": "w2",
            "count": 1
           },
           {
            "name": "w3",
            "count": 1
           }
          ]
         }
        },
        {
         "name": "Y",
         "dtype": "object",
         "stats": {
          "unique_count": 2,
          "nan_count": 0,
          "categories": [
           {
            "name": "y2",
            "count": 1
           },
           {
            "name": "y3",
            "count": 1
           }
          ]
         }
        },
        {
         "name": "Z",
         "dtype": "object",
         "stats": {
          "unique_count": 2,
          "nan_count": 0,
          "categories": [
           {
            "name": "z2",
            "count": 1
           },
           {
            "name": "z3",
            "count": 1
           }
          ]
         }
        },
        {
         "name": "A",
         "dtype": "object",
         "stats": {
          "unique_count": 2,
          "nan_count": 0,
          "categories": [
           {
            "name": "a2",
            "count": 1
           },
           {
            "name": "a3",
            "count": 1
           }
          ]
         }
        },
        {
         "name": "_deepnote_index_column",
         "dtype": "int64"
        }
       ],
       "rows_top": [
        {
         "X": "x2",
         "W": "w2",
         "Y": "y2",
         "Z": "z2",
         "A": "a2",
         "_deepnote_index_column": 0
        },
        {
         "X": "x3",
         "W": "w3",
         "Y": "y3",
         "Z": "z3",
         "A": "a3",
         "_deepnote_index_column": 1
        }
       ],
       "rows_bottom": null
      },
      "text/plain": "    X   W   Y   Z   A\n0  x2  w2  y2  z2  a2\n1  x3  w3  y3  z3  a3",
      "text/html": "<div>\n<style scoped>\n    .dataframe tbody tr th:only-of-type {\n        vertical-align: middle;\n    }\n\n    .dataframe tbody tr th {\n        vertical-align: top;\n    }\n\n    .dataframe thead th {\n        text-align: right;\n    }\n</style>\n<table border=\"1\" class=\"dataframe\">\n  <thead>\n    <tr style=\"text-align: right;\">\n      <th></th>\n      <th>X</th>\n      <th>W</th>\n      <th>Y</th>\n      <th>Z</th>\n      <th>A</th>\n    </tr>\n  </thead>\n  <tbody>\n    <tr>\n      <th>0</th>\n      <td>x2</td>\n      <td>w2</td>\n      <td>y2</td>\n      <td>z2</td>\n      <td>a2</td>\n    </tr>\n    <tr>\n      <th>1</th>\n      <td>x3</td>\n      <td>w3</td>\n      <td>y3</td>\n      <td>z3</td>\n      <td>a3</td>\n    </tr>\n  </tbody>\n</table>\n</div>"
     },
     "metadata": {}
    }
   ],
   "execution_count": 21
  },
  {
   "cell_type": "markdown",
   "source": "**Left**",
   "metadata": {
    "tags": [],
    "cell_id": "00011-c128624b-82b2-4bdb-9340-f2432e9552b9",
    "deepnote_cell_type": "markdown"
   }
  },
  {
   "cell_type": "code",
   "source": "pd.merge(df_left,df_right, how='left', on='Y')",
   "metadata": {
    "tags": [],
    "cell_id": "00012-e7a712a3-88a2-44f0-912f-13d69b567831",
    "deepnote_to_be_reexecuted": false,
    "source_hash": "c963d10a",
    "execution_start": 1625095303960,
    "execution_millis": 12,
    "deepnote_cell_type": "code"
   },
   "outputs": [
    {
     "output_type": "execute_result",
     "execution_count": 22,
     "data": {
      "application/vnd.deepnote.dataframe.v2+json": {
       "row_count": 4,
       "column_count": 5,
       "columns": [
        {
         "name": "X",
         "dtype": "object",
         "stats": {
          "unique_count": 4,
          "nan_count": 0,
          "categories": [
           {
            "name": "x0",
            "count": 1
           },
           {
            "name": "x1",
            "count": 1
           },
           {
            "name": "2 others",
            "count": 2
           }
          ]
         }
        },
        {
         "name": "W",
         "dtype": "object",
         "stats": {
          "unique_count": 4,
          "nan_count": 0,
          "categories": [
           {
            "name": "w0",
            "count": 1
           },
           {
            "name": "w1",
            "count": 1
           },
           {
            "name": "2 others",
            "count": 2
           }
          ]
         }
        },
        {
         "name": "Y",
         "dtype": "object",
         "stats": {
          "unique_count": 4,
          "nan_count": 0,
          "categories": [
           {
            "name": "y0",
            "count": 1
           },
           {
            "name": "y1",
            "count": 1
           },
           {
            "name": "2 others",
            "count": 2
           }
          ]
         }
        },
        {
         "name": "Z",
         "dtype": "object",
         "stats": {
          "unique_count": 2,
          "nan_count": 2,
          "categories": [
           {
            "name": "z2",
            "count": 1
           },
           {
            "name": "z3",
            "count": 1
           },
           {
            "name": "Missing",
            "count": 2
           }
          ]
         }
        },
        {
         "name": "A",
         "dtype": "object",
         "stats": {
          "unique_count": 2,
          "nan_count": 2,
          "categories": [
           {
            "name": "a2",
            "count": 1
           },
           {
            "name": "a3",
            "count": 1
           },
           {
            "name": "Missing",
            "count": 2
           }
          ]
         }
        },
        {
         "name": "_deepnote_index_column",
         "dtype": "int64"
        }
       ],
       "rows_top": [
        {
         "X": "x0",
         "W": "w0",
         "Y": "y0",
         "Z": "nan",
         "A": "nan",
         "_deepnote_index_column": 0
        },
        {
         "X": "x1",
         "W": "w1",
         "Y": "y1",
         "Z": "nan",
         "A": "nan",
         "_deepnote_index_column": 1
        },
        {
         "X": "x2",
         "W": "w2",
         "Y": "y2",
         "Z": "z2",
         "A": "a2",
         "_deepnote_index_column": 2
        },
        {
         "X": "x3",
         "W": "w3",
         "Y": "y3",
         "Z": "z3",
         "A": "a3",
         "_deepnote_index_column": 3
        }
       ],
       "rows_bottom": null
      },
      "text/plain": "    X   W   Y    Z    A\n0  x0  w0  y0  NaN  NaN\n1  x1  w1  y1  NaN  NaN\n2  x2  w2  y2   z2   a2\n3  x3  w3  y3   z3   a3",
      "text/html": "<div>\n<style scoped>\n    .dataframe tbody tr th:only-of-type {\n        vertical-align: middle;\n    }\n\n    .dataframe tbody tr th {\n        vertical-align: top;\n    }\n\n    .dataframe thead th {\n        text-align: right;\n    }\n</style>\n<table border=\"1\" class=\"dataframe\">\n  <thead>\n    <tr style=\"text-align: right;\">\n      <th></th>\n      <th>X</th>\n      <th>W</th>\n      <th>Y</th>\n      <th>Z</th>\n      <th>A</th>\n    </tr>\n  </thead>\n  <tbody>\n    <tr>\n      <th>0</th>\n      <td>x0</td>\n      <td>w0</td>\n      <td>y0</td>\n      <td>NaN</td>\n      <td>NaN</td>\n    </tr>\n    <tr>\n      <th>1</th>\n      <td>x1</td>\n      <td>w1</td>\n      <td>y1</td>\n      <td>NaN</td>\n      <td>NaN</td>\n    </tr>\n    <tr>\n      <th>2</th>\n      <td>x2</td>\n      <td>w2</td>\n      <td>y2</td>\n      <td>z2</td>\n      <td>a2</td>\n    </tr>\n    <tr>\n      <th>3</th>\n      <td>x3</td>\n      <td>w3</td>\n      <td>y3</td>\n      <td>z3</td>\n      <td>a3</td>\n    </tr>\n  </tbody>\n</table>\n</div>"
     },
     "metadata": {}
    }
   ],
   "execution_count": 22
  },
  {
   "cell_type": "markdown",
   "source": "**Right**",
   "metadata": {
    "tags": [],
    "cell_id": "00012-740cd973-c554-4941-bfba-93cc2889186a",
    "deepnote_cell_type": "markdown"
   }
  },
  {
   "cell_type": "code",
   "source": "pd.merge(df_left,df_right, how='right', on='Y')",
   "metadata": {
    "tags": [],
    "cell_id": "00013-018cafac-916f-49e3-9177-107b6977d160",
    "deepnote_to_be_reexecuted": false,
    "source_hash": "8540a6c2",
    "execution_start": 1625095342841,
    "execution_millis": 46,
    "deepnote_cell_type": "code"
   },
   "outputs": [
    {
     "output_type": "execute_result",
     "execution_count": 23,
     "data": {
      "application/vnd.deepnote.dataframe.v2+json": {
       "row_count": 4,
       "column_count": 5,
       "columns": [
        {
         "name": "X",
         "dtype": "object",
         "stats": {
          "unique_count": 2,
          "nan_count": 2,
          "categories": [
           {
            "name": "x2",
            "count": 1
           },
           {
            "name": "x3",
            "count": 1
           },
           {
            "name": "Missing",
            "count": 2
           }
          ]
         }
        },
        {
         "name": "W",
         "dtype": "object",
         "stats": {
          "unique_count": 2,
          "nan_count": 2,
          "categories": [
           {
            "name": "w2",
            "count": 1
           },
           {
            "name": "w3",
            "count": 1
           },
           {
            "name": "Missing",
            "count": 2
           }
          ]
         }
        },
        {
         "name": "Y",
         "dtype": "object",
         "stats": {
          "unique_count": 4,
          "nan_count": 0,
          "categories": [
           {
            "name": "y2",
            "count": 1
           },
           {
            "name": "y3",
            "count": 1
           },
           {
            "name": "2 others",
            "count": 2
           }
          ]
         }
        },
        {
         "name": "Z",
         "dtype": "object",
         "stats": {
          "unique_count": 4,
          "nan_count": 0,
          "categories": [
           {
            "name": "z2",
            "count": 1
           },
           {
            "name": "z3",
            "count": 1
           },
           {
            "name": "2 others",
            "count": 2
           }
          ]
         }
        },
        {
         "name": "A",
         "dtype": "object",
         "stats": {
          "unique_count": 4,
          "nan_count": 0,
          "categories": [
           {
            "name": "a2",
            "count": 1
           },
           {
            "name": "a3",
            "count": 1
           },
           {
            "name": "2 others",
            "count": 2
           }
          ]
         }
        },
        {
         "name": "_deepnote_index_column",
         "dtype": "int64"
        }
       ],
       "rows_top": [
        {
         "X": "x2",
         "W": "w2",
         "Y": "y2",
         "Z": "z2",
         "A": "a2",
         "_deepnote_index_column": 0
        },
        {
         "X": "x3",
         "W": "w3",
         "Y": "y3",
         "Z": "z3",
         "A": "a3",
         "_deepnote_index_column": 1
        },
        {
         "X": "nan",
         "W": "nan",
         "Y": "y4",
         "Z": "z4",
         "A": "a4",
         "_deepnote_index_column": 2
        },
        {
         "X": "nan",
         "W": "nan",
         "Y": "y5",
         "Z": "z5",
         "A": "a5",
         "_deepnote_index_column": 3
        }
       ],
       "rows_bottom": null
      },
      "text/plain": "     X    W   Y   Z   A\n0   x2   w2  y2  z2  a2\n1   x3   w3  y3  z3  a3\n2  NaN  NaN  y4  z4  a4\n3  NaN  NaN  y5  z5  a5",
      "text/html": "<div>\n<style scoped>\n    .dataframe tbody tr th:only-of-type {\n        vertical-align: middle;\n    }\n\n    .dataframe tbody tr th {\n        vertical-align: top;\n    }\n\n    .dataframe thead th {\n        text-align: right;\n    }\n</style>\n<table border=\"1\" class=\"dataframe\">\n  <thead>\n    <tr style=\"text-align: right;\">\n      <th></th>\n      <th>X</th>\n      <th>W</th>\n      <th>Y</th>\n      <th>Z</th>\n      <th>A</th>\n    </tr>\n  </thead>\n  <tbody>\n    <tr>\n      <th>0</th>\n      <td>x2</td>\n      <td>w2</td>\n      <td>y2</td>\n      <td>z2</td>\n      <td>a2</td>\n    </tr>\n    <tr>\n      <th>1</th>\n      <td>x3</td>\n      <td>w3</td>\n      <td>y3</td>\n      <td>z3</td>\n      <td>a3</td>\n    </tr>\n    <tr>\n      <th>2</th>\n      <td>NaN</td>\n      <td>NaN</td>\n      <td>y4</td>\n      <td>z4</td>\n      <td>a4</td>\n    </tr>\n    <tr>\n      <th>3</th>\n      <td>NaN</td>\n      <td>NaN</td>\n      <td>y5</td>\n      <td>z5</td>\n      <td>a5</td>\n    </tr>\n  </tbody>\n</table>\n</div>"
     },
     "metadata": {}
    }
   ],
   "execution_count": 23
  },
  {
   "cell_type": "markdown",
   "source": "**Outer**",
   "metadata": {
    "tags": [],
    "cell_id": "00015-50e050b5-59e8-471b-9f80-c6793991a233",
    "deepnote_cell_type": "markdown"
   }
  },
  {
   "cell_type": "code",
   "source": "pd.merge(df_left,df_right, how='outer', on='Y')",
   "metadata": {
    "tags": [],
    "cell_id": "00016-75703af3-a97b-4e80-8a1e-d18b7f0811f3",
    "deepnote_to_be_reexecuted": false,
    "source_hash": "113d8e36",
    "execution_start": 1625095368689,
    "execution_millis": 8,
    "deepnote_cell_type": "code"
   },
   "outputs": [
    {
     "output_type": "execute_result",
     "execution_count": 26,
     "data": {
      "application/vnd.deepnote.dataframe.v2+json": {
       "row_count": 6,
       "column_count": 5,
       "columns": [
        {
         "name": "X",
         "dtype": "object",
         "stats": {
          "unique_count": 4,
          "nan_count": 2,
          "categories": [
           {
            "name": "x0",
            "count": 1
           },
           {
            "name": "3 others",
            "count": 3
           },
           {
            "name": "Missing",
            "count": 2
           }
          ]
         }
        },
        {
         "name": "W",
         "dtype": "object",
         "stats": {
          "unique_count": 4,
          "nan_count": 2,
          "categories": [
           {
            "name": "w0",
            "count": 1
           },
           {
            "name": "3 others",
            "count": 3
           },
           {
            "name": "Missing",
            "count": 2
           }
          ]
         }
        },
        {
         "name": "Y",
         "dtype": "object",
         "stats": {
          "unique_count": 6,
          "nan_count": 0,
          "categories": [
           {
            "name": "y0",
            "count": 1
           },
           {
            "name": "y1",
            "count": 1
           },
           {
            "name": "4 others",
            "count": 4
           }
          ]
         }
        },
        {
         "name": "Z",
         "dtype": "object",
         "stats": {
          "unique_count": 4,
          "nan_count": 2,
          "categories": [
           {
            "name": "z2",
            "count": 1
           },
           {
            "name": "3 others",
            "count": 3
           },
           {
            "name": "Missing",
            "count": 2
           }
          ]
         }
        },
        {
         "name": "A",
         "dtype": "object",
         "stats": {
          "unique_count": 4,
          "nan_count": 2,
          "categories": [
           {
            "name": "a2",
            "count": 1
           },
           {
            "name": "3 others",
            "count": 3
           },
           {
            "name": "Missing",
            "count": 2
           }
          ]
         }
        },
        {
         "name": "_deepnote_index_column",
         "dtype": "int64"
        }
       ],
       "rows_top": [
        {
         "X": "x0",
         "W": "w0",
         "Y": "y0",
         "Z": "nan",
         "A": "nan",
         "_deepnote_index_column": 0
        },
        {
         "X": "x1",
         "W": "w1",
         "Y": "y1",
         "Z": "nan",
         "A": "nan",
         "_deepnote_index_column": 1
        },
        {
         "X": "x2",
         "W": "w2",
         "Y": "y2",
         "Z": "z2",
         "A": "a2",
         "_deepnote_index_column": 2
        },
        {
         "X": "x3",
         "W": "w3",
         "Y": "y3",
         "Z": "z3",
         "A": "a3",
         "_deepnote_index_column": 3
        },
        {
         "X": "nan",
         "W": "nan",
         "Y": "y4",
         "Z": "z4",
         "A": "a4",
         "_deepnote_index_column": 4
        },
        {
         "X": "nan",
         "W": "nan",
         "Y": "y5",
         "Z": "z5",
         "A": "a5",
         "_deepnote_index_column": 5
        }
       ],
       "rows_bottom": null
      },
      "text/plain": "     X    W   Y    Z    A\n0   x0   w0  y0  NaN  NaN\n1   x1   w1  y1  NaN  NaN\n2   x2   w2  y2   z2   a2\n3   x3   w3  y3   z3   a3\n4  NaN  NaN  y4   z4   a4\n5  NaN  NaN  y5   z5   a5",
      "text/html": "<div>\n<style scoped>\n    .dataframe tbody tr th:only-of-type {\n        vertical-align: middle;\n    }\n\n    .dataframe tbody tr th {\n        vertical-align: top;\n    }\n\n    .dataframe thead th {\n        text-align: right;\n    }\n</style>\n<table border=\"1\" class=\"dataframe\">\n  <thead>\n    <tr style=\"text-align: right;\">\n      <th></th>\n      <th>X</th>\n      <th>W</th>\n      <th>Y</th>\n      <th>Z</th>\n      <th>A</th>\n    </tr>\n  </thead>\n  <tbody>\n    <tr>\n      <th>0</th>\n      <td>x0</td>\n      <td>w0</td>\n      <td>y0</td>\n      <td>NaN</td>\n      <td>NaN</td>\n    </tr>\n    <tr>\n      <th>1</th>\n      <td>x1</td>\n      <td>w1</td>\n      <td>y1</td>\n      <td>NaN</td>\n      <td>NaN</td>\n    </tr>\n    <tr>\n      <th>2</th>\n      <td>x2</td>\n      <td>w2</td>\n      <td>y2</td>\n      <td>z2</td>\n      <td>a2</td>\n    </tr>\n    <tr>\n      <th>3</th>\n      <td>x3</td>\n      <td>w3</td>\n      <td>y3</td>\n      <td>z3</td>\n      <td>a3</td>\n    </tr>\n    <tr>\n      <th>4</th>\n      <td>NaN</td>\n      <td>NaN</td>\n      <td>y4</td>\n      <td>z4</td>\n      <td>a4</td>\n    </tr>\n    <tr>\n      <th>5</th>\n      <td>NaN</td>\n      <td>NaN</td>\n      <td>y5</td>\n      <td>z5</td>\n      <td>a5</td>\n    </tr>\n  </tbody>\n</table>\n</div>"
     },
     "metadata": {}
    }
   ],
   "execution_count": 26
  },
  {
   "cell_type": "markdown",
   "source": "Tipos de **Merge** cuando se **comparten** mas de un parametro.",
   "metadata": {
    "tags": [],
    "cell_id": "00017-e7ce24c2-a66b-4225-88e9-9ee829dcf036",
    "deepnote_cell_type": "markdown"
   }
  },
  {
   "cell_type": "code",
   "source": "df_left2 = pd.DataFrame(\n    {'X': ['x0', 'x1', 'x2', 'x3'],\n    'W': ['w0', 'w1', 'w2', 'w3'], \n    'Y': ['y0', 'y1', 'y2', 'y3'],\n    'A': ['a0', 'a1', 'a2', 'a3'],})\ndf_left2",
   "metadata": {
    "tags": [],
    "cell_id": "00018-b74b3a05-c330-4eab-96b7-33b195f928a8",
    "deepnote_to_be_reexecuted": false,
    "source_hash": "34204b58",
    "execution_start": 1625095708969,
    "execution_millis": 26,
    "deepnote_cell_type": "code"
   },
   "outputs": [
    {
     "output_type": "execute_result",
     "execution_count": 46,
     "data": {
      "application/vnd.deepnote.dataframe.v2+json": {
       "row_count": 4,
       "column_count": 4,
       "columns": [
        {
         "name": "X",
         "dtype": "object",
         "stats": {
          "unique_count": 4,
          "nan_count": 0,
          "categories": [
           {
            "name": "x0",
            "count": 1
           },
           {
            "name": "x1",
            "count": 1
           },
           {
            "name": "2 others",
            "count": 2
           }
          ]
         }
        },
        {
         "name": "W",
         "dtype": "object",
         "stats": {
          "unique_count": 4,
          "nan_count": 0,
          "categories": [
           {
            "name": "w0",
            "count": 1
           },
           {
            "name": "w1",
            "count": 1
           },
           {
            "name": "2 others",
            "count": 2
           }
          ]
         }
        },
        {
         "name": "Y",
         "dtype": "object",
         "stats": {
          "unique_count": 4,
          "nan_count": 0,
          "categories": [
           {
            "name": "y0",
            "count": 1
           },
           {
            "name": "y1",
            "count": 1
           },
           {
            "name": "2 others",
            "count": 2
           }
          ]
         }
        },
        {
         "name": "A",
         "dtype": "object",
         "stats": {
          "unique_count": 4,
          "nan_count": 0,
          "categories": [
           {
            "name": "a0",
            "count": 1
           },
           {
            "name": "a1",
            "count": 1
           },
           {
            "name": "2 others",
            "count": 2
           }
          ]
         }
        },
        {
         "name": "_deepnote_index_column",
         "dtype": "int64"
        }
       ],
       "rows_top": [
        {
         "X": "x0",
         "W": "w0",
         "Y": "y0",
         "A": "a0",
         "_deepnote_index_column": 0
        },
        {
         "X": "x1",
         "W": "w1",
         "Y": "y1",
         "A": "a1",
         "_deepnote_index_column": 1
        },
        {
         "X": "x2",
         "W": "w2",
         "Y": "y2",
         "A": "a2",
         "_deepnote_index_column": 2
        },
        {
         "X": "x3",
         "W": "w3",
         "Y": "y3",
         "A": "a3",
         "_deepnote_index_column": 3
        }
       ],
       "rows_bottom": null
      },
      "text/plain": "    X   W   Y   A\n0  x0  w0  y0  a0\n1  x1  w1  y1  a1\n2  x2  w2  y2  a2\n3  x3  w3  y3  a3",
      "text/html": "<div>\n<style scoped>\n    .dataframe tbody tr th:only-of-type {\n        vertical-align: middle;\n    }\n\n    .dataframe tbody tr th {\n        vertical-align: top;\n    }\n\n    .dataframe thead th {\n        text-align: right;\n    }\n</style>\n<table border=\"1\" class=\"dataframe\">\n  <thead>\n    <tr style=\"text-align: right;\">\n      <th></th>\n      <th>X</th>\n      <th>W</th>\n      <th>Y</th>\n      <th>A</th>\n    </tr>\n  </thead>\n  <tbody>\n    <tr>\n      <th>0</th>\n      <td>x0</td>\n      <td>w0</td>\n      <td>y0</td>\n      <td>a0</td>\n    </tr>\n    <tr>\n      <th>1</th>\n      <td>x1</td>\n      <td>w1</td>\n      <td>y1</td>\n      <td>a1</td>\n    </tr>\n    <tr>\n      <th>2</th>\n      <td>x2</td>\n      <td>w2</td>\n      <td>y2</td>\n      <td>a2</td>\n    </tr>\n    <tr>\n      <th>3</th>\n      <td>x3</td>\n      <td>w3</td>\n      <td>y3</td>\n      <td>a3</td>\n    </tr>\n  </tbody>\n</table>\n</div>"
     },
     "metadata": {}
    }
   ],
   "execution_count": 46
  },
  {
   "cell_type": "code",
   "source": "pd.merge(df_left2,df_right,how='outer', on=['Y','A'])",
   "metadata": {
    "tags": [],
    "cell_id": "00019-b204b39b-ad06-4d40-9081-8d58d4e61e21",
    "deepnote_to_be_reexecuted": false,
    "source_hash": "7f2b927",
    "execution_start": 1625095709578,
    "execution_millis": 39,
    "deepnote_cell_type": "code"
   },
   "outputs": [
    {
     "output_type": "execute_result",
     "execution_count": 47,
     "data": {
      "application/vnd.deepnote.dataframe.v2+json": {
       "row_count": 6,
       "column_count": 5,
       "columns": [
        {
         "name": "X",
         "dtype": "object",
         "stats": {
          "unique_count": 4,
          "nan_count": 2,
          "categories": [
           {
            "name": "x0",
            "count": 1
           },
           {
            "name": "3 others",
            "count": 3
           },
           {
            "name": "Missing",
            "count": 2
           }
          ]
         }
        },
        {
         "name": "W",
         "dtype": "object",
         "stats": {
          "unique_count": 4,
          "nan_count": 2,
          "categories": [
           {
            "name": "w0",
            "count": 1
           },
           {
            "name": "3 others",
            "count": 3
           },
           {
            "name": "Missing",
            "count": 2
           }
          ]
         }
        },
        {
         "name": "Y",
         "dtype": "object",
         "stats": {
          "unique_count": 6,
          "nan_count": 0,
          "categories": [
           {
            "name": "y0",
            "count": 1
           },
           {
            "name": "y1",
            "count": 1
           },
           {
            "name": "4 others",
            "count": 4
           }
          ]
         }
        },
        {
         "name": "A",
         "dtype": "object",
         "stats": {
          "unique_count": 6,
          "nan_count": 0,
          "categories": [
           {
            "name": "a0",
            "count": 1
           },
           {
            "name": "a1",
            "count": 1
           },
           {
            "name": "4 others",
            "count": 4
           }
          ]
         }
        },
        {
         "name": "Z",
         "dtype": "object",
         "stats": {
          "unique_count": 4,
          "nan_count": 2,
          "categories": [
           {
            "name": "z2",
            "count": 1
           },
           {
            "name": "3 others",
            "count": 3
           },
           {
            "name": "Missing",
            "count": 2
           }
          ]
         }
        },
        {
         "name": "_deepnote_index_column",
         "dtype": "int64"
        }
       ],
       "rows_top": [
        {
         "X": "x0",
         "W": "w0",
         "Y": "y0",
         "A": "a0",
         "Z": "nan",
         "_deepnote_index_column": 0
        },
        {
         "X": "x1",
         "W": "w1",
         "Y": "y1",
         "A": "a1",
         "Z": "nan",
         "_deepnote_index_column": 1
        },
        {
         "X": "x2",
         "W": "w2",
         "Y": "y2",
         "A": "a2",
         "Z": "z2",
         "_deepnote_index_column": 2
        },
        {
         "X": "x3",
         "W": "w3",
         "Y": "y3",
         "A": "a3",
         "Z": "z3",
         "_deepnote_index_column": 3
        },
        {
         "X": "nan",
         "W": "nan",
         "Y": "y4",
         "A": "a4",
         "Z": "z4",
         "_deepnote_index_column": 4
        },
        {
         "X": "nan",
         "W": "nan",
         "Y": "y5",
         "A": "a5",
         "Z": "z5",
         "_deepnote_index_column": 5
        }
       ],
       "rows_bottom": null
      },
      "text/plain": "     X    W   Y   A    Z\n0   x0   w0  y0  a0  NaN\n1   x1   w1  y1  a1  NaN\n2   x2   w2  y2  a2   z2\n3   x3   w3  y3  a3   z3\n4  NaN  NaN  y4  a4   z4\n5  NaN  NaN  y5  a5   z5",
      "text/html": "<div>\n<style scoped>\n    .dataframe tbody tr th:only-of-type {\n        vertical-align: middle;\n    }\n\n    .dataframe tbody tr th {\n        vertical-align: top;\n    }\n\n    .dataframe thead th {\n        text-align: right;\n    }\n</style>\n<table border=\"1\" class=\"dataframe\">\n  <thead>\n    <tr style=\"text-align: right;\">\n      <th></th>\n      <th>X</th>\n      <th>W</th>\n      <th>Y</th>\n      <th>A</th>\n      <th>Z</th>\n    </tr>\n  </thead>\n  <tbody>\n    <tr>\n      <th>0</th>\n      <td>x0</td>\n      <td>w0</td>\n      <td>y0</td>\n      <td>a0</td>\n      <td>NaN</td>\n    </tr>\n    <tr>\n      <th>1</th>\n      <td>x1</td>\n      <td>w1</td>\n      <td>y1</td>\n      <td>a1</td>\n      <td>NaN</td>\n    </tr>\n    <tr>\n      <th>2</th>\n      <td>x2</td>\n      <td>w2</td>\n      <td>y2</td>\n      <td>a2</td>\n      <td>z2</td>\n    </tr>\n    <tr>\n      <th>3</th>\n      <td>x3</td>\n      <td>w3</td>\n      <td>y3</td>\n      <td>a3</td>\n      <td>z3</td>\n    </tr>\n    <tr>\n      <th>4</th>\n      <td>NaN</td>\n      <td>NaN</td>\n      <td>y4</td>\n      <td>a4</td>\n      <td>z4</td>\n    </tr>\n    <tr>\n      <th>5</th>\n      <td>NaN</td>\n      <td>NaN</td>\n      <td>y5</td>\n      <td>a5</td>\n      <td>z5</td>\n    </tr>\n  </tbody>\n</table>\n</div>"
     },
     "metadata": {}
    }
   ],
   "execution_count": 47
  },
  {
   "cell_type": "markdown",
   "source": "<a style='text-decoration:none;line-height:16px;display:flex;color:#5B5B62;padding:10px;justify-content:end;' href='https://deepnote.com?utm_source=created-in-deepnote-cell&projectId=40d7a071-7e6a-4668-9914-a7e81441c111' target=\"_blank\">\n<img alt='Created in deepnote.com' style='display:inline;max-height:16px;margin:0px;margin-right:7.5px;' src='data:image/svg+xml;base64,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' > </img>\nCreated in <span style='font-weight:600;margin-left:4px;'>Deepnote</span></a>",
   "metadata": {
    "tags": [],
    "created_in_deepnote_cell": true,
    "deepnote_cell_type": "markdown"
   }
  }
 ],
 "nbformat": 4,
 "nbformat_minor": 2,
 "metadata": {
  "orig_nbformat": 2,
  "deepnote": {
   "is_reactive": false
  },
  "deepnote_notebook_id": "49d3b044-2d26-41bf-8de0-7ae70716d355",
  "deepnote_execution_queue": []
 }
}