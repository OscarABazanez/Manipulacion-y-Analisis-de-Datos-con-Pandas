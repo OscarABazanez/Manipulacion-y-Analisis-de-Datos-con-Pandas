{
 "cells": [
  {
   "cell_type": "code",
   "metadata": {
    "tags": [],
    "cell_id": "00000-a9a77b4f-112d-45c8-89db-b357decd7b6a",
    "deepnote_to_be_reexecuted": false,
    "source_hash": "1c1a6574",
    "execution_start": 1625024709596,
    "execution_millis": 9,
    "deepnote_cell_type": "code"
   },
   "source": "import pandas as pd\ndata = {'names':['Sara Moreno 34',\n                 'jUAn GOMez 23',\n                 'CArlos mArtinez 89',\n                 'Alfredo VelaZques 3',\n                 'luis Mora 56',\n                 '@freddier #platzi 10',pd.NA]}",
   "execution_count": 1,
   "outputs": []
  },
  {
   "cell_type": "markdown",
   "source": "Usemos los datos del diccionario para crear nuestro DataFrame. Nuestro DataFrame contiene una columna tipo texto, con variedades de caracteres especiales, números, mayúsculas e inclusive variables nulas.",
   "metadata": {
    "tags": [],
    "cell_id": "00002-23678726-20be-48fe-9120-92d6420e94f0",
    "deepnote_cell_type": "markdown"
   }
  },
  {
   "cell_type": "code",
   "source": "df = pd.DataFrame(data)\ndf",
   "metadata": {
    "tags": [],
    "cell_id": "00002-752d256f-891f-4711-b67d-8d5545caa386",
    "deepnote_to_be_reexecuted": false,
    "source_hash": "e85bfb61",
    "execution_start": 1625024731732,
    "execution_millis": 52,
    "deepnote_cell_type": "code"
   },
   "outputs": [
    {
     "output_type": "execute_result",
     "execution_count": 2,
     "data": {
      "application/vnd.deepnote.dataframe.v2+json": {
       "row_count": 7,
       "column_count": 1,
       "columns": [
        {
         "name": "names",
         "dtype": "object",
         "stats": {
          "unique_count": 6,
          "nan_count": 1,
          "categories": [
           {
            "name": "Sara Moreno 34",
            "count": 1
           },
           {
            "name": "5 others",
            "count": 5
           },
           {
            "name": "Missing",
            "count": 1
           }
          ]
         }
        },
        {
         "name": "_deepnote_index_column",
         "dtype": "int64"
        }
       ],
       "rows_top": [
        {
         "names": "Sara Moreno 34",
         "_deepnote_index_column": 0
        },
        {
         "names": "jUAn GOMez 23",
         "_deepnote_index_column": 1
        },
        {
         "names": "CArlos mArtinez 89",
         "_deepnote_index_column": 2
        },
        {
         "names": "Alfredo VelaZques 3",
         "_deepnote_index_column": 3
        },
        {
         "names": "luis Mora 56",
         "_deepnote_index_column": 4
        },
        {
         "names": "@freddier #platzi 10",
         "_deepnote_index_column": 5
        },
        {
         "names": "<NA>",
         "_deepnote_index_column": 6
        }
       ],
       "rows_bottom": null
      },
      "text/plain": "                  names\n0        Sara Moreno 34\n1         jUAn GOMez 23\n2    CArlos mArtinez 89\n3   Alfredo VelaZques 3\n4          luis Mora 56\n5  @freddier #platzi 10\n6                  <NA>",
      "text/html": "<div>\n<style scoped>\n    .dataframe tbody tr th:only-of-type {\n        vertical-align: middle;\n    }\n\n    .dataframe tbody tr th {\n        vertical-align: top;\n    }\n\n    .dataframe thead th {\n        text-align: right;\n    }\n</style>\n<table border=\"1\" class=\"dataframe\">\n  <thead>\n    <tr style=\"text-align: right;\">\n      <th></th>\n      <th>names</th>\n    </tr>\n  </thead>\n  <tbody>\n    <tr>\n      <th>0</th>\n      <td>Sara Moreno 34</td>\n    </tr>\n    <tr>\n      <th>1</th>\n      <td>jUAn GOMez 23</td>\n    </tr>\n    <tr>\n      <th>2</th>\n      <td>CArlos mArtinez 89</td>\n    </tr>\n    <tr>\n      <th>3</th>\n      <td>Alfredo VelaZques 3</td>\n    </tr>\n    <tr>\n      <th>4</th>\n      <td>luis Mora 56</td>\n    </tr>\n    <tr>\n      <th>5</th>\n      <td>@freddier #platzi 10</td>\n    </tr>\n    <tr>\n      <th>6</th>\n      <td>&lt;NA&gt;</td>\n    </tr>\n  </tbody>\n</table>\n</div>"
     },
     "metadata": {}
    }
   ],
   "execution_count": 2
  },
  {
   "cell_type": "markdown",
   "source": "# Minusculas\nPara usar las funciones asociadas a texto usamos str en nuestro DataFrame, por ejemplo, si se quiere colocar el texto en minúscula, basta con escribir:",
   "metadata": {
    "tags": [],
    "cell_id": "00002-4402a6fa-1038-4eef-abef-828ecbfae3a1",
    "deepnote_cell_type": "markdown"
   }
  },
  {
   "cell_type": "code",
   "source": "df['names'].str.lower()",
   "metadata": {
    "tags": [],
    "cell_id": "00004-72b57f76-2117-41d3-a025-8b4dcae4ce46",
    "deepnote_to_be_reexecuted": false,
    "source_hash": "e69cd5e5",
    "execution_start": 1625024754737,
    "execution_millis": 9,
    "deepnote_cell_type": "code"
   },
   "outputs": [
    {
     "output_type": "execute_result",
     "execution_count": 3,
     "data": {
      "text/plain": "0          sara moreno 34\n1           juan gomez 23\n2      carlos martinez 89\n3     alfredo velazques 3\n4            luis mora 56\n5    @freddier #platzi 10\n6                    <NA>\nName: names, dtype: object"
     },
     "metadata": {}
    }
   ],
   "execution_count": 3
  },
  {
   "cell_type": "markdown",
   "source": "# Mayusculas\nPara mayúsculas igualmente:",
   "metadata": {
    "tags": [],
    "cell_id": "00005-3c45cdd0-f38d-4e4a-8596-f70dfd481c1f",
    "deepnote_cell_type": "markdown"
   }
  },
  {
   "cell_type": "code",
   "source": "df['names'].str.upper()",
   "metadata": {
    "tags": [],
    "cell_id": "00006-ea638944-67c5-4aba-8c6d-51a715422361",
    "deepnote_to_be_reexecuted": false,
    "source_hash": "cc30f3b0",
    "execution_start": 1625024776298,
    "execution_millis": 4,
    "deepnote_cell_type": "code"
   },
   "outputs": [
    {
     "output_type": "execute_result",
     "execution_count": 4,
     "data": {
      "text/plain": "0          SARA MORENO 34\n1           JUAN GOMEZ 23\n2      CARLOS MARTINEZ 89\n3     ALFREDO VELAZQUES 3\n4            LUIS MORA 56\n5    @FREDDIER #PLATZI 10\n6                    <NA>\nName: names, dtype: object"
     },
     "metadata": {}
    }
   ],
   "execution_count": 4
  },
  {
   "cell_type": "markdown",
   "source": "# Primera letra en mayúscula",
   "metadata": {
    "tags": [],
    "cell_id": "00006-6054b3f1-23e0-4a6f-87ac-0b88d5d53f63",
    "deepnote_cell_type": "markdown"
   }
  },
  {
   "cell_type": "code",
   "source": "df['names'].str.capitalize()",
   "metadata": {
    "tags": [],
    "cell_id": "00008-98077548-4bc6-41a3-94d2-dcadbfcfeda9",
    "deepnote_to_be_reexecuted": false,
    "source_hash": "ec6641a9",
    "execution_start": 1625024791546,
    "execution_millis": 6,
    "deepnote_cell_type": "code"
   },
   "outputs": [
    {
     "output_type": "execute_result",
     "execution_count": 5,
     "data": {
      "text/plain": "0          Sara moreno 34\n1           Juan gomez 23\n2      Carlos martinez 89\n3     Alfredo velazques 3\n4            Luis mora 56\n5    @freddier #platzi 10\n6                    <NA>\nName: names, dtype: object"
     },
     "metadata": {}
    }
   ],
   "execution_count": 5
  },
  {
   "cell_type": "markdown",
   "source": "# Longitud de un texto",
   "metadata": {
    "tags": [],
    "cell_id": "00009-eef0a30f-720a-4792-8c85-030481a0124f",
    "deepnote_cell_type": "markdown"
   }
  },
  {
   "cell_type": "code",
   "source": "df['names'].str.len()",
   "metadata": {
    "tags": [],
    "cell_id": "00010-d086076b-d4cc-4ca5-9556-e1a72836735d",
    "deepnote_to_be_reexecuted": false,
    "source_hash": "56a03bbf",
    "execution_start": 1625024811074,
    "execution_millis": 4,
    "deepnote_cell_type": "code"
   },
   "outputs": [
    {
     "output_type": "execute_result",
     "execution_count": 6,
     "data": {
      "text/plain": "0      14\n1      13\n2      18\n3      19\n4      12\n5      20\n6    <NA>\nName: names, dtype: object"
     },
     "metadata": {}
    }
   ],
   "execution_count": 6
  },
  {
   "cell_type": "markdown",
   "source": "# Dividir un texto\nPara dividir el texto por espacios usamos split y definimos el carácter por\nel que queremos dividir, en este caso, un espacio vacío ' ' o '#':",
   "metadata": {
    "tags": [],
    "cell_id": "00011-78edee5a-3547-44aa-834d-309baeb28ec0",
    "deepnote_cell_type": "markdown"
   }
  },
  {
   "cell_type": "code",
   "source": "df['names'].str.split(' ')",
   "metadata": {
    "tags": [],
    "cell_id": "00012-37d5a754-e8cd-4eff-9148-628795772235",
    "deepnote_to_be_reexecuted": false,
    "source_hash": "c9486cf7",
    "execution_start": 1625024827348,
    "execution_millis": 15,
    "deepnote_cell_type": "code"
   },
   "outputs": [
    {
     "output_type": "execute_result",
     "execution_count": 7,
     "data": {
      "text/plain": "0          [Sara, Moreno, 34]\n1           [jUAn, GOMez, 23]\n2      [CArlos, mArtinez, 89]\n3     [Alfredo, VelaZques, 3]\n4            [luis, Mora, 56]\n5    [@freddier, #platzi, 10]\n6                        <NA>\nName: names, dtype: object"
     },
     "metadata": {}
    }
   ],
   "execution_count": 7
  },
  {
   "cell_type": "code",
   "source": "df['names'].str.split('#')",
   "metadata": {
    "tags": [],
    "cell_id": "00013-a6cbdb4f-e85c-40b0-b5e6-6b13f6058b15",
    "deepnote_to_be_reexecuted": false,
    "source_hash": "24576e4f",
    "execution_start": 1625024834914,
    "execution_millis": 4,
    "deepnote_cell_type": "code"
   },
   "outputs": [
    {
     "output_type": "execute_result",
     "execution_count": 8,
     "data": {
      "text/plain": "0           [Sara Moreno 34]\n1            [jUAn GOMez 23]\n2       [CArlos mArtinez 89]\n3      [Alfredo VelaZques 3]\n4             [luis Mora 56]\n5    [@freddier , platzi 10]\n6                       <NA>\nName: names, dtype: object"
     },
     "metadata": {}
    }
   ],
   "execution_count": 8
  },
  {
   "cell_type": "markdown",
   "source": "# Seleccionar los primeros o últimos 5 caracteres usamos:",
   "metadata": {
    "tags": [],
    "cell_id": "00014-2ac38065-8ac2-492f-b56d-7913cd35138a",
    "deepnote_cell_type": "markdown"
   }
  },
  {
   "cell_type": "code",
   "source": "df['names'].str[:5]",
   "metadata": {
    "tags": [],
    "cell_id": "00015-f733e599-2ce4-4ee1-9b69-83a22138c3d4",
    "deepnote_to_be_reexecuted": false,
    "source_hash": "f6efc849",
    "execution_start": 1625024845806,
    "execution_millis": 8,
    "deepnote_cell_type": "code"
   },
   "outputs": [
    {
     "output_type": "execute_result",
     "execution_count": 9,
     "data": {
      "text/plain": "0    Sara \n1    jUAn \n2    CArlo\n3    Alfre\n4    luis \n5    @fred\n6     <NA>\nName: names, dtype: object"
     },
     "metadata": {}
    }
   ],
   "execution_count": 9
  },
  {
   "cell_type": "code",
   "source": "df['names'].str[-5:]",
   "metadata": {
    "tags": [],
    "cell_id": "00016-894de3a9-939d-4c56-828c-0dc446e46f0e",
    "deepnote_to_be_reexecuted": false,
    "source_hash": "301912a",
    "execution_start": 1625024852149,
    "execution_millis": 8,
    "deepnote_cell_type": "code"
   },
   "outputs": [
    {
     "output_type": "execute_result",
     "execution_count": 11,
     "data": {
      "text/plain": "0    no 34\n1    ez 23\n2    ez 89\n3    ues 3\n4    ra 56\n5    zi 10\n6     <NA>\nName: names, dtype: object"
     },
     "metadata": {}
    }
   ],
   "execution_count": 11
  },
  {
   "cell_type": "markdown",
   "source": "# Remplazar\nPodemos reemplazar una secuencia de caracteres por otra mediante:",
   "metadata": {
    "tags": [],
    "cell_id": "00017-9090dd4d-9970-4425-8a83-bdb77776cfe9",
    "deepnote_cell_type": "markdown"
   }
  },
  {
   "cell_type": "code",
   "source": "df['names'].str.replace('Alfredo','Antonio')",
   "metadata": {
    "tags": [],
    "cell_id": "00018-ed82169c-c10b-4dc2-ae22-ea042e48529d",
    "deepnote_to_be_reexecuted": false,
    "source_hash": "7b2a0d1e",
    "execution_start": 1625024864811,
    "execution_millis": 14,
    "deepnote_cell_type": "code"
   },
   "outputs": [
    {
     "output_type": "execute_result",
     "execution_count": 12,
     "data": {
      "text/plain": "0          Sara Moreno 34\n1           jUAn GOMez 23\n2      CArlos mArtinez 89\n3     Antonio VelaZques 3\n4            luis Mora 56\n5    @freddier #platzi 10\n6                    <NA>\nName: names, dtype: object"
     },
     "metadata": {}
    }
   ],
   "execution_count": 12
  },
  {
   "cell_type": "markdown",
   "source": "# Buscar por letras en especifico\nTambién podemos buscar una secuencia de texto en específico, en este caso, **'ara'**:",
   "metadata": {
    "tags": [],
    "cell_id": "00019-a680ccc9-df89-470f-9757-5424d02ed35e",
    "deepnote_cell_type": "markdown"
   }
  },
  {
   "cell_type": "code",
   "source": "df['names'].str.findall('ara')",
   "metadata": {
    "tags": [],
    "cell_id": "00020-eebf8bf7-ac62-43f8-8ddf-4b5836a59714",
    "deepnote_to_be_reexecuted": false,
    "source_hash": "be91f72a",
    "execution_start": 1625024895583,
    "execution_millis": 8,
    "deepnote_cell_type": "code"
   },
   "outputs": [
    {
     "output_type": "execute_result",
     "execution_count": 13,
     "data": {
      "text/plain": "0    [ara]\n1       []\n2       []\n3       []\n4       []\n5       []\n6     <NA>\nName: names, dtype: object"
     },
     "metadata": {}
    }
   ],
   "execution_count": 13
  },
  {
   "cell_type": "markdown",
   "source": "También podemos crear un filtro basándonos en una secuencia de texto en\nespecífico, en este caso, las filas que tengan **'or'**:",
   "metadata": {
    "tags": [],
    "cell_id": "00021-dc75353c-bc9a-464b-a9ee-29803f21697c",
    "deepnote_cell_type": "markdown"
   }
  },
  {
   "cell_type": "code",
   "source": "df['names'].str.contains('or')",
   "metadata": {
    "tags": [],
    "cell_id": "00022-c8465d79-29f6-46f8-8e06-95b346d3ffaf",
    "deepnote_to_be_reexecuted": false,
    "source_hash": "3ea2b7da",
    "execution_start": 1625024953182,
    "execution_millis": 6,
    "deepnote_cell_type": "code"
   },
   "outputs": [
    {
     "output_type": "execute_result",
     "execution_count": 14,
     "data": {
      "text/plain": "0     True\n1    False\n2    False\n3    False\n4     True\n5    False\n6     <NA>\nName: names, dtype: object"
     },
     "metadata": {}
    }
   ],
   "execution_count": 14
  },
  {
   "cell_type": "markdown",
   "source": "# Contar ocurrencias de un texto\nAsí mismo, podemos contar el número de ocurrencias de un caracter en específico,\npor ejemplo, cuántas veces aparece la letra '**a**':",
   "metadata": {
    "tags": [],
    "cell_id": "00023-d726e24e-5ab3-4bab-be8b-b8441afc9389",
    "deepnote_cell_type": "markdown"
   }
  },
  {
   "cell_type": "code",
   "source": "df['names'].str.lower().str.count('a')",
   "metadata": {
    "tags": [],
    "cell_id": "00024-8e1809f5-db0c-418b-804c-234c365f2601",
    "deepnote_to_be_reexecuted": false,
    "source_hash": "30978948",
    "execution_start": 1625024953876,
    "execution_millis": 15,
    "deepnote_cell_type": "code"
   },
   "outputs": [
    {
     "output_type": "execute_result",
     "execution_count": 15,
     "data": {
      "text/plain": "0       2\n1       1\n2       2\n3       2\n4       1\n5       1\n6    <NA>\nName: names, dtype: object"
     },
     "metadata": {}
    }
   ],
   "execution_count": 15
  },
  {
   "cell_type": "markdown",
   "source": "# Extraer informacion especifica con Regex\nExisten comandos más avanzados usando Regex, por ejemplo, si quiero extraer los\ncaracteres numéricos:",
   "metadata": {
    "tags": [],
    "cell_id": "00025-97d9661d-2561-4701-afe8-d56cbf92c130",
    "deepnote_cell_type": "markdown"
   }
  },
  {
   "cell_type": "code",
   "source": "df['names'].str.extract('([0-9]+)', expand=False)",
   "metadata": {
    "tags": [],
    "cell_id": "00026-a67f23ff-0459-42ab-b060-6942b68b08f2",
    "deepnote_to_be_reexecuted": false,
    "source_hash": "a33b57a8",
    "execution_start": 1625024955243,
    "execution_millis": 1,
    "deepnote_cell_type": "code"
   },
   "outputs": [
    {
     "output_type": "execute_result",
     "execution_count": 16,
     "data": {
      "text/plain": "0     34\n1     23\n2     89\n3      3\n4     56\n5     10\n6    NaN\nName: names, dtype: object"
     },
     "metadata": {}
    }
   ],
   "execution_count": 16
  },
  {
   "cell_type": "markdown",
   "source": "O, por ejemplo, si quiero extraer las menciones '@xxxx' del texto:",
   "metadata": {
    "tags": [],
    "cell_id": "00027-c261f950-c4ee-4cb9-9ab6-663596ce125d",
    "deepnote_cell_type": "markdown"
   }
  },
  {
   "cell_type": "code",
   "source": "df['names'].str.replace('@[^\\s]+','')",
   "metadata": {
    "tags": [],
    "cell_id": "00027-6e42269c-c875-4c66-baaf-8b1ae30119e9",
    "deepnote_to_be_reexecuted": false,
    "source_hash": "28e39996",
    "execution_start": 1625024971123,
    "execution_millis": 10,
    "deepnote_cell_type": "code"
   },
   "outputs": [
    {
     "name": "stderr",
     "text": "/shared-libs/python3.7/py-core/lib/python3.7/site-packages/ipykernel_launcher.py:1: FutureWarning: The default value of regex will change from True to False in a future version.\n  \"\"\"Entry point for launching an IPython kernel.\n",
     "output_type": "stream"
    },
    {
     "output_type": "execute_result",
     "execution_count": 17,
     "data": {
      "text/plain": "0         Sara Moreno 34\n1          jUAn GOMez 23\n2     CArlos mArtinez 89\n3    Alfredo VelaZques 3\n4           luis Mora 56\n5             #platzi 10\n6                   <NA>\nName: names, dtype: object"
     },
     "metadata": {}
    }
   ],
   "execution_count": 17
  },
  {
   "cell_type": "markdown",
   "source": "# Devuelva la columna1 y columna2 con las filas que concidan con el texto buscado en la columna ( Puede ser cualquiera en el DataFrame)",
   "metadata": {
    "tags": [],
    "cell_id": "00029-38b8e112-9776-46b3-a910-826d8a425b7b",
    "deepnote_cell_type": "markdown"
   }
  },
  {
   "cell_type": "code",
   "source": "df [ ['columna1', 'columna2'] ][ df.columna.str.contains( 'busqueda' ) ]",
   "metadata": {
    "tags": [],
    "cell_id": "00030-2ebc93bf-9ebd-4f81-af9b-0706b28228d7",
    "deepnote_cell_type": "code"
   },
   "outputs": [],
   "execution_count": null
  },
  {
   "cell_type": "markdown",
   "source": "# Concidencia en la columna1 y columna2, tambien puede usar el operados '|' para buscar en una columna u otra",
   "metadata": {
    "tags": [],
    "cell_id": "00031-d36f957d-d921-4306-930d-f413c91248eb",
    "deepnote_cell_type": "markdown"
   }
  },
  {
   "cell_type": "code",
   "source": "df [ df.columna1.str.contains( 'Texto1' ) & df.columna_diferente.str.contains('Texto a buscar en nueva columna') ]",
   "metadata": {
    "tags": [],
    "cell_id": "00032-2cd0606a-c97e-4efb-a103-4dd2ddd779bf",
    "deepnote_cell_type": "code"
   },
   "outputs": [],
   "execution_count": null
  },
  {
   "cell_type": "markdown",
   "source": "# Si se quiere buscar una concidencia exacta",
   "metadata": {
    "tags": [],
    "cell_id": "00033-c504f1b7-5f45-4965-9009-737f3bba938c",
    "deepnote_cell_type": "markdown"
   }
  },
  {
   "cell_type": "code",
   "source": "df[ df.column == texto ]",
   "metadata": {
    "tags": [],
    "cell_id": "00034-522d9e6d-774a-488b-8b32-87bbf59318c2",
    "deepnote_cell_type": "code"
   },
   "outputs": [],
   "execution_count": null
  },
  {
   "cell_type": "markdown",
   "source": "# Buscar mas de una cadena",
   "metadata": {
    "tags": [],
    "cell_id": "00035-941b0a7d-4efa-4fbf-be85-a08b0a62ffb3",
    "deepnote_cell_type": "markdown"
   }
  },
  {
   "cell_type": "code",
   "source": "df[ df.column.str.contains('cadena1' | 'cadena 2') ]",
   "metadata": {
    "tags": [],
    "cell_id": "00036-54410896-6cec-4eb1-b66d-60e07a815b90",
    "deepnote_cell_type": "code"
   },
   "outputs": [],
   "execution_count": null
  },
  {
   "cell_type": "markdown",
   "source": "# Ignorar mayusculas y expersiones regulares",
   "metadata": {
    "tags": [],
    "cell_id": "00037-782109ea-c3b6-4f8d-ab24-a431d4df4db1",
    "deepnote_cell_type": "markdown"
   }
  },
  {
   "cell_type": "code",
   "source": "df[ df.column.str.contains( 'texto a buscar', case=False, Regex=True) ]",
   "metadata": {
    "tags": [],
    "cell_id": "00038-19c604a3-4421-4652-9586-607a8af45093",
    "deepnote_cell_type": "code"
   },
   "outputs": [],
   "execution_count": null
  },
  {
   "cell_type": "markdown",
   "source": "<a style='text-decoration:none;line-height:16px;display:flex;color:#5B5B62;padding:10px;justify-content:end;' href='https://deepnote.com?utm_source=created-in-deepnote-cell&projectId=40d7a071-7e6a-4668-9914-a7e81441c111' target=\"_blank\">\n<img alt='Created in deepnote.com' style='display:inline;max-height:16px;margin:0px;margin-right:7.5px;' src='data:image/svg+xml;base64,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' > </img>\nCreated in <span style='font-weight:600;margin-left:4px;'>Deepnote</span></a>",
   "metadata": {
    "tags": [],
    "created_in_deepnote_cell": true,
    "deepnote_cell_type": "markdown"
   }
  }
 ],
 "nbformat": 4,
 "nbformat_minor": 2,
 "metadata": {
  "orig_nbformat": 2,
  "deepnote": {
   "is_reactive": false
  },
  "deepnote_notebook_id": "55f850ee-98f9-4f64-9609-9b604abd49c7",
  "deepnote_execution_queue": []
 }
}