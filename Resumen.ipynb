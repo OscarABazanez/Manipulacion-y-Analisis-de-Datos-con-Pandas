{
 "cells": [
  {
   "cell_type": "markdown",
   "source": "Apuntes del **Curso de Manipulación y Análisis de Datos con Pandas y Python** en Platzi\n\nhttps://platzi.com/cursos/pandas/\n\n**Repositorio en GitHub**:\n\nhttps://github.com/OscarABazanez/Manipulacion-y-Analisis-de-Datos-con-Pandas\n",
   "metadata": {
    "tags": [],
    "cell_id": "00000-b2a311b9-3475-43ec-b59e-b387e3a17bbc",
    "deepnote_cell_type": "markdown"
   }
  },
  {
   "cell_type": "code",
   "metadata": {
    "tags": [],
    "cell_id": "00000-30725cb5-f098-44df-b4f0-311830b78429",
    "deepnote_to_be_reexecuted": false,
    "source_hash": "24b26b86",
    "execution_start": 1625428293326,
    "execution_millis": 0,
    "deepnote_cell_type": "code"
   },
   "source": "import pandas as pd\nimport numpy as np\nimport matplotlib.pyplot as plt\nimport seaborn as sns",
   "execution_count": 61,
   "outputs": []
  },
  {
   "cell_type": "markdown",
   "source": "# DataFrame\n[4] dataframe.ipynb",
   "metadata": {
    "tags": [],
    "cell_id": "00001-02457e96-6ff8-4146-a030-cf76478c6b89",
    "deepnote_cell_type": "markdown"
   }
  },
  {
   "cell_type": "markdown",
   "source": "## Crear un DataFrame",
   "metadata": {
    "tags": [],
    "cell_id": "00001-e45ba282-ea14-4196-96d7-d8feababd99a",
    "deepnote_cell_type": "markdown"
   }
  },
  {
   "cell_type": "code",
   "metadata": {
    "tags": [],
    "cell_id": "00000-407c8410-6c09-44df-8a21-2ed1795bf12a",
    "deepnote_to_be_reexecuted": false,
    "source_hash": "888474e8",
    "execution_start": 1625422618351,
    "execution_millis": 53,
    "deepnote_cell_type": "code"
   },
   "source": "dict_data2 = {\n    'edad' :     [ 10, 9, 13, 14, 12, 11, 12],\n    'cm' : [ 115, 110, 130, 155, 125, 120, 125],\n    'pais' :    [ 'co', 'mx', 'co', 'mx', 'mx', 'ch', 'ch'],\n    'genero' :  [ 'M', 'F', 'F', 'M', 'M', 'M', 'F'],\n    'Q1' : [ 5, 10, 8, np.nan, 7, 8, 3],\n    'Q2' : [ 7, 9, 9, 8, 8, 8, 9.]\n}\ndf2 = pd.DataFrame(dict_data2,index=['ana','benito','camilo','daniel','erika','fabian','gabriela'])\ndf2",
   "execution_count": null,
   "outputs": [
    {
     "output_type": "execute_result",
     "execution_count": 13,
     "data": {
      "application/vnd.deepnote.dataframe.v2+json": {
       "row_count": 7,
       "column_count": 6,
       "columns": [
        {
         "name": "edad",
         "dtype": "int64",
         "stats": {
          "unique_count": 6,
          "nan_count": 0,
          "min": "9",
          "max": "14",
          "histogram": [
           {
            "bin_start": 9,
            "bin_end": 9.5,
            "count": 1
           },
           {
            "bin_start": 9.5,
            "bin_end": 10,
            "count": 0
           },
           {
            "bin_start": 10,
            "bin_end": 10.5,
            "count": 1
           },
           {
            "bin_start": 10.5,
            "bin_end": 11,
            "count": 0
           },
           {
            "bin_start": 11,
            "bin_end": 11.5,
            "count": 1
           },
           {
            "bin_start": 11.5,
            "bin_end": 12,
            "count": 0
           },
           {
            "bin_start": 12,
            "bin_end": 12.5,
            "count": 2
           },
           {
            "bin_start": 12.5,
            "bin_end": 13,
            "count": 0
           },
           {
            "bin_start": 13,
            "bin_end": 13.5,
            "count": 1
           },
           {
            "bin_start": 13.5,
            "bin_end": 14,
            "count": 1
           }
          ]
         }
        },
        {
         "name": "cm",
         "dtype": "int64",
         "stats": {
          "unique_count": 6,
          "nan_count": 0,
          "min": "110",
          "max": "155",
          "histogram": [
           {
            "bin_start": 110,
            "bin_end": 114.5,
            "count": 1
           },
           {
            "bin_start": 114.5,
            "bin_end": 119,
            "count": 1
           },
           {
            "bin_start": 119,
            "bin_end": 123.5,
            "count": 1
           },
           {
            "bin_start": 123.5,
            "bin_end": 128,
            "count": 2
           },
           {
            "bin_start": 128,
            "bin_end": 132.5,
            "count": 1
           },
           {
            "bin_start": 132.5,
            "bin_end": 137,
            "count": 0
           },
           {
            "bin_start": 137,
            "bin_end": 141.5,
            "count": 0
           },
           {
            "bin_start": 141.5,
            "bin_end": 146,
            "count": 0
           },
           {
            "bin_start": 146,
            "bin_end": 150.5,
            "count": 0
           },
           {
            "bin_start": 150.5,
            "bin_end": 155,
            "count": 1
           }
          ]
         }
        },
        {
         "name": "pais",
         "dtype": "object",
         "stats": {
          "unique_count": 3,
          "nan_count": 0,
          "categories": [
           {
            "name": "mx",
            "count": 3
           },
           {
            "name": "co",
            "count": 2
           },
           {
            "name": "ch",
            "count": 2
           }
          ]
         }
        },
        {
         "name": "genero",
         "dtype": "object",
         "stats": {
          "unique_count": 2,
          "nan_count": 0,
          "categories": [
           {
            "name": "M",
            "count": 4
           },
           {
            "name": "F",
            "count": 3
           }
          ]
         }
        },
        {
         "name": "Q1",
         "dtype": "float64",
         "stats": {
          "unique_count": 5,
          "nan_count": 1,
          "min": "3.0",
          "max": "10.0",
          "histogram": [
           {
            "bin_start": 3,
            "bin_end": 3.7,
            "count": 1
           },
           {
            "bin_start": 3.7,
            "bin_end": 4.4,
            "count": 0
           },
           {
            "bin_start": 4.4,
            "bin_end": 5.1,
            "count": 1
           },
           {
            "bin_start": 5.1,
            "bin_end": 5.8,
            "count": 0
           },
           {
            "bin_start": 5.8,
            "bin_end": 6.5,
            "count": 0
           },
           {
            "bin_start": 6.5,
            "bin_end": 7.199999999999999,
            "count": 1
           },
           {
            "bin_start": 7.199999999999999,
            "bin_end": 7.8999999999999995,
            "count": 0
           },
           {
            "bin_start": 7.8999999999999995,
            "bin_end": 8.6,
            "count": 2
           },
           {
            "bin_start": 8.6,
            "bin_end": 9.3,
            "count": 0
           },
           {
            "bin_start": 9.3,
            "bin_end": 10,
            "count": 1
           }
          ]
         }
        },
        {
         "name": "Q2",
         "dtype": "float64",
         "stats": {
          "unique_count": 3,
          "nan_count": 0,
          "min": "7.0",
          "max": "9.0",
          "histogram": [
           {
            "bin_start": 7,
            "bin_end": 7.2,
            "count": 1
           },
           {
            "bin_start": 7.2,
            "bin_end": 7.4,
            "count": 0
           },
           {
            "bin_start": 7.4,
            "bin_end": 7.6,
            "count": 0
           },
           {
            "bin_start": 7.6,
            "bin_end": 7.8,
            "count": 0
           },
           {
            "bin_start": 7.8,
            "bin_end": 8,
            "count": 0
           },
           {
            "bin_start": 8,
            "bin_end": 8.2,
            "count": 3
           },
           {
            "bin_start": 8.2,
            "bin_end": 8.4,
            "count": 0
           },
           {
            "bin_start": 8.4,
            "bin_end": 8.6,
            "count": 0
           },
           {
            "bin_start": 8.6,
            "bin_end": 8.8,
            "count": 0
           },
           {
            "bin_start": 8.8,
            "bin_end": 9,
            "count": 3
           }
          ]
         }
        },
        {
         "name": "_deepnote_index_column",
         "dtype": "object"
        }
       ],
       "rows_top": [
        {
         "edad": 10,
         "cm": 115,
         "pais": "co",
         "genero": "M",
         "Q1": 5,
         "Q2": 7,
         "_deepnote_index_column": "ana"
        },
        {
         "edad": 9,
         "cm": 110,
         "pais": "mx",
         "genero": "F",
         "Q1": 10,
         "Q2": 9,
         "_deepnote_index_column": "benito"
        },
        {
         "edad": 13,
         "cm": 130,
         "pais": "co",
         "genero": "F",
         "Q1": 8,
         "Q2": 9,
         "_deepnote_index_column": "camilo"
        },
        {
         "edad": 14,
         "cm": 155,
         "pais": "mx",
         "genero": "M",
         "Q1": "nan",
         "Q2": 8,
         "_deepnote_index_column": "daniel"
        },
        {
         "edad": 12,
         "cm": 125,
         "pais": "mx",
         "genero": "M",
         "Q1": 7,
         "Q2": 8,
         "_deepnote_index_column": "erika"
        },
        {
         "edad": 11,
         "cm": 120,
         "pais": "ch",
         "genero": "M",
         "Q1": 8,
         "Q2": 8,
         "_deepnote_index_column": "fabian"
        },
        {
         "edad": 12,
         "cm": 125,
         "pais": "ch",
         "genero": "F",
         "Q1": 3,
         "Q2": 9,
         "_deepnote_index_column": "gabriela"
        }
       ],
       "rows_bottom": null
      },
      "text/plain": "          edad   cm pais genero    Q1   Q2\nana         10  115   co      M   5.0  7.0\nbenito       9  110   mx      F  10.0  9.0\ncamilo      13  130   co      F   8.0  9.0\ndaniel      14  155   mx      M   NaN  8.0\nerika       12  125   mx      M   7.0  8.0\nfabian      11  120   ch      M   8.0  8.0\ngabriela    12  125   ch      F   3.0  9.0",
      "text/html": "<div>\n<style scoped>\n    .dataframe tbody tr th:only-of-type {\n        vertical-align: middle;\n    }\n\n    .dataframe tbody tr th {\n        vertical-align: top;\n    }\n\n    .dataframe thead th {\n        text-align: right;\n    }\n</style>\n<table border=\"1\" class=\"dataframe\">\n  <thead>\n    <tr style=\"text-align: right;\">\n      <th></th>\n      <th>edad</th>\n      <th>cm</th>\n      <th>pais</th>\n      <th>genero</th>\n      <th>Q1</th>\n      <th>Q2</th>\n    </tr>\n  </thead>\n  <tbody>\n    <tr>\n      <th>ana</th>\n      <td>10</td>\n      <td>115</td>\n      <td>co</td>\n      <td>M</td>\n      <td>5.0</td>\n      <td>7.0</td>\n    </tr>\n    <tr>\n      <th>benito</th>\n      <td>9</td>\n      <td>110</td>\n      <td>mx</td>\n      <td>F</td>\n      <td>10.0</td>\n      <td>9.0</td>\n    </tr>\n    <tr>\n      <th>camilo</th>\n      <td>13</td>\n      <td>130</td>\n      <td>co</td>\n      <td>F</td>\n      <td>8.0</td>\n      <td>9.0</td>\n    </tr>\n    <tr>\n      <th>daniel</th>\n      <td>14</td>\n      <td>155</td>\n      <td>mx</td>\n      <td>M</td>\n      <td>NaN</td>\n      <td>8.0</td>\n    </tr>\n    <tr>\n      <th>erika</th>\n      <td>12</td>\n      <td>125</td>\n      <td>mx</td>\n      <td>M</td>\n      <td>7.0</td>\n      <td>8.0</td>\n    </tr>\n    <tr>\n      <th>fabian</th>\n      <td>11</td>\n      <td>120</td>\n      <td>ch</td>\n      <td>M</td>\n      <td>8.0</td>\n      <td>8.0</td>\n    </tr>\n    <tr>\n      <th>gabriela</th>\n      <td>12</td>\n      <td>125</td>\n      <td>ch</td>\n      <td>F</td>\n      <td>3.0</td>\n      <td>9.0</td>\n    </tr>\n  </tbody>\n</table>\n</div>"
     },
     "metadata": {}
    }
   ]
  },
  {
   "cell_type": "markdown",
   "source": "## Funciones en Pandas",
   "metadata": {
    "tags": [],
    "cell_id": "00004-7c488dc6-f08e-49f0-a09e-b88e3090d97d",
    "deepnote_cell_type": "markdown"
   }
  },
  {
   "cell_type": "code",
   "metadata": {
    "tags": [],
    "cell_id": "00004-4d091233-f994-4796-8913-cc8704b14966",
    "deepnote_to_be_reexecuted": false,
    "source_hash": "4cf07b04",
    "execution_start": 1625422618849,
    "execution_millis": 34,
    "deepnote_cell_type": "code"
   },
   "source": "df2.columns\ndf2.values\ndf2.index\n#Te mostrara el minimo. maximo, media,std,…etc de las columnas numericas.\ndf2.describe()",
   "execution_count": null,
   "outputs": [
    {
     "output_type": "execute_result",
     "execution_count": 14,
     "data": {
      "application/vnd.deepnote.dataframe.v2+json": {
       "row_count": 8,
       "column_count": 4,
       "columns": [
        {
         "name": "edad",
         "dtype": "float64",
         "stats": {
          "unique_count": 8,
          "nan_count": 0,
          "min": "1.7182493859684491",
          "max": "14.0",
          "histogram": [
           {
            "bin_start": 1.7182493859684491,
            "bin_end": 2.946424447371604,
            "count": 1
           },
           {
            "bin_start": 2.946424447371604,
            "bin_end": 4.17459950877476,
            "count": 0
           },
           {
            "bin_start": 4.17459950877476,
            "bin_end": 5.402774570177915,
            "count": 0
           },
           {
            "bin_start": 5.402774570177915,
            "bin_end": 6.63094963158107,
            "count": 0
           },
           {
            "bin_start": 6.63094963158107,
            "bin_end": 7.859124692984225,
            "count": 1
           },
           {
            "bin_start": 7.859124692984225,
            "bin_end": 9.08729975438738,
            "count": 1
           },
           {
            "bin_start": 9.08729975438738,
            "bin_end": 10.315474815790536,
            "count": 0
           },
           {
            "bin_start": 10.315474815790536,
            "bin_end": 11.54364987719369,
            "count": 1
           },
           {
            "bin_start": 11.54364987719369,
            "bin_end": 12.771824938596845,
            "count": 3
           },
           {
            "bin_start": 12.771824938596845,
            "bin_end": 14,
            "count": 1
           }
          ]
         }
        },
        {
         "name": "cm",
         "dtype": "float64",
         "stats": {
          "unique_count": 8,
          "nan_count": 0,
          "min": "7.0",
          "max": "155.0",
          "histogram": [
           {
            "bin_start": 7,
            "bin_end": 21.8,
            "count": 2
           },
           {
            "bin_start": 21.8,
            "bin_end": 36.6,
            "count": 0
           },
           {
            "bin_start": 36.6,
            "bin_end": 51.400000000000006,
            "count": 0
           },
           {
            "bin_start": 51.400000000000006,
            "bin_end": 66.2,
            "count": 0
           },
           {
            "bin_start": 66.2,
            "bin_end": 81,
            "count": 0
           },
           {
            "bin_start": 81,
            "bin_end": 95.80000000000001,
            "count": 0
           },
           {
            "bin_start": 95.80000000000001,
            "bin_end": 110.60000000000001,
            "count": 1
           },
           {
            "bin_start": 110.60000000000001,
            "bin_end": 125.4,
            "count": 2
           },
           {
            "bin_start": 125.4,
            "bin_end": 140.20000000000002,
            "count": 2
           },
           {
            "bin_start": 140.20000000000002,
            "bin_end": 155,
            "count": 1
           }
          ]
         }
        },
        {
         "name": "Q1",
         "dtype": "float64",
         "stats": {
          "unique_count": 8,
          "nan_count": 0,
          "min": "2.48327740429189",
          "max": "10.0",
          "histogram": [
           {
            "bin_start": 2.48327740429189,
            "bin_end": 3.234949663862701,
            "count": 2
           },
           {
            "bin_start": 3.234949663862701,
            "bin_end": 3.986621923433512,
            "count": 0
           },
           {
            "bin_start": 3.986621923433512,
            "bin_end": 4.738294183004323,
            "count": 0
           },
           {
            "bin_start": 4.738294183004323,
            "bin_end": 5.489966442575134,
            "count": 0
           },
           {
            "bin_start": 5.489966442575134,
            "bin_end": 6.241638702145945,
            "count": 2
           },
           {
            "bin_start": 6.241638702145945,
            "bin_end": 6.993310961716755,
            "count": 1
           },
           {
            "bin_start": 6.993310961716755,
            "bin_end": 7.744983221287566,
            "count": 1
           },
           {
            "bin_start": 7.744983221287566,
            "bin_end": 8.496655480858378,
            "count": 1
           },
           {
            "bin_start": 8.496655480858378,
            "bin_end": 9.24832774042919,
            "count": 0
           },
           {
            "bin_start": 9.24832774042919,
            "bin_end": 10,
            "count": 1
           }
          ]
         }
        },
        {
         "name": "Q2",
         "dtype": "float64",
         "stats": {
          "unique_count": 5,
          "nan_count": 0,
          "min": "0.7559289460184545",
          "max": "9.0",
          "histogram": [
           {
            "bin_start": 0.7559289460184545,
            "bin_end": 1.5803360514166092,
            "count": 1
           },
           {
            "bin_start": 1.5803360514166092,
            "bin_end": 2.4047431568147637,
            "count": 0
           },
           {
            "bin_start": 2.4047431568147637,
            "bin_end": 3.2291502622129187,
            "count": 0
           },
           {
            "bin_start": 3.2291502622129187,
            "bin_end": 4.053557367611073,
            "count": 0
           },
           {
            "bin_start": 4.053557367611073,
            "bin_end": 4.877964473009228,
            "count": 0
           },
           {
            "bin_start": 4.877964473009228,
            "bin_end": 5.702371578407383,
            "count": 0
           },
           {
            "bin_start": 5.702371578407383,
            "bin_end": 6.526778683805537,
            "count": 0
           },
           {
            "bin_start": 6.526778683805537,
            "bin_end": 7.351185789203692,
            "count": 2
           },
           {
            "bin_start": 7.351185789203692,
            "bin_end": 8.175592894601847,
            "count": 2
           },
           {
            "bin_start": 8.175592894601847,
            "bin_end": 9,
            "count": 3
           }
          ]
         }
        },
        {
         "name": "_deepnote_index_column",
         "dtype": "object"
        }
       ],
       "rows_top": [
        {
         "edad": 7,
         "cm": 7,
         "Q1": 6,
         "Q2": 7,
         "_deepnote_index_column": "count"
        },
        {
         "edad": 11.571428571428571,
         "cm": 125.71428571428571,
         "Q1": 6.833333333333333,
         "Q2": 8.285714285714286,
         "_deepnote_index_column": "mean"
        },
        {
         "edad": 1.7182493859684491,
         "cm": 14.55694892155502,
         "Q1": 2.48327740429189,
         "Q2": 0.7559289460184545,
         "_deepnote_index_column": "std"
        },
        {
         "edad": 9,
         "cm": 110,
         "Q1": 3,
         "Q2": 7,
         "_deepnote_index_column": "min"
        },
        {
         "edad": 10.5,
         "cm": 117.5,
         "Q1": 5.5,
         "Q2": 8,
         "_deepnote_index_column": "25%"
        },
        {
         "edad": 12,
         "cm": 125,
         "Q1": 7.5,
         "Q2": 8,
         "_deepnote_index_column": "50%"
        },
        {
         "edad": 12.5,
         "cm": 127.5,
         "Q1": 8,
         "Q2": 9,
         "_deepnote_index_column": "75%"
        },
        {
         "edad": 14,
         "cm": 155,
         "Q1": 10,
         "Q2": 9,
         "_deepnote_index_column": "max"
        }
       ],
       "rows_bottom": null
      },
      "text/plain": "            edad          cm         Q1        Q2\ncount   7.000000    7.000000   6.000000  7.000000\nmean   11.571429  125.714286   6.833333  8.285714\nstd     1.718249   14.556949   2.483277  0.755929\nmin     9.000000  110.000000   3.000000  7.000000\n25%    10.500000  117.500000   5.500000  8.000000\n50%    12.000000  125.000000   7.500000  8.000000\n75%    12.500000  127.500000   8.000000  9.000000\nmax    14.000000  155.000000  10.000000  9.000000",
      "text/html": "<div>\n<style scoped>\n    .dataframe tbody tr th:only-of-type {\n        vertical-align: middle;\n    }\n\n    .dataframe tbody tr th {\n        vertical-align: top;\n    }\n\n    .dataframe thead th {\n        text-align: right;\n    }\n</style>\n<table border=\"1\" class=\"dataframe\">\n  <thead>\n    <tr style=\"text-align: right;\">\n      <th></th>\n      <th>edad</th>\n      <th>cm</th>\n      <th>Q1</th>\n      <th>Q2</th>\n    </tr>\n  </thead>\n  <tbody>\n    <tr>\n      <th>count</th>\n      <td>7.000000</td>\n      <td>7.000000</td>\n      <td>6.000000</td>\n      <td>7.000000</td>\n    </tr>\n    <tr>\n      <th>mean</th>\n      <td>11.571429</td>\n      <td>125.714286</td>\n      <td>6.833333</td>\n      <td>8.285714</td>\n    </tr>\n    <tr>\n      <th>std</th>\n      <td>1.718249</td>\n      <td>14.556949</td>\n      <td>2.483277</td>\n      <td>0.755929</td>\n    </tr>\n    <tr>\n      <th>min</th>\n      <td>9.000000</td>\n      <td>110.000000</td>\n      <td>3.000000</td>\n      <td>7.000000</td>\n    </tr>\n    <tr>\n      <th>25%</th>\n      <td>10.500000</td>\n      <td>117.500000</td>\n      <td>5.500000</td>\n      <td>8.000000</td>\n    </tr>\n    <tr>\n      <th>50%</th>\n      <td>12.000000</td>\n      <td>125.000000</td>\n      <td>7.500000</td>\n      <td>8.000000</td>\n    </tr>\n    <tr>\n      <th>75%</th>\n      <td>12.500000</td>\n      <td>127.500000</td>\n      <td>8.000000</td>\n      <td>9.000000</td>\n    </tr>\n    <tr>\n      <th>max</th>\n      <td>14.000000</td>\n      <td>155.000000</td>\n      <td>10.000000</td>\n      <td>9.000000</td>\n    </tr>\n  </tbody>\n</table>\n</div>"
     },
     "metadata": {}
    }
   ]
  },
  {
   "cell_type": "markdown",
   "source": "### Valores repetidos y valores unicos",
   "metadata": {
    "tags": [],
    "cell_id": "00006-25be397c-521e-457a-bc68-1398ab786f06",
    "deepnote_cell_type": "markdown"
   }
  },
  {
   "cell_type": "code",
   "metadata": {
    "tags": [],
    "cell_id": "00007-2ccbe0cb-b3cc-43bd-9996-d3eaf0fe2a5e",
    "deepnote_to_be_reexecuted": false,
    "source_hash": "fce5d63",
    "execution_start": 1625422619245,
    "execution_millis": 17,
    "deepnote_cell_type": "code"
   },
   "source": "df2['edad'].value_counts()\ndf2['edad'].unique()",
   "execution_count": null,
   "outputs": [
    {
     "output_type": "execute_result",
     "execution_count": 15,
     "data": {
      "text/plain": "array([10,  9, 13, 14, 12, 11])"
     },
     "metadata": {}
    }
   ]
  },
  {
   "cell_type": "markdown",
   "source": "### loc : Localizar registros mediante sus indices y columnas",
   "metadata": {
    "tags": [],
    "cell_id": "00008-ce9f9db2-8b67-44ca-8b78-438ad1e69536",
    "deepnote_cell_type": "markdown"
   }
  },
  {
   "cell_type": "code",
   "metadata": {
    "tags": [],
    "cell_id": "00009-2d401662-b5f7-4f16-a521-030662367032",
    "deepnote_to_be_reexecuted": false,
    "source_hash": "193f7892",
    "execution_start": 1625422619689,
    "execution_millis": 16,
    "deepnote_cell_type": "code"
   },
   "source": "df2.loc[['ana','erika'],['edad','cm','Q1']]",
   "execution_count": null,
   "outputs": [
    {
     "output_type": "execute_result",
     "execution_count": 16,
     "data": {
      "application/vnd.deepnote.dataframe.v2+json": {
       "row_count": 2,
       "column_count": 3,
       "columns": [
        {
         "name": "edad",
         "dtype": "int64",
         "stats": {
          "unique_count": 2,
          "nan_count": 0,
          "min": "10",
          "max": "12",
          "histogram": [
           {
            "bin_start": 10,
            "bin_end": 10.2,
            "count": 1
           },
           {
            "bin_start": 10.2,
            "bin_end": 10.4,
            "count": 0
           },
           {
            "bin_start": 10.4,
            "bin_end": 10.6,
            "count": 0
           },
           {
            "bin_start": 10.6,
            "bin_end": 10.8,
            "count": 0
           },
           {
            "bin_start": 10.8,
            "bin_end": 11,
            "count": 0
           },
           {
            "bin_start": 11,
            "bin_end": 11.2,
            "count": 0
           },
           {
            "bin_start": 11.2,
            "bin_end": 11.4,
            "count": 0
           },
           {
            "bin_start": 11.4,
            "bin_end": 11.6,
            "count": 0
           },
           {
            "bin_start": 11.6,
            "bin_end": 11.8,
            "count": 0
           },
           {
            "bin_start": 11.8,
            "bin_end": 12,
            "count": 1
           }
          ]
         }
        },
        {
         "name": "cm",
         "dtype": "int64",
         "stats": {
          "unique_count": 2,
          "nan_count": 0,
          "min": "115",
          "max": "125",
          "histogram": [
           {
            "bin_start": 115,
            "bin_end": 116,
            "count": 1
           },
           {
            "bin_start": 116,
            "bin_end": 117,
            "count": 0
           },
           {
            "bin_start": 117,
            "bin_end": 118,
            "count": 0
           },
           {
            "bin_start": 118,
            "bin_end": 119,
            "count": 0
           },
           {
            "bin_start": 119,
            "bin_end": 120,
            "count": 0
           },
           {
            "bin_start": 120,
            "bin_end": 121,
            "count": 0
           },
           {
            "bin_start": 121,
            "bin_end": 122,
            "count": 0
           },
           {
            "bin_start": 122,
            "bin_end": 123,
            "count": 0
           },
           {
            "bin_start": 123,
            "bin_end": 124,
            "count": 0
           },
           {
            "bin_start": 124,
            "bin_end": 125,
            "count": 1
           }
          ]
         }
        },
        {
         "name": "Q1",
         "dtype": "float64",
         "stats": {
          "unique_count": 2,
          "nan_count": 0,
          "min": "5.0",
          "max": "7.0",
          "histogram": [
           {
            "bin_start": 5,
            "bin_end": 5.2,
            "count": 1
           },
           {
            "bin_start": 5.2,
            "bin_end": 5.4,
            "count": 0
           },
           {
            "bin_start": 5.4,
            "bin_end": 5.6,
            "count": 0
           },
           {
            "bin_start": 5.6,
            "bin_end": 5.8,
            "count": 0
           },
           {
            "bin_start": 5.8,
            "bin_end": 6,
            "count": 0
           },
           {
            "bin_start": 6,
            "bin_end": 6.2,
            "count": 0
           },
           {
            "bin_start": 6.2,
            "bin_end": 6.4,
            "count": 0
           },
           {
            "bin_start": 6.4,
            "bin_end": 6.6,
            "count": 0
           },
           {
            "bin_start": 6.6,
            "bin_end": 6.8,
            "count": 0
           },
           {
            "bin_start": 6.8,
            "bin_end": 7,
            "count": 1
           }
          ]
         }
        },
        {
         "name": "_deepnote_index_column",
         "dtype": "object"
        }
       ],
       "rows_top": [
        {
         "edad": 10,
         "cm": 115,
         "Q1": 5,
         "_deepnote_index_column": "ana"
        },
        {
         "edad": 12,
         "cm": 125,
         "Q1": 7,
         "_deepnote_index_column": "erika"
        }
       ],
       "rows_bottom": null
      },
      "text/plain": "       edad   cm   Q1\nana      10  115  5.0\nerika    12  125  7.0",
      "text/html": "<div>\n<style scoped>\n    .dataframe tbody tr th:only-of-type {\n        vertical-align: middle;\n    }\n\n    .dataframe tbody tr th {\n        vertical-align: top;\n    }\n\n    .dataframe thead th {\n        text-align: right;\n    }\n</style>\n<table border=\"1\" class=\"dataframe\">\n  <thead>\n    <tr style=\"text-align: right;\">\n      <th></th>\n      <th>edad</th>\n      <th>cm</th>\n      <th>Q1</th>\n    </tr>\n  </thead>\n  <tbody>\n    <tr>\n      <th>ana</th>\n      <td>10</td>\n      <td>115</td>\n      <td>5.0</td>\n    </tr>\n    <tr>\n      <th>erika</th>\n      <td>12</td>\n      <td>125</td>\n      <td>7.0</td>\n    </tr>\n  </tbody>\n</table>\n</div>"
     },
     "metadata": {}
    }
   ]
  },
  {
   "cell_type": "markdown",
   "source": "### iloc : Obtener un valor usando la posicion del DataFrame",
   "metadata": {
    "tags": [],
    "cell_id": "00010-e784d035-2549-4ad8-9941-554199bfb838",
    "deepnote_cell_type": "markdown"
   }
  },
  {
   "cell_type": "code",
   "metadata": {
    "tags": [],
    "cell_id": "00011-304535ee-a8e0-4afd-84ee-663de897d14c",
    "deepnote_to_be_reexecuted": false,
    "source_hash": "a423c2c",
    "execution_start": 1625422620068,
    "execution_millis": 47,
    "deepnote_cell_type": "code"
   },
   "source": "df2.iloc[[2,3],[1,2,3]]\ndf2.iloc[:,[1,2,3]]",
   "execution_count": null,
   "outputs": [
    {
     "output_type": "execute_result",
     "execution_count": 17,
     "data": {
      "application/vnd.deepnote.dataframe.v2+json": {
       "row_count": 7,
       "column_count": 3,
       "columns": [
        {
         "name": "cm",
         "dtype": "int64",
         "stats": {
          "unique_count": 6,
          "nan_count": 0,
          "min": "110",
          "max": "155",
          "histogram": [
           {
            "bin_start": 110,
            "bin_end": 114.5,
            "count": 1
           },
           {
            "bin_start": 114.5,
            "bin_end": 119,
            "count": 1
           },
           {
            "bin_start": 119,
            "bin_end": 123.5,
            "count": 1
           },
           {
            "bin_start": 123.5,
            "bin_end": 128,
            "count": 2
           },
           {
            "bin_start": 128,
            "bin_end": 132.5,
            "count": 1
           },
           {
            "bin_start": 132.5,
            "bin_end": 137,
            "count": 0
           },
           {
            "bin_start": 137,
            "bin_end": 141.5,
            "count": 0
           },
           {
            "bin_start": 141.5,
            "bin_end": 146,
            "count": 0
           },
           {
            "bin_start": 146,
            "bin_end": 150.5,
            "count": 0
           },
           {
            "bin_start": 150.5,
            "bin_end": 155,
            "count": 1
           }
          ]
         }
        },
        {
         "name": "pais",
         "dtype": "object",
         "stats": {
          "unique_count": 3,
          "nan_count": 0,
          "categories": [
           {
            "name": "mx",
            "count": 3
           },
           {
            "name": "co",
            "count": 2
           },
           {
            "name": "ch",
            "count": 2
           }
          ]
         }
        },
        {
         "name": "genero",
         "dtype": "object",
         "stats": {
          "unique_count": 2,
          "nan_count": 0,
          "categories": [
           {
            "name": "M",
            "count": 4
           },
           {
            "name": "F",
            "count": 3
           }
          ]
         }
        },
        {
         "name": "_deepnote_index_column",
         "dtype": "object"
        }
       ],
       "rows_top": [
        {
         "cm": 115,
         "pais": "co",
         "genero": "M",
         "_deepnote_index_column": "ana"
        },
        {
         "cm": 110,
         "pais": "mx",
         "genero": "F",
         "_deepnote_index_column": "benito"
        },
        {
         "cm": 130,
         "pais": "co",
         "genero": "F",
         "_deepnote_index_column": "camilo"
        },
        {
         "cm": 155,
         "pais": "mx",
         "genero": "M",
         "_deepnote_index_column": "daniel"
        },
        {
         "cm": 125,
         "pais": "mx",
         "genero": "M",
         "_deepnote_index_column": "erika"
        },
        {
         "cm": 120,
         "pais": "ch",
         "genero": "M",
         "_deepnote_index_column": "fabian"
        },
        {
         "cm": 125,
         "pais": "ch",
         "genero": "F",
         "_deepnote_index_column": "gabriela"
        }
       ],
       "rows_bottom": null
      },
      "text/plain": "           cm pais genero\nana       115   co      M\nbenito    110   mx      F\ncamilo    130   co      F\ndaniel    155   mx      M\nerika     125   mx      M\nfabian    120   ch      M\ngabriela  125   ch      F",
      "text/html": "<div>\n<style scoped>\n    .dataframe tbody tr th:only-of-type {\n        vertical-align: middle;\n    }\n\n    .dataframe tbody tr th {\n        vertical-align: top;\n    }\n\n    .dataframe thead th {\n        text-align: right;\n    }\n</style>\n<table border=\"1\" class=\"dataframe\">\n  <thead>\n    <tr style=\"text-align: right;\">\n      <th></th>\n      <th>cm</th>\n      <th>pais</th>\n      <th>genero</th>\n    </tr>\n  </thead>\n  <tbody>\n    <tr>\n      <th>ana</th>\n      <td>115</td>\n      <td>co</td>\n      <td>M</td>\n    </tr>\n    <tr>\n      <th>benito</th>\n      <td>110</td>\n      <td>mx</td>\n      <td>F</td>\n    </tr>\n    <tr>\n      <th>camilo</th>\n      <td>130</td>\n      <td>co</td>\n      <td>F</td>\n    </tr>\n    <tr>\n      <th>daniel</th>\n      <td>155</td>\n      <td>mx</td>\n      <td>M</td>\n    </tr>\n    <tr>\n      <th>erika</th>\n      <td>125</td>\n      <td>mx</td>\n      <td>M</td>\n    </tr>\n    <tr>\n      <th>fabian</th>\n      <td>120</td>\n      <td>ch</td>\n      <td>M</td>\n    </tr>\n    <tr>\n      <th>gabriela</th>\n      <td>125</td>\n      <td>ch</td>\n      <td>F</td>\n    </tr>\n  </tbody>\n</table>\n</div>"
     },
     "metadata": {}
    }
   ]
  },
  {
   "cell_type": "markdown",
   "source": "### Query con condiciones",
   "metadata": {
    "tags": [],
    "cell_id": "00012-03669eac-cc0b-4bcd-b9b4-d6e0c5d799dd",
    "deepnote_cell_type": "markdown"
   }
  },
  {
   "cell_type": "code",
   "metadata": {
    "tags": [],
    "cell_id": "00013-357d5105-32da-40c5-aec5-62abd2c09fad",
    "deepnote_to_be_reexecuted": false,
    "source_hash": "2d5f4b8b",
    "execution_start": 1625422620602,
    "execution_millis": 37,
    "deepnote_cell_type": "code"
   },
   "source": "df2[(df2['edad'] >= 12) & (df2['pais'] == 'mx')]",
   "execution_count": null,
   "outputs": [
    {
     "output_type": "execute_result",
     "execution_count": 18,
     "data": {
      "application/vnd.deepnote.dataframe.v2+json": {
       "row_count": 2,
       "column_count": 6,
       "columns": [
        {
         "name": "edad",
         "dtype": "int64",
         "stats": {
          "unique_count": 2,
          "nan_count": 0,
          "min": "12",
          "max": "14",
          "histogram": [
           {
            "bin_start": 12,
            "bin_end": 12.2,
            "count": 1
           },
           {
            "bin_start": 12.2,
            "bin_end": 12.4,
            "count": 0
           },
           {
            "bin_start": 12.4,
            "bin_end": 12.6,
            "count": 0
           },
           {
            "bin_start": 12.6,
            "bin_end": 12.8,
            "count": 0
           },
           {
            "bin_start": 12.8,
            "bin_end": 13,
            "count": 0
           },
           {
            "bin_start": 13,
            "bin_end": 13.2,
            "count": 0
           },
           {
            "bin_start": 13.2,
            "bin_end": 13.4,
            "count": 0
           },
           {
            "bin_start": 13.4,
            "bin_end": 13.6,
            "count": 0
           },
           {
            "bin_start": 13.6,
            "bin_end": 13.8,
            "count": 0
           },
           {
            "bin_start": 13.8,
            "bin_end": 14,
            "count": 1
           }
          ]
         }
        },
        {
         "name": "cm",
         "dtype": "int64",
         "stats": {
          "unique_count": 2,
          "nan_count": 0,
          "min": "125",
          "max": "155",
          "histogram": [
           {
            "bin_start": 125,
            "bin_end": 128,
            "count": 1
           },
           {
            "bin_start": 128,
            "bin_end": 131,
            "count": 0
           },
           {
            "bin_start": 131,
            "bin_end": 134,
            "count": 0
           },
           {
            "bin_start": 134,
            "bin_end": 137,
            "count": 0
           },
           {
            "bin_start": 137,
            "bin_end": 140,
            "count": 0
           },
           {
            "bin_start": 140,
            "bin_end": 143,
            "count": 0
           },
           {
            "bin_start": 143,
            "bin_end": 146,
            "count": 0
           },
           {
            "bin_start": 146,
            "bin_end": 149,
            "count": 0
           },
           {
            "bin_start": 149,
            "bin_end": 152,
            "count": 0
           },
           {
            "bin_start": 152,
            "bin_end": 155,
            "count": 1
           }
          ]
         }
        },
        {
         "name": "pais",
         "dtype": "object",
         "stats": {
          "unique_count": 1,
          "nan_count": 0,
          "categories": [
           {
            "name": "mx",
            "count": 2
           }
          ]
         }
        },
        {
         "name": "genero",
         "dtype": "object",
         "stats": {
          "unique_count": 1,
          "nan_count": 0,
          "categories": [
           {
            "name": "M",
            "count": 2
           }
          ]
         }
        },
        {
         "name": "Q1",
         "dtype": "float64",
         "stats": {
          "unique_count": 1,
          "nan_count": 1,
          "min": "7.0",
          "max": "7.0",
          "histogram": [
           {
            "bin_start": 6.5,
            "bin_end": 6.6,
            "count": 0
           },
           {
            "bin_start": 6.6,
            "bin_end": 6.7,
            "count": 0
           },
           {
            "bin_start": 6.7,
            "bin_end": 6.8,
            "count": 0
           },
           {
            "bin_start": 6.8,
            "bin_end": 6.9,
            "count": 0
           },
           {
            "bin_start": 6.9,
            "bin_end": 7,
            "count": 0
           },
           {
            "bin_start": 7,
            "bin_end": 7.1,
            "count": 1
           },
           {
            "bin_start": 7.1,
            "bin_end": 7.2,
            "count": 0
           },
           {
            "bin_start": 7.2,
            "bin_end": 7.3,
            "count": 0
           },
           {
            "bin_start": 7.3,
            "bin_end": 7.4,
            "count": 0
           },
           {
            "bin_start": 7.4,
            "bin_end": 7.5,
            "count": 0
           }
          ]
         }
        },
        {
         "name": "Q2",
         "dtype": "float64",
         "stats": {
          "unique_count": 1,
          "nan_count": 0,
          "min": "8.0",
          "max": "8.0",
          "histogram": [
           {
            "bin_start": 7.5,
            "bin_end": 7.6,
            "count": 0
           },
           {
            "bin_start": 7.6,
            "bin_end": 7.7,
            "count": 0
           },
           {
            "bin_start": 7.7,
            "bin_end": 7.8,
            "count": 0
           },
           {
            "bin_start": 7.8,
            "bin_end": 7.9,
            "count": 0
           },
           {
            "bin_start": 7.9,
            "bin_end": 8,
            "count": 0
           },
           {
            "bin_start": 8,
            "bin_end": 8.1,
            "count": 2
           },
           {
            "bin_start": 8.1,
            "bin_end": 8.2,
            "count": 0
           },
           {
            "bin_start": 8.2,
            "bin_end": 8.3,
            "count": 0
           },
           {
            "bin_start": 8.3,
            "bin_end": 8.4,
            "count": 0
           },
           {
            "bin_start": 8.4,
            "bin_end": 8.5,
            "count": 0
           }
          ]
         }
        },
        {
         "name": "_deepnote_index_column",
         "dtype": "object"
        }
       ],
       "rows_top": [
        {
         "edad": 14,
         "cm": 155,
         "pais": "mx",
         "genero": "M",
         "Q1": "nan",
         "Q2": 8,
         "_deepnote_index_column": "daniel"
        },
        {
         "edad": 12,
         "cm": 125,
         "pais": "mx",
         "genero": "M",
         "Q1": 7,
         "Q2": 8,
         "_deepnote_index_column": "erika"
        }
       ],
       "rows_bottom": null
      },
      "text/plain": "        edad   cm pais genero   Q1   Q2\ndaniel    14  155   mx      M  NaN  8.0\nerika     12  125   mx      M  7.0  8.0",
      "text/html": "<div>\n<style scoped>\n    .dataframe tbody tr th:only-of-type {\n        vertical-align: middle;\n    }\n\n    .dataframe tbody tr th {\n        vertical-align: top;\n    }\n\n    .dataframe thead th {\n        text-align: right;\n    }\n</style>\n<table border=\"1\" class=\"dataframe\">\n  <thead>\n    <tr style=\"text-align: right;\">\n      <th></th>\n      <th>edad</th>\n      <th>cm</th>\n      <th>pais</th>\n      <th>genero</th>\n      <th>Q1</th>\n      <th>Q2</th>\n    </tr>\n  </thead>\n  <tbody>\n    <tr>\n      <th>daniel</th>\n      <td>14</td>\n      <td>155</td>\n      <td>mx</td>\n      <td>M</td>\n      <td>NaN</td>\n      <td>8.0</td>\n    </tr>\n    <tr>\n      <th>erika</th>\n      <td>12</td>\n      <td>125</td>\n      <td>mx</td>\n      <td>M</td>\n      <td>7.0</td>\n      <td>8.0</td>\n    </tr>\n  </tbody>\n</table>\n</div>"
     },
     "metadata": {}
    }
   ]
  },
  {
   "cell_type": "markdown",
   "source": "# Manejo de archivos\n[5] Indexado y manejo de archivos CSV.ipynb\n- sep='-'  Separa mediante el simblo que tu le asigne\n- index=False Elimina el indice al exportarlo",
   "metadata": {
    "tags": [],
    "cell_id": "00014-d2ddd212-2344-47b4-9b70-c28e77872463",
    "deepnote_cell_type": "markdown"
   }
  },
  {
   "cell_type": "markdown",
   "source": "## Crear un archivo",
   "metadata": {
    "tags": [],
    "cell_id": "00015-51fef50a-d6ba-4a17-80ab-6be5ac611223",
    "deepnote_cell_type": "markdown"
   }
  },
  {
   "cell_type": "code",
   "metadata": {
    "tags": [],
    "cell_id": "00015-9fb262c4-dcea-4ed8-a2d7-e8c4bd5811ef",
    "deepnote_to_be_reexecuted": false,
    "source_hash": "d319bae0",
    "execution_start": 1625422621706,
    "execution_millis": 9,
    "deepnote_cell_type": "code"
   },
   "source": "dir_bd = 'db/{}'\ndf2.to_csv(dir_bd.format('test.csv'))",
   "execution_count": null,
   "outputs": []
  },
  {
   "cell_type": "markdown",
   "source": "## Lectura de un archivo",
   "metadata": {
    "tags": [],
    "cell_id": "00017-bb1606f0-9b7e-4e3f-8d01-ec848d7d46f5",
    "deepnote_cell_type": "markdown"
   }
  },
  {
   "cell_type": "code",
   "metadata": {
    "tags": [],
    "cell_id": "00018-8ec987e9-c15c-42a1-9d29-1b4d5ddb5e1c",
    "deepnote_to_be_reexecuted": false,
    "source_hash": "1c5be233",
    "execution_start": 1625422622206,
    "execution_millis": 44,
    "deepnote_cell_type": "code"
   },
   "source": "df_read = pd.read_csv('db/test.csv')\ndf_read.head(1)",
   "execution_count": null,
   "outputs": [
    {
     "output_type": "execute_result",
     "execution_count": 20,
     "data": {
      "application/vnd.deepnote.dataframe.v2+json": {
       "row_count": 1,
       "column_count": 7,
       "columns": [
        {
         "name": "Unnamed: 0",
         "dtype": "object",
         "stats": {
          "unique_count": 1,
          "nan_count": 0,
          "categories": [
           {
            "name": "ana",
            "count": 1
           }
          ]
         }
        },
        {
         "name": "edad",
         "dtype": "int64",
         "stats": {
          "unique_count": 1,
          "nan_count": 0,
          "min": "10",
          "max": "10",
          "histogram": [
           {
            "bin_start": 9.5,
            "bin_end": 9.6,
            "count": 0
           },
           {
            "bin_start": 9.6,
            "bin_end": 9.7,
            "count": 0
           },
           {
            "bin_start": 9.7,
            "bin_end": 9.8,
            "count": 0
           },
           {
            "bin_start": 9.8,
            "bin_end": 9.9,
            "count": 0
           },
           {
            "bin_start": 9.9,
            "bin_end": 10,
            "count": 0
           },
           {
            "bin_start": 10,
            "bin_end": 10.1,
            "count": 1
           },
           {
            "bin_start": 10.1,
            "bin_end": 10.2,
            "count": 0
           },
           {
            "bin_start": 10.2,
            "bin_end": 10.3,
            "count": 0
           },
           {
            "bin_start": 10.3,
            "bin_end": 10.4,
            "count": 0
           },
           {
            "bin_start": 10.4,
            "bin_end": 10.5,
            "count": 0
           }
          ]
         }
        },
        {
         "name": "cm",
         "dtype": "int64",
         "stats": {
          "unique_count": 1,
          "nan_count": 0,
          "min": "115",
          "max": "115",
          "histogram": [
           {
            "bin_start": 114.5,
            "bin_end": 114.6,
            "count": 0
           },
           {
            "bin_start": 114.6,
            "bin_end": 114.7,
            "count": 0
           },
           {
            "bin_start": 114.7,
            "bin_end": 114.8,
            "count": 0
           },
           {
            "bin_start": 114.8,
            "bin_end": 114.9,
            "count": 0
           },
           {
            "bin_start": 114.9,
            "bin_end": 115,
            "count": 0
           },
           {
            "bin_start": 115,
            "bin_end": 115.1,
            "count": 1
           },
           {
            "bin_start": 115.1,
            "bin_end": 115.2,
            "count": 0
           },
           {
            "bin_start": 115.2,
            "bin_end": 115.3,
            "count": 0
           },
           {
            "bin_start": 115.3,
            "bin_end": 115.4,
            "count": 0
           },
           {
            "bin_start": 115.4,
            "bin_end": 115.5,
            "count": 0
           }
          ]
         }
        },
        {
         "name": "pais",
         "dtype": "object",
         "stats": {
          "unique_count": 1,
          "nan_count": 0,
          "categories": [
           {
            "name": "co",
            "count": 1
           }
          ]
         }
        },
        {
         "name": "genero",
         "dtype": "object",
         "stats": {
          "unique_count": 1,
          "nan_count": 0,
          "categories": [
           {
            "name": "M",
            "count": 1
           }
          ]
         }
        },
        {
         "name": "Q1",
         "dtype": "float64",
         "stats": {
          "unique_count": 1,
          "nan_count": 0,
          "min": "5.0",
          "max": "5.0",
          "histogram": [
           {
            "bin_start": 4.5,
            "bin_end": 4.6,
            "count": 0
           },
           {
            "bin_start": 4.6,
            "bin_end": 4.7,
            "count": 0
           },
           {
            "bin_start": 4.7,
            "bin_end": 4.8,
            "count": 0
           },
           {
            "bin_start": 4.8,
            "bin_end": 4.9,
            "count": 0
           },
           {
            "bin_start": 4.9,
            "bin_end": 5,
            "count": 0
           },
           {
            "bin_start": 5,
            "bin_end": 5.1,
            "count": 1
           },
           {
            "bin_start": 5.1,
            "bin_end": 5.2,
            "count": 0
           },
           {
            "bin_start": 5.2,
            "bin_end": 5.3,
            "count": 0
           },
           {
            "bin_start": 5.3,
            "bin_end": 5.4,
            "count": 0
           },
           {
            "bin_start": 5.4,
            "bin_end": 5.5,
            "count": 0
           }
          ]
         }
        },
        {
         "name": "Q2",
         "dtype": "float64",
         "stats": {
          "unique_count": 1,
          "nan_count": 0,
          "min": "7.0",
          "max": "7.0",
          "histogram": [
           {
            "bin_start": 6.5,
            "bin_end": 6.6,
            "count": 0
           },
           {
            "bin_start": 6.6,
            "bin_end": 6.7,
            "count": 0
           },
           {
            "bin_start": 6.7,
            "bin_end": 6.8,
            "count": 0
           },
           {
            "bin_start": 6.8,
            "bin_end": 6.9,
            "count": 0
           },
           {
            "bin_start": 6.9,
            "bin_end": 7,
            "count": 0
           },
           {
            "bin_start": 7,
            "bin_end": 7.1,
            "count": 1
           },
           {
            "bin_start": 7.1,
            "bin_end": 7.2,
            "count": 0
           },
           {
            "bin_start": 7.2,
            "bin_end": 7.3,
            "count": 0
           },
           {
            "bin_start": 7.3,
            "bin_end": 7.4,
            "count": 0
           },
           {
            "bin_start": 7.4,
            "bin_end": 7.5,
            "count": 0
           }
          ]
         }
        },
        {
         "name": "_deepnote_index_column",
         "dtype": "int64"
        }
       ],
       "rows_top": [
        {
         "Unnamed: 0": "ana",
         "edad": 10,
         "cm": 115,
         "pais": "co",
         "genero": "M",
         "Q1": 5,
         "Q2": 7,
         "_deepnote_index_column": 0
        }
       ],
       "rows_bottom": null
      },
      "text/plain": "  Unnamed: 0  edad   cm pais genero   Q1   Q2\n0        ana    10  115   co      M  5.0  7.0",
      "text/html": "<div>\n<style scoped>\n    .dataframe tbody tr th:only-of-type {\n        vertical-align: middle;\n    }\n\n    .dataframe tbody tr th {\n        vertical-align: top;\n    }\n\n    .dataframe thead th {\n        text-align: right;\n    }\n</style>\n<table border=\"1\" class=\"dataframe\">\n  <thead>\n    <tr style=\"text-align: right;\">\n      <th></th>\n      <th>Unnamed: 0</th>\n      <th>edad</th>\n      <th>cm</th>\n      <th>pais</th>\n      <th>genero</th>\n      <th>Q1</th>\n      <th>Q2</th>\n    </tr>\n  </thead>\n  <tbody>\n    <tr>\n      <th>0</th>\n      <td>ana</td>\n      <td>10</td>\n      <td>115</td>\n      <td>co</td>\n      <td>M</td>\n      <td>5.0</td>\n      <td>7.0</td>\n    </tr>\n  </tbody>\n</table>\n</div>"
     },
     "metadata": {}
    }
   ]
  },
  {
   "cell_type": "markdown",
   "source": "## Formatos de archivos\n\n- **CSV** - Es muy versatil ya que solo tiene comas y saltos de linea\n- **JSON** - Tiene un formato muy similar al de un diccionario de Python\n- **Excel** - Permite guardar el archivo en formato .xls para trabajar con el en Excel o Spreadsheets\n- **Pickle** - Permite comprimir la información, es util cuando se tienen tablas grandes\n- **Parquet** - Permite darle un formato que puede usarse en ambientes de Big Data como Hadoop.\n\nPara consultar mas tipos de archivos https://pandas.pydata.org/pandas-docs/stable/user_guide/io.html",
   "metadata": {
    "tags": [],
    "cell_id": "00019-25511257-0ba8-44d4-a8a5-17cf0e05f55c",
    "deepnote_cell_type": "markdown"
   }
  },
  {
   "cell_type": "markdown",
   "source": "## Virtudes de los formatos de archivos \n- **CSV y formatos String**: Son simples, requieren alto costo computacional y algo lentos.\n- **HDF**: Gran soporte, adecuado para grandes cantidades de datos, rápido a costo de alto costo computacional.\n- **Parquet**: Puede igualar a hdf e inclusive trabajar por chunks y en paralelo.\n- **Pickle**: Es práctico pero lento con grandes cantidades de datos.\n\n<img src='data:image/png;base64,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'>\n<img src='data:image/png;base64,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'>\n<img src='data:image/png;base64,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'>\n<img src='data:image/png;base64,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'>\n<img src='data:image/png;base64,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'>\n<img src='data:image/png;base64,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'>",
   "metadata": {
    "tags": [],
    "cell_id": "00020-7bb87a16-3889-4771-91f6-0e3d9df6c90e",
    "deepnote_cell_type": "markdown"
   }
  },
  {
   "cell_type": "markdown",
   "source": "# Conexión a Base de Datos\n[6] Conexion con bases de datos tipo SQL.ipynb",
   "metadata": {
    "tags": [],
    "cell_id": "00021-10066444-9957-4741-b332-3f72acad5c1a",
    "deepnote_cell_type": "markdown"
   }
  },
  {
   "cell_type": "markdown",
   "source": "## PostgreSQL\nValida que tengas la librería psycopg2 usando el comando import. Si no está instalada en tu ambiente, usa el comando !pip install psycopg2 en la terminal de python para instalarlo.\n\nComenzamos cargando las librerías:",
   "metadata": {
    "tags": [],
    "cell_id": "00022-dfd5dc00-c152-4b6b-8680-cdf08c84d833",
    "deepnote_cell_type": "markdown"
   }
  },
  {
   "cell_type": "code",
   "metadata": {
    "tags": [],
    "cell_id": "00022-5728b06d-a0db-4ded-bfbd-3cced8dfa0b9",
    "deepnote_to_be_reexecuted": false,
    "source_hash": "9f91ef74",
    "execution_start": 1625422586299,
    "deepnote_cell_type": "code"
   },
   "source": "import pandas as pd\nimport psycopg2",
   "execution_count": null,
   "outputs": []
  },
  {
   "cell_type": "markdown",
   "source": "Luego creamos el elemento de conexión con el siguieente código:",
   "metadata": {
    "tags": [],
    "cell_id": "00024-121c2afc-e91d-44f9-8874-9ed8c11f7375",
    "deepnote_cell_type": "markdown"
   }
  },
  {
   "cell_type": "code",
   "metadata": {
    "tags": [],
    "cell_id": "00025-82ee3e61-7c81-4337-927a-0b075fbfbb2f",
    "deepnote_to_be_reexecuted": false,
    "source_hash": "8d060525",
    "execution_start": 1625422586300,
    "execution_millis": 26743,
    "deepnote_cell_type": "code"
   },
   "source": "conn_sql = psycopg2.connect(user = \"user_name\",\n                            password = \"password\",\n                            host = \"xxx.xxx.xxx.xxx\",\n                            port = \"5432\",\n                            database = \"postgres_db_name\")",
   "execution_count": null,
   "outputs": [
    {
     "output_type": "error",
     "ename": "OperationalError",
     "evalue": "asynchronous connection attempt underway",
     "traceback": [
      "\u001b[0;31m---------------------------------------------------------------------------\u001b[0m",
      "\u001b[0;31mKeyboardInterrupt\u001b[0m                         Traceback (most recent call last)",
      "\u001b[0;32m/shared-libs/python3.7/py/lib/python3.7/site-packages/psycopg2/extras.py\u001b[0m in \u001b[0;36mwait_select\u001b[0;34m(conn)\u001b[0m\n\u001b[1;32m    767\u001b[0m             \u001b[0;32melif\u001b[0m \u001b[0mstate\u001b[0m \u001b[0;34m==\u001b[0m \u001b[0mPOLL_WRITE\u001b[0m\u001b[0;34m:\u001b[0m\u001b[0;34m\u001b[0m\u001b[0;34m\u001b[0m\u001b[0m\n\u001b[0;32m--> 768\u001b[0;31m                 \u001b[0mselect\u001b[0m\u001b[0;34m.\u001b[0m\u001b[0mselect\u001b[0m\u001b[0;34m(\u001b[0m\u001b[0;34m[\u001b[0m\u001b[0;34m]\u001b[0m\u001b[0;34m,\u001b[0m \u001b[0;34m[\u001b[0m\u001b[0mconn\u001b[0m\u001b[0;34m.\u001b[0m\u001b[0mfileno\u001b[0m\u001b[0;34m(\u001b[0m\u001b[0;34m)\u001b[0m\u001b[0;34m]\u001b[0m\u001b[0;34m,\u001b[0m \u001b[0;34m[\u001b[0m\u001b[0;34m]\u001b[0m\u001b[0;34m)\u001b[0m\u001b[0;34m\u001b[0m\u001b[0;34m\u001b[0m\u001b[0m\n\u001b[0m\u001b[1;32m    769\u001b[0m             \u001b[0;32melse\u001b[0m\u001b[0;34m:\u001b[0m\u001b[0;34m\u001b[0m\u001b[0;34m\u001b[0m\u001b[0m\n",
      "\u001b[0;31mKeyboardInterrupt\u001b[0m: ",
      "\nDuring handling of the above exception, another exception occurred:\n",
      "\u001b[0;31mOperationalError\u001b[0m                          Traceback (most recent call last)",
      "\u001b[0;32m<ipython-input-11-a296b9f11bac>\u001b[0m in \u001b[0;36m<module>\u001b[0;34m\u001b[0m\n\u001b[1;32m      3\u001b[0m                             \u001b[0mhost\u001b[0m \u001b[0;34m=\u001b[0m \u001b[0;34m\"xxx.xxx.xxx.xxx\"\u001b[0m\u001b[0;34m,\u001b[0m\u001b[0;34m\u001b[0m\u001b[0;34m\u001b[0m\u001b[0m\n\u001b[1;32m      4\u001b[0m                             \u001b[0mport\u001b[0m \u001b[0;34m=\u001b[0m \u001b[0;34m\"5432\"\u001b[0m\u001b[0;34m,\u001b[0m\u001b[0;34m\u001b[0m\u001b[0;34m\u001b[0m\u001b[0m\n\u001b[0;32m----> 5\u001b[0;31m                             database = \"postgres_db_name\")\n\u001b[0m",
      "\u001b[0;32m/shared-libs/python3.7/py/lib/python3.7/site-packages/psycopg2/__init__.py\u001b[0m in \u001b[0;36mconnect\u001b[0;34m(dsn, connection_factory, cursor_factory, **kwargs)\u001b[0m\n\u001b[1;32m    120\u001b[0m \u001b[0;34m\u001b[0m\u001b[0m\n\u001b[1;32m    121\u001b[0m     \u001b[0mdsn\u001b[0m \u001b[0;34m=\u001b[0m \u001b[0m_ext\u001b[0m\u001b[0;34m.\u001b[0m\u001b[0mmake_dsn\u001b[0m\u001b[0;34m(\u001b[0m\u001b[0mdsn\u001b[0m\u001b[0;34m,\u001b[0m \u001b[0;34m**\u001b[0m\u001b[0mkwargs\u001b[0m\u001b[0;34m)\u001b[0m\u001b[0;34m\u001b[0m\u001b[0;34m\u001b[0m\u001b[0m\n\u001b[0;32m--> 122\u001b[0;31m     \u001b[0mconn\u001b[0m \u001b[0;34m=\u001b[0m \u001b[0m_connect\u001b[0m\u001b[0;34m(\u001b[0m\u001b[0mdsn\u001b[0m\u001b[0;34m,\u001b[0m \u001b[0mconnection_factory\u001b[0m\u001b[0;34m=\u001b[0m\u001b[0mconnection_factory\u001b[0m\u001b[0;34m,\u001b[0m \u001b[0;34m**\u001b[0m\u001b[0mkwasync\u001b[0m\u001b[0;34m)\u001b[0m\u001b[0;34m\u001b[0m\u001b[0;34m\u001b[0m\u001b[0m\n\u001b[0m\u001b[1;32m    123\u001b[0m     \u001b[0;32mif\u001b[0m \u001b[0mcursor_factory\u001b[0m \u001b[0;32mis\u001b[0m \u001b[0;32mnot\u001b[0m \u001b[0;32mNone\u001b[0m\u001b[0;34m:\u001b[0m\u001b[0;34m\u001b[0m\u001b[0;34m\u001b[0m\u001b[0m\n\u001b[1;32m    124\u001b[0m         \u001b[0mconn\u001b[0m\u001b[0;34m.\u001b[0m\u001b[0mcursor_factory\u001b[0m \u001b[0;34m=\u001b[0m \u001b[0mcursor_factory\u001b[0m\u001b[0;34m\u001b[0m\u001b[0;34m\u001b[0m\u001b[0m\n",
      "\u001b[0;32m/shared-libs/python3.7/py/lib/python3.7/site-packages/psycopg2/extras.py\u001b[0m in \u001b[0;36mwait_select\u001b[0;34m(conn)\u001b[0m\n\u001b[1;32m    770\u001b[0m                 \u001b[0;32mraise\u001b[0m \u001b[0mconn\u001b[0m\u001b[0;34m.\u001b[0m\u001b[0mOperationalError\u001b[0m\u001b[0;34m(\u001b[0m\u001b[0;34mf\"bad state from poll: {state}\"\u001b[0m\u001b[0;34m)\u001b[0m\u001b[0;34m\u001b[0m\u001b[0;34m\u001b[0m\u001b[0m\n\u001b[1;32m    771\u001b[0m         \u001b[0;32mexcept\u001b[0m \u001b[0mKeyboardInterrupt\u001b[0m\u001b[0;34m:\u001b[0m\u001b[0;34m\u001b[0m\u001b[0;34m\u001b[0m\u001b[0m\n\u001b[0;32m--> 772\u001b[0;31m             \u001b[0mconn\u001b[0m\u001b[0;34m.\u001b[0m\u001b[0mcancel\u001b[0m\u001b[0;34m(\u001b[0m\u001b[0;34m)\u001b[0m\u001b[0;34m\u001b[0m\u001b[0;34m\u001b[0m\u001b[0m\n\u001b[0m\u001b[1;32m    773\u001b[0m             \u001b[0;31m# the loop will be broken by a server error\u001b[0m\u001b[0;34m\u001b[0m\u001b[0;34m\u001b[0m\u001b[0;34m\u001b[0m\u001b[0m\n\u001b[1;32m    774\u001b[0m             \u001b[0;32mcontinue\u001b[0m\u001b[0;34m\u001b[0m\u001b[0;34m\u001b[0m\u001b[0m\n",
      "\u001b[0;31mOperationalError\u001b[0m: asynchronous connection attempt underway"
     ]
    }
   ]
  },
  {
   "cell_type": "markdown",
   "source": "Seguido simplemente definimos nuestra query en SQL:",
   "metadata": {
    "tags": [],
    "cell_id": "00026-2ddfe4e5-2a31-4e10-817c-623169fb7b2c",
    "deepnote_cell_type": "markdown"
   }
  },
  {
   "cell_type": "code",
   "metadata": {
    "tags": [],
    "cell_id": "00027-c15b00d0-b289-46ab-b62e-482bb675d675",
    "deepnote_to_be_reexecuted": true,
    "source_hash": "ec43e9dc",
    "deepnote_cell_type": "code"
   },
   "source": "query_sql = '''\nselect *\nfrom table_name\nlimit 10\n'''",
   "execution_count": null,
   "outputs": []
  },
  {
   "cell_type": "markdown",
   "source": "Y creamos nuestro dataframe:",
   "metadata": {
    "tags": [],
    "cell_id": "00028-2fabda28-b52f-4557-9e4e-04eae9a95851",
    "deepnote_cell_type": "markdown"
   }
  },
  {
   "cell_type": "code",
   "metadata": {
    "tags": [],
    "cell_id": "00029-5ba889d1-64e4-4cb6-8da8-c95f36837a0a",
    "deepnote_to_be_reexecuted": true,
    "source_hash": "48a5cebd",
    "deepnote_cell_type": "code"
   },
   "source": "df = pd.read_sql(query_sql, sql_conn)\ndf.head(5)",
   "execution_count": null,
   "outputs": []
  },
  {
   "cell_type": "markdown",
   "source": "## SQL Server\nValida que tengas la librería pyodbc usando el comando import, si no está instalada en tu ambiente, usa el comando !pip install pyodbc en la terminal python para instalarlo.\n\nComenzamos cargando las librerías:",
   "metadata": {
    "tags": [],
    "cell_id": "00030-1d92f49a-95ab-4a9c-b896-9bc608e3b3c5",
    "deepnote_cell_type": "markdown"
   }
  },
  {
   "cell_type": "code",
   "metadata": {
    "tags": [],
    "cell_id": "00031-bf8a133d-8724-4696-8ecf-b50ec7bf6e50",
    "deepnote_to_be_reexecuted": true,
    "source_hash": "4d8f09d",
    "deepnote_cell_type": "code"
   },
   "source": "import pandas as pd\nimport pyodbc",
   "execution_count": null,
   "outputs": []
  },
  {
   "cell_type": "markdown",
   "source": "Luego creamos el elemento de conexión con el siguiente código:",
   "metadata": {
    "tags": [],
    "cell_id": "00032-7fba075b-3cd7-4790-a0bc-ec4f3ddead59",
    "deepnote_cell_type": "markdown"
   }
  },
  {
   "cell_type": "code",
   "metadata": {
    "tags": [],
    "cell_id": "00033-8b81b70c-04e0-44d3-b724-eb2b39339755",
    "deepnote_to_be_reexecuted": true,
    "source_hash": "ee3015fa",
    "deepnote_cell_type": "code"
   },
   "source": "driver = '{SQL Server}'\nserver_name = 'server_name'\ndb_name = 'database_name'\nuser = 'user'\npassword = 'password'\nsql_conn = pyodbc.connect('''\nDRIVER={};SERVER={};DATABASE={};UID={};PWD={};\nTrusted_Connection=yes\n'''.format(driver, server_name, db_name, user, password))",
   "execution_count": null,
   "outputs": []
  },
  {
   "cell_type": "markdown",
   "source": "O si tienes el DSN:",
   "metadata": {
    "tags": [],
    "cell_id": "00034-839e5df1-de08-4726-8fc9-f6911437f3b9",
    "deepnote_cell_type": "markdown"
   }
  },
  {
   "cell_type": "code",
   "metadata": {
    "tags": [],
    "cell_id": "00035-521ccc24-622a-40e8-af3d-04efa39083e8",
    "deepnote_to_be_reexecuted": true,
    "source_hash": "44de3160",
    "deepnote_cell_type": "code"
   },
   "source": "dsn = 'odbc_datasource_name'\nsql_conn = pyodbc.connect('''\nDSN={};UID={};PWD={};Trusted_Connection=yes;\n'''.format(dsn, user, password))\nSeguido simplemente definimos nuestra query en SQL:\t\nquery_sql = 'select * from table_name limit 10'",
   "execution_count": null,
   "outputs": []
  },
  {
   "cell_type": "markdown",
   "source": "Y creamos nuestro dataframe con:",
   "metadata": {
    "tags": [],
    "cell_id": "00036-d1b0af5e-61d8-493e-8004-e0f947ecc8a8",
    "deepnote_cell_type": "markdown"
   }
  },
  {
   "cell_type": "code",
   "metadata": {
    "tags": [],
    "cell_id": "00037-37230260-70cc-4aa1-a33c-c3f298651cd8",
    "deepnote_to_be_reexecuted": true,
    "source_hash": "48a5cebd",
    "deepnote_cell_type": "code"
   },
   "source": "df = pd.read_sql(query_sql, sql_conn)\ndf.head(5)",
   "execution_count": null,
   "outputs": []
  },
  {
   "cell_type": "markdown",
   "source": "## MySQL / Oracle / Otras\n\nValida que tengas la librería sqlalchemy usando el comando import, si no está instalada en tu ambiente, usa el comando !pip install sqlalchemy en la terminal de python para instalarlo.\n\nComenzamos cargando las librerías:",
   "metadata": {
    "tags": [],
    "cell_id": "00038-bebd8bcb-2852-4077-a371-5dadf42d9ded",
    "deepnote_cell_type": "markdown"
   }
  },
  {
   "cell_type": "code",
   "metadata": {
    "tags": [],
    "cell_id": "00039-f82990b0-7f8c-4cef-ba85-d4fb3297f096",
    "deepnote_to_be_reexecuted": true,
    "source_hash": "a9df2e67",
    "deepnote_cell_type": "code"
   },
   "source": "import pandas as pd\nimport sqlalchemy as sql\nEscogemos nuestra base de datos, Oracle, MySql o la de tu preferencia:\ndatabase_type = 'mysql'\ndatabase_type = 'oracle'",
   "execution_count": null,
   "outputs": []
  },
  {
   "cell_type": "markdown",
   "source": "Luego creamos el elemento de conexión con el siguiente código:",
   "metadata": {
    "tags": [],
    "cell_id": "00040-766eeb3a-7d5b-4e9c-8617-a4e172bd8334",
    "deepnote_cell_type": "markdown"
   }
  },
  {
   "cell_type": "code",
   "metadata": {
    "tags": [],
    "cell_id": "00041-0b9ecd3b-99da-45fa-9e7c-48558c8efd04",
    "deepnote_to_be_reexecuted": true,
    "source_hash": "b5cbb192",
    "deepnote_cell_type": "code"
   },
   "source": "user = 'user_name'\npassword = 'password'\nhost = 'xxx.xxx.xxx.xxx:port'\ndatabase = 'database_name'\n\nconn_string = '{}://{}:{}@{}/{}'.format(\ndatabase_type, user, password, host, database)\n\nsql_conn = sql.create_engine(conn_string)",
   "execution_count": null,
   "outputs": []
  },
  {
   "cell_type": "markdown",
   "source": "Seguido simplemente definimos nuestra query en SQL:",
   "metadata": {
    "tags": [],
    "cell_id": "00042-06f81a2a-163b-486f-bbc3-61eb18942e23",
    "deepnote_cell_type": "markdown"
   }
  },
  {
   "cell_type": "code",
   "metadata": {
    "tags": [],
    "cell_id": "00043-ae1611c4-3a81-4bc5-9696-fd813d01d6f9",
    "deepnote_to_be_reexecuted": true,
    "source_hash": "ec43e9dc",
    "deepnote_cell_type": "code"
   },
   "source": "query_sql = '''\nselect *\nfrom table_name\nlimit 10\n'''",
   "execution_count": null,
   "outputs": []
  },
  {
   "cell_type": "markdown",
   "source": "Y creamos nuestro dataframe con:",
   "metadata": {
    "tags": [],
    "cell_id": "00044-fbaba17e-de07-4dcd-bab3-e083902b55a4",
    "deepnote_cell_type": "markdown"
   }
  },
  {
   "cell_type": "code",
   "metadata": {
    "tags": [],
    "cell_id": "00045-43826291-a807-40e0-a858-a023e51e3c81",
    "deepnote_to_be_reexecuted": true,
    "source_hash": "48a5cebd",
    "deepnote_cell_type": "code"
   },
   "source": "df = pd.read_sql(query_sql, sql_conn)\ndf.head(5)",
   "execution_count": null,
   "outputs": []
  },
  {
   "cell_type": "markdown",
   "source": "La libreria **sqlalchemy también soporta PostgreSQL y otras fuentes de datos.**",
   "metadata": {
    "tags": [],
    "cell_id": "00046-da8c263d-d467-4373-8911-876174ba3614",
    "deepnote_cell_type": "markdown"
   }
  },
  {
   "cell_type": "markdown",
   "source": "# Tipos de variables\n[9]-tipo-de-variables-y-estructura.ipynb",
   "metadata": {
    "tags": [],
    "cell_id": "00047-5d4d2c24-4de3-4bf4-b44b-241c87f54f8f",
    "deepnote_cell_type": "markdown"
   }
  },
  {
   "cell_type": "code",
   "metadata": {
    "tags": [],
    "cell_id": "00048-d9389e30-0ccf-4df8-89c6-ac91e1dacc53",
    "deepnote_to_be_reexecuted": false,
    "source_hash": "ea05f776",
    "execution_start": 1625422632959,
    "execution_millis": 168,
    "deepnote_cell_type": "code"
   },
   "source": "import pandas as pd\ndf_meteorites = pd.read_csv('db/Meteorite_Landings.csv')\ndf_meteorites.tail(1) #Ver los ultimos registros\ndf_meteorites.sample(1) #Muestra registros aleatorios",
   "execution_count": null,
   "outputs": [
    {
     "output_type": "execute_result",
     "execution_count": 21,
     "data": {
      "application/vnd.deepnote.dataframe.v2+json": {
       "row_count": 1,
       "column_count": 10,
       "columns": [
        {
         "name": "name",
         "dtype": "object",
         "stats": {
          "unique_count": 1,
          "nan_count": 0,
          "categories": [
           {
            "name": "Queen Alexandra Range 97865",
            "count": 1
           }
          ]
         }
        },
        {
         "name": "id",
         "dtype": "int64",
         "stats": {
          "unique_count": 1,
          "nan_count": 0,
          "min": "21319",
          "max": "21319",
          "histogram": [
           {
            "bin_start": 21318.5,
            "bin_end": 21318.6,
            "count": 0
           },
           {
            "bin_start": 21318.6,
            "bin_end": 21318.7,
            "count": 0
           },
           {
            "bin_start": 21318.7,
            "bin_end": 21318.8,
            "count": 0
           },
           {
            "bin_start": 21318.8,
            "bin_end": 21318.9,
            "count": 0
           },
           {
            "bin_start": 21318.9,
            "bin_end": 21319,
            "count": 0
           },
           {
            "bin_start": 21319,
            "bin_end": 21319.1,
            "count": 1
           },
           {
            "bin_start": 21319.1,
            "bin_end": 21319.2,
            "count": 0
           },
           {
            "bin_start": 21319.2,
            "bin_end": 21319.3,
            "count": 0
           },
           {
            "bin_start": 21319.3,
            "bin_end": 21319.4,
            "count": 0
           },
           {
            "bin_start": 21319.4,
            "bin_end": 21319.5,
            "count": 0
           }
          ]
         }
        },
        {
         "name": "nametype",
         "dtype": "object",
         "stats": {
          "unique_count": 1,
          "nan_count": 0,
          "categories": [
           {
            "name": "Valid",
            "count": 1
           }
          ]
         }
        },
        {
         "name": "recclass",
         "dtype": "object",
         "stats": {
          "unique_count": 1,
          "nan_count": 0,
          "categories": [
           {
            "name": "H6",
            "count": 1
           }
          ]
         }
        },
        {
         "name": "mass (g)",
         "dtype": "float64",
         "stats": {
          "unique_count": 1,
          "nan_count": 0,
          "min": "4.1",
          "max": "4.1",
          "histogram": [
           {
            "bin_start": 3.5999999999999996,
            "bin_end": 3.6999999999999997,
            "count": 0
           },
           {
            "bin_start": 3.6999999999999997,
            "bin_end": 3.8,
            "count": 0
           },
           {
            "bin_start": 3.8,
            "bin_end": 3.8999999999999995,
            "count": 0
           },
           {
            "bin_start": 3.8999999999999995,
            "bin_end": 3.9999999999999996,
            "count": 0
           },
           {
            "bin_start": 3.9999999999999996,
            "bin_end": 4.1,
            "count": 0
           },
           {
            "bin_start": 4.1,
            "bin_end": 4.199999999999999,
            "count": 1
           },
           {
            "bin_start": 4.199999999999999,
            "bin_end": 4.3,
            "count": 0
           },
           {
            "bin_start": 4.3,
            "bin_end": 4.3999999999999995,
            "count": 0
           },
           {
            "bin_start": 4.3999999999999995,
            "bin_end": 4.5,
            "count": 0
           },
           {
            "bin_start": 4.5,
            "bin_end": 4.6,
            "count": 0
           }
          ]
         }
        },
        {
         "name": "fall",
         "dtype": "object",
         "stats": {
          "unique_count": 1,
          "nan_count": 0,
          "categories": [
           {
            "name": "Found",
            "count": 1
           }
          ]
         }
        },
        {
         "name": "year",
         "dtype": "object",
         "stats": {
          "unique_count": 1,
          "nan_count": 0,
          "categories": [
           {
            "name": "01/01/1997 12:00:00 AM",
            "count": 1
           }
          ]
         }
        },
        {
         "name": "reclat",
         "dtype": "float64",
         "stats": {
          "unique_count": 1,
          "nan_count": 0,
          "min": "-84.0",
          "max": "-84.0",
          "histogram": [
           {
            "bin_start": -84.5,
            "bin_end": -84.4,
            "count": 0
           },
           {
            "bin_start": -84.4,
            "bin_end": -84.3,
            "count": 0
           },
           {
            "bin_start": -84.3,
            "bin_end": -84.2,
            "count": 0
           },
           {
            "bin_start": -84.2,
            "bin_end": -84.1,
            "count": 0
           },
           {
            "bin_start": -84.1,
            "bin_end": -84,
            "count": 0
           },
           {
            "bin_start": -84,
            "bin_end": -83.9,
            "count": 1
           },
           {
            "bin_start": -83.9,
            "bin_end": -83.8,
            "count": 0
           },
           {
            "bin_start": -83.8,
            "bin_end": -83.7,
            "count": 0
           },
           {
            "bin_start": -83.7,
            "bin_end": -83.6,
            "count": 0
           },
           {
            "bin_start": -83.6,
            "bin_end": -83.5,
            "count": 0
           }
          ]
         }
        },
        {
         "name": "reclong",
         "dtype": "float64",
         "stats": {
          "unique_count": 1,
          "nan_count": 0,
          "min": "168.0",
          "max": "168.0",
          "histogram": [
           {
            "bin_start": 167.5,
            "bin_end": 167.6,
            "count": 0
           },
           {
            "bin_start": 167.6,
            "bin_end": 167.7,
            "count": 0
           },
           {
            "bin_start": 167.7,
            "bin_end": 167.8,
            "count": 0
           },
           {
            "bin_start": 167.8,
            "bin_end": 167.9,
            "count": 0
           },
           {
            "bin_start": 167.9,
            "bin_end": 168,
            "count": 0
           },
           {
            "bin_start": 168,
            "bin_end": 168.1,
            "count": 1
           },
           {
            "bin_start": 168.1,
            "bin_end": 168.2,
            "count": 0
           },
           {
            "bin_start": 168.2,
            "bin_end": 168.3,
            "count": 0
           },
           {
            "bin_start": 168.3,
            "bin_end": 168.4,
            "count": 0
           },
           {
            "bin_start": 168.4,
            "bin_end": 168.5,
            "count": 0
           }
          ]
         }
        },
        {
         "name": "GeoLocation",
         "dtype": "object",
         "stats": {
          "unique_count": 1,
          "nan_count": 0,
          "categories": [
           {
            "name": "(-84.0, 168.0)",
            "count": 1
           }
          ]
         }
        },
        {
         "name": "_deepnote_index_column",
         "dtype": "int64"
        }
       ],
       "rows_top": [
        {
         "name": "Queen Alexandra Range 97865",
         "id": 21319,
         "nametype": "Valid",
         "recclass": "H6",
         "mass (g)": 4.1,
         "fall": "Found",
         "year": "01/01/1997 12:00:00 AM",
         "reclat": -84,
         "reclong": 168,
         "GeoLocation": "(-84.0, 168.0)",
         "_deepnote_index_column": 34498
        }
       ],
       "rows_bottom": null
      },
      "text/plain": "                              name     id nametype recclass  mass (g)   fall  \\\n34498  Queen Alexandra Range 97865  21319    Valid       H6       4.1  Found   \n\n                         year  reclat  reclong     GeoLocation  \n34498  01/01/1997 12:00:00 AM   -84.0    168.0  (-84.0, 168.0)  ",
      "text/html": "<div>\n<style scoped>\n    .dataframe tbody tr th:only-of-type {\n        vertical-align: middle;\n    }\n\n    .dataframe tbody tr th {\n        vertical-align: top;\n    }\n\n    .dataframe thead th {\n        text-align: right;\n    }\n</style>\n<table border=\"1\" class=\"dataframe\">\n  <thead>\n    <tr style=\"text-align: right;\">\n      <th></th>\n      <th>name</th>\n      <th>id</th>\n      <th>nametype</th>\n      <th>recclass</th>\n      <th>mass (g)</th>\n      <th>fall</th>\n      <th>year</th>\n      <th>reclat</th>\n      <th>reclong</th>\n      <th>GeoLocation</th>\n    </tr>\n  </thead>\n  <tbody>\n    <tr>\n      <th>34498</th>\n      <td>Queen Alexandra Range 97865</td>\n      <td>21319</td>\n      <td>Valid</td>\n      <td>H6</td>\n      <td>4.1</td>\n      <td>Found</td>\n      <td>01/01/1997 12:00:00 AM</td>\n      <td>-84.0</td>\n      <td>168.0</td>\n      <td>(-84.0, 168.0)</td>\n    </tr>\n  </tbody>\n</table>\n</div>"
     },
     "metadata": {}
    }
   ]
  },
  {
   "cell_type": "markdown",
   "source": "## Cantidad de filas y de columans tiene el Data Frame",
   "metadata": {
    "tags": [],
    "cell_id": "00048-4749c14b-0bee-42a3-a726-bbee6f1936fa",
    "deepnote_cell_type": "markdown"
   }
  },
  {
   "cell_type": "code",
   "metadata": {
    "tags": [],
    "cell_id": "00050-60e2594c-dc76-4355-bcdc-11368abc426f",
    "deepnote_to_be_reexecuted": false,
    "source_hash": "8d214e4",
    "execution_start": 1625422638623,
    "execution_millis": 15,
    "deepnote_cell_type": "code"
   },
   "source": "df_meteorites.shape",
   "execution_count": null,
   "outputs": [
    {
     "output_type": "execute_result",
     "execution_count": 22,
     "data": {
      "text/plain": "(45716, 10)"
     },
     "metadata": {}
    }
   ]
  },
  {
   "cell_type": "markdown",
   "source": "## Cantidad de registros que tiene el DataFrame",
   "metadata": {
    "tags": [],
    "cell_id": "00049-db1fac5a-3ba4-4c8f-9b75-e729ba76f10b",
    "deepnote_cell_type": "markdown"
   }
  },
  {
   "cell_type": "code",
   "metadata": {
    "tags": [],
    "cell_id": "00052-0208156a-a770-47a7-a0f9-2b9619cd5c9c",
    "deepnote_to_be_reexecuted": false,
    "source_hash": "b7abad7d",
    "execution_start": 1625422639405,
    "execution_millis": 14,
    "deepnote_cell_type": "code"
   },
   "source": "df_meteorites.size",
   "execution_count": null,
   "outputs": [
    {
     "output_type": "execute_result",
     "execution_count": 23,
     "data": {
      "text/plain": "457160"
     },
     "metadata": {}
    }
   ]
  },
  {
   "cell_type": "markdown",
   "source": "## Modifica las decimales que puede tener el DataFrame.",
   "metadata": {
    "tags": [],
    "cell_id": "00054-56b7cab9-7aee-44a4-9c14-fd45722a8dad",
    "deepnote_cell_type": "markdown"
   }
  },
  {
   "cell_type": "code",
   "metadata": {
    "tags": [],
    "cell_id": "00054-78c975ca-c86e-400f-93d5-7e99da666dff",
    "deepnote_to_be_reexecuted": false,
    "source_hash": "bb5481e7",
    "execution_start": 1625422639893,
    "execution_millis": 144,
    "deepnote_cell_type": "code"
   },
   "source": "pd.options.display.float_format='{:,.2f}'.format\ndf_meteorites.describe(include='all')",
   "execution_count": null,
   "outputs": [
    {
     "output_type": "execute_result",
     "execution_count": 24,
     "data": {
      "application/vnd.deepnote.dataframe.v2+json": {
       "row_count": 11,
       "column_count": 10,
       "columns": [
        {
         "name": "name",
         "dtype": "object",
         "stats": {
          "unique_count": 3,
          "nan_count": 7,
          "categories": [
           {
            "name": "45716",
            "count": 2
           },
           {
            "name": "2 others",
            "count": 2
           },
           {
            "name": "Missing",
            "count": 7
           }
          ]
         }
        },
        {
         "name": "id",
         "dtype": "float64",
         "stats": {
          "unique_count": 8,
          "nan_count": 3,
          "min": "1.0",
          "max": "57458.0",
          "histogram": [
           {
            "bin_start": 1,
            "bin_end": 5746.7,
            "count": 1
           },
           {
            "bin_start": 5746.7,
            "bin_end": 11492.4,
            "count": 0
           },
           {
            "bin_start": 11492.4,
            "bin_end": 17238.1,
            "count": 2
           },
           {
            "bin_start": 17238.1,
            "bin_end": 22983.8,
            "count": 0
           },
           {
            "bin_start": 22983.8,
            "bin_end": 28729.5,
            "count": 2
           },
           {
            "bin_start": 28729.5,
            "bin_end": 34475.2,
            "count": 0
           },
           {
            "bin_start": 34475.2,
            "bin_end": 40220.9,
            "count": 0
           },
           {
            "bin_start": 40220.9,
            "bin_end": 45966.6,
            "count": 2
           },
           {
            "bin_start": 45966.6,
            "bin_end": 51712.299999999996,
            "count": 0
           },
           {
            "bin_start": 51712.299999999996,
            "bin_end": 57458,
            "count": 1
           }
          ]
         }
        },
        {
         "name": "nametype",
         "dtype": "object",
         "stats": {
          "unique_count": 4,
          "nan_count": 7,
          "categories": [
           {
            "name": "45716",
            "count": 1
           },
           {
            "name": "3 others",
            "count": 3
           },
           {
            "name": "Missing",
            "count": 7
           }
          ]
         }
        },
        {
         "name": "recclass",
         "dtype": "object",
         "stats": {
          "unique_count": 4,
          "nan_count": 7,
          "categories": [
           {
            "name": "45716",
            "count": 1
           },
           {
            "name": "3 others",
            "count": 3
           },
           {
            "name": "Missing",
            "count": 7
           }
          ]
         }
        },
        {
         "name": "mass (g)",
         "dtype": "float64",
         "stats": {
          "unique_count": 8,
          "nan_count": 3,
          "min": "0.0",
          "max": "60000000.0",
          "histogram": [
           {
            "bin_start": 0,
            "bin_end": 6000000,
            "count": 7
           },
           {
            "bin_start": 6000000,
            "bin_end": 12000000,
            "count": 0
           },
           {
            "bin_start": 12000000,
            "bin_end": 18000000,
            "count": 0
           },
           {
            "bin_start": 18000000,
            "bin_end": 24000000,
            "count": 0
           },
           {
            "bin_start": 24000000,
            "bin_end": 30000000,
            "count": 0
           },
           {
            "bin_start": 30000000,
            "bin_end": 36000000,
            "count": 0
           },
           {
            "bin_start": 36000000,
            "bin_end": 42000000,
            "count": 0
           },
           {
            "bin_start": 42000000,
            "bin_end": 48000000,
            "count": 0
           },
           {
            "bin_start": 48000000,
            "bin_end": 54000000,
            "count": 0
           },
           {
            "bin_start": 54000000,
            "bin_end": 60000000,
            "count": 1
           }
          ]
         }
        },
        {
         "name": "fall",
         "dtype": "object",
         "stats": {
          "unique_count": 4,
          "nan_count": 7,
          "categories": [
           {
            "name": "45716",
            "count": 1
           },
           {
            "name": "3 others",
            "count": 3
           },
           {
            "name": "Missing",
            "count": 7
           }
          ]
         }
        },
        {
         "name": "year",
         "dtype": "object",
         "stats": {
          "unique_count": 4,
          "nan_count": 7,
          "categories": [
           {
            "name": "45425",
            "count": 1
           },
           {
            "name": "3 others",
            "count": 3
           },
           {
            "name": "Missing",
            "count": 7
           }
          ]
         }
        },
        {
         "name": "reclat",
         "dtype": "float64",
         "stats": {
          "unique_count": 8,
          "nan_count": 3,
          "min": "-87.36667",
          "max": "38401.0",
          "histogram": [
           {
            "bin_start": -87.36667,
            "bin_end": 3761.4699970000006,
            "count": 7
           },
           {
            "bin_start": 3761.4699970000006,
            "bin_end": 7610.306664000001,
            "count": 0
           },
           {
            "bin_start": 7610.306664000001,
            "bin_end": 11459.143331000003,
            "count": 0
           },
           {
            "bin_start": 11459.143331000003,
            "bin_end": 15307.979998000003,
            "count": 0
           },
           {
            "bin_start": 15307.979998000003,
            "bin_end": 19156.816665000002,
            "count": 0
           },
           {
            "bin_start": 19156.816665000002,
            "bin_end": 23005.653332000005,
            "count": 0
           },
           {
            "bin_start": 23005.653332000005,
            "bin_end": 26854.489999000005,
            "count": 0
           },
           {
            "bin_start": 26854.489999000005,
            "bin_end": 30703.326666000004,
            "count": 0
           },
           {
            "bin_start": 30703.326666000004,
            "bin_end": 34552.163333000004,
            "count": 0
           },
           {
            "bin_start": 34552.163333000004,
            "bin_end": 38401,
            "count": 1
           }
          ]
         }
        },
        {
         "name": "reclong",
         "dtype": "float64",
         "stats": {
          "unique_count": 8,
          "nan_count": 3,
          "min": "-165.43333",
          "max": "38401.0",
          "histogram": [
           {
            "bin_start": -165.43333,
            "bin_end": 3691.210003,
            "count": 7
           },
           {
            "bin_start": 3691.210003,
            "bin_end": 7547.853336,
            "count": 0
           },
           {
            "bin_start": 7547.853336,
            "bin_end": 11404.496669,
            "count": 0
           },
           {
            "bin_start": 11404.496669,
            "bin_end": 15261.140002,
            "count": 0
           },
           {
            "bin_start": 15261.140002,
            "bin_end": 19117.783335,
            "count": 0
           },
           {
            "bin_start": 19117.783335,
            "bin_end": 22974.426668,
            "count": 0
           },
           {
            "bin_start": 22974.426668,
            "bin_end": 26831.070001,
            "count": 0
           },
           {
            "bin_start": 26831.070001,
            "bin_end": 30687.713334,
            "count": 0
           },
           {
            "bin_start": 30687.713334,
            "bin_end": 34544.356667,
            "count": 0
           },
           {
            "bin_start": 34544.356667,
            "bin_end": 38401,
            "count": 1
           }
          ]
         }
        },
        {
         "name": "GeoLocation",
         "dtype": "object",
         "stats": {
          "unique_count": 4,
          "nan_count": 7,
          "categories": [
           {
            "name": "38401",
            "count": 1
           },
           {
            "name": "3 others",
            "count": 3
           },
           {
            "name": "Missing",
            "count": 7
           }
          ]
         }
        },
        {
         "name": "_deepnote_index_column",
         "dtype": "object"
        }
       ],
       "rows_top": [
        {
         "name": "45716",
         "id": 45716,
         "nametype": "45716",
         "recclass": "45716",
         "mass (g)": 45585,
         "fall": "45716",
         "year": "45425",
         "reclat": 38401,
         "reclong": 38401,
         "GeoLocation": "38401",
         "_deepnote_index_column": "count"
        },
        {
         "name": "45716",
         "id": "nan",
         "nametype": "2",
         "recclass": "466",
         "mass (g)": "nan",
         "fall": "2",
         "year": "266",
         "reclat": "nan",
         "reclong": "nan",
         "GeoLocation": "17100",
         "_deepnote_index_column": "unique"
        },
        {
         "name": "Asuka 881039",
         "id": "nan",
         "nametype": "Valid",
         "recclass": "L6",
         "mass (g)": "nan",
         "fall": "Found",
         "year": "01/01/2003 12:00:00 AM",
         "reclat": "nan",
         "reclong": "nan",
         "GeoLocation": "(0.0, 0.0)",
         "_deepnote_index_column": "top"
        },
        {
         "name": "1",
         "id": "nan",
         "nametype": "45641",
         "recclass": "8285",
         "mass (g)": "nan",
         "fall": "44609",
         "year": "3323",
         "reclat": "nan",
         "reclong": "nan",
         "GeoLocation": "6214",
         "_deepnote_index_column": "freq"
        },
        {
         "name": "nan",
         "id": 26889.73510368361,
         "nametype": "nan",
         "recclass": "nan",
         "mass (g)": 13278.078548601512,
         "fall": "nan",
         "year": "nan",
         "reclat": -39.12258031142418,
         "reclong": 61.074318526236304,
         "GeoLocation": "nan",
         "_deepnote_index_column": "mean"
        },
        {
         "name": "nan",
         "id": 16860.683030276337,
         "nametype": "nan",
         "recclass": "nan",
         "mass (g)": 574988.876410473,
         "fall": "nan",
         "year": "nan",
         "reclat": 46.37851135669318,
         "reclong": 80.64729807908505,
         "GeoLocation": "nan",
         "_deepnote_index_column": "std"
        },
        {
         "name": "nan",
         "id": 1,
         "nametype": "nan",
         "recclass": "nan",
         "mass (g)": 0,
         "fall": "nan",
         "year": "nan",
         "reclat": -87.36667,
         "reclong": -165.43333,
         "GeoLocation": "nan",
         "_deepnote_index_column": "min"
        },
        {
         "name": "nan",
         "id": 12688.75,
         "nametype": "nan",
         "recclass": "nan",
         "mass (g)": 7.2,
         "fall": "nan",
         "year": "nan",
         "reclat": -76.71424,
         "reclong": 0,
         "GeoLocation": "nan",
         "_deepnote_index_column": "25%"
        },
        {
         "name": "nan",
         "id": 24261.5,
         "nametype": "nan",
         "recclass": "nan",
         "mass (g)": 32.6,
         "fall": "nan",
         "year": "nan",
         "reclat": -71.5,
         "reclong": 35.66667,
         "GeoLocation": "nan",
         "_deepnote_index_column": "50%"
        },
        {
         "name": "nan",
         "id": 40656.75,
         "nametype": "nan",
         "recclass": "nan",
         "mass (g)": 202.6,
         "fall": "nan",
         "year": "nan",
         "reclat": 0,
         "reclong": 157.16667,
         "GeoLocation": "nan",
         "_deepnote_index_column": "75%"
        },
        {
         "name": "nan",
         "id": 57458,
         "nametype": "nan",
         "recclass": "nan",
         "mass (g)": 60000000,
         "fall": "nan",
         "year": "nan",
         "reclat": 81.16667,
         "reclong": 354.47333,
         "GeoLocation": "nan",
         "_deepnote_index_column": "max"
        }
       ],
       "rows_bottom": null
      },
      "text/plain": "                name        id nametype recclass      mass (g)   fall  \\\ncount          45716 45,716.00    45716    45716     45,585.00  45716   \nunique         45716       NaN        2      466           NaN      2   \ntop     Asuka 881039       NaN    Valid       L6           NaN  Found   \nfreq               1       NaN    45641     8285           NaN  44609   \nmean             NaN 26,889.74      NaN      NaN     13,278.08    NaN   \nstd              NaN 16,860.68      NaN      NaN    574,988.88    NaN   \nmin              NaN      1.00      NaN      NaN          0.00    NaN   \n25%              NaN 12,688.75      NaN      NaN          7.20    NaN   \n50%              NaN 24,261.50      NaN      NaN         32.60    NaN   \n75%              NaN 40,656.75      NaN      NaN        202.60    NaN   \nmax              NaN 57,458.00      NaN      NaN 60,000,000.00    NaN   \n\n                          year    reclat   reclong GeoLocation  \ncount                    45425 38,401.00 38,401.00       38401  \nunique                     266       NaN       NaN       17100  \ntop     01/01/2003 12:00:00 AM       NaN       NaN  (0.0, 0.0)  \nfreq                      3323       NaN       NaN        6214  \nmean                       NaN    -39.12     61.07         NaN  \nstd                        NaN     46.38     80.65         NaN  \nmin                        NaN    -87.37   -165.43         NaN  \n25%                        NaN    -76.71      0.00         NaN  \n50%                        NaN    -71.50     35.67         NaN  \n75%                        NaN      0.00    157.17         NaN  \nmax                        NaN     81.17    354.47         NaN  ",
      "text/html": "<div>\n<style scoped>\n    .dataframe tbody tr th:only-of-type {\n        vertical-align: middle;\n    }\n\n    .dataframe tbody tr th {\n        vertical-align: top;\n    }\n\n    .dataframe thead th {\n        text-align: right;\n    }\n</style>\n<table border=\"1\" class=\"dataframe\">\n  <thead>\n    <tr style=\"text-align: right;\">\n      <th></th>\n      <th>name</th>\n      <th>id</th>\n      <th>nametype</th>\n      <th>recclass</th>\n      <th>mass (g)</th>\n      <th>fall</th>\n      <th>year</th>\n      <th>reclat</th>\n      <th>reclong</th>\n      <th>GeoLocation</th>\n    </tr>\n  </thead>\n  <tbody>\n    <tr>\n      <th>count</th>\n      <td>45716</td>\n      <td>45,716.00</td>\n      <td>45716</td>\n      <td>45716</td>\n      <td>45,585.00</td>\n      <td>45716</td>\n      <td>45425</td>\n      <td>38,401.00</td>\n      <td>38,401.00</td>\n      <td>38401</td>\n    </tr>\n    <tr>\n      <th>unique</th>\n      <td>45716</td>\n      <td>NaN</td>\n      <td>2</td>\n      <td>466</td>\n      <td>NaN</td>\n      <td>2</td>\n      <td>266</td>\n      <td>NaN</td>\n      <td>NaN</td>\n      <td>17100</td>\n    </tr>\n    <tr>\n      <th>top</th>\n      <td>Asuka 881039</td>\n      <td>NaN</td>\n      <td>Valid</td>\n      <td>L6</td>\n      <td>NaN</td>\n      <td>Found</td>\n      <td>01/01/2003 12:00:00 AM</td>\n      <td>NaN</td>\n      <td>NaN</td>\n      <td>(0.0, 0.0)</td>\n    </tr>\n    <tr>\n      <th>freq</th>\n      <td>1</td>\n      <td>NaN</td>\n      <td>45641</td>\n      <td>8285</td>\n      <td>NaN</td>\n      <td>44609</td>\n      <td>3323</td>\n      <td>NaN</td>\n      <td>NaN</td>\n      <td>6214</td>\n    </tr>\n    <tr>\n      <th>mean</th>\n      <td>NaN</td>\n      <td>26,889.74</td>\n      <td>NaN</td>\n      <td>NaN</td>\n      <td>13,278.08</td>\n      <td>NaN</td>\n      <td>NaN</td>\n      <td>-39.12</td>\n      <td>61.07</td>\n      <td>NaN</td>\n    </tr>\n    <tr>\n      <th>std</th>\n      <td>NaN</td>\n      <td>16,860.68</td>\n      <td>NaN</td>\n      <td>NaN</td>\n      <td>574,988.88</td>\n      <td>NaN</td>\n      <td>NaN</td>\n      <td>46.38</td>\n      <td>80.65</td>\n      <td>NaN</td>\n    </tr>\n    <tr>\n      <th>min</th>\n      <td>NaN</td>\n      <td>1.00</td>\n      <td>NaN</td>\n      <td>NaN</td>\n      <td>0.00</td>\n      <td>NaN</td>\n      <td>NaN</td>\n      <td>-87.37</td>\n      <td>-165.43</td>\n      <td>NaN</td>\n    </tr>\n    <tr>\n      <th>25%</th>\n      <td>NaN</td>\n      <td>12,688.75</td>\n      <td>NaN</td>\n      <td>NaN</td>\n      <td>7.20</td>\n      <td>NaN</td>\n      <td>NaN</td>\n      <td>-76.71</td>\n      <td>0.00</td>\n      <td>NaN</td>\n    </tr>\n    <tr>\n      <th>50%</th>\n      <td>NaN</td>\n      <td>24,261.50</td>\n      <td>NaN</td>\n      <td>NaN</td>\n      <td>32.60</td>\n      <td>NaN</td>\n      <td>NaN</td>\n      <td>-71.50</td>\n      <td>35.67</td>\n      <td>NaN</td>\n    </tr>\n    <tr>\n      <th>75%</th>\n      <td>NaN</td>\n      <td>40,656.75</td>\n      <td>NaN</td>\n      <td>NaN</td>\n      <td>202.60</td>\n      <td>NaN</td>\n      <td>NaN</td>\n      <td>0.00</td>\n      <td>157.17</td>\n      <td>NaN</td>\n    </tr>\n    <tr>\n      <th>max</th>\n      <td>NaN</td>\n      <td>57,458.00</td>\n      <td>NaN</td>\n      <td>NaN</td>\n      <td>60,000,000.00</td>\n      <td>NaN</td>\n      <td>NaN</td>\n      <td>81.17</td>\n      <td>354.47</td>\n      <td>NaN</td>\n    </tr>\n  </tbody>\n</table>\n</div>"
     },
     "metadata": {}
    }
   ]
  },
  {
   "cell_type": "markdown",
   "source": "## Informacion sobre las columnas del DataFrame",
   "metadata": {
    "tags": [],
    "cell_id": "00055-2f416767-011b-4d8e-9451-6c23fc4fa765",
    "deepnote_cell_type": "markdown"
   }
  },
  {
   "cell_type": "code",
   "metadata": {
    "tags": [],
    "cell_id": "00056-b2caaaa1-fdf4-46fb-826c-aa1e965a7098",
    "deepnote_to_be_reexecuted": false,
    "source_hash": "ae4c624b",
    "execution_start": 1625422640369,
    "execution_millis": 37,
    "deepnote_cell_type": "code"
   },
   "source": "df_meteorites.info()",
   "execution_count": null,
   "outputs": [
    {
     "name": "stdout",
     "text": "<class 'pandas.core.frame.DataFrame'>\nRangeIndex: 45716 entries, 0 to 45715\nData columns (total 10 columns):\n #   Column       Non-Null Count  Dtype  \n---  ------       --------------  -----  \n 0   name         45716 non-null  object \n 1   id           45716 non-null  int64  \n 2   nametype     45716 non-null  object \n 3   recclass     45716 non-null  object \n 4   mass (g)     45585 non-null  float64\n 5   fall         45716 non-null  object \n 6   year         45425 non-null  object \n 7   reclat       38401 non-null  float64\n 8   reclong      38401 non-null  float64\n 9   GeoLocation  38401 non-null  object \ndtypes: float64(3), int64(1), object(6)\nmemory usage: 3.5+ MB\n",
     "output_type": "stream"
    }
   ]
  },
  {
   "cell_type": "markdown",
   "source": "## convert_dtypes : Convierte las columnas en formatos adecuados. ",
   "metadata": {
    "tags": [],
    "cell_id": "00057-8b8306da-1e29-4d6c-aeca-9cbf56f87592",
    "deepnote_cell_type": "markdown"
   }
  },
  {
   "cell_type": "code",
   "metadata": {
    "tags": [],
    "cell_id": "00058-52f91e83-57b0-4b32-8ccb-a19ff2e3a74d",
    "deepnote_to_be_reexecuted": false,
    "source_hash": "ae3c892e",
    "execution_start": 1625422641802,
    "execution_millis": 55,
    "deepnote_cell_type": "code"
   },
   "source": "df_meteorites.convert_dtypes().dtypes",
   "execution_count": null,
   "outputs": [
    {
     "output_type": "execute_result",
     "execution_count": 26,
     "data": {
      "text/plain": "name            string\nid               Int64\nnametype        string\nrecclass        string\nmass (g)       Float64\nfall            string\nyear            string\nreclat         Float64\nreclong        Float64\nGeoLocation     string\ndtype: object"
     },
     "metadata": {}
    }
   ]
  },
  {
   "cell_type": "markdown",
   "source": "# Estructura del DataFrame\n[9]-tipo-de-variables-y-estructura.ipynb\n\nConvertimos la variable a una ** variable categorica**\n\nNos ayuda a reducir espacio de uso en los archivos y en la memoria RAM.",
   "metadata": {
    "tags": [],
    "cell_id": "00059-dbf9ad31-e830-4863-9d0f-f2c5694978cc",
    "deepnote_cell_type": "markdown"
   }
  },
  {
   "cell_type": "code",
   "metadata": {
    "tags": [],
    "cell_id": "00060-0889d983-5d01-4097-a2b4-6d37a4013d08",
    "deepnote_to_be_reexecuted": false,
    "source_hash": "b038e4bc",
    "execution_start": 1625422642851,
    "execution_millis": 30,
    "deepnote_cell_type": "code"
   },
   "source": "df_meteorites[['fall','nametype']] = df_meteorites[['fall','nametype']].astype('category')\ndf_meteorites.dtypes",
   "execution_count": null,
   "outputs": [
    {
     "output_type": "execute_result",
     "execution_count": 27,
     "data": {
      "text/plain": "name             object\nid                int64\nnametype       category\nrecclass         object\nmass (g)        float64\nfall           category\nyear             object\nreclat          float64\nreclong         float64\nGeoLocation      object\ndtype: object"
     },
     "metadata": {}
    }
   ]
  },
  {
   "cell_type": "markdown",
   "source": "## ge_dummies : Convierte las variables categoricas a un indicador dummies",
   "metadata": {
    "tags": [],
    "cell_id": "00059-01d20adc-0ac2-47f1-9180-ae58a2bb5af8",
    "deepnote_cell_type": "markdown"
   }
  },
  {
   "cell_type": "code",
   "metadata": {
    "tags": [],
    "cell_id": "00060-a1714b39-1e72-41af-84e1-1159c9d9d375",
    "deepnote_to_be_reexecuted": false,
    "source_hash": "84ffc9c9",
    "execution_start": 1625422643351,
    "execution_millis": 84,
    "deepnote_cell_type": "code"
   },
   "source": "pd.get_dummies(df_meteorites['fall'])",
   "execution_count": null,
   "outputs": [
    {
     "output_type": "execute_result",
     "execution_count": 28,
     "data": {
      "application/vnd.deepnote.dataframe.v2+json": {
       "row_count": 45716,
       "column_count": 2,
       "columns": [
        {
         "name": "Fell",
         "dtype": "uint8",
         "stats": {
          "unique_count": 2,
          "nan_count": 0,
          "min": "0",
          "max": "1",
          "histogram": [
           {
            "bin_start": 0,
            "bin_end": 0.1,
            "count": 44609
           },
           {
            "bin_start": 0.1,
            "bin_end": 0.2,
            "count": 0
           },
           {
            "bin_start": 0.2,
            "bin_end": 0.30000000000000004,
            "count": 0
           },
           {
            "bin_start": 0.30000000000000004,
            "bin_end": 0.4,
            "count": 0
           },
           {
            "bin_start": 0.4,
            "bin_end": 0.5,
            "count": 0
           },
           {
            "bin_start": 0.5,
            "bin_end": 0.6000000000000001,
            "count": 0
           },
           {
            "bin_start": 0.6000000000000001,
            "bin_end": 0.7000000000000001,
            "count": 0
           },
           {
            "bin_start": 0.7000000000000001,
            "bin_end": 0.8,
            "count": 0
           },
           {
            "bin_start": 0.8,
            "bin_end": 0.9,
            "count": 0
           },
           {
            "bin_start": 0.9,
            "bin_end": 1,
            "count": 1107
           }
          ]
         }
        },
        {
         "name": "Found",
         "dtype": "uint8",
         "stats": {
          "unique_count": 2,
          "nan_count": 0,
          "min": "0",
          "max": "1",
          "histogram": [
           {
            "bin_start": 0,
            "bin_end": 0.1,
            "count": 1107
           },
           {
            "bin_start": 0.1,
            "bin_end": 0.2,
            "count": 0
           },
           {
            "bin_start": 0.2,
            "bin_end": 0.30000000000000004,
            "count": 0
           },
           {
            "bin_start": 0.30000000000000004,
            "bin_end": 0.4,
            "count": 0
           },
           {
            "bin_start": 0.4,
            "bin_end": 0.5,
            "count": 0
           },
           {
            "bin_start": 0.5,
            "bin_end": 0.6000000000000001,
            "count": 0
           },
           {
            "bin_start": 0.6000000000000001,
            "bin_end": 0.7000000000000001,
            "count": 0
           },
           {
            "bin_start": 0.7000000000000001,
            "bin_end": 0.8,
            "count": 0
           },
           {
            "bin_start": 0.8,
            "bin_end": 0.9,
            "count": 0
           },
           {
            "bin_start": 0.9,
            "bin_end": 1,
            "count": 44609
           }
          ]
         }
        },
        {
         "name": "_deepnote_index_column",
         "dtype": "int64"
        }
       ],
       "rows_top": [
        {
         "Fell": 1,
         "Found": 0,
         "_deepnote_index_column": 0
        },
        {
         "Fell": 1,
         "Found": 0,
         "_deepnote_index_column": 1
        },
        {
         "Fell": 1,
         "Found": 0,
         "_deepnote_index_column": 2
        },
        {
         "Fell": 1,
         "Found": 0,
         "_deepnote_index_column": 3
        },
        {
         "Fell": 1,
         "Found": 0,
         "_deepnote_index_column": 4
        },
        {
         "Fell": 1,
         "Found": 0,
         "_deepnote_index_column": 5
        },
        {
         "Fell": 1,
         "Found": 0,
         "_deepnote_index_column": 6
        },
        {
         "Fell": 1,
         "Found": 0,
         "_deepnote_index_column": 7
        },
        {
         "Fell": 1,
         "Found": 0,
         "_deepnote_index_column": 8
        },
        {
         "Fell": 1,
         "Found": 0,
         "_deepnote_index_column": 9
        },
        {
         "Fell": 1,
         "Found": 0,
         "_deepnote_index_column": 10
        },
        {
         "Fell": 1,
         "Found": 0,
         "_deepnote_index_column": 11
        },
        {
         "Fell": 1,
         "Found": 0,
         "_deepnote_index_column": 12
        },
        {
         "Fell": 1,
         "Found": 0,
         "_deepnote_index_column": 13
        },
        {
         "Fell": 1,
         "Found": 0,
         "_deepnote_index_column": 14
        },
        {
         "Fell": 1,
         "Found": 0,
         "_deepnote_index_column": 15
        },
        {
         "Fell": 1,
         "Found": 0,
         "_deepnote_index_column": 16
        },
        {
         "Fell": 1,
         "Found": 0,
         "_deepnote_index_column": 17
        },
        {
         "Fell": 1,
         "Found": 0,
         "_deepnote_index_column": 18
        },
        {
         "Fell": 1,
         "Found": 0,
         "_deepnote_index_column": 19
        },
        {
         "Fell": 1,
         "Found": 0,
         "_deepnote_index_column": 20
        },
        {
         "Fell": 1,
         "Found": 0,
         "_deepnote_index_column": 21
        },
        {
         "Fell": 1,
         "Found": 0,
         "_deepnote_index_column": 22
        },
        {
         "Fell": 1,
         "Found": 0,
         "_deepnote_index_column": 23
        },
        {
         "Fell": 1,
         "Found": 0,
         "_deepnote_index_column": 24
        },
        {
         "Fell": 1,
         "Found": 0,
         "_deepnote_index_column": 25
        },
        {
         "Fell": 1,
         "Found": 0,
         "_deepnote_index_column": 26
        },
        {
         "Fell": 1,
         "Found": 0,
         "_deepnote_index_column": 27
        },
        {
         "Fell": 1,
         "Found": 0,
         "_deepnote_index_column": 28
        },
        {
         "Fell": 1,
         "Found": 0,
         "_deepnote_index_column": 29
        },
        {
         "Fell": 1,
         "Found": 0,
         "_deepnote_index_column": 30
        },
        {
         "Fell": 1,
         "Found": 0,
         "_deepnote_index_column": 31
        },
        {
         "Fell": 1,
         "Found": 0,
         "_deepnote_index_column": 32
        },
        {
         "Fell": 1,
         "Found": 0,
         "_deepnote_index_column": 33
        },
        {
         "Fell": 1,
         "Found": 0,
         "_deepnote_index_column": 34
        },
        {
         "Fell": 1,
         "Found": 0,
         "_deepnote_index_column": 35
        },
        {
         "Fell": 1,
         "Found": 0,
         "_deepnote_index_column": 36
        },
        {
         "Fell": 0,
         "Found": 1,
         "_deepnote_index_column": 37
        },
        {
         "Fell": 1,
         "Found": 0,
         "_deepnote_index_column": 38
        },
        {
         "Fell": 1,
         "Found": 0,
         "_deepnote_index_column": 39
        },
        {
         "Fell": 1,
         "Found": 0,
         "_deepnote_index_column": 40
        },
        {
         "Fell": 1,
         "Found": 0,
         "_deepnote_index_column": 41
        },
        {
         "Fell": 1,
         "Found": 0,
         "_deepnote_index_column": 42
        },
        {
         "Fell": 1,
         "Found": 0,
         "_deepnote_index_column": 43
        },
        {
         "Fell": 1,
         "Found": 0,
         "_deepnote_index_column": 44
        },
        {
         "Fell": 1,
         "Found": 0,
         "_deepnote_index_column": 45
        },
        {
         "Fell": 1,
         "Found": 0,
         "_deepnote_index_column": 46
        },
        {
         "Fell": 1,
         "Found": 0,
         "_deepnote_index_column": 47
        },
        {
         "Fell": 1,
         "Found": 0,
         "_deepnote_index_column": 48
        },
        {
         "Fell": 1,
         "Found": 0,
         "_deepnote_index_column": 49
        },
        {
         "Fell": 1,
         "Found": 0,
         "_deepnote_index_column": 50
        },
        {
         "Fell": 1,
         "Found": 0,
         "_deepnote_index_column": 51
        },
        {
         "Fell": 1,
         "Found": 0,
         "_deepnote_index_column": 52
        },
        {
         "Fell": 1,
         "Found": 0,
         "_deepnote_index_column": 53
        },
        {
         "Fell": 1,
         "Found": 0,
         "_deepnote_index_column": 54
        },
        {
         "Fell": 1,
         "Found": 0,
         "_deepnote_index_column": 55
        },
        {
         "Fell": 1,
         "Found": 0,
         "_deepnote_index_column": 56
        },
        {
         "Fell": 1,
         "Found": 0,
         "_deepnote_index_column": 57
        },
        {
         "Fell": 1,
         "Found": 0,
         "_deepnote_index_column": 58
        },
        {
         "Fell": 1,
         "Found": 0,
         "_deepnote_index_column": 59
        },
        {
         "Fell": 1,
         "Found": 0,
         "_deepnote_index_column": 60
        },
        {
         "Fell": 1,
         "Found": 0,
         "_deepnote_index_column": 61
        },
        {
         "Fell": 1,
         "Found": 0,
         "_deepnote_index_column": 62
        },
        {
         "Fell": 1,
         "Found": 0,
         "_deepnote_index_column": 63
        },
        {
         "Fell": 1,
         "Found": 0,
         "_deepnote_index_column": 64
        },
        {
         "Fell": 1,
         "Found": 0,
         "_deepnote_index_column": 65
        },
        {
         "Fell": 1,
         "Found": 0,
         "_deepnote_index_column": 66
        },
        {
         "Fell": 1,
         "Found": 0,
         "_deepnote_index_column": 67
        },
        {
         "Fell": 1,
         "Found": 0,
         "_deepnote_index_column": 68
        },
        {
         "Fell": 1,
         "Found": 0,
         "_deepnote_index_column": 69
        },
        {
         "Fell": 1,
         "Found": 0,
         "_deepnote_index_column": 70
        },
        {
         "Fell": 1,
         "Found": 0,
         "_deepnote_index_column": 71
        },
        {
         "Fell": 1,
         "Found": 0,
         "_deepnote_index_column": 72
        },
        {
         "Fell": 1,
         "Found": 0,
         "_deepnote_index_column": 73
        },
        {
         "Fell": 1,
         "Found": 0,
         "_deepnote_index_column": 74
        },
        {
         "Fell": 1,
         "Found": 0,
         "_deepnote_index_column": 75
        },
        {
         "Fell": 1,
         "Found": 0,
         "_deepnote_index_column": 76
        },
        {
         "Fell": 1,
         "Found": 0,
         "_deepnote_index_column": 77
        },
        {
         "Fell": 1,
         "Found": 0,
         "_deepnote_index_column": 78
        },
        {
         "Fell": 1,
         "Found": 0,
         "_deepnote_index_column": 79
        },
        {
         "Fell": 1,
         "Found": 0,
         "_deepnote_index_column": 80
        },
        {
         "Fell": 1,
         "Found": 0,
         "_deepnote_index_column": 81
        },
        {
         "Fell": 1,
         "Found": 0,
         "_deepnote_index_column": 82
        },
        {
         "Fell": 1,
         "Found": 0,
         "_deepnote_index_column": 83
        },
        {
         "Fell": 1,
         "Found": 0,
         "_deepnote_index_column": 84
        },
        {
         "Fell": 1,
         "Found": 0,
         "_deepnote_index_column": 85
        },
        {
         "Fell": 1,
         "Found": 0,
         "_deepnote_index_column": 86
        },
        {
         "Fell": 1,
         "Found": 0,
         "_deepnote_index_column": 87
        },
        {
         "Fell": 1,
         "Found": 0,
         "_deepnote_index_column": 88
        },
        {
         "Fell": 1,
         "Found": 0,
         "_deepnote_index_column": 89
        },
        {
         "Fell": 1,
         "Found": 0,
         "_deepnote_index_column": 90
        },
        {
         "Fell": 1,
         "Found": 0,
         "_deepnote_index_column": 91
        },
        {
         "Fell": 1,
         "Found": 0,
         "_deepnote_index_column": 92
        },
        {
         "Fell": 1,
         "Found": 0,
         "_deepnote_index_column": 93
        },
        {
         "Fell": 1,
         "Found": 0,
         "_deepnote_index_column": 94
        },
        {
         "Fell": 1,
         "Found": 0,
         "_deepnote_index_column": 95
        },
        {
         "Fell": 1,
         "Found": 0,
         "_deepnote_index_column": 96
        },
        {
         "Fell": 1,
         "Found": 0,
         "_deepnote_index_column": 97
        },
        {
         "Fell": 1,
         "Found": 0,
         "_deepnote_index_column": 98
        },
        {
         "Fell": 1,
         "Found": 0,
         "_deepnote_index_column": 99
        },
        {
         "Fell": 1,
         "Found": 0,
         "_deepnote_index_column": 100
        },
        {
         "Fell": 1,
         "Found": 0,
         "_deepnote_index_column": 101
        },
        {
         "Fell": 1,
         "Found": 0,
         "_deepnote_index_column": 102
        },
        {
         "Fell": 1,
         "Found": 0,
         "_deepnote_index_column": 103
        },
        {
         "Fell": 1,
         "Found": 0,
         "_deepnote_index_column": 104
        },
        {
         "Fell": 1,
         "Found": 0,
         "_deepnote_index_column": 105
        },
        {
         "Fell": 1,
         "Found": 0,
         "_deepnote_index_column": 106
        },
        {
         "Fell": 1,
         "Found": 0,
         "_deepnote_index_column": 107
        },
        {
         "Fell": 1,
         "Found": 0,
         "_deepnote_index_column": 108
        },
        {
         "Fell": 1,
         "Found": 0,
         "_deepnote_index_column": 109
        },
        {
         "Fell": 1,
         "Found": 0,
         "_deepnote_index_column": 110
        },
        {
         "Fell": 1,
         "Found": 0,
         "_deepnote_index_column": 111
        },
        {
         "Fell": 1,
         "Found": 0,
         "_deepnote_index_column": 112
        },
        {
         "Fell": 1,
         "Found": 0,
         "_deepnote_index_column": 113
        },
        {
         "Fell": 1,
         "Found": 0,
         "_deepnote_index_column": 114
        },
        {
         "Fell": 1,
         "Found": 0,
         "_deepnote_index_column": 115
        },
        {
         "Fell": 1,
         "Found": 0,
         "_deepnote_index_column": 116
        },
        {
         "Fell": 1,
         "Found": 0,
         "_deepnote_index_column": 117
        },
        {
         "Fell": 1,
         "Found": 0,
         "_deepnote_index_column": 118
        },
        {
         "Fell": 1,
         "Found": 0,
         "_deepnote_index_column": 119
        },
        {
         "Fell": 1,
         "Found": 0,
         "_deepnote_index_column": 120
        },
        {
         "Fell": 1,
         "Found": 0,
         "_deepnote_index_column": 121
        },
        {
         "Fell": 1,
         "Found": 0,
         "_deepnote_index_column": 122
        },
        {
         "Fell": 1,
         "Found": 0,
         "_deepnote_index_column": 123
        },
        {
         "Fell": 1,
         "Found": 0,
         "_deepnote_index_column": 124
        },
        {
         "Fell": 1,
         "Found": 0,
         "_deepnote_index_column": 125
        },
        {
         "Fell": 1,
         "Found": 0,
         "_deepnote_index_column": 126
        },
        {
         "Fell": 1,
         "Found": 0,
         "_deepnote_index_column": 127
        },
        {
         "Fell": 1,
         "Found": 0,
         "_deepnote_index_column": 128
        },
        {
         "Fell": 1,
         "Found": 0,
         "_deepnote_index_column": 129
        },
        {
         "Fell": 1,
         "Found": 0,
         "_deepnote_index_column": 130
        },
        {
         "Fell": 1,
         "Found": 0,
         "_deepnote_index_column": 131
        },
        {
         "Fell": 1,
         "Found": 0,
         "_deepnote_index_column": 132
        },
        {
         "Fell": 1,
         "Found": 0,
         "_deepnote_index_column": 133
        },
        {
         "Fell": 1,
         "Found": 0,
         "_deepnote_index_column": 134
        },
        {
         "Fell": 1,
         "Found": 0,
         "_deepnote_index_column": 135
        },
        {
         "Fell": 1,
         "Found": 0,
         "_deepnote_index_column": 136
        },
        {
         "Fell": 1,
         "Found": 0,
         "_deepnote_index_column": 137
        },
        {
         "Fell": 1,
         "Found": 0,
         "_deepnote_index_column": 138
        },
        {
         "Fell": 1,
         "Found": 0,
         "_deepnote_index_column": 139
        },
        {
         "Fell": 1,
         "Found": 0,
         "_deepnote_index_column": 140
        },
        {
         "Fell": 1,
         "Found": 0,
         "_deepnote_index_column": 141
        },
        {
         "Fell": 1,
         "Found": 0,
         "_deepnote_index_column": 142
        },
        {
         "Fell": 1,
         "Found": 0,
         "_deepnote_index_column": 143
        },
        {
         "Fell": 1,
         "Found": 0,
         "_deepnote_index_column": 144
        },
        {
         "Fell": 1,
         "Found": 0,
         "_deepnote_index_column": 145
        },
        {
         "Fell": 1,
         "Found": 0,
         "_deepnote_index_column": 146
        },
        {
         "Fell": 1,
         "Found": 0,
         "_deepnote_index_column": 147
        },
        {
         "Fell": 1,
         "Found": 0,
         "_deepnote_index_column": 148
        },
        {
         "Fell": 1,
         "Found": 0,
         "_deepnote_index_column": 149
        },
        {
         "Fell": 1,
         "Found": 0,
         "_deepnote_index_column": 150
        },
        {
         "Fell": 1,
         "Found": 0,
         "_deepnote_index_column": 151
        },
        {
         "Fell": 1,
         "Found": 0,
         "_deepnote_index_column": 152
        },
        {
         "Fell": 1,
         "Found": 0,
         "_deepnote_index_column": 153
        },
        {
         "Fell": 1,
         "Found": 0,
         "_deepnote_index_column": 154
        },
        {
         "Fell": 1,
         "Found": 0,
         "_deepnote_index_column": 155
        },
        {
         "Fell": 1,
         "Found": 0,
         "_deepnote_index_column": 156
        },
        {
         "Fell": 1,
         "Found": 0,
         "_deepnote_index_column": 157
        },
        {
         "Fell": 1,
         "Found": 0,
         "_deepnote_index_column": 158
        },
        {
         "Fell": 1,
         "Found": 0,
         "_deepnote_index_column": 159
        },
        {
         "Fell": 1,
         "Found": 0,
         "_deepnote_index_column": 160
        },
        {
         "Fell": 1,
         "Found": 0,
         "_deepnote_index_column": 161
        },
        {
         "Fell": 1,
         "Found": 0,
         "_deepnote_index_column": 162
        },
        {
         "Fell": 1,
         "Found": 0,
         "_deepnote_index_column": 163
        },
        {
         "Fell": 1,
         "Found": 0,
         "_deepnote_index_column": 164
        },
        {
         "Fell": 1,
         "Found": 0,
         "_deepnote_index_column": 165
        },
        {
         "Fell": 1,
         "Found": 0,
         "_deepnote_index_column": 166
        },
        {
         "Fell": 1,
         "Found": 0,
         "_deepnote_index_column": 167
        },
        {
         "Fell": 1,
         "Found": 0,
         "_deepnote_index_column": 168
        },
        {
         "Fell": 1,
         "Found": 0,
         "_deepnote_index_column": 169
        },
        {
         "Fell": 1,
         "Found": 0,
         "_deepnote_index_column": 170
        },
        {
         "Fell": 1,
         "Found": 0,
         "_deepnote_index_column": 171
        },
        {
         "Fell": 1,
         "Found": 0,
         "_deepnote_index_column": 172
        },
        {
         "Fell": 1,
         "Found": 0,
         "_deepnote_index_column": 173
        },
        {
         "Fell": 1,
         "Found": 0,
         "_deepnote_index_column": 174
        },
        {
         "Fell": 1,
         "Found": 0,
         "_deepnote_index_column": 175
        },
        {
         "Fell": 1,
         "Found": 0,
         "_deepnote_index_column": 176
        },
        {
         "Fell": 1,
         "Found": 0,
         "_deepnote_index_column": 177
        },
        {
         "Fell": 1,
         "Found": 0,
         "_deepnote_index_column": 178
        },
        {
         "Fell": 1,
         "Found": 0,
         "_deepnote_index_column": 179
        },
        {
         "Fell": 1,
         "Found": 0,
         "_deepnote_index_column": 180
        },
        {
         "Fell": 1,
         "Found": 0,
         "_deepnote_index_column": 181
        },
        {
         "Fell": 1,
         "Found": 0,
         "_deepnote_index_column": 182
        },
        {
         "Fell": 1,
         "Found": 0,
         "_deepnote_index_column": 183
        },
        {
         "Fell": 1,
         "Found": 0,
         "_deepnote_index_column": 184
        },
        {
         "Fell": 1,
         "Found": 0,
         "_deepnote_index_column": 185
        },
        {
         "Fell": 1,
         "Found": 0,
         "_deepnote_index_column": 186
        },
        {
         "Fell": 1,
         "Found": 0,
         "_deepnote_index_column": 187
        },
        {
         "Fell": 1,
         "Found": 0,
         "_deepnote_index_column": 188
        },
        {
         "Fell": 1,
         "Found": 0,
         "_deepnote_index_column": 189
        },
        {
         "Fell": 1,
         "Found": 0,
         "_deepnote_index_column": 190
        },
        {
         "Fell": 1,
         "Found": 0,
         "_deepnote_index_column": 191
        },
        {
         "Fell": 1,
         "Found": 0,
         "_deepnote_index_column": 192
        },
        {
         "Fell": 1,
         "Found": 0,
         "_deepnote_index_column": 193
        },
        {
         "Fell": 1,
         "Found": 0,
         "_deepnote_index_column": 194
        },
        {
         "Fell": 1,
         "Found": 0,
         "_deepnote_index_column": 195
        },
        {
         "Fell": 1,
         "Found": 0,
         "_deepnote_index_column": 196
        },
        {
         "Fell": 1,
         "Found": 0,
         "_deepnote_index_column": 197
        },
        {
         "Fell": 1,
         "Found": 0,
         "_deepnote_index_column": 198
        },
        {
         "Fell": 1,
         "Found": 0,
         "_deepnote_index_column": 199
        },
        {
         "Fell": 1,
         "Found": 0,
         "_deepnote_index_column": 200
        },
        {
         "Fell": 1,
         "Found": 0,
         "_deepnote_index_column": 201
        },
        {
         "Fell": 1,
         "Found": 0,
         "_deepnote_index_column": 202
        },
        {
         "Fell": 1,
         "Found": 0,
         "_deepnote_index_column": 203
        },
        {
         "Fell": 1,
         "Found": 0,
         "_deepnote_index_column": 204
        },
        {
         "Fell": 1,
         "Found": 0,
         "_deepnote_index_column": 205
        },
        {
         "Fell": 1,
         "Found": 0,
         "_deepnote_index_column": 206
        },
        {
         "Fell": 1,
         "Found": 0,
         "_deepnote_index_column": 207
        },
        {
         "Fell": 1,
         "Found": 0,
         "_deepnote_index_column": 208
        },
        {
         "Fell": 1,
         "Found": 0,
         "_deepnote_index_column": 209
        },
        {
         "Fell": 1,
         "Found": 0,
         "_deepnote_index_column": 210
        },
        {
         "Fell": 1,
         "Found": 0,
         "_deepnote_index_column": 211
        },
        {
         "Fell": 1,
         "Found": 0,
         "_deepnote_index_column": 212
        },
        {
         "Fell": 1,
         "Found": 0,
         "_deepnote_index_column": 213
        },
        {
         "Fell": 1,
         "Found": 0,
         "_deepnote_index_column": 214
        },
        {
         "Fell": 1,
         "Found": 0,
         "_deepnote_index_column": 215
        },
        {
         "Fell": 1,
         "Found": 0,
         "_deepnote_index_column": 216
        },
        {
         "Fell": 1,
         "Found": 0,
         "_deepnote_index_column": 217
        },
        {
         "Fell": 1,
         "Found": 0,
         "_deepnote_index_column": 218
        },
        {
         "Fell": 1,
         "Found": 0,
         "_deepnote_index_column": 219
        },
        {
         "Fell": 1,
         "Found": 0,
         "_deepnote_index_column": 220
        },
        {
         "Fell": 1,
         "Found": 0,
         "_deepnote_index_column": 221
        },
        {
         "Fell": 1,
         "Found": 0,
         "_deepnote_index_column": 222
        },
        {
         "Fell": 1,
         "Found": 0,
         "_deepnote_index_column": 223
        },
        {
         "Fell": 1,
         "Found": 0,
         "_deepnote_index_column": 224
        },
        {
         "Fell": 1,
         "Found": 0,
         "_deepnote_index_column": 225
        },
        {
         "Fell": 1,
         "Found": 0,
         "_deepnote_index_column": 226
        },
        {
         "Fell": 1,
         "Found": 0,
         "_deepnote_index_column": 227
        },
        {
         "Fell": 1,
         "Found": 0,
         "_deepnote_index_column": 228
        },
        {
         "Fell": 1,
         "Found": 0,
         "_deepnote_index_column": 229
        },
        {
         "Fell": 1,
         "Found": 0,
         "_deepnote_index_column": 230
        },
        {
         "Fell": 1,
         "Found": 0,
         "_deepnote_index_column": 231
        },
        {
         "Fell": 1,
         "Found": 0,
         "_deepnote_index_column": 232
        },
        {
         "Fell": 1,
         "Found": 0,
         "_deepnote_index_column": 233
        },
        {
         "Fell": 1,
         "Found": 0,
         "_deepnote_index_column": 234
        },
        {
         "Fell": 1,
         "Found": 0,
         "_deepnote_index_column": 235
        },
        {
         "Fell": 1,
         "Found": 0,
         "_deepnote_index_column": 236
        },
        {
         "Fell": 1,
         "Found": 0,
         "_deepnote_index_column": 237
        },
        {
         "Fell": 1,
         "Found": 0,
         "_deepnote_index_column": 238
        },
        {
         "Fell": 1,
         "Found": 0,
         "_deepnote_index_column": 239
        },
        {
         "Fell": 1,
         "Found": 0,
         "_deepnote_index_column": 240
        },
        {
         "Fell": 1,
         "Found": 0,
         "_deepnote_index_column": 241
        },
        {
         "Fell": 1,
         "Found": 0,
         "_deepnote_index_column": 242
        },
        {
         "Fell": 1,
         "Found": 0,
         "_deepnote_index_column": 243
        },
        {
         "Fell": 1,
         "Found": 0,
         "_deepnote_index_column": 244
        },
        {
         "Fell": 1,
         "Found": 0,
         "_deepnote_index_column": 245
        },
        {
         "Fell": 1,
         "Found": 0,
         "_deepnote_index_column": 246
        },
        {
         "Fell": 1,
         "Found": 0,
         "_deepnote_index_column": 247
        },
        {
         "Fell": 1,
         "Found": 0,
         "_deepnote_index_column": 248
        },
        {
         "Fell": 1,
         "Found": 0,
         "_deepnote_index_column": 249
        }
       ],
       "rows_bottom": [
        {
         "Fell": 0,
         "Found": 1,
         "_deepnote_index_column": 45466
        },
        {
         "Fell": 0,
         "Found": 1,
         "_deepnote_index_column": 45467
        },
        {
         "Fell": 0,
         "Found": 1,
         "_deepnote_index_column": 45468
        },
        {
         "Fell": 0,
         "Found": 1,
         "_deepnote_index_column": 45469
        },
        {
         "Fell": 0,
         "Found": 1,
         "_deepnote_index_column": 45470
        },
        {
         "Fell": 0,
         "Found": 1,
         "_deepnote_index_column": 45471
        },
        {
         "Fell": 0,
         "Found": 1,
         "_deepnote_index_column": 45472
        },
        {
         "Fell": 0,
         "Found": 1,
         "_deepnote_index_column": 45473
        },
        {
         "Fell": 0,
         "Found": 1,
         "_deepnote_index_column": 45474
        },
        {
         "Fell": 0,
         "Found": 1,
         "_deepnote_index_column": 45475
        },
        {
         "Fell": 0,
         "Found": 1,
         "_deepnote_index_column": 45476
        },
        {
         "Fell": 0,
         "Found": 1,
         "_deepnote_index_column": 45477
        },
        {
         "Fell": 0,
         "Found": 1,
         "_deepnote_index_column": 45478
        },
        {
         "Fell": 0,
         "Found": 1,
         "_deepnote_index_column": 45479
        },
        {
         "Fell": 0,
         "Found": 1,
         "_deepnote_index_column": 45480
        },
        {
         "Fell": 0,
         "Found": 1,
         "_deepnote_index_column": 45481
        },
        {
         "Fell": 0,
         "Found": 1,
         "_deepnote_index_column": 45482
        },
        {
         "Fell": 0,
         "Found": 1,
         "_deepnote_index_column": 45483
        },
        {
         "Fell": 0,
         "Found": 1,
         "_deepnote_index_column": 45484
        },
        {
         "Fell": 0,
         "Found": 1,
         "_deepnote_index_column": 45485
        },
        {
         "Fell": 0,
         "Found": 1,
         "_deepnote_index_column": 45486
        },
        {
         "Fell": 0,
         "Found": 1,
         "_deepnote_index_column": 45487
        },
        {
         "Fell": 0,
         "Found": 1,
         "_deepnote_index_column": 45488
        },
        {
         "Fell": 0,
         "Found": 1,
         "_deepnote_index_column": 45489
        },
        {
         "Fell": 0,
         "Found": 1,
         "_deepnote_index_column": 45490
        },
        {
         "Fell": 0,
         "Found": 1,
         "_deepnote_index_column": 45491
        },
        {
         "Fell": 0,
         "Found": 1,
         "_deepnote_index_column": 45492
        },
        {
         "Fell": 0,
         "Found": 1,
         "_deepnote_index_column": 45493
        },
        {
         "Fell": 0,
         "Found": 1,
         "_deepnote_index_column": 45494
        },
        {
         "Fell": 0,
         "Found": 1,
         "_deepnote_index_column": 45495
        },
        {
         "Fell": 0,
         "Found": 1,
         "_deepnote_index_column": 45496
        },
        {
         "Fell": 0,
         "Found": 1,
         "_deepnote_index_column": 45497
        },
        {
         "Fell": 0,
         "Found": 1,
         "_deepnote_index_column": 45498
        },
        {
         "Fell": 0,
         "Found": 1,
         "_deepnote_index_column": 45499
        },
        {
         "Fell": 0,
         "Found": 1,
         "_deepnote_index_column": 45500
        },
        {
         "Fell": 0,
         "Found": 1,
         "_deepnote_index_column": 45501
        },
        {
         "Fell": 0,
         "Found": 1,
         "_deepnote_index_column": 45502
        },
        {
         "Fell": 0,
         "Found": 1,
         "_deepnote_index_column": 45503
        },
        {
         "Fell": 0,
         "Found": 1,
         "_deepnote_index_column": 45504
        },
        {
         "Fell": 0,
         "Found": 1,
         "_deepnote_index_column": 45505
        },
        {
         "Fell": 0,
         "Found": 1,
         "_deepnote_index_column": 45506
        },
        {
         "Fell": 0,
         "Found": 1,
         "_deepnote_index_column": 45507
        },
        {
         "Fell": 0,
         "Found": 1,
         "_deepnote_index_column": 45508
        },
        {
         "Fell": 0,
         "Found": 1,
         "_deepnote_index_column": 45509
        },
        {
         "Fell": 0,
         "Found": 1,
         "_deepnote_index_column": 45510
        },
        {
         "Fell": 0,
         "Found": 1,
         "_deepnote_index_column": 45511
        },
        {
         "Fell": 0,
         "Found": 1,
         "_deepnote_index_column": 45512
        },
        {
         "Fell": 0,
         "Found": 1,
         "_deepnote_index_column": 45513
        },
        {
         "Fell": 0,
         "Found": 1,
         "_deepnote_index_column": 45514
        },
        {
         "Fell": 0,
         "Found": 1,
         "_deepnote_index_column": 45515
        },
        {
         "Fell": 0,
         "Found": 1,
         "_deepnote_index_column": 45516
        },
        {
         "Fell": 0,
         "Found": 1,
         "_deepnote_index_column": 45517
        },
        {
         "Fell": 0,
         "Found": 1,
         "_deepnote_index_column": 45518
        },
        {
         "Fell": 0,
         "Found": 1,
         "_deepnote_index_column": 45519
        },
        {
         "Fell": 0,
         "Found": 1,
         "_deepnote_index_column": 45520
        },
        {
         "Fell": 0,
         "Found": 1,
         "_deepnote_index_column": 45521
        },
        {
         "Fell": 0,
         "Found": 1,
         "_deepnote_index_column": 45522
        },
        {
         "Fell": 0,
         "Found": 1,
         "_deepnote_index_column": 45523
        },
        {
         "Fell": 0,
         "Found": 1,
         "_deepnote_index_column": 45524
        },
        {
         "Fell": 0,
         "Found": 1,
         "_deepnote_index_column": 45525
        },
        {
         "Fell": 0,
         "Found": 1,
         "_deepnote_index_column": 45526
        },
        {
         "Fell": 0,
         "Found": 1,
         "_deepnote_index_column": 45527
        },
        {
         "Fell": 0,
         "Found": 1,
         "_deepnote_index_column": 45528
        },
        {
         "Fell": 0,
         "Found": 1,
         "_deepnote_index_column": 45529
        },
        {
         "Fell": 0,
         "Found": 1,
         "_deepnote_index_column": 45530
        },
        {
         "Fell": 0,
         "Found": 1,
         "_deepnote_index_column": 45531
        },
        {
         "Fell": 0,
         "Found": 1,
         "_deepnote_index_column": 45532
        },
        {
         "Fell": 0,
         "Found": 1,
         "_deepnote_index_column": 45533
        },
        {
         "Fell": 0,
         "Found": 1,
         "_deepnote_index_column": 45534
        },
        {
         "Fell": 0,
         "Found": 1,
         "_deepnote_index_column": 45535
        },
        {
         "Fell": 0,
         "Found": 1,
         "_deepnote_index_column": 45536
        },
        {
         "Fell": 0,
         "Found": 1,
         "_deepnote_index_column": 45537
        },
        {
         "Fell": 0,
         "Found": 1,
         "_deepnote_index_column": 45538
        },
        {
         "Fell": 0,
         "Found": 1,
         "_deepnote_index_column": 45539
        },
        {
         "Fell": 0,
         "Found": 1,
         "_deepnote_index_column": 45540
        },
        {
         "Fell": 0,
         "Found": 1,
         "_deepnote_index_column": 45541
        },
        {
         "Fell": 0,
         "Found": 1,
         "_deepnote_index_column": 45542
        },
        {
         "Fell": 0,
         "Found": 1,
         "_deepnote_index_column": 45543
        },
        {
         "Fell": 0,
         "Found": 1,
         "_deepnote_index_column": 45544
        },
        {
         "Fell": 0,
         "Found": 1,
         "_deepnote_index_column": 45545
        },
        {
         "Fell": 0,
         "Found": 1,
         "_deepnote_index_column": 45546
        },
        {
         "Fell": 0,
         "Found": 1,
         "_deepnote_index_column": 45547
        },
        {
         "Fell": 0,
         "Found": 1,
         "_deepnote_index_column": 45548
        },
        {
         "Fell": 0,
         "Found": 1,
         "_deepnote_index_column": 45549
        },
        {
         "Fell": 0,
         "Found": 1,
         "_deepnote_index_column": 45550
        },
        {
         "Fell": 0,
         "Found": 1,
         "_deepnote_index_column": 45551
        },
        {
         "Fell": 0,
         "Found": 1,
         "_deepnote_index_column": 45552
        },
        {
         "Fell": 0,
         "Found": 1,
         "_deepnote_index_column": 45553
        },
        {
         "Fell": 0,
         "Found": 1,
         "_deepnote_index_column": 45554
        },
        {
         "Fell": 0,
         "Found": 1,
         "_deepnote_index_column": 45555
        },
        {
         "Fell": 0,
         "Found": 1,
         "_deepnote_index_column": 45556
        },
        {
         "Fell": 0,
         "Found": 1,
         "_deepnote_index_column": 45557
        },
        {
         "Fell": 0,
         "Found": 1,
         "_deepnote_index_column": 45558
        },
        {
         "Fell": 0,
         "Found": 1,
         "_deepnote_index_column": 45559
        },
        {
         "Fell": 0,
         "Found": 1,
         "_deepnote_index_column": 45560
        },
        {
         "Fell": 0,
         "Found": 1,
         "_deepnote_index_column": 45561
        },
        {
         "Fell": 0,
         "Found": 1,
         "_deepnote_index_column": 45562
        },
        {
         "Fell": 0,
         "Found": 1,
         "_deepnote_index_column": 45563
        },
        {
         "Fell": 0,
         "Found": 1,
         "_deepnote_index_column": 45564
        },
        {
         "Fell": 0,
         "Found": 1,
         "_deepnote_index_column": 45565
        },
        {
         "Fell": 0,
         "Found": 1,
         "_deepnote_index_column": 45566
        },
        {
         "Fell": 0,
         "Found": 1,
         "_deepnote_index_column": 45567
        },
        {
         "Fell": 0,
         "Found": 1,
         "_deepnote_index_column": 45568
        },
        {
         "Fell": 0,
         "Found": 1,
         "_deepnote_index_column": 45569
        },
        {
         "Fell": 0,
         "Found": 1,
         "_deepnote_index_column": 45570
        },
        {
         "Fell": 0,
         "Found": 1,
         "_deepnote_index_column": 45571
        },
        {
         "Fell": 0,
         "Found": 1,
         "_deepnote_index_column": 45572
        },
        {
         "Fell": 0,
         "Found": 1,
         "_deepnote_index_column": 45573
        },
        {
         "Fell": 0,
         "Found": 1,
         "_deepnote_index_column": 45574
        },
        {
         "Fell": 0,
         "Found": 1,
         "_deepnote_index_column": 45575
        },
        {
         "Fell": 0,
         "Found": 1,
         "_deepnote_index_column": 45576
        },
        {
         "Fell": 0,
         "Found": 1,
         "_deepnote_index_column": 45577
        },
        {
         "Fell": 0,
         "Found": 1,
         "_deepnote_index_column": 45578
        },
        {
         "Fell": 0,
         "Found": 1,
         "_deepnote_index_column": 45579
        },
        {
         "Fell": 0,
         "Found": 1,
         "_deepnote_index_column": 45580
        },
        {
         "Fell": 0,
         "Found": 1,
         "_deepnote_index_column": 45581
        },
        {
         "Fell": 0,
         "Found": 1,
         "_deepnote_index_column": 45582
        },
        {
         "Fell": 0,
         "Found": 1,
         "_deepnote_index_column": 45583
        },
        {
         "Fell": 0,
         "Found": 1,
         "_deepnote_index_column": 45584
        },
        {
         "Fell": 0,
         "Found": 1,
         "_deepnote_index_column": 45585
        },
        {
         "Fell": 0,
         "Found": 1,
         "_deepnote_index_column": 45586
        },
        {
         "Fell": 0,
         "Found": 1,
         "_deepnote_index_column": 45587
        },
        {
         "Fell": 0,
         "Found": 1,
         "_deepnote_index_column": 45588
        },
        {
         "Fell": 0,
         "Found": 1,
         "_deepnote_index_column": 45589
        },
        {
         "Fell": 0,
         "Found": 1,
         "_deepnote_index_column": 45590
        },
        {
         "Fell": 0,
         "Found": 1,
         "_deepnote_index_column": 45591
        },
        {
         "Fell": 0,
         "Found": 1,
         "_deepnote_index_column": 45592
        },
        {
         "Fell": 0,
         "Found": 1,
         "_deepnote_index_column": 45593
        },
        {
         "Fell": 0,
         "Found": 1,
         "_deepnote_index_column": 45594
        },
        {
         "Fell": 0,
         "Found": 1,
         "_deepnote_index_column": 45595
        },
        {
         "Fell": 0,
         "Found": 1,
         "_deepnote_index_column": 45596
        },
        {
         "Fell": 0,
         "Found": 1,
         "_deepnote_index_column": 45597
        },
        {
         "Fell": 0,
         "Found": 1,
         "_deepnote_index_column": 45598
        },
        {
         "Fell": 0,
         "Found": 1,
         "_deepnote_index_column": 45599
        },
        {
         "Fell": 0,
         "Found": 1,
         "_deepnote_index_column": 45600
        },
        {
         "Fell": 0,
         "Found": 1,
         "_deepnote_index_column": 45601
        },
        {
         "Fell": 0,
         "Found": 1,
         "_deepnote_index_column": 45602
        },
        {
         "Fell": 0,
         "Found": 1,
         "_deepnote_index_column": 45603
        },
        {
         "Fell": 0,
         "Found": 1,
         "_deepnote_index_column": 45604
        },
        {
         "Fell": 0,
         "Found": 1,
         "_deepnote_index_column": 45605
        },
        {
         "Fell": 0,
         "Found": 1,
         "_deepnote_index_column": 45606
        },
        {
         "Fell": 0,
         "Found": 1,
         "_deepnote_index_column": 45607
        },
        {
         "Fell": 0,
         "Found": 1,
         "_deepnote_index_column": 45608
        },
        {
         "Fell": 0,
         "Found": 1,
         "_deepnote_index_column": 45609
        },
        {
         "Fell": 0,
         "Found": 1,
         "_deepnote_index_column": 45610
        },
        {
         "Fell": 0,
         "Found": 1,
         "_deepnote_index_column": 45611
        },
        {
         "Fell": 0,
         "Found": 1,
         "_deepnote_index_column": 45612
        },
        {
         "Fell": 0,
         "Found": 1,
         "_deepnote_index_column": 45613
        },
        {
         "Fell": 0,
         "Found": 1,
         "_deepnote_index_column": 45614
        },
        {
         "Fell": 0,
         "Found": 1,
         "_deepnote_index_column": 45615
        },
        {
         "Fell": 0,
         "Found": 1,
         "_deepnote_index_column": 45616
        },
        {
         "Fell": 0,
         "Found": 1,
         "_deepnote_index_column": 45617
        },
        {
         "Fell": 0,
         "Found": 1,
         "_deepnote_index_column": 45618
        },
        {
         "Fell": 0,
         "Found": 1,
         "_deepnote_index_column": 45619
        },
        {
         "Fell": 0,
         "Found": 1,
         "_deepnote_index_column": 45620
        },
        {
         "Fell": 0,
         "Found": 1,
         "_deepnote_index_column": 45621
        },
        {
         "Fell": 0,
         "Found": 1,
         "_deepnote_index_column": 45622
        },
        {
         "Fell": 0,
         "Found": 1,
         "_deepnote_index_column": 45623
        },
        {
         "Fell": 0,
         "Found": 1,
         "_deepnote_index_column": 45624
        },
        {
         "Fell": 0,
         "Found": 1,
         "_deepnote_index_column": 45625
        },
        {
         "Fell": 0,
         "Found": 1,
         "_deepnote_index_column": 45626
        },
        {
         "Fell": 0,
         "Found": 1,
         "_deepnote_index_column": 45627
        },
        {
         "Fell": 0,
         "Found": 1,
         "_deepnote_index_column": 45628
        },
        {
         "Fell": 0,
         "Found": 1,
         "_deepnote_index_column": 45629
        },
        {
         "Fell": 0,
         "Found": 1,
         "_deepnote_index_column": 45630
        },
        {
         "Fell": 0,
         "Found": 1,
         "_deepnote_index_column": 45631
        },
        {
         "Fell": 0,
         "Found": 1,
         "_deepnote_index_column": 45632
        },
        {
         "Fell": 0,
         "Found": 1,
         "_deepnote_index_column": 45633
        },
        {
         "Fell": 0,
         "Found": 1,
         "_deepnote_index_column": 45634
        },
        {
         "Fell": 0,
         "Found": 1,
         "_deepnote_index_column": 45635
        },
        {
         "Fell": 0,
         "Found": 1,
         "_deepnote_index_column": 45636
        },
        {
         "Fell": 0,
         "Found": 1,
         "_deepnote_index_column": 45637
        },
        {
         "Fell": 0,
         "Found": 1,
         "_deepnote_index_column": 45638
        },
        {
         "Fell": 0,
         "Found": 1,
         "_deepnote_index_column": 45639
        },
        {
         "Fell": 0,
         "Found": 1,
         "_deepnote_index_column": 45640
        },
        {
         "Fell": 0,
         "Found": 1,
         "_deepnote_index_column": 45641
        },
        {
         "Fell": 0,
         "Found": 1,
         "_deepnote_index_column": 45642
        },
        {
         "Fell": 0,
         "Found": 1,
         "_deepnote_index_column": 45643
        },
        {
         "Fell": 0,
         "Found": 1,
         "_deepnote_index_column": 45644
        },
        {
         "Fell": 0,
         "Found": 1,
         "_deepnote_index_column": 45645
        },
        {
         "Fell": 0,
         "Found": 1,
         "_deepnote_index_column": 45646
        },
        {
         "Fell": 0,
         "Found": 1,
         "_deepnote_index_column": 45647
        },
        {
         "Fell": 0,
         "Found": 1,
         "_deepnote_index_column": 45648
        },
        {
         "Fell": 0,
         "Found": 1,
         "_deepnote_index_column": 45649
        },
        {
         "Fell": 0,
         "Found": 1,
         "_deepnote_index_column": 45650
        },
        {
         "Fell": 0,
         "Found": 1,
         "_deepnote_index_column": 45651
        },
        {
         "Fell": 0,
         "Found": 1,
         "_deepnote_index_column": 45652
        },
        {
         "Fell": 0,
         "Found": 1,
         "_deepnote_index_column": 45653
        },
        {
         "Fell": 0,
         "Found": 1,
         "_deepnote_index_column": 45654
        },
        {
         "Fell": 0,
         "Found": 1,
         "_deepnote_index_column": 45655
        },
        {
         "Fell": 0,
         "Found": 1,
         "_deepnote_index_column": 45656
        },
        {
         "Fell": 0,
         "Found": 1,
         "_deepnote_index_column": 45657
        },
        {
         "Fell": 0,
         "Found": 1,
         "_deepnote_index_column": 45658
        },
        {
         "Fell": 0,
         "Found": 1,
         "_deepnote_index_column": 45659
        },
        {
         "Fell": 0,
         "Found": 1,
         "_deepnote_index_column": 45660
        },
        {
         "Fell": 0,
         "Found": 1,
         "_deepnote_index_column": 45661
        },
        {
         "Fell": 0,
         "Found": 1,
         "_deepnote_index_column": 45662
        },
        {
         "Fell": 0,
         "Found": 1,
         "_deepnote_index_column": 45663
        },
        {
         "Fell": 0,
         "Found": 1,
         "_deepnote_index_column": 45664
        },
        {
         "Fell": 0,
         "Found": 1,
         "_deepnote_index_column": 45665
        },
        {
         "Fell": 0,
         "Found": 1,
         "_deepnote_index_column": 45666
        },
        {
         "Fell": 0,
         "Found": 1,
         "_deepnote_index_column": 45667
        },
        {
         "Fell": 0,
         "Found": 1,
         "_deepnote_index_column": 45668
        },
        {
         "Fell": 0,
         "Found": 1,
         "_deepnote_index_column": 45669
        },
        {
         "Fell": 0,
         "Found": 1,
         "_deepnote_index_column": 45670
        },
        {
         "Fell": 0,
         "Found": 1,
         "_deepnote_index_column": 45671
        },
        {
         "Fell": 0,
         "Found": 1,
         "_deepnote_index_column": 45672
        },
        {
         "Fell": 0,
         "Found": 1,
         "_deepnote_index_column": 45673
        },
        {
         "Fell": 0,
         "Found": 1,
         "_deepnote_index_column": 45674
        },
        {
         "Fell": 0,
         "Found": 1,
         "_deepnote_index_column": 45675
        },
        {
         "Fell": 0,
         "Found": 1,
         "_deepnote_index_column": 45676
        },
        {
         "Fell": 0,
         "Found": 1,
         "_deepnote_index_column": 45677
        },
        {
         "Fell": 0,
         "Found": 1,
         "_deepnote_index_column": 45678
        },
        {
         "Fell": 0,
         "Found": 1,
         "_deepnote_index_column": 45679
        },
        {
         "Fell": 0,
         "Found": 1,
         "_deepnote_index_column": 45680
        },
        {
         "Fell": 0,
         "Found": 1,
         "_deepnote_index_column": 45681
        },
        {
         "Fell": 0,
         "Found": 1,
         "_deepnote_index_column": 45682
        },
        {
         "Fell": 0,
         "Found": 1,
         "_deepnote_index_column": 45683
        },
        {
         "Fell": 0,
         "Found": 1,
         "_deepnote_index_column": 45684
        },
        {
         "Fell": 0,
         "Found": 1,
         "_deepnote_index_column": 45685
        },
        {
         "Fell": 0,
         "Found": 1,
         "_deepnote_index_column": 45686
        },
        {
         "Fell": 0,
         "Found": 1,
         "_deepnote_index_column": 45687
        },
        {
         "Fell": 0,
         "Found": 1,
         "_deepnote_index_column": 45688
        },
        {
         "Fell": 0,
         "Found": 1,
         "_deepnote_index_column": 45689
        },
        {
         "Fell": 0,
         "Found": 1,
         "_deepnote_index_column": 45690
        },
        {
         "Fell": 0,
         "Found": 1,
         "_deepnote_index_column": 45691
        },
        {
         "Fell": 0,
         "Found": 1,
         "_deepnote_index_column": 45692
        },
        {
         "Fell": 0,
         "Found": 1,
         "_deepnote_index_column": 45693
        },
        {
         "Fell": 0,
         "Found": 1,
         "_deepnote_index_column": 45694
        },
        {
         "Fell": 0,
         "Found": 1,
         "_deepnote_index_column": 45695
        },
        {
         "Fell": 0,
         "Found": 1,
         "_deepnote_index_column": 45696
        },
        {
         "Fell": 0,
         "Found": 1,
         "_deepnote_index_column": 45697
        },
        {
         "Fell": 0,
         "Found": 1,
         "_deepnote_index_column": 45698
        },
        {
         "Fell": 0,
         "Found": 1,
         "_deepnote_index_column": 45699
        },
        {
         "Fell": 0,
         "Found": 1,
         "_deepnote_index_column": 45700
        },
        {
         "Fell": 0,
         "Found": 1,
         "_deepnote_index_column": 45701
        },
        {
         "Fell": 0,
         "Found": 1,
         "_deepnote_index_column": 45702
        },
        {
         "Fell": 0,
         "Found": 1,
         "_deepnote_index_column": 45703
        },
        {
         "Fell": 0,
         "Found": 1,
         "_deepnote_index_column": 45704
        },
        {
         "Fell": 0,
         "Found": 1,
         "_deepnote_index_column": 45705
        },
        {
         "Fell": 0,
         "Found": 1,
         "_deepnote_index_column": 45706
        },
        {
         "Fell": 0,
         "Found": 1,
         "_deepnote_index_column": 45707
        },
        {
         "Fell": 0,
         "Found": 1,
         "_deepnote_index_column": 45708
        },
        {
         "Fell": 0,
         "Found": 1,
         "_deepnote_index_column": 45709
        },
        {
         "Fell": 0,
         "Found": 1,
         "_deepnote_index_column": 45710
        },
        {
         "Fell": 0,
         "Found": 1,
         "_deepnote_index_column": 45711
        },
        {
         "Fell": 0,
         "Found": 1,
         "_deepnote_index_column": 45712
        },
        {
         "Fell": 0,
         "Found": 1,
         "_deepnote_index_column": 45713
        },
        {
         "Fell": 0,
         "Found": 1,
         "_deepnote_index_column": 45714
        },
        {
         "Fell": 0,
         "Found": 1,
         "_deepnote_index_column": 45715
        }
       ]
      },
      "text/plain": "       Fell  Found\n0         1      0\n1         1      0\n2         1      0\n3         1      0\n4         1      0\n...     ...    ...\n45711     0      1\n45712     0      1\n45713     0      1\n45714     0      1\n45715     0      1\n\n[45716 rows x 2 columns]",
      "text/html": "<div>\n<style scoped>\n    .dataframe tbody tr th:only-of-type {\n        vertical-align: middle;\n    }\n\n    .dataframe tbody tr th {\n        vertical-align: top;\n    }\n\n    .dataframe thead th {\n        text-align: right;\n    }\n</style>\n<table border=\"1\" class=\"dataframe\">\n  <thead>\n    <tr style=\"text-align: right;\">\n      <th></th>\n      <th>Fell</th>\n      <th>Found</th>\n    </tr>\n  </thead>\n  <tbody>\n    <tr>\n      <th>0</th>\n      <td>1</td>\n      <td>0</td>\n    </tr>\n    <tr>\n      <th>1</th>\n      <td>1</td>\n      <td>0</td>\n    </tr>\n    <tr>\n      <th>2</th>\n      <td>1</td>\n      <td>0</td>\n    </tr>\n    <tr>\n      <th>3</th>\n      <td>1</td>\n      <td>0</td>\n    </tr>\n    <tr>\n      <th>4</th>\n      <td>1</td>\n      <td>0</td>\n    </tr>\n    <tr>\n      <th>...</th>\n      <td>...</td>\n      <td>...</td>\n    </tr>\n    <tr>\n      <th>45711</th>\n      <td>0</td>\n      <td>1</td>\n    </tr>\n    <tr>\n      <th>45712</th>\n      <td>0</td>\n      <td>1</td>\n    </tr>\n    <tr>\n      <th>45713</th>\n      <td>0</td>\n      <td>1</td>\n    </tr>\n    <tr>\n      <th>45714</th>\n      <td>0</td>\n      <td>1</td>\n    </tr>\n    <tr>\n      <th>45715</th>\n      <td>0</td>\n      <td>1</td>\n    </tr>\n  </tbody>\n</table>\n<p>45716 rows × 2 columns</p>\n</div>"
     },
     "metadata": {}
    }
   ]
  },
  {
   "cell_type": "markdown",
   "source": "## Crear una columna al DataFrame",
   "metadata": {
    "tags": [],
    "cell_id": "00063-265a5deb-75ea-4f67-85a9-b836c6598e10",
    "deepnote_cell_type": "markdown"
   }
  },
  {
   "cell_type": "code",
   "metadata": {
    "tags": [],
    "cell_id": "00064-56d256fb-6e53-4163-b6d2-efc90da80634",
    "deepnote_to_be_reexecuted": false,
    "source_hash": "832986aa",
    "execution_start": 1625422644130,
    "execution_millis": 85,
    "deepnote_cell_type": "code"
   },
   "source": "df_meteorites[['fell','found']] = pd.get_dummies(df_meteorites['fall'])\ndf_meteorites.head(2)",
   "execution_count": null,
   "outputs": [
    {
     "output_type": "execute_result",
     "execution_count": 29,
     "data": {
      "application/vnd.deepnote.dataframe.v2+json": {
       "row_count": 2,
       "column_count": 12,
       "columns": [
        {
         "name": "name",
         "dtype": "object",
         "stats": {
          "unique_count": 2,
          "nan_count": 0,
          "categories": [
           {
            "name": "Aachen",
            "count": 1
           },
           {
            "name": "Aarhus",
            "count": 1
           }
          ]
         }
        },
        {
         "name": "id",
         "dtype": "int64",
         "stats": {
          "unique_count": 2,
          "nan_count": 0,
          "min": "1",
          "max": "2",
          "histogram": [
           {
            "bin_start": 1,
            "bin_end": 1.1,
            "count": 1
           },
           {
            "bin_start": 1.1,
            "bin_end": 1.2,
            "count": 0
           },
           {
            "bin_start": 1.2,
            "bin_end": 1.3,
            "count": 0
           },
           {
            "bin_start": 1.3,
            "bin_end": 1.4,
            "count": 0
           },
           {
            "bin_start": 1.4,
            "bin_end": 1.5,
            "count": 0
           },
           {
            "bin_start": 1.5,
            "bin_end": 1.6,
            "count": 0
           },
           {
            "bin_start": 1.6,
            "bin_end": 1.7000000000000002,
            "count": 0
           },
           {
            "bin_start": 1.7000000000000002,
            "bin_end": 1.8,
            "count": 0
           },
           {
            "bin_start": 1.8,
            "bin_end": 1.9,
            "count": 0
           },
           {
            "bin_start": 1.9,
            "bin_end": 2,
            "count": 1
           }
          ]
         }
        },
        {
         "name": "nametype",
         "dtype": "category",
         "stats": {
          "unique_count": 1,
          "nan_count": 0,
          "categories": [
           {
            "name": "Valid",
            "count": 2
           }
          ]
         }
        },
        {
         "name": "recclass",
         "dtype": "object",
         "stats": {
          "unique_count": 2,
          "nan_count": 0,
          "categories": [
           {
            "name": "L5",
            "count": 1
           },
           {
            "name": "H6",
            "count": 1
           }
          ]
         }
        },
        {
         "name": "mass (g)",
         "dtype": "float64",
         "stats": {
          "unique_count": 2,
          "nan_count": 0,
          "min": "21.0",
          "max": "720.0",
          "histogram": [
           {
            "bin_start": 21,
            "bin_end": 90.9,
            "count": 1
           },
           {
            "bin_start": 90.9,
            "bin_end": 160.8,
            "count": 0
           },
           {
            "bin_start": 160.8,
            "bin_end": 230.70000000000002,
            "count": 0
           },
           {
            "bin_start": 230.70000000000002,
            "bin_end": 300.6,
            "count": 0
           },
           {
            "bin_start": 300.6,
            "bin_end": 370.5,
            "count": 0
           },
           {
            "bin_start": 370.5,
            "bin_end": 440.40000000000003,
            "count": 0
           },
           {
            "bin_start": 440.40000000000003,
            "bin_end": 510.30000000000007,
            "count": 0
           },
           {
            "bin_start": 510.30000000000007,
            "bin_end": 580.2,
            "count": 0
           },
           {
            "bin_start": 580.2,
            "bin_end": 650.1,
            "count": 0
           },
           {
            "bin_start": 650.1,
            "bin_end": 720,
            "count": 1
           }
          ]
         }
        },
        {
         "name": "fall",
         "dtype": "category",
         "stats": {
          "unique_count": 1,
          "nan_count": 0,
          "categories": [
           {
            "name": "Fell",
            "count": 2
           }
          ]
         }
        },
        {
         "name": "year",
         "dtype": "object",
         "stats": {
          "unique_count": 2,
          "nan_count": 0,
          "categories": [
           {
            "name": "01/01/1880 12:00:00 AM",
            "count": 1
           },
           {
            "name": "01/01/1951 12:00:00 AM",
            "count": 1
           }
          ]
         }
        },
        {
         "name": "reclat",
         "dtype": "float64",
         "stats": {
          "unique_count": 2,
          "nan_count": 0,
          "min": "50.775",
          "max": "56.18333",
          "histogram": [
           {
            "bin_start": 50.775,
            "bin_end": 51.315833,
            "count": 1
           },
           {
            "bin_start": 51.315833,
            "bin_end": 51.856666,
            "count": 0
           },
           {
            "bin_start": 51.856666,
            "bin_end": 52.397498999999996,
            "count": 0
           },
           {
            "bin_start": 52.397498999999996,
            "bin_end": 52.938331999999996,
            "count": 0
           },
           {
            "bin_start": 52.938331999999996,
            "bin_end": 53.479164999999995,
            "count": 0
           },
           {
            "bin_start": 53.479164999999995,
            "bin_end": 54.019998,
            "count": 0
           },
           {
            "bin_start": 54.019998,
            "bin_end": 54.560831,
            "count": 0
           },
           {
            "bin_start": 54.560831,
            "bin_end": 55.101664,
            "count": 0
           },
           {
            "bin_start": 55.101664,
            "bin_end": 55.642497,
            "count": 0
           },
           {
            "bin_start": 55.642497,
            "bin_end": 56.18333,
            "count": 1
           }
          ]
         }
        },
        {
         "name": "reclong",
         "dtype": "float64",
         "stats": {
          "unique_count": 2,
          "nan_count": 0,
          "min": "6.08333",
          "max": "10.23333",
          "histogram": [
           {
            "bin_start": 6.08333,
            "bin_end": 6.49833,
            "count": 1
           },
           {
            "bin_start": 6.49833,
            "bin_end": 6.91333,
            "count": 0
           },
           {
            "bin_start": 6.91333,
            "bin_end": 7.32833,
            "count": 0
           },
           {
            "bin_start": 7.32833,
            "bin_end": 7.74333,
            "count": 0
           },
           {
            "bin_start": 7.74333,
            "bin_end": 8.15833,
            "count": 0
           },
           {
            "bin_start": 8.15833,
            "bin_end": 8.57333,
            "count": 0
           },
           {
            "bin_start": 8.57333,
            "bin_end": 8.988330000000001,
            "count": 0
           },
           {
            "bin_start": 8.988330000000001,
            "bin_end": 9.40333,
            "count": 0
           },
           {
            "bin_start": 9.40333,
            "bin_end": 9.81833,
            "count": 0
           },
           {
            "bin_start": 9.81833,
            "bin_end": 10.23333,
            "count": 1
           }
          ]
         }
        },
        {
         "name": "GeoLocation",
         "dtype": "object",
         "stats": {
          "unique_count": 2,
          "nan_count": 0,
          "categories": [
           {
            "name": "(50.775, 6.08333)",
            "count": 1
           },
           {
            "name": "(56.18333, 10.23333)",
            "count": 1
           }
          ]
         }
        },
        {
         "name": "fell",
         "dtype": "uint8",
         "stats": {
          "unique_count": 1,
          "nan_count": 0,
          "min": "1",
          "max": "1",
          "histogram": [
           {
            "bin_start": 0.5,
            "bin_end": 0.6,
            "count": 0
           },
           {
            "bin_start": 0.6,
            "bin_end": 0.7,
            "count": 0
           },
           {
            "bin_start": 0.7,
            "bin_end": 0.8,
            "count": 0
           },
           {
            "bin_start": 0.8,
            "bin_end": 0.9,
            "count": 0
           },
           {
            "bin_start": 0.9,
            "bin_end": 1,
            "count": 0
           },
           {
            "bin_start": 1,
            "bin_end": 1.1,
            "count": 2
           },
           {
            "bin_start": 1.1,
            "bin_end": 1.2000000000000002,
            "count": 0
           },
           {
            "bin_start": 1.2000000000000002,
            "bin_end": 1.3,
            "count": 0
           },
           {
            "bin_start": 1.3,
            "bin_end": 1.4,
            "count": 0
           },
           {
            "bin_start": 1.4,
            "bin_end": 1.5,
            "count": 0
           }
          ]
         }
        },
        {
         "name": "found",
         "dtype": "uint8",
         "stats": {
          "unique_count": 1,
          "nan_count": 0,
          "min": "0",
          "max": "0",
          "histogram": [
           {
            "bin_start": -0.5,
            "bin_end": -0.4,
            "count": 0
           },
           {
            "bin_start": -0.4,
            "bin_end": -0.3,
            "count": 0
           },
           {
            "bin_start": -0.3,
            "bin_end": -0.19999999999999996,
            "count": 0
           },
           {
            "bin_start": -0.19999999999999996,
            "bin_end": -0.09999999999999998,
            "count": 0
           },
           {
            "bin_start": -0.09999999999999998,
            "bin_end": 0,
            "count": 0
           },
           {
            "bin_start": 0,
            "bin_end": 0.10000000000000009,
            "count": 2
           },
           {
            "bin_start": 0.10000000000000009,
            "bin_end": 0.20000000000000007,
            "count": 0
           },
           {
            "bin_start": 0.20000000000000007,
            "bin_end": 0.30000000000000004,
            "count": 0
           },
           {
            "bin_start": 0.30000000000000004,
            "bin_end": 0.4,
            "count": 0
           },
           {
            "bin_start": 0.4,
            "bin_end": 0.5,
            "count": 0
           }
          ]
         }
        },
        {
         "name": "_deepnote_index_column",
         "dtype": "int64"
        }
       ],
       "rows_top": [
        {
         "name": "Aachen",
         "id": 1,
         "nametype": "Valid",
         "recclass": "L5",
         "mass (g)": 21,
         "fall": "Fell",
         "year": "01/01/1880 12:00:00 AM",
         "reclat": 50.775,
         "reclong": 6.08333,
         "GeoLocation": "(50.775, 6.08333)",
         "fell": 1,
         "found": 0,
         "_deepnote_index_column": 0
        },
        {
         "name": "Aarhus",
         "id": 2,
         "nametype": "Valid",
         "recclass": "H6",
         "mass (g)": 720,
         "fall": "Fell",
         "year": "01/01/1951 12:00:00 AM",
         "reclat": 56.18333,
         "reclong": 10.23333,
         "GeoLocation": "(56.18333, 10.23333)",
         "fell": 1,
         "found": 0,
         "_deepnote_index_column": 1
        }
       ],
       "rows_bottom": null
      },
      "text/plain": "     name  id nametype recclass  mass (g)  fall                    year  \\\n0  Aachen   1    Valid       L5     21.00  Fell  01/01/1880 12:00:00 AM   \n1  Aarhus   2    Valid       H6    720.00  Fell  01/01/1951 12:00:00 AM   \n\n   reclat  reclong           GeoLocation  fell  found  \n0   50.77     6.08     (50.775, 6.08333)     1      0  \n1   56.18    10.23  (56.18333, 10.23333)     1      0  ",
      "text/html": "<div>\n<style scoped>\n    .dataframe tbody tr th:only-of-type {\n        vertical-align: middle;\n    }\n\n    .dataframe tbody tr th {\n        vertical-align: top;\n    }\n\n    .dataframe thead th {\n        text-align: right;\n    }\n</style>\n<table border=\"1\" class=\"dataframe\">\n  <thead>\n    <tr style=\"text-align: right;\">\n      <th></th>\n      <th>name</th>\n      <th>id</th>\n      <th>nametype</th>\n      <th>recclass</th>\n      <th>mass (g)</th>\n      <th>fall</th>\n      <th>year</th>\n      <th>reclat</th>\n      <th>reclong</th>\n      <th>GeoLocation</th>\n      <th>fell</th>\n      <th>found</th>\n    </tr>\n  </thead>\n  <tbody>\n    <tr>\n      <th>0</th>\n      <td>Aachen</td>\n      <td>1</td>\n      <td>Valid</td>\n      <td>L5</td>\n      <td>21.00</td>\n      <td>Fell</td>\n      <td>01/01/1880 12:00:00 AM</td>\n      <td>50.77</td>\n      <td>6.08</td>\n      <td>(50.775, 6.08333)</td>\n      <td>1</td>\n      <td>0</td>\n    </tr>\n    <tr>\n      <th>1</th>\n      <td>Aarhus</td>\n      <td>2</td>\n      <td>Valid</td>\n      <td>H6</td>\n      <td>720.00</td>\n      <td>Fell</td>\n      <td>01/01/1951 12:00:00 AM</td>\n      <td>56.18</td>\n      <td>10.23</td>\n      <td>(56.18333, 10.23333)</td>\n      <td>1</td>\n      <td>0</td>\n    </tr>\n  </tbody>\n</table>\n</div>"
     },
     "metadata": {}
    }
   ]
  },
  {
   "cell_type": "markdown",
   "source": "## Renombrar columnas\ninplace=True  - Nos ayuda aplicar los cambios a nuestro DataFrame",
   "metadata": {
    "tags": [],
    "cell_id": "00065-ea8f7503-1b6f-40e0-b2d6-f1ea9ed2dd42",
    "deepnote_cell_type": "markdown"
   }
  },
  {
   "cell_type": "code",
   "metadata": {
    "tags": [],
    "cell_id": "00066-2f595c85-6717-4816-a3e7-d9387702ab7f",
    "deepnote_to_be_reexecuted": false,
    "source_hash": "1304bb1d",
    "execution_start": 1625422645177,
    "execution_millis": 21,
    "deepnote_cell_type": "code"
   },
   "source": "df_meteorites.rename(columns={'mass (g)':'mass'}, inplace=True)\ndf_meteorites.dtypes",
   "execution_count": null,
   "outputs": [
    {
     "output_type": "execute_result",
     "execution_count": 30,
     "data": {
      "text/plain": "name             object\nid                int64\nnametype       category\nrecclass         object\nmass            float64\nfall           category\nyear             object\nreclat          float64\nreclong         float64\nGeoLocation      object\nfell              uint8\nfound             uint8\ndtype: object"
     },
     "metadata": {}
    }
   ]
  },
  {
   "cell_type": "markdown",
   "source": "## Eliminar columnas de un DataFrame",
   "metadata": {
    "tags": [],
    "cell_id": "00067-3c8ff0da-fd69-4bab-915f-dfa8de1f743a",
    "deepnote_cell_type": "markdown"
   }
  },
  {
   "cell_type": "code",
   "metadata": {
    "tags": [],
    "cell_id": "00068-db84cc46-b269-4e06-a883-d3c713140e04",
    "deepnote_to_be_reexecuted": false,
    "source_hash": "bc7bad45",
    "execution_start": 1625422645972,
    "execution_millis": 64,
    "deepnote_cell_type": "code"
   },
   "source": "#df_meteorites.drop(['Nombre_Columna'], axis=1, inplace=True)\ndf_meteorites.drop(columns = ['id','recclass'],index=[1,2,4,6]).head(1)",
   "execution_count": null,
   "outputs": [
    {
     "output_type": "execute_result",
     "execution_count": 31,
     "data": {
      "application/vnd.deepnote.dataframe.v2+json": {
       "row_count": 1,
       "column_count": 10,
       "columns": [
        {
         "name": "name",
         "dtype": "object",
         "stats": {
          "unique_count": 1,
          "nan_count": 0,
          "categories": [
           {
            "name": "Aachen",
            "count": 1
           }
          ]
         }
        },
        {
         "name": "nametype",
         "dtype": "category",
         "stats": {
          "unique_count": 1,
          "nan_count": 0,
          "categories": [
           {
            "name": "Valid",
            "count": 1
           }
          ]
         }
        },
        {
         "name": "mass",
         "dtype": "float64",
         "stats": {
          "unique_count": 1,
          "nan_count": 0,
          "min": "21.0",
          "max": "21.0",
          "histogram": [
           {
            "bin_start": 20.5,
            "bin_end": 20.6,
            "count": 0
           },
           {
            "bin_start": 20.6,
            "bin_end": 20.7,
            "count": 0
           },
           {
            "bin_start": 20.7,
            "bin_end": 20.8,
            "count": 0
           },
           {
            "bin_start": 20.8,
            "bin_end": 20.9,
            "count": 0
           },
           {
            "bin_start": 20.9,
            "bin_end": 21,
            "count": 0
           },
           {
            "bin_start": 21,
            "bin_end": 21.1,
            "count": 1
           },
           {
            "bin_start": 21.1,
            "bin_end": 21.2,
            "count": 0
           },
           {
            "bin_start": 21.2,
            "bin_end": 21.3,
            "count": 0
           },
           {
            "bin_start": 21.3,
            "bin_end": 21.4,
            "count": 0
           },
           {
            "bin_start": 21.4,
            "bin_end": 21.5,
            "count": 0
           }
          ]
         }
        },
        {
         "name": "fall",
         "dtype": "category",
         "stats": {
          "unique_count": 1,
          "nan_count": 0,
          "categories": [
           {
            "name": "Fell",
            "count": 1
           }
          ]
         }
        },
        {
         "name": "year",
         "dtype": "object",
         "stats": {
          "unique_count": 1,
          "nan_count": 0,
          "categories": [
           {
            "name": "01/01/1880 12:00:00 AM",
            "count": 1
           }
          ]
         }
        },
        {
         "name": "reclat",
         "dtype": "float64",
         "stats": {
          "unique_count": 1,
          "nan_count": 0,
          "min": "50.775",
          "max": "50.775",
          "histogram": [
           {
            "bin_start": 50.275,
            "bin_end": 50.375,
            "count": 0
           },
           {
            "bin_start": 50.375,
            "bin_end": 50.475,
            "count": 0
           },
           {
            "bin_start": 50.475,
            "bin_end": 50.574999999999996,
            "count": 0
           },
           {
            "bin_start": 50.574999999999996,
            "bin_end": 50.675,
            "count": 0
           },
           {
            "bin_start": 50.675,
            "bin_end": 50.775,
            "count": 0
           },
           {
            "bin_start": 50.775,
            "bin_end": 50.875,
            "count": 1
           },
           {
            "bin_start": 50.875,
            "bin_end": 50.975,
            "count": 0
           },
           {
            "bin_start": 50.975,
            "bin_end": 51.074999999999996,
            "count": 0
           },
           {
            "bin_start": 51.074999999999996,
            "bin_end": 51.175,
            "count": 0
           },
           {
            "bin_start": 51.175,
            "bin_end": 51.275,
            "count": 0
           }
          ]
         }
        },
        {
         "name": "reclong",
         "dtype": "float64",
         "stats": {
          "unique_count": 1,
          "nan_count": 0,
          "min": "6.08333",
          "max": "6.08333",
          "histogram": [
           {
            "bin_start": 5.58333,
            "bin_end": 5.68333,
            "count": 0
           },
           {
            "bin_start": 5.68333,
            "bin_end": 5.78333,
            "count": 0
           },
           {
            "bin_start": 5.78333,
            "bin_end": 5.88333,
            "count": 0
           },
           {
            "bin_start": 5.88333,
            "bin_end": 5.9833300000000005,
            "count": 0
           },
           {
            "bin_start": 5.9833300000000005,
            "bin_end": 6.08333,
            "count": 0
           },
           {
            "bin_start": 6.08333,
            "bin_end": 6.18333,
            "count": 1
           },
           {
            "bin_start": 6.18333,
            "bin_end": 6.28333,
            "count": 0
           },
           {
            "bin_start": 6.28333,
            "bin_end": 6.38333,
            "count": 0
           },
           {
            "bin_start": 6.38333,
            "bin_end": 6.4833300000000005,
            "count": 0
           },
           {
            "bin_start": 6.4833300000000005,
            "bin_end": 6.58333,
            "count": 0
           }
          ]
         }
        },
        {
         "name": "GeoLocation",
         "dtype": "object",
         "stats": {
          "unique_count": 1,
          "nan_count": 0,
          "categories": [
           {
            "name": "(50.775, 6.08333)",
            "count": 1
           }
          ]
         }
        },
        {
         "name": "fell",
         "dtype": "uint8",
         "stats": {
          "unique_count": 1,
          "nan_count": 0,
          "min": "1",
          "max": "1",
          "histogram": [
           {
            "bin_start": 0.5,
            "bin_end": 0.6,
            "count": 0
           },
           {
            "bin_start": 0.6,
            "bin_end": 0.7,
            "count": 0
           },
           {
            "bin_start": 0.7,
            "bin_end": 0.8,
            "count": 0
           },
           {
            "bin_start": 0.8,
            "bin_end": 0.9,
            "count": 0
           },
           {
            "bin_start": 0.9,
            "bin_end": 1,
            "count": 0
           },
           {
            "bin_start": 1,
            "bin_end": 1.1,
            "count": 1
           },
           {
            "bin_start": 1.1,
            "bin_end": 1.2000000000000002,
            "count": 0
           },
           {
            "bin_start": 1.2000000000000002,
            "bin_end": 1.3,
            "count": 0
           },
           {
            "bin_start": 1.3,
            "bin_end": 1.4,
            "count": 0
           },
           {
            "bin_start": 1.4,
            "bin_end": 1.5,
            "count": 0
           }
          ]
         }
        },
        {
         "name": "found",
         "dtype": "uint8",
         "stats": {
          "unique_count": 1,
          "nan_count": 0,
          "min": "0",
          "max": "0",
          "histogram": [
           {
            "bin_start": -0.5,
            "bin_end": -0.4,
            "count": 0
           },
           {
            "bin_start": -0.4,
            "bin_end": -0.3,
            "count": 0
           },
           {
            "bin_start": -0.3,
            "bin_end": -0.19999999999999996,
            "count": 0
           },
           {
            "bin_start": -0.19999999999999996,
            "bin_end": -0.09999999999999998,
            "count": 0
           },
           {
            "bin_start": -0.09999999999999998,
            "bin_end": 0,
            "count": 0
           },
           {
            "bin_start": 0,
            "bin_end": 0.10000000000000009,
            "count": 1
           },
           {
            "bin_start": 0.10000000000000009,
            "bin_end": 0.20000000000000007,
            "count": 0
           },
           {
            "bin_start": 0.20000000000000007,
            "bin_end": 0.30000000000000004,
            "count": 0
           },
           {
            "bin_start": 0.30000000000000004,
            "bin_end": 0.4,
            "count": 0
           },
           {
            "bin_start": 0.4,
            "bin_end": 0.5,
            "count": 0
           }
          ]
         }
        },
        {
         "name": "_deepnote_index_column",
         "dtype": "int64"
        }
       ],
       "rows_top": [
        {
         "name": "Aachen",
         "nametype": "Valid",
         "mass": 21,
         "fall": "Fell",
         "year": "01/01/1880 12:00:00 AM",
         "reclat": 50.775,
         "reclong": 6.08333,
         "GeoLocation": "(50.775, 6.08333)",
         "fell": 1,
         "found": 0,
         "_deepnote_index_column": 0
        }
       ],
       "rows_bottom": null
      },
      "text/plain": "     name nametype  mass  fall                    year  reclat  reclong  \\\n0  Aachen    Valid 21.00  Fell  01/01/1880 12:00:00 AM   50.77     6.08   \n\n         GeoLocation  fell  found  \n0  (50.775, 6.08333)     1      0  ",
      "text/html": "<div>\n<style scoped>\n    .dataframe tbody tr th:only-of-type {\n        vertical-align: middle;\n    }\n\n    .dataframe tbody tr th {\n        vertical-align: top;\n    }\n\n    .dataframe thead th {\n        text-align: right;\n    }\n</style>\n<table border=\"1\" class=\"dataframe\">\n  <thead>\n    <tr style=\"text-align: right;\">\n      <th></th>\n      <th>name</th>\n      <th>nametype</th>\n      <th>mass</th>\n      <th>fall</th>\n      <th>year</th>\n      <th>reclat</th>\n      <th>reclong</th>\n      <th>GeoLocation</th>\n      <th>fell</th>\n      <th>found</th>\n    </tr>\n  </thead>\n  <tbody>\n    <tr>\n      <th>0</th>\n      <td>Aachen</td>\n      <td>Valid</td>\n      <td>21.00</td>\n      <td>Fell</td>\n      <td>01/01/1880 12:00:00 AM</td>\n      <td>50.77</td>\n      <td>6.08</td>\n      <td>(50.775, 6.08333)</td>\n      <td>1</td>\n      <td>0</td>\n    </tr>\n  </tbody>\n</table>\n</div>"
     },
     "metadata": {}
    }
   ]
  },
  {
   "cell_type": "markdown",
   "source": "## Convierte el tiempo a un formato especial",
   "metadata": {
    "tags": [],
    "cell_id": "00061-dd7eca17-7676-4dfa-8f05-653eecf248b8",
    "deepnote_cell_type": "markdown"
   }
  },
  {
   "cell_type": "code",
   "metadata": {
    "tags": [],
    "cell_id": "00062-e1897323-bcf7-4abf-b30b-a3b0214c908d",
    "deepnote_to_be_reexecuted": false,
    "source_hash": "4e013588",
    "execution_start": 1625422646659,
    "execution_millis": 45,
    "deepnote_cell_type": "code"
   },
   "source": "df_meteorites['year'] = pd.to_datetime(\n    df_meteorites['year'],\n    errors='coerce',\n    format='%m/%d/%Y %H:%M:%S %p'\n)\ndf_meteorites.convert_dtypes().dtypes",
   "execution_count": null,
   "outputs": [
    {
     "output_type": "execute_result",
     "execution_count": 32,
     "data": {
      "text/plain": "name                   string\nid                      Int64\nnametype             category\nrecclass               string\nmass                  Float64\nfall                 category\nyear           datetime64[ns]\nreclat                Float64\nreclong               Float64\nGeoLocation            string\nfell                    UInt8\nfound                   UInt8\ndtype: object"
     },
     "metadata": {}
    }
   ]
  },
  {
   "cell_type": "markdown",
   "source": "## Copiar un DataFrame",
   "metadata": {
    "tags": [],
    "cell_id": "00069-55cfddbc-6d3a-487a-9db3-407d186e0c0a",
    "deepnote_cell_type": "markdown"
   }
  },
  {
   "cell_type": "code",
   "metadata": {
    "tags": [],
    "cell_id": "00072-772eb767-180a-474b-9f1c-e6ec9ac4c7b7",
    "deepnote_to_be_reexecuted": false,
    "source_hash": "90d6f17d",
    "execution_start": 1625422647345,
    "execution_millis": 65,
    "deepnote_cell_type": "code"
   },
   "source": "df = df_meteorites.copy(deep=True)\ndf.drop(['id'], axis=1, inplace=True)\ndf.head(1)",
   "execution_count": null,
   "outputs": [
    {
     "output_type": "execute_result",
     "execution_count": 33,
     "data": {
      "application/vnd.deepnote.dataframe.v2+json": {
       "row_count": 1,
       "column_count": 11,
       "columns": [
        {
         "name": "name",
         "dtype": "object",
         "stats": {
          "unique_count": 1,
          "nan_count": 0,
          "categories": [
           {
            "name": "Aachen",
            "count": 1
           }
          ]
         }
        },
        {
         "name": "nametype",
         "dtype": "category",
         "stats": {
          "unique_count": 1,
          "nan_count": 0,
          "categories": [
           {
            "name": "Valid",
            "count": 1
           }
          ]
         }
        },
        {
         "name": "recclass",
         "dtype": "object",
         "stats": {
          "unique_count": 1,
          "nan_count": 0,
          "categories": [
           {
            "name": "L5",
            "count": 1
           }
          ]
         }
        },
        {
         "name": "mass",
         "dtype": "float64",
         "stats": {
          "unique_count": 1,
          "nan_count": 0,
          "min": "21.0",
          "max": "21.0",
          "histogram": [
           {
            "bin_start": 20.5,
            "bin_end": 20.6,
            "count": 0
           },
           {
            "bin_start": 20.6,
            "bin_end": 20.7,
            "count": 0
           },
           {
            "bin_start": 20.7,
            "bin_end": 20.8,
            "count": 0
           },
           {
            "bin_start": 20.8,
            "bin_end": 20.9,
            "count": 0
           },
           {
            "bin_start": 20.9,
            "bin_end": 21,
            "count": 0
           },
           {
            "bin_start": 21,
            "bin_end": 21.1,
            "count": 1
           },
           {
            "bin_start": 21.1,
            "bin_end": 21.2,
            "count": 0
           },
           {
            "bin_start": 21.2,
            "bin_end": 21.3,
            "count": 0
           },
           {
            "bin_start": 21.3,
            "bin_end": 21.4,
            "count": 0
           },
           {
            "bin_start": 21.4,
            "bin_end": 21.5,
            "count": 0
           }
          ]
         }
        },
        {
         "name": "fall",
         "dtype": "category",
         "stats": {
          "unique_count": 1,
          "nan_count": 0,
          "categories": [
           {
            "name": "Fell",
            "count": 1
           }
          ]
         }
        },
        {
         "name": "year",
         "dtype": "datetime64[ns]",
         "stats": {
          "unique_count": 1,
          "nan_count": 0,
          "min": "1880-01-01 12:00:00",
          "max": "1880-01-01 12:00:00",
          "histogram": null
         }
        },
        {
         "name": "reclat",
         "dtype": "float64",
         "stats": {
          "unique_count": 1,
          "nan_count": 0,
          "min": "50.775",
          "max": "50.775",
          "histogram": [
           {
            "bin_start": 50.275,
            "bin_end": 50.375,
            "count": 0
           },
           {
            "bin_start": 50.375,
            "bin_end": 50.475,
            "count": 0
           },
           {
            "bin_start": 50.475,
            "bin_end": 50.574999999999996,
            "count": 0
           },
           {
            "bin_start": 50.574999999999996,
            "bin_end": 50.675,
            "count": 0
           },
           {
            "bin_start": 50.675,
            "bin_end": 50.775,
            "count": 0
           },
           {
            "bin_start": 50.775,
            "bin_end": 50.875,
            "count": 1
           },
           {
            "bin_start": 50.875,
            "bin_end": 50.975,
            "count": 0
           },
           {
            "bin_start": 50.975,
            "bin_end": 51.074999999999996,
            "count": 0
           },
           {
            "bin_start": 51.074999999999996,
            "bin_end": 51.175,
            "count": 0
           },
           {
            "bin_start": 51.175,
            "bin_end": 51.275,
            "count": 0
           }
          ]
         }
        },
        {
         "name": "reclong",
         "dtype": "float64",
         "stats": {
          "unique_count": 1,
          "nan_count": 0,
          "min": "6.08333",
          "max": "6.08333",
          "histogram": [
           {
            "bin_start": 5.58333,
            "bin_end": 5.68333,
            "count": 0
           },
           {
            "bin_start": 5.68333,
            "bin_end": 5.78333,
            "count": 0
           },
           {
            "bin_start": 5.78333,
            "bin_end": 5.88333,
            "count": 0
           },
           {
            "bin_start": 5.88333,
            "bin_end": 5.9833300000000005,
            "count": 0
           },
           {
            "bin_start": 5.9833300000000005,
            "bin_end": 6.08333,
            "count": 0
           },
           {
            "bin_start": 6.08333,
            "bin_end": 6.18333,
            "count": 1
           },
           {
            "bin_start": 6.18333,
            "bin_end": 6.28333,
            "count": 0
           },
           {
            "bin_start": 6.28333,
            "bin_end": 6.38333,
            "count": 0
           },
           {
            "bin_start": 6.38333,
            "bin_end": 6.4833300000000005,
            "count": 0
           },
           {
            "bin_start": 6.4833300000000005,
            "bin_end": 6.58333,
            "count": 0
           }
          ]
         }
        },
        {
         "name": "GeoLocation",
         "dtype": "object",
         "stats": {
          "unique_count": 1,
          "nan_count": 0,
          "categories": [
           {
            "name": "(50.775, 6.08333)",
            "count": 1
           }
          ]
         }
        },
        {
         "name": "fell",
         "dtype": "uint8",
         "stats": {
          "unique_count": 1,
          "nan_count": 0,
          "min": "1",
          "max": "1",
          "histogram": [
           {
            "bin_start": 0.5,
            "bin_end": 0.6,
            "count": 0
           },
           {
            "bin_start": 0.6,
            "bin_end": 0.7,
            "count": 0
           },
           {
            "bin_start": 0.7,
            "bin_end": 0.8,
            "count": 0
           },
           {
            "bin_start": 0.8,
            "bin_end": 0.9,
            "count": 0
           },
           {
            "bin_start": 0.9,
            "bin_end": 1,
            "count": 0
           },
           {
            "bin_start": 1,
            "bin_end": 1.1,
            "count": 1
           },
           {
            "bin_start": 1.1,
            "bin_end": 1.2000000000000002,
            "count": 0
           },
           {
            "bin_start": 1.2000000000000002,
            "bin_end": 1.3,
            "count": 0
           },
           {
            "bin_start": 1.3,
            "bin_end": 1.4,
            "count": 0
           },
           {
            "bin_start": 1.4,
            "bin_end": 1.5,
            "count": 0
           }
          ]
         }
        },
        {
         "name": "found",
         "dtype": "uint8",
         "stats": {
          "unique_count": 1,
          "nan_count": 0,
          "min": "0",
          "max": "0",
          "histogram": [
           {
            "bin_start": -0.5,
            "bin_end": -0.4,
            "count": 0
           },
           {
            "bin_start": -0.4,
            "bin_end": -0.3,
            "count": 0
           },
           {
            "bin_start": -0.3,
            "bin_end": -0.19999999999999996,
            "count": 0
           },
           {
            "bin_start": -0.19999999999999996,
            "bin_end": -0.09999999999999998,
            "count": 0
           },
           {
            "bin_start": -0.09999999999999998,
            "bin_end": 0,
            "count": 0
           },
           {
            "bin_start": 0,
            "bin_end": 0.10000000000000009,
            "count": 1
           },
           {
            "bin_start": 0.10000000000000009,
            "bin_end": 0.20000000000000007,
            "count": 0
           },
           {
            "bin_start": 0.20000000000000007,
            "bin_end": 0.30000000000000004,
            "count": 0
           },
           {
            "bin_start": 0.30000000000000004,
            "bin_end": 0.4,
            "count": 0
           },
           {
            "bin_start": 0.4,
            "bin_end": 0.5,
            "count": 0
           }
          ]
         }
        },
        {
         "name": "_deepnote_index_column",
         "dtype": "int64"
        }
       ],
       "rows_top": [
        {
         "name": "Aachen",
         "nametype": "Valid",
         "recclass": "L5",
         "mass": 21,
         "fall": "Fell",
         "year": "1880-01-01T12:00:00.000000",
         "reclat": 50.775,
         "reclong": 6.08333,
         "GeoLocation": "(50.775, 6.08333)",
         "fell": 1,
         "found": 0,
         "_deepnote_index_column": 0
        }
       ],
       "rows_bottom": null
      },
      "text/plain": "     name nametype recclass  mass  fall                year  reclat  reclong  \\\n0  Aachen    Valid       L5 21.00  Fell 1880-01-01 12:00:00   50.77     6.08   \n\n         GeoLocation  fell  found  \n0  (50.775, 6.08333)     1      0  ",
      "text/html": "<div>\n<style scoped>\n    .dataframe tbody tr th:only-of-type {\n        vertical-align: middle;\n    }\n\n    .dataframe tbody tr th {\n        vertical-align: top;\n    }\n\n    .dataframe thead th {\n        text-align: right;\n    }\n</style>\n<table border=\"1\" class=\"dataframe\">\n  <thead>\n    <tr style=\"text-align: right;\">\n      <th></th>\n      <th>name</th>\n      <th>nametype</th>\n      <th>recclass</th>\n      <th>mass</th>\n      <th>fall</th>\n      <th>year</th>\n      <th>reclat</th>\n      <th>reclong</th>\n      <th>GeoLocation</th>\n      <th>fell</th>\n      <th>found</th>\n    </tr>\n  </thead>\n  <tbody>\n    <tr>\n      <th>0</th>\n      <td>Aachen</td>\n      <td>Valid</td>\n      <td>L5</td>\n      <td>21.00</td>\n      <td>Fell</td>\n      <td>1880-01-01 12:00:00</td>\n      <td>50.77</td>\n      <td>6.08</td>\n      <td>(50.775, 6.08333)</td>\n      <td>1</td>\n      <td>0</td>\n    </tr>\n  </tbody>\n</table>\n</div>"
     },
     "metadata": {}
    }
   ]
  },
  {
   "cell_type": "markdown",
   "source": "# Funciones especiales y lambda\n[10]-funciones-matematicas.ipynb\n\nFunciones matematicas de pandas\n```\n+    add()\n-    sub(), subtract()\n*    mul(), multiply()\n/    truediv(), div(), divide()\n//   floordiv()\n%    mod()\n**   pow()\n```\n**apply()** se utiliza para aplicar una función a lo largo de un eje (columna o fila).\n\n**applymap()** se usa para aplicar una función a todos los elementos del DataFrame.\n\n**map()** se usa para sustituir cada valor de una fila por otro valor.",
   "metadata": {
    "tags": [],
    "cell_id": "00073-dc0827a6-a20d-4bcc-a031-5e5a04a534a7",
    "deepnote_cell_type": "markdown"
   }
  },
  {
   "cell_type": "code",
   "metadata": {
    "tags": [],
    "cell_id": "00074-bb29c6f8-6258-4880-800c-6649695c0a91",
    "deepnote_to_be_reexecuted": false,
    "source_hash": "9987ba37",
    "execution_start": 1625422746284,
    "execution_millis": 59,
    "deepnote_cell_type": "code"
   },
   "source": "import pandas as pd\nimport numpy as np\n\ndf_lmerged = pd.read_csv('db/london_merged.csv')\n#Convertir el tipo de dato en datetime\ndf_lmerged['timestamp'] = pd.to_datetime(df_lmerged['timestamp'])\ndf_lmerged['hour'] = df_lmerged['timestamp'].dt.hour\ndf_lmerged['hour'] \ndf = df_lmerged.iloc[:, 1:]\ndf['t1'].iloc[::2].sub(df['t2'],fill_value=1000)\ndf['t1'].add(df['t2'])",
   "execution_count": null,
   "outputs": [
    {
     "output_type": "execute_result",
     "execution_count": 40,
     "data": {
      "text/plain": "0       5.00\n1       5.50\n2       5.00\n3       4.00\n4       2.00\n        ... \n17409   6.00\n17410   6.00\n17411   7.00\n17412   7.00\n17413   6.00\nLength: 17414, dtype: float64"
     },
     "metadata": {}
    }
   ]
  },
  {
   "cell_type": "markdown",
   "source": "## apply() : se utiliza para aplicar una función a lo largo de un eje (columna o fila).",
   "metadata": {
    "tags": [],
    "cell_id": "00074-2b106507-e650-4d2b-9f5a-d37816329e25",
    "deepnote_cell_type": "markdown"
   }
  },
  {
   "cell_type": "code",
   "metadata": {
    "tags": [],
    "cell_id": "00075-4e885784-e3bb-4bcf-9974-5eedb5bef2d0",
    "deepnote_to_be_reexecuted": false,
    "source_hash": "d69aa949",
    "execution_start": 1625422747147,
    "execution_millis": 39,
    "deepnote_cell_type": "code"
   },
   "source": "def fun_1(x, a=4, b=1):\n    y = x ** 2 + a*x /b\n    return y\ndf['hour'].apply(fun_1)",
   "execution_count": null,
   "outputs": [
    {
     "output_type": "execute_result",
     "execution_count": 41,
     "data": {
      "text/plain": "0         0.00\n1         5.00\n2        12.00\n3        21.00\n4        32.00\n         ...  \n17409   437.00\n17410   480.00\n17411   525.00\n17412   572.00\n17413   621.00\nName: hour, Length: 17414, dtype: float64"
     },
     "metadata": {}
    }
   ]
  },
  {
   "cell_type": "code",
   "metadata": {
    "tags": [],
    "cell_id": "00077-edbd53ac-9bc8-4bf5-a9e7-2ee82a8e1c69",
    "deepnote_to_be_reexecuted": false,
    "source_hash": "df9bd149",
    "execution_start": 1625422761741,
    "execution_millis": 49,
    "deepnote_cell_type": "code"
   },
   "source": "df['hour'].apply(fun_1,a=20,b=-100)",
   "execution_count": null,
   "outputs": [
    {
     "output_type": "execute_result",
     "execution_count": 42,
     "data": {
      "text/plain": "0         0.00\n1         0.80\n2         3.60\n3         8.40\n4        15.20\n         ...  \n17409   357.20\n17410   396.00\n17411   436.80\n17412   479.60\n17413   524.40\nName: hour, Length: 17414, dtype: float64"
     },
     "metadata": {}
    }
   ]
  },
  {
   "cell_type": "code",
   "metadata": {
    "tags": [],
    "cell_id": "00078-b79c278f-dd45-4545-b6da-8d4975430415",
    "deepnote_to_be_reexecuted": false,
    "source_hash": "fc96d246",
    "execution_start": 1625422792810,
    "execution_millis": 18,
    "deepnote_cell_type": "code"
   },
   "source": "df['t1'].apply(lambda x: x+273)",
   "execution_count": null,
   "outputs": [
    {
     "output_type": "execute_result",
     "execution_count": 43,
     "data": {
      "text/plain": "0       276.00\n1       276.00\n2       275.50\n3       275.00\n4       275.00\n         ...  \n17409   278.00\n17410   278.00\n17411   278.50\n17412   278.50\n17413   278.00\nName: t1, Length: 17414, dtype: float64"
     },
     "metadata": {}
    }
   ]
  },
  {
   "cell_type": "markdown",
   "source": "## applymap() : se usa para aplicar una función a todos los elementos del DataFrame.",
   "metadata": {
    "tags": [],
    "cell_id": "00075-eb551d52-6aab-42b7-a37a-82f20cf45eb4",
    "deepnote_cell_type": "markdown"
   }
  },
  {
   "cell_type": "code",
   "metadata": {
    "tags": [],
    "cell_id": "00077-fc3bd9a6-e8a5-443f-8443-cf61e149603c",
    "deepnote_to_be_reexecuted": false,
    "source_hash": "58c88cf5",
    "execution_start": 1625422804692,
    "execution_millis": 187,
    "deepnote_cell_type": "code"
   },
   "source": "df.applymap(lambda x: x*510)",
   "execution_count": null,
   "outputs": [
    {
     "output_type": "execute_result",
     "execution_count": 44,
     "data": {
      "application/vnd.deepnote.dataframe.v2+json": {
       "row_count": 17414,
       "column_count": 10,
       "columns": [
        {
         "name": "cnt",
         "dtype": "int64",
         "stats": {
          "unique_count": 3781,
          "nan_count": 0,
          "min": "0",
          "max": "4008600",
          "histogram": [
           {
            "bin_start": 0,
            "bin_end": 400860,
            "count": 8274
           },
           {
            "bin_start": 400860,
            "bin_end": 801720,
            "count": 4416
           },
           {
            "bin_start": 801720,
            "bin_end": 1202580,
            "count": 2355
           },
           {
            "bin_start": 1202580,
            "bin_end": 1603440,
            "count": 1241
           },
           {
            "bin_start": 1603440,
            "bin_end": 2004300,
            "count": 561
           },
           {
            "bin_start": 2004300,
            "bin_end": 2405160,
            "count": 471
           },
           {
            "bin_start": 2405160,
            "bin_end": 2806020,
            "count": 88
           },
           {
            "bin_start": 2806020,
            "bin_end": 3206880,
            "count": 2
           },
           {
            "bin_start": 3206880,
            "bin_end": 3607740,
            "count": 3
           },
           {
            "bin_start": 3607740,
            "bin_end": 4008600,
            "count": 3
           }
          ]
         }
        },
        {
         "name": "t1",
         "dtype": "float64",
         "stats": {
          "unique_count": 73,
          "nan_count": 0,
          "min": "-765.0",
          "max": "17340.0",
          "histogram": [
           {
            "bin_start": -765,
            "bin_end": 1045.5,
            "count": 417
           },
           {
            "bin_start": 1045.5,
            "bin_end": 2856,
            "count": 1567
           },
           {
            "bin_start": 2856,
            "bin_end": 4666.5,
            "count": 3489
           },
           {
            "bin_start": 4666.5,
            "bin_end": 6477,
            "count": 3478
           },
           {
            "bin_start": 6477,
            "bin_end": 8287.5,
            "count": 4139
           },
           {
            "bin_start": 8287.5,
            "bin_end": 10098,
            "count": 2520
           },
           {
            "bin_start": 10098,
            "bin_end": 11908.5,
            "count": 1340
           },
           {
            "bin_start": 11908.5,
            "bin_end": 13719,
            "count": 359
           },
           {
            "bin_start": 13719,
            "bin_end": 15529.5,
            "count": 77
           },
           {
            "bin_start": 15529.5,
            "bin_end": 17340,
            "count": 28
           }
          ]
         }
        },
        {
         "name": "t2",
         "dtype": "float64",
         "stats": {
          "unique_count": 82,
          "nan_count": 0,
          "min": "-3060.0",
          "max": "17340.0",
          "histogram": [
           {
            "bin_start": -3060,
            "bin_end": -1020,
            "count": 103
           },
           {
            "bin_start": -1020,
            "bin_end": 1020,
            "count": 1235
           },
           {
            "bin_start": 1020,
            "bin_end": 3060,
            "count": 2825
           },
           {
            "bin_start": 3060,
            "bin_end": 5100,
            "count": 2454
           },
           {
            "bin_start": 5100,
            "bin_end": 7140,
            "count": 3619
           },
           {
            "bin_start": 7140,
            "bin_end": 9180,
            "count": 4000
           },
           {
            "bin_start": 9180,
            "bin_end": 11220,
            "count": 2358
           },
           {
            "bin_start": 11220,
            "bin_end": 13260,
            "count": 649
           },
           {
            "bin_start": 13260,
            "bin_end": 15300,
            "count": 138
           },
           {
            "bin_start": 15300,
            "bin_end": 17340,
            "count": 33
           }
          ]
         }
        },
        {
         "name": "hum",
         "dtype": "float64",
         "stats": {
          "unique_count": 143,
          "nan_count": 0,
          "min": "10455.0",
          "max": "51000.0",
          "histogram": [
           {
            "bin_start": 10455,
            "bin_end": 14509.5,
            "count": 25
           },
           {
            "bin_start": 14509.5,
            "bin_end": 18564,
            "count": 148
           },
           {
            "bin_start": 18564,
            "bin_end": 22618.5,
            "count": 582
           },
           {
            "bin_start": 22618.5,
            "bin_end": 26673,
            "count": 1154
           },
           {
            "bin_start": 26673,
            "bin_end": 30727.5,
            "count": 1721
           },
           {
            "bin_start": 30727.5,
            "bin_end": 34782,
            "count": 2492
           },
           {
            "bin_start": 34782,
            "bin_end": 38836.5,
            "count": 3423
           },
           {
            "bin_start": 38836.5,
            "bin_end": 42891,
            "count": 3963
           },
           {
            "bin_start": 42891,
            "bin_end": 46945.5,
            "count": 2910
           },
           {
            "bin_start": 46945.5,
            "bin_end": 51000,
            "count": 996
           }
          ]
         }
        },
        {
         "name": "wind_speed",
         "dtype": "float64",
         "stats": {
          "unique_count": 103,
          "nan_count": 0,
          "min": "0.0",
          "max": "28815.0",
          "histogram": [
           {
            "bin_start": 0,
            "bin_end": 2881.5,
            "count": 1100
           },
           {
            "bin_start": 2881.5,
            "bin_end": 5763,
            "count": 4559
           },
           {
            "bin_start": 5763,
            "bin_end": 8644.5,
            "count": 4198
           },
           {
            "bin_start": 8644.5,
            "bin_end": 11526,
            "count": 4285
           },
           {
            "bin_start": 11526,
            "bin_end": 14407.5,
            "count": 1985
           },
           {
            "bin_start": 14407.5,
            "bin_end": 17289,
            "count": 868
           },
           {
            "bin_start": 17289,
            "bin_end": 20170.5,
            "count": 300
           },
           {
            "bin_start": 20170.5,
            "bin_end": 23052,
            "count": 86
           },
           {
            "bin_start": 23052,
            "bin_end": 25933.5,
            "count": 27
           },
           {
            "bin_start": 25933.5,
            "bin_end": 28815,
            "count": 6
           }
          ]
         }
        },
        {
         "name": "weather_code",
         "dtype": "float64"
        },
        {
         "name": "is_holiday",
         "dtype": "float64"
        },
        {
         "name": "is_weekend",
         "dtype": "float64"
        },
        {
         "name": "season",
         "dtype": "float64"
        },
        {
         "name": "hour",
         "dtype": "int64"
        },
        {
         "name": "_deepnote_index_column",
         "dtype": "int64"
        }
       ],
       "rows_top": [
        {
         "cnt": 92820,
         "t1": 1530,
         "t2": 1020,
         "hum": 47430,
         "wind_speed": 3060,
         "weather_code": 1530,
         "is_holiday": 0,
         "is_weekend": 510,
         "season": 1530,
         "hour": 0,
         "_deepnote_index_column": 0
        },
        {
         "cnt": 70380,
         "t1": 1530,
         "t2": 1275,
         "hum": 47430,
         "wind_speed": 2550,
         "weather_code": 510,
         "is_holiday": 0,
         "is_weekend": 510,
         "season": 1530,
         "hour": 510,
         "_deepnote_index_column": 1
        },
        {
         "cnt": 68340,
         "t1": 1275,
         "t2": 1275,
         "hum": 49215,
         "wind_speed": 0,
         "weather_code": 510,
         "is_holiday": 0,
         "is_weekend": 510,
         "season": 1530,
         "hour": 1020,
         "_deepnote_index_column": 2
        },
        {
         "cnt": 36720,
         "t1": 1020,
         "t2": 1020,
         "hum": 51000,
         "wind_speed": 0,
         "weather_code": 510,
         "is_holiday": 0,
         "is_weekend": 510,
         "season": 1530,
         "hour": 1530,
         "_deepnote_index_column": 3
        },
        {
         "cnt": 23970,
         "t1": 1020,
         "t2": 0,
         "hum": 47430,
         "wind_speed": 3315,
         "weather_code": 510,
         "is_holiday": 0,
         "is_weekend": 510,
         "season": 1530,
         "hour": 2040,
         "_deepnote_index_column": 4
        },
        {
         "cnt": 23460,
         "t1": 1020,
         "t2": 1020,
         "hum": 47430,
         "wind_speed": 2040,
         "weather_code": 510,
         "is_holiday": 0,
         "is_weekend": 510,
         "season": 1530,
         "hour": 2550,
         "_deepnote_index_column": 5
        },
        {
         "cnt": 26010,
         "t1": 510,
         "t2": -510,
         "hum": 51000,
         "wind_speed": 3570,
         "weather_code": 2040,
         "is_holiday": 0,
         "is_weekend": 510,
         "season": 1530,
         "hour": 3060,
         "_deepnote_index_column": 6
        },
        {
         "cnt": 38250,
         "t1": 510,
         "t2": -510,
         "hum": 51000,
         "wind_speed": 3570,
         "weather_code": 2040,
         "is_holiday": 0,
         "is_weekend": 510,
         "season": 1530,
         "hour": 3570,
         "_deepnote_index_column": 7
        },
        {
         "cnt": 66810,
         "t1": 765,
         "t2": -510,
         "hum": 49215,
         "wind_speed": 4080,
         "weather_code": 2040,
         "is_holiday": 0,
         "is_weekend": 510,
         "season": 1530,
         "hour": 4080,
         "_deepnote_index_column": 8
        },
        {
         "cnt": 153510,
         "t1": 1020,
         "t2": -255,
         "hum": 51000,
         "wind_speed": 4590,
         "weather_code": 1530,
         "is_holiday": 0,
         "is_weekend": 510,
         "season": 1530,
         "hour": 4590,
         "_deepnote_index_column": 9
        },
        {
         "cnt": 269280,
         "t1": 1530,
         "t2": -255,
         "hum": 47430,
         "wind_speed": 6120,
         "weather_code": 1530,
         "is_holiday": 0,
         "is_weekend": 510,
         "season": 1530,
         "hour": 5100,
         "_deepnote_index_column": 10
        },
        {
         "cnt": 370770,
         "t1": 1020,
         "t2": -765,
         "hum": 51000,
         "wind_speed": 6120,
         "weather_code": 1530,
         "is_holiday": 0,
         "is_weekend": 510,
         "season": 1530,
         "hour": 5610,
         "_deepnote_index_column": 11
        },
        {
         "cnt": 439620,
         "t1": 1020,
         "t2": -765,
         "hum": 49215,
         "wind_speed": 6630,
         "weather_code": 2040,
         "is_holiday": 0,
         "is_weekend": 510,
         "season": 1530,
         "hour": 6120,
         "_deepnote_index_column": 12
        },
        {
         "cnt": 467160,
         "t1": 1530,
         "t2": -255,
         "hum": 44370,
         "wind_speed": 7650,
         "weather_code": 1530,
         "is_holiday": 0,
         "is_weekend": 510,
         "season": 1530,
         "hour": 6630,
         "_deepnote_index_column": 13
        },
        {
         "cnt": 529890,
         "t1": 1275,
         "t2": 0,
         "hum": 45900,
         "wind_speed": 4080,
         "weather_code": 1530,
         "is_holiday": 0,
         "is_weekend": 510,
         "season": 1530,
         "hour": 7140,
         "_deepnote_index_column": 14
        },
        {
         "cnt": 443190,
         "t1": 1020,
         "t2": -765,
         "hum": 47430,
         "wind_speed": 5610,
         "weather_code": 1530,
         "is_holiday": 0,
         "is_weekend": 510,
         "season": 1530,
         "hour": 7650,
         "_deepnote_index_column": 15
        },
        {
         "cnt": 375870,
         "t1": 1530,
         "t2": 0,
         "hum": 47430,
         "wind_speed": 6120,
         "weather_code": 1530,
         "is_holiday": 0,
         "is_weekend": 510,
         "season": 1530,
         "hour": 8160,
         "_deepnote_index_column": 16
        },
        {
         "cnt": 302940,
         "t1": 1530,
         "t2": 0,
         "hum": 47430,
         "wind_speed": 5610,
         "weather_code": 1530,
         "is_holiday": 0,
         "is_weekend": 510,
         "season": 1530,
         "hour": 8670,
         "_deepnote_index_column": 17
        },
        {
         "cnt": 266220,
         "t1": 1530,
         "t2": 765,
         "hum": 47430,
         "wind_speed": 3315,
         "weather_code": 1530,
         "is_holiday": 0,
         "is_weekend": 510,
         "season": 1530,
         "hour": 9180,
         "_deepnote_index_column": 18
        },
        {
         "cnt": 193290,
         "t1": 1530,
         "t2": 510,
         "hum": 47430,
         "wind_speed": 3570,
         "weather_code": 1530,
         "is_holiday": 0,
         "is_weekend": 510,
         "season": 1530,
         "hour": 9690,
         "_deepnote_index_column": 19
        },
        {
         "cnt": 167280,
         "t1": 1530,
         "t2": 1530,
         "hum": 47430,
         "wind_speed": 2040,
         "weather_code": 1530,
         "is_holiday": 0,
         "is_weekend": 510,
         "season": 1530,
         "hour": 10200,
         "_deepnote_index_column": 20
        },
        {
         "cnt": 112710,
         "t1": 1530,
         "t2": 1275,
         "hum": 47430,
         "wind_speed": 2550,
         "weather_code": 2040,
         "is_holiday": 0,
         "is_weekend": 510,
         "season": 1530,
         "hour": 10710,
         "_deepnote_index_column": 21
        },
        {
         "cnt": 90780,
         "t1": 1530,
         "t2": 1020,
         "hum": 47430,
         "wind_speed": 3060,
         "weather_code": 2040,
         "is_holiday": 0,
         "is_weekend": 510,
         "season": 1530,
         "hour": 11220,
         "_deepnote_index_column": 22
        },
        {
         "cnt": 80070,
         "t1": 2040,
         "t2": 1785,
         "hum": 44370,
         "wind_speed": 2550,
         "weather_code": 2040,
         "is_holiday": 0,
         "is_weekend": 510,
         "season": 1530,
         "hour": 11730,
         "_deepnote_index_column": 23
        },
        {
         "cnt": 42330,
         "t1": 2040,
         "t2": 1530,
         "hum": 47430,
         "wind_speed": 3060,
         "weather_code": 2040,
         "is_holiday": 0,
         "is_weekend": 0,
         "season": 1530,
         "hour": 0,
         "_deepnote_index_column": 24
        },
        {
         "cnt": 34170,
         "t1": 2040,
         "t2": 1785,
         "hum": 47430,
         "wind_speed": 2550,
         "weather_code": 2040,
         "is_holiday": 0,
         "is_weekend": 0,
         "season": 1530,
         "hour": 510,
         "_deepnote_index_column": 25
        },
        {
         "cnt": 16320,
         "t1": 2550,
         "t2": 2040,
         "hum": 44370,
         "wind_speed": 3060,
         "weather_code": 2040,
         "is_holiday": 0,
         "is_weekend": 0,
         "season": 1530,
         "hour": 1020,
         "_deepnote_index_column": 26
        },
        {
         "cnt": 11220,
         "t1": 3060,
         "t2": 2295,
         "hum": 42840,
         "wind_speed": 3825,
         "weather_code": 2040,
         "is_holiday": 0,
         "is_weekend": 0,
         "season": 1530,
         "hour": 1530,
         "_deepnote_index_column": 27
        },
        {
         "cnt": 19380,
         "t1": 3315,
         "t2": 2550,
         "hum": 42840,
         "wind_speed": 4080,
         "weather_code": 2040,
         "is_holiday": 0,
         "is_weekend": 0,
         "season": 1530,
         "hour": 2040,
         "_deepnote_index_column": 28
        },
        {
         "cnt": 41310,
         "t1": 3060,
         "t2": 2805,
         "hum": 44370,
         "wind_speed": 2550,
         "weather_code": 2040,
         "is_holiday": 0,
         "is_weekend": 0,
         "season": 1530,
         "hour": 2550,
         "_deepnote_index_column": 29
        },
        {
         "cnt": 226440,
         "t1": 3570,
         "t2": 3315,
         "hum": 41310,
         "wind_speed": 2550,
         "weather_code": 1530,
         "is_holiday": 0,
         "is_weekend": 0,
         "season": 1530,
         "hour": 3060,
         "_deepnote_index_column": 30
        },
        {
         "cnt": 814470,
         "t1": 3570,
         "t2": 3060,
         "hum": 41310,
         "wind_speed": 3315,
         "weather_code": 1530,
         "is_holiday": 0,
         "is_weekend": 0,
         "season": 1530,
         "hour": 3570,
         "_deepnote_index_column": 31
        },
        {
         "cnt": 1612110,
         "t1": 4080,
         "t2": 3825,
         "hum": 40290,
         "wind_speed": 2550,
         "weather_code": 1530,
         "is_holiday": 0,
         "is_weekend": 0,
         "season": 1530,
         "hour": 4080,
         "_deepnote_index_column": 32
        },
        {
         "cnt": 684420,
         "t1": 4080,
         "t2": 3570,
         "hum": 41820,
         "wind_speed": 3060,
         "weather_code": 1530,
         "is_holiday": 0,
         "is_weekend": 0,
         "season": 1530,
         "hour": 4590,
         "_deepnote_index_column": 33
        },
        {
         "cnt": 289680,
         "t1": 4590,
         "t2": 4080,
         "hum": 43095,
         "wind_speed": 3315,
         "weather_code": 1530,
         "is_holiday": 0,
         "is_weekend": 0,
         "season": 1530,
         "hour": 5100,
         "_deepnote_index_column": 34
        },
        {
         "cnt": 297840,
         "t1": 4590,
         "t2": 3825,
         "hum": 46155,
         "wind_speed": 5100,
         "weather_code": 1530,
         "is_holiday": 0,
         "is_weekend": 0,
         "season": 1530,
         "hour": 5610,
         "_deepnote_index_column": 35
        },
        {
         "cnt": 388620,
         "t1": 5100,
         "t2": 4080,
         "hum": 43350,
         "wind_speed": 5610,
         "weather_code": 1530,
         "is_holiday": 0,
         "is_weekend": 0,
         "season": 1530,
         "hour": 6120,
         "_deepnote_index_column": 36
        },
        {
         "cnt": 445230,
         "t1": 5100,
         "t2": 4335,
         "hum": 41820,
         "wind_speed": 5100,
         "weather_code": 1530,
         "is_holiday": 0,
         "is_weekend": 0,
         "season": 1530,
         "hour": 6630,
         "_deepnote_index_column": 37
        },
        {
         "cnt": 342720,
         "t1": 5100,
         "t2": 4590,
         "hum": 41820,
         "wind_speed": 4590,
         "weather_code": 1530,
         "is_holiday": 0,
         "is_weekend": 0,
         "season": 1530,
         "hour": 7140,
         "_deepnote_index_column": 38
        },
        {
         "cnt": 411570,
         "t1": 5100,
         "t2": 4335,
         "hum": 40290,
         "wind_speed": 5100,
         "weather_code": 1530,
         "is_holiday": 0,
         "is_weekend": 0,
         "season": 1530,
         "hour": 7650,
         "_deepnote_index_column": 39
        },
        {
         "cnt": 607920,
         "t1": 5100,
         "t2": 4335,
         "hum": 37485,
         "wind_speed": 6630,
         "weather_code": 1530,
         "is_holiday": 0,
         "is_weekend": 0,
         "season": 1530,
         "hour": 8160,
         "_deepnote_index_column": 40
        },
        {
         "cnt": 1408110,
         "t1": 4845,
         "t2": 3825,
         "hum": 37485,
         "wind_speed": 6120,
         "weather_code": 1530,
         "is_holiday": 0,
         "is_weekend": 0,
         "season": 1530,
         "hour": 8670,
         "_deepnote_index_column": 41
        },
        {
         "cnt": 1218390,
         "t1": 4845,
         "t2": 3825,
         "hum": 35190,
         "wind_speed": 7140,
         "weather_code": 1530,
         "is_holiday": 0,
         "is_weekend": 0,
         "season": 1530,
         "hour": 9180,
         "_deepnote_index_column": 42
        },
        {
         "cnt": 649740,
         "t1": 4590,
         "t2": 3315,
         "hum": 36210,
         "wind_speed": 7140,
         "weather_code": 1530,
         "is_holiday": 0,
         "is_weekend": 0,
         "season": 1530,
         "hour": 9690,
         "_deepnote_index_column": 43
        },
        {
         "cnt": 354960,
         "t1": 4590,
         "t2": 3570,
         "hum": 36210,
         "wind_speed": 7140,
         "weather_code": 1530,
         "is_holiday": 0,
         "is_weekend": 0,
         "season": 1530,
         "hour": 10200,
         "_deepnote_index_column": 44
        },
        {
         "cnt": 209610,
         "t1": 4590,
         "t2": 3570,
         "hum": 36210,
         "wind_speed": 5610,
         "weather_code": 1530,
         "is_holiday": 0,
         "is_weekend": 0,
         "season": 1530,
         "hour": 10710,
         "_deepnote_index_column": 45
        },
        {
         "cnt": 165240,
         "t1": 4590,
         "t2": 3825,
         "hum": 36210,
         "wind_speed": 5100,
         "weather_code": 2040,
         "is_holiday": 0,
         "is_weekend": 0,
         "season": 1530,
         "hour": 11220,
         "_deepnote_index_column": 46
        },
        {
         "cnt": 97920,
         "t1": 4335,
         "t2": 3825,
         "hum": 37485,
         "wind_speed": 4080,
         "weather_code": 2040,
         "is_holiday": 0,
         "is_weekend": 0,
         "season": 1530,
         "hour": 11730,
         "_deepnote_index_column": 47
        },
        {
         "cnt": 46410,
         "t1": 4080,
         "t2": 3315,
         "hum": 38760,
         "wind_speed": 4080,
         "weather_code": 2040,
         "is_holiday": 0,
         "is_weekend": 0,
         "season": 1530,
         "hour": 0,
         "_deepnote_index_column": 48
        },
        {
         "cnt": 37230,
         "t1": 4080,
         "t2": 3315,
         "hum": 38760,
         "wind_speed": 4080,
         "weather_code": 2040,
         "is_holiday": 0,
         "is_weekend": 0,
         "season": 1530,
         "hour": 510,
         "_deepnote_index_column": 49
        }
       ],
       "rows_bottom": [
        {
         "cnt": 60690,
         "t1": 2550,
         "t2": 1020,
         "hum": 47430,
         "wind_speed": 6120,
         "weather_code": 1530,
         "is_holiday": 0,
         "is_weekend": 510,
         "season": 1530,
         "hour": 11220,
         "_deepnote_index_column": 17364
        },
        {
         "cnt": 45390,
         "t1": 2550,
         "t2": 1275,
         "hum": 45900,
         "wind_speed": 5100,
         "weather_code": 510,
         "is_holiday": 0,
         "is_weekend": 510,
         "season": 1530,
         "hour": 11730,
         "_deepnote_index_column": 17365
        },
        {
         "cnt": 42840,
         "t1": 2550,
         "t2": 1020,
         "hum": 44370,
         "wind_speed": 6630,
         "weather_code": 510,
         "is_holiday": 510,
         "is_weekend": 0,
         "season": 1530,
         "hour": 0,
         "_deepnote_index_column": 17366
        },
        {
         "cnt": 31620,
         "t1": 2550,
         "t2": 1020,
         "hum": 44370,
         "wind_speed": 6120,
         "weather_code": 510,
         "is_holiday": 510,
         "is_weekend": 0,
         "season": 1530,
         "hour": 510,
         "_deepnote_index_column": 17367
        },
        {
         "cnt": 20910,
         "t1": 2295,
         "t2": 765,
         "hum": 45900,
         "wind_speed": 7140,
         "weather_code": 510,
         "is_holiday": 510,
         "is_weekend": 0,
         "season": 1530,
         "hour": 1020,
         "_deepnote_index_column": 17368
        },
        {
         "cnt": 11730,
         "t1": 1785,
         "t2": 255,
         "hum": 45900,
         "wind_speed": 6630,
         "weather_code": 510,
         "is_holiday": 510,
         "is_weekend": 0,
         "season": 1530,
         "hour": 1530,
         "_deepnote_index_column": 17369
        },
        {
         "cnt": 9180,
         "t1": 1530,
         "t2": 255,
         "hum": 47430,
         "wind_speed": 4080,
         "weather_code": 1020,
         "is_holiday": 510,
         "is_weekend": 0,
         "season": 1530,
         "hour": 2040,
         "_deepnote_index_column": 17370
        },
        {
         "cnt": 17850,
         "t1": 1530,
         "t2": 1275,
         "hum": 47430,
         "wind_speed": 2550,
         "weather_code": 1020,
         "is_holiday": 510,
         "is_weekend": 0,
         "season": 1530,
         "hour": 2550,
         "_deepnote_index_column": 17371
        },
        {
         "cnt": 32640,
         "t1": 1530,
         "t2": 0,
         "hum": 44370,
         "wind_speed": 5100,
         "weather_code": 1020,
         "is_holiday": 510,
         "is_weekend": 0,
         "season": 1530,
         "hour": 3060,
         "_deepnote_index_column": 17372
        },
        {
         "cnt": 56610,
         "t1": 1530,
         "t2": 0,
         "hum": 44370,
         "wind_speed": 4590,
         "weather_code": 510,
         "is_holiday": 510,
         "is_weekend": 0,
         "season": 1530,
         "hour": 3570,
         "_deepnote_index_column": 17373
        },
        {
         "cnt": 103530,
         "t1": 1530,
         "t2": 0,
         "hum": 44370,
         "wind_speed": 4590,
         "weather_code": 510,
         "is_holiday": 510,
         "is_weekend": 0,
         "season": 1530,
         "hour": 4080,
         "_deepnote_index_column": 17374
        },
        {
         "cnt": 209610,
         "t1": 1530,
         "t2": -255,
         "hum": 44370,
         "wind_speed": 6120,
         "weather_code": 510,
         "is_holiday": 510,
         "is_weekend": 0,
         "season": 1530,
         "hour": 4590,
         "_deepnote_index_column": 17375
        },
        {
         "cnt": 340680,
         "t1": 2040,
         "t2": 0,
         "hum": 41310,
         "wind_speed": 8670,
         "weather_code": 510,
         "is_holiday": 510,
         "is_weekend": 0,
         "season": 1530,
         "hour": 5100,
         "_deepnote_index_column": 17376
        },
        {
         "cnt": 520710,
         "t1": 2295,
         "t2": 765,
         "hum": 40035,
         "wind_speed": 8160,
         "weather_code": 510,
         "is_holiday": 510,
         "is_weekend": 0,
         "season": 1530,
         "hour": 5610,
         "_deepnote_index_column": 17377
        },
        {
         "cnt": 646170,
         "t1": 2550,
         "t2": 1020,
         "hum": 40035,
         "wind_speed": 7140,
         "weather_code": 510,
         "is_holiday": 510,
         "is_weekend": 0,
         "season": 1530,
         "hour": 6120,
         "_deepnote_index_column": 17378
        },
        {
         "cnt": 671160,
         "t1": 2805,
         "t2": 1530,
         "hum": 37485,
         "wind_speed": 5610,
         "weather_code": 1020,
         "is_holiday": 510,
         "is_weekend": 0,
         "season": 1530,
         "hour": 6630,
         "_deepnote_index_column": 17379
        },
        {
         "cnt": 775200,
         "t1": 3060,
         "t2": 2040,
         "hum": 36210,
         "wind_speed": 5610,
         "weather_code": 1020,
         "is_holiday": 510,
         "is_weekend": 0,
         "season": 1530,
         "hour": 7140,
         "_deepnote_index_column": 17380
        },
        {
         "cnt": 688500,
         "t1": 2550,
         "t2": 1530,
         "hum": 38760,
         "wind_speed": 4590,
         "weather_code": 510,
         "is_holiday": 510,
         "is_weekend": 0,
         "season": 1530,
         "hour": 7650,
         "_deepnote_index_column": 17381
        },
        {
         "cnt": 495210,
         "t1": 2550,
         "t2": 1275,
         "hum": 38760,
         "wind_speed": 5610,
         "weather_code": 510,
         "is_holiday": 510,
         "is_weekend": 0,
         "season": 1530,
         "hour": 8160,
         "_deepnote_index_column": 17382
        },
        {
         "cnt": 366180,
         "t1": 2040,
         "t2": 765,
         "hum": 41310,
         "wind_speed": 5100,
         "weather_code": 510,
         "is_holiday": 510,
         "is_weekend": 0,
         "season": 1530,
         "hour": 8670,
         "_deepnote_index_column": 17383
        },
        {
         "cnt": 302940,
         "t1": 1530,
         "t2": 0,
         "hum": 42840,
         "wind_speed": 4590,
         "weather_code": 510,
         "is_holiday": 510,
         "is_weekend": 0,
         "season": 1530,
         "hour": 9180,
         "_deepnote_index_column": 17384
        },
        {
         "cnt": 220830,
         "t1": 1530,
         "t2": 0,
         "hum": 41310,
         "wind_speed": 5610,
         "weather_code": 510,
         "is_holiday": 510,
         "is_weekend": 0,
         "season": 1530,
         "hour": 9690,
         "_deepnote_index_column": 17385
        },
        {
         "cnt": 170340,
         "t1": 1530,
         "t2": 0,
         "hum": 38250,
         "wind_speed": 6630,
         "weather_code": 510,
         "is_holiday": 510,
         "is_weekend": 0,
         "season": 1530,
         "hour": 10200,
         "_deepnote_index_column": 17386
        },
        {
         "cnt": 118830,
         "t1": 1275,
         "t2": -255,
         "hum": 39780,
         "wind_speed": 5610,
         "weather_code": 510,
         "is_holiday": 510,
         "is_weekend": 0,
         "season": 1530,
         "hour": 10710,
         "_deepnote_index_column": 17387
        },
        {
         "cnt": 102510,
         "t1": 1020,
         "t2": -510,
         "hum": 41310,
         "wind_speed": 5100,
         "weather_code": 510,
         "is_holiday": 510,
         "is_weekend": 0,
         "season": 1530,
         "hour": 11220,
         "_deepnote_index_column": 17388
        },
        {
         "cnt": 73950,
         "t1": 510,
         "t2": -1020,
         "hum": 47430,
         "wind_speed": 5100,
         "weather_code": 510,
         "is_holiday": 510,
         "is_weekend": 0,
         "season": 1530,
         "hour": 11730,
         "_deepnote_index_column": 17389
        },
        {
         "cnt": 32130,
         "t1": 510,
         "t2": -1020,
         "hum": 45900,
         "wind_speed": 5610,
         "weather_code": 510,
         "is_holiday": 0,
         "is_weekend": 0,
         "season": 1530,
         "hour": 0,
         "_deepnote_index_column": 17390
        },
        {
         "cnt": 24990,
         "t1": 510,
         "t2": -1020,
         "hum": 44370,
         "wind_speed": 5100,
         "weather_code": 510,
         "is_holiday": 0,
         "is_weekend": 0,
         "season": 1530,
         "hour": 510,
         "_deepnote_index_column": 17391
        },
        {
         "cnt": 21930,
         "t1": 255,
         "t2": -1530,
         "hum": 45900,
         "wind_speed": 5610,
         "weather_code": 510,
         "is_holiday": 0,
         "is_weekend": 0,
         "season": 1530,
         "hour": 1020,
         "_deepnote_index_column": 17392
        },
        {
         "cnt": 5100,
         "t1": 0,
         "t2": -2040,
         "hum": 47430,
         "wind_speed": 6630,
         "weather_code": 510,
         "is_holiday": 0,
         "is_weekend": 0,
         "season": 1530,
         "hour": 1530,
         "_deepnote_index_column": 17393
        },
        {
         "cnt": 15300,
         "t1": 0,
         "t2": -2040,
         "hum": 47430,
         "wind_speed": 7140,
         "weather_code": 510,
         "is_holiday": 0,
         "is_weekend": 0,
         "season": 1530,
         "hour": 2040,
         "_deepnote_index_column": 17394
        },
        {
         "cnt": 42330,
         "t1": 255,
         "t2": -1785,
         "hum": 45900,
         "wind_speed": 7140,
         "weather_code": 1530,
         "is_holiday": 0,
         "is_weekend": 0,
         "season": 1530,
         "hour": 2550,
         "_deepnote_index_column": 17395
        },
        {
         "cnt": 221340,
         "t1": 510,
         "t2": -1785,
         "hum": 44370,
         "wind_speed": 9180,
         "weather_code": 510,
         "is_holiday": 0,
         "is_weekend": 0,
         "season": 1530,
         "hour": 3060,
         "_deepnote_index_column": 17396
        },
        {
         "cnt": 717570,
         "t1": 510,
         "t2": -2040,
         "hum": 44370,
         "wind_speed": 9690,
         "weather_code": 510,
         "is_holiday": 0,
         "is_weekend": 0,
         "season": 1530,
         "hour": 3570,
         "_deepnote_index_column": 17397
        },
        {
         "cnt": 1481040,
         "t1": 510,
         "t2": -1785,
         "hum": 44370,
         "wind_speed": 9435,
         "weather_code": 1530,
         "is_holiday": 0,
         "is_weekend": 0,
         "season": 1530,
         "hour": 4080,
         "_deepnote_index_column": 17398
        },
        {
         "cnt": 692070,
         "t1": 1275,
         "t2": -765,
         "hum": 41310,
         "wind_speed": 7140,
         "weather_code": 510,
         "is_holiday": 0,
         "is_weekend": 0,
         "season": 1530,
         "hour": 4590,
         "_deepnote_index_column": 17399
        },
        {
         "cnt": 337110,
         "t1": 1530,
         "t2": -1020,
         "hum": 41310,
         "wind_speed": 10200,
         "weather_code": 510,
         "is_holiday": 0,
         "is_weekend": 0,
         "season": 1530,
         "hour": 5100,
         "_deepnote_index_column": 17400
        },
        {
         "cnt": 324360,
         "t1": 2040,
         "t2": 0,
         "hum": 39780,
         "wind_speed": 10710,
         "weather_code": 510,
         "is_holiday": 0,
         "is_weekend": 0,
         "season": 1530,
         "hour": 5610,
         "_deepnote_index_column": 17401
        },
        {
         "cnt": 420750,
         "t1": 2550,
         "t2": 510,
         "hum": 38760,
         "wind_speed": 10710,
         "weather_code": 1530,
         "is_holiday": 0,
         "is_weekend": 0,
         "season": 1530,
         "hour": 6120,
         "_deepnote_index_column": 17402
        },
        {
         "cnt": 447780,
         "t1": 3060,
         "t2": 1020,
         "hum": 36210,
         "wind_speed": 11730,
         "weather_code": 2040,
         "is_holiday": 0,
         "is_weekend": 0,
         "season": 1530,
         "hour": 6630,
         "_deepnote_index_column": 17403
        },
        {
         "cnt": 390150,
         "t1": 3060,
         "t2": 1020,
         "hum": 37485,
         "wind_speed": 11220,
         "weather_code": 1530,
         "is_holiday": 0,
         "is_weekend": 0,
         "season": 1530,
         "hour": 7140,
         "_deepnote_index_column": 17404
        },
        {
         "cnt": 430950,
         "t1": 3060,
         "t2": 1020,
         "hum": 36210,
         "wind_speed": 13770,
         "weather_code": 2040,
         "is_holiday": 0,
         "is_weekend": 0,
         "season": 1530,
         "hour": 7650,
         "_deepnote_index_column": 17405
        },
        {
         "cnt": 612510,
         "t1": 3060,
         "t2": 1020,
         "hum": 36210,
         "wind_speed": 13260,
         "weather_code": 2040,
         "is_holiday": 0,
         "is_weekend": 0,
         "season": 1530,
         "hour": 8160,
         "_deepnote_index_column": 17406
        },
        {
         "cnt": 1398420,
         "t1": 3060,
         "t2": 1020,
         "hum": 37485,
         "wind_speed": 10710,
         "weather_code": 1530,
         "is_holiday": 0,
         "is_weekend": 0,
         "season": 1530,
         "hour": 8670,
         "_deepnote_index_column": 17407
        },
        {
         "cnt": 1132200,
         "t1": 2550,
         "t2": 510,
         "hum": 41310,
         "wind_speed": 11220,
         "weather_code": 1020,
         "is_holiday": 0,
         "is_weekend": 0,
         "season": 1530,
         "hour": 9180,
         "_deepnote_index_column": 17408
        },
        {
         "cnt": 531420,
         "t1": 2550,
         "t2": 510,
         "hum": 41310,
         "wind_speed": 9690,
         "weather_code": 1530,
         "is_holiday": 0,
         "is_weekend": 0,
         "season": 1530,
         "hour": 9690,
         "_deepnote_index_column": 17409
        },
        {
         "cnt": 275910,
         "t1": 2550,
         "t2": 510,
         "hum": 41310,
         "wind_speed": 10710,
         "weather_code": 2040,
         "is_holiday": 0,
         "is_weekend": 0,
         "season": 1530,
         "hour": 10200,
         "_deepnote_index_column": 17410
        },
        {
         "cnt": 171870,
         "t1": 2805,
         "t2": 765,
         "hum": 40035,
         "wind_speed": 12240,
         "weather_code": 2040,
         "is_holiday": 0,
         "is_weekend": 0,
         "season": 1530,
         "hour": 10710,
         "_deepnote_index_column": 17411
        },
        {
         "cnt": 114240,
         "t1": 2805,
         "t2": 765,
         "hum": 38760,
         "wind_speed": 11730,
         "weather_code": 2040,
         "is_holiday": 0,
         "is_weekend": 0,
         "season": 1530,
         "hour": 11220,
         "_deepnote_index_column": 17412
        },
        {
         "cnt": 70890,
         "t1": 2550,
         "t2": 510,
         "hum": 38760,
         "wind_speed": 11220,
         "weather_code": 1020,
         "is_holiday": 0,
         "is_weekend": 0,
         "season": 1530,
         "hour": 11730,
         "_deepnote_index_column": 17413
        }
       ]
      },
      "text/plain": "          cnt       t1       t2       hum  wind_speed  weather_code  \\\n0       92820 1,530.00 1,020.00 47,430.00    3,060.00      1,530.00   \n1       70380 1,530.00 1,275.00 47,430.00    2,550.00        510.00   \n2       68340 1,275.00 1,275.00 49,215.00        0.00        510.00   \n3       36720 1,020.00 1,020.00 51,000.00        0.00        510.00   \n4       23970 1,020.00     0.00 47,430.00    3,315.00        510.00   \n...       ...      ...      ...       ...         ...           ...   \n17409  531420 2,550.00   510.00 41,310.00    9,690.00      1,530.00   \n17410  275910 2,550.00   510.00 41,310.00   10,710.00      2,040.00   \n17411  171870 2,805.00   765.00 40,035.00   12,240.00      2,040.00   \n17412  114240 2,805.00   765.00 38,760.00   11,730.00      2,040.00   \n17413   70890 2,550.00   510.00 38,760.00   11,220.00      1,020.00   \n\n       is_holiday  is_weekend   season   hour  \n0            0.00      510.00 1,530.00      0  \n1            0.00      510.00 1,530.00    510  \n2            0.00      510.00 1,530.00   1020  \n3            0.00      510.00 1,530.00   1530  \n4            0.00      510.00 1,530.00   2040  \n...           ...         ...      ...    ...  \n17409        0.00        0.00 1,530.00   9690  \n17410        0.00        0.00 1,530.00  10200  \n17411        0.00        0.00 1,530.00  10710  \n17412        0.00        0.00 1,530.00  11220  \n17413        0.00        0.00 1,530.00  11730  \n\n[17414 rows x 10 columns]",
      "text/html": "<div>\n<style scoped>\n    .dataframe tbody tr th:only-of-type {\n        vertical-align: middle;\n    }\n\n    .dataframe tbody tr th {\n        vertical-align: top;\n    }\n\n    .dataframe thead th {\n        text-align: right;\n    }\n</style>\n<table border=\"1\" class=\"dataframe\">\n  <thead>\n    <tr style=\"text-align: right;\">\n      <th></th>\n      <th>cnt</th>\n      <th>t1</th>\n      <th>t2</th>\n      <th>hum</th>\n      <th>wind_speed</th>\n      <th>weather_code</th>\n      <th>is_holiday</th>\n      <th>is_weekend</th>\n      <th>season</th>\n      <th>hour</th>\n    </tr>\n  </thead>\n  <tbody>\n    <tr>\n      <th>0</th>\n      <td>92820</td>\n      <td>1,530.00</td>\n      <td>1,020.00</td>\n      <td>47,430.00</td>\n      <td>3,060.00</td>\n      <td>1,530.00</td>\n      <td>0.00</td>\n      <td>510.00</td>\n      <td>1,530.00</td>\n      <td>0</td>\n    </tr>\n    <tr>\n      <th>1</th>\n      <td>70380</td>\n      <td>1,530.00</td>\n      <td>1,275.00</td>\n      <td>47,430.00</td>\n      <td>2,550.00</td>\n      <td>510.00</td>\n      <td>0.00</td>\n      <td>510.00</td>\n      <td>1,530.00</td>\n      <td>510</td>\n    </tr>\n    <tr>\n      <th>2</th>\n      <td>68340</td>\n      <td>1,275.00</td>\n      <td>1,275.00</td>\n      <td>49,215.00</td>\n      <td>0.00</td>\n      <td>510.00</td>\n      <td>0.00</td>\n      <td>510.00</td>\n      <td>1,530.00</td>\n      <td>1020</td>\n    </tr>\n    <tr>\n      <th>3</th>\n      <td>36720</td>\n      <td>1,020.00</td>\n      <td>1,020.00</td>\n      <td>51,000.00</td>\n      <td>0.00</td>\n      <td>510.00</td>\n      <td>0.00</td>\n      <td>510.00</td>\n      <td>1,530.00</td>\n      <td>1530</td>\n    </tr>\n    <tr>\n      <th>4</th>\n      <td>23970</td>\n      <td>1,020.00</td>\n      <td>0.00</td>\n      <td>47,430.00</td>\n      <td>3,315.00</td>\n      <td>510.00</td>\n      <td>0.00</td>\n      <td>510.00</td>\n      <td>1,530.00</td>\n      <td>2040</td>\n    </tr>\n    <tr>\n      <th>...</th>\n      <td>...</td>\n      <td>...</td>\n      <td>...</td>\n      <td>...</td>\n      <td>...</td>\n      <td>...</td>\n      <td>...</td>\n      <td>...</td>\n      <td>...</td>\n      <td>...</td>\n    </tr>\n    <tr>\n      <th>17409</th>\n      <td>531420</td>\n      <td>2,550.00</td>\n      <td>510.00</td>\n      <td>41,310.00</td>\n      <td>9,690.00</td>\n      <td>1,530.00</td>\n      <td>0.00</td>\n      <td>0.00</td>\n      <td>1,530.00</td>\n      <td>9690</td>\n    </tr>\n    <tr>\n      <th>17410</th>\n      <td>275910</td>\n      <td>2,550.00</td>\n      <td>510.00</td>\n      <td>41,310.00</td>\n      <td>10,710.00</td>\n      <td>2,040.00</td>\n      <td>0.00</td>\n      <td>0.00</td>\n      <td>1,530.00</td>\n      <td>10200</td>\n    </tr>\n    <tr>\n      <th>17411</th>\n      <td>171870</td>\n      <td>2,805.00</td>\n      <td>765.00</td>\n      <td>40,035.00</td>\n      <td>12,240.00</td>\n      <td>2,040.00</td>\n      <td>0.00</td>\n      <td>0.00</td>\n      <td>1,530.00</td>\n      <td>10710</td>\n    </tr>\n    <tr>\n      <th>17412</th>\n      <td>114240</td>\n      <td>2,805.00</td>\n      <td>765.00</td>\n      <td>38,760.00</td>\n      <td>11,730.00</td>\n      <td>2,040.00</td>\n      <td>0.00</td>\n      <td>0.00</td>\n      <td>1,530.00</td>\n      <td>11220</td>\n    </tr>\n    <tr>\n      <th>17413</th>\n      <td>70890</td>\n      <td>2,550.00</td>\n      <td>510.00</td>\n      <td>38,760.00</td>\n      <td>11,220.00</td>\n      <td>1,020.00</td>\n      <td>0.00</td>\n      <td>0.00</td>\n      <td>1,530.00</td>\n      <td>11730</td>\n    </tr>\n  </tbody>\n</table>\n<p>17414 rows × 10 columns</p>\n</div>"
     },
     "metadata": {}
    }
   ]
  },
  {
   "cell_type": "markdown",
   "source": "# Multiples indices\n[11]-multiples-indices.ipynb",
   "metadata": {
    "tags": [],
    "cell_id": "00081-07834e70-8f98-4c1c-a099-30946aceb4dd",
    "deepnote_cell_type": "markdown"
   }
  },
  {
   "cell_type": "code",
   "metadata": {
    "tags": [],
    "cell_id": "00082-3887b88d-706b-4953-b92a-4043da16db65",
    "deepnote_to_be_reexecuted": false,
    "source_hash": "66d3d7b4",
    "execution_start": 1625422961709,
    "execution_millis": 8,
    "deepnote_cell_type": "code"
   },
   "source": "import pandas as pd\nimport numpy as np\n\ndf_prob = pd.read_csv('db/poblacion.csv')\npd.options.display.float_format = '{:,.1f}'.format\ndf_prob['year'] = pd.Categorical(df_prob['year'].apply(str))\nid_filtro = df_prob['Country'].isin(['Aruba','Colombia'])\ndf_sample = df_prob[id_filtro]",
   "execution_count": null,
   "outputs": []
  },
  {
   "cell_type": "markdown",
   "source": "## Crear un indice",
   "metadata": {
    "tags": [],
    "cell_id": "00083-713868dd-a793-4782-9f4f-09b09ea63360",
    "deepnote_cell_type": "markdown"
   }
  },
  {
   "cell_type": "code",
   "metadata": {
    "tags": [],
    "cell_id": "00084-e6d1a6f5-d388-435d-87df-3da0b871a587",
    "deepnote_to_be_reexecuted": false,
    "source_hash": "f206c891",
    "execution_start": 1625422962845,
    "execution_millis": 33,
    "deepnote_cell_type": "code"
   },
   "source": "df_sample = df_sample.set_index(['Country','year']).sort_index()\ndf_sample",
   "execution_count": null,
   "outputs": [
    {
     "output_type": "execute_result",
     "execution_count": 47,
     "data": {
      "application/vnd.deepnote.dataframe.v2+json": {
       "row_count": 8,
       "column_count": 1,
       "columns": [
        {
         "name": "pop",
         "dtype": "float64",
         "stats": {
          "unique_count": 8,
          "nan_count": 0,
          "min": "104341.0",
          "max": "49648685.0",
          "histogram": [
           {
            "bin_start": 104341,
            "bin_end": 5058775.4,
            "count": 4
           },
           {
            "bin_start": 5058775.4,
            "bin_end": 10013209.8,
            "count": 0
           },
           {
            "bin_start": 10013209.8,
            "bin_end": 14967644.200000001,
            "count": 0
           },
           {
            "bin_start": 14967644.200000001,
            "bin_end": 19922078.6,
            "count": 0
           },
           {
            "bin_start": 19922078.6,
            "bin_end": 24876513,
            "count": 0
           },
           {
            "bin_start": 24876513,
            "bin_end": 29830947.400000002,
            "count": 0
           },
           {
            "bin_start": 29830947.400000002,
            "bin_end": 34785381.800000004,
            "count": 0
           },
           {
            "bin_start": 34785381.800000004,
            "bin_end": 39739816.2,
            "count": 0
           },
           {
            "bin_start": 39739816.2,
            "bin_end": 44694250.6,
            "count": 0
           },
           {
            "bin_start": 44694250.6,
            "bin_end": 49648685,
            "count": 4
           }
          ]
         }
        },
        {
         "name": "_deepnote_index_column",
         "dtype": "object"
        }
       ],
       "rows_top": [
        {
         "pop": 104341,
         "_deepnote_index_column": "('Aruba', '2015')"
        },
        {
         "pop": 104872,
         "_deepnote_index_column": "('Aruba', '2016')"
        },
        {
         "pop": 105366,
         "_deepnote_index_column": "('Aruba', '2017')"
        },
        {
         "pop": 105845,
         "_deepnote_index_column": "('Aruba', '2018')"
        },
        {
         "pop": 47520667,
         "_deepnote_index_column": "('Colombia', '2015')"
        },
        {
         "pop": 48171392,
         "_deepnote_index_column": "('Colombia', '2016')"
        },
        {
         "pop": 48901066,
         "_deepnote_index_column": "('Colombia', '2017')"
        },
        {
         "pop": 49648685,
         "_deepnote_index_column": "('Colombia', '2018')"
        }
       ],
       "rows_bottom": null
      },
      "text/plain": "                       pop\nCountry  year             \nAruba    2015    104,341.0\n         2016    104,872.0\n         2017    105,366.0\n         2018    105,845.0\nColombia 2015 47,520,667.0\n         2016 48,171,392.0\n         2017 48,901,066.0\n         2018 49,648,685.0",
      "text/html": "<div>\n<style scoped>\n    .dataframe tbody tr th:only-of-type {\n        vertical-align: middle;\n    }\n\n    .dataframe tbody tr th {\n        vertical-align: top;\n    }\n\n    .dataframe thead th {\n        text-align: right;\n    }\n</style>\n<table border=\"1\" class=\"dataframe\">\n  <thead>\n    <tr style=\"text-align: right;\">\n      <th></th>\n      <th></th>\n      <th>pop</th>\n    </tr>\n    <tr>\n      <th>Country</th>\n      <th>year</th>\n      <th></th>\n    </tr>\n  </thead>\n  <tbody>\n    <tr>\n      <th rowspan=\"4\" valign=\"top\">Aruba</th>\n      <th>2015</th>\n      <td>104,341.0</td>\n    </tr>\n    <tr>\n      <th>2016</th>\n      <td>104,872.0</td>\n    </tr>\n    <tr>\n      <th>2017</th>\n      <td>105,366.0</td>\n    </tr>\n    <tr>\n      <th>2018</th>\n      <td>105,845.0</td>\n    </tr>\n    <tr>\n      <th rowspan=\"4\" valign=\"top\">Colombia</th>\n      <th>2015</th>\n      <td>47,520,667.0</td>\n    </tr>\n    <tr>\n      <th>2016</th>\n      <td>48,171,392.0</td>\n    </tr>\n    <tr>\n      <th>2017</th>\n      <td>48,901,066.0</td>\n    </tr>\n    <tr>\n      <th>2018</th>\n      <td>49,648,685.0</td>\n    </tr>\n  </tbody>\n</table>\n</div>"
     },
     "metadata": {}
    }
   ]
  },
  {
   "cell_type": "markdown",
   "source": "## loc : Seleccion de indices en una pequeña muestra",
   "metadata": {
    "tags": [],
    "cell_id": "00085-8b8003cc-657e-4e5d-b15d-cbde6ed9fcbc",
    "deepnote_cell_type": "markdown"
   }
  },
  {
   "cell_type": "code",
   "metadata": {
    "tags": [],
    "cell_id": "00085-b7a278fc-5355-4aa0-b142-a2d64bb56416",
    "deepnote_to_be_reexecuted": false,
    "source_hash": "c1d155a0",
    "execution_start": 1625422993592,
    "execution_millis": 14,
    "deepnote_cell_type": "code"
   },
   "source": "df_sample.loc['Colombia',:].loc['2016',:]",
   "execution_count": null,
   "outputs": [
    {
     "output_type": "execute_result",
     "execution_count": 48,
     "data": {
      "text/plain": "pop   48,171,392.0\nName: 2016, dtype: float64"
     },
     "metadata": {}
    }
   ]
  },
  {
   "cell_type": "markdown",
   "source": "## xs : Seleccion de indices en una pequeña muestra",
   "metadata": {
    "tags": [],
    "cell_id": "00087-7791249f-1a21-4c96-a9b7-8d33752a939e",
    "deepnote_cell_type": "markdown"
   }
  },
  {
   "cell_type": "code",
   "metadata": {
    "tags": [],
    "cell_id": "00088-bd225288-2e0c-4ba2-b691-e6c1ec82b601",
    "deepnote_to_be_reexecuted": false,
    "source_hash": "48028f76",
    "execution_start": 1625423015669,
    "execution_millis": 18,
    "deepnote_cell_type": "code"
   },
   "source": "df_sample.xs(['Aruba','2018'])",
   "execution_count": null,
   "outputs": [
    {
     "output_type": "execute_result",
     "execution_count": 49,
     "data": {
      "text/plain": "pop   105,845.0\nName: (Aruba, 2018), dtype: float64"
     },
     "metadata": {}
    }
   ]
  },
  {
   "cell_type": "code",
   "metadata": {
    "tags": [],
    "cell_id": "00089-4efc6d76-d6a3-4413-a4f2-a834f98c50f6",
    "deepnote_to_be_reexecuted": false,
    "source_hash": "7dcd6686",
    "execution_start": 1625423030909,
    "execution_millis": 22,
    "deepnote_cell_type": "code"
   },
   "source": "df_sample.xs('2018', level='year')",
   "execution_count": null,
   "outputs": [
    {
     "output_type": "execute_result",
     "execution_count": 50,
     "data": {
      "application/vnd.deepnote.dataframe.v2+json": {
       "row_count": 2,
       "column_count": 1,
       "columns": [
        {
         "name": "pop",
         "dtype": "float64",
         "stats": {
          "unique_count": 2,
          "nan_count": 0,
          "min": "105845.0",
          "max": "49648685.0",
          "histogram": [
           {
            "bin_start": 105845,
            "bin_end": 5060129,
            "count": 1
           },
           {
            "bin_start": 5060129,
            "bin_end": 10014413,
            "count": 0
           },
           {
            "bin_start": 10014413,
            "bin_end": 14968697,
            "count": 0
           },
           {
            "bin_start": 14968697,
            "bin_end": 19922981,
            "count": 0
           },
           {
            "bin_start": 19922981,
            "bin_end": 24877265,
            "count": 0
           },
           {
            "bin_start": 24877265,
            "bin_end": 29831549,
            "count": 0
           },
           {
            "bin_start": 29831549,
            "bin_end": 34785833,
            "count": 0
           },
           {
            "bin_start": 34785833,
            "bin_end": 39740117,
            "count": 0
           },
           {
            "bin_start": 39740117,
            "bin_end": 44694401,
            "count": 0
           },
           {
            "bin_start": 44694401,
            "bin_end": 49648685,
            "count": 1
           }
          ]
         }
        },
        {
         "name": "_deepnote_index_column",
         "dtype": "object"
        }
       ],
       "rows_top": [
        {
         "pop": 105845,
         "_deepnote_index_column": "Aruba"
        },
        {
         "pop": 49648685,
         "_deepnote_index_column": "Colombia"
        }
       ],
       "rows_bottom": null
      },
      "text/plain": "                  pop\nCountry              \nAruba       105,845.0\nColombia 49,648,685.0",
      "text/html": "<div>\n<style scoped>\n    .dataframe tbody tr th:only-of-type {\n        vertical-align: middle;\n    }\n\n    .dataframe tbody tr th {\n        vertical-align: top;\n    }\n\n    .dataframe thead th {\n        text-align: right;\n    }\n</style>\n<table border=\"1\" class=\"dataframe\">\n  <thead>\n    <tr style=\"text-align: right;\">\n      <th></th>\n      <th>pop</th>\n    </tr>\n    <tr>\n      <th>Country</th>\n      <th></th>\n    </tr>\n  </thead>\n  <tbody>\n    <tr>\n      <th>Aruba</th>\n      <td>105,845.0</td>\n    </tr>\n    <tr>\n      <th>Colombia</th>\n      <td>49,648,685.0</td>\n    </tr>\n  </tbody>\n</table>\n</div>"
     },
     "metadata": {}
    }
   ]
  },
  {
   "cell_type": "markdown",
   "source": "## set_index",
   "metadata": {
    "tags": [],
    "cell_id": "00090-931a648a-3b2d-4545-affe-7106641c4427",
    "deepnote_cell_type": "markdown"
   }
  },
  {
   "cell_type": "code",
   "metadata": {
    "tags": [],
    "cell_id": "00091-84936f11-fa40-42a9-b92a-9b7899ca5ce5",
    "deepnote_to_be_reexecuted": false,
    "source_hash": "6d655389",
    "execution_start": 1625423126151,
    "execution_millis": 47,
    "deepnote_cell_type": "code"
   },
   "source": "df_countries = df_prob.set_index(['Country','year']).sort_index(ascending=[True,True])\ndf_countries.head(4)",
   "execution_count": null,
   "outputs": [
    {
     "output_type": "execute_result",
     "execution_count": 52,
     "data": {
      "application/vnd.deepnote.dataframe.v2+json": {
       "row_count": 4,
       "column_count": 1,
       "columns": [
        {
         "name": "pop",
         "dtype": "float64",
         "stats": {
          "unique_count": 4,
          "nan_count": 0,
          "min": "34413603.0",
          "max": "37172386.0",
          "histogram": [
           {
            "bin_start": 34413603,
            "bin_end": 34689481.3,
            "count": 1
           },
           {
            "bin_start": 34689481.3,
            "bin_end": 34965359.6,
            "count": 0
           },
           {
            "bin_start": 34965359.6,
            "bin_end": 35241237.9,
            "count": 0
           },
           {
            "bin_start": 35241237.9,
            "bin_end": 35517116.2,
            "count": 1
           },
           {
            "bin_start": 35517116.2,
            "bin_end": 35792994.5,
            "count": 0
           },
           {
            "bin_start": 35792994.5,
            "bin_end": 36068872.8,
            "count": 0
           },
           {
            "bin_start": 36068872.8,
            "bin_end": 36344751.1,
            "count": 1
           },
           {
            "bin_start": 36344751.1,
            "bin_end": 36620629.4,
            "count": 0
           },
           {
            "bin_start": 36620629.4,
            "bin_end": 36896507.7,
            "count": 0
           },
           {
            "bin_start": 36896507.7,
            "bin_end": 37172386,
            "count": 1
           }
          ]
         }
        },
        {
         "name": "_deepnote_index_column",
         "dtype": "object"
        }
       ],
       "rows_top": [
        {
         "pop": 34413603,
         "_deepnote_index_column": "('Afghanistan', '2015')"
        },
        {
         "pop": 35383128,
         "_deepnote_index_column": "('Afghanistan', '2016')"
        },
        {
         "pop": 36296400,
         "_deepnote_index_column": "('Afghanistan', '2017')"
        },
        {
         "pop": 37172386,
         "_deepnote_index_column": "('Afghanistan', '2018')"
        }
       ],
       "rows_bottom": null
      },
      "text/plain": "                          pop\nCountry     year             \nAfghanistan 2015 34,413,603.0\n            2016 35,383,128.0\n            2017 36,296,400.0\n            2018 37,172,386.0",
      "text/html": "<div>\n<style scoped>\n    .dataframe tbody tr th:only-of-type {\n        vertical-align: middle;\n    }\n\n    .dataframe tbody tr th {\n        vertical-align: top;\n    }\n\n    .dataframe thead th {\n        text-align: right;\n    }\n</style>\n<table border=\"1\" class=\"dataframe\">\n  <thead>\n    <tr style=\"text-align: right;\">\n      <th></th>\n      <th></th>\n      <th>pop</th>\n    </tr>\n    <tr>\n      <th>Country</th>\n      <th>year</th>\n      <th></th>\n    </tr>\n  </thead>\n  <tbody>\n    <tr>\n      <th rowspan=\"4\" valign=\"top\">Afghanistan</th>\n      <th>2015</th>\n      <td>34,413,603.0</td>\n    </tr>\n    <tr>\n      <th>2016</th>\n      <td>35,383,128.0</td>\n    </tr>\n    <tr>\n      <th>2017</th>\n      <td>36,296,400.0</td>\n    </tr>\n    <tr>\n      <th>2018</th>\n      <td>37,172,386.0</td>\n    </tr>\n  </tbody>\n</table>\n</div>"
     },
     "metadata": {}
    }
   ]
  },
  {
   "cell_type": "markdown",
   "source": "## Crear un indice con los paises deseados\n\nPor ejemplo: de Aruba a  Austria del año 2015 a 2017",
   "metadata": {
    "tags": [],
    "cell_id": "00092-d5c66240-9fdc-4d03-9295-6f536cf1c479",
    "deepnote_cell_type": "markdown"
   }
  },
  {
   "cell_type": "code",
   "metadata": {
    "tags": [],
    "cell_id": "00093-270e3213-26cf-493a-8bd5-ba15c31e3fbf",
    "deepnote_to_be_reexecuted": false,
    "source_hash": "2d5c3e75",
    "execution_start": 1625423138364,
    "execution_millis": 20,
    "deepnote_cell_type": "code"
   },
   "source": "ids = pd.IndexSlice\ndf_countries.loc[ids['Aruba':'Austria','2015':'2017'],:].sort_index()",
   "execution_count": null,
   "outputs": [
    {
     "output_type": "execute_result",
     "execution_count": 53,
     "data": {
      "application/vnd.deepnote.dataframe.v2+json": {
       "row_count": 9,
       "column_count": 1,
       "columns": [
        {
         "name": "pop",
         "dtype": "float64",
         "stats": {
          "unique_count": 9,
          "nan_count": 0,
          "min": "104341.0",
          "max": "24601860.0",
          "histogram": [
           {
            "bin_start": 104341,
            "bin_end": 2554092.9,
            "count": 3
           },
           {
            "bin_start": 2554092.9,
            "bin_end": 5003844.8,
            "count": 0
           },
           {
            "bin_start": 5003844.8,
            "bin_end": 7453596.699999999,
            "count": 0
           },
           {
            "bin_start": 7453596.699999999,
            "bin_end": 9903348.6,
            "count": 3
           },
           {
            "bin_start": 9903348.6,
            "bin_end": 12353100.5,
            "count": 0
           },
           {
            "bin_start": 12353100.5,
            "bin_end": 14802852.399999999,
            "count": 0
           },
           {
            "bin_start": 14802852.399999999,
            "bin_end": 17252604.3,
            "count": 0
           },
           {
            "bin_start": 17252604.3,
            "bin_end": 19702356.2,
            "count": 0
           },
           {
            "bin_start": 19702356.2,
            "bin_end": 22152108.099999998,
            "count": 0
           },
           {
            "bin_start": 22152108.099999998,
            "bin_end": 24601860,
            "count": 3
           }
          ]
         }
        },
        {
         "name": "_deepnote_index_column",
         "dtype": "object"
        }
       ],
       "rows_top": [
        {
         "pop": 104341,
         "_deepnote_index_column": "('Aruba', '2015')"
        },
        {
         "pop": 104872,
         "_deepnote_index_column": "('Aruba', '2016')"
        },
        {
         "pop": 105366,
         "_deepnote_index_column": "('Aruba', '2017')"
        },
        {
         "pop": 23815995,
         "_deepnote_index_column": "('Australia', '2015')"
        },
        {
         "pop": 24190907,
         "_deepnote_index_column": "('Australia', '2016')"
        },
        {
         "pop": 24601860,
         "_deepnote_index_column": "('Australia', '2017')"
        },
        {
         "pop": 8642699,
         "_deepnote_index_column": "('Austria', '2015')"
        },
        {
         "pop": 8736668,
         "_deepnote_index_column": "('Austria', '2016')"
        },
        {
         "pop": 8797566,
         "_deepnote_index_column": "('Austria', '2017')"
        }
       ],
       "rows_bottom": null
      },
      "text/plain": "                        pop\nCountry   year             \nAruba     2015    104,341.0\n          2016    104,872.0\n          2017    105,366.0\nAustralia 2015 23,815,995.0\n          2016 24,190,907.0\n          2017 24,601,860.0\nAustria   2015  8,642,699.0\n          2016  8,736,668.0\n          2017  8,797,566.0",
      "text/html": "<div>\n<style scoped>\n    .dataframe tbody tr th:only-of-type {\n        vertical-align: middle;\n    }\n\n    .dataframe tbody tr th {\n        vertical-align: top;\n    }\n\n    .dataframe thead th {\n        text-align: right;\n    }\n</style>\n<table border=\"1\" class=\"dataframe\">\n  <thead>\n    <tr style=\"text-align: right;\">\n      <th></th>\n      <th></th>\n      <th>pop</th>\n    </tr>\n    <tr>\n      <th>Country</th>\n      <th>year</th>\n      <th></th>\n    </tr>\n  </thead>\n  <tbody>\n    <tr>\n      <th rowspan=\"3\" valign=\"top\">Aruba</th>\n      <th>2015</th>\n      <td>104,341.0</td>\n    </tr>\n    <tr>\n      <th>2016</th>\n      <td>104,872.0</td>\n    </tr>\n    <tr>\n      <th>2017</th>\n      <td>105,366.0</td>\n    </tr>\n    <tr>\n      <th rowspan=\"3\" valign=\"top\">Australia</th>\n      <th>2015</th>\n      <td>23,815,995.0</td>\n    </tr>\n    <tr>\n      <th>2016</th>\n      <td>24,190,907.0</td>\n    </tr>\n    <tr>\n      <th>2017</th>\n      <td>24,601,860.0</td>\n    </tr>\n    <tr>\n      <th rowspan=\"3\" valign=\"top\">Austria</th>\n      <th>2015</th>\n      <td>8,642,699.0</td>\n    </tr>\n    <tr>\n      <th>2016</th>\n      <td>8,736,668.0</td>\n    </tr>\n    <tr>\n      <th>2017</th>\n      <td>8,797,566.0</td>\n    </tr>\n  </tbody>\n</table>\n</div>"
     },
     "metadata": {}
    }
   ]
  },
  {
   "cell_type": "markdown",
   "source": "## Acceder al valor del indice deseado",
   "metadata": {
    "tags": [],
    "cell_id": "00094-d17c1d97-c648-47b8-ab89-77d18bd506ac",
    "deepnote_cell_type": "markdown"
   }
  },
  {
   "cell_type": "code",
   "metadata": {
    "tags": [],
    "cell_id": "00095-3f4b6854-2e17-4cf9-b923-650ea9a46bfa",
    "deepnote_to_be_reexecuted": false,
    "source_hash": "9a63562f",
    "execution_start": 1625423198274,
    "execution_millis": 21,
    "deepnote_cell_type": "code"
   },
   "source": "df_countries.index.get_level_values(0)",
   "execution_count": null,
   "outputs": [
    {
     "output_type": "execute_result",
     "execution_count": 54,
     "data": {
      "text/plain": "Index(['Afghanistan', 'Afghanistan', 'Afghanistan', 'Afghanistan', 'Albania',\n       'Albania', 'Albania', 'Albania', 'Algeria', 'Algeria',\n       ...\n       'Yemen, Rep.', 'Yemen, Rep.', 'Zambia', 'Zambia', 'Zambia', 'Zambia',\n       'Zimbabwe', 'Zimbabwe', 'Zimbabwe', 'Zimbabwe'],\n      dtype='object', name='Country', length=1040)"
     },
     "metadata": {}
    }
   ]
  },
  {
   "cell_type": "markdown",
   "source": "## Extraer un dato especifico \nCuando trabajamos con un DataFrame con multiples indices, podemos extraer un dato en especifico con una cadena de instrucciones.",
   "metadata": {
    "tags": [],
    "cell_id": "00096-cbb6d041-6724-47c8-a493-5dd759fc8438",
    "deepnote_cell_type": "markdown"
   }
  },
  {
   "cell_type": "code",
   "metadata": {
    "tags": [],
    "cell_id": "00097-bc11548c-38df-4ba9-ba87-b85387623763",
    "deepnote_to_be_reexecuted": false,
    "source_hash": "772ddf70",
    "execution_start": 1625423443065,
    "execution_millis": 14,
    "deepnote_cell_type": "code"
   },
   "source": "df_countries['pop']['Colombia']['2016']",
   "execution_count": null,
   "outputs": [
    {
     "output_type": "execute_result",
     "execution_count": 56,
     "data": {
      "text/plain": "48171392.0"
     },
     "metadata": {}
    }
   ]
  },
  {
   "cell_type": "markdown",
   "source": "Unas de las **grandes utilidades** es cuando tenemos que aplicar **funciones** matematicas sobre el.\nY nos obtiene la poblacion total en cada año.",
   "metadata": {
    "tags": [],
    "cell_id": "00096-8932825f-2509-4e0d-8ead-11e976ae8cfc",
    "deepnote_cell_type": "markdown"
   }
  },
  {
   "cell_type": "code",
   "metadata": {
    "tags": [],
    "cell_id": "00099-2585ca82-4cf1-4967-8205-bb08761ed08b",
    "deepnote_to_be_reexecuted": false,
    "source_hash": "d2b3b29c",
    "execution_start": 1625423443586,
    "execution_millis": 15,
    "deepnote_cell_type": "code"
   },
   "source": "df_countries.sum(level='year')",
   "execution_count": null,
   "outputs": [
    {
     "output_type": "execute_result",
     "execution_count": 57,
     "data": {
      "application/vnd.deepnote.dataframe.v2+json": {
       "row_count": 4,
       "column_count": 1,
       "columns": [
        {
         "name": "pop",
         "dtype": "float64",
         "stats": {
          "unique_count": 4,
          "nan_count": 0,
          "min": "65679147019.0",
          "max": "68087886692.0",
          "histogram": [
           {
            "bin_start": 65679147019,
            "bin_end": 65920020986.3,
            "count": 1
           },
           {
            "bin_start": 65920020986.3,
            "bin_end": 66160894953.6,
            "count": 0
           },
           {
            "bin_start": 66160894953.6,
            "bin_end": 66401768920.9,
            "count": 0
           },
           {
            "bin_start": 66401768920.9,
            "bin_end": 66642642888.2,
            "count": 1
           },
           {
            "bin_start": 66642642888.2,
            "bin_end": 66883516855.5,
            "count": 0
           },
           {
            "bin_start": 66883516855.5,
            "bin_end": 67124390822.8,
            "count": 0
           },
           {
            "bin_start": 67124390822.8,
            "bin_end": 67365264790.1,
            "count": 1
           },
           {
            "bin_start": 67365264790.1,
            "bin_end": 67606138757.4,
            "count": 0
           },
           {
            "bin_start": 67606138757.4,
            "bin_end": 67847012724.7,
            "count": 0
           },
           {
            "bin_start": 67847012724.7,
            "bin_end": 68087886692,
            "count": 1
           }
          ]
         }
        },
        {
         "name": "_deepnote_index_column",
         "dtype": "category"
        }
       ],
       "rows_top": [
        {
         "pop": 65679147019,
         "_deepnote_index_column": "2015"
        },
        {
         "pop": 66487930677,
         "_deepnote_index_column": "2016"
        },
        {
         "pop": 67294176701,
         "_deepnote_index_column": "2017"
        },
        {
         "pop": 68087886692,
         "_deepnote_index_column": "2018"
        }
       ],
       "rows_bottom": null
      },
      "text/plain": "                  pop\nyear                 \n2015 65,679,147,019.0\n2016 66,487,930,677.0\n2017 67,294,176,701.0\n2018 68,087,886,692.0",
      "text/html": "<div>\n<style scoped>\n    .dataframe tbody tr th:only-of-type {\n        vertical-align: middle;\n    }\n\n    .dataframe tbody tr th {\n        vertical-align: top;\n    }\n\n    .dataframe thead th {\n        text-align: right;\n    }\n</style>\n<table border=\"1\" class=\"dataframe\">\n  <thead>\n    <tr style=\"text-align: right;\">\n      <th></th>\n      <th>pop</th>\n    </tr>\n    <tr>\n      <th>year</th>\n      <th></th>\n    </tr>\n  </thead>\n  <tbody>\n    <tr>\n      <th>2015</th>\n      <td>65,679,147,019.0</td>\n    </tr>\n    <tr>\n      <th>2016</th>\n      <td>66,487,930,677.0</td>\n    </tr>\n    <tr>\n      <th>2017</th>\n      <td>67,294,176,701.0</td>\n    </tr>\n    <tr>\n      <th>2018</th>\n      <td>68,087,886,692.0</td>\n    </tr>\n  </tbody>\n</table>\n</div>"
     },
     "metadata": {}
    }
   ]
  },
  {
   "cell_type": "markdown",
   "source": "## unstack : Nos permite cambia la estructura de nuestro DataFrame.",
   "metadata": {
    "tags": [],
    "cell_id": "00100-843236be-42d5-44de-838b-872e42d2b93f",
    "deepnote_cell_type": "markdown"
   }
  },
  {
   "cell_type": "code",
   "metadata": {
    "tags": [],
    "cell_id": "00101-c5124067-dcb4-491e-83f6-9d7a90530045",
    "deepnote_to_be_reexecuted": false,
    "source_hash": "e8dc91e9",
    "execution_start": 1625423445832,
    "execution_millis": 15,
    "deepnote_cell_type": "code"
   },
   "source": "df_sample.unstack('year')",
   "execution_count": null,
   "outputs": [
    {
     "output_type": "execute_result",
     "execution_count": 58,
     "data": {
      "application/vnd.deepnote.dataframe.v2+json": {
       "row_count": 2,
       "column_count": 4,
       "columns": [
        {
         "name": [
          "pop",
          "2015"
         ],
         "dtype": "float64",
         "stats": {
          "unique_count": 2,
          "nan_count": 0,
          "min": "104341.0",
          "max": "47520667.0",
          "histogram": [
           {
            "bin_start": 104341,
            "bin_end": 4845973.6,
            "count": 1
           },
           {
            "bin_start": 4845973.6,
            "bin_end": 9587606.2,
            "count": 0
           },
           {
            "bin_start": 9587606.2,
            "bin_end": 14329238.799999999,
            "count": 0
           },
           {
            "bin_start": 14329238.799999999,
            "bin_end": 19070871.4,
            "count": 0
           },
           {
            "bin_start": 19070871.4,
            "bin_end": 23812504,
            "count": 0
           },
           {
            "bin_start": 23812504,
            "bin_end": 28554136.599999998,
            "count": 0
           },
           {
            "bin_start": 28554136.599999998,
            "bin_end": 33295769.199999996,
            "count": 0
           },
           {
            "bin_start": 33295769.199999996,
            "bin_end": 38037401.8,
            "count": 0
           },
           {
            "bin_start": 38037401.8,
            "bin_end": 42779034.4,
            "count": 0
           },
           {
            "bin_start": 42779034.4,
            "bin_end": 47520667,
            "count": 1
           }
          ]
         }
        },
        {
         "name": [
          "pop",
          "2016"
         ],
         "dtype": "float64",
         "stats": {
          "unique_count": 2,
          "nan_count": 0,
          "min": "104872.0",
          "max": "48171392.0",
          "histogram": [
           {
            "bin_start": 104872,
            "bin_end": 4911524,
            "count": 1
           },
           {
            "bin_start": 4911524,
            "bin_end": 9718176,
            "count": 0
           },
           {
            "bin_start": 9718176,
            "bin_end": 14524828,
            "count": 0
           },
           {
            "bin_start": 14524828,
            "bin_end": 19331480,
            "count": 0
           },
           {
            "bin_start": 19331480,
            "bin_end": 24138132,
            "count": 0
           },
           {
            "bin_start": 24138132,
            "bin_end": 28944784,
            "count": 0
           },
           {
            "bin_start": 28944784,
            "bin_end": 33751436,
            "count": 0
           },
           {
            "bin_start": 33751436,
            "bin_end": 38558088,
            "count": 0
           },
           {
            "bin_start": 38558088,
            "bin_end": 43364740,
            "count": 0
           },
           {
            "bin_start": 43364740,
            "bin_end": 48171392,
            "count": 1
           }
          ]
         }
        },
        {
         "name": [
          "pop",
          "2017"
         ],
         "dtype": "float64",
         "stats": {
          "unique_count": 2,
          "nan_count": 0,
          "min": "105366.0",
          "max": "48901066.0",
          "histogram": [
           {
            "bin_start": 105366,
            "bin_end": 4984936,
            "count": 1
           },
           {
            "bin_start": 4984936,
            "bin_end": 9864506,
            "count": 0
           },
           {
            "bin_start": 9864506,
            "bin_end": 14744076,
            "count": 0
           },
           {
            "bin_start": 14744076,
            "bin_end": 19623646,
            "count": 0
           },
           {
            "bin_start": 19623646,
            "bin_end": 24503216,
            "count": 0
           },
           {
            "bin_start": 24503216,
            "bin_end": 29382786,
            "count": 0
           },
           {
            "bin_start": 29382786,
            "bin_end": 34262356,
            "count": 0
           },
           {
            "bin_start": 34262356,
            "bin_end": 39141926,
            "count": 0
           },
           {
            "bin_start": 39141926,
            "bin_end": 44021496,
            "count": 0
           },
           {
            "bin_start": 44021496,
            "bin_end": 48901066,
            "count": 1
           }
          ]
         }
        },
        {
         "name": [
          "pop",
          "2018"
         ],
         "dtype": "float64",
         "stats": {
          "unique_count": 2,
          "nan_count": 0,
          "min": "105845.0",
          "max": "49648685.0",
          "histogram": [
           {
            "bin_start": 105845,
            "bin_end": 5060129,
            "count": 1
           },
           {
            "bin_start": 5060129,
            "bin_end": 10014413,
            "count": 0
           },
           {
            "bin_start": 10014413,
            "bin_end": 14968697,
            "count": 0
           },
           {
            "bin_start": 14968697,
            "bin_end": 19922981,
            "count": 0
           },
           {
            "bin_start": 19922981,
            "bin_end": 24877265,
            "count": 0
           },
           {
            "bin_start": 24877265,
            "bin_end": 29831549,
            "count": 0
           },
           {
            "bin_start": 29831549,
            "bin_end": 34785833,
            "count": 0
           },
           {
            "bin_start": 34785833,
            "bin_end": 39740117,
            "count": 0
           },
           {
            "bin_start": 39740117,
            "bin_end": 44694401,
            "count": 0
           },
           {
            "bin_start": 44694401,
            "bin_end": 49648685,
            "count": 1
           }
          ]
         }
        },
        {
         "name": "_deepnote_index_column",
         "dtype": "object"
        }
       ],
       "rows_top": [
        {
         "('pop', '2015')": 104341,
         "('pop', '2016')": 104872,
         "('pop', '2017')": 105366,
         "('pop', '2018')": 105845,
         "_deepnote_index_column": "Aruba"
        },
        {
         "('pop', '2015')": 47520667,
         "('pop', '2016')": 48171392,
         "('pop', '2017')": 48901066,
         "('pop', '2018')": 49648685,
         "_deepnote_index_column": "Colombia"
        }
       ],
       "rows_bottom": null
      },
      "text/plain": "                  pop                                       \nyear             2015         2016         2017         2018\nCountry                                                     \nAruba       104,341.0    104,872.0    105,366.0    105,845.0\nColombia 47,520,667.0 48,171,392.0 48,901,066.0 49,648,685.0",
      "text/html": "<div>\n<style scoped>\n    .dataframe tbody tr th:only-of-type {\n        vertical-align: middle;\n    }\n\n    .dataframe tbody tr th {\n        vertical-align: top;\n    }\n\n    .dataframe thead tr th {\n        text-align: left;\n    }\n\n    .dataframe thead tr:last-of-type th {\n        text-align: right;\n    }\n</style>\n<table border=\"1\" class=\"dataframe\">\n  <thead>\n    <tr>\n      <th></th>\n      <th colspan=\"4\" halign=\"left\">pop</th>\n    </tr>\n    <tr>\n      <th>year</th>\n      <th>2015</th>\n      <th>2016</th>\n      <th>2017</th>\n      <th>2018</th>\n    </tr>\n    <tr>\n      <th>Country</th>\n      <th></th>\n      <th></th>\n      <th></th>\n      <th></th>\n    </tr>\n  </thead>\n  <tbody>\n    <tr>\n      <th>Aruba</th>\n      <td>104,341.0</td>\n      <td>104,872.0</td>\n      <td>105,366.0</td>\n      <td>105,845.0</td>\n    </tr>\n    <tr>\n      <th>Colombia</th>\n      <td>47,520,667.0</td>\n      <td>48,171,392.0</td>\n      <td>48,901,066.0</td>\n      <td>49,648,685.0</td>\n    </tr>\n  </tbody>\n</table>\n</div>"
     },
     "metadata": {}
    }
   ]
  },
  {
   "cell_type": "markdown",
   "source": "# Concat y Append\n[13] concat-y-append.ipynb",
   "metadata": {
    "tags": [],
    "cell_id": "00102-1cd532ca-952d-49c1-91ce-e3a0b3b19d3c",
    "deepnote_cell_type": "markdown"
   }
  },
  {
   "cell_type": "code",
   "metadata": {
    "tags": [],
    "cell_id": "00103-6e70c36d-d5da-4ce9-83c1-a241b1e54522",
    "deepnote_to_be_reexecuted": false,
    "source_hash": "f6718073",
    "execution_start": 1625424088663,
    "execution_millis": 1,
    "deepnote_cell_type": "code"
   },
   "source": "np.set_printoptions(precision=2)\nx1 = np.random.rand(2,5)*10\nx2 = np.random.rand(2,5)*10\n\ns1 = pd.Series(x1[0],index=['a','b','c','d','e'])\ns2 = pd.Series(x2[0], index=['c','b','e','f','g'])\n\ndf1 = pd.DataFrame(np.random.rand(3,2)*10,columns=['a','b'])\ndf2 = pd.DataFrame(np.random.rand(3,2)*-1,columns=['a','b'], index=[2,3,4])",
   "execution_count": null,
   "outputs": []
  },
  {
   "cell_type": "markdown",
   "source": "## Concatencacion con Numpy",
   "metadata": {
    "tags": [],
    "cell_id": "00104-3785c6a3-9165-42a1-9968-b1419e1cb055",
    "deepnote_cell_type": "markdown"
   }
  },
  {
   "cell_type": "code",
   "metadata": {
    "tags": [],
    "cell_id": "00105-91112b57-300a-465d-96c8-bfe02c642e3f",
    "deepnote_to_be_reexecuted": false,
    "source_hash": "f9be3cab",
    "execution_start": 1625424089393,
    "execution_millis": 13,
    "deepnote_cell_type": "code"
   },
   "source": "np.concatenate([x1,x2], axis=1)",
   "execution_count": null,
   "outputs": [
    {
     "output_type": "execute_result",
     "execution_count": 70,
     "data": {
      "text/plain": "array([[8.25, 2.14, 0.42, 9.86, 6.79, 9.37, 5.26, 0.29, 1.99, 4.71],\n       [1.51, 4.25, 0.94, 3.87, 1.1 , 8.15, 4.91, 8.01, 1.69, 5.77]])"
     },
     "metadata": {}
    }
   ]
  },
  {
   "cell_type": "markdown",
   "source": "## Resetear indices",
   "metadata": {
    "tags": [],
    "cell_id": "00104-979d4516-65b2-41af-8c9e-29547f49e29c",
    "deepnote_cell_type": "markdown"
   }
  },
  {
   "cell_type": "code",
   "metadata": {
    "tags": [],
    "cell_id": "00107-69d05ae5-ab56-4408-9e9c-f56027581cac",
    "deepnote_to_be_reexecuted": false,
    "source_hash": "56ff8763",
    "execution_start": 1625424090262,
    "execution_millis": 0,
    "deepnote_cell_type": "code"
   },
   "source": "s1 = s1.reset_index(drop=True)\ns2 = s2.reset_index(drop=True)",
   "execution_count": null,
   "outputs": []
  },
  {
   "cell_type": "markdown",
   "source": "## Concatenacion con Pandas",
   "metadata": {
    "tags": [],
    "cell_id": "00106-2595f3c2-a45f-4c7f-8c7f-efa912609aa2",
    "deepnote_cell_type": "markdown"
   }
  },
  {
   "cell_type": "code",
   "metadata": {
    "tags": [],
    "cell_id": "00110-d91ea9e4-9979-482d-ba28-2fc104101c98",
    "deepnote_to_be_reexecuted": false,
    "source_hash": "356a749b",
    "execution_start": 1625424092998,
    "execution_millis": 18,
    "deepnote_cell_type": "code"
   },
   "source": "pd.concat([df1,df2], axis=1)",
   "execution_count": null,
   "outputs": [
    {
     "output_type": "execute_result",
     "execution_count": 72,
     "data": {
      "application/vnd.deepnote.dataframe.v2+json": {
       "row_count": 5,
       "column_count": 4,
       "columns": [
        {
         "name": "a",
         "dtype": "float64",
         "stats": {
          "unique_count": 3,
          "nan_count": 2,
          "min": "1.2292254816465675",
          "max": "7.152403142267825",
          "histogram": [
           {
            "bin_start": 1.2292254816465675,
            "bin_end": 1.8215432477086932,
            "count": 1
           },
           {
            "bin_start": 1.8215432477086932,
            "bin_end": 2.413861013770819,
            "count": 0
           },
           {
            "bin_start": 2.413861013770819,
            "bin_end": 3.0061787798329447,
            "count": 0
           },
           {
            "bin_start": 3.0061787798329447,
            "bin_end": 3.5984965458950704,
            "count": 0
           },
           {
            "bin_start": 3.5984965458950704,
            "bin_end": 4.190814311957196,
            "count": 0
           },
           {
            "bin_start": 4.190814311957196,
            "bin_end": 4.783132078019322,
            "count": 1
           },
           {
            "bin_start": 4.783132078019322,
            "bin_end": 5.375449844081448,
            "count": 0
           },
           {
            "bin_start": 5.375449844081448,
            "bin_end": 5.967767610143573,
            "count": 0
           },
           {
            "bin_start": 5.967767610143573,
            "bin_end": 6.5600853762056985,
            "count": 0
           },
           {
            "bin_start": 6.5600853762056985,
            "bin_end": 7.152403142267825,
            "count": 1
           }
          ]
         }
        },
        {
         "name": "b",
         "dtype": "float64",
         "stats": {
          "unique_count": 3,
          "nan_count": 2,
          "min": "6.687822505652171",
          "max": "7.751421478551573",
          "histogram": [
           {
            "bin_start": 6.687822505652171,
            "bin_end": 6.794182402942112,
            "count": 1
           },
           {
            "bin_start": 6.794182402942112,
            "bin_end": 6.900542300232051,
            "count": 0
           },
           {
            "bin_start": 6.900542300232051,
            "bin_end": 7.006902197521992,
            "count": 1
           },
           {
            "bin_start": 7.006902197521992,
            "bin_end": 7.113262094811932,
            "count": 0
           },
           {
            "bin_start": 7.113262094811932,
            "bin_end": 7.219621992101873,
            "count": 0
           },
           {
            "bin_start": 7.219621992101873,
            "bin_end": 7.325981889391812,
            "count": 0
           },
           {
            "bin_start": 7.325981889391812,
            "bin_end": 7.432341786681753,
            "count": 0
           },
           {
            "bin_start": 7.432341786681753,
            "bin_end": 7.538701683971693,
            "count": 0
           },
           {
            "bin_start": 7.538701683971693,
            "bin_end": 7.645061581261633,
            "count": 0
           },
           {
            "bin_start": 7.645061581261633,
            "bin_end": 7.751421478551573,
            "count": 1
           }
          ]
         }
        },
        {
         "name": "a.1",
         "dtype": "float64",
         "stats": {
          "unique_count": 3,
          "nan_count": 2,
          "min": "-0.9829011239305813",
          "max": "-0.3435281305022162",
          "histogram": [
           {
            "bin_start": -0.9829011239305813,
            "bin_end": -0.9189638245877447,
            "count": 1
           },
           {
            "bin_start": -0.9189638245877447,
            "bin_end": -0.8550265252449083,
            "count": 0
           },
           {
            "bin_start": -0.8550265252449083,
            "bin_end": -0.7910892259020718,
            "count": 0
           },
           {
            "bin_start": -0.7910892259020718,
            "bin_end": -0.7271519265592352,
            "count": 0
           },
           {
            "bin_start": -0.7271519265592352,
            "bin_end": -0.6632146272163987,
            "count": 1
           },
           {
            "bin_start": -0.6632146272163987,
            "bin_end": -0.5992773278735621,
            "count": 0
           },
           {
            "bin_start": -0.5992773278735621,
            "bin_end": -0.5353400285307257,
            "count": 0
           },
           {
            "bin_start": -0.5353400285307257,
            "bin_end": -0.47140272918788917,
            "count": 0
           },
           {
            "bin_start": -0.47140272918788917,
            "bin_end": -0.40746542984505263,
            "count": 0
           },
           {
            "bin_start": -0.40746542984505263,
            "bin_end": -0.3435281305022162,
            "count": 1
           }
          ]
         }
        },
        {
         "name": "b.1",
         "dtype": "float64",
         "stats": {
          "unique_count": 3,
          "nan_count": 2,
          "min": "-0.9940629702438214",
          "max": "-0.3868015231503683",
          "histogram": [
           {
            "bin_start": -0.9940629702438214,
            "bin_end": -0.9333368255344761,
            "count": 1
           },
           {
            "bin_start": -0.9333368255344761,
            "bin_end": -0.8726106808251308,
            "count": 0
           },
           {
            "bin_start": -0.8726106808251308,
            "bin_end": -0.8118845361157855,
            "count": 0
           },
           {
            "bin_start": -0.8118845361157855,
            "bin_end": -0.7511583914064401,
            "count": 0
           },
           {
            "bin_start": -0.7511583914064401,
            "bin_end": -0.6904322466970949,
            "count": 0
           },
           {
            "bin_start": -0.6904322466970949,
            "bin_end": -0.6297061019877496,
            "count": 0
           },
           {
            "bin_start": -0.6297061019877496,
            "bin_end": -0.5689799572784042,
            "count": 0
           },
           {
            "bin_start": -0.5689799572784042,
            "bin_end": -0.508253812569059,
            "count": 1
           },
           {
            "bin_start": -0.508253812569059,
            "bin_end": -0.44752766785971365,
            "count": 0
           },
           {
            "bin_start": -0.44752766785971365,
            "bin_end": -0.3868015231503683,
            "count": 1
           }
          ]
         }
        },
        {
         "name": "_deepnote_index_column",
         "dtype": "int64"
        }
       ],
       "rows_top": [
        {
         "a": 7.152403142267825,
         "b": 6.687822505652171,
         "a.1": "nan",
         "b.1": "nan",
         "_deepnote_index_column": 0
        },
        {
         "a": 1.2292254816465675,
         "b": 6.957709224969069,
         "a.1": "nan",
         "b.1": "nan",
         "_deepnote_index_column": 1
        },
        {
         "a": 4.311638252918691,
         "b": 7.751421478551573,
         "a.1": -0.6708358086919849,
         "b.1": -0.3868015231503683,
         "_deepnote_index_column": 2
        },
        {
         "a": "nan",
         "b": "nan",
         "a.1": -0.3435281305022162,
         "b.1": -0.9940629702438214,
         "_deepnote_index_column": 3
        },
        {
         "a": "nan",
         "b": "nan",
         "a.1": -0.9829011239305813,
         "b.1": -0.542405032631998,
         "_deepnote_index_column": 4
        }
       ],
       "rows_bottom": null
      },
      "text/plain": "    a   b    a    b\n0 7.2 6.7  NaN  NaN\n1 1.2 7.0  NaN  NaN\n2 4.3 7.8 -0.7 -0.4\n3 NaN NaN -0.3 -1.0\n4 NaN NaN -1.0 -0.5",
      "text/html": "<div>\n<style scoped>\n    .dataframe tbody tr th:only-of-type {\n        vertical-align: middle;\n    }\n\n    .dataframe tbody tr th {\n        vertical-align: top;\n    }\n\n    .dataframe thead th {\n        text-align: right;\n    }\n</style>\n<table border=\"1\" class=\"dataframe\">\n  <thead>\n    <tr style=\"text-align: right;\">\n      <th></th>\n      <th>a</th>\n      <th>b</th>\n      <th>a</th>\n      <th>b</th>\n    </tr>\n  </thead>\n  <tbody>\n    <tr>\n      <th>0</th>\n      <td>7.2</td>\n      <td>6.7</td>\n      <td>NaN</td>\n      <td>NaN</td>\n    </tr>\n    <tr>\n      <th>1</th>\n      <td>1.2</td>\n      <td>7.0</td>\n      <td>NaN</td>\n      <td>NaN</td>\n    </tr>\n    <tr>\n      <th>2</th>\n      <td>4.3</td>\n      <td>7.8</td>\n      <td>-0.7</td>\n      <td>-0.4</td>\n    </tr>\n    <tr>\n      <th>3</th>\n      <td>NaN</td>\n      <td>NaN</td>\n      <td>-0.3</td>\n      <td>-1.0</td>\n    </tr>\n    <tr>\n      <th>4</th>\n      <td>NaN</td>\n      <td>NaN</td>\n      <td>-1.0</td>\n      <td>-0.5</td>\n    </tr>\n  </tbody>\n</table>\n</div>"
     },
     "metadata": {}
    }
   ]
  },
  {
   "cell_type": "markdown",
   "source": "## Guardar solo los indices que comparten los DataFrames",
   "metadata": {
    "tags": [],
    "cell_id": "00110-51b883fd-248b-4b93-b74f-176eeb145a44",
    "deepnote_cell_type": "markdown"
   }
  },
  {
   "cell_type": "code",
   "metadata": {
    "tags": [],
    "cell_id": "00110-8499d3be-dbe8-4f50-a17f-fbabb2c9650c",
    "deepnote_to_be_reexecuted": false,
    "source_hash": "37762bad",
    "execution_start": 1625424139381,
    "execution_millis": 13,
    "deepnote_cell_type": "code"
   },
   "source": "pd.concat([df1,df2], axis=1, join='inner')",
   "execution_count": null,
   "outputs": [
    {
     "output_type": "execute_result",
     "execution_count": 75,
     "data": {
      "application/vnd.deepnote.dataframe.v2+json": {
       "row_count": 1,
       "column_count": 4,
       "columns": [
        {
         "name": "a",
         "dtype": "float64",
         "stats": {
          "unique_count": 1,
          "nan_count": 0,
          "min": "4.311638252918691",
          "max": "4.311638252918691",
          "histogram": [
           {
            "bin_start": 3.8116382529186907,
            "bin_end": 3.911638252918691,
            "count": 0
           },
           {
            "bin_start": 3.911638252918691,
            "bin_end": 4.011638252918691,
            "count": 0
           },
           {
            "bin_start": 4.011638252918691,
            "bin_end": 4.111638252918691,
            "count": 0
           },
           {
            "bin_start": 4.111638252918691,
            "bin_end": 4.211638252918691,
            "count": 0
           },
           {
            "bin_start": 4.211638252918691,
            "bin_end": 4.311638252918691,
            "count": 0
           },
           {
            "bin_start": 4.311638252918691,
            "bin_end": 4.41163825291869,
            "count": 1
           },
           {
            "bin_start": 4.41163825291869,
            "bin_end": 4.511638252918691,
            "count": 0
           },
           {
            "bin_start": 4.511638252918691,
            "bin_end": 4.611638252918691,
            "count": 0
           },
           {
            "bin_start": 4.611638252918691,
            "bin_end": 4.711638252918691,
            "count": 0
           },
           {
            "bin_start": 4.711638252918691,
            "bin_end": 4.811638252918691,
            "count": 0
           }
          ]
         }
        },
        {
         "name": "b",
         "dtype": "float64",
         "stats": {
          "unique_count": 1,
          "nan_count": 0,
          "min": "7.751421478551573",
          "max": "7.751421478551573",
          "histogram": [
           {
            "bin_start": 7.251421478551573,
            "bin_end": 7.351421478551574,
            "count": 0
           },
           {
            "bin_start": 7.351421478551574,
            "bin_end": 7.451421478551573,
            "count": 0
           },
           {
            "bin_start": 7.451421478551573,
            "bin_end": 7.551421478551573,
            "count": 0
           },
           {
            "bin_start": 7.551421478551573,
            "bin_end": 7.6514214785515735,
            "count": 0
           },
           {
            "bin_start": 7.6514214785515735,
            "bin_end": 7.751421478551574,
            "count": 1
           },
           {
            "bin_start": 7.751421478551574,
            "bin_end": 7.851421478551574,
            "count": 0
           },
           {
            "bin_start": 7.851421478551574,
            "bin_end": 7.951421478551573,
            "count": 0
           },
           {
            "bin_start": 7.951421478551573,
            "bin_end": 8.051421478551575,
            "count": 0
           },
           {
            "bin_start": 8.051421478551575,
            "bin_end": 8.151421478551574,
            "count": 0
           },
           {
            "bin_start": 8.151421478551574,
            "bin_end": 8.251421478551574,
            "count": 0
           }
          ]
         }
        },
        {
         "name": "a.1",
         "dtype": "float64",
         "stats": {
          "unique_count": 1,
          "nan_count": 0,
          "min": "-0.6708358086919849",
          "max": "-0.6708358086919849",
          "histogram": [
           {
            "bin_start": -1.1708358086919848,
            "bin_end": -1.0708358086919847,
            "count": 0
           },
           {
            "bin_start": -1.0708358086919847,
            "bin_end": -0.9708358086919848,
            "count": 0
           },
           {
            "bin_start": -0.9708358086919848,
            "bin_end": -0.8708358086919847,
            "count": 0
           },
           {
            "bin_start": -0.8708358086919847,
            "bin_end": -0.7708358086919849,
            "count": 0
           },
           {
            "bin_start": -0.7708358086919849,
            "bin_end": -0.6708358086919848,
            "count": 1
           },
           {
            "bin_start": -0.6708358086919848,
            "bin_end": -0.5708358086919848,
            "count": 0
           },
           {
            "bin_start": -0.5708358086919848,
            "bin_end": -0.4708358086919848,
            "count": 0
           },
           {
            "bin_start": -0.4708358086919848,
            "bin_end": -0.37083580869198485,
            "count": 0
           },
           {
            "bin_start": -0.37083580869198485,
            "bin_end": -0.27083580869198487,
            "count": 0
           },
           {
            "bin_start": -0.27083580869198487,
            "bin_end": -0.1708358086919849,
            "count": 0
           }
          ]
         }
        },
        {
         "name": "b.1",
         "dtype": "float64",
         "stats": {
          "unique_count": 1,
          "nan_count": 0,
          "min": "-0.3868015231503683",
          "max": "-0.3868015231503683",
          "histogram": [
           {
            "bin_start": -0.8868015231503683,
            "bin_end": -0.7868015231503683,
            "count": 0
           },
           {
            "bin_start": -0.7868015231503683,
            "bin_end": -0.6868015231503684,
            "count": 0
           },
           {
            "bin_start": -0.6868015231503684,
            "bin_end": -0.5868015231503683,
            "count": 0
           },
           {
            "bin_start": -0.5868015231503683,
            "bin_end": -0.4868015231503683,
            "count": 0
           },
           {
            "bin_start": -0.4868015231503683,
            "bin_end": -0.3868015231503683,
            "count": 0
           },
           {
            "bin_start": -0.3868015231503683,
            "bin_end": -0.2868015231503682,
            "count": 1
           },
           {
            "bin_start": -0.2868015231503682,
            "bin_end": -0.18680152315036824,
            "count": 0
           },
           {
            "bin_start": -0.18680152315036824,
            "bin_end": -0.08680152315036826,
            "count": 0
           },
           {
            "bin_start": -0.08680152315036826,
            "bin_end": 0.013198476849631713,
            "count": 0
           },
           {
            "bin_start": 0.013198476849631713,
            "bin_end": 0.11319847684963169,
            "count": 0
           }
          ]
         }
        },
        {
         "name": "_deepnote_index_column",
         "dtype": "int64"
        }
       ],
       "rows_top": [
        {
         "a": 4.311638252918691,
         "b": 7.751421478551573,
         "a.1": -0.6708358086919849,
         "b.1": -0.3868015231503683,
         "_deepnote_index_column": 2
        }
       ],
       "rows_bottom": null
      },
      "text/plain": "    a   b    a    b\n2 4.3 7.8 -0.7 -0.4",
      "text/html": "<div>\n<style scoped>\n    .dataframe tbody tr th:only-of-type {\n        vertical-align: middle;\n    }\n\n    .dataframe tbody tr th {\n        vertical-align: top;\n    }\n\n    .dataframe thead th {\n        text-align: right;\n    }\n</style>\n<table border=\"1\" class=\"dataframe\">\n  <thead>\n    <tr style=\"text-align: right;\">\n      <th></th>\n      <th>a</th>\n      <th>b</th>\n      <th>a</th>\n      <th>b</th>\n    </tr>\n  </thead>\n  <tbody>\n    <tr>\n      <th>2</th>\n      <td>4.3</td>\n      <td>7.8</td>\n      <td>-0.7</td>\n      <td>-0.4</td>\n    </tr>\n  </tbody>\n</table>\n</div>"
     },
     "metadata": {}
    }
   ]
  },
  {
   "cell_type": "markdown",
   "source": "## Append : Se puede pegar multiples DataFrames",
   "metadata": {
    "tags": [],
    "cell_id": "00112-6c9d3052-e423-45cd-bd0d-17d2d7476200",
    "deepnote_cell_type": "markdown"
   }
  },
  {
   "cell_type": "code",
   "metadata": {
    "tags": [],
    "cell_id": "00113-bfc12955-42ca-4581-aa9c-f5ec78c95c6c",
    "deepnote_to_be_reexecuted": false,
    "source_hash": "49f7e7bc",
    "execution_start": 1625424163490,
    "execution_millis": 13,
    "deepnote_cell_type": "code"
   },
   "source": "df1.append(df2).append(df1)",
   "execution_count": null,
   "outputs": [
    {
     "output_type": "execute_result",
     "execution_count": 76,
     "data": {
      "application/vnd.deepnote.dataframe.v2+json": {
       "row_count": 9,
       "column_count": 2,
       "columns": [
        {
         "name": "a",
         "dtype": "float64",
         "stats": {
          "unique_count": 6,
          "nan_count": 0,
          "min": "-0.9829011239305813",
          "max": "7.152403142267825",
          "histogram": [
           {
            "bin_start": -0.9829011239305813,
            "bin_end": -0.16937069731074073,
            "count": 3
           },
           {
            "bin_start": -0.16937069731074073,
            "bin_end": 0.6441597293090998,
            "count": 0
           },
           {
            "bin_start": 0.6441597293090998,
            "bin_end": 1.4576901559289404,
            "count": 2
           },
           {
            "bin_start": 1.4576901559289404,
            "bin_end": 2.271220582548781,
            "count": 0
           },
           {
            "bin_start": 2.271220582548781,
            "bin_end": 3.084751009168621,
            "count": 0
           },
           {
            "bin_start": 3.084751009168621,
            "bin_end": 3.898281435788462,
            "count": 0
           },
           {
            "bin_start": 3.898281435788462,
            "bin_end": 4.711811862408302,
            "count": 2
           },
           {
            "bin_start": 4.711811862408302,
            "bin_end": 5.525342289028143,
            "count": 0
           },
           {
            "bin_start": 5.525342289028143,
            "bin_end": 6.338872715647984,
            "count": 0
           },
           {
            "bin_start": 6.338872715647984,
            "bin_end": 7.152403142267825,
            "count": 2
           }
          ]
         }
        },
        {
         "name": "b",
         "dtype": "float64",
         "stats": {
          "unique_count": 6,
          "nan_count": 0,
          "min": "-0.9940629702438214",
          "max": "7.751421478551573",
          "histogram": [
           {
            "bin_start": -0.9940629702438214,
            "bin_end": -0.11951452536428187,
            "count": 3
           },
           {
            "bin_start": -0.11951452536428187,
            "bin_end": 0.7550339195152577,
            "count": 0
           },
           {
            "bin_start": 0.7550339195152577,
            "bin_end": 1.6295823643947975,
            "count": 0
           },
           {
            "bin_start": 1.6295823643947975,
            "bin_end": 2.504130809274337,
            "count": 0
           },
           {
            "bin_start": 2.504130809274337,
            "bin_end": 3.378679254153876,
            "count": 0
           },
           {
            "bin_start": 3.378679254153876,
            "bin_end": 4.253227699033416,
            "count": 0
           },
           {
            "bin_start": 4.253227699033416,
            "bin_end": 5.127776143912955,
            "count": 0
           },
           {
            "bin_start": 5.127776143912955,
            "bin_end": 6.0023245887924945,
            "count": 0
           },
           {
            "bin_start": 6.0023245887924945,
            "bin_end": 6.876873033672034,
            "count": 2
           },
           {
            "bin_start": 6.876873033672034,
            "bin_end": 7.751421478551573,
            "count": 4
           }
          ]
         }
        },
        {
         "name": "_deepnote_index_column",
         "dtype": "int64"
        }
       ],
       "rows_top": [
        {
         "a": "7.152403142267825",
         "b": "6.687822505652171",
         "_deepnote_index_column": "0"
        },
        {
         "a": "1.2292254816465675",
         "b": "6.957709224969069",
         "_deepnote_index_column": "1"
        },
        {
         "a": "4.311638252918691",
         "b": "7.751421478551573",
         "_deepnote_index_column": "2"
        },
        {
         "a": "-0.6708358086919849",
         "b": "-0.3868015231503683",
         "_deepnote_index_column": "2"
        },
        {
         "a": "-0.3435281305022162",
         "b": "-0.9940629702438214",
         "_deepnote_index_column": "3"
        },
        {
         "a": "-0.9829011239305813",
         "b": "-0.542405032631998",
         "_deepnote_index_column": "4"
        },
        {
         "a": "7.152403142267825",
         "b": "6.687822505652171",
         "_deepnote_index_column": "0"
        },
        {
         "a": "1.2292254816465675",
         "b": "6.957709224969069",
         "_deepnote_index_column": "1"
        },
        {
         "a": "4.311638252918691",
         "b": "7.751421478551573",
         "_deepnote_index_column": "2"
        }
       ],
       "rows_bottom": null
      },
      "text/plain": "     a    b\n0  7.2  6.7\n1  1.2  7.0\n2  4.3  7.8\n2 -0.7 -0.4\n3 -0.3 -1.0\n4 -1.0 -0.5\n0  7.2  6.7\n1  1.2  7.0\n2  4.3  7.8",
      "text/html": "<div>\n<style scoped>\n    .dataframe tbody tr th:only-of-type {\n        vertical-align: middle;\n    }\n\n    .dataframe tbody tr th {\n        vertical-align: top;\n    }\n\n    .dataframe thead th {\n        text-align: right;\n    }\n</style>\n<table border=\"1\" class=\"dataframe\">\n  <thead>\n    <tr style=\"text-align: right;\">\n      <th></th>\n      <th>a</th>\n      <th>b</th>\n    </tr>\n  </thead>\n  <tbody>\n    <tr>\n      <th>0</th>\n      <td>7.2</td>\n      <td>6.7</td>\n    </tr>\n    <tr>\n      <th>1</th>\n      <td>1.2</td>\n      <td>7.0</td>\n    </tr>\n    <tr>\n      <th>2</th>\n      <td>4.3</td>\n      <td>7.8</td>\n    </tr>\n    <tr>\n      <th>2</th>\n      <td>-0.7</td>\n      <td>-0.4</td>\n    </tr>\n    <tr>\n      <th>3</th>\n      <td>-0.3</td>\n      <td>-1.0</td>\n    </tr>\n    <tr>\n      <th>4</th>\n      <td>-1.0</td>\n      <td>-0.5</td>\n    </tr>\n    <tr>\n      <th>0</th>\n      <td>7.2</td>\n      <td>6.7</td>\n    </tr>\n    <tr>\n      <th>1</th>\n      <td>1.2</td>\n      <td>7.0</td>\n    </tr>\n    <tr>\n      <th>2</th>\n      <td>4.3</td>\n      <td>7.8</td>\n    </tr>\n  </tbody>\n</table>\n</div>"
     },
     "metadata": {}
    }
   ]
  },
  {
   "cell_type": "markdown",
   "source": "Append a lo largo de los ejes de las **columnas** debemos usar las Traspuesta del DataFrame.",
   "metadata": {
    "tags": [],
    "cell_id": "00114-aa65b962-7e35-4939-a876-856596935ac6",
    "deepnote_cell_type": "markdown"
   }
  },
  {
   "cell_type": "code",
   "metadata": {
    "tags": [],
    "cell_id": "00115-5406b97b-a981-4d03-949d-1af239d05540",
    "deepnote_to_be_reexecuted": false,
    "source_hash": "83507dab",
    "execution_start": 1625424210913,
    "execution_millis": 29,
    "deepnote_cell_type": "code"
   },
   "source": "df1.T.append(df2.T).T",
   "execution_count": null,
   "outputs": [
    {
     "output_type": "execute_result",
     "execution_count": 77,
     "data": {
      "application/vnd.deepnote.dataframe.v2+json": {
       "row_count": 5,
       "column_count": 4,
       "columns": [
        {
         "name": "a",
         "dtype": "float64",
         "stats": {
          "unique_count": 3,
          "nan_count": 2,
          "min": "1.2292254816465675",
          "max": "7.152403142267825",
          "histogram": [
           {
            "bin_start": 1.2292254816465675,
            "bin_end": 1.8215432477086932,
            "count": 1
           },
           {
            "bin_start": 1.8215432477086932,
            "bin_end": 2.413861013770819,
            "count": 0
           },
           {
            "bin_start": 2.413861013770819,
            "bin_end": 3.0061787798329447,
            "count": 0
           },
           {
            "bin_start": 3.0061787798329447,
            "bin_end": 3.5984965458950704,
            "count": 0
           },
           {
            "bin_start": 3.5984965458950704,
            "bin_end": 4.190814311957196,
            "count": 0
           },
           {
            "bin_start": 4.190814311957196,
            "bin_end": 4.783132078019322,
            "count": 1
           },
           {
            "bin_start": 4.783132078019322,
            "bin_end": 5.375449844081448,
            "count": 0
           },
           {
            "bin_start": 5.375449844081448,
            "bin_end": 5.967767610143573,
            "count": 0
           },
           {
            "bin_start": 5.967767610143573,
            "bin_end": 6.5600853762056985,
            "count": 0
           },
           {
            "bin_start": 6.5600853762056985,
            "bin_end": 7.152403142267825,
            "count": 1
           }
          ]
         }
        },
        {
         "name": "b",
         "dtype": "float64",
         "stats": {
          "unique_count": 3,
          "nan_count": 2,
          "min": "6.687822505652171",
          "max": "7.751421478551573",
          "histogram": [
           {
            "bin_start": 6.687822505652171,
            "bin_end": 6.794182402942112,
            "count": 1
           },
           {
            "bin_start": 6.794182402942112,
            "bin_end": 6.900542300232051,
            "count": 0
           },
           {
            "bin_start": 6.900542300232051,
            "bin_end": 7.006902197521992,
            "count": 1
           },
           {
            "bin_start": 7.006902197521992,
            "bin_end": 7.113262094811932,
            "count": 0
           },
           {
            "bin_start": 7.113262094811932,
            "bin_end": 7.219621992101873,
            "count": 0
           },
           {
            "bin_start": 7.219621992101873,
            "bin_end": 7.325981889391812,
            "count": 0
           },
           {
            "bin_start": 7.325981889391812,
            "bin_end": 7.432341786681753,
            "count": 0
           },
           {
            "bin_start": 7.432341786681753,
            "bin_end": 7.538701683971693,
            "count": 0
           },
           {
            "bin_start": 7.538701683971693,
            "bin_end": 7.645061581261633,
            "count": 0
           },
           {
            "bin_start": 7.645061581261633,
            "bin_end": 7.751421478551573,
            "count": 1
           }
          ]
         }
        },
        {
         "name": "a.1",
         "dtype": "float64",
         "stats": {
          "unique_count": 3,
          "nan_count": 2,
          "min": "-0.9829011239305813",
          "max": "-0.3435281305022162",
          "histogram": [
           {
            "bin_start": -0.9829011239305813,
            "bin_end": -0.9189638245877447,
            "count": 1
           },
           {
            "bin_start": -0.9189638245877447,
            "bin_end": -0.8550265252449083,
            "count": 0
           },
           {
            "bin_start": -0.8550265252449083,
            "bin_end": -0.7910892259020718,
            "count": 0
           },
           {
            "bin_start": -0.7910892259020718,
            "bin_end": -0.7271519265592352,
            "count": 0
           },
           {
            "bin_start": -0.7271519265592352,
            "bin_end": -0.6632146272163987,
            "count": 1
           },
           {
            "bin_start": -0.6632146272163987,
            "bin_end": -0.5992773278735621,
            "count": 0
           },
           {
            "bin_start": -0.5992773278735621,
            "bin_end": -0.5353400285307257,
            "count": 0
           },
           {
            "bin_start": -0.5353400285307257,
            "bin_end": -0.47140272918788917,
            "count": 0
           },
           {
            "bin_start": -0.47140272918788917,
            "bin_end": -0.40746542984505263,
            "count": 0
           },
           {
            "bin_start": -0.40746542984505263,
            "bin_end": -0.3435281305022162,
            "count": 1
           }
          ]
         }
        },
        {
         "name": "b.1",
         "dtype": "float64",
         "stats": {
          "unique_count": 3,
          "nan_count": 2,
          "min": "-0.9940629702438214",
          "max": "-0.3868015231503683",
          "histogram": [
           {
            "bin_start": -0.9940629702438214,
            "bin_end": -0.9333368255344761,
            "count": 1
           },
           {
            "bin_start": -0.9333368255344761,
            "bin_end": -0.8726106808251308,
            "count": 0
           },
           {
            "bin_start": -0.8726106808251308,
            "bin_end": -0.8118845361157855,
            "count": 0
           },
           {
            "bin_start": -0.8118845361157855,
            "bin_end": -0.7511583914064401,
            "count": 0
           },
           {
            "bin_start": -0.7511583914064401,
            "bin_end": -0.6904322466970949,
            "count": 0
           },
           {
            "bin_start": -0.6904322466970949,
            "bin_end": -0.6297061019877496,
            "count": 0
           },
           {
            "bin_start": -0.6297061019877496,
            "bin_end": -0.5689799572784042,
            "count": 0
           },
           {
            "bin_start": -0.5689799572784042,
            "bin_end": -0.508253812569059,
            "count": 1
           },
           {
            "bin_start": -0.508253812569059,
            "bin_end": -0.44752766785971365,
            "count": 0
           },
           {
            "bin_start": -0.44752766785971365,
            "bin_end": -0.3868015231503683,
            "count": 1
           }
          ]
         }
        },
        {
         "name": "_deepnote_index_column",
         "dtype": "int64"
        }
       ],
       "rows_top": [
        {
         "a": 7.152403142267825,
         "b": 6.687822505652171,
         "a.1": "nan",
         "b.1": "nan",
         "_deepnote_index_column": 0
        },
        {
         "a": 1.2292254816465675,
         "b": 6.957709224969069,
         "a.1": "nan",
         "b.1": "nan",
         "_deepnote_index_column": 1
        },
        {
         "a": 4.311638252918691,
         "b": 7.751421478551573,
         "a.1": -0.6708358086919849,
         "b.1": -0.3868015231503683,
         "_deepnote_index_column": 2
        },
        {
         "a": "nan",
         "b": "nan",
         "a.1": -0.3435281305022162,
         "b.1": -0.9940629702438214,
         "_deepnote_index_column": 3
        },
        {
         "a": "nan",
         "b": "nan",
         "a.1": -0.9829011239305813,
         "b.1": -0.542405032631998,
         "_deepnote_index_column": 4
        }
       ],
       "rows_bottom": null
      },
      "text/plain": "    a   b    a    b\n0 7.2 6.7  NaN  NaN\n1 1.2 7.0  NaN  NaN\n2 4.3 7.8 -0.7 -0.4\n3 NaN NaN -0.3 -1.0\n4 NaN NaN -1.0 -0.5",
      "text/html": "<div>\n<style scoped>\n    .dataframe tbody tr th:only-of-type {\n        vertical-align: middle;\n    }\n\n    .dataframe tbody tr th {\n        vertical-align: top;\n    }\n\n    .dataframe thead th {\n        text-align: right;\n    }\n</style>\n<table border=\"1\" class=\"dataframe\">\n  <thead>\n    <tr style=\"text-align: right;\">\n      <th></th>\n      <th>a</th>\n      <th>b</th>\n      <th>a</th>\n      <th>b</th>\n    </tr>\n  </thead>\n  <tbody>\n    <tr>\n      <th>0</th>\n      <td>7.2</td>\n      <td>6.7</td>\n      <td>NaN</td>\n      <td>NaN</td>\n    </tr>\n    <tr>\n      <th>1</th>\n      <td>1.2</td>\n      <td>7.0</td>\n      <td>NaN</td>\n      <td>NaN</td>\n    </tr>\n    <tr>\n      <th>2</th>\n      <td>4.3</td>\n      <td>7.8</td>\n      <td>-0.7</td>\n      <td>-0.4</td>\n    </tr>\n    <tr>\n      <th>3</th>\n      <td>NaN</td>\n      <td>NaN</td>\n      <td>-0.3</td>\n      <td>-1.0</td>\n    </tr>\n    <tr>\n      <th>4</th>\n      <td>NaN</td>\n      <td>NaN</td>\n      <td>-1.0</td>\n      <td>-0.5</td>\n    </tr>\n  </tbody>\n</table>\n</div>"
     },
     "metadata": {}
    }
   ]
  },
  {
   "cell_type": "markdown",
   "source": "# Merge\n[14] merge.ipynb\n\nFunciona exactamente igual como en SQL, pero no tienes que escribir una gran cantidad de codigo y nos permite poder unir diferentes DataFrames seung la relacion que tengan.",
   "metadata": {
    "tags": [],
    "cell_id": "00116-434c1690-8e26-4c59-8796-bbd6aca16948",
    "deepnote_cell_type": "markdown"
   }
  },
  {
   "cell_type": "code",
   "metadata": {
    "tags": [],
    "cell_id": "00117-404e38df-aa66-4cec-826b-a58b6e4af966",
    "deepnote_to_be_reexecuted": false,
    "source_hash": "ae5d0e79",
    "execution_start": 1625425874149,
    "execution_millis": 1,
    "deepnote_cell_type": "code"
   },
   "source": "df_left = pd.DataFrame(\n    {'X':['x0','x1','x2','x3'],\n    'W':['w0','w1','w2','w3'],\n    'Y':['y0','y1','y2','y3'],\n    'Mix':['y2','y3','a2','a3']},\nindex = [0,1,2,3])\ndf_right = pd.DataFrame(\n    {'Z':['z2','z3','z4','z5'],\n     'A':['a2','a3','a4','a5'],\n     'Y':['y2','y3','y4','y5']},\nindex = [2,3,4,5])",
   "execution_count": 2,
   "outputs": []
  },
  {
   "cell_type": "code",
   "metadata": {
    "tags": [],
    "cell_id": "00118-f6f9769e-7c32-413d-84b1-2ed39f8598d8",
    "deepnote_to_be_reexecuted": false,
    "source_hash": "63be4db8",
    "execution_start": 1625425893667,
    "execution_millis": 27,
    "deepnote_cell_type": "code"
   },
   "source": "pd.merge(df_left,df_right, how='inner', on='Y')",
   "execution_count": 3,
   "outputs": [
    {
     "output_type": "execute_result",
     "execution_count": 3,
     "data": {
      "application/vnd.deepnote.dataframe.v2+json": {
       "row_count": 2,
       "column_count": 6,
       "columns": [
        {
         "name": "X",
         "dtype": "object",
         "stats": {
          "unique_count": 2,
          "nan_count": 0,
          "categories": [
           {
            "name": "x2",
            "count": 1
           },
           {
            "name": "x3",
            "count": 1
           }
          ]
         }
        },
        {
         "name": "W",
         "dtype": "object",
         "stats": {
          "unique_count": 2,
          "nan_count": 0,
          "categories": [
           {
            "name": "w2",
            "count": 1
           },
           {
            "name": "w3",
            "count": 1
           }
          ]
         }
        },
        {
         "name": "Y",
         "dtype": "object",
         "stats": {
          "unique_count": 2,
          "nan_count": 0,
          "categories": [
           {
            "name": "y2",
            "count": 1
           },
           {
            "name": "y3",
            "count": 1
           }
          ]
         }
        },
        {
         "name": "Mix",
         "dtype": "object",
         "stats": {
          "unique_count": 2,
          "nan_count": 0,
          "categories": [
           {
            "name": "a2",
            "count": 1
           },
           {
            "name": "a3",
            "count": 1
           }
          ]
         }
        },
        {
         "name": "Z",
         "dtype": "object",
         "stats": {
          "unique_count": 2,
          "nan_count": 0,
          "categories": [
           {
            "name": "z2",
            "count": 1
           },
           {
            "name": "z3",
            "count": 1
           }
          ]
         }
        },
        {
         "name": "A",
         "dtype": "object",
         "stats": {
          "unique_count": 2,
          "nan_count": 0,
          "categories": [
           {
            "name": "a2",
            "count": 1
           },
           {
            "name": "a3",
            "count": 1
           }
          ]
         }
        },
        {
         "name": "_deepnote_index_column",
         "dtype": "int64"
        }
       ],
       "rows_top": [
        {
         "X": "x2",
         "W": "w2",
         "Y": "y2",
         "Mix": "a2",
         "Z": "z2",
         "A": "a2",
         "_deepnote_index_column": 0
        },
        {
         "X": "x3",
         "W": "w3",
         "Y": "y3",
         "Mix": "a3",
         "Z": "z3",
         "A": "a3",
         "_deepnote_index_column": 1
        }
       ],
       "rows_bottom": null
      },
      "text/plain": "    X   W   Y Mix   Z   A\n0  x2  w2  y2  a2  z2  a2\n1  x3  w3  y3  a3  z3  a3",
      "text/html": "<div>\n<style scoped>\n    .dataframe tbody tr th:only-of-type {\n        vertical-align: middle;\n    }\n\n    .dataframe tbody tr th {\n        vertical-align: top;\n    }\n\n    .dataframe thead th {\n        text-align: right;\n    }\n</style>\n<table border=\"1\" class=\"dataframe\">\n  <thead>\n    <tr style=\"text-align: right;\">\n      <th></th>\n      <th>X</th>\n      <th>W</th>\n      <th>Y</th>\n      <th>Mix</th>\n      <th>Z</th>\n      <th>A</th>\n    </tr>\n  </thead>\n  <tbody>\n    <tr>\n      <th>0</th>\n      <td>x2</td>\n      <td>w2</td>\n      <td>y2</td>\n      <td>a2</td>\n      <td>z2</td>\n      <td>a2</td>\n    </tr>\n    <tr>\n      <th>1</th>\n      <td>x3</td>\n      <td>w3</td>\n      <td>y3</td>\n      <td>a3</td>\n      <td>z3</td>\n      <td>a3</td>\n    </tr>\n  </tbody>\n</table>\n</div>"
     },
     "metadata": {}
    }
   ]
  },
  {
   "cell_type": "markdown",
   "source": "## Unir una columna con otra columna que comparten el mismo nombre.",
   "metadata": {
    "tags": [],
    "cell_id": "00119-905921ac-69f2-4366-9834-a40851e31280",
    "deepnote_cell_type": "markdown"
   }
  },
  {
   "cell_type": "code",
   "metadata": {
    "tags": [],
    "cell_id": "00120-c9e20f6c-43d1-4475-9237-8e96bc469959",
    "deepnote_to_be_reexecuted": false,
    "source_hash": "ca22e0d8",
    "execution_start": 1625425929469,
    "execution_millis": 16,
    "deepnote_cell_type": "code"
   },
   "source": "pd.merge(df_left,df_right, how='inner', left_on='Mix', right_on='Y', suffixes=['_left','_right'])",
   "execution_count": 4,
   "outputs": [
    {
     "output_type": "execute_result",
     "execution_count": 4,
     "data": {
      "application/vnd.deepnote.dataframe.v2+json": {
       "row_count": 2,
       "column_count": 7,
       "columns": [
        {
         "name": "X",
         "dtype": "object",
         "stats": {
          "unique_count": 2,
          "nan_count": 0,
          "categories": [
           {
            "name": "x0",
            "count": 1
           },
           {
            "name": "x1",
            "count": 1
           }
          ]
         }
        },
        {
         "name": "W",
         "dtype": "object",
         "stats": {
          "unique_count": 2,
          "nan_count": 0,
          "categories": [
           {
            "name": "w0",
            "count": 1
           },
           {
            "name": "w1",
            "count": 1
           }
          ]
         }
        },
        {
         "name": "Y_left",
         "dtype": "object",
         "stats": {
          "unique_count": 2,
          "nan_count": 0,
          "categories": [
           {
            "name": "y0",
            "count": 1
           },
           {
            "name": "y1",
            "count": 1
           }
          ]
         }
        },
        {
         "name": "Mix",
         "dtype": "object",
         "stats": {
          "unique_count": 2,
          "nan_count": 0,
          "categories": [
           {
            "name": "y2",
            "count": 1
           },
           {
            "name": "y3",
            "count": 1
           }
          ]
         }
        },
        {
         "name": "Z",
         "dtype": "object",
         "stats": {
          "unique_count": 2,
          "nan_count": 0,
          "categories": [
           {
            "name": "z2",
            "count": 1
           },
           {
            "name": "z3",
            "count": 1
           }
          ]
         }
        },
        {
         "name": "A",
         "dtype": "object",
         "stats": {
          "unique_count": 2,
          "nan_count": 0,
          "categories": [
           {
            "name": "a2",
            "count": 1
           },
           {
            "name": "a3",
            "count": 1
           }
          ]
         }
        },
        {
         "name": "Y_right",
         "dtype": "object",
         "stats": {
          "unique_count": 2,
          "nan_count": 0,
          "categories": [
           {
            "name": "y2",
            "count": 1
           },
           {
            "name": "y3",
            "count": 1
           }
          ]
         }
        },
        {
         "name": "_deepnote_index_column",
         "dtype": "int64"
        }
       ],
       "rows_top": [
        {
         "X": "x0",
         "W": "w0",
         "Y_left": "y0",
         "Mix": "y2",
         "Z": "z2",
         "A": "a2",
         "Y_right": "y2",
         "_deepnote_index_column": 0
        },
        {
         "X": "x1",
         "W": "w1",
         "Y_left": "y1",
         "Mix": "y3",
         "Z": "z3",
         "A": "a3",
         "Y_right": "y3",
         "_deepnote_index_column": 1
        }
       ],
       "rows_bottom": null
      },
      "text/plain": "    X   W Y_left Mix   Z   A Y_right\n0  x0  w0     y0  y2  z2  a2      y2\n1  x1  w1     y1  y3  z3  a3      y3",
      "text/html": "<div>\n<style scoped>\n    .dataframe tbody tr th:only-of-type {\n        vertical-align: middle;\n    }\n\n    .dataframe tbody tr th {\n        vertical-align: top;\n    }\n\n    .dataframe thead th {\n        text-align: right;\n    }\n</style>\n<table border=\"1\" class=\"dataframe\">\n  <thead>\n    <tr style=\"text-align: right;\">\n      <th></th>\n      <th>X</th>\n      <th>W</th>\n      <th>Y_left</th>\n      <th>Mix</th>\n      <th>Z</th>\n      <th>A</th>\n      <th>Y_right</th>\n    </tr>\n  </thead>\n  <tbody>\n    <tr>\n      <th>0</th>\n      <td>x0</td>\n      <td>w0</td>\n      <td>y0</td>\n      <td>y2</td>\n      <td>z2</td>\n      <td>a2</td>\n      <td>y2</td>\n    </tr>\n    <tr>\n      <th>1</th>\n      <td>x1</td>\n      <td>w1</td>\n      <td>y1</td>\n      <td>y3</td>\n      <td>z3</td>\n      <td>a3</td>\n      <td>y3</td>\n    </tr>\n  </tbody>\n</table>\n</div>"
     },
     "metadata": {}
    }
   ]
  },
  {
   "cell_type": "code",
   "metadata": {
    "tags": [],
    "cell_id": "00121-fff061d2-bccc-437e-9e81-d36b62a9ee91",
    "deepnote_to_be_reexecuted": false,
    "source_hash": "68b410b",
    "execution_start": 1625425936668,
    "execution_millis": 12,
    "deepnote_cell_type": "code"
   },
   "source": "pd.merge(df_left,df_right, how='inner', left_on='Mix', right_on='A', suffixes=['_left','_right'])",
   "execution_count": 5,
   "outputs": [
    {
     "output_type": "execute_result",
     "execution_count": 5,
     "data": {
      "application/vnd.deepnote.dataframe.v2+json": {
       "row_count": 2,
       "column_count": 7,
       "columns": [
        {
         "name": "X",
         "dtype": "object",
         "stats": {
          "unique_count": 2,
          "nan_count": 0,
          "categories": [
           {
            "name": "x2",
            "count": 1
           },
           {
            "name": "x3",
            "count": 1
           }
          ]
         }
        },
        {
         "name": "W",
         "dtype": "object",
         "stats": {
          "unique_count": 2,
          "nan_count": 0,
          "categories": [
           {
            "name": "w2",
            "count": 1
           },
           {
            "name": "w3",
            "count": 1
           }
          ]
         }
        },
        {
         "name": "Y_left",
         "dtype": "object",
         "stats": {
          "unique_count": 2,
          "nan_count": 0,
          "categories": [
           {
            "name": "y2",
            "count": 1
           },
           {
            "name": "y3",
            "count": 1
           }
          ]
         }
        },
        {
         "name": "Mix",
         "dtype": "object",
         "stats": {
          "unique_count": 2,
          "nan_count": 0,
          "categories": [
           {
            "name": "a2",
            "count": 1
           },
           {
            "name": "a3",
            "count": 1
           }
          ]
         }
        },
        {
         "name": "Z",
         "dtype": "object",
         "stats": {
          "unique_count": 2,
          "nan_count": 0,
          "categories": [
           {
            "name": "z2",
            "count": 1
           },
           {
            "name": "z3",
            "count": 1
           }
          ]
         }
        },
        {
         "name": "A",
         "dtype": "object",
         "stats": {
          "unique_count": 2,
          "nan_count": 0,
          "categories": [
           {
            "name": "a2",
            "count": 1
           },
           {
            "name": "a3",
            "count": 1
           }
          ]
         }
        },
        {
         "name": "Y_right",
         "dtype": "object",
         "stats": {
          "unique_count": 2,
          "nan_count": 0,
          "categories": [
           {
            "name": "y2",
            "count": 1
           },
           {
            "name": "y3",
            "count": 1
           }
          ]
         }
        },
        {
         "name": "_deepnote_index_column",
         "dtype": "int64"
        }
       ],
       "rows_top": [
        {
         "X": "x2",
         "W": "w2",
         "Y_left": "y2",
         "Mix": "a2",
         "Z": "z2",
         "A": "a2",
         "Y_right": "y2",
         "_deepnote_index_column": 0
        },
        {
         "X": "x3",
         "W": "w3",
         "Y_left": "y3",
         "Mix": "a3",
         "Z": "z3",
         "A": "a3",
         "Y_right": "y3",
         "_deepnote_index_column": 1
        }
       ],
       "rows_bottom": null
      },
      "text/plain": "    X   W Y_left Mix   Z   A Y_right\n0  x2  w2     y2  a2  z2  a2      y2\n1  x3  w3     y3  a3  z3  a3      y3",
      "text/html": "<div>\n<style scoped>\n    .dataframe tbody tr th:only-of-type {\n        vertical-align: middle;\n    }\n\n    .dataframe tbody tr th {\n        vertical-align: top;\n    }\n\n    .dataframe thead th {\n        text-align: right;\n    }\n</style>\n<table border=\"1\" class=\"dataframe\">\n  <thead>\n    <tr style=\"text-align: right;\">\n      <th></th>\n      <th>X</th>\n      <th>W</th>\n      <th>Y_left</th>\n      <th>Mix</th>\n      <th>Z</th>\n      <th>A</th>\n      <th>Y_right</th>\n    </tr>\n  </thead>\n  <tbody>\n    <tr>\n      <th>0</th>\n      <td>x2</td>\n      <td>w2</td>\n      <td>y2</td>\n      <td>a2</td>\n      <td>z2</td>\n      <td>a2</td>\n      <td>y2</td>\n    </tr>\n    <tr>\n      <th>1</th>\n      <td>x3</td>\n      <td>w3</td>\n      <td>y3</td>\n      <td>a3</td>\n      <td>z3</td>\n      <td>a3</td>\n      <td>y3</td>\n    </tr>\n  </tbody>\n</table>\n</div>"
     },
     "metadata": {}
    }
   ]
  },
  {
   "cell_type": "markdown",
   "source": "## Tipos de Merge\n\n![](http://www.datasciencemadesimple.com/wp-content/uploads/2017/09/join-or-merge-in-python-pandas-1.png)",
   "metadata": {
    "tags": [],
    "cell_id": "00118-59169547-e733-46ac-b1e5-5e6dd44b9d4a",
    "deepnote_cell_type": "markdown"
   }
  },
  {
   "cell_type": "code",
   "metadata": {
    "tags": [],
    "cell_id": "00123-6bd5aed5-2991-448f-a8fe-e4d97d7e92a9",
    "deepnote_to_be_reexecuted": false,
    "source_hash": "d8b60d1",
    "execution_start": 1625425968549,
    "execution_millis": 5,
    "deepnote_cell_type": "code"
   },
   "source": "df_left = pd.DataFrame(\n    {'X': ['x0', 'x1', 'x2', 'x3'],\n    'W': ['w0', 'w1', 'w2', 'w3'], \n    'Y': ['y0', 'y1', 'y2', 'y3'] },\n    index=[0,1,2,3])\ndf_right = pd.DataFrame(\n    {'Z': ['z2', 'z3', 'z4', 'z5'],\n    'A': ['a2', 'a3', 'a4', 'a5'], \n    'Y': ['y2', 'y3', 'y4', 'y5']},\n    index=[2,3,4,5])",
   "execution_count": 6,
   "outputs": []
  },
  {
   "cell_type": "markdown",
   "source": "### Inner",
   "metadata": {
    "tags": [],
    "cell_id": "00119-aaa0928f-7984-42bc-b6a3-e96d313fa0a4",
    "deepnote_cell_type": "markdown"
   }
  },
  {
   "cell_type": "code",
   "metadata": {
    "tags": [],
    "cell_id": "00119-985c3e6e-1963-4a9c-af8c-9dc92ca9f135",
    "deepnote_to_be_reexecuted": false,
    "source_hash": "b604ffb9",
    "execution_start": 1625426002488,
    "execution_millis": 16,
    "deepnote_cell_type": "code"
   },
   "source": "pd.merge(df_left,df_right, how='inner')",
   "execution_count": 7,
   "outputs": [
    {
     "output_type": "execute_result",
     "execution_count": 7,
     "data": {
      "application/vnd.deepnote.dataframe.v2+json": {
       "row_count": 2,
       "column_count": 5,
       "columns": [
        {
         "name": "X",
         "dtype": "object",
         "stats": {
          "unique_count": 2,
          "nan_count": 0,
          "categories": [
           {
            "name": "x2",
            "count": 1
           },
           {
            "name": "x3",
            "count": 1
           }
          ]
         }
        },
        {
         "name": "W",
         "dtype": "object",
         "stats": {
          "unique_count": 2,
          "nan_count": 0,
          "categories": [
           {
            "name": "w2",
            "count": 1
           },
           {
            "name": "w3",
            "count": 1
           }
          ]
         }
        },
        {
         "name": "Y",
         "dtype": "object",
         "stats": {
          "unique_count": 2,
          "nan_count": 0,
          "categories": [
           {
            "name": "y2",
            "count": 1
           },
           {
            "name": "y3",
            "count": 1
           }
          ]
         }
        },
        {
         "name": "Z",
         "dtype": "object",
         "stats": {
          "unique_count": 2,
          "nan_count": 0,
          "categories": [
           {
            "name": "z2",
            "count": 1
           },
           {
            "name": "z3",
            "count": 1
           }
          ]
         }
        },
        {
         "name": "A",
         "dtype": "object",
         "stats": {
          "unique_count": 2,
          "nan_count": 0,
          "categories": [
           {
            "name": "a2",
            "count": 1
           },
           {
            "name": "a3",
            "count": 1
           }
          ]
         }
        },
        {
         "name": "_deepnote_index_column",
         "dtype": "int64"
        }
       ],
       "rows_top": [
        {
         "X": "x2",
         "W": "w2",
         "Y": "y2",
         "Z": "z2",
         "A": "a2",
         "_deepnote_index_column": 0
        },
        {
         "X": "x3",
         "W": "w3",
         "Y": "y3",
         "Z": "z3",
         "A": "a3",
         "_deepnote_index_column": 1
        }
       ],
       "rows_bottom": null
      },
      "text/plain": "    X   W   Y   Z   A\n0  x2  w2  y2  z2  a2\n1  x3  w3  y3  z3  a3",
      "text/html": "<div>\n<style scoped>\n    .dataframe tbody tr th:only-of-type {\n        vertical-align: middle;\n    }\n\n    .dataframe tbody tr th {\n        vertical-align: top;\n    }\n\n    .dataframe thead th {\n        text-align: right;\n    }\n</style>\n<table border=\"1\" class=\"dataframe\">\n  <thead>\n    <tr style=\"text-align: right;\">\n      <th></th>\n      <th>X</th>\n      <th>W</th>\n      <th>Y</th>\n      <th>Z</th>\n      <th>A</th>\n    </tr>\n  </thead>\n  <tbody>\n    <tr>\n      <th>0</th>\n      <td>x2</td>\n      <td>w2</td>\n      <td>y2</td>\n      <td>z2</td>\n      <td>a2</td>\n    </tr>\n    <tr>\n      <th>1</th>\n      <td>x3</td>\n      <td>w3</td>\n      <td>y3</td>\n      <td>z3</td>\n      <td>a3</td>\n    </tr>\n  </tbody>\n</table>\n</div>"
     },
     "metadata": {}
    }
   ]
  },
  {
   "cell_type": "markdown",
   "source": "### Left",
   "metadata": {
    "tags": [],
    "cell_id": "00121-4240c3c0-6814-46bd-bb31-e754f0c7b3ab",
    "deepnote_cell_type": "markdown"
   }
  },
  {
   "cell_type": "code",
   "metadata": {
    "tags": [],
    "cell_id": "00122-f812b4b1-4ec5-49fa-b1e5-c841b891a582",
    "deepnote_to_be_reexecuted": false,
    "source_hash": "c963d10a",
    "execution_start": 1625426015237,
    "execution_millis": 16,
    "deepnote_cell_type": "code"
   },
   "source": "pd.merge(df_left,df_right, how='left', on='Y')",
   "execution_count": 8,
   "outputs": [
    {
     "output_type": "execute_result",
     "execution_count": 8,
     "data": {
      "application/vnd.deepnote.dataframe.v2+json": {
       "row_count": 4,
       "column_count": 5,
       "columns": [
        {
         "name": "X",
         "dtype": "object",
         "stats": {
          "unique_count": 4,
          "nan_count": 0,
          "categories": [
           {
            "name": "x0",
            "count": 1
           },
           {
            "name": "x1",
            "count": 1
           },
           {
            "name": "2 others",
            "count": 2
           }
          ]
         }
        },
        {
         "name": "W",
         "dtype": "object",
         "stats": {
          "unique_count": 4,
          "nan_count": 0,
          "categories": [
           {
            "name": "w0",
            "count": 1
           },
           {
            "name": "w1",
            "count": 1
           },
           {
            "name": "2 others",
            "count": 2
           }
          ]
         }
        },
        {
         "name": "Y",
         "dtype": "object",
         "stats": {
          "unique_count": 4,
          "nan_count": 0,
          "categories": [
           {
            "name": "y0",
            "count": 1
           },
           {
            "name": "y1",
            "count": 1
           },
           {
            "name": "2 others",
            "count": 2
           }
          ]
         }
        },
        {
         "name": "Z",
         "dtype": "object",
         "stats": {
          "unique_count": 2,
          "nan_count": 2,
          "categories": [
           {
            "name": "z2",
            "count": 1
           },
           {
            "name": "z3",
            "count": 1
           },
           {
            "name": "Missing",
            "count": 2
           }
          ]
         }
        },
        {
         "name": "A",
         "dtype": "object",
         "stats": {
          "unique_count": 2,
          "nan_count": 2,
          "categories": [
           {
            "name": "a2",
            "count": 1
           },
           {
            "name": "a3",
            "count": 1
           },
           {
            "name": "Missing",
            "count": 2
           }
          ]
         }
        },
        {
         "name": "_deepnote_index_column",
         "dtype": "int64"
        }
       ],
       "rows_top": [
        {
         "X": "x0",
         "W": "w0",
         "Y": "y0",
         "Z": "nan",
         "A": "nan",
         "_deepnote_index_column": 0
        },
        {
         "X": "x1",
         "W": "w1",
         "Y": "y1",
         "Z": "nan",
         "A": "nan",
         "_deepnote_index_column": 1
        },
        {
         "X": "x2",
         "W": "w2",
         "Y": "y2",
         "Z": "z2",
         "A": "a2",
         "_deepnote_index_column": 2
        },
        {
         "X": "x3",
         "W": "w3",
         "Y": "y3",
         "Z": "z3",
         "A": "a3",
         "_deepnote_index_column": 3
        }
       ],
       "rows_bottom": null
      },
      "text/plain": "    X   W   Y    Z    A\n0  x0  w0  y0  NaN  NaN\n1  x1  w1  y1  NaN  NaN\n2  x2  w2  y2   z2   a2\n3  x3  w3  y3   z3   a3",
      "text/html": "<div>\n<style scoped>\n    .dataframe tbody tr th:only-of-type {\n        vertical-align: middle;\n    }\n\n    .dataframe tbody tr th {\n        vertical-align: top;\n    }\n\n    .dataframe thead th {\n        text-align: right;\n    }\n</style>\n<table border=\"1\" class=\"dataframe\">\n  <thead>\n    <tr style=\"text-align: right;\">\n      <th></th>\n      <th>X</th>\n      <th>W</th>\n      <th>Y</th>\n      <th>Z</th>\n      <th>A</th>\n    </tr>\n  </thead>\n  <tbody>\n    <tr>\n      <th>0</th>\n      <td>x0</td>\n      <td>w0</td>\n      <td>y0</td>\n      <td>NaN</td>\n      <td>NaN</td>\n    </tr>\n    <tr>\n      <th>1</th>\n      <td>x1</td>\n      <td>w1</td>\n      <td>y1</td>\n      <td>NaN</td>\n      <td>NaN</td>\n    </tr>\n    <tr>\n      <th>2</th>\n      <td>x2</td>\n      <td>w2</td>\n      <td>y2</td>\n      <td>z2</td>\n      <td>a2</td>\n    </tr>\n    <tr>\n      <th>3</th>\n      <td>x3</td>\n      <td>w3</td>\n      <td>y3</td>\n      <td>z3</td>\n      <td>a3</td>\n    </tr>\n  </tbody>\n</table>\n</div>"
     },
     "metadata": {}
    }
   ]
  },
  {
   "cell_type": "markdown",
   "source": "### Right",
   "metadata": {
    "tags": [],
    "cell_id": "00123-0dfca84e-415f-4cda-bad5-57585324ac4f",
    "deepnote_cell_type": "markdown"
   }
  },
  {
   "cell_type": "code",
   "metadata": {
    "tags": [],
    "cell_id": "00124-804fac23-a63e-4449-9892-1eaca54a5fb5",
    "deepnote_to_be_reexecuted": false,
    "source_hash": "8540a6c2",
    "execution_start": 1625426056777,
    "execution_millis": 14,
    "deepnote_cell_type": "code"
   },
   "source": "pd.merge(df_left,df_right, how='right', on='Y')",
   "execution_count": 9,
   "outputs": [
    {
     "output_type": "execute_result",
     "execution_count": 9,
     "data": {
      "application/vnd.deepnote.dataframe.v2+json": {
       "row_count": 4,
       "column_count": 5,
       "columns": [
        {
         "name": "X",
         "dtype": "object",
         "stats": {
          "unique_count": 2,
          "nan_count": 2,
          "categories": [
           {
            "name": "x2",
            "count": 1
           },
           {
            "name": "x3",
            "count": 1
           },
           {
            "name": "Missing",
            "count": 2
           }
          ]
         }
        },
        {
         "name": "W",
         "dtype": "object",
         "stats": {
          "unique_count": 2,
          "nan_count": 2,
          "categories": [
           {
            "name": "w2",
            "count": 1
           },
           {
            "name": "w3",
            "count": 1
           },
           {
            "name": "Missing",
            "count": 2
           }
          ]
         }
        },
        {
         "name": "Y",
         "dtype": "object",
         "stats": {
          "unique_count": 4,
          "nan_count": 0,
          "categories": [
           {
            "name": "y2",
            "count": 1
           },
           {
            "name": "y3",
            "count": 1
           },
           {
            "name": "2 others",
            "count": 2
           }
          ]
         }
        },
        {
         "name": "Z",
         "dtype": "object",
         "stats": {
          "unique_count": 4,
          "nan_count": 0,
          "categories": [
           {
            "name": "z2",
            "count": 1
           },
           {
            "name": "z3",
            "count": 1
           },
           {
            "name": "2 others",
            "count": 2
           }
          ]
         }
        },
        {
         "name": "A",
         "dtype": "object",
         "stats": {
          "unique_count": 4,
          "nan_count": 0,
          "categories": [
           {
            "name": "a2",
            "count": 1
           },
           {
            "name": "a3",
            "count": 1
           },
           {
            "name": "2 others",
            "count": 2
           }
          ]
         }
        },
        {
         "name": "_deepnote_index_column",
         "dtype": "int64"
        }
       ],
       "rows_top": [
        {
         "X": "x2",
         "W": "w2",
         "Y": "y2",
         "Z": "z2",
         "A": "a2",
         "_deepnote_index_column": 0
        },
        {
         "X": "x3",
         "W": "w3",
         "Y": "y3",
         "Z": "z3",
         "A": "a3",
         "_deepnote_index_column": 1
        },
        {
         "X": "nan",
         "W": "nan",
         "Y": "y4",
         "Z": "z4",
         "A": "a4",
         "_deepnote_index_column": 2
        },
        {
         "X": "nan",
         "W": "nan",
         "Y": "y5",
         "Z": "z5",
         "A": "a5",
         "_deepnote_index_column": 3
        }
       ],
       "rows_bottom": null
      },
      "text/plain": "     X    W   Y   Z   A\n0   x2   w2  y2  z2  a2\n1   x3   w3  y3  z3  a3\n2  NaN  NaN  y4  z4  a4\n3  NaN  NaN  y5  z5  a5",
      "text/html": "<div>\n<style scoped>\n    .dataframe tbody tr th:only-of-type {\n        vertical-align: middle;\n    }\n\n    .dataframe tbody tr th {\n        vertical-align: top;\n    }\n\n    .dataframe thead th {\n        text-align: right;\n    }\n</style>\n<table border=\"1\" class=\"dataframe\">\n  <thead>\n    <tr style=\"text-align: right;\">\n      <th></th>\n      <th>X</th>\n      <th>W</th>\n      <th>Y</th>\n      <th>Z</th>\n      <th>A</th>\n    </tr>\n  </thead>\n  <tbody>\n    <tr>\n      <th>0</th>\n      <td>x2</td>\n      <td>w2</td>\n      <td>y2</td>\n      <td>z2</td>\n      <td>a2</td>\n    </tr>\n    <tr>\n      <th>1</th>\n      <td>x3</td>\n      <td>w3</td>\n      <td>y3</td>\n      <td>z3</td>\n      <td>a3</td>\n    </tr>\n    <tr>\n      <th>2</th>\n      <td>NaN</td>\n      <td>NaN</td>\n      <td>y4</td>\n      <td>z4</td>\n      <td>a4</td>\n    </tr>\n    <tr>\n      <th>3</th>\n      <td>NaN</td>\n      <td>NaN</td>\n      <td>y5</td>\n      <td>z5</td>\n      <td>a5</td>\n    </tr>\n  </tbody>\n</table>\n</div>"
     },
     "metadata": {}
    }
   ]
  },
  {
   "cell_type": "markdown",
   "source": "### Outer",
   "metadata": {
    "tags": [],
    "cell_id": "00125-e6877181-8de8-4c7a-ad74-d003d2ef39b7",
    "deepnote_cell_type": "markdown"
   }
  },
  {
   "cell_type": "code",
   "metadata": {
    "tags": [],
    "cell_id": "00131-84edcc47-2644-49eb-8957-b83f367a4944",
    "deepnote_to_be_reexecuted": false,
    "source_hash": "113d8e36",
    "execution_start": 1625426073746,
    "execution_millis": 27,
    "deepnote_cell_type": "code"
   },
   "source": "pd.merge(df_left,df_right, how='outer', on='Y')",
   "execution_count": 10,
   "outputs": [
    {
     "output_type": "execute_result",
     "execution_count": 10,
     "data": {
      "application/vnd.deepnote.dataframe.v2+json": {
       "row_count": 6,
       "column_count": 5,
       "columns": [
        {
         "name": "X",
         "dtype": "object",
         "stats": {
          "unique_count": 4,
          "nan_count": 2,
          "categories": [
           {
            "name": "x0",
            "count": 1
           },
           {
            "name": "3 others",
            "count": 3
           },
           {
            "name": "Missing",
            "count": 2
           }
          ]
         }
        },
        {
         "name": "W",
         "dtype": "object",
         "stats": {
          "unique_count": 4,
          "nan_count": 2,
          "categories": [
           {
            "name": "w0",
            "count": 1
           },
           {
            "name": "3 others",
            "count": 3
           },
           {
            "name": "Missing",
            "count": 2
           }
          ]
         }
        },
        {
         "name": "Y",
         "dtype": "object",
         "stats": {
          "unique_count": 6,
          "nan_count": 0,
          "categories": [
           {
            "name": "y0",
            "count": 1
           },
           {
            "name": "y1",
            "count": 1
           },
           {
            "name": "4 others",
            "count": 4
           }
          ]
         }
        },
        {
         "name": "Z",
         "dtype": "object",
         "stats": {
          "unique_count": 4,
          "nan_count": 2,
          "categories": [
           {
            "name": "z2",
            "count": 1
           },
           {
            "name": "3 others",
            "count": 3
           },
           {
            "name": "Missing",
            "count": 2
           }
          ]
         }
        },
        {
         "name": "A",
         "dtype": "object",
         "stats": {
          "unique_count": 4,
          "nan_count": 2,
          "categories": [
           {
            "name": "a2",
            "count": 1
           },
           {
            "name": "3 others",
            "count": 3
           },
           {
            "name": "Missing",
            "count": 2
           }
          ]
         }
        },
        {
         "name": "_deepnote_index_column",
         "dtype": "int64"
        }
       ],
       "rows_top": [
        {
         "X": "x0",
         "W": "w0",
         "Y": "y0",
         "Z": "nan",
         "A": "nan",
         "_deepnote_index_column": 0
        },
        {
         "X": "x1",
         "W": "w1",
         "Y": "y1",
         "Z": "nan",
         "A": "nan",
         "_deepnote_index_column": 1
        },
        {
         "X": "x2",
         "W": "w2",
         "Y": "y2",
         "Z": "z2",
         "A": "a2",
         "_deepnote_index_column": 2
        },
        {
         "X": "x3",
         "W": "w3",
         "Y": "y3",
         "Z": "z3",
         "A": "a3",
         "_deepnote_index_column": 3
        },
        {
         "X": "nan",
         "W": "nan",
         "Y": "y4",
         "Z": "z4",
         "A": "a4",
         "_deepnote_index_column": 4
        },
        {
         "X": "nan",
         "W": "nan",
         "Y": "y5",
         "Z": "z5",
         "A": "a5",
         "_deepnote_index_column": 5
        }
       ],
       "rows_bottom": null
      },
      "text/plain": "     X    W   Y    Z    A\n0   x0   w0  y0  NaN  NaN\n1   x1   w1  y1  NaN  NaN\n2   x2   w2  y2   z2   a2\n3   x3   w3  y3   z3   a3\n4  NaN  NaN  y4   z4   a4\n5  NaN  NaN  y5   z5   a5",
      "text/html": "<div>\n<style scoped>\n    .dataframe tbody tr th:only-of-type {\n        vertical-align: middle;\n    }\n\n    .dataframe tbody tr th {\n        vertical-align: top;\n    }\n\n    .dataframe thead th {\n        text-align: right;\n    }\n</style>\n<table border=\"1\" class=\"dataframe\">\n  <thead>\n    <tr style=\"text-align: right;\">\n      <th></th>\n      <th>X</th>\n      <th>W</th>\n      <th>Y</th>\n      <th>Z</th>\n      <th>A</th>\n    </tr>\n  </thead>\n  <tbody>\n    <tr>\n      <th>0</th>\n      <td>x0</td>\n      <td>w0</td>\n      <td>y0</td>\n      <td>NaN</td>\n      <td>NaN</td>\n    </tr>\n    <tr>\n      <th>1</th>\n      <td>x1</td>\n      <td>w1</td>\n      <td>y1</td>\n      <td>NaN</td>\n      <td>NaN</td>\n    </tr>\n    <tr>\n      <th>2</th>\n      <td>x2</td>\n      <td>w2</td>\n      <td>y2</td>\n      <td>z2</td>\n      <td>a2</td>\n    </tr>\n    <tr>\n      <th>3</th>\n      <td>x3</td>\n      <td>w3</td>\n      <td>y3</td>\n      <td>z3</td>\n      <td>a3</td>\n    </tr>\n    <tr>\n      <th>4</th>\n      <td>NaN</td>\n      <td>NaN</td>\n      <td>y4</td>\n      <td>z4</td>\n      <td>a4</td>\n    </tr>\n    <tr>\n      <th>5</th>\n      <td>NaN</td>\n      <td>NaN</td>\n      <td>y5</td>\n      <td>z5</td>\n      <td>a5</td>\n    </tr>\n  </tbody>\n</table>\n</div>"
     },
     "metadata": {}
    }
   ]
  },
  {
   "cell_type": "markdown",
   "source": "Cuando se comparten mas de un parametro.",
   "metadata": {
    "tags": [],
    "cell_id": "00132-dc2c7ba3-c1aa-4429-b8e8-635f64678234",
    "deepnote_cell_type": "markdown"
   }
  },
  {
   "cell_type": "code",
   "metadata": {
    "tags": [],
    "cell_id": "00133-c24a1d93-c70a-499e-8a5f-71dbab19c024",
    "deepnote_to_be_reexecuted": false,
    "source_hash": "14d084d0",
    "execution_start": 1625426164821,
    "execution_millis": 24,
    "deepnote_cell_type": "code"
   },
   "source": "df_left2 = pd.DataFrame(\n    {'X': ['x0', 'x1', 'x2', 'x3'],\n    'W': ['w0', 'w1', 'w2', 'w3'], \n    'Y': ['y0', 'y1', 'y2', 'y3'],\n    'A': ['a0', 'a1', 'a2', 'a3'],})\npd.merge(df_left2,df_right,how='outer', on=['Y','A'])",
   "execution_count": 11,
   "outputs": [
    {
     "output_type": "execute_result",
     "execution_count": 11,
     "data": {
      "application/vnd.deepnote.dataframe.v2+json": {
       "row_count": 6,
       "column_count": 5,
       "columns": [
        {
         "name": "X",
         "dtype": "object",
         "stats": {
          "unique_count": 4,
          "nan_count": 2,
          "categories": [
           {
            "name": "x0",
            "count": 1
           },
           {
            "name": "3 others",
            "count": 3
           },
           {
            "name": "Missing",
            "count": 2
           }
          ]
         }
        },
        {
         "name": "W",
         "dtype": "object",
         "stats": {
          "unique_count": 4,
          "nan_count": 2,
          "categories": [
           {
            "name": "w0",
            "count": 1
           },
           {
            "name": "3 others",
            "count": 3
           },
           {
            "name": "Missing",
            "count": 2
           }
          ]
         }
        },
        {
         "name": "Y",
         "dtype": "object",
         "stats": {
          "unique_count": 6,
          "nan_count": 0,
          "categories": [
           {
            "name": "y0",
            "count": 1
           },
           {
            "name": "y1",
            "count": 1
           },
           {
            "name": "4 others",
            "count": 4
           }
          ]
         }
        },
        {
         "name": "A",
         "dtype": "object",
         "stats": {
          "unique_count": 6,
          "nan_count": 0,
          "categories": [
           {
            "name": "a0",
            "count": 1
           },
           {
            "name": "a1",
            "count": 1
           },
           {
            "name": "4 others",
            "count": 4
           }
          ]
         }
        },
        {
         "name": "Z",
         "dtype": "object",
         "stats": {
          "unique_count": 4,
          "nan_count": 2,
          "categories": [
           {
            "name": "z2",
            "count": 1
           },
           {
            "name": "3 others",
            "count": 3
           },
           {
            "name": "Missing",
            "count": 2
           }
          ]
         }
        },
        {
         "name": "_deepnote_index_column",
         "dtype": "int64"
        }
       ],
       "rows_top": [
        {
         "X": "x0",
         "W": "w0",
         "Y": "y0",
         "A": "a0",
         "Z": "nan",
         "_deepnote_index_column": 0
        },
        {
         "X": "x1",
         "W": "w1",
         "Y": "y1",
         "A": "a1",
         "Z": "nan",
         "_deepnote_index_column": 1
        },
        {
         "X": "x2",
         "W": "w2",
         "Y": "y2",
         "A": "a2",
         "Z": "z2",
         "_deepnote_index_column": 2
        },
        {
         "X": "x3",
         "W": "w3",
         "Y": "y3",
         "A": "a3",
         "Z": "z3",
         "_deepnote_index_column": 3
        },
        {
         "X": "nan",
         "W": "nan",
         "Y": "y4",
         "A": "a4",
         "Z": "z4",
         "_deepnote_index_column": 4
        },
        {
         "X": "nan",
         "W": "nan",
         "Y": "y5",
         "A": "a5",
         "Z": "z5",
         "_deepnote_index_column": 5
        }
       ],
       "rows_bottom": null
      },
      "text/plain": "     X    W   Y   A    Z\n0   x0   w0  y0  a0  NaN\n1   x1   w1  y1  a1  NaN\n2   x2   w2  y2  a2   z2\n3   x3   w3  y3  a3   z3\n4  NaN  NaN  y4  a4   z4\n5  NaN  NaN  y5  a5   z5",
      "text/html": "<div>\n<style scoped>\n    .dataframe tbody tr th:only-of-type {\n        vertical-align: middle;\n    }\n\n    .dataframe tbody tr th {\n        vertical-align: top;\n    }\n\n    .dataframe thead th {\n        text-align: right;\n    }\n</style>\n<table border=\"1\" class=\"dataframe\">\n  <thead>\n    <tr style=\"text-align: right;\">\n      <th></th>\n      <th>X</th>\n      <th>W</th>\n      <th>Y</th>\n      <th>A</th>\n      <th>Z</th>\n    </tr>\n  </thead>\n  <tbody>\n    <tr>\n      <th>0</th>\n      <td>x0</td>\n      <td>w0</td>\n      <td>y0</td>\n      <td>a0</td>\n      <td>NaN</td>\n    </tr>\n    <tr>\n      <th>1</th>\n      <td>x1</td>\n      <td>w1</td>\n      <td>y1</td>\n      <td>a1</td>\n      <td>NaN</td>\n    </tr>\n    <tr>\n      <th>2</th>\n      <td>x2</td>\n      <td>w2</td>\n      <td>y2</td>\n      <td>a2</td>\n      <td>z2</td>\n    </tr>\n    <tr>\n      <th>3</th>\n      <td>x3</td>\n      <td>w3</td>\n      <td>y3</td>\n      <td>a3</td>\n      <td>z3</td>\n    </tr>\n    <tr>\n      <th>4</th>\n      <td>NaN</td>\n      <td>NaN</td>\n      <td>y4</td>\n      <td>a4</td>\n      <td>z4</td>\n    </tr>\n    <tr>\n      <th>5</th>\n      <td>NaN</td>\n      <td>NaN</td>\n      <td>y5</td>\n      <td>a5</td>\n      <td>z5</td>\n    </tr>\n  </tbody>\n</table>\n</div>"
     },
     "metadata": {}
    }
   ]
  },
  {
   "cell_type": "markdown",
   "source": "# Lidiar con datos faltantes\n[15] lidiar-con-datos-faltantes-.ipynb",
   "metadata": {
    "tags": [],
    "cell_id": "00134-586db9a5-ba15-471b-88d5-77bc3fc6bfa0",
    "deepnote_cell_type": "markdown"
   }
  },
  {
   "cell_type": "markdown",
   "source": "## Objetos nulos\nEs muy común que nuestros DataFrames presenten datos faltantes, antes de empezar a procesar nuestros DataFrames veamos un poco en qué consisten los objetos **NaN (Not a Number)**.\n\nImportemos las librerias Pandas y Numpy para esto:",
   "metadata": {
    "tags": [],
    "cell_id": "00135-b685c31a-abf3-4e20-9e9e-fd5347001e59",
    "deepnote_cell_type": "markdown"
   }
  },
  {
   "cell_type": "code",
   "metadata": {
    "tags": [],
    "cell_id": "00136-bceb5d64-6438-42c4-8be1-d61a4e0e4ab7",
    "deepnote_cell_type": "code"
   },
   "source": "import numpy as np\nimport pandas as pd",
   "execution_count": null,
   "outputs": []
  },
  {
   "cell_type": "markdown",
   "source": "Un número que no está definido usualmente se representa con el siguiente objeto:\n```\nnp.nan\n> nan\n```\n¡Este objeto tiene propiedades matemáticas! Al sumar un número, obtenemos como\nrespuesta el mismo **NaN**.\n```\nnp.nan + 0\n> nan\n\nnp.nan > 0\n> False\n```\nLa versión 1.0 de pandas **incluye un nuevo objeto NA**, que es mucho más\ngeneral pues, ademas de **interactuar con números, tambien puede hacerlo con\ncadenas de texto u otras varaibles como las de tipo booleano**. Si quieres que\nesta nueva definición este incluida entre tus cálculos usa:\n```\n pd.options.mode.use_inf_as_na = True\n```\nAl sumar **NA** a una cadena de texto, obtengo el mismo NA:\n```\npd.NA +'Hola mundo'\n> <NA>\n\npd.NA | False\n> <NA>\n```\n\nA continuación, vamos a crear un DataFrame",
   "metadata": {
    "tags": [],
    "cell_id": "00137-6a303340-6732-4ceb-8b7d-dd98b06ea34a",
    "deepnote_cell_type": "markdown"
   }
  },
  {
   "cell_type": "code",
   "metadata": {
    "tags": [],
    "cell_id": "00138-36c6c252-15e3-4d37-94ab-984e8b30fa31",
    "deepnote_to_be_reexecuted": false,
    "source_hash": "e8c1c2ae",
    "execution_start": 1625426514970,
    "execution_millis": 14,
    "deepnote_cell_type": "code"
   },
   "source": "df = pd.DataFrame(np.arange(0, 15).reshape(5, 3), columns=['a', 'b', 'c'])\ndf",
   "execution_count": 12,
   "outputs": [
    {
     "output_type": "execute_result",
     "execution_count": 12,
     "data": {
      "application/vnd.deepnote.dataframe.v2+json": {
       "row_count": 5,
       "column_count": 3,
       "columns": [
        {
         "name": "a",
         "dtype": "int64",
         "stats": {
          "unique_count": 5,
          "nan_count": 0,
          "min": "0",
          "max": "12",
          "histogram": [
           {
            "bin_start": 0,
            "bin_end": 1.2,
            "count": 1
           },
           {
            "bin_start": 1.2,
            "bin_end": 2.4,
            "count": 0
           },
           {
            "bin_start": 2.4,
            "bin_end": 3.5999999999999996,
            "count": 1
           },
           {
            "bin_start": 3.5999999999999996,
            "bin_end": 4.8,
            "count": 0
           },
           {
            "bin_start": 4.8,
            "bin_end": 6,
            "count": 0
           },
           {
            "bin_start": 6,
            "bin_end": 7.199999999999999,
            "count": 1
           },
           {
            "bin_start": 7.199999999999999,
            "bin_end": 8.4,
            "count": 0
           },
           {
            "bin_start": 8.4,
            "bin_end": 9.6,
            "count": 1
           },
           {
            "bin_start": 9.6,
            "bin_end": 10.799999999999999,
            "count": 0
           },
           {
            "bin_start": 10.799999999999999,
            "bin_end": 12,
            "count": 1
           }
          ]
         }
        },
        {
         "name": "b",
         "dtype": "int64",
         "stats": {
          "unique_count": 5,
          "nan_count": 0,
          "min": "1",
          "max": "13",
          "histogram": [
           {
            "bin_start": 1,
            "bin_end": 2.2,
            "count": 1
           },
           {
            "bin_start": 2.2,
            "bin_end": 3.4,
            "count": 0
           },
           {
            "bin_start": 3.4,
            "bin_end": 4.6,
            "count": 1
           },
           {
            "bin_start": 4.6,
            "bin_end": 5.8,
            "count": 0
           },
           {
            "bin_start": 5.8,
            "bin_end": 7,
            "count": 0
           },
           {
            "bin_start": 7,
            "bin_end": 8.2,
            "count": 1
           },
           {
            "bin_start": 8.2,
            "bin_end": 9.4,
            "count": 0
           },
           {
            "bin_start": 9.4,
            "bin_end": 10.6,
            "count": 1
           },
           {
            "bin_start": 10.6,
            "bin_end": 11.799999999999999,
            "count": 0
           },
           {
            "bin_start": 11.799999999999999,
            "bin_end": 13,
            "count": 1
           }
          ]
         }
        },
        {
         "name": "c",
         "dtype": "int64",
         "stats": {
          "unique_count": 5,
          "nan_count": 0,
          "min": "2",
          "max": "14",
          "histogram": [
           {
            "bin_start": 2,
            "bin_end": 3.2,
            "count": 1
           },
           {
            "bin_start": 3.2,
            "bin_end": 4.4,
            "count": 0
           },
           {
            "bin_start": 4.4,
            "bin_end": 5.6,
            "count": 1
           },
           {
            "bin_start": 5.6,
            "bin_end": 6.8,
            "count": 0
           },
           {
            "bin_start": 6.8,
            "bin_end": 8,
            "count": 0
           },
           {
            "bin_start": 8,
            "bin_end": 9.2,
            "count": 1
           },
           {
            "bin_start": 9.2,
            "bin_end": 10.4,
            "count": 0
           },
           {
            "bin_start": 10.4,
            "bin_end": 11.6,
            "count": 1
           },
           {
            "bin_start": 11.6,
            "bin_end": 12.799999999999999,
            "count": 0
           },
           {
            "bin_start": 12.799999999999999,
            "bin_end": 14,
            "count": 1
           }
          ]
         }
        },
        {
         "name": "_deepnote_index_column",
         "dtype": "int64"
        }
       ],
       "rows_top": [
        {
         "a": 0,
         "b": 1,
         "c": 2,
         "_deepnote_index_column": 0
        },
        {
         "a": 3,
         "b": 4,
         "c": 5,
         "_deepnote_index_column": 1
        },
        {
         "a": 6,
         "b": 7,
         "c": 8,
         "_deepnote_index_column": 2
        },
        {
         "a": 9,
         "b": 10,
         "c": 11,
         "_deepnote_index_column": 3
        },
        {
         "a": 12,
         "b": 13,
         "c": 14,
         "_deepnote_index_column": 4
        }
       ],
       "rows_bottom": null
      },
      "text/plain": "    a   b   c\n0   0   1   2\n1   3   4   5\n2   6   7   8\n3   9  10  11\n4  12  13  14",
      "text/html": "<div>\n<style scoped>\n    .dataframe tbody tr th:only-of-type {\n        vertical-align: middle;\n    }\n\n    .dataframe tbody tr th {\n        vertical-align: top;\n    }\n\n    .dataframe thead th {\n        text-align: right;\n    }\n</style>\n<table border=\"1\" class=\"dataframe\">\n  <thead>\n    <tr style=\"text-align: right;\">\n      <th></th>\n      <th>a</th>\n      <th>b</th>\n      <th>c</th>\n    </tr>\n  </thead>\n  <tbody>\n    <tr>\n      <th>0</th>\n      <td>0</td>\n      <td>1</td>\n      <td>2</td>\n    </tr>\n    <tr>\n      <th>1</th>\n      <td>3</td>\n      <td>4</td>\n      <td>5</td>\n    </tr>\n    <tr>\n      <th>2</th>\n      <td>6</td>\n      <td>7</td>\n      <td>8</td>\n    </tr>\n    <tr>\n      <th>3</th>\n      <td>9</td>\n      <td>10</td>\n      <td>11</td>\n    </tr>\n    <tr>\n      <th>4</th>\n      <td>12</td>\n      <td>13</td>\n      <td>14</td>\n    </tr>\n  </tbody>\n</table>\n</div>"
     },
     "metadata": {}
    }
   ]
  },
  {
   "cell_type": "markdown",
   "source": "Y vamos a añadir algunas variables no definidas:",
   "metadata": {
    "tags": [],
    "cell_id": "00139-f890344f-2040-46e7-9e5c-b1e855b2f7b5",
    "deepnote_cell_type": "markdown"
   }
  },
  {
   "cell_type": "code",
   "metadata": {
    "tags": [],
    "cell_id": "00139-b858255d-70d6-4a4e-848b-d71931965fbf",
    "deepnote_to_be_reexecuted": false,
    "source_hash": "ed38e4b",
    "execution_start": 1625426544011,
    "execution_millis": 45,
    "deepnote_cell_type": "code"
   },
   "source": "df['d'] = np.nan\ndf['e'] = np.arange(15, 20)\ndf.loc[5,:] = pd.NA\ndf.loc[4,'a'] = pd.NA\ndf.loc[0,'d'] = 1\ndf.loc[5,'d'] = 10\ndf",
   "execution_count": 13,
   "outputs": [
    {
     "output_type": "execute_result",
     "execution_count": 13,
     "data": {
      "application/vnd.deepnote.dataframe.v2+json": {
       "row_count": 6,
       "column_count": 5,
       "columns": [
        {
         "name": "a",
         "dtype": "object",
         "stats": {
          "unique_count": 4,
          "nan_count": 2,
          "categories": [
           {
            "name": "0.0",
            "count": 1
           },
           {
            "name": "3 others",
            "count": 3
           },
           {
            "name": "Missing",
            "count": 2
           }
          ]
         }
        },
        {
         "name": "b",
         "dtype": "object",
         "stats": {
          "unique_count": 5,
          "nan_count": 1,
          "categories": [
           {
            "name": "1.0",
            "count": 1
           },
           {
            "name": "4 others",
            "count": 4
           },
           {
            "name": "Missing",
            "count": 1
           }
          ]
         }
        },
        {
         "name": "c",
         "dtype": "object",
         "stats": {
          "unique_count": 5,
          "nan_count": 1,
          "categories": [
           {
            "name": "2.0",
            "count": 1
           },
           {
            "name": "4 others",
            "count": 4
           },
           {
            "name": "Missing",
            "count": 1
           }
          ]
         }
        },
        {
         "name": "d",
         "dtype": "object",
         "stats": {
          "unique_count": 2,
          "nan_count": 4,
          "categories": [
           {
            "name": "1.0",
            "count": 1
           },
           {
            "name": "10.0",
            "count": 1
           },
           {
            "name": "Missing",
            "count": 4
           }
          ]
         }
        },
        {
         "name": "e",
         "dtype": "object",
         "stats": {
          "unique_count": 5,
          "nan_count": 1,
          "categories": [
           {
            "name": "15.0",
            "count": 1
           },
           {
            "name": "4 others",
            "count": 4
           },
           {
            "name": "Missing",
            "count": 1
           }
          ]
         }
        },
        {
         "name": "_deepnote_index_column",
         "dtype": "int64"
        }
       ],
       "rows_top": [
        {
         "a": "0.0",
         "b": "1.0",
         "c": "2.0",
         "d": "1",
         "e": "15.0",
         "_deepnote_index_column": 0
        },
        {
         "a": "3.0",
         "b": "4.0",
         "c": "5.0",
         "d": "nan",
         "e": "16.0",
         "_deepnote_index_column": 1
        },
        {
         "a": "6.0",
         "b": "7.0",
         "c": "8.0",
         "d": "nan",
         "e": "17.0",
         "_deepnote_index_column": 2
        },
        {
         "a": "9.0",
         "b": "10.0",
         "c": "11.0",
         "d": "nan",
         "e": "18.0",
         "_deepnote_index_column": 3
        },
        {
         "a": "<NA>",
         "b": "13.0",
         "c": "14.0",
         "d": "nan",
         "e": "19.0",
         "_deepnote_index_column": 4
        },
        {
         "a": "<NA>",
         "b": "<NA>",
         "c": "<NA>",
         "d": "10",
         "e": "<NA>",
         "_deepnote_index_column": 5
        }
       ],
       "rows_bottom": null
      },
      "text/plain": "      a     b     c    d     e\n0   0.0   1.0   2.0    1  15.0\n1   3.0   4.0   5.0  NaN  16.0\n2   6.0   7.0   8.0  NaN  17.0\n3   9.0  10.0  11.0  NaN  18.0\n4  <NA>  13.0  14.0  NaN  19.0\n5  <NA>  <NA>  <NA>   10  <NA>",
      "text/html": "<div>\n<style scoped>\n    .dataframe tbody tr th:only-of-type {\n        vertical-align: middle;\n    }\n\n    .dataframe tbody tr th {\n        vertical-align: top;\n    }\n\n    .dataframe thead th {\n        text-align: right;\n    }\n</style>\n<table border=\"1\" class=\"dataframe\">\n  <thead>\n    <tr style=\"text-align: right;\">\n      <th></th>\n      <th>a</th>\n      <th>b</th>\n      <th>c</th>\n      <th>d</th>\n      <th>e</th>\n    </tr>\n  </thead>\n  <tbody>\n    <tr>\n      <th>0</th>\n      <td>0.0</td>\n      <td>1.0</td>\n      <td>2.0</td>\n      <td>1</td>\n      <td>15.0</td>\n    </tr>\n    <tr>\n      <th>1</th>\n      <td>3.0</td>\n      <td>4.0</td>\n      <td>5.0</td>\n      <td>NaN</td>\n      <td>16.0</td>\n    </tr>\n    <tr>\n      <th>2</th>\n      <td>6.0</td>\n      <td>7.0</td>\n      <td>8.0</td>\n      <td>NaN</td>\n      <td>17.0</td>\n    </tr>\n    <tr>\n      <th>3</th>\n      <td>9.0</td>\n      <td>10.0</td>\n      <td>11.0</td>\n      <td>NaN</td>\n      <td>18.0</td>\n    </tr>\n    <tr>\n      <th>4</th>\n      <td>&lt;NA&gt;</td>\n      <td>13.0</td>\n      <td>14.0</td>\n      <td>NaN</td>\n      <td>19.0</td>\n    </tr>\n    <tr>\n      <th>5</th>\n      <td>&lt;NA&gt;</td>\n      <td>&lt;NA&gt;</td>\n      <td>&lt;NA&gt;</td>\n      <td>10</td>\n      <td>&lt;NA&gt;</td>\n    </tr>\n  </tbody>\n</table>\n</div>"
     },
     "metadata": {}
    }
   ]
  },
  {
   "cell_type": "markdown",
   "source": "### Identifinar un objeto nulo\nPara reconocer cuando un objeto es nulo simplmente usamos:",
   "metadata": {
    "tags": [],
    "cell_id": "00141-7718d365-8101-4070-b944-4530a0b7fc13",
    "deepnote_cell_type": "markdown"
   }
  },
  {
   "cell_type": "code",
   "metadata": {
    "tags": [],
    "cell_id": "00142-9d5a2dd1-fcdf-4376-aef7-d088c81a23d8",
    "deepnote_to_be_reexecuted": false,
    "source_hash": "2dba6cbb",
    "execution_start": 1625426576967,
    "execution_millis": 27,
    "deepnote_cell_type": "code"
   },
   "source": "df.isnull()",
   "execution_count": 14,
   "outputs": [
    {
     "output_type": "execute_result",
     "execution_count": 14,
     "data": {
      "application/vnd.deepnote.dataframe.v2+json": {
       "row_count": 6,
       "column_count": 5,
       "columns": [
        {
         "name": "a",
         "dtype": "bool",
         "stats": {
          "unique_count": 2,
          "nan_count": 0,
          "categories": [
           {
            "name": "False",
            "count": 4
           },
           {
            "name": "True",
            "count": 2
           }
          ]
         }
        },
        {
         "name": "b",
         "dtype": "bool",
         "stats": {
          "unique_count": 2,
          "nan_count": 0,
          "categories": [
           {
            "name": "False",
            "count": 5
           },
           {
            "name": "True",
            "count": 1
           }
          ]
         }
        },
        {
         "name": "c",
         "dtype": "bool",
         "stats": {
          "unique_count": 2,
          "nan_count": 0,
          "categories": [
           {
            "name": "False",
            "count": 5
           },
           {
            "name": "True",
            "count": 1
           }
          ]
         }
        },
        {
         "name": "d",
         "dtype": "bool",
         "stats": {
          "unique_count": 2,
          "nan_count": 0,
          "categories": [
           {
            "name": "True",
            "count": 4
           },
           {
            "name": "False",
            "count": 2
           }
          ]
         }
        },
        {
         "name": "e",
         "dtype": "bool",
         "stats": {
          "unique_count": 2,
          "nan_count": 0,
          "categories": [
           {
            "name": "False",
            "count": 5
           },
           {
            "name": "True",
            "count": 1
           }
          ]
         }
        },
        {
         "name": "_deepnote_index_column",
         "dtype": "int64"
        }
       ],
       "rows_top": [
        {
         "a": "False",
         "b": "False",
         "c": "False",
         "d": "False",
         "e": "False",
         "_deepnote_index_column": 0
        },
        {
         "a": "False",
         "b": "False",
         "c": "False",
         "d": "True",
         "e": "False",
         "_deepnote_index_column": 1
        },
        {
         "a": "False",
         "b": "False",
         "c": "False",
         "d": "True",
         "e": "False",
         "_deepnote_index_column": 2
        },
        {
         "a": "False",
         "b": "False",
         "c": "False",
         "d": "True",
         "e": "False",
         "_deepnote_index_column": 3
        },
        {
         "a": "True",
         "b": "False",
         "c": "False",
         "d": "True",
         "e": "False",
         "_deepnote_index_column": 4
        },
        {
         "a": "True",
         "b": "True",
         "c": "True",
         "d": "False",
         "e": "True",
         "_deepnote_index_column": 5
        }
       ],
       "rows_bottom": null
      },
      "text/plain": "       a      b      c      d      e\n0  False  False  False  False  False\n1  False  False  False   True  False\n2  False  False  False   True  False\n3  False  False  False   True  False\n4   True  False  False   True  False\n5   True   True   True  False   True",
      "text/html": "<div>\n<style scoped>\n    .dataframe tbody tr th:only-of-type {\n        vertical-align: middle;\n    }\n\n    .dataframe tbody tr th {\n        vertical-align: top;\n    }\n\n    .dataframe thead th {\n        text-align: right;\n    }\n</style>\n<table border=\"1\" class=\"dataframe\">\n  <thead>\n    <tr style=\"text-align: right;\">\n      <th></th>\n      <th>a</th>\n      <th>b</th>\n      <th>c</th>\n      <th>d</th>\n      <th>e</th>\n    </tr>\n  </thead>\n  <tbody>\n    <tr>\n      <th>0</th>\n      <td>False</td>\n      <td>False</td>\n      <td>False</td>\n      <td>False</td>\n      <td>False</td>\n    </tr>\n    <tr>\n      <th>1</th>\n      <td>False</td>\n      <td>False</td>\n      <td>False</td>\n      <td>True</td>\n      <td>False</td>\n    </tr>\n    <tr>\n      <th>2</th>\n      <td>False</td>\n      <td>False</td>\n      <td>False</td>\n      <td>True</td>\n      <td>False</td>\n    </tr>\n    <tr>\n      <th>3</th>\n      <td>False</td>\n      <td>False</td>\n      <td>False</td>\n      <td>True</td>\n      <td>False</td>\n    </tr>\n    <tr>\n      <th>4</th>\n      <td>True</td>\n      <td>False</td>\n      <td>False</td>\n      <td>True</td>\n      <td>False</td>\n    </tr>\n    <tr>\n      <th>5</th>\n      <td>True</td>\n      <td>True</td>\n      <td>True</td>\n      <td>False</td>\n      <td>True</td>\n    </tr>\n  </tbody>\n</table>\n</div>"
     },
     "metadata": {}
    }
   ]
  },
  {
   "cell_type": "markdown",
   "source": "### Sumar objetos nulos.\nEn dónde todas nuestras variables no definidas fueron marcadas con TRUE,\ndf.isna() tambien cumple esta función.\n\nConocer el número de variables nulas por columna puede hacerse juntando el\ncomando anterior con la funcion de suma:",
   "metadata": {
    "tags": [],
    "cell_id": "00143-3263d96d-d448-4974-9b3f-c1c959fa4a4e",
    "deepnote_cell_type": "markdown"
   }
  },
  {
   "cell_type": "code",
   "metadata": {
    "tags": [],
    "cell_id": "00144-e1eed9ce-d0d3-40e4-bc12-170b145f1718",
    "deepnote_to_be_reexecuted": false,
    "source_hash": "f3dd26da",
    "execution_start": 1625426613246,
    "execution_millis": 17,
    "deepnote_cell_type": "code"
   },
   "source": "df.isnull().sum()",
   "execution_count": 15,
   "outputs": [
    {
     "output_type": "execute_result",
     "execution_count": 15,
     "data": {
      "text/plain": "a    2\nb    1\nc    1\nd    4\ne    1\ndtype: int64"
     },
     "metadata": {}
    }
   ]
  },
  {
   "cell_type": "markdown",
   "source": "### Sumar objetos nulos por filas.\nSi lo que nos interesa es conocer el número de filas con elementos nulos, basta\ncon usar axis=1:",
   "metadata": {
    "tags": [],
    "cell_id": "00145-f79812ca-ae0e-478d-8c67-911d24618d7a",
    "deepnote_cell_type": "markdown"
   }
  },
  {
   "cell_type": "code",
   "metadata": {
    "tags": [],
    "cell_id": "00146-174ea7bb-1207-49cb-b708-8fac349c1bf7",
    "deepnote_to_be_reexecuted": false,
    "source_hash": "ad919468",
    "execution_start": 1625426621381,
    "execution_millis": 18,
    "deepnote_cell_type": "code"
   },
   "source": "df.notnull().sum(axis=1)",
   "execution_count": 16,
   "outputs": [
    {
     "output_type": "execute_result",
     "execution_count": 16,
     "data": {
      "text/plain": "0    5\n1    4\n2    4\n3    4\n4    3\n5    1\ndtype: int64"
     },
     "metadata": {}
    }
   ]
  },
  {
   "cell_type": "markdown",
   "source": "### Total de objetos nulos\nO todos los elementos nulos de nuestro DataFrame:",
   "metadata": {
    "tags": [],
    "cell_id": "00147-cf54ebf4-1391-4ec9-9878-b7d746f2a90b",
    "deepnote_cell_type": "markdown"
   }
  },
  {
   "cell_type": "code",
   "metadata": {
    "tags": [],
    "cell_id": "00148-d6ac7ea8-3f03-4c26-8a40-9bfd553de7c0",
    "deepnote_to_be_reexecuted": false,
    "source_hash": "e4300ac2",
    "execution_start": 1625426639244,
    "execution_millis": 18,
    "deepnote_cell_type": "code"
   },
   "source": "df.size-df.isnull().sum().sum()",
   "execution_count": 17,
   "outputs": [
    {
     "output_type": "execute_result",
     "execution_count": 17,
     "data": {
      "text/plain": "21"
     },
     "metadata": {}
    }
   ]
  },
  {
   "cell_type": "markdown",
   "source": "### Filtrar por las variables no nulas en la columna ‘a'\nReconocer estos elementos nos puede ayudar a filtrar en nuestro DataFrame, en\neste caso, me gustaría filtrar por las variables no nulas de la columna ‘a’:",
   "metadata": {
    "tags": [],
    "cell_id": "00149-33104764-21f4-4aac-886b-c6ebeba3f655",
    "deepnote_cell_type": "markdown"
   }
  },
  {
   "cell_type": "code",
   "metadata": {
    "tags": [],
    "cell_id": "00150-a4b111a5-16de-4616-b1af-1e1ee0cf2e8a",
    "deepnote_to_be_reexecuted": false,
    "source_hash": "2347a402",
    "execution_start": 1625426654339,
    "execution_millis": 28,
    "deepnote_cell_type": "code"
   },
   "source": "df[df['a'].notnull()]",
   "execution_count": 18,
   "outputs": [
    {
     "output_type": "execute_result",
     "execution_count": 18,
     "data": {
      "application/vnd.deepnote.dataframe.v2+json": {
       "row_count": 4,
       "column_count": 5,
       "columns": [
        {
         "name": "a",
         "dtype": "object",
         "stats": {
          "unique_count": 4,
          "nan_count": 0,
          "categories": [
           {
            "name": "0.0",
            "count": 1
           },
           {
            "name": "3.0",
            "count": 1
           },
           {
            "name": "2 others",
            "count": 2
           }
          ]
         }
        },
        {
         "name": "b",
         "dtype": "object",
         "stats": {
          "unique_count": 4,
          "nan_count": 0,
          "categories": [
           {
            "name": "1.0",
            "count": 1
           },
           {
            "name": "4.0",
            "count": 1
           },
           {
            "name": "2 others",
            "count": 2
           }
          ]
         }
        },
        {
         "name": "c",
         "dtype": "object",
         "stats": {
          "unique_count": 4,
          "nan_count": 0,
          "categories": [
           {
            "name": "2.0",
            "count": 1
           },
           {
            "name": "5.0",
            "count": 1
           },
           {
            "name": "2 others",
            "count": 2
           }
          ]
         }
        },
        {
         "name": "d",
         "dtype": "object",
         "stats": {
          "unique_count": 1,
          "nan_count": 3,
          "categories": [
           {
            "name": "1.0",
            "count": 1
           },
           {
            "name": "Missing",
            "count": 3
           }
          ]
         }
        },
        {
         "name": "e",
         "dtype": "object",
         "stats": {
          "unique_count": 4,
          "nan_count": 0,
          "categories": [
           {
            "name": "15.0",
            "count": 1
           },
           {
            "name": "16.0",
            "count": 1
           },
           {
            "name": "2 others",
            "count": 2
           }
          ]
         }
        },
        {
         "name": "_deepnote_index_column",
         "dtype": "int64"
        }
       ],
       "rows_top": [
        {
         "a": "0.0",
         "b": "1.0",
         "c": "2.0",
         "d": "1",
         "e": "15.0",
         "_deepnote_index_column": 0
        },
        {
         "a": "3.0",
         "b": "4.0",
         "c": "5.0",
         "d": "nan",
         "e": "16.0",
         "_deepnote_index_column": 1
        },
        {
         "a": "6.0",
         "b": "7.0",
         "c": "8.0",
         "d": "nan",
         "e": "17.0",
         "_deepnote_index_column": 2
        },
        {
         "a": "9.0",
         "b": "10.0",
         "c": "11.0",
         "d": "nan",
         "e": "18.0",
         "_deepnote_index_column": 3
        }
       ],
       "rows_bottom": null
      },
      "text/plain": "     a     b     c    d     e\n0  0.0   1.0   2.0    1  15.0\n1  3.0   4.0   5.0  NaN  16.0\n2  6.0   7.0   8.0  NaN  17.0\n3  9.0  10.0  11.0  NaN  18.0",
      "text/html": "<div>\n<style scoped>\n    .dataframe tbody tr th:only-of-type {\n        vertical-align: middle;\n    }\n\n    .dataframe tbody tr th {\n        vertical-align: top;\n    }\n\n    .dataframe thead th {\n        text-align: right;\n    }\n</style>\n<table border=\"1\" class=\"dataframe\">\n  <thead>\n    <tr style=\"text-align: right;\">\n      <th></th>\n      <th>a</th>\n      <th>b</th>\n      <th>c</th>\n      <th>d</th>\n      <th>e</th>\n    </tr>\n  </thead>\n  <tbody>\n    <tr>\n      <th>0</th>\n      <td>0.0</td>\n      <td>1.0</td>\n      <td>2.0</td>\n      <td>1</td>\n      <td>15.0</td>\n    </tr>\n    <tr>\n      <th>1</th>\n      <td>3.0</td>\n      <td>4.0</td>\n      <td>5.0</td>\n      <td>NaN</td>\n      <td>16.0</td>\n    </tr>\n    <tr>\n      <th>2</th>\n      <td>6.0</td>\n      <td>7.0</td>\n      <td>8.0</td>\n      <td>NaN</td>\n      <td>17.0</td>\n    </tr>\n    <tr>\n      <th>3</th>\n      <td>9.0</td>\n      <td>10.0</td>\n      <td>11.0</td>\n      <td>NaN</td>\n      <td>18.0</td>\n    </tr>\n  </tbody>\n</table>\n</div>"
     },
     "metadata": {}
    }
   ]
  },
  {
   "cell_type": "markdown",
   "source": "### Eliminar filas con registros faltantes\n**dropna** es perfecto para elimnar rapidamente las filas con registros faltantes:",
   "metadata": {
    "tags": [],
    "cell_id": "00151-550daeed-1a67-4501-a3f3-d2a3d3515bc2",
    "deepnote_cell_type": "markdown"
   }
  },
  {
   "cell_type": "code",
   "metadata": {
    "tags": [],
    "cell_id": "00152-f0aaf9c9-1aab-4a04-ab42-95656a192806",
    "deepnote_to_be_reexecuted": false,
    "source_hash": "5020b557",
    "execution_start": 1625426671990,
    "execution_millis": 66,
    "deepnote_cell_type": "code"
   },
   "source": "df.dropna()",
   "execution_count": 19,
   "outputs": [
    {
     "output_type": "execute_result",
     "execution_count": 19,
     "data": {
      "application/vnd.deepnote.dataframe.v2+json": {
       "row_count": 1,
       "column_count": 5,
       "columns": [
        {
         "name": "a",
         "dtype": "object",
         "stats": {
          "unique_count": 1,
          "nan_count": 0,
          "categories": [
           {
            "name": "0.0",
            "count": 1
           }
          ]
         }
        },
        {
         "name": "b",
         "dtype": "object",
         "stats": {
          "unique_count": 1,
          "nan_count": 0,
          "categories": [
           {
            "name": "1.0",
            "count": 1
           }
          ]
         }
        },
        {
         "name": "c",
         "dtype": "object",
         "stats": {
          "unique_count": 1,
          "nan_count": 0,
          "categories": [
           {
            "name": "2.0",
            "count": 1
           }
          ]
         }
        },
        {
         "name": "d",
         "dtype": "object",
         "stats": {
          "unique_count": 1,
          "nan_count": 0,
          "categories": [
           {
            "name": "1",
            "count": 1
           }
          ]
         }
        },
        {
         "name": "e",
         "dtype": "object",
         "stats": {
          "unique_count": 1,
          "nan_count": 0,
          "categories": [
           {
            "name": "15.0",
            "count": 1
           }
          ]
         }
        },
        {
         "name": "_deepnote_index_column",
         "dtype": "int64"
        }
       ],
       "rows_top": [
        {
         "a": "0.0",
         "b": "1.0",
         "c": "2.0",
         "d": "1",
         "e": "15.0",
         "_deepnote_index_column": 0
        }
       ],
       "rows_bottom": null
      },
      "text/plain": "     a    b    c  d     e\n0  0.0  1.0  2.0  1  15.0",
      "text/html": "<div>\n<style scoped>\n    .dataframe tbody tr th:only-of-type {\n        vertical-align: middle;\n    }\n\n    .dataframe tbody tr th {\n        vertical-align: top;\n    }\n\n    .dataframe thead th {\n        text-align: right;\n    }\n</style>\n<table border=\"1\" class=\"dataframe\">\n  <thead>\n    <tr style=\"text-align: right;\">\n      <th></th>\n      <th>a</th>\n      <th>b</th>\n      <th>c</th>\n      <th>d</th>\n      <th>e</th>\n    </tr>\n  </thead>\n  <tbody>\n    <tr>\n      <th>0</th>\n      <td>0.0</td>\n      <td>1.0</td>\n      <td>2.0</td>\n      <td>1</td>\n      <td>15.0</td>\n    </tr>\n  </tbody>\n</table>\n</div>"
     },
     "metadata": {}
    }
   ]
  },
  {
   "cell_type": "markdown",
   "source": "Para eliminar columnas con registros faltantes.",
   "metadata": {
    "tags": [],
    "cell_id": "00153-b16cebe7-3bac-413a-b090-23949bb312f0",
    "deepnote_cell_type": "markdown"
   }
  },
  {
   "cell_type": "code",
   "metadata": {
    "tags": [],
    "cell_id": "00154-28d3dc46-f73f-40b0-8939-2889e2136f32",
    "deepnote_to_be_reexecuted": false,
    "source_hash": "ddd41704",
    "execution_start": 1625426691045,
    "execution_millis": 56,
    "deepnote_cell_type": "code"
   },
   "source": "df[['a']].dropna()",
   "execution_count": 20,
   "outputs": [
    {
     "output_type": "execute_result",
     "execution_count": 20,
     "data": {
      "application/vnd.deepnote.dataframe.v2+json": {
       "row_count": 4,
       "column_count": 1,
       "columns": [
        {
         "name": "a",
         "dtype": "object",
         "stats": {
          "unique_count": 4,
          "nan_count": 0,
          "categories": [
           {
            "name": "0.0",
            "count": 1
           },
           {
            "name": "3.0",
            "count": 1
           },
           {
            "name": "2 others",
            "count": 2
           }
          ]
         }
        },
        {
         "name": "_deepnote_index_column",
         "dtype": "int64"
        }
       ],
       "rows_top": [
        {
         "a": "0.0",
         "_deepnote_index_column": 0
        },
        {
         "a": "3.0",
         "_deepnote_index_column": 1
        },
        {
         "a": "6.0",
         "_deepnote_index_column": 2
        },
        {
         "a": "9.0",
         "_deepnote_index_column": 3
        }
       ],
       "rows_bottom": null
      },
      "text/plain": "     a\n0  0.0\n1  3.0\n2  6.0\n3  9.0",
      "text/html": "<div>\n<style scoped>\n    .dataframe tbody tr th:only-of-type {\n        vertical-align: middle;\n    }\n\n    .dataframe tbody tr th {\n        vertical-align: top;\n    }\n\n    .dataframe thead th {\n        text-align: right;\n    }\n</style>\n<table border=\"1\" class=\"dataframe\">\n  <thead>\n    <tr style=\"text-align: right;\">\n      <th></th>\n      <th>a</th>\n    </tr>\n  </thead>\n  <tbody>\n    <tr>\n      <th>0</th>\n      <td>0.0</td>\n    </tr>\n    <tr>\n      <th>1</th>\n      <td>3.0</td>\n    </tr>\n    <tr>\n      <th>2</th>\n      <td>6.0</td>\n    </tr>\n    <tr>\n      <th>3</th>\n      <td>9.0</td>\n    </tr>\n  </tbody>\n</table>\n</div>"
     },
     "metadata": {}
    }
   ]
  },
  {
   "cell_type": "markdown",
   "source": "### Remplazar un objeto nulo\nYa que hemos visto cómo funcionan las variable nulas, veamos cómo lidiar con\nellas. Usando la función **fillna** podremos reemplazarlas por el valor que\nquerramos, en este caso 0.",
   "metadata": {
    "tags": [],
    "cell_id": "00155-e86080c6-a111-4938-8c0a-9092fcd9554f",
    "deepnote_cell_type": "markdown"
   }
  },
  {
   "cell_type": "code",
   "metadata": {
    "tags": [],
    "cell_id": "00156-4f80be6a-c0f2-4867-8685-1f691d193ca4",
    "deepnote_to_be_reexecuted": false,
    "source_hash": "bb745adf",
    "execution_start": 1625426743930,
    "execution_millis": 18,
    "deepnote_cell_type": "code"
   },
   "source": "df.fillna(0)",
   "execution_count": 21,
   "outputs": [
    {
     "output_type": "execute_result",
     "execution_count": 21,
     "data": {
      "application/vnd.deepnote.dataframe.v2+json": {
       "row_count": 6,
       "column_count": 5,
       "columns": [
        {
         "name": "a",
         "dtype": "float64",
         "stats": {
          "unique_count": 4,
          "nan_count": 0,
          "min": "0.0",
          "max": "9.0",
          "histogram": [
           {
            "bin_start": 0,
            "bin_end": 0.9,
            "count": 3
           },
           {
            "bin_start": 0.9,
            "bin_end": 1.8,
            "count": 0
           },
           {
            "bin_start": 1.8,
            "bin_end": 2.7,
            "count": 0
           },
           {
            "bin_start": 2.7,
            "bin_end": 3.6,
            "count": 1
           },
           {
            "bin_start": 3.6,
            "bin_end": 4.5,
            "count": 0
           },
           {
            "bin_start": 4.5,
            "bin_end": 5.4,
            "count": 0
           },
           {
            "bin_start": 5.4,
            "bin_end": 6.3,
            "count": 1
           },
           {
            "bin_start": 6.3,
            "bin_end": 7.2,
            "count": 0
           },
           {
            "bin_start": 7.2,
            "bin_end": 8.1,
            "count": 0
           },
           {
            "bin_start": 8.1,
            "bin_end": 9,
            "count": 1
           }
          ]
         }
        },
        {
         "name": "b",
         "dtype": "float64",
         "stats": {
          "unique_count": 6,
          "nan_count": 0,
          "min": "0.0",
          "max": "13.0",
          "histogram": [
           {
            "bin_start": 0,
            "bin_end": 1.3,
            "count": 2
           },
           {
            "bin_start": 1.3,
            "bin_end": 2.6,
            "count": 0
           },
           {
            "bin_start": 2.6,
            "bin_end": 3.9000000000000004,
            "count": 0
           },
           {
            "bin_start": 3.9000000000000004,
            "bin_end": 5.2,
            "count": 1
           },
           {
            "bin_start": 5.2,
            "bin_end": 6.5,
            "count": 0
           },
           {
            "bin_start": 6.5,
            "bin_end": 7.800000000000001,
            "count": 1
           },
           {
            "bin_start": 7.800000000000001,
            "bin_end": 9.1,
            "count": 0
           },
           {
            "bin_start": 9.1,
            "bin_end": 10.4,
            "count": 1
           },
           {
            "bin_start": 10.4,
            "bin_end": 11.700000000000001,
            "count": 0
           },
           {
            "bin_start": 11.700000000000001,
            "bin_end": 13,
            "count": 1
           }
          ]
         }
        },
        {
         "name": "c",
         "dtype": "float64",
         "stats": {
          "unique_count": 6,
          "nan_count": 0,
          "min": "0.0",
          "max": "14.0",
          "histogram": [
           {
            "bin_start": 0,
            "bin_end": 1.4,
            "count": 1
           },
           {
            "bin_start": 1.4,
            "bin_end": 2.8,
            "count": 1
           },
           {
            "bin_start": 2.8,
            "bin_end": 4.199999999999999,
            "count": 0
           },
           {
            "bin_start": 4.199999999999999,
            "bin_end": 5.6,
            "count": 1
           },
           {
            "bin_start": 5.6,
            "bin_end": 7,
            "count": 0
           },
           {
            "bin_start": 7,
            "bin_end": 8.399999999999999,
            "count": 1
           },
           {
            "bin_start": 8.399999999999999,
            "bin_end": 9.799999999999999,
            "count": 0
           },
           {
            "bin_start": 9.799999999999999,
            "bin_end": 11.2,
            "count": 1
           },
           {
            "bin_start": 11.2,
            "bin_end": 12.6,
            "count": 0
           },
           {
            "bin_start": 12.6,
            "bin_end": 14,
            "count": 1
           }
          ]
         }
        },
        {
         "name": "d",
         "dtype": "int64",
         "stats": {
          "unique_count": 3,
          "nan_count": 0,
          "min": "0",
          "max": "10",
          "histogram": [
           {
            "bin_start": 0,
            "bin_end": 1,
            "count": 4
           },
           {
            "bin_start": 1,
            "bin_end": 2,
            "count": 1
           },
           {
            "bin_start": 2,
            "bin_end": 3,
            "count": 0
           },
           {
            "bin_start": 3,
            "bin_end": 4,
            "count": 0
           },
           {
            "bin_start": 4,
            "bin_end": 5,
            "count": 0
           },
           {
            "bin_start": 5,
            "bin_end": 6,
            "count": 0
           },
           {
            "bin_start": 6,
            "bin_end": 7,
            "count": 0
           },
           {
            "bin_start": 7,
            "bin_end": 8,
            "count": 0
           },
           {
            "bin_start": 8,
            "bin_end": 9,
            "count": 0
           },
           {
            "bin_start": 9,
            "bin_end": 10,
            "count": 1
           }
          ]
         }
        },
        {
         "name": "e",
         "dtype": "float64",
         "stats": {
          "unique_count": 6,
          "nan_count": 0,
          "min": "0.0",
          "max": "19.0",
          "histogram": [
           {
            "bin_start": 0,
            "bin_end": 1.9,
            "count": 1
           },
           {
            "bin_start": 1.9,
            "bin_end": 3.8,
            "count": 0
           },
           {
            "bin_start": 3.8,
            "bin_end": 5.699999999999999,
            "count": 0
           },
           {
            "bin_start": 5.699999999999999,
            "bin_end": 7.6,
            "count": 0
           },
           {
            "bin_start": 7.6,
            "bin_end": 9.5,
            "count": 0
           },
           {
            "bin_start": 9.5,
            "bin_end": 11.399999999999999,
            "count": 0
           },
           {
            "bin_start": 11.399999999999999,
            "bin_end": 13.299999999999999,
            "count": 0
           },
           {
            "bin_start": 13.299999999999999,
            "bin_end": 15.2,
            "count": 1
           },
           {
            "bin_start": 15.2,
            "bin_end": 17.099999999999998,
            "count": 2
           },
           {
            "bin_start": 17.099999999999998,
            "bin_end": 19,
            "count": 2
           }
          ]
         }
        },
        {
         "name": "_deepnote_index_column",
         "dtype": "int64"
        }
       ],
       "rows_top": [
        {
         "a": 0,
         "b": 1,
         "c": 2,
         "d": 1,
         "e": 15,
         "_deepnote_index_column": 0
        },
        {
         "a": 3,
         "b": 4,
         "c": 5,
         "d": 0,
         "e": 16,
         "_deepnote_index_column": 1
        },
        {
         "a": 6,
         "b": 7,
         "c": 8,
         "d": 0,
         "e": 17,
         "_deepnote_index_column": 2
        },
        {
         "a": 9,
         "b": 10,
         "c": 11,
         "d": 0,
         "e": 18,
         "_deepnote_index_column": 3
        },
        {
         "a": 0,
         "b": 13,
         "c": 14,
         "d": 0,
         "e": 19,
         "_deepnote_index_column": 4
        },
        {
         "a": 0,
         "b": 0,
         "c": 0,
         "d": 10,
         "e": 0,
         "_deepnote_index_column": 5
        }
       ],
       "rows_bottom": null
      },
      "text/plain": "     a     b     c   d     e\n0  0.0   1.0   2.0   1  15.0\n1  3.0   4.0   5.0   0  16.0\n2  6.0   7.0   8.0   0  17.0\n3  9.0  10.0  11.0   0  18.0\n4  0.0  13.0  14.0   0  19.0\n5  0.0   0.0   0.0  10   0.0",
      "text/html": "<div>\n<style scoped>\n    .dataframe tbody tr th:only-of-type {\n        vertical-align: middle;\n    }\n\n    .dataframe tbody tr th {\n        vertical-align: top;\n    }\n\n    .dataframe thead th {\n        text-align: right;\n    }\n</style>\n<table border=\"1\" class=\"dataframe\">\n  <thead>\n    <tr style=\"text-align: right;\">\n      <th></th>\n      <th>a</th>\n      <th>b</th>\n      <th>c</th>\n      <th>d</th>\n      <th>e</th>\n    </tr>\n  </thead>\n  <tbody>\n    <tr>\n      <th>0</th>\n      <td>0.0</td>\n      <td>1.0</td>\n      <td>2.0</td>\n      <td>1</td>\n      <td>15.0</td>\n    </tr>\n    <tr>\n      <th>1</th>\n      <td>3.0</td>\n      <td>4.0</td>\n      <td>5.0</td>\n      <td>0</td>\n      <td>16.0</td>\n    </tr>\n    <tr>\n      <th>2</th>\n      <td>6.0</td>\n      <td>7.0</td>\n      <td>8.0</td>\n      <td>0</td>\n      <td>17.0</td>\n    </tr>\n    <tr>\n      <th>3</th>\n      <td>9.0</td>\n      <td>10.0</td>\n      <td>11.0</td>\n      <td>0</td>\n      <td>18.0</td>\n    </tr>\n    <tr>\n      <th>4</th>\n      <td>0.0</td>\n      <td>13.0</td>\n      <td>14.0</td>\n      <td>0</td>\n      <td>19.0</td>\n    </tr>\n    <tr>\n      <th>5</th>\n      <td>0.0</td>\n      <td>0.0</td>\n      <td>0.0</td>\n      <td>10</td>\n      <td>0.0</td>\n    </tr>\n  </tbody>\n</table>\n</div>"
     },
     "metadata": {}
    }
   ]
  },
  {
   "cell_type": "markdown",
   "source": "### Remplazar por el siguiente valor\nSi quisieramos remplazar con el valor siguiente usamos\n**method=\"ffill\"**:",
   "metadata": {
    "tags": [],
    "cell_id": "00157-d587f3e7-f60f-4506-93ea-160577c765fc",
    "deepnote_cell_type": "markdown"
   }
  },
  {
   "cell_type": "code",
   "metadata": {
    "tags": [],
    "cell_id": "00158-8d1d32a6-4901-450a-8c10-26f96ab2510c",
    "deepnote_to_be_reexecuted": false,
    "source_hash": "cc741269",
    "execution_start": 1625426769511,
    "execution_millis": 20,
    "deepnote_cell_type": "code"
   },
   "source": "df.fillna(method=\"ffill\")",
   "execution_count": 22,
   "outputs": [
    {
     "output_type": "execute_result",
     "execution_count": 22,
     "data": {
      "application/vnd.deepnote.dataframe.v2+json": {
       "row_count": 6,
       "column_count": 5,
       "columns": [
        {
         "name": "a",
         "dtype": "float64",
         "stats": {
          "unique_count": 4,
          "nan_count": 0,
          "min": "0.0",
          "max": "9.0",
          "histogram": [
           {
            "bin_start": 0,
            "bin_end": 0.9,
            "count": 1
           },
           {
            "bin_start": 0.9,
            "bin_end": 1.8,
            "count": 0
           },
           {
            "bin_start": 1.8,
            "bin_end": 2.7,
            "count": 0
           },
           {
            "bin_start": 2.7,
            "bin_end": 3.6,
            "count": 1
           },
           {
            "bin_start": 3.6,
            "bin_end": 4.5,
            "count": 0
           },
           {
            "bin_start": 4.5,
            "bin_end": 5.4,
            "count": 0
           },
           {
            "bin_start": 5.4,
            "bin_end": 6.3,
            "count": 1
           },
           {
            "bin_start": 6.3,
            "bin_end": 7.2,
            "count": 0
           },
           {
            "bin_start": 7.2,
            "bin_end": 8.1,
            "count": 0
           },
           {
            "bin_start": 8.1,
            "bin_end": 9,
            "count": 3
           }
          ]
         }
        },
        {
         "name": "b",
         "dtype": "float64",
         "stats": {
          "unique_count": 5,
          "nan_count": 0,
          "min": "1.0",
          "max": "13.0",
          "histogram": [
           {
            "bin_start": 1,
            "bin_end": 2.2,
            "count": 1
           },
           {
            "bin_start": 2.2,
            "bin_end": 3.4,
            "count": 0
           },
           {
            "bin_start": 3.4,
            "bin_end": 4.6,
            "count": 1
           },
           {
            "bin_start": 4.6,
            "bin_end": 5.8,
            "count": 0
           },
           {
            "bin_start": 5.8,
            "bin_end": 7,
            "count": 0
           },
           {
            "bin_start": 7,
            "bin_end": 8.2,
            "count": 1
           },
           {
            "bin_start": 8.2,
            "bin_end": 9.4,
            "count": 0
           },
           {
            "bin_start": 9.4,
            "bin_end": 10.6,
            "count": 1
           },
           {
            "bin_start": 10.6,
            "bin_end": 11.799999999999999,
            "count": 0
           },
           {
            "bin_start": 11.799999999999999,
            "bin_end": 13,
            "count": 2
           }
          ]
         }
        },
        {
         "name": "c",
         "dtype": "float64",
         "stats": {
          "unique_count": 5,
          "nan_count": 0,
          "min": "2.0",
          "max": "14.0",
          "histogram": [
           {
            "bin_start": 2,
            "bin_end": 3.2,
            "count": 1
           },
           {
            "bin_start": 3.2,
            "bin_end": 4.4,
            "count": 0
           },
           {
            "bin_start": 4.4,
            "bin_end": 5.6,
            "count": 1
           },
           {
            "bin_start": 5.6,
            "bin_end": 6.8,
            "count": 0
           },
           {
            "bin_start": 6.8,
            "bin_end": 8,
            "count": 0
           },
           {
            "bin_start": 8,
            "bin_end": 9.2,
            "count": 1
           },
           {
            "bin_start": 9.2,
            "bin_end": 10.4,
            "count": 0
           },
           {
            "bin_start": 10.4,
            "bin_end": 11.6,
            "count": 1
           },
           {
            "bin_start": 11.6,
            "bin_end": 12.799999999999999,
            "count": 0
           },
           {
            "bin_start": 12.799999999999999,
            "bin_end": 14,
            "count": 2
           }
          ]
         }
        },
        {
         "name": "d",
         "dtype": "int64",
         "stats": {
          "unique_count": 2,
          "nan_count": 0,
          "min": "1",
          "max": "10",
          "histogram": [
           {
            "bin_start": 1,
            "bin_end": 1.9,
            "count": 5
           },
           {
            "bin_start": 1.9,
            "bin_end": 2.8,
            "count": 0
           },
           {
            "bin_start": 2.8,
            "bin_end": 3.7,
            "count": 0
           },
           {
            "bin_start": 3.7,
            "bin_end": 4.6,
            "count": 0
           },
           {
            "bin_start": 4.6,
            "bin_end": 5.5,
            "count": 0
           },
           {
            "bin_start": 5.5,
            "bin_end": 6.4,
            "count": 0
           },
           {
            "bin_start": 6.4,
            "bin_end": 7.3,
            "count": 0
           },
           {
            "bin_start": 7.3,
            "bin_end": 8.2,
            "count": 0
           },
           {
            "bin_start": 8.2,
            "bin_end": 9.1,
            "count": 0
           },
           {
            "bin_start": 9.1,
            "bin_end": 10,
            "count": 1
           }
          ]
         }
        },
        {
         "name": "e",
         "dtype": "float64",
         "stats": {
          "unique_count": 5,
          "nan_count": 0,
          "min": "15.0",
          "max": "19.0",
          "histogram": [
           {
            "bin_start": 15,
            "bin_end": 15.4,
            "count": 1
           },
           {
            "bin_start": 15.4,
            "bin_end": 15.8,
            "count": 0
           },
           {
            "bin_start": 15.8,
            "bin_end": 16.2,
            "count": 1
           },
           {
            "bin_start": 16.2,
            "bin_end": 16.6,
            "count": 0
           },
           {
            "bin_start": 16.6,
            "bin_end": 17,
            "count": 0
           },
           {
            "bin_start": 17,
            "bin_end": 17.4,
            "count": 1
           },
           {
            "bin_start": 17.4,
            "bin_end": 17.8,
            "count": 0
           },
           {
            "bin_start": 17.8,
            "bin_end": 18.2,
            "count": 1
           },
           {
            "bin_start": 18.2,
            "bin_end": 18.6,
            "count": 0
           },
           {
            "bin_start": 18.6,
            "bin_end": 19,
            "count": 2
           }
          ]
         }
        },
        {
         "name": "_deepnote_index_column",
         "dtype": "int64"
        }
       ],
       "rows_top": [
        {
         "a": 0,
         "b": 1,
         "c": 2,
         "d": 1,
         "e": 15,
         "_deepnote_index_column": 0
        },
        {
         "a": 3,
         "b": 4,
         "c": 5,
         "d": 1,
         "e": 16,
         "_deepnote_index_column": 1
        },
        {
         "a": 6,
         "b": 7,
         "c": 8,
         "d": 1,
         "e": 17,
         "_deepnote_index_column": 2
        },
        {
         "a": 9,
         "b": 10,
         "c": 11,
         "d": 1,
         "e": 18,
         "_deepnote_index_column": 3
        },
        {
         "a": 9,
         "b": 13,
         "c": 14,
         "d": 1,
         "e": 19,
         "_deepnote_index_column": 4
        },
        {
         "a": 9,
         "b": 13,
         "c": 14,
         "d": 10,
         "e": 19,
         "_deepnote_index_column": 5
        }
       ],
       "rows_bottom": null
      },
      "text/plain": "     a     b     c   d     e\n0  0.0   1.0   2.0   1  15.0\n1  3.0   4.0   5.0   1  16.0\n2  6.0   7.0   8.0   1  17.0\n3  9.0  10.0  11.0   1  18.0\n4  9.0  13.0  14.0   1  19.0\n5  9.0  13.0  14.0  10  19.0",
      "text/html": "<div>\n<style scoped>\n    .dataframe tbody tr th:only-of-type {\n        vertical-align: middle;\n    }\n\n    .dataframe tbody tr th {\n        vertical-align: top;\n    }\n\n    .dataframe thead th {\n        text-align: right;\n    }\n</style>\n<table border=\"1\" class=\"dataframe\">\n  <thead>\n    <tr style=\"text-align: right;\">\n      <th></th>\n      <th>a</th>\n      <th>b</th>\n      <th>c</th>\n      <th>d</th>\n      <th>e</th>\n    </tr>\n  </thead>\n  <tbody>\n    <tr>\n      <th>0</th>\n      <td>0.0</td>\n      <td>1.0</td>\n      <td>2.0</td>\n      <td>1</td>\n      <td>15.0</td>\n    </tr>\n    <tr>\n      <th>1</th>\n      <td>3.0</td>\n      <td>4.0</td>\n      <td>5.0</td>\n      <td>1</td>\n      <td>16.0</td>\n    </tr>\n    <tr>\n      <th>2</th>\n      <td>6.0</td>\n      <td>7.0</td>\n      <td>8.0</td>\n      <td>1</td>\n      <td>17.0</td>\n    </tr>\n    <tr>\n      <th>3</th>\n      <td>9.0</td>\n      <td>10.0</td>\n      <td>11.0</td>\n      <td>1</td>\n      <td>18.0</td>\n    </tr>\n    <tr>\n      <th>4</th>\n      <td>9.0</td>\n      <td>13.0</td>\n      <td>14.0</td>\n      <td>1</td>\n      <td>19.0</td>\n    </tr>\n    <tr>\n      <th>5</th>\n      <td>9.0</td>\n      <td>13.0</td>\n      <td>14.0</td>\n      <td>10</td>\n      <td>19.0</td>\n    </tr>\n  </tbody>\n</table>\n</div>"
     },
     "metadata": {}
    }
   ]
  },
  {
   "cell_type": "markdown",
   "source": "### Remplazar por el valor previo\nSi quisieramos remplazar con el valor previo usamos method=\"bfill\":",
   "metadata": {
    "tags": [],
    "cell_id": "00159-ed9029d2-074b-4fee-a411-7869dd6a5b43",
    "deepnote_cell_type": "markdown"
   }
  },
  {
   "cell_type": "code",
   "metadata": {
    "tags": [],
    "cell_id": "00160-4d875665-627c-4c20-9466-658cf3f3a60b",
    "deepnote_to_be_reexecuted": false,
    "source_hash": "a52296c1",
    "execution_start": 1625426793173,
    "execution_millis": 33,
    "deepnote_cell_type": "code"
   },
   "source": "df.fillna(method=\"bfill\")",
   "execution_count": 23,
   "outputs": [
    {
     "output_type": "execute_result",
     "execution_count": 23,
     "data": {
      "application/vnd.deepnote.dataframe.v2+json": {
       "row_count": 6,
       "column_count": 5,
       "columns": [
        {
         "name": "a",
         "dtype": "object",
         "stats": {
          "unique_count": 4,
          "nan_count": 2,
          "categories": [
           {
            "name": "0.0",
            "count": 1
           },
           {
            "name": "3 others",
            "count": 3
           },
           {
            "name": "Missing",
            "count": 2
           }
          ]
         }
        },
        {
         "name": "b",
         "dtype": "object",
         "stats": {
          "unique_count": 5,
          "nan_count": 1,
          "categories": [
           {
            "name": "1.0",
            "count": 1
           },
           {
            "name": "4 others",
            "count": 4
           },
           {
            "name": "Missing",
            "count": 1
           }
          ]
         }
        },
        {
         "name": "c",
         "dtype": "object",
         "stats": {
          "unique_count": 5,
          "nan_count": 1,
          "categories": [
           {
            "name": "2.0",
            "count": 1
           },
           {
            "name": "4 others",
            "count": 4
           },
           {
            "name": "Missing",
            "count": 1
           }
          ]
         }
        },
        {
         "name": "d",
         "dtype": "int64",
         "stats": {
          "unique_count": 2,
          "nan_count": 0,
          "min": "1",
          "max": "10",
          "histogram": [
           {
            "bin_start": 1,
            "bin_end": 1.9,
            "count": 1
           },
           {
            "bin_start": 1.9,
            "bin_end": 2.8,
            "count": 0
           },
           {
            "bin_start": 2.8,
            "bin_end": 3.7,
            "count": 0
           },
           {
            "bin_start": 3.7,
            "bin_end": 4.6,
            "count": 0
           },
           {
            "bin_start": 4.6,
            "bin_end": 5.5,
            "count": 0
           },
           {
            "bin_start": 5.5,
            "bin_end": 6.4,
            "count": 0
           },
           {
            "bin_start": 6.4,
            "bin_end": 7.3,
            "count": 0
           },
           {
            "bin_start": 7.3,
            "bin_end": 8.2,
            "count": 0
           },
           {
            "bin_start": 8.2,
            "bin_end": 9.1,
            "count": 0
           },
           {
            "bin_start": 9.1,
            "bin_end": 10,
            "count": 5
           }
          ]
         }
        },
        {
         "name": "e",
         "dtype": "object",
         "stats": {
          "unique_count": 5,
          "nan_count": 1,
          "categories": [
           {
            "name": "15.0",
            "count": 1
           },
           {
            "name": "4 others",
            "count": 4
           },
           {
            "name": "Missing",
            "count": 1
           }
          ]
         }
        },
        {
         "name": "_deepnote_index_column",
         "dtype": "int64"
        }
       ],
       "rows_top": [
        {
         "a": "0.0",
         "b": "1.0",
         "c": "2.0",
         "d": 1,
         "e": "15.0",
         "_deepnote_index_column": 0
        },
        {
         "a": "3.0",
         "b": "4.0",
         "c": "5.0",
         "d": 10,
         "e": "16.0",
         "_deepnote_index_column": 1
        },
        {
         "a": "6.0",
         "b": "7.0",
         "c": "8.0",
         "d": 10,
         "e": "17.0",
         "_deepnote_index_column": 2
        },
        {
         "a": "9.0",
         "b": "10.0",
         "c": "11.0",
         "d": 10,
         "e": "18.0",
         "_deepnote_index_column": 3
        },
        {
         "a": "<NA>",
         "b": "13.0",
         "c": "14.0",
         "d": 10,
         "e": "19.0",
         "_deepnote_index_column": 4
        },
        {
         "a": "<NA>",
         "b": "<NA>",
         "c": "<NA>",
         "d": 10,
         "e": "<NA>",
         "_deepnote_index_column": 5
        }
       ],
       "rows_bottom": null
      },
      "text/plain": "      a     b     c   d     e\n0   0.0   1.0   2.0   1  15.0\n1   3.0   4.0   5.0  10  16.0\n2   6.0   7.0   8.0  10  17.0\n3   9.0  10.0  11.0  10  18.0\n4  <NA>  13.0  14.0  10  19.0\n5  <NA>  <NA>  <NA>  10  <NA>",
      "text/html": "<div>\n<style scoped>\n    .dataframe tbody tr th:only-of-type {\n        vertical-align: middle;\n    }\n\n    .dataframe tbody tr th {\n        vertical-align: top;\n    }\n\n    .dataframe thead th {\n        text-align: right;\n    }\n</style>\n<table border=\"1\" class=\"dataframe\">\n  <thead>\n    <tr style=\"text-align: right;\">\n      <th></th>\n      <th>a</th>\n      <th>b</th>\n      <th>c</th>\n      <th>d</th>\n      <th>e</th>\n    </tr>\n  </thead>\n  <tbody>\n    <tr>\n      <th>0</th>\n      <td>0.0</td>\n      <td>1.0</td>\n      <td>2.0</td>\n      <td>1</td>\n      <td>15.0</td>\n    </tr>\n    <tr>\n      <th>1</th>\n      <td>3.0</td>\n      <td>4.0</td>\n      <td>5.0</td>\n      <td>10</td>\n      <td>16.0</td>\n    </tr>\n    <tr>\n      <th>2</th>\n      <td>6.0</td>\n      <td>7.0</td>\n      <td>8.0</td>\n      <td>10</td>\n      <td>17.0</td>\n    </tr>\n    <tr>\n      <th>3</th>\n      <td>9.0</td>\n      <td>10.0</td>\n      <td>11.0</td>\n      <td>10</td>\n      <td>18.0</td>\n    </tr>\n    <tr>\n      <th>4</th>\n      <td>&lt;NA&gt;</td>\n      <td>13.0</td>\n      <td>14.0</td>\n      <td>10</td>\n      <td>19.0</td>\n    </tr>\n    <tr>\n      <th>5</th>\n      <td>&lt;NA&gt;</td>\n      <td>&lt;NA&gt;</td>\n      <td>&lt;NA&gt;</td>\n      <td>10</td>\n      <td>&lt;NA&gt;</td>\n    </tr>\n  </tbody>\n</table>\n</div>"
     },
     "metadata": {}
    }
   ]
  },
  {
   "cell_type": "markdown",
   "source": "### Remplazar por filas\nEl mismo ejercicio anterior se puede aplicar con las filas usando axis=1:",
   "metadata": {
    "tags": [],
    "cell_id": "00161-53e23a07-fd3b-4d52-a00a-23a64c04d937",
    "deepnote_cell_type": "markdown"
   }
  },
  {
   "cell_type": "code",
   "metadata": {
    "tags": [],
    "cell_id": "00162-943fdfff-9821-4586-ab88-5dd2b74f5c7c",
    "deepnote_to_be_reexecuted": false,
    "source_hash": "650a85a1",
    "execution_start": 1625426810742,
    "execution_millis": 42,
    "deepnote_cell_type": "code"
   },
   "source": "df.fillna(method=\"bfill\",axis=1)",
   "execution_count": 24,
   "outputs": [
    {
     "output_type": "execute_result",
     "execution_count": 24,
     "data": {
      "application/vnd.deepnote.dataframe.v2+json": {
       "row_count": 6,
       "column_count": 5,
       "columns": [
        {
         "name": "a",
         "dtype": "float64",
         "stats": {
          "unique_count": 6,
          "nan_count": 0,
          "min": "0.0",
          "max": "13.0",
          "histogram": [
           {
            "bin_start": 0,
            "bin_end": 1.3,
            "count": 1
           },
           {
            "bin_start": 1.3,
            "bin_end": 2.6,
            "count": 0
           },
           {
            "bin_start": 2.6,
            "bin_end": 3.9000000000000004,
            "count": 1
           },
           {
            "bin_start": 3.9000000000000004,
            "bin_end": 5.2,
            "count": 0
           },
           {
            "bin_start": 5.2,
            "bin_end": 6.5,
            "count": 1
           },
           {
            "bin_start": 6.5,
            "bin_end": 7.800000000000001,
            "count": 0
           },
           {
            "bin_start": 7.800000000000001,
            "bin_end": 9.1,
            "count": 1
           },
           {
            "bin_start": 9.1,
            "bin_end": 10.4,
            "count": 1
           },
           {
            "bin_start": 10.4,
            "bin_end": 11.700000000000001,
            "count": 0
           },
           {
            "bin_start": 11.700000000000001,
            "bin_end": 13,
            "count": 1
           }
          ]
         }
        },
        {
         "name": "b",
         "dtype": "float64",
         "stats": {
          "unique_count": 5,
          "nan_count": 0,
          "min": "1.0",
          "max": "13.0",
          "histogram": [
           {
            "bin_start": 1,
            "bin_end": 2.2,
            "count": 1
           },
           {
            "bin_start": 2.2,
            "bin_end": 3.4,
            "count": 0
           },
           {
            "bin_start": 3.4,
            "bin_end": 4.6,
            "count": 1
           },
           {
            "bin_start": 4.6,
            "bin_end": 5.8,
            "count": 0
           },
           {
            "bin_start": 5.8,
            "bin_end": 7,
            "count": 0
           },
           {
            "bin_start": 7,
            "bin_end": 8.2,
            "count": 1
           },
           {
            "bin_start": 8.2,
            "bin_end": 9.4,
            "count": 0
           },
           {
            "bin_start": 9.4,
            "bin_end": 10.6,
            "count": 2
           },
           {
            "bin_start": 10.6,
            "bin_end": 11.799999999999999,
            "count": 0
           },
           {
            "bin_start": 11.799999999999999,
            "bin_end": 13,
            "count": 1
           }
          ]
         }
        },
        {
         "name": "c",
         "dtype": "float64",
         "stats": {
          "unique_count": 6,
          "nan_count": 0,
          "min": "2.0",
          "max": "14.0",
          "histogram": [
           {
            "bin_start": 2,
            "bin_end": 3.2,
            "count": 1
           },
           {
            "bin_start": 3.2,
            "bin_end": 4.4,
            "count": 0
           },
           {
            "bin_start": 4.4,
            "bin_end": 5.6,
            "count": 1
           },
           {
            "bin_start": 5.6,
            "bin_end": 6.8,
            "count": 0
           },
           {
            "bin_start": 6.8,
            "bin_end": 8,
            "count": 0
           },
           {
            "bin_start": 8,
            "bin_end": 9.2,
            "count": 1
           },
           {
            "bin_start": 9.2,
            "bin_end": 10.4,
            "count": 1
           },
           {
            "bin_start": 10.4,
            "bin_end": 11.6,
            "count": 1
           },
           {
            "bin_start": 11.6,
            "bin_end": 12.799999999999999,
            "count": 0
           },
           {
            "bin_start": 12.799999999999999,
            "bin_end": 14,
            "count": 1
           }
          ]
         }
        },
        {
         "name": "d",
         "dtype": "float64",
         "stats": {
          "unique_count": 6,
          "nan_count": 0,
          "min": "1.0",
          "max": "19.0",
          "histogram": [
           {
            "bin_start": 1,
            "bin_end": 2.8,
            "count": 1
           },
           {
            "bin_start": 2.8,
            "bin_end": 4.6,
            "count": 0
           },
           {
            "bin_start": 4.6,
            "bin_end": 6.4,
            "count": 0
           },
           {
            "bin_start": 6.4,
            "bin_end": 8.2,
            "count": 0
           },
           {
            "bin_start": 8.2,
            "bin_end": 10,
            "count": 0
           },
           {
            "bin_start": 10,
            "bin_end": 11.8,
            "count": 1
           },
           {
            "bin_start": 11.8,
            "bin_end": 13.6,
            "count": 0
           },
           {
            "bin_start": 13.6,
            "bin_end": 15.4,
            "count": 0
           },
           {
            "bin_start": 15.4,
            "bin_end": 17.2,
            "count": 2
           },
           {
            "bin_start": 17.2,
            "bin_end": 19,
            "count": 2
           }
          ]
         }
        },
        {
         "name": "e",
         "dtype": "object",
         "stats": {
          "unique_count": 5,
          "nan_count": 1,
          "categories": [
           {
            "name": "15.0",
            "count": 1
           },
           {
            "name": "4 others",
            "count": 4
           },
           {
            "name": "Missing",
            "count": 1
           }
          ]
         }
        },
        {
         "name": "_deepnote_index_column",
         "dtype": "int64"
        }
       ],
       "rows_top": [
        {
         "a": 0,
         "b": 1,
         "c": 2,
         "d": 1,
         "e": "15.0",
         "_deepnote_index_column": 0
        },
        {
         "a": 3,
         "b": 4,
         "c": 5,
         "d": 16,
         "e": "16.0",
         "_deepnote_index_column": 1
        },
        {
         "a": 6,
         "b": 7,
         "c": 8,
         "d": 17,
         "e": "17.0",
         "_deepnote_index_column": 2
        },
        {
         "a": 9,
         "b": 10,
         "c": 11,
         "d": 18,
         "e": "18.0",
         "_deepnote_index_column": 3
        },
        {
         "a": 13,
         "b": 13,
         "c": 14,
         "d": 19,
         "e": "19.0",
         "_deepnote_index_column": 4
        },
        {
         "a": 10,
         "b": 10,
         "c": 10,
         "d": 10,
         "e": "<NA>",
         "_deepnote_index_column": 5
        }
       ],
       "rows_bottom": null
      },
      "text/plain": "      a     b     c     d     e\n0   0.0   1.0   2.0   1.0  15.0\n1   3.0   4.0   5.0  16.0  16.0\n2   6.0   7.0   8.0  17.0  17.0\n3   9.0  10.0  11.0  18.0  18.0\n4  13.0  13.0  14.0  19.0  19.0\n5  10.0  10.0  10.0  10.0  <NA>",
      "text/html": "<div>\n<style scoped>\n    .dataframe tbody tr th:only-of-type {\n        vertical-align: middle;\n    }\n\n    .dataframe tbody tr th {\n        vertical-align: top;\n    }\n\n    .dataframe thead th {\n        text-align: right;\n    }\n</style>\n<table border=\"1\" class=\"dataframe\">\n  <thead>\n    <tr style=\"text-align: right;\">\n      <th></th>\n      <th>a</th>\n      <th>b</th>\n      <th>c</th>\n      <th>d</th>\n      <th>e</th>\n    </tr>\n  </thead>\n  <tbody>\n    <tr>\n      <th>0</th>\n      <td>0.0</td>\n      <td>1.0</td>\n      <td>2.0</td>\n      <td>1.0</td>\n      <td>15.0</td>\n    </tr>\n    <tr>\n      <th>1</th>\n      <td>3.0</td>\n      <td>4.0</td>\n      <td>5.0</td>\n      <td>16.0</td>\n      <td>16.0</td>\n    </tr>\n    <tr>\n      <th>2</th>\n      <td>6.0</td>\n      <td>7.0</td>\n      <td>8.0</td>\n      <td>17.0</td>\n      <td>17.0</td>\n    </tr>\n    <tr>\n      <th>3</th>\n      <td>9.0</td>\n      <td>10.0</td>\n      <td>11.0</td>\n      <td>18.0</td>\n      <td>18.0</td>\n    </tr>\n    <tr>\n      <th>4</th>\n      <td>13.0</td>\n      <td>13.0</td>\n      <td>14.0</td>\n      <td>19.0</td>\n      <td>19.0</td>\n    </tr>\n    <tr>\n      <th>5</th>\n      <td>10.0</td>\n      <td>10.0</td>\n      <td>10.0</td>\n      <td>10.0</td>\n      <td>&lt;NA&gt;</td>\n    </tr>\n  </tbody>\n</table>\n</div>"
     },
     "metadata": {}
    }
   ]
  },
  {
   "cell_type": "markdown",
   "source": "Podemos usar también una serie para reemplazar los valores de una columna en especifico, es importante que haya emparejamiento entre los índices:",
   "metadata": {
    "tags": [],
    "cell_id": "00163-71d6f2c9-e889-4e99-b098-e1b0df9892a9",
    "deepnote_cell_type": "markdown"
   }
  },
  {
   "cell_type": "code",
   "metadata": {
    "tags": [],
    "cell_id": "00164-5825d4de-423a-4477-955d-12d4504d308e",
    "deepnote_to_be_reexecuted": false,
    "source_hash": "de17bdf7",
    "execution_start": 1625426828360,
    "execution_millis": 19,
    "deepnote_cell_type": "code"
   },
   "source": "fill = pd.Series([100, 101, 102])\nfill",
   "execution_count": 25,
   "outputs": [
    {
     "output_type": "execute_result",
     "execution_count": 25,
     "data": {
      "text/plain": "0    100\n1    101\n2    102\ndtype: int64"
     },
     "metadata": {}
    }
   ]
  },
  {
   "cell_type": "code",
   "metadata": {
    "tags": [],
    "cell_id": "00165-661d06ac-fcfe-4cf4-8f50-2e24244b35d6",
    "deepnote_to_be_reexecuted": false,
    "source_hash": "ae0a6ebe",
    "execution_start": 1625426833256,
    "execution_millis": 26,
    "deepnote_cell_type": "code"
   },
   "source": "df['d'] = df['d'].fillna(fill)\ndf['d']",
   "execution_count": 26,
   "outputs": [
    {
     "output_type": "execute_result",
     "execution_count": 26,
     "data": {
      "text/plain": "0      1.0\n1    101.0\n2    102.0\n3      NaN\n4      NaN\n5     10.0\nName: d, dtype: float64"
     },
     "metadata": {}
    }
   ]
  },
  {
   "cell_type": "markdown",
   "source": "## Formas de remplazar mas usadas",
   "metadata": {
    "tags": [],
    "cell_id": "00166-5e0a13b2-f06a-45a7-9b69-f61ef79f64bf",
    "deepnote_cell_type": "markdown"
   }
  },
  {
   "cell_type": "markdown",
   "source": "### Por promedio o mediana de las columnas.\nUna de las formas **más usadas para reemplazar datos es usar el promedio de las columnas**, esto se hace con la función mean. O si se quiere un mejor estimador, usamos median.",
   "metadata": {
    "tags": [],
    "cell_id": "00167-843ab009-f74a-462f-a1aa-6011278bd545",
    "deepnote_cell_type": "markdown"
   }
  },
  {
   "cell_type": "code",
   "metadata": {
    "tags": [],
    "cell_id": "00168-a24e42f5-4f80-46eb-b183-cb8faf8ed9ee",
    "deepnote_to_be_reexecuted": false,
    "source_hash": "16c1390b",
    "execution_start": 1625426890872,
    "execution_millis": 39,
    "deepnote_cell_type": "code"
   },
   "source": "df.fillna(df.median())",
   "execution_count": 27,
   "outputs": [
    {
     "output_type": "execute_result",
     "execution_count": 27,
     "data": {
      "application/vnd.deepnote.dataframe.v2+json": {
       "row_count": 6,
       "column_count": 5,
       "columns": [
        {
         "name": "a",
         "dtype": "float64",
         "stats": {
          "unique_count": 5,
          "nan_count": 0,
          "min": "0.0",
          "max": "9.0",
          "histogram": [
           {
            "bin_start": 0,
            "bin_end": 0.9,
            "count": 1
           },
           {
            "bin_start": 0.9,
            "bin_end": 1.8,
            "count": 0
           },
           {
            "bin_start": 1.8,
            "bin_end": 2.7,
            "count": 0
           },
           {
            "bin_start": 2.7,
            "bin_end": 3.6,
            "count": 1
           },
           {
            "bin_start": 3.6,
            "bin_end": 4.5,
            "count": 0
           },
           {
            "bin_start": 4.5,
            "bin_end": 5.4,
            "count": 2
           },
           {
            "bin_start": 5.4,
            "bin_end": 6.3,
            "count": 1
           },
           {
            "bin_start": 6.3,
            "bin_end": 7.2,
            "count": 0
           },
           {
            "bin_start": 7.2,
            "bin_end": 8.1,
            "count": 0
           },
           {
            "bin_start": 8.1,
            "bin_end": 9,
            "count": 1
           }
          ]
         }
        },
        {
         "name": "b",
         "dtype": "float64",
         "stats": {
          "unique_count": 5,
          "nan_count": 0,
          "min": "1.0",
          "max": "13.0",
          "histogram": [
           {
            "bin_start": 1,
            "bin_end": 2.2,
            "count": 1
           },
           {
            "bin_start": 2.2,
            "bin_end": 3.4,
            "count": 0
           },
           {
            "bin_start": 3.4,
            "bin_end": 4.6,
            "count": 1
           },
           {
            "bin_start": 4.6,
            "bin_end": 5.8,
            "count": 0
           },
           {
            "bin_start": 5.8,
            "bin_end": 7,
            "count": 0
           },
           {
            "bin_start": 7,
            "bin_end": 8.2,
            "count": 2
           },
           {
            "bin_start": 8.2,
            "bin_end": 9.4,
            "count": 0
           },
           {
            "bin_start": 9.4,
            "bin_end": 10.6,
            "count": 1
           },
           {
            "bin_start": 10.6,
            "bin_end": 11.799999999999999,
            "count": 0
           },
           {
            "bin_start": 11.799999999999999,
            "bin_end": 13,
            "count": 1
           }
          ]
         }
        },
        {
         "name": "c",
         "dtype": "float64",
         "stats": {
          "unique_count": 5,
          "nan_count": 0,
          "min": "2.0",
          "max": "14.0",
          "histogram": [
           {
            "bin_start": 2,
            "bin_end": 3.2,
            "count": 1
           },
           {
            "bin_start": 3.2,
            "bin_end": 4.4,
            "count": 0
           },
           {
            "bin_start": 4.4,
            "bin_end": 5.6,
            "count": 1
           },
           {
            "bin_start": 5.6,
            "bin_end": 6.8,
            "count": 0
           },
           {
            "bin_start": 6.8,
            "bin_end": 8,
            "count": 0
           },
           {
            "bin_start": 8,
            "bin_end": 9.2,
            "count": 2
           },
           {
            "bin_start": 9.2,
            "bin_end": 10.4,
            "count": 0
           },
           {
            "bin_start": 10.4,
            "bin_end": 11.6,
            "count": 1
           },
           {
            "bin_start": 11.6,
            "bin_end": 12.799999999999999,
            "count": 0
           },
           {
            "bin_start": 12.799999999999999,
            "bin_end": 14,
            "count": 1
           }
          ]
         }
        },
        {
         "name": "d",
         "dtype": "float64",
         "stats": {
          "unique_count": 5,
          "nan_count": 0,
          "min": "1.0",
          "max": "102.0",
          "histogram": [
           {
            "bin_start": 1,
            "bin_end": 11.1,
            "count": 2
           },
           {
            "bin_start": 11.1,
            "bin_end": 21.2,
            "count": 0
           },
           {
            "bin_start": 21.2,
            "bin_end": 31.299999999999997,
            "count": 0
           },
           {
            "bin_start": 31.299999999999997,
            "bin_end": 41.4,
            "count": 0
           },
           {
            "bin_start": 41.4,
            "bin_end": 51.5,
            "count": 0
           },
           {
            "bin_start": 51.5,
            "bin_end": 61.599999999999994,
            "count": 2
           },
           {
            "bin_start": 61.599999999999994,
            "bin_end": 71.7,
            "count": 0
           },
           {
            "bin_start": 71.7,
            "bin_end": 81.8,
            "count": 0
           },
           {
            "bin_start": 81.8,
            "bin_end": 91.89999999999999,
            "count": 0
           },
           {
            "bin_start": 91.89999999999999,
            "bin_end": 102,
            "count": 2
           }
          ]
         }
        },
        {
         "name": "e",
         "dtype": "float64",
         "stats": {
          "unique_count": 5,
          "nan_count": 0,
          "min": "15.0",
          "max": "19.0",
          "histogram": [
           {
            "bin_start": 15,
            "bin_end": 15.4,
            "count": 1
           },
           {
            "bin_start": 15.4,
            "bin_end": 15.8,
            "count": 0
           },
           {
            "bin_start": 15.8,
            "bin_end": 16.2,
            "count": 1
           },
           {
            "bin_start": 16.2,
            "bin_end": 16.6,
            "count": 0
           },
           {
            "bin_start": 16.6,
            "bin_end": 17,
            "count": 0
           },
           {
            "bin_start": 17,
            "bin_end": 17.4,
            "count": 2
           },
           {
            "bin_start": 17.4,
            "bin_end": 17.8,
            "count": 0
           },
           {
            "bin_start": 17.8,
            "bin_end": 18.2,
            "count": 1
           },
           {
            "bin_start": 18.2,
            "bin_end": 18.6,
            "count": 0
           },
           {
            "bin_start": 18.6,
            "bin_end": 19,
            "count": 1
           }
          ]
         }
        },
        {
         "name": "_deepnote_index_column",
         "dtype": "int64"
        }
       ],
       "rows_top": [
        {
         "a": 0,
         "b": 1,
         "c": 2,
         "d": 1,
         "e": 15,
         "_deepnote_index_column": 0
        },
        {
         "a": 3,
         "b": 4,
         "c": 5,
         "d": 101,
         "e": 16,
         "_deepnote_index_column": 1
        },
        {
         "a": 6,
         "b": 7,
         "c": 8,
         "d": 102,
         "e": 17,
         "_deepnote_index_column": 2
        },
        {
         "a": 9,
         "b": 10,
         "c": 11,
         "d": 55.5,
         "e": 18,
         "_deepnote_index_column": 3
        },
        {
         "a": 4.5,
         "b": 13,
         "c": 14,
         "d": 55.5,
         "e": 19,
         "_deepnote_index_column": 4
        },
        {
         "a": 4.5,
         "b": 7,
         "c": 8,
         "d": 10,
         "e": 17,
         "_deepnote_index_column": 5
        }
       ],
       "rows_bottom": null
      },
      "text/plain": "     a     b     c      d     e\n0  0.0   1.0   2.0    1.0  15.0\n1  3.0   4.0   5.0  101.0  16.0\n2  6.0   7.0   8.0  102.0  17.0\n3  9.0  10.0  11.0   55.5  18.0\n4  4.5  13.0  14.0   55.5  19.0\n5  4.5   7.0   8.0   10.0  17.0",
      "text/html": "<div>\n<style scoped>\n    .dataframe tbody tr th:only-of-type {\n        vertical-align: middle;\n    }\n\n    .dataframe tbody tr th {\n        vertical-align: top;\n    }\n\n    .dataframe thead th {\n        text-align: right;\n    }\n</style>\n<table border=\"1\" class=\"dataframe\">\n  <thead>\n    <tr style=\"text-align: right;\">\n      <th></th>\n      <th>a</th>\n      <th>b</th>\n      <th>c</th>\n      <th>d</th>\n      <th>e</th>\n    </tr>\n  </thead>\n  <tbody>\n    <tr>\n      <th>0</th>\n      <td>0.0</td>\n      <td>1.0</td>\n      <td>2.0</td>\n      <td>1.0</td>\n      <td>15.0</td>\n    </tr>\n    <tr>\n      <th>1</th>\n      <td>3.0</td>\n      <td>4.0</td>\n      <td>5.0</td>\n      <td>101.0</td>\n      <td>16.0</td>\n    </tr>\n    <tr>\n      <th>2</th>\n      <td>6.0</td>\n      <td>7.0</td>\n      <td>8.0</td>\n      <td>102.0</td>\n      <td>17.0</td>\n    </tr>\n    <tr>\n      <th>3</th>\n      <td>9.0</td>\n      <td>10.0</td>\n      <td>11.0</td>\n      <td>55.5</td>\n      <td>18.0</td>\n    </tr>\n    <tr>\n      <th>4</th>\n      <td>4.5</td>\n      <td>13.0</td>\n      <td>14.0</td>\n      <td>55.5</td>\n      <td>19.0</td>\n    </tr>\n    <tr>\n      <th>5</th>\n      <td>4.5</td>\n      <td>7.0</td>\n      <td>8.0</td>\n      <td>10.0</td>\n      <td>17.0</td>\n    </tr>\n  </tbody>\n</table>\n</div>"
     },
     "metadata": {}
    }
   ]
  },
  {
   "cell_type": "markdown",
   "source": "### Por valor que puede haber existido en el medio.\nPor último, Pandas también puede interporlar los valores faltanes calculando el **valor que puede haber existido** en el medio.",
   "metadata": {
    "tags": [],
    "cell_id": "00169-c27b8948-02d5-41b3-ab51-ccf5f9f861df",
    "deepnote_cell_type": "markdown"
   }
  },
  {
   "cell_type": "code",
   "metadata": {
    "tags": [],
    "cell_id": "00170-6eb445b8-6641-44bf-acd2-77ccd0b9a8ad",
    "deepnote_to_be_reexecuted": false,
    "source_hash": "6bc194ac",
    "execution_start": 1625426910636,
    "execution_millis": 21,
    "deepnote_cell_type": "code"
   },
   "source": "df_d = pd.concat([df[['d']], df[['d']].interpolate()],axis=1)\ndf_d.columns = ['d_antes','d_interpolado']\ndf_d",
   "execution_count": 28,
   "outputs": [
    {
     "output_type": "execute_result",
     "execution_count": 28,
     "data": {
      "application/vnd.deepnote.dataframe.v2+json": {
       "row_count": 6,
       "column_count": 2,
       "columns": [
        {
         "name": "d_antes",
         "dtype": "float64",
         "stats": {
          "unique_count": 4,
          "nan_count": 2,
          "min": "1.0",
          "max": "102.0",
          "histogram": [
           {
            "bin_start": 1,
            "bin_end": 11.1,
            "count": 2
           },
           {
            "bin_start": 11.1,
            "bin_end": 21.2,
            "count": 0
           },
           {
            "bin_start": 21.2,
            "bin_end": 31.299999999999997,
            "count": 0
           },
           {
            "bin_start": 31.299999999999997,
            "bin_end": 41.4,
            "count": 0
           },
           {
            "bin_start": 41.4,
            "bin_end": 51.5,
            "count": 0
           },
           {
            "bin_start": 51.5,
            "bin_end": 61.599999999999994,
            "count": 0
           },
           {
            "bin_start": 61.599999999999994,
            "bin_end": 71.7,
            "count": 0
           },
           {
            "bin_start": 71.7,
            "bin_end": 81.8,
            "count": 0
           },
           {
            "bin_start": 81.8,
            "bin_end": 91.89999999999999,
            "count": 0
           },
           {
            "bin_start": 91.89999999999999,
            "bin_end": 102,
            "count": 2
           }
          ]
         }
        },
        {
         "name": "d_interpolado",
         "dtype": "float64",
         "stats": {
          "unique_count": 6,
          "nan_count": 0,
          "min": "1.0",
          "max": "102.0",
          "histogram": [
           {
            "bin_start": 1,
            "bin_end": 11.1,
            "count": 2
           },
           {
            "bin_start": 11.1,
            "bin_end": 21.2,
            "count": 0
           },
           {
            "bin_start": 21.2,
            "bin_end": 31.299999999999997,
            "count": 0
           },
           {
            "bin_start": 31.299999999999997,
            "bin_end": 41.4,
            "count": 1
           },
           {
            "bin_start": 41.4,
            "bin_end": 51.5,
            "count": 0
           },
           {
            "bin_start": 51.5,
            "bin_end": 61.599999999999994,
            "count": 0
           },
           {
            "bin_start": 61.599999999999994,
            "bin_end": 71.7,
            "count": 1
           },
           {
            "bin_start": 71.7,
            "bin_end": 81.8,
            "count": 0
           },
           {
            "bin_start": 81.8,
            "bin_end": 91.89999999999999,
            "count": 0
           },
           {
            "bin_start": 91.89999999999999,
            "bin_end": 102,
            "count": 2
           }
          ]
         }
        },
        {
         "name": "_deepnote_index_column",
         "dtype": "int64"
        }
       ],
       "rows_top": [
        {
         "d_antes": 1,
         "d_interpolado": 1,
         "_deepnote_index_column": 0
        },
        {
         "d_antes": 101,
         "d_interpolado": 101,
         "_deepnote_index_column": 1
        },
        {
         "d_antes": 102,
         "d_interpolado": 102,
         "_deepnote_index_column": 2
        },
        {
         "d_antes": "nan",
         "d_interpolado": 71.33333333333333,
         "_deepnote_index_column": 3
        },
        {
         "d_antes": "nan",
         "d_interpolado": 40.666666666666664,
         "_deepnote_index_column": 4
        },
        {
         "d_antes": 10,
         "d_interpolado": 10,
         "_deepnote_index_column": 5
        }
       ],
       "rows_bottom": null
      },
      "text/plain": "   d_antes  d_interpolado\n0      1.0       1.000000\n1    101.0     101.000000\n2    102.0     102.000000\n3      NaN      71.333333\n4      NaN      40.666667\n5     10.0      10.000000",
      "text/html": "<div>\n<style scoped>\n    .dataframe tbody tr th:only-of-type {\n        vertical-align: middle;\n    }\n\n    .dataframe tbody tr th {\n        vertical-align: top;\n    }\n\n    .dataframe thead th {\n        text-align: right;\n    }\n</style>\n<table border=\"1\" class=\"dataframe\">\n  <thead>\n    <tr style=\"text-align: right;\">\n      <th></th>\n      <th>d_antes</th>\n      <th>d_interpolado</th>\n    </tr>\n  </thead>\n  <tbody>\n    <tr>\n      <th>0</th>\n      <td>1.0</td>\n      <td>1.000000</td>\n    </tr>\n    <tr>\n      <th>1</th>\n      <td>101.0</td>\n      <td>101.000000</td>\n    </tr>\n    <tr>\n      <th>2</th>\n      <td>102.0</td>\n      <td>102.000000</td>\n    </tr>\n    <tr>\n      <th>3</th>\n      <td>NaN</td>\n      <td>71.333333</td>\n    </tr>\n    <tr>\n      <th>4</th>\n      <td>NaN</td>\n      <td>40.666667</td>\n    </tr>\n    <tr>\n      <th>5</th>\n      <td>10.0</td>\n      <td>10.000000</td>\n    </tr>\n  </tbody>\n</table>\n</div>"
     },
     "metadata": {}
    }
   ]
  },
  {
   "cell_type": "markdown",
   "source": "# Group by\n[16] group-by.ipynb\nSe pueden aplicar funciones cada vez que agrupemos los datos",
   "metadata": {
    "tags": [],
    "cell_id": "00171-df7e274e-a44b-404a-95f9-aecf944a99b5",
    "deepnote_cell_type": "markdown"
   }
  },
  {
   "cell_type": "code",
   "metadata": {
    "tags": [],
    "cell_id": "00172-e538e9bc-a3c0-4804-8000-f3e2acd2451b",
    "deepnote_to_be_reexecuted": false,
    "source_hash": "5d52e40c",
    "execution_start": 1625427095030,
    "execution_millis": 112,
    "deepnote_cell_type": "code"
   },
   "source": "pd.options.display.float_format = '{:,.3f}'.format\ndf = sns.load_dataset('diamonds')\ndf.groupby('cut').mean()",
   "execution_count": 32,
   "outputs": [
    {
     "output_type": "execute_result",
     "execution_count": 32,
     "data": {
      "application/vnd.deepnote.dataframe.v2+json": {
       "row_count": 5,
       "column_count": 7,
       "columns": [
        {
         "name": "carat",
         "dtype": "float64",
         "stats": {
          "unique_count": 5,
          "nan_count": 0,
          "min": "0.7028369913228676",
          "max": "1.0461366459627353",
          "histogram": [
           {
            "bin_start": 0.7028369913228676,
            "bin_end": 0.7371669567868544,
            "count": 1
           },
           {
            "bin_start": 0.7371669567868544,
            "bin_end": 0.7714969222508411,
            "count": 0
           },
           {
            "bin_start": 0.7714969222508411,
            "bin_end": 0.8058268877148279,
            "count": 0
           },
           {
            "bin_start": 0.8058268877148279,
            "bin_end": 0.8401568531788146,
            "count": 1
           },
           {
            "bin_start": 0.8401568531788146,
            "bin_end": 0.8744868186428014,
            "count": 1
           },
           {
            "bin_start": 0.8744868186428014,
            "bin_end": 0.9088167841067882,
            "count": 1
           },
           {
            "bin_start": 0.9088167841067882,
            "bin_end": 0.943146749570775,
            "count": 0
           },
           {
            "bin_start": 0.943146749570775,
            "bin_end": 0.9774767150347617,
            "count": 0
           },
           {
            "bin_start": 0.9774767150347617,
            "bin_end": 1.0118066804987484,
            "count": 0
           },
           {
            "bin_start": 1.0118066804987484,
            "bin_end": 1.0461366459627353,
            "count": 1
           }
          ]
         }
        },
        {
         "name": "depth",
         "dtype": "float64",
         "stats": {
          "unique_count": 5,
          "nan_count": 0,
          "min": "61.26467261257375",
          "max": "64.04167701863358",
          "histogram": [
           {
            "bin_start": 61.26467261257375,
            "bin_end": 61.54237305317973,
            "count": 1
           },
           {
            "bin_start": 61.54237305317973,
            "bin_end": 61.82007349378571,
            "count": 2
           },
           {
            "bin_start": 61.82007349378571,
            "bin_end": 62.0977739343917,
            "count": 0
           },
           {
            "bin_start": 62.0977739343917,
            "bin_end": 62.37547437499768,
            "count": 1
           },
           {
            "bin_start": 62.37547437499768,
            "bin_end": 62.65317481560366,
            "count": 0
           },
           {
            "bin_start": 62.65317481560366,
            "bin_end": 62.930875256209646,
            "count": 0
           },
           {
            "bin_start": 62.930875256209646,
            "bin_end": 63.20857569681563,
            "count": 0
           },
           {
            "bin_start": 63.20857569681563,
            "bin_end": 63.48627613742161,
            "count": 0
           },
           {
            "bin_start": 63.48627613742161,
            "bin_end": 63.763976578027595,
            "count": 0
           },
           {
            "bin_start": 63.763976578027595,
            "bin_end": 64.04167701863358,
            "count": 1
           }
          ]
         }
        },
        {
         "name": "table",
         "dtype": "float64",
         "stats": {
          "unique_count": 5,
          "nan_count": 0,
          "min": "55.95166813604934",
          "max": "59.05378881987577",
          "histogram": [
           {
            "bin_start": 55.95166813604934,
            "bin_end": 56.26188020443198,
            "count": 1
           },
           {
            "bin_start": 56.26188020443198,
            "bin_end": 56.57209227281463,
            "count": 0
           },
           {
            "bin_start": 56.57209227281463,
            "bin_end": 56.88230434119727,
            "count": 0
           },
           {
            "bin_start": 56.88230434119727,
            "bin_end": 57.192516409579916,
            "count": 0
           },
           {
            "bin_start": 57.192516409579916,
            "bin_end": 57.502728477962556,
            "count": 0
           },
           {
            "bin_start": 57.502728477962556,
            "bin_end": 57.812940546345196,
            "count": 0
           },
           {
            "bin_start": 57.812940546345196,
            "bin_end": 58.12315261472784,
            "count": 1
           },
           {
            "bin_start": 58.12315261472784,
            "bin_end": 58.43336468311048,
            "count": 0
           },
           {
            "bin_start": 58.43336468311048,
            "bin_end": 58.74357675149313,
            "count": 1
           },
           {
            "bin_start": 58.74357675149313,
            "bin_end": 59.05378881987577,
            "count": 2
           }
          ]
         }
        },
        {
         "name": "price",
         "dtype": "float64",
         "stats": {
          "unique_count": 5,
          "nan_count": 0,
          "min": "3457.541970210199",
          "max": "4584.2577042999055",
          "histogram": [
           {
            "bin_start": 3457.541970210199,
            "bin_end": 3570.2135436191697,
            "count": 1
           },
           {
            "bin_start": 3570.2135436191697,
            "bin_end": 3682.8851170281405,
            "count": 0
           },
           {
            "bin_start": 3682.8851170281405,
            "bin_end": 3795.556690437111,
            "count": 0
           },
           {
            "bin_start": 3795.556690437111,
            "bin_end": 3908.2282638460815,
            "count": 0
           },
           {
            "bin_start": 3908.2282638460815,
            "bin_end": 4020.8998372550523,
            "count": 2
           },
           {
            "bin_start": 4020.8998372550523,
            "bin_end": 4133.571410664023,
            "count": 0
           },
           {
            "bin_start": 4133.571410664023,
            "bin_end": 4246.242984072994,
            "count": 0
           },
           {
            "bin_start": 4246.242984072994,
            "bin_end": 4358.914557481964,
            "count": 1
           },
           {
            "bin_start": 4358.914557481964,
            "bin_end": 4471.586130890935,
            "count": 0
           },
           {
            "bin_start": 4471.586130890935,
            "bin_end": 4584.2577042999055,
            "count": 1
           }
          ]
         }
        },
        {
         "name": "x",
         "dtype": "float64",
         "stats": {
          "unique_count": 5,
          "nan_count": 0,
          "min": "5.507450698343484",
          "max": "6.246894409937905",
          "histogram": [
           {
            "bin_start": 5.507450698343484,
            "bin_end": 5.581395069502926,
            "count": 1
           },
           {
            "bin_start": 5.581395069502926,
            "bin_end": 5.6553394406623685,
            "count": 0
           },
           {
            "bin_start": 5.6553394406623685,
            "bin_end": 5.72928381182181,
            "count": 0
           },
           {
            "bin_start": 5.72928381182181,
            "bin_end": 5.803228182981252,
            "count": 1
           },
           {
            "bin_start": 5.803228182981252,
            "bin_end": 5.877172554140694,
            "count": 1
           },
           {
            "bin_start": 5.877172554140694,
            "bin_end": 5.951116925300137,
            "count": 0
           },
           {
            "bin_start": 5.951116925300137,
            "bin_end": 6.025061296459579,
            "count": 1
           },
           {
            "bin_start": 6.025061296459579,
            "bin_end": 6.0990056676190205,
            "count": 0
           },
           {
            "bin_start": 6.0990056676190205,
            "bin_end": 6.172950038778463,
            "count": 0
           },
           {
            "bin_start": 6.172950038778463,
            "bin_end": 6.246894409937905,
            "count": 1
           }
          ]
         }
        },
        {
         "name": "y",
         "dtype": "float64",
         "stats": {
          "unique_count": 5,
          "nan_count": 0,
          "min": "5.520079810681653",
          "max": "6.18265217391304",
          "histogram": [
           {
            "bin_start": 5.520079810681653,
            "bin_end": 5.5863370470047915,
            "count": 1
           },
           {
            "bin_start": 5.5863370470047915,
            "bin_end": 5.652594283327931,
            "count": 0
           },
           {
            "bin_start": 5.652594283327931,
            "bin_end": 5.71885151965107,
            "count": 0
           },
           {
            "bin_start": 5.71885151965107,
            "bin_end": 5.785108755974208,
            "count": 1
           },
           {
            "bin_start": 5.785108755974208,
            "bin_end": 5.851365992297346,
            "count": 1
           },
           {
            "bin_start": 5.851365992297346,
            "bin_end": 5.917623228620485,
            "count": 0
           },
           {
            "bin_start": 5.917623228620485,
            "bin_end": 5.983880464943624,
            "count": 1
           },
           {
            "bin_start": 5.983880464943624,
            "bin_end": 6.050137701266762,
            "count": 0
           },
           {
            "bin_start": 6.050137701266762,
            "bin_end": 6.1163949375899005,
            "count": 0
           },
           {
            "bin_start": 6.1163949375899005,
            "bin_end": 6.18265217391304,
            "count": 1
           }
          ]
         }
        },
        {
         "name": "z",
         "dtype": "float64",
         "stats": {
          "unique_count": 5,
          "nan_count": 0,
          "min": "3.4014481926593225",
          "max": "3.9827701863353964",
          "histogram": [
           {
            "bin_start": 3.4014481926593225,
            "bin_end": 3.45958039202693,
            "count": 1
           },
           {
            "bin_start": 3.45958039202693,
            "bin_end": 3.5177125913945373,
            "count": 0
           },
           {
            "bin_start": 3.5177125913945373,
            "bin_end": 3.5758447907621447,
            "count": 1
           },
           {
            "bin_start": 3.5758447907621447,
            "bin_end": 3.633976990129752,
            "count": 0
           },
           {
            "bin_start": 3.633976990129752,
            "bin_end": 3.6921091894973594,
            "count": 2
           },
           {
            "bin_start": 3.6921091894973594,
            "bin_end": 3.750241388864967,
            "count": 0
           },
           {
            "bin_start": 3.750241388864967,
            "bin_end": 3.808373588232574,
            "count": 0
           },
           {
            "bin_start": 3.808373588232574,
            "bin_end": 3.8665057876001816,
            "count": 0
           },
           {
            "bin_start": 3.8665057876001816,
            "bin_end": 3.924637986967789,
            "count": 0
           },
           {
            "bin_start": 3.924637986967789,
            "bin_end": 3.9827701863353964,
            "count": 1
           }
          ]
         }
        },
        {
         "name": "_deepnote_index_column",
         "dtype": "category"
        }
       ],
       "rows_top": [
        {
         "carat": 0.7028369913228676,
         "depth": 61.70940095587262,
         "table": 55.95166813604934,
         "price": 3457.541970210199,
         "x": 5.507450698343484,
         "y": 5.520079810681653,
         "z": 3.4014481926593225,
         "_deepnote_index_column": "Ideal"
        },
        {
         "carat": 0.8919548981219524,
         "depth": 61.26467261257375,
         "table": 58.74609527953013,
         "price": 4584.2577042999055,
         "x": 5.97388731781595,
         "y": 5.944878543977969,
         "z": 3.6471242114422924,
         "_deepnote_index_column": "Premium"
        },
        {
         "carat": 0.8063813938089939,
         "depth": 61.81827512001363,
         "table": 57.956149644098666,
         "price": 3981.7598907465654,
         "x": 5.740696076808465,
         "y": 5.770025658003609,
         "z": 3.559801357391168,
         "_deepnote_index_column": "Very Good"
        },
        {
         "carat": 0.8491846718304211,
         "depth": 62.36587851610268,
         "table": 58.69463921728494,
         "price": 3928.864451691806,
         "x": 5.838785161027321,
         "y": 5.850743986954751,
         "z": 3.6395067264573817,
         "_deepnote_index_column": "Good"
        },
        {
         "carat": 1.0461366459627353,
         "depth": 64.04167701863358,
         "table": 59.05378881987577,
         "price": 4358.757763975155,
         "x": 6.246894409937905,
         "y": 6.18265217391304,
         "z": 3.9827701863353964,
         "_deepnote_index_column": "Fair"
        }
       ],
       "rows_bottom": null
      },
      "text/plain": "           carat  depth  table     price     x     y     z\ncut                                                       \nIdeal      0.703 61.709 55.952 3,457.542 5.507 5.520 3.401\nPremium    0.892 61.265 58.746 4,584.258 5.974 5.945 3.647\nVery Good  0.806 61.818 57.956 3,981.760 5.741 5.770 3.560\nGood       0.849 62.366 58.695 3,928.864 5.839 5.851 3.640\nFair       1.046 64.042 59.054 4,358.758 6.247 6.183 3.983",
      "text/html": "<div>\n<style scoped>\n    .dataframe tbody tr th:only-of-type {\n        vertical-align: middle;\n    }\n\n    .dataframe tbody tr th {\n        vertical-align: top;\n    }\n\n    .dataframe thead th {\n        text-align: right;\n    }\n</style>\n<table border=\"1\" class=\"dataframe\">\n  <thead>\n    <tr style=\"text-align: right;\">\n      <th></th>\n      <th>carat</th>\n      <th>depth</th>\n      <th>table</th>\n      <th>price</th>\n      <th>x</th>\n      <th>y</th>\n      <th>z</th>\n    </tr>\n    <tr>\n      <th>cut</th>\n      <th></th>\n      <th></th>\n      <th></th>\n      <th></th>\n      <th></th>\n      <th></th>\n      <th></th>\n    </tr>\n  </thead>\n  <tbody>\n    <tr>\n      <th>Ideal</th>\n      <td>0.703</td>\n      <td>61.709</td>\n      <td>55.952</td>\n      <td>3,457.542</td>\n      <td>5.507</td>\n      <td>5.520</td>\n      <td>3.401</td>\n    </tr>\n    <tr>\n      <th>Premium</th>\n      <td>0.892</td>\n      <td>61.265</td>\n      <td>58.746</td>\n      <td>4,584.258</td>\n      <td>5.974</td>\n      <td>5.945</td>\n      <td>3.647</td>\n    </tr>\n    <tr>\n      <th>Very Good</th>\n      <td>0.806</td>\n      <td>61.818</td>\n      <td>57.956</td>\n      <td>3,981.760</td>\n      <td>5.741</td>\n      <td>5.770</td>\n      <td>3.560</td>\n    </tr>\n    <tr>\n      <th>Good</th>\n      <td>0.849</td>\n      <td>62.366</td>\n      <td>58.695</td>\n      <td>3,928.864</td>\n      <td>5.839</td>\n      <td>5.851</td>\n      <td>3.640</td>\n    </tr>\n    <tr>\n      <th>Fair</th>\n      <td>1.046</td>\n      <td>64.042</td>\n      <td>59.054</td>\n      <td>4,358.758</td>\n      <td>6.247</td>\n      <td>6.183</td>\n      <td>3.983</td>\n    </tr>\n  </tbody>\n</table>\n</div>"
     },
     "metadata": {}
    }
   ]
  },
  {
   "cell_type": "markdown",
   "source": "## Recorrer una agrupacion",
   "metadata": {
    "tags": [],
    "cell_id": "00173-dd323067-4509-4c66-8f4c-da0e54535034",
    "deepnote_cell_type": "markdown"
   }
  },
  {
   "cell_type": "code",
   "metadata": {
    "tags": [],
    "cell_id": "00173-970b90ef-e3a5-4fc1-acda-c4a663cd3b1e",
    "deepnote_to_be_reexecuted": false,
    "source_hash": "17f706ae",
    "execution_start": 1625427151532,
    "execution_millis": 21,
    "deepnote_cell_type": "code"
   },
   "source": "for key_group, group in df.groupby('cut'):\n    grouped_price = group['price'].mean()\n    print('Cut: {}, Price: {}, \\n'.format(key_group,grouped_price))",
   "execution_count": 33,
   "outputs": [
    {
     "name": "stdout",
     "text": "Cut: Ideal, Price: 3457.541970210199, \n\nCut: Premium, Price: 4584.2577042999055, \n\nCut: Very Good, Price: 3981.7598907465654, \n\nCut: Good, Price: 3928.864451691806, \n\nCut: Fair, Price: 4358.757763975155, \n\n",
     "output_type": "stream"
    }
   ]
  },
  {
   "cell_type": "markdown",
   "source": "## Agrupar por multiples paramentros",
   "metadata": {
    "tags": [],
    "cell_id": "00175-5687783c-3b02-48e5-af75-8bb5767dfca7",
    "deepnote_cell_type": "markdown"
   }
  },
  {
   "cell_type": "code",
   "metadata": {
    "tags": [],
    "cell_id": "00176-c899fecd-371a-4307-809e-fcbb544661d0",
    "deepnote_to_be_reexecuted": false,
    "source_hash": "c6c0ef3a",
    "execution_start": 1625427221064,
    "execution_millis": 62,
    "deepnote_cell_type": "code"
   },
   "source": "df.groupby(['cut','color'])['price'].mean().to_frame()",
   "execution_count": 34,
   "outputs": [
    {
     "output_type": "execute_result",
     "execution_count": 34,
     "data": {
      "application/vnd.deepnote.dataframe.v2+json": {
       "row_count": 35,
       "column_count": 1,
       "columns": [
        {
         "name": "price",
         "dtype": "float64",
         "stats": {
          "unique_count": 35,
          "nan_count": 0,
          "min": "2597.5500896746094",
          "max": "6294.591584158416",
          "histogram": [
           {
            "bin_start": 2597.5500896746094,
            "bin_end": 2967.25423912299,
            "count": 2
           },
           {
            "bin_start": 2967.25423912299,
            "bin_end": 3336.9583885713705,
            "count": 1
           },
           {
            "bin_start": 3336.9583885713705,
            "bin_end": 3706.662538019751,
            "count": 8
           },
           {
            "bin_start": 3706.662538019751,
            "bin_end": 4076.366687468132,
            "count": 5
           },
           {
            "bin_start": 4076.366687468132,
            "bin_end": 4446.070836916512,
            "count": 5
           },
           {
            "bin_start": 4446.070836916512,
            "bin_end": 4815.774986364893,
            "count": 5
           },
           {
            "bin_start": 4815.774986364893,
            "bin_end": 5185.479135813273,
            "count": 5
           },
           {
            "bin_start": 5185.479135813273,
            "bin_end": 5555.183285261654,
            "count": 2
           },
           {
            "bin_start": 5555.183285261654,
            "bin_end": 5924.887434710035,
            "count": 0
           },
           {
            "bin_start": 5924.887434710035,
            "bin_end": 6294.591584158416,
            "count": 2
           }
          ]
         }
        },
        {
         "name": "_deepnote_index_column",
         "dtype": "object"
        }
       ],
       "rows_top": [
        {
         "price": 2629.0945659844742,
         "_deepnote_index_column": "('Ideal', 'D')"
        },
        {
         "price": 2597.5500896746094,
         "_deepnote_index_column": "('Ideal', 'E')"
        },
        {
         "price": 3374.9393622582334,
         "_deepnote_index_column": "('Ideal', 'F')"
        },
        {
         "price": 3720.706388206388,
         "_deepnote_index_column": "('Ideal', 'G')"
        },
        {
         "price": 3889.334831460674,
         "_deepnote_index_column": "('Ideal', 'H')"
        },
        {
         "price": 4451.970377448638,
         "_deepnote_index_column": "('Ideal', 'I')"
        },
        {
         "price": 4918.186383928572,
         "_deepnote_index_column": "('Ideal', 'J')"
        },
        {
         "price": 3631.292576419214,
         "_deepnote_index_column": "('Premium', 'D')"
        },
        {
         "price": 3538.9144201968334,
         "_deepnote_index_column": "('Premium', 'E')"
        },
        {
         "price": 4324.890175890176,
         "_deepnote_index_column": "('Premium', 'F')"
        },
        {
         "price": 4500.742134062927,
         "_deepnote_index_column": "('Premium', 'G')"
        },
        {
         "price": 5216.706779661017,
         "_deepnote_index_column": "('Premium', 'H')"
        },
        {
         "price": 5946.180672268908,
         "_deepnote_index_column": "('Premium', 'I')"
        },
        {
         "price": 6294.591584158416,
         "_deepnote_index_column": "('Premium', 'J')"
        },
        {
         "price": 3470.4672835426304,
         "_deepnote_index_column": "('Very Good', 'D')"
        },
        {
         "price": 3214.6520833333334,
         "_deepnote_index_column": "('Very Good', 'E')"
        },
        {
         "price": 3778.8202402957486,
         "_deepnote_index_column": "('Very Good', 'F')"
        },
        {
         "price": 3872.75380600261,
         "_deepnote_index_column": "('Very Good', 'G')"
        },
        {
         "price": 4535.390350877193,
         "_deepnote_index_column": "('Very Good', 'H')"
        },
        {
         "price": 5255.879568106312,
         "_deepnote_index_column": "('Very Good', 'I')"
        },
        {
         "price": 5103.513274336283,
         "_deepnote_index_column": "('Very Good', 'J')"
        },
        {
         "price": 3405.3821752265862,
         "_deepnote_index_column": "('Good', 'D')"
        },
        {
         "price": 3423.6441586280816,
         "_deepnote_index_column": "('Good', 'E')"
        },
        {
         "price": 3495.7502750275025,
         "_deepnote_index_column": "('Good', 'F')"
        },
        {
         "price": 4123.482204362801,
         "_deepnote_index_column": "('Good', 'G')"
        },
        {
         "price": 4276.254985754986,
         "_deepnote_index_column": "('Good', 'H')"
        },
        {
         "price": 5078.532567049809,
         "_deepnote_index_column": "('Good', 'I')"
        },
        {
         "price": 4574.172638436482,
         "_deepnote_index_column": "('Good', 'J')"
        },
        {
         "price": 4291.061349693252,
         "_deepnote_index_column": "('Fair', 'D')"
        },
        {
         "price": 3682.3125,
         "_deepnote_index_column": "('Fair', 'E')"
        },
        {
         "price": 3827.003205128205,
         "_deepnote_index_column": "('Fair', 'F')"
        },
        {
         "price": 4239.254777070064,
         "_deepnote_index_column": "('Fair', 'G')"
        },
        {
         "price": 5135.683168316832,
         "_deepnote_index_column": "('Fair', 'H')"
        },
        {
         "price": 4685.4457142857145,
         "_deepnote_index_column": "('Fair', 'I')"
        },
        {
         "price": 4975.655462184874,
         "_deepnote_index_column": "('Fair', 'J')"
        }
       ],
       "rows_bottom": null
      },
      "text/plain": "                    price\ncut       color          \nIdeal     D     2,629.095\n          E     2,597.550\n          F     3,374.939\n          G     3,720.706\n          H     3,889.335\n          I     4,451.970\n          J     4,918.186\nPremium   D     3,631.293\n          E     3,538.914\n          F     4,324.890\n          G     4,500.742\n          H     5,216.707\n          I     5,946.181\n          J     6,294.592\nVery Good D     3,470.467\n          E     3,214.652\n          F     3,778.820\n          G     3,872.754\n          H     4,535.390\n          I     5,255.880\n          J     5,103.513\nGood      D     3,405.382\n          E     3,423.644\n          F     3,495.750\n          G     4,123.482\n          H     4,276.255\n          I     5,078.533\n          J     4,574.173\nFair      D     4,291.061\n          E     3,682.312\n          F     3,827.003\n          G     4,239.255\n          H     5,135.683\n          I     4,685.446\n          J     4,975.655",
      "text/html": "<div>\n<style scoped>\n    .dataframe tbody tr th:only-of-type {\n        vertical-align: middle;\n    }\n\n    .dataframe tbody tr th {\n        vertical-align: top;\n    }\n\n    .dataframe thead th {\n        text-align: right;\n    }\n</style>\n<table border=\"1\" class=\"dataframe\">\n  <thead>\n    <tr style=\"text-align: right;\">\n      <th></th>\n      <th></th>\n      <th>price</th>\n    </tr>\n    <tr>\n      <th>cut</th>\n      <th>color</th>\n      <th></th>\n    </tr>\n  </thead>\n  <tbody>\n    <tr>\n      <th rowspan=\"7\" valign=\"top\">Ideal</th>\n      <th>D</th>\n      <td>2,629.095</td>\n    </tr>\n    <tr>\n      <th>E</th>\n      <td>2,597.550</td>\n    </tr>\n    <tr>\n      <th>F</th>\n      <td>3,374.939</td>\n    </tr>\n    <tr>\n      <th>G</th>\n      <td>3,720.706</td>\n    </tr>\n    <tr>\n      <th>H</th>\n      <td>3,889.335</td>\n    </tr>\n    <tr>\n      <th>I</th>\n      <td>4,451.970</td>\n    </tr>\n    <tr>\n      <th>J</th>\n      <td>4,918.186</td>\n    </tr>\n    <tr>\n      <th rowspan=\"7\" valign=\"top\">Premium</th>\n      <th>D</th>\n      <td>3,631.293</td>\n    </tr>\n    <tr>\n      <th>E</th>\n      <td>3,538.914</td>\n    </tr>\n    <tr>\n      <th>F</th>\n      <td>4,324.890</td>\n    </tr>\n    <tr>\n      <th>G</th>\n      <td>4,500.742</td>\n    </tr>\n    <tr>\n      <th>H</th>\n      <td>5,216.707</td>\n    </tr>\n    <tr>\n      <th>I</th>\n      <td>5,946.181</td>\n    </tr>\n    <tr>\n      <th>J</th>\n      <td>6,294.592</td>\n    </tr>\n    <tr>\n      <th rowspan=\"7\" valign=\"top\">Very Good</th>\n      <th>D</th>\n      <td>3,470.467</td>\n    </tr>\n    <tr>\n      <th>E</th>\n      <td>3,214.652</td>\n    </tr>\n    <tr>\n      <th>F</th>\n      <td>3,778.820</td>\n    </tr>\n    <tr>\n      <th>G</th>\n      <td>3,872.754</td>\n    </tr>\n    <tr>\n      <th>H</th>\n      <td>4,535.390</td>\n    </tr>\n    <tr>\n      <th>I</th>\n      <td>5,255.880</td>\n    </tr>\n    <tr>\n      <th>J</th>\n      <td>5,103.513</td>\n    </tr>\n    <tr>\n      <th rowspan=\"7\" valign=\"top\">Good</th>\n      <th>D</th>\n      <td>3,405.382</td>\n    </tr>\n    <tr>\n      <th>E</th>\n      <td>3,423.644</td>\n    </tr>\n    <tr>\n      <th>F</th>\n      <td>3,495.750</td>\n    </tr>\n    <tr>\n      <th>G</th>\n      <td>4,123.482</td>\n    </tr>\n    <tr>\n      <th>H</th>\n      <td>4,276.255</td>\n    </tr>\n    <tr>\n      <th>I</th>\n      <td>5,078.533</td>\n    </tr>\n    <tr>\n      <th>J</th>\n      <td>4,574.173</td>\n    </tr>\n    <tr>\n      <th rowspan=\"7\" valign=\"top\">Fair</th>\n      <th>D</th>\n      <td>4,291.061</td>\n    </tr>\n    <tr>\n      <th>E</th>\n      <td>3,682.312</td>\n    </tr>\n    <tr>\n      <th>F</th>\n      <td>3,827.003</td>\n    </tr>\n    <tr>\n      <th>G</th>\n      <td>4,239.255</td>\n    </tr>\n    <tr>\n      <th>H</th>\n      <td>5,135.683</td>\n    </tr>\n    <tr>\n      <th>I</th>\n      <td>4,685.446</td>\n    </tr>\n    <tr>\n      <th>J</th>\n      <td>4,975.655</td>\n    </tr>\n  </tbody>\n</table>\n</div>"
     },
     "metadata": {}
    }
   ]
  },
  {
   "cell_type": "markdown",
   "source": "## Ejecutar multiples funciones al agrupar",
   "metadata": {
    "tags": [],
    "cell_id": "00177-d0ab9d57-4442-4a92-b367-c4a46ffce5a2",
    "deepnote_cell_type": "markdown"
   }
  },
  {
   "cell_type": "code",
   "metadata": {
    "tags": [],
    "cell_id": "00178-3e50b908-ef4b-486b-8196-56b62db0902a",
    "deepnote_to_be_reexecuted": false,
    "source_hash": "afb15ded",
    "execution_start": 1625427247555,
    "execution_millis": 64,
    "deepnote_cell_type": "code"
   },
   "source": "def mean_kilo(x):\n    return np.mean(x)\ndf.groupby(['cut','color'])['price'].aggregate(['min',np.mean,max,mean_kilo]).head(10)",
   "execution_count": 35,
   "outputs": [
    {
     "output_type": "execute_result",
     "execution_count": 35,
     "data": {
      "application/vnd.deepnote.dataframe.v2+json": {
       "row_count": 10,
       "column_count": 4,
       "columns": [
        {
         "name": "min",
         "dtype": "int64",
         "stats": {
          "unique_count": 8,
          "nan_count": 0,
          "min": "326",
          "max": "408",
          "histogram": [
           {
            "bin_start": 326,
            "bin_end": 334.2,
            "count": 2
           },
           {
            "bin_start": 334.2,
            "bin_end": 342.4,
            "count": 2
           },
           {
            "bin_start": 342.4,
            "bin_end": 350.6,
            "count": 1
           },
           {
            "bin_start": 350.6,
            "bin_end": 358.8,
            "count": 1
           },
           {
            "bin_start": 358.8,
            "bin_end": 367,
            "count": 1
           },
           {
            "bin_start": 367,
            "bin_end": 375.2,
            "count": 2
           },
           {
            "bin_start": 375.2,
            "bin_end": 383.4,
            "count": 0
           },
           {
            "bin_start": 383.4,
            "bin_end": 391.6,
            "count": 0
           },
           {
            "bin_start": 391.6,
            "bin_end": 399.8,
            "count": 0
           },
           {
            "bin_start": 399.8,
            "bin_end": 408,
            "count": 1
           }
          ]
         }
        },
        {
         "name": "mean",
         "dtype": "float64",
         "stats": {
          "unique_count": 10,
          "nan_count": 0,
          "min": "2597.5500896746094",
          "max": "4918.186383928572",
          "histogram": [
           {
            "bin_start": 2597.5500896746094,
            "bin_end": 2829.6137191000057,
            "count": 2
           },
           {
            "bin_start": 2829.6137191000057,
            "bin_end": 3061.6773485254016,
            "count": 0
           },
           {
            "bin_start": 3061.6773485254016,
            "bin_end": 3293.740977950798,
            "count": 0
           },
           {
            "bin_start": 3293.740977950798,
            "bin_end": 3525.8046073761943,
            "count": 1
           },
           {
            "bin_start": 3525.8046073761943,
            "bin_end": 3757.8682368015907,
            "count": 3
           },
           {
            "bin_start": 3757.8682368015907,
            "bin_end": 3989.9318662269866,
            "count": 1
           },
           {
            "bin_start": 3989.9318662269866,
            "bin_end": 4221.995495652383,
            "count": 0
           },
           {
            "bin_start": 4221.995495652383,
            "bin_end": 4454.059125077779,
            "count": 2
           },
           {
            "bin_start": 4454.059125077779,
            "bin_end": 4686.122754503175,
            "count": 0
           },
           {
            "bin_start": 4686.122754503175,
            "bin_end": 4918.186383928572,
            "count": 1
           }
          ]
         }
        },
        {
         "name": "max",
         "dtype": "int64",
         "stats": {
          "unique_count": 10,
          "nan_count": 0,
          "min": "18477",
          "max": "18806",
          "histogram": [
           {
            "bin_start": 18477,
            "bin_end": 18509.9,
            "count": 2
           },
           {
            "bin_start": 18509.9,
            "bin_end": 18542.8,
            "count": 0
           },
           {
            "bin_start": 18542.8,
            "bin_end": 18575.7,
            "count": 1
           },
           {
            "bin_start": 18575.7,
            "bin_end": 18608.6,
            "count": 0
           },
           {
            "bin_start": 18608.6,
            "bin_end": 18641.5,
            "count": 0
           },
           {
            "bin_start": 18641.5,
            "bin_end": 18674.4,
            "count": 0
           },
           {
            "bin_start": 18674.4,
            "bin_end": 18707.3,
            "count": 1
           },
           {
            "bin_start": 18707.3,
            "bin_end": 18740.2,
            "count": 1
           },
           {
            "bin_start": 18740.2,
            "bin_end": 18773.1,
            "count": 1
           },
           {
            "bin_start": 18773.1,
            "bin_end": 18806,
            "count": 4
           }
          ]
         }
        },
        {
         "name": "mean_kilo",
         "dtype": "float64",
         "stats": {
          "unique_count": 10,
          "nan_count": 0,
          "min": "2597.5500896746094",
          "max": "4918.186383928572",
          "histogram": [
           {
            "bin_start": 2597.5500896746094,
            "bin_end": 2829.6137191000057,
            "count": 2
           },
           {
            "bin_start": 2829.6137191000057,
            "bin_end": 3061.6773485254016,
            "count": 0
           },
           {
            "bin_start": 3061.6773485254016,
            "bin_end": 3293.740977950798,
            "count": 0
           },
           {
            "bin_start": 3293.740977950798,
            "bin_end": 3525.8046073761943,
            "count": 1
           },
           {
            "bin_start": 3525.8046073761943,
            "bin_end": 3757.8682368015907,
            "count": 3
           },
           {
            "bin_start": 3757.8682368015907,
            "bin_end": 3989.9318662269866,
            "count": 1
           },
           {
            "bin_start": 3989.9318662269866,
            "bin_end": 4221.995495652383,
            "count": 0
           },
           {
            "bin_start": 4221.995495652383,
            "bin_end": 4454.059125077779,
            "count": 2
           },
           {
            "bin_start": 4454.059125077779,
            "bin_end": 4686.122754503175,
            "count": 0
           },
           {
            "bin_start": 4686.122754503175,
            "bin_end": 4918.186383928572,
            "count": 1
           }
          ]
         }
        },
        {
         "name": "_deepnote_index_column",
         "dtype": "object"
        }
       ],
       "rows_top": [
        {
         "min": 367,
         "mean": 2629.0945659844742,
         "max": 18693,
         "mean_kilo": 2629.0945659844742,
         "_deepnote_index_column": "('Ideal', 'D')"
        },
        {
         "min": 326,
         "mean": 2597.5500896746094,
         "max": 18729,
         "mean_kilo": 2597.5500896746094,
         "_deepnote_index_column": "('Ideal', 'E')"
        },
        {
         "min": 408,
         "mean": 3374.9393622582334,
         "max": 18780,
         "mean_kilo": 3374.9393622582334,
         "_deepnote_index_column": "('Ideal', 'F')"
        },
        {
         "min": 361,
         "mean": 3720.706388206388,
         "max": 18806,
         "mean_kilo": 3720.706388206388,
         "_deepnote_index_column": "('Ideal', 'G')"
        },
        {
         "min": 357,
         "mean": 3889.334831460674,
         "max": 18760,
         "mean_kilo": 3889.334831460674,
         "_deepnote_index_column": "('Ideal', 'H')"
        },
        {
         "min": 348,
         "mean": 4451.970377448638,
         "max": 18779,
         "mean_kilo": 4451.970377448638,
         "_deepnote_index_column": "('Ideal', 'I')"
        },
        {
         "min": 340,
         "mean": 4918.186383928572,
         "max": 18508,
         "mean_kilo": 4918.186383928572,
         "_deepnote_index_column": "('Ideal', 'J')"
        },
        {
         "min": 367,
         "mean": 3631.292576419214,
         "max": 18575,
         "mean_kilo": 3631.292576419214,
         "_deepnote_index_column": "('Premium', 'D')"
        },
        {
         "min": 326,
         "mean": 3538.9144201968334,
         "max": 18477,
         "mean_kilo": 3538.9144201968334,
         "_deepnote_index_column": "('Premium', 'E')"
        },
        {
         "min": 342,
         "mean": 4324.890175890176,
         "max": 18791,
         "mean_kilo": 4324.890175890176,
         "_deepnote_index_column": "('Premium', 'F')"
        }
       ],
       "rows_bottom": null
      },
      "text/plain": "               min      mean    max  mean_kilo\ncut     color                                 \nIdeal   D      367 2,629.095  18693  2,629.095\n        E      326 2,597.550  18729  2,597.550\n        F      408 3,374.939  18780  3,374.939\n        G      361 3,720.706  18806  3,720.706\n        H      357 3,889.335  18760  3,889.335\n        I      348 4,451.970  18779  4,451.970\n        J      340 4,918.186  18508  4,918.186\nPremium D      367 3,631.293  18575  3,631.293\n        E      326 3,538.914  18477  3,538.914\n        F      342 4,324.890  18791  4,324.890",
      "text/html": "<div>\n<style scoped>\n    .dataframe tbody tr th:only-of-type {\n        vertical-align: middle;\n    }\n\n    .dataframe tbody tr th {\n        vertical-align: top;\n    }\n\n    .dataframe thead th {\n        text-align: right;\n    }\n</style>\n<table border=\"1\" class=\"dataframe\">\n  <thead>\n    <tr style=\"text-align: right;\">\n      <th></th>\n      <th></th>\n      <th>min</th>\n      <th>mean</th>\n      <th>max</th>\n      <th>mean_kilo</th>\n    </tr>\n    <tr>\n      <th>cut</th>\n      <th>color</th>\n      <th></th>\n      <th></th>\n      <th></th>\n      <th></th>\n    </tr>\n  </thead>\n  <tbody>\n    <tr>\n      <th rowspan=\"7\" valign=\"top\">Ideal</th>\n      <th>D</th>\n      <td>367</td>\n      <td>2,629.095</td>\n      <td>18693</td>\n      <td>2,629.095</td>\n    </tr>\n    <tr>\n      <th>E</th>\n      <td>326</td>\n      <td>2,597.550</td>\n      <td>18729</td>\n      <td>2,597.550</td>\n    </tr>\n    <tr>\n      <th>F</th>\n      <td>408</td>\n      <td>3,374.939</td>\n      <td>18780</td>\n      <td>3,374.939</td>\n    </tr>\n    <tr>\n      <th>G</th>\n      <td>361</td>\n      <td>3,720.706</td>\n      <td>18806</td>\n      <td>3,720.706</td>\n    </tr>\n    <tr>\n      <th>H</th>\n      <td>357</td>\n      <td>3,889.335</td>\n      <td>18760</td>\n      <td>3,889.335</td>\n    </tr>\n    <tr>\n      <th>I</th>\n      <td>348</td>\n      <td>4,451.970</td>\n      <td>18779</td>\n      <td>4,451.970</td>\n    </tr>\n    <tr>\n      <th>J</th>\n      <td>340</td>\n      <td>4,918.186</td>\n      <td>18508</td>\n      <td>4,918.186</td>\n    </tr>\n    <tr>\n      <th rowspan=\"3\" valign=\"top\">Premium</th>\n      <th>D</th>\n      <td>367</td>\n      <td>3,631.293</td>\n      <td>18575</td>\n      <td>3,631.293</td>\n    </tr>\n    <tr>\n      <th>E</th>\n      <td>326</td>\n      <td>3,538.914</td>\n      <td>18477</td>\n      <td>3,538.914</td>\n    </tr>\n    <tr>\n      <th>F</th>\n      <td>342</td>\n      <td>4,324.890</td>\n      <td>18791</td>\n      <td>4,324.890</td>\n    </tr>\n  </tbody>\n</table>\n</div>"
     },
     "metadata": {}
    }
   ]
  },
  {
   "cell_type": "markdown",
   "source": "## Crear un diccionario de funciones a ejecutar",
   "metadata": {
    "tags": [],
    "cell_id": "00179-ed16e3d7-7b4b-44fb-8aab-3fbf66348c0b",
    "deepnote_cell_type": "markdown"
   }
  },
  {
   "cell_type": "code",
   "metadata": {
    "tags": [],
    "cell_id": "00180-e29d26a5-aa13-4c25-b035-28994c1e4202",
    "deepnote_to_be_reexecuted": false,
    "source_hash": "fea2f794",
    "execution_start": 1625427290508,
    "execution_millis": 81,
    "deepnote_cell_type": "code"
   },
   "source": "dict_agg = {'carat' : [min,max], 'price' : [np.mean,mean_kilo]}\n\ndf.groupby(['cut','color']).aggregate(dict_agg)",
   "execution_count": 36,
   "outputs": [
    {
     "output_type": "execute_result",
     "execution_count": 36,
     "data": {
      "application/vnd.deepnote.dataframe.v2+json": {
       "row_count": 35,
       "column_count": 4,
       "columns": [
        {
         "name": [
          "carat",
          "min"
         ],
         "dtype": "float64",
         "stats": {
          "unique_count": 9,
          "nan_count": 0,
          "min": "0.2",
          "max": "0.41",
          "histogram": [
           {
            "bin_start": 0.2,
            "bin_end": 0.221,
            "count": 7
           },
           {
            "bin_start": 0.221,
            "bin_end": 0.242,
            "count": 19
           },
           {
            "bin_start": 0.242,
            "bin_end": 0.263,
            "count": 3
           },
           {
            "bin_start": 0.263,
            "bin_end": 0.28400000000000003,
            "count": 1
           },
           {
            "bin_start": 0.28400000000000003,
            "bin_end": 0.305,
            "count": 3
           },
           {
            "bin_start": 0.305,
            "bin_end": 0.326,
            "count": 0
           },
           {
            "bin_start": 0.326,
            "bin_end": 0.347,
            "count": 1
           },
           {
            "bin_start": 0.347,
            "bin_end": 0.368,
            "count": 0
           },
           {
            "bin_start": 0.368,
            "bin_end": 0.389,
            "count": 0
           },
           {
            "bin_start": 0.389,
            "bin_end": 0.41,
            "count": 1
           }
          ]
         }
        },
        {
         "name": [
          "carat",
          "max"
         ],
         "dtype": "float64",
         "stats": {
          "unique_count": 26,
          "nan_count": 0,
          "min": "2.04",
          "max": "5.01",
          "histogram": [
           {
            "bin_start": 2.04,
            "bin_end": 2.337,
            "count": 3
           },
           {
            "bin_start": 2.337,
            "bin_end": 2.634,
            "count": 9
           },
           {
            "bin_start": 2.634,
            "bin_end": 2.931,
            "count": 4
           },
           {
            "bin_start": 2.931,
            "bin_end": 3.2279999999999998,
            "count": 11
           },
           {
            "bin_start": 3.2279999999999998,
            "bin_end": 3.525,
            "count": 3
           },
           {
            "bin_start": 3.525,
            "bin_end": 3.822,
            "count": 0
           },
           {
            "bin_start": 3.822,
            "bin_end": 4.119,
            "count": 3
           },
           {
            "bin_start": 4.119,
            "bin_end": 4.416,
            "count": 1
           },
           {
            "bin_start": 4.416,
            "bin_end": 4.713,
            "count": 0
           },
           {
            "bin_start": 4.713,
            "bin_end": 5.01,
            "count": 1
           }
          ]
         }
        },
        {
         "name": [
          "price",
          "mean"
         ],
         "dtype": "float64",
         "stats": {
          "unique_count": 35,
          "nan_count": 0,
          "min": "2597.5500896746094",
          "max": "6294.591584158416",
          "histogram": [
           {
            "bin_start": 2597.5500896746094,
            "bin_end": 2967.25423912299,
            "count": 2
           },
           {
            "bin_start": 2967.25423912299,
            "bin_end": 3336.9583885713705,
            "count": 1
           },
           {
            "bin_start": 3336.9583885713705,
            "bin_end": 3706.662538019751,
            "count": 8
           },
           {
            "bin_start": 3706.662538019751,
            "bin_end": 4076.366687468132,
            "count": 5
           },
           {
            "bin_start": 4076.366687468132,
            "bin_end": 4446.070836916512,
            "count": 5
           },
           {
            "bin_start": 4446.070836916512,
            "bin_end": 4815.774986364893,
            "count": 5
           },
           {
            "bin_start": 4815.774986364893,
            "bin_end": 5185.479135813273,
            "count": 5
           },
           {
            "bin_start": 5185.479135813273,
            "bin_end": 5555.183285261654,
            "count": 2
           },
           {
            "bin_start": 5555.183285261654,
            "bin_end": 5924.887434710035,
            "count": 0
           },
           {
            "bin_start": 5924.887434710035,
            "bin_end": 6294.591584158416,
            "count": 2
           }
          ]
         }
        },
        {
         "name": [
          "price",
          "mean_kilo"
         ],
         "dtype": "float64",
         "stats": {
          "unique_count": 35,
          "nan_count": 0,
          "min": "2597.5500896746094",
          "max": "6294.591584158416",
          "histogram": [
           {
            "bin_start": 2597.5500896746094,
            "bin_end": 2967.25423912299,
            "count": 2
           },
           {
            "bin_start": 2967.25423912299,
            "bin_end": 3336.9583885713705,
            "count": 1
           },
           {
            "bin_start": 3336.9583885713705,
            "bin_end": 3706.662538019751,
            "count": 8
           },
           {
            "bin_start": 3706.662538019751,
            "bin_end": 4076.366687468132,
            "count": 5
           },
           {
            "bin_start": 4076.366687468132,
            "bin_end": 4446.070836916512,
            "count": 5
           },
           {
            "bin_start": 4446.070836916512,
            "bin_end": 4815.774986364893,
            "count": 5
           },
           {
            "bin_start": 4815.774986364893,
            "bin_end": 5185.479135813273,
            "count": 5
           },
           {
            "bin_start": 5185.479135813273,
            "bin_end": 5555.183285261654,
            "count": 2
           },
           {
            "bin_start": 5555.183285261654,
            "bin_end": 5924.887434710035,
            "count": 0
           },
           {
            "bin_start": 5924.887434710035,
            "bin_end": 6294.591584158416,
            "count": 2
           }
          ]
         }
        },
        {
         "name": "_deepnote_index_column",
         "dtype": "object"
        }
       ],
       "rows_top": [
        {
         "('carat', 'min')": 0.2,
         "('carat', 'max')": 2.75,
         "('price', 'mean')": 2629.0945659844742,
         "('price', 'mean_kilo')": 2629.0945659844742,
         "_deepnote_index_column": "('Ideal', 'D')"
        },
        {
         "('carat', 'min')": 0.2,
         "('carat', 'max')": 2.28,
         "('price', 'mean')": 2597.5500896746094,
         "('price', 'mean_kilo')": 2597.5500896746094,
         "_deepnote_index_column": "('Ideal', 'E')"
        },
        {
         "('carat', 'min')": 0.23,
         "('carat', 'max')": 2.45,
         "('price', 'mean')": 3374.9393622582334,
         "('price', 'mean_kilo')": 3374.9393622582334,
         "_deepnote_index_column": "('Ideal', 'F')"
        },
        {
         "('carat', 'min')": 0.23,
         "('carat', 'max')": 2.54,
         "('price', 'mean')": 3720.706388206388,
         "('price', 'mean_kilo')": 3720.706388206388,
         "_deepnote_index_column": "('Ideal', 'G')"
        },
        {
         "('carat', 'min')": 0.23,
         "('carat', 'max')": 3.5,
         "('price', 'mean')": 3889.334831460674,
         "('price', 'mean_kilo')": 3889.334831460674,
         "_deepnote_index_column": "('Ideal', 'H')"
        },
        {
         "('carat', 'min')": 0.23,
         "('carat', 'max')": 3.22,
         "('price', 'mean')": 4451.970377448638,
         "('price', 'mean_kilo')": 4451.970377448638,
         "_deepnote_index_column": "('Ideal', 'I')"
        },
        {
         "('carat', 'min')": 0.23,
         "('carat', 'max')": 3.01,
         "('price', 'mean')": 4918.186383928572,
         "('price', 'mean_kilo')": 4918.186383928572,
         "_deepnote_index_column": "('Ideal', 'J')"
        },
        {
         "('carat', 'min')": 0.2,
         "('carat', 'max')": 2.57,
         "('price', 'mean')": 3631.292576419214,
         "('price', 'mean_kilo')": 3631.292576419214,
         "_deepnote_index_column": "('Premium', 'D')"
        },
        {
         "('carat', 'min')": 0.2,
         "('carat', 'max')": 3.05,
         "('price', 'mean')": 3538.9144201968334,
         "('price', 'mean_kilo')": 3538.9144201968334,
         "_deepnote_index_column": "('Premium', 'E')"
        },
        {
         "('carat', 'min')": 0.2,
         "('carat', 'max')": 3.01,
         "('price', 'mean')": 4324.890175890176,
         "('price', 'mean_kilo')": 4324.890175890176,
         "_deepnote_index_column": "('Premium', 'F')"
        },
        {
         "('carat', 'min')": 0.23,
         "('carat', 'max')": 3.01,
         "('price', 'mean')": 4500.742134062927,
         "('price', 'mean_kilo')": 4500.742134062927,
         "_deepnote_index_column": "('Premium', 'G')"
        },
        {
         "('carat', 'min')": 0.23,
         "('carat', 'max')": 3.24,
         "('price', 'mean')": 5216.706779661017,
         "('price', 'mean_kilo')": 5216.706779661017,
         "_deepnote_index_column": "('Premium', 'H')"
        },
        {
         "('carat', 'min')": 0.23,
         "('carat', 'max')": 4.01,
         "('price', 'mean')": 5946.180672268908,
         "('price', 'mean_kilo')": 5946.180672268908,
         "_deepnote_index_column": "('Premium', 'I')"
        },
        {
         "('carat', 'min')": 0.3,
         "('carat', 'max')": 4.01,
         "('price', 'mean')": 6294.591584158416,
         "('price', 'mean_kilo')": 6294.591584158416,
         "_deepnote_index_column": "('Premium', 'J')"
        },
        {
         "('carat', 'min')": 0.23,
         "('carat', 'max')": 2.58,
         "('price', 'mean')": 3470.4672835426304,
         "('price', 'mean_kilo')": 3470.4672835426304,
         "_deepnote_index_column": "('Very Good', 'D')"
        },
        {
         "('carat', 'min')": 0.2,
         "('carat', 'max')": 2.51,
         "('price', 'mean')": 3214.6520833333334,
         "('price', 'mean_kilo')": 3214.6520833333334,
         "_deepnote_index_column": "('Very Good', 'E')"
        },
        {
         "('carat', 'min')": 0.23,
         "('carat', 'max')": 2.48,
         "('price', 'mean')": 3778.8202402957486,
         "('price', 'mean_kilo')": 3778.8202402957486,
         "_deepnote_index_column": "('Very Good', 'F')"
        },
        {
         "('carat', 'min')": 0.23,
         "('carat', 'max')": 2.52,
         "('price', 'mean')": 3872.75380600261,
         "('price', 'mean_kilo')": 3872.75380600261,
         "_deepnote_index_column": "('Very Good', 'G')"
        },
        {
         "('carat', 'min')": 0.23,
         "('carat', 'max')": 3,
         "('price', 'mean')": 4535.390350877193,
         "('price', 'mean_kilo')": 4535.390350877193,
         "_deepnote_index_column": "('Very Good', 'H')"
        },
        {
         "('carat', 'min')": 0.24,
         "('carat', 'max')": 4,
         "('price', 'mean')": 5255.879568106312,
         "('price', 'mean_kilo')": 5255.879568106312,
         "_deepnote_index_column": "('Very Good', 'I')"
        },
        {
         "('carat', 'min')": 0.24,
         "('carat', 'max')": 2.74,
         "('price', 'mean')": 5103.513274336283,
         "('price', 'mean_kilo')": 5103.513274336283,
         "_deepnote_index_column": "('Very Good', 'J')"
        },
        {
         "('carat', 'min')": 0.23,
         "('carat', 'max')": 2.04,
         "('price', 'mean')": 3405.3821752265862,
         "('price', 'mean_kilo')": 3405.3821752265862,
         "_deepnote_index_column": "('Good', 'D')"
        },
        {
         "('carat', 'min')": 0.23,
         "('carat', 'max')": 3,
         "('price', 'mean')": 3423.6441586280816,
         "('price', 'mean_kilo')": 3423.6441586280816,
         "_deepnote_index_column": "('Good', 'E')"
        },
        {
         "('carat', 'min')": 0.23,
         "('carat', 'max')": 2.67,
         "('price', 'mean')": 3495.7502750275025,
         "('price', 'mean_kilo')": 3495.7502750275025,
         "_deepnote_index_column": "('Good', 'F')"
        },
        {
         "('carat', 'min')": 0.23,
         "('carat', 'max')": 2.8,
         "('price', 'mean')": 4123.482204362801,
         "('price', 'mean_kilo')": 4123.482204362801,
         "_deepnote_index_column": "('Good', 'G')"
        },
        {
         "('carat', 'min')": 0.25,
         "('carat', 'max')": 3.01,
         "('price', 'mean')": 4276.254985754986,
         "('price', 'mean_kilo')": 4276.254985754986,
         "_deepnote_index_column": "('Good', 'H')"
        },
        {
         "('carat', 'min')": 0.3,
         "('carat', 'max')": 3.01,
         "('price', 'mean')": 5078.532567049809,
         "('price', 'mean_kilo')": 5078.532567049809,
         "_deepnote_index_column": "('Good', 'I')"
        },
        {
         "('carat', 'min')": 0.28,
         "('carat', 'max')": 3,
         "('price', 'mean')": 4574.172638436482,
         "('price', 'mean_kilo')": 4574.172638436482,
         "_deepnote_index_column": "('Good', 'J')"
        },
        {
         "('carat', 'min')": 0.25,
         "('carat', 'max')": 3.4,
         "('price', 'mean')": 4291.061349693252,
         "('price', 'mean_kilo')": 4291.061349693252,
         "_deepnote_index_column": "('Fair', 'D')"
        },
        {
         "('carat', 'min')": 0.22,
         "('carat', 'max')": 2.04,
         "('price', 'mean')": 3682.3125,
         "('price', 'mean_kilo')": 3682.3125,
         "_deepnote_index_column": "('Fair', 'E')"
        },
        {
         "('carat', 'min')": 0.25,
         "('carat', 'max')": 2.58,
         "('price', 'mean')": 3827.003205128205,
         "('price', 'mean_kilo')": 3827.003205128205,
         "_deepnote_index_column": "('Fair', 'F')"
        },
        {
         "('carat', 'min')": 0.23,
         "('carat', 'max')": 2.6,
         "('price', 'mean')": 4239.254777070064,
         "('price', 'mean_kilo')": 4239.254777070064,
         "_deepnote_index_column": "('Fair', 'G')"
        },
        {
         "('carat', 'min')": 0.33,
         "('carat', 'max')": 4.13,
         "('price', 'mean')": 5135.683168316832,
         "('price', 'mean_kilo')": 5135.683168316832,
         "_deepnote_index_column": "('Fair', 'H')"
        },
        {
         "('carat', 'min')": 0.41,
         "('carat', 'max')": 3.02,
         "('price', 'mean')": 4685.4457142857145,
         "('price', 'mean_kilo')": 4685.4457142857145,
         "_deepnote_index_column": "('Fair', 'I')"
        },
        {
         "('carat', 'min')": 0.3,
         "('carat', 'max')": 5.01,
         "('price', 'mean')": 4975.655462184874,
         "('price', 'mean_kilo')": 4975.655462184874,
         "_deepnote_index_column": "('Fair', 'J')"
        }
       ],
       "rows_bottom": null
      },
      "text/plain": "                carat           price          \n                  min   max      mean mean_kilo\ncut       color                                \nIdeal     D     0.200 2.750 2,629.095 2,629.095\n          E     0.200 2.280 2,597.550 2,597.550\n          F     0.230 2.450 3,374.939 3,374.939\n          G     0.230 2.540 3,720.706 3,720.706\n          H     0.230 3.500 3,889.335 3,889.335\n          I     0.230 3.220 4,451.970 4,451.970\n          J     0.230 3.010 4,918.186 4,918.186\nPremium   D     0.200 2.570 3,631.293 3,631.293\n          E     0.200 3.050 3,538.914 3,538.914\n          F     0.200 3.010 4,324.890 4,324.890\n          G     0.230 3.010 4,500.742 4,500.742\n          H     0.230 3.240 5,216.707 5,216.707\n          I     0.230 4.010 5,946.181 5,946.181\n          J     0.300 4.010 6,294.592 6,294.592\nVery Good D     0.230 2.580 3,470.467 3,470.467\n          E     0.200 2.510 3,214.652 3,214.652\n          F     0.230 2.480 3,778.820 3,778.820\n          G     0.230 2.520 3,872.754 3,872.754\n          H     0.230 3.000 4,535.390 4,535.390\n          I     0.240 4.000 5,255.880 5,255.880\n          J     0.240 2.740 5,103.513 5,103.513\nGood      D     0.230 2.040 3,405.382 3,405.382\n          E     0.230 3.000 3,423.644 3,423.644\n          F     0.230 2.670 3,495.750 3,495.750\n          G     0.230 2.800 4,123.482 4,123.482\n          H     0.250 3.010 4,276.255 4,276.255\n          I     0.300 3.010 5,078.533 5,078.533\n          J     0.280 3.000 4,574.173 4,574.173\nFair      D     0.250 3.400 4,291.061 4,291.061\n          E     0.220 2.040 3,682.312 3,682.312\n          F     0.250 2.580 3,827.003 3,827.003\n          G     0.230 2.600 4,239.255 4,239.255\n          H     0.330 4.130 5,135.683 5,135.683\n          I     0.410 3.020 4,685.446 4,685.446\n          J     0.300 5.010 4,975.655 4,975.655",
      "text/html": "<div>\n<style scoped>\n    .dataframe tbody tr th:only-of-type {\n        vertical-align: middle;\n    }\n\n    .dataframe tbody tr th {\n        vertical-align: top;\n    }\n\n    .dataframe thead tr th {\n        text-align: left;\n    }\n\n    .dataframe thead tr:last-of-type th {\n        text-align: right;\n    }\n</style>\n<table border=\"1\" class=\"dataframe\">\n  <thead>\n    <tr>\n      <th></th>\n      <th></th>\n      <th colspan=\"2\" halign=\"left\">carat</th>\n      <th colspan=\"2\" halign=\"left\">price</th>\n    </tr>\n    <tr>\n      <th></th>\n      <th></th>\n      <th>min</th>\n      <th>max</th>\n      <th>mean</th>\n      <th>mean_kilo</th>\n    </tr>\n    <tr>\n      <th>cut</th>\n      <th>color</th>\n      <th></th>\n      <th></th>\n      <th></th>\n      <th></th>\n    </tr>\n  </thead>\n  <tbody>\n    <tr>\n      <th rowspan=\"7\" valign=\"top\">Ideal</th>\n      <th>D</th>\n      <td>0.200</td>\n      <td>2.750</td>\n      <td>2,629.095</td>\n      <td>2,629.095</td>\n    </tr>\n    <tr>\n      <th>E</th>\n      <td>0.200</td>\n      <td>2.280</td>\n      <td>2,597.550</td>\n      <td>2,597.550</td>\n    </tr>\n    <tr>\n      <th>F</th>\n      <td>0.230</td>\n      <td>2.450</td>\n      <td>3,374.939</td>\n      <td>3,374.939</td>\n    </tr>\n    <tr>\n      <th>G</th>\n      <td>0.230</td>\n      <td>2.540</td>\n      <td>3,720.706</td>\n      <td>3,720.706</td>\n    </tr>\n    <tr>\n      <th>H</th>\n      <td>0.230</td>\n      <td>3.500</td>\n      <td>3,889.335</td>\n      <td>3,889.335</td>\n    </tr>\n    <tr>\n      <th>I</th>\n      <td>0.230</td>\n      <td>3.220</td>\n      <td>4,451.970</td>\n      <td>4,451.970</td>\n    </tr>\n    <tr>\n      <th>J</th>\n      <td>0.230</td>\n      <td>3.010</td>\n      <td>4,918.186</td>\n      <td>4,918.186</td>\n    </tr>\n    <tr>\n      <th rowspan=\"7\" valign=\"top\">Premium</th>\n      <th>D</th>\n      <td>0.200</td>\n      <td>2.570</td>\n      <td>3,631.293</td>\n      <td>3,631.293</td>\n    </tr>\n    <tr>\n      <th>E</th>\n      <td>0.200</td>\n      <td>3.050</td>\n      <td>3,538.914</td>\n      <td>3,538.914</td>\n    </tr>\n    <tr>\n      <th>F</th>\n      <td>0.200</td>\n      <td>3.010</td>\n      <td>4,324.890</td>\n      <td>4,324.890</td>\n    </tr>\n    <tr>\n      <th>G</th>\n      <td>0.230</td>\n      <td>3.010</td>\n      <td>4,500.742</td>\n      <td>4,500.742</td>\n    </tr>\n    <tr>\n      <th>H</th>\n      <td>0.230</td>\n      <td>3.240</td>\n      <td>5,216.707</td>\n      <td>5,216.707</td>\n    </tr>\n    <tr>\n      <th>I</th>\n      <td>0.230</td>\n      <td>4.010</td>\n      <td>5,946.181</td>\n      <td>5,946.181</td>\n    </tr>\n    <tr>\n      <th>J</th>\n      <td>0.300</td>\n      <td>4.010</td>\n      <td>6,294.592</td>\n      <td>6,294.592</td>\n    </tr>\n    <tr>\n      <th rowspan=\"7\" valign=\"top\">Very Good</th>\n      <th>D</th>\n      <td>0.230</td>\n      <td>2.580</td>\n      <td>3,470.467</td>\n      <td>3,470.467</td>\n    </tr>\n    <tr>\n      <th>E</th>\n      <td>0.200</td>\n      <td>2.510</td>\n      <td>3,214.652</td>\n      <td>3,214.652</td>\n    </tr>\n    <tr>\n      <th>F</th>\n      <td>0.230</td>\n      <td>2.480</td>\n      <td>3,778.820</td>\n      <td>3,778.820</td>\n    </tr>\n    <tr>\n      <th>G</th>\n      <td>0.230</td>\n      <td>2.520</td>\n      <td>3,872.754</td>\n      <td>3,872.754</td>\n    </tr>\n    <tr>\n      <th>H</th>\n      <td>0.230</td>\n      <td>3.000</td>\n      <td>4,535.390</td>\n      <td>4,535.390</td>\n    </tr>\n    <tr>\n      <th>I</th>\n      <td>0.240</td>\n      <td>4.000</td>\n      <td>5,255.880</td>\n      <td>5,255.880</td>\n    </tr>\n    <tr>\n      <th>J</th>\n      <td>0.240</td>\n      <td>2.740</td>\n      <td>5,103.513</td>\n      <td>5,103.513</td>\n    </tr>\n    <tr>\n      <th rowspan=\"7\" valign=\"top\">Good</th>\n      <th>D</th>\n      <td>0.230</td>\n      <td>2.040</td>\n      <td>3,405.382</td>\n      <td>3,405.382</td>\n    </tr>\n    <tr>\n      <th>E</th>\n      <td>0.230</td>\n      <td>3.000</td>\n      <td>3,423.644</td>\n      <td>3,423.644</td>\n    </tr>\n    <tr>\n      <th>F</th>\n      <td>0.230</td>\n      <td>2.670</td>\n      <td>3,495.750</td>\n      <td>3,495.750</td>\n    </tr>\n    <tr>\n      <th>G</th>\n      <td>0.230</td>\n      <td>2.800</td>\n      <td>4,123.482</td>\n      <td>4,123.482</td>\n    </tr>\n    <tr>\n      <th>H</th>\n      <td>0.250</td>\n      <td>3.010</td>\n      <td>4,276.255</td>\n      <td>4,276.255</td>\n    </tr>\n    <tr>\n      <th>I</th>\n      <td>0.300</td>\n      <td>3.010</td>\n      <td>5,078.533</td>\n      <td>5,078.533</td>\n    </tr>\n    <tr>\n      <th>J</th>\n      <td>0.280</td>\n      <td>3.000</td>\n      <td>4,574.173</td>\n      <td>4,574.173</td>\n    </tr>\n    <tr>\n      <th rowspan=\"7\" valign=\"top\">Fair</th>\n      <th>D</th>\n      <td>0.250</td>\n      <td>3.400</td>\n      <td>4,291.061</td>\n      <td>4,291.061</td>\n    </tr>\n    <tr>\n      <th>E</th>\n      <td>0.220</td>\n      <td>2.040</td>\n      <td>3,682.312</td>\n      <td>3,682.312</td>\n    </tr>\n    <tr>\n      <th>F</th>\n      <td>0.250</td>\n      <td>2.580</td>\n      <td>3,827.003</td>\n      <td>3,827.003</td>\n    </tr>\n    <tr>\n      <th>G</th>\n      <td>0.230</td>\n      <td>2.600</td>\n      <td>4,239.255</td>\n      <td>4,239.255</td>\n    </tr>\n    <tr>\n      <th>H</th>\n      <td>0.330</td>\n      <td>4.130</td>\n      <td>5,135.683</td>\n      <td>5,135.683</td>\n    </tr>\n    <tr>\n      <th>I</th>\n      <td>0.410</td>\n      <td>3.020</td>\n      <td>4,685.446</td>\n      <td>4,685.446</td>\n    </tr>\n    <tr>\n      <th>J</th>\n      <td>0.300</td>\n      <td>5.010</td>\n      <td>4,975.655</td>\n      <td>4,975.655</td>\n    </tr>\n  </tbody>\n</table>\n</div>"
     },
     "metadata": {}
    }
   ]
  },
  {
   "cell_type": "markdown",
   "source": "## Funciones de filtros",
   "metadata": {
    "tags": [],
    "cell_id": "00181-b19c03b3-8264-44fb-a88f-a5d29e1b1788",
    "deepnote_cell_type": "markdown"
   }
  },
  {
   "cell_type": "code",
   "metadata": {
    "tags": [],
    "cell_id": "00182-887077fa-ec9f-44c8-87f5-86ed574b85e6",
    "deepnote_to_be_reexecuted": false,
    "source_hash": "4cb2e97a",
    "execution_start": 1625427309185,
    "execution_millis": 40,
    "deepnote_cell_type": "code"
   },
   "source": "def f_filter(x):\n    return mean_kilo(x['price']) > 4\n\ndf.groupby(['cut']).filter(f_filter)",
   "execution_count": 37,
   "outputs": [
    {
     "output_type": "execute_result",
     "execution_count": 37,
     "data": {
      "application/vnd.deepnote.dataframe.v2+json": {
       "row_count": 53940,
       "column_count": 10,
       "columns": [
        {
         "name": "carat",
         "dtype": "float64",
         "stats": {
          "unique_count": 273,
          "nan_count": 0,
          "min": "0.2",
          "max": "5.01",
          "histogram": [
           {
            "bin_start": 0.2,
            "bin_end": 0.681,
            "count": 25155
           },
           {
            "bin_start": 0.681,
            "bin_end": 1.162,
            "count": 18626
           },
           {
            "bin_start": 1.162,
            "bin_end": 1.643,
            "count": 7129
           },
           {
            "bin_start": 1.643,
            "bin_end": 2.124,
            "count": 2349
           },
           {
            "bin_start": 2.124,
            "bin_end": 2.605,
            "count": 614
           },
           {
            "bin_start": 2.605,
            "bin_end": 3.0860000000000003,
            "count": 53
           },
           {
            "bin_start": 3.0860000000000003,
            "bin_end": 3.567,
            "count": 6
           },
           {
            "bin_start": 3.567,
            "bin_end": 4.048,
            "count": 5
           },
           {
            "bin_start": 4.048,
            "bin_end": 4.529,
            "count": 2
           },
           {
            "bin_start": 4.529,
            "bin_end": 5.01,
            "count": 1
           }
          ]
         }
        },
        {
         "name": "cut",
         "dtype": "category"
        },
        {
         "name": "color",
         "dtype": "category"
        },
        {
         "name": "clarity",
         "dtype": "category"
        },
        {
         "name": "depth",
         "dtype": "float64"
        },
        {
         "name": "table",
         "dtype": "float64"
        },
        {
         "name": "price",
         "dtype": "int64"
        },
        {
         "name": "x",
         "dtype": "float64"
        },
        {
         "name": "y",
         "dtype": "float64"
        },
        {
         "name": "z",
         "dtype": "float64"
        },
        {
         "name": "_deepnote_index_column",
         "dtype": "int64"
        }
       ],
       "rows_top": [
        {
         "carat": 0.23,
         "cut": "Ideal",
         "color": "E",
         "clarity": "SI2",
         "depth": 61.5,
         "table": 55,
         "price": 326,
         "x": 3.95,
         "y": 3.98,
         "z": 2.43,
         "_deepnote_index_column": 0
        },
        {
         "carat": 0.21,
         "cut": "Premium",
         "color": "E",
         "clarity": "SI1",
         "depth": 59.8,
         "table": 61,
         "price": 326,
         "x": 3.89,
         "y": 3.84,
         "z": 2.31,
         "_deepnote_index_column": 1
        },
        {
         "carat": 0.23,
         "cut": "Good",
         "color": "E",
         "clarity": "VS1",
         "depth": 56.9,
         "table": 65,
         "price": 327,
         "x": 4.05,
         "y": 4.07,
         "z": 2.31,
         "_deepnote_index_column": 2
        },
        {
         "carat": 0.29,
         "cut": "Premium",
         "color": "I",
         "clarity": "VS2",
         "depth": 62.4,
         "table": 58,
         "price": 334,
         "x": 4.2,
         "y": 4.23,
         "z": 2.63,
         "_deepnote_index_column": 3
        },
        {
         "carat": 0.31,
         "cut": "Good",
         "color": "J",
         "clarity": "SI2",
         "depth": 63.3,
         "table": 58,
         "price": 335,
         "x": 4.34,
         "y": 4.35,
         "z": 2.75,
         "_deepnote_index_column": 4
        },
        {
         "carat": 0.24,
         "cut": "Very Good",
         "color": "J",
         "clarity": "VVS2",
         "depth": 62.8,
         "table": 57,
         "price": 336,
         "x": 3.94,
         "y": 3.96,
         "z": 2.48,
         "_deepnote_index_column": 5
        },
        {
         "carat": 0.24,
         "cut": "Very Good",
         "color": "I",
         "clarity": "VVS1",
         "depth": 62.3,
         "table": 57,
         "price": 336,
         "x": 3.95,
         "y": 3.98,
         "z": 2.47,
         "_deepnote_index_column": 6
        },
        {
         "carat": 0.26,
         "cut": "Very Good",
         "color": "H",
         "clarity": "SI1",
         "depth": 61.9,
         "table": 55,
         "price": 337,
         "x": 4.07,
         "y": 4.11,
         "z": 2.53,
         "_deepnote_index_column": 7
        },
        {
         "carat": 0.22,
         "cut": "Fair",
         "color": "E",
         "clarity": "VS2",
         "depth": 65.1,
         "table": 61,
         "price": 337,
         "x": 3.87,
         "y": 3.78,
         "z": 2.49,
         "_deepnote_index_column": 8
        },
        {
         "carat": 0.23,
         "cut": "Very Good",
         "color": "H",
         "clarity": "VS1",
         "depth": 59.4,
         "table": 61,
         "price": 338,
         "x": 4,
         "y": 4.05,
         "z": 2.39,
         "_deepnote_index_column": 9
        },
        {
         "carat": 0.3,
         "cut": "Good",
         "color": "J",
         "clarity": "SI1",
         "depth": 64,
         "table": 55,
         "price": 339,
         "x": 4.25,
         "y": 4.28,
         "z": 2.73,
         "_deepnote_index_column": 10
        },
        {
         "carat": 0.23,
         "cut": "Ideal",
         "color": "J",
         "clarity": "VS1",
         "depth": 62.8,
         "table": 56,
         "price": 340,
         "x": 3.93,
         "y": 3.9,
         "z": 2.46,
         "_deepnote_index_column": 11
        },
        {
         "carat": 0.22,
         "cut": "Premium",
         "color": "F",
         "clarity": "SI1",
         "depth": 60.4,
         "table": 61,
         "price": 342,
         "x": 3.88,
         "y": 3.84,
         "z": 2.33,
         "_deepnote_index_column": 12
        },
        {
         "carat": 0.31,
         "cut": "Ideal",
         "color": "J",
         "clarity": "SI2",
         "depth": 62.2,
         "table": 54,
         "price": 344,
         "x": 4.35,
         "y": 4.37,
         "z": 2.71,
         "_deepnote_index_column": 13
        },
        {
         "carat": 0.2,
         "cut": "Premium",
         "color": "E",
         "clarity": "SI2",
         "depth": 60.2,
         "table": 62,
         "price": 345,
         "x": 3.79,
         "y": 3.75,
         "z": 2.27,
         "_deepnote_index_column": 14
        },
        {
         "carat": 0.32,
         "cut": "Premium",
         "color": "E",
         "clarity": "I1",
         "depth": 60.9,
         "table": 58,
         "price": 345,
         "x": 4.38,
         "y": 4.42,
         "z": 2.68,
         "_deepnote_index_column": 15
        },
        {
         "carat": 0.3,
         "cut": "Ideal",
         "color": "I",
         "clarity": "SI2",
         "depth": 62,
         "table": 54,
         "price": 348,
         "x": 4.31,
         "y": 4.34,
         "z": 2.68,
         "_deepnote_index_column": 16
        },
        {
         "carat": 0.3,
         "cut": "Good",
         "color": "J",
         "clarity": "SI1",
         "depth": 63.4,
         "table": 54,
         "price": 351,
         "x": 4.23,
         "y": 4.29,
         "z": 2.7,
         "_deepnote_index_column": 17
        },
        {
         "carat": 0.3,
         "cut": "Good",
         "color": "J",
         "clarity": "SI1",
         "depth": 63.8,
         "table": 56,
         "price": 351,
         "x": 4.23,
         "y": 4.26,
         "z": 2.71,
         "_deepnote_index_column": 18
        },
        {
         "carat": 0.3,
         "cut": "Very Good",
         "color": "J",
         "clarity": "SI1",
         "depth": 62.7,
         "table": 59,
         "price": 351,
         "x": 4.21,
         "y": 4.27,
         "z": 2.66,
         "_deepnote_index_column": 19
        },
        {
         "carat": 0.3,
         "cut": "Good",
         "color": "I",
         "clarity": "SI2",
         "depth": 63.3,
         "table": 56,
         "price": 351,
         "x": 4.26,
         "y": 4.3,
         "z": 2.71,
         "_deepnote_index_column": 20
        },
        {
         "carat": 0.23,
         "cut": "Very Good",
         "color": "E",
         "clarity": "VS2",
         "depth": 63.8,
         "table": 55,
         "price": 352,
         "x": 3.85,
         "y": 3.92,
         "z": 2.48,
         "_deepnote_index_column": 21
        },
        {
         "carat": 0.23,
         "cut": "Very Good",
         "color": "H",
         "clarity": "VS1",
         "depth": 61,
         "table": 57,
         "price": 353,
         "x": 3.94,
         "y": 3.96,
         "z": 2.41,
         "_deepnote_index_column": 22
        },
        {
         "carat": 0.31,
         "cut": "Very Good",
         "color": "J",
         "clarity": "SI1",
         "depth": 59.4,
         "table": 62,
         "price": 353,
         "x": 4.39,
         "y": 4.43,
         "z": 2.62,
         "_deepnote_index_column": 23
        },
        {
         "carat": 0.31,
         "cut": "Very Good",
         "color": "J",
         "clarity": "SI1",
         "depth": 58.1,
         "table": 62,
         "price": 353,
         "x": 4.44,
         "y": 4.47,
         "z": 2.59,
         "_deepnote_index_column": 24
        },
        {
         "carat": 0.23,
         "cut": "Very Good",
         "color": "G",
         "clarity": "VVS2",
         "depth": 60.4,
         "table": 58,
         "price": 354,
         "x": 3.97,
         "y": 4.01,
         "z": 2.41,
         "_deepnote_index_column": 25
        },
        {
         "carat": 0.24,
         "cut": "Premium",
         "color": "I",
         "clarity": "VS1",
         "depth": 62.5,
         "table": 57,
         "price": 355,
         "x": 3.97,
         "y": 3.94,
         "z": 2.47,
         "_deepnote_index_column": 26
        },
        {
         "carat": 0.3,
         "cut": "Very Good",
         "color": "J",
         "clarity": "VS2",
         "depth": 62.2,
         "table": 57,
         "price": 357,
         "x": 4.28,
         "y": 4.3,
         "z": 2.67,
         "_deepnote_index_column": 27
        },
        {
         "carat": 0.23,
         "cut": "Very Good",
         "color": "D",
         "clarity": "VS2",
         "depth": 60.5,
         "table": 61,
         "price": 357,
         "x": 3.96,
         "y": 3.97,
         "z": 2.4,
         "_deepnote_index_column": 28
        },
        {
         "carat": 0.23,
         "cut": "Very Good",
         "color": "F",
         "clarity": "VS1",
         "depth": 60.9,
         "table": 57,
         "price": 357,
         "x": 3.96,
         "y": 3.99,
         "z": 2.42,
         "_deepnote_index_column": 29
        },
        {
         "carat": 0.23,
         "cut": "Very Good",
         "color": "F",
         "clarity": "VS1",
         "depth": 60,
         "table": 57,
         "price": 402,
         "x": 4,
         "y": 4.03,
         "z": 2.41,
         "_deepnote_index_column": 30
        },
        {
         "carat": 0.23,
         "cut": "Very Good",
         "color": "F",
         "clarity": "VS1",
         "depth": 59.8,
         "table": 57,
         "price": 402,
         "x": 4.04,
         "y": 4.06,
         "z": 2.42,
         "_deepnote_index_column": 31
        },
        {
         "carat": 0.23,
         "cut": "Very Good",
         "color": "E",
         "clarity": "VS1",
         "depth": 60.7,
         "table": 59,
         "price": 402,
         "x": 3.97,
         "y": 4.01,
         "z": 2.42,
         "_deepnote_index_column": 32
        },
        {
         "carat": 0.23,
         "cut": "Very Good",
         "color": "E",
         "clarity": "VS1",
         "depth": 59.5,
         "table": 58,
         "price": 402,
         "x": 4.01,
         "y": 4.06,
         "z": 2.4,
         "_deepnote_index_column": 33
        },
        {
         "carat": 0.23,
         "cut": "Very Good",
         "color": "D",
         "clarity": "VS1",
         "depth": 61.9,
         "table": 58,
         "price": 402,
         "x": 3.92,
         "y": 3.96,
         "z": 2.44,
         "_deepnote_index_column": 34
        },
        {
         "carat": 0.23,
         "cut": "Good",
         "color": "F",
         "clarity": "VS1",
         "depth": 58.2,
         "table": 59,
         "price": 402,
         "x": 4.06,
         "y": 4.08,
         "z": 2.37,
         "_deepnote_index_column": 35
        },
        {
         "carat": 0.23,
         "cut": "Good",
         "color": "E",
         "clarity": "VS1",
         "depth": 64.1,
         "table": 59,
         "price": 402,
         "x": 3.83,
         "y": 3.85,
         "z": 2.46,
         "_deepnote_index_column": 36
        },
        {
         "carat": 0.31,
         "cut": "Good",
         "color": "H",
         "clarity": "SI1",
         "depth": 64,
         "table": 54,
         "price": 402,
         "x": 4.29,
         "y": 4.31,
         "z": 2.75,
         "_deepnote_index_column": 37
        },
        {
         "carat": 0.26,
         "cut": "Very Good",
         "color": "D",
         "clarity": "VS2",
         "depth": 60.8,
         "table": 59,
         "price": 403,
         "x": 4.13,
         "y": 4.16,
         "z": 2.52,
         "_deepnote_index_column": 38
        },
        {
         "carat": 0.33,
         "cut": "Ideal",
         "color": "I",
         "clarity": "SI2",
         "depth": 61.8,
         "table": 55,
         "price": 403,
         "x": 4.49,
         "y": 4.51,
         "z": 2.78,
         "_deepnote_index_column": 39
        },
        {
         "carat": 0.33,
         "cut": "Ideal",
         "color": "I",
         "clarity": "SI2",
         "depth": 61.2,
         "table": 56,
         "price": 403,
         "x": 4.49,
         "y": 4.5,
         "z": 2.75,
         "_deepnote_index_column": 40
        },
        {
         "carat": 0.33,
         "cut": "Ideal",
         "color": "J",
         "clarity": "SI1",
         "depth": 61.1,
         "table": 56,
         "price": 403,
         "x": 4.49,
         "y": 4.55,
         "z": 2.76,
         "_deepnote_index_column": 41
        },
        {
         "carat": 0.26,
         "cut": "Good",
         "color": "D",
         "clarity": "VS2",
         "depth": 65.2,
         "table": 56,
         "price": 403,
         "x": 3.99,
         "y": 4.02,
         "z": 2.61,
         "_deepnote_index_column": 42
        },
        {
         "carat": 0.26,
         "cut": "Good",
         "color": "D",
         "clarity": "VS1",
         "depth": 58.4,
         "table": 63,
         "price": 403,
         "x": 4.19,
         "y": 4.24,
         "z": 2.46,
         "_deepnote_index_column": 43
        },
        {
         "carat": 0.32,
         "cut": "Good",
         "color": "H",
         "clarity": "SI2",
         "depth": 63.1,
         "table": 56,
         "price": 403,
         "x": 4.34,
         "y": 4.37,
         "z": 2.75,
         "_deepnote_index_column": 44
        },
        {
         "carat": 0.29,
         "cut": "Premium",
         "color": "F",
         "clarity": "SI1",
         "depth": 62.4,
         "table": 58,
         "price": 403,
         "x": 4.24,
         "y": 4.26,
         "z": 2.65,
         "_deepnote_index_column": 45
        },
        {
         "carat": 0.32,
         "cut": "Very Good",
         "color": "H",
         "clarity": "SI2",
         "depth": 61.8,
         "table": 55,
         "price": 403,
         "x": 4.35,
         "y": 4.42,
         "z": 2.71,
         "_deepnote_index_column": 46
        },
        {
         "carat": 0.32,
         "cut": "Good",
         "color": "H",
         "clarity": "SI2",
         "depth": 63.8,
         "table": 56,
         "price": 403,
         "x": 4.36,
         "y": 4.38,
         "z": 2.79,
         "_deepnote_index_column": 47
        },
        {
         "carat": 0.25,
         "cut": "Very Good",
         "color": "E",
         "clarity": "VS2",
         "depth": 63.3,
         "table": 60,
         "price": 404,
         "x": 4,
         "y": 4.03,
         "z": 2.54,
         "_deepnote_index_column": 48
        },
        {
         "carat": 0.29,
         "cut": "Very Good",
         "color": "H",
         "clarity": "SI2",
         "depth": 60.7,
         "table": 60,
         "price": 404,
         "x": 4.33,
         "y": 4.37,
         "z": 2.64,
         "_deepnote_index_column": 49
        }
       ],
       "rows_bottom": [
        {
         "carat": 0.73,
         "cut": "Good",
         "color": "E",
         "clarity": "SI1",
         "depth": 57.9,
         "table": 55,
         "price": 2749,
         "x": 6,
         "y": 5.96,
         "z": 3.46,
         "_deepnote_index_column": 53890
        },
        {
         "carat": 0.56,
         "cut": "Ideal",
         "color": "E",
         "clarity": "VVS1",
         "depth": 62.1,
         "table": 56,
         "price": 2750,
         "x": 5.28,
         "y": 5.29,
         "z": 3.28,
         "_deepnote_index_column": 53891
        },
        {
         "carat": 0.7,
         "cut": "Ideal",
         "color": "F",
         "clarity": "VS1",
         "depth": 62.5,
         "table": 56,
         "price": 2751,
         "x": 5.73,
         "y": 5.7,
         "z": 3.57,
         "_deepnote_index_column": 53892
        },
        {
         "carat": 0.7,
         "cut": "Ideal",
         "color": "F",
         "clarity": "VS1",
         "depth": 62,
         "table": 55,
         "price": 2751,
         "x": 5.74,
         "y": 5.71,
         "z": 3.55,
         "_deepnote_index_column": 53893
        },
        {
         "carat": 0.71,
         "cut": "Ideal",
         "color": "G",
         "clarity": "SI1",
         "depth": 60.5,
         "table": 56.4,
         "price": 2751,
         "x": 5.76,
         "y": 5.8,
         "z": 3.5,
         "_deepnote_index_column": 53894
        },
        {
         "carat": 0.7,
         "cut": "Good",
         "color": "F",
         "clarity": "VS1",
         "depth": 57.8,
         "table": 61,
         "price": 2751,
         "x": 5.83,
         "y": 5.79,
         "z": 3.36,
         "_deepnote_index_column": 53895
        },
        {
         "carat": 0.83,
         "cut": "Ideal",
         "color": "G",
         "clarity": "SI2",
         "depth": 62.4,
         "table": 54,
         "price": 2751,
         "x": 6.01,
         "y": 6.08,
         "z": 3.77,
         "_deepnote_index_column": 53896
        },
        {
         "carat": 1.02,
         "cut": "Good",
         "color": "H",
         "clarity": "I1",
         "depth": 64.3,
         "table": 63,
         "price": 2751,
         "x": 6.28,
         "y": 6.23,
         "z": 4.02,
         "_deepnote_index_column": 53897
        },
        {
         "carat": 0.65,
         "cut": "Very Good",
         "color": "D",
         "clarity": "VS1",
         "depth": 60.8,
         "table": 57.2,
         "price": 2752,
         "x": 5.55,
         "y": 5.63,
         "z": 3.4,
         "_deepnote_index_column": 53898
        },
        {
         "carat": 0.72,
         "cut": "Ideal",
         "color": "H",
         "clarity": "VVS2",
         "depth": 62.3,
         "table": 56,
         "price": 2752,
         "x": 5.74,
         "y": 5.81,
         "z": 3.6,
         "_deepnote_index_column": 53899
        },
        {
         "carat": 0.73,
         "cut": "Ideal",
         "color": "H",
         "clarity": "VS2",
         "depth": 62.5,
         "table": 58,
         "price": 2752,
         "x": 5.71,
         "y": 5.75,
         "z": 3.58,
         "_deepnote_index_column": 53900
        },
        {
         "carat": 0.57,
         "cut": "Premium",
         "color": "E",
         "clarity": "VS1",
         "depth": 61.6,
         "table": 58,
         "price": 2753,
         "x": 5.36,
         "y": 5.33,
         "z": 3.29,
         "_deepnote_index_column": 53901
        },
        {
         "carat": 0.77,
         "cut": "Very Good",
         "color": "E",
         "clarity": "SI2",
         "depth": 59.9,
         "table": 61,
         "price": 2753,
         "x": 5.98,
         "y": 6.01,
         "z": 3.59,
         "_deepnote_index_column": 53902
        },
        {
         "carat": 0.75,
         "cut": "Very Good",
         "color": "E",
         "clarity": "SI1",
         "depth": 62.9,
         "table": 57,
         "price": 2753,
         "x": 5.79,
         "y": 5.84,
         "z": 3.66,
         "_deepnote_index_column": 53903
        },
        {
         "carat": 0.7,
         "cut": "Premium",
         "color": "E",
         "clarity": "SI1",
         "depth": 61.3,
         "table": 58,
         "price": 2753,
         "x": 5.68,
         "y": 5.71,
         "z": 3.49,
         "_deepnote_index_column": 53904
        },
        {
         "carat": 0.7,
         "cut": "Premium",
         "color": "E",
         "clarity": "SI1",
         "depth": 60,
         "table": 59,
         "price": 2753,
         "x": 5.75,
         "y": 5.79,
         "z": 3.46,
         "_deepnote_index_column": 53905
        },
        {
         "carat": 0.75,
         "cut": "Very Good",
         "color": "E",
         "clarity": "SI1",
         "depth": 63,
         "table": 55,
         "price": 2753,
         "x": 5.76,
         "y": 5.79,
         "z": 3.64,
         "_deepnote_index_column": 53906
        },
        {
         "carat": 0.7,
         "cut": "Very Good",
         "color": "E",
         "clarity": "SI1",
         "depth": 61,
         "table": 57,
         "price": 2753,
         "x": 5.68,
         "y": 5.73,
         "z": 3.48,
         "_deepnote_index_column": 53907
        },
        {
         "carat": 0.7,
         "cut": "Very Good",
         "color": "E",
         "clarity": "SI1",
         "depth": 61.2,
         "table": 57,
         "price": 2753,
         "x": 5.68,
         "y": 5.73,
         "z": 3.49,
         "_deepnote_index_column": 53908
        },
        {
         "carat": 0.7,
         "cut": "Very Good",
         "color": "E",
         "clarity": "SI1",
         "depth": 62.7,
         "table": 59,
         "price": 2753,
         "x": 5.63,
         "y": 5.67,
         "z": 3.54,
         "_deepnote_index_column": 53909
        },
        {
         "carat": 0.7,
         "cut": "Premium",
         "color": "E",
         "clarity": "SI1",
         "depth": 60.5,
         "table": 58,
         "price": 2753,
         "x": 5.74,
         "y": 5.77,
         "z": 3.48,
         "_deepnote_index_column": 53910
        },
        {
         "carat": 0.57,
         "cut": "Premium",
         "color": "E",
         "clarity": "IF",
         "depth": 59.8,
         "table": 60,
         "price": 2753,
         "x": 5.43,
         "y": 5.38,
         "z": 3.23,
         "_deepnote_index_column": 53911
        },
        {
         "carat": 0.61,
         "cut": "Premium",
         "color": "F",
         "clarity": "VVS1",
         "depth": 61.8,
         "table": 59,
         "price": 2753,
         "x": 5.48,
         "y": 5.4,
         "z": 3.36,
         "_deepnote_index_column": 53912
        },
        {
         "carat": 0.8,
         "cut": "Good",
         "color": "G",
         "clarity": "VS2",
         "depth": 64.2,
         "table": 58,
         "price": 2753,
         "x": 5.84,
         "y": 5.81,
         "z": 3.74,
         "_deepnote_index_column": 53913
        },
        {
         "carat": 0.84,
         "cut": "Good",
         "color": "I",
         "clarity": "VS1",
         "depth": 63.7,
         "table": 59,
         "price": 2753,
         "x": 5.94,
         "y": 5.9,
         "z": 3.77,
         "_deepnote_index_column": 53914
        },
        {
         "carat": 0.77,
         "cut": "Ideal",
         "color": "E",
         "clarity": "SI2",
         "depth": 62.1,
         "table": 56,
         "price": 2753,
         "x": 5.84,
         "y": 5.86,
         "z": 3.63,
         "_deepnote_index_column": 53915
        },
        {
         "carat": 0.74,
         "cut": "Good",
         "color": "D",
         "clarity": "SI1",
         "depth": 63.1,
         "table": 59,
         "price": 2753,
         "x": 5.71,
         "y": 5.74,
         "z": 3.61,
         "_deepnote_index_column": 53916
        },
        {
         "carat": 0.9,
         "cut": "Very Good",
         "color": "J",
         "clarity": "SI1",
         "depth": 63.2,
         "table": 60,
         "price": 2753,
         "x": 6.12,
         "y": 6.09,
         "z": 3.86,
         "_deepnote_index_column": 53917
        },
        {
         "carat": 0.76,
         "cut": "Premium",
         "color": "I",
         "clarity": "VS1",
         "depth": 59.3,
         "table": 62,
         "price": 2753,
         "x": 5.93,
         "y": 5.85,
         "z": 3.49,
         "_deepnote_index_column": 53918
        },
        {
         "carat": 0.76,
         "cut": "Ideal",
         "color": "I",
         "clarity": "VVS1",
         "depth": 62.2,
         "table": 55,
         "price": 2753,
         "x": 5.89,
         "y": 5.87,
         "z": 3.66,
         "_deepnote_index_column": 53919
        },
        {
         "carat": 0.7,
         "cut": "Very Good",
         "color": "E",
         "clarity": "VS2",
         "depth": 62.4,
         "table": 60,
         "price": 2755,
         "x": 5.57,
         "y": 5.61,
         "z": 3.49,
         "_deepnote_index_column": 53920
        },
        {
         "carat": 0.7,
         "cut": "Very Good",
         "color": "E",
         "clarity": "VS2",
         "depth": 62.8,
         "table": 60,
         "price": 2755,
         "x": 5.59,
         "y": 5.65,
         "z": 3.53,
         "_deepnote_index_column": 53921
        },
        {
         "carat": 0.7,
         "cut": "Very Good",
         "color": "D",
         "clarity": "VS1",
         "depth": 63.1,
         "table": 59,
         "price": 2755,
         "x": 5.67,
         "y": 5.58,
         "z": 3.55,
         "_deepnote_index_column": 53922
        },
        {
         "carat": 0.73,
         "cut": "Ideal",
         "color": "I",
         "clarity": "VS2",
         "depth": 61.3,
         "table": 56,
         "price": 2756,
         "x": 5.8,
         "y": 5.84,
         "z": 3.57,
         "_deepnote_index_column": 53923
        },
        {
         "carat": 0.73,
         "cut": "Ideal",
         "color": "I",
         "clarity": "VS2",
         "depth": 61.6,
         "table": 55,
         "price": 2756,
         "x": 5.82,
         "y": 5.84,
         "z": 3.59,
         "_deepnote_index_column": 53924
        },
        {
         "carat": 0.79,
         "cut": "Ideal",
         "color": "I",
         "clarity": "SI1",
         "depth": 61.6,
         "table": 56,
         "price": 2756,
         "x": 5.95,
         "y": 5.97,
         "z": 3.67,
         "_deepnote_index_column": 53925
        },
        {
         "carat": 0.71,
         "cut": "Ideal",
         "color": "E",
         "clarity": "SI1",
         "depth": 61.9,
         "table": 56,
         "price": 2756,
         "x": 5.71,
         "y": 5.73,
         "z": 3.54,
         "_deepnote_index_column": 53926
        },
        {
         "carat": 0.79,
         "cut": "Good",
         "color": "F",
         "clarity": "SI1",
         "depth": 58.1,
         "table": 59,
         "price": 2756,
         "x": 6.06,
         "y": 6.13,
         "z": 3.54,
         "_deepnote_index_column": 53927
        },
        {
         "carat": 0.79,
         "cut": "Premium",
         "color": "E",
         "clarity": "SI2",
         "depth": 61.4,
         "table": 58,
         "price": 2756,
         "x": 6.03,
         "y": 5.96,
         "z": 3.68,
         "_deepnote_index_column": 53928
        },
        {
         "carat": 0.71,
         "cut": "Ideal",
         "color": "G",
         "clarity": "VS1",
         "depth": 61.4,
         "table": 56,
         "price": 2756,
         "x": 5.76,
         "y": 5.73,
         "z": 3.53,
         "_deepnote_index_column": 53929
        },
        {
         "carat": 0.71,
         "cut": "Premium",
         "color": "E",
         "clarity": "SI1",
         "depth": 60.5,
         "table": 55,
         "price": 2756,
         "x": 5.79,
         "y": 5.74,
         "z": 3.49,
         "_deepnote_index_column": 53930
        },
        {
         "carat": 0.71,
         "cut": "Premium",
         "color": "F",
         "clarity": "SI1",
         "depth": 59.8,
         "table": 62,
         "price": 2756,
         "x": 5.74,
         "y": 5.73,
         "z": 3.43,
         "_deepnote_index_column": 53931
        },
        {
         "carat": 0.7,
         "cut": "Very Good",
         "color": "E",
         "clarity": "VS2",
         "depth": 60.5,
         "table": 59,
         "price": 2757,
         "x": 5.71,
         "y": 5.76,
         "z": 3.47,
         "_deepnote_index_column": 53932
        },
        {
         "carat": 0.7,
         "cut": "Very Good",
         "color": "E",
         "clarity": "VS2",
         "depth": 61.2,
         "table": 59,
         "price": 2757,
         "x": 5.69,
         "y": 5.72,
         "z": 3.49,
         "_deepnote_index_column": 53933
        },
        {
         "carat": 0.72,
         "cut": "Premium",
         "color": "D",
         "clarity": "SI1",
         "depth": 62.7,
         "table": 59,
         "price": 2757,
         "x": 5.69,
         "y": 5.73,
         "z": 3.58,
         "_deepnote_index_column": 53934
        },
        {
         "carat": 0.72,
         "cut": "Ideal",
         "color": "D",
         "clarity": "SI1",
         "depth": 60.8,
         "table": 57,
         "price": 2757,
         "x": 5.75,
         "y": 5.76,
         "z": 3.5,
         "_deepnote_index_column": 53935
        },
        {
         "carat": 0.72,
         "cut": "Good",
         "color": "D",
         "clarity": "SI1",
         "depth": 63.1,
         "table": 55,
         "price": 2757,
         "x": 5.69,
         "y": 5.75,
         "z": 3.61,
         "_deepnote_index_column": 53936
        },
        {
         "carat": 0.7,
         "cut": "Very Good",
         "color": "D",
         "clarity": "SI1",
         "depth": 62.8,
         "table": 60,
         "price": 2757,
         "x": 5.66,
         "y": 5.68,
         "z": 3.56,
         "_deepnote_index_column": 53937
        },
        {
         "carat": 0.86,
         "cut": "Premium",
         "color": "H",
         "clarity": "SI2",
         "depth": 61,
         "table": 58,
         "price": 2757,
         "x": 6.15,
         "y": 6.12,
         "z": 3.74,
         "_deepnote_index_column": 53938
        },
        {
         "carat": 0.75,
         "cut": "Ideal",
         "color": "D",
         "clarity": "SI2",
         "depth": 62.2,
         "table": 55,
         "price": 2757,
         "x": 5.83,
         "y": 5.87,
         "z": 3.64,
         "_deepnote_index_column": 53939
        }
       ]
      },
      "text/plain": "       carat        cut color clarity  depth  table  price     x     y     z\n0      0.230      Ideal     E     SI2 61.500 55.000    326 3.950 3.980 2.430\n1      0.210    Premium     E     SI1 59.800 61.000    326 3.890 3.840 2.310\n2      0.230       Good     E     VS1 56.900 65.000    327 4.050 4.070 2.310\n3      0.290    Premium     I     VS2 62.400 58.000    334 4.200 4.230 2.630\n4      0.310       Good     J     SI2 63.300 58.000    335 4.340 4.350 2.750\n...      ...        ...   ...     ...    ...    ...    ...   ...   ...   ...\n53935  0.720      Ideal     D     SI1 60.800 57.000   2757 5.750 5.760 3.500\n53936  0.720       Good     D     SI1 63.100 55.000   2757 5.690 5.750 3.610\n53937  0.700  Very Good     D     SI1 62.800 60.000   2757 5.660 5.680 3.560\n53938  0.860    Premium     H     SI2 61.000 58.000   2757 6.150 6.120 3.740\n53939  0.750      Ideal     D     SI2 62.200 55.000   2757 5.830 5.870 3.640\n\n[53940 rows x 10 columns]",
      "text/html": "<div>\n<style scoped>\n    .dataframe tbody tr th:only-of-type {\n        vertical-align: middle;\n    }\n\n    .dataframe tbody tr th {\n        vertical-align: top;\n    }\n\n    .dataframe thead th {\n        text-align: right;\n    }\n</style>\n<table border=\"1\" class=\"dataframe\">\n  <thead>\n    <tr style=\"text-align: right;\">\n      <th></th>\n      <th>carat</th>\n      <th>cut</th>\n      <th>color</th>\n      <th>clarity</th>\n      <th>depth</th>\n      <th>table</th>\n      <th>price</th>\n      <th>x</th>\n      <th>y</th>\n      <th>z</th>\n    </tr>\n  </thead>\n  <tbody>\n    <tr>\n      <th>0</th>\n      <td>0.230</td>\n      <td>Ideal</td>\n      <td>E</td>\n      <td>SI2</td>\n      <td>61.500</td>\n      <td>55.000</td>\n      <td>326</td>\n      <td>3.950</td>\n      <td>3.980</td>\n      <td>2.430</td>\n    </tr>\n    <tr>\n      <th>1</th>\n      <td>0.210</td>\n      <td>Premium</td>\n      <td>E</td>\n      <td>SI1</td>\n      <td>59.800</td>\n      <td>61.000</td>\n      <td>326</td>\n      <td>3.890</td>\n      <td>3.840</td>\n      <td>2.310</td>\n    </tr>\n    <tr>\n      <th>2</th>\n      <td>0.230</td>\n      <td>Good</td>\n      <td>E</td>\n      <td>VS1</td>\n      <td>56.900</td>\n      <td>65.000</td>\n      <td>327</td>\n      <td>4.050</td>\n      <td>4.070</td>\n      <td>2.310</td>\n    </tr>\n    <tr>\n      <th>3</th>\n      <td>0.290</td>\n      <td>Premium</td>\n      <td>I</td>\n      <td>VS2</td>\n      <td>62.400</td>\n      <td>58.000</td>\n      <td>334</td>\n      <td>4.200</td>\n      <td>4.230</td>\n      <td>2.630</td>\n    </tr>\n    <tr>\n      <th>4</th>\n      <td>0.310</td>\n      <td>Good</td>\n      <td>J</td>\n      <td>SI2</td>\n      <td>63.300</td>\n      <td>58.000</td>\n      <td>335</td>\n      <td>4.340</td>\n      <td>4.350</td>\n      <td>2.750</td>\n    </tr>\n    <tr>\n      <th>...</th>\n      <td>...</td>\n      <td>...</td>\n      <td>...</td>\n      <td>...</td>\n      <td>...</td>\n      <td>...</td>\n      <td>...</td>\n      <td>...</td>\n      <td>...</td>\n      <td>...</td>\n    </tr>\n    <tr>\n      <th>53935</th>\n      <td>0.720</td>\n      <td>Ideal</td>\n      <td>D</td>\n      <td>SI1</td>\n      <td>60.800</td>\n      <td>57.000</td>\n      <td>2757</td>\n      <td>5.750</td>\n      <td>5.760</td>\n      <td>3.500</td>\n    </tr>\n    <tr>\n      <th>53936</th>\n      <td>0.720</td>\n      <td>Good</td>\n      <td>D</td>\n      <td>SI1</td>\n      <td>63.100</td>\n      <td>55.000</td>\n      <td>2757</td>\n      <td>5.690</td>\n      <td>5.750</td>\n      <td>3.610</td>\n    </tr>\n    <tr>\n      <th>53937</th>\n      <td>0.700</td>\n      <td>Very Good</td>\n      <td>D</td>\n      <td>SI1</td>\n      <td>62.800</td>\n      <td>60.000</td>\n      <td>2757</td>\n      <td>5.660</td>\n      <td>5.680</td>\n      <td>3.560</td>\n    </tr>\n    <tr>\n      <th>53938</th>\n      <td>0.860</td>\n      <td>Premium</td>\n      <td>H</td>\n      <td>SI2</td>\n      <td>61.000</td>\n      <td>58.000</td>\n      <td>2757</td>\n      <td>6.150</td>\n      <td>6.120</td>\n      <td>3.740</td>\n    </tr>\n    <tr>\n      <th>53939</th>\n      <td>0.750</td>\n      <td>Ideal</td>\n      <td>D</td>\n      <td>SI2</td>\n      <td>62.200</td>\n      <td>55.000</td>\n      <td>2757</td>\n      <td>5.830</td>\n      <td>5.870</td>\n      <td>3.640</td>\n    </tr>\n  </tbody>\n</table>\n<p>53940 rows × 10 columns</p>\n</div>"
     },
     "metadata": {}
    }
   ]
  },
  {
   "cell_type": "code",
   "metadata": {
    "tags": [],
    "cell_id": "00183-02e225e3-c283-44e3-ad5b-2c3cd23cc9ba",
    "deepnote_to_be_reexecuted": false,
    "source_hash": "5dfed0f5",
    "execution_start": 1625427325464,
    "execution_millis": 29,
    "deepnote_cell_type": "code"
   },
   "source": "df.groupby(['cut']).filter(f_filter)['cut'].unique()",
   "execution_count": 38,
   "outputs": [
    {
     "output_type": "execute_result",
     "execution_count": 38,
     "data": {
      "text/plain": "['Ideal', 'Premium', 'Good', 'Very Good', 'Fair']\nCategories (5, object): ['Ideal', 'Premium', 'Good', 'Very Good', 'Fair']"
     },
     "metadata": {}
    }
   ]
  },
  {
   "cell_type": "markdown",
   "source": "## Aplicar Aggregation y groupby",
   "metadata": {
    "tags": [],
    "cell_id": "00184-6f4bf10a-62fd-450b-bbe3-5bbbbf2cf98e",
    "deepnote_cell_type": "markdown"
   }
  },
  {
   "cell_type": "code",
   "metadata": {
    "tags": [],
    "cell_id": "00185-82f8668a-6f2c-439c-9ba2-890254521c42",
    "deepnote_to_be_reexecuted": false,
    "source_hash": "d980de1c",
    "execution_start": 1625427439349,
    "execution_millis": 98,
    "deepnote_cell_type": "code"
   },
   "source": "df = sns.load_dataset('tips')",
   "execution_count": 39,
   "outputs": []
  },
  {
   "cell_type": "markdown",
   "source": "Nos muestra el procentaje que tienen nuestros datos correspondiendo a cada dia que se trabaja.",
   "metadata": {
    "tags": [],
    "cell_id": "00185-a8a105c3-aaf6-42fe-bfb7-e5ce24eb0791",
    "deepnote_cell_type": "markdown"
   }
  },
  {
   "cell_type": "code",
   "metadata": {
    "tags": [],
    "cell_id": "00187-5fc4f2cf-906b-4fc3-b217-cc7194e72451",
    "deepnote_to_be_reexecuted": false,
    "source_hash": "e78cad4c",
    "execution_start": 1625427482634,
    "execution_millis": 22,
    "deepnote_cell_type": "code"
   },
   "source": "df['day'].value_counts() / df['day'].value_counts().sum()*100",
   "execution_count": 40,
   "outputs": [
    {
     "output_type": "execute_result",
     "execution_count": 40,
     "data": {
      "text/plain": "Sat    35.656\nSun    31.148\nThur   25.410\nFri     7.787\nName: day, dtype: float64"
     },
     "metadata": {}
    }
   ]
  },
  {
   "cell_type": "markdown",
   "source": "Las gastos totales que hacen cada genero.",
   "metadata": {
    "tags": [],
    "cell_id": "00188-e3be4365-e5b0-48df-ae2e-a8f2a43e8118",
    "deepnote_cell_type": "markdown"
   }
  },
  {
   "cell_type": "code",
   "metadata": {
    "tags": [],
    "cell_id": "00189-b21f6c39-30f0-44d9-b22f-b6d6f2441b02",
    "deepnote_to_be_reexecuted": false,
    "source_hash": "56376942",
    "execution_start": 1625427500512,
    "execution_millis": 24,
    "deepnote_cell_type": "code"
   },
   "source": "df.groupby('sex').median()",
   "execution_count": 41,
   "outputs": [
    {
     "output_type": "execute_result",
     "execution_count": 41,
     "data": {
      "application/vnd.deepnote.dataframe.v2+json": {
       "row_count": 2,
       "column_count": 3,
       "columns": [
        {
         "name": "total_bill",
         "dtype": "float64",
         "stats": {
          "unique_count": 2,
          "nan_count": 0,
          "min": "16.4",
          "max": "18.35",
          "histogram": [
           {
            "bin_start": 16.4,
            "bin_end": 16.595,
            "count": 1
           },
           {
            "bin_start": 16.595,
            "bin_end": 16.79,
            "count": 0
           },
           {
            "bin_start": 16.79,
            "bin_end": 16.985,
            "count": 0
           },
           {
            "bin_start": 16.985,
            "bin_end": 17.18,
            "count": 0
           },
           {
            "bin_start": 17.18,
            "bin_end": 17.375,
            "count": 0
           },
           {
            "bin_start": 17.375,
            "bin_end": 17.57,
            "count": 0
           },
           {
            "bin_start": 17.57,
            "bin_end": 17.765,
            "count": 0
           },
           {
            "bin_start": 17.765,
            "bin_end": 17.96,
            "count": 0
           },
           {
            "bin_start": 17.96,
            "bin_end": 18.155,
            "count": 0
           },
           {
            "bin_start": 18.155,
            "bin_end": 18.35,
            "count": 1
           }
          ]
         }
        },
        {
         "name": "tip",
         "dtype": "float64",
         "stats": {
          "unique_count": 2,
          "nan_count": 0,
          "min": "2.75",
          "max": "3.0",
          "histogram": [
           {
            "bin_start": 2.75,
            "bin_end": 2.775,
            "count": 1
           },
           {
            "bin_start": 2.775,
            "bin_end": 2.8,
            "count": 0
           },
           {
            "bin_start": 2.8,
            "bin_end": 2.825,
            "count": 0
           },
           {
            "bin_start": 2.825,
            "bin_end": 2.85,
            "count": 0
           },
           {
            "bin_start": 2.85,
            "bin_end": 2.875,
            "count": 0
           },
           {
            "bin_start": 2.875,
            "bin_end": 2.9,
            "count": 0
           },
           {
            "bin_start": 2.9,
            "bin_end": 2.925,
            "count": 0
           },
           {
            "bin_start": 2.925,
            "bin_end": 2.95,
            "count": 0
           },
           {
            "bin_start": 2.95,
            "bin_end": 2.975,
            "count": 0
           },
           {
            "bin_start": 2.975,
            "bin_end": 3,
            "count": 1
           }
          ]
         }
        },
        {
         "name": "size",
         "dtype": "int64",
         "stats": {
          "unique_count": 1,
          "nan_count": 0,
          "min": "2",
          "max": "2",
          "histogram": [
           {
            "bin_start": 1.5,
            "bin_end": 1.6,
            "count": 0
           },
           {
            "bin_start": 1.6,
            "bin_end": 1.7,
            "count": 0
           },
           {
            "bin_start": 1.7,
            "bin_end": 1.8,
            "count": 0
           },
           {
            "bin_start": 1.8,
            "bin_end": 1.9,
            "count": 0
           },
           {
            "bin_start": 1.9,
            "bin_end": 2,
            "count": 0
           },
           {
            "bin_start": 2,
            "bin_end": 2.1,
            "count": 2
           },
           {
            "bin_start": 2.1,
            "bin_end": 2.2,
            "count": 0
           },
           {
            "bin_start": 2.2,
            "bin_end": 2.3,
            "count": 0
           },
           {
            "bin_start": 2.3,
            "bin_end": 2.4,
            "count": 0
           },
           {
            "bin_start": 2.4,
            "bin_end": 2.5,
            "count": 0
           }
          ]
         }
        },
        {
         "name": "_deepnote_index_column",
         "dtype": "category"
        }
       ],
       "rows_top": [
        {
         "total_bill": 18.35,
         "tip": 3,
         "size": 2,
         "_deepnote_index_column": "Male"
        },
        {
         "total_bill": 16.4,
         "tip": 2.75,
         "size": 2,
         "_deepnote_index_column": "Female"
        }
       ],
       "rows_bottom": null
      },
      "text/plain": "        total_bill   tip  size\nsex                           \nMale        18.350 3.000     2\nFemale      16.400 2.750     2",
      "text/html": "<div>\n<style scoped>\n    .dataframe tbody tr th:only-of-type {\n        vertical-align: middle;\n    }\n\n    .dataframe tbody tr th {\n        vertical-align: top;\n    }\n\n    .dataframe thead th {\n        text-align: right;\n    }\n</style>\n<table border=\"1\" class=\"dataframe\">\n  <thead>\n    <tr style=\"text-align: right;\">\n      <th></th>\n      <th>total_bill</th>\n      <th>tip</th>\n      <th>size</th>\n    </tr>\n    <tr>\n      <th>sex</th>\n      <th></th>\n      <th></th>\n      <th></th>\n    </tr>\n  </thead>\n  <tbody>\n    <tr>\n      <th>Male</th>\n      <td>18.350</td>\n      <td>3.000</td>\n      <td>2</td>\n    </tr>\n    <tr>\n      <th>Female</th>\n      <td>16.400</td>\n      <td>2.750</td>\n      <td>2</td>\n    </tr>\n  </tbody>\n</table>\n</div>"
     },
     "metadata": {}
    }
   ]
  },
  {
   "cell_type": "markdown",
   "source": "Creamos una columna con el porcentaje de propina que se geneta por el total de una cuenta.",
   "metadata": {
    "tags": [],
    "cell_id": "00190-caac17d3-b3d4-4666-8006-4a26bf206263",
    "deepnote_cell_type": "markdown"
   }
  },
  {
   "cell_type": "code",
   "metadata": {
    "tags": [],
    "cell_id": "00191-0a83709a-d611-4bd3-8424-0c7719247f81",
    "deepnote_to_be_reexecuted": false,
    "source_hash": "ba85365e",
    "execution_start": 1625427524679,
    "execution_millis": 34,
    "deepnote_cell_type": "code"
   },
   "source": "df['prct_tip'] = df['tip']/df['total_bill']\ndf.head(2)",
   "execution_count": 42,
   "outputs": [
    {
     "output_type": "execute_result",
     "execution_count": 42,
     "data": {
      "application/vnd.deepnote.dataframe.v2+json": {
       "row_count": 2,
       "column_count": 8,
       "columns": [
        {
         "name": "total_bill",
         "dtype": "float64",
         "stats": {
          "unique_count": 2,
          "nan_count": 0,
          "min": "10.34",
          "max": "16.99",
          "histogram": [
           {
            "bin_start": 10.34,
            "bin_end": 11.004999999999999,
            "count": 1
           },
           {
            "bin_start": 11.004999999999999,
            "bin_end": 11.67,
            "count": 0
           },
           {
            "bin_start": 11.67,
            "bin_end": 12.334999999999999,
            "count": 0
           },
           {
            "bin_start": 12.334999999999999,
            "bin_end": 13,
            "count": 0
           },
           {
            "bin_start": 13,
            "bin_end": 13.665,
            "count": 0
           },
           {
            "bin_start": 13.665,
            "bin_end": 14.329999999999998,
            "count": 0
           },
           {
            "bin_start": 14.329999999999998,
            "bin_end": 14.994999999999997,
            "count": 0
           },
           {
            "bin_start": 14.994999999999997,
            "bin_end": 15.659999999999998,
            "count": 0
           },
           {
            "bin_start": 15.659999999999998,
            "bin_end": 16.325,
            "count": 0
           },
           {
            "bin_start": 16.325,
            "bin_end": 16.99,
            "count": 1
           }
          ]
         }
        },
        {
         "name": "tip",
         "dtype": "float64",
         "stats": {
          "unique_count": 2,
          "nan_count": 0,
          "min": "1.01",
          "max": "1.66",
          "histogram": [
           {
            "bin_start": 1.01,
            "bin_end": 1.075,
            "count": 1
           },
           {
            "bin_start": 1.075,
            "bin_end": 1.14,
            "count": 0
           },
           {
            "bin_start": 1.14,
            "bin_end": 1.205,
            "count": 0
           },
           {
            "bin_start": 1.205,
            "bin_end": 1.27,
            "count": 0
           },
           {
            "bin_start": 1.27,
            "bin_end": 1.335,
            "count": 0
           },
           {
            "bin_start": 1.335,
            "bin_end": 1.4,
            "count": 0
           },
           {
            "bin_start": 1.4,
            "bin_end": 1.4649999999999999,
            "count": 0
           },
           {
            "bin_start": 1.4649999999999999,
            "bin_end": 1.5299999999999998,
            "count": 0
           },
           {
            "bin_start": 1.5299999999999998,
            "bin_end": 1.5949999999999998,
            "count": 0
           },
           {
            "bin_start": 1.5949999999999998,
            "bin_end": 1.66,
            "count": 1
           }
          ]
         }
        },
        {
         "name": "sex",
         "dtype": "category",
         "stats": {
          "unique_count": 2,
          "nan_count": 0,
          "categories": [
           {
            "name": "Female",
            "count": 1
           },
           {
            "name": "Male",
            "count": 1
           }
          ]
         }
        },
        {
         "name": "smoker",
         "dtype": "category",
         "stats": {
          "unique_count": 1,
          "nan_count": 0,
          "categories": [
           {
            "name": "No",
            "count": 2
           }
          ]
         }
        },
        {
         "name": "day",
         "dtype": "category",
         "stats": {
          "unique_count": 1,
          "nan_count": 0,
          "categories": [
           {
            "name": "Sun",
            "count": 2
           }
          ]
         }
        },
        {
         "name": "time",
         "dtype": "category",
         "stats": {
          "unique_count": 1,
          "nan_count": 0,
          "categories": [
           {
            "name": "Dinner",
            "count": 2
           }
          ]
         }
        },
        {
         "name": "size",
         "dtype": "int64",
         "stats": {
          "unique_count": 2,
          "nan_count": 0,
          "min": "2",
          "max": "3",
          "histogram": [
           {
            "bin_start": 2,
            "bin_end": 2.1,
            "count": 1
           },
           {
            "bin_start": 2.1,
            "bin_end": 2.2,
            "count": 0
           },
           {
            "bin_start": 2.2,
            "bin_end": 2.3,
            "count": 0
           },
           {
            "bin_start": 2.3,
            "bin_end": 2.4,
            "count": 0
           },
           {
            "bin_start": 2.4,
            "bin_end": 2.5,
            "count": 0
           },
           {
            "bin_start": 2.5,
            "bin_end": 2.6,
            "count": 0
           },
           {
            "bin_start": 2.6,
            "bin_end": 2.7,
            "count": 0
           },
           {
            "bin_start": 2.7,
            "bin_end": 2.8,
            "count": 0
           },
           {
            "bin_start": 2.8,
            "bin_end": 2.9,
            "count": 0
           },
           {
            "bin_start": 2.9,
            "bin_end": 3,
            "count": 1
           }
          ]
         }
        },
        {
         "name": "prct_tip",
         "dtype": "float64",
         "stats": {
          "unique_count": 2,
          "nan_count": 0,
          "min": "0.05944673337257211",
          "max": "0.16054158607350097",
          "histogram": [
           {
            "bin_start": 0.05944673337257211,
            "bin_end": 0.069556218642665,
            "count": 1
           },
           {
            "bin_start": 0.069556218642665,
            "bin_end": 0.07966570391275787,
            "count": 0
           },
           {
            "bin_start": 0.07966570391275787,
            "bin_end": 0.08977518918285077,
            "count": 0
           },
           {
            "bin_start": 0.08977518918285077,
            "bin_end": 0.09988467445294365,
            "count": 0
           },
           {
            "bin_start": 0.09988467445294365,
            "bin_end": 0.10999415972303653,
            "count": 0
           },
           {
            "bin_start": 0.10999415972303653,
            "bin_end": 0.12010364499312942,
            "count": 0
           },
           {
            "bin_start": 0.12010364499312942,
            "bin_end": 0.13021313026322232,
            "count": 0
           },
           {
            "bin_start": 0.13021313026322232,
            "bin_end": 0.14032261553331518,
            "count": 0
           },
           {
            "bin_start": 0.14032261553331518,
            "bin_end": 0.15043210080340808,
            "count": 0
           },
           {
            "bin_start": 0.15043210080340808,
            "bin_end": 0.16054158607350097,
            "count": 1
           }
          ]
         }
        },
        {
         "name": "_deepnote_index_column",
         "dtype": "int64"
        }
       ],
       "rows_top": [
        {
         "total_bill": 16.99,
         "tip": 1.01,
         "sex": "Female",
         "smoker": "No",
         "day": "Sun",
         "time": "Dinner",
         "size": 2,
         "prct_tip": 0.05944673337257211,
         "_deepnote_index_column": 0
        },
        {
         "total_bill": 10.34,
         "tip": 1.66,
         "sex": "Male",
         "smoker": "No",
         "day": "Sun",
         "time": "Dinner",
         "size": 3,
         "prct_tip": 0.16054158607350097,
         "_deepnote_index_column": 1
        }
       ],
       "rows_bottom": null
      },
      "text/plain": "   total_bill   tip     sex smoker  day    time  size  prct_tip\n0      16.990 1.010  Female     No  Sun  Dinner     2     0.059\n1      10.340 1.660    Male     No  Sun  Dinner     3     0.161",
      "text/html": "<div>\n<style scoped>\n    .dataframe tbody tr th:only-of-type {\n        vertical-align: middle;\n    }\n\n    .dataframe tbody tr th {\n        vertical-align: top;\n    }\n\n    .dataframe thead th {\n        text-align: right;\n    }\n</style>\n<table border=\"1\" class=\"dataframe\">\n  <thead>\n    <tr style=\"text-align: right;\">\n      <th></th>\n      <th>total_bill</th>\n      <th>tip</th>\n      <th>sex</th>\n      <th>smoker</th>\n      <th>day</th>\n      <th>time</th>\n      <th>size</th>\n      <th>prct_tip</th>\n    </tr>\n  </thead>\n  <tbody>\n    <tr>\n      <th>0</th>\n      <td>16.990</td>\n      <td>1.010</td>\n      <td>Female</td>\n      <td>No</td>\n      <td>Sun</td>\n      <td>Dinner</td>\n      <td>2</td>\n      <td>0.059</td>\n    </tr>\n    <tr>\n      <th>1</th>\n      <td>10.340</td>\n      <td>1.660</td>\n      <td>Male</td>\n      <td>No</td>\n      <td>Sun</td>\n      <td>Dinner</td>\n      <td>3</td>\n      <td>0.161</td>\n    </tr>\n  </tbody>\n</table>\n</div>"
     },
     "metadata": {}
    }
   ]
  },
  {
   "cell_type": "markdown",
   "source": "### Funciones en agrupaciones ",
   "metadata": {
    "tags": [],
    "cell_id": "00192-3621b910-c39f-4b05-9e46-b84f1acecd1b",
    "deepnote_cell_type": "markdown"
   }
  },
  {
   "cell_type": "code",
   "metadata": {
    "tags": [],
    "cell_id": "00193-b2ed4c2f-6f78-41c6-9855-5c0ab296e539",
    "deepnote_to_be_reexecuted": false,
    "source_hash": "4e4db042",
    "execution_start": 1625427595505,
    "execution_millis": 32,
    "deepnote_cell_type": "code"
   },
   "source": "df.groupby('sex')[['prct_tip']].describe()",
   "execution_count": 43,
   "outputs": [
    {
     "output_type": "execute_result",
     "execution_count": 43,
     "data": {
      "application/vnd.deepnote.dataframe.v2+json": {
       "row_count": 2,
       "column_count": 8,
       "columns": [
        {
         "name": [
          "prct_tip",
          "count"
         ],
         "dtype": "float64",
         "stats": {
          "unique_count": 2,
          "nan_count": 0,
          "min": "87.0",
          "max": "157.0",
          "histogram": [
           {
            "bin_start": 87,
            "bin_end": 94,
            "count": 1
           },
           {
            "bin_start": 94,
            "bin_end": 101,
            "count": 0
           },
           {
            "bin_start": 101,
            "bin_end": 108,
            "count": 0
           },
           {
            "bin_start": 108,
            "bin_end": 115,
            "count": 0
           },
           {
            "bin_start": 115,
            "bin_end": 122,
            "count": 0
           },
           {
            "bin_start": 122,
            "bin_end": 129,
            "count": 0
           },
           {
            "bin_start": 129,
            "bin_end": 136,
            "count": 0
           },
           {
            "bin_start": 136,
            "bin_end": 143,
            "count": 0
           },
           {
            "bin_start": 143,
            "bin_end": 150,
            "count": 0
           },
           {
            "bin_start": 150,
            "bin_end": 157,
            "count": 1
           }
          ]
         }
        },
        {
         "name": [
          "prct_tip",
          "mean"
         ],
         "dtype": "float64",
         "stats": {
          "unique_count": 2,
          "nan_count": 0,
          "min": "0.15765054700429743",
          "max": "0.16649073632892478",
          "histogram": [
           {
            "bin_start": 0.15765054700429743,
            "bin_end": 0.15853456593676016,
            "count": 1
           },
           {
            "bin_start": 0.15853456593676016,
            "bin_end": 0.1594185848692229,
            "count": 0
           },
           {
            "bin_start": 0.1594185848692229,
            "bin_end": 0.16030260380168562,
            "count": 0
           },
           {
            "bin_start": 0.16030260380168562,
            "bin_end": 0.16118662273414835,
            "count": 0
           },
           {
            "bin_start": 0.16118662273414835,
            "bin_end": 0.16207064166661111,
            "count": 0
           },
           {
            "bin_start": 0.16207064166661111,
            "bin_end": 0.16295466059907385,
            "count": 0
           },
           {
            "bin_start": 0.16295466059907385,
            "bin_end": 0.16383867953153658,
            "count": 0
           },
           {
            "bin_start": 0.16383867953153658,
            "bin_end": 0.1647226984639993,
            "count": 0
           },
           {
            "bin_start": 0.1647226984639993,
            "bin_end": 0.16560671739646204,
            "count": 0
           },
           {
            "bin_start": 0.16560671739646204,
            "bin_end": 0.16649073632892478,
            "count": 1
           }
          ]
         }
        },
        {
         "name": [
          "prct_tip",
          "std"
         ],
         "dtype": "float64",
         "stats": {
          "unique_count": 2,
          "nan_count": 0,
          "min": "0.0536317262299475",
          "max": "0.06477787270951386",
          "histogram": [
           {
            "bin_start": 0.0536317262299475,
            "bin_end": 0.05474634087790414,
            "count": 1
           },
           {
            "bin_start": 0.05474634087790414,
            "bin_end": 0.055860955525860775,
            "count": 0
           },
           {
            "bin_start": 0.055860955525860775,
            "bin_end": 0.05697557017381741,
            "count": 0
           },
           {
            "bin_start": 0.05697557017381741,
            "bin_end": 0.05809018482177405,
            "count": 0
           },
           {
            "bin_start": 0.05809018482177405,
            "bin_end": 0.05920479946973069,
            "count": 0
           },
           {
            "bin_start": 0.05920479946973069,
            "bin_end": 0.06031941411768732,
            "count": 0
           },
           {
            "bin_start": 0.06031941411768732,
            "bin_end": 0.06143402876564395,
            "count": 0
           },
           {
            "bin_start": 0.06143402876564395,
            "bin_end": 0.06254864341360059,
            "count": 0
           },
           {
            "bin_start": 0.06254864341360059,
            "bin_end": 0.06366325806155723,
            "count": 0
           },
           {
            "bin_start": 0.06366325806155723,
            "bin_end": 0.06477787270951386,
            "count": 1
           }
          ]
         }
        },
        {
         "name": [
          "prct_tip",
          "min"
         ],
         "dtype": "float64",
         "stats": {
          "unique_count": 2,
          "nan_count": 0,
          "min": "0.03563813585135547",
          "max": "0.05643340857787811",
          "histogram": [
           {
            "bin_start": 0.03563813585135547,
            "bin_end": 0.03771766312400773,
            "count": 1
           },
           {
            "bin_start": 0.03771766312400773,
            "bin_end": 0.03979719039665999,
            "count": 0
           },
           {
            "bin_start": 0.03979719039665999,
            "bin_end": 0.04187671766931226,
            "count": 0
           },
           {
            "bin_start": 0.04187671766931226,
            "bin_end": 0.043956244941964526,
            "count": 0
           },
           {
            "bin_start": 0.043956244941964526,
            "bin_end": 0.046035772214616785,
            "count": 0
           },
           {
            "bin_start": 0.046035772214616785,
            "bin_end": 0.04811529948726905,
            "count": 0
           },
           {
            "bin_start": 0.04811529948726905,
            "bin_end": 0.05019482675992132,
            "count": 0
           },
           {
            "bin_start": 0.05019482675992132,
            "bin_end": 0.05227435403257358,
            "count": 0
           },
           {
            "bin_start": 0.05227435403257358,
            "bin_end": 0.054353881305225844,
            "count": 0
           },
           {
            "bin_start": 0.054353881305225844,
            "bin_end": 0.05643340857787811,
            "count": 1
           }
          ]
         }
        },
        {
         "name": [
          "prct_tip",
          "25%"
         ],
         "dtype": "float64",
         "stats": {
          "unique_count": 2,
          "nan_count": 0,
          "min": "0.12138868657441128",
          "max": "0.1404164487840004",
          "histogram": [
           {
            "bin_start": 0.12138868657441128,
            "bin_end": 0.12329146279537019,
            "count": 1
           },
           {
            "bin_start": 0.12329146279537019,
            "bin_end": 0.1251942390163291,
            "count": 0
           },
           {
            "bin_start": 0.1251942390163291,
            "bin_end": 0.127097015237288,
            "count": 0
           },
           {
            "bin_start": 0.127097015237288,
            "bin_end": 0.12899979145824692,
            "count": 0
           },
           {
            "bin_start": 0.12899979145824692,
            "bin_end": 0.13090256767920583,
            "count": 0
           },
           {
            "bin_start": 0.13090256767920583,
            "bin_end": 0.13280534390016474,
            "count": 0
           },
           {
            "bin_start": 0.13280534390016474,
            "bin_end": 0.13470812012112365,
            "count": 0
           },
           {
            "bin_start": 0.13470812012112365,
            "bin_end": 0.13661089634208257,
            "count": 0
           },
           {
            "bin_start": 0.13661089634208257,
            "bin_end": 0.13851367256304148,
            "count": 0
           },
           {
            "bin_start": 0.13851367256304148,
            "bin_end": 0.1404164487840004,
            "count": 1
           }
          ]
         }
        },
        {
         "name": [
          "prct_tip",
          "50%"
         ],
         "dtype": "float64",
         "stats": {
          "unique_count": 2,
          "nan_count": 0,
          "min": "0.15349194167306218",
          "max": "0.15558148580318942",
          "histogram": [
           {
            "bin_start": 0.15349194167306218,
            "bin_end": 0.1537008960860749,
            "count": 1
           },
           {
            "bin_start": 0.1537008960860749,
            "bin_end": 0.15390985049908762,
            "count": 0
           },
           {
            "bin_start": 0.15390985049908762,
            "bin_end": 0.15411880491210037,
            "count": 0
           },
           {
            "bin_start": 0.15411880491210037,
            "bin_end": 0.15432775932511308,
            "count": 0
           },
           {
            "bin_start": 0.15432775932511308,
            "bin_end": 0.1545367137381258,
            "count": 0
           },
           {
            "bin_start": 0.1545367137381258,
            "bin_end": 0.15474566815113852,
            "count": 0
           },
           {
            "bin_start": 0.15474566815113852,
            "bin_end": 0.15495462256415124,
            "count": 0
           },
           {
            "bin_start": 0.15495462256415124,
            "bin_end": 0.15516357697716399,
            "count": 0
           },
           {
            "bin_start": 0.15516357697716399,
            "bin_end": 0.1553725313901767,
            "count": 0
           },
           {
            "bin_start": 0.1553725313901767,
            "bin_end": 0.15558148580318942,
            "count": 1
           }
          ]
         }
        },
        {
         "name": [
          "prct_tip",
          "75%"
         ],
         "dtype": "float64",
         "stats": {
          "unique_count": 2,
          "nan_count": 0,
          "min": "0.18623962040332148",
          "max": "0.1942662127391307",
          "histogram": [
           {
            "bin_start": 0.18623962040332148,
            "bin_end": 0.1870422796369024,
            "count": 1
           },
           {
            "bin_start": 0.1870422796369024,
            "bin_end": 0.1878449388704833,
            "count": 0
           },
           {
            "bin_start": 0.1878449388704833,
            "bin_end": 0.18864759810406426,
            "count": 0
           },
           {
            "bin_start": 0.18864759810406426,
            "bin_end": 0.18945025733764517,
            "count": 0
           },
           {
            "bin_start": 0.18945025733764517,
            "bin_end": 0.1902529165712261,
            "count": 0
           },
           {
            "bin_start": 0.1902529165712261,
            "bin_end": 0.191055575804807,
            "count": 0
           },
           {
            "bin_start": 0.191055575804807,
            "bin_end": 0.19185823503838792,
            "count": 0
           },
           {
            "bin_start": 0.19185823503838792,
            "bin_end": 0.19266089427196886,
            "count": 0
           },
           {
            "bin_start": 0.19266089427196886,
            "bin_end": 0.19346355350554978,
            "count": 0
           },
           {
            "bin_start": 0.19346355350554978,
            "bin_end": 0.1942662127391307,
            "count": 1
           }
          ]
         }
        },
        {
         "name": [
          "prct_tip",
          "max"
         ],
         "dtype": "float64",
         "stats": {
          "unique_count": 2,
          "nan_count": 0,
          "min": "0.4166666666666667",
          "max": "0.710344827586207",
          "histogram": [
           {
            "bin_start": 0.4166666666666667,
            "bin_end": 0.44603448275862073,
            "count": 1
           },
           {
            "bin_start": 0.44603448275862073,
            "bin_end": 0.4754022988505747,
            "count": 0
           },
           {
            "bin_start": 0.4754022988505747,
            "bin_end": 0.5047701149425288,
            "count": 0
           },
           {
            "bin_start": 0.5047701149425288,
            "bin_end": 0.5341379310344828,
            "count": 0
           },
           {
            "bin_start": 0.5341379310344828,
            "bin_end": 0.5635057471264369,
            "count": 0
           },
           {
            "bin_start": 0.5635057471264369,
            "bin_end": 0.5928735632183908,
            "count": 0
           },
           {
            "bin_start": 0.5928735632183908,
            "bin_end": 0.622241379310345,
            "count": 0
           },
           {
            "bin_start": 0.622241379310345,
            "bin_end": 0.6516091954022989,
            "count": 0
           },
           {
            "bin_start": 0.6516091954022989,
            "bin_end": 0.6809770114942529,
            "count": 0
           },
           {
            "bin_start": 0.6809770114942529,
            "bin_end": 0.710344827586207,
            "count": 1
           }
          ]
         }
        },
        {
         "name": "_deepnote_index_column",
         "dtype": "category"
        }
       ],
       "rows_top": [
        {
         "('prct_tip', 'count')": 157,
         "('prct_tip', 'mean')": 0.15765054700429743,
         "('prct_tip', 'std')": 0.06477787270951386,
         "('prct_tip', 'min')": 0.03563813585135547,
         "('prct_tip', '25%')": 0.12138868657441128,
         "('prct_tip', '50%')": 0.15349194167306218,
         "('prct_tip', '75%')": 0.18623962040332148,
         "('prct_tip', 'max')": 0.710344827586207,
         "_deepnote_index_column": "Male"
        },
        {
         "('prct_tip', 'count')": 87,
         "('prct_tip', 'mean')": 0.16649073632892478,
         "('prct_tip', 'std')": 0.0536317262299475,
         "('prct_tip', 'min')": 0.05643340857787811,
         "('prct_tip', '25%')": 0.1404164487840004,
         "('prct_tip', '50%')": 0.15558148580318942,
         "('prct_tip', '75%')": 0.1942662127391307,
         "('prct_tip', 'max')": 0.4166666666666667,
         "_deepnote_index_column": "Female"
        }
       ],
       "rows_bottom": null
      },
      "text/plain": "       prct_tip                                          \n          count  mean   std   min   25%   50%   75%   max\nsex                                                      \nMale    157.000 0.158 0.065 0.036 0.121 0.153 0.186 0.710\nFemale   87.000 0.166 0.054 0.056 0.140 0.156 0.194 0.417",
      "text/html": "<div>\n<style scoped>\n    .dataframe tbody tr th:only-of-type {\n        vertical-align: middle;\n    }\n\n    .dataframe tbody tr th {\n        vertical-align: top;\n    }\n\n    .dataframe thead tr th {\n        text-align: left;\n    }\n\n    .dataframe thead tr:last-of-type th {\n        text-align: right;\n    }\n</style>\n<table border=\"1\" class=\"dataframe\">\n  <thead>\n    <tr>\n      <th></th>\n      <th colspan=\"8\" halign=\"left\">prct_tip</th>\n    </tr>\n    <tr>\n      <th></th>\n      <th>count</th>\n      <th>mean</th>\n      <th>std</th>\n      <th>min</th>\n      <th>25%</th>\n      <th>50%</th>\n      <th>75%</th>\n      <th>max</th>\n    </tr>\n    <tr>\n      <th>sex</th>\n      <th></th>\n      <th></th>\n      <th></th>\n      <th></th>\n      <th></th>\n      <th></th>\n      <th></th>\n      <th></th>\n    </tr>\n  </thead>\n  <tbody>\n    <tr>\n      <th>Male</th>\n      <td>157.000</td>\n      <td>0.158</td>\n      <td>0.065</td>\n      <td>0.036</td>\n      <td>0.121</td>\n      <td>0.153</td>\n      <td>0.186</td>\n      <td>0.710</td>\n    </tr>\n    <tr>\n      <th>Female</th>\n      <td>87.000</td>\n      <td>0.166</td>\n      <td>0.054</td>\n      <td>0.056</td>\n      <td>0.140</td>\n      <td>0.156</td>\n      <td>0.194</td>\n      <td>0.417</td>\n    </tr>\n  </tbody>\n</table>\n</div>"
     },
     "metadata": {}
    }
   ]
  },
  {
   "cell_type": "markdown",
   "source": "### Funciones a multiples grupos",
   "metadata": {
    "tags": [],
    "cell_id": "00194-120b31b5-fee9-4280-9d1b-d0099a221b12",
    "deepnote_cell_type": "markdown"
   }
  },
  {
   "cell_type": "code",
   "metadata": {
    "tags": [],
    "cell_id": "00195-e0331ba5-891e-4245-8681-a7ab29a086b8",
    "deepnote_to_be_reexecuted": false,
    "source_hash": "2753d573",
    "execution_start": 1625427612224,
    "execution_millis": 111,
    "deepnote_cell_type": "code"
   },
   "source": "df.groupby('sex')[['prct_tip','total_bill']].describe()",
   "execution_count": 44,
   "outputs": [
    {
     "output_type": "execute_result",
     "execution_count": 44,
     "data": {
      "application/vnd.deepnote.dataframe.v2+json": {
       "row_count": 2,
       "column_count": 16,
       "columns": [
        {
         "name": [
          "prct_tip",
          "count"
         ],
         "dtype": "float64",
         "stats": {
          "unique_count": 2,
          "nan_count": 0,
          "min": "87.0",
          "max": "157.0",
          "histogram": [
           {
            "bin_start": 87,
            "bin_end": 94,
            "count": 1
           },
           {
            "bin_start": 94,
            "bin_end": 101,
            "count": 0
           },
           {
            "bin_start": 101,
            "bin_end": 108,
            "count": 0
           },
           {
            "bin_start": 108,
            "bin_end": 115,
            "count": 0
           },
           {
            "bin_start": 115,
            "bin_end": 122,
            "count": 0
           },
           {
            "bin_start": 122,
            "bin_end": 129,
            "count": 0
           },
           {
            "bin_start": 129,
            "bin_end": 136,
            "count": 0
           },
           {
            "bin_start": 136,
            "bin_end": 143,
            "count": 0
           },
           {
            "bin_start": 143,
            "bin_end": 150,
            "count": 0
           },
           {
            "bin_start": 150,
            "bin_end": 157,
            "count": 1
           }
          ]
         }
        },
        {
         "name": [
          "prct_tip",
          "mean"
         ],
         "dtype": "float64",
         "stats": {
          "unique_count": 2,
          "nan_count": 0,
          "min": "0.15765054700429743",
          "max": "0.16649073632892478",
          "histogram": [
           {
            "bin_start": 0.15765054700429743,
            "bin_end": 0.15853456593676016,
            "count": 1
           },
           {
            "bin_start": 0.15853456593676016,
            "bin_end": 0.1594185848692229,
            "count": 0
           },
           {
            "bin_start": 0.1594185848692229,
            "bin_end": 0.16030260380168562,
            "count": 0
           },
           {
            "bin_start": 0.16030260380168562,
            "bin_end": 0.16118662273414835,
            "count": 0
           },
           {
            "bin_start": 0.16118662273414835,
            "bin_end": 0.16207064166661111,
            "count": 0
           },
           {
            "bin_start": 0.16207064166661111,
            "bin_end": 0.16295466059907385,
            "count": 0
           },
           {
            "bin_start": 0.16295466059907385,
            "bin_end": 0.16383867953153658,
            "count": 0
           },
           {
            "bin_start": 0.16383867953153658,
            "bin_end": 0.1647226984639993,
            "count": 0
           },
           {
            "bin_start": 0.1647226984639993,
            "bin_end": 0.16560671739646204,
            "count": 0
           },
           {
            "bin_start": 0.16560671739646204,
            "bin_end": 0.16649073632892478,
            "count": 1
           }
          ]
         }
        },
        {
         "name": [
          "prct_tip",
          "std"
         ],
         "dtype": "float64",
         "stats": {
          "unique_count": 2,
          "nan_count": 0,
          "min": "0.0536317262299475",
          "max": "0.06477787270951386",
          "histogram": [
           {
            "bin_start": 0.0536317262299475,
            "bin_end": 0.05474634087790414,
            "count": 1
           },
           {
            "bin_start": 0.05474634087790414,
            "bin_end": 0.055860955525860775,
            "count": 0
           },
           {
            "bin_start": 0.055860955525860775,
            "bin_end": 0.05697557017381741,
            "count": 0
           },
           {
            "bin_start": 0.05697557017381741,
            "bin_end": 0.05809018482177405,
            "count": 0
           },
           {
            "bin_start": 0.05809018482177405,
            "bin_end": 0.05920479946973069,
            "count": 0
           },
           {
            "bin_start": 0.05920479946973069,
            "bin_end": 0.06031941411768732,
            "count": 0
           },
           {
            "bin_start": 0.06031941411768732,
            "bin_end": 0.06143402876564395,
            "count": 0
           },
           {
            "bin_start": 0.06143402876564395,
            "bin_end": 0.06254864341360059,
            "count": 0
           },
           {
            "bin_start": 0.06254864341360059,
            "bin_end": 0.06366325806155723,
            "count": 0
           },
           {
            "bin_start": 0.06366325806155723,
            "bin_end": 0.06477787270951386,
            "count": 1
           }
          ]
         }
        },
        {
         "name": [
          "prct_tip",
          "min"
         ],
         "dtype": "float64",
         "stats": {
          "unique_count": 2,
          "nan_count": 0,
          "min": "0.03563813585135547",
          "max": "0.05643340857787811",
          "histogram": [
           {
            "bin_start": 0.03563813585135547,
            "bin_end": 0.03771766312400773,
            "count": 1
           },
           {
            "bin_start": 0.03771766312400773,
            "bin_end": 0.03979719039665999,
            "count": 0
           },
           {
            "bin_start": 0.03979719039665999,
            "bin_end": 0.04187671766931226,
            "count": 0
           },
           {
            "bin_start": 0.04187671766931226,
            "bin_end": 0.043956244941964526,
            "count": 0
           },
           {
            "bin_start": 0.043956244941964526,
            "bin_end": 0.046035772214616785,
            "count": 0
           },
           {
            "bin_start": 0.046035772214616785,
            "bin_end": 0.04811529948726905,
            "count": 0
           },
           {
            "bin_start": 0.04811529948726905,
            "bin_end": 0.05019482675992132,
            "count": 0
           },
           {
            "bin_start": 0.05019482675992132,
            "bin_end": 0.05227435403257358,
            "count": 0
           },
           {
            "bin_start": 0.05227435403257358,
            "bin_end": 0.054353881305225844,
            "count": 0
           },
           {
            "bin_start": 0.054353881305225844,
            "bin_end": 0.05643340857787811,
            "count": 1
           }
          ]
         }
        },
        {
         "name": [
          "prct_tip",
          "25%"
         ],
         "dtype": "float64",
         "stats": {
          "unique_count": 2,
          "nan_count": 0,
          "min": "0.12138868657441128",
          "max": "0.1404164487840004",
          "histogram": [
           {
            "bin_start": 0.12138868657441128,
            "bin_end": 0.12329146279537019,
            "count": 1
           },
           {
            "bin_start": 0.12329146279537019,
            "bin_end": 0.1251942390163291,
            "count": 0
           },
           {
            "bin_start": 0.1251942390163291,
            "bin_end": 0.127097015237288,
            "count": 0
           },
           {
            "bin_start": 0.127097015237288,
            "bin_end": 0.12899979145824692,
            "count": 0
           },
           {
            "bin_start": 0.12899979145824692,
            "bin_end": 0.13090256767920583,
            "count": 0
           },
           {
            "bin_start": 0.13090256767920583,
            "bin_end": 0.13280534390016474,
            "count": 0
           },
           {
            "bin_start": 0.13280534390016474,
            "bin_end": 0.13470812012112365,
            "count": 0
           },
           {
            "bin_start": 0.13470812012112365,
            "bin_end": 0.13661089634208257,
            "count": 0
           },
           {
            "bin_start": 0.13661089634208257,
            "bin_end": 0.13851367256304148,
            "count": 0
           },
           {
            "bin_start": 0.13851367256304148,
            "bin_end": 0.1404164487840004,
            "count": 1
           }
          ]
         }
        },
        {
         "name": [
          "prct_tip",
          "50%"
         ],
         "dtype": "float64",
         "stats": {
          "unique_count": 2,
          "nan_count": 0,
          "min": "0.15349194167306218",
          "max": "0.15558148580318942",
          "histogram": [
           {
            "bin_start": 0.15349194167306218,
            "bin_end": 0.1537008960860749,
            "count": 1
           },
           {
            "bin_start": 0.1537008960860749,
            "bin_end": 0.15390985049908762,
            "count": 0
           },
           {
            "bin_start": 0.15390985049908762,
            "bin_end": 0.15411880491210037,
            "count": 0
           },
           {
            "bin_start": 0.15411880491210037,
            "bin_end": 0.15432775932511308,
            "count": 0
           },
           {
            "bin_start": 0.15432775932511308,
            "bin_end": 0.1545367137381258,
            "count": 0
           },
           {
            "bin_start": 0.1545367137381258,
            "bin_end": 0.15474566815113852,
            "count": 0
           },
           {
            "bin_start": 0.15474566815113852,
            "bin_end": 0.15495462256415124,
            "count": 0
           },
           {
            "bin_start": 0.15495462256415124,
            "bin_end": 0.15516357697716399,
            "count": 0
           },
           {
            "bin_start": 0.15516357697716399,
            "bin_end": 0.1553725313901767,
            "count": 0
           },
           {
            "bin_start": 0.1553725313901767,
            "bin_end": 0.15558148580318942,
            "count": 1
           }
          ]
         }
        },
        {
         "name": [
          "prct_tip",
          "75%"
         ],
         "dtype": "float64",
         "stats": {
          "unique_count": 2,
          "nan_count": 0,
          "min": "0.18623962040332148",
          "max": "0.1942662127391307",
          "histogram": [
           {
            "bin_start": 0.18623962040332148,
            "bin_end": 0.1870422796369024,
            "count": 1
           },
           {
            "bin_start": 0.1870422796369024,
            "bin_end": 0.1878449388704833,
            "count": 0
           },
           {
            "bin_start": 0.1878449388704833,
            "bin_end": 0.18864759810406426,
            "count": 0
           },
           {
            "bin_start": 0.18864759810406426,
            "bin_end": 0.18945025733764517,
            "count": 0
           },
           {
            "bin_start": 0.18945025733764517,
            "bin_end": 0.1902529165712261,
            "count": 0
           },
           {
            "bin_start": 0.1902529165712261,
            "bin_end": 0.191055575804807,
            "count": 0
           },
           {
            "bin_start": 0.191055575804807,
            "bin_end": 0.19185823503838792,
            "count": 0
           },
           {
            "bin_start": 0.19185823503838792,
            "bin_end": 0.19266089427196886,
            "count": 0
           },
           {
            "bin_start": 0.19266089427196886,
            "bin_end": 0.19346355350554978,
            "count": 0
           },
           {
            "bin_start": 0.19346355350554978,
            "bin_end": 0.1942662127391307,
            "count": 1
           }
          ]
         }
        },
        {
         "name": [
          "prct_tip",
          "max"
         ],
         "dtype": "float64",
         "stats": {
          "unique_count": 2,
          "nan_count": 0,
          "min": "0.4166666666666667",
          "max": "0.710344827586207",
          "histogram": [
           {
            "bin_start": 0.4166666666666667,
            "bin_end": 0.44603448275862073,
            "count": 1
           },
           {
            "bin_start": 0.44603448275862073,
            "bin_end": 0.4754022988505747,
            "count": 0
           },
           {
            "bin_start": 0.4754022988505747,
            "bin_end": 0.5047701149425288,
            "count": 0
           },
           {
            "bin_start": 0.5047701149425288,
            "bin_end": 0.5341379310344828,
            "count": 0
           },
           {
            "bin_start": 0.5341379310344828,
            "bin_end": 0.5635057471264369,
            "count": 0
           },
           {
            "bin_start": 0.5635057471264369,
            "bin_end": 0.5928735632183908,
            "count": 0
           },
           {
            "bin_start": 0.5928735632183908,
            "bin_end": 0.622241379310345,
            "count": 0
           },
           {
            "bin_start": 0.622241379310345,
            "bin_end": 0.6516091954022989,
            "count": 0
           },
           {
            "bin_start": 0.6516091954022989,
            "bin_end": 0.6809770114942529,
            "count": 0
           },
           {
            "bin_start": 0.6809770114942529,
            "bin_end": 0.710344827586207,
            "count": 1
           }
          ]
         }
        },
        {
         "name": [
          "total_bill",
          "count"
         ],
         "dtype": "float64",
         "stats": {
          "unique_count": 2,
          "nan_count": 0,
          "min": "87.0",
          "max": "157.0",
          "histogram": [
           {
            "bin_start": 87,
            "bin_end": 94,
            "count": 1
           },
           {
            "bin_start": 94,
            "bin_end": 101,
            "count": 0
           },
           {
            "bin_start": 101,
            "bin_end": 108,
            "count": 0
           },
           {
            "bin_start": 108,
            "bin_end": 115,
            "count": 0
           },
           {
            "bin_start": 115,
            "bin_end": 122,
            "count": 0
           },
           {
            "bin_start": 122,
            "bin_end": 129,
            "count": 0
           },
           {
            "bin_start": 129,
            "bin_end": 136,
            "count": 0
           },
           {
            "bin_start": 136,
            "bin_end": 143,
            "count": 0
           },
           {
            "bin_start": 143,
            "bin_end": 150,
            "count": 0
           },
           {
            "bin_start": 150,
            "bin_end": 157,
            "count": 1
           }
          ]
         }
        },
        {
         "name": [
          "total_bill",
          "mean"
         ],
         "dtype": "float64",
         "stats": {
          "unique_count": 2,
          "nan_count": 0,
          "min": "18.056896551724133",
          "max": "20.744076433121016",
          "histogram": [
           {
            "bin_start": 18.056896551724133,
            "bin_end": 18.32561453986382,
            "count": 1
           },
           {
            "bin_start": 18.32561453986382,
            "bin_end": 18.59433252800351,
            "count": 0
           },
           {
            "bin_start": 18.59433252800351,
            "bin_end": 18.863050516143197,
            "count": 0
           },
           {
            "bin_start": 18.863050516143197,
            "bin_end": 19.131768504282885,
            "count": 0
           },
           {
            "bin_start": 19.131768504282885,
            "bin_end": 19.400486492422573,
            "count": 0
           },
           {
            "bin_start": 19.400486492422573,
            "bin_end": 19.669204480562264,
            "count": 0
           },
           {
            "bin_start": 19.669204480562264,
            "bin_end": 19.937922468701952,
            "count": 0
           },
           {
            "bin_start": 19.937922468701952,
            "bin_end": 20.20664045684164,
            "count": 0
           },
           {
            "bin_start": 20.20664045684164,
            "bin_end": 20.475358444981328,
            "count": 0
           },
           {
            "bin_start": 20.475358444981328,
            "bin_end": 20.744076433121016,
            "count": 1
           }
          ]
         }
        },
        {
         "name": [
          "total_bill",
          "std"
         ],
         "dtype": "float64",
         "stats": {
          "unique_count": 2,
          "nan_count": 0,
          "min": "8.009208988951961",
          "max": "9.24646876154476",
          "histogram": [
           {
            "bin_start": 8.009208988951961,
            "bin_end": 8.132934966211241,
            "count": 1
           },
           {
            "bin_start": 8.132934966211241,
            "bin_end": 8.256660943470521,
            "count": 0
           },
           {
            "bin_start": 8.256660943470521,
            "bin_end": 8.380386920729801,
            "count": 0
           },
           {
            "bin_start": 8.380386920729801,
            "bin_end": 8.504112897989081,
            "count": 0
           },
           {
            "bin_start": 8.504112897989081,
            "bin_end": 8.627838875248361,
            "count": 0
           },
           {
            "bin_start": 8.627838875248361,
            "bin_end": 8.75156485250764,
            "count": 0
           },
           {
            "bin_start": 8.75156485250764,
            "bin_end": 8.87529082976692,
            "count": 0
           },
           {
            "bin_start": 8.87529082976692,
            "bin_end": 8.9990168070262,
            "count": 0
           },
           {
            "bin_start": 8.9990168070262,
            "bin_end": 9.12274278428548,
            "count": 0
           },
           {
            "bin_start": 9.12274278428548,
            "bin_end": 9.24646876154476,
            "count": 1
           }
          ]
         }
        },
        {
         "name": [
          "total_bill",
          "min"
         ],
         "dtype": "float64",
         "stats": {
          "unique_count": 2,
          "nan_count": 0,
          "min": "3.07",
          "max": "7.25",
          "histogram": [
           {
            "bin_start": 3.07,
            "bin_end": 3.488,
            "count": 1
           },
           {
            "bin_start": 3.488,
            "bin_end": 3.9059999999999997,
            "count": 0
           },
           {
            "bin_start": 3.9059999999999997,
            "bin_end": 4.324,
            "count": 0
           },
           {
            "bin_start": 4.324,
            "bin_end": 4.742,
            "count": 0
           },
           {
            "bin_start": 4.742,
            "bin_end": 5.16,
            "count": 0
           },
           {
            "bin_start": 5.16,
            "bin_end": 5.577999999999999,
            "count": 0
           },
           {
            "bin_start": 5.577999999999999,
            "bin_end": 5.9959999999999996,
            "count": 0
           },
           {
            "bin_start": 5.9959999999999996,
            "bin_end": 6.414,
            "count": 0
           },
           {
            "bin_start": 6.414,
            "bin_end": 6.832,
            "count": 0
           },
           {
            "bin_start": 6.832,
            "bin_end": 7.25,
            "count": 1
           }
          ]
         }
        },
        {
         "name": [
          "total_bill",
          "25%"
         ],
         "dtype": "float64",
         "stats": {
          "unique_count": 2,
          "nan_count": 0,
          "min": "12.75",
          "max": "14.0",
          "histogram": [
           {
            "bin_start": 12.75,
            "bin_end": 12.875,
            "count": 1
           },
           {
            "bin_start": 12.875,
            "bin_end": 13,
            "count": 0
           },
           {
            "bin_start": 13,
            "bin_end": 13.125,
            "count": 0
           },
           {
            "bin_start": 13.125,
            "bin_end": 13.25,
            "count": 0
           },
           {
            "bin_start": 13.25,
            "bin_end": 13.375,
            "count": 0
           },
           {
            "bin_start": 13.375,
            "bin_end": 13.5,
            "count": 0
           },
           {
            "bin_start": 13.5,
            "bin_end": 13.625,
            "count": 0
           },
           {
            "bin_start": 13.625,
            "bin_end": 13.75,
            "count": 0
           },
           {
            "bin_start": 13.75,
            "bin_end": 13.875,
            "count": 0
           },
           {
            "bin_start": 13.875,
            "bin_end": 14,
            "count": 1
           }
          ]
         }
        },
        {
         "name": [
          "total_bill",
          "50%"
         ],
         "dtype": "float64",
         "stats": {
          "unique_count": 2,
          "nan_count": 0,
          "min": "16.4",
          "max": "18.35",
          "histogram": [
           {
            "bin_start": 16.4,
            "bin_end": 16.595,
            "count": 1
           },
           {
            "bin_start": 16.595,
            "bin_end": 16.79,
            "count": 0
           },
           {
            "bin_start": 16.79,
            "bin_end": 16.985,
            "count": 0
           },
           {
            "bin_start": 16.985,
            "bin_end": 17.18,
            "count": 0
           },
           {
            "bin_start": 17.18,
            "bin_end": 17.375,
            "count": 0
           },
           {
            "bin_start": 17.375,
            "bin_end": 17.57,
            "count": 0
           },
           {
            "bin_start": 17.57,
            "bin_end": 17.765,
            "count": 0
           },
           {
            "bin_start": 17.765,
            "bin_end": 17.96,
            "count": 0
           },
           {
            "bin_start": 17.96,
            "bin_end": 18.155,
            "count": 0
           },
           {
            "bin_start": 18.155,
            "bin_end": 18.35,
            "count": 1
           }
          ]
         }
        },
        {
         "name": [
          "total_bill",
          "75%"
         ],
         "dtype": "float64",
         "stats": {
          "unique_count": 2,
          "nan_count": 0,
          "min": "21.520000000000003",
          "max": "24.71",
          "histogram": [
           {
            "bin_start": 21.520000000000003,
            "bin_end": 21.839000000000002,
            "count": 1
           },
           {
            "bin_start": 21.839000000000002,
            "bin_end": 22.158,
            "count": 0
           },
           {
            "bin_start": 22.158,
            "bin_end": 22.477000000000004,
            "count": 0
           },
           {
            "bin_start": 22.477000000000004,
            "bin_end": 22.796000000000003,
            "count": 0
           },
           {
            "bin_start": 22.796000000000003,
            "bin_end": 23.115000000000002,
            "count": 0
           },
           {
            "bin_start": 23.115000000000002,
            "bin_end": 23.434,
            "count": 0
           },
           {
            "bin_start": 23.434,
            "bin_end": 23.753,
            "count": 0
           },
           {
            "bin_start": 23.753,
            "bin_end": 24.072000000000003,
            "count": 0
           },
           {
            "bin_start": 24.072000000000003,
            "bin_end": 24.391000000000002,
            "count": 0
           },
           {
            "bin_start": 24.391000000000002,
            "bin_end": 24.71,
            "count": 1
           }
          ]
         }
        },
        {
         "name": [
          "total_bill",
          "max"
         ],
         "dtype": "float64",
         "stats": {
          "unique_count": 2,
          "nan_count": 0,
          "min": "44.3",
          "max": "50.81",
          "histogram": [
           {
            "bin_start": 44.3,
            "bin_end": 44.951,
            "count": 1
           },
           {
            "bin_start": 44.951,
            "bin_end": 45.602,
            "count": 0
           },
           {
            "bin_start": 45.602,
            "bin_end": 46.253,
            "count": 0
           },
           {
            "bin_start": 46.253,
            "bin_end": 46.903999999999996,
            "count": 0
           },
           {
            "bin_start": 46.903999999999996,
            "bin_end": 47.555,
            "count": 0
           },
           {
            "bin_start": 47.555,
            "bin_end": 48.206,
            "count": 0
           },
           {
            "bin_start": 48.206,
            "bin_end": 48.857,
            "count": 0
           },
           {
            "bin_start": 48.857,
            "bin_end": 49.508,
            "count": 0
           },
           {
            "bin_start": 49.508,
            "bin_end": 50.159,
            "count": 0
           },
           {
            "bin_start": 50.159,
            "bin_end": 50.81,
            "count": 1
           }
          ]
         }
        },
        {
         "name": "_deepnote_index_column",
         "dtype": "category"
        }
       ],
       "rows_top": [
        {
         "('prct_tip', 'count')": 157,
         "('prct_tip', 'mean')": 0.15765054700429743,
         "('prct_tip', 'std')": 0.06477787270951386,
         "('prct_tip', 'min')": 0.03563813585135547,
         "('prct_tip', '25%')": 0.12138868657441128,
         "('prct_tip', '50%')": 0.15349194167306218,
         "('prct_tip', '75%')": 0.18623962040332148,
         "('prct_tip', 'max')": 0.710344827586207,
         "('total_bill', 'count')": 157,
         "('total_bill', 'mean')": 20.744076433121016,
         "('total_bill', 'std')": 9.24646876154476,
         "('total_bill', 'min')": 7.25,
         "('total_bill', '25%')": 14,
         "('total_bill', '50%')": 18.35,
         "('total_bill', '75%')": 24.71,
         "('total_bill', 'max')": 50.81,
         "_deepnote_index_column": "Male"
        },
        {
         "('prct_tip', 'count')": 87,
         "('prct_tip', 'mean')": 0.16649073632892478,
         "('prct_tip', 'std')": 0.0536317262299475,
         "('prct_tip', 'min')": 0.05643340857787811,
         "('prct_tip', '25%')": 0.1404164487840004,
         "('prct_tip', '50%')": 0.15558148580318942,
         "('prct_tip', '75%')": 0.1942662127391307,
         "('prct_tip', 'max')": 0.4166666666666667,
         "('total_bill', 'count')": 87,
         "('total_bill', 'mean')": 18.056896551724133,
         "('total_bill', 'std')": 8.009208988951961,
         "('total_bill', 'min')": 3.07,
         "('total_bill', '25%')": 12.75,
         "('total_bill', '50%')": 16.4,
         "('total_bill', '75%')": 21.520000000000003,
         "('total_bill', 'max')": 44.3,
         "_deepnote_index_column": "Female"
        }
       ],
       "rows_bottom": null
      },
      "text/plain": "       prct_tip                                           total_bill         \\\n          count  mean   std   min   25%   50%   75%   max      count   mean   \nsex                                                                           \nMale    157.000 0.158 0.065 0.036 0.121 0.153 0.186 0.710    157.000 20.744   \nFemale   87.000 0.166 0.054 0.056 0.140 0.156 0.194 0.417     87.000 18.057   \n\n                                                \n         std   min    25%    50%    75%    max  \nsex                                             \nMale   9.246 7.250 14.000 18.350 24.710 50.810  \nFemale 8.009 3.070 12.750 16.400 21.520 44.300  ",
      "text/html": "<div>\n<style scoped>\n    .dataframe tbody tr th:only-of-type {\n        vertical-align: middle;\n    }\n\n    .dataframe tbody tr th {\n        vertical-align: top;\n    }\n\n    .dataframe thead tr th {\n        text-align: left;\n    }\n\n    .dataframe thead tr:last-of-type th {\n        text-align: right;\n    }\n</style>\n<table border=\"1\" class=\"dataframe\">\n  <thead>\n    <tr>\n      <th></th>\n      <th colspan=\"8\" halign=\"left\">prct_tip</th>\n      <th colspan=\"8\" halign=\"left\">total_bill</th>\n    </tr>\n    <tr>\n      <th></th>\n      <th>count</th>\n      <th>mean</th>\n      <th>std</th>\n      <th>min</th>\n      <th>25%</th>\n      <th>50%</th>\n      <th>75%</th>\n      <th>max</th>\n      <th>count</th>\n      <th>mean</th>\n      <th>std</th>\n      <th>min</th>\n      <th>25%</th>\n      <th>50%</th>\n      <th>75%</th>\n      <th>max</th>\n    </tr>\n    <tr>\n      <th>sex</th>\n      <th></th>\n      <th></th>\n      <th></th>\n      <th></th>\n      <th></th>\n      <th></th>\n      <th></th>\n      <th></th>\n      <th></th>\n      <th></th>\n      <th></th>\n      <th></th>\n      <th></th>\n      <th></th>\n      <th></th>\n      <th></th>\n    </tr>\n  </thead>\n  <tbody>\n    <tr>\n      <th>Male</th>\n      <td>157.000</td>\n      <td>0.158</td>\n      <td>0.065</td>\n      <td>0.036</td>\n      <td>0.121</td>\n      <td>0.153</td>\n      <td>0.186</td>\n      <td>0.710</td>\n      <td>157.000</td>\n      <td>20.744</td>\n      <td>9.246</td>\n      <td>7.250</td>\n      <td>14.000</td>\n      <td>18.350</td>\n      <td>24.710</td>\n      <td>50.810</td>\n    </tr>\n    <tr>\n      <th>Female</th>\n      <td>87.000</td>\n      <td>0.166</td>\n      <td>0.054</td>\n      <td>0.056</td>\n      <td>0.140</td>\n      <td>0.156</td>\n      <td>0.194</td>\n      <td>0.417</td>\n      <td>87.000</td>\n      <td>18.057</td>\n      <td>8.009</td>\n      <td>3.070</td>\n      <td>12.750</td>\n      <td>16.400</td>\n      <td>21.520</td>\n      <td>44.300</td>\n    </tr>\n  </tbody>\n</table>\n</div>"
     },
     "metadata": {}
    }
   ]
  },
  {
   "cell_type": "markdown",
   "source": "### Funciones personalizadas",
   "metadata": {
    "tags": [],
    "cell_id": "00196-3f3b787f-acb3-41bf-8177-7c8532e6e49c",
    "deepnote_cell_type": "markdown"
   }
  },
  {
   "cell_type": "code",
   "metadata": {
    "tags": [],
    "cell_id": "00197-4f0879e2-e940-4545-a572-e5043a310173",
    "deepnote_to_be_reexecuted": false,
    "source_hash": "a5d65365",
    "execution_start": 1625427672498,
    "execution_millis": 32,
    "deepnote_cell_type": "code"
   },
   "source": "def mean_eur_to_usd(x):\n    return np.mean(x)*1.12\n\ndf.groupby(['sex','time'])[['prct_tip','total_bill']].apply(mean_eur_to_usd)",
   "execution_count": 45,
   "outputs": [
    {
     "output_type": "execute_result",
     "execution_count": 45,
     "data": {
      "application/vnd.deepnote.dataframe.v2+json": {
       "row_count": 4,
       "column_count": 2,
       "columns": [
        {
         "name": "prct_tip",
         "dtype": "float64",
         "stats": {
          "unique_count": 4,
          "nan_count": 0,
          "min": "0.1740553090246194",
          "max": "0.18964015779263285",
          "histogram": [
           {
            "bin_start": 0.1740553090246194,
            "bin_end": 0.17561379390142076,
            "count": 1
           },
           {
            "bin_start": 0.17561379390142076,
            "bin_end": 0.1771722787782221,
            "count": 0
           },
           {
            "bin_start": 0.1771722787782221,
            "bin_end": 0.17873076365502344,
            "count": 0
           },
           {
            "bin_start": 0.17873076365502344,
            "bin_end": 0.1802892485318248,
            "count": 0
           },
           {
            "bin_start": 0.1802892485318248,
            "bin_end": 0.18184773340862614,
            "count": 1
           },
           {
            "bin_start": 0.18184773340862614,
            "bin_end": 0.18340621828542747,
            "count": 0
           },
           {
            "bin_start": 0.18340621828542747,
            "bin_end": 0.18496470316222882,
            "count": 0
           },
           {
            "bin_start": 0.18496470316222882,
            "bin_end": 0.18652318803903017,
            "count": 1
           },
           {
            "bin_start": 0.18652318803903017,
            "bin_end": 0.1880816729158315,
            "count": 0
           },
           {
            "bin_start": 0.1880816729158315,
            "bin_end": 0.18964015779263285,
            "count": 1
           }
          ]
         }
        },
        {
         "name": "total_bill",
         "dtype": "float64",
         "stats": {
          "unique_count": 4,
          "nan_count": 0,
          "min": "18.299840000000003",
          "max": "24.036825806451617",
          "histogram": [
           {
            "bin_start": 18.299840000000003,
            "bin_end": 18.873538580645164,
            "count": 1
           },
           {
            "bin_start": 18.873538580645164,
            "bin_end": 19.447237161290325,
            "count": 0
           },
           {
            "bin_start": 19.447237161290325,
            "bin_end": 20.02093574193549,
            "count": 0
           },
           {
            "bin_start": 20.02093574193549,
            "bin_end": 20.59463432258065,
            "count": 1
           },
           {
            "bin_start": 20.59463432258065,
            "bin_end": 21.16833290322581,
            "count": 0
           },
           {
            "bin_start": 21.16833290322581,
            "bin_end": 21.74203148387097,
            "count": 1
           },
           {
            "bin_start": 21.74203148387097,
            "bin_end": 22.31573006451613,
            "count": 0
           },
           {
            "bin_start": 22.31573006451613,
            "bin_end": 22.889428645161296,
            "count": 0
           },
           {
            "bin_start": 22.889428645161296,
            "bin_end": 23.463127225806456,
            "count": 0
           },
           {
            "bin_start": 23.463127225806456,
            "bin_end": 24.036825806451617,
            "count": 1
           }
          ]
         }
        },
        {
         "name": "_deepnote_index_column",
         "dtype": "object"
        }
       ],
       "rows_top": [
        {
         "prct_tip": 0.18601254139948048,
         "total_bill": 20.214303030303036,
         "_deepnote_index_column": "('Male', 'Lunch')"
        },
        {
         "prct_tip": 0.1740553090246194,
         "total_bill": 24.036825806451617,
         "_deepnote_index_column": "('Male', 'Dinner')"
        },
        {
         "prct_tip": 0.18175911836210062,
         "total_bill": 18.299840000000003,
         "_deepnote_index_column": "('Female', 'Lunch')"
        },
        {
         "prct_tip": 0.18964015779263285,
         "total_bill": 21.518646153846156,
         "_deepnote_index_column": "('Female', 'Dinner')"
        }
       ],
       "rows_bottom": null
      },
      "text/plain": "               prct_tip  total_bill\nsex    time                        \nMale   Lunch      0.186      20.214\n       Dinner     0.174      24.037\nFemale Lunch      0.182      18.300\n       Dinner     0.190      21.519",
      "text/html": "<div>\n<style scoped>\n    .dataframe tbody tr th:only-of-type {\n        vertical-align: middle;\n    }\n\n    .dataframe tbody tr th {\n        vertical-align: top;\n    }\n\n    .dataframe thead th {\n        text-align: right;\n    }\n</style>\n<table border=\"1\" class=\"dataframe\">\n  <thead>\n    <tr style=\"text-align: right;\">\n      <th></th>\n      <th></th>\n      <th>prct_tip</th>\n      <th>total_bill</th>\n    </tr>\n    <tr>\n      <th>sex</th>\n      <th>time</th>\n      <th></th>\n      <th></th>\n    </tr>\n  </thead>\n  <tbody>\n    <tr>\n      <th rowspan=\"2\" valign=\"top\">Male</th>\n      <th>Lunch</th>\n      <td>0.186</td>\n      <td>20.214</td>\n    </tr>\n    <tr>\n      <th>Dinner</th>\n      <td>0.174</td>\n      <td>24.037</td>\n    </tr>\n    <tr>\n      <th rowspan=\"2\" valign=\"top\">Female</th>\n      <th>Lunch</th>\n      <td>0.182</td>\n      <td>18.300</td>\n    </tr>\n    <tr>\n      <th>Dinner</th>\n      <td>0.190</td>\n      <td>21.519</td>\n    </tr>\n  </tbody>\n</table>\n</div>"
     },
     "metadata": {}
    }
   ]
  },
  {
   "cell_type": "markdown",
   "source": "### Multiples funciones\nObtenemos el valor promedio y maximo de las facturas y las propinas",
   "metadata": {
    "tags": [],
    "cell_id": "00198-089a2494-4881-48f5-9aff-fc325e14deaf",
    "deepnote_cell_type": "markdown"
   }
  },
  {
   "cell_type": "code",
   "metadata": {
    "tags": [],
    "cell_id": "00199-a9dfabf5-f5a7-48d3-b82b-b8786bdd058f",
    "deepnote_to_be_reexecuted": false,
    "source_hash": "186cdf46",
    "execution_start": 1625427754386,
    "execution_millis": 54,
    "deepnote_cell_type": "code"
   },
   "source": "df.groupby(['sex','time'])[['total_bill','prct_tip']].agg([np.mean,np.max])",
   "execution_count": 46,
   "outputs": [
    {
     "output_type": "execute_result",
     "execution_count": 46,
     "data": {
      "application/vnd.deepnote.dataframe.v2+json": {
       "row_count": 4,
       "column_count": 4,
       "columns": [
        {
         "name": [
          "total_bill",
          "mean"
         ],
         "dtype": "float64",
         "stats": {
          "unique_count": 4,
          "nan_count": 0,
          "min": "16.339142857142857",
          "max": "21.461451612903236",
          "histogram": [
           {
            "bin_start": 16.339142857142857,
            "bin_end": 16.851373732718894,
            "count": 1
           },
           {
            "bin_start": 16.851373732718894,
            "bin_end": 17.36360460829493,
            "count": 0
           },
           {
            "bin_start": 17.36360460829493,
            "bin_end": 17.875835483870972,
            "count": 0
           },
           {
            "bin_start": 17.875835483870972,
            "bin_end": 18.38806635944701,
            "count": 1
           },
           {
            "bin_start": 18.38806635944701,
            "bin_end": 18.900297235023046,
            "count": 0
           },
           {
            "bin_start": 18.900297235023046,
            "bin_end": 19.412528110599084,
            "count": 1
           },
           {
            "bin_start": 19.412528110599084,
            "bin_end": 19.92475898617512,
            "count": 0
           },
           {
            "bin_start": 19.92475898617512,
            "bin_end": 20.436989861751158,
            "count": 0
           },
           {
            "bin_start": 20.436989861751158,
            "bin_end": 20.9492207373272,
            "count": 0
           },
           {
            "bin_start": 20.9492207373272,
            "bin_end": 21.461451612903236,
            "count": 1
           }
          ]
         }
        },
        {
         "name": [
          "total_bill",
          "amax"
         ],
         "dtype": "float64",
         "stats": {
          "unique_count": 4,
          "nan_count": 0,
          "min": "41.19",
          "max": "50.81",
          "histogram": [
           {
            "bin_start": 41.19,
            "bin_end": 42.152,
            "count": 1
           },
           {
            "bin_start": 42.152,
            "bin_end": 43.114,
            "count": 1
           },
           {
            "bin_start": 43.114,
            "bin_end": 44.076,
            "count": 0
           },
           {
            "bin_start": 44.076,
            "bin_end": 45.038,
            "count": 1
           },
           {
            "bin_start": 45.038,
            "bin_end": 46,
            "count": 0
           },
           {
            "bin_start": 46,
            "bin_end": 46.962,
            "count": 0
           },
           {
            "bin_start": 46.962,
            "bin_end": 47.924,
            "count": 0
           },
           {
            "bin_start": 47.924,
            "bin_end": 48.886,
            "count": 0
           },
           {
            "bin_start": 48.886,
            "bin_end": 49.848,
            "count": 0
           },
           {
            "bin_start": 49.848,
            "bin_end": 50.81,
            "count": 1
           }
          ]
         }
        },
        {
         "name": [
          "prct_tip",
          "mean"
         ],
         "dtype": "float64",
         "stats": {
          "unique_count": 4,
          "nan_count": 0,
          "min": "0.15540652591483875",
          "max": "0.1693215694577079",
          "histogram": [
           {
            "bin_start": 0.15540652591483875,
            "bin_end": 0.15679803026912567,
            "count": 1
           },
           {
            "bin_start": 0.15679803026912567,
            "bin_end": 0.1581895346234126,
            "count": 0
           },
           {
            "bin_start": 0.1581895346234126,
            "bin_end": 0.15958103897769949,
            "count": 0
           },
           {
            "bin_start": 0.15958103897769949,
            "bin_end": 0.1609725433319864,
            "count": 0
           },
           {
            "bin_start": 0.1609725433319864,
            "bin_end": 0.16236404768627333,
            "count": 1
           },
           {
            "bin_start": 0.16236404768627333,
            "bin_end": 0.16375555204056025,
            "count": 0
           },
           {
            "bin_start": 0.16375555204056025,
            "bin_end": 0.16514705639484717,
            "count": 0
           },
           {
            "bin_start": 0.16514705639484717,
            "bin_end": 0.16653856074913406,
            "count": 1
           },
           {
            "bin_start": 0.16653856074913406,
            "bin_end": 0.16793006510342098,
            "count": 0
           },
           {
            "bin_start": 0.16793006510342098,
            "bin_end": 0.1693215694577079,
            "count": 1
           }
          ]
         }
        },
        {
         "name": [
          "prct_tip",
          "amax"
         ],
         "dtype": "float64",
         "stats": {
          "unique_count": 4,
          "nan_count": 0,
          "min": "0.2593144560357675",
          "max": "0.710344827586207",
          "histogram": [
           {
            "bin_start": 0.2593144560357675,
            "bin_end": 0.30441749319081146,
            "count": 2
           },
           {
            "bin_start": 0.30441749319081146,
            "bin_end": 0.3495205303458554,
            "count": 0
           },
           {
            "bin_start": 0.3495205303458554,
            "bin_end": 0.3946235675008994,
            "count": 0
           },
           {
            "bin_start": 0.3946235675008994,
            "bin_end": 0.4397266046559433,
            "count": 1
           },
           {
            "bin_start": 0.4397266046559433,
            "bin_end": 0.48482964181098726,
            "count": 0
           },
           {
            "bin_start": 0.48482964181098726,
            "bin_end": 0.5299326789660312,
            "count": 0
           },
           {
            "bin_start": 0.5299326789660312,
            "bin_end": 0.5750357161210752,
            "count": 0
           },
           {
            "bin_start": 0.5750357161210752,
            "bin_end": 0.6201387532761191,
            "count": 0
           },
           {
            "bin_start": 0.6201387532761191,
            "bin_end": 0.665241790431163,
            "count": 0
           },
           {
            "bin_start": 0.665241790431163,
            "bin_end": 0.710344827586207,
            "count": 1
           }
          ]
         }
        },
        {
         "name": "_deepnote_index_column",
         "dtype": "object"
        }
       ],
       "rows_top": [
        {
         "('total_bill', 'mean')": 18.048484848484847,
         "('total_bill', 'amax')": 41.19,
         "('prct_tip', 'mean')": 0.16608262624953618,
         "('prct_tip', 'amax')": 0.2663115845539281,
         "_deepnote_index_column": "('Male', 'Lunch')"
        },
        {
         "('total_bill', 'mean')": 21.461451612903236,
         "('total_bill', 'amax')": 50.81,
         "('prct_tip', 'mean')": 0.15540652591483875,
         "('prct_tip', 'amax')": 0.710344827586207,
         "_deepnote_index_column": "('Male', 'Dinner')"
        },
        {
         "('total_bill', 'mean')": 16.339142857142857,
         "('total_bill', 'amax')": 43.11,
         "('prct_tip', 'mean')": 0.16228492710901843,
         "('prct_tip', 'amax')": 0.2593144560357675,
         "_deepnote_index_column": "('Female', 'Lunch')"
        },
        {
         "('total_bill', 'mean')": 19.21307692307692,
         "('total_bill', 'amax')": 44.3,
         "('prct_tip', 'mean')": 0.1693215694577079,
         "('prct_tip', 'amax')": 0.4166666666666667,
         "_deepnote_index_column": "('Female', 'Dinner')"
        }
       ],
       "rows_bottom": null
      },
      "text/plain": "              total_bill        prct_tip      \n                    mean   amax     mean  amax\nsex    time                                   \nMale   Lunch      18.048 41.190    0.166 0.266\n       Dinner     21.461 50.810    0.155 0.710\nFemale Lunch      16.339 43.110    0.162 0.259\n       Dinner     19.213 44.300    0.169 0.417",
      "text/html": "<div>\n<style scoped>\n    .dataframe tbody tr th:only-of-type {\n        vertical-align: middle;\n    }\n\n    .dataframe tbody tr th {\n        vertical-align: top;\n    }\n\n    .dataframe thead tr th {\n        text-align: left;\n    }\n\n    .dataframe thead tr:last-of-type th {\n        text-align: right;\n    }\n</style>\n<table border=\"1\" class=\"dataframe\">\n  <thead>\n    <tr>\n      <th></th>\n      <th></th>\n      <th colspan=\"2\" halign=\"left\">total_bill</th>\n      <th colspan=\"2\" halign=\"left\">prct_tip</th>\n    </tr>\n    <tr>\n      <th></th>\n      <th></th>\n      <th>mean</th>\n      <th>amax</th>\n      <th>mean</th>\n      <th>amax</th>\n    </tr>\n    <tr>\n      <th>sex</th>\n      <th>time</th>\n      <th></th>\n      <th></th>\n      <th></th>\n      <th></th>\n    </tr>\n  </thead>\n  <tbody>\n    <tr>\n      <th rowspan=\"2\" valign=\"top\">Male</th>\n      <th>Lunch</th>\n      <td>18.048</td>\n      <td>41.190</td>\n      <td>0.166</td>\n      <td>0.266</td>\n    </tr>\n    <tr>\n      <th>Dinner</th>\n      <td>21.461</td>\n      <td>50.810</td>\n      <td>0.155</td>\n      <td>0.710</td>\n    </tr>\n    <tr>\n      <th rowspan=\"2\" valign=\"top\">Female</th>\n      <th>Lunch</th>\n      <td>16.339</td>\n      <td>43.110</td>\n      <td>0.162</td>\n      <td>0.259</td>\n    </tr>\n    <tr>\n      <th>Dinner</th>\n      <td>19.213</td>\n      <td>44.300</td>\n      <td>0.169</td>\n      <td>0.417</td>\n    </tr>\n  </tbody>\n</table>\n</div>"
     },
     "metadata": {}
    }
   ]
  },
  {
   "cell_type": "code",
   "metadata": {
    "tags": [],
    "cell_id": "00200-3e8a2f95-3224-4acf-878b-2fe29871089e",
    "deepnote_to_be_reexecuted": false,
    "source_hash": "6a1455f7",
    "execution_start": 1625427778539,
    "execution_millis": 56,
    "deepnote_cell_type": "code"
   },
   "source": "dict_agg = {'tip':[min, max],'total_bill':[np.mean, mean_eur_to_usd]}\ndf.groupby(['sex','time'])[['total_bill','tip']].agg(dict_agg)",
   "execution_count": 47,
   "outputs": [
    {
     "output_type": "execute_result",
     "execution_count": 47,
     "data": {
      "application/vnd.deepnote.dataframe.v2+json": {
       "row_count": 4,
       "column_count": 4,
       "columns": [
        {
         "name": [
          "tip",
          "min"
         ],
         "dtype": "float64",
         "stats": {
          "unique_count": 3,
          "nan_count": 0,
          "min": "1.0",
          "max": "1.44",
          "histogram": [
           {
            "bin_start": 1,
            "bin_end": 1.044,
            "count": 2
           },
           {
            "bin_start": 1.044,
            "bin_end": 1.088,
            "count": 0
           },
           {
            "bin_start": 1.088,
            "bin_end": 1.1320000000000001,
            "count": 0
           },
           {
            "bin_start": 1.1320000000000001,
            "bin_end": 1.176,
            "count": 0
           },
           {
            "bin_start": 1.176,
            "bin_end": 1.22,
            "count": 0
           },
           {
            "bin_start": 1.22,
            "bin_end": 1.264,
            "count": 1
           },
           {
            "bin_start": 1.264,
            "bin_end": 1.308,
            "count": 0
           },
           {
            "bin_start": 1.308,
            "bin_end": 1.3519999999999999,
            "count": 0
           },
           {
            "bin_start": 1.3519999999999999,
            "bin_end": 1.396,
            "count": 0
           },
           {
            "bin_start": 1.396,
            "bin_end": 1.44,
            "count": 1
           }
          ]
         }
        },
        {
         "name": [
          "tip",
          "max"
         ],
         "dtype": "float64",
         "stats": {
          "unique_count": 4,
          "nan_count": 0,
          "min": "5.17",
          "max": "10.0",
          "histogram": [
           {
            "bin_start": 5.17,
            "bin_end": 5.653,
            "count": 1
           },
           {
            "bin_start": 5.653,
            "bin_end": 6.136,
            "count": 0
           },
           {
            "bin_start": 6.136,
            "bin_end": 6.619,
            "count": 1
           },
           {
            "bin_start": 6.619,
            "bin_end": 7.102,
            "count": 1
           },
           {
            "bin_start": 7.102,
            "bin_end": 7.585,
            "count": 0
           },
           {
            "bin_start": 7.585,
            "bin_end": 8.068,
            "count": 0
           },
           {
            "bin_start": 8.068,
            "bin_end": 8.551,
            "count": 0
           },
           {
            "bin_start": 8.551,
            "bin_end": 9.033999999999999,
            "count": 0
           },
           {
            "bin_start": 9.033999999999999,
            "bin_end": 9.517,
            "count": 0
           },
           {
            "bin_start": 9.517,
            "bin_end": 10,
            "count": 1
           }
          ]
         }
        },
        {
         "name": [
          "total_bill",
          "mean"
         ],
         "dtype": "float64",
         "stats": {
          "unique_count": 4,
          "nan_count": 0,
          "min": "16.339142857142857",
          "max": "21.461451612903236",
          "histogram": [
           {
            "bin_start": 16.339142857142857,
            "bin_end": 16.851373732718894,
            "count": 1
           },
           {
            "bin_start": 16.851373732718894,
            "bin_end": 17.36360460829493,
            "count": 0
           },
           {
            "bin_start": 17.36360460829493,
            "bin_end": 17.875835483870972,
            "count": 0
           },
           {
            "bin_start": 17.875835483870972,
            "bin_end": 18.38806635944701,
            "count": 1
           },
           {
            "bin_start": 18.38806635944701,
            "bin_end": 18.900297235023046,
            "count": 0
           },
           {
            "bin_start": 18.900297235023046,
            "bin_end": 19.412528110599084,
            "count": 1
           },
           {
            "bin_start": 19.412528110599084,
            "bin_end": 19.92475898617512,
            "count": 0
           },
           {
            "bin_start": 19.92475898617512,
            "bin_end": 20.436989861751158,
            "count": 0
           },
           {
            "bin_start": 20.436989861751158,
            "bin_end": 20.9492207373272,
            "count": 0
           },
           {
            "bin_start": 20.9492207373272,
            "bin_end": 21.461451612903236,
            "count": 1
           }
          ]
         }
        },
        {
         "name": [
          "total_bill",
          "mean_eur_to_usd"
         ],
         "dtype": "float64",
         "stats": {
          "unique_count": 4,
          "nan_count": 0,
          "min": "18.299840000000003",
          "max": "24.036825806451617",
          "histogram": [
           {
            "bin_start": 18.299840000000003,
            "bin_end": 18.873538580645164,
            "count": 1
           },
           {
            "bin_start": 18.873538580645164,
            "bin_end": 19.447237161290325,
            "count": 0
           },
           {
            "bin_start": 19.447237161290325,
            "bin_end": 20.02093574193549,
            "count": 0
           },
           {
            "bin_start": 20.02093574193549,
            "bin_end": 20.59463432258065,
            "count": 1
           },
           {
            "bin_start": 20.59463432258065,
            "bin_end": 21.16833290322581,
            "count": 0
           },
           {
            "bin_start": 21.16833290322581,
            "bin_end": 21.74203148387097,
            "count": 1
           },
           {
            "bin_start": 21.74203148387097,
            "bin_end": 22.31573006451613,
            "count": 0
           },
           {
            "bin_start": 22.31573006451613,
            "bin_end": 22.889428645161296,
            "count": 0
           },
           {
            "bin_start": 22.889428645161296,
            "bin_end": 23.463127225806456,
            "count": 0
           },
           {
            "bin_start": 23.463127225806456,
            "bin_end": 24.036825806451617,
            "count": 1
           }
          ]
         }
        },
        {
         "name": "_deepnote_index_column",
         "dtype": "object"
        }
       ],
       "rows_top": [
        {
         "('tip', 'min')": 1.44,
         "('tip', 'max')": 6.7,
         "('total_bill', 'mean')": 18.048484848484847,
         "('total_bill', 'mean_eur_to_usd')": 20.214303030303036,
         "_deepnote_index_column": "('Male', 'Lunch')"
        },
        {
         "('tip', 'min')": 1,
         "('tip', 'max')": 10,
         "('total_bill', 'mean')": 21.461451612903236,
         "('total_bill', 'mean_eur_to_usd')": 24.036825806451617,
         "_deepnote_index_column": "('Male', 'Dinner')"
        },
        {
         "('tip', 'min')": 1.25,
         "('tip', 'max')": 5.17,
         "('total_bill', 'mean')": 16.339142857142857,
         "('total_bill', 'mean_eur_to_usd')": 18.299840000000003,
         "_deepnote_index_column": "('Female', 'Lunch')"
        },
        {
         "('tip', 'min')": 1,
         "('tip', 'max')": 6.5,
         "('total_bill', 'mean')": 19.21307692307692,
         "('total_bill', 'mean_eur_to_usd')": 21.518646153846156,
         "_deepnote_index_column": "('Female', 'Dinner')"
        }
       ],
       "rows_bottom": null
      },
      "text/plain": "                tip        total_bill                \n                min    max       mean mean_eur_to_usd\nsex    time                                          \nMale   Lunch  1.440  6.700     18.048          20.214\n       Dinner 1.000 10.000     21.461          24.037\nFemale Lunch  1.250  5.170     16.339          18.300\n       Dinner 1.000  6.500     19.213          21.519",
      "text/html": "<div>\n<style scoped>\n    .dataframe tbody tr th:only-of-type {\n        vertical-align: middle;\n    }\n\n    .dataframe tbody tr th {\n        vertical-align: top;\n    }\n\n    .dataframe thead tr th {\n        text-align: left;\n    }\n\n    .dataframe thead tr:last-of-type th {\n        text-align: right;\n    }\n</style>\n<table border=\"1\" class=\"dataframe\">\n  <thead>\n    <tr>\n      <th></th>\n      <th></th>\n      <th colspan=\"2\" halign=\"left\">tip</th>\n      <th colspan=\"2\" halign=\"left\">total_bill</th>\n    </tr>\n    <tr>\n      <th></th>\n      <th></th>\n      <th>min</th>\n      <th>max</th>\n      <th>mean</th>\n      <th>mean_eur_to_usd</th>\n    </tr>\n    <tr>\n      <th>sex</th>\n      <th>time</th>\n      <th></th>\n      <th></th>\n      <th></th>\n      <th></th>\n    </tr>\n  </thead>\n  <tbody>\n    <tr>\n      <th rowspan=\"2\" valign=\"top\">Male</th>\n      <th>Lunch</th>\n      <td>1.440</td>\n      <td>6.700</td>\n      <td>18.048</td>\n      <td>20.214</td>\n    </tr>\n    <tr>\n      <th>Dinner</th>\n      <td>1.000</td>\n      <td>10.000</td>\n      <td>21.461</td>\n      <td>24.037</td>\n    </tr>\n    <tr>\n      <th rowspan=\"2\" valign=\"top\">Female</th>\n      <th>Lunch</th>\n      <td>1.250</td>\n      <td>5.170</td>\n      <td>16.339</td>\n      <td>18.300</td>\n    </tr>\n    <tr>\n      <th>Dinner</th>\n      <td>1.000</td>\n      <td>6.500</td>\n      <td>19.213</td>\n      <td>21.519</td>\n    </tr>\n  </tbody>\n</table>\n</div>"
     },
     "metadata": {}
    }
   ]
  },
  {
   "cell_type": "markdown",
   "source": "### Filtrar elementos con filtros personalizados",
   "metadata": {
    "tags": [],
    "cell_id": "00201-4ac5f97e-4ff3-4101-a31e-9fe0073c96a3",
    "deepnote_cell_type": "markdown"
   }
  },
  {
   "cell_type": "code",
   "metadata": {
    "tags": [],
    "cell_id": "00202-a6311868-dc85-4b7b-8164-01dd102b2009",
    "deepnote_to_be_reexecuted": false,
    "source_hash": "8d8edc88",
    "execution_start": 1625427825231,
    "execution_millis": 73,
    "deepnote_cell_type": "code"
   },
   "source": "def filter_bill(x):\n    return mean_eur_to_usd(x['total_bill'].mean()) > 20\ndf_filtered = df.groupby(['sex','time']).filter(filter_bill)\ndf_filtered.head(3)",
   "execution_count": 50,
   "outputs": [
    {
     "output_type": "execute_result",
     "execution_count": 50,
     "data": {
      "application/vnd.deepnote.dataframe.v2+json": {
       "row_count": 3,
       "column_count": 8,
       "columns": [
        {
         "name": "total_bill",
         "dtype": "float64",
         "stats": {
          "unique_count": 3,
          "nan_count": 0,
          "min": "10.34",
          "max": "21.01",
          "histogram": [
           {
            "bin_start": 10.34,
            "bin_end": 11.407,
            "count": 1
           },
           {
            "bin_start": 11.407,
            "bin_end": 12.474,
            "count": 0
           },
           {
            "bin_start": 12.474,
            "bin_end": 13.541,
            "count": 0
           },
           {
            "bin_start": 13.541,
            "bin_end": 14.608,
            "count": 0
           },
           {
            "bin_start": 14.608,
            "bin_end": 15.675,
            "count": 0
           },
           {
            "bin_start": 15.675,
            "bin_end": 16.742,
            "count": 0
           },
           {
            "bin_start": 16.742,
            "bin_end": 17.809,
            "count": 1
           },
           {
            "bin_start": 17.809,
            "bin_end": 18.876,
            "count": 0
           },
           {
            "bin_start": 18.876,
            "bin_end": 19.943,
            "count": 0
           },
           {
            "bin_start": 19.943,
            "bin_end": 21.01,
            "count": 1
           }
          ]
         }
        },
        {
         "name": "tip",
         "dtype": "float64",
         "stats": {
          "unique_count": 3,
          "nan_count": 0,
          "min": "1.01",
          "max": "3.5",
          "histogram": [
           {
            "bin_start": 1.01,
            "bin_end": 1.2590000000000001,
            "count": 1
           },
           {
            "bin_start": 1.2590000000000001,
            "bin_end": 1.508,
            "count": 0
           },
           {
            "bin_start": 1.508,
            "bin_end": 1.7570000000000001,
            "count": 1
           },
           {
            "bin_start": 1.7570000000000001,
            "bin_end": 2.0060000000000002,
            "count": 0
           },
           {
            "bin_start": 2.0060000000000002,
            "bin_end": 2.255,
            "count": 0
           },
           {
            "bin_start": 2.255,
            "bin_end": 2.5040000000000004,
            "count": 0
           },
           {
            "bin_start": 2.5040000000000004,
            "bin_end": 2.753,
            "count": 0
           },
           {
            "bin_start": 2.753,
            "bin_end": 3.0020000000000002,
            "count": 0
           },
           {
            "bin_start": 3.0020000000000002,
            "bin_end": 3.2510000000000003,
            "count": 0
           },
           {
            "bin_start": 3.2510000000000003,
            "bin_end": 3.5,
            "count": 1
           }
          ]
         }
        },
        {
         "name": "sex",
         "dtype": "category",
         "stats": {
          "unique_count": 2,
          "nan_count": 0,
          "categories": [
           {
            "name": "Male",
            "count": 2
           },
           {
            "name": "Female",
            "count": 1
           }
          ]
         }
        },
        {
         "name": "smoker",
         "dtype": "category",
         "stats": {
          "unique_count": 1,
          "nan_count": 0,
          "categories": [
           {
            "name": "No",
            "count": 3
           }
          ]
         }
        },
        {
         "name": "day",
         "dtype": "category",
         "stats": {
          "unique_count": 1,
          "nan_count": 0,
          "categories": [
           {
            "name": "Sun",
            "count": 3
           }
          ]
         }
        },
        {
         "name": "time",
         "dtype": "category",
         "stats": {
          "unique_count": 1,
          "nan_count": 0,
          "categories": [
           {
            "name": "Dinner",
            "count": 3
           }
          ]
         }
        },
        {
         "name": "size",
         "dtype": "int64",
         "stats": {
          "unique_count": 2,
          "nan_count": 0,
          "min": "2",
          "max": "3",
          "histogram": [
           {
            "bin_start": 2,
            "bin_end": 2.1,
            "count": 1
           },
           {
            "bin_start": 2.1,
            "bin_end": 2.2,
            "count": 0
           },
           {
            "bin_start": 2.2,
            "bin_end": 2.3,
            "count": 0
           },
           {
            "bin_start": 2.3,
            "bin_end": 2.4,
            "count": 0
           },
           {
            "bin_start": 2.4,
            "bin_end": 2.5,
            "count": 0
           },
           {
            "bin_start": 2.5,
            "bin_end": 2.6,
            "count": 0
           },
           {
            "bin_start": 2.6,
            "bin_end": 2.7,
            "count": 0
           },
           {
            "bin_start": 2.7,
            "bin_end": 2.8,
            "count": 0
           },
           {
            "bin_start": 2.8,
            "bin_end": 2.9,
            "count": 0
           },
           {
            "bin_start": 2.9,
            "bin_end": 3,
            "count": 2
           }
          ]
         }
        },
        {
         "name": "prct_tip",
         "dtype": "float64",
         "stats": {
          "unique_count": 3,
          "nan_count": 0,
          "min": "0.05944673337257211",
          "max": "0.16658733936220846",
          "histogram": [
           {
            "bin_start": 0.05944673337257211,
            "bin_end": 0.07016079397153574,
            "count": 1
           },
           {
            "bin_start": 0.07016079397153574,
            "bin_end": 0.08087485457049938,
            "count": 0
           },
           {
            "bin_start": 0.08087485457049938,
            "bin_end": 0.09158891516946302,
            "count": 0
           },
           {
            "bin_start": 0.09158891516946302,
            "bin_end": 0.10230297576842665,
            "count": 0
           },
           {
            "bin_start": 0.10230297576842665,
            "bin_end": 0.11301703636739027,
            "count": 0
           },
           {
            "bin_start": 0.11301703636739027,
            "bin_end": 0.12373109696635393,
            "count": 0
           },
           {
            "bin_start": 0.12373109696635393,
            "bin_end": 0.13444515756531755,
            "count": 0
           },
           {
            "bin_start": 0.13444515756531755,
            "bin_end": 0.14515921816428118,
            "count": 0
           },
           {
            "bin_start": 0.14515921816428118,
            "bin_end": 0.15587327876324483,
            "count": 0
           },
           {
            "bin_start": 0.15587327876324483,
            "bin_end": 0.16658733936220846,
            "count": 2
           }
          ]
         }
        },
        {
         "name": "_deepnote_index_column",
         "dtype": "int64"
        }
       ],
       "rows_top": [
        {
         "total_bill": 16.99,
         "tip": 1.01,
         "sex": "Female",
         "smoker": "No",
         "day": "Sun",
         "time": "Dinner",
         "size": 2,
         "prct_tip": 0.05944673337257211,
         "_deepnote_index_column": 0
        },
        {
         "total_bill": 10.34,
         "tip": 1.66,
         "sex": "Male",
         "smoker": "No",
         "day": "Sun",
         "time": "Dinner",
         "size": 3,
         "prct_tip": 0.16054158607350097,
         "_deepnote_index_column": 1
        },
        {
         "total_bill": 21.01,
         "tip": 3.5,
         "sex": "Male",
         "smoker": "No",
         "day": "Sun",
         "time": "Dinner",
         "size": 3,
         "prct_tip": 0.16658733936220846,
         "_deepnote_index_column": 2
        }
       ],
       "rows_bottom": null
      },
      "text/plain": "   total_bill   tip     sex smoker  day    time  size  prct_tip\n0      16.990 1.010  Female     No  Sun  Dinner     2     0.059\n1      10.340 1.660    Male     No  Sun  Dinner     3     0.161\n2      21.010 3.500    Male     No  Sun  Dinner     3     0.167",
      "text/html": "<div>\n<style scoped>\n    .dataframe tbody tr th:only-of-type {\n        vertical-align: middle;\n    }\n\n    .dataframe tbody tr th {\n        vertical-align: top;\n    }\n\n    .dataframe thead th {\n        text-align: right;\n    }\n</style>\n<table border=\"1\" class=\"dataframe\">\n  <thead>\n    <tr style=\"text-align: right;\">\n      <th></th>\n      <th>total_bill</th>\n      <th>tip</th>\n      <th>sex</th>\n      <th>smoker</th>\n      <th>day</th>\n      <th>time</th>\n      <th>size</th>\n      <th>prct_tip</th>\n    </tr>\n  </thead>\n  <tbody>\n    <tr>\n      <th>0</th>\n      <td>16.990</td>\n      <td>1.010</td>\n      <td>Female</td>\n      <td>No</td>\n      <td>Sun</td>\n      <td>Dinner</td>\n      <td>2</td>\n      <td>0.059</td>\n    </tr>\n    <tr>\n      <th>1</th>\n      <td>10.340</td>\n      <td>1.660</td>\n      <td>Male</td>\n      <td>No</td>\n      <td>Sun</td>\n      <td>Dinner</td>\n      <td>3</td>\n      <td>0.161</td>\n    </tr>\n    <tr>\n      <th>2</th>\n      <td>21.010</td>\n      <td>3.500</td>\n      <td>Male</td>\n      <td>No</td>\n      <td>Sun</td>\n      <td>Dinner</td>\n      <td>3</td>\n      <td>0.167</td>\n    </tr>\n  </tbody>\n</table>\n</div>"
     },
     "metadata": {}
    }
   ]
  },
  {
   "cell_type": "code",
   "metadata": {
    "tags": [],
    "cell_id": "00203-36b87671-efb0-4ba4-a62f-d10a7db9fe5f",
    "deepnote_to_be_reexecuted": false,
    "source_hash": "90b92535",
    "execution_start": 1625427832242,
    "execution_millis": 50,
    "deepnote_cell_type": "code"
   },
   "source": "df_filtered.groupby(['sex','time']).count()",
   "execution_count": 51,
   "outputs": [
    {
     "output_type": "execute_result",
     "execution_count": 51,
     "data": {
      "application/vnd.deepnote.dataframe.v2+json": {
       "row_count": 4,
       "column_count": 6,
       "columns": [
        {
         "name": "total_bill",
         "dtype": "int64",
         "stats": {
          "unique_count": 4,
          "nan_count": 0,
          "min": "0",
          "max": "124",
          "histogram": [
           {
            "bin_start": 0,
            "bin_end": 12.4,
            "count": 1
           },
           {
            "bin_start": 12.4,
            "bin_end": 24.8,
            "count": 0
           },
           {
            "bin_start": 24.8,
            "bin_end": 37.2,
            "count": 1
           },
           {
            "bin_start": 37.2,
            "bin_end": 49.6,
            "count": 0
           },
           {
            "bin_start": 49.6,
            "bin_end": 62,
            "count": 1
           },
           {
            "bin_start": 62,
            "bin_end": 74.4,
            "count": 0
           },
           {
            "bin_start": 74.4,
            "bin_end": 86.8,
            "count": 0
           },
           {
            "bin_start": 86.8,
            "bin_end": 99.2,
            "count": 0
           },
           {
            "bin_start": 99.2,
            "bin_end": 111.60000000000001,
            "count": 0
           },
           {
            "bin_start": 111.60000000000001,
            "bin_end": 124,
            "count": 1
           }
          ]
         }
        },
        {
         "name": "tip",
         "dtype": "int64",
         "stats": {
          "unique_count": 4,
          "nan_count": 0,
          "min": "0",
          "max": "124",
          "histogram": [
           {
            "bin_start": 0,
            "bin_end": 12.4,
            "count": 1
           },
           {
            "bin_start": 12.4,
            "bin_end": 24.8,
            "count": 0
           },
           {
            "bin_start": 24.8,
            "bin_end": 37.2,
            "count": 1
           },
           {
            "bin_start": 37.2,
            "bin_end": 49.6,
            "count": 0
           },
           {
            "bin_start": 49.6,
            "bin_end": 62,
            "count": 1
           },
           {
            "bin_start": 62,
            "bin_end": 74.4,
            "count": 0
           },
           {
            "bin_start": 74.4,
            "bin_end": 86.8,
            "count": 0
           },
           {
            "bin_start": 86.8,
            "bin_end": 99.2,
            "count": 0
           },
           {
            "bin_start": 99.2,
            "bin_end": 111.60000000000001,
            "count": 0
           },
           {
            "bin_start": 111.60000000000001,
            "bin_end": 124,
            "count": 1
           }
          ]
         }
        },
        {
         "name": "smoker",
         "dtype": "int64",
         "stats": {
          "unique_count": 4,
          "nan_count": 0,
          "min": "0",
          "max": "124",
          "histogram": [
           {
            "bin_start": 0,
            "bin_end": 12.4,
            "count": 1
           },
           {
            "bin_start": 12.4,
            "bin_end": 24.8,
            "count": 0
           },
           {
            "bin_start": 24.8,
            "bin_end": 37.2,
            "count": 1
           },
           {
            "bin_start": 37.2,
            "bin_end": 49.6,
            "count": 0
           },
           {
            "bin_start": 49.6,
            "bin_end": 62,
            "count": 1
           },
           {
            "bin_start": 62,
            "bin_end": 74.4,
            "count": 0
           },
           {
            "bin_start": 74.4,
            "bin_end": 86.8,
            "count": 0
           },
           {
            "bin_start": 86.8,
            "bin_end": 99.2,
            "count": 0
           },
           {
            "bin_start": 99.2,
            "bin_end": 111.60000000000001,
            "count": 0
           },
           {
            "bin_start": 111.60000000000001,
            "bin_end": 124,
            "count": 1
           }
          ]
         }
        },
        {
         "name": "day",
         "dtype": "int64",
         "stats": {
          "unique_count": 4,
          "nan_count": 0,
          "min": "0",
          "max": "124",
          "histogram": [
           {
            "bin_start": 0,
            "bin_end": 12.4,
            "count": 1
           },
           {
            "bin_start": 12.4,
            "bin_end": 24.8,
            "count": 0
           },
           {
            "bin_start": 24.8,
            "bin_end": 37.2,
            "count": 1
           },
           {
            "bin_start": 37.2,
            "bin_end": 49.6,
            "count": 0
           },
           {
            "bin_start": 49.6,
            "bin_end": 62,
            "count": 1
           },
           {
            "bin_start": 62,
            "bin_end": 74.4,
            "count": 0
           },
           {
            "bin_start": 74.4,
            "bin_end": 86.8,
            "count": 0
           },
           {
            "bin_start": 86.8,
            "bin_end": 99.2,
            "count": 0
           },
           {
            "bin_start": 99.2,
            "bin_end": 111.60000000000001,
            "count": 0
           },
           {
            "bin_start": 111.60000000000001,
            "bin_end": 124,
            "count": 1
           }
          ]
         }
        },
        {
         "name": "size",
         "dtype": "int64",
         "stats": {
          "unique_count": 4,
          "nan_count": 0,
          "min": "0",
          "max": "124",
          "histogram": [
           {
            "bin_start": 0,
            "bin_end": 12.4,
            "count": 1
           },
           {
            "bin_start": 12.4,
            "bin_end": 24.8,
            "count": 0
           },
           {
            "bin_start": 24.8,
            "bin_end": 37.2,
            "count": 1
           },
           {
            "bin_start": 37.2,
            "bin_end": 49.6,
            "count": 0
           },
           {
            "bin_start": 49.6,
            "bin_end": 62,
            "count": 1
           },
           {
            "bin_start": 62,
            "bin_end": 74.4,
            "count": 0
           },
           {
            "bin_start": 74.4,
            "bin_end": 86.8,
            "count": 0
           },
           {
            "bin_start": 86.8,
            "bin_end": 99.2,
            "count": 0
           },
           {
            "bin_start": 99.2,
            "bin_end": 111.60000000000001,
            "count": 0
           },
           {
            "bin_start": 111.60000000000001,
            "bin_end": 124,
            "count": 1
           }
          ]
         }
        },
        {
         "name": "prct_tip",
         "dtype": "int64",
         "stats": {
          "unique_count": 4,
          "nan_count": 0,
          "min": "0",
          "max": "124",
          "histogram": [
           {
            "bin_start": 0,
            "bin_end": 12.4,
            "count": 1
           },
           {
            "bin_start": 12.4,
            "bin_end": 24.8,
            "count": 0
           },
           {
            "bin_start": 24.8,
            "bin_end": 37.2,
            "count": 1
           },
           {
            "bin_start": 37.2,
            "bin_end": 49.6,
            "count": 0
           },
           {
            "bin_start": 49.6,
            "bin_end": 62,
            "count": 1
           },
           {
            "bin_start": 62,
            "bin_end": 74.4,
            "count": 0
           },
           {
            "bin_start": 74.4,
            "bin_end": 86.8,
            "count": 0
           },
           {
            "bin_start": 86.8,
            "bin_end": 99.2,
            "count": 0
           },
           {
            "bin_start": 99.2,
            "bin_end": 111.60000000000001,
            "count": 0
           },
           {
            "bin_start": 111.60000000000001,
            "bin_end": 124,
            "count": 1
           }
          ]
         }
        },
        {
         "name": "_deepnote_index_column",
         "dtype": "object"
        }
       ],
       "rows_top": [
        {
         "total_bill": 33,
         "tip": 33,
         "smoker": 33,
         "day": 33,
         "size": 33,
         "prct_tip": 33,
         "_deepnote_index_column": "('Male', 'Lunch')"
        },
        {
         "total_bill": 124,
         "tip": 124,
         "smoker": 124,
         "day": 124,
         "size": 124,
         "prct_tip": 124,
         "_deepnote_index_column": "('Male', 'Dinner')"
        },
        {
         "total_bill": 0,
         "tip": 0,
         "smoker": 0,
         "day": 0,
         "size": 0,
         "prct_tip": 0,
         "_deepnote_index_column": "('Female', 'Lunch')"
        },
        {
         "total_bill": 52,
         "tip": 52,
         "smoker": 52,
         "day": 52,
         "size": 52,
         "prct_tip": 52,
         "_deepnote_index_column": "('Female', 'Dinner')"
        }
       ],
       "rows_bottom": null
      },
      "text/plain": "               total_bill  tip  smoker  day  size  prct_tip\nsex    time                                                \nMale   Lunch           33   33      33   33    33        33\n       Dinner         124  124     124  124   124       124\nFemale Lunch            0    0       0    0     0         0\n       Dinner          52   52      52   52    52        52",
      "text/html": "<div>\n<style scoped>\n    .dataframe tbody tr th:only-of-type {\n        vertical-align: middle;\n    }\n\n    .dataframe tbody tr th {\n        vertical-align: top;\n    }\n\n    .dataframe thead th {\n        text-align: right;\n    }\n</style>\n<table border=\"1\" class=\"dataframe\">\n  <thead>\n    <tr style=\"text-align: right;\">\n      <th></th>\n      <th></th>\n      <th>total_bill</th>\n      <th>tip</th>\n      <th>smoker</th>\n      <th>day</th>\n      <th>size</th>\n      <th>prct_tip</th>\n    </tr>\n    <tr>\n      <th>sex</th>\n      <th>time</th>\n      <th></th>\n      <th></th>\n      <th></th>\n      <th></th>\n      <th></th>\n      <th></th>\n    </tr>\n  </thead>\n  <tbody>\n    <tr>\n      <th rowspan=\"2\" valign=\"top\">Male</th>\n      <th>Lunch</th>\n      <td>33</td>\n      <td>33</td>\n      <td>33</td>\n      <td>33</td>\n      <td>33</td>\n      <td>33</td>\n    </tr>\n    <tr>\n      <th>Dinner</th>\n      <td>124</td>\n      <td>124</td>\n      <td>124</td>\n      <td>124</td>\n      <td>124</td>\n      <td>124</td>\n    </tr>\n    <tr>\n      <th rowspan=\"2\" valign=\"top\">Female</th>\n      <th>Lunch</th>\n      <td>0</td>\n      <td>0</td>\n      <td>0</td>\n      <td>0</td>\n      <td>0</td>\n      <td>0</td>\n    </tr>\n    <tr>\n      <th>Dinner</th>\n      <td>52</td>\n      <td>52</td>\n      <td>52</td>\n      <td>52</td>\n      <td>52</td>\n      <td>52</td>\n    </tr>\n  </tbody>\n</table>\n</div>"
     },
     "metadata": {}
    }
   ]
  },
  {
   "cell_type": "markdown",
   "source": "## Group By: extraer valor con variables categóricas\nPodemos extraer variables categoricas usando un **pequeño truco** el cual consite en agregar una columna con numeros unos.",
   "metadata": {
    "tags": [],
    "cell_id": "00204-a055dcd3-eea2-465c-9aeb-2b131c4ce2b9",
    "deepnote_cell_type": "markdown"
   }
  },
  {
   "cell_type": "code",
   "metadata": {
    "tags": [],
    "cell_id": "00205-d70f4734-691d-4b5c-a31f-a2952e80d265",
    "deepnote_to_be_reexecuted": false,
    "source_hash": "65f9a19f",
    "execution_start": 1625427926423,
    "execution_millis": 1,
    "deepnote_cell_type": "code"
   },
   "source": "df['ones'] = 1",
   "execution_count": 54,
   "outputs": []
  },
  {
   "cell_type": "markdown",
   "source": "Obtenemos los valores y el procentaje de las personas que son fumantes",
   "metadata": {
    "tags": [],
    "cell_id": "00206-1040231b-fba1-43d0-aea9-b46b6da2ecfc",
    "deepnote_cell_type": "markdown"
   }
  },
  {
   "cell_type": "code",
   "metadata": {
    "tags": [],
    "cell_id": "00207-7e31923c-c13c-4ff2-a944-1470ad5aadac",
    "deepnote_to_be_reexecuted": false,
    "source_hash": "9d4639cb",
    "execution_start": 1625427928651,
    "execution_millis": 31,
    "deepnote_cell_type": "code"
   },
   "source": "df_g = df.groupby(['sex','smoker'])[['ones']].sum()\ndf_g",
   "execution_count": 55,
   "outputs": [
    {
     "output_type": "execute_result",
     "execution_count": 55,
     "data": {
      "application/vnd.deepnote.dataframe.v2+json": {
       "row_count": 4,
       "column_count": 1,
       "columns": [
        {
         "name": "ones",
         "dtype": "int64",
         "stats": {
          "unique_count": 4,
          "nan_count": 0,
          "min": "33",
          "max": "97",
          "histogram": [
           {
            "bin_start": 33,
            "bin_end": 39.4,
            "count": 1
           },
           {
            "bin_start": 39.4,
            "bin_end": 45.8,
            "count": 0
           },
           {
            "bin_start": 45.8,
            "bin_end": 52.2,
            "count": 0
           },
           {
            "bin_start": 52.2,
            "bin_end": 58.6,
            "count": 1
           },
           {
            "bin_start": 58.6,
            "bin_end": 65,
            "count": 1
           },
           {
            "bin_start": 65,
            "bin_end": 71.4,
            "count": 0
           },
           {
            "bin_start": 71.4,
            "bin_end": 77.80000000000001,
            "count": 0
           },
           {
            "bin_start": 77.80000000000001,
            "bin_end": 84.2,
            "count": 0
           },
           {
            "bin_start": 84.2,
            "bin_end": 90.6,
            "count": 0
           },
           {
            "bin_start": 90.6,
            "bin_end": 97,
            "count": 1
           }
          ]
         }
        },
        {
         "name": "_deepnote_index_column",
         "dtype": "object"
        }
       ],
       "rows_top": [
        {
         "ones": 60,
         "_deepnote_index_column": "('Male', 'Yes')"
        },
        {
         "ones": 97,
         "_deepnote_index_column": "('Male', 'No')"
        },
        {
         "ones": 33,
         "_deepnote_index_column": "('Female', 'Yes')"
        },
        {
         "ones": 54,
         "_deepnote_index_column": "('Female', 'No')"
        }
       ],
       "rows_bottom": null
      },
      "text/plain": "               ones\nsex    smoker      \nMale   Yes       60\n       No        97\nFemale Yes       33\n       No        54",
      "text/html": "<div>\n<style scoped>\n    .dataframe tbody tr th:only-of-type {\n        vertical-align: middle;\n    }\n\n    .dataframe tbody tr th {\n        vertical-align: top;\n    }\n\n    .dataframe thead th {\n        text-align: right;\n    }\n</style>\n<table border=\"1\" class=\"dataframe\">\n  <thead>\n    <tr style=\"text-align: right;\">\n      <th></th>\n      <th></th>\n      <th>ones</th>\n    </tr>\n    <tr>\n      <th>sex</th>\n      <th>smoker</th>\n      <th></th>\n    </tr>\n  </thead>\n  <tbody>\n    <tr>\n      <th rowspan=\"2\" valign=\"top\">Male</th>\n      <th>Yes</th>\n      <td>60</td>\n    </tr>\n    <tr>\n      <th>No</th>\n      <td>97</td>\n    </tr>\n    <tr>\n      <th rowspan=\"2\" valign=\"top\">Female</th>\n      <th>Yes</th>\n      <td>33</td>\n    </tr>\n    <tr>\n      <th>No</th>\n      <td>54</td>\n    </tr>\n  </tbody>\n</table>\n</div>"
     },
     "metadata": {}
    }
   ]
  },
  {
   "cell_type": "code",
   "metadata": {
    "tags": [],
    "cell_id": "00208-d413250e-9075-4f81-aeb9-73f25bdedfdb",
    "deepnote_to_be_reexecuted": false,
    "source_hash": "b525e5dc",
    "execution_start": 1625427940579,
    "execution_millis": 21,
    "deepnote_cell_type": "code"
   },
   "source": "df_g.groupby(level=0).apply(\n    lambda x:\n    x / x.sum() * 100\n)",
   "execution_count": 56,
   "outputs": [
    {
     "output_type": "execute_result",
     "execution_count": 56,
     "data": {
      "application/vnd.deepnote.dataframe.v2+json": {
       "row_count": 4,
       "column_count": 1,
       "columns": [
        {
         "name": "ones",
         "dtype": "float64",
         "stats": {
          "unique_count": 4,
          "nan_count": 0,
          "min": "37.93103448275862",
          "max": "62.06896551724138",
          "histogram": [
           {
            "bin_start": 37.93103448275862,
            "bin_end": 40.3448275862069,
            "count": 2
           },
           {
            "bin_start": 40.3448275862069,
            "bin_end": 42.758620689655174,
            "count": 0
           },
           {
            "bin_start": 42.758620689655174,
            "bin_end": 45.172413793103445,
            "count": 0
           },
           {
            "bin_start": 45.172413793103445,
            "bin_end": 47.58620689655172,
            "count": 0
           },
           {
            "bin_start": 47.58620689655172,
            "bin_end": 50,
            "count": 0
           },
           {
            "bin_start": 50,
            "bin_end": 52.41379310344828,
            "count": 0
           },
           {
            "bin_start": 52.41379310344828,
            "bin_end": 54.827586206896555,
            "count": 0
           },
           {
            "bin_start": 54.827586206896555,
            "bin_end": 57.241379310344826,
            "count": 0
           },
           {
            "bin_start": 57.241379310344826,
            "bin_end": 59.65517241379311,
            "count": 0
           },
           {
            "bin_start": 59.65517241379311,
            "bin_end": 62.06896551724138,
            "count": 2
           }
          ]
         }
        },
        {
         "name": "_deepnote_index_column",
         "dtype": "object"
        }
       ],
       "rows_top": [
        {
         "ones": 38.21656050955414,
         "_deepnote_index_column": "('Male', 'Yes')"
        },
        {
         "ones": 61.78343949044586,
         "_deepnote_index_column": "('Male', 'No')"
        },
        {
         "ones": 37.93103448275862,
         "_deepnote_index_column": "('Female', 'Yes')"
        },
        {
         "ones": 62.06896551724138,
         "_deepnote_index_column": "('Female', 'No')"
        }
       ],
       "rows_bottom": null
      },
      "text/plain": "                ones\nsex    smoker       \nMale   Yes    38.217\n       No     61.783\nFemale Yes    37.931\n       No     62.069",
      "text/html": "<div>\n<style scoped>\n    .dataframe tbody tr th:only-of-type {\n        vertical-align: middle;\n    }\n\n    .dataframe tbody tr th {\n        vertical-align: top;\n    }\n\n    .dataframe thead th {\n        text-align: right;\n    }\n</style>\n<table border=\"1\" class=\"dataframe\">\n  <thead>\n    <tr style=\"text-align: right;\">\n      <th></th>\n      <th></th>\n      <th>ones</th>\n    </tr>\n    <tr>\n      <th>sex</th>\n      <th>smoker</th>\n      <th></th>\n    </tr>\n  </thead>\n  <tbody>\n    <tr>\n      <th rowspan=\"2\" valign=\"top\">Male</th>\n      <th>Yes</th>\n      <td>38.217</td>\n    </tr>\n    <tr>\n      <th>No</th>\n      <td>61.783</td>\n    </tr>\n    <tr>\n      <th rowspan=\"2\" valign=\"top\">Female</th>\n      <th>Yes</th>\n      <td>37.931</td>\n    </tr>\n    <tr>\n      <th>No</th>\n      <td>62.069</td>\n    </tr>\n  </tbody>\n</table>\n</div>"
     },
     "metadata": {}
    }
   ]
  },
  {
   "cell_type": "markdown",
   "source": "### Transformar nuestras variables numericas en una categorica.\nCon **bins** podemos definir el ancho que queremos tener en nuestras categorias.\n\nPor ejemplo podemos tener una categoria de 3.",
   "metadata": {
    "tags": [],
    "cell_id": "00209-4a67f01b-1d96-4080-b06e-ef25d82ac97c",
    "deepnote_cell_type": "markdown"
   }
  },
  {
   "cell_type": "code",
   "metadata": {
    "tags": [],
    "cell_id": "00210-343918b3-4b6a-4f25-87d8-eef2e1500797",
    "deepnote_to_be_reexecuted": false,
    "source_hash": "4b60f1b8",
    "execution_start": 1625428057410,
    "execution_millis": 15,
    "deepnote_cell_type": "code"
   },
   "source": "pd.cut(df['total_bill'], bins = 3).value_counts()",
   "execution_count": 57,
   "outputs": [
    {
     "output_type": "execute_result",
     "execution_count": 57,
     "data": {
      "text/plain": "(3.022, 18.983]     140\n(18.983, 34.897]     88\n(34.897, 50.81]      16\nName: total_bill, dtype: int64"
     },
     "metadata": {}
    }
   ]
  },
  {
   "cell_type": "markdown",
   "source": "Otro seria una categoria que va de los 3 a 18 dolares y de los 18 a los 35 dolares.",
   "metadata": {
    "tags": [],
    "cell_id": "00211-2947ca87-ddb0-4a4d-90b0-7692784e518f",
    "deepnote_cell_type": "markdown"
   }
  },
  {
   "cell_type": "code",
   "metadata": {
    "tags": [],
    "cell_id": "00212-aab566b2-a7dd-443c-929d-734c9315fe21",
    "deepnote_to_be_reexecuted": false,
    "source_hash": "97d6ef4a",
    "execution_start": 1625428067502,
    "execution_millis": 1,
    "deepnote_cell_type": "code"
   },
   "source": "pd.cut(df['total_bill'], bins=[3,18,35,70]).value_counts()",
   "execution_count": 58,
   "outputs": [
    {
     "output_type": "execute_result",
     "execution_count": 58,
     "data": {
      "text/plain": "(3, 18]     127\n(18, 35]    101\n(35, 70]     16\nName: total_bill, dtype: int64"
     },
     "metadata": {}
    }
   ]
  },
  {
   "cell_type": "markdown",
   "source": "Podremos observar que cada factura sera asignara una categoria segun el total de su factura.",
   "metadata": {
    "tags": [],
    "cell_id": "00213-2e40b5e9-5fce-4da1-a031-dd2c8a925680",
    "deepnote_cell_type": "markdown"
   }
  },
  {
   "cell_type": "code",
   "metadata": {
    "tags": [],
    "cell_id": "00214-1a6ac882-a467-4b2c-bdbc-7a1abd6d29d4",
    "deepnote_to_be_reexecuted": false,
    "source_hash": "8a745fcd",
    "execution_start": 1625428082816,
    "execution_millis": 85,
    "deepnote_cell_type": "code"
   },
   "source": "df['bin_total'] = pd.cut(df['total_bill'], bins=[3,18,35,70])\ndf",
   "execution_count": 59,
   "outputs": [
    {
     "output_type": "execute_result",
     "execution_count": 59,
     "data": {
      "application/vnd.deepnote.dataframe.v2+json": {
       "row_count": 244,
       "column_count": 10,
       "columns": [
        {
         "name": "total_bill",
         "dtype": "float64",
         "stats": {
          "unique_count": 229,
          "nan_count": 0,
          "min": "3.07",
          "max": "50.81",
          "histogram": [
           {
            "bin_start": 3.07,
            "bin_end": 7.843999999999999,
            "count": 7
           },
           {
            "bin_start": 7.843999999999999,
            "bin_end": 12.618,
            "count": 42
           },
           {
            "bin_start": 12.618,
            "bin_end": 17.392,
            "count": 68
           },
           {
            "bin_start": 17.392,
            "bin_end": 22.166,
            "count": 51
           },
           {
            "bin_start": 22.166,
            "bin_end": 26.94,
            "count": 31
           },
           {
            "bin_start": 26.94,
            "bin_end": 31.714,
            "count": 19
           },
           {
            "bin_start": 31.714,
            "bin_end": 36.488,
            "count": 12
           },
           {
            "bin_start": 36.488,
            "bin_end": 41.262,
            "count": 7
           },
           {
            "bin_start": 41.262,
            "bin_end": 46.036,
            "count": 3
           },
           {
            "bin_start": 46.036,
            "bin_end": 50.81,
            "count": 4
           }
          ]
         }
        },
        {
         "name": "tip",
         "dtype": "float64",
         "stats": {
          "unique_count": 123,
          "nan_count": 0,
          "min": "1.0",
          "max": "10.0",
          "histogram": [
           {
            "bin_start": 1,
            "bin_end": 1.9,
            "count": 41
           },
           {
            "bin_start": 1.9,
            "bin_end": 2.8,
            "count": 79
           },
           {
            "bin_start": 2.8,
            "bin_end": 3.7,
            "count": 66
           },
           {
            "bin_start": 3.7,
            "bin_end": 4.6,
            "count": 27
           },
           {
            "bin_start": 4.6,
            "bin_end": 5.5,
            "count": 19
           },
           {
            "bin_start": 5.5,
            "bin_end": 6.4,
            "count": 5
           },
           {
            "bin_start": 6.4,
            "bin_end": 7.3,
            "count": 4
           },
           {
            "bin_start": 7.3,
            "bin_end": 8.2,
            "count": 1
           },
           {
            "bin_start": 8.2,
            "bin_end": 9.1,
            "count": 1
           },
           {
            "bin_start": 9.1,
            "bin_end": 10,
            "count": 1
           }
          ]
         }
        },
        {
         "name": "sex",
         "dtype": "category",
         "stats": {
          "unique_count": 2,
          "nan_count": 0,
          "categories": [
           {
            "name": "Male",
            "count": 157
           },
           {
            "name": "Female",
            "count": 87
           }
          ]
         }
        },
        {
         "name": "smoker",
         "dtype": "category",
         "stats": {
          "unique_count": 2,
          "nan_count": 0,
          "categories": [
           {
            "name": "No",
            "count": 151
           },
           {
            "name": "Yes",
            "count": 93
           }
          ]
         }
        },
        {
         "name": "day",
         "dtype": "category",
         "stats": {
          "unique_count": 4,
          "nan_count": 0,
          "categories": [
           {
            "name": "Sat",
            "count": 87
           },
           {
            "name": "Sun",
            "count": 76
           },
           {
            "name": "2 others",
            "count": 81
           }
          ]
         }
        },
        {
         "name": "time",
         "dtype": "category",
         "stats": {
          "unique_count": 2,
          "nan_count": 0,
          "categories": [
           {
            "name": "Dinner",
            "count": 176
           },
           {
            "name": "Lunch",
            "count": 68
           }
          ]
         }
        },
        {
         "name": "size",
         "dtype": "int64",
         "stats": {
          "unique_count": 6,
          "nan_count": 0,
          "min": "1",
          "max": "6",
          "histogram": [
           {
            "bin_start": 1,
            "bin_end": 1.5,
            "count": 4
           },
           {
            "bin_start": 1.5,
            "bin_end": 2,
            "count": 0
           },
           {
            "bin_start": 2,
            "bin_end": 2.5,
            "count": 156
           },
           {
            "bin_start": 2.5,
            "bin_end": 3,
            "count": 0
           },
           {
            "bin_start": 3,
            "bin_end": 3.5,
            "count": 38
           },
           {
            "bin_start": 3.5,
            "bin_end": 4,
            "count": 0
           },
           {
            "bin_start": 4,
            "bin_end": 4.5,
            "count": 37
           },
           {
            "bin_start": 4.5,
            "bin_end": 5,
            "count": 0
           },
           {
            "bin_start": 5,
            "bin_end": 5.5,
            "count": 5
           },
           {
            "bin_start": 5.5,
            "bin_end": 6,
            "count": 4
           }
          ]
         }
        },
        {
         "name": "prct_tip",
         "dtype": "float64",
         "stats": {
          "unique_count": 242,
          "nan_count": 0,
          "min": "0.03563813585135547",
          "max": "0.710344827586207",
          "histogram": [
           {
            "bin_start": 0.03563813585135547,
            "bin_end": 0.10310880502484063,
            "count": 31
           },
           {
            "bin_start": 0.10310880502484063,
            "bin_end": 0.17057947419832578,
            "count": 120
           },
           {
            "bin_start": 0.17057947419832578,
            "bin_end": 0.23805014337181093,
            "count": 80
           },
           {
            "bin_start": 0.23805014337181093,
            "bin_end": 0.30552081254529606,
            "count": 10
           },
           {
            "bin_start": 0.30552081254529606,
            "bin_end": 0.3729914817187812,
            "count": 1
           },
           {
            "bin_start": 0.3729914817187812,
            "bin_end": 0.44046215089226637,
            "count": 1
           },
           {
            "bin_start": 0.44046215089226637,
            "bin_end": 0.5079328200657516,
            "count": 0
           },
           {
            "bin_start": 0.5079328200657516,
            "bin_end": 0.5754034892392367,
            "count": 0
           },
           {
            "bin_start": 0.5754034892392367,
            "bin_end": 0.6428741584127219,
            "count": 0
           },
           {
            "bin_start": 0.6428741584127219,
            "bin_end": 0.710344827586207,
            "count": 1
           }
          ]
         }
        },
        {
         "name": "ones",
         "dtype": "int64",
         "stats": {
          "unique_count": 1,
          "nan_count": 0,
          "min": "1",
          "max": "1",
          "histogram": [
           {
            "bin_start": 0.5,
            "bin_end": 0.6,
            "count": 0
           },
           {
            "bin_start": 0.6,
            "bin_end": 0.7,
            "count": 0
           },
           {
            "bin_start": 0.7,
            "bin_end": 0.8,
            "count": 0
           },
           {
            "bin_start": 0.8,
            "bin_end": 0.9,
            "count": 0
           },
           {
            "bin_start": 0.9,
            "bin_end": 1,
            "count": 0
           },
           {
            "bin_start": 1,
            "bin_end": 1.1,
            "count": 244
           },
           {
            "bin_start": 1.1,
            "bin_end": 1.2000000000000002,
            "count": 0
           },
           {
            "bin_start": 1.2000000000000002,
            "bin_end": 1.3,
            "count": 0
           },
           {
            "bin_start": 1.3,
            "bin_end": 1.4,
            "count": 0
           },
           {
            "bin_start": 1.4,
            "bin_end": 1.5,
            "count": 0
           }
          ]
         }
        },
        {
         "name": "bin_total",
         "dtype": "category",
         "stats": {
          "unique_count": 3,
          "nan_count": 0,
          "categories": [
           {
            "name": "(3, 18]",
            "count": 127
           },
           {
            "name": "(18, 35]",
            "count": 101
           },
           {
            "name": "(35, 70]",
            "count": 16
           }
          ]
         }
        },
        {
         "name": "_deepnote_index_column",
         "dtype": "int64"
        }
       ],
       "rows_top": [
        {
         "total_bill": 16.99,
         "tip": 1.01,
         "sex": "Female",
         "smoker": "No",
         "day": "Sun",
         "time": "Dinner",
         "size": 2,
         "prct_tip": 0.05944673337257211,
         "ones": 1,
         "bin_total": "(3, 18]",
         "_deepnote_index_column": 0
        },
        {
         "total_bill": 10.34,
         "tip": 1.66,
         "sex": "Male",
         "smoker": "No",
         "day": "Sun",
         "time": "Dinner",
         "size": 3,
         "prct_tip": 0.16054158607350097,
         "ones": 1,
         "bin_total": "(3, 18]",
         "_deepnote_index_column": 1
        },
        {
         "total_bill": 21.01,
         "tip": 3.5,
         "sex": "Male",
         "smoker": "No",
         "day": "Sun",
         "time": "Dinner",
         "size": 3,
         "prct_tip": 0.16658733936220846,
         "ones": 1,
         "bin_total": "(18, 35]",
         "_deepnote_index_column": 2
        },
        {
         "total_bill": 23.68,
         "tip": 3.31,
         "sex": "Male",
         "smoker": "No",
         "day": "Sun",
         "time": "Dinner",
         "size": 2,
         "prct_tip": 0.1397804054054054,
         "ones": 1,
         "bin_total": "(18, 35]",
         "_deepnote_index_column": 3
        },
        {
         "total_bill": 24.59,
         "tip": 3.61,
         "sex": "Female",
         "smoker": "No",
         "day": "Sun",
         "time": "Dinner",
         "size": 4,
         "prct_tip": 0.14680764538430255,
         "ones": 1,
         "bin_total": "(18, 35]",
         "_deepnote_index_column": 4
        },
        {
         "total_bill": 25.29,
         "tip": 4.71,
         "sex": "Male",
         "smoker": "No",
         "day": "Sun",
         "time": "Dinner",
         "size": 4,
         "prct_tip": 0.18623962040332148,
         "ones": 1,
         "bin_total": "(18, 35]",
         "_deepnote_index_column": 5
        },
        {
         "total_bill": 8.77,
         "tip": 2,
         "sex": "Male",
         "smoker": "No",
         "day": "Sun",
         "time": "Dinner",
         "size": 2,
         "prct_tip": 0.22805017103762829,
         "ones": 1,
         "bin_total": "(3, 18]",
         "_deepnote_index_column": 6
        },
        {
         "total_bill": 26.88,
         "tip": 3.12,
         "sex": "Male",
         "smoker": "No",
         "day": "Sun",
         "time": "Dinner",
         "size": 4,
         "prct_tip": 0.11607142857142858,
         "ones": 1,
         "bin_total": "(18, 35]",
         "_deepnote_index_column": 7
        },
        {
         "total_bill": 15.04,
         "tip": 1.96,
         "sex": "Male",
         "smoker": "No",
         "day": "Sun",
         "time": "Dinner",
         "size": 2,
         "prct_tip": 0.13031914893617022,
         "ones": 1,
         "bin_total": "(3, 18]",
         "_deepnote_index_column": 8
        },
        {
         "total_bill": 14.78,
         "tip": 3.23,
         "sex": "Male",
         "smoker": "No",
         "day": "Sun",
         "time": "Dinner",
         "size": 2,
         "prct_tip": 0.2185385656292287,
         "ones": 1,
         "bin_total": "(3, 18]",
         "_deepnote_index_column": 9
        },
        {
         "total_bill": 10.27,
         "tip": 1.71,
         "sex": "Male",
         "smoker": "No",
         "day": "Sun",
         "time": "Dinner",
         "size": 2,
         "prct_tip": 0.1665043816942551,
         "ones": 1,
         "bin_total": "(3, 18]",
         "_deepnote_index_column": 10
        },
        {
         "total_bill": 35.26,
         "tip": 5,
         "sex": "Female",
         "smoker": "No",
         "day": "Sun",
         "time": "Dinner",
         "size": 4,
         "prct_tip": 0.14180374361883155,
         "ones": 1,
         "bin_total": "(35, 70]",
         "_deepnote_index_column": 11
        },
        {
         "total_bill": 15.42,
         "tip": 1.57,
         "sex": "Male",
         "smoker": "No",
         "day": "Sun",
         "time": "Dinner",
         "size": 2,
         "prct_tip": 0.10181582360570687,
         "ones": 1,
         "bin_total": "(3, 18]",
         "_deepnote_index_column": 12
        },
        {
         "total_bill": 18.43,
         "tip": 3,
         "sex": "Male",
         "smoker": "No",
         "day": "Sun",
         "time": "Dinner",
         "size": 4,
         "prct_tip": 0.16277807921866522,
         "ones": 1,
         "bin_total": "(18, 35]",
         "_deepnote_index_column": 13
        },
        {
         "total_bill": 14.83,
         "tip": 3.02,
         "sex": "Female",
         "smoker": "No",
         "day": "Sun",
         "time": "Dinner",
         "size": 2,
         "prct_tip": 0.20364126770060686,
         "ones": 1,
         "bin_total": "(3, 18]",
         "_deepnote_index_column": 14
        },
        {
         "total_bill": 21.58,
         "tip": 3.92,
         "sex": "Male",
         "smoker": "No",
         "day": "Sun",
         "time": "Dinner",
         "size": 2,
         "prct_tip": 0.18164967562557924,
         "ones": 1,
         "bin_total": "(18, 35]",
         "_deepnote_index_column": 15
        },
        {
         "total_bill": 10.33,
         "tip": 1.67,
         "sex": "Female",
         "smoker": "No",
         "day": "Sun",
         "time": "Dinner",
         "size": 3,
         "prct_tip": 0.1616650532429816,
         "ones": 1,
         "bin_total": "(3, 18]",
         "_deepnote_index_column": 16
        },
        {
         "total_bill": 16.29,
         "tip": 3.71,
         "sex": "Male",
         "smoker": "No",
         "day": "Sun",
         "time": "Dinner",
         "size": 3,
         "prct_tip": 0.22774708410067526,
         "ones": 1,
         "bin_total": "(3, 18]",
         "_deepnote_index_column": 17
        },
        {
         "total_bill": 16.97,
         "tip": 3.5,
         "sex": "Female",
         "smoker": "No",
         "day": "Sun",
         "time": "Dinner",
         "size": 3,
         "prct_tip": 0.20624631703005306,
         "ones": 1,
         "bin_total": "(3, 18]",
         "_deepnote_index_column": 18
        },
        {
         "total_bill": 20.65,
         "tip": 3.35,
         "sex": "Male",
         "smoker": "No",
         "day": "Sat",
         "time": "Dinner",
         "size": 3,
         "prct_tip": 0.16222760290556903,
         "ones": 1,
         "bin_total": "(18, 35]",
         "_deepnote_index_column": 19
        },
        {
         "total_bill": 17.92,
         "tip": 4.08,
         "sex": "Male",
         "smoker": "No",
         "day": "Sat",
         "time": "Dinner",
         "size": 2,
         "prct_tip": 0.22767857142857142,
         "ones": 1,
         "bin_total": "(3, 18]",
         "_deepnote_index_column": 20
        },
        {
         "total_bill": 20.29,
         "tip": 2.75,
         "sex": "Female",
         "smoker": "No",
         "day": "Sat",
         "time": "Dinner",
         "size": 2,
         "prct_tip": 0.13553474618038444,
         "ones": 1,
         "bin_total": "(18, 35]",
         "_deepnote_index_column": 21
        },
        {
         "total_bill": 15.77,
         "tip": 2.23,
         "sex": "Female",
         "smoker": "No",
         "day": "Sat",
         "time": "Dinner",
         "size": 2,
         "prct_tip": 0.14140773620798985,
         "ones": 1,
         "bin_total": "(3, 18]",
         "_deepnote_index_column": 22
        },
        {
         "total_bill": 39.42,
         "tip": 7.58,
         "sex": "Male",
         "smoker": "No",
         "day": "Sat",
         "time": "Dinner",
         "size": 4,
         "prct_tip": 0.19228817858954844,
         "ones": 1,
         "bin_total": "(35, 70]",
         "_deepnote_index_column": 23
        },
        {
         "total_bill": 19.82,
         "tip": 3.18,
         "sex": "Male",
         "smoker": "No",
         "day": "Sat",
         "time": "Dinner",
         "size": 2,
         "prct_tip": 0.16044399596367306,
         "ones": 1,
         "bin_total": "(18, 35]",
         "_deepnote_index_column": 24
        },
        {
         "total_bill": 17.81,
         "tip": 2.34,
         "sex": "Male",
         "smoker": "No",
         "day": "Sat",
         "time": "Dinner",
         "size": 4,
         "prct_tip": 0.13138686131386862,
         "ones": 1,
         "bin_total": "(3, 18]",
         "_deepnote_index_column": 25
        },
        {
         "total_bill": 13.37,
         "tip": 2,
         "sex": "Male",
         "smoker": "No",
         "day": "Sat",
         "time": "Dinner",
         "size": 2,
         "prct_tip": 0.14958863126402394,
         "ones": 1,
         "bin_total": "(3, 18]",
         "_deepnote_index_column": 26
        },
        {
         "total_bill": 12.69,
         "tip": 2,
         "sex": "Male",
         "smoker": "No",
         "day": "Sat",
         "time": "Dinner",
         "size": 2,
         "prct_tip": 0.15760441292356187,
         "ones": 1,
         "bin_total": "(3, 18]",
         "_deepnote_index_column": 27
        },
        {
         "total_bill": 21.7,
         "tip": 4.3,
         "sex": "Male",
         "smoker": "No",
         "day": "Sat",
         "time": "Dinner",
         "size": 2,
         "prct_tip": 0.19815668202764977,
         "ones": 1,
         "bin_total": "(18, 35]",
         "_deepnote_index_column": 28
        },
        {
         "total_bill": 19.65,
         "tip": 3,
         "sex": "Female",
         "smoker": "No",
         "day": "Sat",
         "time": "Dinner",
         "size": 2,
         "prct_tip": 0.15267175572519084,
         "ones": 1,
         "bin_total": "(18, 35]",
         "_deepnote_index_column": 29
        },
        {
         "total_bill": 9.55,
         "tip": 1.45,
         "sex": "Male",
         "smoker": "No",
         "day": "Sat",
         "time": "Dinner",
         "size": 2,
         "prct_tip": 0.1518324607329843,
         "ones": 1,
         "bin_total": "(3, 18]",
         "_deepnote_index_column": 30
        },
        {
         "total_bill": 18.35,
         "tip": 2.5,
         "sex": "Male",
         "smoker": "No",
         "day": "Sat",
         "time": "Dinner",
         "size": 4,
         "prct_tip": 0.13623978201634876,
         "ones": 1,
         "bin_total": "(18, 35]",
         "_deepnote_index_column": 31
        },
        {
         "total_bill": 15.06,
         "tip": 3,
         "sex": "Female",
         "smoker": "No",
         "day": "Sat",
         "time": "Dinner",
         "size": 2,
         "prct_tip": 0.199203187250996,
         "ones": 1,
         "bin_total": "(3, 18]",
         "_deepnote_index_column": 32
        },
        {
         "total_bill": 20.69,
         "tip": 2.45,
         "sex": "Female",
         "smoker": "No",
         "day": "Sat",
         "time": "Dinner",
         "size": 4,
         "prct_tip": 0.11841469308844853,
         "ones": 1,
         "bin_total": "(18, 35]",
         "_deepnote_index_column": 33
        },
        {
         "total_bill": 17.78,
         "tip": 3.27,
         "sex": "Male",
         "smoker": "No",
         "day": "Sat",
         "time": "Dinner",
         "size": 2,
         "prct_tip": 0.1839145106861642,
         "ones": 1,
         "bin_total": "(3, 18]",
         "_deepnote_index_column": 34
        },
        {
         "total_bill": 24.06,
         "tip": 3.6,
         "sex": "Male",
         "smoker": "No",
         "day": "Sat",
         "time": "Dinner",
         "size": 3,
         "prct_tip": 0.14962593516209477,
         "ones": 1,
         "bin_total": "(18, 35]",
         "_deepnote_index_column": 35
        },
        {
         "total_bill": 16.31,
         "tip": 2,
         "sex": "Male",
         "smoker": "No",
         "day": "Sat",
         "time": "Dinner",
         "size": 3,
         "prct_tip": 0.12262415695892091,
         "ones": 1,
         "bin_total": "(3, 18]",
         "_deepnote_index_column": 36
        },
        {
         "total_bill": 16.93,
         "tip": 3.07,
         "sex": "Female",
         "smoker": "No",
         "day": "Sat",
         "time": "Dinner",
         "size": 3,
         "prct_tip": 0.1813349084465446,
         "ones": 1,
         "bin_total": "(3, 18]",
         "_deepnote_index_column": 37
        },
        {
         "total_bill": 18.69,
         "tip": 2.31,
         "sex": "Male",
         "smoker": "No",
         "day": "Sat",
         "time": "Dinner",
         "size": 3,
         "prct_tip": 0.12359550561797752,
         "ones": 1,
         "bin_total": "(18, 35]",
         "_deepnote_index_column": 38
        },
        {
         "total_bill": 31.27,
         "tip": 5,
         "sex": "Male",
         "smoker": "No",
         "day": "Sat",
         "time": "Dinner",
         "size": 3,
         "prct_tip": 0.1598976654940838,
         "ones": 1,
         "bin_total": "(18, 35]",
         "_deepnote_index_column": 39
        },
        {
         "total_bill": 16.04,
         "tip": 2.24,
         "sex": "Male",
         "smoker": "No",
         "day": "Sat",
         "time": "Dinner",
         "size": 3,
         "prct_tip": 0.13965087281795513,
         "ones": 1,
         "bin_total": "(3, 18]",
         "_deepnote_index_column": 40
        },
        {
         "total_bill": 17.46,
         "tip": 2.54,
         "sex": "Male",
         "smoker": "No",
         "day": "Sun",
         "time": "Dinner",
         "size": 2,
         "prct_tip": 0.14547537227949597,
         "ones": 1,
         "bin_total": "(3, 18]",
         "_deepnote_index_column": 41
        },
        {
         "total_bill": 13.94,
         "tip": 3.06,
         "sex": "Male",
         "smoker": "No",
         "day": "Sun",
         "time": "Dinner",
         "size": 2,
         "prct_tip": 0.21951219512195122,
         "ones": 1,
         "bin_total": "(3, 18]",
         "_deepnote_index_column": 42
        },
        {
         "total_bill": 9.68,
         "tip": 1.32,
         "sex": "Male",
         "smoker": "No",
         "day": "Sun",
         "time": "Dinner",
         "size": 2,
         "prct_tip": 0.13636363636363638,
         "ones": 1,
         "bin_total": "(3, 18]",
         "_deepnote_index_column": 43
        },
        {
         "total_bill": 30.4,
         "tip": 5.6,
         "sex": "Male",
         "smoker": "No",
         "day": "Sun",
         "time": "Dinner",
         "size": 4,
         "prct_tip": 0.18421052631578946,
         "ones": 1,
         "bin_total": "(18, 35]",
         "_deepnote_index_column": 44
        },
        {
         "total_bill": 18.29,
         "tip": 3,
         "sex": "Male",
         "smoker": "No",
         "day": "Sun",
         "time": "Dinner",
         "size": 2,
         "prct_tip": 0.16402405686167304,
         "ones": 1,
         "bin_total": "(18, 35]",
         "_deepnote_index_column": 45
        },
        {
         "total_bill": 22.23,
         "tip": 5,
         "sex": "Male",
         "smoker": "No",
         "day": "Sun",
         "time": "Dinner",
         "size": 2,
         "prct_tip": 0.22492127755285649,
         "ones": 1,
         "bin_total": "(18, 35]",
         "_deepnote_index_column": 46
        },
        {
         "total_bill": 32.4,
         "tip": 6,
         "sex": "Male",
         "smoker": "No",
         "day": "Sun",
         "time": "Dinner",
         "size": 4,
         "prct_tip": 0.1851851851851852,
         "ones": 1,
         "bin_total": "(18, 35]",
         "_deepnote_index_column": 47
        },
        {
         "total_bill": 28.55,
         "tip": 2.05,
         "sex": "Male",
         "smoker": "No",
         "day": "Sun",
         "time": "Dinner",
         "size": 3,
         "prct_tip": 0.07180385288966724,
         "ones": 1,
         "bin_total": "(18, 35]",
         "_deepnote_index_column": 48
        },
        {
         "total_bill": 18.04,
         "tip": 3,
         "sex": "Male",
         "smoker": "No",
         "day": "Sun",
         "time": "Dinner",
         "size": 2,
         "prct_tip": 0.16629711751662973,
         "ones": 1,
         "bin_total": "(18, 35]",
         "_deepnote_index_column": 49
        }
       ],
       "rows_bottom": [
        {
         "total_bill": 16.58,
         "tip": 4,
         "sex": "Male",
         "smoker": "Yes",
         "day": "Thur",
         "time": "Lunch",
         "size": 2,
         "prct_tip": 0.24125452352231608,
         "ones": 1,
         "bin_total": "(3, 18]",
         "_deepnote_index_column": 194
        },
        {
         "total_bill": 7.56,
         "tip": 1.44,
         "sex": "Male",
         "smoker": "No",
         "day": "Thur",
         "time": "Lunch",
         "size": 2,
         "prct_tip": 0.19047619047619047,
         "ones": 1,
         "bin_total": "(3, 18]",
         "_deepnote_index_column": 195
        },
        {
         "total_bill": 10.34,
         "tip": 2,
         "sex": "Male",
         "smoker": "Yes",
         "day": "Thur",
         "time": "Lunch",
         "size": 2,
         "prct_tip": 0.19342359767891684,
         "ones": 1,
         "bin_total": "(3, 18]",
         "_deepnote_index_column": 196
        },
        {
         "total_bill": 43.11,
         "tip": 5,
         "sex": "Female",
         "smoker": "Yes",
         "day": "Thur",
         "time": "Lunch",
         "size": 4,
         "prct_tip": 0.1159823706796567,
         "ones": 1,
         "bin_total": "(35, 70]",
         "_deepnote_index_column": 197
        },
        {
         "total_bill": 13,
         "tip": 2,
         "sex": "Female",
         "smoker": "Yes",
         "day": "Thur",
         "time": "Lunch",
         "size": 2,
         "prct_tip": 0.15384615384615385,
         "ones": 1,
         "bin_total": "(3, 18]",
         "_deepnote_index_column": 198
        },
        {
         "total_bill": 13.51,
         "tip": 2,
         "sex": "Male",
         "smoker": "Yes",
         "day": "Thur",
         "time": "Lunch",
         "size": 2,
         "prct_tip": 0.14803849000740193,
         "ones": 1,
         "bin_total": "(3, 18]",
         "_deepnote_index_column": 199
        },
        {
         "total_bill": 18.71,
         "tip": 4,
         "sex": "Male",
         "smoker": "Yes",
         "day": "Thur",
         "time": "Lunch",
         "size": 3,
         "prct_tip": 0.2137894174238375,
         "ones": 1,
         "bin_total": "(18, 35]",
         "_deepnote_index_column": 200
        },
        {
         "total_bill": 12.74,
         "tip": 2.01,
         "sex": "Female",
         "smoker": "Yes",
         "day": "Thur",
         "time": "Lunch",
         "size": 2,
         "prct_tip": 0.15777080062794346,
         "ones": 1,
         "bin_total": "(3, 18]",
         "_deepnote_index_column": 201
        },
        {
         "total_bill": 13,
         "tip": 2,
         "sex": "Female",
         "smoker": "Yes",
         "day": "Thur",
         "time": "Lunch",
         "size": 2,
         "prct_tip": 0.15384615384615385,
         "ones": 1,
         "bin_total": "(3, 18]",
         "_deepnote_index_column": 202
        },
        {
         "total_bill": 16.4,
         "tip": 2.5,
         "sex": "Female",
         "smoker": "Yes",
         "day": "Thur",
         "time": "Lunch",
         "size": 2,
         "prct_tip": 0.15243902439024393,
         "ones": 1,
         "bin_total": "(3, 18]",
         "_deepnote_index_column": 203
        },
        {
         "total_bill": 20.53,
         "tip": 4,
         "sex": "Male",
         "smoker": "Yes",
         "day": "Thur",
         "time": "Lunch",
         "size": 4,
         "prct_tip": 0.1948368241597662,
         "ones": 1,
         "bin_total": "(18, 35]",
         "_deepnote_index_column": 204
        },
        {
         "total_bill": 16.47,
         "tip": 3.23,
         "sex": "Female",
         "smoker": "Yes",
         "day": "Thur",
         "time": "Lunch",
         "size": 3,
         "prct_tip": 0.19611414693381907,
         "ones": 1,
         "bin_total": "(3, 18]",
         "_deepnote_index_column": 205
        },
        {
         "total_bill": 26.59,
         "tip": 3.41,
         "sex": "Male",
         "smoker": "Yes",
         "day": "Sat",
         "time": "Dinner",
         "size": 3,
         "prct_tip": 0.1282437006393381,
         "ones": 1,
         "bin_total": "(18, 35]",
         "_deepnote_index_column": 206
        },
        {
         "total_bill": 38.73,
         "tip": 3,
         "sex": "Male",
         "smoker": "Yes",
         "day": "Sat",
         "time": "Dinner",
         "size": 4,
         "prct_tip": 0.0774593338497289,
         "ones": 1,
         "bin_total": "(35, 70]",
         "_deepnote_index_column": 207
        },
        {
         "total_bill": 24.27,
         "tip": 2.03,
         "sex": "Male",
         "smoker": "Yes",
         "day": "Sat",
         "time": "Dinner",
         "size": 2,
         "prct_tip": 0.08364235681911825,
         "ones": 1,
         "bin_total": "(18, 35]",
         "_deepnote_index_column": 208
        },
        {
         "total_bill": 12.76,
         "tip": 2.23,
         "sex": "Female",
         "smoker": "Yes",
         "day": "Sat",
         "time": "Dinner",
         "size": 2,
         "prct_tip": 0.17476489028213166,
         "ones": 1,
         "bin_total": "(3, 18]",
         "_deepnote_index_column": 209
        },
        {
         "total_bill": 30.06,
         "tip": 2,
         "sex": "Male",
         "smoker": "Yes",
         "day": "Sat",
         "time": "Dinner",
         "size": 3,
         "prct_tip": 0.06653359946773121,
         "ones": 1,
         "bin_total": "(18, 35]",
         "_deepnote_index_column": 210
        },
        {
         "total_bill": 25.89,
         "tip": 5.16,
         "sex": "Male",
         "smoker": "Yes",
         "day": "Sat",
         "time": "Dinner",
         "size": 4,
         "prct_tip": 0.1993047508690614,
         "ones": 1,
         "bin_total": "(18, 35]",
         "_deepnote_index_column": 211
        },
        {
         "total_bill": 48.33,
         "tip": 9,
         "sex": "Male",
         "smoker": "No",
         "day": "Sat",
         "time": "Dinner",
         "size": 4,
         "prct_tip": 0.186219739292365,
         "ones": 1,
         "bin_total": "(35, 70]",
         "_deepnote_index_column": 212
        },
        {
         "total_bill": 13.27,
         "tip": 2.5,
         "sex": "Female",
         "smoker": "Yes",
         "day": "Sat",
         "time": "Dinner",
         "size": 2,
         "prct_tip": 0.18839487565938207,
         "ones": 1,
         "bin_total": "(3, 18]",
         "_deepnote_index_column": 213
        },
        {
         "total_bill": 28.17,
         "tip": 6.5,
         "sex": "Female",
         "smoker": "Yes",
         "day": "Sat",
         "time": "Dinner",
         "size": 3,
         "prct_tip": 0.23074192403265883,
         "ones": 1,
         "bin_total": "(18, 35]",
         "_deepnote_index_column": 214
        },
        {
         "total_bill": 12.9,
         "tip": 1.1,
         "sex": "Female",
         "smoker": "Yes",
         "day": "Sat",
         "time": "Dinner",
         "size": 2,
         "prct_tip": 0.08527131782945736,
         "ones": 1,
         "bin_total": "(3, 18]",
         "_deepnote_index_column": 215
        },
        {
         "total_bill": 28.15,
         "tip": 3,
         "sex": "Male",
         "smoker": "Yes",
         "day": "Sat",
         "time": "Dinner",
         "size": 5,
         "prct_tip": 0.10657193605683837,
         "ones": 1,
         "bin_total": "(18, 35]",
         "_deepnote_index_column": 216
        },
        {
         "total_bill": 11.59,
         "tip": 1.5,
         "sex": "Male",
         "smoker": "Yes",
         "day": "Sat",
         "time": "Dinner",
         "size": 2,
         "prct_tip": 0.12942191544434858,
         "ones": 1,
         "bin_total": "(3, 18]",
         "_deepnote_index_column": 217
        },
        {
         "total_bill": 7.74,
         "tip": 1.44,
         "sex": "Male",
         "smoker": "Yes",
         "day": "Sat",
         "time": "Dinner",
         "size": 2,
         "prct_tip": 0.18604651162790697,
         "ones": 1,
         "bin_total": "(3, 18]",
         "_deepnote_index_column": 218
        },
        {
         "total_bill": 30.14,
         "tip": 3.09,
         "sex": "Female",
         "smoker": "Yes",
         "day": "Sat",
         "time": "Dinner",
         "size": 4,
         "prct_tip": 0.10252156602521566,
         "ones": 1,
         "bin_total": "(18, 35]",
         "_deepnote_index_column": 219
        },
        {
         "total_bill": 12.16,
         "tip": 2.2,
         "sex": "Male",
         "smoker": "Yes",
         "day": "Fri",
         "time": "Lunch",
         "size": 2,
         "prct_tip": 0.18092105263157895,
         "ones": 1,
         "bin_total": "(3, 18]",
         "_deepnote_index_column": 220
        },
        {
         "total_bill": 13.42,
         "tip": 3.48,
         "sex": "Female",
         "smoker": "Yes",
         "day": "Fri",
         "time": "Lunch",
         "size": 2,
         "prct_tip": 0.2593144560357675,
         "ones": 1,
         "bin_total": "(3, 18]",
         "_deepnote_index_column": 221
        },
        {
         "total_bill": 8.58,
         "tip": 1.92,
         "sex": "Male",
         "smoker": "Yes",
         "day": "Fri",
         "time": "Lunch",
         "size": 1,
         "prct_tip": 0.22377622377622378,
         "ones": 1,
         "bin_total": "(3, 18]",
         "_deepnote_index_column": 222
        },
        {
         "total_bill": 15.98,
         "tip": 3,
         "sex": "Female",
         "smoker": "No",
         "day": "Fri",
         "time": "Lunch",
         "size": 3,
         "prct_tip": 0.18773466833541927,
         "ones": 1,
         "bin_total": "(3, 18]",
         "_deepnote_index_column": 223
        },
        {
         "total_bill": 13.42,
         "tip": 1.58,
         "sex": "Male",
         "smoker": "Yes",
         "day": "Fri",
         "time": "Lunch",
         "size": 2,
         "prct_tip": 0.11773472429210134,
         "ones": 1,
         "bin_total": "(3, 18]",
         "_deepnote_index_column": 224
        },
        {
         "total_bill": 16.27,
         "tip": 2.5,
         "sex": "Female",
         "smoker": "Yes",
         "day": "Fri",
         "time": "Lunch",
         "size": 2,
         "prct_tip": 0.15365703749231716,
         "ones": 1,
         "bin_total": "(3, 18]",
         "_deepnote_index_column": 225
        },
        {
         "total_bill": 10.09,
         "tip": 2,
         "sex": "Female",
         "smoker": "Yes",
         "day": "Fri",
         "time": "Lunch",
         "size": 2,
         "prct_tip": 0.19821605550049554,
         "ones": 1,
         "bin_total": "(3, 18]",
         "_deepnote_index_column": 226
        },
        {
         "total_bill": 20.45,
         "tip": 3,
         "sex": "Male",
         "smoker": "No",
         "day": "Sat",
         "time": "Dinner",
         "size": 4,
         "prct_tip": 0.1466992665036675,
         "ones": 1,
         "bin_total": "(18, 35]",
         "_deepnote_index_column": 227
        },
        {
         "total_bill": 13.28,
         "tip": 2.72,
         "sex": "Male",
         "smoker": "No",
         "day": "Sat",
         "time": "Dinner",
         "size": 2,
         "prct_tip": 0.20481927710843376,
         "ones": 1,
         "bin_total": "(3, 18]",
         "_deepnote_index_column": 228
        },
        {
         "total_bill": 22.12,
         "tip": 2.88,
         "sex": "Female",
         "smoker": "Yes",
         "day": "Sat",
         "time": "Dinner",
         "size": 2,
         "prct_tip": 0.13019891500904157,
         "ones": 1,
         "bin_total": "(18, 35]",
         "_deepnote_index_column": 229
        },
        {
         "total_bill": 24.01,
         "tip": 2,
         "sex": "Male",
         "smoker": "Yes",
         "day": "Sat",
         "time": "Dinner",
         "size": 4,
         "prct_tip": 0.08329862557267805,
         "ones": 1,
         "bin_total": "(18, 35]",
         "_deepnote_index_column": 230
        },
        {
         "total_bill": 15.69,
         "tip": 3,
         "sex": "Male",
         "smoker": "Yes",
         "day": "Sat",
         "time": "Dinner",
         "size": 3,
         "prct_tip": 0.19120458891013384,
         "ones": 1,
         "bin_total": "(3, 18]",
         "_deepnote_index_column": 231
        },
        {
         "total_bill": 11.61,
         "tip": 3.39,
         "sex": "Male",
         "smoker": "No",
         "day": "Sat",
         "time": "Dinner",
         "size": 2,
         "prct_tip": 0.29198966408268734,
         "ones": 1,
         "bin_total": "(3, 18]",
         "_deepnote_index_column": 232
        },
        {
         "total_bill": 10.77,
         "tip": 1.47,
         "sex": "Male",
         "smoker": "No",
         "day": "Sat",
         "time": "Dinner",
         "size": 2,
         "prct_tip": 0.13649025069637882,
         "ones": 1,
         "bin_total": "(3, 18]",
         "_deepnote_index_column": 233
        },
        {
         "total_bill": 15.53,
         "tip": 3,
         "sex": "Male",
         "smoker": "Yes",
         "day": "Sat",
         "time": "Dinner",
         "size": 2,
         "prct_tip": 0.19317450096587252,
         "ones": 1,
         "bin_total": "(3, 18]",
         "_deepnote_index_column": 234
        },
        {
         "total_bill": 10.07,
         "tip": 1.25,
         "sex": "Male",
         "smoker": "No",
         "day": "Sat",
         "time": "Dinner",
         "size": 2,
         "prct_tip": 0.12413108242303872,
         "ones": 1,
         "bin_total": "(3, 18]",
         "_deepnote_index_column": 235
        },
        {
         "total_bill": 12.6,
         "tip": 1,
         "sex": "Male",
         "smoker": "Yes",
         "day": "Sat",
         "time": "Dinner",
         "size": 2,
         "prct_tip": 0.07936507936507936,
         "ones": 1,
         "bin_total": "(3, 18]",
         "_deepnote_index_column": 236
        },
        {
         "total_bill": 32.83,
         "tip": 1.17,
         "sex": "Male",
         "smoker": "Yes",
         "day": "Sat",
         "time": "Dinner",
         "size": 2,
         "prct_tip": 0.03563813585135547,
         "ones": 1,
         "bin_total": "(18, 35]",
         "_deepnote_index_column": 237
        },
        {
         "total_bill": 35.83,
         "tip": 4.67,
         "sex": "Female",
         "smoker": "No",
         "day": "Sat",
         "time": "Dinner",
         "size": 3,
         "prct_tip": 0.13033770583310075,
         "ones": 1,
         "bin_total": "(35, 70]",
         "_deepnote_index_column": 238
        },
        {
         "total_bill": 29.03,
         "tip": 5.92,
         "sex": "Male",
         "smoker": "No",
         "day": "Sat",
         "time": "Dinner",
         "size": 3,
         "prct_tip": 0.2039269720978298,
         "ones": 1,
         "bin_total": "(18, 35]",
         "_deepnote_index_column": 239
        },
        {
         "total_bill": 27.18,
         "tip": 2,
         "sex": "Female",
         "smoker": "Yes",
         "day": "Sat",
         "time": "Dinner",
         "size": 2,
         "prct_tip": 0.07358351729212656,
         "ones": 1,
         "bin_total": "(18, 35]",
         "_deepnote_index_column": 240
        },
        {
         "total_bill": 22.67,
         "tip": 2,
         "sex": "Male",
         "smoker": "Yes",
         "day": "Sat",
         "time": "Dinner",
         "size": 2,
         "prct_tip": 0.08822232024702249,
         "ones": 1,
         "bin_total": "(18, 35]",
         "_deepnote_index_column": 241
        },
        {
         "total_bill": 17.82,
         "tip": 1.75,
         "sex": "Male",
         "smoker": "No",
         "day": "Sat",
         "time": "Dinner",
         "size": 2,
         "prct_tip": 0.09820426487093153,
         "ones": 1,
         "bin_total": "(3, 18]",
         "_deepnote_index_column": 242
        },
        {
         "total_bill": 18.78,
         "tip": 3,
         "sex": "Female",
         "smoker": "No",
         "day": "Thur",
         "time": "Dinner",
         "size": 2,
         "prct_tip": 0.1597444089456869,
         "ones": 1,
         "bin_total": "(18, 35]",
         "_deepnote_index_column": 243
        }
       ]
      },
      "text/plain": "     total_bill   tip     sex smoker   day    time  size  prct_tip  ones  \\\n0        16.990 1.010  Female     No   Sun  Dinner     2     0.059     1   \n1        10.340 1.660    Male     No   Sun  Dinner     3     0.161     1   \n2        21.010 3.500    Male     No   Sun  Dinner     3     0.167     1   \n3        23.680 3.310    Male     No   Sun  Dinner     2     0.140     1   \n4        24.590 3.610  Female     No   Sun  Dinner     4     0.147     1   \n..          ...   ...     ...    ...   ...     ...   ...       ...   ...   \n239      29.030 5.920    Male     No   Sat  Dinner     3     0.204     1   \n240      27.180 2.000  Female    Yes   Sat  Dinner     2     0.074     1   \n241      22.670 2.000    Male    Yes   Sat  Dinner     2     0.088     1   \n242      17.820 1.750    Male     No   Sat  Dinner     2     0.098     1   \n243      18.780 3.000  Female     No  Thur  Dinner     2     0.160     1   \n\n    bin_total  \n0     (3, 18]  \n1     (3, 18]  \n2    (18, 35]  \n3    (18, 35]  \n4    (18, 35]  \n..        ...  \n239  (18, 35]  \n240  (18, 35]  \n241  (18, 35]  \n242   (3, 18]  \n243  (18, 35]  \n\n[244 rows x 10 columns]",
      "text/html": "<div>\n<style scoped>\n    .dataframe tbody tr th:only-of-type {\n        vertical-align: middle;\n    }\n\n    .dataframe tbody tr th {\n        vertical-align: top;\n    }\n\n    .dataframe thead th {\n        text-align: right;\n    }\n</style>\n<table border=\"1\" class=\"dataframe\">\n  <thead>\n    <tr style=\"text-align: right;\">\n      <th></th>\n      <th>total_bill</th>\n      <th>tip</th>\n      <th>sex</th>\n      <th>smoker</th>\n      <th>day</th>\n      <th>time</th>\n      <th>size</th>\n      <th>prct_tip</th>\n      <th>ones</th>\n      <th>bin_total</th>\n    </tr>\n  </thead>\n  <tbody>\n    <tr>\n      <th>0</th>\n      <td>16.990</td>\n      <td>1.010</td>\n      <td>Female</td>\n      <td>No</td>\n      <td>Sun</td>\n      <td>Dinner</td>\n      <td>2</td>\n      <td>0.059</td>\n      <td>1</td>\n      <td>(3, 18]</td>\n    </tr>\n    <tr>\n      <th>1</th>\n      <td>10.340</td>\n      <td>1.660</td>\n      <td>Male</td>\n      <td>No</td>\n      <td>Sun</td>\n      <td>Dinner</td>\n      <td>3</td>\n      <td>0.161</td>\n      <td>1</td>\n      <td>(3, 18]</td>\n    </tr>\n    <tr>\n      <th>2</th>\n      <td>21.010</td>\n      <td>3.500</td>\n      <td>Male</td>\n      <td>No</td>\n      <td>Sun</td>\n      <td>Dinner</td>\n      <td>3</td>\n      <td>0.167</td>\n      <td>1</td>\n      <td>(18, 35]</td>\n    </tr>\n    <tr>\n      <th>3</th>\n      <td>23.680</td>\n      <td>3.310</td>\n      <td>Male</td>\n      <td>No</td>\n      <td>Sun</td>\n      <td>Dinner</td>\n      <td>2</td>\n      <td>0.140</td>\n      <td>1</td>\n      <td>(18, 35]</td>\n    </tr>\n    <tr>\n      <th>4</th>\n      <td>24.590</td>\n      <td>3.610</td>\n      <td>Female</td>\n      <td>No</td>\n      <td>Sun</td>\n      <td>Dinner</td>\n      <td>4</td>\n      <td>0.147</td>\n      <td>1</td>\n      <td>(18, 35]</td>\n    </tr>\n    <tr>\n      <th>...</th>\n      <td>...</td>\n      <td>...</td>\n      <td>...</td>\n      <td>...</td>\n      <td>...</td>\n      <td>...</td>\n      <td>...</td>\n      <td>...</td>\n      <td>...</td>\n      <td>...</td>\n    </tr>\n    <tr>\n      <th>239</th>\n      <td>29.030</td>\n      <td>5.920</td>\n      <td>Male</td>\n      <td>No</td>\n      <td>Sat</td>\n      <td>Dinner</td>\n      <td>3</td>\n      <td>0.204</td>\n      <td>1</td>\n      <td>(18, 35]</td>\n    </tr>\n    <tr>\n      <th>240</th>\n      <td>27.180</td>\n      <td>2.000</td>\n      <td>Female</td>\n      <td>Yes</td>\n      <td>Sat</td>\n      <td>Dinner</td>\n      <td>2</td>\n      <td>0.074</td>\n      <td>1</td>\n      <td>(18, 35]</td>\n    </tr>\n    <tr>\n      <th>241</th>\n      <td>22.670</td>\n      <td>2.000</td>\n      <td>Male</td>\n      <td>Yes</td>\n      <td>Sat</td>\n      <td>Dinner</td>\n      <td>2</td>\n      <td>0.088</td>\n      <td>1</td>\n      <td>(18, 35]</td>\n    </tr>\n    <tr>\n      <th>242</th>\n      <td>17.820</td>\n      <td>1.750</td>\n      <td>Male</td>\n      <td>No</td>\n      <td>Sat</td>\n      <td>Dinner</td>\n      <td>2</td>\n      <td>0.098</td>\n      <td>1</td>\n      <td>(3, 18]</td>\n    </tr>\n    <tr>\n      <th>243</th>\n      <td>18.780</td>\n      <td>3.000</td>\n      <td>Female</td>\n      <td>No</td>\n      <td>Thur</td>\n      <td>Dinner</td>\n      <td>2</td>\n      <td>0.160</td>\n      <td>1</td>\n      <td>(18, 35]</td>\n    </tr>\n  </tbody>\n</table>\n<p>244 rows × 10 columns</p>\n</div>"
     },
     "metadata": {}
    }
   ]
  },
  {
   "cell_type": "markdown",
   "source": "Vamos a poder observar el procentaje total de las facturas que se generan segun su categoria.",
   "metadata": {
    "tags": [],
    "cell_id": "00215-332b1b1d-1df2-483f-9ebd-e689c14d3abe",
    "deepnote_cell_type": "markdown"
   }
  },
  {
   "cell_type": "code",
   "metadata": {
    "tags": [],
    "cell_id": "00216-e78ebf3b-ff1e-45ff-948d-9d6b529ef37f",
    "deepnote_to_be_reexecuted": false,
    "source_hash": "6e6913c8",
    "execution_start": 1625428103129,
    "execution_millis": 43,
    "deepnote_cell_type": "code"
   },
   "source": "df.groupby(['time','bin_total'])[['ones']].count().groupby(level=0).apply(lambda x: x/x.sum()*100)",
   "execution_count": 60,
   "outputs": [
    {
     "output_type": "execute_result",
     "execution_count": 60,
     "data": {
      "application/vnd.deepnote.dataframe.v2+json": {
       "row_count": 6,
       "column_count": 1,
       "columns": [
        {
         "name": "ones",
         "dtype": "float64",
         "stats": {
          "unique_count": 6,
          "nan_count": 0,
          "min": "2.941176470588235",
          "max": "66.17647058823529",
          "histogram": [
           {
            "bin_start": 2.941176470588235,
            "bin_end": 9.26470588235294,
            "count": 2
           },
           {
            "bin_start": 9.26470588235294,
            "bin_end": 15.588235294117647,
            "count": 0
           },
           {
            "bin_start": 15.588235294117647,
            "bin_end": 21.91176470588235,
            "count": 0
           },
           {
            "bin_start": 21.91176470588235,
            "bin_end": 28.235294117647058,
            "count": 0
           },
           {
            "bin_start": 28.235294117647058,
            "bin_end": 34.55882352941176,
            "count": 1
           },
           {
            "bin_start": 34.55882352941176,
            "bin_end": 40.882352941176464,
            "count": 0
           },
           {
            "bin_start": 40.882352941176464,
            "bin_end": 47.205882352941174,
            "count": 2
           },
           {
            "bin_start": 47.205882352941174,
            "bin_end": 53.52941176470588,
            "count": 0
           },
           {
            "bin_start": 53.52941176470588,
            "bin_end": 59.85294117647058,
            "count": 0
           },
           {
            "bin_start": 59.85294117647058,
            "bin_end": 66.17647058823529,
            "count": 1
           }
          ]
         }
        },
        {
         "name": "_deepnote_index_column",
         "dtype": "object"
        }
       ],
       "rows_top": [
        {
         "ones": 66.17647058823529,
         "_deepnote_index_column": "('Lunch', Interval(3, 18, closed='right'))"
        },
        {
         "ones": 30.88235294117647,
         "_deepnote_index_column": "('Lunch', Interval(18, 35, closed='right'))"
        },
        {
         "ones": 2.941176470588235,
         "_deepnote_index_column": "('Lunch', Interval(35, 70, closed='right'))"
        },
        {
         "ones": 46.590909090909086,
         "_deepnote_index_column": "('Dinner', Interval(3, 18, closed='right'))"
        },
        {
         "ones": 45.45454545454545,
         "_deepnote_index_column": "('Dinner', Interval(18, 35, closed='right'))"
        },
        {
         "ones": 7.954545454545454,
         "_deepnote_index_column": "('Dinner', Interval(35, 70, closed='right'))"
        }
       ],
       "rows_bottom": null
      },
      "text/plain": "                   ones\ntime   bin_total       \nLunch  (3, 18]   66.176\n       (18, 35]  30.882\n       (35, 70]   2.941\nDinner (3, 18]   46.591\n       (18, 35]  45.455\n       (35, 70]   7.955",
      "text/html": "<div>\n<style scoped>\n    .dataframe tbody tr th:only-of-type {\n        vertical-align: middle;\n    }\n\n    .dataframe tbody tr th {\n        vertical-align: top;\n    }\n\n    .dataframe thead th {\n        text-align: right;\n    }\n</style>\n<table border=\"1\" class=\"dataframe\">\n  <thead>\n    <tr style=\"text-align: right;\">\n      <th></th>\n      <th></th>\n      <th>ones</th>\n    </tr>\n    <tr>\n      <th>time</th>\n      <th>bin_total</th>\n      <th></th>\n    </tr>\n  </thead>\n  <tbody>\n    <tr>\n      <th rowspan=\"3\" valign=\"top\">Lunch</th>\n      <th>(3, 18]</th>\n      <td>66.176</td>\n    </tr>\n    <tr>\n      <th>(18, 35]</th>\n      <td>30.882</td>\n    </tr>\n    <tr>\n      <th>(35, 70]</th>\n      <td>2.941</td>\n    </tr>\n    <tr>\n      <th rowspan=\"3\" valign=\"top\">Dinner</th>\n      <th>(3, 18]</th>\n      <td>46.591</td>\n    </tr>\n    <tr>\n      <th>(18, 35]</th>\n      <td>45.455</td>\n    </tr>\n    <tr>\n      <th>(35, 70]</th>\n      <td>7.955</td>\n    </tr>\n  </tbody>\n</table>\n</div>"
     },
     "metadata": {}
    }
   ]
  },
  {
   "cell_type": "markdown",
   "source": "# Lidiar con datos duplicados\n[17] lidiar-datos-duplicados.ipynb",
   "metadata": {
    "tags": [],
    "cell_id": "00217-98771f54-4305-43e1-881a-5a0848c9b97c",
    "deepnote_cell_type": "markdown"
   }
  },
  {
   "cell_type": "code",
   "metadata": {
    "tags": [],
    "cell_id": "00218-cbcbd0aa-1b96-4877-b15d-7c06faa58fad",
    "deepnote_to_be_reexecuted": false,
    "source_hash": "88112450",
    "execution_start": 1625428795746,
    "execution_millis": 0,
    "deepnote_cell_type": "code"
   },
   "source": "df = pd.DataFrame({'a': ['w'] * 4 + ['x'] * 3 + ['y'] * 2 + ['z']+['v'], \n    'b': [1, 1, 1, 1, 2, 2, 2, 3, 3, 4,5]})",
   "execution_count": 71,
   "outputs": []
  },
  {
   "cell_type": "markdown",
   "source": "## Encontrar duplicados\nPara encontrar los registros duplicados usamos **duplicated** , que marca con **True** aquellos casos de filas duplicadas:",
   "metadata": {
    "tags": [],
    "cell_id": "00219-d741ade2-b844-4258-96a9-a2d24a3c19f4",
    "deepnote_cell_type": "markdown"
   }
  },
  {
   "cell_type": "code",
   "metadata": {
    "tags": [],
    "cell_id": "00220-df624827-d429-418f-8046-60a6b1a6e7c6",
    "deepnote_to_be_reexecuted": false,
    "source_hash": "47cec7c3",
    "execution_start": 1625428796439,
    "execution_millis": 15,
    "deepnote_cell_type": "code"
   },
   "source": "df.duplicated() # Ver duplicados",
   "execution_count": 72,
   "outputs": [
    {
     "output_type": "execute_result",
     "execution_count": 72,
     "data": {
      "text/plain": "0     False\n1      True\n2      True\n3      True\n4     False\n5      True\n6      True\n7     False\n8      True\n9     False\n10    False\ndtype: bool"
     },
     "metadata": {}
    }
   ]
  },
  {
   "cell_type": "markdown",
   "source": "Podemos usar **keep='first'** para marcar solo la primera ocurrencia o **keep='last'** para marcar la última:",
   "metadata": {
    "tags": [],
    "cell_id": "00221-ae990bfc-9781-4eb1-a66b-9369e46afc3b",
    "deepnote_cell_type": "markdown"
   }
  },
  {
   "cell_type": "code",
   "metadata": {
    "tags": [],
    "cell_id": "00222-f6176b8a-afb7-4de2-8022-dd786fcccd55",
    "deepnote_to_be_reexecuted": false,
    "source_hash": "b40714e6",
    "execution_start": 1625428797004,
    "execution_millis": 32,
    "deepnote_cell_type": "code"
   },
   "source": "#keep='last' o 'first, marca la primer/ultima ocurrencia\ndf.duplicated(keep='first')",
   "execution_count": 73,
   "outputs": [
    {
     "output_type": "execute_result",
     "execution_count": 73,
     "data": {
      "text/plain": "0     False\n1      True\n2      True\n3      True\n4     False\n5      True\n6      True\n7     False\n8      True\n9     False\n10    False\ndtype: bool"
     },
     "metadata": {}
    }
   ]
  },
  {
   "cell_type": "code",
   "metadata": {
    "tags": [],
    "cell_id": "00223-c0d4756d-5db1-4f2c-b6fd-274fd7b340ee",
    "deepnote_to_be_reexecuted": false,
    "source_hash": "ac886054",
    "execution_start": 1625428797259,
    "execution_millis": 18,
    "deepnote_cell_type": "code"
   },
   "source": "df.duplicated(keep='last')",
   "execution_count": 74,
   "outputs": [
    {
     "output_type": "execute_result",
     "execution_count": 74,
     "data": {
      "text/plain": "0      True\n1      True\n2      True\n3     False\n4      True\n5      True\n6     False\n7      True\n8     False\n9     False\n10    False\ndtype: bool"
     },
     "metadata": {}
    }
   ]
  },
  {
   "cell_type": "markdown",
   "source": "## Mostrar los registros no duplicados\nIdentificados los casos duplicados, podemos usar este resultado para filtrar y seleccionar aquellos que no tienen un registro duplicado:",
   "metadata": {
    "tags": [],
    "cell_id": "00224-31fe4e82-4a8d-4951-8936-9af532a174f2",
    "deepnote_cell_type": "markdown"
   }
  },
  {
   "cell_type": "code",
   "metadata": {
    "tags": [],
    "cell_id": "00225-9752eba0-3bde-46c9-a077-76c39818b03b",
    "deepnote_to_be_reexecuted": false,
    "source_hash": "ef196732",
    "execution_start": 1625428797751,
    "execution_millis": 29,
    "deepnote_cell_type": "code"
   },
   "source": "#Filtra casos que no estan duplicados, ~ = negacion\ndf[~ df.duplicated()]",
   "execution_count": 75,
   "outputs": [
    {
     "output_type": "execute_result",
     "execution_count": 75,
     "data": {
      "application/vnd.deepnote.dataframe.v2+json": {
       "row_count": 5,
       "column_count": 2,
       "columns": [
        {
         "name": "a",
         "dtype": "object",
         "stats": {
          "unique_count": 5,
          "nan_count": 0,
          "categories": [
           {
            "name": "w",
            "count": 1
           },
           {
            "name": "x",
            "count": 1
           },
           {
            "name": "3 others",
            "count": 3
           }
          ]
         }
        },
        {
         "name": "b",
         "dtype": "int64",
         "stats": {
          "unique_count": 5,
          "nan_count": 0,
          "min": "1",
          "max": "5",
          "histogram": [
           {
            "bin_start": 1,
            "bin_end": 1.4,
            "count": 1
           },
           {
            "bin_start": 1.4,
            "bin_end": 1.8,
            "count": 0
           },
           {
            "bin_start": 1.8,
            "bin_end": 2.2,
            "count": 1
           },
           {
            "bin_start": 2.2,
            "bin_end": 2.6,
            "count": 0
           },
           {
            "bin_start": 2.6,
            "bin_end": 3,
            "count": 0
           },
           {
            "bin_start": 3,
            "bin_end": 3.4000000000000004,
            "count": 1
           },
           {
            "bin_start": 3.4000000000000004,
            "bin_end": 3.8000000000000003,
            "count": 0
           },
           {
            "bin_start": 3.8000000000000003,
            "bin_end": 4.2,
            "count": 1
           },
           {
            "bin_start": 4.2,
            "bin_end": 4.6,
            "count": 0
           },
           {
            "bin_start": 4.6,
            "bin_end": 5,
            "count": 1
           }
          ]
         }
        },
        {
         "name": "_deepnote_index_column",
         "dtype": "int64"
        }
       ],
       "rows_top": [
        {
         "a": "w",
         "b": 1,
         "_deepnote_index_column": 0
        },
        {
         "a": "x",
         "b": 2,
         "_deepnote_index_column": 4
        },
        {
         "a": "y",
         "b": 3,
         "_deepnote_index_column": 7
        },
        {
         "a": "z",
         "b": 4,
         "_deepnote_index_column": 9
        },
        {
         "a": "v",
         "b": 5,
         "_deepnote_index_column": 10
        }
       ],
       "rows_bottom": null
      },
      "text/plain": "    a  b\n0   w  1\n4   x  2\n7   y  3\n9   z  4\n10  v  5",
      "text/html": "<div>\n<style scoped>\n    .dataframe tbody tr th:only-of-type {\n        vertical-align: middle;\n    }\n\n    .dataframe tbody tr th {\n        vertical-align: top;\n    }\n\n    .dataframe thead th {\n        text-align: right;\n    }\n</style>\n<table border=\"1\" class=\"dataframe\">\n  <thead>\n    <tr style=\"text-align: right;\">\n      <th></th>\n      <th>a</th>\n      <th>b</th>\n    </tr>\n  </thead>\n  <tbody>\n    <tr>\n      <th>0</th>\n      <td>w</td>\n      <td>1</td>\n    </tr>\n    <tr>\n      <th>4</th>\n      <td>x</td>\n      <td>2</td>\n    </tr>\n    <tr>\n      <th>7</th>\n      <td>y</td>\n      <td>3</td>\n    </tr>\n    <tr>\n      <th>9</th>\n      <td>z</td>\n      <td>4</td>\n    </tr>\n    <tr>\n      <th>10</th>\n      <td>v</td>\n      <td>5</td>\n    </tr>\n  </tbody>\n</table>\n</div>"
     },
     "metadata": {}
    }
   ]
  },
  {
   "cell_type": "markdown",
   "source": "Si quisieras dejar el **primer registro** de los duplicados o **el último**, recuerda usar** keep='first'** o **keep='last'**. Remarco el hecho de **que usé negación '~' para ver los registros no duplicados**.\n\nY si me interesara **ver** cuáles son los registros **duplicados**, podemos usar **keep=False**:",
   "metadata": {
    "tags": [],
    "cell_id": "00226-d83c1c10-6c6b-43d1-912b-9dd1b4a9838b",
    "deepnote_cell_type": "markdown"
   }
  },
  {
   "cell_type": "code",
   "metadata": {
    "tags": [],
    "cell_id": "00227-620aca69-3db5-48b3-adf4-4d323c82a45d",
    "deepnote_to_be_reexecuted": false,
    "source_hash": "ed2eea9",
    "execution_start": 1625428798300,
    "execution_millis": 20,
    "deepnote_cell_type": "code"
   },
   "source": "# Marca todos los registros duplicados\ndf.duplicated(keep=False)",
   "execution_count": 76,
   "outputs": [
    {
     "output_type": "execute_result",
     "execution_count": 76,
     "data": {
      "text/plain": "0      True\n1      True\n2      True\n3      True\n4      True\n5      True\n6      True\n7      True\n8      True\n9     False\n10    False\ndtype: bool"
     },
     "metadata": {}
    }
   ]
  },
  {
   "cell_type": "code",
   "metadata": {
    "tags": [],
    "cell_id": "00228-eada7545-9a21-4373-a220-6bfd65552487",
    "deepnote_to_be_reexecuted": false,
    "source_hash": "4ddaef4b",
    "execution_start": 1625428798606,
    "execution_millis": 16,
    "deepnote_cell_type": "code"
   },
   "source": "df[df.duplicated(keep=False)]",
   "execution_count": 77,
   "outputs": [
    {
     "output_type": "execute_result",
     "execution_count": 77,
     "data": {
      "application/vnd.deepnote.dataframe.v2+json": {
       "row_count": 9,
       "column_count": 2,
       "columns": [
        {
         "name": "a",
         "dtype": "object",
         "stats": {
          "unique_count": 3,
          "nan_count": 0,
          "categories": [
           {
            "name": "w",
            "count": 4
           },
           {
            "name": "x",
            "count": 3
           },
           {
            "name": "y",
            "count": 2
           }
          ]
         }
        },
        {
         "name": "b",
         "dtype": "int64",
         "stats": {
          "unique_count": 3,
          "nan_count": 0,
          "min": "1",
          "max": "3",
          "histogram": [
           {
            "bin_start": 1,
            "bin_end": 1.2,
            "count": 4
           },
           {
            "bin_start": 1.2,
            "bin_end": 1.4,
            "count": 0
           },
           {
            "bin_start": 1.4,
            "bin_end": 1.6,
            "count": 0
           },
           {
            "bin_start": 1.6,
            "bin_end": 1.8,
            "count": 0
           },
           {
            "bin_start": 1.8,
            "bin_end": 2,
            "count": 0
           },
           {
            "bin_start": 2,
            "bin_end": 2.2,
            "count": 3
           },
           {
            "bin_start": 2.2,
            "bin_end": 2.4000000000000004,
            "count": 0
           },
           {
            "bin_start": 2.4000000000000004,
            "bin_end": 2.6,
            "count": 0
           },
           {
            "bin_start": 2.6,
            "bin_end": 2.8,
            "count": 0
           },
           {
            "bin_start": 2.8,
            "bin_end": 3,
            "count": 2
           }
          ]
         }
        },
        {
         "name": "_deepnote_index_column",
         "dtype": "int64"
        }
       ],
       "rows_top": [
        {
         "a": "w",
         "b": 1,
         "_deepnote_index_column": 0
        },
        {
         "a": "w",
         "b": 1,
         "_deepnote_index_column": 1
        },
        {
         "a": "w",
         "b": 1,
         "_deepnote_index_column": 2
        },
        {
         "a": "w",
         "b": 1,
         "_deepnote_index_column": 3
        },
        {
         "a": "x",
         "b": 2,
         "_deepnote_index_column": 4
        },
        {
         "a": "x",
         "b": 2,
         "_deepnote_index_column": 5
        },
        {
         "a": "x",
         "b": 2,
         "_deepnote_index_column": 6
        },
        {
         "a": "y",
         "b": 3,
         "_deepnote_index_column": 7
        },
        {
         "a": "y",
         "b": 3,
         "_deepnote_index_column": 8
        }
       ],
       "rows_bottom": null
      },
      "text/plain": "   a  b\n0  w  1\n1  w  1\n2  w  1\n3  w  1\n4  x  2\n5  x  2\n6  x  2\n7  y  3\n8  y  3",
      "text/html": "<div>\n<style scoped>\n    .dataframe tbody tr th:only-of-type {\n        vertical-align: middle;\n    }\n\n    .dataframe tbody tr th {\n        vertical-align: top;\n    }\n\n    .dataframe thead th {\n        text-align: right;\n    }\n</style>\n<table border=\"1\" class=\"dataframe\">\n  <thead>\n    <tr style=\"text-align: right;\">\n      <th></th>\n      <th>a</th>\n      <th>b</th>\n    </tr>\n  </thead>\n  <tbody>\n    <tr>\n      <th>0</th>\n      <td>w</td>\n      <td>1</td>\n    </tr>\n    <tr>\n      <th>1</th>\n      <td>w</td>\n      <td>1</td>\n    </tr>\n    <tr>\n      <th>2</th>\n      <td>w</td>\n      <td>1</td>\n    </tr>\n    <tr>\n      <th>3</th>\n      <td>w</td>\n      <td>1</td>\n    </tr>\n    <tr>\n      <th>4</th>\n      <td>x</td>\n      <td>2</td>\n    </tr>\n    <tr>\n      <th>5</th>\n      <td>x</td>\n      <td>2</td>\n    </tr>\n    <tr>\n      <th>6</th>\n      <td>x</td>\n      <td>2</td>\n    </tr>\n    <tr>\n      <th>7</th>\n      <td>y</td>\n      <td>3</td>\n    </tr>\n    <tr>\n      <th>8</th>\n      <td>y</td>\n      <td>3</td>\n    </tr>\n  </tbody>\n</table>\n</div>"
     },
     "metadata": {}
    }
   ]
  },
  {
   "cell_type": "markdown",
   "source": "## Eliminar registros duplicados de una columna\nPor último, puedes usar el comando 'drop_duplicates' para eliminar los duplicados. Por defecto, la función guarda el primer resultado keep='first':",
   "metadata": {
    "tags": [],
    "cell_id": "00229-bb24637e-f4a7-4ed5-84b3-f569d1040e1a",
    "deepnote_cell_type": "markdown"
   }
  },
  {
   "cell_type": "code",
   "metadata": {
    "tags": [],
    "cell_id": "00230-cd826a7e-4547-4c49-b117-d7e27e69c339",
    "deepnote_to_be_reexecuted": false,
    "source_hash": "2c7e8f7",
    "execution_start": 1625428799872,
    "execution_millis": 25,
    "deepnote_cell_type": "code"
   },
   "source": "# descarta los registros duplicados, tiene por defecto el keep = first\ndf.drop_duplicates(['a'],keep='last')",
   "execution_count": 78,
   "outputs": [
    {
     "output_type": "execute_result",
     "execution_count": 78,
     "data": {
      "application/vnd.deepnote.dataframe.v2+json": {
       "row_count": 5,
       "column_count": 2,
       "columns": [
        {
         "name": "a",
         "dtype": "object",
         "stats": {
          "unique_count": 5,
          "nan_count": 0,
          "categories": [
           {
            "name": "w",
            "count": 1
           },
           {
            "name": "x",
            "count": 1
           },
           {
            "name": "3 others",
            "count": 3
           }
          ]
         }
        },
        {
         "name": "b",
         "dtype": "int64",
         "stats": {
          "unique_count": 5,
          "nan_count": 0,
          "min": "1",
          "max": "5",
          "histogram": [
           {
            "bin_start": 1,
            "bin_end": 1.4,
            "count": 1
           },
           {
            "bin_start": 1.4,
            "bin_end": 1.8,
            "count": 0
           },
           {
            "bin_start": 1.8,
            "bin_end": 2.2,
            "count": 1
           },
           {
            "bin_start": 2.2,
            "bin_end": 2.6,
            "count": 0
           },
           {
            "bin_start": 2.6,
            "bin_end": 3,
            "count": 0
           },
           {
            "bin_start": 3,
            "bin_end": 3.4000000000000004,
            "count": 1
           },
           {
            "bin_start": 3.4000000000000004,
            "bin_end": 3.8000000000000003,
            "count": 0
           },
           {
            "bin_start": 3.8000000000000003,
            "bin_end": 4.2,
            "count": 1
           },
           {
            "bin_start": 4.2,
            "bin_end": 4.6,
            "count": 0
           },
           {
            "bin_start": 4.6,
            "bin_end": 5,
            "count": 1
           }
          ]
         }
        },
        {
         "name": "_deepnote_index_column",
         "dtype": "int64"
        }
       ],
       "rows_top": [
        {
         "a": "w",
         "b": 1,
         "_deepnote_index_column": 3
        },
        {
         "a": "x",
         "b": 2,
         "_deepnote_index_column": 6
        },
        {
         "a": "y",
         "b": 3,
         "_deepnote_index_column": 8
        },
        {
         "a": "z",
         "b": 4,
         "_deepnote_index_column": 9
        },
        {
         "a": "v",
         "b": 5,
         "_deepnote_index_column": 10
        }
       ],
       "rows_bottom": null
      },
      "text/plain": "    a  b\n3   w  1\n6   x  2\n8   y  3\n9   z  4\n10  v  5",
      "text/html": "<div>\n<style scoped>\n    .dataframe tbody tr th:only-of-type {\n        vertical-align: middle;\n    }\n\n    .dataframe tbody tr th {\n        vertical-align: top;\n    }\n\n    .dataframe thead th {\n        text-align: right;\n    }\n</style>\n<table border=\"1\" class=\"dataframe\">\n  <thead>\n    <tr style=\"text-align: right;\">\n      <th></th>\n      <th>a</th>\n      <th>b</th>\n    </tr>\n  </thead>\n  <tbody>\n    <tr>\n      <th>3</th>\n      <td>w</td>\n      <td>1</td>\n    </tr>\n    <tr>\n      <th>6</th>\n      <td>x</td>\n      <td>2</td>\n    </tr>\n    <tr>\n      <th>8</th>\n      <td>y</td>\n      <td>3</td>\n    </tr>\n    <tr>\n      <th>9</th>\n      <td>z</td>\n      <td>4</td>\n    </tr>\n    <tr>\n      <th>10</th>\n      <td>v</td>\n      <td>5</td>\n    </tr>\n  </tbody>\n</table>\n</div>"
     },
     "metadata": {}
    }
   ]
  },
  {
   "cell_type": "markdown",
   "source": "# Tabla dinamica con Pivot",
   "metadata": {
    "tags": [],
    "cell_id": "00231-bac605d0-a252-4c37-aa2f-44b715af5f8d",
    "deepnote_cell_type": "markdown"
   }
  },
  {
   "cell_type": "code",
   "metadata": {
    "tags": [],
    "cell_id": "00231-89750046-1a51-424d-b6e8-943c655aacf6",
    "deepnote_to_be_reexecuted": false,
    "source_hash": "1faa7720",
    "execution_start": 1625428858862,
    "execution_millis": 18,
    "deepnote_cell_type": "code"
   },
   "source": "pd.options.display.float_format = '{:,.3f}'.format\ndf = sns.load_dataset('tips')\ndf_gp = df.groupby(['sex','time'])[['total_bill']].mean().reset_index()\ndf_gp",
   "execution_count": 79,
   "outputs": [
    {
     "output_type": "execute_result",
     "execution_count": 79,
     "data": {
      "application/vnd.deepnote.dataframe.v2+json": {
       "row_count": 4,
       "column_count": 3,
       "columns": [
        {
         "name": "sex",
         "dtype": "category",
         "stats": {
          "unique_count": 2,
          "nan_count": 0,
          "categories": [
           {
            "name": "Male",
            "count": 2
           },
           {
            "name": "Female",
            "count": 2
           }
          ]
         }
        },
        {
         "name": "time",
         "dtype": "category",
         "stats": {
          "unique_count": 2,
          "nan_count": 0,
          "categories": [
           {
            "name": "Lunch",
            "count": 2
           },
           {
            "name": "Dinner",
            "count": 2
           }
          ]
         }
        },
        {
         "name": "total_bill",
         "dtype": "float64",
         "stats": {
          "unique_count": 4,
          "nan_count": 0,
          "min": "16.339142857142857",
          "max": "21.461451612903236",
          "histogram": [
           {
            "bin_start": 16.339142857142857,
            "bin_end": 16.851373732718894,
            "count": 1
           },
           {
            "bin_start": 16.851373732718894,
            "bin_end": 17.36360460829493,
            "count": 0
           },
           {
            "bin_start": 17.36360460829493,
            "bin_end": 17.875835483870972,
            "count": 0
           },
           {
            "bin_start": 17.875835483870972,
            "bin_end": 18.38806635944701,
            "count": 1
           },
           {
            "bin_start": 18.38806635944701,
            "bin_end": 18.900297235023046,
            "count": 0
           },
           {
            "bin_start": 18.900297235023046,
            "bin_end": 19.412528110599084,
            "count": 1
           },
           {
            "bin_start": 19.412528110599084,
            "bin_end": 19.92475898617512,
            "count": 0
           },
           {
            "bin_start": 19.92475898617512,
            "bin_end": 20.436989861751158,
            "count": 0
           },
           {
            "bin_start": 20.436989861751158,
            "bin_end": 20.9492207373272,
            "count": 0
           },
           {
            "bin_start": 20.9492207373272,
            "bin_end": 21.461451612903236,
            "count": 1
           }
          ]
         }
        },
        {
         "name": "_deepnote_index_column",
         "dtype": "int64"
        }
       ],
       "rows_top": [
        {
         "sex": "Male",
         "time": "Lunch",
         "total_bill": 18.048484848484847,
         "_deepnote_index_column": 0
        },
        {
         "sex": "Male",
         "time": "Dinner",
         "total_bill": 21.461451612903236,
         "_deepnote_index_column": 1
        },
        {
         "sex": "Female",
         "time": "Lunch",
         "total_bill": 16.339142857142857,
         "_deepnote_index_column": 2
        },
        {
         "sex": "Female",
         "time": "Dinner",
         "total_bill": 19.21307692307692,
         "_deepnote_index_column": 3
        }
       ],
       "rows_bottom": null
      },
      "text/plain": "      sex    time  total_bill\n0    Male   Lunch      18.048\n1    Male  Dinner      21.461\n2  Female   Lunch      16.339\n3  Female  Dinner      19.213",
      "text/html": "<div>\n<style scoped>\n    .dataframe tbody tr th:only-of-type {\n        vertical-align: middle;\n    }\n\n    .dataframe tbody tr th {\n        vertical-align: top;\n    }\n\n    .dataframe thead th {\n        text-align: right;\n    }\n</style>\n<table border=\"1\" class=\"dataframe\">\n  <thead>\n    <tr style=\"text-align: right;\">\n      <th></th>\n      <th>sex</th>\n      <th>time</th>\n      <th>total_bill</th>\n    </tr>\n  </thead>\n  <tbody>\n    <tr>\n      <th>0</th>\n      <td>Male</td>\n      <td>Lunch</td>\n      <td>18.048</td>\n    </tr>\n    <tr>\n      <th>1</th>\n      <td>Male</td>\n      <td>Dinner</td>\n      <td>21.461</td>\n    </tr>\n    <tr>\n      <th>2</th>\n      <td>Female</td>\n      <td>Lunch</td>\n      <td>16.339</td>\n    </tr>\n    <tr>\n      <th>3</th>\n      <td>Female</td>\n      <td>Dinner</td>\n      <td>19.213</td>\n    </tr>\n  </tbody>\n</table>\n</div>"
     },
     "metadata": {}
    }
   ]
  },
  {
   "cell_type": "markdown",
   "source": "# Creando Pivot Table\nPivot nos ayuda crear tablas con **indices categoricos**\nPivot nos permite poder crear una tabla apartir de una agrupacion o crearla apartir del DataFrame original.\n<img src='https://pandas-docs.github.io/pandas-docs-travis/_images/reshaping_pivot.png'>",
   "metadata": {
    "tags": [],
    "cell_id": "00233-86a55c75-b879-4cfd-a838-8747b8780c6d",
    "deepnote_cell_type": "markdown"
   }
  },
  {
   "cell_type": "code",
   "metadata": {
    "tags": [],
    "cell_id": "00234-57c09b5c-7c3a-43c4-86c8-aee9dff4dcdf",
    "deepnote_cell_type": "code"
   },
   "source": "df_gp.pivot_table(values='total_bill', index='sex', columns='time')",
   "execution_count": null,
   "outputs": []
  },
  {
   "cell_type": "markdown",
   "source": "## Multiples funciones",
   "metadata": {
    "tags": [],
    "cell_id": "00235-2c49264b-627a-44a1-81fe-c2288254f893",
    "deepnote_cell_type": "markdown"
   }
  },
  {
   "cell_type": "code",
   "metadata": {
    "tags": [],
    "cell_id": "00236-78e338ac-5088-4cd0-b0f3-4125e881b347",
    "deepnote_to_be_reexecuted": false,
    "source_hash": "5e257f2b",
    "execution_start": 1625428899953,
    "execution_millis": 18,
    "deepnote_cell_type": "code"
   },
   "source": "df_pivot = df.pivot_table(values='total_bill', index='sex', columns='time', aggfunc=[np.median,np.std])\ndf_pivot",
   "execution_count": 80,
   "outputs": [
    {
     "output_type": "execute_result",
     "execution_count": 80,
     "data": {
      "application/vnd.deepnote.dataframe.v2+json": {
       "row_count": 2,
       "column_count": 4,
       "columns": [
        {
         "name": [
          "median",
          "Lunch"
         ],
         "dtype": "float64",
         "stats": {
          "unique_count": 2,
          "nan_count": 0,
          "min": "13.42",
          "max": "16.58",
          "histogram": [
           {
            "bin_start": 13.42,
            "bin_end": 13.736,
            "count": 1
           },
           {
            "bin_start": 13.736,
            "bin_end": 14.052,
            "count": 0
           },
           {
            "bin_start": 14.052,
            "bin_end": 14.367999999999999,
            "count": 0
           },
           {
            "bin_start": 14.367999999999999,
            "bin_end": 14.684,
            "count": 0
           },
           {
            "bin_start": 14.684,
            "bin_end": 15,
            "count": 0
           },
           {
            "bin_start": 15,
            "bin_end": 15.315999999999999,
            "count": 0
           },
           {
            "bin_start": 15.315999999999999,
            "bin_end": 15.631999999999998,
            "count": 0
           },
           {
            "bin_start": 15.631999999999998,
            "bin_end": 15.947999999999999,
            "count": 0
           },
           {
            "bin_start": 15.947999999999999,
            "bin_end": 16.264,
            "count": 0
           },
           {
            "bin_start": 16.264,
            "bin_end": 16.58,
            "count": 1
           }
          ]
         }
        },
        {
         "name": [
          "median",
          "Dinner"
         ],
         "dtype": "float64",
         "stats": {
          "unique_count": 2,
          "nan_count": 0,
          "min": "17.189999999999998",
          "max": "19.63",
          "histogram": [
           {
            "bin_start": 17.189999999999998,
            "bin_end": 17.433999999999997,
            "count": 1
           },
           {
            "bin_start": 17.433999999999997,
            "bin_end": 17.677999999999997,
            "count": 0
           },
           {
            "bin_start": 17.677999999999997,
            "bin_end": 17.921999999999997,
            "count": 0
           },
           {
            "bin_start": 17.921999999999997,
            "bin_end": 18.165999999999997,
            "count": 0
           },
           {
            "bin_start": 18.165999999999997,
            "bin_end": 18.409999999999997,
            "count": 0
           },
           {
            "bin_start": 18.409999999999997,
            "bin_end": 18.654,
            "count": 0
           },
           {
            "bin_start": 18.654,
            "bin_end": 18.898,
            "count": 0
           },
           {
            "bin_start": 18.898,
            "bin_end": 19.142,
            "count": 0
           },
           {
            "bin_start": 19.142,
            "bin_end": 19.386,
            "count": 0
           },
           {
            "bin_start": 19.386,
            "bin_end": 19.63,
            "count": 1
           }
          ]
         }
        },
        {
         "name": [
          "std",
          "Lunch"
         ],
         "dtype": "float64",
         "stats": {
          "unique_count": 2,
          "nan_count": 0,
          "min": "7.50080284778533",
          "max": "7.953435233128875",
          "histogram": [
           {
            "bin_start": 7.50080284778533,
            "bin_end": 7.5460660863196845,
            "count": 1
           },
           {
            "bin_start": 7.5460660863196845,
            "bin_end": 7.591329324854039,
            "count": 0
           },
           {
            "bin_start": 7.591329324854039,
            "bin_end": 7.636592563388394,
            "count": 0
           },
           {
            "bin_start": 7.636592563388394,
            "bin_end": 7.681855801922748,
            "count": 0
           },
           {
            "bin_start": 7.681855801922748,
            "bin_end": 7.727119040457103,
            "count": 0
           },
           {
            "bin_start": 7.727119040457103,
            "bin_end": 7.772382278991457,
            "count": 0
           },
           {
            "bin_start": 7.772382278991457,
            "bin_end": 7.817645517525811,
            "count": 0
           },
           {
            "bin_start": 7.817645517525811,
            "bin_end": 7.8629087560601665,
            "count": 0
           },
           {
            "bin_start": 7.8629087560601665,
            "bin_end": 7.908171994594521,
            "count": 0
           },
           {
            "bin_start": 7.908171994594521,
            "bin_end": 7.953435233128875,
            "count": 1
           }
          ]
         }
        },
        {
         "name": [
          "std",
          "Dinner"
         ],
         "dtype": "float64",
         "stats": {
          "unique_count": 2,
          "nan_count": 0,
          "min": "8.202085468536795",
          "max": "9.46097407226199",
          "histogram": [
           {
            "bin_start": 8.202085468536795,
            "bin_end": 8.327974328909315,
            "count": 1
           },
           {
            "bin_start": 8.327974328909315,
            "bin_end": 8.453863189281835,
            "count": 0
           },
           {
            "bin_start": 8.453863189281835,
            "bin_end": 8.579752049654354,
            "count": 0
           },
           {
            "bin_start": 8.579752049654354,
            "bin_end": 8.705640910026874,
            "count": 0
           },
           {
            "bin_start": 8.705640910026874,
            "bin_end": 8.831529770399392,
            "count": 0
           },
           {
            "bin_start": 8.831529770399392,
            "bin_end": 8.957418630771912,
            "count": 0
           },
           {
            "bin_start": 8.957418630771912,
            "bin_end": 9.083307491144431,
            "count": 0
           },
           {
            "bin_start": 9.083307491144431,
            "bin_end": 9.209196351516951,
            "count": 0
           },
           {
            "bin_start": 9.209196351516951,
            "bin_end": 9.33508521188947,
            "count": 0
           },
           {
            "bin_start": 9.33508521188947,
            "bin_end": 9.46097407226199,
            "count": 1
           }
          ]
         }
        },
        {
         "name": "_deepnote_index_column",
         "dtype": "category"
        }
       ],
       "rows_top": [
        {
         "('median', 'Lunch')": 16.58,
         "('median', 'Dinner')": 19.63,
         "('std', 'Lunch')": 7.953435233128875,
         "('std', 'Dinner')": 9.46097407226199,
         "_deepnote_index_column": "Male"
        },
        {
         "('median', 'Lunch')": 13.42,
         "('median', 'Dinner')": 17.189999999999998,
         "('std', 'Lunch')": 7.50080284778533,
         "('std', 'Dinner')": 8.202085468536795,
         "_deepnote_index_column": "Female"
        }
       ],
       "rows_bottom": null
      },
      "text/plain": "       median          std       \ntime    Lunch Dinner Lunch Dinner\nsex                              \nMale   16.580 19.630 7.953  9.461\nFemale 13.420 17.190 7.501  8.202",
      "text/html": "<div>\n<style scoped>\n    .dataframe tbody tr th:only-of-type {\n        vertical-align: middle;\n    }\n\n    .dataframe tbody tr th {\n        vertical-align: top;\n    }\n\n    .dataframe thead tr th {\n        text-align: left;\n    }\n\n    .dataframe thead tr:last-of-type th {\n        text-align: right;\n    }\n</style>\n<table border=\"1\" class=\"dataframe\">\n  <thead>\n    <tr>\n      <th></th>\n      <th colspan=\"2\" halign=\"left\">median</th>\n      <th colspan=\"2\" halign=\"left\">std</th>\n    </tr>\n    <tr>\n      <th>time</th>\n      <th>Lunch</th>\n      <th>Dinner</th>\n      <th>Lunch</th>\n      <th>Dinner</th>\n    </tr>\n    <tr>\n      <th>sex</th>\n      <th></th>\n      <th></th>\n      <th></th>\n      <th></th>\n    </tr>\n  </thead>\n  <tbody>\n    <tr>\n      <th>Male</th>\n      <td>16.580</td>\n      <td>19.630</td>\n      <td>7.953</td>\n      <td>9.461</td>\n    </tr>\n    <tr>\n      <th>Female</th>\n      <td>13.420</td>\n      <td>17.190</td>\n      <td>7.501</td>\n      <td>8.202</td>\n    </tr>\n  </tbody>\n</table>\n</div>"
     },
     "metadata": {}
    }
   ]
  },
  {
   "cell_type": "markdown",
   "source": "**Unstack**: Nos deshace las categorias.\n\n**reset_index**: Si lo queremos volver hacer un DataFrames.",
   "metadata": {
    "tags": [],
    "cell_id": "00237-4f039903-e878-4d29-a8bd-a126cdb5e7f5",
    "deepnote_cell_type": "markdown"
   }
  },
  {
   "cell_type": "code",
   "metadata": {
    "tags": [],
    "cell_id": "00238-5401a7d3-8b94-4fe9-ba18-9634482358a1",
    "deepnote_to_be_reexecuted": false,
    "source_hash": "bbbb28fa",
    "execution_start": 1625428917460,
    "execution_millis": 39,
    "deepnote_cell_type": "code"
   },
   "source": "df_pivot.unstack().reset_index()",
   "execution_count": 81,
   "outputs": [
    {
     "output_type": "execute_result",
     "execution_count": 81,
     "data": {
      "application/vnd.deepnote.dataframe.v2+json": {
       "row_count": 8,
       "column_count": 4,
       "columns": [
        {
         "name": "level_0",
         "dtype": "object",
         "stats": {
          "unique_count": 2,
          "nan_count": 0,
          "categories": [
           {
            "name": "median",
            "count": 4
           },
           {
            "name": "std",
            "count": 4
           }
          ]
         }
        },
        {
         "name": "time",
         "dtype": "category",
         "stats": {
          "unique_count": 2,
          "nan_count": 0,
          "categories": [
           {
            "name": "Lunch",
            "count": 4
           },
           {
            "name": "Dinner",
            "count": 4
           }
          ]
         }
        },
        {
         "name": "sex",
         "dtype": "category",
         "stats": {
          "unique_count": 2,
          "nan_count": 0,
          "categories": [
           {
            "name": "Male",
            "count": 4
           },
           {
            "name": "Female",
            "count": 4
           }
          ]
         }
        },
        {
         "name": 0,
         "dtype": "float64",
         "stats": {
          "unique_count": 8,
          "nan_count": 0,
          "min": "7.50080284778533",
          "max": "19.63",
          "histogram": [
           {
            "bin_start": 7.50080284778533,
            "bin_end": 8.713722563006797,
            "count": 3
           },
           {
            "bin_start": 8.713722563006797,
            "bin_end": 9.926642278228265,
            "count": 1
           },
           {
            "bin_start": 9.926642278228265,
            "bin_end": 11.13956199344973,
            "count": 0
           },
           {
            "bin_start": 11.13956199344973,
            "bin_end": 12.352481708671197,
            "count": 0
           },
           {
            "bin_start": 12.352481708671197,
            "bin_end": 13.565401423892665,
            "count": 1
           },
           {
            "bin_start": 13.565401423892665,
            "bin_end": 14.77832113911413,
            "count": 0
           },
           {
            "bin_start": 14.77832113911413,
            "bin_end": 15.991240854335597,
            "count": 0
           },
           {
            "bin_start": 15.991240854335597,
            "bin_end": 17.204160569557065,
            "count": 2
           },
           {
            "bin_start": 17.204160569557065,
            "bin_end": 18.41708028477853,
            "count": 0
           },
           {
            "bin_start": 18.41708028477853,
            "bin_end": 19.63,
            "count": 1
           }
          ]
         }
        },
        {
         "name": "_deepnote_index_column",
         "dtype": "int64"
        }
       ],
       "rows_top": [
        {
         "0": 16.58,
         "level_0": "median",
         "time": "Lunch",
         "sex": "Male",
         "_deepnote_index_column": 0
        },
        {
         "0": 13.42,
         "level_0": "median",
         "time": "Lunch",
         "sex": "Female",
         "_deepnote_index_column": 1
        },
        {
         "0": 19.63,
         "level_0": "median",
         "time": "Dinner",
         "sex": "Male",
         "_deepnote_index_column": 2
        },
        {
         "0": 17.189999999999998,
         "level_0": "median",
         "time": "Dinner",
         "sex": "Female",
         "_deepnote_index_column": 3
        },
        {
         "0": 7.953435233128875,
         "level_0": "std",
         "time": "Lunch",
         "sex": "Male",
         "_deepnote_index_column": 4
        },
        {
         "0": 7.50080284778533,
         "level_0": "std",
         "time": "Lunch",
         "sex": "Female",
         "_deepnote_index_column": 5
        },
        {
         "0": 9.46097407226199,
         "level_0": "std",
         "time": "Dinner",
         "sex": "Male",
         "_deepnote_index_column": 6
        },
        {
         "0": 8.202085468536795,
         "level_0": "std",
         "time": "Dinner",
         "sex": "Female",
         "_deepnote_index_column": 7
        }
       ],
       "rows_bottom": null
      },
      "text/plain": "  level_0    time     sex      0\n0  median   Lunch    Male 16.580\n1  median   Lunch  Female 13.420\n2  median  Dinner    Male 19.630\n3  median  Dinner  Female 17.190\n4     std   Lunch    Male  7.953\n5     std   Lunch  Female  7.501\n6     std  Dinner    Male  9.461\n7     std  Dinner  Female  8.202",
      "text/html": "<div>\n<style scoped>\n    .dataframe tbody tr th:only-of-type {\n        vertical-align: middle;\n    }\n\n    .dataframe tbody tr th {\n        vertical-align: top;\n    }\n\n    .dataframe thead th {\n        text-align: right;\n    }\n</style>\n<table border=\"1\" class=\"dataframe\">\n  <thead>\n    <tr style=\"text-align: right;\">\n      <th></th>\n      <th>level_0</th>\n      <th>time</th>\n      <th>sex</th>\n      <th>0</th>\n    </tr>\n  </thead>\n  <tbody>\n    <tr>\n      <th>0</th>\n      <td>median</td>\n      <td>Lunch</td>\n      <td>Male</td>\n      <td>16.580</td>\n    </tr>\n    <tr>\n      <th>1</th>\n      <td>median</td>\n      <td>Lunch</td>\n      <td>Female</td>\n      <td>13.420</td>\n    </tr>\n    <tr>\n      <th>2</th>\n      <td>median</td>\n      <td>Dinner</td>\n      <td>Male</td>\n      <td>19.630</td>\n    </tr>\n    <tr>\n      <th>3</th>\n      <td>median</td>\n      <td>Dinner</td>\n      <td>Female</td>\n      <td>17.190</td>\n    </tr>\n    <tr>\n      <th>4</th>\n      <td>std</td>\n      <td>Lunch</td>\n      <td>Male</td>\n      <td>7.953</td>\n    </tr>\n    <tr>\n      <th>5</th>\n      <td>std</td>\n      <td>Lunch</td>\n      <td>Female</td>\n      <td>7.501</td>\n    </tr>\n    <tr>\n      <th>6</th>\n      <td>std</td>\n      <td>Dinner</td>\n      <td>Male</td>\n      <td>9.461</td>\n    </tr>\n    <tr>\n      <th>7</th>\n      <td>std</td>\n      <td>Dinner</td>\n      <td>Female</td>\n      <td>8.202</td>\n    </tr>\n  </tbody>\n</table>\n</div>"
     },
     "metadata": {}
    }
   ]
  },
  {
   "cell_type": "markdown",
   "source": "Se muestra la media de los fumadores que gastan mas en sus facturas y propinas",
   "metadata": {
    "tags": [],
    "cell_id": "00239-af5bc343-3bac-4c48-8508-96cc8a3623eb",
    "deepnote_cell_type": "markdown"
   }
  },
  {
   "cell_type": "code",
   "metadata": {
    "tags": [],
    "cell_id": "00240-eb23b779-375f-4623-b31c-241f8e609fc5",
    "deepnote_to_be_reexecuted": false,
    "source_hash": "e06b81de",
    "execution_start": 1625428932917,
    "execution_millis": 33,
    "deepnote_cell_type": "code"
   },
   "source": "df.pivot_table(values=['total_bill','tip'], index='smoker', columns='time', aggfunc=[np.median,np.std])",
   "execution_count": 82,
   "outputs": [
    {
     "output_type": "execute_result",
     "execution_count": 82,
     "data": {
      "application/vnd.deepnote.dataframe.v2+json": {
       "row_count": 2,
       "column_count": 8,
       "columns": [
        {
         "name": [
          "median",
          "tip",
          "Lunch"
         ],
         "dtype": "float64",
         "stats": {
          "unique_count": 2,
          "nan_count": 0,
          "min": "2.18",
          "max": "2.5",
          "histogram": [
           {
            "bin_start": 2.18,
            "bin_end": 2.212,
            "count": 1
           },
           {
            "bin_start": 2.212,
            "bin_end": 2.244,
            "count": 0
           },
           {
            "bin_start": 2.244,
            "bin_end": 2.2760000000000002,
            "count": 0
           },
           {
            "bin_start": 2.2760000000000002,
            "bin_end": 2.3080000000000003,
            "count": 0
           },
           {
            "bin_start": 2.3080000000000003,
            "bin_end": 2.34,
            "count": 0
           },
           {
            "bin_start": 2.34,
            "bin_end": 2.372,
            "count": 0
           },
           {
            "bin_start": 2.372,
            "bin_end": 2.404,
            "count": 0
           },
           {
            "bin_start": 2.404,
            "bin_end": 2.436,
            "count": 0
           },
           {
            "bin_start": 2.436,
            "bin_end": 2.468,
            "count": 0
           },
           {
            "bin_start": 2.468,
            "bin_end": 2.5,
            "count": 1
           }
          ]
         }
        },
        {
         "name": [
          "median",
          "tip",
          "Dinner"
         ],
         "dtype": "float64",
         "stats": {
          "unique_count": 1,
          "nan_count": 0,
          "min": "3.0",
          "max": "3.0",
          "histogram": [
           {
            "bin_start": 2.5,
            "bin_end": 2.6,
            "count": 0
           },
           {
            "bin_start": 2.6,
            "bin_end": 2.7,
            "count": 0
           },
           {
            "bin_start": 2.7,
            "bin_end": 2.8,
            "count": 0
           },
           {
            "bin_start": 2.8,
            "bin_end": 2.9,
            "count": 0
           },
           {
            "bin_start": 2.9,
            "bin_end": 3,
            "count": 0
           },
           {
            "bin_start": 3,
            "bin_end": 3.1,
            "count": 2
           },
           {
            "bin_start": 3.1,
            "bin_end": 3.2,
            "count": 0
           },
           {
            "bin_start": 3.2,
            "bin_end": 3.3,
            "count": 0
           },
           {
            "bin_start": 3.3,
            "bin_end": 3.4,
            "count": 0
           },
           {
            "bin_start": 3.4,
            "bin_end": 3.5,
            "count": 0
           }
          ]
         }
        },
        {
         "name": [
          "median",
          "total_bill",
          "Lunch"
         ],
         "dtype": "float64",
         "stats": {
          "unique_count": 2,
          "nan_count": 0,
          "min": "15.95",
          "max": "16.0",
          "histogram": [
           {
            "bin_start": 15.95,
            "bin_end": 15.955,
            "count": 1
           },
           {
            "bin_start": 15.955,
            "bin_end": 15.959999999999999,
            "count": 0
           },
           {
            "bin_start": 15.959999999999999,
            "bin_end": 15.965,
            "count": 0
           },
           {
            "bin_start": 15.965,
            "bin_end": 15.969999999999999,
            "count": 0
           },
           {
            "bin_start": 15.969999999999999,
            "bin_end": 15.975,
            "count": 0
           },
           {
            "bin_start": 15.975,
            "bin_end": 15.98,
            "count": 0
           },
           {
            "bin_start": 15.98,
            "bin_end": 15.985,
            "count": 0
           },
           {
            "bin_start": 15.985,
            "bin_end": 15.99,
            "count": 0
           },
           {
            "bin_start": 15.99,
            "bin_end": 15.995,
            "count": 0
           },
           {
            "bin_start": 15.995,
            "bin_end": 16,
            "count": 1
           }
          ]
         }
        },
        {
         "name": [
          "median",
          "total_bill",
          "Dinner"
         ],
         "dtype": "float64",
         "stats": {
          "unique_count": 2,
          "nan_count": 0,
          "min": "18.265",
          "max": "20.695",
          "histogram": [
           {
            "bin_start": 18.265,
            "bin_end": 18.508,
            "count": 1
           },
           {
            "bin_start": 18.508,
            "bin_end": 18.751,
            "count": 0
           },
           {
            "bin_start": 18.751,
            "bin_end": 18.994,
            "count": 0
           },
           {
            "bin_start": 18.994,
            "bin_end": 19.237000000000002,
            "count": 0
           },
           {
            "bin_start": 19.237000000000002,
            "bin_end": 19.48,
            "count": 0
           },
           {
            "bin_start": 19.48,
            "bin_end": 19.723,
            "count": 0
           },
           {
            "bin_start": 19.723,
            "bin_end": 19.966,
            "count": 0
           },
           {
            "bin_start": 19.966,
            "bin_end": 20.209,
            "count": 0
           },
           {
            "bin_start": 20.209,
            "bin_end": 20.452,
            "count": 0
           },
           {
            "bin_start": 20.452,
            "bin_end": 20.695,
            "count": 1
           }
          ]
         }
        },
        {
         "name": [
          "std",
          "tip",
          "Lunch"
         ],
         "dtype": "float64",
         "stats": {
          "unique_count": 2,
          "nan_count": 0,
          "min": "1.055831538245638",
          "max": "1.2829640554889945",
          "histogram": [
           {
            "bin_start": 1.055831538245638,
            "bin_end": 1.0785447899699736,
            "count": 1
           },
           {
            "bin_start": 1.0785447899699736,
            "bin_end": 1.1012580416943094,
            "count": 0
           },
           {
            "bin_start": 1.1012580416943094,
            "bin_end": 1.123971293418645,
            "count": 0
           },
           {
            "bin_start": 1.123971293418645,
            "bin_end": 1.1466845451429806,
            "count": 0
           },
           {
            "bin_start": 1.1466845451429806,
            "bin_end": 1.1693977968673162,
            "count": 0
           },
           {
            "bin_start": 1.1693977968673162,
            "bin_end": 1.192111048591652,
            "count": 0
           },
           {
            "bin_start": 1.192111048591652,
            "bin_end": 1.2148243003159875,
            "count": 0
           },
           {
            "bin_start": 1.2148243003159875,
            "bin_end": 1.2375375520403231,
            "count": 0
           },
           {
            "bin_start": 1.2375375520403231,
            "bin_end": 1.260250803764659,
            "count": 0
           },
           {
            "bin_start": 1.260250803764659,
            "bin_end": 1.2829640554889945,
            "count": 1
           }
          ]
         }
        },
        {
         "name": [
          "std",
          "tip",
          "Dinner"
         ],
         "dtype": "float64",
         "stats": {
          "unique_count": 2,
          "nan_count": 0,
          "min": "1.3992803342177942",
          "max": "1.4999714006935438",
          "histogram": [
           {
            "bin_start": 1.3992803342177942,
            "bin_end": 1.409349440865369,
            "count": 1
           },
           {
            "bin_start": 1.409349440865369,
            "bin_end": 1.4194185475129442,
            "count": 0
           },
           {
            "bin_start": 1.4194185475129442,
            "bin_end": 1.429487654160519,
            "count": 0
           },
           {
            "bin_start": 1.429487654160519,
            "bin_end": 1.4395567608080941,
            "count": 0
           },
           {
            "bin_start": 1.4395567608080941,
            "bin_end": 1.449625867455669,
            "count": 0
           },
           {
            "bin_start": 1.449625867455669,
            "bin_end": 1.459694974103244,
            "count": 0
           },
           {
            "bin_start": 1.459694974103244,
            "bin_end": 1.469764080750819,
            "count": 0
           },
           {
            "bin_start": 1.469764080750819,
            "bin_end": 1.4798331873983939,
            "count": 0
           },
           {
            "bin_start": 1.4798331873983939,
            "bin_end": 1.489902294045969,
            "count": 0
           },
           {
            "bin_start": 1.489902294045969,
            "bin_end": 1.4999714006935438,
            "count": 1
           }
          ]
         }
        },
        {
         "name": [
          "std",
          "total_bill",
          "Lunch"
         ],
         "dtype": "float64",
         "stats": {
          "unique_count": 2,
          "nan_count": 0,
          "min": "7.719271580749945",
          "max": "7.871368087767369",
          "histogram": [
           {
            "bin_start": 7.719271580749945,
            "bin_end": 7.734481231451688,
            "count": 1
           },
           {
            "bin_start": 7.734481231451688,
            "bin_end": 7.74969088215343,
            "count": 0
           },
           {
            "bin_start": 7.74969088215343,
            "bin_end": 7.764900532855172,
            "count": 0
           },
           {
            "bin_start": 7.764900532855172,
            "bin_end": 7.780110183556914,
            "count": 0
           },
           {
            "bin_start": 7.780110183556914,
            "bin_end": 7.795319834258657,
            "count": 0
           },
           {
            "bin_start": 7.795319834258657,
            "bin_end": 7.8105294849604,
            "count": 0
           },
           {
            "bin_start": 7.8105294849604,
            "bin_end": 7.8257391356621415,
            "count": 0
           },
           {
            "bin_start": 7.8257391356621415,
            "bin_end": 7.840948786363884,
            "count": 0
           },
           {
            "bin_start": 7.840948786363884,
            "bin_end": 7.856158437065626,
            "count": 0
           },
           {
            "bin_start": 7.856158437065626,
            "bin_end": 7.871368087767369,
            "count": 1
           }
          ]
         }
        },
        {
         "name": [
          "std",
          "total_bill",
          "Dinner"
         ],
         "dtype": "float64",
         "stats": {
          "unique_count": 2,
          "nan_count": 0,
          "min": "8.342950376714455",
          "max": "10.2053296513109",
          "histogram": [
           {
            "bin_start": 8.342950376714455,
            "bin_end": 8.529188304174099,
            "count": 1
           },
           {
            "bin_start": 8.529188304174099,
            "bin_end": 8.715426231633744,
            "count": 0
           },
           {
            "bin_start": 8.715426231633744,
            "bin_end": 8.90166415909339,
            "count": 0
           },
           {
            "bin_start": 8.90166415909339,
            "bin_end": 9.087902086553033,
            "count": 0
           },
           {
            "bin_start": 9.087902086553033,
            "bin_end": 9.274140014012676,
            "count": 0
           },
           {
            "bin_start": 9.274140014012676,
            "bin_end": 9.460377941472322,
            "count": 0
           },
           {
            "bin_start": 9.460377941472322,
            "bin_end": 9.646615868931967,
            "count": 0
           },
           {
            "bin_start": 9.646615868931967,
            "bin_end": 9.83285379639161,
            "count": 0
           },
           {
            "bin_start": 9.83285379639161,
            "bin_end": 10.019091723851254,
            "count": 0
           },
           {
            "bin_start": 10.019091723851254,
            "bin_end": 10.2053296513109,
            "count": 1
           }
          ]
         }
        },
        {
         "name": "_deepnote_index_column",
         "dtype": "category"
        }
       ],
       "rows_top": [
        {
         "('median', 'tip', 'Lunch')": 2.5,
         "('median', 'tip', 'Dinner')": 3,
         "('median', 'total_bill', 'Lunch')": 16,
         "('median', 'total_bill', 'Dinner')": 20.695,
         "('std', 'tip', 'Lunch')": 1.055831538245638,
         "('std', 'tip', 'Dinner')": 1.4999714006935438,
         "('std', 'total_bill', 'Lunch')": 7.871368087767369,
         "('std', 'total_bill', 'Dinner')": 10.2053296513109,
         "_deepnote_index_column": "Yes"
        },
        {
         "('median', 'tip', 'Lunch')": 2.18,
         "('median', 'tip', 'Dinner')": 3,
         "('median', 'total_bill', 'Lunch')": 15.95,
         "('median', 'total_bill', 'Dinner')": 18.265,
         "('std', 'tip', 'Lunch')": 1.2829640554889945,
         "('std', 'tip', 'Dinner')": 1.3992803342177942,
         "('std', 'total_bill', 'Lunch')": 7.719271580749945,
         "('std', 'total_bill', 'Dinner')": 8.342950376714455,
         "_deepnote_index_column": "No"
        }
       ],
       "rows_bottom": null
      },
      "text/plain": "       median                            std                         \n          tip        total_bill          tip        total_bill       \ntime    Lunch Dinner      Lunch Dinner Lunch Dinner      Lunch Dinner\nsmoker                                                               \nYes     2.500  3.000     16.000 20.695 1.056  1.500      7.871 10.205\nNo      2.180  3.000     15.950 18.265 1.283  1.399      7.719  8.343",
      "text/html": "<div>\n<style scoped>\n    .dataframe tbody tr th:only-of-type {\n        vertical-align: middle;\n    }\n\n    .dataframe tbody tr th {\n        vertical-align: top;\n    }\n\n    .dataframe thead tr th {\n        text-align: left;\n    }\n\n    .dataframe thead tr:last-of-type th {\n        text-align: right;\n    }\n</style>\n<table border=\"1\" class=\"dataframe\">\n  <thead>\n    <tr>\n      <th></th>\n      <th colspan=\"4\" halign=\"left\">median</th>\n      <th colspan=\"4\" halign=\"left\">std</th>\n    </tr>\n    <tr>\n      <th></th>\n      <th colspan=\"2\" halign=\"left\">tip</th>\n      <th colspan=\"2\" halign=\"left\">total_bill</th>\n      <th colspan=\"2\" halign=\"left\">tip</th>\n      <th colspan=\"2\" halign=\"left\">total_bill</th>\n    </tr>\n    <tr>\n      <th>time</th>\n      <th>Lunch</th>\n      <th>Dinner</th>\n      <th>Lunch</th>\n      <th>Dinner</th>\n      <th>Lunch</th>\n      <th>Dinner</th>\n      <th>Lunch</th>\n      <th>Dinner</th>\n    </tr>\n    <tr>\n      <th>smoker</th>\n      <th></th>\n      <th></th>\n      <th></th>\n      <th></th>\n      <th></th>\n      <th></th>\n      <th></th>\n      <th></th>\n    </tr>\n  </thead>\n  <tbody>\n    <tr>\n      <th>Yes</th>\n      <td>2.500</td>\n      <td>3.000</td>\n      <td>16.000</td>\n      <td>20.695</td>\n      <td>1.056</td>\n      <td>1.500</td>\n      <td>7.871</td>\n      <td>10.205</td>\n    </tr>\n    <tr>\n      <th>No</th>\n      <td>2.180</td>\n      <td>3.000</td>\n      <td>15.950</td>\n      <td>18.265</td>\n      <td>1.283</td>\n      <td>1.399</td>\n      <td>7.719</td>\n      <td>8.343</td>\n    </tr>\n  </tbody>\n</table>\n</div>"
     },
     "metadata": {}
    }
   ]
  },
  {
   "cell_type": "markdown",
   "source": "# Series de tiempo",
   "metadata": {
    "tags": [],
    "cell_id": "00241-b6dde421-8f08-4f09-b786-7fb494886dad",
    "deepnote_cell_type": "markdown"
   }
  },
  {
   "cell_type": "code",
   "metadata": {
    "tags": [],
    "cell_id": "00242-07109b18-b7dc-40bb-838f-489040b8ecc9",
    "deepnote_to_be_reexecuted": false,
    "source_hash": "2b2f8ec5",
    "execution_start": 1625429273858,
    "execution_millis": 1,
    "deepnote_cell_type": "code"
   },
   "source": "df = pd.read_csv('db/covid_19_data.csv')\ndf['ObservationDate'] = pd.to_datetime(df['ObservationDate'])\ndf_time = df.groupby('ObservationDate').sum()\ndf_diff = df_time.diff()",
   "execution_count": 94,
   "outputs": []
  },
  {
   "cell_type": "markdown",
   "source": "## Suma acumulativa(cumsum)",
   "metadata": {
    "tags": [],
    "cell_id": "00243-435d9048-1978-4361-9f2d-17ea81ccaec1",
    "deepnote_cell_type": "markdown"
   }
  },
  {
   "cell_type": "code",
   "metadata": {
    "tags": [],
    "cell_id": "00244-15e5d046-685c-4a5f-a065-e953216659f3",
    "deepnote_to_be_reexecuted": false,
    "source_hash": "39865a6d",
    "execution_start": 1625429277103,
    "execution_millis": 23,
    "deepnote_cell_type": "code"
   },
   "source": "df_diff.cumsum().head(4)",
   "execution_count": 95,
   "outputs": [
    {
     "output_type": "execute_result",
     "execution_count": 95,
     "data": {
      "application/vnd.deepnote.dataframe.v2+json": {
       "row_count": 4,
       "column_count": 4,
       "columns": [
        {
         "name": "SNo",
         "dtype": "float64",
         "stats": {
          "unique_count": 3,
          "nan_count": 1,
          "min": "2088.0",
          "max": "5749.0",
          "histogram": [
           {
            "bin_start": 2088,
            "bin_end": 2454.1,
            "count": 1
           },
           {
            "bin_start": 2454.1,
            "bin_end": 2820.2,
            "count": 0
           },
           {
            "bin_start": 2820.2,
            "bin_end": 3186.3,
            "count": 0
           },
           {
            "bin_start": 3186.3,
            "bin_end": 3552.4,
            "count": 0
           },
           {
            "bin_start": 3552.4,
            "bin_end": 3918.5,
            "count": 1
           },
           {
            "bin_start": 3918.5,
            "bin_end": 4284.6,
            "count": 0
           },
           {
            "bin_start": 4284.6,
            "bin_end": 4650.700000000001,
            "count": 0
           },
           {
            "bin_start": 4650.700000000001,
            "bin_end": 5016.8,
            "count": 0
           },
           {
            "bin_start": 5016.8,
            "bin_end": 5382.9,
            "count": 0
           },
           {
            "bin_start": 5382.9,
            "bin_end": 5749,
            "count": 1
           }
          ]
         }
        },
        {
         "name": "Confirmed",
         "dtype": "float64",
         "stats": {
          "unique_count": 3,
          "nan_count": 1,
          "min": "98.0",
          "max": "883.0",
          "histogram": [
           {
            "bin_start": 98,
            "bin_end": 176.5,
            "count": 1
           },
           {
            "bin_start": 176.5,
            "bin_end": 255,
            "count": 0
           },
           {
            "bin_start": 255,
            "bin_end": 333.5,
            "count": 0
           },
           {
            "bin_start": 333.5,
            "bin_end": 412,
            "count": 1
           },
           {
            "bin_start": 412,
            "bin_end": 490.5,
            "count": 0
           },
           {
            "bin_start": 490.5,
            "bin_end": 569,
            "count": 0
           },
           {
            "bin_start": 569,
            "bin_end": 647.5,
            "count": 0
           },
           {
            "bin_start": 647.5,
            "bin_end": 726,
            "count": 0
           },
           {
            "bin_start": 726,
            "bin_end": 804.5,
            "count": 0
           },
           {
            "bin_start": 804.5,
            "bin_end": 883,
            "count": 1
           }
          ]
         }
        },
        {
         "name": "Deaths",
         "dtype": "float64",
         "stats": {
          "unique_count": 3,
          "nan_count": 1,
          "min": "1.0",
          "max": "25.0",
          "histogram": [
           {
            "bin_start": 1,
            "bin_end": 3.4,
            "count": 1
           },
           {
            "bin_start": 3.4,
            "bin_end": 5.8,
            "count": 0
           },
           {
            "bin_start": 5.8,
            "bin_end": 8.2,
            "count": 0
           },
           {
            "bin_start": 8.2,
            "bin_end": 10.6,
            "count": 1
           },
           {
            "bin_start": 10.6,
            "bin_end": 13,
            "count": 0
           },
           {
            "bin_start": 13,
            "bin_end": 15.399999999999999,
            "count": 0
           },
           {
            "bin_start": 15.399999999999999,
            "bin_end": 17.8,
            "count": 0
           },
           {
            "bin_start": 17.8,
            "bin_end": 20.2,
            "count": 0
           },
           {
            "bin_start": 20.2,
            "bin_end": 22.599999999999998,
            "count": 0
           },
           {
            "bin_start": 22.599999999999998,
            "bin_end": 25,
            "count": 1
           }
          ]
         }
        },
        {
         "name": "Recovered",
         "dtype": "float64",
         "stats": {
          "unique_count": 3,
          "nan_count": 1,
          "min": "2.0",
          "max": "11.0",
          "histogram": [
           {
            "bin_start": 2,
            "bin_end": 2.9,
            "count": 1
           },
           {
            "bin_start": 2.9,
            "bin_end": 3.8,
            "count": 0
           },
           {
            "bin_start": 3.8,
            "bin_end": 4.7,
            "count": 0
           },
           {
            "bin_start": 4.7,
            "bin_end": 5.6,
            "count": 0
           },
           {
            "bin_start": 5.6,
            "bin_end": 6.5,
            "count": 0
           },
           {
            "bin_start": 6.5,
            "bin_end": 7.4,
            "count": 0
           },
           {
            "bin_start": 7.4,
            "bin_end": 8.3,
            "count": 1
           },
           {
            "bin_start": 8.3,
            "bin_end": 9.2,
            "count": 0
           },
           {
            "bin_start": 9.2,
            "bin_end": 10.1,
            "count": 0
           },
           {
            "bin_start": 10.1,
            "bin_end": 11,
            "count": 1
           }
          ]
         }
        },
        {
         "name": "_deepnote_index_column",
         "dtype": "datetime64[ns]"
        }
       ],
       "rows_top": [
        {
         "SNo": "nan",
         "Confirmed": "nan",
         "Deaths": "nan",
         "Recovered": "nan",
         "_deepnote_index_column": "2020-01-22T00:00:00.000000"
        },
        {
         "SNo": 2088,
         "Confirmed": 98,
         "Deaths": 1,
         "Recovered": 2,
         "_deepnote_index_column": "2020-01-23T00:00:00.000000"
        },
        {
         "SNo": 3564,
         "Confirmed": 386,
         "Deaths": 9,
         "Recovered": 8,
         "_deepnote_index_column": "2020-01-24T00:00:00.000000"
        },
        {
         "SNo": 5749,
         "Confirmed": 883,
         "Deaths": 25,
         "Recovered": 11,
         "_deepnote_index_column": "2020-01-25T00:00:00.000000"
        }
       ],
       "rows_bottom": null
      },
      "text/plain": "                      SNo  Confirmed  Deaths  Recovered\nObservationDate                                        \n2020-01-22            NaN        NaN     NaN        NaN\n2020-01-23      2,088.000     98.000   1.000      2.000\n2020-01-24      3,564.000    386.000   9.000      8.000\n2020-01-25      5,749.000    883.000  25.000     11.000",
      "text/html": "<div>\n<style scoped>\n    .dataframe tbody tr th:only-of-type {\n        vertical-align: middle;\n    }\n\n    .dataframe tbody tr th {\n        vertical-align: top;\n    }\n\n    .dataframe thead th {\n        text-align: right;\n    }\n</style>\n<table border=\"1\" class=\"dataframe\">\n  <thead>\n    <tr style=\"text-align: right;\">\n      <th></th>\n      <th>SNo</th>\n      <th>Confirmed</th>\n      <th>Deaths</th>\n      <th>Recovered</th>\n    </tr>\n    <tr>\n      <th>ObservationDate</th>\n      <th></th>\n      <th></th>\n      <th></th>\n      <th></th>\n    </tr>\n  </thead>\n  <tbody>\n    <tr>\n      <th>2020-01-22</th>\n      <td>NaN</td>\n      <td>NaN</td>\n      <td>NaN</td>\n      <td>NaN</td>\n    </tr>\n    <tr>\n      <th>2020-01-23</th>\n      <td>2,088.000</td>\n      <td>98.000</td>\n      <td>1.000</td>\n      <td>2.000</td>\n    </tr>\n    <tr>\n      <th>2020-01-24</th>\n      <td>3,564.000</td>\n      <td>386.000</td>\n      <td>9.000</td>\n      <td>8.000</td>\n    </tr>\n    <tr>\n      <th>2020-01-25</th>\n      <td>5,749.000</td>\n      <td>883.000</td>\n      <td>25.000</td>\n      <td>11.000</td>\n    </tr>\n  </tbody>\n</table>\n</div>"
     },
     "metadata": {}
    }
   ]
  },
  {
   "cell_type": "markdown",
   "source": "## Resamople : Nos ayuda a manejar las series de tiempo.\nPodemos obtener valores de una seriede tiempo especifico y aplicar funciones.\n\n| Alias      | Description           |\n| ---------- |:---------------------:|\n| B          | Business day          |\n| D          | Calendar day          |\n| W          | Weekly                |\n| M          | Month end             |\n| Q          | Quarter end           |\n| A          | Year end              |\n| BA         | Business year end     |\n| AS         | Year start            |\n| H          | Hourly frequency      |\n| T, min     | Minutely frequency    |\n| S          | Secondly frequency    |\n| L, ms      | Millisecond frequency |\n| U, us      | Microsecond frequency |\n| N, ns      | Nanosecond frequency  |\n",
   "metadata": {
    "tags": [],
    "cell_id": "00242-553023e2-035f-46e7-a705-2defb966819d",
    "deepnote_cell_type": "markdown"
   }
  },
  {
   "cell_type": "code",
   "metadata": {
    "tags": [],
    "cell_id": "00246-35ba72e2-41d5-4632-b133-95a2897634d3",
    "deepnote_to_be_reexecuted": false,
    "source_hash": "9bd8b7cf",
    "execution_start": 1625429295342,
    "execution_millis": 23,
    "deepnote_cell_type": "code"
   },
   "source": "df_diff.resample('W-sun').sum()",
   "execution_count": 96,
   "outputs": [
    {
     "output_type": "execute_result",
     "execution_count": 96,
     "data": {
      "application/vnd.deepnote.dataframe.v2+json": {
       "row_count": 7,
       "column_count": 4,
       "columns": [
        {
         "name": "SNo",
         "dtype": "float64",
         "stats": {
          "unique_count": 7,
          "nan_count": 0,
          "min": "8330.0",
          "max": "177120.0",
          "histogram": [
           {
            "bin_start": 8330,
            "bin_end": 25209,
            "count": 1
           },
           {
            "bin_start": 25209,
            "bin_end": 42088,
            "count": 3
           },
           {
            "bin_start": 42088,
            "bin_end": 58967,
            "count": 0
           },
           {
            "bin_start": 58967,
            "bin_end": 75846,
            "count": 1
           },
           {
            "bin_start": 75846,
            "bin_end": 92725,
            "count": 0
           },
           {
            "bin_start": 92725,
            "bin_end": 109604,
            "count": 0
           },
           {
            "bin_start": 109604,
            "bin_end": 126483,
            "count": 0
           },
           {
            "bin_start": 126483,
            "bin_end": 143362,
            "count": 0
           },
           {
            "bin_start": 143362,
            "bin_end": 160241,
            "count": 0
           },
           {
            "bin_start": 160241,
            "bin_end": 177120,
            "count": 2
           }
          ]
         }
        },
        {
         "name": "Confirmed",
         "dtype": "float64",
         "stats": {
          "unique_count": 7,
          "nan_count": 0,
          "min": "1563.0",
          "max": "31075.0",
          "histogram": [
           {
            "bin_start": 1563,
            "bin_end": 4514.2,
            "count": 1
           },
           {
            "bin_start": 4514.2,
            "bin_end": 7465.4,
            "count": 1
           },
           {
            "bin_start": 7465.4,
            "bin_end": 10416.599999999999,
            "count": 2
           },
           {
            "bin_start": 10416.599999999999,
            "bin_end": 13367.8,
            "count": 0
           },
           {
            "bin_start": 13367.8,
            "bin_end": 16319,
            "count": 1
           },
           {
            "bin_start": 16319,
            "bin_end": 19270.199999999997,
            "count": 0
           },
           {
            "bin_start": 19270.199999999997,
            "bin_end": 22221.399999999998,
            "count": 0
           },
           {
            "bin_start": 22221.399999999998,
            "bin_end": 25172.6,
            "count": 1
           },
           {
            "bin_start": 25172.6,
            "bin_end": 28123.8,
            "count": 0
           },
           {
            "bin_start": 28123.8,
            "bin_end": 31075,
            "count": 1
           }
          ]
         }
        },
        {
         "name": "Deaths",
         "dtype": "float64",
         "stats": {
          "unique_count": 7,
          "nan_count": 0,
          "min": "39.0",
          "max": "864.0",
          "histogram": [
           {
            "bin_start": 39,
            "bin_end": 121.5,
            "count": 1
           },
           {
            "bin_start": 121.5,
            "bin_end": 204,
            "count": 0
           },
           {
            "bin_start": 204,
            "bin_end": 286.5,
            "count": 1
           },
           {
            "bin_start": 286.5,
            "bin_end": 369,
            "count": 1
           },
           {
            "bin_start": 369,
            "bin_end": 451.5,
            "count": 0
           },
           {
            "bin_start": 451.5,
            "bin_end": 534,
            "count": 1
           },
           {
            "bin_start": 534,
            "bin_end": 616.5,
            "count": 1
           },
           {
            "bin_start": 616.5,
            "bin_end": 699,
            "count": 0
           },
           {
            "bin_start": 699,
            "bin_end": 781.5,
            "count": 1
           },
           {
            "bin_start": 781.5,
            "bin_end": 864,
            "count": 1
           }
          ]
         }
        },
        {
         "name": "Recovered",
         "dtype": "float64",
         "stats": {
          "unique_count": 7,
          "nan_count": 0,
          "min": "24.0",
          "max": "19322.0",
          "histogram": [
           {
            "bin_start": 24,
            "bin_end": 1953.8,
            "count": 2
           },
           {
            "bin_start": 1953.8,
            "bin_end": 3883.6,
            "count": 1
           },
           {
            "bin_start": 3883.6,
            "bin_end": 5813.4,
            "count": 0
           },
           {
            "bin_start": 5813.4,
            "bin_end": 7743.2,
            "count": 1
           },
           {
            "bin_start": 7743.2,
            "bin_end": 9673,
            "count": 1
           },
           {
            "bin_start": 9673,
            "bin_end": 11602.8,
            "count": 0
           },
           {
            "bin_start": 11602.8,
            "bin_end": 13532.6,
            "count": 1
           },
           {
            "bin_start": 13532.6,
            "bin_end": 15462.4,
            "count": 0
           },
           {
            "bin_start": 15462.4,
            "bin_end": 17392.2,
            "count": 0
           },
           {
            "bin_start": 17392.2,
            "bin_end": 19322,
            "count": 1
           }
          ]
         }
        },
        {
         "name": "_deepnote_index_column",
         "dtype": "datetime64[ns]"
        }
       ],
       "rows_top": [
        {
         "SNo": 8330,
         "Confirmed": 1563,
         "Deaths": 39,
         "Recovered": 24,
         "_deepnote_index_column": "2020-01-26T00:00:00.000000"
        },
        {
         "SNo": 30727,
         "Confirmed": 14669,
         "Deaths": 306,
         "Recovered": 420,
         "_deepnote_index_column": "2020-02-02T00:00:00.000000"
        },
        {
         "SNo": 38502,
         "Confirmed": 23364,
         "Deaths": 544,
         "Recovered": 2772,
         "_deepnote_index_column": "2020-02-09T00:00:00.000000"
        },
        {
         "SNo": 41925,
         "Confirmed": 31075,
         "Deaths": 864,
         "Recovered": 7621,
         "_deepnote_index_column": "2020-02-16T00:00:00.000000"
        },
        {
         "SNo": 62780,
         "Confirmed": 7759,
         "Deaths": 699,
         "Recovered": 12529,
         "_deepnote_index_column": "2020-02-23T00:00:00.000000"
        },
        {
         "SNo": 177120,
         "Confirmed": 9386,
         "Deaths": 527,
         "Recovered": 19322,
         "_deepnote_index_column": "2020-03-01T00:00:00.000000"
        },
        {
         "SNo": 170355,
         "Confirmed": 6753,
         "Deaths": 258,
         "Recovered": 8455,
         "_deepnote_index_column": "2020-03-08T00:00:00.000000"
        }
       ],
       "rows_bottom": null
      },
      "text/plain": "                        SNo  Confirmed  Deaths  Recovered\nObservationDate                                          \n2020-01-26        8,330.000  1,563.000  39.000     24.000\n2020-02-02       30,727.000 14,669.000 306.000    420.000\n2020-02-09       38,502.000 23,364.000 544.000  2,772.000\n2020-02-16       41,925.000 31,075.000 864.000  7,621.000\n2020-02-23       62,780.000  7,759.000 699.000 12,529.000\n2020-03-01      177,120.000  9,386.000 527.000 19,322.000\n2020-03-08      170,355.000  6,753.000 258.000  8,455.000",
      "text/html": "<div>\n<style scoped>\n    .dataframe tbody tr th:only-of-type {\n        vertical-align: middle;\n    }\n\n    .dataframe tbody tr th {\n        vertical-align: top;\n    }\n\n    .dataframe thead th {\n        text-align: right;\n    }\n</style>\n<table border=\"1\" class=\"dataframe\">\n  <thead>\n    <tr style=\"text-align: right;\">\n      <th></th>\n      <th>SNo</th>\n      <th>Confirmed</th>\n      <th>Deaths</th>\n      <th>Recovered</th>\n    </tr>\n    <tr>\n      <th>ObservationDate</th>\n      <th></th>\n      <th></th>\n      <th></th>\n      <th></th>\n    </tr>\n  </thead>\n  <tbody>\n    <tr>\n      <th>2020-01-26</th>\n      <td>8,330.000</td>\n      <td>1,563.000</td>\n      <td>39.000</td>\n      <td>24.000</td>\n    </tr>\n    <tr>\n      <th>2020-02-02</th>\n      <td>30,727.000</td>\n      <td>14,669.000</td>\n      <td>306.000</td>\n      <td>420.000</td>\n    </tr>\n    <tr>\n      <th>2020-02-09</th>\n      <td>38,502.000</td>\n      <td>23,364.000</td>\n      <td>544.000</td>\n      <td>2,772.000</td>\n    </tr>\n    <tr>\n      <th>2020-02-16</th>\n      <td>41,925.000</td>\n      <td>31,075.000</td>\n      <td>864.000</td>\n      <td>7,621.000</td>\n    </tr>\n    <tr>\n      <th>2020-02-23</th>\n      <td>62,780.000</td>\n      <td>7,759.000</td>\n      <td>699.000</td>\n      <td>12,529.000</td>\n    </tr>\n    <tr>\n      <th>2020-03-01</th>\n      <td>177,120.000</td>\n      <td>9,386.000</td>\n      <td>527.000</td>\n      <td>19,322.000</td>\n    </tr>\n    <tr>\n      <th>2020-03-08</th>\n      <td>170,355.000</td>\n      <td>6,753.000</td>\n      <td>258.000</td>\n      <td>8,455.000</td>\n    </tr>\n  </tbody>\n</table>\n</div>"
     },
     "metadata": {}
    }
   ]
  },
  {
   "cell_type": "markdown",
   "source": "## Variable nulas en series de tiempo",
   "metadata": {
    "tags": [],
    "cell_id": "00247-1b244a33-b877-4f95-a2ac-cc0e559f13c8",
    "deepnote_cell_type": "markdown"
   }
  },
  {
   "cell_type": "code",
   "metadata": {
    "tags": [],
    "cell_id": "00248-0868aeb4-7582-4943-841d-f0bae6a19868",
    "deepnote_to_be_reexecuted": false,
    "source_hash": "ead7a18b",
    "execution_start": 1625429330160,
    "execution_millis": 25,
    "deepnote_cell_type": "code"
   },
   "source": "df_cum = df_time.resample('12h').sum(min_count=1)\ndf_cum",
   "execution_count": 97,
   "outputs": [
    {
     "output_type": "execute_result",
     "execution_count": 97,
     "data": {
      "application/vnd.deepnote.dataframe.v2+json": {
       "row_count": 85,
       "column_count": 4,
       "columns": [
        {
         "name": "SNo",
         "dtype": "float64",
         "stats": {
          "unique_count": 43,
          "nan_count": 42,
          "min": "741.0",
          "max": "530480.0",
          "histogram": [
           {
            "bin_start": 741,
            "bin_end": 53714.9,
            "count": 14
           },
           {
            "bin_start": 53714.9,
            "bin_end": 106688.8,
            "count": 9
           },
           {
            "bin_start": 106688.8,
            "bin_end": 159662.7,
            "count": 7
           },
           {
            "bin_start": 159662.7,
            "bin_end": 212636.6,
            "count": 4
           },
           {
            "bin_start": 212636.6,
            "bin_end": 265610.5,
            "count": 2
           },
           {
            "bin_start": 265610.5,
            "bin_end": 318584.4,
            "count": 2
           },
           {
            "bin_start": 318584.4,
            "bin_end": 371558.3,
            "count": 2
           },
           {
            "bin_start": 371558.3,
            "bin_end": 424532.2,
            "count": 0
           },
           {
            "bin_start": 424532.2,
            "bin_end": 477506.10000000003,
            "count": 2
           },
           {
            "bin_start": 477506.10000000003,
            "bin_end": 530480,
            "count": 1
           }
          ]
         }
        },
        {
         "name": "Confirmed",
         "dtype": "float64",
         "stats": {
          "unique_count": 43,
          "nan_count": 42,
          "min": "555.0",
          "max": "95124.0",
          "histogram": [
           {
            "bin_start": 555,
            "bin_end": 10011.9,
            "count": 10
           },
           {
            "bin_start": 10011.9,
            "bin_end": 19468.8,
            "count": 2
           },
           {
            "bin_start": 19468.8,
            "bin_end": 28925.699999999997,
            "count": 3
           },
           {
            "bin_start": 28925.699999999997,
            "bin_end": 38382.6,
            "count": 3
           },
           {
            "bin_start": 38382.6,
            "bin_end": 47839.5,
            "count": 4
           },
           {
            "bin_start": 47839.5,
            "bin_end": 57296.399999999994,
            "count": 0
           },
           {
            "bin_start": 57296.399999999994,
            "bin_end": 66753.3,
            "count": 1
           },
           {
            "bin_start": 66753.3,
            "bin_end": 76210.2,
            "count": 7
           },
           {
            "bin_start": 76210.2,
            "bin_end": 85667.09999999999,
            "count": 8
           },
           {
            "bin_start": 85667.09999999999,
            "bin_end": 95124,
            "count": 5
           }
          ]
         }
        },
        {
         "name": "Deaths",
         "dtype": "float64",
         "stats": {
          "unique_count": 43,
          "nan_count": 42,
          "min": "17.0",
          "max": "3254.0",
          "histogram": [
           {
            "bin_start": 17,
            "bin_end": 340.7,
            "count": 11
           },
           {
            "bin_start": 340.7,
            "bin_end": 664.4,
            "count": 5
           },
           {
            "bin_start": 664.4,
            "bin_end": 988.0999999999999,
            "count": 3
           },
           {
            "bin_start": 988.0999999999999,
            "bin_end": 1311.8,
            "count": 3
           },
           {
            "bin_start": 1311.8,
            "bin_end": 1635.5,
            "count": 2
           },
           {
            "bin_start": 1635.5,
            "bin_end": 1959.1999999999998,
            "count": 3
           },
           {
            "bin_start": 1959.1999999999998,
            "bin_end": 2282.9,
            "count": 4
           },
           {
            "bin_start": 2282.9,
            "bin_end": 2606.6,
            "count": 2
           },
           {
            "bin_start": 2606.6,
            "bin_end": 2930.2999999999997,
            "count": 5
           },
           {
            "bin_start": 2930.2999999999997,
            "bin_end": 3254,
            "count": 5
           }
          ]
         }
        },
        {
         "name": "Recovered",
         "dtype": "float64",
         "stats": {
          "unique_count": 43,
          "nan_count": 42,
          "min": "28.0",
          "max": "51171.0",
          "histogram": [
           {
            "bin_start": 28,
            "bin_end": 5142.3,
            "count": 21
           },
           {
            "bin_start": 5142.3,
            "bin_end": 10256.6,
            "count": 4
           },
           {
            "bin_start": 10256.6,
            "bin_end": 15370.900000000001,
            "count": 3
           },
           {
            "bin_start": 15370.900000000001,
            "bin_end": 20485.2,
            "count": 3
           },
           {
            "bin_start": 20485.2,
            "bin_end": 25599.5,
            "count": 3
           },
           {
            "bin_start": 25599.5,
            "bin_end": 30713.800000000003,
            "count": 2
           },
           {
            "bin_start": 30713.800000000003,
            "bin_end": 35828.1,
            "count": 1
           },
           {
            "bin_start": 35828.1,
            "bin_end": 40942.4,
            "count": 2
           },
           {
            "bin_start": 40942.4,
            "bin_end": 46056.700000000004,
            "count": 2
           },
           {
            "bin_start": 46056.700000000004,
            "bin_end": 51171,
            "count": 2
           }
          ]
         }
        },
        {
         "name": "_deepnote_index_column",
         "dtype": "datetime64[ns]"
        }
       ],
       "rows_top": [
        {
         "SNo": 741,
         "Confirmed": 555,
         "Deaths": 17,
         "Recovered": 28,
         "_deepnote_index_column": "2020-01-22T00:00:00.000000"
        },
        {
         "SNo": "nan",
         "Confirmed": "nan",
         "Deaths": "nan",
         "Recovered": "nan",
         "_deepnote_index_column": "2020-01-22T12:00:00.000000"
        },
        {
         "SNo": 2829,
         "Confirmed": 653,
         "Deaths": 18,
         "Recovered": 30,
         "_deepnote_index_column": "2020-01-23T00:00:00.000000"
        },
        {
         "SNo": "nan",
         "Confirmed": "nan",
         "Deaths": "nan",
         "Recovered": "nan",
         "_deepnote_index_column": "2020-01-23T12:00:00.000000"
        },
        {
         "SNo": 4305,
         "Confirmed": 941,
         "Deaths": 26,
         "Recovered": 36,
         "_deepnote_index_column": "2020-01-24T00:00:00.000000"
        },
        {
         "SNo": "nan",
         "Confirmed": "nan",
         "Deaths": "nan",
         "Recovered": "nan",
         "_deepnote_index_column": "2020-01-24T12:00:00.000000"
        },
        {
         "SNo": 6490,
         "Confirmed": 1438,
         "Deaths": 42,
         "Recovered": 39,
         "_deepnote_index_column": "2020-01-25T00:00:00.000000"
        },
        {
         "SNo": "nan",
         "Confirmed": "nan",
         "Deaths": "nan",
         "Recovered": "nan",
         "_deepnote_index_column": "2020-01-25T12:00:00.000000"
        },
        {
         "SNo": 9071,
         "Confirmed": 2118,
         "Deaths": 56,
         "Recovered": 52,
         "_deepnote_index_column": "2020-01-26T00:00:00.000000"
        },
        {
         "SNo": "nan",
         "Confirmed": "nan",
         "Deaths": "nan",
         "Recovered": "nan",
         "_deepnote_index_column": "2020-01-26T12:00:00.000000"
        },
        {
         "SNo": 12342,
         "Confirmed": 2927,
         "Deaths": 82,
         "Recovered": 61,
         "_deepnote_index_column": "2020-01-27T00:00:00.000000"
        },
        {
         "SNo": "nan",
         "Confirmed": "nan",
         "Deaths": "nan",
         "Recovered": "nan",
         "_deepnote_index_column": "2020-01-27T12:00:00.000000"
        },
        {
         "SNo": 15262,
         "Confirmed": 5578,
         "Deaths": 131,
         "Recovered": 107,
         "_deepnote_index_column": "2020-01-28T00:00:00.000000"
        },
        {
         "SNo": "nan",
         "Confirmed": "nan",
         "Deaths": "nan",
         "Recovered": "nan",
         "_deepnote_index_column": "2020-01-28T12:00:00.000000"
        },
        {
         "SNo": 18711,
         "Confirmed": 6165,
         "Deaths": 133,
         "Recovered": 126,
         "_deepnote_index_column": "2020-01-29T00:00:00.000000"
        },
        {
         "SNo": "nan",
         "Confirmed": "nan",
         "Deaths": "nan",
         "Recovered": "nan",
         "_deepnote_index_column": "2020-01-29T12:00:00.000000"
        },
        {
         "SNo": 23345,
         "Confirmed": 8235,
         "Deaths": 171,
         "Recovered": 143,
         "_deepnote_index_column": "2020-01-30T00:00:00.000000"
        },
        {
         "SNo": "nan",
         "Confirmed": "nan",
         "Deaths": "nan",
         "Recovered": "nan",
         "_deepnote_index_column": "2020-01-30T12:00:00.000000"
        },
        {
         "SNo": 28675,
         "Confirmed": 9925,
         "Deaths": 213,
         "Recovered": 222,
         "_deepnote_index_column": "2020-01-31T00:00:00.000000"
        },
        {
         "SNo": "nan",
         "Confirmed": "nan",
         "Deaths": "nan",
         "Recovered": "nan",
         "_deepnote_index_column": "2020-01-31T12:00:00.000000"
        },
        {
         "SNo": 35309,
         "Confirmed": 12038,
         "Deaths": 259,
         "Recovered": 284,
         "_deepnote_index_column": "2020-02-01T00:00:00.000000"
        },
        {
         "SNo": "nan",
         "Confirmed": "nan",
         "Deaths": "nan",
         "Recovered": "nan",
         "_deepnote_index_column": "2020-02-01T12:00:00.000000"
        },
        {
         "SNo": 39798,
         "Confirmed": 16787,
         "Deaths": 362,
         "Recovered": 472,
         "_deepnote_index_column": "2020-02-02T00:00:00.000000"
        },
        {
         "SNo": "nan",
         "Confirmed": "nan",
         "Deaths": "nan",
         "Recovered": "nan",
         "_deepnote_index_column": "2020-02-02T12:00:00.000000"
        },
        {
         "SNo": 44982,
         "Confirmed": 19881,
         "Deaths": 426,
         "Recovered": 623,
         "_deepnote_index_column": "2020-02-03T00:00:00.000000"
        },
        {
         "SNo": "nan",
         "Confirmed": "nan",
         "Deaths": "nan",
         "Recovered": "nan",
         "_deepnote_index_column": "2020-02-03T12:00:00.000000"
        },
        {
         "SNo": 51135,
         "Confirmed": 23892,
         "Deaths": 492,
         "Recovered": 852,
         "_deepnote_index_column": "2020-02-04T00:00:00.000000"
        },
        {
         "SNo": "nan",
         "Confirmed": "nan",
         "Deaths": "nan",
         "Recovered": "nan",
         "_deepnote_index_column": "2020-02-04T12:00:00.000000"
        },
        {
         "SNo": 56871,
         "Confirmed": 27636,
         "Deaths": 564,
         "Recovered": 1124,
         "_deepnote_index_column": "2020-02-05T00:00:00.000000"
        },
        {
         "SNo": "nan",
         "Confirmed": "nan",
         "Deaths": "nan",
         "Recovered": "nan",
         "_deepnote_index_column": "2020-02-05T12:00:00.000000"
        },
        {
         "SNo": 61912,
         "Confirmed": 30818,
         "Deaths": 634,
         "Recovered": 1487,
         "_deepnote_index_column": "2020-02-06T00:00:00.000000"
        },
        {
         "SNo": "nan",
         "Confirmed": "nan",
         "Deaths": "nan",
         "Recovered": "nan",
         "_deepnote_index_column": "2020-02-06T12:00:00.000000"
        },
        {
         "SNo": 67932,
         "Confirmed": 34392,
         "Deaths": 719,
         "Recovered": 2011,
         "_deepnote_index_column": "2020-02-07T00:00:00.000000"
        },
        {
         "SNo": "nan",
         "Confirmed": "nan",
         "Deaths": "nan",
         "Recovered": "nan",
         "_deepnote_index_column": "2020-02-07T12:00:00.000000"
        },
        {
         "SNo": 73116,
         "Confirmed": 37121,
         "Deaths": 806,
         "Recovered": 2616,
         "_deepnote_index_column": "2020-02-08T00:00:00.000000"
        },
        {
         "SNo": "nan",
         "Confirmed": "nan",
         "Deaths": "nan",
         "Recovered": "nan",
         "_deepnote_index_column": "2020-02-08T12:00:00.000000"
        },
        {
         "SNo": 78300,
         "Confirmed": 40151,
         "Deaths": 906,
         "Recovered": 3244,
         "_deepnote_index_column": "2020-02-09T00:00:00.000000"
        },
        {
         "SNo": "nan",
         "Confirmed": "nan",
         "Deaths": "nan",
         "Recovered": "nan",
         "_deepnote_index_column": "2020-02-09T12:00:00.000000"
        },
        {
         "SNo": 83484,
         "Confirmed": 42763,
         "Deaths": 1013,
         "Recovered": 3946,
         "_deepnote_index_column": "2020-02-10T00:00:00.000000"
        },
        {
         "SNo": "nan",
         "Confirmed": "nan",
         "Deaths": "nan",
         "Recovered": "nan",
         "_deepnote_index_column": "2020-02-10T12:00:00.000000"
        },
        {
         "SNo": 89936,
         "Confirmed": 44803,
         "Deaths": 1113,
         "Recovered": 4683,
         "_deepnote_index_column": "2020-02-11T00:00:00.000000"
        },
        {
         "SNo": "nan",
         "Confirmed": "nan",
         "Deaths": "nan",
         "Recovered": "nan",
         "_deepnote_index_column": "2020-02-11T12:00:00.000000"
        },
        {
         "SNo": 95265,
         "Confirmed": 45222,
         "Deaths": 1118,
         "Recovered": 5150,
         "_deepnote_index_column": "2020-02-12T00:00:00.000000"
        },
        {
         "SNo": "nan",
         "Confirmed": "nan",
         "Deaths": "nan",
         "Recovered": "nan",
         "_deepnote_index_column": "2020-02-12T12:00:00.000000"
        },
        {
         "SNo": 102009,
         "Confirmed": 60370,
         "Deaths": 1371,
         "Recovered": 6295,
         "_deepnote_index_column": "2020-02-13T00:00:00.000000"
        },
        {
         "SNo": "nan",
         "Confirmed": "nan",
         "Deaths": "nan",
         "Recovered": "nan",
         "_deepnote_index_column": "2020-02-13T12:00:00.000000"
        },
        {
         "SNo": 108975,
         "Confirmed": 66887,
         "Deaths": 1523,
         "Recovered": 8058,
         "_deepnote_index_column": "2020-02-14T00:00:00.000000"
        },
        {
         "SNo": "nan",
         "Confirmed": "nan",
         "Deaths": "nan",
         "Recovered": "nan",
         "_deepnote_index_column": "2020-02-14T12:00:00.000000"
        },
        {
         "SNo": 114600,
         "Confirmed": 69032,
         "Deaths": 1666,
         "Recovered": 9395,
         "_deepnote_index_column": "2020-02-15T00:00:00.000000"
        },
        {
         "SNo": "nan",
         "Confirmed": "nan",
         "Deaths": "nan",
         "Recovered": "nan",
         "_deepnote_index_column": "2020-02-15T12:00:00.000000"
        },
        {
         "SNo": 120225,
         "Confirmed": 71226,
         "Deaths": 1770,
         "Recovered": 10865,
         "_deepnote_index_column": "2020-02-16T00:00:00.000000"
        },
        {
         "SNo": "nan",
         "Confirmed": "nan",
         "Deaths": "nan",
         "Recovered": "nan",
         "_deepnote_index_column": "2020-02-16T12:00:00.000000"
        },
        {
         "SNo": 125850,
         "Confirmed": 73260,
         "Deaths": 1868,
         "Recovered": 12583,
         "_deepnote_index_column": "2020-02-17T00:00:00.000000"
        },
        {
         "SNo": "nan",
         "Confirmed": "nan",
         "Deaths": "nan",
         "Recovered": "nan",
         "_deepnote_index_column": "2020-02-17T12:00:00.000000"
        },
        {
         "SNo": 131475,
         "Confirmed": 75138,
         "Deaths": 2007,
         "Recovered": 14352,
         "_deepnote_index_column": "2020-02-18T00:00:00.000000"
        },
        {
         "SNo": "nan",
         "Confirmed": "nan",
         "Deaths": "nan",
         "Recovered": "nan",
         "_deepnote_index_column": "2020-02-18T12:00:00.000000"
        },
        {
         "SNo": 138966,
         "Confirmed": 75641,
         "Deaths": 2122,
         "Recovered": 16121,
         "_deepnote_index_column": "2020-02-19T00:00:00.000000"
        },
        {
         "SNo": "nan",
         "Confirmed": "nan",
         "Deaths": "nan",
         "Recovered": "nan",
         "_deepnote_index_column": "2020-02-19T12:00:00.000000"
        },
        {
         "SNo": 144742,
         "Confirmed": 76199,
         "Deaths": 2247,
         "Recovered": 18177,
         "_deepnote_index_column": "2020-02-20T00:00:00.000000"
        },
        {
         "SNo": "nan",
         "Confirmed": "nan",
         "Deaths": "nan",
         "Recovered": "nan",
         "_deepnote_index_column": "2020-02-20T12:00:00.000000"
        },
        {
         "SNo": 166698,
         "Confirmed": 76843,
         "Deaths": 2251,
         "Recovered": 18890,
         "_deepnote_index_column": "2020-02-21T00:00:00.000000"
        },
        {
         "SNo": "nan",
         "Confirmed": "nan",
         "Deaths": "nan",
         "Recovered": "nan",
         "_deepnote_index_column": "2020-02-21T12:00:00.000000"
        },
        {
         "SNo": 173754,
         "Confirmed": 78599,
         "Deaths": 2458,
         "Recovered": 22886,
         "_deepnote_index_column": "2020-02-22T00:00:00.000000"
        },
        {
         "SNo": "nan",
         "Confirmed": "nan",
         "Deaths": "nan",
         "Recovered": "nan",
         "_deepnote_index_column": "2020-02-22T12:00:00.000000"
        },
        {
         "SNo": 183005,
         "Confirmed": 78985,
         "Deaths": 2469,
         "Recovered": 23394,
         "_deepnote_index_column": "2020-02-23T00:00:00.000000"
        },
        {
         "SNo": "nan",
         "Confirmed": "nan",
         "Deaths": "nan",
         "Recovered": "nan",
         "_deepnote_index_column": "2020-02-23T12:00:00.000000"
        },
        {
         "SNo": 201645,
         "Confirmed": 79570,
         "Deaths": 2629,
         "Recovered": 25227,
         "_deepnote_index_column": "2020-02-24T00:00:00.000000"
        },
        {
         "SNo": "nan",
         "Confirmed": "nan",
         "Deaths": "nan",
         "Recovered": "nan",
         "_deepnote_index_column": "2020-02-24T12:00:00.000000"
        },
        {
         "SNo": 219255,
         "Confirmed": 80415,
         "Deaths": 2708,
         "Recovered": 27905,
         "_deepnote_index_column": "2020-02-25T00:00:00.000000"
        },
        {
         "SNo": "nan",
         "Confirmed": "nan",
         "Deaths": "nan",
         "Recovered": "nan",
         "_deepnote_index_column": "2020-02-25T12:00:00.000000"
        },
        {
         "SNo": 245430,
         "Confirmed": 81397,
         "Deaths": 2770,
         "Recovered": 30384,
         "_deepnote_index_column": "2020-02-26T00:00:00.000000"
        },
        {
         "SNo": "nan",
         "Confirmed": "nan",
         "Deaths": "nan",
         "Recovered": "nan",
         "_deepnote_index_column": "2020-02-26T12:00:00.000000"
        },
        {
         "SNo": 265965,
         "Confirmed": 82756,
         "Deaths": 2814,
         "Recovered": 33277,
         "_deepnote_index_column": "2020-02-27T00:00:00.000000"
        },
        {
         "SNo": "nan",
         "Confirmed": "nan",
         "Deaths": "nan",
         "Recovered": "nan",
         "_deepnote_index_column": "2020-02-27T12:00:00.000000"
        },
        {
         "SNo": 301245,
         "Confirmed": 84124,
         "Deaths": 2872,
         "Recovered": 36711,
         "_deepnote_index_column": "2020-02-28T00:00:00.000000"
        },
        {
         "SNo": "nan",
         "Confirmed": "nan",
         "Deaths": "nan",
         "Recovered": "nan",
         "_deepnote_index_column": "2020-02-28T12:00:00.000000"
        },
        {
         "SNo": 328321,
         "Confirmed": 86013,
         "Deaths": 2941,
         "Recovered": 39782,
         "_deepnote_index_column": "2020-02-29T00:00:00.000000"
        },
        {
         "SNo": "nan",
         "Confirmed": "nan",
         "Deaths": "nan",
         "Recovered": "nan",
         "_deepnote_index_column": "2020-02-29T12:00:00.000000"
        },
        {
         "SNo": 360125,
         "Confirmed": 88371,
         "Deaths": 2996,
         "Recovered": 42716,
         "_deepnote_index_column": "2020-03-01T00:00:00.000000"
        },
        {
         "SNo": "nan",
         "Confirmed": "nan",
         "Deaths": "nan",
         "Recovered": "nan",
         "_deepnote_index_column": "2020-03-01T12:00:00.000000"
        },
        {
         "SNo": 424974,
         "Confirmed": 90309,
         "Deaths": 3085,
         "Recovered": 45602,
         "_deepnote_index_column": "2020-03-02T00:00:00.000000"
        },
        {
         "SNo": "nan",
         "Confirmed": "nan",
         "Deaths": "nan",
         "Recovered": "nan",
         "_deepnote_index_column": "2020-03-02T12:00:00.000000"
        },
        {
         "SNo": 477160,
         "Confirmed": 92844,
         "Deaths": 3160,
         "Recovered": 48229,
         "_deepnote_index_column": "2020-03-03T00:00:00.000000"
        },
        {
         "SNo": "nan",
         "Confirmed": "nan",
         "Deaths": "nan",
         "Recovered": "nan",
         "_deepnote_index_column": "2020-03-03T12:00:00.000000"
        },
        {
         "SNo": 530480,
         "Confirmed": 95124,
         "Deaths": 3254,
         "Recovered": 51171,
         "_deepnote_index_column": "2020-03-04T00:00:00.000000"
        }
       ],
       "rows_bottom": null
      },
      "text/plain": "                            SNo  Confirmed    Deaths  Recovered\nObservationDate                                                \n2020-01-22 00:00:00     741.000    555.000    17.000     28.000\n2020-01-22 12:00:00         NaN        NaN       NaN        NaN\n2020-01-23 00:00:00   2,829.000    653.000    18.000     30.000\n2020-01-23 12:00:00         NaN        NaN       NaN        NaN\n2020-01-24 00:00:00   4,305.000    941.000    26.000     36.000\n...                         ...        ...       ...        ...\n2020-03-02 00:00:00 424,974.000 90,309.000 3,085.000 45,602.000\n2020-03-02 12:00:00         NaN        NaN       NaN        NaN\n2020-03-03 00:00:00 477,160.000 92,844.000 3,160.000 48,229.000\n2020-03-03 12:00:00         NaN        NaN       NaN        NaN\n2020-03-04 00:00:00 530,480.000 95,124.000 3,254.000 51,171.000\n\n[85 rows x 4 columns]",
      "text/html": "<div>\n<style scoped>\n    .dataframe tbody tr th:only-of-type {\n        vertical-align: middle;\n    }\n\n    .dataframe tbody tr th {\n        vertical-align: top;\n    }\n\n    .dataframe thead th {\n        text-align: right;\n    }\n</style>\n<table border=\"1\" class=\"dataframe\">\n  <thead>\n    <tr style=\"text-align: right;\">\n      <th></th>\n      <th>SNo</th>\n      <th>Confirmed</th>\n      <th>Deaths</th>\n      <th>Recovered</th>\n    </tr>\n    <tr>\n      <th>ObservationDate</th>\n      <th></th>\n      <th></th>\n      <th></th>\n      <th></th>\n    </tr>\n  </thead>\n  <tbody>\n    <tr>\n      <th>2020-01-22 00:00:00</th>\n      <td>741.000</td>\n      <td>555.000</td>\n      <td>17.000</td>\n      <td>28.000</td>\n    </tr>\n    <tr>\n      <th>2020-01-22 12:00:00</th>\n      <td>NaN</td>\n      <td>NaN</td>\n      <td>NaN</td>\n      <td>NaN</td>\n    </tr>\n    <tr>\n      <th>2020-01-23 00:00:00</th>\n      <td>2,829.000</td>\n      <td>653.000</td>\n      <td>18.000</td>\n      <td>30.000</td>\n    </tr>\n    <tr>\n      <th>2020-01-23 12:00:00</th>\n      <td>NaN</td>\n      <td>NaN</td>\n      <td>NaN</td>\n      <td>NaN</td>\n    </tr>\n    <tr>\n      <th>2020-01-24 00:00:00</th>\n      <td>4,305.000</td>\n      <td>941.000</td>\n      <td>26.000</td>\n      <td>36.000</td>\n    </tr>\n    <tr>\n      <th>...</th>\n      <td>...</td>\n      <td>...</td>\n      <td>...</td>\n      <td>...</td>\n    </tr>\n    <tr>\n      <th>2020-03-02 00:00:00</th>\n      <td>424,974.000</td>\n      <td>90,309.000</td>\n      <td>3,085.000</td>\n      <td>45,602.000</td>\n    </tr>\n    <tr>\n      <th>2020-03-02 12:00:00</th>\n      <td>NaN</td>\n      <td>NaN</td>\n      <td>NaN</td>\n      <td>NaN</td>\n    </tr>\n    <tr>\n      <th>2020-03-03 00:00:00</th>\n      <td>477,160.000</td>\n      <td>92,844.000</td>\n      <td>3,160.000</td>\n      <td>48,229.000</td>\n    </tr>\n    <tr>\n      <th>2020-03-03 12:00:00</th>\n      <td>NaN</td>\n      <td>NaN</td>\n      <td>NaN</td>\n      <td>NaN</td>\n    </tr>\n    <tr>\n      <th>2020-03-04 00:00:00</th>\n      <td>530,480.000</td>\n      <td>95,124.000</td>\n      <td>3,254.000</td>\n      <td>51,171.000</td>\n    </tr>\n  </tbody>\n</table>\n<p>85 rows × 4 columns</p>\n</div>"
     },
     "metadata": {}
    }
   ]
  },
  {
   "cell_type": "markdown",
   "source": "### Completar los valores nulos\n**Bfill** : copia el valor siguiente donde habia un valor nulo.\n\n**ffill** : copia el valor previo donde habia un valor nulo.\n\n**fillna(A-remplazar)** : Remplazamos por el valor que deseamos.\n\n**interpolate()** : Nos ayuda a crear valores medion entre los espacios de valores nulos de acuerdo la valor previo y siguiente.",
   "metadata": {
    "tags": [],
    "cell_id": "00249-4936652e-4280-4158-8dcb-6094a592bcfe",
    "deepnote_cell_type": "markdown"
   }
  },
  {
   "cell_type": "code",
   "metadata": {
    "tags": [],
    "cell_id": "00250-0b763b5a-ac0d-4621-85f0-e569b44c7785",
    "deepnote_to_be_reexecuted": false,
    "source_hash": "ab9d0415",
    "execution_start": 1625429591409,
    "execution_millis": 30,
    "deepnote_cell_type": "code"
   },
   "source": "df_cum.bfill()\ndf_cum.ffill()\ndf_cum = df_cum.interpolate()\ndf_cum.head(3)",
   "execution_count": 98,
   "outputs": [
    {
     "output_type": "execute_result",
     "execution_count": 98,
     "data": {
      "application/vnd.deepnote.dataframe.v2+json": {
       "row_count": 3,
       "column_count": 4,
       "columns": [
        {
         "name": "SNo",
         "dtype": "float64",
         "stats": {
          "unique_count": 3,
          "nan_count": 0,
          "min": "741.0",
          "max": "2829.0",
          "histogram": [
           {
            "bin_start": 741,
            "bin_end": 949.8,
            "count": 1
           },
           {
            "bin_start": 949.8,
            "bin_end": 1158.6,
            "count": 0
           },
           {
            "bin_start": 1158.6,
            "bin_end": 1367.4,
            "count": 0
           },
           {
            "bin_start": 1367.4,
            "bin_end": 1576.2,
            "count": 0
           },
           {
            "bin_start": 1576.2,
            "bin_end": 1785,
            "count": 0
           },
           {
            "bin_start": 1785,
            "bin_end": 1993.8000000000002,
            "count": 1
           },
           {
            "bin_start": 1993.8000000000002,
            "bin_end": 2202.6000000000004,
            "count": 0
           },
           {
            "bin_start": 2202.6000000000004,
            "bin_end": 2411.4,
            "count": 0
           },
           {
            "bin_start": 2411.4,
            "bin_end": 2620.2,
            "count": 0
           },
           {
            "bin_start": 2620.2,
            "bin_end": 2829,
            "count": 1
           }
          ]
         }
        },
        {
         "name": "Confirmed",
         "dtype": "float64",
         "stats": {
          "unique_count": 3,
          "nan_count": 0,
          "min": "555.0",
          "max": "653.0",
          "histogram": [
           {
            "bin_start": 555,
            "bin_end": 564.8,
            "count": 1
           },
           {
            "bin_start": 564.8,
            "bin_end": 574.6,
            "count": 0
           },
           {
            "bin_start": 574.6,
            "bin_end": 584.4,
            "count": 0
           },
           {
            "bin_start": 584.4,
            "bin_end": 594.2,
            "count": 0
           },
           {
            "bin_start": 594.2,
            "bin_end": 604,
            "count": 0
           },
           {
            "bin_start": 604,
            "bin_end": 613.8,
            "count": 1
           },
           {
            "bin_start": 613.8,
            "bin_end": 623.6,
            "count": 0
           },
           {
            "bin_start": 623.6,
            "bin_end": 633.4,
            "count": 0
           },
           {
            "bin_start": 633.4,
            "bin_end": 643.2,
            "count": 0
           },
           {
            "bin_start": 643.2,
            "bin_end": 653,
            "count": 1
           }
          ]
         }
        },
        {
         "name": "Deaths",
         "dtype": "float64",
         "stats": {
          "unique_count": 3,
          "nan_count": 0,
          "min": "17.0",
          "max": "18.0",
          "histogram": [
           {
            "bin_start": 17,
            "bin_end": 17.1,
            "count": 1
           },
           {
            "bin_start": 17.1,
            "bin_end": 17.2,
            "count": 0
           },
           {
            "bin_start": 17.2,
            "bin_end": 17.3,
            "count": 0
           },
           {
            "bin_start": 17.3,
            "bin_end": 17.4,
            "count": 0
           },
           {
            "bin_start": 17.4,
            "bin_end": 17.5,
            "count": 0
           },
           {
            "bin_start": 17.5,
            "bin_end": 17.6,
            "count": 1
           },
           {
            "bin_start": 17.6,
            "bin_end": 17.7,
            "count": 0
           },
           {
            "bin_start": 17.7,
            "bin_end": 17.8,
            "count": 0
           },
           {
            "bin_start": 17.8,
            "bin_end": 17.9,
            "count": 0
           },
           {
            "bin_start": 17.9,
            "bin_end": 18,
            "count": 1
           }
          ]
         }
        },
        {
         "name": "Recovered",
         "dtype": "float64",
         "stats": {
          "unique_count": 3,
          "nan_count": 0,
          "min": "28.0",
          "max": "30.0",
          "histogram": [
           {
            "bin_start": 28,
            "bin_end": 28.2,
            "count": 1
           },
           {
            "bin_start": 28.2,
            "bin_end": 28.4,
            "count": 0
           },
           {
            "bin_start": 28.4,
            "bin_end": 28.6,
            "count": 0
           },
           {
            "bin_start": 28.6,
            "bin_end": 28.8,
            "count": 0
           },
           {
            "bin_start": 28.8,
            "bin_end": 29,
            "count": 0
           },
           {
            "bin_start": 29,
            "bin_end": 29.2,
            "count": 1
           },
           {
            "bin_start": 29.2,
            "bin_end": 29.4,
            "count": 0
           },
           {
            "bin_start": 29.4,
            "bin_end": 29.6,
            "count": 0
           },
           {
            "bin_start": 29.6,
            "bin_end": 29.8,
            "count": 0
           },
           {
            "bin_start": 29.8,
            "bin_end": 30,
            "count": 1
           }
          ]
         }
        },
        {
         "name": "_deepnote_index_column",
         "dtype": "datetime64[ns]"
        }
       ],
       "rows_top": [
        {
         "SNo": 741,
         "Confirmed": 555,
         "Deaths": 17,
         "Recovered": 28,
         "_deepnote_index_column": "2020-01-22T00:00:00.000000"
        },
        {
         "SNo": 1785,
         "Confirmed": 604,
         "Deaths": 17.5,
         "Recovered": 29,
         "_deepnote_index_column": "2020-01-22T12:00:00.000000"
        },
        {
         "SNo": 2829,
         "Confirmed": 653,
         "Deaths": 18,
         "Recovered": 30,
         "_deepnote_index_column": "2020-01-23T00:00:00.000000"
        }
       ],
       "rows_bottom": null
      },
      "text/plain": "                          SNo  Confirmed  Deaths  Recovered\nObservationDate                                            \n2020-01-22 00:00:00   741.000    555.000  17.000     28.000\n2020-01-22 12:00:00 1,785.000    604.000  17.500     29.000\n2020-01-23 00:00:00 2,829.000    653.000  18.000     30.000",
      "text/html": "<div>\n<style scoped>\n    .dataframe tbody tr th:only-of-type {\n        vertical-align: middle;\n    }\n\n    .dataframe tbody tr th {\n        vertical-align: top;\n    }\n\n    .dataframe thead th {\n        text-align: right;\n    }\n</style>\n<table border=\"1\" class=\"dataframe\">\n  <thead>\n    <tr style=\"text-align: right;\">\n      <th></th>\n      <th>SNo</th>\n      <th>Confirmed</th>\n      <th>Deaths</th>\n      <th>Recovered</th>\n    </tr>\n    <tr>\n      <th>ObservationDate</th>\n      <th></th>\n      <th></th>\n      <th></th>\n      <th></th>\n    </tr>\n  </thead>\n  <tbody>\n    <tr>\n      <th>2020-01-22 00:00:00</th>\n      <td>741.000</td>\n      <td>555.000</td>\n      <td>17.000</td>\n      <td>28.000</td>\n    </tr>\n    <tr>\n      <th>2020-01-22 12:00:00</th>\n      <td>1,785.000</td>\n      <td>604.000</td>\n      <td>17.500</td>\n      <td>29.000</td>\n    </tr>\n    <tr>\n      <th>2020-01-23 00:00:00</th>\n      <td>2,829.000</td>\n      <td>653.000</td>\n      <td>18.000</td>\n      <td>30.000</td>\n    </tr>\n  </tbody>\n</table>\n</div>"
     },
     "metadata": {}
    }
   ]
  },
  {
   "cell_type": "markdown",
   "source": "## Groupby especializado para series de tiempo",
   "metadata": {
    "tags": [],
    "cell_id": "00251-6fa6c723-7f9e-4607-a35a-cb7c8de90521",
    "deepnote_cell_type": "markdown"
   }
  },
  {
   "cell_type": "code",
   "metadata": {
    "tags": [],
    "cell_id": "00251-765bfbca-2832-4634-b055-8d899cbdb2e3",
    "deepnote_to_be_reexecuted": false,
    "source_hash": "f736db6d",
    "execution_start": 1625429619521,
    "execution_millis": 19,
    "deepnote_cell_type": "code"
   },
   "source": "df_cum['rate'] = 1 - df_cum['Deaths'] / df_cum['Confirmed']\ndf_cum = df_cum.reset_index()\ndf_cum.groupby(pd.Grouper(key='ObservationDate', freq='M'))[['rate']].mean()",
   "execution_count": 100,
   "outputs": [
    {
     "output_type": "execute_result",
     "execution_count": 100,
     "data": {
      "application/vnd.deepnote.dataframe.v2+json": {
       "row_count": 3,
       "column_count": 1,
       "columns": [
        {
         "name": "rate",
         "dtype": "float64",
         "stats": {
          "unique_count": 3,
          "nan_count": 0,
          "min": "0.9659200716095973",
          "max": "0.9745940611183868",
          "histogram": [
           {
            "bin_start": 0.9659200716095973,
            "bin_end": 0.9667874705604762,
            "count": 1
           },
           {
            "bin_start": 0.9667874705604762,
            "bin_end": 0.9676548695113552,
            "count": 0
           },
           {
            "bin_start": 0.9676548695113552,
            "bin_end": 0.9685222684622341,
            "count": 0
           },
           {
            "bin_start": 0.9685222684622341,
            "bin_end": 0.969389667413113,
            "count": 0
           },
           {
            "bin_start": 0.969389667413113,
            "bin_end": 0.970257066363992,
            "count": 0
           },
           {
            "bin_start": 0.970257066363992,
            "bin_end": 0.971124465314871,
            "count": 0
           },
           {
            "bin_start": 0.971124465314871,
            "bin_end": 0.9719918642657499,
            "count": 0
           },
           {
            "bin_start": 0.9719918642657499,
            "bin_end": 0.9728592632166289,
            "count": 0
           },
           {
            "bin_start": 0.9728592632166289,
            "bin_end": 0.9737266621675078,
            "count": 1
           },
           {
            "bin_start": 0.9737266621675078,
            "bin_end": 0.9745940611183868,
            "count": 1
           }
          ]
         }
        },
        {
         "name": "_deepnote_index_column",
         "dtype": "datetime64[ns]"
        }
       ],
       "rows_top": [
        {
         "rate": 0.9745940611183868,
         "_deepnote_index_column": "2020-01-31T00:00:00.000000"
        },
        {
         "rate": 0.9735619071451979,
         "_deepnote_index_column": "2020-02-29T00:00:00.000000"
        },
        {
         "rate": 0.9659200716095973,
         "_deepnote_index_column": "2020-03-31T00:00:00.000000"
        }
       ],
       "rows_bottom": null
      },
      "text/plain": "                 rate\nObservationDate      \n2020-01-31      0.975\n2020-02-29      0.974\n2020-03-31      0.966",
      "text/html": "<div>\n<style scoped>\n    .dataframe tbody tr th:only-of-type {\n        vertical-align: middle;\n    }\n\n    .dataframe tbody tr th {\n        vertical-align: top;\n    }\n\n    .dataframe thead th {\n        text-align: right;\n    }\n</style>\n<table border=\"1\" class=\"dataframe\">\n  <thead>\n    <tr style=\"text-align: right;\">\n      <th></th>\n      <th>rate</th>\n    </tr>\n    <tr>\n      <th>ObservationDate</th>\n      <th></th>\n    </tr>\n  </thead>\n  <tbody>\n    <tr>\n      <th>2020-01-31</th>\n      <td>0.975</td>\n    </tr>\n    <tr>\n      <th>2020-02-29</th>\n      <td>0.974</td>\n    </tr>\n    <tr>\n      <th>2020-03-31</th>\n      <td>0.966</td>\n    </tr>\n  </tbody>\n</table>\n</div>"
     },
     "metadata": {}
    }
   ]
  },
  {
   "cell_type": "markdown",
   "source": "<a style='text-decoration:none;line-height:16px;display:flex;color:#5B5B62;padding:10px;justify-content:end;' href='https://deepnote.com?utm_source=created-in-deepnote-cell&projectId=40d7a071-7e6a-4668-9914-a7e81441c111' target=\"_blank\">\n<img alt='Created in deepnote.com' style='display:inline;max-height:16px;margin:0px;margin-right:7.5px;' src='data:image/svg+xml;base64,PD94bWwgdmVyc2lvbj0iMS4wIiBlbmNvZGluZz0iVVRGLTgiPz4KPHN2ZyB3aWR0aD0iODBweCIgaGVpZ2h0PSI4MHB4IiB2aWV3Qm94PSIwIDAgODAgODAiIHZlcnNpb249IjEuMSIgeG1sbnM9Imh0dHA6Ly93d3cudzMub3JnLzIwMDAvc3ZnIiB4bWxuczp4bGluaz0iaHR0cDovL3d3dy53My5vcmcvMTk5OS94bGluayI+CiAgICA8IS0tIEdlbmVyYXRvcjogU2tldGNoIDU0LjEgKDc2NDkwKSAtIGh0dHBzOi8vc2tldGNoYXBwLmNvbSAtLT4KICAgIDx0aXRsZT5Hcm91cCAzPC90aXRsZT4KICAgIDxkZXNjPkNyZWF0ZWQgd2l0aCBTa2V0Y2guPC9kZXNjPgogICAgPGcgaWQ9IkxhbmRpbmciIHN0cm9rZT0ibm9uZSIgc3Ryb2tlLXdpZHRoPSIxIiBmaWxsPSJub25lIiBmaWxsLXJ1bGU9ImV2ZW5vZGQiPgogICAgICAgIDxnIGlkPSJBcnRib2FyZCIgdHJhbnNmb3JtPSJ0cmFuc2xhdGUoLTEyMzUuMDAwMDAwLCAtNzkuMDAwMDAwKSI+CiAgICAgICAgICAgIDxnIGlkPSJHcm91cC0zIiB0cmFuc2Zvcm09InRyYW5zbGF0ZSgxMjM1LjAwMDAwMCwgNzkuMDAwMDAwKSI+CiAgICAgICAgICAgICAgICA8cG9seWdvbiBpZD0iUGF0aC0yMCIgZmlsbD0iIzAyNjVCNCIgcG9pbnRzPSIyLjM3NjIzNzYyIDgwIDM4LjA0NzY2NjcgODAgNTcuODIxNzgyMiA3My44MDU3NTkyIDU3LjgyMTc4MjIgMzIuNzU5MjczOSAzOS4xNDAyMjc4IDMxLjY4MzE2ODMiPjwvcG9seWdvbj4KICAgICAgICAgICAgICAgIDxwYXRoIGQ9Ik0zNS4wMDc3MTgsODAgQzQyLjkwNjIwMDcsNzYuNDU0OTM1OCA0Ny41NjQ5MTY3LDcxLjU0MjI2NzEgNDguOTgzODY2LDY1LjI2MTk5MzkgQzUxLjExMjI4OTksNTUuODQxNTg0MiA0MS42NzcxNzk1LDQ5LjIxMjIyODQgMjUuNjIzOTg0Niw0OS4yMTIyMjg0IEMyNS40ODQ5Mjg5LDQ5LjEyNjg0NDggMjkuODI2MTI5Niw0My4yODM4MjQ4IDM4LjY0NzU4NjksMzEuNjgzMTY4MyBMNzIuODcxMjg3MSwzMi41NTQ0MjUgTDY1LjI4MDk3Myw2Ny42NzYzNDIxIEw1MS4xMTIyODk5LDc3LjM3NjE0NCBMMzUuMDA3NzE4LDgwIFoiIGlkPSJQYXRoLTIyIiBmaWxsPSIjMDAyODY4Ij48L3BhdGg+CiAgICAgICAgICAgICAgICA8cGF0aCBkPSJNMCwzNy43MzA0NDA1IEwyNy4xMTQ1MzcsMC4yNTcxMTE0MzYgQzYyLjM3MTUxMjMsLTEuOTkwNzE3MDEgODAsMTAuNTAwMzkyNyA4MCwzNy43MzA0NDA1IEM4MCw2NC45NjA0ODgyIDY0Ljc3NjUwMzgsNzkuMDUwMzQxNCAzNC4zMjk1MTEzLDgwIEM0Ny4wNTUzNDg5LDc3LjU2NzA4MDggNTMuNDE4MjY3Nyw3MC4zMTM2MTAzIDUzLjQxODI2NzcsNTguMjM5NTg4NSBDNTMuNDE4MjY3Nyw0MC4xMjg1NTU3IDM2LjMwMzk1NDQsMzcuNzMwNDQwNSAyNS4yMjc0MTcsMzcuNzMwNDQwNSBDMTcuODQzMDU4NiwzNy43MzA0NDA1IDkuNDMzOTE5NjYsMzcuNzMwNDQwNSAwLDM3LjczMDQ0MDUgWiIgaWQ9IlBhdGgtMTkiIGZpbGw9IiMzNzkzRUYiPjwvcGF0aD4KICAgICAgICAgICAgPC9nPgogICAgICAgIDwvZz4KICAgIDwvZz4KPC9zdmc+' > </img>\nCreated in <span style='font-weight:600;margin-left:4px;'>Deepnote</span></a>",
   "metadata": {
    "tags": [],
    "created_in_deepnote_cell": true,
    "deepnote_cell_type": "markdown"
   }
  }
 ],
 "nbformat": 4,
 "nbformat_minor": 2,
 "metadata": {
  "orig_nbformat": 2,
  "deepnote": {
   "is_reactive": false
  },
  "deepnote_notebook_id": "d6522305-0424-4b29-94a5-55729c007564",
  "deepnote_execution_queue": []
 }
}