{
 "cells": [
  {
   "cell_type": "code",
   "metadata": {
    "tags": [],
    "cell_id": "00000-733aac24-de70-4101-9692-260a3190ae26",
    "deepnote_to_be_reexecuted": false,
    "source_hash": "ac69cb49",
    "execution_start": 1625167319743,
    "execution_millis": 586,
    "deepnote_cell_type": "code"
   },
   "source": "import pandas as pd\nimport numpy as np\nimport seaborn as sns\n\npd.options.display.float_format = '{:,.3f}'.format\ndf = sns.load_dataset('diamonds')\ndf",
   "execution_count": null,
   "outputs": [
    {
     "output_type": "execute_result",
     "execution_count": 5,
     "data": {
      "application/vnd.deepnote.dataframe.v2+json": {
       "row_count": 53940,
       "column_count": 10,
       "columns": [
        {
         "name": "carat",
         "dtype": "float64",
         "stats": {
          "unique_count": 273,
          "nan_count": 0,
          "min": "0.2",
          "max": "5.01",
          "histogram": [
           {
            "bin_start": 0.2,
            "bin_end": 0.681,
            "count": 25155
           },
           {
            "bin_start": 0.681,
            "bin_end": 1.162,
            "count": 18626
           },
           {
            "bin_start": 1.162,
            "bin_end": 1.643,
            "count": 7129
           },
           {
            "bin_start": 1.643,
            "bin_end": 2.124,
            "count": 2349
           },
           {
            "bin_start": 2.124,
            "bin_end": 2.605,
            "count": 614
           },
           {
            "bin_start": 2.605,
            "bin_end": 3.0860000000000003,
            "count": 53
           },
           {
            "bin_start": 3.0860000000000003,
            "bin_end": 3.567,
            "count": 6
           },
           {
            "bin_start": 3.567,
            "bin_end": 4.048,
            "count": 5
           },
           {
            "bin_start": 4.048,
            "bin_end": 4.529,
            "count": 2
           },
           {
            "bin_start": 4.529,
            "bin_end": 5.01,
            "count": 1
           }
          ]
         }
        },
        {
         "name": "cut",
         "dtype": "category"
        },
        {
         "name": "color",
         "dtype": "category"
        },
        {
         "name": "clarity",
         "dtype": "category"
        },
        {
         "name": "depth",
         "dtype": "float64"
        },
        {
         "name": "table",
         "dtype": "float64"
        },
        {
         "name": "price",
         "dtype": "int64"
        },
        {
         "name": "x",
         "dtype": "float64"
        },
        {
         "name": "y",
         "dtype": "float64"
        },
        {
         "name": "z",
         "dtype": "float64"
        },
        {
         "name": "_deepnote_index_column",
         "dtype": "int64"
        }
       ],
       "rows_top": [
        {
         "carat": 0.23,
         "cut": "Ideal",
         "color": "E",
         "clarity": "SI2",
         "depth": 61.5,
         "table": 55,
         "price": 326,
         "x": 3.95,
         "y": 3.98,
         "z": 2.43,
         "_deepnote_index_column": 0
        },
        {
         "carat": 0.21,
         "cut": "Premium",
         "color": "E",
         "clarity": "SI1",
         "depth": 59.8,
         "table": 61,
         "price": 326,
         "x": 3.89,
         "y": 3.84,
         "z": 2.31,
         "_deepnote_index_column": 1
        },
        {
         "carat": 0.23,
         "cut": "Good",
         "color": "E",
         "clarity": "VS1",
         "depth": 56.9,
         "table": 65,
         "price": 327,
         "x": 4.05,
         "y": 4.07,
         "z": 2.31,
         "_deepnote_index_column": 2
        },
        {
         "carat": 0.29,
         "cut": "Premium",
         "color": "I",
         "clarity": "VS2",
         "depth": 62.4,
         "table": 58,
         "price": 334,
         "x": 4.2,
         "y": 4.23,
         "z": 2.63,
         "_deepnote_index_column": 3
        },
        {
         "carat": 0.31,
         "cut": "Good",
         "color": "J",
         "clarity": "SI2",
         "depth": 63.3,
         "table": 58,
         "price": 335,
         "x": 4.34,
         "y": 4.35,
         "z": 2.75,
         "_deepnote_index_column": 4
        },
        {
         "carat": 0.24,
         "cut": "Very Good",
         "color": "J",
         "clarity": "VVS2",
         "depth": 62.8,
         "table": 57,
         "price": 336,
         "x": 3.94,
         "y": 3.96,
         "z": 2.48,
         "_deepnote_index_column": 5
        },
        {
         "carat": 0.24,
         "cut": "Very Good",
         "color": "I",
         "clarity": "VVS1",
         "depth": 62.3,
         "table": 57,
         "price": 336,
         "x": 3.95,
         "y": 3.98,
         "z": 2.47,
         "_deepnote_index_column": 6
        },
        {
         "carat": 0.26,
         "cut": "Very Good",
         "color": "H",
         "clarity": "SI1",
         "depth": 61.9,
         "table": 55,
         "price": 337,
         "x": 4.07,
         "y": 4.11,
         "z": 2.53,
         "_deepnote_index_column": 7
        },
        {
         "carat": 0.22,
         "cut": "Fair",
         "color": "E",
         "clarity": "VS2",
         "depth": 65.1,
         "table": 61,
         "price": 337,
         "x": 3.87,
         "y": 3.78,
         "z": 2.49,
         "_deepnote_index_column": 8
        },
        {
         "carat": 0.23,
         "cut": "Very Good",
         "color": "H",
         "clarity": "VS1",
         "depth": 59.4,
         "table": 61,
         "price": 338,
         "x": 4,
         "y": 4.05,
         "z": 2.39,
         "_deepnote_index_column": 9
        },
        {
         "carat": 0.3,
         "cut": "Good",
         "color": "J",
         "clarity": "SI1",
         "depth": 64,
         "table": 55,
         "price": 339,
         "x": 4.25,
         "y": 4.28,
         "z": 2.73,
         "_deepnote_index_column": 10
        },
        {
         "carat": 0.23,
         "cut": "Ideal",
         "color": "J",
         "clarity": "VS1",
         "depth": 62.8,
         "table": 56,
         "price": 340,
         "x": 3.93,
         "y": 3.9,
         "z": 2.46,
         "_deepnote_index_column": 11
        },
        {
         "carat": 0.22,
         "cut": "Premium",
         "color": "F",
         "clarity": "SI1",
         "depth": 60.4,
         "table": 61,
         "price": 342,
         "x": 3.88,
         "y": 3.84,
         "z": 2.33,
         "_deepnote_index_column": 12
        },
        {
         "carat": 0.31,
         "cut": "Ideal",
         "color": "J",
         "clarity": "SI2",
         "depth": 62.2,
         "table": 54,
         "price": 344,
         "x": 4.35,
         "y": 4.37,
         "z": 2.71,
         "_deepnote_index_column": 13
        },
        {
         "carat": 0.2,
         "cut": "Premium",
         "color": "E",
         "clarity": "SI2",
         "depth": 60.2,
         "table": 62,
         "price": 345,
         "x": 3.79,
         "y": 3.75,
         "z": 2.27,
         "_deepnote_index_column": 14
        },
        {
         "carat": 0.32,
         "cut": "Premium",
         "color": "E",
         "clarity": "I1",
         "depth": 60.9,
         "table": 58,
         "price": 345,
         "x": 4.38,
         "y": 4.42,
         "z": 2.68,
         "_deepnote_index_column": 15
        },
        {
         "carat": 0.3,
         "cut": "Ideal",
         "color": "I",
         "clarity": "SI2",
         "depth": 62,
         "table": 54,
         "price": 348,
         "x": 4.31,
         "y": 4.34,
         "z": 2.68,
         "_deepnote_index_column": 16
        },
        {
         "carat": 0.3,
         "cut": "Good",
         "color": "J",
         "clarity": "SI1",
         "depth": 63.4,
         "table": 54,
         "price": 351,
         "x": 4.23,
         "y": 4.29,
         "z": 2.7,
         "_deepnote_index_column": 17
        },
        {
         "carat": 0.3,
         "cut": "Good",
         "color": "J",
         "clarity": "SI1",
         "depth": 63.8,
         "table": 56,
         "price": 351,
         "x": 4.23,
         "y": 4.26,
         "z": 2.71,
         "_deepnote_index_column": 18
        },
        {
         "carat": 0.3,
         "cut": "Very Good",
         "color": "J",
         "clarity": "SI1",
         "depth": 62.7,
         "table": 59,
         "price": 351,
         "x": 4.21,
         "y": 4.27,
         "z": 2.66,
         "_deepnote_index_column": 19
        },
        {
         "carat": 0.3,
         "cut": "Good",
         "color": "I",
         "clarity": "SI2",
         "depth": 63.3,
         "table": 56,
         "price": 351,
         "x": 4.26,
         "y": 4.3,
         "z": 2.71,
         "_deepnote_index_column": 20
        },
        {
         "carat": 0.23,
         "cut": "Very Good",
         "color": "E",
         "clarity": "VS2",
         "depth": 63.8,
         "table": 55,
         "price": 352,
         "x": 3.85,
         "y": 3.92,
         "z": 2.48,
         "_deepnote_index_column": 21
        },
        {
         "carat": 0.23,
         "cut": "Very Good",
         "color": "H",
         "clarity": "VS1",
         "depth": 61,
         "table": 57,
         "price": 353,
         "x": 3.94,
         "y": 3.96,
         "z": 2.41,
         "_deepnote_index_column": 22
        },
        {
         "carat": 0.31,
         "cut": "Very Good",
         "color": "J",
         "clarity": "SI1",
         "depth": 59.4,
         "table": 62,
         "price": 353,
         "x": 4.39,
         "y": 4.43,
         "z": 2.62,
         "_deepnote_index_column": 23
        },
        {
         "carat": 0.31,
         "cut": "Very Good",
         "color": "J",
         "clarity": "SI1",
         "depth": 58.1,
         "table": 62,
         "price": 353,
         "x": 4.44,
         "y": 4.47,
         "z": 2.59,
         "_deepnote_index_column": 24
        },
        {
         "carat": 0.23,
         "cut": "Very Good",
         "color": "G",
         "clarity": "VVS2",
         "depth": 60.4,
         "table": 58,
         "price": 354,
         "x": 3.97,
         "y": 4.01,
         "z": 2.41,
         "_deepnote_index_column": 25
        },
        {
         "carat": 0.24,
         "cut": "Premium",
         "color": "I",
         "clarity": "VS1",
         "depth": 62.5,
         "table": 57,
         "price": 355,
         "x": 3.97,
         "y": 3.94,
         "z": 2.47,
         "_deepnote_index_column": 26
        },
        {
         "carat": 0.3,
         "cut": "Very Good",
         "color": "J",
         "clarity": "VS2",
         "depth": 62.2,
         "table": 57,
         "price": 357,
         "x": 4.28,
         "y": 4.3,
         "z": 2.67,
         "_deepnote_index_column": 27
        },
        {
         "carat": 0.23,
         "cut": "Very Good",
         "color": "D",
         "clarity": "VS2",
         "depth": 60.5,
         "table": 61,
         "price": 357,
         "x": 3.96,
         "y": 3.97,
         "z": 2.4,
         "_deepnote_index_column": 28
        },
        {
         "carat": 0.23,
         "cut": "Very Good",
         "color": "F",
         "clarity": "VS1",
         "depth": 60.9,
         "table": 57,
         "price": 357,
         "x": 3.96,
         "y": 3.99,
         "z": 2.42,
         "_deepnote_index_column": 29
        },
        {
         "carat": 0.23,
         "cut": "Very Good",
         "color": "F",
         "clarity": "VS1",
         "depth": 60,
         "table": 57,
         "price": 402,
         "x": 4,
         "y": 4.03,
         "z": 2.41,
         "_deepnote_index_column": 30
        },
        {
         "carat": 0.23,
         "cut": "Very Good",
         "color": "F",
         "clarity": "VS1",
         "depth": 59.8,
         "table": 57,
         "price": 402,
         "x": 4.04,
         "y": 4.06,
         "z": 2.42,
         "_deepnote_index_column": 31
        },
        {
         "carat": 0.23,
         "cut": "Very Good",
         "color": "E",
         "clarity": "VS1",
         "depth": 60.7,
         "table": 59,
         "price": 402,
         "x": 3.97,
         "y": 4.01,
         "z": 2.42,
         "_deepnote_index_column": 32
        },
        {
         "carat": 0.23,
         "cut": "Very Good",
         "color": "E",
         "clarity": "VS1",
         "depth": 59.5,
         "table": 58,
         "price": 402,
         "x": 4.01,
         "y": 4.06,
         "z": 2.4,
         "_deepnote_index_column": 33
        },
        {
         "carat": 0.23,
         "cut": "Very Good",
         "color": "D",
         "clarity": "VS1",
         "depth": 61.9,
         "table": 58,
         "price": 402,
         "x": 3.92,
         "y": 3.96,
         "z": 2.44,
         "_deepnote_index_column": 34
        },
        {
         "carat": 0.23,
         "cut": "Good",
         "color": "F",
         "clarity": "VS1",
         "depth": 58.2,
         "table": 59,
         "price": 402,
         "x": 4.06,
         "y": 4.08,
         "z": 2.37,
         "_deepnote_index_column": 35
        },
        {
         "carat": 0.23,
         "cut": "Good",
         "color": "E",
         "clarity": "VS1",
         "depth": 64.1,
         "table": 59,
         "price": 402,
         "x": 3.83,
         "y": 3.85,
         "z": 2.46,
         "_deepnote_index_column": 36
        },
        {
         "carat": 0.31,
         "cut": "Good",
         "color": "H",
         "clarity": "SI1",
         "depth": 64,
         "table": 54,
         "price": 402,
         "x": 4.29,
         "y": 4.31,
         "z": 2.75,
         "_deepnote_index_column": 37
        },
        {
         "carat": 0.26,
         "cut": "Very Good",
         "color": "D",
         "clarity": "VS2",
         "depth": 60.8,
         "table": 59,
         "price": 403,
         "x": 4.13,
         "y": 4.16,
         "z": 2.52,
         "_deepnote_index_column": 38
        },
        {
         "carat": 0.33,
         "cut": "Ideal",
         "color": "I",
         "clarity": "SI2",
         "depth": 61.8,
         "table": 55,
         "price": 403,
         "x": 4.49,
         "y": 4.51,
         "z": 2.78,
         "_deepnote_index_column": 39
        },
        {
         "carat": 0.33,
         "cut": "Ideal",
         "color": "I",
         "clarity": "SI2",
         "depth": 61.2,
         "table": 56,
         "price": 403,
         "x": 4.49,
         "y": 4.5,
         "z": 2.75,
         "_deepnote_index_column": 40
        },
        {
         "carat": 0.33,
         "cut": "Ideal",
         "color": "J",
         "clarity": "SI1",
         "depth": 61.1,
         "table": 56,
         "price": 403,
         "x": 4.49,
         "y": 4.55,
         "z": 2.76,
         "_deepnote_index_column": 41
        },
        {
         "carat": 0.26,
         "cut": "Good",
         "color": "D",
         "clarity": "VS2",
         "depth": 65.2,
         "table": 56,
         "price": 403,
         "x": 3.99,
         "y": 4.02,
         "z": 2.61,
         "_deepnote_index_column": 42
        },
        {
         "carat": 0.26,
         "cut": "Good",
         "color": "D",
         "clarity": "VS1",
         "depth": 58.4,
         "table": 63,
         "price": 403,
         "x": 4.19,
         "y": 4.24,
         "z": 2.46,
         "_deepnote_index_column": 43
        },
        {
         "carat": 0.32,
         "cut": "Good",
         "color": "H",
         "clarity": "SI2",
         "depth": 63.1,
         "table": 56,
         "price": 403,
         "x": 4.34,
         "y": 4.37,
         "z": 2.75,
         "_deepnote_index_column": 44
        },
        {
         "carat": 0.29,
         "cut": "Premium",
         "color": "F",
         "clarity": "SI1",
         "depth": 62.4,
         "table": 58,
         "price": 403,
         "x": 4.24,
         "y": 4.26,
         "z": 2.65,
         "_deepnote_index_column": 45
        },
        {
         "carat": 0.32,
         "cut": "Very Good",
         "color": "H",
         "clarity": "SI2",
         "depth": 61.8,
         "table": 55,
         "price": 403,
         "x": 4.35,
         "y": 4.42,
         "z": 2.71,
         "_deepnote_index_column": 46
        },
        {
         "carat": 0.32,
         "cut": "Good",
         "color": "H",
         "clarity": "SI2",
         "depth": 63.8,
         "table": 56,
         "price": 403,
         "x": 4.36,
         "y": 4.38,
         "z": 2.79,
         "_deepnote_index_column": 47
        },
        {
         "carat": 0.25,
         "cut": "Very Good",
         "color": "E",
         "clarity": "VS2",
         "depth": 63.3,
         "table": 60,
         "price": 404,
         "x": 4,
         "y": 4.03,
         "z": 2.54,
         "_deepnote_index_column": 48
        },
        {
         "carat": 0.29,
         "cut": "Very Good",
         "color": "H",
         "clarity": "SI2",
         "depth": 60.7,
         "table": 60,
         "price": 404,
         "x": 4.33,
         "y": 4.37,
         "z": 2.64,
         "_deepnote_index_column": 49
        }
       ],
       "rows_bottom": [
        {
         "carat": 0.73,
         "cut": "Good",
         "color": "E",
         "clarity": "SI1",
         "depth": 57.9,
         "table": 55,
         "price": 2749,
         "x": 6,
         "y": 5.96,
         "z": 3.46,
         "_deepnote_index_column": 53890
        },
        {
         "carat": 0.56,
         "cut": "Ideal",
         "color": "E",
         "clarity": "VVS1",
         "depth": 62.1,
         "table": 56,
         "price": 2750,
         "x": 5.28,
         "y": 5.29,
         "z": 3.28,
         "_deepnote_index_column": 53891
        },
        {
         "carat": 0.7,
         "cut": "Ideal",
         "color": "F",
         "clarity": "VS1",
         "depth": 62.5,
         "table": 56,
         "price": 2751,
         "x": 5.73,
         "y": 5.7,
         "z": 3.57,
         "_deepnote_index_column": 53892
        },
        {
         "carat": 0.7,
         "cut": "Ideal",
         "color": "F",
         "clarity": "VS1",
         "depth": 62,
         "table": 55,
         "price": 2751,
         "x": 5.74,
         "y": 5.71,
         "z": 3.55,
         "_deepnote_index_column": 53893
        },
        {
         "carat": 0.71,
         "cut": "Ideal",
         "color": "G",
         "clarity": "SI1",
         "depth": 60.5,
         "table": 56.4,
         "price": 2751,
         "x": 5.76,
         "y": 5.8,
         "z": 3.5,
         "_deepnote_index_column": 53894
        },
        {
         "carat": 0.7,
         "cut": "Good",
         "color": "F",
         "clarity": "VS1",
         "depth": 57.8,
         "table": 61,
         "price": 2751,
         "x": 5.83,
         "y": 5.79,
         "z": 3.36,
         "_deepnote_index_column": 53895
        },
        {
         "carat": 0.83,
         "cut": "Ideal",
         "color": "G",
         "clarity": "SI2",
         "depth": 62.4,
         "table": 54,
         "price": 2751,
         "x": 6.01,
         "y": 6.08,
         "z": 3.77,
         "_deepnote_index_column": 53896
        },
        {
         "carat": 1.02,
         "cut": "Good",
         "color": "H",
         "clarity": "I1",
         "depth": 64.3,
         "table": 63,
         "price": 2751,
         "x": 6.28,
         "y": 6.23,
         "z": 4.02,
         "_deepnote_index_column": 53897
        },
        {
         "carat": 0.65,
         "cut": "Very Good",
         "color": "D",
         "clarity": "VS1",
         "depth": 60.8,
         "table": 57.2,
         "price": 2752,
         "x": 5.55,
         "y": 5.63,
         "z": 3.4,
         "_deepnote_index_column": 53898
        },
        {
         "carat": 0.72,
         "cut": "Ideal",
         "color": "H",
         "clarity": "VVS2",
         "depth": 62.3,
         "table": 56,
         "price": 2752,
         "x": 5.74,
         "y": 5.81,
         "z": 3.6,
         "_deepnote_index_column": 53899
        },
        {
         "carat": 0.73,
         "cut": "Ideal",
         "color": "H",
         "clarity": "VS2",
         "depth": 62.5,
         "table": 58,
         "price": 2752,
         "x": 5.71,
         "y": 5.75,
         "z": 3.58,
         "_deepnote_index_column": 53900
        },
        {
         "carat": 0.57,
         "cut": "Premium",
         "color": "E",
         "clarity": "VS1",
         "depth": 61.6,
         "table": 58,
         "price": 2753,
         "x": 5.36,
         "y": 5.33,
         "z": 3.29,
         "_deepnote_index_column": 53901
        },
        {
         "carat": 0.77,
         "cut": "Very Good",
         "color": "E",
         "clarity": "SI2",
         "depth": 59.9,
         "table": 61,
         "price": 2753,
         "x": 5.98,
         "y": 6.01,
         "z": 3.59,
         "_deepnote_index_column": 53902
        },
        {
         "carat": 0.75,
         "cut": "Very Good",
         "color": "E",
         "clarity": "SI1",
         "depth": 62.9,
         "table": 57,
         "price": 2753,
         "x": 5.79,
         "y": 5.84,
         "z": 3.66,
         "_deepnote_index_column": 53903
        },
        {
         "carat": 0.7,
         "cut": "Premium",
         "color": "E",
         "clarity": "SI1",
         "depth": 61.3,
         "table": 58,
         "price": 2753,
         "x": 5.68,
         "y": 5.71,
         "z": 3.49,
         "_deepnote_index_column": 53904
        },
        {
         "carat": 0.7,
         "cut": "Premium",
         "color": "E",
         "clarity": "SI1",
         "depth": 60,
         "table": 59,
         "price": 2753,
         "x": 5.75,
         "y": 5.79,
         "z": 3.46,
         "_deepnote_index_column": 53905
        },
        {
         "carat": 0.75,
         "cut": "Very Good",
         "color": "E",
         "clarity": "SI1",
         "depth": 63,
         "table": 55,
         "price": 2753,
         "x": 5.76,
         "y": 5.79,
         "z": 3.64,
         "_deepnote_index_column": 53906
        },
        {
         "carat": 0.7,
         "cut": "Very Good",
         "color": "E",
         "clarity": "SI1",
         "depth": 61,
         "table": 57,
         "price": 2753,
         "x": 5.68,
         "y": 5.73,
         "z": 3.48,
         "_deepnote_index_column": 53907
        },
        {
         "carat": 0.7,
         "cut": "Very Good",
         "color": "E",
         "clarity": "SI1",
         "depth": 61.2,
         "table": 57,
         "price": 2753,
         "x": 5.68,
         "y": 5.73,
         "z": 3.49,
         "_deepnote_index_column": 53908
        },
        {
         "carat": 0.7,
         "cut": "Very Good",
         "color": "E",
         "clarity": "SI1",
         "depth": 62.7,
         "table": 59,
         "price": 2753,
         "x": 5.63,
         "y": 5.67,
         "z": 3.54,
         "_deepnote_index_column": 53909
        },
        {
         "carat": 0.7,
         "cut": "Premium",
         "color": "E",
         "clarity": "SI1",
         "depth": 60.5,
         "table": 58,
         "price": 2753,
         "x": 5.74,
         "y": 5.77,
         "z": 3.48,
         "_deepnote_index_column": 53910
        },
        {
         "carat": 0.57,
         "cut": "Premium",
         "color": "E",
         "clarity": "IF",
         "depth": 59.8,
         "table": 60,
         "price": 2753,
         "x": 5.43,
         "y": 5.38,
         "z": 3.23,
         "_deepnote_index_column": 53911
        },
        {
         "carat": 0.61,
         "cut": "Premium",
         "color": "F",
         "clarity": "VVS1",
         "depth": 61.8,
         "table": 59,
         "price": 2753,
         "x": 5.48,
         "y": 5.4,
         "z": 3.36,
         "_deepnote_index_column": 53912
        },
        {
         "carat": 0.8,
         "cut": "Good",
         "color": "G",
         "clarity": "VS2",
         "depth": 64.2,
         "table": 58,
         "price": 2753,
         "x": 5.84,
         "y": 5.81,
         "z": 3.74,
         "_deepnote_index_column": 53913
        },
        {
         "carat": 0.84,
         "cut": "Good",
         "color": "I",
         "clarity": "VS1",
         "depth": 63.7,
         "table": 59,
         "price": 2753,
         "x": 5.94,
         "y": 5.9,
         "z": 3.77,
         "_deepnote_index_column": 53914
        },
        {
         "carat": 0.77,
         "cut": "Ideal",
         "color": "E",
         "clarity": "SI2",
         "depth": 62.1,
         "table": 56,
         "price": 2753,
         "x": 5.84,
         "y": 5.86,
         "z": 3.63,
         "_deepnote_index_column": 53915
        },
        {
         "carat": 0.74,
         "cut": "Good",
         "color": "D",
         "clarity": "SI1",
         "depth": 63.1,
         "table": 59,
         "price": 2753,
         "x": 5.71,
         "y": 5.74,
         "z": 3.61,
         "_deepnote_index_column": 53916
        },
        {
         "carat": 0.9,
         "cut": "Very Good",
         "color": "J",
         "clarity": "SI1",
         "depth": 63.2,
         "table": 60,
         "price": 2753,
         "x": 6.12,
         "y": 6.09,
         "z": 3.86,
         "_deepnote_index_column": 53917
        },
        {
         "carat": 0.76,
         "cut": "Premium",
         "color": "I",
         "clarity": "VS1",
         "depth": 59.3,
         "table": 62,
         "price": 2753,
         "x": 5.93,
         "y": 5.85,
         "z": 3.49,
         "_deepnote_index_column": 53918
        },
        {
         "carat": 0.76,
         "cut": "Ideal",
         "color": "I",
         "clarity": "VVS1",
         "depth": 62.2,
         "table": 55,
         "price": 2753,
         "x": 5.89,
         "y": 5.87,
         "z": 3.66,
         "_deepnote_index_column": 53919
        },
        {
         "carat": 0.7,
         "cut": "Very Good",
         "color": "E",
         "clarity": "VS2",
         "depth": 62.4,
         "table": 60,
         "price": 2755,
         "x": 5.57,
         "y": 5.61,
         "z": 3.49,
         "_deepnote_index_column": 53920
        },
        {
         "carat": 0.7,
         "cut": "Very Good",
         "color": "E",
         "clarity": "VS2",
         "depth": 62.8,
         "table": 60,
         "price": 2755,
         "x": 5.59,
         "y": 5.65,
         "z": 3.53,
         "_deepnote_index_column": 53921
        },
        {
         "carat": 0.7,
         "cut": "Very Good",
         "color": "D",
         "clarity": "VS1",
         "depth": 63.1,
         "table": 59,
         "price": 2755,
         "x": 5.67,
         "y": 5.58,
         "z": 3.55,
         "_deepnote_index_column": 53922
        },
        {
         "carat": 0.73,
         "cut": "Ideal",
         "color": "I",
         "clarity": "VS2",
         "depth": 61.3,
         "table": 56,
         "price": 2756,
         "x": 5.8,
         "y": 5.84,
         "z": 3.57,
         "_deepnote_index_column": 53923
        },
        {
         "carat": 0.73,
         "cut": "Ideal",
         "color": "I",
         "clarity": "VS2",
         "depth": 61.6,
         "table": 55,
         "price": 2756,
         "x": 5.82,
         "y": 5.84,
         "z": 3.59,
         "_deepnote_index_column": 53924
        },
        {
         "carat": 0.79,
         "cut": "Ideal",
         "color": "I",
         "clarity": "SI1",
         "depth": 61.6,
         "table": 56,
         "price": 2756,
         "x": 5.95,
         "y": 5.97,
         "z": 3.67,
         "_deepnote_index_column": 53925
        },
        {
         "carat": 0.71,
         "cut": "Ideal",
         "color": "E",
         "clarity": "SI1",
         "depth": 61.9,
         "table": 56,
         "price": 2756,
         "x": 5.71,
         "y": 5.73,
         "z": 3.54,
         "_deepnote_index_column": 53926
        },
        {
         "carat": 0.79,
         "cut": "Good",
         "color": "F",
         "clarity": "SI1",
         "depth": 58.1,
         "table": 59,
         "price": 2756,
         "x": 6.06,
         "y": 6.13,
         "z": 3.54,
         "_deepnote_index_column": 53927
        },
        {
         "carat": 0.79,
         "cut": "Premium",
         "color": "E",
         "clarity": "SI2",
         "depth": 61.4,
         "table": 58,
         "price": 2756,
         "x": 6.03,
         "y": 5.96,
         "z": 3.68,
         "_deepnote_index_column": 53928
        },
        {
         "carat": 0.71,
         "cut": "Ideal",
         "color": "G",
         "clarity": "VS1",
         "depth": 61.4,
         "table": 56,
         "price": 2756,
         "x": 5.76,
         "y": 5.73,
         "z": 3.53,
         "_deepnote_index_column": 53929
        },
        {
         "carat": 0.71,
         "cut": "Premium",
         "color": "E",
         "clarity": "SI1",
         "depth": 60.5,
         "table": 55,
         "price": 2756,
         "x": 5.79,
         "y": 5.74,
         "z": 3.49,
         "_deepnote_index_column": 53930
        },
        {
         "carat": 0.71,
         "cut": "Premium",
         "color": "F",
         "clarity": "SI1",
         "depth": 59.8,
         "table": 62,
         "price": 2756,
         "x": 5.74,
         "y": 5.73,
         "z": 3.43,
         "_deepnote_index_column": 53931
        },
        {
         "carat": 0.7,
         "cut": "Very Good",
         "color": "E",
         "clarity": "VS2",
         "depth": 60.5,
         "table": 59,
         "price": 2757,
         "x": 5.71,
         "y": 5.76,
         "z": 3.47,
         "_deepnote_index_column": 53932
        },
        {
         "carat": 0.7,
         "cut": "Very Good",
         "color": "E",
         "clarity": "VS2",
         "depth": 61.2,
         "table": 59,
         "price": 2757,
         "x": 5.69,
         "y": 5.72,
         "z": 3.49,
         "_deepnote_index_column": 53933
        },
        {
         "carat": 0.72,
         "cut": "Premium",
         "color": "D",
         "clarity": "SI1",
         "depth": 62.7,
         "table": 59,
         "price": 2757,
         "x": 5.69,
         "y": 5.73,
         "z": 3.58,
         "_deepnote_index_column": 53934
        },
        {
         "carat": 0.72,
         "cut": "Ideal",
         "color": "D",
         "clarity": "SI1",
         "depth": 60.8,
         "table": 57,
         "price": 2757,
         "x": 5.75,
         "y": 5.76,
         "z": 3.5,
         "_deepnote_index_column": 53935
        },
        {
         "carat": 0.72,
         "cut": "Good",
         "color": "D",
         "clarity": "SI1",
         "depth": 63.1,
         "table": 55,
         "price": 2757,
         "x": 5.69,
         "y": 5.75,
         "z": 3.61,
         "_deepnote_index_column": 53936
        },
        {
         "carat": 0.7,
         "cut": "Very Good",
         "color": "D",
         "clarity": "SI1",
         "depth": 62.8,
         "table": 60,
         "price": 2757,
         "x": 5.66,
         "y": 5.68,
         "z": 3.56,
         "_deepnote_index_column": 53937
        },
        {
         "carat": 0.86,
         "cut": "Premium",
         "color": "H",
         "clarity": "SI2",
         "depth": 61,
         "table": 58,
         "price": 2757,
         "x": 6.15,
         "y": 6.12,
         "z": 3.74,
         "_deepnote_index_column": 53938
        },
        {
         "carat": 0.75,
         "cut": "Ideal",
         "color": "D",
         "clarity": "SI2",
         "depth": 62.2,
         "table": 55,
         "price": 2757,
         "x": 5.83,
         "y": 5.87,
         "z": 3.64,
         "_deepnote_index_column": 53939
        }
       ]
      },
      "text/plain": "       carat        cut color clarity  depth  table  price     x     y     z\n0      0.230      Ideal     E     SI2 61.500 55.000    326 3.950 3.980 2.430\n1      0.210    Premium     E     SI1 59.800 61.000    326 3.890 3.840 2.310\n2      0.230       Good     E     VS1 56.900 65.000    327 4.050 4.070 2.310\n3      0.290    Premium     I     VS2 62.400 58.000    334 4.200 4.230 2.630\n4      0.310       Good     J     SI2 63.300 58.000    335 4.340 4.350 2.750\n...      ...        ...   ...     ...    ...    ...    ...   ...   ...   ...\n53935  0.720      Ideal     D     SI1 60.800 57.000   2757 5.750 5.760 3.500\n53936  0.720       Good     D     SI1 63.100 55.000   2757 5.690 5.750 3.610\n53937  0.700  Very Good     D     SI1 62.800 60.000   2757 5.660 5.680 3.560\n53938  0.860    Premium     H     SI2 61.000 58.000   2757 6.150 6.120 3.740\n53939  0.750      Ideal     D     SI2 62.200 55.000   2757 5.830 5.870 3.640\n\n[53940 rows x 10 columns]",
      "text/html": "<div>\n<style scoped>\n    .dataframe tbody tr th:only-of-type {\n        vertical-align: middle;\n    }\n\n    .dataframe tbody tr th {\n        vertical-align: top;\n    }\n\n    .dataframe thead th {\n        text-align: right;\n    }\n</style>\n<table border=\"1\" class=\"dataframe\">\n  <thead>\n    <tr style=\"text-align: right;\">\n      <th></th>\n      <th>carat</th>\n      <th>cut</th>\n      <th>color</th>\n      <th>clarity</th>\n      <th>depth</th>\n      <th>table</th>\n      <th>price</th>\n      <th>x</th>\n      <th>y</th>\n      <th>z</th>\n    </tr>\n  </thead>\n  <tbody>\n    <tr>\n      <th>0</th>\n      <td>0.230</td>\n      <td>Ideal</td>\n      <td>E</td>\n      <td>SI2</td>\n      <td>61.500</td>\n      <td>55.000</td>\n      <td>326</td>\n      <td>3.950</td>\n      <td>3.980</td>\n      <td>2.430</td>\n    </tr>\n    <tr>\n      <th>1</th>\n      <td>0.210</td>\n      <td>Premium</td>\n      <td>E</td>\n      <td>SI1</td>\n      <td>59.800</td>\n      <td>61.000</td>\n      <td>326</td>\n      <td>3.890</td>\n      <td>3.840</td>\n      <td>2.310</td>\n    </tr>\n    <tr>\n      <th>2</th>\n      <td>0.230</td>\n      <td>Good</td>\n      <td>E</td>\n      <td>VS1</td>\n      <td>56.900</td>\n      <td>65.000</td>\n      <td>327</td>\n      <td>4.050</td>\n      <td>4.070</td>\n      <td>2.310</td>\n    </tr>\n    <tr>\n      <th>3</th>\n      <td>0.290</td>\n      <td>Premium</td>\n      <td>I</td>\n      <td>VS2</td>\n      <td>62.400</td>\n      <td>58.000</td>\n      <td>334</td>\n      <td>4.200</td>\n      <td>4.230</td>\n      <td>2.630</td>\n    </tr>\n    <tr>\n      <th>4</th>\n      <td>0.310</td>\n      <td>Good</td>\n      <td>J</td>\n      <td>SI2</td>\n      <td>63.300</td>\n      <td>58.000</td>\n      <td>335</td>\n      <td>4.340</td>\n      <td>4.350</td>\n      <td>2.750</td>\n    </tr>\n    <tr>\n      <th>...</th>\n      <td>...</td>\n      <td>...</td>\n      <td>...</td>\n      <td>...</td>\n      <td>...</td>\n      <td>...</td>\n      <td>...</td>\n      <td>...</td>\n      <td>...</td>\n      <td>...</td>\n    </tr>\n    <tr>\n      <th>53935</th>\n      <td>0.720</td>\n      <td>Ideal</td>\n      <td>D</td>\n      <td>SI1</td>\n      <td>60.800</td>\n      <td>57.000</td>\n      <td>2757</td>\n      <td>5.750</td>\n      <td>5.760</td>\n      <td>3.500</td>\n    </tr>\n    <tr>\n      <th>53936</th>\n      <td>0.720</td>\n      <td>Good</td>\n      <td>D</td>\n      <td>SI1</td>\n      <td>63.100</td>\n      <td>55.000</td>\n      <td>2757</td>\n      <td>5.690</td>\n      <td>5.750</td>\n      <td>3.610</td>\n    </tr>\n    <tr>\n      <th>53937</th>\n      <td>0.700</td>\n      <td>Very Good</td>\n      <td>D</td>\n      <td>SI1</td>\n      <td>62.800</td>\n      <td>60.000</td>\n      <td>2757</td>\n      <td>5.660</td>\n      <td>5.680</td>\n      <td>3.560</td>\n    </tr>\n    <tr>\n      <th>53938</th>\n      <td>0.860</td>\n      <td>Premium</td>\n      <td>H</td>\n      <td>SI2</td>\n      <td>61.000</td>\n      <td>58.000</td>\n      <td>2757</td>\n      <td>6.150</td>\n      <td>6.120</td>\n      <td>3.740</td>\n    </tr>\n    <tr>\n      <th>53939</th>\n      <td>0.750</td>\n      <td>Ideal</td>\n      <td>D</td>\n      <td>SI2</td>\n      <td>62.200</td>\n      <td>55.000</td>\n      <td>2757</td>\n      <td>5.830</td>\n      <td>5.870</td>\n      <td>3.640</td>\n    </tr>\n  </tbody>\n</table>\n<p>53940 rows × 10 columns</p>\n</div>"
     },
     "metadata": {}
    }
   ]
  },
  {
   "cell_type": "markdown",
   "source": "# Group by\nSe pueden aplicar funciones cada vez que agrupemos los datos",
   "metadata": {
    "tags": [],
    "cell_id": "00001-226dba44-f7f5-4451-97e8-b81161c5935a",
    "deepnote_cell_type": "markdown"
   }
  },
  {
   "cell_type": "code",
   "metadata": {
    "tags": [],
    "cell_id": "00001-5488f57c-8c2f-4a9c-983b-b76b5e2c96dc",
    "deepnote_to_be_reexecuted": false,
    "source_hash": "50e9f8ea",
    "execution_start": 1625167351926,
    "execution_millis": 53,
    "deepnote_cell_type": "code"
   },
   "source": "df.groupby('cut').mean()",
   "execution_count": null,
   "outputs": [
    {
     "output_type": "execute_result",
     "execution_count": 9,
     "data": {
      "application/vnd.deepnote.dataframe.v2+json": {
       "row_count": 5,
       "column_count": 7,
       "columns": [
        {
         "name": "carat",
         "dtype": "float64",
         "stats": {
          "unique_count": 5,
          "nan_count": 0,
          "min": "0.7028369913228676",
          "max": "1.0461366459627353",
          "histogram": [
           {
            "bin_start": 0.7028369913228676,
            "bin_end": 0.7371669567868544,
            "count": 1
           },
           {
            "bin_start": 0.7371669567868544,
            "bin_end": 0.7714969222508411,
            "count": 0
           },
           {
            "bin_start": 0.7714969222508411,
            "bin_end": 0.8058268877148279,
            "count": 0
           },
           {
            "bin_start": 0.8058268877148279,
            "bin_end": 0.8401568531788146,
            "count": 1
           },
           {
            "bin_start": 0.8401568531788146,
            "bin_end": 0.8744868186428014,
            "count": 1
           },
           {
            "bin_start": 0.8744868186428014,
            "bin_end": 0.9088167841067882,
            "count": 1
           },
           {
            "bin_start": 0.9088167841067882,
            "bin_end": 0.943146749570775,
            "count": 0
           },
           {
            "bin_start": 0.943146749570775,
            "bin_end": 0.9774767150347617,
            "count": 0
           },
           {
            "bin_start": 0.9774767150347617,
            "bin_end": 1.0118066804987484,
            "count": 0
           },
           {
            "bin_start": 1.0118066804987484,
            "bin_end": 1.0461366459627353,
            "count": 1
           }
          ]
         }
        },
        {
         "name": "depth",
         "dtype": "float64",
         "stats": {
          "unique_count": 5,
          "nan_count": 0,
          "min": "61.26467261257375",
          "max": "64.04167701863358",
          "histogram": [
           {
            "bin_start": 61.26467261257375,
            "bin_end": 61.54237305317973,
            "count": 1
           },
           {
            "bin_start": 61.54237305317973,
            "bin_end": 61.82007349378571,
            "count": 2
           },
           {
            "bin_start": 61.82007349378571,
            "bin_end": 62.0977739343917,
            "count": 0
           },
           {
            "bin_start": 62.0977739343917,
            "bin_end": 62.37547437499768,
            "count": 1
           },
           {
            "bin_start": 62.37547437499768,
            "bin_end": 62.65317481560366,
            "count": 0
           },
           {
            "bin_start": 62.65317481560366,
            "bin_end": 62.930875256209646,
            "count": 0
           },
           {
            "bin_start": 62.930875256209646,
            "bin_end": 63.20857569681563,
            "count": 0
           },
           {
            "bin_start": 63.20857569681563,
            "bin_end": 63.48627613742161,
            "count": 0
           },
           {
            "bin_start": 63.48627613742161,
            "bin_end": 63.763976578027595,
            "count": 0
           },
           {
            "bin_start": 63.763976578027595,
            "bin_end": 64.04167701863358,
            "count": 1
           }
          ]
         }
        },
        {
         "name": "table",
         "dtype": "float64",
         "stats": {
          "unique_count": 5,
          "nan_count": 0,
          "min": "55.95166813604934",
          "max": "59.05378881987577",
          "histogram": [
           {
            "bin_start": 55.95166813604934,
            "bin_end": 56.26188020443198,
            "count": 1
           },
           {
            "bin_start": 56.26188020443198,
            "bin_end": 56.57209227281463,
            "count": 0
           },
           {
            "bin_start": 56.57209227281463,
            "bin_end": 56.88230434119727,
            "count": 0
           },
           {
            "bin_start": 56.88230434119727,
            "bin_end": 57.192516409579916,
            "count": 0
           },
           {
            "bin_start": 57.192516409579916,
            "bin_end": 57.502728477962556,
            "count": 0
           },
           {
            "bin_start": 57.502728477962556,
            "bin_end": 57.812940546345196,
            "count": 0
           },
           {
            "bin_start": 57.812940546345196,
            "bin_end": 58.12315261472784,
            "count": 1
           },
           {
            "bin_start": 58.12315261472784,
            "bin_end": 58.43336468311048,
            "count": 0
           },
           {
            "bin_start": 58.43336468311048,
            "bin_end": 58.74357675149313,
            "count": 1
           },
           {
            "bin_start": 58.74357675149313,
            "bin_end": 59.05378881987577,
            "count": 2
           }
          ]
         }
        },
        {
         "name": "price",
         "dtype": "float64",
         "stats": {
          "unique_count": 5,
          "nan_count": 0,
          "min": "3457.541970210199",
          "max": "4584.2577042999055",
          "histogram": [
           {
            "bin_start": 3457.541970210199,
            "bin_end": 3570.2135436191697,
            "count": 1
           },
           {
            "bin_start": 3570.2135436191697,
            "bin_end": 3682.8851170281405,
            "count": 0
           },
           {
            "bin_start": 3682.8851170281405,
            "bin_end": 3795.556690437111,
            "count": 0
           },
           {
            "bin_start": 3795.556690437111,
            "bin_end": 3908.2282638460815,
            "count": 0
           },
           {
            "bin_start": 3908.2282638460815,
            "bin_end": 4020.8998372550523,
            "count": 2
           },
           {
            "bin_start": 4020.8998372550523,
            "bin_end": 4133.571410664023,
            "count": 0
           },
           {
            "bin_start": 4133.571410664023,
            "bin_end": 4246.242984072994,
            "count": 0
           },
           {
            "bin_start": 4246.242984072994,
            "bin_end": 4358.914557481964,
            "count": 1
           },
           {
            "bin_start": 4358.914557481964,
            "bin_end": 4471.586130890935,
            "count": 0
           },
           {
            "bin_start": 4471.586130890935,
            "bin_end": 4584.2577042999055,
            "count": 1
           }
          ]
         }
        },
        {
         "name": "x",
         "dtype": "float64",
         "stats": {
          "unique_count": 5,
          "nan_count": 0,
          "min": "5.507450698343484",
          "max": "6.246894409937905",
          "histogram": [
           {
            "bin_start": 5.507450698343484,
            "bin_end": 5.581395069502926,
            "count": 1
           },
           {
            "bin_start": 5.581395069502926,
            "bin_end": 5.6553394406623685,
            "count": 0
           },
           {
            "bin_start": 5.6553394406623685,
            "bin_end": 5.72928381182181,
            "count": 0
           },
           {
            "bin_start": 5.72928381182181,
            "bin_end": 5.803228182981252,
            "count": 1
           },
           {
            "bin_start": 5.803228182981252,
            "bin_end": 5.877172554140694,
            "count": 1
           },
           {
            "bin_start": 5.877172554140694,
            "bin_end": 5.951116925300137,
            "count": 0
           },
           {
            "bin_start": 5.951116925300137,
            "bin_end": 6.025061296459579,
            "count": 1
           },
           {
            "bin_start": 6.025061296459579,
            "bin_end": 6.0990056676190205,
            "count": 0
           },
           {
            "bin_start": 6.0990056676190205,
            "bin_end": 6.172950038778463,
            "count": 0
           },
           {
            "bin_start": 6.172950038778463,
            "bin_end": 6.246894409937905,
            "count": 1
           }
          ]
         }
        },
        {
         "name": "y",
         "dtype": "float64",
         "stats": {
          "unique_count": 5,
          "nan_count": 0,
          "min": "5.520079810681653",
          "max": "6.18265217391304",
          "histogram": [
           {
            "bin_start": 5.520079810681653,
            "bin_end": 5.5863370470047915,
            "count": 1
           },
           {
            "bin_start": 5.5863370470047915,
            "bin_end": 5.652594283327931,
            "count": 0
           },
           {
            "bin_start": 5.652594283327931,
            "bin_end": 5.71885151965107,
            "count": 0
           },
           {
            "bin_start": 5.71885151965107,
            "bin_end": 5.785108755974208,
            "count": 1
           },
           {
            "bin_start": 5.785108755974208,
            "bin_end": 5.851365992297346,
            "count": 1
           },
           {
            "bin_start": 5.851365992297346,
            "bin_end": 5.917623228620485,
            "count": 0
           },
           {
            "bin_start": 5.917623228620485,
            "bin_end": 5.983880464943624,
            "count": 1
           },
           {
            "bin_start": 5.983880464943624,
            "bin_end": 6.050137701266762,
            "count": 0
           },
           {
            "bin_start": 6.050137701266762,
            "bin_end": 6.1163949375899005,
            "count": 0
           },
           {
            "bin_start": 6.1163949375899005,
            "bin_end": 6.18265217391304,
            "count": 1
           }
          ]
         }
        },
        {
         "name": "z",
         "dtype": "float64",
         "stats": {
          "unique_count": 5,
          "nan_count": 0,
          "min": "3.4014481926593225",
          "max": "3.9827701863353964",
          "histogram": [
           {
            "bin_start": 3.4014481926593225,
            "bin_end": 3.45958039202693,
            "count": 1
           },
           {
            "bin_start": 3.45958039202693,
            "bin_end": 3.5177125913945373,
            "count": 0
           },
           {
            "bin_start": 3.5177125913945373,
            "bin_end": 3.5758447907621447,
            "count": 1
           },
           {
            "bin_start": 3.5758447907621447,
            "bin_end": 3.633976990129752,
            "count": 0
           },
           {
            "bin_start": 3.633976990129752,
            "bin_end": 3.6921091894973594,
            "count": 2
           },
           {
            "bin_start": 3.6921091894973594,
            "bin_end": 3.750241388864967,
            "count": 0
           },
           {
            "bin_start": 3.750241388864967,
            "bin_end": 3.808373588232574,
            "count": 0
           },
           {
            "bin_start": 3.808373588232574,
            "bin_end": 3.8665057876001816,
            "count": 0
           },
           {
            "bin_start": 3.8665057876001816,
            "bin_end": 3.924637986967789,
            "count": 0
           },
           {
            "bin_start": 3.924637986967789,
            "bin_end": 3.9827701863353964,
            "count": 1
           }
          ]
         }
        },
        {
         "name": "_deepnote_index_column",
         "dtype": "category"
        }
       ],
       "rows_top": [
        {
         "carat": 0.7028369913228676,
         "depth": 61.70940095587262,
         "table": 55.95166813604934,
         "price": 3457.541970210199,
         "x": 5.507450698343484,
         "y": 5.520079810681653,
         "z": 3.4014481926593225,
         "_deepnote_index_column": "Ideal"
        },
        {
         "carat": 0.8919548981219524,
         "depth": 61.26467261257375,
         "table": 58.74609527953013,
         "price": 4584.2577042999055,
         "x": 5.97388731781595,
         "y": 5.944878543977969,
         "z": 3.6471242114422924,
         "_deepnote_index_column": "Premium"
        },
        {
         "carat": 0.8063813938089939,
         "depth": 61.81827512001363,
         "table": 57.956149644098666,
         "price": 3981.7598907465654,
         "x": 5.740696076808465,
         "y": 5.770025658003609,
         "z": 3.559801357391168,
         "_deepnote_index_column": "Very Good"
        },
        {
         "carat": 0.8491846718304211,
         "depth": 62.36587851610268,
         "table": 58.69463921728494,
         "price": 3928.864451691806,
         "x": 5.838785161027321,
         "y": 5.850743986954751,
         "z": 3.6395067264573817,
         "_deepnote_index_column": "Good"
        },
        {
         "carat": 1.0461366459627353,
         "depth": 64.04167701863358,
         "table": 59.05378881987577,
         "price": 4358.757763975155,
         "x": 6.246894409937905,
         "y": 6.18265217391304,
         "z": 3.9827701863353964,
         "_deepnote_index_column": "Fair"
        }
       ],
       "rows_bottom": null
      },
      "text/plain": "           carat  depth  table     price     x     y     z\ncut                                                       \nIdeal      0.703 61.709 55.952 3,457.542 5.507 5.520 3.401\nPremium    0.892 61.265 58.746 4,584.258 5.974 5.945 3.647\nVery Good  0.806 61.818 57.956 3,981.760 5.741 5.770 3.560\nGood       0.849 62.366 58.695 3,928.864 5.839 5.851 3.640\nFair       1.046 64.042 59.054 4,358.758 6.247 6.183 3.983",
      "text/html": "<div>\n<style scoped>\n    .dataframe tbody tr th:only-of-type {\n        vertical-align: middle;\n    }\n\n    .dataframe tbody tr th {\n        vertical-align: top;\n    }\n\n    .dataframe thead th {\n        text-align: right;\n    }\n</style>\n<table border=\"1\" class=\"dataframe\">\n  <thead>\n    <tr style=\"text-align: right;\">\n      <th></th>\n      <th>carat</th>\n      <th>depth</th>\n      <th>table</th>\n      <th>price</th>\n      <th>x</th>\n      <th>y</th>\n      <th>z</th>\n    </tr>\n    <tr>\n      <th>cut</th>\n      <th></th>\n      <th></th>\n      <th></th>\n      <th></th>\n      <th></th>\n      <th></th>\n      <th></th>\n    </tr>\n  </thead>\n  <tbody>\n    <tr>\n      <th>Ideal</th>\n      <td>0.703</td>\n      <td>61.709</td>\n      <td>55.952</td>\n      <td>3,457.542</td>\n      <td>5.507</td>\n      <td>5.520</td>\n      <td>3.401</td>\n    </tr>\n    <tr>\n      <th>Premium</th>\n      <td>0.892</td>\n      <td>61.265</td>\n      <td>58.746</td>\n      <td>4,584.258</td>\n      <td>5.974</td>\n      <td>5.945</td>\n      <td>3.647</td>\n    </tr>\n    <tr>\n      <th>Very Good</th>\n      <td>0.806</td>\n      <td>61.818</td>\n      <td>57.956</td>\n      <td>3,981.760</td>\n      <td>5.741</td>\n      <td>5.770</td>\n      <td>3.560</td>\n    </tr>\n    <tr>\n      <th>Good</th>\n      <td>0.849</td>\n      <td>62.366</td>\n      <td>58.695</td>\n      <td>3,928.864</td>\n      <td>5.839</td>\n      <td>5.851</td>\n      <td>3.640</td>\n    </tr>\n    <tr>\n      <th>Fair</th>\n      <td>1.046</td>\n      <td>64.042</td>\n      <td>59.054</td>\n      <td>4,358.758</td>\n      <td>6.247</td>\n      <td>6.183</td>\n      <td>3.983</td>\n    </tr>\n  </tbody>\n</table>\n</div>"
     },
     "metadata": {}
    }
   ]
  },
  {
   "cell_type": "code",
   "metadata": {
    "tags": [],
    "cell_id": "00002-99c63065-9ff9-433c-b3cd-c6a104422303",
    "deepnote_to_be_reexecuted": false,
    "source_hash": "85f7af9f",
    "execution_start": 1625167413926,
    "execution_millis": 6,
    "deepnote_cell_type": "code"
   },
   "source": "df.groupby('cut')['carat'].median()",
   "execution_count": null,
   "outputs": [
    {
     "output_type": "execute_result",
     "execution_count": 11,
     "data": {
      "text/plain": "cut\nIdeal       0.540\nPremium     0.860\nVery Good   0.710\nGood        0.820\nFair        1.000\nName: carat, dtype: float64"
     },
     "metadata": {}
    }
   ]
  },
  {
   "cell_type": "code",
   "metadata": {
    "tags": [],
    "cell_id": "00003-07c4ca3f-8b93-416f-8acb-5fa9b0283134",
    "deepnote_to_be_reexecuted": false,
    "source_hash": "1a33d72e",
    "execution_start": 1625167557908,
    "execution_millis": 14,
    "deepnote_cell_type": "code"
   },
   "source": "df.groupby('cut')['carat'].count()",
   "execution_count": null,
   "outputs": [
    {
     "output_type": "execute_result",
     "execution_count": 14,
     "data": {
      "text/plain": "cut\nIdeal        21551\nPremium      13791\nVery Good    12082\nGood          4906\nFair          1610\nName: carat, dtype: int64"
     },
     "metadata": {}
    }
   ]
  },
  {
   "cell_type": "markdown",
   "source": "## Recorrer una agrupacion",
   "metadata": {
    "tags": [],
    "cell_id": "00005-d0ea56b5-437b-4d62-bcc6-fb45233b85f8",
    "deepnote_cell_type": "markdown"
   }
  },
  {
   "cell_type": "code",
   "metadata": {
    "tags": [],
    "cell_id": "00004-87a72f11-f84c-44e8-9c27-6686d39a2a0f",
    "deepnote_to_be_reexecuted": false,
    "source_hash": "17f706ae",
    "execution_start": 1625167760134,
    "execution_millis": 24,
    "deepnote_cell_type": "code"
   },
   "source": "for key_group, group in df.groupby('cut'):\n    grouped_price = group['price'].mean()\n    print('Cut: {}, Price: {}, \\n'.format(key_group,grouped_price))",
   "execution_count": null,
   "outputs": [
    {
     "name": "stdout",
     "text": "Cut: Ideal, Price: 3457.541970210199, \n\nCut: Premium, Price: 4584.2577042999055, \n\nCut: Very Good, Price: 3981.7598907465654, \n\nCut: Good, Price: 3928.864451691806, \n\nCut: Fair, Price: 4358.757763975155, \n\n",
     "output_type": "stream"
    }
   ]
  },
  {
   "cell_type": "markdown",
   "source": "## Agrupar por multiples paramentros",
   "metadata": {
    "tags": [],
    "cell_id": "00007-db590d2c-061e-4451-87cc-f2702db9fef5",
    "deepnote_cell_type": "markdown"
   }
  },
  {
   "cell_type": "code",
   "metadata": {
    "tags": [],
    "cell_id": "00008-b839b5de-9c7e-4cf3-aae1-bbadb64b25f0",
    "deepnote_to_be_reexecuted": false,
    "source_hash": "c6c0ef3a",
    "execution_start": 1625167856542,
    "execution_millis": 37,
    "deepnote_cell_type": "code"
   },
   "source": "df.groupby(['cut','color'])['price'].mean().to_frame()",
   "execution_count": null,
   "outputs": [
    {
     "output_type": "execute_result",
     "execution_count": 22,
     "data": {
      "application/vnd.deepnote.dataframe.v2+json": {
       "row_count": 35,
       "column_count": 1,
       "columns": [
        {
         "name": "price",
         "dtype": "float64",
         "stats": {
          "unique_count": 35,
          "nan_count": 0,
          "min": "2597.5500896746094",
          "max": "6294.591584158416",
          "histogram": [
           {
            "bin_start": 2597.5500896746094,
            "bin_end": 2967.25423912299,
            "count": 2
           },
           {
            "bin_start": 2967.25423912299,
            "bin_end": 3336.9583885713705,
            "count": 1
           },
           {
            "bin_start": 3336.9583885713705,
            "bin_end": 3706.662538019751,
            "count": 8
           },
           {
            "bin_start": 3706.662538019751,
            "bin_end": 4076.366687468132,
            "count": 5
           },
           {
            "bin_start": 4076.366687468132,
            "bin_end": 4446.070836916512,
            "count": 5
           },
           {
            "bin_start": 4446.070836916512,
            "bin_end": 4815.774986364893,
            "count": 5
           },
           {
            "bin_start": 4815.774986364893,
            "bin_end": 5185.479135813273,
            "count": 5
           },
           {
            "bin_start": 5185.479135813273,
            "bin_end": 5555.183285261654,
            "count": 2
           },
           {
            "bin_start": 5555.183285261654,
            "bin_end": 5924.887434710035,
            "count": 0
           },
           {
            "bin_start": 5924.887434710035,
            "bin_end": 6294.591584158416,
            "count": 2
           }
          ]
         }
        },
        {
         "name": "_deepnote_index_column",
         "dtype": "object"
        }
       ],
       "rows_top": [
        {
         "price": 2629.0945659844742,
         "_deepnote_index_column": "('Ideal', 'D')"
        },
        {
         "price": 2597.5500896746094,
         "_deepnote_index_column": "('Ideal', 'E')"
        },
        {
         "price": 3374.9393622582334,
         "_deepnote_index_column": "('Ideal', 'F')"
        },
        {
         "price": 3720.706388206388,
         "_deepnote_index_column": "('Ideal', 'G')"
        },
        {
         "price": 3889.334831460674,
         "_deepnote_index_column": "('Ideal', 'H')"
        },
        {
         "price": 4451.970377448638,
         "_deepnote_index_column": "('Ideal', 'I')"
        },
        {
         "price": 4918.186383928572,
         "_deepnote_index_column": "('Ideal', 'J')"
        },
        {
         "price": 3631.292576419214,
         "_deepnote_index_column": "('Premium', 'D')"
        },
        {
         "price": 3538.9144201968334,
         "_deepnote_index_column": "('Premium', 'E')"
        },
        {
         "price": 4324.890175890176,
         "_deepnote_index_column": "('Premium', 'F')"
        },
        {
         "price": 4500.742134062927,
         "_deepnote_index_column": "('Premium', 'G')"
        },
        {
         "price": 5216.706779661017,
         "_deepnote_index_column": "('Premium', 'H')"
        },
        {
         "price": 5946.180672268908,
         "_deepnote_index_column": "('Premium', 'I')"
        },
        {
         "price": 6294.591584158416,
         "_deepnote_index_column": "('Premium', 'J')"
        },
        {
         "price": 3470.4672835426304,
         "_deepnote_index_column": "('Very Good', 'D')"
        },
        {
         "price": 3214.6520833333334,
         "_deepnote_index_column": "('Very Good', 'E')"
        },
        {
         "price": 3778.8202402957486,
         "_deepnote_index_column": "('Very Good', 'F')"
        },
        {
         "price": 3872.75380600261,
         "_deepnote_index_column": "('Very Good', 'G')"
        },
        {
         "price": 4535.390350877193,
         "_deepnote_index_column": "('Very Good', 'H')"
        },
        {
         "price": 5255.879568106312,
         "_deepnote_index_column": "('Very Good', 'I')"
        },
        {
         "price": 5103.513274336283,
         "_deepnote_index_column": "('Very Good', 'J')"
        },
        {
         "price": 3405.3821752265862,
         "_deepnote_index_column": "('Good', 'D')"
        },
        {
         "price": 3423.6441586280816,
         "_deepnote_index_column": "('Good', 'E')"
        },
        {
         "price": 3495.7502750275025,
         "_deepnote_index_column": "('Good', 'F')"
        },
        {
         "price": 4123.482204362801,
         "_deepnote_index_column": "('Good', 'G')"
        },
        {
         "price": 4276.254985754986,
         "_deepnote_index_column": "('Good', 'H')"
        },
        {
         "price": 5078.532567049809,
         "_deepnote_index_column": "('Good', 'I')"
        },
        {
         "price": 4574.172638436482,
         "_deepnote_index_column": "('Good', 'J')"
        },
        {
         "price": 4291.061349693252,
         "_deepnote_index_column": "('Fair', 'D')"
        },
        {
         "price": 3682.3125,
         "_deepnote_index_column": "('Fair', 'E')"
        },
        {
         "price": 3827.003205128205,
         "_deepnote_index_column": "('Fair', 'F')"
        },
        {
         "price": 4239.254777070064,
         "_deepnote_index_column": "('Fair', 'G')"
        },
        {
         "price": 5135.683168316832,
         "_deepnote_index_column": "('Fair', 'H')"
        },
        {
         "price": 4685.4457142857145,
         "_deepnote_index_column": "('Fair', 'I')"
        },
        {
         "price": 4975.655462184874,
         "_deepnote_index_column": "('Fair', 'J')"
        }
       ],
       "rows_bottom": null
      },
      "text/plain": "                    price\ncut       color          \nIdeal     D     2,629.095\n          E     2,597.550\n          F     3,374.939\n          G     3,720.706\n          H     3,889.335\n          I     4,451.970\n          J     4,918.186\nPremium   D     3,631.293\n          E     3,538.914\n          F     4,324.890\n          G     4,500.742\n          H     5,216.707\n          I     5,946.181\n          J     6,294.592\nVery Good D     3,470.467\n          E     3,214.652\n          F     3,778.820\n          G     3,872.754\n          H     4,535.390\n          I     5,255.880\n          J     5,103.513\nGood      D     3,405.382\n          E     3,423.644\n          F     3,495.750\n          G     4,123.482\n          H     4,276.255\n          I     5,078.533\n          J     4,574.173\nFair      D     4,291.061\n          E     3,682.312\n          F     3,827.003\n          G     4,239.255\n          H     5,135.683\n          I     4,685.446\n          J     4,975.655",
      "text/html": "<div>\n<style scoped>\n    .dataframe tbody tr th:only-of-type {\n        vertical-align: middle;\n    }\n\n    .dataframe tbody tr th {\n        vertical-align: top;\n    }\n\n    .dataframe thead th {\n        text-align: right;\n    }\n</style>\n<table border=\"1\" class=\"dataframe\">\n  <thead>\n    <tr style=\"text-align: right;\">\n      <th></th>\n      <th></th>\n      <th>price</th>\n    </tr>\n    <tr>\n      <th>cut</th>\n      <th>color</th>\n      <th></th>\n    </tr>\n  </thead>\n  <tbody>\n    <tr>\n      <th rowspan=\"7\" valign=\"top\">Ideal</th>\n      <th>D</th>\n      <td>2,629.095</td>\n    </tr>\n    <tr>\n      <th>E</th>\n      <td>2,597.550</td>\n    </tr>\n    <tr>\n      <th>F</th>\n      <td>3,374.939</td>\n    </tr>\n    <tr>\n      <th>G</th>\n      <td>3,720.706</td>\n    </tr>\n    <tr>\n      <th>H</th>\n      <td>3,889.335</td>\n    </tr>\n    <tr>\n      <th>I</th>\n      <td>4,451.970</td>\n    </tr>\n    <tr>\n      <th>J</th>\n      <td>4,918.186</td>\n    </tr>\n    <tr>\n      <th rowspan=\"7\" valign=\"top\">Premium</th>\n      <th>D</th>\n      <td>3,631.293</td>\n    </tr>\n    <tr>\n      <th>E</th>\n      <td>3,538.914</td>\n    </tr>\n    <tr>\n      <th>F</th>\n      <td>4,324.890</td>\n    </tr>\n    <tr>\n      <th>G</th>\n      <td>4,500.742</td>\n    </tr>\n    <tr>\n      <th>H</th>\n      <td>5,216.707</td>\n    </tr>\n    <tr>\n      <th>I</th>\n      <td>5,946.181</td>\n    </tr>\n    <tr>\n      <th>J</th>\n      <td>6,294.592</td>\n    </tr>\n    <tr>\n      <th rowspan=\"7\" valign=\"top\">Very Good</th>\n      <th>D</th>\n      <td>3,470.467</td>\n    </tr>\n    <tr>\n      <th>E</th>\n      <td>3,214.652</td>\n    </tr>\n    <tr>\n      <th>F</th>\n      <td>3,778.820</td>\n    </tr>\n    <tr>\n      <th>G</th>\n      <td>3,872.754</td>\n    </tr>\n    <tr>\n      <th>H</th>\n      <td>4,535.390</td>\n    </tr>\n    <tr>\n      <th>I</th>\n      <td>5,255.880</td>\n    </tr>\n    <tr>\n      <th>J</th>\n      <td>5,103.513</td>\n    </tr>\n    <tr>\n      <th rowspan=\"7\" valign=\"top\">Good</th>\n      <th>D</th>\n      <td>3,405.382</td>\n    </tr>\n    <tr>\n      <th>E</th>\n      <td>3,423.644</td>\n    </tr>\n    <tr>\n      <th>F</th>\n      <td>3,495.750</td>\n    </tr>\n    <tr>\n      <th>G</th>\n      <td>4,123.482</td>\n    </tr>\n    <tr>\n      <th>H</th>\n      <td>4,276.255</td>\n    </tr>\n    <tr>\n      <th>I</th>\n      <td>5,078.533</td>\n    </tr>\n    <tr>\n      <th>J</th>\n      <td>4,574.173</td>\n    </tr>\n    <tr>\n      <th rowspan=\"7\" valign=\"top\">Fair</th>\n      <th>D</th>\n      <td>4,291.061</td>\n    </tr>\n    <tr>\n      <th>E</th>\n      <td>3,682.312</td>\n    </tr>\n    <tr>\n      <th>F</th>\n      <td>3,827.003</td>\n    </tr>\n    <tr>\n      <th>G</th>\n      <td>4,239.255</td>\n    </tr>\n    <tr>\n      <th>H</th>\n      <td>5,135.683</td>\n    </tr>\n    <tr>\n      <th>I</th>\n      <td>4,685.446</td>\n    </tr>\n    <tr>\n      <th>J</th>\n      <td>4,975.655</td>\n    </tr>\n  </tbody>\n</table>\n</div>"
     },
     "metadata": {}
    }
   ]
  },
  {
   "cell_type": "markdown",
   "source": "## Ejecutar multiples funciones al agrupar",
   "metadata": {
    "tags": [],
    "cell_id": "00009-eff0e7fc-c4dd-462b-b524-16e0b7f377d9",
    "deepnote_cell_type": "markdown"
   }
  },
  {
   "cell_type": "code",
   "metadata": {
    "tags": [],
    "cell_id": "00010-d7677c19-437a-4142-a951-04264fabced3",
    "deepnote_to_be_reexecuted": false,
    "source_hash": "afb15ded",
    "execution_start": 1625168104264,
    "execution_millis": 68,
    "deepnote_cell_type": "code"
   },
   "source": "def mean_kilo(x):\n    return np.mean(x)\ndf.groupby(['cut','color'])['price'].aggregate(['min',np.mean,max,mean_kilo]).head(10)",
   "execution_count": null,
   "outputs": [
    {
     "output_type": "execute_result",
     "execution_count": 36,
     "data": {
      "application/vnd.deepnote.dataframe.v2+json": {
       "row_count": 10,
       "column_count": 4,
       "columns": [
        {
         "name": "min",
         "dtype": "int64",
         "stats": {
          "unique_count": 8,
          "nan_count": 0,
          "min": "326",
          "max": "408",
          "histogram": [
           {
            "bin_start": 326,
            "bin_end": 334.2,
            "count": 2
           },
           {
            "bin_start": 334.2,
            "bin_end": 342.4,
            "count": 2
           },
           {
            "bin_start": 342.4,
            "bin_end": 350.6,
            "count": 1
           },
           {
            "bin_start": 350.6,
            "bin_end": 358.8,
            "count": 1
           },
           {
            "bin_start": 358.8,
            "bin_end": 367,
            "count": 1
           },
           {
            "bin_start": 367,
            "bin_end": 375.2,
            "count": 2
           },
           {
            "bin_start": 375.2,
            "bin_end": 383.4,
            "count": 0
           },
           {
            "bin_start": 383.4,
            "bin_end": 391.6,
            "count": 0
           },
           {
            "bin_start": 391.6,
            "bin_end": 399.8,
            "count": 0
           },
           {
            "bin_start": 399.8,
            "bin_end": 408,
            "count": 1
           }
          ]
         }
        },
        {
         "name": "mean",
         "dtype": "float64",
         "stats": {
          "unique_count": 10,
          "nan_count": 0,
          "min": "2597.5500896746094",
          "max": "4918.186383928572",
          "histogram": [
           {
            "bin_start": 2597.5500896746094,
            "bin_end": 2829.6137191000057,
            "count": 2
           },
           {
            "bin_start": 2829.6137191000057,
            "bin_end": 3061.6773485254016,
            "count": 0
           },
           {
            "bin_start": 3061.6773485254016,
            "bin_end": 3293.740977950798,
            "count": 0
           },
           {
            "bin_start": 3293.740977950798,
            "bin_end": 3525.8046073761943,
            "count": 1
           },
           {
            "bin_start": 3525.8046073761943,
            "bin_end": 3757.8682368015907,
            "count": 3
           },
           {
            "bin_start": 3757.8682368015907,
            "bin_end": 3989.9318662269866,
            "count": 1
           },
           {
            "bin_start": 3989.9318662269866,
            "bin_end": 4221.995495652383,
            "count": 0
           },
           {
            "bin_start": 4221.995495652383,
            "bin_end": 4454.059125077779,
            "count": 2
           },
           {
            "bin_start": 4454.059125077779,
            "bin_end": 4686.122754503175,
            "count": 0
           },
           {
            "bin_start": 4686.122754503175,
            "bin_end": 4918.186383928572,
            "count": 1
           }
          ]
         }
        },
        {
         "name": "max",
         "dtype": "int64",
         "stats": {
          "unique_count": 10,
          "nan_count": 0,
          "min": "18477",
          "max": "18806",
          "histogram": [
           {
            "bin_start": 18477,
            "bin_end": 18509.9,
            "count": 2
           },
           {
            "bin_start": 18509.9,
            "bin_end": 18542.8,
            "count": 0
           },
           {
            "bin_start": 18542.8,
            "bin_end": 18575.7,
            "count": 1
           },
           {
            "bin_start": 18575.7,
            "bin_end": 18608.6,
            "count": 0
           },
           {
            "bin_start": 18608.6,
            "bin_end": 18641.5,
            "count": 0
           },
           {
            "bin_start": 18641.5,
            "bin_end": 18674.4,
            "count": 0
           },
           {
            "bin_start": 18674.4,
            "bin_end": 18707.3,
            "count": 1
           },
           {
            "bin_start": 18707.3,
            "bin_end": 18740.2,
            "count": 1
           },
           {
            "bin_start": 18740.2,
            "bin_end": 18773.1,
            "count": 1
           },
           {
            "bin_start": 18773.1,
            "bin_end": 18806,
            "count": 4
           }
          ]
         }
        },
        {
         "name": "mean_kilo",
         "dtype": "float64",
         "stats": {
          "unique_count": 10,
          "nan_count": 0,
          "min": "2597.5500896746094",
          "max": "4918.186383928572",
          "histogram": [
           {
            "bin_start": 2597.5500896746094,
            "bin_end": 2829.6137191000057,
            "count": 2
           },
           {
            "bin_start": 2829.6137191000057,
            "bin_end": 3061.6773485254016,
            "count": 0
           },
           {
            "bin_start": 3061.6773485254016,
            "bin_end": 3293.740977950798,
            "count": 0
           },
           {
            "bin_start": 3293.740977950798,
            "bin_end": 3525.8046073761943,
            "count": 1
           },
           {
            "bin_start": 3525.8046073761943,
            "bin_end": 3757.8682368015907,
            "count": 3
           },
           {
            "bin_start": 3757.8682368015907,
            "bin_end": 3989.9318662269866,
            "count": 1
           },
           {
            "bin_start": 3989.9318662269866,
            "bin_end": 4221.995495652383,
            "count": 0
           },
           {
            "bin_start": 4221.995495652383,
            "bin_end": 4454.059125077779,
            "count": 2
           },
           {
            "bin_start": 4454.059125077779,
            "bin_end": 4686.122754503175,
            "count": 0
           },
           {
            "bin_start": 4686.122754503175,
            "bin_end": 4918.186383928572,
            "count": 1
           }
          ]
         }
        },
        {
         "name": "_deepnote_index_column",
         "dtype": "object"
        }
       ],
       "rows_top": [
        {
         "min": 367,
         "mean": 2629.0945659844742,
         "max": 18693,
         "mean_kilo": 2629.0945659844742,
         "_deepnote_index_column": "('Ideal', 'D')"
        },
        {
         "min": 326,
         "mean": 2597.5500896746094,
         "max": 18729,
         "mean_kilo": 2597.5500896746094,
         "_deepnote_index_column": "('Ideal', 'E')"
        },
        {
         "min": 408,
         "mean": 3374.9393622582334,
         "max": 18780,
         "mean_kilo": 3374.9393622582334,
         "_deepnote_index_column": "('Ideal', 'F')"
        },
        {
         "min": 361,
         "mean": 3720.706388206388,
         "max": 18806,
         "mean_kilo": 3720.706388206388,
         "_deepnote_index_column": "('Ideal', 'G')"
        },
        {
         "min": 357,
         "mean": 3889.334831460674,
         "max": 18760,
         "mean_kilo": 3889.334831460674,
         "_deepnote_index_column": "('Ideal', 'H')"
        },
        {
         "min": 348,
         "mean": 4451.970377448638,
         "max": 18779,
         "mean_kilo": 4451.970377448638,
         "_deepnote_index_column": "('Ideal', 'I')"
        },
        {
         "min": 340,
         "mean": 4918.186383928572,
         "max": 18508,
         "mean_kilo": 4918.186383928572,
         "_deepnote_index_column": "('Ideal', 'J')"
        },
        {
         "min": 367,
         "mean": 3631.292576419214,
         "max": 18575,
         "mean_kilo": 3631.292576419214,
         "_deepnote_index_column": "('Premium', 'D')"
        },
        {
         "min": 326,
         "mean": 3538.9144201968334,
         "max": 18477,
         "mean_kilo": 3538.9144201968334,
         "_deepnote_index_column": "('Premium', 'E')"
        },
        {
         "min": 342,
         "mean": 4324.890175890176,
         "max": 18791,
         "mean_kilo": 4324.890175890176,
         "_deepnote_index_column": "('Premium', 'F')"
        }
       ],
       "rows_bottom": null
      },
      "text/plain": "               min      mean    max  mean_kilo\ncut     color                                 \nIdeal   D      367 2,629.095  18693  2,629.095\n        E      326 2,597.550  18729  2,597.550\n        F      408 3,374.939  18780  3,374.939\n        G      361 3,720.706  18806  3,720.706\n        H      357 3,889.335  18760  3,889.335\n        I      348 4,451.970  18779  4,451.970\n        J      340 4,918.186  18508  4,918.186\nPremium D      367 3,631.293  18575  3,631.293\n        E      326 3,538.914  18477  3,538.914\n        F      342 4,324.890  18791  4,324.890",
      "text/html": "<div>\n<style scoped>\n    .dataframe tbody tr th:only-of-type {\n        vertical-align: middle;\n    }\n\n    .dataframe tbody tr th {\n        vertical-align: top;\n    }\n\n    .dataframe thead th {\n        text-align: right;\n    }\n</style>\n<table border=\"1\" class=\"dataframe\">\n  <thead>\n    <tr style=\"text-align: right;\">\n      <th></th>\n      <th></th>\n      <th>min</th>\n      <th>mean</th>\n      <th>max</th>\n      <th>mean_kilo</th>\n    </tr>\n    <tr>\n      <th>cut</th>\n      <th>color</th>\n      <th></th>\n      <th></th>\n      <th></th>\n      <th></th>\n    </tr>\n  </thead>\n  <tbody>\n    <tr>\n      <th rowspan=\"7\" valign=\"top\">Ideal</th>\n      <th>D</th>\n      <td>367</td>\n      <td>2,629.095</td>\n      <td>18693</td>\n      <td>2,629.095</td>\n    </tr>\n    <tr>\n      <th>E</th>\n      <td>326</td>\n      <td>2,597.550</td>\n      <td>18729</td>\n      <td>2,597.550</td>\n    </tr>\n    <tr>\n      <th>F</th>\n      <td>408</td>\n      <td>3,374.939</td>\n      <td>18780</td>\n      <td>3,374.939</td>\n    </tr>\n    <tr>\n      <th>G</th>\n      <td>361</td>\n      <td>3,720.706</td>\n      <td>18806</td>\n      <td>3,720.706</td>\n    </tr>\n    <tr>\n      <th>H</th>\n      <td>357</td>\n      <td>3,889.335</td>\n      <td>18760</td>\n      <td>3,889.335</td>\n    </tr>\n    <tr>\n      <th>I</th>\n      <td>348</td>\n      <td>4,451.970</td>\n      <td>18779</td>\n      <td>4,451.970</td>\n    </tr>\n    <tr>\n      <th>J</th>\n      <td>340</td>\n      <td>4,918.186</td>\n      <td>18508</td>\n      <td>4,918.186</td>\n    </tr>\n    <tr>\n      <th rowspan=\"3\" valign=\"top\">Premium</th>\n      <th>D</th>\n      <td>367</td>\n      <td>3,631.293</td>\n      <td>18575</td>\n      <td>3,631.293</td>\n    </tr>\n    <tr>\n      <th>E</th>\n      <td>326</td>\n      <td>3,538.914</td>\n      <td>18477</td>\n      <td>3,538.914</td>\n    </tr>\n    <tr>\n      <th>F</th>\n      <td>342</td>\n      <td>4,324.890</td>\n      <td>18791</td>\n      <td>4,324.890</td>\n    </tr>\n  </tbody>\n</table>\n</div>"
     },
     "metadata": {}
    }
   ]
  },
  {
   "cell_type": "markdown",
   "source": "## Crear un diccionario de funciones a ejecutar",
   "metadata": {
    "tags": [],
    "cell_id": "00012-30361d61-59d2-4762-b0a4-866c71826a49",
    "deepnote_cell_type": "markdown"
   }
  },
  {
   "cell_type": "code",
   "metadata": {
    "tags": [],
    "cell_id": "00011-a308d3f1-56c8-4ddc-85f2-a9d9afb49dfc",
    "deepnote_to_be_reexecuted": false,
    "source_hash": "fea2f794",
    "execution_start": 1625168275580,
    "execution_millis": 118,
    "deepnote_cell_type": "code"
   },
   "source": "dict_agg = {'carat' : [min,max], 'price' : [np.mean,mean_kilo]}\n\ndf.groupby(['cut','color']).aggregate(dict_agg)",
   "execution_count": null,
   "outputs": [
    {
     "output_type": "execute_result",
     "execution_count": 40,
     "data": {
      "application/vnd.deepnote.dataframe.v2+json": {
       "row_count": 35,
       "column_count": 4,
       "columns": [
        {
         "name": [
          "carat",
          "min"
         ],
         "dtype": "float64",
         "stats": {
          "unique_count": 9,
          "nan_count": 0,
          "min": "0.2",
          "max": "0.41",
          "histogram": [
           {
            "bin_start": 0.2,
            "bin_end": 0.221,
            "count": 7
           },
           {
            "bin_start": 0.221,
            "bin_end": 0.242,
            "count": 19
           },
           {
            "bin_start": 0.242,
            "bin_end": 0.263,
            "count": 3
           },
           {
            "bin_start": 0.263,
            "bin_end": 0.28400000000000003,
            "count": 1
           },
           {
            "bin_start": 0.28400000000000003,
            "bin_end": 0.305,
            "count": 3
           },
           {
            "bin_start": 0.305,
            "bin_end": 0.326,
            "count": 0
           },
           {
            "bin_start": 0.326,
            "bin_end": 0.347,
            "count": 1
           },
           {
            "bin_start": 0.347,
            "bin_end": 0.368,
            "count": 0
           },
           {
            "bin_start": 0.368,
            "bin_end": 0.389,
            "count": 0
           },
           {
            "bin_start": 0.389,
            "bin_end": 0.41,
            "count": 1
           }
          ]
         }
        },
        {
         "name": [
          "carat",
          "max"
         ],
         "dtype": "float64",
         "stats": {
          "unique_count": 26,
          "nan_count": 0,
          "min": "2.04",
          "max": "5.01",
          "histogram": [
           {
            "bin_start": 2.04,
            "bin_end": 2.337,
            "count": 3
           },
           {
            "bin_start": 2.337,
            "bin_end": 2.634,
            "count": 9
           },
           {
            "bin_start": 2.634,
            "bin_end": 2.931,
            "count": 4
           },
           {
            "bin_start": 2.931,
            "bin_end": 3.2279999999999998,
            "count": 11
           },
           {
            "bin_start": 3.2279999999999998,
            "bin_end": 3.525,
            "count": 3
           },
           {
            "bin_start": 3.525,
            "bin_end": 3.822,
            "count": 0
           },
           {
            "bin_start": 3.822,
            "bin_end": 4.119,
            "count": 3
           },
           {
            "bin_start": 4.119,
            "bin_end": 4.416,
            "count": 1
           },
           {
            "bin_start": 4.416,
            "bin_end": 4.713,
            "count": 0
           },
           {
            "bin_start": 4.713,
            "bin_end": 5.01,
            "count": 1
           }
          ]
         }
        },
        {
         "name": [
          "price",
          "mean"
         ],
         "dtype": "float64",
         "stats": {
          "unique_count": 35,
          "nan_count": 0,
          "min": "2597.5500896746094",
          "max": "6294.591584158416",
          "histogram": [
           {
            "bin_start": 2597.5500896746094,
            "bin_end": 2967.25423912299,
            "count": 2
           },
           {
            "bin_start": 2967.25423912299,
            "bin_end": 3336.9583885713705,
            "count": 1
           },
           {
            "bin_start": 3336.9583885713705,
            "bin_end": 3706.662538019751,
            "count": 8
           },
           {
            "bin_start": 3706.662538019751,
            "bin_end": 4076.366687468132,
            "count": 5
           },
           {
            "bin_start": 4076.366687468132,
            "bin_end": 4446.070836916512,
            "count": 5
           },
           {
            "bin_start": 4446.070836916512,
            "bin_end": 4815.774986364893,
            "count": 5
           },
           {
            "bin_start": 4815.774986364893,
            "bin_end": 5185.479135813273,
            "count": 5
           },
           {
            "bin_start": 5185.479135813273,
            "bin_end": 5555.183285261654,
            "count": 2
           },
           {
            "bin_start": 5555.183285261654,
            "bin_end": 5924.887434710035,
            "count": 0
           },
           {
            "bin_start": 5924.887434710035,
            "bin_end": 6294.591584158416,
            "count": 2
           }
          ]
         }
        },
        {
         "name": [
          "price",
          "mean_kilo"
         ],
         "dtype": "float64",
         "stats": {
          "unique_count": 35,
          "nan_count": 0,
          "min": "2597.5500896746094",
          "max": "6294.591584158416",
          "histogram": [
           {
            "bin_start": 2597.5500896746094,
            "bin_end": 2967.25423912299,
            "count": 2
           },
           {
            "bin_start": 2967.25423912299,
            "bin_end": 3336.9583885713705,
            "count": 1
           },
           {
            "bin_start": 3336.9583885713705,
            "bin_end": 3706.662538019751,
            "count": 8
           },
           {
            "bin_start": 3706.662538019751,
            "bin_end": 4076.366687468132,
            "count": 5
           },
           {
            "bin_start": 4076.366687468132,
            "bin_end": 4446.070836916512,
            "count": 5
           },
           {
            "bin_start": 4446.070836916512,
            "bin_end": 4815.774986364893,
            "count": 5
           },
           {
            "bin_start": 4815.774986364893,
            "bin_end": 5185.479135813273,
            "count": 5
           },
           {
            "bin_start": 5185.479135813273,
            "bin_end": 5555.183285261654,
            "count": 2
           },
           {
            "bin_start": 5555.183285261654,
            "bin_end": 5924.887434710035,
            "count": 0
           },
           {
            "bin_start": 5924.887434710035,
            "bin_end": 6294.591584158416,
            "count": 2
           }
          ]
         }
        },
        {
         "name": "_deepnote_index_column",
         "dtype": "object"
        }
       ],
       "rows_top": [
        {
         "('carat', 'min')": 0.2,
         "('carat', 'max')": 2.75,
         "('price', 'mean')": 2629.0945659844742,
         "('price', 'mean_kilo')": 2629.0945659844742,
         "_deepnote_index_column": "('Ideal', 'D')"
        },
        {
         "('carat', 'min')": 0.2,
         "('carat', 'max')": 2.28,
         "('price', 'mean')": 2597.5500896746094,
         "('price', 'mean_kilo')": 2597.5500896746094,
         "_deepnote_index_column": "('Ideal', 'E')"
        },
        {
         "('carat', 'min')": 0.23,
         "('carat', 'max')": 2.45,
         "('price', 'mean')": 3374.9393622582334,
         "('price', 'mean_kilo')": 3374.9393622582334,
         "_deepnote_index_column": "('Ideal', 'F')"
        },
        {
         "('carat', 'min')": 0.23,
         "('carat', 'max')": 2.54,
         "('price', 'mean')": 3720.706388206388,
         "('price', 'mean_kilo')": 3720.706388206388,
         "_deepnote_index_column": "('Ideal', 'G')"
        },
        {
         "('carat', 'min')": 0.23,
         "('carat', 'max')": 3.5,
         "('price', 'mean')": 3889.334831460674,
         "('price', 'mean_kilo')": 3889.334831460674,
         "_deepnote_index_column": "('Ideal', 'H')"
        },
        {
         "('carat', 'min')": 0.23,
         "('carat', 'max')": 3.22,
         "('price', 'mean')": 4451.970377448638,
         "('price', 'mean_kilo')": 4451.970377448638,
         "_deepnote_index_column": "('Ideal', 'I')"
        },
        {
         "('carat', 'min')": 0.23,
         "('carat', 'max')": 3.01,
         "('price', 'mean')": 4918.186383928572,
         "('price', 'mean_kilo')": 4918.186383928572,
         "_deepnote_index_column": "('Ideal', 'J')"
        },
        {
         "('carat', 'min')": 0.2,
         "('carat', 'max')": 2.57,
         "('price', 'mean')": 3631.292576419214,
         "('price', 'mean_kilo')": 3631.292576419214,
         "_deepnote_index_column": "('Premium', 'D')"
        },
        {
         "('carat', 'min')": 0.2,
         "('carat', 'max')": 3.05,
         "('price', 'mean')": 3538.9144201968334,
         "('price', 'mean_kilo')": 3538.9144201968334,
         "_deepnote_index_column": "('Premium', 'E')"
        },
        {
         "('carat', 'min')": 0.2,
         "('carat', 'max')": 3.01,
         "('price', 'mean')": 4324.890175890176,
         "('price', 'mean_kilo')": 4324.890175890176,
         "_deepnote_index_column": "('Premium', 'F')"
        },
        {
         "('carat', 'min')": 0.23,
         "('carat', 'max')": 3.01,
         "('price', 'mean')": 4500.742134062927,
         "('price', 'mean_kilo')": 4500.742134062927,
         "_deepnote_index_column": "('Premium', 'G')"
        },
        {
         "('carat', 'min')": 0.23,
         "('carat', 'max')": 3.24,
         "('price', 'mean')": 5216.706779661017,
         "('price', 'mean_kilo')": 5216.706779661017,
         "_deepnote_index_column": "('Premium', 'H')"
        },
        {
         "('carat', 'min')": 0.23,
         "('carat', 'max')": 4.01,
         "('price', 'mean')": 5946.180672268908,
         "('price', 'mean_kilo')": 5946.180672268908,
         "_deepnote_index_column": "('Premium', 'I')"
        },
        {
         "('carat', 'min')": 0.3,
         "('carat', 'max')": 4.01,
         "('price', 'mean')": 6294.591584158416,
         "('price', 'mean_kilo')": 6294.591584158416,
         "_deepnote_index_column": "('Premium', 'J')"
        },
        {
         "('carat', 'min')": 0.23,
         "('carat', 'max')": 2.58,
         "('price', 'mean')": 3470.4672835426304,
         "('price', 'mean_kilo')": 3470.4672835426304,
         "_deepnote_index_column": "('Very Good', 'D')"
        },
        {
         "('carat', 'min')": 0.2,
         "('carat', 'max')": 2.51,
         "('price', 'mean')": 3214.6520833333334,
         "('price', 'mean_kilo')": 3214.6520833333334,
         "_deepnote_index_column": "('Very Good', 'E')"
        },
        {
         "('carat', 'min')": 0.23,
         "('carat', 'max')": 2.48,
         "('price', 'mean')": 3778.8202402957486,
         "('price', 'mean_kilo')": 3778.8202402957486,
         "_deepnote_index_column": "('Very Good', 'F')"
        },
        {
         "('carat', 'min')": 0.23,
         "('carat', 'max')": 2.52,
         "('price', 'mean')": 3872.75380600261,
         "('price', 'mean_kilo')": 3872.75380600261,
         "_deepnote_index_column": "('Very Good', 'G')"
        },
        {
         "('carat', 'min')": 0.23,
         "('carat', 'max')": 3,
         "('price', 'mean')": 4535.390350877193,
         "('price', 'mean_kilo')": 4535.390350877193,
         "_deepnote_index_column": "('Very Good', 'H')"
        },
        {
         "('carat', 'min')": 0.24,
         "('carat', 'max')": 4,
         "('price', 'mean')": 5255.879568106312,
         "('price', 'mean_kilo')": 5255.879568106312,
         "_deepnote_index_column": "('Very Good', 'I')"
        },
        {
         "('carat', 'min')": 0.24,
         "('carat', 'max')": 2.74,
         "('price', 'mean')": 5103.513274336283,
         "('price', 'mean_kilo')": 5103.513274336283,
         "_deepnote_index_column": "('Very Good', 'J')"
        },
        {
         "('carat', 'min')": 0.23,
         "('carat', 'max')": 2.04,
         "('price', 'mean')": 3405.3821752265862,
         "('price', 'mean_kilo')": 3405.3821752265862,
         "_deepnote_index_column": "('Good', 'D')"
        },
        {
         "('carat', 'min')": 0.23,
         "('carat', 'max')": 3,
         "('price', 'mean')": 3423.6441586280816,
         "('price', 'mean_kilo')": 3423.6441586280816,
         "_deepnote_index_column": "('Good', 'E')"
        },
        {
         "('carat', 'min')": 0.23,
         "('carat', 'max')": 2.67,
         "('price', 'mean')": 3495.7502750275025,
         "('price', 'mean_kilo')": 3495.7502750275025,
         "_deepnote_index_column": "('Good', 'F')"
        },
        {
         "('carat', 'min')": 0.23,
         "('carat', 'max')": 2.8,
         "('price', 'mean')": 4123.482204362801,
         "('price', 'mean_kilo')": 4123.482204362801,
         "_deepnote_index_column": "('Good', 'G')"
        },
        {
         "('carat', 'min')": 0.25,
         "('carat', 'max')": 3.01,
         "('price', 'mean')": 4276.254985754986,
         "('price', 'mean_kilo')": 4276.254985754986,
         "_deepnote_index_column": "('Good', 'H')"
        },
        {
         "('carat', 'min')": 0.3,
         "('carat', 'max')": 3.01,
         "('price', 'mean')": 5078.532567049809,
         "('price', 'mean_kilo')": 5078.532567049809,
         "_deepnote_index_column": "('Good', 'I')"
        },
        {
         "('carat', 'min')": 0.28,
         "('carat', 'max')": 3,
         "('price', 'mean')": 4574.172638436482,
         "('price', 'mean_kilo')": 4574.172638436482,
         "_deepnote_index_column": "('Good', 'J')"
        },
        {
         "('carat', 'min')": 0.25,
         "('carat', 'max')": 3.4,
         "('price', 'mean')": 4291.061349693252,
         "('price', 'mean_kilo')": 4291.061349693252,
         "_deepnote_index_column": "('Fair', 'D')"
        },
        {
         "('carat', 'min')": 0.22,
         "('carat', 'max')": 2.04,
         "('price', 'mean')": 3682.3125,
         "('price', 'mean_kilo')": 3682.3125,
         "_deepnote_index_column": "('Fair', 'E')"
        },
        {
         "('carat', 'min')": 0.25,
         "('carat', 'max')": 2.58,
         "('price', 'mean')": 3827.003205128205,
         "('price', 'mean_kilo')": 3827.003205128205,
         "_deepnote_index_column": "('Fair', 'F')"
        },
        {
         "('carat', 'min')": 0.23,
         "('carat', 'max')": 2.6,
         "('price', 'mean')": 4239.254777070064,
         "('price', 'mean_kilo')": 4239.254777070064,
         "_deepnote_index_column": "('Fair', 'G')"
        },
        {
         "('carat', 'min')": 0.33,
         "('carat', 'max')": 4.13,
         "('price', 'mean')": 5135.683168316832,
         "('price', 'mean_kilo')": 5135.683168316832,
         "_deepnote_index_column": "('Fair', 'H')"
        },
        {
         "('carat', 'min')": 0.41,
         "('carat', 'max')": 3.02,
         "('price', 'mean')": 4685.4457142857145,
         "('price', 'mean_kilo')": 4685.4457142857145,
         "_deepnote_index_column": "('Fair', 'I')"
        },
        {
         "('carat', 'min')": 0.3,
         "('carat', 'max')": 5.01,
         "('price', 'mean')": 4975.655462184874,
         "('price', 'mean_kilo')": 4975.655462184874,
         "_deepnote_index_column": "('Fair', 'J')"
        }
       ],
       "rows_bottom": null
      },
      "text/plain": "                carat           price          \n                  min   max      mean mean_kilo\ncut       color                                \nIdeal     D     0.200 2.750 2,629.095 2,629.095\n          E     0.200 2.280 2,597.550 2,597.550\n          F     0.230 2.450 3,374.939 3,374.939\n          G     0.230 2.540 3,720.706 3,720.706\n          H     0.230 3.500 3,889.335 3,889.335\n          I     0.230 3.220 4,451.970 4,451.970\n          J     0.230 3.010 4,918.186 4,918.186\nPremium   D     0.200 2.570 3,631.293 3,631.293\n          E     0.200 3.050 3,538.914 3,538.914\n          F     0.200 3.010 4,324.890 4,324.890\n          G     0.230 3.010 4,500.742 4,500.742\n          H     0.230 3.240 5,216.707 5,216.707\n          I     0.230 4.010 5,946.181 5,946.181\n          J     0.300 4.010 6,294.592 6,294.592\nVery Good D     0.230 2.580 3,470.467 3,470.467\n          E     0.200 2.510 3,214.652 3,214.652\n          F     0.230 2.480 3,778.820 3,778.820\n          G     0.230 2.520 3,872.754 3,872.754\n          H     0.230 3.000 4,535.390 4,535.390\n          I     0.240 4.000 5,255.880 5,255.880\n          J     0.240 2.740 5,103.513 5,103.513\nGood      D     0.230 2.040 3,405.382 3,405.382\n          E     0.230 3.000 3,423.644 3,423.644\n          F     0.230 2.670 3,495.750 3,495.750\n          G     0.230 2.800 4,123.482 4,123.482\n          H     0.250 3.010 4,276.255 4,276.255\n          I     0.300 3.010 5,078.533 5,078.533\n          J     0.280 3.000 4,574.173 4,574.173\nFair      D     0.250 3.400 4,291.061 4,291.061\n          E     0.220 2.040 3,682.312 3,682.312\n          F     0.250 2.580 3,827.003 3,827.003\n          G     0.230 2.600 4,239.255 4,239.255\n          H     0.330 4.130 5,135.683 5,135.683\n          I     0.410 3.020 4,685.446 4,685.446\n          J     0.300 5.010 4,975.655 4,975.655",
      "text/html": "<div>\n<style scoped>\n    .dataframe tbody tr th:only-of-type {\n        vertical-align: middle;\n    }\n\n    .dataframe tbody tr th {\n        vertical-align: top;\n    }\n\n    .dataframe thead tr th {\n        text-align: left;\n    }\n\n    .dataframe thead tr:last-of-type th {\n        text-align: right;\n    }\n</style>\n<table border=\"1\" class=\"dataframe\">\n  <thead>\n    <tr>\n      <th></th>\n      <th></th>\n      <th colspan=\"2\" halign=\"left\">carat</th>\n      <th colspan=\"2\" halign=\"left\">price</th>\n    </tr>\n    <tr>\n      <th></th>\n      <th></th>\n      <th>min</th>\n      <th>max</th>\n      <th>mean</th>\n      <th>mean_kilo</th>\n    </tr>\n    <tr>\n      <th>cut</th>\n      <th>color</th>\n      <th></th>\n      <th></th>\n      <th></th>\n      <th></th>\n    </tr>\n  </thead>\n  <tbody>\n    <tr>\n      <th rowspan=\"7\" valign=\"top\">Ideal</th>\n      <th>D</th>\n      <td>0.200</td>\n      <td>2.750</td>\n      <td>2,629.095</td>\n      <td>2,629.095</td>\n    </tr>\n    <tr>\n      <th>E</th>\n      <td>0.200</td>\n      <td>2.280</td>\n      <td>2,597.550</td>\n      <td>2,597.550</td>\n    </tr>\n    <tr>\n      <th>F</th>\n      <td>0.230</td>\n      <td>2.450</td>\n      <td>3,374.939</td>\n      <td>3,374.939</td>\n    </tr>\n    <tr>\n      <th>G</th>\n      <td>0.230</td>\n      <td>2.540</td>\n      <td>3,720.706</td>\n      <td>3,720.706</td>\n    </tr>\n    <tr>\n      <th>H</th>\n      <td>0.230</td>\n      <td>3.500</td>\n      <td>3,889.335</td>\n      <td>3,889.335</td>\n    </tr>\n    <tr>\n      <th>I</th>\n      <td>0.230</td>\n      <td>3.220</td>\n      <td>4,451.970</td>\n      <td>4,451.970</td>\n    </tr>\n    <tr>\n      <th>J</th>\n      <td>0.230</td>\n      <td>3.010</td>\n      <td>4,918.186</td>\n      <td>4,918.186</td>\n    </tr>\n    <tr>\n      <th rowspan=\"7\" valign=\"top\">Premium</th>\n      <th>D</th>\n      <td>0.200</td>\n      <td>2.570</td>\n      <td>3,631.293</td>\n      <td>3,631.293</td>\n    </tr>\n    <tr>\n      <th>E</th>\n      <td>0.200</td>\n      <td>3.050</td>\n      <td>3,538.914</td>\n      <td>3,538.914</td>\n    </tr>\n    <tr>\n      <th>F</th>\n      <td>0.200</td>\n      <td>3.010</td>\n      <td>4,324.890</td>\n      <td>4,324.890</td>\n    </tr>\n    <tr>\n      <th>G</th>\n      <td>0.230</td>\n      <td>3.010</td>\n      <td>4,500.742</td>\n      <td>4,500.742</td>\n    </tr>\n    <tr>\n      <th>H</th>\n      <td>0.230</td>\n      <td>3.240</td>\n      <td>5,216.707</td>\n      <td>5,216.707</td>\n    </tr>\n    <tr>\n      <th>I</th>\n      <td>0.230</td>\n      <td>4.010</td>\n      <td>5,946.181</td>\n      <td>5,946.181</td>\n    </tr>\n    <tr>\n      <th>J</th>\n      <td>0.300</td>\n      <td>4.010</td>\n      <td>6,294.592</td>\n      <td>6,294.592</td>\n    </tr>\n    <tr>\n      <th rowspan=\"7\" valign=\"top\">Very Good</th>\n      <th>D</th>\n      <td>0.230</td>\n      <td>2.580</td>\n      <td>3,470.467</td>\n      <td>3,470.467</td>\n    </tr>\n    <tr>\n      <th>E</th>\n      <td>0.200</td>\n      <td>2.510</td>\n      <td>3,214.652</td>\n      <td>3,214.652</td>\n    </tr>\n    <tr>\n      <th>F</th>\n      <td>0.230</td>\n      <td>2.480</td>\n      <td>3,778.820</td>\n      <td>3,778.820</td>\n    </tr>\n    <tr>\n      <th>G</th>\n      <td>0.230</td>\n      <td>2.520</td>\n      <td>3,872.754</td>\n      <td>3,872.754</td>\n    </tr>\n    <tr>\n      <th>H</th>\n      <td>0.230</td>\n      <td>3.000</td>\n      <td>4,535.390</td>\n      <td>4,535.390</td>\n    </tr>\n    <tr>\n      <th>I</th>\n      <td>0.240</td>\n      <td>4.000</td>\n      <td>5,255.880</td>\n      <td>5,255.880</td>\n    </tr>\n    <tr>\n      <th>J</th>\n      <td>0.240</td>\n      <td>2.740</td>\n      <td>5,103.513</td>\n      <td>5,103.513</td>\n    </tr>\n    <tr>\n      <th rowspan=\"7\" valign=\"top\">Good</th>\n      <th>D</th>\n      <td>0.230</td>\n      <td>2.040</td>\n      <td>3,405.382</td>\n      <td>3,405.382</td>\n    </tr>\n    <tr>\n      <th>E</th>\n      <td>0.230</td>\n      <td>3.000</td>\n      <td>3,423.644</td>\n      <td>3,423.644</td>\n    </tr>\n    <tr>\n      <th>F</th>\n      <td>0.230</td>\n      <td>2.670</td>\n      <td>3,495.750</td>\n      <td>3,495.750</td>\n    </tr>\n    <tr>\n      <th>G</th>\n      <td>0.230</td>\n      <td>2.800</td>\n      <td>4,123.482</td>\n      <td>4,123.482</td>\n    </tr>\n    <tr>\n      <th>H</th>\n      <td>0.250</td>\n      <td>3.010</td>\n      <td>4,276.255</td>\n      <td>4,276.255</td>\n    </tr>\n    <tr>\n      <th>I</th>\n      <td>0.300</td>\n      <td>3.010</td>\n      <td>5,078.533</td>\n      <td>5,078.533</td>\n    </tr>\n    <tr>\n      <th>J</th>\n      <td>0.280</td>\n      <td>3.000</td>\n      <td>4,574.173</td>\n      <td>4,574.173</td>\n    </tr>\n    <tr>\n      <th rowspan=\"7\" valign=\"top\">Fair</th>\n      <th>D</th>\n      <td>0.250</td>\n      <td>3.400</td>\n      <td>4,291.061</td>\n      <td>4,291.061</td>\n    </tr>\n    <tr>\n      <th>E</th>\n      <td>0.220</td>\n      <td>2.040</td>\n      <td>3,682.312</td>\n      <td>3,682.312</td>\n    </tr>\n    <tr>\n      <th>F</th>\n      <td>0.250</td>\n      <td>2.580</td>\n      <td>3,827.003</td>\n      <td>3,827.003</td>\n    </tr>\n    <tr>\n      <th>G</th>\n      <td>0.230</td>\n      <td>2.600</td>\n      <td>4,239.255</td>\n      <td>4,239.255</td>\n    </tr>\n    <tr>\n      <th>H</th>\n      <td>0.330</td>\n      <td>4.130</td>\n      <td>5,135.683</td>\n      <td>5,135.683</td>\n    </tr>\n    <tr>\n      <th>I</th>\n      <td>0.410</td>\n      <td>3.020</td>\n      <td>4,685.446</td>\n      <td>4,685.446</td>\n    </tr>\n    <tr>\n      <th>J</th>\n      <td>0.300</td>\n      <td>5.010</td>\n      <td>4,975.655</td>\n      <td>4,975.655</td>\n    </tr>\n  </tbody>\n</table>\n</div>"
     },
     "metadata": {}
    }
   ]
  },
  {
   "cell_type": "markdown",
   "source": "## Funciones de filtros",
   "metadata": {
    "tags": [],
    "cell_id": "00013-60ff4317-7c3b-4459-9873-599f6adef96b",
    "deepnote_cell_type": "markdown"
   }
  },
  {
   "cell_type": "code",
   "metadata": {
    "tags": [],
    "cell_id": "00013-c652afff-7c13-4a68-a5db-9b91da9038ce",
    "deepnote_to_be_reexecuted": false,
    "source_hash": "4cb2e97a",
    "execution_start": 1625169063217,
    "execution_millis": 63,
    "deepnote_cell_type": "code"
   },
   "source": "def f_filter(x):\n    return mean_kilo(x['price']) > 4\n\ndf.groupby(['cut']).filter(f_filter)",
   "execution_count": null,
   "outputs": [
    {
     "output_type": "execute_result",
     "execution_count": 44,
     "data": {
      "application/vnd.deepnote.dataframe.v2+json": {
       "row_count": 53940,
       "column_count": 10,
       "columns": [
        {
         "name": "carat",
         "dtype": "float64",
         "stats": {
          "unique_count": 273,
          "nan_count": 0,
          "min": "0.2",
          "max": "5.01",
          "histogram": [
           {
            "bin_start": 0.2,
            "bin_end": 0.681,
            "count": 25155
           },
           {
            "bin_start": 0.681,
            "bin_end": 1.162,
            "count": 18626
           },
           {
            "bin_start": 1.162,
            "bin_end": 1.643,
            "count": 7129
           },
           {
            "bin_start": 1.643,
            "bin_end": 2.124,
            "count": 2349
           },
           {
            "bin_start": 2.124,
            "bin_end": 2.605,
            "count": 614
           },
           {
            "bin_start": 2.605,
            "bin_end": 3.0860000000000003,
            "count": 53
           },
           {
            "bin_start": 3.0860000000000003,
            "bin_end": 3.567,
            "count": 6
           },
           {
            "bin_start": 3.567,
            "bin_end": 4.048,
            "count": 5
           },
           {
            "bin_start": 4.048,
            "bin_end": 4.529,
            "count": 2
           },
           {
            "bin_start": 4.529,
            "bin_end": 5.01,
            "count": 1
           }
          ]
         }
        },
        {
         "name": "cut",
         "dtype": "category"
        },
        {
         "name": "color",
         "dtype": "category"
        },
        {
         "name": "clarity",
         "dtype": "category"
        },
        {
         "name": "depth",
         "dtype": "float64"
        },
        {
         "name": "table",
         "dtype": "float64"
        },
        {
         "name": "price",
         "dtype": "int64"
        },
        {
         "name": "x",
         "dtype": "float64"
        },
        {
         "name": "y",
         "dtype": "float64"
        },
        {
         "name": "z",
         "dtype": "float64"
        },
        {
         "name": "_deepnote_index_column",
         "dtype": "int64"
        }
       ],
       "rows_top": [
        {
         "carat": 0.23,
         "cut": "Ideal",
         "color": "E",
         "clarity": "SI2",
         "depth": 61.5,
         "table": 55,
         "price": 326,
         "x": 3.95,
         "y": 3.98,
         "z": 2.43,
         "_deepnote_index_column": 0
        },
        {
         "carat": 0.21,
         "cut": "Premium",
         "color": "E",
         "clarity": "SI1",
         "depth": 59.8,
         "table": 61,
         "price": 326,
         "x": 3.89,
         "y": 3.84,
         "z": 2.31,
         "_deepnote_index_column": 1
        },
        {
         "carat": 0.23,
         "cut": "Good",
         "color": "E",
         "clarity": "VS1",
         "depth": 56.9,
         "table": 65,
         "price": 327,
         "x": 4.05,
         "y": 4.07,
         "z": 2.31,
         "_deepnote_index_column": 2
        },
        {
         "carat": 0.29,
         "cut": "Premium",
         "color": "I",
         "clarity": "VS2",
         "depth": 62.4,
         "table": 58,
         "price": 334,
         "x": 4.2,
         "y": 4.23,
         "z": 2.63,
         "_deepnote_index_column": 3
        },
        {
         "carat": 0.31,
         "cut": "Good",
         "color": "J",
         "clarity": "SI2",
         "depth": 63.3,
         "table": 58,
         "price": 335,
         "x": 4.34,
         "y": 4.35,
         "z": 2.75,
         "_deepnote_index_column": 4
        },
        {
         "carat": 0.24,
         "cut": "Very Good",
         "color": "J",
         "clarity": "VVS2",
         "depth": 62.8,
         "table": 57,
         "price": 336,
         "x": 3.94,
         "y": 3.96,
         "z": 2.48,
         "_deepnote_index_column": 5
        },
        {
         "carat": 0.24,
         "cut": "Very Good",
         "color": "I",
         "clarity": "VVS1",
         "depth": 62.3,
         "table": 57,
         "price": 336,
         "x": 3.95,
         "y": 3.98,
         "z": 2.47,
         "_deepnote_index_column": 6
        },
        {
         "carat": 0.26,
         "cut": "Very Good",
         "color": "H",
         "clarity": "SI1",
         "depth": 61.9,
         "table": 55,
         "price": 337,
         "x": 4.07,
         "y": 4.11,
         "z": 2.53,
         "_deepnote_index_column": 7
        },
        {
         "carat": 0.22,
         "cut": "Fair",
         "color": "E",
         "clarity": "VS2",
         "depth": 65.1,
         "table": 61,
         "price": 337,
         "x": 3.87,
         "y": 3.78,
         "z": 2.49,
         "_deepnote_index_column": 8
        },
        {
         "carat": 0.23,
         "cut": "Very Good",
         "color": "H",
         "clarity": "VS1",
         "depth": 59.4,
         "table": 61,
         "price": 338,
         "x": 4,
         "y": 4.05,
         "z": 2.39,
         "_deepnote_index_column": 9
        },
        {
         "carat": 0.3,
         "cut": "Good",
         "color": "J",
         "clarity": "SI1",
         "depth": 64,
         "table": 55,
         "price": 339,
         "x": 4.25,
         "y": 4.28,
         "z": 2.73,
         "_deepnote_index_column": 10
        },
        {
         "carat": 0.23,
         "cut": "Ideal",
         "color": "J",
         "clarity": "VS1",
         "depth": 62.8,
         "table": 56,
         "price": 340,
         "x": 3.93,
         "y": 3.9,
         "z": 2.46,
         "_deepnote_index_column": 11
        },
        {
         "carat": 0.22,
         "cut": "Premium",
         "color": "F",
         "clarity": "SI1",
         "depth": 60.4,
         "table": 61,
         "price": 342,
         "x": 3.88,
         "y": 3.84,
         "z": 2.33,
         "_deepnote_index_column": 12
        },
        {
         "carat": 0.31,
         "cut": "Ideal",
         "color": "J",
         "clarity": "SI2",
         "depth": 62.2,
         "table": 54,
         "price": 344,
         "x": 4.35,
         "y": 4.37,
         "z": 2.71,
         "_deepnote_index_column": 13
        },
        {
         "carat": 0.2,
         "cut": "Premium",
         "color": "E",
         "clarity": "SI2",
         "depth": 60.2,
         "table": 62,
         "price": 345,
         "x": 3.79,
         "y": 3.75,
         "z": 2.27,
         "_deepnote_index_column": 14
        },
        {
         "carat": 0.32,
         "cut": "Premium",
         "color": "E",
         "clarity": "I1",
         "depth": 60.9,
         "table": 58,
         "price": 345,
         "x": 4.38,
         "y": 4.42,
         "z": 2.68,
         "_deepnote_index_column": 15
        },
        {
         "carat": 0.3,
         "cut": "Ideal",
         "color": "I",
         "clarity": "SI2",
         "depth": 62,
         "table": 54,
         "price": 348,
         "x": 4.31,
         "y": 4.34,
         "z": 2.68,
         "_deepnote_index_column": 16
        },
        {
         "carat": 0.3,
         "cut": "Good",
         "color": "J",
         "clarity": "SI1",
         "depth": 63.4,
         "table": 54,
         "price": 351,
         "x": 4.23,
         "y": 4.29,
         "z": 2.7,
         "_deepnote_index_column": 17
        },
        {
         "carat": 0.3,
         "cut": "Good",
         "color": "J",
         "clarity": "SI1",
         "depth": 63.8,
         "table": 56,
         "price": 351,
         "x": 4.23,
         "y": 4.26,
         "z": 2.71,
         "_deepnote_index_column": 18
        },
        {
         "carat": 0.3,
         "cut": "Very Good",
         "color": "J",
         "clarity": "SI1",
         "depth": 62.7,
         "table": 59,
         "price": 351,
         "x": 4.21,
         "y": 4.27,
         "z": 2.66,
         "_deepnote_index_column": 19
        },
        {
         "carat": 0.3,
         "cut": "Good",
         "color": "I",
         "clarity": "SI2",
         "depth": 63.3,
         "table": 56,
         "price": 351,
         "x": 4.26,
         "y": 4.3,
         "z": 2.71,
         "_deepnote_index_column": 20
        },
        {
         "carat": 0.23,
         "cut": "Very Good",
         "color": "E",
         "clarity": "VS2",
         "depth": 63.8,
         "table": 55,
         "price": 352,
         "x": 3.85,
         "y": 3.92,
         "z": 2.48,
         "_deepnote_index_column": 21
        },
        {
         "carat": 0.23,
         "cut": "Very Good",
         "color": "H",
         "clarity": "VS1",
         "depth": 61,
         "table": 57,
         "price": 353,
         "x": 3.94,
         "y": 3.96,
         "z": 2.41,
         "_deepnote_index_column": 22
        },
        {
         "carat": 0.31,
         "cut": "Very Good",
         "color": "J",
         "clarity": "SI1",
         "depth": 59.4,
         "table": 62,
         "price": 353,
         "x": 4.39,
         "y": 4.43,
         "z": 2.62,
         "_deepnote_index_column": 23
        },
        {
         "carat": 0.31,
         "cut": "Very Good",
         "color": "J",
         "clarity": "SI1",
         "depth": 58.1,
         "table": 62,
         "price": 353,
         "x": 4.44,
         "y": 4.47,
         "z": 2.59,
         "_deepnote_index_column": 24
        },
        {
         "carat": 0.23,
         "cut": "Very Good",
         "color": "G",
         "clarity": "VVS2",
         "depth": 60.4,
         "table": 58,
         "price": 354,
         "x": 3.97,
         "y": 4.01,
         "z": 2.41,
         "_deepnote_index_column": 25
        },
        {
         "carat": 0.24,
         "cut": "Premium",
         "color": "I",
         "clarity": "VS1",
         "depth": 62.5,
         "table": 57,
         "price": 355,
         "x": 3.97,
         "y": 3.94,
         "z": 2.47,
         "_deepnote_index_column": 26
        },
        {
         "carat": 0.3,
         "cut": "Very Good",
         "color": "J",
         "clarity": "VS2",
         "depth": 62.2,
         "table": 57,
         "price": 357,
         "x": 4.28,
         "y": 4.3,
         "z": 2.67,
         "_deepnote_index_column": 27
        },
        {
         "carat": 0.23,
         "cut": "Very Good",
         "color": "D",
         "clarity": "VS2",
         "depth": 60.5,
         "table": 61,
         "price": 357,
         "x": 3.96,
         "y": 3.97,
         "z": 2.4,
         "_deepnote_index_column": 28
        },
        {
         "carat": 0.23,
         "cut": "Very Good",
         "color": "F",
         "clarity": "VS1",
         "depth": 60.9,
         "table": 57,
         "price": 357,
         "x": 3.96,
         "y": 3.99,
         "z": 2.42,
         "_deepnote_index_column": 29
        },
        {
         "carat": 0.23,
         "cut": "Very Good",
         "color": "F",
         "clarity": "VS1",
         "depth": 60,
         "table": 57,
         "price": 402,
         "x": 4,
         "y": 4.03,
         "z": 2.41,
         "_deepnote_index_column": 30
        },
        {
         "carat": 0.23,
         "cut": "Very Good",
         "color": "F",
         "clarity": "VS1",
         "depth": 59.8,
         "table": 57,
         "price": 402,
         "x": 4.04,
         "y": 4.06,
         "z": 2.42,
         "_deepnote_index_column": 31
        },
        {
         "carat": 0.23,
         "cut": "Very Good",
         "color": "E",
         "clarity": "VS1",
         "depth": 60.7,
         "table": 59,
         "price": 402,
         "x": 3.97,
         "y": 4.01,
         "z": 2.42,
         "_deepnote_index_column": 32
        },
        {
         "carat": 0.23,
         "cut": "Very Good",
         "color": "E",
         "clarity": "VS1",
         "depth": 59.5,
         "table": 58,
         "price": 402,
         "x": 4.01,
         "y": 4.06,
         "z": 2.4,
         "_deepnote_index_column": 33
        },
        {
         "carat": 0.23,
         "cut": "Very Good",
         "color": "D",
         "clarity": "VS1",
         "depth": 61.9,
         "table": 58,
         "price": 402,
         "x": 3.92,
         "y": 3.96,
         "z": 2.44,
         "_deepnote_index_column": 34
        },
        {
         "carat": 0.23,
         "cut": "Good",
         "color": "F",
         "clarity": "VS1",
         "depth": 58.2,
         "table": 59,
         "price": 402,
         "x": 4.06,
         "y": 4.08,
         "z": 2.37,
         "_deepnote_index_column": 35
        },
        {
         "carat": 0.23,
         "cut": "Good",
         "color": "E",
         "clarity": "VS1",
         "depth": 64.1,
         "table": 59,
         "price": 402,
         "x": 3.83,
         "y": 3.85,
         "z": 2.46,
         "_deepnote_index_column": 36
        },
        {
         "carat": 0.31,
         "cut": "Good",
         "color": "H",
         "clarity": "SI1",
         "depth": 64,
         "table": 54,
         "price": 402,
         "x": 4.29,
         "y": 4.31,
         "z": 2.75,
         "_deepnote_index_column": 37
        },
        {
         "carat": 0.26,
         "cut": "Very Good",
         "color": "D",
         "clarity": "VS2",
         "depth": 60.8,
         "table": 59,
         "price": 403,
         "x": 4.13,
         "y": 4.16,
         "z": 2.52,
         "_deepnote_index_column": 38
        },
        {
         "carat": 0.33,
         "cut": "Ideal",
         "color": "I",
         "clarity": "SI2",
         "depth": 61.8,
         "table": 55,
         "price": 403,
         "x": 4.49,
         "y": 4.51,
         "z": 2.78,
         "_deepnote_index_column": 39
        },
        {
         "carat": 0.33,
         "cut": "Ideal",
         "color": "I",
         "clarity": "SI2",
         "depth": 61.2,
         "table": 56,
         "price": 403,
         "x": 4.49,
         "y": 4.5,
         "z": 2.75,
         "_deepnote_index_column": 40
        },
        {
         "carat": 0.33,
         "cut": "Ideal",
         "color": "J",
         "clarity": "SI1",
         "depth": 61.1,
         "table": 56,
         "price": 403,
         "x": 4.49,
         "y": 4.55,
         "z": 2.76,
         "_deepnote_index_column": 41
        },
        {
         "carat": 0.26,
         "cut": "Good",
         "color": "D",
         "clarity": "VS2",
         "depth": 65.2,
         "table": 56,
         "price": 403,
         "x": 3.99,
         "y": 4.02,
         "z": 2.61,
         "_deepnote_index_column": 42
        },
        {
         "carat": 0.26,
         "cut": "Good",
         "color": "D",
         "clarity": "VS1",
         "depth": 58.4,
         "table": 63,
         "price": 403,
         "x": 4.19,
         "y": 4.24,
         "z": 2.46,
         "_deepnote_index_column": 43
        },
        {
         "carat": 0.32,
         "cut": "Good",
         "color": "H",
         "clarity": "SI2",
         "depth": 63.1,
         "table": 56,
         "price": 403,
         "x": 4.34,
         "y": 4.37,
         "z": 2.75,
         "_deepnote_index_column": 44
        },
        {
         "carat": 0.29,
         "cut": "Premium",
         "color": "F",
         "clarity": "SI1",
         "depth": 62.4,
         "table": 58,
         "price": 403,
         "x": 4.24,
         "y": 4.26,
         "z": 2.65,
         "_deepnote_index_column": 45
        },
        {
         "carat": 0.32,
         "cut": "Very Good",
         "color": "H",
         "clarity": "SI2",
         "depth": 61.8,
         "table": 55,
         "price": 403,
         "x": 4.35,
         "y": 4.42,
         "z": 2.71,
         "_deepnote_index_column": 46
        },
        {
         "carat": 0.32,
         "cut": "Good",
         "color": "H",
         "clarity": "SI2",
         "depth": 63.8,
         "table": 56,
         "price": 403,
         "x": 4.36,
         "y": 4.38,
         "z": 2.79,
         "_deepnote_index_column": 47
        },
        {
         "carat": 0.25,
         "cut": "Very Good",
         "color": "E",
         "clarity": "VS2",
         "depth": 63.3,
         "table": 60,
         "price": 404,
         "x": 4,
         "y": 4.03,
         "z": 2.54,
         "_deepnote_index_column": 48
        },
        {
         "carat": 0.29,
         "cut": "Very Good",
         "color": "H",
         "clarity": "SI2",
         "depth": 60.7,
         "table": 60,
         "price": 404,
         "x": 4.33,
         "y": 4.37,
         "z": 2.64,
         "_deepnote_index_column": 49
        }
       ],
       "rows_bottom": [
        {
         "carat": 0.73,
         "cut": "Good",
         "color": "E",
         "clarity": "SI1",
         "depth": 57.9,
         "table": 55,
         "price": 2749,
         "x": 6,
         "y": 5.96,
         "z": 3.46,
         "_deepnote_index_column": 53890
        },
        {
         "carat": 0.56,
         "cut": "Ideal",
         "color": "E",
         "clarity": "VVS1",
         "depth": 62.1,
         "table": 56,
         "price": 2750,
         "x": 5.28,
         "y": 5.29,
         "z": 3.28,
         "_deepnote_index_column": 53891
        },
        {
         "carat": 0.7,
         "cut": "Ideal",
         "color": "F",
         "clarity": "VS1",
         "depth": 62.5,
         "table": 56,
         "price": 2751,
         "x": 5.73,
         "y": 5.7,
         "z": 3.57,
         "_deepnote_index_column": 53892
        },
        {
         "carat": 0.7,
         "cut": "Ideal",
         "color": "F",
         "clarity": "VS1",
         "depth": 62,
         "table": 55,
         "price": 2751,
         "x": 5.74,
         "y": 5.71,
         "z": 3.55,
         "_deepnote_index_column": 53893
        },
        {
         "carat": 0.71,
         "cut": "Ideal",
         "color": "G",
         "clarity": "SI1",
         "depth": 60.5,
         "table": 56.4,
         "price": 2751,
         "x": 5.76,
         "y": 5.8,
         "z": 3.5,
         "_deepnote_index_column": 53894
        },
        {
         "carat": 0.7,
         "cut": "Good",
         "color": "F",
         "clarity": "VS1",
         "depth": 57.8,
         "table": 61,
         "price": 2751,
         "x": 5.83,
         "y": 5.79,
         "z": 3.36,
         "_deepnote_index_column": 53895
        },
        {
         "carat": 0.83,
         "cut": "Ideal",
         "color": "G",
         "clarity": "SI2",
         "depth": 62.4,
         "table": 54,
         "price": 2751,
         "x": 6.01,
         "y": 6.08,
         "z": 3.77,
         "_deepnote_index_column": 53896
        },
        {
         "carat": 1.02,
         "cut": "Good",
         "color": "H",
         "clarity": "I1",
         "depth": 64.3,
         "table": 63,
         "price": 2751,
         "x": 6.28,
         "y": 6.23,
         "z": 4.02,
         "_deepnote_index_column": 53897
        },
        {
         "carat": 0.65,
         "cut": "Very Good",
         "color": "D",
         "clarity": "VS1",
         "depth": 60.8,
         "table": 57.2,
         "price": 2752,
         "x": 5.55,
         "y": 5.63,
         "z": 3.4,
         "_deepnote_index_column": 53898
        },
        {
         "carat": 0.72,
         "cut": "Ideal",
         "color": "H",
         "clarity": "VVS2",
         "depth": 62.3,
         "table": 56,
         "price": 2752,
         "x": 5.74,
         "y": 5.81,
         "z": 3.6,
         "_deepnote_index_column": 53899
        },
        {
         "carat": 0.73,
         "cut": "Ideal",
         "color": "H",
         "clarity": "VS2",
         "depth": 62.5,
         "table": 58,
         "price": 2752,
         "x": 5.71,
         "y": 5.75,
         "z": 3.58,
         "_deepnote_index_column": 53900
        },
        {
         "carat": 0.57,
         "cut": "Premium",
         "color": "E",
         "clarity": "VS1",
         "depth": 61.6,
         "table": 58,
         "price": 2753,
         "x": 5.36,
         "y": 5.33,
         "z": 3.29,
         "_deepnote_index_column": 53901
        },
        {
         "carat": 0.77,
         "cut": "Very Good",
         "color": "E",
         "clarity": "SI2",
         "depth": 59.9,
         "table": 61,
         "price": 2753,
         "x": 5.98,
         "y": 6.01,
         "z": 3.59,
         "_deepnote_index_column": 53902
        },
        {
         "carat": 0.75,
         "cut": "Very Good",
         "color": "E",
         "clarity": "SI1",
         "depth": 62.9,
         "table": 57,
         "price": 2753,
         "x": 5.79,
         "y": 5.84,
         "z": 3.66,
         "_deepnote_index_column": 53903
        },
        {
         "carat": 0.7,
         "cut": "Premium",
         "color": "E",
         "clarity": "SI1",
         "depth": 61.3,
         "table": 58,
         "price": 2753,
         "x": 5.68,
         "y": 5.71,
         "z": 3.49,
         "_deepnote_index_column": 53904
        },
        {
         "carat": 0.7,
         "cut": "Premium",
         "color": "E",
         "clarity": "SI1",
         "depth": 60,
         "table": 59,
         "price": 2753,
         "x": 5.75,
         "y": 5.79,
         "z": 3.46,
         "_deepnote_index_column": 53905
        },
        {
         "carat": 0.75,
         "cut": "Very Good",
         "color": "E",
         "clarity": "SI1",
         "depth": 63,
         "table": 55,
         "price": 2753,
         "x": 5.76,
         "y": 5.79,
         "z": 3.64,
         "_deepnote_index_column": 53906
        },
        {
         "carat": 0.7,
         "cut": "Very Good",
         "color": "E",
         "clarity": "SI1",
         "depth": 61,
         "table": 57,
         "price": 2753,
         "x": 5.68,
         "y": 5.73,
         "z": 3.48,
         "_deepnote_index_column": 53907
        },
        {
         "carat": 0.7,
         "cut": "Very Good",
         "color": "E",
         "clarity": "SI1",
         "depth": 61.2,
         "table": 57,
         "price": 2753,
         "x": 5.68,
         "y": 5.73,
         "z": 3.49,
         "_deepnote_index_column": 53908
        },
        {
         "carat": 0.7,
         "cut": "Very Good",
         "color": "E",
         "clarity": "SI1",
         "depth": 62.7,
         "table": 59,
         "price": 2753,
         "x": 5.63,
         "y": 5.67,
         "z": 3.54,
         "_deepnote_index_column": 53909
        },
        {
         "carat": 0.7,
         "cut": "Premium",
         "color": "E",
         "clarity": "SI1",
         "depth": 60.5,
         "table": 58,
         "price": 2753,
         "x": 5.74,
         "y": 5.77,
         "z": 3.48,
         "_deepnote_index_column": 53910
        },
        {
         "carat": 0.57,
         "cut": "Premium",
         "color": "E",
         "clarity": "IF",
         "depth": 59.8,
         "table": 60,
         "price": 2753,
         "x": 5.43,
         "y": 5.38,
         "z": 3.23,
         "_deepnote_index_column": 53911
        },
        {
         "carat": 0.61,
         "cut": "Premium",
         "color": "F",
         "clarity": "VVS1",
         "depth": 61.8,
         "table": 59,
         "price": 2753,
         "x": 5.48,
         "y": 5.4,
         "z": 3.36,
         "_deepnote_index_column": 53912
        },
        {
         "carat": 0.8,
         "cut": "Good",
         "color": "G",
         "clarity": "VS2",
         "depth": 64.2,
         "table": 58,
         "price": 2753,
         "x": 5.84,
         "y": 5.81,
         "z": 3.74,
         "_deepnote_index_column": 53913
        },
        {
         "carat": 0.84,
         "cut": "Good",
         "color": "I",
         "clarity": "VS1",
         "depth": 63.7,
         "table": 59,
         "price": 2753,
         "x": 5.94,
         "y": 5.9,
         "z": 3.77,
         "_deepnote_index_column": 53914
        },
        {
         "carat": 0.77,
         "cut": "Ideal",
         "color": "E",
         "clarity": "SI2",
         "depth": 62.1,
         "table": 56,
         "price": 2753,
         "x": 5.84,
         "y": 5.86,
         "z": 3.63,
         "_deepnote_index_column": 53915
        },
        {
         "carat": 0.74,
         "cut": "Good",
         "color": "D",
         "clarity": "SI1",
         "depth": 63.1,
         "table": 59,
         "price": 2753,
         "x": 5.71,
         "y": 5.74,
         "z": 3.61,
         "_deepnote_index_column": 53916
        },
        {
         "carat": 0.9,
         "cut": "Very Good",
         "color": "J",
         "clarity": "SI1",
         "depth": 63.2,
         "table": 60,
         "price": 2753,
         "x": 6.12,
         "y": 6.09,
         "z": 3.86,
         "_deepnote_index_column": 53917
        },
        {
         "carat": 0.76,
         "cut": "Premium",
         "color": "I",
         "clarity": "VS1",
         "depth": 59.3,
         "table": 62,
         "price": 2753,
         "x": 5.93,
         "y": 5.85,
         "z": 3.49,
         "_deepnote_index_column": 53918
        },
        {
         "carat": 0.76,
         "cut": "Ideal",
         "color": "I",
         "clarity": "VVS1",
         "depth": 62.2,
         "table": 55,
         "price": 2753,
         "x": 5.89,
         "y": 5.87,
         "z": 3.66,
         "_deepnote_index_column": 53919
        },
        {
         "carat": 0.7,
         "cut": "Very Good",
         "color": "E",
         "clarity": "VS2",
         "depth": 62.4,
         "table": 60,
         "price": 2755,
         "x": 5.57,
         "y": 5.61,
         "z": 3.49,
         "_deepnote_index_column": 53920
        },
        {
         "carat": 0.7,
         "cut": "Very Good",
         "color": "E",
         "clarity": "VS2",
         "depth": 62.8,
         "table": 60,
         "price": 2755,
         "x": 5.59,
         "y": 5.65,
         "z": 3.53,
         "_deepnote_index_column": 53921
        },
        {
         "carat": 0.7,
         "cut": "Very Good",
         "color": "D",
         "clarity": "VS1",
         "depth": 63.1,
         "table": 59,
         "price": 2755,
         "x": 5.67,
         "y": 5.58,
         "z": 3.55,
         "_deepnote_index_column": 53922
        },
        {
         "carat": 0.73,
         "cut": "Ideal",
         "color": "I",
         "clarity": "VS2",
         "depth": 61.3,
         "table": 56,
         "price": 2756,
         "x": 5.8,
         "y": 5.84,
         "z": 3.57,
         "_deepnote_index_column": 53923
        },
        {
         "carat": 0.73,
         "cut": "Ideal",
         "color": "I",
         "clarity": "VS2",
         "depth": 61.6,
         "table": 55,
         "price": 2756,
         "x": 5.82,
         "y": 5.84,
         "z": 3.59,
         "_deepnote_index_column": 53924
        },
        {
         "carat": 0.79,
         "cut": "Ideal",
         "color": "I",
         "clarity": "SI1",
         "depth": 61.6,
         "table": 56,
         "price": 2756,
         "x": 5.95,
         "y": 5.97,
         "z": 3.67,
         "_deepnote_index_column": 53925
        },
        {
         "carat": 0.71,
         "cut": "Ideal",
         "color": "E",
         "clarity": "SI1",
         "depth": 61.9,
         "table": 56,
         "price": 2756,
         "x": 5.71,
         "y": 5.73,
         "z": 3.54,
         "_deepnote_index_column": 53926
        },
        {
         "carat": 0.79,
         "cut": "Good",
         "color": "F",
         "clarity": "SI1",
         "depth": 58.1,
         "table": 59,
         "price": 2756,
         "x": 6.06,
         "y": 6.13,
         "z": 3.54,
         "_deepnote_index_column": 53927
        },
        {
         "carat": 0.79,
         "cut": "Premium",
         "color": "E",
         "clarity": "SI2",
         "depth": 61.4,
         "table": 58,
         "price": 2756,
         "x": 6.03,
         "y": 5.96,
         "z": 3.68,
         "_deepnote_index_column": 53928
        },
        {
         "carat": 0.71,
         "cut": "Ideal",
         "color": "G",
         "clarity": "VS1",
         "depth": 61.4,
         "table": 56,
         "price": 2756,
         "x": 5.76,
         "y": 5.73,
         "z": 3.53,
         "_deepnote_index_column": 53929
        },
        {
         "carat": 0.71,
         "cut": "Premium",
         "color": "E",
         "clarity": "SI1",
         "depth": 60.5,
         "table": 55,
         "price": 2756,
         "x": 5.79,
         "y": 5.74,
         "z": 3.49,
         "_deepnote_index_column": 53930
        },
        {
         "carat": 0.71,
         "cut": "Premium",
         "color": "F",
         "clarity": "SI1",
         "depth": 59.8,
         "table": 62,
         "price": 2756,
         "x": 5.74,
         "y": 5.73,
         "z": 3.43,
         "_deepnote_index_column": 53931
        },
        {
         "carat": 0.7,
         "cut": "Very Good",
         "color": "E",
         "clarity": "VS2",
         "depth": 60.5,
         "table": 59,
         "price": 2757,
         "x": 5.71,
         "y": 5.76,
         "z": 3.47,
         "_deepnote_index_column": 53932
        },
        {
         "carat": 0.7,
         "cut": "Very Good",
         "color": "E",
         "clarity": "VS2",
         "depth": 61.2,
         "table": 59,
         "price": 2757,
         "x": 5.69,
         "y": 5.72,
         "z": 3.49,
         "_deepnote_index_column": 53933
        },
        {
         "carat": 0.72,
         "cut": "Premium",
         "color": "D",
         "clarity": "SI1",
         "depth": 62.7,
         "table": 59,
         "price": 2757,
         "x": 5.69,
         "y": 5.73,
         "z": 3.58,
         "_deepnote_index_column": 53934
        },
        {
         "carat": 0.72,
         "cut": "Ideal",
         "color": "D",
         "clarity": "SI1",
         "depth": 60.8,
         "table": 57,
         "price": 2757,
         "x": 5.75,
         "y": 5.76,
         "z": 3.5,
         "_deepnote_index_column": 53935
        },
        {
         "carat": 0.72,
         "cut": "Good",
         "color": "D",
         "clarity": "SI1",
         "depth": 63.1,
         "table": 55,
         "price": 2757,
         "x": 5.69,
         "y": 5.75,
         "z": 3.61,
         "_deepnote_index_column": 53936
        },
        {
         "carat": 0.7,
         "cut": "Very Good",
         "color": "D",
         "clarity": "SI1",
         "depth": 62.8,
         "table": 60,
         "price": 2757,
         "x": 5.66,
         "y": 5.68,
         "z": 3.56,
         "_deepnote_index_column": 53937
        },
        {
         "carat": 0.86,
         "cut": "Premium",
         "color": "H",
         "clarity": "SI2",
         "depth": 61,
         "table": 58,
         "price": 2757,
         "x": 6.15,
         "y": 6.12,
         "z": 3.74,
         "_deepnote_index_column": 53938
        },
        {
         "carat": 0.75,
         "cut": "Ideal",
         "color": "D",
         "clarity": "SI2",
         "depth": 62.2,
         "table": 55,
         "price": 2757,
         "x": 5.83,
         "y": 5.87,
         "z": 3.64,
         "_deepnote_index_column": 53939
        }
       ]
      },
      "text/plain": "       carat        cut color clarity  depth  table  price     x     y     z\n0      0.230      Ideal     E     SI2 61.500 55.000    326 3.950 3.980 2.430\n1      0.210    Premium     E     SI1 59.800 61.000    326 3.890 3.840 2.310\n2      0.230       Good     E     VS1 56.900 65.000    327 4.050 4.070 2.310\n3      0.290    Premium     I     VS2 62.400 58.000    334 4.200 4.230 2.630\n4      0.310       Good     J     SI2 63.300 58.000    335 4.340 4.350 2.750\n...      ...        ...   ...     ...    ...    ...    ...   ...   ...   ...\n53935  0.720      Ideal     D     SI1 60.800 57.000   2757 5.750 5.760 3.500\n53936  0.720       Good     D     SI1 63.100 55.000   2757 5.690 5.750 3.610\n53937  0.700  Very Good     D     SI1 62.800 60.000   2757 5.660 5.680 3.560\n53938  0.860    Premium     H     SI2 61.000 58.000   2757 6.150 6.120 3.740\n53939  0.750      Ideal     D     SI2 62.200 55.000   2757 5.830 5.870 3.640\n\n[53940 rows x 10 columns]",
      "text/html": "<div>\n<style scoped>\n    .dataframe tbody tr th:only-of-type {\n        vertical-align: middle;\n    }\n\n    .dataframe tbody tr th {\n        vertical-align: top;\n    }\n\n    .dataframe thead th {\n        text-align: right;\n    }\n</style>\n<table border=\"1\" class=\"dataframe\">\n  <thead>\n    <tr style=\"text-align: right;\">\n      <th></th>\n      <th>carat</th>\n      <th>cut</th>\n      <th>color</th>\n      <th>clarity</th>\n      <th>depth</th>\n      <th>table</th>\n      <th>price</th>\n      <th>x</th>\n      <th>y</th>\n      <th>z</th>\n    </tr>\n  </thead>\n  <tbody>\n    <tr>\n      <th>0</th>\n      <td>0.230</td>\n      <td>Ideal</td>\n      <td>E</td>\n      <td>SI2</td>\n      <td>61.500</td>\n      <td>55.000</td>\n      <td>326</td>\n      <td>3.950</td>\n      <td>3.980</td>\n      <td>2.430</td>\n    </tr>\n    <tr>\n      <th>1</th>\n      <td>0.210</td>\n      <td>Premium</td>\n      <td>E</td>\n      <td>SI1</td>\n      <td>59.800</td>\n      <td>61.000</td>\n      <td>326</td>\n      <td>3.890</td>\n      <td>3.840</td>\n      <td>2.310</td>\n    </tr>\n    <tr>\n      <th>2</th>\n      <td>0.230</td>\n      <td>Good</td>\n      <td>E</td>\n      <td>VS1</td>\n      <td>56.900</td>\n      <td>65.000</td>\n      <td>327</td>\n      <td>4.050</td>\n      <td>4.070</td>\n      <td>2.310</td>\n    </tr>\n    <tr>\n      <th>3</th>\n      <td>0.290</td>\n      <td>Premium</td>\n      <td>I</td>\n      <td>VS2</td>\n      <td>62.400</td>\n      <td>58.000</td>\n      <td>334</td>\n      <td>4.200</td>\n      <td>4.230</td>\n      <td>2.630</td>\n    </tr>\n    <tr>\n      <th>4</th>\n      <td>0.310</td>\n      <td>Good</td>\n      <td>J</td>\n      <td>SI2</td>\n      <td>63.300</td>\n      <td>58.000</td>\n      <td>335</td>\n      <td>4.340</td>\n      <td>4.350</td>\n      <td>2.750</td>\n    </tr>\n    <tr>\n      <th>...</th>\n      <td>...</td>\n      <td>...</td>\n      <td>...</td>\n      <td>...</td>\n      <td>...</td>\n      <td>...</td>\n      <td>...</td>\n      <td>...</td>\n      <td>...</td>\n      <td>...</td>\n    </tr>\n    <tr>\n      <th>53935</th>\n      <td>0.720</td>\n      <td>Ideal</td>\n      <td>D</td>\n      <td>SI1</td>\n      <td>60.800</td>\n      <td>57.000</td>\n      <td>2757</td>\n      <td>5.750</td>\n      <td>5.760</td>\n      <td>3.500</td>\n    </tr>\n    <tr>\n      <th>53936</th>\n      <td>0.720</td>\n      <td>Good</td>\n      <td>D</td>\n      <td>SI1</td>\n      <td>63.100</td>\n      <td>55.000</td>\n      <td>2757</td>\n      <td>5.690</td>\n      <td>5.750</td>\n      <td>3.610</td>\n    </tr>\n    <tr>\n      <th>53937</th>\n      <td>0.700</td>\n      <td>Very Good</td>\n      <td>D</td>\n      <td>SI1</td>\n      <td>62.800</td>\n      <td>60.000</td>\n      <td>2757</td>\n      <td>5.660</td>\n      <td>5.680</td>\n      <td>3.560</td>\n    </tr>\n    <tr>\n      <th>53938</th>\n      <td>0.860</td>\n      <td>Premium</td>\n      <td>H</td>\n      <td>SI2</td>\n      <td>61.000</td>\n      <td>58.000</td>\n      <td>2757</td>\n      <td>6.150</td>\n      <td>6.120</td>\n      <td>3.740</td>\n    </tr>\n    <tr>\n      <th>53939</th>\n      <td>0.750</td>\n      <td>Ideal</td>\n      <td>D</td>\n      <td>SI2</td>\n      <td>62.200</td>\n      <td>55.000</td>\n      <td>2757</td>\n      <td>5.830</td>\n      <td>5.870</td>\n      <td>3.640</td>\n    </tr>\n  </tbody>\n</table>\n<p>53940 rows × 10 columns</p>\n</div>"
     },
     "metadata": {}
    }
   ]
  },
  {
   "cell_type": "code",
   "metadata": {
    "tags": [],
    "cell_id": "00015-d1604fb3-dd93-4d79-b184-952fe3ee0256",
    "deepnote_to_be_reexecuted": false,
    "source_hash": "5dfed0f5",
    "execution_start": 1625169116765,
    "execution_millis": 28,
    "deepnote_cell_type": "code"
   },
   "source": "df.groupby(['cut']).filter(f_filter)['cut'].unique()",
   "execution_count": null,
   "outputs": [
    {
     "output_type": "execute_result",
     "execution_count": 45,
     "data": {
      "text/plain": "['Ideal', 'Premium', 'Good', 'Very Good', 'Fair']\nCategories (5, object): ['Ideal', 'Premium', 'Good', 'Very Good', 'Fair']"
     },
     "metadata": {}
    }
   ]
  },
  {
   "cell_type": "markdown",
   "source": "# Aplicar Aggregation y groupby",
   "metadata": {
    "tags": [],
    "cell_id": "00016-e9f119aa-fb8a-4d0d-aeb3-000dceccd763",
    "deepnote_cell_type": "markdown"
   }
  },
  {
   "cell_type": "code",
   "source": "import pandas as pd\nimport seaborn as sns\nimport numpy as np\ndf = sns.load_dataset('tips')\ndf",
   "metadata": {
    "tags": [],
    "cell_id": "00017-f4b66211-44dc-46ed-961a-28e156b94661",
    "deepnote_to_be_reexecuted": false,
    "source_hash": "31c19aa6",
    "execution_start": 1625184559962,
    "execution_millis": 1563,
    "deepnote_cell_type": "code"
   },
   "outputs": [
    {
     "output_type": "execute_result",
     "execution_count": 1,
     "data": {
      "application/vnd.deepnote.dataframe.v2+json": {
       "row_count": 244,
       "column_count": 7,
       "columns": [
        {
         "name": "total_bill",
         "dtype": "float64",
         "stats": {
          "unique_count": 229,
          "nan_count": 0,
          "min": "3.07",
          "max": "50.81",
          "histogram": [
           {
            "bin_start": 3.07,
            "bin_end": 7.843999999999999,
            "count": 7
           },
           {
            "bin_start": 7.843999999999999,
            "bin_end": 12.618,
            "count": 42
           },
           {
            "bin_start": 12.618,
            "bin_end": 17.392,
            "count": 68
           },
           {
            "bin_start": 17.392,
            "bin_end": 22.166,
            "count": 51
           },
           {
            "bin_start": 22.166,
            "bin_end": 26.94,
            "count": 31
           },
           {
            "bin_start": 26.94,
            "bin_end": 31.714,
            "count": 19
           },
           {
            "bin_start": 31.714,
            "bin_end": 36.488,
            "count": 12
           },
           {
            "bin_start": 36.488,
            "bin_end": 41.262,
            "count": 7
           },
           {
            "bin_start": 41.262,
            "bin_end": 46.036,
            "count": 3
           },
           {
            "bin_start": 46.036,
            "bin_end": 50.81,
            "count": 4
           }
          ]
         }
        },
        {
         "name": "tip",
         "dtype": "float64",
         "stats": {
          "unique_count": 123,
          "nan_count": 0,
          "min": "1.0",
          "max": "10.0",
          "histogram": [
           {
            "bin_start": 1,
            "bin_end": 1.9,
            "count": 41
           },
           {
            "bin_start": 1.9,
            "bin_end": 2.8,
            "count": 79
           },
           {
            "bin_start": 2.8,
            "bin_end": 3.7,
            "count": 66
           },
           {
            "bin_start": 3.7,
            "bin_end": 4.6,
            "count": 27
           },
           {
            "bin_start": 4.6,
            "bin_end": 5.5,
            "count": 19
           },
           {
            "bin_start": 5.5,
            "bin_end": 6.4,
            "count": 5
           },
           {
            "bin_start": 6.4,
            "bin_end": 7.3,
            "count": 4
           },
           {
            "bin_start": 7.3,
            "bin_end": 8.2,
            "count": 1
           },
           {
            "bin_start": 8.2,
            "bin_end": 9.1,
            "count": 1
           },
           {
            "bin_start": 9.1,
            "bin_end": 10,
            "count": 1
           }
          ]
         }
        },
        {
         "name": "sex",
         "dtype": "category",
         "stats": {
          "unique_count": 2,
          "nan_count": 0,
          "categories": [
           {
            "name": "Male",
            "count": 157
           },
           {
            "name": "Female",
            "count": 87
           }
          ]
         }
        },
        {
         "name": "smoker",
         "dtype": "category",
         "stats": {
          "unique_count": 2,
          "nan_count": 0,
          "categories": [
           {
            "name": "No",
            "count": 151
           },
           {
            "name": "Yes",
            "count": 93
           }
          ]
         }
        },
        {
         "name": "day",
         "dtype": "category",
         "stats": {
          "unique_count": 4,
          "nan_count": 0,
          "categories": [
           {
            "name": "Sat",
            "count": 87
           },
           {
            "name": "Sun",
            "count": 76
           },
           {
            "name": "2 others",
            "count": 81
           }
          ]
         }
        },
        {
         "name": "time",
         "dtype": "category",
         "stats": {
          "unique_count": 2,
          "nan_count": 0,
          "categories": [
           {
            "name": "Dinner",
            "count": 176
           },
           {
            "name": "Lunch",
            "count": 68
           }
          ]
         }
        },
        {
         "name": "size",
         "dtype": "int64",
         "stats": {
          "unique_count": 6,
          "nan_count": 0,
          "min": "1",
          "max": "6",
          "histogram": [
           {
            "bin_start": 1,
            "bin_end": 1.5,
            "count": 4
           },
           {
            "bin_start": 1.5,
            "bin_end": 2,
            "count": 0
           },
           {
            "bin_start": 2,
            "bin_end": 2.5,
            "count": 156
           },
           {
            "bin_start": 2.5,
            "bin_end": 3,
            "count": 0
           },
           {
            "bin_start": 3,
            "bin_end": 3.5,
            "count": 38
           },
           {
            "bin_start": 3.5,
            "bin_end": 4,
            "count": 0
           },
           {
            "bin_start": 4,
            "bin_end": 4.5,
            "count": 37
           },
           {
            "bin_start": 4.5,
            "bin_end": 5,
            "count": 0
           },
           {
            "bin_start": 5,
            "bin_end": 5.5,
            "count": 5
           },
           {
            "bin_start": 5.5,
            "bin_end": 6,
            "count": 4
           }
          ]
         }
        },
        {
         "name": "_deepnote_index_column",
         "dtype": "int64"
        }
       ],
       "rows_top": [
        {
         "total_bill": 16.99,
         "tip": 1.01,
         "sex": "Female",
         "smoker": "No",
         "day": "Sun",
         "time": "Dinner",
         "size": 2,
         "_deepnote_index_column": 0
        },
        {
         "total_bill": 10.34,
         "tip": 1.66,
         "sex": "Male",
         "smoker": "No",
         "day": "Sun",
         "time": "Dinner",
         "size": 3,
         "_deepnote_index_column": 1
        },
        {
         "total_bill": 21.01,
         "tip": 3.5,
         "sex": "Male",
         "smoker": "No",
         "day": "Sun",
         "time": "Dinner",
         "size": 3,
         "_deepnote_index_column": 2
        },
        {
         "total_bill": 23.68,
         "tip": 3.31,
         "sex": "Male",
         "smoker": "No",
         "day": "Sun",
         "time": "Dinner",
         "size": 2,
         "_deepnote_index_column": 3
        },
        {
         "total_bill": 24.59,
         "tip": 3.61,
         "sex": "Female",
         "smoker": "No",
         "day": "Sun",
         "time": "Dinner",
         "size": 4,
         "_deepnote_index_column": 4
        },
        {
         "total_bill": 25.29,
         "tip": 4.71,
         "sex": "Male",
         "smoker": "No",
         "day": "Sun",
         "time": "Dinner",
         "size": 4,
         "_deepnote_index_column": 5
        },
        {
         "total_bill": 8.77,
         "tip": 2,
         "sex": "Male",
         "smoker": "No",
         "day": "Sun",
         "time": "Dinner",
         "size": 2,
         "_deepnote_index_column": 6
        },
        {
         "total_bill": 26.88,
         "tip": 3.12,
         "sex": "Male",
         "smoker": "No",
         "day": "Sun",
         "time": "Dinner",
         "size": 4,
         "_deepnote_index_column": 7
        },
        {
         "total_bill": 15.04,
         "tip": 1.96,
         "sex": "Male",
         "smoker": "No",
         "day": "Sun",
         "time": "Dinner",
         "size": 2,
         "_deepnote_index_column": 8
        },
        {
         "total_bill": 14.78,
         "tip": 3.23,
         "sex": "Male",
         "smoker": "No",
         "day": "Sun",
         "time": "Dinner",
         "size": 2,
         "_deepnote_index_column": 9
        },
        {
         "total_bill": 10.27,
         "tip": 1.71,
         "sex": "Male",
         "smoker": "No",
         "day": "Sun",
         "time": "Dinner",
         "size": 2,
         "_deepnote_index_column": 10
        },
        {
         "total_bill": 35.26,
         "tip": 5,
         "sex": "Female",
         "smoker": "No",
         "day": "Sun",
         "time": "Dinner",
         "size": 4,
         "_deepnote_index_column": 11
        },
        {
         "total_bill": 15.42,
         "tip": 1.57,
         "sex": "Male",
         "smoker": "No",
         "day": "Sun",
         "time": "Dinner",
         "size": 2,
         "_deepnote_index_column": 12
        },
        {
         "total_bill": 18.43,
         "tip": 3,
         "sex": "Male",
         "smoker": "No",
         "day": "Sun",
         "time": "Dinner",
         "size": 4,
         "_deepnote_index_column": 13
        },
        {
         "total_bill": 14.83,
         "tip": 3.02,
         "sex": "Female",
         "smoker": "No",
         "day": "Sun",
         "time": "Dinner",
         "size": 2,
         "_deepnote_index_column": 14
        },
        {
         "total_bill": 21.58,
         "tip": 3.92,
         "sex": "Male",
         "smoker": "No",
         "day": "Sun",
         "time": "Dinner",
         "size": 2,
         "_deepnote_index_column": 15
        },
        {
         "total_bill": 10.33,
         "tip": 1.67,
         "sex": "Female",
         "smoker": "No",
         "day": "Sun",
         "time": "Dinner",
         "size": 3,
         "_deepnote_index_column": 16
        },
        {
         "total_bill": 16.29,
         "tip": 3.71,
         "sex": "Male",
         "smoker": "No",
         "day": "Sun",
         "time": "Dinner",
         "size": 3,
         "_deepnote_index_column": 17
        },
        {
         "total_bill": 16.97,
         "tip": 3.5,
         "sex": "Female",
         "smoker": "No",
         "day": "Sun",
         "time": "Dinner",
         "size": 3,
         "_deepnote_index_column": 18
        },
        {
         "total_bill": 20.65,
         "tip": 3.35,
         "sex": "Male",
         "smoker": "No",
         "day": "Sat",
         "time": "Dinner",
         "size": 3,
         "_deepnote_index_column": 19
        },
        {
         "total_bill": 17.92,
         "tip": 4.08,
         "sex": "Male",
         "smoker": "No",
         "day": "Sat",
         "time": "Dinner",
         "size": 2,
         "_deepnote_index_column": 20
        },
        {
         "total_bill": 20.29,
         "tip": 2.75,
         "sex": "Female",
         "smoker": "No",
         "day": "Sat",
         "time": "Dinner",
         "size": 2,
         "_deepnote_index_column": 21
        },
        {
         "total_bill": 15.77,
         "tip": 2.23,
         "sex": "Female",
         "smoker": "No",
         "day": "Sat",
         "time": "Dinner",
         "size": 2,
         "_deepnote_index_column": 22
        },
        {
         "total_bill": 39.42,
         "tip": 7.58,
         "sex": "Male",
         "smoker": "No",
         "day": "Sat",
         "time": "Dinner",
         "size": 4,
         "_deepnote_index_column": 23
        },
        {
         "total_bill": 19.82,
         "tip": 3.18,
         "sex": "Male",
         "smoker": "No",
         "day": "Sat",
         "time": "Dinner",
         "size": 2,
         "_deepnote_index_column": 24
        },
        {
         "total_bill": 17.81,
         "tip": 2.34,
         "sex": "Male",
         "smoker": "No",
         "day": "Sat",
         "time": "Dinner",
         "size": 4,
         "_deepnote_index_column": 25
        },
        {
         "total_bill": 13.37,
         "tip": 2,
         "sex": "Male",
         "smoker": "No",
         "day": "Sat",
         "time": "Dinner",
         "size": 2,
         "_deepnote_index_column": 26
        },
        {
         "total_bill": 12.69,
         "tip": 2,
         "sex": "Male",
         "smoker": "No",
         "day": "Sat",
         "time": "Dinner",
         "size": 2,
         "_deepnote_index_column": 27
        },
        {
         "total_bill": 21.7,
         "tip": 4.3,
         "sex": "Male",
         "smoker": "No",
         "day": "Sat",
         "time": "Dinner",
         "size": 2,
         "_deepnote_index_column": 28
        },
        {
         "total_bill": 19.65,
         "tip": 3,
         "sex": "Female",
         "smoker": "No",
         "day": "Sat",
         "time": "Dinner",
         "size": 2,
         "_deepnote_index_column": 29
        },
        {
         "total_bill": 9.55,
         "tip": 1.45,
         "sex": "Male",
         "smoker": "No",
         "day": "Sat",
         "time": "Dinner",
         "size": 2,
         "_deepnote_index_column": 30
        },
        {
         "total_bill": 18.35,
         "tip": 2.5,
         "sex": "Male",
         "smoker": "No",
         "day": "Sat",
         "time": "Dinner",
         "size": 4,
         "_deepnote_index_column": 31
        },
        {
         "total_bill": 15.06,
         "tip": 3,
         "sex": "Female",
         "smoker": "No",
         "day": "Sat",
         "time": "Dinner",
         "size": 2,
         "_deepnote_index_column": 32
        },
        {
         "total_bill": 20.69,
         "tip": 2.45,
         "sex": "Female",
         "smoker": "No",
         "day": "Sat",
         "time": "Dinner",
         "size": 4,
         "_deepnote_index_column": 33
        },
        {
         "total_bill": 17.78,
         "tip": 3.27,
         "sex": "Male",
         "smoker": "No",
         "day": "Sat",
         "time": "Dinner",
         "size": 2,
         "_deepnote_index_column": 34
        },
        {
         "total_bill": 24.06,
         "tip": 3.6,
         "sex": "Male",
         "smoker": "No",
         "day": "Sat",
         "time": "Dinner",
         "size": 3,
         "_deepnote_index_column": 35
        },
        {
         "total_bill": 16.31,
         "tip": 2,
         "sex": "Male",
         "smoker": "No",
         "day": "Sat",
         "time": "Dinner",
         "size": 3,
         "_deepnote_index_column": 36
        },
        {
         "total_bill": 16.93,
         "tip": 3.07,
         "sex": "Female",
         "smoker": "No",
         "day": "Sat",
         "time": "Dinner",
         "size": 3,
         "_deepnote_index_column": 37
        },
        {
         "total_bill": 18.69,
         "tip": 2.31,
         "sex": "Male",
         "smoker": "No",
         "day": "Sat",
         "time": "Dinner",
         "size": 3,
         "_deepnote_index_column": 38
        },
        {
         "total_bill": 31.27,
         "tip": 5,
         "sex": "Male",
         "smoker": "No",
         "day": "Sat",
         "time": "Dinner",
         "size": 3,
         "_deepnote_index_column": 39
        },
        {
         "total_bill": 16.04,
         "tip": 2.24,
         "sex": "Male",
         "smoker": "No",
         "day": "Sat",
         "time": "Dinner",
         "size": 3,
         "_deepnote_index_column": 40
        },
        {
         "total_bill": 17.46,
         "tip": 2.54,
         "sex": "Male",
         "smoker": "No",
         "day": "Sun",
         "time": "Dinner",
         "size": 2,
         "_deepnote_index_column": 41
        },
        {
         "total_bill": 13.94,
         "tip": 3.06,
         "sex": "Male",
         "smoker": "No",
         "day": "Sun",
         "time": "Dinner",
         "size": 2,
         "_deepnote_index_column": 42
        },
        {
         "total_bill": 9.68,
         "tip": 1.32,
         "sex": "Male",
         "smoker": "No",
         "day": "Sun",
         "time": "Dinner",
         "size": 2,
         "_deepnote_index_column": 43
        },
        {
         "total_bill": 30.4,
         "tip": 5.6,
         "sex": "Male",
         "smoker": "No",
         "day": "Sun",
         "time": "Dinner",
         "size": 4,
         "_deepnote_index_column": 44
        },
        {
         "total_bill": 18.29,
         "tip": 3,
         "sex": "Male",
         "smoker": "No",
         "day": "Sun",
         "time": "Dinner",
         "size": 2,
         "_deepnote_index_column": 45
        },
        {
         "total_bill": 22.23,
         "tip": 5,
         "sex": "Male",
         "smoker": "No",
         "day": "Sun",
         "time": "Dinner",
         "size": 2,
         "_deepnote_index_column": 46
        },
        {
         "total_bill": 32.4,
         "tip": 6,
         "sex": "Male",
         "smoker": "No",
         "day": "Sun",
         "time": "Dinner",
         "size": 4,
         "_deepnote_index_column": 47
        },
        {
         "total_bill": 28.55,
         "tip": 2.05,
         "sex": "Male",
         "smoker": "No",
         "day": "Sun",
         "time": "Dinner",
         "size": 3,
         "_deepnote_index_column": 48
        },
        {
         "total_bill": 18.04,
         "tip": 3,
         "sex": "Male",
         "smoker": "No",
         "day": "Sun",
         "time": "Dinner",
         "size": 2,
         "_deepnote_index_column": 49
        },
        {
         "total_bill": 12.54,
         "tip": 2.5,
         "sex": "Male",
         "smoker": "No",
         "day": "Sun",
         "time": "Dinner",
         "size": 2,
         "_deepnote_index_column": 50
        },
        {
         "total_bill": 10.29,
         "tip": 2.6,
         "sex": "Female",
         "smoker": "No",
         "day": "Sun",
         "time": "Dinner",
         "size": 2,
         "_deepnote_index_column": 51
        },
        {
         "total_bill": 34.81,
         "tip": 5.2,
         "sex": "Female",
         "smoker": "No",
         "day": "Sun",
         "time": "Dinner",
         "size": 4,
         "_deepnote_index_column": 52
        },
        {
         "total_bill": 9.94,
         "tip": 1.56,
         "sex": "Male",
         "smoker": "No",
         "day": "Sun",
         "time": "Dinner",
         "size": 2,
         "_deepnote_index_column": 53
        },
        {
         "total_bill": 25.56,
         "tip": 4.34,
         "sex": "Male",
         "smoker": "No",
         "day": "Sun",
         "time": "Dinner",
         "size": 4,
         "_deepnote_index_column": 54
        },
        {
         "total_bill": 19.49,
         "tip": 3.51,
         "sex": "Male",
         "smoker": "No",
         "day": "Sun",
         "time": "Dinner",
         "size": 2,
         "_deepnote_index_column": 55
        },
        {
         "total_bill": 38.01,
         "tip": 3,
         "sex": "Male",
         "smoker": "Yes",
         "day": "Sat",
         "time": "Dinner",
         "size": 4,
         "_deepnote_index_column": 56
        },
        {
         "total_bill": 26.41,
         "tip": 1.5,
         "sex": "Female",
         "smoker": "No",
         "day": "Sat",
         "time": "Dinner",
         "size": 2,
         "_deepnote_index_column": 57
        },
        {
         "total_bill": 11.24,
         "tip": 1.76,
         "sex": "Male",
         "smoker": "Yes",
         "day": "Sat",
         "time": "Dinner",
         "size": 2,
         "_deepnote_index_column": 58
        },
        {
         "total_bill": 48.27,
         "tip": 6.73,
         "sex": "Male",
         "smoker": "No",
         "day": "Sat",
         "time": "Dinner",
         "size": 4,
         "_deepnote_index_column": 59
        },
        {
         "total_bill": 20.29,
         "tip": 3.21,
         "sex": "Male",
         "smoker": "Yes",
         "day": "Sat",
         "time": "Dinner",
         "size": 2,
         "_deepnote_index_column": 60
        },
        {
         "total_bill": 13.81,
         "tip": 2,
         "sex": "Male",
         "smoker": "Yes",
         "day": "Sat",
         "time": "Dinner",
         "size": 2,
         "_deepnote_index_column": 61
        },
        {
         "total_bill": 11.02,
         "tip": 1.98,
         "sex": "Male",
         "smoker": "Yes",
         "day": "Sat",
         "time": "Dinner",
         "size": 2,
         "_deepnote_index_column": 62
        },
        {
         "total_bill": 18.29,
         "tip": 3.76,
         "sex": "Male",
         "smoker": "Yes",
         "day": "Sat",
         "time": "Dinner",
         "size": 4,
         "_deepnote_index_column": 63
        },
        {
         "total_bill": 17.59,
         "tip": 2.64,
         "sex": "Male",
         "smoker": "No",
         "day": "Sat",
         "time": "Dinner",
         "size": 3,
         "_deepnote_index_column": 64
        },
        {
         "total_bill": 20.08,
         "tip": 3.15,
         "sex": "Male",
         "smoker": "No",
         "day": "Sat",
         "time": "Dinner",
         "size": 3,
         "_deepnote_index_column": 65
        },
        {
         "total_bill": 16.45,
         "tip": 2.47,
         "sex": "Female",
         "smoker": "No",
         "day": "Sat",
         "time": "Dinner",
         "size": 2,
         "_deepnote_index_column": 66
        },
        {
         "total_bill": 3.07,
         "tip": 1,
         "sex": "Female",
         "smoker": "Yes",
         "day": "Sat",
         "time": "Dinner",
         "size": 1,
         "_deepnote_index_column": 67
        },
        {
         "total_bill": 20.23,
         "tip": 2.01,
         "sex": "Male",
         "smoker": "No",
         "day": "Sat",
         "time": "Dinner",
         "size": 2,
         "_deepnote_index_column": 68
        },
        {
         "total_bill": 15.01,
         "tip": 2.09,
         "sex": "Male",
         "smoker": "Yes",
         "day": "Sat",
         "time": "Dinner",
         "size": 2,
         "_deepnote_index_column": 69
        },
        {
         "total_bill": 12.02,
         "tip": 1.97,
         "sex": "Male",
         "smoker": "No",
         "day": "Sat",
         "time": "Dinner",
         "size": 2,
         "_deepnote_index_column": 70
        }
       ],
       "rows_bottom": [
        {
         "total_bill": 31.85,
         "tip": 3.18,
         "sex": "Male",
         "smoker": "Yes",
         "day": "Sun",
         "time": "Dinner",
         "size": 2,
         "_deepnote_index_column": 173
        },
        {
         "total_bill": 16.82,
         "tip": 4,
         "sex": "Male",
         "smoker": "Yes",
         "day": "Sun",
         "time": "Dinner",
         "size": 2,
         "_deepnote_index_column": 174
        },
        {
         "total_bill": 32.9,
         "tip": 3.11,
         "sex": "Male",
         "smoker": "Yes",
         "day": "Sun",
         "time": "Dinner",
         "size": 2,
         "_deepnote_index_column": 175
        },
        {
         "total_bill": 17.89,
         "tip": 2,
         "sex": "Male",
         "smoker": "Yes",
         "day": "Sun",
         "time": "Dinner",
         "size": 2,
         "_deepnote_index_column": 176
        },
        {
         "total_bill": 14.48,
         "tip": 2,
         "sex": "Male",
         "smoker": "Yes",
         "day": "Sun",
         "time": "Dinner",
         "size": 2,
         "_deepnote_index_column": 177
        },
        {
         "total_bill": 9.6,
         "tip": 4,
         "sex": "Female",
         "smoker": "Yes",
         "day": "Sun",
         "time": "Dinner",
         "size": 2,
         "_deepnote_index_column": 178
        },
        {
         "total_bill": 34.63,
         "tip": 3.55,
         "sex": "Male",
         "smoker": "Yes",
         "day": "Sun",
         "time": "Dinner",
         "size": 2,
         "_deepnote_index_column": 179
        },
        {
         "total_bill": 34.65,
         "tip": 3.68,
         "sex": "Male",
         "smoker": "Yes",
         "day": "Sun",
         "time": "Dinner",
         "size": 4,
         "_deepnote_index_column": 180
        },
        {
         "total_bill": 23.33,
         "tip": 5.65,
         "sex": "Male",
         "smoker": "Yes",
         "day": "Sun",
         "time": "Dinner",
         "size": 2,
         "_deepnote_index_column": 181
        },
        {
         "total_bill": 45.35,
         "tip": 3.5,
         "sex": "Male",
         "smoker": "Yes",
         "day": "Sun",
         "time": "Dinner",
         "size": 3,
         "_deepnote_index_column": 182
        },
        {
         "total_bill": 23.17,
         "tip": 6.5,
         "sex": "Male",
         "smoker": "Yes",
         "day": "Sun",
         "time": "Dinner",
         "size": 4,
         "_deepnote_index_column": 183
        },
        {
         "total_bill": 40.55,
         "tip": 3,
         "sex": "Male",
         "smoker": "Yes",
         "day": "Sun",
         "time": "Dinner",
         "size": 2,
         "_deepnote_index_column": 184
        },
        {
         "total_bill": 20.69,
         "tip": 5,
         "sex": "Male",
         "smoker": "No",
         "day": "Sun",
         "time": "Dinner",
         "size": 5,
         "_deepnote_index_column": 185
        },
        {
         "total_bill": 20.9,
         "tip": 3.5,
         "sex": "Female",
         "smoker": "Yes",
         "day": "Sun",
         "time": "Dinner",
         "size": 3,
         "_deepnote_index_column": 186
        },
        {
         "total_bill": 30.46,
         "tip": 2,
         "sex": "Male",
         "smoker": "Yes",
         "day": "Sun",
         "time": "Dinner",
         "size": 5,
         "_deepnote_index_column": 187
        },
        {
         "total_bill": 18.15,
         "tip": 3.5,
         "sex": "Female",
         "smoker": "Yes",
         "day": "Sun",
         "time": "Dinner",
         "size": 3,
         "_deepnote_index_column": 188
        },
        {
         "total_bill": 23.1,
         "tip": 4,
         "sex": "Male",
         "smoker": "Yes",
         "day": "Sun",
         "time": "Dinner",
         "size": 3,
         "_deepnote_index_column": 189
        },
        {
         "total_bill": 15.69,
         "tip": 1.5,
         "sex": "Male",
         "smoker": "Yes",
         "day": "Sun",
         "time": "Dinner",
         "size": 2,
         "_deepnote_index_column": 190
        },
        {
         "total_bill": 19.81,
         "tip": 4.19,
         "sex": "Female",
         "smoker": "Yes",
         "day": "Thur",
         "time": "Lunch",
         "size": 2,
         "_deepnote_index_column": 191
        },
        {
         "total_bill": 28.44,
         "tip": 2.56,
         "sex": "Male",
         "smoker": "Yes",
         "day": "Thur",
         "time": "Lunch",
         "size": 2,
         "_deepnote_index_column": 192
        },
        {
         "total_bill": 15.48,
         "tip": 2.02,
         "sex": "Male",
         "smoker": "Yes",
         "day": "Thur",
         "time": "Lunch",
         "size": 2,
         "_deepnote_index_column": 193
        },
        {
         "total_bill": 16.58,
         "tip": 4,
         "sex": "Male",
         "smoker": "Yes",
         "day": "Thur",
         "time": "Lunch",
         "size": 2,
         "_deepnote_index_column": 194
        },
        {
         "total_bill": 7.56,
         "tip": 1.44,
         "sex": "Male",
         "smoker": "No",
         "day": "Thur",
         "time": "Lunch",
         "size": 2,
         "_deepnote_index_column": 195
        },
        {
         "total_bill": 10.34,
         "tip": 2,
         "sex": "Male",
         "smoker": "Yes",
         "day": "Thur",
         "time": "Lunch",
         "size": 2,
         "_deepnote_index_column": 196
        },
        {
         "total_bill": 43.11,
         "tip": 5,
         "sex": "Female",
         "smoker": "Yes",
         "day": "Thur",
         "time": "Lunch",
         "size": 4,
         "_deepnote_index_column": 197
        },
        {
         "total_bill": 13,
         "tip": 2,
         "sex": "Female",
         "smoker": "Yes",
         "day": "Thur",
         "time": "Lunch",
         "size": 2,
         "_deepnote_index_column": 198
        },
        {
         "total_bill": 13.51,
         "tip": 2,
         "sex": "Male",
         "smoker": "Yes",
         "day": "Thur",
         "time": "Lunch",
         "size": 2,
         "_deepnote_index_column": 199
        },
        {
         "total_bill": 18.71,
         "tip": 4,
         "sex": "Male",
         "smoker": "Yes",
         "day": "Thur",
         "time": "Lunch",
         "size": 3,
         "_deepnote_index_column": 200
        },
        {
         "total_bill": 12.74,
         "tip": 2.01,
         "sex": "Female",
         "smoker": "Yes",
         "day": "Thur",
         "time": "Lunch",
         "size": 2,
         "_deepnote_index_column": 201
        },
        {
         "total_bill": 13,
         "tip": 2,
         "sex": "Female",
         "smoker": "Yes",
         "day": "Thur",
         "time": "Lunch",
         "size": 2,
         "_deepnote_index_column": 202
        },
        {
         "total_bill": 16.4,
         "tip": 2.5,
         "sex": "Female",
         "smoker": "Yes",
         "day": "Thur",
         "time": "Lunch",
         "size": 2,
         "_deepnote_index_column": 203
        },
        {
         "total_bill": 20.53,
         "tip": 4,
         "sex": "Male",
         "smoker": "Yes",
         "day": "Thur",
         "time": "Lunch",
         "size": 4,
         "_deepnote_index_column": 204
        },
        {
         "total_bill": 16.47,
         "tip": 3.23,
         "sex": "Female",
         "smoker": "Yes",
         "day": "Thur",
         "time": "Lunch",
         "size": 3,
         "_deepnote_index_column": 205
        },
        {
         "total_bill": 26.59,
         "tip": 3.41,
         "sex": "Male",
         "smoker": "Yes",
         "day": "Sat",
         "time": "Dinner",
         "size": 3,
         "_deepnote_index_column": 206
        },
        {
         "total_bill": 38.73,
         "tip": 3,
         "sex": "Male",
         "smoker": "Yes",
         "day": "Sat",
         "time": "Dinner",
         "size": 4,
         "_deepnote_index_column": 207
        },
        {
         "total_bill": 24.27,
         "tip": 2.03,
         "sex": "Male",
         "smoker": "Yes",
         "day": "Sat",
         "time": "Dinner",
         "size": 2,
         "_deepnote_index_column": 208
        },
        {
         "total_bill": 12.76,
         "tip": 2.23,
         "sex": "Female",
         "smoker": "Yes",
         "day": "Sat",
         "time": "Dinner",
         "size": 2,
         "_deepnote_index_column": 209
        },
        {
         "total_bill": 30.06,
         "tip": 2,
         "sex": "Male",
         "smoker": "Yes",
         "day": "Sat",
         "time": "Dinner",
         "size": 3,
         "_deepnote_index_column": 210
        },
        {
         "total_bill": 25.89,
         "tip": 5.16,
         "sex": "Male",
         "smoker": "Yes",
         "day": "Sat",
         "time": "Dinner",
         "size": 4,
         "_deepnote_index_column": 211
        },
        {
         "total_bill": 48.33,
         "tip": 9,
         "sex": "Male",
         "smoker": "No",
         "day": "Sat",
         "time": "Dinner",
         "size": 4,
         "_deepnote_index_column": 212
        },
        {
         "total_bill": 13.27,
         "tip": 2.5,
         "sex": "Female",
         "smoker": "Yes",
         "day": "Sat",
         "time": "Dinner",
         "size": 2,
         "_deepnote_index_column": 213
        },
        {
         "total_bill": 28.17,
         "tip": 6.5,
         "sex": "Female",
         "smoker": "Yes",
         "day": "Sat",
         "time": "Dinner",
         "size": 3,
         "_deepnote_index_column": 214
        },
        {
         "total_bill": 12.9,
         "tip": 1.1,
         "sex": "Female",
         "smoker": "Yes",
         "day": "Sat",
         "time": "Dinner",
         "size": 2,
         "_deepnote_index_column": 215
        },
        {
         "total_bill": 28.15,
         "tip": 3,
         "sex": "Male",
         "smoker": "Yes",
         "day": "Sat",
         "time": "Dinner",
         "size": 5,
         "_deepnote_index_column": 216
        },
        {
         "total_bill": 11.59,
         "tip": 1.5,
         "sex": "Male",
         "smoker": "Yes",
         "day": "Sat",
         "time": "Dinner",
         "size": 2,
         "_deepnote_index_column": 217
        },
        {
         "total_bill": 7.74,
         "tip": 1.44,
         "sex": "Male",
         "smoker": "Yes",
         "day": "Sat",
         "time": "Dinner",
         "size": 2,
         "_deepnote_index_column": 218
        },
        {
         "total_bill": 30.14,
         "tip": 3.09,
         "sex": "Female",
         "smoker": "Yes",
         "day": "Sat",
         "time": "Dinner",
         "size": 4,
         "_deepnote_index_column": 219
        },
        {
         "total_bill": 12.16,
         "tip": 2.2,
         "sex": "Male",
         "smoker": "Yes",
         "day": "Fri",
         "time": "Lunch",
         "size": 2,
         "_deepnote_index_column": 220
        },
        {
         "total_bill": 13.42,
         "tip": 3.48,
         "sex": "Female",
         "smoker": "Yes",
         "day": "Fri",
         "time": "Lunch",
         "size": 2,
         "_deepnote_index_column": 221
        },
        {
         "total_bill": 8.58,
         "tip": 1.92,
         "sex": "Male",
         "smoker": "Yes",
         "day": "Fri",
         "time": "Lunch",
         "size": 1,
         "_deepnote_index_column": 222
        },
        {
         "total_bill": 15.98,
         "tip": 3,
         "sex": "Female",
         "smoker": "No",
         "day": "Fri",
         "time": "Lunch",
         "size": 3,
         "_deepnote_index_column": 223
        },
        {
         "total_bill": 13.42,
         "tip": 1.58,
         "sex": "Male",
         "smoker": "Yes",
         "day": "Fri",
         "time": "Lunch",
         "size": 2,
         "_deepnote_index_column": 224
        },
        {
         "total_bill": 16.27,
         "tip": 2.5,
         "sex": "Female",
         "smoker": "Yes",
         "day": "Fri",
         "time": "Lunch",
         "size": 2,
         "_deepnote_index_column": 225
        },
        {
         "total_bill": 10.09,
         "tip": 2,
         "sex": "Female",
         "smoker": "Yes",
         "day": "Fri",
         "time": "Lunch",
         "size": 2,
         "_deepnote_index_column": 226
        },
        {
         "total_bill": 20.45,
         "tip": 3,
         "sex": "Male",
         "smoker": "No",
         "day": "Sat",
         "time": "Dinner",
         "size": 4,
         "_deepnote_index_column": 227
        },
        {
         "total_bill": 13.28,
         "tip": 2.72,
         "sex": "Male",
         "smoker": "No",
         "day": "Sat",
         "time": "Dinner",
         "size": 2,
         "_deepnote_index_column": 228
        },
        {
         "total_bill": 22.12,
         "tip": 2.88,
         "sex": "Female",
         "smoker": "Yes",
         "day": "Sat",
         "time": "Dinner",
         "size": 2,
         "_deepnote_index_column": 229
        },
        {
         "total_bill": 24.01,
         "tip": 2,
         "sex": "Male",
         "smoker": "Yes",
         "day": "Sat",
         "time": "Dinner",
         "size": 4,
         "_deepnote_index_column": 230
        },
        {
         "total_bill": 15.69,
         "tip": 3,
         "sex": "Male",
         "smoker": "Yes",
         "day": "Sat",
         "time": "Dinner",
         "size": 3,
         "_deepnote_index_column": 231
        },
        {
         "total_bill": 11.61,
         "tip": 3.39,
         "sex": "Male",
         "smoker": "No",
         "day": "Sat",
         "time": "Dinner",
         "size": 2,
         "_deepnote_index_column": 232
        },
        {
         "total_bill": 10.77,
         "tip": 1.47,
         "sex": "Male",
         "smoker": "No",
         "day": "Sat",
         "time": "Dinner",
         "size": 2,
         "_deepnote_index_column": 233
        },
        {
         "total_bill": 15.53,
         "tip": 3,
         "sex": "Male",
         "smoker": "Yes",
         "day": "Sat",
         "time": "Dinner",
         "size": 2,
         "_deepnote_index_column": 234
        },
        {
         "total_bill": 10.07,
         "tip": 1.25,
         "sex": "Male",
         "smoker": "No",
         "day": "Sat",
         "time": "Dinner",
         "size": 2,
         "_deepnote_index_column": 235
        },
        {
         "total_bill": 12.6,
         "tip": 1,
         "sex": "Male",
         "smoker": "Yes",
         "day": "Sat",
         "time": "Dinner",
         "size": 2,
         "_deepnote_index_column": 236
        },
        {
         "total_bill": 32.83,
         "tip": 1.17,
         "sex": "Male",
         "smoker": "Yes",
         "day": "Sat",
         "time": "Dinner",
         "size": 2,
         "_deepnote_index_column": 237
        },
        {
         "total_bill": 35.83,
         "tip": 4.67,
         "sex": "Female",
         "smoker": "No",
         "day": "Sat",
         "time": "Dinner",
         "size": 3,
         "_deepnote_index_column": 238
        },
        {
         "total_bill": 29.03,
         "tip": 5.92,
         "sex": "Male",
         "smoker": "No",
         "day": "Sat",
         "time": "Dinner",
         "size": 3,
         "_deepnote_index_column": 239
        },
        {
         "total_bill": 27.18,
         "tip": 2,
         "sex": "Female",
         "smoker": "Yes",
         "day": "Sat",
         "time": "Dinner",
         "size": 2,
         "_deepnote_index_column": 240
        },
        {
         "total_bill": 22.67,
         "tip": 2,
         "sex": "Male",
         "smoker": "Yes",
         "day": "Sat",
         "time": "Dinner",
         "size": 2,
         "_deepnote_index_column": 241
        },
        {
         "total_bill": 17.82,
         "tip": 1.75,
         "sex": "Male",
         "smoker": "No",
         "day": "Sat",
         "time": "Dinner",
         "size": 2,
         "_deepnote_index_column": 242
        },
        {
         "total_bill": 18.78,
         "tip": 3,
         "sex": "Female",
         "smoker": "No",
         "day": "Thur",
         "time": "Dinner",
         "size": 2,
         "_deepnote_index_column": 243
        }
       ]
      },
      "text/plain": "     total_bill   tip     sex smoker   day    time  size\n0         16.99  1.01  Female     No   Sun  Dinner     2\n1         10.34  1.66    Male     No   Sun  Dinner     3\n2         21.01  3.50    Male     No   Sun  Dinner     3\n3         23.68  3.31    Male     No   Sun  Dinner     2\n4         24.59  3.61  Female     No   Sun  Dinner     4\n..          ...   ...     ...    ...   ...     ...   ...\n239       29.03  5.92    Male     No   Sat  Dinner     3\n240       27.18  2.00  Female    Yes   Sat  Dinner     2\n241       22.67  2.00    Male    Yes   Sat  Dinner     2\n242       17.82  1.75    Male     No   Sat  Dinner     2\n243       18.78  3.00  Female     No  Thur  Dinner     2\n\n[244 rows x 7 columns]",
      "text/html": "<div>\n<style scoped>\n    .dataframe tbody tr th:only-of-type {\n        vertical-align: middle;\n    }\n\n    .dataframe tbody tr th {\n        vertical-align: top;\n    }\n\n    .dataframe thead th {\n        text-align: right;\n    }\n</style>\n<table border=\"1\" class=\"dataframe\">\n  <thead>\n    <tr style=\"text-align: right;\">\n      <th></th>\n      <th>total_bill</th>\n      <th>tip</th>\n      <th>sex</th>\n      <th>smoker</th>\n      <th>day</th>\n      <th>time</th>\n      <th>size</th>\n    </tr>\n  </thead>\n  <tbody>\n    <tr>\n      <th>0</th>\n      <td>16.99</td>\n      <td>1.01</td>\n      <td>Female</td>\n      <td>No</td>\n      <td>Sun</td>\n      <td>Dinner</td>\n      <td>2</td>\n    </tr>\n    <tr>\n      <th>1</th>\n      <td>10.34</td>\n      <td>1.66</td>\n      <td>Male</td>\n      <td>No</td>\n      <td>Sun</td>\n      <td>Dinner</td>\n      <td>3</td>\n    </tr>\n    <tr>\n      <th>2</th>\n      <td>21.01</td>\n      <td>3.50</td>\n      <td>Male</td>\n      <td>No</td>\n      <td>Sun</td>\n      <td>Dinner</td>\n      <td>3</td>\n    </tr>\n    <tr>\n      <th>3</th>\n      <td>23.68</td>\n      <td>3.31</td>\n      <td>Male</td>\n      <td>No</td>\n      <td>Sun</td>\n      <td>Dinner</td>\n      <td>2</td>\n    </tr>\n    <tr>\n      <th>4</th>\n      <td>24.59</td>\n      <td>3.61</td>\n      <td>Female</td>\n      <td>No</td>\n      <td>Sun</td>\n      <td>Dinner</td>\n      <td>4</td>\n    </tr>\n    <tr>\n      <th>...</th>\n      <td>...</td>\n      <td>...</td>\n      <td>...</td>\n      <td>...</td>\n      <td>...</td>\n      <td>...</td>\n      <td>...</td>\n    </tr>\n    <tr>\n      <th>239</th>\n      <td>29.03</td>\n      <td>5.92</td>\n      <td>Male</td>\n      <td>No</td>\n      <td>Sat</td>\n      <td>Dinner</td>\n      <td>3</td>\n    </tr>\n    <tr>\n      <th>240</th>\n      <td>27.18</td>\n      <td>2.00</td>\n      <td>Female</td>\n      <td>Yes</td>\n      <td>Sat</td>\n      <td>Dinner</td>\n      <td>2</td>\n    </tr>\n    <tr>\n      <th>241</th>\n      <td>22.67</td>\n      <td>2.00</td>\n      <td>Male</td>\n      <td>Yes</td>\n      <td>Sat</td>\n      <td>Dinner</td>\n      <td>2</td>\n    </tr>\n    <tr>\n      <th>242</th>\n      <td>17.82</td>\n      <td>1.75</td>\n      <td>Male</td>\n      <td>No</td>\n      <td>Sat</td>\n      <td>Dinner</td>\n      <td>2</td>\n    </tr>\n    <tr>\n      <th>243</th>\n      <td>18.78</td>\n      <td>3.00</td>\n      <td>Female</td>\n      <td>No</td>\n      <td>Thur</td>\n      <td>Dinner</td>\n      <td>2</td>\n    </tr>\n  </tbody>\n</table>\n<p>244 rows × 7 columns</p>\n</div>"
     },
     "metadata": {}
    }
   ],
   "execution_count": 1
  },
  {
   "cell_type": "code",
   "source": "df.describe(include='all')",
   "metadata": {
    "tags": [],
    "cell_id": "00018-3707e6c1-46bd-47f4-8585-c72efc106371",
    "deepnote_to_be_reexecuted": false,
    "source_hash": "b1cecf2d",
    "execution_start": 1625184562493,
    "execution_millis": 63,
    "deepnote_cell_type": "code"
   },
   "outputs": [
    {
     "output_type": "execute_result",
     "execution_count": 2,
     "data": {
      "application/vnd.deepnote.dataframe.v2+json": {
       "row_count": 11,
       "column_count": 7,
       "columns": [
        {
         "name": "total_bill",
         "dtype": "float64",
         "stats": {
          "unique_count": 8,
          "nan_count": 3,
          "min": "3.07",
          "max": "244.0",
          "histogram": [
           {
            "bin_start": 3.07,
            "bin_end": 27.163,
            "count": 6
           },
           {
            "bin_start": 27.163,
            "bin_end": 51.256,
            "count": 1
           },
           {
            "bin_start": 51.256,
            "bin_end": 75.34899999999999,
            "count": 0
           },
           {
            "bin_start": 75.34899999999999,
            "bin_end": 99.442,
            "count": 0
           },
           {
            "bin_start": 99.442,
            "bin_end": 123.535,
            "count": 0
           },
           {
            "bin_start": 123.535,
            "bin_end": 147.628,
            "count": 0
           },
           {
            "bin_start": 147.628,
            "bin_end": 171.721,
            "count": 0
           },
           {
            "bin_start": 171.721,
            "bin_end": 195.814,
            "count": 0
           },
           {
            "bin_start": 195.814,
            "bin_end": 219.90699999999998,
            "count": 0
           },
           {
            "bin_start": 219.90699999999998,
            "bin_end": 244,
            "count": 1
           }
          ]
         }
        },
        {
         "name": "tip",
         "dtype": "float64",
         "stats": {
          "unique_count": 8,
          "nan_count": 3,
          "min": "1.0",
          "max": "244.0",
          "histogram": [
           {
            "bin_start": 1,
            "bin_end": 25.3,
            "count": 7
           },
           {
            "bin_start": 25.3,
            "bin_end": 49.6,
            "count": 0
           },
           {
            "bin_start": 49.6,
            "bin_end": 73.9,
            "count": 0
           },
           {
            "bin_start": 73.9,
            "bin_end": 98.2,
            "count": 0
           },
           {
            "bin_start": 98.2,
            "bin_end": 122.5,
            "count": 0
           },
           {
            "bin_start": 122.5,
            "bin_end": 146.8,
            "count": 0
           },
           {
            "bin_start": 146.8,
            "bin_end": 171.1,
            "count": 0
           },
           {
            "bin_start": 171.1,
            "bin_end": 195.4,
            "count": 0
           },
           {
            "bin_start": 195.4,
            "bin_end": 219.70000000000002,
            "count": 0
           },
           {
            "bin_start": 219.70000000000002,
            "bin_end": 244,
            "count": 1
           }
          ]
         }
        },
        {
         "name": "sex",
         "dtype": "object",
         "stats": {
          "unique_count": 4,
          "nan_count": 7,
          "categories": [
           {
            "name": "244",
            "count": 1
           },
           {
            "name": "3 others",
            "count": 3
           },
           {
            "name": "Missing",
            "count": 7
           }
          ]
         }
        },
        {
         "name": "smoker",
         "dtype": "object",
         "stats": {
          "unique_count": 4,
          "nan_count": 7,
          "categories": [
           {
            "name": "244",
            "count": 1
           },
           {
            "name": "3 others",
            "count": 3
           },
           {
            "name": "Missing",
            "count": 7
           }
          ]
         }
        },
        {
         "name": "day",
         "dtype": "object",
         "stats": {
          "unique_count": 4,
          "nan_count": 7,
          "categories": [
           {
            "name": "244",
            "count": 1
           },
           {
            "name": "3 others",
            "count": 3
           },
           {
            "name": "Missing",
            "count": 7
           }
          ]
         }
        },
        {
         "name": "time",
         "dtype": "object",
         "stats": {
          "unique_count": 4,
          "nan_count": 7,
          "categories": [
           {
            "name": "244",
            "count": 1
           },
           {
            "name": "3 others",
            "count": 3
           },
           {
            "name": "Missing",
            "count": 7
           }
          ]
         }
        },
        {
         "name": "size",
         "dtype": "float64",
         "stats": {
          "unique_count": 7,
          "nan_count": 3,
          "min": "0.9510998047322344",
          "max": "244.0",
          "histogram": [
           {
            "bin_start": 0.9510998047322344,
            "bin_end": 25.25598982425901,
            "count": 7
           },
           {
            "bin_start": 25.25598982425901,
            "bin_end": 49.56087984378579,
            "count": 0
           },
           {
            "bin_start": 49.56087984378579,
            "bin_end": 73.86576986331256,
            "count": 0
           },
           {
            "bin_start": 73.86576986331256,
            "bin_end": 98.17065988283935,
            "count": 0
           },
           {
            "bin_start": 98.17065988283935,
            "bin_end": 122.47554990236613,
            "count": 0
           },
           {
            "bin_start": 122.47554990236613,
            "bin_end": 146.78043992189288,
            "count": 0
           },
           {
            "bin_start": 146.78043992189288,
            "bin_end": 171.08532994141967,
            "count": 0
           },
           {
            "bin_start": 171.08532994141967,
            "bin_end": 195.39021996094644,
            "count": 0
           },
           {
            "bin_start": 195.39021996094644,
            "bin_end": 219.6951099804732,
            "count": 0
           },
           {
            "bin_start": 219.6951099804732,
            "bin_end": 244,
            "count": 1
           }
          ]
         }
        },
        {
         "name": "_deepnote_index_column",
         "dtype": "object"
        }
       ],
       "rows_top": [
        {
         "total_bill": 244,
         "tip": 244,
         "sex": "244",
         "smoker": "244",
         "day": "244",
         "time": "244",
         "size": 244,
         "_deepnote_index_column": "count"
        },
        {
         "total_bill": "nan",
         "tip": "nan",
         "sex": "2",
         "smoker": "2",
         "day": "4",
         "time": "2",
         "size": "nan",
         "_deepnote_index_column": "unique"
        },
        {
         "total_bill": "nan",
         "tip": "nan",
         "sex": "Male",
         "smoker": "No",
         "day": "Sat",
         "time": "Dinner",
         "size": "nan",
         "_deepnote_index_column": "top"
        },
        {
         "total_bill": "nan",
         "tip": "nan",
         "sex": "157",
         "smoker": "151",
         "day": "87",
         "time": "176",
         "size": "nan",
         "_deepnote_index_column": "freq"
        },
        {
         "total_bill": 19.78594262295082,
         "tip": 2.99827868852459,
         "sex": "nan",
         "smoker": "nan",
         "day": "nan",
         "time": "nan",
         "size": 2.569672131147541,
         "_deepnote_index_column": "mean"
        },
        {
         "total_bill": 8.902411954856856,
         "tip": 1.3836381890011822,
         "sex": "nan",
         "smoker": "nan",
         "day": "nan",
         "time": "nan",
         "size": 0.9510998047322344,
         "_deepnote_index_column": "std"
        },
        {
         "total_bill": 3.07,
         "tip": 1,
         "sex": "nan",
         "smoker": "nan",
         "day": "nan",
         "time": "nan",
         "size": 1,
         "_deepnote_index_column": "min"
        },
        {
         "total_bill": 13.3475,
         "tip": 2,
         "sex": "nan",
         "smoker": "nan",
         "day": "nan",
         "time": "nan",
         "size": 2,
         "_deepnote_index_column": "25%"
        },
        {
         "total_bill": 17.795,
         "tip": 2.9,
         "sex": "nan",
         "smoker": "nan",
         "day": "nan",
         "time": "nan",
         "size": 2,
         "_deepnote_index_column": "50%"
        },
        {
         "total_bill": 24.127499999999998,
         "tip": 3.5624999999999996,
         "sex": "nan",
         "smoker": "nan",
         "day": "nan",
         "time": "nan",
         "size": 3,
         "_deepnote_index_column": "75%"
        },
        {
         "total_bill": 50.81,
         "tip": 10,
         "sex": "nan",
         "smoker": "nan",
         "day": "nan",
         "time": "nan",
         "size": 6,
         "_deepnote_index_column": "max"
        }
       ],
       "rows_bottom": null
      },
      "text/plain": "        total_bill         tip   sex smoker  day    time        size\ncount   244.000000  244.000000   244    244  244     244  244.000000\nunique         NaN         NaN     2      2    4       2         NaN\ntop            NaN         NaN  Male     No  Sat  Dinner         NaN\nfreq           NaN         NaN   157    151   87     176         NaN\nmean     19.785943    2.998279   NaN    NaN  NaN     NaN    2.569672\nstd       8.902412    1.383638   NaN    NaN  NaN     NaN    0.951100\nmin       3.070000    1.000000   NaN    NaN  NaN     NaN    1.000000\n25%      13.347500    2.000000   NaN    NaN  NaN     NaN    2.000000\n50%      17.795000    2.900000   NaN    NaN  NaN     NaN    2.000000\n75%      24.127500    3.562500   NaN    NaN  NaN     NaN    3.000000\nmax      50.810000   10.000000   NaN    NaN  NaN     NaN    6.000000",
      "text/html": "<div>\n<style scoped>\n    .dataframe tbody tr th:only-of-type {\n        vertical-align: middle;\n    }\n\n    .dataframe tbody tr th {\n        vertical-align: top;\n    }\n\n    .dataframe thead th {\n        text-align: right;\n    }\n</style>\n<table border=\"1\" class=\"dataframe\">\n  <thead>\n    <tr style=\"text-align: right;\">\n      <th></th>\n      <th>total_bill</th>\n      <th>tip</th>\n      <th>sex</th>\n      <th>smoker</th>\n      <th>day</th>\n      <th>time</th>\n      <th>size</th>\n    </tr>\n  </thead>\n  <tbody>\n    <tr>\n      <th>count</th>\n      <td>244.000000</td>\n      <td>244.000000</td>\n      <td>244</td>\n      <td>244</td>\n      <td>244</td>\n      <td>244</td>\n      <td>244.000000</td>\n    </tr>\n    <tr>\n      <th>unique</th>\n      <td>NaN</td>\n      <td>NaN</td>\n      <td>2</td>\n      <td>2</td>\n      <td>4</td>\n      <td>2</td>\n      <td>NaN</td>\n    </tr>\n    <tr>\n      <th>top</th>\n      <td>NaN</td>\n      <td>NaN</td>\n      <td>Male</td>\n      <td>No</td>\n      <td>Sat</td>\n      <td>Dinner</td>\n      <td>NaN</td>\n    </tr>\n    <tr>\n      <th>freq</th>\n      <td>NaN</td>\n      <td>NaN</td>\n      <td>157</td>\n      <td>151</td>\n      <td>87</td>\n      <td>176</td>\n      <td>NaN</td>\n    </tr>\n    <tr>\n      <th>mean</th>\n      <td>19.785943</td>\n      <td>2.998279</td>\n      <td>NaN</td>\n      <td>NaN</td>\n      <td>NaN</td>\n      <td>NaN</td>\n      <td>2.569672</td>\n    </tr>\n    <tr>\n      <th>std</th>\n      <td>8.902412</td>\n      <td>1.383638</td>\n      <td>NaN</td>\n      <td>NaN</td>\n      <td>NaN</td>\n      <td>NaN</td>\n      <td>0.951100</td>\n    </tr>\n    <tr>\n      <th>min</th>\n      <td>3.070000</td>\n      <td>1.000000</td>\n      <td>NaN</td>\n      <td>NaN</td>\n      <td>NaN</td>\n      <td>NaN</td>\n      <td>1.000000</td>\n    </tr>\n    <tr>\n      <th>25%</th>\n      <td>13.347500</td>\n      <td>2.000000</td>\n      <td>NaN</td>\n      <td>NaN</td>\n      <td>NaN</td>\n      <td>NaN</td>\n      <td>2.000000</td>\n    </tr>\n    <tr>\n      <th>50%</th>\n      <td>17.795000</td>\n      <td>2.900000</td>\n      <td>NaN</td>\n      <td>NaN</td>\n      <td>NaN</td>\n      <td>NaN</td>\n      <td>2.000000</td>\n    </tr>\n    <tr>\n      <th>75%</th>\n      <td>24.127500</td>\n      <td>3.562500</td>\n      <td>NaN</td>\n      <td>NaN</td>\n      <td>NaN</td>\n      <td>NaN</td>\n      <td>3.000000</td>\n    </tr>\n    <tr>\n      <th>max</th>\n      <td>50.810000</td>\n      <td>10.000000</td>\n      <td>NaN</td>\n      <td>NaN</td>\n      <td>NaN</td>\n      <td>NaN</td>\n      <td>6.000000</td>\n    </tr>\n  </tbody>\n</table>\n</div>"
     },
     "metadata": {}
    }
   ],
   "execution_count": 2
  },
  {
   "cell_type": "code",
   "source": "df['day'].value_counts()",
   "metadata": {
    "tags": [],
    "cell_id": "00019-4102ae14-558f-4a3d-ac91-6cbcbb0bf159",
    "deepnote_to_be_reexecuted": false,
    "source_hash": "6468df18",
    "execution_start": 1625184569190,
    "execution_millis": 8,
    "deepnote_cell_type": "code"
   },
   "outputs": [
    {
     "output_type": "execute_result",
     "execution_count": 3,
     "data": {
      "text/plain": "Sat     87\nSun     76\nThur    62\nFri     19\nName: day, dtype: int64"
     },
     "metadata": {}
    }
   ],
   "execution_count": 3
  },
  {
   "cell_type": "markdown",
   "source": "Nos muestra el procentaje que tienen nuestros datos correspondiendo a cada dia que se trabaja.",
   "metadata": {
    "tags": [],
    "cell_id": "00018-c750761a-38e0-4fb1-bc77-704e18721868",
    "deepnote_cell_type": "markdown"
   }
  },
  {
   "cell_type": "code",
   "source": "df['day'].value_counts() / df['day'].value_counts().sum()*100",
   "metadata": {
    "tags": [],
    "cell_id": "00021-778d338a-56fe-4082-b556-ad1ab8bb8ee0",
    "deepnote_to_be_reexecuted": false,
    "source_hash": "e78cad4c",
    "execution_start": 1625184597841,
    "execution_millis": 7,
    "deepnote_cell_type": "code"
   },
   "outputs": [
    {
     "output_type": "execute_result",
     "execution_count": 4,
     "data": {
      "text/plain": "Sat     35.655738\nSun     31.147541\nThur    25.409836\nFri      7.786885\nName: day, dtype: float64"
     },
     "metadata": {}
    }
   ],
   "execution_count": 4
  },
  {
   "cell_type": "markdown",
   "source": "Las gastos totales que hacen cada genero.",
   "metadata": {
    "tags": [],
    "cell_id": "00022-8920340c-a260-4615-8309-1a7aea590849",
    "deepnote_cell_type": "markdown"
   }
  },
  {
   "cell_type": "code",
   "source": "df.groupby('sex').median()",
   "metadata": {
    "tags": [],
    "cell_id": "00023-549bff29-70e5-447c-8c9b-2575bc62726f",
    "deepnote_to_be_reexecuted": false,
    "source_hash": "56376942",
    "execution_start": 1625184599488,
    "execution_millis": 13,
    "deepnote_cell_type": "code"
   },
   "outputs": [
    {
     "output_type": "execute_result",
     "execution_count": 5,
     "data": {
      "application/vnd.deepnote.dataframe.v2+json": {
       "row_count": 2,
       "column_count": 3,
       "columns": [
        {
         "name": "total_bill",
         "dtype": "float64",
         "stats": {
          "unique_count": 2,
          "nan_count": 0,
          "min": "16.4",
          "max": "18.35",
          "histogram": [
           {
            "bin_start": 16.4,
            "bin_end": 16.595,
            "count": 1
           },
           {
            "bin_start": 16.595,
            "bin_end": 16.79,
            "count": 0
           },
           {
            "bin_start": 16.79,
            "bin_end": 16.985,
            "count": 0
           },
           {
            "bin_start": 16.985,
            "bin_end": 17.18,
            "count": 0
           },
           {
            "bin_start": 17.18,
            "bin_end": 17.375,
            "count": 0
           },
           {
            "bin_start": 17.375,
            "bin_end": 17.57,
            "count": 0
           },
           {
            "bin_start": 17.57,
            "bin_end": 17.765,
            "count": 0
           },
           {
            "bin_start": 17.765,
            "bin_end": 17.96,
            "count": 0
           },
           {
            "bin_start": 17.96,
            "bin_end": 18.155,
            "count": 0
           },
           {
            "bin_start": 18.155,
            "bin_end": 18.35,
            "count": 1
           }
          ]
         }
        },
        {
         "name": "tip",
         "dtype": "float64",
         "stats": {
          "unique_count": 2,
          "nan_count": 0,
          "min": "2.75",
          "max": "3.0",
          "histogram": [
           {
            "bin_start": 2.75,
            "bin_end": 2.775,
            "count": 1
           },
           {
            "bin_start": 2.775,
            "bin_end": 2.8,
            "count": 0
           },
           {
            "bin_start": 2.8,
            "bin_end": 2.825,
            "count": 0
           },
           {
            "bin_start": 2.825,
            "bin_end": 2.85,
            "count": 0
           },
           {
            "bin_start": 2.85,
            "bin_end": 2.875,
            "count": 0
           },
           {
            "bin_start": 2.875,
            "bin_end": 2.9,
            "count": 0
           },
           {
            "bin_start": 2.9,
            "bin_end": 2.925,
            "count": 0
           },
           {
            "bin_start": 2.925,
            "bin_end": 2.95,
            "count": 0
           },
           {
            "bin_start": 2.95,
            "bin_end": 2.975,
            "count": 0
           },
           {
            "bin_start": 2.975,
            "bin_end": 3,
            "count": 1
           }
          ]
         }
        },
        {
         "name": "size",
         "dtype": "int64",
         "stats": {
          "unique_count": 1,
          "nan_count": 0,
          "min": "2",
          "max": "2",
          "histogram": [
           {
            "bin_start": 1.5,
            "bin_end": 1.6,
            "count": 0
           },
           {
            "bin_start": 1.6,
            "bin_end": 1.7,
            "count": 0
           },
           {
            "bin_start": 1.7,
            "bin_end": 1.8,
            "count": 0
           },
           {
            "bin_start": 1.8,
            "bin_end": 1.9,
            "count": 0
           },
           {
            "bin_start": 1.9,
            "bin_end": 2,
            "count": 0
           },
           {
            "bin_start": 2,
            "bin_end": 2.1,
            "count": 2
           },
           {
            "bin_start": 2.1,
            "bin_end": 2.2,
            "count": 0
           },
           {
            "bin_start": 2.2,
            "bin_end": 2.3,
            "count": 0
           },
           {
            "bin_start": 2.3,
            "bin_end": 2.4,
            "count": 0
           },
           {
            "bin_start": 2.4,
            "bin_end": 2.5,
            "count": 0
           }
          ]
         }
        },
        {
         "name": "_deepnote_index_column",
         "dtype": "category"
        }
       ],
       "rows_top": [
        {
         "total_bill": 18.35,
         "tip": 3,
         "size": 2,
         "_deepnote_index_column": "Male"
        },
        {
         "total_bill": 16.4,
         "tip": 2.75,
         "size": 2,
         "_deepnote_index_column": "Female"
        }
       ],
       "rows_bottom": null
      },
      "text/plain": "        total_bill   tip  size\nsex                           \nMale         18.35  3.00     2\nFemale       16.40  2.75     2",
      "text/html": "<div>\n<style scoped>\n    .dataframe tbody tr th:only-of-type {\n        vertical-align: middle;\n    }\n\n    .dataframe tbody tr th {\n        vertical-align: top;\n    }\n\n    .dataframe thead th {\n        text-align: right;\n    }\n</style>\n<table border=\"1\" class=\"dataframe\">\n  <thead>\n    <tr style=\"text-align: right;\">\n      <th></th>\n      <th>total_bill</th>\n      <th>tip</th>\n      <th>size</th>\n    </tr>\n    <tr>\n      <th>sex</th>\n      <th></th>\n      <th></th>\n      <th></th>\n    </tr>\n  </thead>\n  <tbody>\n    <tr>\n      <th>Male</th>\n      <td>18.35</td>\n      <td>3.00</td>\n      <td>2</td>\n    </tr>\n    <tr>\n      <th>Female</th>\n      <td>16.40</td>\n      <td>2.75</td>\n      <td>2</td>\n    </tr>\n  </tbody>\n</table>\n</div>"
     },
     "metadata": {}
    }
   ],
   "execution_count": 5
  },
  {
   "cell_type": "markdown",
   "source": "Creamos una columna con el porcentaje de propina que se geneta por el total de una cuenta.",
   "metadata": {
    "tags": [],
    "cell_id": "00024-adc574a6-fffb-43f3-b536-8a89fc1528f1",
    "deepnote_cell_type": "markdown"
   }
  },
  {
   "cell_type": "code",
   "source": "df['prct_tip'] = df['tip']/df['total_bill']\ndf",
   "metadata": {
    "tags": [],
    "cell_id": "00024-266430bb-a126-4582-9588-eb30b60c1ebf",
    "deepnote_to_be_reexecuted": false,
    "source_hash": "56762cca",
    "execution_start": 1625184614608,
    "execution_millis": 88,
    "deepnote_cell_type": "code"
   },
   "outputs": [
    {
     "output_type": "execute_result",
     "execution_count": 6,
     "data": {
      "application/vnd.deepnote.dataframe.v2+json": {
       "row_count": 244,
       "column_count": 8,
       "columns": [
        {
         "name": "total_bill",
         "dtype": "float64",
         "stats": {
          "unique_count": 229,
          "nan_count": 0,
          "min": "3.07",
          "max": "50.81",
          "histogram": [
           {
            "bin_start": 3.07,
            "bin_end": 7.843999999999999,
            "count": 7
           },
           {
            "bin_start": 7.843999999999999,
            "bin_end": 12.618,
            "count": 42
           },
           {
            "bin_start": 12.618,
            "bin_end": 17.392,
            "count": 68
           },
           {
            "bin_start": 17.392,
            "bin_end": 22.166,
            "count": 51
           },
           {
            "bin_start": 22.166,
            "bin_end": 26.94,
            "count": 31
           },
           {
            "bin_start": 26.94,
            "bin_end": 31.714,
            "count": 19
           },
           {
            "bin_start": 31.714,
            "bin_end": 36.488,
            "count": 12
           },
           {
            "bin_start": 36.488,
            "bin_end": 41.262,
            "count": 7
           },
           {
            "bin_start": 41.262,
            "bin_end": 46.036,
            "count": 3
           },
           {
            "bin_start": 46.036,
            "bin_end": 50.81,
            "count": 4
           }
          ]
         }
        },
        {
         "name": "tip",
         "dtype": "float64",
         "stats": {
          "unique_count": 123,
          "nan_count": 0,
          "min": "1.0",
          "max": "10.0",
          "histogram": [
           {
            "bin_start": 1,
            "bin_end": 1.9,
            "count": 41
           },
           {
            "bin_start": 1.9,
            "bin_end": 2.8,
            "count": 79
           },
           {
            "bin_start": 2.8,
            "bin_end": 3.7,
            "count": 66
           },
           {
            "bin_start": 3.7,
            "bin_end": 4.6,
            "count": 27
           },
           {
            "bin_start": 4.6,
            "bin_end": 5.5,
            "count": 19
           },
           {
            "bin_start": 5.5,
            "bin_end": 6.4,
            "count": 5
           },
           {
            "bin_start": 6.4,
            "bin_end": 7.3,
            "count": 4
           },
           {
            "bin_start": 7.3,
            "bin_end": 8.2,
            "count": 1
           },
           {
            "bin_start": 8.2,
            "bin_end": 9.1,
            "count": 1
           },
           {
            "bin_start": 9.1,
            "bin_end": 10,
            "count": 1
           }
          ]
         }
        },
        {
         "name": "sex",
         "dtype": "category",
         "stats": {
          "unique_count": 2,
          "nan_count": 0,
          "categories": [
           {
            "name": "Male",
            "count": 157
           },
           {
            "name": "Female",
            "count": 87
           }
          ]
         }
        },
        {
         "name": "smoker",
         "dtype": "category",
         "stats": {
          "unique_count": 2,
          "nan_count": 0,
          "categories": [
           {
            "name": "No",
            "count": 151
           },
           {
            "name": "Yes",
            "count": 93
           }
          ]
         }
        },
        {
         "name": "day",
         "dtype": "category",
         "stats": {
          "unique_count": 4,
          "nan_count": 0,
          "categories": [
           {
            "name": "Sat",
            "count": 87
           },
           {
            "name": "Sun",
            "count": 76
           },
           {
            "name": "2 others",
            "count": 81
           }
          ]
         }
        },
        {
         "name": "time",
         "dtype": "category",
         "stats": {
          "unique_count": 2,
          "nan_count": 0,
          "categories": [
           {
            "name": "Dinner",
            "count": 176
           },
           {
            "name": "Lunch",
            "count": 68
           }
          ]
         }
        },
        {
         "name": "size",
         "dtype": "int64",
         "stats": {
          "unique_count": 6,
          "nan_count": 0,
          "min": "1",
          "max": "6",
          "histogram": [
           {
            "bin_start": 1,
            "bin_end": 1.5,
            "count": 4
           },
           {
            "bin_start": 1.5,
            "bin_end": 2,
            "count": 0
           },
           {
            "bin_start": 2,
            "bin_end": 2.5,
            "count": 156
           },
           {
            "bin_start": 2.5,
            "bin_end": 3,
            "count": 0
           },
           {
            "bin_start": 3,
            "bin_end": 3.5,
            "count": 38
           },
           {
            "bin_start": 3.5,
            "bin_end": 4,
            "count": 0
           },
           {
            "bin_start": 4,
            "bin_end": 4.5,
            "count": 37
           },
           {
            "bin_start": 4.5,
            "bin_end": 5,
            "count": 0
           },
           {
            "bin_start": 5,
            "bin_end": 5.5,
            "count": 5
           },
           {
            "bin_start": 5.5,
            "bin_end": 6,
            "count": 4
           }
          ]
         }
        },
        {
         "name": "prct_tip",
         "dtype": "float64",
         "stats": {
          "unique_count": 242,
          "nan_count": 0,
          "min": "0.03563813585135547",
          "max": "0.710344827586207",
          "histogram": [
           {
            "bin_start": 0.03563813585135547,
            "bin_end": 0.10310880502484063,
            "count": 31
           },
           {
            "bin_start": 0.10310880502484063,
            "bin_end": 0.17057947419832578,
            "count": 120
           },
           {
            "bin_start": 0.17057947419832578,
            "bin_end": 0.23805014337181093,
            "count": 80
           },
           {
            "bin_start": 0.23805014337181093,
            "bin_end": 0.30552081254529606,
            "count": 10
           },
           {
            "bin_start": 0.30552081254529606,
            "bin_end": 0.3729914817187812,
            "count": 1
           },
           {
            "bin_start": 0.3729914817187812,
            "bin_end": 0.44046215089226637,
            "count": 1
           },
           {
            "bin_start": 0.44046215089226637,
            "bin_end": 0.5079328200657516,
            "count": 0
           },
           {
            "bin_start": 0.5079328200657516,
            "bin_end": 0.5754034892392367,
            "count": 0
           },
           {
            "bin_start": 0.5754034892392367,
            "bin_end": 0.6428741584127219,
            "count": 0
           },
           {
            "bin_start": 0.6428741584127219,
            "bin_end": 0.710344827586207,
            "count": 1
           }
          ]
         }
        },
        {
         "name": "_deepnote_index_column",
         "dtype": "int64"
        }
       ],
       "rows_top": [
        {
         "total_bill": 16.99,
         "tip": 1.01,
         "sex": "Female",
         "smoker": "No",
         "day": "Sun",
         "time": "Dinner",
         "size": 2,
         "prct_tip": 0.05944673337257211,
         "_deepnote_index_column": 0
        },
        {
         "total_bill": 10.34,
         "tip": 1.66,
         "sex": "Male",
         "smoker": "No",
         "day": "Sun",
         "time": "Dinner",
         "size": 3,
         "prct_tip": 0.16054158607350097,
         "_deepnote_index_column": 1
        },
        {
         "total_bill": 21.01,
         "tip": 3.5,
         "sex": "Male",
         "smoker": "No",
         "day": "Sun",
         "time": "Dinner",
         "size": 3,
         "prct_tip": 0.16658733936220846,
         "_deepnote_index_column": 2
        },
        {
         "total_bill": 23.68,
         "tip": 3.31,
         "sex": "Male",
         "smoker": "No",
         "day": "Sun",
         "time": "Dinner",
         "size": 2,
         "prct_tip": 0.1397804054054054,
         "_deepnote_index_column": 3
        },
        {
         "total_bill": 24.59,
         "tip": 3.61,
         "sex": "Female",
         "smoker": "No",
         "day": "Sun",
         "time": "Dinner",
         "size": 4,
         "prct_tip": 0.14680764538430255,
         "_deepnote_index_column": 4
        },
        {
         "total_bill": 25.29,
         "tip": 4.71,
         "sex": "Male",
         "smoker": "No",
         "day": "Sun",
         "time": "Dinner",
         "size": 4,
         "prct_tip": 0.18623962040332148,
         "_deepnote_index_column": 5
        },
        {
         "total_bill": 8.77,
         "tip": 2,
         "sex": "Male",
         "smoker": "No",
         "day": "Sun",
         "time": "Dinner",
         "size": 2,
         "prct_tip": 0.22805017103762829,
         "_deepnote_index_column": 6
        },
        {
         "total_bill": 26.88,
         "tip": 3.12,
         "sex": "Male",
         "smoker": "No",
         "day": "Sun",
         "time": "Dinner",
         "size": 4,
         "prct_tip": 0.11607142857142858,
         "_deepnote_index_column": 7
        },
        {
         "total_bill": 15.04,
         "tip": 1.96,
         "sex": "Male",
         "smoker": "No",
         "day": "Sun",
         "time": "Dinner",
         "size": 2,
         "prct_tip": 0.13031914893617022,
         "_deepnote_index_column": 8
        },
        {
         "total_bill": 14.78,
         "tip": 3.23,
         "sex": "Male",
         "smoker": "No",
         "day": "Sun",
         "time": "Dinner",
         "size": 2,
         "prct_tip": 0.2185385656292287,
         "_deepnote_index_column": 9
        },
        {
         "total_bill": 10.27,
         "tip": 1.71,
         "sex": "Male",
         "smoker": "No",
         "day": "Sun",
         "time": "Dinner",
         "size": 2,
         "prct_tip": 0.1665043816942551,
         "_deepnote_index_column": 10
        },
        {
         "total_bill": 35.26,
         "tip": 5,
         "sex": "Female",
         "smoker": "No",
         "day": "Sun",
         "time": "Dinner",
         "size": 4,
         "prct_tip": 0.14180374361883155,
         "_deepnote_index_column": 11
        },
        {
         "total_bill": 15.42,
         "tip": 1.57,
         "sex": "Male",
         "smoker": "No",
         "day": "Sun",
         "time": "Dinner",
         "size": 2,
         "prct_tip": 0.10181582360570687,
         "_deepnote_index_column": 12
        },
        {
         "total_bill": 18.43,
         "tip": 3,
         "sex": "Male",
         "smoker": "No",
         "day": "Sun",
         "time": "Dinner",
         "size": 4,
         "prct_tip": 0.16277807921866522,
         "_deepnote_index_column": 13
        },
        {
         "total_bill": 14.83,
         "tip": 3.02,
         "sex": "Female",
         "smoker": "No",
         "day": "Sun",
         "time": "Dinner",
         "size": 2,
         "prct_tip": 0.20364126770060686,
         "_deepnote_index_column": 14
        },
        {
         "total_bill": 21.58,
         "tip": 3.92,
         "sex": "Male",
         "smoker": "No",
         "day": "Sun",
         "time": "Dinner",
         "size": 2,
         "prct_tip": 0.18164967562557924,
         "_deepnote_index_column": 15
        },
        {
         "total_bill": 10.33,
         "tip": 1.67,
         "sex": "Female",
         "smoker": "No",
         "day": "Sun",
         "time": "Dinner",
         "size": 3,
         "prct_tip": 0.1616650532429816,
         "_deepnote_index_column": 16
        },
        {
         "total_bill": 16.29,
         "tip": 3.71,
         "sex": "Male",
         "smoker": "No",
         "day": "Sun",
         "time": "Dinner",
         "size": 3,
         "prct_tip": 0.22774708410067526,
         "_deepnote_index_column": 17
        },
        {
         "total_bill": 16.97,
         "tip": 3.5,
         "sex": "Female",
         "smoker": "No",
         "day": "Sun",
         "time": "Dinner",
         "size": 3,
         "prct_tip": 0.20624631703005306,
         "_deepnote_index_column": 18
        },
        {
         "total_bill": 20.65,
         "tip": 3.35,
         "sex": "Male",
         "smoker": "No",
         "day": "Sat",
         "time": "Dinner",
         "size": 3,
         "prct_tip": 0.16222760290556903,
         "_deepnote_index_column": 19
        },
        {
         "total_bill": 17.92,
         "tip": 4.08,
         "sex": "Male",
         "smoker": "No",
         "day": "Sat",
         "time": "Dinner",
         "size": 2,
         "prct_tip": 0.22767857142857142,
         "_deepnote_index_column": 20
        },
        {
         "total_bill": 20.29,
         "tip": 2.75,
         "sex": "Female",
         "smoker": "No",
         "day": "Sat",
         "time": "Dinner",
         "size": 2,
         "prct_tip": 0.13553474618038444,
         "_deepnote_index_column": 21
        },
        {
         "total_bill": 15.77,
         "tip": 2.23,
         "sex": "Female",
         "smoker": "No",
         "day": "Sat",
         "time": "Dinner",
         "size": 2,
         "prct_tip": 0.14140773620798985,
         "_deepnote_index_column": 22
        },
        {
         "total_bill": 39.42,
         "tip": 7.58,
         "sex": "Male",
         "smoker": "No",
         "day": "Sat",
         "time": "Dinner",
         "size": 4,
         "prct_tip": 0.19228817858954844,
         "_deepnote_index_column": 23
        },
        {
         "total_bill": 19.82,
         "tip": 3.18,
         "sex": "Male",
         "smoker": "No",
         "day": "Sat",
         "time": "Dinner",
         "size": 2,
         "prct_tip": 0.16044399596367306,
         "_deepnote_index_column": 24
        },
        {
         "total_bill": 17.81,
         "tip": 2.34,
         "sex": "Male",
         "smoker": "No",
         "day": "Sat",
         "time": "Dinner",
         "size": 4,
         "prct_tip": 0.13138686131386862,
         "_deepnote_index_column": 25
        },
        {
         "total_bill": 13.37,
         "tip": 2,
         "sex": "Male",
         "smoker": "No",
         "day": "Sat",
         "time": "Dinner",
         "size": 2,
         "prct_tip": 0.14958863126402394,
         "_deepnote_index_column": 26
        },
        {
         "total_bill": 12.69,
         "tip": 2,
         "sex": "Male",
         "smoker": "No",
         "day": "Sat",
         "time": "Dinner",
         "size": 2,
         "prct_tip": 0.15760441292356187,
         "_deepnote_index_column": 27
        },
        {
         "total_bill": 21.7,
         "tip": 4.3,
         "sex": "Male",
         "smoker": "No",
         "day": "Sat",
         "time": "Dinner",
         "size": 2,
         "prct_tip": 0.19815668202764977,
         "_deepnote_index_column": 28
        },
        {
         "total_bill": 19.65,
         "tip": 3,
         "sex": "Female",
         "smoker": "No",
         "day": "Sat",
         "time": "Dinner",
         "size": 2,
         "prct_tip": 0.15267175572519084,
         "_deepnote_index_column": 29
        },
        {
         "total_bill": 9.55,
         "tip": 1.45,
         "sex": "Male",
         "smoker": "No",
         "day": "Sat",
         "time": "Dinner",
         "size": 2,
         "prct_tip": 0.1518324607329843,
         "_deepnote_index_column": 30
        },
        {
         "total_bill": 18.35,
         "tip": 2.5,
         "sex": "Male",
         "smoker": "No",
         "day": "Sat",
         "time": "Dinner",
         "size": 4,
         "prct_tip": 0.13623978201634876,
         "_deepnote_index_column": 31
        },
        {
         "total_bill": 15.06,
         "tip": 3,
         "sex": "Female",
         "smoker": "No",
         "day": "Sat",
         "time": "Dinner",
         "size": 2,
         "prct_tip": 0.199203187250996,
         "_deepnote_index_column": 32
        },
        {
         "total_bill": 20.69,
         "tip": 2.45,
         "sex": "Female",
         "smoker": "No",
         "day": "Sat",
         "time": "Dinner",
         "size": 4,
         "prct_tip": 0.11841469308844853,
         "_deepnote_index_column": 33
        },
        {
         "total_bill": 17.78,
         "tip": 3.27,
         "sex": "Male",
         "smoker": "No",
         "day": "Sat",
         "time": "Dinner",
         "size": 2,
         "prct_tip": 0.1839145106861642,
         "_deepnote_index_column": 34
        },
        {
         "total_bill": 24.06,
         "tip": 3.6,
         "sex": "Male",
         "smoker": "No",
         "day": "Sat",
         "time": "Dinner",
         "size": 3,
         "prct_tip": 0.14962593516209477,
         "_deepnote_index_column": 35
        },
        {
         "total_bill": 16.31,
         "tip": 2,
         "sex": "Male",
         "smoker": "No",
         "day": "Sat",
         "time": "Dinner",
         "size": 3,
         "prct_tip": 0.12262415695892091,
         "_deepnote_index_column": 36
        },
        {
         "total_bill": 16.93,
         "tip": 3.07,
         "sex": "Female",
         "smoker": "No",
         "day": "Sat",
         "time": "Dinner",
         "size": 3,
         "prct_tip": 0.1813349084465446,
         "_deepnote_index_column": 37
        },
        {
         "total_bill": 18.69,
         "tip": 2.31,
         "sex": "Male",
         "smoker": "No",
         "day": "Sat",
         "time": "Dinner",
         "size": 3,
         "prct_tip": 0.12359550561797752,
         "_deepnote_index_column": 38
        },
        {
         "total_bill": 31.27,
         "tip": 5,
         "sex": "Male",
         "smoker": "No",
         "day": "Sat",
         "time": "Dinner",
         "size": 3,
         "prct_tip": 0.1598976654940838,
         "_deepnote_index_column": 39
        },
        {
         "total_bill": 16.04,
         "tip": 2.24,
         "sex": "Male",
         "smoker": "No",
         "day": "Sat",
         "time": "Dinner",
         "size": 3,
         "prct_tip": 0.13965087281795513,
         "_deepnote_index_column": 40
        },
        {
         "total_bill": 17.46,
         "tip": 2.54,
         "sex": "Male",
         "smoker": "No",
         "day": "Sun",
         "time": "Dinner",
         "size": 2,
         "prct_tip": 0.14547537227949597,
         "_deepnote_index_column": 41
        },
        {
         "total_bill": 13.94,
         "tip": 3.06,
         "sex": "Male",
         "smoker": "No",
         "day": "Sun",
         "time": "Dinner",
         "size": 2,
         "prct_tip": 0.21951219512195122,
         "_deepnote_index_column": 42
        },
        {
         "total_bill": 9.68,
         "tip": 1.32,
         "sex": "Male",
         "smoker": "No",
         "day": "Sun",
         "time": "Dinner",
         "size": 2,
         "prct_tip": 0.13636363636363638,
         "_deepnote_index_column": 43
        },
        {
         "total_bill": 30.4,
         "tip": 5.6,
         "sex": "Male",
         "smoker": "No",
         "day": "Sun",
         "time": "Dinner",
         "size": 4,
         "prct_tip": 0.18421052631578946,
         "_deepnote_index_column": 44
        },
        {
         "total_bill": 18.29,
         "tip": 3,
         "sex": "Male",
         "smoker": "No",
         "day": "Sun",
         "time": "Dinner",
         "size": 2,
         "prct_tip": 0.16402405686167304,
         "_deepnote_index_column": 45
        },
        {
         "total_bill": 22.23,
         "tip": 5,
         "sex": "Male",
         "smoker": "No",
         "day": "Sun",
         "time": "Dinner",
         "size": 2,
         "prct_tip": 0.22492127755285649,
         "_deepnote_index_column": 46
        },
        {
         "total_bill": 32.4,
         "tip": 6,
         "sex": "Male",
         "smoker": "No",
         "day": "Sun",
         "time": "Dinner",
         "size": 4,
         "prct_tip": 0.1851851851851852,
         "_deepnote_index_column": 47
        },
        {
         "total_bill": 28.55,
         "tip": 2.05,
         "sex": "Male",
         "smoker": "No",
         "day": "Sun",
         "time": "Dinner",
         "size": 3,
         "prct_tip": 0.07180385288966724,
         "_deepnote_index_column": 48
        },
        {
         "total_bill": 18.04,
         "tip": 3,
         "sex": "Male",
         "smoker": "No",
         "day": "Sun",
         "time": "Dinner",
         "size": 2,
         "prct_tip": 0.16629711751662973,
         "_deepnote_index_column": 49
        },
        {
         "total_bill": 12.54,
         "tip": 2.5,
         "sex": "Male",
         "smoker": "No",
         "day": "Sun",
         "time": "Dinner",
         "size": 2,
         "prct_tip": 0.19936204146730463,
         "_deepnote_index_column": 50
        },
        {
         "total_bill": 10.29,
         "tip": 2.6,
         "sex": "Female",
         "smoker": "No",
         "day": "Sun",
         "time": "Dinner",
         "size": 2,
         "prct_tip": 0.2526724975704568,
         "_deepnote_index_column": 51
        },
        {
         "total_bill": 34.81,
         "tip": 5.2,
         "sex": "Female",
         "smoker": "No",
         "day": "Sun",
         "time": "Dinner",
         "size": 4,
         "prct_tip": 0.14938236139040506,
         "_deepnote_index_column": 52
        },
        {
         "total_bill": 9.94,
         "tip": 1.56,
         "sex": "Male",
         "smoker": "No",
         "day": "Sun",
         "time": "Dinner",
         "size": 2,
         "prct_tip": 0.15694164989939638,
         "_deepnote_index_column": 53
        },
        {
         "total_bill": 25.56,
         "tip": 4.34,
         "sex": "Male",
         "smoker": "No",
         "day": "Sun",
         "time": "Dinner",
         "size": 4,
         "prct_tip": 0.1697965571205008,
         "_deepnote_index_column": 54
        },
        {
         "total_bill": 19.49,
         "tip": 3.51,
         "sex": "Male",
         "smoker": "No",
         "day": "Sun",
         "time": "Dinner",
         "size": 2,
         "prct_tip": 0.18009235505387378,
         "_deepnote_index_column": 55
        },
        {
         "total_bill": 38.01,
         "tip": 3,
         "sex": "Male",
         "smoker": "Yes",
         "day": "Sat",
         "time": "Dinner",
         "size": 4,
         "prct_tip": 0.07892659826361484,
         "_deepnote_index_column": 56
        },
        {
         "total_bill": 26.41,
         "tip": 1.5,
         "sex": "Female",
         "smoker": "No",
         "day": "Sat",
         "time": "Dinner",
         "size": 2,
         "prct_tip": 0.05679666792881484,
         "_deepnote_index_column": 57
        },
        {
         "total_bill": 11.24,
         "tip": 1.76,
         "sex": "Male",
         "smoker": "Yes",
         "day": "Sat",
         "time": "Dinner",
         "size": 2,
         "prct_tip": 0.15658362989323843,
         "_deepnote_index_column": 58
        },
        {
         "total_bill": 48.27,
         "tip": 6.73,
         "sex": "Male",
         "smoker": "No",
         "day": "Sat",
         "time": "Dinner",
         "size": 4,
         "prct_tip": 0.13942407292314066,
         "_deepnote_index_column": 59
        },
        {
         "total_bill": 20.29,
         "tip": 3.21,
         "sex": "Male",
         "smoker": "Yes",
         "day": "Sat",
         "time": "Dinner",
         "size": 2,
         "prct_tip": 0.1582060128141942,
         "_deepnote_index_column": 60
        },
        {
         "total_bill": 13.81,
         "tip": 2,
         "sex": "Male",
         "smoker": "Yes",
         "day": "Sat",
         "time": "Dinner",
         "size": 2,
         "prct_tip": 0.1448225923244026,
         "_deepnote_index_column": 61
        }
       ],
       "rows_bottom": [
        {
         "total_bill": 23.33,
         "tip": 5.65,
         "sex": "Male",
         "smoker": "Yes",
         "day": "Sun",
         "time": "Dinner",
         "size": 2,
         "prct_tip": 0.2421774539219889,
         "_deepnote_index_column": 181
        },
        {
         "total_bill": 45.35,
         "tip": 3.5,
         "sex": "Male",
         "smoker": "Yes",
         "day": "Sun",
         "time": "Dinner",
         "size": 3,
         "prct_tip": 0.07717750826901874,
         "_deepnote_index_column": 182
        },
        {
         "total_bill": 23.17,
         "tip": 6.5,
         "sex": "Male",
         "smoker": "Yes",
         "day": "Sun",
         "time": "Dinner",
         "size": 4,
         "prct_tip": 0.2805351747949935,
         "_deepnote_index_column": 183
        },
        {
         "total_bill": 40.55,
         "tip": 3,
         "sex": "Male",
         "smoker": "Yes",
         "day": "Sun",
         "time": "Dinner",
         "size": 2,
         "prct_tip": 0.07398273736128237,
         "_deepnote_index_column": 184
        },
        {
         "total_bill": 20.69,
         "tip": 5,
         "sex": "Male",
         "smoker": "No",
         "day": "Sun",
         "time": "Dinner",
         "size": 5,
         "prct_tip": 0.2416626389560174,
         "_deepnote_index_column": 185
        },
        {
         "total_bill": 20.9,
         "tip": 3.5,
         "sex": "Female",
         "smoker": "Yes",
         "day": "Sun",
         "time": "Dinner",
         "size": 3,
         "prct_tip": 0.1674641148325359,
         "_deepnote_index_column": 186
        },
        {
         "total_bill": 30.46,
         "tip": 2,
         "sex": "Male",
         "smoker": "Yes",
         "day": "Sun",
         "time": "Dinner",
         "size": 5,
         "prct_tip": 0.06565988181221273,
         "_deepnote_index_column": 187
        },
        {
         "total_bill": 18.15,
         "tip": 3.5,
         "sex": "Female",
         "smoker": "Yes",
         "day": "Sun",
         "time": "Dinner",
         "size": 3,
         "prct_tip": 0.1928374655647383,
         "_deepnote_index_column": 188
        },
        {
         "total_bill": 23.1,
         "tip": 4,
         "sex": "Male",
         "smoker": "Yes",
         "day": "Sun",
         "time": "Dinner",
         "size": 3,
         "prct_tip": 0.17316017316017315,
         "_deepnote_index_column": 189
        },
        {
         "total_bill": 15.69,
         "tip": 1.5,
         "sex": "Male",
         "smoker": "Yes",
         "day": "Sun",
         "time": "Dinner",
         "size": 2,
         "prct_tip": 0.09560229445506692,
         "_deepnote_index_column": 190
        },
        {
         "total_bill": 19.81,
         "tip": 4.19,
         "sex": "Female",
         "smoker": "Yes",
         "day": "Thur",
         "time": "Lunch",
         "size": 2,
         "prct_tip": 0.21150933871781932,
         "_deepnote_index_column": 191
        },
        {
         "total_bill": 28.44,
         "tip": 2.56,
         "sex": "Male",
         "smoker": "Yes",
         "day": "Thur",
         "time": "Lunch",
         "size": 2,
         "prct_tip": 0.090014064697609,
         "_deepnote_index_column": 192
        },
        {
         "total_bill": 15.48,
         "tip": 2.02,
         "sex": "Male",
         "smoker": "Yes",
         "day": "Thur",
         "time": "Lunch",
         "size": 2,
         "prct_tip": 0.13049095607235142,
         "_deepnote_index_column": 193
        },
        {
         "total_bill": 16.58,
         "tip": 4,
         "sex": "Male",
         "smoker": "Yes",
         "day": "Thur",
         "time": "Lunch",
         "size": 2,
         "prct_tip": 0.24125452352231608,
         "_deepnote_index_column": 194
        },
        {
         "total_bill": 7.56,
         "tip": 1.44,
         "sex": "Male",
         "smoker": "No",
         "day": "Thur",
         "time": "Lunch",
         "size": 2,
         "prct_tip": 0.19047619047619047,
         "_deepnote_index_column": 195
        },
        {
         "total_bill": 10.34,
         "tip": 2,
         "sex": "Male",
         "smoker": "Yes",
         "day": "Thur",
         "time": "Lunch",
         "size": 2,
         "prct_tip": 0.19342359767891684,
         "_deepnote_index_column": 196
        },
        {
         "total_bill": 43.11,
         "tip": 5,
         "sex": "Female",
         "smoker": "Yes",
         "day": "Thur",
         "time": "Lunch",
         "size": 4,
         "prct_tip": 0.1159823706796567,
         "_deepnote_index_column": 197
        },
        {
         "total_bill": 13,
         "tip": 2,
         "sex": "Female",
         "smoker": "Yes",
         "day": "Thur",
         "time": "Lunch",
         "size": 2,
         "prct_tip": 0.15384615384615385,
         "_deepnote_index_column": 198
        },
        {
         "total_bill": 13.51,
         "tip": 2,
         "sex": "Male",
         "smoker": "Yes",
         "day": "Thur",
         "time": "Lunch",
         "size": 2,
         "prct_tip": 0.14803849000740193,
         "_deepnote_index_column": 199
        },
        {
         "total_bill": 18.71,
         "tip": 4,
         "sex": "Male",
         "smoker": "Yes",
         "day": "Thur",
         "time": "Lunch",
         "size": 3,
         "prct_tip": 0.2137894174238375,
         "_deepnote_index_column": 200
        },
        {
         "total_bill": 12.74,
         "tip": 2.01,
         "sex": "Female",
         "smoker": "Yes",
         "day": "Thur",
         "time": "Lunch",
         "size": 2,
         "prct_tip": 0.15777080062794346,
         "_deepnote_index_column": 201
        },
        {
         "total_bill": 13,
         "tip": 2,
         "sex": "Female",
         "smoker": "Yes",
         "day": "Thur",
         "time": "Lunch",
         "size": 2,
         "prct_tip": 0.15384615384615385,
         "_deepnote_index_column": 202
        },
        {
         "total_bill": 16.4,
         "tip": 2.5,
         "sex": "Female",
         "smoker": "Yes",
         "day": "Thur",
         "time": "Lunch",
         "size": 2,
         "prct_tip": 0.15243902439024393,
         "_deepnote_index_column": 203
        },
        {
         "total_bill": 20.53,
         "tip": 4,
         "sex": "Male",
         "smoker": "Yes",
         "day": "Thur",
         "time": "Lunch",
         "size": 4,
         "prct_tip": 0.1948368241597662,
         "_deepnote_index_column": 204
        },
        {
         "total_bill": 16.47,
         "tip": 3.23,
         "sex": "Female",
         "smoker": "Yes",
         "day": "Thur",
         "time": "Lunch",
         "size": 3,
         "prct_tip": 0.19611414693381907,
         "_deepnote_index_column": 205
        },
        {
         "total_bill": 26.59,
         "tip": 3.41,
         "sex": "Male",
         "smoker": "Yes",
         "day": "Sat",
         "time": "Dinner",
         "size": 3,
         "prct_tip": 0.1282437006393381,
         "_deepnote_index_column": 206
        },
        {
         "total_bill": 38.73,
         "tip": 3,
         "sex": "Male",
         "smoker": "Yes",
         "day": "Sat",
         "time": "Dinner",
         "size": 4,
         "prct_tip": 0.0774593338497289,
         "_deepnote_index_column": 207
        },
        {
         "total_bill": 24.27,
         "tip": 2.03,
         "sex": "Male",
         "smoker": "Yes",
         "day": "Sat",
         "time": "Dinner",
         "size": 2,
         "prct_tip": 0.08364235681911825,
         "_deepnote_index_column": 208
        },
        {
         "total_bill": 12.76,
         "tip": 2.23,
         "sex": "Female",
         "smoker": "Yes",
         "day": "Sat",
         "time": "Dinner",
         "size": 2,
         "prct_tip": 0.17476489028213166,
         "_deepnote_index_column": 209
        },
        {
         "total_bill": 30.06,
         "tip": 2,
         "sex": "Male",
         "smoker": "Yes",
         "day": "Sat",
         "time": "Dinner",
         "size": 3,
         "prct_tip": 0.06653359946773121,
         "_deepnote_index_column": 210
        },
        {
         "total_bill": 25.89,
         "tip": 5.16,
         "sex": "Male",
         "smoker": "Yes",
         "day": "Sat",
         "time": "Dinner",
         "size": 4,
         "prct_tip": 0.1993047508690614,
         "_deepnote_index_column": 211
        },
        {
         "total_bill": 48.33,
         "tip": 9,
         "sex": "Male",
         "smoker": "No",
         "day": "Sat",
         "time": "Dinner",
         "size": 4,
         "prct_tip": 0.186219739292365,
         "_deepnote_index_column": 212
        },
        {
         "total_bill": 13.27,
         "tip": 2.5,
         "sex": "Female",
         "smoker": "Yes",
         "day": "Sat",
         "time": "Dinner",
         "size": 2,
         "prct_tip": 0.18839487565938207,
         "_deepnote_index_column": 213
        },
        {
         "total_bill": 28.17,
         "tip": 6.5,
         "sex": "Female",
         "smoker": "Yes",
         "day": "Sat",
         "time": "Dinner",
         "size": 3,
         "prct_tip": 0.23074192403265883,
         "_deepnote_index_column": 214
        },
        {
         "total_bill": 12.9,
         "tip": 1.1,
         "sex": "Female",
         "smoker": "Yes",
         "day": "Sat",
         "time": "Dinner",
         "size": 2,
         "prct_tip": 0.08527131782945736,
         "_deepnote_index_column": 215
        },
        {
         "total_bill": 28.15,
         "tip": 3,
         "sex": "Male",
         "smoker": "Yes",
         "day": "Sat",
         "time": "Dinner",
         "size": 5,
         "prct_tip": 0.10657193605683837,
         "_deepnote_index_column": 216
        },
        {
         "total_bill": 11.59,
         "tip": 1.5,
         "sex": "Male",
         "smoker": "Yes",
         "day": "Sat",
         "time": "Dinner",
         "size": 2,
         "prct_tip": 0.12942191544434858,
         "_deepnote_index_column": 217
        },
        {
         "total_bill": 7.74,
         "tip": 1.44,
         "sex": "Male",
         "smoker": "Yes",
         "day": "Sat",
         "time": "Dinner",
         "size": 2,
         "prct_tip": 0.18604651162790697,
         "_deepnote_index_column": 218
        },
        {
         "total_bill": 30.14,
         "tip": 3.09,
         "sex": "Female",
         "smoker": "Yes",
         "day": "Sat",
         "time": "Dinner",
         "size": 4,
         "prct_tip": 0.10252156602521566,
         "_deepnote_index_column": 219
        },
        {
         "total_bill": 12.16,
         "tip": 2.2,
         "sex": "Male",
         "smoker": "Yes",
         "day": "Fri",
         "time": "Lunch",
         "size": 2,
         "prct_tip": 0.18092105263157895,
         "_deepnote_index_column": 220
        },
        {
         "total_bill": 13.42,
         "tip": 3.48,
         "sex": "Female",
         "smoker": "Yes",
         "day": "Fri",
         "time": "Lunch",
         "size": 2,
         "prct_tip": 0.2593144560357675,
         "_deepnote_index_column": 221
        },
        {
         "total_bill": 8.58,
         "tip": 1.92,
         "sex": "Male",
         "smoker": "Yes",
         "day": "Fri",
         "time": "Lunch",
         "size": 1,
         "prct_tip": 0.22377622377622378,
         "_deepnote_index_column": 222
        },
        {
         "total_bill": 15.98,
         "tip": 3,
         "sex": "Female",
         "smoker": "No",
         "day": "Fri",
         "time": "Lunch",
         "size": 3,
         "prct_tip": 0.18773466833541927,
         "_deepnote_index_column": 223
        },
        {
         "total_bill": 13.42,
         "tip": 1.58,
         "sex": "Male",
         "smoker": "Yes",
         "day": "Fri",
         "time": "Lunch",
         "size": 2,
         "prct_tip": 0.11773472429210134,
         "_deepnote_index_column": 224
        },
        {
         "total_bill": 16.27,
         "tip": 2.5,
         "sex": "Female",
         "smoker": "Yes",
         "day": "Fri",
         "time": "Lunch",
         "size": 2,
         "prct_tip": 0.15365703749231716,
         "_deepnote_index_column": 225
        },
        {
         "total_bill": 10.09,
         "tip": 2,
         "sex": "Female",
         "smoker": "Yes",
         "day": "Fri",
         "time": "Lunch",
         "size": 2,
         "prct_tip": 0.19821605550049554,
         "_deepnote_index_column": 226
        },
        {
         "total_bill": 20.45,
         "tip": 3,
         "sex": "Male",
         "smoker": "No",
         "day": "Sat",
         "time": "Dinner",
         "size": 4,
         "prct_tip": 0.1466992665036675,
         "_deepnote_index_column": 227
        },
        {
         "total_bill": 13.28,
         "tip": 2.72,
         "sex": "Male",
         "smoker": "No",
         "day": "Sat",
         "time": "Dinner",
         "size": 2,
         "prct_tip": 0.20481927710843376,
         "_deepnote_index_column": 228
        },
        {
         "total_bill": 22.12,
         "tip": 2.88,
         "sex": "Female",
         "smoker": "Yes",
         "day": "Sat",
         "time": "Dinner",
         "size": 2,
         "prct_tip": 0.13019891500904157,
         "_deepnote_index_column": 229
        },
        {
         "total_bill": 24.01,
         "tip": 2,
         "sex": "Male",
         "smoker": "Yes",
         "day": "Sat",
         "time": "Dinner",
         "size": 4,
         "prct_tip": 0.08329862557267805,
         "_deepnote_index_column": 230
        },
        {
         "total_bill": 15.69,
         "tip": 3,
         "sex": "Male",
         "smoker": "Yes",
         "day": "Sat",
         "time": "Dinner",
         "size": 3,
         "prct_tip": 0.19120458891013384,
         "_deepnote_index_column": 231
        },
        {
         "total_bill": 11.61,
         "tip": 3.39,
         "sex": "Male",
         "smoker": "No",
         "day": "Sat",
         "time": "Dinner",
         "size": 2,
         "prct_tip": 0.29198966408268734,
         "_deepnote_index_column": 232
        },
        {
         "total_bill": 10.77,
         "tip": 1.47,
         "sex": "Male",
         "smoker": "No",
         "day": "Sat",
         "time": "Dinner",
         "size": 2,
         "prct_tip": 0.13649025069637882,
         "_deepnote_index_column": 233
        },
        {
         "total_bill": 15.53,
         "tip": 3,
         "sex": "Male",
         "smoker": "Yes",
         "day": "Sat",
         "time": "Dinner",
         "size": 2,
         "prct_tip": 0.19317450096587252,
         "_deepnote_index_column": 234
        },
        {
         "total_bill": 10.07,
         "tip": 1.25,
         "sex": "Male",
         "smoker": "No",
         "day": "Sat",
         "time": "Dinner",
         "size": 2,
         "prct_tip": 0.12413108242303872,
         "_deepnote_index_column": 235
        },
        {
         "total_bill": 12.6,
         "tip": 1,
         "sex": "Male",
         "smoker": "Yes",
         "day": "Sat",
         "time": "Dinner",
         "size": 2,
         "prct_tip": 0.07936507936507936,
         "_deepnote_index_column": 236
        },
        {
         "total_bill": 32.83,
         "tip": 1.17,
         "sex": "Male",
         "smoker": "Yes",
         "day": "Sat",
         "time": "Dinner",
         "size": 2,
         "prct_tip": 0.03563813585135547,
         "_deepnote_index_column": 237
        },
        {
         "total_bill": 35.83,
         "tip": 4.67,
         "sex": "Female",
         "smoker": "No",
         "day": "Sat",
         "time": "Dinner",
         "size": 3,
         "prct_tip": 0.13033770583310075,
         "_deepnote_index_column": 238
        },
        {
         "total_bill": 29.03,
         "tip": 5.92,
         "sex": "Male",
         "smoker": "No",
         "day": "Sat",
         "time": "Dinner",
         "size": 3,
         "prct_tip": 0.2039269720978298,
         "_deepnote_index_column": 239
        },
        {
         "total_bill": 27.18,
         "tip": 2,
         "sex": "Female",
         "smoker": "Yes",
         "day": "Sat",
         "time": "Dinner",
         "size": 2,
         "prct_tip": 0.07358351729212656,
         "_deepnote_index_column": 240
        },
        {
         "total_bill": 22.67,
         "tip": 2,
         "sex": "Male",
         "smoker": "Yes",
         "day": "Sat",
         "time": "Dinner",
         "size": 2,
         "prct_tip": 0.08822232024702249,
         "_deepnote_index_column": 241
        },
        {
         "total_bill": 17.82,
         "tip": 1.75,
         "sex": "Male",
         "smoker": "No",
         "day": "Sat",
         "time": "Dinner",
         "size": 2,
         "prct_tip": 0.09820426487093153,
         "_deepnote_index_column": 242
        },
        {
         "total_bill": 18.78,
         "tip": 3,
         "sex": "Female",
         "smoker": "No",
         "day": "Thur",
         "time": "Dinner",
         "size": 2,
         "prct_tip": 0.1597444089456869,
         "_deepnote_index_column": 243
        }
       ]
      },
      "text/plain": "     total_bill   tip     sex smoker   day    time  size  prct_tip\n0         16.99  1.01  Female     No   Sun  Dinner     2  0.059447\n1         10.34  1.66    Male     No   Sun  Dinner     3  0.160542\n2         21.01  3.50    Male     No   Sun  Dinner     3  0.166587\n3         23.68  3.31    Male     No   Sun  Dinner     2  0.139780\n4         24.59  3.61  Female     No   Sun  Dinner     4  0.146808\n..          ...   ...     ...    ...   ...     ...   ...       ...\n239       29.03  5.92    Male     No   Sat  Dinner     3  0.203927\n240       27.18  2.00  Female    Yes   Sat  Dinner     2  0.073584\n241       22.67  2.00    Male    Yes   Sat  Dinner     2  0.088222\n242       17.82  1.75    Male     No   Sat  Dinner     2  0.098204\n243       18.78  3.00  Female     No  Thur  Dinner     2  0.159744\n\n[244 rows x 8 columns]",
      "text/html": "<div>\n<style scoped>\n    .dataframe tbody tr th:only-of-type {\n        vertical-align: middle;\n    }\n\n    .dataframe tbody tr th {\n        vertical-align: top;\n    }\n\n    .dataframe thead th {\n        text-align: right;\n    }\n</style>\n<table border=\"1\" class=\"dataframe\">\n  <thead>\n    <tr style=\"text-align: right;\">\n      <th></th>\n      <th>total_bill</th>\n      <th>tip</th>\n      <th>sex</th>\n      <th>smoker</th>\n      <th>day</th>\n      <th>time</th>\n      <th>size</th>\n      <th>prct_tip</th>\n    </tr>\n  </thead>\n  <tbody>\n    <tr>\n      <th>0</th>\n      <td>16.99</td>\n      <td>1.01</td>\n      <td>Female</td>\n      <td>No</td>\n      <td>Sun</td>\n      <td>Dinner</td>\n      <td>2</td>\n      <td>0.059447</td>\n    </tr>\n    <tr>\n      <th>1</th>\n      <td>10.34</td>\n      <td>1.66</td>\n      <td>Male</td>\n      <td>No</td>\n      <td>Sun</td>\n      <td>Dinner</td>\n      <td>3</td>\n      <td>0.160542</td>\n    </tr>\n    <tr>\n      <th>2</th>\n      <td>21.01</td>\n      <td>3.50</td>\n      <td>Male</td>\n      <td>No</td>\n      <td>Sun</td>\n      <td>Dinner</td>\n      <td>3</td>\n      <td>0.166587</td>\n    </tr>\n    <tr>\n      <th>3</th>\n      <td>23.68</td>\n      <td>3.31</td>\n      <td>Male</td>\n      <td>No</td>\n      <td>Sun</td>\n      <td>Dinner</td>\n      <td>2</td>\n      <td>0.139780</td>\n    </tr>\n    <tr>\n      <th>4</th>\n      <td>24.59</td>\n      <td>3.61</td>\n      <td>Female</td>\n      <td>No</td>\n      <td>Sun</td>\n      <td>Dinner</td>\n      <td>4</td>\n      <td>0.146808</td>\n    </tr>\n    <tr>\n      <th>...</th>\n      <td>...</td>\n      <td>...</td>\n      <td>...</td>\n      <td>...</td>\n      <td>...</td>\n      <td>...</td>\n      <td>...</td>\n      <td>...</td>\n    </tr>\n    <tr>\n      <th>239</th>\n      <td>29.03</td>\n      <td>5.92</td>\n      <td>Male</td>\n      <td>No</td>\n      <td>Sat</td>\n      <td>Dinner</td>\n      <td>3</td>\n      <td>0.203927</td>\n    </tr>\n    <tr>\n      <th>240</th>\n      <td>27.18</td>\n      <td>2.00</td>\n      <td>Female</td>\n      <td>Yes</td>\n      <td>Sat</td>\n      <td>Dinner</td>\n      <td>2</td>\n      <td>0.073584</td>\n    </tr>\n    <tr>\n      <th>241</th>\n      <td>22.67</td>\n      <td>2.00</td>\n      <td>Male</td>\n      <td>Yes</td>\n      <td>Sat</td>\n      <td>Dinner</td>\n      <td>2</td>\n      <td>0.088222</td>\n    </tr>\n    <tr>\n      <th>242</th>\n      <td>17.82</td>\n      <td>1.75</td>\n      <td>Male</td>\n      <td>No</td>\n      <td>Sat</td>\n      <td>Dinner</td>\n      <td>2</td>\n      <td>0.098204</td>\n    </tr>\n    <tr>\n      <th>243</th>\n      <td>18.78</td>\n      <td>3.00</td>\n      <td>Female</td>\n      <td>No</td>\n      <td>Thur</td>\n      <td>Dinner</td>\n      <td>2</td>\n      <td>0.159744</td>\n    </tr>\n  </tbody>\n</table>\n<p>244 rows × 8 columns</p>\n</div>"
     },
     "metadata": {}
    }
   ],
   "execution_count": 6
  },
  {
   "cell_type": "markdown",
   "source": "## Funciones en agrupaciones ",
   "metadata": {
    "tags": [],
    "cell_id": "00026-479c22f5-4dc1-4c52-ac6c-092a3d0edbb4",
    "deepnote_cell_type": "markdown"
   }
  },
  {
   "cell_type": "code",
   "source": "df.groupby('sex')[['prct_tip']].describe()",
   "metadata": {
    "tags": [],
    "cell_id": "00027-1c2a1e89-689f-45b3-aa98-58a5f155dccd",
    "deepnote_to_be_reexecuted": false,
    "source_hash": "4e4db042",
    "execution_start": 1625184626537,
    "execution_millis": 66,
    "deepnote_cell_type": "code"
   },
   "outputs": [
    {
     "output_type": "execute_result",
     "execution_count": 7,
     "data": {
      "application/vnd.deepnote.dataframe.v2+json": {
       "row_count": 2,
       "column_count": 8,
       "columns": [
        {
         "name": [
          "prct_tip",
          "count"
         ],
         "dtype": "float64",
         "stats": {
          "unique_count": 2,
          "nan_count": 0,
          "min": "87.0",
          "max": "157.0",
          "histogram": [
           {
            "bin_start": 87,
            "bin_end": 94,
            "count": 1
           },
           {
            "bin_start": 94,
            "bin_end": 101,
            "count": 0
           },
           {
            "bin_start": 101,
            "bin_end": 108,
            "count": 0
           },
           {
            "bin_start": 108,
            "bin_end": 115,
            "count": 0
           },
           {
            "bin_start": 115,
            "bin_end": 122,
            "count": 0
           },
           {
            "bin_start": 122,
            "bin_end": 129,
            "count": 0
           },
           {
            "bin_start": 129,
            "bin_end": 136,
            "count": 0
           },
           {
            "bin_start": 136,
            "bin_end": 143,
            "count": 0
           },
           {
            "bin_start": 143,
            "bin_end": 150,
            "count": 0
           },
           {
            "bin_start": 150,
            "bin_end": 157,
            "count": 1
           }
          ]
         }
        },
        {
         "name": [
          "prct_tip",
          "mean"
         ],
         "dtype": "float64",
         "stats": {
          "unique_count": 2,
          "nan_count": 0,
          "min": "0.15765054700429743",
          "max": "0.16649073632892478",
          "histogram": [
           {
            "bin_start": 0.15765054700429743,
            "bin_end": 0.15853456593676016,
            "count": 1
           },
           {
            "bin_start": 0.15853456593676016,
            "bin_end": 0.1594185848692229,
            "count": 0
           },
           {
            "bin_start": 0.1594185848692229,
            "bin_end": 0.16030260380168562,
            "count": 0
           },
           {
            "bin_start": 0.16030260380168562,
            "bin_end": 0.16118662273414835,
            "count": 0
           },
           {
            "bin_start": 0.16118662273414835,
            "bin_end": 0.16207064166661111,
            "count": 0
           },
           {
            "bin_start": 0.16207064166661111,
            "bin_end": 0.16295466059907385,
            "count": 0
           },
           {
            "bin_start": 0.16295466059907385,
            "bin_end": 0.16383867953153658,
            "count": 0
           },
           {
            "bin_start": 0.16383867953153658,
            "bin_end": 0.1647226984639993,
            "count": 0
           },
           {
            "bin_start": 0.1647226984639993,
            "bin_end": 0.16560671739646204,
            "count": 0
           },
           {
            "bin_start": 0.16560671739646204,
            "bin_end": 0.16649073632892478,
            "count": 1
           }
          ]
         }
        },
        {
         "name": [
          "prct_tip",
          "std"
         ],
         "dtype": "float64",
         "stats": {
          "unique_count": 2,
          "nan_count": 0,
          "min": "0.0536317262299475",
          "max": "0.06477787270951386",
          "histogram": [
           {
            "bin_start": 0.0536317262299475,
            "bin_end": 0.05474634087790414,
            "count": 1
           },
           {
            "bin_start": 0.05474634087790414,
            "bin_end": 0.055860955525860775,
            "count": 0
           },
           {
            "bin_start": 0.055860955525860775,
            "bin_end": 0.05697557017381741,
            "count": 0
           },
           {
            "bin_start": 0.05697557017381741,
            "bin_end": 0.05809018482177405,
            "count": 0
           },
           {
            "bin_start": 0.05809018482177405,
            "bin_end": 0.05920479946973069,
            "count": 0
           },
           {
            "bin_start": 0.05920479946973069,
            "bin_end": 0.06031941411768732,
            "count": 0
           },
           {
            "bin_start": 0.06031941411768732,
            "bin_end": 0.06143402876564395,
            "count": 0
           },
           {
            "bin_start": 0.06143402876564395,
            "bin_end": 0.06254864341360059,
            "count": 0
           },
           {
            "bin_start": 0.06254864341360059,
            "bin_end": 0.06366325806155723,
            "count": 0
           },
           {
            "bin_start": 0.06366325806155723,
            "bin_end": 0.06477787270951386,
            "count": 1
           }
          ]
         }
        },
        {
         "name": [
          "prct_tip",
          "min"
         ],
         "dtype": "float64",
         "stats": {
          "unique_count": 2,
          "nan_count": 0,
          "min": "0.03563813585135547",
          "max": "0.05643340857787811",
          "histogram": [
           {
            "bin_start": 0.03563813585135547,
            "bin_end": 0.03771766312400773,
            "count": 1
           },
           {
            "bin_start": 0.03771766312400773,
            "bin_end": 0.03979719039665999,
            "count": 0
           },
           {
            "bin_start": 0.03979719039665999,
            "bin_end": 0.04187671766931226,
            "count": 0
           },
           {
            "bin_start": 0.04187671766931226,
            "bin_end": 0.043956244941964526,
            "count": 0
           },
           {
            "bin_start": 0.043956244941964526,
            "bin_end": 0.046035772214616785,
            "count": 0
           },
           {
            "bin_start": 0.046035772214616785,
            "bin_end": 0.04811529948726905,
            "count": 0
           },
           {
            "bin_start": 0.04811529948726905,
            "bin_end": 0.05019482675992132,
            "count": 0
           },
           {
            "bin_start": 0.05019482675992132,
            "bin_end": 0.05227435403257358,
            "count": 0
           },
           {
            "bin_start": 0.05227435403257358,
            "bin_end": 0.054353881305225844,
            "count": 0
           },
           {
            "bin_start": 0.054353881305225844,
            "bin_end": 0.05643340857787811,
            "count": 1
           }
          ]
         }
        },
        {
         "name": [
          "prct_tip",
          "25%"
         ],
         "dtype": "float64",
         "stats": {
          "unique_count": 2,
          "nan_count": 0,
          "min": "0.12138868657441128",
          "max": "0.1404164487840004",
          "histogram": [
           {
            "bin_start": 0.12138868657441128,
            "bin_end": 0.12329146279537019,
            "count": 1
           },
           {
            "bin_start": 0.12329146279537019,
            "bin_end": 0.1251942390163291,
            "count": 0
           },
           {
            "bin_start": 0.1251942390163291,
            "bin_end": 0.127097015237288,
            "count": 0
           },
           {
            "bin_start": 0.127097015237288,
            "bin_end": 0.12899979145824692,
            "count": 0
           },
           {
            "bin_start": 0.12899979145824692,
            "bin_end": 0.13090256767920583,
            "count": 0
           },
           {
            "bin_start": 0.13090256767920583,
            "bin_end": 0.13280534390016474,
            "count": 0
           },
           {
            "bin_start": 0.13280534390016474,
            "bin_end": 0.13470812012112365,
            "count": 0
           },
           {
            "bin_start": 0.13470812012112365,
            "bin_end": 0.13661089634208257,
            "count": 0
           },
           {
            "bin_start": 0.13661089634208257,
            "bin_end": 0.13851367256304148,
            "count": 0
           },
           {
            "bin_start": 0.13851367256304148,
            "bin_end": 0.1404164487840004,
            "count": 1
           }
          ]
         }
        },
        {
         "name": [
          "prct_tip",
          "50%"
         ],
         "dtype": "float64",
         "stats": {
          "unique_count": 2,
          "nan_count": 0,
          "min": "0.15349194167306218",
          "max": "0.15558148580318942",
          "histogram": [
           {
            "bin_start": 0.15349194167306218,
            "bin_end": 0.1537008960860749,
            "count": 1
           },
           {
            "bin_start": 0.1537008960860749,
            "bin_end": 0.15390985049908762,
            "count": 0
           },
           {
            "bin_start": 0.15390985049908762,
            "bin_end": 0.15411880491210037,
            "count": 0
           },
           {
            "bin_start": 0.15411880491210037,
            "bin_end": 0.15432775932511308,
            "count": 0
           },
           {
            "bin_start": 0.15432775932511308,
            "bin_end": 0.1545367137381258,
            "count": 0
           },
           {
            "bin_start": 0.1545367137381258,
            "bin_end": 0.15474566815113852,
            "count": 0
           },
           {
            "bin_start": 0.15474566815113852,
            "bin_end": 0.15495462256415124,
            "count": 0
           },
           {
            "bin_start": 0.15495462256415124,
            "bin_end": 0.15516357697716399,
            "count": 0
           },
           {
            "bin_start": 0.15516357697716399,
            "bin_end": 0.1553725313901767,
            "count": 0
           },
           {
            "bin_start": 0.1553725313901767,
            "bin_end": 0.15558148580318942,
            "count": 1
           }
          ]
         }
        },
        {
         "name": [
          "prct_tip",
          "75%"
         ],
         "dtype": "float64",
         "stats": {
          "unique_count": 2,
          "nan_count": 0,
          "min": "0.18623962040332148",
          "max": "0.1942662127391307",
          "histogram": [
           {
            "bin_start": 0.18623962040332148,
            "bin_end": 0.1870422796369024,
            "count": 1
           },
           {
            "bin_start": 0.1870422796369024,
            "bin_end": 0.1878449388704833,
            "count": 0
           },
           {
            "bin_start": 0.1878449388704833,
            "bin_end": 0.18864759810406426,
            "count": 0
           },
           {
            "bin_start": 0.18864759810406426,
            "bin_end": 0.18945025733764517,
            "count": 0
           },
           {
            "bin_start": 0.18945025733764517,
            "bin_end": 0.1902529165712261,
            "count": 0
           },
           {
            "bin_start": 0.1902529165712261,
            "bin_end": 0.191055575804807,
            "count": 0
           },
           {
            "bin_start": 0.191055575804807,
            "bin_end": 0.19185823503838792,
            "count": 0
           },
           {
            "bin_start": 0.19185823503838792,
            "bin_end": 0.19266089427196886,
            "count": 0
           },
           {
            "bin_start": 0.19266089427196886,
            "bin_end": 0.19346355350554978,
            "count": 0
           },
           {
            "bin_start": 0.19346355350554978,
            "bin_end": 0.1942662127391307,
            "count": 1
           }
          ]
         }
        },
        {
         "name": [
          "prct_tip",
          "max"
         ],
         "dtype": "float64",
         "stats": {
          "unique_count": 2,
          "nan_count": 0,
          "min": "0.4166666666666667",
          "max": "0.710344827586207",
          "histogram": [
           {
            "bin_start": 0.4166666666666667,
            "bin_end": 0.44603448275862073,
            "count": 1
           },
           {
            "bin_start": 0.44603448275862073,
            "bin_end": 0.4754022988505747,
            "count": 0
           },
           {
            "bin_start": 0.4754022988505747,
            "bin_end": 0.5047701149425288,
            "count": 0
           },
           {
            "bin_start": 0.5047701149425288,
            "bin_end": 0.5341379310344828,
            "count": 0
           },
           {
            "bin_start": 0.5341379310344828,
            "bin_end": 0.5635057471264369,
            "count": 0
           },
           {
            "bin_start": 0.5635057471264369,
            "bin_end": 0.5928735632183908,
            "count": 0
           },
           {
            "bin_start": 0.5928735632183908,
            "bin_end": 0.622241379310345,
            "count": 0
           },
           {
            "bin_start": 0.622241379310345,
            "bin_end": 0.6516091954022989,
            "count": 0
           },
           {
            "bin_start": 0.6516091954022989,
            "bin_end": 0.6809770114942529,
            "count": 0
           },
           {
            "bin_start": 0.6809770114942529,
            "bin_end": 0.710344827586207,
            "count": 1
           }
          ]
         }
        },
        {
         "name": "_deepnote_index_column",
         "dtype": "category"
        }
       ],
       "rows_top": [
        {
         "('prct_tip', 'count')": 157,
         "('prct_tip', 'mean')": 0.15765054700429743,
         "('prct_tip', 'std')": 0.06477787270951386,
         "('prct_tip', 'min')": 0.03563813585135547,
         "('prct_tip', '25%')": 0.12138868657441128,
         "('prct_tip', '50%')": 0.15349194167306218,
         "('prct_tip', '75%')": 0.18623962040332148,
         "('prct_tip', 'max')": 0.710344827586207,
         "_deepnote_index_column": "Male"
        },
        {
         "('prct_tip', 'count')": 87,
         "('prct_tip', 'mean')": 0.16649073632892478,
         "('prct_tip', 'std')": 0.0536317262299475,
         "('prct_tip', 'min')": 0.05643340857787811,
         "('prct_tip', '25%')": 0.1404164487840004,
         "('prct_tip', '50%')": 0.15558148580318942,
         "('prct_tip', '75%')": 0.1942662127391307,
         "('prct_tip', 'max')": 0.4166666666666667,
         "_deepnote_index_column": "Female"
        }
       ],
       "rows_bottom": null
      },
      "text/plain": "       prct_tip                                                              \\\n          count      mean       std       min       25%       50%       75%   \nsex                                                                           \nMale      157.0  0.157651  0.064778  0.035638  0.121389  0.153492  0.186240   \nFemale     87.0  0.166491  0.053632  0.056433  0.140416  0.155581  0.194266   \n\n                  \n             max  \nsex               \nMale    0.710345  \nFemale  0.416667  ",
      "text/html": "<div>\n<style scoped>\n    .dataframe tbody tr th:only-of-type {\n        vertical-align: middle;\n    }\n\n    .dataframe tbody tr th {\n        vertical-align: top;\n    }\n\n    .dataframe thead tr th {\n        text-align: left;\n    }\n\n    .dataframe thead tr:last-of-type th {\n        text-align: right;\n    }\n</style>\n<table border=\"1\" class=\"dataframe\">\n  <thead>\n    <tr>\n      <th></th>\n      <th colspan=\"8\" halign=\"left\">prct_tip</th>\n    </tr>\n    <tr>\n      <th></th>\n      <th>count</th>\n      <th>mean</th>\n      <th>std</th>\n      <th>min</th>\n      <th>25%</th>\n      <th>50%</th>\n      <th>75%</th>\n      <th>max</th>\n    </tr>\n    <tr>\n      <th>sex</th>\n      <th></th>\n      <th></th>\n      <th></th>\n      <th></th>\n      <th></th>\n      <th></th>\n      <th></th>\n      <th></th>\n    </tr>\n  </thead>\n  <tbody>\n    <tr>\n      <th>Male</th>\n      <td>157.0</td>\n      <td>0.157651</td>\n      <td>0.064778</td>\n      <td>0.035638</td>\n      <td>0.121389</td>\n      <td>0.153492</td>\n      <td>0.186240</td>\n      <td>0.710345</td>\n    </tr>\n    <tr>\n      <th>Female</th>\n      <td>87.0</td>\n      <td>0.166491</td>\n      <td>0.053632</td>\n      <td>0.056433</td>\n      <td>0.140416</td>\n      <td>0.155581</td>\n      <td>0.194266</td>\n      <td>0.416667</td>\n    </tr>\n  </tbody>\n</table>\n</div>"
     },
     "metadata": {}
    }
   ],
   "execution_count": 7
  },
  {
   "cell_type": "markdown",
   "source": "## Funciones a multiples grupos",
   "metadata": {
    "tags": [],
    "cell_id": "00028-44de67f1-4d31-4097-9823-5783f3dd7986",
    "deepnote_cell_type": "markdown"
   }
  },
  {
   "cell_type": "code",
   "source": "df.groupby('sex')[['prct_tip','total_bill']].describe()",
   "metadata": {
    "tags": [],
    "cell_id": "00029-d9d5e774-eb4b-4ddf-80da-afd6d287767e",
    "deepnote_to_be_reexecuted": false,
    "source_hash": "2753d573",
    "execution_start": 1625184648417,
    "execution_millis": 13,
    "deepnote_cell_type": "code"
   },
   "outputs": [
    {
     "output_type": "execute_result",
     "execution_count": 8,
     "data": {
      "application/vnd.deepnote.dataframe.v2+json": {
       "row_count": 2,
       "column_count": 16,
       "columns": [
        {
         "name": [
          "prct_tip",
          "count"
         ],
         "dtype": "float64",
         "stats": {
          "unique_count": 2,
          "nan_count": 0,
          "min": "87.0",
          "max": "157.0",
          "histogram": [
           {
            "bin_start": 87,
            "bin_end": 94,
            "count": 1
           },
           {
            "bin_start": 94,
            "bin_end": 101,
            "count": 0
           },
           {
            "bin_start": 101,
            "bin_end": 108,
            "count": 0
           },
           {
            "bin_start": 108,
            "bin_end": 115,
            "count": 0
           },
           {
            "bin_start": 115,
            "bin_end": 122,
            "count": 0
           },
           {
            "bin_start": 122,
            "bin_end": 129,
            "count": 0
           },
           {
            "bin_start": 129,
            "bin_end": 136,
            "count": 0
           },
           {
            "bin_start": 136,
            "bin_end": 143,
            "count": 0
           },
           {
            "bin_start": 143,
            "bin_end": 150,
            "count": 0
           },
           {
            "bin_start": 150,
            "bin_end": 157,
            "count": 1
           }
          ]
         }
        },
        {
         "name": [
          "prct_tip",
          "mean"
         ],
         "dtype": "float64",
         "stats": {
          "unique_count": 2,
          "nan_count": 0,
          "min": "0.15765054700429743",
          "max": "0.16649073632892478",
          "histogram": [
           {
            "bin_start": 0.15765054700429743,
            "bin_end": 0.15853456593676016,
            "count": 1
           },
           {
            "bin_start": 0.15853456593676016,
            "bin_end": 0.1594185848692229,
            "count": 0
           },
           {
            "bin_start": 0.1594185848692229,
            "bin_end": 0.16030260380168562,
            "count": 0
           },
           {
            "bin_start": 0.16030260380168562,
            "bin_end": 0.16118662273414835,
            "count": 0
           },
           {
            "bin_start": 0.16118662273414835,
            "bin_end": 0.16207064166661111,
            "count": 0
           },
           {
            "bin_start": 0.16207064166661111,
            "bin_end": 0.16295466059907385,
            "count": 0
           },
           {
            "bin_start": 0.16295466059907385,
            "bin_end": 0.16383867953153658,
            "count": 0
           },
           {
            "bin_start": 0.16383867953153658,
            "bin_end": 0.1647226984639993,
            "count": 0
           },
           {
            "bin_start": 0.1647226984639993,
            "bin_end": 0.16560671739646204,
            "count": 0
           },
           {
            "bin_start": 0.16560671739646204,
            "bin_end": 0.16649073632892478,
            "count": 1
           }
          ]
         }
        },
        {
         "name": [
          "prct_tip",
          "std"
         ],
         "dtype": "float64",
         "stats": {
          "unique_count": 2,
          "nan_count": 0,
          "min": "0.0536317262299475",
          "max": "0.06477787270951386",
          "histogram": [
           {
            "bin_start": 0.0536317262299475,
            "bin_end": 0.05474634087790414,
            "count": 1
           },
           {
            "bin_start": 0.05474634087790414,
            "bin_end": 0.055860955525860775,
            "count": 0
           },
           {
            "bin_start": 0.055860955525860775,
            "bin_end": 0.05697557017381741,
            "count": 0
           },
           {
            "bin_start": 0.05697557017381741,
            "bin_end": 0.05809018482177405,
            "count": 0
           },
           {
            "bin_start": 0.05809018482177405,
            "bin_end": 0.05920479946973069,
            "count": 0
           },
           {
            "bin_start": 0.05920479946973069,
            "bin_end": 0.06031941411768732,
            "count": 0
           },
           {
            "bin_start": 0.06031941411768732,
            "bin_end": 0.06143402876564395,
            "count": 0
           },
           {
            "bin_start": 0.06143402876564395,
            "bin_end": 0.06254864341360059,
            "count": 0
           },
           {
            "bin_start": 0.06254864341360059,
            "bin_end": 0.06366325806155723,
            "count": 0
           },
           {
            "bin_start": 0.06366325806155723,
            "bin_end": 0.06477787270951386,
            "count": 1
           }
          ]
         }
        },
        {
         "name": [
          "prct_tip",
          "min"
         ],
         "dtype": "float64",
         "stats": {
          "unique_count": 2,
          "nan_count": 0,
          "min": "0.03563813585135547",
          "max": "0.05643340857787811",
          "histogram": [
           {
            "bin_start": 0.03563813585135547,
            "bin_end": 0.03771766312400773,
            "count": 1
           },
           {
            "bin_start": 0.03771766312400773,
            "bin_end": 0.03979719039665999,
            "count": 0
           },
           {
            "bin_start": 0.03979719039665999,
            "bin_end": 0.04187671766931226,
            "count": 0
           },
           {
            "bin_start": 0.04187671766931226,
            "bin_end": 0.043956244941964526,
            "count": 0
           },
           {
            "bin_start": 0.043956244941964526,
            "bin_end": 0.046035772214616785,
            "count": 0
           },
           {
            "bin_start": 0.046035772214616785,
            "bin_end": 0.04811529948726905,
            "count": 0
           },
           {
            "bin_start": 0.04811529948726905,
            "bin_end": 0.05019482675992132,
            "count": 0
           },
           {
            "bin_start": 0.05019482675992132,
            "bin_end": 0.05227435403257358,
            "count": 0
           },
           {
            "bin_start": 0.05227435403257358,
            "bin_end": 0.054353881305225844,
            "count": 0
           },
           {
            "bin_start": 0.054353881305225844,
            "bin_end": 0.05643340857787811,
            "count": 1
           }
          ]
         }
        },
        {
         "name": [
          "prct_tip",
          "25%"
         ],
         "dtype": "float64",
         "stats": {
          "unique_count": 2,
          "nan_count": 0,
          "min": "0.12138868657441128",
          "max": "0.1404164487840004",
          "histogram": [
           {
            "bin_start": 0.12138868657441128,
            "bin_end": 0.12329146279537019,
            "count": 1
           },
           {
            "bin_start": 0.12329146279537019,
            "bin_end": 0.1251942390163291,
            "count": 0
           },
           {
            "bin_start": 0.1251942390163291,
            "bin_end": 0.127097015237288,
            "count": 0
           },
           {
            "bin_start": 0.127097015237288,
            "bin_end": 0.12899979145824692,
            "count": 0
           },
           {
            "bin_start": 0.12899979145824692,
            "bin_end": 0.13090256767920583,
            "count": 0
           },
           {
            "bin_start": 0.13090256767920583,
            "bin_end": 0.13280534390016474,
            "count": 0
           },
           {
            "bin_start": 0.13280534390016474,
            "bin_end": 0.13470812012112365,
            "count": 0
           },
           {
            "bin_start": 0.13470812012112365,
            "bin_end": 0.13661089634208257,
            "count": 0
           },
           {
            "bin_start": 0.13661089634208257,
            "bin_end": 0.13851367256304148,
            "count": 0
           },
           {
            "bin_start": 0.13851367256304148,
            "bin_end": 0.1404164487840004,
            "count": 1
           }
          ]
         }
        },
        {
         "name": [
          "prct_tip",
          "50%"
         ],
         "dtype": "float64",
         "stats": {
          "unique_count": 2,
          "nan_count": 0,
          "min": "0.15349194167306218",
          "max": "0.15558148580318942",
          "histogram": [
           {
            "bin_start": 0.15349194167306218,
            "bin_end": 0.1537008960860749,
            "count": 1
           },
           {
            "bin_start": 0.1537008960860749,
            "bin_end": 0.15390985049908762,
            "count": 0
           },
           {
            "bin_start": 0.15390985049908762,
            "bin_end": 0.15411880491210037,
            "count": 0
           },
           {
            "bin_start": 0.15411880491210037,
            "bin_end": 0.15432775932511308,
            "count": 0
           },
           {
            "bin_start": 0.15432775932511308,
            "bin_end": 0.1545367137381258,
            "count": 0
           },
           {
            "bin_start": 0.1545367137381258,
            "bin_end": 0.15474566815113852,
            "count": 0
           },
           {
            "bin_start": 0.15474566815113852,
            "bin_end": 0.15495462256415124,
            "count": 0
           },
           {
            "bin_start": 0.15495462256415124,
            "bin_end": 0.15516357697716399,
            "count": 0
           },
           {
            "bin_start": 0.15516357697716399,
            "bin_end": 0.1553725313901767,
            "count": 0
           },
           {
            "bin_start": 0.1553725313901767,
            "bin_end": 0.15558148580318942,
            "count": 1
           }
          ]
         }
        },
        {
         "name": [
          "prct_tip",
          "75%"
         ],
         "dtype": "float64",
         "stats": {
          "unique_count": 2,
          "nan_count": 0,
          "min": "0.18623962040332148",
          "max": "0.1942662127391307",
          "histogram": [
           {
            "bin_start": 0.18623962040332148,
            "bin_end": 0.1870422796369024,
            "count": 1
           },
           {
            "bin_start": 0.1870422796369024,
            "bin_end": 0.1878449388704833,
            "count": 0
           },
           {
            "bin_start": 0.1878449388704833,
            "bin_end": 0.18864759810406426,
            "count": 0
           },
           {
            "bin_start": 0.18864759810406426,
            "bin_end": 0.18945025733764517,
            "count": 0
           },
           {
            "bin_start": 0.18945025733764517,
            "bin_end": 0.1902529165712261,
            "count": 0
           },
           {
            "bin_start": 0.1902529165712261,
            "bin_end": 0.191055575804807,
            "count": 0
           },
           {
            "bin_start": 0.191055575804807,
            "bin_end": 0.19185823503838792,
            "count": 0
           },
           {
            "bin_start": 0.19185823503838792,
            "bin_end": 0.19266089427196886,
            "count": 0
           },
           {
            "bin_start": 0.19266089427196886,
            "bin_end": 0.19346355350554978,
            "count": 0
           },
           {
            "bin_start": 0.19346355350554978,
            "bin_end": 0.1942662127391307,
            "count": 1
           }
          ]
         }
        },
        {
         "name": [
          "prct_tip",
          "max"
         ],
         "dtype": "float64",
         "stats": {
          "unique_count": 2,
          "nan_count": 0,
          "min": "0.4166666666666667",
          "max": "0.710344827586207",
          "histogram": [
           {
            "bin_start": 0.4166666666666667,
            "bin_end": 0.44603448275862073,
            "count": 1
           },
           {
            "bin_start": 0.44603448275862073,
            "bin_end": 0.4754022988505747,
            "count": 0
           },
           {
            "bin_start": 0.4754022988505747,
            "bin_end": 0.5047701149425288,
            "count": 0
           },
           {
            "bin_start": 0.5047701149425288,
            "bin_end": 0.5341379310344828,
            "count": 0
           },
           {
            "bin_start": 0.5341379310344828,
            "bin_end": 0.5635057471264369,
            "count": 0
           },
           {
            "bin_start": 0.5635057471264369,
            "bin_end": 0.5928735632183908,
            "count": 0
           },
           {
            "bin_start": 0.5928735632183908,
            "bin_end": 0.622241379310345,
            "count": 0
           },
           {
            "bin_start": 0.622241379310345,
            "bin_end": 0.6516091954022989,
            "count": 0
           },
           {
            "bin_start": 0.6516091954022989,
            "bin_end": 0.6809770114942529,
            "count": 0
           },
           {
            "bin_start": 0.6809770114942529,
            "bin_end": 0.710344827586207,
            "count": 1
           }
          ]
         }
        },
        {
         "name": [
          "total_bill",
          "count"
         ],
         "dtype": "float64",
         "stats": {
          "unique_count": 2,
          "nan_count": 0,
          "min": "87.0",
          "max": "157.0",
          "histogram": [
           {
            "bin_start": 87,
            "bin_end": 94,
            "count": 1
           },
           {
            "bin_start": 94,
            "bin_end": 101,
            "count": 0
           },
           {
            "bin_start": 101,
            "bin_end": 108,
            "count": 0
           },
           {
            "bin_start": 108,
            "bin_end": 115,
            "count": 0
           },
           {
            "bin_start": 115,
            "bin_end": 122,
            "count": 0
           },
           {
            "bin_start": 122,
            "bin_end": 129,
            "count": 0
           },
           {
            "bin_start": 129,
            "bin_end": 136,
            "count": 0
           },
           {
            "bin_start": 136,
            "bin_end": 143,
            "count": 0
           },
           {
            "bin_start": 143,
            "bin_end": 150,
            "count": 0
           },
           {
            "bin_start": 150,
            "bin_end": 157,
            "count": 1
           }
          ]
         }
        },
        {
         "name": [
          "total_bill",
          "mean"
         ],
         "dtype": "float64",
         "stats": {
          "unique_count": 2,
          "nan_count": 0,
          "min": "18.056896551724133",
          "max": "20.744076433121016",
          "histogram": [
           {
            "bin_start": 18.056896551724133,
            "bin_end": 18.32561453986382,
            "count": 1
           },
           {
            "bin_start": 18.32561453986382,
            "bin_end": 18.59433252800351,
            "count": 0
           },
           {
            "bin_start": 18.59433252800351,
            "bin_end": 18.863050516143197,
            "count": 0
           },
           {
            "bin_start": 18.863050516143197,
            "bin_end": 19.131768504282885,
            "count": 0
           },
           {
            "bin_start": 19.131768504282885,
            "bin_end": 19.400486492422573,
            "count": 0
           },
           {
            "bin_start": 19.400486492422573,
            "bin_end": 19.669204480562264,
            "count": 0
           },
           {
            "bin_start": 19.669204480562264,
            "bin_end": 19.937922468701952,
            "count": 0
           },
           {
            "bin_start": 19.937922468701952,
            "bin_end": 20.20664045684164,
            "count": 0
           },
           {
            "bin_start": 20.20664045684164,
            "bin_end": 20.475358444981328,
            "count": 0
           },
           {
            "bin_start": 20.475358444981328,
            "bin_end": 20.744076433121016,
            "count": 1
           }
          ]
         }
        },
        {
         "name": [
          "total_bill",
          "std"
         ],
         "dtype": "float64",
         "stats": {
          "unique_count": 2,
          "nan_count": 0,
          "min": "8.009208988951961",
          "max": "9.24646876154476",
          "histogram": [
           {
            "bin_start": 8.009208988951961,
            "bin_end": 8.132934966211241,
            "count": 1
           },
           {
            "bin_start": 8.132934966211241,
            "bin_end": 8.256660943470521,
            "count": 0
           },
           {
            "bin_start": 8.256660943470521,
            "bin_end": 8.380386920729801,
            "count": 0
           },
           {
            "bin_start": 8.380386920729801,
            "bin_end": 8.504112897989081,
            "count": 0
           },
           {
            "bin_start": 8.504112897989081,
            "bin_end": 8.627838875248361,
            "count": 0
           },
           {
            "bin_start": 8.627838875248361,
            "bin_end": 8.75156485250764,
            "count": 0
           },
           {
            "bin_start": 8.75156485250764,
            "bin_end": 8.87529082976692,
            "count": 0
           },
           {
            "bin_start": 8.87529082976692,
            "bin_end": 8.9990168070262,
            "count": 0
           },
           {
            "bin_start": 8.9990168070262,
            "bin_end": 9.12274278428548,
            "count": 0
           },
           {
            "bin_start": 9.12274278428548,
            "bin_end": 9.24646876154476,
            "count": 1
           }
          ]
         }
        },
        {
         "name": [
          "total_bill",
          "min"
         ],
         "dtype": "float64",
         "stats": {
          "unique_count": 2,
          "nan_count": 0,
          "min": "3.07",
          "max": "7.25",
          "histogram": [
           {
            "bin_start": 3.07,
            "bin_end": 3.488,
            "count": 1
           },
           {
            "bin_start": 3.488,
            "bin_end": 3.9059999999999997,
            "count": 0
           },
           {
            "bin_start": 3.9059999999999997,
            "bin_end": 4.324,
            "count": 0
           },
           {
            "bin_start": 4.324,
            "bin_end": 4.742,
            "count": 0
           },
           {
            "bin_start": 4.742,
            "bin_end": 5.16,
            "count": 0
           },
           {
            "bin_start": 5.16,
            "bin_end": 5.577999999999999,
            "count": 0
           },
           {
            "bin_start": 5.577999999999999,
            "bin_end": 5.9959999999999996,
            "count": 0
           },
           {
            "bin_start": 5.9959999999999996,
            "bin_end": 6.414,
            "count": 0
           },
           {
            "bin_start": 6.414,
            "bin_end": 6.832,
            "count": 0
           },
           {
            "bin_start": 6.832,
            "bin_end": 7.25,
            "count": 1
           }
          ]
         }
        },
        {
         "name": [
          "total_bill",
          "25%"
         ],
         "dtype": "float64",
         "stats": {
          "unique_count": 2,
          "nan_count": 0,
          "min": "12.75",
          "max": "14.0",
          "histogram": [
           {
            "bin_start": 12.75,
            "bin_end": 12.875,
            "count": 1
           },
           {
            "bin_start": 12.875,
            "bin_end": 13,
            "count": 0
           },
           {
            "bin_start": 13,
            "bin_end": 13.125,
            "count": 0
           },
           {
            "bin_start": 13.125,
            "bin_end": 13.25,
            "count": 0
           },
           {
            "bin_start": 13.25,
            "bin_end": 13.375,
            "count": 0
           },
           {
            "bin_start": 13.375,
            "bin_end": 13.5,
            "count": 0
           },
           {
            "bin_start": 13.5,
            "bin_end": 13.625,
            "count": 0
           },
           {
            "bin_start": 13.625,
            "bin_end": 13.75,
            "count": 0
           },
           {
            "bin_start": 13.75,
            "bin_end": 13.875,
            "count": 0
           },
           {
            "bin_start": 13.875,
            "bin_end": 14,
            "count": 1
           }
          ]
         }
        },
        {
         "name": [
          "total_bill",
          "50%"
         ],
         "dtype": "float64",
         "stats": {
          "unique_count": 2,
          "nan_count": 0,
          "min": "16.4",
          "max": "18.35",
          "histogram": [
           {
            "bin_start": 16.4,
            "bin_end": 16.595,
            "count": 1
           },
           {
            "bin_start": 16.595,
            "bin_end": 16.79,
            "count": 0
           },
           {
            "bin_start": 16.79,
            "bin_end": 16.985,
            "count": 0
           },
           {
            "bin_start": 16.985,
            "bin_end": 17.18,
            "count": 0
           },
           {
            "bin_start": 17.18,
            "bin_end": 17.375,
            "count": 0
           },
           {
            "bin_start": 17.375,
            "bin_end": 17.57,
            "count": 0
           },
           {
            "bin_start": 17.57,
            "bin_end": 17.765,
            "count": 0
           },
           {
            "bin_start": 17.765,
            "bin_end": 17.96,
            "count": 0
           },
           {
            "bin_start": 17.96,
            "bin_end": 18.155,
            "count": 0
           },
           {
            "bin_start": 18.155,
            "bin_end": 18.35,
            "count": 1
           }
          ]
         }
        },
        {
         "name": [
          "total_bill",
          "75%"
         ],
         "dtype": "float64",
         "stats": {
          "unique_count": 2,
          "nan_count": 0,
          "min": "21.520000000000003",
          "max": "24.71",
          "histogram": [
           {
            "bin_start": 21.520000000000003,
            "bin_end": 21.839000000000002,
            "count": 1
           },
           {
            "bin_start": 21.839000000000002,
            "bin_end": 22.158,
            "count": 0
           },
           {
            "bin_start": 22.158,
            "bin_end": 22.477000000000004,
            "count": 0
           },
           {
            "bin_start": 22.477000000000004,
            "bin_end": 22.796000000000003,
            "count": 0
           },
           {
            "bin_start": 22.796000000000003,
            "bin_end": 23.115000000000002,
            "count": 0
           },
           {
            "bin_start": 23.115000000000002,
            "bin_end": 23.434,
            "count": 0
           },
           {
            "bin_start": 23.434,
            "bin_end": 23.753,
            "count": 0
           },
           {
            "bin_start": 23.753,
            "bin_end": 24.072000000000003,
            "count": 0
           },
           {
            "bin_start": 24.072000000000003,
            "bin_end": 24.391000000000002,
            "count": 0
           },
           {
            "bin_start": 24.391000000000002,
            "bin_end": 24.71,
            "count": 1
           }
          ]
         }
        },
        {
         "name": [
          "total_bill",
          "max"
         ],
         "dtype": "float64",
         "stats": {
          "unique_count": 2,
          "nan_count": 0,
          "min": "44.3",
          "max": "50.81",
          "histogram": [
           {
            "bin_start": 44.3,
            "bin_end": 44.951,
            "count": 1
           },
           {
            "bin_start": 44.951,
            "bin_end": 45.602,
            "count": 0
           },
           {
            "bin_start": 45.602,
            "bin_end": 46.253,
            "count": 0
           },
           {
            "bin_start": 46.253,
            "bin_end": 46.903999999999996,
            "count": 0
           },
           {
            "bin_start": 46.903999999999996,
            "bin_end": 47.555,
            "count": 0
           },
           {
            "bin_start": 47.555,
            "bin_end": 48.206,
            "count": 0
           },
           {
            "bin_start": 48.206,
            "bin_end": 48.857,
            "count": 0
           },
           {
            "bin_start": 48.857,
            "bin_end": 49.508,
            "count": 0
           },
           {
            "bin_start": 49.508,
            "bin_end": 50.159,
            "count": 0
           },
           {
            "bin_start": 50.159,
            "bin_end": 50.81,
            "count": 1
           }
          ]
         }
        },
        {
         "name": "_deepnote_index_column",
         "dtype": "category"
        }
       ],
       "rows_top": [
        {
         "('prct_tip', 'count')": 157,
         "('prct_tip', 'mean')": 0.15765054700429743,
         "('prct_tip', 'std')": 0.06477787270951386,
         "('prct_tip', 'min')": 0.03563813585135547,
         "('prct_tip', '25%')": 0.12138868657441128,
         "('prct_tip', '50%')": 0.15349194167306218,
         "('prct_tip', '75%')": 0.18623962040332148,
         "('prct_tip', 'max')": 0.710344827586207,
         "('total_bill', 'count')": 157,
         "('total_bill', 'mean')": 20.744076433121016,
         "('total_bill', 'std')": 9.24646876154476,
         "('total_bill', 'min')": 7.25,
         "('total_bill', '25%')": 14,
         "('total_bill', '50%')": 18.35,
         "('total_bill', '75%')": 24.71,
         "('total_bill', 'max')": 50.81,
         "_deepnote_index_column": "Male"
        },
        {
         "('prct_tip', 'count')": 87,
         "('prct_tip', 'mean')": 0.16649073632892478,
         "('prct_tip', 'std')": 0.0536317262299475,
         "('prct_tip', 'min')": 0.05643340857787811,
         "('prct_tip', '25%')": 0.1404164487840004,
         "('prct_tip', '50%')": 0.15558148580318942,
         "('prct_tip', '75%')": 0.1942662127391307,
         "('prct_tip', 'max')": 0.4166666666666667,
         "('total_bill', 'count')": 87,
         "('total_bill', 'mean')": 18.056896551724133,
         "('total_bill', 'std')": 8.009208988951961,
         "('total_bill', 'min')": 3.07,
         "('total_bill', '25%')": 12.75,
         "('total_bill', '50%')": 16.4,
         "('total_bill', '75%')": 21.520000000000003,
         "('total_bill', 'max')": 44.3,
         "_deepnote_index_column": "Female"
        }
       ],
       "rows_bottom": null
      },
      "text/plain": "       prct_tip                                                              \\\n          count      mean       std       min       25%       50%       75%   \nsex                                                                           \nMale      157.0  0.157651  0.064778  0.035638  0.121389  0.153492  0.186240   \nFemale     87.0  0.166491  0.053632  0.056433  0.140416  0.155581  0.194266   \n\n                 total_bill                                                  \\\n             max      count       mean       std   min    25%    50%    75%   \nsex                                                                           \nMale    0.710345      157.0  20.744076  9.246469  7.25  14.00  18.35  24.71   \nFemale  0.416667       87.0  18.056897  8.009209  3.07  12.75  16.40  21.52   \n\n               \n          max  \nsex            \nMale    50.81  \nFemale  44.30  ",
      "text/html": "<div>\n<style scoped>\n    .dataframe tbody tr th:only-of-type {\n        vertical-align: middle;\n    }\n\n    .dataframe tbody tr th {\n        vertical-align: top;\n    }\n\n    .dataframe thead tr th {\n        text-align: left;\n    }\n\n    .dataframe thead tr:last-of-type th {\n        text-align: right;\n    }\n</style>\n<table border=\"1\" class=\"dataframe\">\n  <thead>\n    <tr>\n      <th></th>\n      <th colspan=\"8\" halign=\"left\">prct_tip</th>\n      <th colspan=\"8\" halign=\"left\">total_bill</th>\n    </tr>\n    <tr>\n      <th></th>\n      <th>count</th>\n      <th>mean</th>\n      <th>std</th>\n      <th>min</th>\n      <th>25%</th>\n      <th>50%</th>\n      <th>75%</th>\n      <th>max</th>\n      <th>count</th>\n      <th>mean</th>\n      <th>std</th>\n      <th>min</th>\n      <th>25%</th>\n      <th>50%</th>\n      <th>75%</th>\n      <th>max</th>\n    </tr>\n    <tr>\n      <th>sex</th>\n      <th></th>\n      <th></th>\n      <th></th>\n      <th></th>\n      <th></th>\n      <th></th>\n      <th></th>\n      <th></th>\n      <th></th>\n      <th></th>\n      <th></th>\n      <th></th>\n      <th></th>\n      <th></th>\n      <th></th>\n      <th></th>\n    </tr>\n  </thead>\n  <tbody>\n    <tr>\n      <th>Male</th>\n      <td>157.0</td>\n      <td>0.157651</td>\n      <td>0.064778</td>\n      <td>0.035638</td>\n      <td>0.121389</td>\n      <td>0.153492</td>\n      <td>0.186240</td>\n      <td>0.710345</td>\n      <td>157.0</td>\n      <td>20.744076</td>\n      <td>9.246469</td>\n      <td>7.25</td>\n      <td>14.00</td>\n      <td>18.35</td>\n      <td>24.71</td>\n      <td>50.81</td>\n    </tr>\n    <tr>\n      <th>Female</th>\n      <td>87.0</td>\n      <td>0.166491</td>\n      <td>0.053632</td>\n      <td>0.056433</td>\n      <td>0.140416</td>\n      <td>0.155581</td>\n      <td>0.194266</td>\n      <td>0.416667</td>\n      <td>87.0</td>\n      <td>18.056897</td>\n      <td>8.009209</td>\n      <td>3.07</td>\n      <td>12.75</td>\n      <td>16.40</td>\n      <td>21.52</td>\n      <td>44.30</td>\n    </tr>\n  </tbody>\n</table>\n</div>"
     },
     "metadata": {}
    }
   ],
   "execution_count": 8
  },
  {
   "cell_type": "markdown",
   "source": "## Funciones personalizadas",
   "metadata": {
    "tags": [],
    "cell_id": "00030-fbfd33d4-a7d5-4a8b-833e-68fd36873c89",
    "deepnote_cell_type": "markdown"
   }
  },
  {
   "cell_type": "code",
   "source": "def mean_eur_to_usd(x):\n    return np.mean(x)*1.12\n\ndf.groupby(['sex','time'])[['prct_tip','total_bill']].apply(mean_eur_to_usd)",
   "metadata": {
    "tags": [],
    "cell_id": "00031-f277c159-0aec-4093-b3ee-81a438ec2c2d",
    "deepnote_to_be_reexecuted": false,
    "source_hash": "a5d65365",
    "execution_start": 1625184662225,
    "execution_millis": 16,
    "deepnote_cell_type": "code"
   },
   "outputs": [
    {
     "output_type": "execute_result",
     "execution_count": 9,
     "data": {
      "application/vnd.deepnote.dataframe.v2+json": {
       "row_count": 4,
       "column_count": 2,
       "columns": [
        {
         "name": "prct_tip",
         "dtype": "float64",
         "stats": {
          "unique_count": 4,
          "nan_count": 0,
          "min": "0.1740553090246194",
          "max": "0.18964015779263285",
          "histogram": [
           {
            "bin_start": 0.1740553090246194,
            "bin_end": 0.17561379390142076,
            "count": 1
           },
           {
            "bin_start": 0.17561379390142076,
            "bin_end": 0.1771722787782221,
            "count": 0
           },
           {
            "bin_start": 0.1771722787782221,
            "bin_end": 0.17873076365502344,
            "count": 0
           },
           {
            "bin_start": 0.17873076365502344,
            "bin_end": 0.1802892485318248,
            "count": 0
           },
           {
            "bin_start": 0.1802892485318248,
            "bin_end": 0.18184773340862614,
            "count": 1
           },
           {
            "bin_start": 0.18184773340862614,
            "bin_end": 0.18340621828542747,
            "count": 0
           },
           {
            "bin_start": 0.18340621828542747,
            "bin_end": 0.18496470316222882,
            "count": 0
           },
           {
            "bin_start": 0.18496470316222882,
            "bin_end": 0.18652318803903017,
            "count": 1
           },
           {
            "bin_start": 0.18652318803903017,
            "bin_end": 0.1880816729158315,
            "count": 0
           },
           {
            "bin_start": 0.1880816729158315,
            "bin_end": 0.18964015779263285,
            "count": 1
           }
          ]
         }
        },
        {
         "name": "total_bill",
         "dtype": "float64",
         "stats": {
          "unique_count": 4,
          "nan_count": 0,
          "min": "18.299840000000003",
          "max": "24.036825806451617",
          "histogram": [
           {
            "bin_start": 18.299840000000003,
            "bin_end": 18.873538580645164,
            "count": 1
           },
           {
            "bin_start": 18.873538580645164,
            "bin_end": 19.447237161290325,
            "count": 0
           },
           {
            "bin_start": 19.447237161290325,
            "bin_end": 20.02093574193549,
            "count": 0
           },
           {
            "bin_start": 20.02093574193549,
            "bin_end": 20.59463432258065,
            "count": 1
           },
           {
            "bin_start": 20.59463432258065,
            "bin_end": 21.16833290322581,
            "count": 0
           },
           {
            "bin_start": 21.16833290322581,
            "bin_end": 21.74203148387097,
            "count": 1
           },
           {
            "bin_start": 21.74203148387097,
            "bin_end": 22.31573006451613,
            "count": 0
           },
           {
            "bin_start": 22.31573006451613,
            "bin_end": 22.889428645161296,
            "count": 0
           },
           {
            "bin_start": 22.889428645161296,
            "bin_end": 23.463127225806456,
            "count": 0
           },
           {
            "bin_start": 23.463127225806456,
            "bin_end": 24.036825806451617,
            "count": 1
           }
          ]
         }
        },
        {
         "name": "_deepnote_index_column",
         "dtype": "object"
        }
       ],
       "rows_top": [
        {
         "prct_tip": 0.18601254139948048,
         "total_bill": 20.214303030303036,
         "_deepnote_index_column": "('Male', 'Lunch')"
        },
        {
         "prct_tip": 0.1740553090246194,
         "total_bill": 24.036825806451617,
         "_deepnote_index_column": "('Male', 'Dinner')"
        },
        {
         "prct_tip": 0.18175911836210062,
         "total_bill": 18.299840000000003,
         "_deepnote_index_column": "('Female', 'Lunch')"
        },
        {
         "prct_tip": 0.18964015779263285,
         "total_bill": 21.518646153846156,
         "_deepnote_index_column": "('Female', 'Dinner')"
        }
       ],
       "rows_bottom": null
      },
      "text/plain": "               prct_tip  total_bill\nsex    time                        \nMale   Lunch   0.186013   20.214303\n       Dinner  0.174055   24.036826\nFemale Lunch   0.181759   18.299840\n       Dinner  0.189640   21.518646",
      "text/html": "<div>\n<style scoped>\n    .dataframe tbody tr th:only-of-type {\n        vertical-align: middle;\n    }\n\n    .dataframe tbody tr th {\n        vertical-align: top;\n    }\n\n    .dataframe thead th {\n        text-align: right;\n    }\n</style>\n<table border=\"1\" class=\"dataframe\">\n  <thead>\n    <tr style=\"text-align: right;\">\n      <th></th>\n      <th></th>\n      <th>prct_tip</th>\n      <th>total_bill</th>\n    </tr>\n    <tr>\n      <th>sex</th>\n      <th>time</th>\n      <th></th>\n      <th></th>\n    </tr>\n  </thead>\n  <tbody>\n    <tr>\n      <th rowspan=\"2\" valign=\"top\">Male</th>\n      <th>Lunch</th>\n      <td>0.186013</td>\n      <td>20.214303</td>\n    </tr>\n    <tr>\n      <th>Dinner</th>\n      <td>0.174055</td>\n      <td>24.036826</td>\n    </tr>\n    <tr>\n      <th rowspan=\"2\" valign=\"top\">Female</th>\n      <th>Lunch</th>\n      <td>0.181759</td>\n      <td>18.299840</td>\n    </tr>\n    <tr>\n      <th>Dinner</th>\n      <td>0.189640</td>\n      <td>21.518646</td>\n    </tr>\n  </tbody>\n</table>\n</div>"
     },
     "metadata": {}
    }
   ],
   "execution_count": 9
  },
  {
   "cell_type": "code",
   "source": "df.groupby(['sex','time'])[['prct_tip','total_bill']].apply(lambda x : np.mean(x)*1.12)",
   "metadata": {
    "tags": [],
    "cell_id": "00032-615a8bf3-f8f1-487b-a09a-4ad8f5b717ca",
    "deepnote_to_be_reexecuted": false,
    "source_hash": "d8eb502f",
    "execution_start": 1625184668683,
    "execution_millis": 8,
    "deepnote_cell_type": "code"
   },
   "outputs": [
    {
     "output_type": "execute_result",
     "execution_count": 10,
     "data": {
      "application/vnd.deepnote.dataframe.v2+json": {
       "row_count": 4,
       "column_count": 2,
       "columns": [
        {
         "name": "prct_tip",
         "dtype": "float64",
         "stats": {
          "unique_count": 4,
          "nan_count": 0,
          "min": "0.1740553090246194",
          "max": "0.18964015779263285",
          "histogram": [
           {
            "bin_start": 0.1740553090246194,
            "bin_end": 0.17561379390142076,
            "count": 1
           },
           {
            "bin_start": 0.17561379390142076,
            "bin_end": 0.1771722787782221,
            "count": 0
           },
           {
            "bin_start": 0.1771722787782221,
            "bin_end": 0.17873076365502344,
            "count": 0
           },
           {
            "bin_start": 0.17873076365502344,
            "bin_end": 0.1802892485318248,
            "count": 0
           },
           {
            "bin_start": 0.1802892485318248,
            "bin_end": 0.18184773340862614,
            "count": 1
           },
           {
            "bin_start": 0.18184773340862614,
            "bin_end": 0.18340621828542747,
            "count": 0
           },
           {
            "bin_start": 0.18340621828542747,
            "bin_end": 0.18496470316222882,
            "count": 0
           },
           {
            "bin_start": 0.18496470316222882,
            "bin_end": 0.18652318803903017,
            "count": 1
           },
           {
            "bin_start": 0.18652318803903017,
            "bin_end": 0.1880816729158315,
            "count": 0
           },
           {
            "bin_start": 0.1880816729158315,
            "bin_end": 0.18964015779263285,
            "count": 1
           }
          ]
         }
        },
        {
         "name": "total_bill",
         "dtype": "float64",
         "stats": {
          "unique_count": 4,
          "nan_count": 0,
          "min": "18.299840000000003",
          "max": "24.036825806451617",
          "histogram": [
           {
            "bin_start": 18.299840000000003,
            "bin_end": 18.873538580645164,
            "count": 1
           },
           {
            "bin_start": 18.873538580645164,
            "bin_end": 19.447237161290325,
            "count": 0
           },
           {
            "bin_start": 19.447237161290325,
            "bin_end": 20.02093574193549,
            "count": 0
           },
           {
            "bin_start": 20.02093574193549,
            "bin_end": 20.59463432258065,
            "count": 1
           },
           {
            "bin_start": 20.59463432258065,
            "bin_end": 21.16833290322581,
            "count": 0
           },
           {
            "bin_start": 21.16833290322581,
            "bin_end": 21.74203148387097,
            "count": 1
           },
           {
            "bin_start": 21.74203148387097,
            "bin_end": 22.31573006451613,
            "count": 0
           },
           {
            "bin_start": 22.31573006451613,
            "bin_end": 22.889428645161296,
            "count": 0
           },
           {
            "bin_start": 22.889428645161296,
            "bin_end": 23.463127225806456,
            "count": 0
           },
           {
            "bin_start": 23.463127225806456,
            "bin_end": 24.036825806451617,
            "count": 1
           }
          ]
         }
        },
        {
         "name": "_deepnote_index_column",
         "dtype": "object"
        }
       ],
       "rows_top": [
        {
         "prct_tip": 0.18601254139948048,
         "total_bill": 20.214303030303036,
         "_deepnote_index_column": "('Male', 'Lunch')"
        },
        {
         "prct_tip": 0.1740553090246194,
         "total_bill": 24.036825806451617,
         "_deepnote_index_column": "('Male', 'Dinner')"
        },
        {
         "prct_tip": 0.18175911836210062,
         "total_bill": 18.299840000000003,
         "_deepnote_index_column": "('Female', 'Lunch')"
        },
        {
         "prct_tip": 0.18964015779263285,
         "total_bill": 21.518646153846156,
         "_deepnote_index_column": "('Female', 'Dinner')"
        }
       ],
       "rows_bottom": null
      },
      "text/plain": "               prct_tip  total_bill\nsex    time                        \nMale   Lunch   0.186013   20.214303\n       Dinner  0.174055   24.036826\nFemale Lunch   0.181759   18.299840\n       Dinner  0.189640   21.518646",
      "text/html": "<div>\n<style scoped>\n    .dataframe tbody tr th:only-of-type {\n        vertical-align: middle;\n    }\n\n    .dataframe tbody tr th {\n        vertical-align: top;\n    }\n\n    .dataframe thead th {\n        text-align: right;\n    }\n</style>\n<table border=\"1\" class=\"dataframe\">\n  <thead>\n    <tr style=\"text-align: right;\">\n      <th></th>\n      <th></th>\n      <th>prct_tip</th>\n      <th>total_bill</th>\n    </tr>\n    <tr>\n      <th>sex</th>\n      <th>time</th>\n      <th></th>\n      <th></th>\n    </tr>\n  </thead>\n  <tbody>\n    <tr>\n      <th rowspan=\"2\" valign=\"top\">Male</th>\n      <th>Lunch</th>\n      <td>0.186013</td>\n      <td>20.214303</td>\n    </tr>\n    <tr>\n      <th>Dinner</th>\n      <td>0.174055</td>\n      <td>24.036826</td>\n    </tr>\n    <tr>\n      <th rowspan=\"2\" valign=\"top\">Female</th>\n      <th>Lunch</th>\n      <td>0.181759</td>\n      <td>18.299840</td>\n    </tr>\n    <tr>\n      <th>Dinner</th>\n      <td>0.189640</td>\n      <td>21.518646</td>\n    </tr>\n  </tbody>\n</table>\n</div>"
     },
     "metadata": {}
    }
   ],
   "execution_count": 10
  },
  {
   "cell_type": "markdown",
   "source": "## Multiples funciones\nObtenemos el valor promedio y maximo de las facturas y las propinas",
   "metadata": {
    "tags": [],
    "cell_id": "00033-a6ddc563-3f18-4bd0-9bdf-74bcf55d450a",
    "deepnote_cell_type": "markdown"
   }
  },
  {
   "cell_type": "code",
   "source": "df.groupby(['sex','time'])[['total_bill','prct_tip']].agg([np.mean,np.max])",
   "metadata": {
    "tags": [],
    "cell_id": "00034-ec6b561f-a83e-455b-b6b6-b45478fa0516",
    "deepnote_to_be_reexecuted": false,
    "source_hash": "186cdf46",
    "execution_start": 1625185029094,
    "execution_millis": 16,
    "deepnote_cell_type": "code"
   },
   "outputs": [
    {
     "output_type": "execute_result",
     "execution_count": 16,
     "data": {
      "application/vnd.deepnote.dataframe.v2+json": {
       "row_count": 4,
       "column_count": 4,
       "columns": [
        {
         "name": [
          "total_bill",
          "mean"
         ],
         "dtype": "float64",
         "stats": {
          "unique_count": 4,
          "nan_count": 0,
          "min": "16.339142857142857",
          "max": "21.461451612903236",
          "histogram": [
           {
            "bin_start": 16.339142857142857,
            "bin_end": 16.851373732718894,
            "count": 1
           },
           {
            "bin_start": 16.851373732718894,
            "bin_end": 17.36360460829493,
            "count": 0
           },
           {
            "bin_start": 17.36360460829493,
            "bin_end": 17.875835483870972,
            "count": 0
           },
           {
            "bin_start": 17.875835483870972,
            "bin_end": 18.38806635944701,
            "count": 1
           },
           {
            "bin_start": 18.38806635944701,
            "bin_end": 18.900297235023046,
            "count": 0
           },
           {
            "bin_start": 18.900297235023046,
            "bin_end": 19.412528110599084,
            "count": 1
           },
           {
            "bin_start": 19.412528110599084,
            "bin_end": 19.92475898617512,
            "count": 0
           },
           {
            "bin_start": 19.92475898617512,
            "bin_end": 20.436989861751158,
            "count": 0
           },
           {
            "bin_start": 20.436989861751158,
            "bin_end": 20.9492207373272,
            "count": 0
           },
           {
            "bin_start": 20.9492207373272,
            "bin_end": 21.461451612903236,
            "count": 1
           }
          ]
         }
        },
        {
         "name": [
          "total_bill",
          "amax"
         ],
         "dtype": "float64",
         "stats": {
          "unique_count": 4,
          "nan_count": 0,
          "min": "41.19",
          "max": "50.81",
          "histogram": [
           {
            "bin_start": 41.19,
            "bin_end": 42.152,
            "count": 1
           },
           {
            "bin_start": 42.152,
            "bin_end": 43.114,
            "count": 1
           },
           {
            "bin_start": 43.114,
            "bin_end": 44.076,
            "count": 0
           },
           {
            "bin_start": 44.076,
            "bin_end": 45.038,
            "count": 1
           },
           {
            "bin_start": 45.038,
            "bin_end": 46,
            "count": 0
           },
           {
            "bin_start": 46,
            "bin_end": 46.962,
            "count": 0
           },
           {
            "bin_start": 46.962,
            "bin_end": 47.924,
            "count": 0
           },
           {
            "bin_start": 47.924,
            "bin_end": 48.886,
            "count": 0
           },
           {
            "bin_start": 48.886,
            "bin_end": 49.848,
            "count": 0
           },
           {
            "bin_start": 49.848,
            "bin_end": 50.81,
            "count": 1
           }
          ]
         }
        },
        {
         "name": [
          "prct_tip",
          "mean"
         ],
         "dtype": "float64",
         "stats": {
          "unique_count": 4,
          "nan_count": 0,
          "min": "0.15540652591483875",
          "max": "0.1693215694577079",
          "histogram": [
           {
            "bin_start": 0.15540652591483875,
            "bin_end": 0.15679803026912567,
            "count": 1
           },
           {
            "bin_start": 0.15679803026912567,
            "bin_end": 0.1581895346234126,
            "count": 0
           },
           {
            "bin_start": 0.1581895346234126,
            "bin_end": 0.15958103897769949,
            "count": 0
           },
           {
            "bin_start": 0.15958103897769949,
            "bin_end": 0.1609725433319864,
            "count": 0
           },
           {
            "bin_start": 0.1609725433319864,
            "bin_end": 0.16236404768627333,
            "count": 1
           },
           {
            "bin_start": 0.16236404768627333,
            "bin_end": 0.16375555204056025,
            "count": 0
           },
           {
            "bin_start": 0.16375555204056025,
            "bin_end": 0.16514705639484717,
            "count": 0
           },
           {
            "bin_start": 0.16514705639484717,
            "bin_end": 0.16653856074913406,
            "count": 1
           },
           {
            "bin_start": 0.16653856074913406,
            "bin_end": 0.16793006510342098,
            "count": 0
           },
           {
            "bin_start": 0.16793006510342098,
            "bin_end": 0.1693215694577079,
            "count": 1
           }
          ]
         }
        },
        {
         "name": [
          "prct_tip",
          "amax"
         ],
         "dtype": "float64",
         "stats": {
          "unique_count": 4,
          "nan_count": 0,
          "min": "0.2593144560357675",
          "max": "0.710344827586207",
          "histogram": [
           {
            "bin_start": 0.2593144560357675,
            "bin_end": 0.30441749319081146,
            "count": 2
           },
           {
            "bin_start": 0.30441749319081146,
            "bin_end": 0.3495205303458554,
            "count": 0
           },
           {
            "bin_start": 0.3495205303458554,
            "bin_end": 0.3946235675008994,
            "count": 0
           },
           {
            "bin_start": 0.3946235675008994,
            "bin_end": 0.4397266046559433,
            "count": 1
           },
           {
            "bin_start": 0.4397266046559433,
            "bin_end": 0.48482964181098726,
            "count": 0
           },
           {
            "bin_start": 0.48482964181098726,
            "bin_end": 0.5299326789660312,
            "count": 0
           },
           {
            "bin_start": 0.5299326789660312,
            "bin_end": 0.5750357161210752,
            "count": 0
           },
           {
            "bin_start": 0.5750357161210752,
            "bin_end": 0.6201387532761191,
            "count": 0
           },
           {
            "bin_start": 0.6201387532761191,
            "bin_end": 0.665241790431163,
            "count": 0
           },
           {
            "bin_start": 0.665241790431163,
            "bin_end": 0.710344827586207,
            "count": 1
           }
          ]
         }
        },
        {
         "name": "_deepnote_index_column",
         "dtype": "object"
        }
       ],
       "rows_top": [
        {
         "('total_bill', 'mean')": 18.048484848484847,
         "('total_bill', 'amax')": 41.19,
         "('prct_tip', 'mean')": 0.16608262624953618,
         "('prct_tip', 'amax')": 0.2663115845539281,
         "_deepnote_index_column": "('Male', 'Lunch')"
        },
        {
         "('total_bill', 'mean')": 21.461451612903236,
         "('total_bill', 'amax')": 50.81,
         "('prct_tip', 'mean')": 0.15540652591483875,
         "('prct_tip', 'amax')": 0.710344827586207,
         "_deepnote_index_column": "('Male', 'Dinner')"
        },
        {
         "('total_bill', 'mean')": 16.339142857142857,
         "('total_bill', 'amax')": 43.11,
         "('prct_tip', 'mean')": 0.16228492710901843,
         "('prct_tip', 'amax')": 0.2593144560357675,
         "_deepnote_index_column": "('Female', 'Lunch')"
        },
        {
         "('total_bill', 'mean')": 19.21307692307692,
         "('total_bill', 'amax')": 44.3,
         "('prct_tip', 'mean')": 0.1693215694577079,
         "('prct_tip', 'amax')": 0.4166666666666667,
         "_deepnote_index_column": "('Female', 'Dinner')"
        }
       ],
       "rows_bottom": null
      },
      "text/plain": "              total_bill         prct_tip          \n                    mean   amax      mean      amax\nsex    time                                        \nMale   Lunch   18.048485  41.19  0.166083  0.266312\n       Dinner  21.461452  50.81  0.155407  0.710345\nFemale Lunch   16.339143  43.11  0.162285  0.259314\n       Dinner  19.213077  44.30  0.169322  0.416667",
      "text/html": "<div>\n<style scoped>\n    .dataframe tbody tr th:only-of-type {\n        vertical-align: middle;\n    }\n\n    .dataframe tbody tr th {\n        vertical-align: top;\n    }\n\n    .dataframe thead tr th {\n        text-align: left;\n    }\n\n    .dataframe thead tr:last-of-type th {\n        text-align: right;\n    }\n</style>\n<table border=\"1\" class=\"dataframe\">\n  <thead>\n    <tr>\n      <th></th>\n      <th></th>\n      <th colspan=\"2\" halign=\"left\">total_bill</th>\n      <th colspan=\"2\" halign=\"left\">prct_tip</th>\n    </tr>\n    <tr>\n      <th></th>\n      <th></th>\n      <th>mean</th>\n      <th>amax</th>\n      <th>mean</th>\n      <th>amax</th>\n    </tr>\n    <tr>\n      <th>sex</th>\n      <th>time</th>\n      <th></th>\n      <th></th>\n      <th></th>\n      <th></th>\n    </tr>\n  </thead>\n  <tbody>\n    <tr>\n      <th rowspan=\"2\" valign=\"top\">Male</th>\n      <th>Lunch</th>\n      <td>18.048485</td>\n      <td>41.19</td>\n      <td>0.166083</td>\n      <td>0.266312</td>\n    </tr>\n    <tr>\n      <th>Dinner</th>\n      <td>21.461452</td>\n      <td>50.81</td>\n      <td>0.155407</td>\n      <td>0.710345</td>\n    </tr>\n    <tr>\n      <th rowspan=\"2\" valign=\"top\">Female</th>\n      <th>Lunch</th>\n      <td>16.339143</td>\n      <td>43.11</td>\n      <td>0.162285</td>\n      <td>0.259314</td>\n    </tr>\n    <tr>\n      <th>Dinner</th>\n      <td>19.213077</td>\n      <td>44.30</td>\n      <td>0.169322</td>\n      <td>0.416667</td>\n    </tr>\n  </tbody>\n</table>\n</div>"
     },
     "metadata": {}
    }
   ],
   "execution_count": 16
  },
  {
   "cell_type": "code",
   "source": "dict_agg = {'tip':[min, max],'total_bill':[np.mean, mean_eur_to_usd]}\ndf.groupby(['sex','time'])[['total_bill','tip']].agg(dict_agg)",
   "metadata": {
    "tags": [],
    "cell_id": "00035-a86ff849-601d-4631-9825-ee68f03ed99e",
    "deepnote_to_be_reexecuted": false,
    "source_hash": "6a1455f7",
    "execution_start": 1625185128358,
    "execution_millis": 80,
    "deepnote_cell_type": "code"
   },
   "outputs": [
    {
     "output_type": "execute_result",
     "execution_count": 21,
     "data": {
      "application/vnd.deepnote.dataframe.v2+json": {
       "row_count": 4,
       "column_count": 4,
       "columns": [
        {
         "name": [
          "tip",
          "min"
         ],
         "dtype": "float64",
         "stats": {
          "unique_count": 3,
          "nan_count": 0,
          "min": "1.0",
          "max": "1.44",
          "histogram": [
           {
            "bin_start": 1,
            "bin_end": 1.044,
            "count": 2
           },
           {
            "bin_start": 1.044,
            "bin_end": 1.088,
            "count": 0
           },
           {
            "bin_start": 1.088,
            "bin_end": 1.1320000000000001,
            "count": 0
           },
           {
            "bin_start": 1.1320000000000001,
            "bin_end": 1.176,
            "count": 0
           },
           {
            "bin_start": 1.176,
            "bin_end": 1.22,
            "count": 0
           },
           {
            "bin_start": 1.22,
            "bin_end": 1.264,
            "count": 1
           },
           {
            "bin_start": 1.264,
            "bin_end": 1.308,
            "count": 0
           },
           {
            "bin_start": 1.308,
            "bin_end": 1.3519999999999999,
            "count": 0
           },
           {
            "bin_start": 1.3519999999999999,
            "bin_end": 1.396,
            "count": 0
           },
           {
            "bin_start": 1.396,
            "bin_end": 1.44,
            "count": 1
           }
          ]
         }
        },
        {
         "name": [
          "tip",
          "max"
         ],
         "dtype": "float64",
         "stats": {
          "unique_count": 4,
          "nan_count": 0,
          "min": "5.17",
          "max": "10.0",
          "histogram": [
           {
            "bin_start": 5.17,
            "bin_end": 5.653,
            "count": 1
           },
           {
            "bin_start": 5.653,
            "bin_end": 6.136,
            "count": 0
           },
           {
            "bin_start": 6.136,
            "bin_end": 6.619,
            "count": 1
           },
           {
            "bin_start": 6.619,
            "bin_end": 7.102,
            "count": 1
           },
           {
            "bin_start": 7.102,
            "bin_end": 7.585,
            "count": 0
           },
           {
            "bin_start": 7.585,
            "bin_end": 8.068,
            "count": 0
           },
           {
            "bin_start": 8.068,
            "bin_end": 8.551,
            "count": 0
           },
           {
            "bin_start": 8.551,
            "bin_end": 9.033999999999999,
            "count": 0
           },
           {
            "bin_start": 9.033999999999999,
            "bin_end": 9.517,
            "count": 0
           },
           {
            "bin_start": 9.517,
            "bin_end": 10,
            "count": 1
           }
          ]
         }
        },
        {
         "name": [
          "total_bill",
          "mean"
         ],
         "dtype": "float64",
         "stats": {
          "unique_count": 4,
          "nan_count": 0,
          "min": "16.339142857142857",
          "max": "21.461451612903236",
          "histogram": [
           {
            "bin_start": 16.339142857142857,
            "bin_end": 16.851373732718894,
            "count": 1
           },
           {
            "bin_start": 16.851373732718894,
            "bin_end": 17.36360460829493,
            "count": 0
           },
           {
            "bin_start": 17.36360460829493,
            "bin_end": 17.875835483870972,
            "count": 0
           },
           {
            "bin_start": 17.875835483870972,
            "bin_end": 18.38806635944701,
            "count": 1
           },
           {
            "bin_start": 18.38806635944701,
            "bin_end": 18.900297235023046,
            "count": 0
           },
           {
            "bin_start": 18.900297235023046,
            "bin_end": 19.412528110599084,
            "count": 1
           },
           {
            "bin_start": 19.412528110599084,
            "bin_end": 19.92475898617512,
            "count": 0
           },
           {
            "bin_start": 19.92475898617512,
            "bin_end": 20.436989861751158,
            "count": 0
           },
           {
            "bin_start": 20.436989861751158,
            "bin_end": 20.9492207373272,
            "count": 0
           },
           {
            "bin_start": 20.9492207373272,
            "bin_end": 21.461451612903236,
            "count": 1
           }
          ]
         }
        },
        {
         "name": [
          "total_bill",
          "mean_eur_to_usd"
         ],
         "dtype": "float64",
         "stats": {
          "unique_count": 4,
          "nan_count": 0,
          "min": "18.299840000000003",
          "max": "24.036825806451617",
          "histogram": [
           {
            "bin_start": 18.299840000000003,
            "bin_end": 18.873538580645164,
            "count": 1
           },
           {
            "bin_start": 18.873538580645164,
            "bin_end": 19.447237161290325,
            "count": 0
           },
           {
            "bin_start": 19.447237161290325,
            "bin_end": 20.02093574193549,
            "count": 0
           },
           {
            "bin_start": 20.02093574193549,
            "bin_end": 20.59463432258065,
            "count": 1
           },
           {
            "bin_start": 20.59463432258065,
            "bin_end": 21.16833290322581,
            "count": 0
           },
           {
            "bin_start": 21.16833290322581,
            "bin_end": 21.74203148387097,
            "count": 1
           },
           {
            "bin_start": 21.74203148387097,
            "bin_end": 22.31573006451613,
            "count": 0
           },
           {
            "bin_start": 22.31573006451613,
            "bin_end": 22.889428645161296,
            "count": 0
           },
           {
            "bin_start": 22.889428645161296,
            "bin_end": 23.463127225806456,
            "count": 0
           },
           {
            "bin_start": 23.463127225806456,
            "bin_end": 24.036825806451617,
            "count": 1
           }
          ]
         }
        },
        {
         "name": "_deepnote_index_column",
         "dtype": "object"
        }
       ],
       "rows_top": [
        {
         "('tip', 'min')": 1.44,
         "('tip', 'max')": 6.7,
         "('total_bill', 'mean')": 18.048484848484847,
         "('total_bill', 'mean_eur_to_usd')": 20.214303030303036,
         "_deepnote_index_column": "('Male', 'Lunch')"
        },
        {
         "('tip', 'min')": 1,
         "('tip', 'max')": 10,
         "('total_bill', 'mean')": 21.461451612903236,
         "('total_bill', 'mean_eur_to_usd')": 24.036825806451617,
         "_deepnote_index_column": "('Male', 'Dinner')"
        },
        {
         "('tip', 'min')": 1.25,
         "('tip', 'max')": 5.17,
         "('total_bill', 'mean')": 16.339142857142857,
         "('total_bill', 'mean_eur_to_usd')": 18.299840000000003,
         "_deepnote_index_column": "('Female', 'Lunch')"
        },
        {
         "('tip', 'min')": 1,
         "('tip', 'max')": 6.5,
         "('total_bill', 'mean')": 19.21307692307692,
         "('total_bill', 'mean_eur_to_usd')": 21.518646153846156,
         "_deepnote_index_column": "('Female', 'Dinner')"
        }
       ],
       "rows_bottom": null
      },
      "text/plain": "                tip        total_bill                \n                min    max       mean mean_eur_to_usd\nsex    time                                          \nMale   Lunch   1.44   6.70  18.048485       20.214303\n       Dinner  1.00  10.00  21.461452       24.036826\nFemale Lunch   1.25   5.17  16.339143       18.299840\n       Dinner  1.00   6.50  19.213077       21.518646",
      "text/html": "<div>\n<style scoped>\n    .dataframe tbody tr th:only-of-type {\n        vertical-align: middle;\n    }\n\n    .dataframe tbody tr th {\n        vertical-align: top;\n    }\n\n    .dataframe thead tr th {\n        text-align: left;\n    }\n\n    .dataframe thead tr:last-of-type th {\n        text-align: right;\n    }\n</style>\n<table border=\"1\" class=\"dataframe\">\n  <thead>\n    <tr>\n      <th></th>\n      <th></th>\n      <th colspan=\"2\" halign=\"left\">tip</th>\n      <th colspan=\"2\" halign=\"left\">total_bill</th>\n    </tr>\n    <tr>\n      <th></th>\n      <th></th>\n      <th>min</th>\n      <th>max</th>\n      <th>mean</th>\n      <th>mean_eur_to_usd</th>\n    </tr>\n    <tr>\n      <th>sex</th>\n      <th>time</th>\n      <th></th>\n      <th></th>\n      <th></th>\n      <th></th>\n    </tr>\n  </thead>\n  <tbody>\n    <tr>\n      <th rowspan=\"2\" valign=\"top\">Male</th>\n      <th>Lunch</th>\n      <td>1.44</td>\n      <td>6.70</td>\n      <td>18.048485</td>\n      <td>20.214303</td>\n    </tr>\n    <tr>\n      <th>Dinner</th>\n      <td>1.00</td>\n      <td>10.00</td>\n      <td>21.461452</td>\n      <td>24.036826</td>\n    </tr>\n    <tr>\n      <th rowspan=\"2\" valign=\"top\">Female</th>\n      <th>Lunch</th>\n      <td>1.25</td>\n      <td>5.17</td>\n      <td>16.339143</td>\n      <td>18.299840</td>\n    </tr>\n    <tr>\n      <th>Dinner</th>\n      <td>1.00</td>\n      <td>6.50</td>\n      <td>19.213077</td>\n      <td>21.518646</td>\n    </tr>\n  </tbody>\n</table>\n</div>"
     },
     "metadata": {}
    }
   ],
   "execution_count": 21
  },
  {
   "cell_type": "markdown",
   "source": "## Filtrar elementos con filtros personalizados",
   "metadata": {
    "tags": [],
    "cell_id": "00036-acdb3b91-8fc5-4236-a3f7-8c9c3cb44b8c",
    "deepnote_cell_type": "markdown"
   }
  },
  {
   "cell_type": "code",
   "source": "def filter_bill(x):\n    return mean_eur_to_usd(x['total_bill'].mean()) > 20\ndf_filtered = df.groupby(['sex','time']).filter(filter_bill)\ndf_filtered",
   "metadata": {
    "tags": [],
    "cell_id": "00036-f4e40e92-156d-42cf-a268-76ad72aee49e",
    "deepnote_to_be_reexecuted": false,
    "source_hash": "d23e225e",
    "execution_start": 1625185479291,
    "execution_millis": 75,
    "deepnote_cell_type": "code"
   },
   "outputs": [
    {
     "output_type": "execute_result",
     "execution_count": 32,
     "data": {
      "application/vnd.deepnote.dataframe.v2+json": {
       "row_count": 209,
       "column_count": 8,
       "columns": [
        {
         "name": "total_bill",
         "dtype": "float64",
         "stats": {
          "unique_count": 200,
          "nan_count": 0,
          "min": "3.07",
          "max": "50.81",
          "histogram": [
           {
            "bin_start": 3.07,
            "bin_end": 7.843999999999999,
            "count": 7
           },
           {
            "bin_start": 7.843999999999999,
            "bin_end": 12.618,
            "count": 30
           },
           {
            "bin_start": 12.618,
            "bin_end": 17.392,
            "count": 55
           },
           {
            "bin_start": 17.392,
            "bin_end": 22.166,
            "count": 46
           },
           {
            "bin_start": 22.166,
            "bin_end": 26.94,
            "count": 30
           },
           {
            "bin_start": 26.94,
            "bin_end": 31.714,
            "count": 17
           },
           {
            "bin_start": 31.714,
            "bin_end": 36.488,
            "count": 11
           },
           {
            "bin_start": 36.488,
            "bin_end": 41.262,
            "count": 7
           },
           {
            "bin_start": 41.262,
            "bin_end": 46.036,
            "count": 2
           },
           {
            "bin_start": 46.036,
            "bin_end": 50.81,
            "count": 4
           }
          ]
         }
        },
        {
         "name": "tip",
         "dtype": "float64",
         "stats": {
          "unique_count": 111,
          "nan_count": 0,
          "min": "1.0",
          "max": "10.0",
          "histogram": [
           {
            "bin_start": 1,
            "bin_end": 1.9,
            "count": 32
           },
           {
            "bin_start": 1.9,
            "bin_end": 2.8,
            "count": 65
           },
           {
            "bin_start": 2.8,
            "bin_end": 3.7,
            "count": 59
           },
           {
            "bin_start": 3.7,
            "bin_end": 4.6,
            "count": 25
           },
           {
            "bin_start": 4.6,
            "bin_end": 5.5,
            "count": 16
           },
           {
            "bin_start": 5.5,
            "bin_end": 6.4,
            "count": 5
           },
           {
            "bin_start": 6.4,
            "bin_end": 7.3,
            "count": 4
           },
           {
            "bin_start": 7.3,
            "bin_end": 8.2,
            "count": 1
           },
           {
            "bin_start": 8.2,
            "bin_end": 9.1,
            "count": 1
           },
           {
            "bin_start": 9.1,
            "bin_end": 10,
            "count": 1
           }
          ]
         }
        },
        {
         "name": "sex",
         "dtype": "category",
         "stats": {
          "unique_count": 2,
          "nan_count": 0,
          "categories": [
           {
            "name": "Male",
            "count": 157
           },
           {
            "name": "Female",
            "count": 52
           }
          ]
         }
        },
        {
         "name": "smoker",
         "dtype": "category",
         "stats": {
          "unique_count": 2,
          "nan_count": 0,
          "categories": [
           {
            "name": "No",
            "count": 126
           },
           {
            "name": "Yes",
            "count": 83
           }
          ]
         }
        },
        {
         "name": "day",
         "dtype": "category",
         "stats": {
          "unique_count": 4,
          "nan_count": 0,
          "categories": [
           {
            "name": "Sat",
            "count": 87
           },
           {
            "name": "Sun",
            "count": 76
           },
           {
            "name": "2 others",
            "count": 46
           }
          ]
         }
        },
        {
         "name": "time",
         "dtype": "category",
         "stats": {
          "unique_count": 2,
          "nan_count": 0,
          "categories": [
           {
            "name": "Dinner",
            "count": 176
           },
           {
            "name": "Lunch",
            "count": 33
           }
          ]
         }
        },
        {
         "name": "size",
         "dtype": "int64",
         "stats": {
          "unique_count": 6,
          "nan_count": 0,
          "min": "1",
          "max": "6",
          "histogram": [
           {
            "bin_start": 1,
            "bin_end": 1.5,
            "count": 3
           },
           {
            "bin_start": 1.5,
            "bin_end": 2,
            "count": 0
           },
           {
            "bin_start": 2,
            "bin_end": 2.5,
            "count": 130
           },
           {
            "bin_start": 2.5,
            "bin_end": 3,
            "count": 0
           },
           {
            "bin_start": 3,
            "bin_end": 3.5,
            "count": 35
           },
           {
            "bin_start": 3.5,
            "bin_end": 4,
            "count": 0
           },
           {
            "bin_start": 4,
            "bin_end": 4.5,
            "count": 34
           },
           {
            "bin_start": 4.5,
            "bin_end": 5,
            "count": 0
           },
           {
            "bin_start": 5,
            "bin_end": 5.5,
            "count": 5
           },
           {
            "bin_start": 5.5,
            "bin_end": 6,
            "count": 2
           }
          ]
         }
        },
        {
         "name": "prct_tip",
         "dtype": "float64",
         "stats": {
          "unique_count": 208,
          "nan_count": 0,
          "min": "0.03563813585135547",
          "max": "0.710344827586207",
          "histogram": [
           {
            "bin_start": 0.03563813585135547,
            "bin_end": 0.10310880502484063,
            "count": 30
           },
           {
            "bin_start": 0.10310880502484063,
            "bin_end": 0.17057947419832578,
            "count": 100
           },
           {
            "bin_start": 0.17057947419832578,
            "bin_end": 0.23805014337181093,
            "count": 67
           },
           {
            "bin_start": 0.23805014337181093,
            "bin_end": 0.30552081254529606,
            "count": 9
           },
           {
            "bin_start": 0.30552081254529606,
            "bin_end": 0.3729914817187812,
            "count": 1
           },
           {
            "bin_start": 0.3729914817187812,
            "bin_end": 0.44046215089226637,
            "count": 1
           },
           {
            "bin_start": 0.44046215089226637,
            "bin_end": 0.5079328200657516,
            "count": 0
           },
           {
            "bin_start": 0.5079328200657516,
            "bin_end": 0.5754034892392367,
            "count": 0
           },
           {
            "bin_start": 0.5754034892392367,
            "bin_end": 0.6428741584127219,
            "count": 0
           },
           {
            "bin_start": 0.6428741584127219,
            "bin_end": 0.710344827586207,
            "count": 1
           }
          ]
         }
        },
        {
         "name": "_deepnote_index_column",
         "dtype": "int64"
        }
       ],
       "rows_top": [
        {
         "total_bill": 16.99,
         "tip": 1.01,
         "sex": "Female",
         "smoker": "No",
         "day": "Sun",
         "time": "Dinner",
         "size": 2,
         "prct_tip": 0.05944673337257211,
         "_deepnote_index_column": 0
        },
        {
         "total_bill": 10.34,
         "tip": 1.66,
         "sex": "Male",
         "smoker": "No",
         "day": "Sun",
         "time": "Dinner",
         "size": 3,
         "prct_tip": 0.16054158607350097,
         "_deepnote_index_column": 1
        },
        {
         "total_bill": 21.01,
         "tip": 3.5,
         "sex": "Male",
         "smoker": "No",
         "day": "Sun",
         "time": "Dinner",
         "size": 3,
         "prct_tip": 0.16658733936220846,
         "_deepnote_index_column": 2
        },
        {
         "total_bill": 23.68,
         "tip": 3.31,
         "sex": "Male",
         "smoker": "No",
         "day": "Sun",
         "time": "Dinner",
         "size": 2,
         "prct_tip": 0.1397804054054054,
         "_deepnote_index_column": 3
        },
        {
         "total_bill": 24.59,
         "tip": 3.61,
         "sex": "Female",
         "smoker": "No",
         "day": "Sun",
         "time": "Dinner",
         "size": 4,
         "prct_tip": 0.14680764538430255,
         "_deepnote_index_column": 4
        },
        {
         "total_bill": 25.29,
         "tip": 4.71,
         "sex": "Male",
         "smoker": "No",
         "day": "Sun",
         "time": "Dinner",
         "size": 4,
         "prct_tip": 0.18623962040332148,
         "_deepnote_index_column": 5
        },
        {
         "total_bill": 8.77,
         "tip": 2,
         "sex": "Male",
         "smoker": "No",
         "day": "Sun",
         "time": "Dinner",
         "size": 2,
         "prct_tip": 0.22805017103762829,
         "_deepnote_index_column": 6
        },
        {
         "total_bill": 26.88,
         "tip": 3.12,
         "sex": "Male",
         "smoker": "No",
         "day": "Sun",
         "time": "Dinner",
         "size": 4,
         "prct_tip": 0.11607142857142858,
         "_deepnote_index_column": 7
        },
        {
         "total_bill": 15.04,
         "tip": 1.96,
         "sex": "Male",
         "smoker": "No",
         "day": "Sun",
         "time": "Dinner",
         "size": 2,
         "prct_tip": 0.13031914893617022,
         "_deepnote_index_column": 8
        },
        {
         "total_bill": 14.78,
         "tip": 3.23,
         "sex": "Male",
         "smoker": "No",
         "day": "Sun",
         "time": "Dinner",
         "size": 2,
         "prct_tip": 0.2185385656292287,
         "_deepnote_index_column": 9
        },
        {
         "total_bill": 10.27,
         "tip": 1.71,
         "sex": "Male",
         "smoker": "No",
         "day": "Sun",
         "time": "Dinner",
         "size": 2,
         "prct_tip": 0.1665043816942551,
         "_deepnote_index_column": 10
        },
        {
         "total_bill": 35.26,
         "tip": 5,
         "sex": "Female",
         "smoker": "No",
         "day": "Sun",
         "time": "Dinner",
         "size": 4,
         "prct_tip": 0.14180374361883155,
         "_deepnote_index_column": 11
        },
        {
         "total_bill": 15.42,
         "tip": 1.57,
         "sex": "Male",
         "smoker": "No",
         "day": "Sun",
         "time": "Dinner",
         "size": 2,
         "prct_tip": 0.10181582360570687,
         "_deepnote_index_column": 12
        },
        {
         "total_bill": 18.43,
         "tip": 3,
         "sex": "Male",
         "smoker": "No",
         "day": "Sun",
         "time": "Dinner",
         "size": 4,
         "prct_tip": 0.16277807921866522,
         "_deepnote_index_column": 13
        },
        {
         "total_bill": 14.83,
         "tip": 3.02,
         "sex": "Female",
         "smoker": "No",
         "day": "Sun",
         "time": "Dinner",
         "size": 2,
         "prct_tip": 0.20364126770060686,
         "_deepnote_index_column": 14
        },
        {
         "total_bill": 21.58,
         "tip": 3.92,
         "sex": "Male",
         "smoker": "No",
         "day": "Sun",
         "time": "Dinner",
         "size": 2,
         "prct_tip": 0.18164967562557924,
         "_deepnote_index_column": 15
        },
        {
         "total_bill": 10.33,
         "tip": 1.67,
         "sex": "Female",
         "smoker": "No",
         "day": "Sun",
         "time": "Dinner",
         "size": 3,
         "prct_tip": 0.1616650532429816,
         "_deepnote_index_column": 16
        },
        {
         "total_bill": 16.29,
         "tip": 3.71,
         "sex": "Male",
         "smoker": "No",
         "day": "Sun",
         "time": "Dinner",
         "size": 3,
         "prct_tip": 0.22774708410067526,
         "_deepnote_index_column": 17
        },
        {
         "total_bill": 16.97,
         "tip": 3.5,
         "sex": "Female",
         "smoker": "No",
         "day": "Sun",
         "time": "Dinner",
         "size": 3,
         "prct_tip": 0.20624631703005306,
         "_deepnote_index_column": 18
        },
        {
         "total_bill": 20.65,
         "tip": 3.35,
         "sex": "Male",
         "smoker": "No",
         "day": "Sat",
         "time": "Dinner",
         "size": 3,
         "prct_tip": 0.16222760290556903,
         "_deepnote_index_column": 19
        },
        {
         "total_bill": 17.92,
         "tip": 4.08,
         "sex": "Male",
         "smoker": "No",
         "day": "Sat",
         "time": "Dinner",
         "size": 2,
         "prct_tip": 0.22767857142857142,
         "_deepnote_index_column": 20
        },
        {
         "total_bill": 20.29,
         "tip": 2.75,
         "sex": "Female",
         "smoker": "No",
         "day": "Sat",
         "time": "Dinner",
         "size": 2,
         "prct_tip": 0.13553474618038444,
         "_deepnote_index_column": 21
        },
        {
         "total_bill": 15.77,
         "tip": 2.23,
         "sex": "Female",
         "smoker": "No",
         "day": "Sat",
         "time": "Dinner",
         "size": 2,
         "prct_tip": 0.14140773620798985,
         "_deepnote_index_column": 22
        },
        {
         "total_bill": 39.42,
         "tip": 7.58,
         "sex": "Male",
         "smoker": "No",
         "day": "Sat",
         "time": "Dinner",
         "size": 4,
         "prct_tip": 0.19228817858954844,
         "_deepnote_index_column": 23
        },
        {
         "total_bill": 19.82,
         "tip": 3.18,
         "sex": "Male",
         "smoker": "No",
         "day": "Sat",
         "time": "Dinner",
         "size": 2,
         "prct_tip": 0.16044399596367306,
         "_deepnote_index_column": 24
        },
        {
         "total_bill": 17.81,
         "tip": 2.34,
         "sex": "Male",
         "smoker": "No",
         "day": "Sat",
         "time": "Dinner",
         "size": 4,
         "prct_tip": 0.13138686131386862,
         "_deepnote_index_column": 25
        },
        {
         "total_bill": 13.37,
         "tip": 2,
         "sex": "Male",
         "smoker": "No",
         "day": "Sat",
         "time": "Dinner",
         "size": 2,
         "prct_tip": 0.14958863126402394,
         "_deepnote_index_column": 26
        },
        {
         "total_bill": 12.69,
         "tip": 2,
         "sex": "Male",
         "smoker": "No",
         "day": "Sat",
         "time": "Dinner",
         "size": 2,
         "prct_tip": 0.15760441292356187,
         "_deepnote_index_column": 27
        },
        {
         "total_bill": 21.7,
         "tip": 4.3,
         "sex": "Male",
         "smoker": "No",
         "day": "Sat",
         "time": "Dinner",
         "size": 2,
         "prct_tip": 0.19815668202764977,
         "_deepnote_index_column": 28
        },
        {
         "total_bill": 19.65,
         "tip": 3,
         "sex": "Female",
         "smoker": "No",
         "day": "Sat",
         "time": "Dinner",
         "size": 2,
         "prct_tip": 0.15267175572519084,
         "_deepnote_index_column": 29
        },
        {
         "total_bill": 9.55,
         "tip": 1.45,
         "sex": "Male",
         "smoker": "No",
         "day": "Sat",
         "time": "Dinner",
         "size": 2,
         "prct_tip": 0.1518324607329843,
         "_deepnote_index_column": 30
        },
        {
         "total_bill": 18.35,
         "tip": 2.5,
         "sex": "Male",
         "smoker": "No",
         "day": "Sat",
         "time": "Dinner",
         "size": 4,
         "prct_tip": 0.13623978201634876,
         "_deepnote_index_column": 31
        },
        {
         "total_bill": 15.06,
         "tip": 3,
         "sex": "Female",
         "smoker": "No",
         "day": "Sat",
         "time": "Dinner",
         "size": 2,
         "prct_tip": 0.199203187250996,
         "_deepnote_index_column": 32
        },
        {
         "total_bill": 20.69,
         "tip": 2.45,
         "sex": "Female",
         "smoker": "No",
         "day": "Sat",
         "time": "Dinner",
         "size": 4,
         "prct_tip": 0.11841469308844853,
         "_deepnote_index_column": 33
        },
        {
         "total_bill": 17.78,
         "tip": 3.27,
         "sex": "Male",
         "smoker": "No",
         "day": "Sat",
         "time": "Dinner",
         "size": 2,
         "prct_tip": 0.1839145106861642,
         "_deepnote_index_column": 34
        },
        {
         "total_bill": 24.06,
         "tip": 3.6,
         "sex": "Male",
         "smoker": "No",
         "day": "Sat",
         "time": "Dinner",
         "size": 3,
         "prct_tip": 0.14962593516209477,
         "_deepnote_index_column": 35
        },
        {
         "total_bill": 16.31,
         "tip": 2,
         "sex": "Male",
         "smoker": "No",
         "day": "Sat",
         "time": "Dinner",
         "size": 3,
         "prct_tip": 0.12262415695892091,
         "_deepnote_index_column": 36
        },
        {
         "total_bill": 16.93,
         "tip": 3.07,
         "sex": "Female",
         "smoker": "No",
         "day": "Sat",
         "time": "Dinner",
         "size": 3,
         "prct_tip": 0.1813349084465446,
         "_deepnote_index_column": 37
        },
        {
         "total_bill": 18.69,
         "tip": 2.31,
         "sex": "Male",
         "smoker": "No",
         "day": "Sat",
         "time": "Dinner",
         "size": 3,
         "prct_tip": 0.12359550561797752,
         "_deepnote_index_column": 38
        },
        {
         "total_bill": 31.27,
         "tip": 5,
         "sex": "Male",
         "smoker": "No",
         "day": "Sat",
         "time": "Dinner",
         "size": 3,
         "prct_tip": 0.1598976654940838,
         "_deepnote_index_column": 39
        },
        {
         "total_bill": 16.04,
         "tip": 2.24,
         "sex": "Male",
         "smoker": "No",
         "day": "Sat",
         "time": "Dinner",
         "size": 3,
         "prct_tip": 0.13965087281795513,
         "_deepnote_index_column": 40
        },
        {
         "total_bill": 17.46,
         "tip": 2.54,
         "sex": "Male",
         "smoker": "No",
         "day": "Sun",
         "time": "Dinner",
         "size": 2,
         "prct_tip": 0.14547537227949597,
         "_deepnote_index_column": 41
        },
        {
         "total_bill": 13.94,
         "tip": 3.06,
         "sex": "Male",
         "smoker": "No",
         "day": "Sun",
         "time": "Dinner",
         "size": 2,
         "prct_tip": 0.21951219512195122,
         "_deepnote_index_column": 42
        },
        {
         "total_bill": 9.68,
         "tip": 1.32,
         "sex": "Male",
         "smoker": "No",
         "day": "Sun",
         "time": "Dinner",
         "size": 2,
         "prct_tip": 0.13636363636363638,
         "_deepnote_index_column": 43
        },
        {
         "total_bill": 30.4,
         "tip": 5.6,
         "sex": "Male",
         "smoker": "No",
         "day": "Sun",
         "time": "Dinner",
         "size": 4,
         "prct_tip": 0.18421052631578946,
         "_deepnote_index_column": 44
        },
        {
         "total_bill": 18.29,
         "tip": 3,
         "sex": "Male",
         "smoker": "No",
         "day": "Sun",
         "time": "Dinner",
         "size": 2,
         "prct_tip": 0.16402405686167304,
         "_deepnote_index_column": 45
        },
        {
         "total_bill": 22.23,
         "tip": 5,
         "sex": "Male",
         "smoker": "No",
         "day": "Sun",
         "time": "Dinner",
         "size": 2,
         "prct_tip": 0.22492127755285649,
         "_deepnote_index_column": 46
        },
        {
         "total_bill": 32.4,
         "tip": 6,
         "sex": "Male",
         "smoker": "No",
         "day": "Sun",
         "time": "Dinner",
         "size": 4,
         "prct_tip": 0.1851851851851852,
         "_deepnote_index_column": 47
        },
        {
         "total_bill": 28.55,
         "tip": 2.05,
         "sex": "Male",
         "smoker": "No",
         "day": "Sun",
         "time": "Dinner",
         "size": 3,
         "prct_tip": 0.07180385288966724,
         "_deepnote_index_column": 48
        },
        {
         "total_bill": 18.04,
         "tip": 3,
         "sex": "Male",
         "smoker": "No",
         "day": "Sun",
         "time": "Dinner",
         "size": 2,
         "prct_tip": 0.16629711751662973,
         "_deepnote_index_column": 49
        },
        {
         "total_bill": 12.54,
         "tip": 2.5,
         "sex": "Male",
         "smoker": "No",
         "day": "Sun",
         "time": "Dinner",
         "size": 2,
         "prct_tip": 0.19936204146730463,
         "_deepnote_index_column": 50
        },
        {
         "total_bill": 10.29,
         "tip": 2.6,
         "sex": "Female",
         "smoker": "No",
         "day": "Sun",
         "time": "Dinner",
         "size": 2,
         "prct_tip": 0.2526724975704568,
         "_deepnote_index_column": 51
        },
        {
         "total_bill": 34.81,
         "tip": 5.2,
         "sex": "Female",
         "smoker": "No",
         "day": "Sun",
         "time": "Dinner",
         "size": 4,
         "prct_tip": 0.14938236139040506,
         "_deepnote_index_column": 52
        },
        {
         "total_bill": 9.94,
         "tip": 1.56,
         "sex": "Male",
         "smoker": "No",
         "day": "Sun",
         "time": "Dinner",
         "size": 2,
         "prct_tip": 0.15694164989939638,
         "_deepnote_index_column": 53
        },
        {
         "total_bill": 25.56,
         "tip": 4.34,
         "sex": "Male",
         "smoker": "No",
         "day": "Sun",
         "time": "Dinner",
         "size": 4,
         "prct_tip": 0.1697965571205008,
         "_deepnote_index_column": 54
        },
        {
         "total_bill": 19.49,
         "tip": 3.51,
         "sex": "Male",
         "smoker": "No",
         "day": "Sun",
         "time": "Dinner",
         "size": 2,
         "prct_tip": 0.18009235505387378,
         "_deepnote_index_column": 55
        },
        {
         "total_bill": 38.01,
         "tip": 3,
         "sex": "Male",
         "smoker": "Yes",
         "day": "Sat",
         "time": "Dinner",
         "size": 4,
         "prct_tip": 0.07892659826361484,
         "_deepnote_index_column": 56
        },
        {
         "total_bill": 26.41,
         "tip": 1.5,
         "sex": "Female",
         "smoker": "No",
         "day": "Sat",
         "time": "Dinner",
         "size": 2,
         "prct_tip": 0.05679666792881484,
         "_deepnote_index_column": 57
        },
        {
         "total_bill": 11.24,
         "tip": 1.76,
         "sex": "Male",
         "smoker": "Yes",
         "day": "Sat",
         "time": "Dinner",
         "size": 2,
         "prct_tip": 0.15658362989323843,
         "_deepnote_index_column": 58
        },
        {
         "total_bill": 48.27,
         "tip": 6.73,
         "sex": "Male",
         "smoker": "No",
         "day": "Sat",
         "time": "Dinner",
         "size": 4,
         "prct_tip": 0.13942407292314066,
         "_deepnote_index_column": 59
        },
        {
         "total_bill": 20.29,
         "tip": 3.21,
         "sex": "Male",
         "smoker": "Yes",
         "day": "Sat",
         "time": "Dinner",
         "size": 2,
         "prct_tip": 0.1582060128141942,
         "_deepnote_index_column": 60
        },
        {
         "total_bill": 13.81,
         "tip": 2,
         "sex": "Male",
         "smoker": "Yes",
         "day": "Sat",
         "time": "Dinner",
         "size": 2,
         "prct_tip": 0.1448225923244026,
         "_deepnote_index_column": 61
        }
       ],
       "rows_bottom": [
        {
         "total_bill": 50.81,
         "tip": 10,
         "sex": "Male",
         "smoker": "Yes",
         "day": "Sat",
         "time": "Dinner",
         "size": 3,
         "prct_tip": 0.19681165124975397,
         "_deepnote_index_column": 170
        },
        {
         "total_bill": 15.81,
         "tip": 3.16,
         "sex": "Male",
         "smoker": "Yes",
         "day": "Sat",
         "time": "Dinner",
         "size": 2,
         "prct_tip": 0.19987349778621127,
         "_deepnote_index_column": 171
        },
        {
         "total_bill": 7.25,
         "tip": 5.15,
         "sex": "Male",
         "smoker": "Yes",
         "day": "Sun",
         "time": "Dinner",
         "size": 2,
         "prct_tip": 0.710344827586207,
         "_deepnote_index_column": 172
        },
        {
         "total_bill": 31.85,
         "tip": 3.18,
         "sex": "Male",
         "smoker": "Yes",
         "day": "Sun",
         "time": "Dinner",
         "size": 2,
         "prct_tip": 0.09984301412872841,
         "_deepnote_index_column": 173
        },
        {
         "total_bill": 16.82,
         "tip": 4,
         "sex": "Male",
         "smoker": "Yes",
         "day": "Sun",
         "time": "Dinner",
         "size": 2,
         "prct_tip": 0.23781212841854935,
         "_deepnote_index_column": 174
        },
        {
         "total_bill": 32.9,
         "tip": 3.11,
         "sex": "Male",
         "smoker": "Yes",
         "day": "Sun",
         "time": "Dinner",
         "size": 2,
         "prct_tip": 0.0945288753799392,
         "_deepnote_index_column": 175
        },
        {
         "total_bill": 17.89,
         "tip": 2,
         "sex": "Male",
         "smoker": "Yes",
         "day": "Sun",
         "time": "Dinner",
         "size": 2,
         "prct_tip": 0.11179429849077696,
         "_deepnote_index_column": 176
        },
        {
         "total_bill": 14.48,
         "tip": 2,
         "sex": "Male",
         "smoker": "Yes",
         "day": "Sun",
         "time": "Dinner",
         "size": 2,
         "prct_tip": 0.13812154696132597,
         "_deepnote_index_column": 177
        },
        {
         "total_bill": 9.6,
         "tip": 4,
         "sex": "Female",
         "smoker": "Yes",
         "day": "Sun",
         "time": "Dinner",
         "size": 2,
         "prct_tip": 0.4166666666666667,
         "_deepnote_index_column": 178
        },
        {
         "total_bill": 34.63,
         "tip": 3.55,
         "sex": "Male",
         "smoker": "Yes",
         "day": "Sun",
         "time": "Dinner",
         "size": 2,
         "prct_tip": 0.102512272596015,
         "_deepnote_index_column": 179
        },
        {
         "total_bill": 34.65,
         "tip": 3.68,
         "sex": "Male",
         "smoker": "Yes",
         "day": "Sun",
         "time": "Dinner",
         "size": 4,
         "prct_tip": 0.10620490620490622,
         "_deepnote_index_column": 180
        },
        {
         "total_bill": 23.33,
         "tip": 5.65,
         "sex": "Male",
         "smoker": "Yes",
         "day": "Sun",
         "time": "Dinner",
         "size": 2,
         "prct_tip": 0.2421774539219889,
         "_deepnote_index_column": 181
        },
        {
         "total_bill": 45.35,
         "tip": 3.5,
         "sex": "Male",
         "smoker": "Yes",
         "day": "Sun",
         "time": "Dinner",
         "size": 3,
         "prct_tip": 0.07717750826901874,
         "_deepnote_index_column": 182
        },
        {
         "total_bill": 23.17,
         "tip": 6.5,
         "sex": "Male",
         "smoker": "Yes",
         "day": "Sun",
         "time": "Dinner",
         "size": 4,
         "prct_tip": 0.2805351747949935,
         "_deepnote_index_column": 183
        },
        {
         "total_bill": 40.55,
         "tip": 3,
         "sex": "Male",
         "smoker": "Yes",
         "day": "Sun",
         "time": "Dinner",
         "size": 2,
         "prct_tip": 0.07398273736128237,
         "_deepnote_index_column": 184
        },
        {
         "total_bill": 20.69,
         "tip": 5,
         "sex": "Male",
         "smoker": "No",
         "day": "Sun",
         "time": "Dinner",
         "size": 5,
         "prct_tip": 0.2416626389560174,
         "_deepnote_index_column": 185
        },
        {
         "total_bill": 20.9,
         "tip": 3.5,
         "sex": "Female",
         "smoker": "Yes",
         "day": "Sun",
         "time": "Dinner",
         "size": 3,
         "prct_tip": 0.1674641148325359,
         "_deepnote_index_column": 186
        },
        {
         "total_bill": 30.46,
         "tip": 2,
         "sex": "Male",
         "smoker": "Yes",
         "day": "Sun",
         "time": "Dinner",
         "size": 5,
         "prct_tip": 0.06565988181221273,
         "_deepnote_index_column": 187
        },
        {
         "total_bill": 18.15,
         "tip": 3.5,
         "sex": "Female",
         "smoker": "Yes",
         "day": "Sun",
         "time": "Dinner",
         "size": 3,
         "prct_tip": 0.1928374655647383,
         "_deepnote_index_column": 188
        },
        {
         "total_bill": 23.1,
         "tip": 4,
         "sex": "Male",
         "smoker": "Yes",
         "day": "Sun",
         "time": "Dinner",
         "size": 3,
         "prct_tip": 0.17316017316017315,
         "_deepnote_index_column": 189
        },
        {
         "total_bill": 15.69,
         "tip": 1.5,
         "sex": "Male",
         "smoker": "Yes",
         "day": "Sun",
         "time": "Dinner",
         "size": 2,
         "prct_tip": 0.09560229445506692,
         "_deepnote_index_column": 190
        },
        {
         "total_bill": 28.44,
         "tip": 2.56,
         "sex": "Male",
         "smoker": "Yes",
         "day": "Thur",
         "time": "Lunch",
         "size": 2,
         "prct_tip": 0.090014064697609,
         "_deepnote_index_column": 192
        },
        {
         "total_bill": 15.48,
         "tip": 2.02,
         "sex": "Male",
         "smoker": "Yes",
         "day": "Thur",
         "time": "Lunch",
         "size": 2,
         "prct_tip": 0.13049095607235142,
         "_deepnote_index_column": 193
        },
        {
         "total_bill": 16.58,
         "tip": 4,
         "sex": "Male",
         "smoker": "Yes",
         "day": "Thur",
         "time": "Lunch",
         "size": 2,
         "prct_tip": 0.24125452352231608,
         "_deepnote_index_column": 194
        },
        {
         "total_bill": 7.56,
         "tip": 1.44,
         "sex": "Male",
         "smoker": "No",
         "day": "Thur",
         "time": "Lunch",
         "size": 2,
         "prct_tip": 0.19047619047619047,
         "_deepnote_index_column": 195
        },
        {
         "total_bill": 10.34,
         "tip": 2,
         "sex": "Male",
         "smoker": "Yes",
         "day": "Thur",
         "time": "Lunch",
         "size": 2,
         "prct_tip": 0.19342359767891684,
         "_deepnote_index_column": 196
        },
        {
         "total_bill": 13.51,
         "tip": 2,
         "sex": "Male",
         "smoker": "Yes",
         "day": "Thur",
         "time": "Lunch",
         "size": 2,
         "prct_tip": 0.14803849000740193,
         "_deepnote_index_column": 199
        },
        {
         "total_bill": 18.71,
         "tip": 4,
         "sex": "Male",
         "smoker": "Yes",
         "day": "Thur",
         "time": "Lunch",
         "size": 3,
         "prct_tip": 0.2137894174238375,
         "_deepnote_index_column": 200
        },
        {
         "total_bill": 20.53,
         "tip": 4,
         "sex": "Male",
         "smoker": "Yes",
         "day": "Thur",
         "time": "Lunch",
         "size": 4,
         "prct_tip": 0.1948368241597662,
         "_deepnote_index_column": 204
        },
        {
         "total_bill": 26.59,
         "tip": 3.41,
         "sex": "Male",
         "smoker": "Yes",
         "day": "Sat",
         "time": "Dinner",
         "size": 3,
         "prct_tip": 0.1282437006393381,
         "_deepnote_index_column": 206
        },
        {
         "total_bill": 38.73,
         "tip": 3,
         "sex": "Male",
         "smoker": "Yes",
         "day": "Sat",
         "time": "Dinner",
         "size": 4,
         "prct_tip": 0.0774593338497289,
         "_deepnote_index_column": 207
        },
        {
         "total_bill": 24.27,
         "tip": 2.03,
         "sex": "Male",
         "smoker": "Yes",
         "day": "Sat",
         "time": "Dinner",
         "size": 2,
         "prct_tip": 0.08364235681911825,
         "_deepnote_index_column": 208
        },
        {
         "total_bill": 12.76,
         "tip": 2.23,
         "sex": "Female",
         "smoker": "Yes",
         "day": "Sat",
         "time": "Dinner",
         "size": 2,
         "prct_tip": 0.17476489028213166,
         "_deepnote_index_column": 209
        },
        {
         "total_bill": 30.06,
         "tip": 2,
         "sex": "Male",
         "smoker": "Yes",
         "day": "Sat",
         "time": "Dinner",
         "size": 3,
         "prct_tip": 0.06653359946773121,
         "_deepnote_index_column": 210
        },
        {
         "total_bill": 25.89,
         "tip": 5.16,
         "sex": "Male",
         "smoker": "Yes",
         "day": "Sat",
         "time": "Dinner",
         "size": 4,
         "prct_tip": 0.1993047508690614,
         "_deepnote_index_column": 211
        },
        {
         "total_bill": 48.33,
         "tip": 9,
         "sex": "Male",
         "smoker": "No",
         "day": "Sat",
         "time": "Dinner",
         "size": 4,
         "prct_tip": 0.186219739292365,
         "_deepnote_index_column": 212
        },
        {
         "total_bill": 13.27,
         "tip": 2.5,
         "sex": "Female",
         "smoker": "Yes",
         "day": "Sat",
         "time": "Dinner",
         "size": 2,
         "prct_tip": 0.18839487565938207,
         "_deepnote_index_column": 213
        },
        {
         "total_bill": 28.17,
         "tip": 6.5,
         "sex": "Female",
         "smoker": "Yes",
         "day": "Sat",
         "time": "Dinner",
         "size": 3,
         "prct_tip": 0.23074192403265883,
         "_deepnote_index_column": 214
        },
        {
         "total_bill": 12.9,
         "tip": 1.1,
         "sex": "Female",
         "smoker": "Yes",
         "day": "Sat",
         "time": "Dinner",
         "size": 2,
         "prct_tip": 0.08527131782945736,
         "_deepnote_index_column": 215
        },
        {
         "total_bill": 28.15,
         "tip": 3,
         "sex": "Male",
         "smoker": "Yes",
         "day": "Sat",
         "time": "Dinner",
         "size": 5,
         "prct_tip": 0.10657193605683837,
         "_deepnote_index_column": 216
        },
        {
         "total_bill": 11.59,
         "tip": 1.5,
         "sex": "Male",
         "smoker": "Yes",
         "day": "Sat",
         "time": "Dinner",
         "size": 2,
         "prct_tip": 0.12942191544434858,
         "_deepnote_index_column": 217
        },
        {
         "total_bill": 7.74,
         "tip": 1.44,
         "sex": "Male",
         "smoker": "Yes",
         "day": "Sat",
         "time": "Dinner",
         "size": 2,
         "prct_tip": 0.18604651162790697,
         "_deepnote_index_column": 218
        },
        {
         "total_bill": 30.14,
         "tip": 3.09,
         "sex": "Female",
         "smoker": "Yes",
         "day": "Sat",
         "time": "Dinner",
         "size": 4,
         "prct_tip": 0.10252156602521566,
         "_deepnote_index_column": 219
        },
        {
         "total_bill": 12.16,
         "tip": 2.2,
         "sex": "Male",
         "smoker": "Yes",
         "day": "Fri",
         "time": "Lunch",
         "size": 2,
         "prct_tip": 0.18092105263157895,
         "_deepnote_index_column": 220
        },
        {
         "total_bill": 8.58,
         "tip": 1.92,
         "sex": "Male",
         "smoker": "Yes",
         "day": "Fri",
         "time": "Lunch",
         "size": 1,
         "prct_tip": 0.22377622377622378,
         "_deepnote_index_column": 222
        },
        {
         "total_bill": 13.42,
         "tip": 1.58,
         "sex": "Male",
         "smoker": "Yes",
         "day": "Fri",
         "time": "Lunch",
         "size": 2,
         "prct_tip": 0.11773472429210134,
         "_deepnote_index_column": 224
        },
        {
         "total_bill": 20.45,
         "tip": 3,
         "sex": "Male",
         "smoker": "No",
         "day": "Sat",
         "time": "Dinner",
         "size": 4,
         "prct_tip": 0.1466992665036675,
         "_deepnote_index_column": 227
        },
        {
         "total_bill": 13.28,
         "tip": 2.72,
         "sex": "Male",
         "smoker": "No",
         "day": "Sat",
         "time": "Dinner",
         "size": 2,
         "prct_tip": 0.20481927710843376,
         "_deepnote_index_column": 228
        },
        {
         "total_bill": 22.12,
         "tip": 2.88,
         "sex": "Female",
         "smoker": "Yes",
         "day": "Sat",
         "time": "Dinner",
         "size": 2,
         "prct_tip": 0.13019891500904157,
         "_deepnote_index_column": 229
        },
        {
         "total_bill": 24.01,
         "tip": 2,
         "sex": "Male",
         "smoker": "Yes",
         "day": "Sat",
         "time": "Dinner",
         "size": 4,
         "prct_tip": 0.08329862557267805,
         "_deepnote_index_column": 230
        },
        {
         "total_bill": 15.69,
         "tip": 3,
         "sex": "Male",
         "smoker": "Yes",
         "day": "Sat",
         "time": "Dinner",
         "size": 3,
         "prct_tip": 0.19120458891013384,
         "_deepnote_index_column": 231
        },
        {
         "total_bill": 11.61,
         "tip": 3.39,
         "sex": "Male",
         "smoker": "No",
         "day": "Sat",
         "time": "Dinner",
         "size": 2,
         "prct_tip": 0.29198966408268734,
         "_deepnote_index_column": 232
        },
        {
         "total_bill": 10.77,
         "tip": 1.47,
         "sex": "Male",
         "smoker": "No",
         "day": "Sat",
         "time": "Dinner",
         "size": 2,
         "prct_tip": 0.13649025069637882,
         "_deepnote_index_column": 233
        },
        {
         "total_bill": 15.53,
         "tip": 3,
         "sex": "Male",
         "smoker": "Yes",
         "day": "Sat",
         "time": "Dinner",
         "size": 2,
         "prct_tip": 0.19317450096587252,
         "_deepnote_index_column": 234
        },
        {
         "total_bill": 10.07,
         "tip": 1.25,
         "sex": "Male",
         "smoker": "No",
         "day": "Sat",
         "time": "Dinner",
         "size": 2,
         "prct_tip": 0.12413108242303872,
         "_deepnote_index_column": 235
        },
        {
         "total_bill": 12.6,
         "tip": 1,
         "sex": "Male",
         "smoker": "Yes",
         "day": "Sat",
         "time": "Dinner",
         "size": 2,
         "prct_tip": 0.07936507936507936,
         "_deepnote_index_column": 236
        },
        {
         "total_bill": 32.83,
         "tip": 1.17,
         "sex": "Male",
         "smoker": "Yes",
         "day": "Sat",
         "time": "Dinner",
         "size": 2,
         "prct_tip": 0.03563813585135547,
         "_deepnote_index_column": 237
        },
        {
         "total_bill": 35.83,
         "tip": 4.67,
         "sex": "Female",
         "smoker": "No",
         "day": "Sat",
         "time": "Dinner",
         "size": 3,
         "prct_tip": 0.13033770583310075,
         "_deepnote_index_column": 238
        },
        {
         "total_bill": 29.03,
         "tip": 5.92,
         "sex": "Male",
         "smoker": "No",
         "day": "Sat",
         "time": "Dinner",
         "size": 3,
         "prct_tip": 0.2039269720978298,
         "_deepnote_index_column": 239
        },
        {
         "total_bill": 27.18,
         "tip": 2,
         "sex": "Female",
         "smoker": "Yes",
         "day": "Sat",
         "time": "Dinner",
         "size": 2,
         "prct_tip": 0.07358351729212656,
         "_deepnote_index_column": 240
        },
        {
         "total_bill": 22.67,
         "tip": 2,
         "sex": "Male",
         "smoker": "Yes",
         "day": "Sat",
         "time": "Dinner",
         "size": 2,
         "prct_tip": 0.08822232024702249,
         "_deepnote_index_column": 241
        },
        {
         "total_bill": 17.82,
         "tip": 1.75,
         "sex": "Male",
         "smoker": "No",
         "day": "Sat",
         "time": "Dinner",
         "size": 2,
         "prct_tip": 0.09820426487093153,
         "_deepnote_index_column": 242
        },
        {
         "total_bill": 18.78,
         "tip": 3,
         "sex": "Female",
         "smoker": "No",
         "day": "Thur",
         "time": "Dinner",
         "size": 2,
         "prct_tip": 0.1597444089456869,
         "_deepnote_index_column": 243
        }
       ]
      },
      "text/plain": "     total_bill   tip     sex smoker   day    time  size  prct_tip\n0         16.99  1.01  Female     No   Sun  Dinner     2  0.059447\n1         10.34  1.66    Male     No   Sun  Dinner     3  0.160542\n2         21.01  3.50    Male     No   Sun  Dinner     3  0.166587\n3         23.68  3.31    Male     No   Sun  Dinner     2  0.139780\n4         24.59  3.61  Female     No   Sun  Dinner     4  0.146808\n..          ...   ...     ...    ...   ...     ...   ...       ...\n239       29.03  5.92    Male     No   Sat  Dinner     3  0.203927\n240       27.18  2.00  Female    Yes   Sat  Dinner     2  0.073584\n241       22.67  2.00    Male    Yes   Sat  Dinner     2  0.088222\n242       17.82  1.75    Male     No   Sat  Dinner     2  0.098204\n243       18.78  3.00  Female     No  Thur  Dinner     2  0.159744\n\n[209 rows x 8 columns]",
      "text/html": "<div>\n<style scoped>\n    .dataframe tbody tr th:only-of-type {\n        vertical-align: middle;\n    }\n\n    .dataframe tbody tr th {\n        vertical-align: top;\n    }\n\n    .dataframe thead th {\n        text-align: right;\n    }\n</style>\n<table border=\"1\" class=\"dataframe\">\n  <thead>\n    <tr style=\"text-align: right;\">\n      <th></th>\n      <th>total_bill</th>\n      <th>tip</th>\n      <th>sex</th>\n      <th>smoker</th>\n      <th>day</th>\n      <th>time</th>\n      <th>size</th>\n      <th>prct_tip</th>\n    </tr>\n  </thead>\n  <tbody>\n    <tr>\n      <th>0</th>\n      <td>16.99</td>\n      <td>1.01</td>\n      <td>Female</td>\n      <td>No</td>\n      <td>Sun</td>\n      <td>Dinner</td>\n      <td>2</td>\n      <td>0.059447</td>\n    </tr>\n    <tr>\n      <th>1</th>\n      <td>10.34</td>\n      <td>1.66</td>\n      <td>Male</td>\n      <td>No</td>\n      <td>Sun</td>\n      <td>Dinner</td>\n      <td>3</td>\n      <td>0.160542</td>\n    </tr>\n    <tr>\n      <th>2</th>\n      <td>21.01</td>\n      <td>3.50</td>\n      <td>Male</td>\n      <td>No</td>\n      <td>Sun</td>\n      <td>Dinner</td>\n      <td>3</td>\n      <td>0.166587</td>\n    </tr>\n    <tr>\n      <th>3</th>\n      <td>23.68</td>\n      <td>3.31</td>\n      <td>Male</td>\n      <td>No</td>\n      <td>Sun</td>\n      <td>Dinner</td>\n      <td>2</td>\n      <td>0.139780</td>\n    </tr>\n    <tr>\n      <th>4</th>\n      <td>24.59</td>\n      <td>3.61</td>\n      <td>Female</td>\n      <td>No</td>\n      <td>Sun</td>\n      <td>Dinner</td>\n      <td>4</td>\n      <td>0.146808</td>\n    </tr>\n    <tr>\n      <th>...</th>\n      <td>...</td>\n      <td>...</td>\n      <td>...</td>\n      <td>...</td>\n      <td>...</td>\n      <td>...</td>\n      <td>...</td>\n      <td>...</td>\n    </tr>\n    <tr>\n      <th>239</th>\n      <td>29.03</td>\n      <td>5.92</td>\n      <td>Male</td>\n      <td>No</td>\n      <td>Sat</td>\n      <td>Dinner</td>\n      <td>3</td>\n      <td>0.203927</td>\n    </tr>\n    <tr>\n      <th>240</th>\n      <td>27.18</td>\n      <td>2.00</td>\n      <td>Female</td>\n      <td>Yes</td>\n      <td>Sat</td>\n      <td>Dinner</td>\n      <td>2</td>\n      <td>0.073584</td>\n    </tr>\n    <tr>\n      <th>241</th>\n      <td>22.67</td>\n      <td>2.00</td>\n      <td>Male</td>\n      <td>Yes</td>\n      <td>Sat</td>\n      <td>Dinner</td>\n      <td>2</td>\n      <td>0.088222</td>\n    </tr>\n    <tr>\n      <th>242</th>\n      <td>17.82</td>\n      <td>1.75</td>\n      <td>Male</td>\n      <td>No</td>\n      <td>Sat</td>\n      <td>Dinner</td>\n      <td>2</td>\n      <td>0.098204</td>\n    </tr>\n    <tr>\n      <th>243</th>\n      <td>18.78</td>\n      <td>3.00</td>\n      <td>Female</td>\n      <td>No</td>\n      <td>Thur</td>\n      <td>Dinner</td>\n      <td>2</td>\n      <td>0.159744</td>\n    </tr>\n  </tbody>\n</table>\n<p>209 rows × 8 columns</p>\n</div>"
     },
     "metadata": {}
    }
   ],
   "execution_count": 32
  },
  {
   "cell_type": "code",
   "source": "df_filtered.groupby(['sex','time']).count()",
   "metadata": {
    "tags": [],
    "cell_id": "00038-e28f6481-1e5a-4aa8-a4ec-538444cd3b80",
    "deepnote_to_be_reexecuted": false,
    "source_hash": "90b92535",
    "execution_start": 1625185480230,
    "execution_millis": 47,
    "deepnote_cell_type": "code"
   },
   "outputs": [
    {
     "output_type": "execute_result",
     "execution_count": 33,
     "data": {
      "application/vnd.deepnote.dataframe.v2+json": {
       "row_count": 4,
       "column_count": 6,
       "columns": [
        {
         "name": "total_bill",
         "dtype": "int64",
         "stats": {
          "unique_count": 4,
          "nan_count": 0,
          "min": "0",
          "max": "124",
          "histogram": [
           {
            "bin_start": 0,
            "bin_end": 12.4,
            "count": 1
           },
           {
            "bin_start": 12.4,
            "bin_end": 24.8,
            "count": 0
           },
           {
            "bin_start": 24.8,
            "bin_end": 37.2,
            "count": 1
           },
           {
            "bin_start": 37.2,
            "bin_end": 49.6,
            "count": 0
           },
           {
            "bin_start": 49.6,
            "bin_end": 62,
            "count": 1
           },
           {
            "bin_start": 62,
            "bin_end": 74.4,
            "count": 0
           },
           {
            "bin_start": 74.4,
            "bin_end": 86.8,
            "count": 0
           },
           {
            "bin_start": 86.8,
            "bin_end": 99.2,
            "count": 0
           },
           {
            "bin_start": 99.2,
            "bin_end": 111.60000000000001,
            "count": 0
           },
           {
            "bin_start": 111.60000000000001,
            "bin_end": 124,
            "count": 1
           }
          ]
         }
        },
        {
         "name": "tip",
         "dtype": "int64",
         "stats": {
          "unique_count": 4,
          "nan_count": 0,
          "min": "0",
          "max": "124",
          "histogram": [
           {
            "bin_start": 0,
            "bin_end": 12.4,
            "count": 1
           },
           {
            "bin_start": 12.4,
            "bin_end": 24.8,
            "count": 0
           },
           {
            "bin_start": 24.8,
            "bin_end": 37.2,
            "count": 1
           },
           {
            "bin_start": 37.2,
            "bin_end": 49.6,
            "count": 0
           },
           {
            "bin_start": 49.6,
            "bin_end": 62,
            "count": 1
           },
           {
            "bin_start": 62,
            "bin_end": 74.4,
            "count": 0
           },
           {
            "bin_start": 74.4,
            "bin_end": 86.8,
            "count": 0
           },
           {
            "bin_start": 86.8,
            "bin_end": 99.2,
            "count": 0
           },
           {
            "bin_start": 99.2,
            "bin_end": 111.60000000000001,
            "count": 0
           },
           {
            "bin_start": 111.60000000000001,
            "bin_end": 124,
            "count": 1
           }
          ]
         }
        },
        {
         "name": "smoker",
         "dtype": "int64",
         "stats": {
          "unique_count": 4,
          "nan_count": 0,
          "min": "0",
          "max": "124",
          "histogram": [
           {
            "bin_start": 0,
            "bin_end": 12.4,
            "count": 1
           },
           {
            "bin_start": 12.4,
            "bin_end": 24.8,
            "count": 0
           },
           {
            "bin_start": 24.8,
            "bin_end": 37.2,
            "count": 1
           },
           {
            "bin_start": 37.2,
            "bin_end": 49.6,
            "count": 0
           },
           {
            "bin_start": 49.6,
            "bin_end": 62,
            "count": 1
           },
           {
            "bin_start": 62,
            "bin_end": 74.4,
            "count": 0
           },
           {
            "bin_start": 74.4,
            "bin_end": 86.8,
            "count": 0
           },
           {
            "bin_start": 86.8,
            "bin_end": 99.2,
            "count": 0
           },
           {
            "bin_start": 99.2,
            "bin_end": 111.60000000000001,
            "count": 0
           },
           {
            "bin_start": 111.60000000000001,
            "bin_end": 124,
            "count": 1
           }
          ]
         }
        },
        {
         "name": "day",
         "dtype": "int64",
         "stats": {
          "unique_count": 4,
          "nan_count": 0,
          "min": "0",
          "max": "124",
          "histogram": [
           {
            "bin_start": 0,
            "bin_end": 12.4,
            "count": 1
           },
           {
            "bin_start": 12.4,
            "bin_end": 24.8,
            "count": 0
           },
           {
            "bin_start": 24.8,
            "bin_end": 37.2,
            "count": 1
           },
           {
            "bin_start": 37.2,
            "bin_end": 49.6,
            "count": 0
           },
           {
            "bin_start": 49.6,
            "bin_end": 62,
            "count": 1
           },
           {
            "bin_start": 62,
            "bin_end": 74.4,
            "count": 0
           },
           {
            "bin_start": 74.4,
            "bin_end": 86.8,
            "count": 0
           },
           {
            "bin_start": 86.8,
            "bin_end": 99.2,
            "count": 0
           },
           {
            "bin_start": 99.2,
            "bin_end": 111.60000000000001,
            "count": 0
           },
           {
            "bin_start": 111.60000000000001,
            "bin_end": 124,
            "count": 1
           }
          ]
         }
        },
        {
         "name": "size",
         "dtype": "int64",
         "stats": {
          "unique_count": 4,
          "nan_count": 0,
          "min": "0",
          "max": "124",
          "histogram": [
           {
            "bin_start": 0,
            "bin_end": 12.4,
            "count": 1
           },
           {
            "bin_start": 12.4,
            "bin_end": 24.8,
            "count": 0
           },
           {
            "bin_start": 24.8,
            "bin_end": 37.2,
            "count": 1
           },
           {
            "bin_start": 37.2,
            "bin_end": 49.6,
            "count": 0
           },
           {
            "bin_start": 49.6,
            "bin_end": 62,
            "count": 1
           },
           {
            "bin_start": 62,
            "bin_end": 74.4,
            "count": 0
           },
           {
            "bin_start": 74.4,
            "bin_end": 86.8,
            "count": 0
           },
           {
            "bin_start": 86.8,
            "bin_end": 99.2,
            "count": 0
           },
           {
            "bin_start": 99.2,
            "bin_end": 111.60000000000001,
            "count": 0
           },
           {
            "bin_start": 111.60000000000001,
            "bin_end": 124,
            "count": 1
           }
          ]
         }
        },
        {
         "name": "prct_tip",
         "dtype": "int64",
         "stats": {
          "unique_count": 4,
          "nan_count": 0,
          "min": "0",
          "max": "124",
          "histogram": [
           {
            "bin_start": 0,
            "bin_end": 12.4,
            "count": 1
           },
           {
            "bin_start": 12.4,
            "bin_end": 24.8,
            "count": 0
           },
           {
            "bin_start": 24.8,
            "bin_end": 37.2,
            "count": 1
           },
           {
            "bin_start": 37.2,
            "bin_end": 49.6,
            "count": 0
           },
           {
            "bin_start": 49.6,
            "bin_end": 62,
            "count": 1
           },
           {
            "bin_start": 62,
            "bin_end": 74.4,
            "count": 0
           },
           {
            "bin_start": 74.4,
            "bin_end": 86.8,
            "count": 0
           },
           {
            "bin_start": 86.8,
            "bin_end": 99.2,
            "count": 0
           },
           {
            "bin_start": 99.2,
            "bin_end": 111.60000000000001,
            "count": 0
           },
           {
            "bin_start": 111.60000000000001,
            "bin_end": 124,
            "count": 1
           }
          ]
         }
        },
        {
         "name": "_deepnote_index_column",
         "dtype": "object"
        }
       ],
       "rows_top": [
        {
         "total_bill": 33,
         "tip": 33,
         "smoker": 33,
         "day": 33,
         "size": 33,
         "prct_tip": 33,
         "_deepnote_index_column": "('Male', 'Lunch')"
        },
        {
         "total_bill": 124,
         "tip": 124,
         "smoker": 124,
         "day": 124,
         "size": 124,
         "prct_tip": 124,
         "_deepnote_index_column": "('Male', 'Dinner')"
        },
        {
         "total_bill": 0,
         "tip": 0,
         "smoker": 0,
         "day": 0,
         "size": 0,
         "prct_tip": 0,
         "_deepnote_index_column": "('Female', 'Lunch')"
        },
        {
         "total_bill": 52,
         "tip": 52,
         "smoker": 52,
         "day": 52,
         "size": 52,
         "prct_tip": 52,
         "_deepnote_index_column": "('Female', 'Dinner')"
        }
       ],
       "rows_bottom": null
      },
      "text/plain": "               total_bill  tip  smoker  day  size  prct_tip\nsex    time                                                \nMale   Lunch           33   33      33   33    33        33\n       Dinner         124  124     124  124   124       124\nFemale Lunch            0    0       0    0     0         0\n       Dinner          52   52      52   52    52        52",
      "text/html": "<div>\n<style scoped>\n    .dataframe tbody tr th:only-of-type {\n        vertical-align: middle;\n    }\n\n    .dataframe tbody tr th {\n        vertical-align: top;\n    }\n\n    .dataframe thead th {\n        text-align: right;\n    }\n</style>\n<table border=\"1\" class=\"dataframe\">\n  <thead>\n    <tr style=\"text-align: right;\">\n      <th></th>\n      <th></th>\n      <th>total_bill</th>\n      <th>tip</th>\n      <th>smoker</th>\n      <th>day</th>\n      <th>size</th>\n      <th>prct_tip</th>\n    </tr>\n    <tr>\n      <th>sex</th>\n      <th>time</th>\n      <th></th>\n      <th></th>\n      <th></th>\n      <th></th>\n      <th></th>\n      <th></th>\n    </tr>\n  </thead>\n  <tbody>\n    <tr>\n      <th rowspan=\"2\" valign=\"top\">Male</th>\n      <th>Lunch</th>\n      <td>33</td>\n      <td>33</td>\n      <td>33</td>\n      <td>33</td>\n      <td>33</td>\n      <td>33</td>\n    </tr>\n    <tr>\n      <th>Dinner</th>\n      <td>124</td>\n      <td>124</td>\n      <td>124</td>\n      <td>124</td>\n      <td>124</td>\n      <td>124</td>\n    </tr>\n    <tr>\n      <th rowspan=\"2\" valign=\"top\">Female</th>\n      <th>Lunch</th>\n      <td>0</td>\n      <td>0</td>\n      <td>0</td>\n      <td>0</td>\n      <td>0</td>\n      <td>0</td>\n    </tr>\n    <tr>\n      <th>Dinner</th>\n      <td>52</td>\n      <td>52</td>\n      <td>52</td>\n      <td>52</td>\n      <td>52</td>\n      <td>52</td>\n    </tr>\n  </tbody>\n</table>\n</div>"
     },
     "metadata": {}
    }
   ],
   "execution_count": 33
  },
  {
   "cell_type": "markdown",
   "source": "# Group By: extraer valor con variables categóricas\nPodemos extraer variables categoricas usando un **pequeño truco** el cual consite en agregar una columna con numeros unos",
   "metadata": {
    "tags": [],
    "cell_id": "00039-13771d3c-c756-4640-99ce-97b8851a29e1",
    "deepnote_cell_type": "markdown"
   }
  },
  {
   "cell_type": "code",
   "source": "df['ones'] = 1",
   "metadata": {
    "tags": [],
    "cell_id": "00040-11c9ce2e-b769-4924-865e-f557d7230ada",
    "deepnote_to_be_reexecuted": false,
    "source_hash": "65f9a19f",
    "execution_start": 1625187070614,
    "execution_millis": 1,
    "deepnote_cell_type": "code"
   },
   "outputs": [],
   "execution_count": 42
  },
  {
   "cell_type": "markdown",
   "source": "Obtenemos los valores y el procentaje de las personas que son fumantes",
   "metadata": {
    "tags": [],
    "cell_id": "00041-e242e036-7c81-4ab1-8d38-34d6bf2c32ec",
    "deepnote_cell_type": "markdown"
   }
  },
  {
   "cell_type": "code",
   "source": "df_g = df.groupby(['sex','smoker'])[['ones']].sum()\ndf_g",
   "metadata": {
    "tags": [],
    "cell_id": "00041-7b269cf3-7e27-45a4-aa44-fa0b373ca985",
    "deepnote_to_be_reexecuted": false,
    "source_hash": "9d4639cb",
    "execution_start": 1625186923722,
    "execution_millis": 15,
    "deepnote_cell_type": "code"
   },
   "outputs": [
    {
     "output_type": "execute_result",
     "execution_count": 40,
     "data": {
      "application/vnd.deepnote.dataframe.v2+json": {
       "row_count": 4,
       "column_count": 1,
       "columns": [
        {
         "name": "ones",
         "dtype": "int64",
         "stats": {
          "unique_count": 4,
          "nan_count": 0,
          "min": "33",
          "max": "97",
          "histogram": [
           {
            "bin_start": 33,
            "bin_end": 39.4,
            "count": 1
           },
           {
            "bin_start": 39.4,
            "bin_end": 45.8,
            "count": 0
           },
           {
            "bin_start": 45.8,
            "bin_end": 52.2,
            "count": 0
           },
           {
            "bin_start": 52.2,
            "bin_end": 58.6,
            "count": 1
           },
           {
            "bin_start": 58.6,
            "bin_end": 65,
            "count": 1
           },
           {
            "bin_start": 65,
            "bin_end": 71.4,
            "count": 0
           },
           {
            "bin_start": 71.4,
            "bin_end": 77.80000000000001,
            "count": 0
           },
           {
            "bin_start": 77.80000000000001,
            "bin_end": 84.2,
            "count": 0
           },
           {
            "bin_start": 84.2,
            "bin_end": 90.6,
            "count": 0
           },
           {
            "bin_start": 90.6,
            "bin_end": 97,
            "count": 1
           }
          ]
         }
        },
        {
         "name": "_deepnote_index_column",
         "dtype": "object"
        }
       ],
       "rows_top": [
        {
         "ones": 60,
         "_deepnote_index_column": "('Male', 'Yes')"
        },
        {
         "ones": 97,
         "_deepnote_index_column": "('Male', 'No')"
        },
        {
         "ones": 33,
         "_deepnote_index_column": "('Female', 'Yes')"
        },
        {
         "ones": 54,
         "_deepnote_index_column": "('Female', 'No')"
        }
       ],
       "rows_bottom": null
      },
      "text/plain": "               ones\nsex    smoker      \nMale   Yes       60\n       No        97\nFemale Yes       33\n       No        54",
      "text/html": "<div>\n<style scoped>\n    .dataframe tbody tr th:only-of-type {\n        vertical-align: middle;\n    }\n\n    .dataframe tbody tr th {\n        vertical-align: top;\n    }\n\n    .dataframe thead th {\n        text-align: right;\n    }\n</style>\n<table border=\"1\" class=\"dataframe\">\n  <thead>\n    <tr style=\"text-align: right;\">\n      <th></th>\n      <th></th>\n      <th>ones</th>\n    </tr>\n    <tr>\n      <th>sex</th>\n      <th>smoker</th>\n      <th></th>\n    </tr>\n  </thead>\n  <tbody>\n    <tr>\n      <th rowspan=\"2\" valign=\"top\">Male</th>\n      <th>Yes</th>\n      <td>60</td>\n    </tr>\n    <tr>\n      <th>No</th>\n      <td>97</td>\n    </tr>\n    <tr>\n      <th rowspan=\"2\" valign=\"top\">Female</th>\n      <th>Yes</th>\n      <td>33</td>\n    </tr>\n    <tr>\n      <th>No</th>\n      <td>54</td>\n    </tr>\n  </tbody>\n</table>\n</div>"
     },
     "metadata": {}
    }
   ],
   "execution_count": 40
  },
  {
   "cell_type": "code",
   "source": "df_g.groupby(level=0).apply(\n    lambda x:\n    x / x.sum() * 100\n)",
   "metadata": {
    "tags": [],
    "cell_id": "00042-753db011-12a1-44d8-8319-bc38a6a7f382",
    "deepnote_to_be_reexecuted": false,
    "source_hash": "b525e5dc",
    "execution_start": 1625186953881,
    "execution_millis": 51,
    "deepnote_cell_type": "code"
   },
   "outputs": [
    {
     "output_type": "execute_result",
     "execution_count": 41,
     "data": {
      "application/vnd.deepnote.dataframe.v2+json": {
       "row_count": 4,
       "column_count": 1,
       "columns": [
        {
         "name": "ones",
         "dtype": "float64",
         "stats": {
          "unique_count": 4,
          "nan_count": 0,
          "min": "37.93103448275862",
          "max": "62.06896551724138",
          "histogram": [
           {
            "bin_start": 37.93103448275862,
            "bin_end": 40.3448275862069,
            "count": 2
           },
           {
            "bin_start": 40.3448275862069,
            "bin_end": 42.758620689655174,
            "count": 0
           },
           {
            "bin_start": 42.758620689655174,
            "bin_end": 45.172413793103445,
            "count": 0
           },
           {
            "bin_start": 45.172413793103445,
            "bin_end": 47.58620689655172,
            "count": 0
           },
           {
            "bin_start": 47.58620689655172,
            "bin_end": 50,
            "count": 0
           },
           {
            "bin_start": 50,
            "bin_end": 52.41379310344828,
            "count": 0
           },
           {
            "bin_start": 52.41379310344828,
            "bin_end": 54.827586206896555,
            "count": 0
           },
           {
            "bin_start": 54.827586206896555,
            "bin_end": 57.241379310344826,
            "count": 0
           },
           {
            "bin_start": 57.241379310344826,
            "bin_end": 59.65517241379311,
            "count": 0
           },
           {
            "bin_start": 59.65517241379311,
            "bin_end": 62.06896551724138,
            "count": 2
           }
          ]
         }
        },
        {
         "name": "_deepnote_index_column",
         "dtype": "object"
        }
       ],
       "rows_top": [
        {
         "ones": 38.21656050955414,
         "_deepnote_index_column": "('Male', 'Yes')"
        },
        {
         "ones": 61.78343949044586,
         "_deepnote_index_column": "('Male', 'No')"
        },
        {
         "ones": 37.93103448275862,
         "_deepnote_index_column": "('Female', 'Yes')"
        },
        {
         "ones": 62.06896551724138,
         "_deepnote_index_column": "('Female', 'No')"
        }
       ],
       "rows_bottom": null
      },
      "text/plain": "                    ones\nsex    smoker           \nMale   Yes     38.216561\n       No      61.783439\nFemale Yes     37.931034\n       No      62.068966",
      "text/html": "<div>\n<style scoped>\n    .dataframe tbody tr th:only-of-type {\n        vertical-align: middle;\n    }\n\n    .dataframe tbody tr th {\n        vertical-align: top;\n    }\n\n    .dataframe thead th {\n        text-align: right;\n    }\n</style>\n<table border=\"1\" class=\"dataframe\">\n  <thead>\n    <tr style=\"text-align: right;\">\n      <th></th>\n      <th></th>\n      <th>ones</th>\n    </tr>\n    <tr>\n      <th>sex</th>\n      <th>smoker</th>\n      <th></th>\n    </tr>\n  </thead>\n  <tbody>\n    <tr>\n      <th rowspan=\"2\" valign=\"top\">Male</th>\n      <th>Yes</th>\n      <td>38.216561</td>\n    </tr>\n    <tr>\n      <th>No</th>\n      <td>61.783439</td>\n    </tr>\n    <tr>\n      <th rowspan=\"2\" valign=\"top\">Female</th>\n      <th>Yes</th>\n      <td>37.931034</td>\n    </tr>\n    <tr>\n      <th>No</th>\n      <td>62.068966</td>\n    </tr>\n  </tbody>\n</table>\n</div>"
     },
     "metadata": {}
    }
   ],
   "execution_count": 41
  },
  {
   "cell_type": "markdown",
   "source": "## Transformar nuestras variables numericas en una categorica.\nCon **bins** podemos definir el ancho que queremos tener en nuestras categorias.\n\nPor ejemplo podemos tener una categoria de 3.",
   "metadata": {
    "tags": [],
    "cell_id": "00044-3edd9bd6-c04b-461f-b085-07b263acfdab",
    "deepnote_cell_type": "markdown"
   }
  },
  {
   "cell_type": "code",
   "source": "pd.cut(df['total_bill'], bins = 3).value_counts()",
   "metadata": {
    "tags": [],
    "cell_id": "00045-aa4e88b3-f3fa-4b8e-8d4f-2628b37507b0",
    "deepnote_to_be_reexecuted": false,
    "source_hash": "4b60f1b8",
    "execution_start": 1625187494766,
    "execution_millis": 5,
    "deepnote_cell_type": "code"
   },
   "outputs": [
    {
     "output_type": "execute_result",
     "execution_count": 60,
     "data": {
      "text/plain": "(3.022, 18.983]     140\n(18.983, 34.897]     88\n(34.897, 50.81]      16\nName: total_bill, dtype: int64"
     },
     "metadata": {}
    }
   ],
   "execution_count": 60
  },
  {
   "cell_type": "markdown",
   "source": "Otro seria una categoria que va de los 3 a 18 dolares y de los 18 a los 35 dolares.",
   "metadata": {
    "tags": [],
    "cell_id": "00046-1fcdfcc5-303b-4a62-9fa9-e660818ac50a",
    "deepnote_cell_type": "markdown"
   }
  },
  {
   "cell_type": "code",
   "source": "pd.cut(df['total_bill'], bins=[3,18,35,70]).value_counts()",
   "metadata": {
    "tags": [],
    "cell_id": "00047-ea829dba-6f2d-4ff8-8951-dfc8e5e88ac2",
    "deepnote_to_be_reexecuted": false,
    "source_hash": "97d6ef4a",
    "execution_start": 1625187509969,
    "execution_millis": 9,
    "deepnote_cell_type": "code"
   },
   "outputs": [
    {
     "output_type": "execute_result",
     "execution_count": 63,
     "data": {
      "text/plain": "(3, 18]     127\n(18, 35]    101\n(35, 70]     16\nName: total_bill, dtype: int64"
     },
     "metadata": {}
    }
   ],
   "execution_count": 63
  },
  {
   "cell_type": "markdown",
   "source": "Podremos observar que cada factura sera asignara una categoria segun el total de su factura.",
   "metadata": {
    "tags": [],
    "cell_id": "00048-fe2726d8-c58c-4383-9d0a-5a5662e1f985",
    "deepnote_cell_type": "markdown"
   }
  },
  {
   "cell_type": "code",
   "source": "df['bin_total'] = pd.cut(df['total_bill'], bins=[3,18,35,70])\ndf",
   "metadata": {
    "tags": [],
    "cell_id": "00048-ae0986fa-608f-4573-8a37-7511e13ce50c",
    "deepnote_to_be_reexecuted": false,
    "source_hash": "8a745fcd",
    "execution_start": 1625187512002,
    "execution_millis": 106,
    "deepnote_cell_type": "code"
   },
   "outputs": [
    {
     "output_type": "execute_result",
     "execution_count": 64,
     "data": {
      "application/vnd.deepnote.dataframe.v2+json": {
       "row_count": 244,
       "column_count": 10,
       "columns": [
        {
         "name": "total_bill",
         "dtype": "float64",
         "stats": {
          "unique_count": 229,
          "nan_count": 0,
          "min": "3.07",
          "max": "50.81",
          "histogram": [
           {
            "bin_start": 3.07,
            "bin_end": 7.843999999999999,
            "count": 7
           },
           {
            "bin_start": 7.843999999999999,
            "bin_end": 12.618,
            "count": 42
           },
           {
            "bin_start": 12.618,
            "bin_end": 17.392,
            "count": 68
           },
           {
            "bin_start": 17.392,
            "bin_end": 22.166,
            "count": 51
           },
           {
            "bin_start": 22.166,
            "bin_end": 26.94,
            "count": 31
           },
           {
            "bin_start": 26.94,
            "bin_end": 31.714,
            "count": 19
           },
           {
            "bin_start": 31.714,
            "bin_end": 36.488,
            "count": 12
           },
           {
            "bin_start": 36.488,
            "bin_end": 41.262,
            "count": 7
           },
           {
            "bin_start": 41.262,
            "bin_end": 46.036,
            "count": 3
           },
           {
            "bin_start": 46.036,
            "bin_end": 50.81,
            "count": 4
           }
          ]
         }
        },
        {
         "name": "tip",
         "dtype": "float64",
         "stats": {
          "unique_count": 123,
          "nan_count": 0,
          "min": "1.0",
          "max": "10.0",
          "histogram": [
           {
            "bin_start": 1,
            "bin_end": 1.9,
            "count": 41
           },
           {
            "bin_start": 1.9,
            "bin_end": 2.8,
            "count": 79
           },
           {
            "bin_start": 2.8,
            "bin_end": 3.7,
            "count": 66
           },
           {
            "bin_start": 3.7,
            "bin_end": 4.6,
            "count": 27
           },
           {
            "bin_start": 4.6,
            "bin_end": 5.5,
            "count": 19
           },
           {
            "bin_start": 5.5,
            "bin_end": 6.4,
            "count": 5
           },
           {
            "bin_start": 6.4,
            "bin_end": 7.3,
            "count": 4
           },
           {
            "bin_start": 7.3,
            "bin_end": 8.2,
            "count": 1
           },
           {
            "bin_start": 8.2,
            "bin_end": 9.1,
            "count": 1
           },
           {
            "bin_start": 9.1,
            "bin_end": 10,
            "count": 1
           }
          ]
         }
        },
        {
         "name": "sex",
         "dtype": "category",
         "stats": {
          "unique_count": 2,
          "nan_count": 0,
          "categories": [
           {
            "name": "Male",
            "count": 157
           },
           {
            "name": "Female",
            "count": 87
           }
          ]
         }
        },
        {
         "name": "smoker",
         "dtype": "category",
         "stats": {
          "unique_count": 2,
          "nan_count": 0,
          "categories": [
           {
            "name": "No",
            "count": 151
           },
           {
            "name": "Yes",
            "count": 93
           }
          ]
         }
        },
        {
         "name": "day",
         "dtype": "category",
         "stats": {
          "unique_count": 4,
          "nan_count": 0,
          "categories": [
           {
            "name": "Sat",
            "count": 87
           },
           {
            "name": "Sun",
            "count": 76
           },
           {
            "name": "2 others",
            "count": 81
           }
          ]
         }
        },
        {
         "name": "time",
         "dtype": "category",
         "stats": {
          "unique_count": 2,
          "nan_count": 0,
          "categories": [
           {
            "name": "Dinner",
            "count": 176
           },
           {
            "name": "Lunch",
            "count": 68
           }
          ]
         }
        },
        {
         "name": "size",
         "dtype": "int64",
         "stats": {
          "unique_count": 6,
          "nan_count": 0,
          "min": "1",
          "max": "6",
          "histogram": [
           {
            "bin_start": 1,
            "bin_end": 1.5,
            "count": 4
           },
           {
            "bin_start": 1.5,
            "bin_end": 2,
            "count": 0
           },
           {
            "bin_start": 2,
            "bin_end": 2.5,
            "count": 156
           },
           {
            "bin_start": 2.5,
            "bin_end": 3,
            "count": 0
           },
           {
            "bin_start": 3,
            "bin_end": 3.5,
            "count": 38
           },
           {
            "bin_start": 3.5,
            "bin_end": 4,
            "count": 0
           },
           {
            "bin_start": 4,
            "bin_end": 4.5,
            "count": 37
           },
           {
            "bin_start": 4.5,
            "bin_end": 5,
            "count": 0
           },
           {
            "bin_start": 5,
            "bin_end": 5.5,
            "count": 5
           },
           {
            "bin_start": 5.5,
            "bin_end": 6,
            "count": 4
           }
          ]
         }
        },
        {
         "name": "prct_tip",
         "dtype": "float64",
         "stats": {
          "unique_count": 242,
          "nan_count": 0,
          "min": "0.03563813585135547",
          "max": "0.710344827586207",
          "histogram": [
           {
            "bin_start": 0.03563813585135547,
            "bin_end": 0.10310880502484063,
            "count": 31
           },
           {
            "bin_start": 0.10310880502484063,
            "bin_end": 0.17057947419832578,
            "count": 120
           },
           {
            "bin_start": 0.17057947419832578,
            "bin_end": 0.23805014337181093,
            "count": 80
           },
           {
            "bin_start": 0.23805014337181093,
            "bin_end": 0.30552081254529606,
            "count": 10
           },
           {
            "bin_start": 0.30552081254529606,
            "bin_end": 0.3729914817187812,
            "count": 1
           },
           {
            "bin_start": 0.3729914817187812,
            "bin_end": 0.44046215089226637,
            "count": 1
           },
           {
            "bin_start": 0.44046215089226637,
            "bin_end": 0.5079328200657516,
            "count": 0
           },
           {
            "bin_start": 0.5079328200657516,
            "bin_end": 0.5754034892392367,
            "count": 0
           },
           {
            "bin_start": 0.5754034892392367,
            "bin_end": 0.6428741584127219,
            "count": 0
           },
           {
            "bin_start": 0.6428741584127219,
            "bin_end": 0.710344827586207,
            "count": 1
           }
          ]
         }
        },
        {
         "name": "ones",
         "dtype": "int64",
         "stats": {
          "unique_count": 1,
          "nan_count": 0,
          "min": "1",
          "max": "1",
          "histogram": [
           {
            "bin_start": 0.5,
            "bin_end": 0.6,
            "count": 0
           },
           {
            "bin_start": 0.6,
            "bin_end": 0.7,
            "count": 0
           },
           {
            "bin_start": 0.7,
            "bin_end": 0.8,
            "count": 0
           },
           {
            "bin_start": 0.8,
            "bin_end": 0.9,
            "count": 0
           },
           {
            "bin_start": 0.9,
            "bin_end": 1,
            "count": 0
           },
           {
            "bin_start": 1,
            "bin_end": 1.1,
            "count": 244
           },
           {
            "bin_start": 1.1,
            "bin_end": 1.2000000000000002,
            "count": 0
           },
           {
            "bin_start": 1.2000000000000002,
            "bin_end": 1.3,
            "count": 0
           },
           {
            "bin_start": 1.3,
            "bin_end": 1.4,
            "count": 0
           },
           {
            "bin_start": 1.4,
            "bin_end": 1.5,
            "count": 0
           }
          ]
         }
        },
        {
         "name": "bin_total",
         "dtype": "category",
         "stats": {
          "unique_count": 3,
          "nan_count": 0,
          "categories": [
           {
            "name": "(3, 18]",
            "count": 127
           },
           {
            "name": "(18, 35]",
            "count": 101
           },
           {
            "name": "(35, 70]",
            "count": 16
           }
          ]
         }
        },
        {
         "name": "_deepnote_index_column",
         "dtype": "int64"
        }
       ],
       "rows_top": [
        {
         "total_bill": 16.99,
         "tip": 1.01,
         "sex": "Female",
         "smoker": "No",
         "day": "Sun",
         "time": "Dinner",
         "size": 2,
         "prct_tip": 0.05944673337257211,
         "ones": 1,
         "bin_total": "(3, 18]",
         "_deepnote_index_column": 0
        },
        {
         "total_bill": 10.34,
         "tip": 1.66,
         "sex": "Male",
         "smoker": "No",
         "day": "Sun",
         "time": "Dinner",
         "size": 3,
         "prct_tip": 0.16054158607350097,
         "ones": 1,
         "bin_total": "(3, 18]",
         "_deepnote_index_column": 1
        },
        {
         "total_bill": 21.01,
         "tip": 3.5,
         "sex": "Male",
         "smoker": "No",
         "day": "Sun",
         "time": "Dinner",
         "size": 3,
         "prct_tip": 0.16658733936220846,
         "ones": 1,
         "bin_total": "(18, 35]",
         "_deepnote_index_column": 2
        },
        {
         "total_bill": 23.68,
         "tip": 3.31,
         "sex": "Male",
         "smoker": "No",
         "day": "Sun",
         "time": "Dinner",
         "size": 2,
         "prct_tip": 0.1397804054054054,
         "ones": 1,
         "bin_total": "(18, 35]",
         "_deepnote_index_column": 3
        },
        {
         "total_bill": 24.59,
         "tip": 3.61,
         "sex": "Female",
         "smoker": "No",
         "day": "Sun",
         "time": "Dinner",
         "size": 4,
         "prct_tip": 0.14680764538430255,
         "ones": 1,
         "bin_total": "(18, 35]",
         "_deepnote_index_column": 4
        },
        {
         "total_bill": 25.29,
         "tip": 4.71,
         "sex": "Male",
         "smoker": "No",
         "day": "Sun",
         "time": "Dinner",
         "size": 4,
         "prct_tip": 0.18623962040332148,
         "ones": 1,
         "bin_total": "(18, 35]",
         "_deepnote_index_column": 5
        },
        {
         "total_bill": 8.77,
         "tip": 2,
         "sex": "Male",
         "smoker": "No",
         "day": "Sun",
         "time": "Dinner",
         "size": 2,
         "prct_tip": 0.22805017103762829,
         "ones": 1,
         "bin_total": "(3, 18]",
         "_deepnote_index_column": 6
        },
        {
         "total_bill": 26.88,
         "tip": 3.12,
         "sex": "Male",
         "smoker": "No",
         "day": "Sun",
         "time": "Dinner",
         "size": 4,
         "prct_tip": 0.11607142857142858,
         "ones": 1,
         "bin_total": "(18, 35]",
         "_deepnote_index_column": 7
        },
        {
         "total_bill": 15.04,
         "tip": 1.96,
         "sex": "Male",
         "smoker": "No",
         "day": "Sun",
         "time": "Dinner",
         "size": 2,
         "prct_tip": 0.13031914893617022,
         "ones": 1,
         "bin_total": "(3, 18]",
         "_deepnote_index_column": 8
        },
        {
         "total_bill": 14.78,
         "tip": 3.23,
         "sex": "Male",
         "smoker": "No",
         "day": "Sun",
         "time": "Dinner",
         "size": 2,
         "prct_tip": 0.2185385656292287,
         "ones": 1,
         "bin_total": "(3, 18]",
         "_deepnote_index_column": 9
        },
        {
         "total_bill": 10.27,
         "tip": 1.71,
         "sex": "Male",
         "smoker": "No",
         "day": "Sun",
         "time": "Dinner",
         "size": 2,
         "prct_tip": 0.1665043816942551,
         "ones": 1,
         "bin_total": "(3, 18]",
         "_deepnote_index_column": 10
        },
        {
         "total_bill": 35.26,
         "tip": 5,
         "sex": "Female",
         "smoker": "No",
         "day": "Sun",
         "time": "Dinner",
         "size": 4,
         "prct_tip": 0.14180374361883155,
         "ones": 1,
         "bin_total": "(35, 70]",
         "_deepnote_index_column": 11
        },
        {
         "total_bill": 15.42,
         "tip": 1.57,
         "sex": "Male",
         "smoker": "No",
         "day": "Sun",
         "time": "Dinner",
         "size": 2,
         "prct_tip": 0.10181582360570687,
         "ones": 1,
         "bin_total": "(3, 18]",
         "_deepnote_index_column": 12
        },
        {
         "total_bill": 18.43,
         "tip": 3,
         "sex": "Male",
         "smoker": "No",
         "day": "Sun",
         "time": "Dinner",
         "size": 4,
         "prct_tip": 0.16277807921866522,
         "ones": 1,
         "bin_total": "(18, 35]",
         "_deepnote_index_column": 13
        },
        {
         "total_bill": 14.83,
         "tip": 3.02,
         "sex": "Female",
         "smoker": "No",
         "day": "Sun",
         "time": "Dinner",
         "size": 2,
         "prct_tip": 0.20364126770060686,
         "ones": 1,
         "bin_total": "(3, 18]",
         "_deepnote_index_column": 14
        },
        {
         "total_bill": 21.58,
         "tip": 3.92,
         "sex": "Male",
         "smoker": "No",
         "day": "Sun",
         "time": "Dinner",
         "size": 2,
         "prct_tip": 0.18164967562557924,
         "ones": 1,
         "bin_total": "(18, 35]",
         "_deepnote_index_column": 15
        },
        {
         "total_bill": 10.33,
         "tip": 1.67,
         "sex": "Female",
         "smoker": "No",
         "day": "Sun",
         "time": "Dinner",
         "size": 3,
         "prct_tip": 0.1616650532429816,
         "ones": 1,
         "bin_total": "(3, 18]",
         "_deepnote_index_column": 16
        },
        {
         "total_bill": 16.29,
         "tip": 3.71,
         "sex": "Male",
         "smoker": "No",
         "day": "Sun",
         "time": "Dinner",
         "size": 3,
         "prct_tip": 0.22774708410067526,
         "ones": 1,
         "bin_total": "(3, 18]",
         "_deepnote_index_column": 17
        },
        {
         "total_bill": 16.97,
         "tip": 3.5,
         "sex": "Female",
         "smoker": "No",
         "day": "Sun",
         "time": "Dinner",
         "size": 3,
         "prct_tip": 0.20624631703005306,
         "ones": 1,
         "bin_total": "(3, 18]",
         "_deepnote_index_column": 18
        },
        {
         "total_bill": 20.65,
         "tip": 3.35,
         "sex": "Male",
         "smoker": "No",
         "day": "Sat",
         "time": "Dinner",
         "size": 3,
         "prct_tip": 0.16222760290556903,
         "ones": 1,
         "bin_total": "(18, 35]",
         "_deepnote_index_column": 19
        },
        {
         "total_bill": 17.92,
         "tip": 4.08,
         "sex": "Male",
         "smoker": "No",
         "day": "Sat",
         "time": "Dinner",
         "size": 2,
         "prct_tip": 0.22767857142857142,
         "ones": 1,
         "bin_total": "(3, 18]",
         "_deepnote_index_column": 20
        },
        {
         "total_bill": 20.29,
         "tip": 2.75,
         "sex": "Female",
         "smoker": "No",
         "day": "Sat",
         "time": "Dinner",
         "size": 2,
         "prct_tip": 0.13553474618038444,
         "ones": 1,
         "bin_total": "(18, 35]",
         "_deepnote_index_column": 21
        },
        {
         "total_bill": 15.77,
         "tip": 2.23,
         "sex": "Female",
         "smoker": "No",
         "day": "Sat",
         "time": "Dinner",
         "size": 2,
         "prct_tip": 0.14140773620798985,
         "ones": 1,
         "bin_total": "(3, 18]",
         "_deepnote_index_column": 22
        },
        {
         "total_bill": 39.42,
         "tip": 7.58,
         "sex": "Male",
         "smoker": "No",
         "day": "Sat",
         "time": "Dinner",
         "size": 4,
         "prct_tip": 0.19228817858954844,
         "ones": 1,
         "bin_total": "(35, 70]",
         "_deepnote_index_column": 23
        },
        {
         "total_bill": 19.82,
         "tip": 3.18,
         "sex": "Male",
         "smoker": "No",
         "day": "Sat",
         "time": "Dinner",
         "size": 2,
         "prct_tip": 0.16044399596367306,
         "ones": 1,
         "bin_total": "(18, 35]",
         "_deepnote_index_column": 24
        },
        {
         "total_bill": 17.81,
         "tip": 2.34,
         "sex": "Male",
         "smoker": "No",
         "day": "Sat",
         "time": "Dinner",
         "size": 4,
         "prct_tip": 0.13138686131386862,
         "ones": 1,
         "bin_total": "(3, 18]",
         "_deepnote_index_column": 25
        },
        {
         "total_bill": 13.37,
         "tip": 2,
         "sex": "Male",
         "smoker": "No",
         "day": "Sat",
         "time": "Dinner",
         "size": 2,
         "prct_tip": 0.14958863126402394,
         "ones": 1,
         "bin_total": "(3, 18]",
         "_deepnote_index_column": 26
        },
        {
         "total_bill": 12.69,
         "tip": 2,
         "sex": "Male",
         "smoker": "No",
         "day": "Sat",
         "time": "Dinner",
         "size": 2,
         "prct_tip": 0.15760441292356187,
         "ones": 1,
         "bin_total": "(3, 18]",
         "_deepnote_index_column": 27
        },
        {
         "total_bill": 21.7,
         "tip": 4.3,
         "sex": "Male",
         "smoker": "No",
         "day": "Sat",
         "time": "Dinner",
         "size": 2,
         "prct_tip": 0.19815668202764977,
         "ones": 1,
         "bin_total": "(18, 35]",
         "_deepnote_index_column": 28
        },
        {
         "total_bill": 19.65,
         "tip": 3,
         "sex": "Female",
         "smoker": "No",
         "day": "Sat",
         "time": "Dinner",
         "size": 2,
         "prct_tip": 0.15267175572519084,
         "ones": 1,
         "bin_total": "(18, 35]",
         "_deepnote_index_column": 29
        },
        {
         "total_bill": 9.55,
         "tip": 1.45,
         "sex": "Male",
         "smoker": "No",
         "day": "Sat",
         "time": "Dinner",
         "size": 2,
         "prct_tip": 0.1518324607329843,
         "ones": 1,
         "bin_total": "(3, 18]",
         "_deepnote_index_column": 30
        },
        {
         "total_bill": 18.35,
         "tip": 2.5,
         "sex": "Male",
         "smoker": "No",
         "day": "Sat",
         "time": "Dinner",
         "size": 4,
         "prct_tip": 0.13623978201634876,
         "ones": 1,
         "bin_total": "(18, 35]",
         "_deepnote_index_column": 31
        },
        {
         "total_bill": 15.06,
         "tip": 3,
         "sex": "Female",
         "smoker": "No",
         "day": "Sat",
         "time": "Dinner",
         "size": 2,
         "prct_tip": 0.199203187250996,
         "ones": 1,
         "bin_total": "(3, 18]",
         "_deepnote_index_column": 32
        },
        {
         "total_bill": 20.69,
         "tip": 2.45,
         "sex": "Female",
         "smoker": "No",
         "day": "Sat",
         "time": "Dinner",
         "size": 4,
         "prct_tip": 0.11841469308844853,
         "ones": 1,
         "bin_total": "(18, 35]",
         "_deepnote_index_column": 33
        },
        {
         "total_bill": 17.78,
         "tip": 3.27,
         "sex": "Male",
         "smoker": "No",
         "day": "Sat",
         "time": "Dinner",
         "size": 2,
         "prct_tip": 0.1839145106861642,
         "ones": 1,
         "bin_total": "(3, 18]",
         "_deepnote_index_column": 34
        },
        {
         "total_bill": 24.06,
         "tip": 3.6,
         "sex": "Male",
         "smoker": "No",
         "day": "Sat",
         "time": "Dinner",
         "size": 3,
         "prct_tip": 0.14962593516209477,
         "ones": 1,
         "bin_total": "(18, 35]",
         "_deepnote_index_column": 35
        },
        {
         "total_bill": 16.31,
         "tip": 2,
         "sex": "Male",
         "smoker": "No",
         "day": "Sat",
         "time": "Dinner",
         "size": 3,
         "prct_tip": 0.12262415695892091,
         "ones": 1,
         "bin_total": "(3, 18]",
         "_deepnote_index_column": 36
        },
        {
         "total_bill": 16.93,
         "tip": 3.07,
         "sex": "Female",
         "smoker": "No",
         "day": "Sat",
         "time": "Dinner",
         "size": 3,
         "prct_tip": 0.1813349084465446,
         "ones": 1,
         "bin_total": "(3, 18]",
         "_deepnote_index_column": 37
        },
        {
         "total_bill": 18.69,
         "tip": 2.31,
         "sex": "Male",
         "smoker": "No",
         "day": "Sat",
         "time": "Dinner",
         "size": 3,
         "prct_tip": 0.12359550561797752,
         "ones": 1,
         "bin_total": "(18, 35]",
         "_deepnote_index_column": 38
        },
        {
         "total_bill": 31.27,
         "tip": 5,
         "sex": "Male",
         "smoker": "No",
         "day": "Sat",
         "time": "Dinner",
         "size": 3,
         "prct_tip": 0.1598976654940838,
         "ones": 1,
         "bin_total": "(18, 35]",
         "_deepnote_index_column": 39
        },
        {
         "total_bill": 16.04,
         "tip": 2.24,
         "sex": "Male",
         "smoker": "No",
         "day": "Sat",
         "time": "Dinner",
         "size": 3,
         "prct_tip": 0.13965087281795513,
         "ones": 1,
         "bin_total": "(3, 18]",
         "_deepnote_index_column": 40
        },
        {
         "total_bill": 17.46,
         "tip": 2.54,
         "sex": "Male",
         "smoker": "No",
         "day": "Sun",
         "time": "Dinner",
         "size": 2,
         "prct_tip": 0.14547537227949597,
         "ones": 1,
         "bin_total": "(3, 18]",
         "_deepnote_index_column": 41
        },
        {
         "total_bill": 13.94,
         "tip": 3.06,
         "sex": "Male",
         "smoker": "No",
         "day": "Sun",
         "time": "Dinner",
         "size": 2,
         "prct_tip": 0.21951219512195122,
         "ones": 1,
         "bin_total": "(3, 18]",
         "_deepnote_index_column": 42
        },
        {
         "total_bill": 9.68,
         "tip": 1.32,
         "sex": "Male",
         "smoker": "No",
         "day": "Sun",
         "time": "Dinner",
         "size": 2,
         "prct_tip": 0.13636363636363638,
         "ones": 1,
         "bin_total": "(3, 18]",
         "_deepnote_index_column": 43
        },
        {
         "total_bill": 30.4,
         "tip": 5.6,
         "sex": "Male",
         "smoker": "No",
         "day": "Sun",
         "time": "Dinner",
         "size": 4,
         "prct_tip": 0.18421052631578946,
         "ones": 1,
         "bin_total": "(18, 35]",
         "_deepnote_index_column": 44
        },
        {
         "total_bill": 18.29,
         "tip": 3,
         "sex": "Male",
         "smoker": "No",
         "day": "Sun",
         "time": "Dinner",
         "size": 2,
         "prct_tip": 0.16402405686167304,
         "ones": 1,
         "bin_total": "(18, 35]",
         "_deepnote_index_column": 45
        },
        {
         "total_bill": 22.23,
         "tip": 5,
         "sex": "Male",
         "smoker": "No",
         "day": "Sun",
         "time": "Dinner",
         "size": 2,
         "prct_tip": 0.22492127755285649,
         "ones": 1,
         "bin_total": "(18, 35]",
         "_deepnote_index_column": 46
        },
        {
         "total_bill": 32.4,
         "tip": 6,
         "sex": "Male",
         "smoker": "No",
         "day": "Sun",
         "time": "Dinner",
         "size": 4,
         "prct_tip": 0.1851851851851852,
         "ones": 1,
         "bin_total": "(18, 35]",
         "_deepnote_index_column": 47
        },
        {
         "total_bill": 28.55,
         "tip": 2.05,
         "sex": "Male",
         "smoker": "No",
         "day": "Sun",
         "time": "Dinner",
         "size": 3,
         "prct_tip": 0.07180385288966724,
         "ones": 1,
         "bin_total": "(18, 35]",
         "_deepnote_index_column": 48
        },
        {
         "total_bill": 18.04,
         "tip": 3,
         "sex": "Male",
         "smoker": "No",
         "day": "Sun",
         "time": "Dinner",
         "size": 2,
         "prct_tip": 0.16629711751662973,
         "ones": 1,
         "bin_total": "(18, 35]",
         "_deepnote_index_column": 49
        }
       ],
       "rows_bottom": [
        {
         "total_bill": 16.58,
         "tip": 4,
         "sex": "Male",
         "smoker": "Yes",
         "day": "Thur",
         "time": "Lunch",
         "size": 2,
         "prct_tip": 0.24125452352231608,
         "ones": 1,
         "bin_total": "(3, 18]",
         "_deepnote_index_column": 194
        },
        {
         "total_bill": 7.56,
         "tip": 1.44,
         "sex": "Male",
         "smoker": "No",
         "day": "Thur",
         "time": "Lunch",
         "size": 2,
         "prct_tip": 0.19047619047619047,
         "ones": 1,
         "bin_total": "(3, 18]",
         "_deepnote_index_column": 195
        },
        {
         "total_bill": 10.34,
         "tip": 2,
         "sex": "Male",
         "smoker": "Yes",
         "day": "Thur",
         "time": "Lunch",
         "size": 2,
         "prct_tip": 0.19342359767891684,
         "ones": 1,
         "bin_total": "(3, 18]",
         "_deepnote_index_column": 196
        },
        {
         "total_bill": 43.11,
         "tip": 5,
         "sex": "Female",
         "smoker": "Yes",
         "day": "Thur",
         "time": "Lunch",
         "size": 4,
         "prct_tip": 0.1159823706796567,
         "ones": 1,
         "bin_total": "(35, 70]",
         "_deepnote_index_column": 197
        },
        {
         "total_bill": 13,
         "tip": 2,
         "sex": "Female",
         "smoker": "Yes",
         "day": "Thur",
         "time": "Lunch",
         "size": 2,
         "prct_tip": 0.15384615384615385,
         "ones": 1,
         "bin_total": "(3, 18]",
         "_deepnote_index_column": 198
        },
        {
         "total_bill": 13.51,
         "tip": 2,
         "sex": "Male",
         "smoker": "Yes",
         "day": "Thur",
         "time": "Lunch",
         "size": 2,
         "prct_tip": 0.14803849000740193,
         "ones": 1,
         "bin_total": "(3, 18]",
         "_deepnote_index_column": 199
        },
        {
         "total_bill": 18.71,
         "tip": 4,
         "sex": "Male",
         "smoker": "Yes",
         "day": "Thur",
         "time": "Lunch",
         "size": 3,
         "prct_tip": 0.2137894174238375,
         "ones": 1,
         "bin_total": "(18, 35]",
         "_deepnote_index_column": 200
        },
        {
         "total_bill": 12.74,
         "tip": 2.01,
         "sex": "Female",
         "smoker": "Yes",
         "day": "Thur",
         "time": "Lunch",
         "size": 2,
         "prct_tip": 0.15777080062794346,
         "ones": 1,
         "bin_total": "(3, 18]",
         "_deepnote_index_column": 201
        },
        {
         "total_bill": 13,
         "tip": 2,
         "sex": "Female",
         "smoker": "Yes",
         "day": "Thur",
         "time": "Lunch",
         "size": 2,
         "prct_tip": 0.15384615384615385,
         "ones": 1,
         "bin_total": "(3, 18]",
         "_deepnote_index_column": 202
        },
        {
         "total_bill": 16.4,
         "tip": 2.5,
         "sex": "Female",
         "smoker": "Yes",
         "day": "Thur",
         "time": "Lunch",
         "size": 2,
         "prct_tip": 0.15243902439024393,
         "ones": 1,
         "bin_total": "(3, 18]",
         "_deepnote_index_column": 203
        },
        {
         "total_bill": 20.53,
         "tip": 4,
         "sex": "Male",
         "smoker": "Yes",
         "day": "Thur",
         "time": "Lunch",
         "size": 4,
         "prct_tip": 0.1948368241597662,
         "ones": 1,
         "bin_total": "(18, 35]",
         "_deepnote_index_column": 204
        },
        {
         "total_bill": 16.47,
         "tip": 3.23,
         "sex": "Female",
         "smoker": "Yes",
         "day": "Thur",
         "time": "Lunch",
         "size": 3,
         "prct_tip": 0.19611414693381907,
         "ones": 1,
         "bin_total": "(3, 18]",
         "_deepnote_index_column": 205
        },
        {
         "total_bill": 26.59,
         "tip": 3.41,
         "sex": "Male",
         "smoker": "Yes",
         "day": "Sat",
         "time": "Dinner",
         "size": 3,
         "prct_tip": 0.1282437006393381,
         "ones": 1,
         "bin_total": "(18, 35]",
         "_deepnote_index_column": 206
        },
        {
         "total_bill": 38.73,
         "tip": 3,
         "sex": "Male",
         "smoker": "Yes",
         "day": "Sat",
         "time": "Dinner",
         "size": 4,
         "prct_tip": 0.0774593338497289,
         "ones": 1,
         "bin_total": "(35, 70]",
         "_deepnote_index_column": 207
        },
        {
         "total_bill": 24.27,
         "tip": 2.03,
         "sex": "Male",
         "smoker": "Yes",
         "day": "Sat",
         "time": "Dinner",
         "size": 2,
         "prct_tip": 0.08364235681911825,
         "ones": 1,
         "bin_total": "(18, 35]",
         "_deepnote_index_column": 208
        },
        {
         "total_bill": 12.76,
         "tip": 2.23,
         "sex": "Female",
         "smoker": "Yes",
         "day": "Sat",
         "time": "Dinner",
         "size": 2,
         "prct_tip": 0.17476489028213166,
         "ones": 1,
         "bin_total": "(3, 18]",
         "_deepnote_index_column": 209
        },
        {
         "total_bill": 30.06,
         "tip": 2,
         "sex": "Male",
         "smoker": "Yes",
         "day": "Sat",
         "time": "Dinner",
         "size": 3,
         "prct_tip": 0.06653359946773121,
         "ones": 1,
         "bin_total": "(18, 35]",
         "_deepnote_index_column": 210
        },
        {
         "total_bill": 25.89,
         "tip": 5.16,
         "sex": "Male",
         "smoker": "Yes",
         "day": "Sat",
         "time": "Dinner",
         "size": 4,
         "prct_tip": 0.1993047508690614,
         "ones": 1,
         "bin_total": "(18, 35]",
         "_deepnote_index_column": 211
        },
        {
         "total_bill": 48.33,
         "tip": 9,
         "sex": "Male",
         "smoker": "No",
         "day": "Sat",
         "time": "Dinner",
         "size": 4,
         "prct_tip": 0.186219739292365,
         "ones": 1,
         "bin_total": "(35, 70]",
         "_deepnote_index_column": 212
        },
        {
         "total_bill": 13.27,
         "tip": 2.5,
         "sex": "Female",
         "smoker": "Yes",
         "day": "Sat",
         "time": "Dinner",
         "size": 2,
         "prct_tip": 0.18839487565938207,
         "ones": 1,
         "bin_total": "(3, 18]",
         "_deepnote_index_column": 213
        },
        {
         "total_bill": 28.17,
         "tip": 6.5,
         "sex": "Female",
         "smoker": "Yes",
         "day": "Sat",
         "time": "Dinner",
         "size": 3,
         "prct_tip": 0.23074192403265883,
         "ones": 1,
         "bin_total": "(18, 35]",
         "_deepnote_index_column": 214
        },
        {
         "total_bill": 12.9,
         "tip": 1.1,
         "sex": "Female",
         "smoker": "Yes",
         "day": "Sat",
         "time": "Dinner",
         "size": 2,
         "prct_tip": 0.08527131782945736,
         "ones": 1,
         "bin_total": "(3, 18]",
         "_deepnote_index_column": 215
        },
        {
         "total_bill": 28.15,
         "tip": 3,
         "sex": "Male",
         "smoker": "Yes",
         "day": "Sat",
         "time": "Dinner",
         "size": 5,
         "prct_tip": 0.10657193605683837,
         "ones": 1,
         "bin_total": "(18, 35]",
         "_deepnote_index_column": 216
        },
        {
         "total_bill": 11.59,
         "tip": 1.5,
         "sex": "Male",
         "smoker": "Yes",
         "day": "Sat",
         "time": "Dinner",
         "size": 2,
         "prct_tip": 0.12942191544434858,
         "ones": 1,
         "bin_total": "(3, 18]",
         "_deepnote_index_column": 217
        },
        {
         "total_bill": 7.74,
         "tip": 1.44,
         "sex": "Male",
         "smoker": "Yes",
         "day": "Sat",
         "time": "Dinner",
         "size": 2,
         "prct_tip": 0.18604651162790697,
         "ones": 1,
         "bin_total": "(3, 18]",
         "_deepnote_index_column": 218
        },
        {
         "total_bill": 30.14,
         "tip": 3.09,
         "sex": "Female",
         "smoker": "Yes",
         "day": "Sat",
         "time": "Dinner",
         "size": 4,
         "prct_tip": 0.10252156602521566,
         "ones": 1,
         "bin_total": "(18, 35]",
         "_deepnote_index_column": 219
        },
        {
         "total_bill": 12.16,
         "tip": 2.2,
         "sex": "Male",
         "smoker": "Yes",
         "day": "Fri",
         "time": "Lunch",
         "size": 2,
         "prct_tip": 0.18092105263157895,
         "ones": 1,
         "bin_total": "(3, 18]",
         "_deepnote_index_column": 220
        },
        {
         "total_bill": 13.42,
         "tip": 3.48,
         "sex": "Female",
         "smoker": "Yes",
         "day": "Fri",
         "time": "Lunch",
         "size": 2,
         "prct_tip": 0.2593144560357675,
         "ones": 1,
         "bin_total": "(3, 18]",
         "_deepnote_index_column": 221
        },
        {
         "total_bill": 8.58,
         "tip": 1.92,
         "sex": "Male",
         "smoker": "Yes",
         "day": "Fri",
         "time": "Lunch",
         "size": 1,
         "prct_tip": 0.22377622377622378,
         "ones": 1,
         "bin_total": "(3, 18]",
         "_deepnote_index_column": 222
        },
        {
         "total_bill": 15.98,
         "tip": 3,
         "sex": "Female",
         "smoker": "No",
         "day": "Fri",
         "time": "Lunch",
         "size": 3,
         "prct_tip": 0.18773466833541927,
         "ones": 1,
         "bin_total": "(3, 18]",
         "_deepnote_index_column": 223
        },
        {
         "total_bill": 13.42,
         "tip": 1.58,
         "sex": "Male",
         "smoker": "Yes",
         "day": "Fri",
         "time": "Lunch",
         "size": 2,
         "prct_tip": 0.11773472429210134,
         "ones": 1,
         "bin_total": "(3, 18]",
         "_deepnote_index_column": 224
        },
        {
         "total_bill": 16.27,
         "tip": 2.5,
         "sex": "Female",
         "smoker": "Yes",
         "day": "Fri",
         "time": "Lunch",
         "size": 2,
         "prct_tip": 0.15365703749231716,
         "ones": 1,
         "bin_total": "(3, 18]",
         "_deepnote_index_column": 225
        },
        {
         "total_bill": 10.09,
         "tip": 2,
         "sex": "Female",
         "smoker": "Yes",
         "day": "Fri",
         "time": "Lunch",
         "size": 2,
         "prct_tip": 0.19821605550049554,
         "ones": 1,
         "bin_total": "(3, 18]",
         "_deepnote_index_column": 226
        },
        {
         "total_bill": 20.45,
         "tip": 3,
         "sex": "Male",
         "smoker": "No",
         "day": "Sat",
         "time": "Dinner",
         "size": 4,
         "prct_tip": 0.1466992665036675,
         "ones": 1,
         "bin_total": "(18, 35]",
         "_deepnote_index_column": 227
        },
        {
         "total_bill": 13.28,
         "tip": 2.72,
         "sex": "Male",
         "smoker": "No",
         "day": "Sat",
         "time": "Dinner",
         "size": 2,
         "prct_tip": 0.20481927710843376,
         "ones": 1,
         "bin_total": "(3, 18]",
         "_deepnote_index_column": 228
        },
        {
         "total_bill": 22.12,
         "tip": 2.88,
         "sex": "Female",
         "smoker": "Yes",
         "day": "Sat",
         "time": "Dinner",
         "size": 2,
         "prct_tip": 0.13019891500904157,
         "ones": 1,
         "bin_total": "(18, 35]",
         "_deepnote_index_column": 229
        },
        {
         "total_bill": 24.01,
         "tip": 2,
         "sex": "Male",
         "smoker": "Yes",
         "day": "Sat",
         "time": "Dinner",
         "size": 4,
         "prct_tip": 0.08329862557267805,
         "ones": 1,
         "bin_total": "(18, 35]",
         "_deepnote_index_column": 230
        },
        {
         "total_bill": 15.69,
         "tip": 3,
         "sex": "Male",
         "smoker": "Yes",
         "day": "Sat",
         "time": "Dinner",
         "size": 3,
         "prct_tip": 0.19120458891013384,
         "ones": 1,
         "bin_total": "(3, 18]",
         "_deepnote_index_column": 231
        },
        {
         "total_bill": 11.61,
         "tip": 3.39,
         "sex": "Male",
         "smoker": "No",
         "day": "Sat",
         "time": "Dinner",
         "size": 2,
         "prct_tip": 0.29198966408268734,
         "ones": 1,
         "bin_total": "(3, 18]",
         "_deepnote_index_column": 232
        },
        {
         "total_bill": 10.77,
         "tip": 1.47,
         "sex": "Male",
         "smoker": "No",
         "day": "Sat",
         "time": "Dinner",
         "size": 2,
         "prct_tip": 0.13649025069637882,
         "ones": 1,
         "bin_total": "(3, 18]",
         "_deepnote_index_column": 233
        },
        {
         "total_bill": 15.53,
         "tip": 3,
         "sex": "Male",
         "smoker": "Yes",
         "day": "Sat",
         "time": "Dinner",
         "size": 2,
         "prct_tip": 0.19317450096587252,
         "ones": 1,
         "bin_total": "(3, 18]",
         "_deepnote_index_column": 234
        },
        {
         "total_bill": 10.07,
         "tip": 1.25,
         "sex": "Male",
         "smoker": "No",
         "day": "Sat",
         "time": "Dinner",
         "size": 2,
         "prct_tip": 0.12413108242303872,
         "ones": 1,
         "bin_total": "(3, 18]",
         "_deepnote_index_column": 235
        },
        {
         "total_bill": 12.6,
         "tip": 1,
         "sex": "Male",
         "smoker": "Yes",
         "day": "Sat",
         "time": "Dinner",
         "size": 2,
         "prct_tip": 0.07936507936507936,
         "ones": 1,
         "bin_total": "(3, 18]",
         "_deepnote_index_column": 236
        },
        {
         "total_bill": 32.83,
         "tip": 1.17,
         "sex": "Male",
         "smoker": "Yes",
         "day": "Sat",
         "time": "Dinner",
         "size": 2,
         "prct_tip": 0.03563813585135547,
         "ones": 1,
         "bin_total": "(18, 35]",
         "_deepnote_index_column": 237
        },
        {
         "total_bill": 35.83,
         "tip": 4.67,
         "sex": "Female",
         "smoker": "No",
         "day": "Sat",
         "time": "Dinner",
         "size": 3,
         "prct_tip": 0.13033770583310075,
         "ones": 1,
         "bin_total": "(35, 70]",
         "_deepnote_index_column": 238
        },
        {
         "total_bill": 29.03,
         "tip": 5.92,
         "sex": "Male",
         "smoker": "No",
         "day": "Sat",
         "time": "Dinner",
         "size": 3,
         "prct_tip": 0.2039269720978298,
         "ones": 1,
         "bin_total": "(18, 35]",
         "_deepnote_index_column": 239
        },
        {
         "total_bill": 27.18,
         "tip": 2,
         "sex": "Female",
         "smoker": "Yes",
         "day": "Sat",
         "time": "Dinner",
         "size": 2,
         "prct_tip": 0.07358351729212656,
         "ones": 1,
         "bin_total": "(18, 35]",
         "_deepnote_index_column": 240
        },
        {
         "total_bill": 22.67,
         "tip": 2,
         "sex": "Male",
         "smoker": "Yes",
         "day": "Sat",
         "time": "Dinner",
         "size": 2,
         "prct_tip": 0.08822232024702249,
         "ones": 1,
         "bin_total": "(18, 35]",
         "_deepnote_index_column": 241
        },
        {
         "total_bill": 17.82,
         "tip": 1.75,
         "sex": "Male",
         "smoker": "No",
         "day": "Sat",
         "time": "Dinner",
         "size": 2,
         "prct_tip": 0.09820426487093153,
         "ones": 1,
         "bin_total": "(3, 18]",
         "_deepnote_index_column": 242
        },
        {
         "total_bill": 18.78,
         "tip": 3,
         "sex": "Female",
         "smoker": "No",
         "day": "Thur",
         "time": "Dinner",
         "size": 2,
         "prct_tip": 0.1597444089456869,
         "ones": 1,
         "bin_total": "(18, 35]",
         "_deepnote_index_column": 243
        }
       ]
      },
      "text/plain": "     total_bill   tip     sex smoker   day    time  size  prct_tip  ones  \\\n0         16.99  1.01  Female     No   Sun  Dinner     2  0.059447     1   \n1         10.34  1.66    Male     No   Sun  Dinner     3  0.160542     1   \n2         21.01  3.50    Male     No   Sun  Dinner     3  0.166587     1   \n3         23.68  3.31    Male     No   Sun  Dinner     2  0.139780     1   \n4         24.59  3.61  Female     No   Sun  Dinner     4  0.146808     1   \n..          ...   ...     ...    ...   ...     ...   ...       ...   ...   \n239       29.03  5.92    Male     No   Sat  Dinner     3  0.203927     1   \n240       27.18  2.00  Female    Yes   Sat  Dinner     2  0.073584     1   \n241       22.67  2.00    Male    Yes   Sat  Dinner     2  0.088222     1   \n242       17.82  1.75    Male     No   Sat  Dinner     2  0.098204     1   \n243       18.78  3.00  Female     No  Thur  Dinner     2  0.159744     1   \n\n    bin_total  \n0     (3, 18]  \n1     (3, 18]  \n2    (18, 35]  \n3    (18, 35]  \n4    (18, 35]  \n..        ...  \n239  (18, 35]  \n240  (18, 35]  \n241  (18, 35]  \n242   (3, 18]  \n243  (18, 35]  \n\n[244 rows x 10 columns]",
      "text/html": "<div>\n<style scoped>\n    .dataframe tbody tr th:only-of-type {\n        vertical-align: middle;\n    }\n\n    .dataframe tbody tr th {\n        vertical-align: top;\n    }\n\n    .dataframe thead th {\n        text-align: right;\n    }\n</style>\n<table border=\"1\" class=\"dataframe\">\n  <thead>\n    <tr style=\"text-align: right;\">\n      <th></th>\n      <th>total_bill</th>\n      <th>tip</th>\n      <th>sex</th>\n      <th>smoker</th>\n      <th>day</th>\n      <th>time</th>\n      <th>size</th>\n      <th>prct_tip</th>\n      <th>ones</th>\n      <th>bin_total</th>\n    </tr>\n  </thead>\n  <tbody>\n    <tr>\n      <th>0</th>\n      <td>16.99</td>\n      <td>1.01</td>\n      <td>Female</td>\n      <td>No</td>\n      <td>Sun</td>\n      <td>Dinner</td>\n      <td>2</td>\n      <td>0.059447</td>\n      <td>1</td>\n      <td>(3, 18]</td>\n    </tr>\n    <tr>\n      <th>1</th>\n      <td>10.34</td>\n      <td>1.66</td>\n      <td>Male</td>\n      <td>No</td>\n      <td>Sun</td>\n      <td>Dinner</td>\n      <td>3</td>\n      <td>0.160542</td>\n      <td>1</td>\n      <td>(3, 18]</td>\n    </tr>\n    <tr>\n      <th>2</th>\n      <td>21.01</td>\n      <td>3.50</td>\n      <td>Male</td>\n      <td>No</td>\n      <td>Sun</td>\n      <td>Dinner</td>\n      <td>3</td>\n      <td>0.166587</td>\n      <td>1</td>\n      <td>(18, 35]</td>\n    </tr>\n    <tr>\n      <th>3</th>\n      <td>23.68</td>\n      <td>3.31</td>\n      <td>Male</td>\n      <td>No</td>\n      <td>Sun</td>\n      <td>Dinner</td>\n      <td>2</td>\n      <td>0.139780</td>\n      <td>1</td>\n      <td>(18, 35]</td>\n    </tr>\n    <tr>\n      <th>4</th>\n      <td>24.59</td>\n      <td>3.61</td>\n      <td>Female</td>\n      <td>No</td>\n      <td>Sun</td>\n      <td>Dinner</td>\n      <td>4</td>\n      <td>0.146808</td>\n      <td>1</td>\n      <td>(18, 35]</td>\n    </tr>\n    <tr>\n      <th>...</th>\n      <td>...</td>\n      <td>...</td>\n      <td>...</td>\n      <td>...</td>\n      <td>...</td>\n      <td>...</td>\n      <td>...</td>\n      <td>...</td>\n      <td>...</td>\n      <td>...</td>\n    </tr>\n    <tr>\n      <th>239</th>\n      <td>29.03</td>\n      <td>5.92</td>\n      <td>Male</td>\n      <td>No</td>\n      <td>Sat</td>\n      <td>Dinner</td>\n      <td>3</td>\n      <td>0.203927</td>\n      <td>1</td>\n      <td>(18, 35]</td>\n    </tr>\n    <tr>\n      <th>240</th>\n      <td>27.18</td>\n      <td>2.00</td>\n      <td>Female</td>\n      <td>Yes</td>\n      <td>Sat</td>\n      <td>Dinner</td>\n      <td>2</td>\n      <td>0.073584</td>\n      <td>1</td>\n      <td>(18, 35]</td>\n    </tr>\n    <tr>\n      <th>241</th>\n      <td>22.67</td>\n      <td>2.00</td>\n      <td>Male</td>\n      <td>Yes</td>\n      <td>Sat</td>\n      <td>Dinner</td>\n      <td>2</td>\n      <td>0.088222</td>\n      <td>1</td>\n      <td>(18, 35]</td>\n    </tr>\n    <tr>\n      <th>242</th>\n      <td>17.82</td>\n      <td>1.75</td>\n      <td>Male</td>\n      <td>No</td>\n      <td>Sat</td>\n      <td>Dinner</td>\n      <td>2</td>\n      <td>0.098204</td>\n      <td>1</td>\n      <td>(3, 18]</td>\n    </tr>\n    <tr>\n      <th>243</th>\n      <td>18.78</td>\n      <td>3.00</td>\n      <td>Female</td>\n      <td>No</td>\n      <td>Thur</td>\n      <td>Dinner</td>\n      <td>2</td>\n      <td>0.159744</td>\n      <td>1</td>\n      <td>(18, 35]</td>\n    </tr>\n  </tbody>\n</table>\n<p>244 rows × 10 columns</p>\n</div>"
     },
     "metadata": {}
    }
   ],
   "execution_count": 64
  },
  {
   "cell_type": "markdown",
   "source": "Vamos a poder observar el procentaje total de las facturas que se generan segun su categoria.",
   "metadata": {
    "tags": [],
    "cell_id": "00050-b1d98055-bebd-48a7-94c1-019b6b9bb088",
    "deepnote_cell_type": "markdown"
   }
  },
  {
   "cell_type": "code",
   "source": "df.groupby(['time','bin_total'])[['ones']].count().groupby(level=0).apply(lambda x: x/x.sum()*100)",
   "metadata": {
    "tags": [],
    "cell_id": "00050-5911e010-7944-44b8-9426-0d38c9f0d8c4",
    "deepnote_to_be_reexecuted": false,
    "source_hash": "6e6913c8",
    "execution_start": 1625187884137,
    "execution_millis": 34,
    "deepnote_cell_type": "code"
   },
   "outputs": [
    {
     "output_type": "execute_result",
     "execution_count": 80,
     "data": {
      "application/vnd.deepnote.dataframe.v2+json": {
       "row_count": 6,
       "column_count": 1,
       "columns": [
        {
         "name": "ones",
         "dtype": "float64",
         "stats": {
          "unique_count": 6,
          "nan_count": 0,
          "min": "2.941176470588235",
          "max": "66.17647058823529",
          "histogram": [
           {
            "bin_start": 2.941176470588235,
            "bin_end": 9.26470588235294,
            "count": 2
           },
           {
            "bin_start": 9.26470588235294,
            "bin_end": 15.588235294117647,
            "count": 0
           },
           {
            "bin_start": 15.588235294117647,
            "bin_end": 21.91176470588235,
            "count": 0
           },
           {
            "bin_start": 21.91176470588235,
            "bin_end": 28.235294117647058,
            "count": 0
           },
           {
            "bin_start": 28.235294117647058,
            "bin_end": 34.55882352941176,
            "count": 1
           },
           {
            "bin_start": 34.55882352941176,
            "bin_end": 40.882352941176464,
            "count": 0
           },
           {
            "bin_start": 40.882352941176464,
            "bin_end": 47.205882352941174,
            "count": 2
           },
           {
            "bin_start": 47.205882352941174,
            "bin_end": 53.52941176470588,
            "count": 0
           },
           {
            "bin_start": 53.52941176470588,
            "bin_end": 59.85294117647058,
            "count": 0
           },
           {
            "bin_start": 59.85294117647058,
            "bin_end": 66.17647058823529,
            "count": 1
           }
          ]
         }
        },
        {
         "name": "_deepnote_index_column",
         "dtype": "object"
        }
       ],
       "rows_top": [
        {
         "ones": 66.17647058823529,
         "_deepnote_index_column": "('Lunch', Interval(3, 18, closed='right'))"
        },
        {
         "ones": 30.88235294117647,
         "_deepnote_index_column": "('Lunch', Interval(18, 35, closed='right'))"
        },
        {
         "ones": 2.941176470588235,
         "_deepnote_index_column": "('Lunch', Interval(35, 70, closed='right'))"
        },
        {
         "ones": 46.590909090909086,
         "_deepnote_index_column": "('Dinner', Interval(3, 18, closed='right'))"
        },
        {
         "ones": 45.45454545454545,
         "_deepnote_index_column": "('Dinner', Interval(18, 35, closed='right'))"
        },
        {
         "ones": 7.954545454545454,
         "_deepnote_index_column": "('Dinner', Interval(35, 70, closed='right'))"
        }
       ],
       "rows_bottom": null
      },
      "text/plain": "                       ones\ntime   bin_total           \nLunch  (3, 18]    66.176471\n       (18, 35]   30.882353\n       (35, 70]    2.941176\nDinner (3, 18]    46.590909\n       (18, 35]   45.454545\n       (35, 70]    7.954545",
      "text/html": "<div>\n<style scoped>\n    .dataframe tbody tr th:only-of-type {\n        vertical-align: middle;\n    }\n\n    .dataframe tbody tr th {\n        vertical-align: top;\n    }\n\n    .dataframe thead th {\n        text-align: right;\n    }\n</style>\n<table border=\"1\" class=\"dataframe\">\n  <thead>\n    <tr style=\"text-align: right;\">\n      <th></th>\n      <th></th>\n      <th>ones</th>\n    </tr>\n    <tr>\n      <th>time</th>\n      <th>bin_total</th>\n      <th></th>\n    </tr>\n  </thead>\n  <tbody>\n    <tr>\n      <th rowspan=\"3\" valign=\"top\">Lunch</th>\n      <th>(3, 18]</th>\n      <td>66.176471</td>\n    </tr>\n    <tr>\n      <th>(18, 35]</th>\n      <td>30.882353</td>\n    </tr>\n    <tr>\n      <th>(35, 70]</th>\n      <td>2.941176</td>\n    </tr>\n    <tr>\n      <th rowspan=\"3\" valign=\"top\">Dinner</th>\n      <th>(3, 18]</th>\n      <td>46.590909</td>\n    </tr>\n    <tr>\n      <th>(18, 35]</th>\n      <td>45.454545</td>\n    </tr>\n    <tr>\n      <th>(35, 70]</th>\n      <td>7.954545</td>\n    </tr>\n  </tbody>\n</table>\n</div>"
     },
     "metadata": {}
    }
   ],
   "execution_count": 80
  },
  {
   "cell_type": "markdown",
   "source": "<a style='text-decoration:none;line-height:16px;display:flex;color:#5B5B62;padding:10px;justify-content:end;' href='https://deepnote.com?utm_source=created-in-deepnote-cell&projectId=40d7a071-7e6a-4668-9914-a7e81441c111' target=\"_blank\">\n<img alt='Created in deepnote.com' style='display:inline;max-height:16px;margin:0px;margin-right:7.5px;' src='data:image/svg+xml;base64,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' > </img>\nCreated in <span style='font-weight:600;margin-left:4px;'>Deepnote</span></a>",
   "metadata": {
    "tags": [],
    "created_in_deepnote_cell": true,
    "deepnote_cell_type": "markdown"
   }
  }
 ],
 "nbformat": 4,
 "nbformat_minor": 2,
 "metadata": {
  "orig_nbformat": 2,
  "deepnote": {
   "is_reactive": false
  },
  "deepnote_notebook_id": "bfaf9e83-fc67-48b1-9a51-deb555fd4a00",
  "deepnote_execution_queue": []
 }
}