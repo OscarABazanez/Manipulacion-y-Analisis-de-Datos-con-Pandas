{
 "cells": [
  {
   "cell_type": "code",
   "metadata": {
    "tags": [],
    "cell_id": "00000-733aac24-de70-4101-9692-260a3190ae26",
    "deepnote_to_be_reexecuted": false,
    "source_hash": "ac69cb49",
    "execution_start": 1625167319743,
    "execution_millis": 586,
    "deepnote_cell_type": "code"
   },
   "source": "import pandas as pd\nimport numpy as np\nimport seaborn as sns\n\npd.options.display.float_format = '{:,.3f}'.format\ndf = sns.load_dataset('diamonds')\ndf",
   "execution_count": 5,
   "outputs": [
    {
     "output_type": "execute_result",
     "execution_count": 5,
     "data": {
      "application/vnd.deepnote.dataframe.v2+json": {
       "row_count": 53940,
       "column_count": 10,
       "columns": [
        {
         "name": "carat",
         "dtype": "float64",
         "stats": {
          "unique_count": 273,
          "nan_count": 0,
          "min": "0.2",
          "max": "5.01",
          "histogram": [
           {
            "bin_start": 0.2,
            "bin_end": 0.681,
            "count": 25155
           },
           {
            "bin_start": 0.681,
            "bin_end": 1.162,
            "count": 18626
           },
           {
            "bin_start": 1.162,
            "bin_end": 1.643,
            "count": 7129
           },
           {
            "bin_start": 1.643,
            "bin_end": 2.124,
            "count": 2349
           },
           {
            "bin_start": 2.124,
            "bin_end": 2.605,
            "count": 614
           },
           {
            "bin_start": 2.605,
            "bin_end": 3.0860000000000003,
            "count": 53
           },
           {
            "bin_start": 3.0860000000000003,
            "bin_end": 3.567,
            "count": 6
           },
           {
            "bin_start": 3.567,
            "bin_end": 4.048,
            "count": 5
           },
           {
            "bin_start": 4.048,
            "bin_end": 4.529,
            "count": 2
           },
           {
            "bin_start": 4.529,
            "bin_end": 5.01,
            "count": 1
           }
          ]
         }
        },
        {
         "name": "cut",
         "dtype": "category"
        },
        {
         "name": "color",
         "dtype": "category"
        },
        {
         "name": "clarity",
         "dtype": "category"
        },
        {
         "name": "depth",
         "dtype": "float64"
        },
        {
         "name": "table",
         "dtype": "float64"
        },
        {
         "name": "price",
         "dtype": "int64"
        },
        {
         "name": "x",
         "dtype": "float64"
        },
        {
         "name": "y",
         "dtype": "float64"
        },
        {
         "name": "z",
         "dtype": "float64"
        },
        {
         "name": "_deepnote_index_column",
         "dtype": "int64"
        }
       ],
       "rows_top": [
        {
         "carat": 0.23,
         "cut": "Ideal",
         "color": "E",
         "clarity": "SI2",
         "depth": 61.5,
         "table": 55,
         "price": 326,
         "x": 3.95,
         "y": 3.98,
         "z": 2.43,
         "_deepnote_index_column": 0
        },
        {
         "carat": 0.21,
         "cut": "Premium",
         "color": "E",
         "clarity": "SI1",
         "depth": 59.8,
         "table": 61,
         "price": 326,
         "x": 3.89,
         "y": 3.84,
         "z": 2.31,
         "_deepnote_index_column": 1
        },
        {
         "carat": 0.23,
         "cut": "Good",
         "color": "E",
         "clarity": "VS1",
         "depth": 56.9,
         "table": 65,
         "price": 327,
         "x": 4.05,
         "y": 4.07,
         "z": 2.31,
         "_deepnote_index_column": 2
        },
        {
         "carat": 0.29,
         "cut": "Premium",
         "color": "I",
         "clarity": "VS2",
         "depth": 62.4,
         "table": 58,
         "price": 334,
         "x": 4.2,
         "y": 4.23,
         "z": 2.63,
         "_deepnote_index_column": 3
        },
        {
         "carat": 0.31,
         "cut": "Good",
         "color": "J",
         "clarity": "SI2",
         "depth": 63.3,
         "table": 58,
         "price": 335,
         "x": 4.34,
         "y": 4.35,
         "z": 2.75,
         "_deepnote_index_column": 4
        },
        {
         "carat": 0.24,
         "cut": "Very Good",
         "color": "J",
         "clarity": "VVS2",
         "depth": 62.8,
         "table": 57,
         "price": 336,
         "x": 3.94,
         "y": 3.96,
         "z": 2.48,
         "_deepnote_index_column": 5
        },
        {
         "carat": 0.24,
         "cut": "Very Good",
         "color": "I",
         "clarity": "VVS1",
         "depth": 62.3,
         "table": 57,
         "price": 336,
         "x": 3.95,
         "y": 3.98,
         "z": 2.47,
         "_deepnote_index_column": 6
        },
        {
         "carat": 0.26,
         "cut": "Very Good",
         "color": "H",
         "clarity": "SI1",
         "depth": 61.9,
         "table": 55,
         "price": 337,
         "x": 4.07,
         "y": 4.11,
         "z": 2.53,
         "_deepnote_index_column": 7
        },
        {
         "carat": 0.22,
         "cut": "Fair",
         "color": "E",
         "clarity": "VS2",
         "depth": 65.1,
         "table": 61,
         "price": 337,
         "x": 3.87,
         "y": 3.78,
         "z": 2.49,
         "_deepnote_index_column": 8
        },
        {
         "carat": 0.23,
         "cut": "Very Good",
         "color": "H",
         "clarity": "VS1",
         "depth": 59.4,
         "table": 61,
         "price": 338,
         "x": 4,
         "y": 4.05,
         "z": 2.39,
         "_deepnote_index_column": 9
        },
        {
         "carat": 0.3,
         "cut": "Good",
         "color": "J",
         "clarity": "SI1",
         "depth": 64,
         "table": 55,
         "price": 339,
         "x": 4.25,
         "y": 4.28,
         "z": 2.73,
         "_deepnote_index_column": 10
        },
        {
         "carat": 0.23,
         "cut": "Ideal",
         "color": "J",
         "clarity": "VS1",
         "depth": 62.8,
         "table": 56,
         "price": 340,
         "x": 3.93,
         "y": 3.9,
         "z": 2.46,
         "_deepnote_index_column": 11
        },
        {
         "carat": 0.22,
         "cut": "Premium",
         "color": "F",
         "clarity": "SI1",
         "depth": 60.4,
         "table": 61,
         "price": 342,
         "x": 3.88,
         "y": 3.84,
         "z": 2.33,
         "_deepnote_index_column": 12
        },
        {
         "carat": 0.31,
         "cut": "Ideal",
         "color": "J",
         "clarity": "SI2",
         "depth": 62.2,
         "table": 54,
         "price": 344,
         "x": 4.35,
         "y": 4.37,
         "z": 2.71,
         "_deepnote_index_column": 13
        },
        {
         "carat": 0.2,
         "cut": "Premium",
         "color": "E",
         "clarity": "SI2",
         "depth": 60.2,
         "table": 62,
         "price": 345,
         "x": 3.79,
         "y": 3.75,
         "z": 2.27,
         "_deepnote_index_column": 14
        },
        {
         "carat": 0.32,
         "cut": "Premium",
         "color": "E",
         "clarity": "I1",
         "depth": 60.9,
         "table": 58,
         "price": 345,
         "x": 4.38,
         "y": 4.42,
         "z": 2.68,
         "_deepnote_index_column": 15
        },
        {
         "carat": 0.3,
         "cut": "Ideal",
         "color": "I",
         "clarity": "SI2",
         "depth": 62,
         "table": 54,
         "price": 348,
         "x": 4.31,
         "y": 4.34,
         "z": 2.68,
         "_deepnote_index_column": 16
        },
        {
         "carat": 0.3,
         "cut": "Good",
         "color": "J",
         "clarity": "SI1",
         "depth": 63.4,
         "table": 54,
         "price": 351,
         "x": 4.23,
         "y": 4.29,
         "z": 2.7,
         "_deepnote_index_column": 17
        },
        {
         "carat": 0.3,
         "cut": "Good",
         "color": "J",
         "clarity": "SI1",
         "depth": 63.8,
         "table": 56,
         "price": 351,
         "x": 4.23,
         "y": 4.26,
         "z": 2.71,
         "_deepnote_index_column": 18
        },
        {
         "carat": 0.3,
         "cut": "Very Good",
         "color": "J",
         "clarity": "SI1",
         "depth": 62.7,
         "table": 59,
         "price": 351,
         "x": 4.21,
         "y": 4.27,
         "z": 2.66,
         "_deepnote_index_column": 19
        },
        {
         "carat": 0.3,
         "cut": "Good",
         "color": "I",
         "clarity": "SI2",
         "depth": 63.3,
         "table": 56,
         "price": 351,
         "x": 4.26,
         "y": 4.3,
         "z": 2.71,
         "_deepnote_index_column": 20
        },
        {
         "carat": 0.23,
         "cut": "Very Good",
         "color": "E",
         "clarity": "VS2",
         "depth": 63.8,
         "table": 55,
         "price": 352,
         "x": 3.85,
         "y": 3.92,
         "z": 2.48,
         "_deepnote_index_column": 21
        },
        {
         "carat": 0.23,
         "cut": "Very Good",
         "color": "H",
         "clarity": "VS1",
         "depth": 61,
         "table": 57,
         "price": 353,
         "x": 3.94,
         "y": 3.96,
         "z": 2.41,
         "_deepnote_index_column": 22
        },
        {
         "carat": 0.31,
         "cut": "Very Good",
         "color": "J",
         "clarity": "SI1",
         "depth": 59.4,
         "table": 62,
         "price": 353,
         "x": 4.39,
         "y": 4.43,
         "z": 2.62,
         "_deepnote_index_column": 23
        },
        {
         "carat": 0.31,
         "cut": "Very Good",
         "color": "J",
         "clarity": "SI1",
         "depth": 58.1,
         "table": 62,
         "price": 353,
         "x": 4.44,
         "y": 4.47,
         "z": 2.59,
         "_deepnote_index_column": 24
        },
        {
         "carat": 0.23,
         "cut": "Very Good",
         "color": "G",
         "clarity": "VVS2",
         "depth": 60.4,
         "table": 58,
         "price": 354,
         "x": 3.97,
         "y": 4.01,
         "z": 2.41,
         "_deepnote_index_column": 25
        },
        {
         "carat": 0.24,
         "cut": "Premium",
         "color": "I",
         "clarity": "VS1",
         "depth": 62.5,
         "table": 57,
         "price": 355,
         "x": 3.97,
         "y": 3.94,
         "z": 2.47,
         "_deepnote_index_column": 26
        },
        {
         "carat": 0.3,
         "cut": "Very Good",
         "color": "J",
         "clarity": "VS2",
         "depth": 62.2,
         "table": 57,
         "price": 357,
         "x": 4.28,
         "y": 4.3,
         "z": 2.67,
         "_deepnote_index_column": 27
        },
        {
         "carat": 0.23,
         "cut": "Very Good",
         "color": "D",
         "clarity": "VS2",
         "depth": 60.5,
         "table": 61,
         "price": 357,
         "x": 3.96,
         "y": 3.97,
         "z": 2.4,
         "_deepnote_index_column": 28
        },
        {
         "carat": 0.23,
         "cut": "Very Good",
         "color": "F",
         "clarity": "VS1",
         "depth": 60.9,
         "table": 57,
         "price": 357,
         "x": 3.96,
         "y": 3.99,
         "z": 2.42,
         "_deepnote_index_column": 29
        },
        {
         "carat": 0.23,
         "cut": "Very Good",
         "color": "F",
         "clarity": "VS1",
         "depth": 60,
         "table": 57,
         "price": 402,
         "x": 4,
         "y": 4.03,
         "z": 2.41,
         "_deepnote_index_column": 30
        },
        {
         "carat": 0.23,
         "cut": "Very Good",
         "color": "F",
         "clarity": "VS1",
         "depth": 59.8,
         "table": 57,
         "price": 402,
         "x": 4.04,
         "y": 4.06,
         "z": 2.42,
         "_deepnote_index_column": 31
        },
        {
         "carat": 0.23,
         "cut": "Very Good",
         "color": "E",
         "clarity": "VS1",
         "depth": 60.7,
         "table": 59,
         "price": 402,
         "x": 3.97,
         "y": 4.01,
         "z": 2.42,
         "_deepnote_index_column": 32
        },
        {
         "carat": 0.23,
         "cut": "Very Good",
         "color": "E",
         "clarity": "VS1",
         "depth": 59.5,
         "table": 58,
         "price": 402,
         "x": 4.01,
         "y": 4.06,
         "z": 2.4,
         "_deepnote_index_column": 33
        },
        {
         "carat": 0.23,
         "cut": "Very Good",
         "color": "D",
         "clarity": "VS1",
         "depth": 61.9,
         "table": 58,
         "price": 402,
         "x": 3.92,
         "y": 3.96,
         "z": 2.44,
         "_deepnote_index_column": 34
        },
        {
         "carat": 0.23,
         "cut": "Good",
         "color": "F",
         "clarity": "VS1",
         "depth": 58.2,
         "table": 59,
         "price": 402,
         "x": 4.06,
         "y": 4.08,
         "z": 2.37,
         "_deepnote_index_column": 35
        },
        {
         "carat": 0.23,
         "cut": "Good",
         "color": "E",
         "clarity": "VS1",
         "depth": 64.1,
         "table": 59,
         "price": 402,
         "x": 3.83,
         "y": 3.85,
         "z": 2.46,
         "_deepnote_index_column": 36
        },
        {
         "carat": 0.31,
         "cut": "Good",
         "color": "H",
         "clarity": "SI1",
         "depth": 64,
         "table": 54,
         "price": 402,
         "x": 4.29,
         "y": 4.31,
         "z": 2.75,
         "_deepnote_index_column": 37
        },
        {
         "carat": 0.26,
         "cut": "Very Good",
         "color": "D",
         "clarity": "VS2",
         "depth": 60.8,
         "table": 59,
         "price": 403,
         "x": 4.13,
         "y": 4.16,
         "z": 2.52,
         "_deepnote_index_column": 38
        },
        {
         "carat": 0.33,
         "cut": "Ideal",
         "color": "I",
         "clarity": "SI2",
         "depth": 61.8,
         "table": 55,
         "price": 403,
         "x": 4.49,
         "y": 4.51,
         "z": 2.78,
         "_deepnote_index_column": 39
        },
        {
         "carat": 0.33,
         "cut": "Ideal",
         "color": "I",
         "clarity": "SI2",
         "depth": 61.2,
         "table": 56,
         "price": 403,
         "x": 4.49,
         "y": 4.5,
         "z": 2.75,
         "_deepnote_index_column": 40
        },
        {
         "carat": 0.33,
         "cut": "Ideal",
         "color": "J",
         "clarity": "SI1",
         "depth": 61.1,
         "table": 56,
         "price": 403,
         "x": 4.49,
         "y": 4.55,
         "z": 2.76,
         "_deepnote_index_column": 41
        },
        {
         "carat": 0.26,
         "cut": "Good",
         "color": "D",
         "clarity": "VS2",
         "depth": 65.2,
         "table": 56,
         "price": 403,
         "x": 3.99,
         "y": 4.02,
         "z": 2.61,
         "_deepnote_index_column": 42
        },
        {
         "carat": 0.26,
         "cut": "Good",
         "color": "D",
         "clarity": "VS1",
         "depth": 58.4,
         "table": 63,
         "price": 403,
         "x": 4.19,
         "y": 4.24,
         "z": 2.46,
         "_deepnote_index_column": 43
        },
        {
         "carat": 0.32,
         "cut": "Good",
         "color": "H",
         "clarity": "SI2",
         "depth": 63.1,
         "table": 56,
         "price": 403,
         "x": 4.34,
         "y": 4.37,
         "z": 2.75,
         "_deepnote_index_column": 44
        },
        {
         "carat": 0.29,
         "cut": "Premium",
         "color": "F",
         "clarity": "SI1",
         "depth": 62.4,
         "table": 58,
         "price": 403,
         "x": 4.24,
         "y": 4.26,
         "z": 2.65,
         "_deepnote_index_column": 45
        },
        {
         "carat": 0.32,
         "cut": "Very Good",
         "color": "H",
         "clarity": "SI2",
         "depth": 61.8,
         "table": 55,
         "price": 403,
         "x": 4.35,
         "y": 4.42,
         "z": 2.71,
         "_deepnote_index_column": 46
        },
        {
         "carat": 0.32,
         "cut": "Good",
         "color": "H",
         "clarity": "SI2",
         "depth": 63.8,
         "table": 56,
         "price": 403,
         "x": 4.36,
         "y": 4.38,
         "z": 2.79,
         "_deepnote_index_column": 47
        },
        {
         "carat": 0.25,
         "cut": "Very Good",
         "color": "E",
         "clarity": "VS2",
         "depth": 63.3,
         "table": 60,
         "price": 404,
         "x": 4,
         "y": 4.03,
         "z": 2.54,
         "_deepnote_index_column": 48
        },
        {
         "carat": 0.29,
         "cut": "Very Good",
         "color": "H",
         "clarity": "SI2",
         "depth": 60.7,
         "table": 60,
         "price": 404,
         "x": 4.33,
         "y": 4.37,
         "z": 2.64,
         "_deepnote_index_column": 49
        }
       ],
       "rows_bottom": [
        {
         "carat": 0.73,
         "cut": "Good",
         "color": "E",
         "clarity": "SI1",
         "depth": 57.9,
         "table": 55,
         "price": 2749,
         "x": 6,
         "y": 5.96,
         "z": 3.46,
         "_deepnote_index_column": 53890
        },
        {
         "carat": 0.56,
         "cut": "Ideal",
         "color": "E",
         "clarity": "VVS1",
         "depth": 62.1,
         "table": 56,
         "price": 2750,
         "x": 5.28,
         "y": 5.29,
         "z": 3.28,
         "_deepnote_index_column": 53891
        },
        {
         "carat": 0.7,
         "cut": "Ideal",
         "color": "F",
         "clarity": "VS1",
         "depth": 62.5,
         "table": 56,
         "price": 2751,
         "x": 5.73,
         "y": 5.7,
         "z": 3.57,
         "_deepnote_index_column": 53892
        },
        {
         "carat": 0.7,
         "cut": "Ideal",
         "color": "F",
         "clarity": "VS1",
         "depth": 62,
         "table": 55,
         "price": 2751,
         "x": 5.74,
         "y": 5.71,
         "z": 3.55,
         "_deepnote_index_column": 53893
        },
        {
         "carat": 0.71,
         "cut": "Ideal",
         "color": "G",
         "clarity": "SI1",
         "depth": 60.5,
         "table": 56.4,
         "price": 2751,
         "x": 5.76,
         "y": 5.8,
         "z": 3.5,
         "_deepnote_index_column": 53894
        },
        {
         "carat": 0.7,
         "cut": "Good",
         "color": "F",
         "clarity": "VS1",
         "depth": 57.8,
         "table": 61,
         "price": 2751,
         "x": 5.83,
         "y": 5.79,
         "z": 3.36,
         "_deepnote_index_column": 53895
        },
        {
         "carat": 0.83,
         "cut": "Ideal",
         "color": "G",
         "clarity": "SI2",
         "depth": 62.4,
         "table": 54,
         "price": 2751,
         "x": 6.01,
         "y": 6.08,
         "z": 3.77,
         "_deepnote_index_column": 53896
        },
        {
         "carat": 1.02,
         "cut": "Good",
         "color": "H",
         "clarity": "I1",
         "depth": 64.3,
         "table": 63,
         "price": 2751,
         "x": 6.28,
         "y": 6.23,
         "z": 4.02,
         "_deepnote_index_column": 53897
        },
        {
         "carat": 0.65,
         "cut": "Very Good",
         "color": "D",
         "clarity": "VS1",
         "depth": 60.8,
         "table": 57.2,
         "price": 2752,
         "x": 5.55,
         "y": 5.63,
         "z": 3.4,
         "_deepnote_index_column": 53898
        },
        {
         "carat": 0.72,
         "cut": "Ideal",
         "color": "H",
         "clarity": "VVS2",
         "depth": 62.3,
         "table": 56,
         "price": 2752,
         "x": 5.74,
         "y": 5.81,
         "z": 3.6,
         "_deepnote_index_column": 53899
        },
        {
         "carat": 0.73,
         "cut": "Ideal",
         "color": "H",
         "clarity": "VS2",
         "depth": 62.5,
         "table": 58,
         "price": 2752,
         "x": 5.71,
         "y": 5.75,
         "z": 3.58,
         "_deepnote_index_column": 53900
        },
        {
         "carat": 0.57,
         "cut": "Premium",
         "color": "E",
         "clarity": "VS1",
         "depth": 61.6,
         "table": 58,
         "price": 2753,
         "x": 5.36,
         "y": 5.33,
         "z": 3.29,
         "_deepnote_index_column": 53901
        },
        {
         "carat": 0.77,
         "cut": "Very Good",
         "color": "E",
         "clarity": "SI2",
         "depth": 59.9,
         "table": 61,
         "price": 2753,
         "x": 5.98,
         "y": 6.01,
         "z": 3.59,
         "_deepnote_index_column": 53902
        },
        {
         "carat": 0.75,
         "cut": "Very Good",
         "color": "E",
         "clarity": "SI1",
         "depth": 62.9,
         "table": 57,
         "price": 2753,
         "x": 5.79,
         "y": 5.84,
         "z": 3.66,
         "_deepnote_index_column": 53903
        },
        {
         "carat": 0.7,
         "cut": "Premium",
         "color": "E",
         "clarity": "SI1",
         "depth": 61.3,
         "table": 58,
         "price": 2753,
         "x": 5.68,
         "y": 5.71,
         "z": 3.49,
         "_deepnote_index_column": 53904
        },
        {
         "carat": 0.7,
         "cut": "Premium",
         "color": "E",
         "clarity": "SI1",
         "depth": 60,
         "table": 59,
         "price": 2753,
         "x": 5.75,
         "y": 5.79,
         "z": 3.46,
         "_deepnote_index_column": 53905
        },
        {
         "carat": 0.75,
         "cut": "Very Good",
         "color": "E",
         "clarity": "SI1",
         "depth": 63,
         "table": 55,
         "price": 2753,
         "x": 5.76,
         "y": 5.79,
         "z": 3.64,
         "_deepnote_index_column": 53906
        },
        {
         "carat": 0.7,
         "cut": "Very Good",
         "color": "E",
         "clarity": "SI1",
         "depth": 61,
         "table": 57,
         "price": 2753,
         "x": 5.68,
         "y": 5.73,
         "z": 3.48,
         "_deepnote_index_column": 53907
        },
        {
         "carat": 0.7,
         "cut": "Very Good",
         "color": "E",
         "clarity": "SI1",
         "depth": 61.2,
         "table": 57,
         "price": 2753,
         "x": 5.68,
         "y": 5.73,
         "z": 3.49,
         "_deepnote_index_column": 53908
        },
        {
         "carat": 0.7,
         "cut": "Very Good",
         "color": "E",
         "clarity": "SI1",
         "depth": 62.7,
         "table": 59,
         "price": 2753,
         "x": 5.63,
         "y": 5.67,
         "z": 3.54,
         "_deepnote_index_column": 53909
        },
        {
         "carat": 0.7,
         "cut": "Premium",
         "color": "E",
         "clarity": "SI1",
         "depth": 60.5,
         "table": 58,
         "price": 2753,
         "x": 5.74,
         "y": 5.77,
         "z": 3.48,
         "_deepnote_index_column": 53910
        },
        {
         "carat": 0.57,
         "cut": "Premium",
         "color": "E",
         "clarity": "IF",
         "depth": 59.8,
         "table": 60,
         "price": 2753,
         "x": 5.43,
         "y": 5.38,
         "z": 3.23,
         "_deepnote_index_column": 53911
        },
        {
         "carat": 0.61,
         "cut": "Premium",
         "color": "F",
         "clarity": "VVS1",
         "depth": 61.8,
         "table": 59,
         "price": 2753,
         "x": 5.48,
         "y": 5.4,
         "z": 3.36,
         "_deepnote_index_column": 53912
        },
        {
         "carat": 0.8,
         "cut": "Good",
         "color": "G",
         "clarity": "VS2",
         "depth": 64.2,
         "table": 58,
         "price": 2753,
         "x": 5.84,
         "y": 5.81,
         "z": 3.74,
         "_deepnote_index_column": 53913
        },
        {
         "carat": 0.84,
         "cut": "Good",
         "color": "I",
         "clarity": "VS1",
         "depth": 63.7,
         "table": 59,
         "price": 2753,
         "x": 5.94,
         "y": 5.9,
         "z": 3.77,
         "_deepnote_index_column": 53914
        },
        {
         "carat": 0.77,
         "cut": "Ideal",
         "color": "E",
         "clarity": "SI2",
         "depth": 62.1,
         "table": 56,
         "price": 2753,
         "x": 5.84,
         "y": 5.86,
         "z": 3.63,
         "_deepnote_index_column": 53915
        },
        {
         "carat": 0.74,
         "cut": "Good",
         "color": "D",
         "clarity": "SI1",
         "depth": 63.1,
         "table": 59,
         "price": 2753,
         "x": 5.71,
         "y": 5.74,
         "z": 3.61,
         "_deepnote_index_column": 53916
        },
        {
         "carat": 0.9,
         "cut": "Very Good",
         "color": "J",
         "clarity": "SI1",
         "depth": 63.2,
         "table": 60,
         "price": 2753,
         "x": 6.12,
         "y": 6.09,
         "z": 3.86,
         "_deepnote_index_column": 53917
        },
        {
         "carat": 0.76,
         "cut": "Premium",
         "color": "I",
         "clarity": "VS1",
         "depth": 59.3,
         "table": 62,
         "price": 2753,
         "x": 5.93,
         "y": 5.85,
         "z": 3.49,
         "_deepnote_index_column": 53918
        },
        {
         "carat": 0.76,
         "cut": "Ideal",
         "color": "I",
         "clarity": "VVS1",
         "depth": 62.2,
         "table": 55,
         "price": 2753,
         "x": 5.89,
         "y": 5.87,
         "z": 3.66,
         "_deepnote_index_column": 53919
        },
        {
         "carat": 0.7,
         "cut": "Very Good",
         "color": "E",
         "clarity": "VS2",
         "depth": 62.4,
         "table": 60,
         "price": 2755,
         "x": 5.57,
         "y": 5.61,
         "z": 3.49,
         "_deepnote_index_column": 53920
        },
        {
         "carat": 0.7,
         "cut": "Very Good",
         "color": "E",
         "clarity": "VS2",
         "depth": 62.8,
         "table": 60,
         "price": 2755,
         "x": 5.59,
         "y": 5.65,
         "z": 3.53,
         "_deepnote_index_column": 53921
        },
        {
         "carat": 0.7,
         "cut": "Very Good",
         "color": "D",
         "clarity": "VS1",
         "depth": 63.1,
         "table": 59,
         "price": 2755,
         "x": 5.67,
         "y": 5.58,
         "z": 3.55,
         "_deepnote_index_column": 53922
        },
        {
         "carat": 0.73,
         "cut": "Ideal",
         "color": "I",
         "clarity": "VS2",
         "depth": 61.3,
         "table": 56,
         "price": 2756,
         "x": 5.8,
         "y": 5.84,
         "z": 3.57,
         "_deepnote_index_column": 53923
        },
        {
         "carat": 0.73,
         "cut": "Ideal",
         "color": "I",
         "clarity": "VS2",
         "depth": 61.6,
         "table": 55,
         "price": 2756,
         "x": 5.82,
         "y": 5.84,
         "z": 3.59,
         "_deepnote_index_column": 53924
        },
        {
         "carat": 0.79,
         "cut": "Ideal",
         "color": "I",
         "clarity": "SI1",
         "depth": 61.6,
         "table": 56,
         "price": 2756,
         "x": 5.95,
         "y": 5.97,
         "z": 3.67,
         "_deepnote_index_column": 53925
        },
        {
         "carat": 0.71,
         "cut": "Ideal",
         "color": "E",
         "clarity": "SI1",
         "depth": 61.9,
         "table": 56,
         "price": 2756,
         "x": 5.71,
         "y": 5.73,
         "z": 3.54,
         "_deepnote_index_column": 53926
        },
        {
         "carat": 0.79,
         "cut": "Good",
         "color": "F",
         "clarity": "SI1",
         "depth": 58.1,
         "table": 59,
         "price": 2756,
         "x": 6.06,
         "y": 6.13,
         "z": 3.54,
         "_deepnote_index_column": 53927
        },
        {
         "carat": 0.79,
         "cut": "Premium",
         "color": "E",
         "clarity": "SI2",
         "depth": 61.4,
         "table": 58,
         "price": 2756,
         "x": 6.03,
         "y": 5.96,
         "z": 3.68,
         "_deepnote_index_column": 53928
        },
        {
         "carat": 0.71,
         "cut": "Ideal",
         "color": "G",
         "clarity": "VS1",
         "depth": 61.4,
         "table": 56,
         "price": 2756,
         "x": 5.76,
         "y": 5.73,
         "z": 3.53,
         "_deepnote_index_column": 53929
        },
        {
         "carat": 0.71,
         "cut": "Premium",
         "color": "E",
         "clarity": "SI1",
         "depth": 60.5,
         "table": 55,
         "price": 2756,
         "x": 5.79,
         "y": 5.74,
         "z": 3.49,
         "_deepnote_index_column": 53930
        },
        {
         "carat": 0.71,
         "cut": "Premium",
         "color": "F",
         "clarity": "SI1",
         "depth": 59.8,
         "table": 62,
         "price": 2756,
         "x": 5.74,
         "y": 5.73,
         "z": 3.43,
         "_deepnote_index_column": 53931
        },
        {
         "carat": 0.7,
         "cut": "Very Good",
         "color": "E",
         "clarity": "VS2",
         "depth": 60.5,
         "table": 59,
         "price": 2757,
         "x": 5.71,
         "y": 5.76,
         "z": 3.47,
         "_deepnote_index_column": 53932
        },
        {
         "carat": 0.7,
         "cut": "Very Good",
         "color": "E",
         "clarity": "VS2",
         "depth": 61.2,
         "table": 59,
         "price": 2757,
         "x": 5.69,
         "y": 5.72,
         "z": 3.49,
         "_deepnote_index_column": 53933
        },
        {
         "carat": 0.72,
         "cut": "Premium",
         "color": "D",
         "clarity": "SI1",
         "depth": 62.7,
         "table": 59,
         "price": 2757,
         "x": 5.69,
         "y": 5.73,
         "z": 3.58,
         "_deepnote_index_column": 53934
        },
        {
         "carat": 0.72,
         "cut": "Ideal",
         "color": "D",
         "clarity": "SI1",
         "depth": 60.8,
         "table": 57,
         "price": 2757,
         "x": 5.75,
         "y": 5.76,
         "z": 3.5,
         "_deepnote_index_column": 53935
        },
        {
         "carat": 0.72,
         "cut": "Good",
         "color": "D",
         "clarity": "SI1",
         "depth": 63.1,
         "table": 55,
         "price": 2757,
         "x": 5.69,
         "y": 5.75,
         "z": 3.61,
         "_deepnote_index_column": 53936
        },
        {
         "carat": 0.7,
         "cut": "Very Good",
         "color": "D",
         "clarity": "SI1",
         "depth": 62.8,
         "table": 60,
         "price": 2757,
         "x": 5.66,
         "y": 5.68,
         "z": 3.56,
         "_deepnote_index_column": 53937
        },
        {
         "carat": 0.86,
         "cut": "Premium",
         "color": "H",
         "clarity": "SI2",
         "depth": 61,
         "table": 58,
         "price": 2757,
         "x": 6.15,
         "y": 6.12,
         "z": 3.74,
         "_deepnote_index_column": 53938
        },
        {
         "carat": 0.75,
         "cut": "Ideal",
         "color": "D",
         "clarity": "SI2",
         "depth": 62.2,
         "table": 55,
         "price": 2757,
         "x": 5.83,
         "y": 5.87,
         "z": 3.64,
         "_deepnote_index_column": 53939
        }
       ]
      },
      "text/plain": "       carat        cut color clarity  depth  table  price     x     y     z\n0      0.230      Ideal     E     SI2 61.500 55.000    326 3.950 3.980 2.430\n1      0.210    Premium     E     SI1 59.800 61.000    326 3.890 3.840 2.310\n2      0.230       Good     E     VS1 56.900 65.000    327 4.050 4.070 2.310\n3      0.290    Premium     I     VS2 62.400 58.000    334 4.200 4.230 2.630\n4      0.310       Good     J     SI2 63.300 58.000    335 4.340 4.350 2.750\n...      ...        ...   ...     ...    ...    ...    ...   ...   ...   ...\n53935  0.720      Ideal     D     SI1 60.800 57.000   2757 5.750 5.760 3.500\n53936  0.720       Good     D     SI1 63.100 55.000   2757 5.690 5.750 3.610\n53937  0.700  Very Good     D     SI1 62.800 60.000   2757 5.660 5.680 3.560\n53938  0.860    Premium     H     SI2 61.000 58.000   2757 6.150 6.120 3.740\n53939  0.750      Ideal     D     SI2 62.200 55.000   2757 5.830 5.870 3.640\n\n[53940 rows x 10 columns]",
      "text/html": "<div>\n<style scoped>\n    .dataframe tbody tr th:only-of-type {\n        vertical-align: middle;\n    }\n\n    .dataframe tbody tr th {\n        vertical-align: top;\n    }\n\n    .dataframe thead th {\n        text-align: right;\n    }\n</style>\n<table border=\"1\" class=\"dataframe\">\n  <thead>\n    <tr style=\"text-align: right;\">\n      <th></th>\n      <th>carat</th>\n      <th>cut</th>\n      <th>color</th>\n      <th>clarity</th>\n      <th>depth</th>\n      <th>table</th>\n      <th>price</th>\n      <th>x</th>\n      <th>y</th>\n      <th>z</th>\n    </tr>\n  </thead>\n  <tbody>\n    <tr>\n      <th>0</th>\n      <td>0.230</td>\n      <td>Ideal</td>\n      <td>E</td>\n      <td>SI2</td>\n      <td>61.500</td>\n      <td>55.000</td>\n      <td>326</td>\n      <td>3.950</td>\n      <td>3.980</td>\n      <td>2.430</td>\n    </tr>\n    <tr>\n      <th>1</th>\n      <td>0.210</td>\n      <td>Premium</td>\n      <td>E</td>\n      <td>SI1</td>\n      <td>59.800</td>\n      <td>61.000</td>\n      <td>326</td>\n      <td>3.890</td>\n      <td>3.840</td>\n      <td>2.310</td>\n    </tr>\n    <tr>\n      <th>2</th>\n      <td>0.230</td>\n      <td>Good</td>\n      <td>E</td>\n      <td>VS1</td>\n      <td>56.900</td>\n      <td>65.000</td>\n      <td>327</td>\n      <td>4.050</td>\n      <td>4.070</td>\n      <td>2.310</td>\n    </tr>\n    <tr>\n      <th>3</th>\n      <td>0.290</td>\n      <td>Premium</td>\n      <td>I</td>\n      <td>VS2</td>\n      <td>62.400</td>\n      <td>58.000</td>\n      <td>334</td>\n      <td>4.200</td>\n      <td>4.230</td>\n      <td>2.630</td>\n    </tr>\n    <tr>\n      <th>4</th>\n      <td>0.310</td>\n      <td>Good</td>\n      <td>J</td>\n      <td>SI2</td>\n      <td>63.300</td>\n      <td>58.000</td>\n      <td>335</td>\n      <td>4.340</td>\n      <td>4.350</td>\n      <td>2.750</td>\n    </tr>\n    <tr>\n      <th>...</th>\n      <td>...</td>\n      <td>...</td>\n      <td>...</td>\n      <td>...</td>\n      <td>...</td>\n      <td>...</td>\n      <td>...</td>\n      <td>...</td>\n      <td>...</td>\n      <td>...</td>\n    </tr>\n    <tr>\n      <th>53935</th>\n      <td>0.720</td>\n      <td>Ideal</td>\n      <td>D</td>\n      <td>SI1</td>\n      <td>60.800</td>\n      <td>57.000</td>\n      <td>2757</td>\n      <td>5.750</td>\n      <td>5.760</td>\n      <td>3.500</td>\n    </tr>\n    <tr>\n      <th>53936</th>\n      <td>0.720</td>\n      <td>Good</td>\n      <td>D</td>\n      <td>SI1</td>\n      <td>63.100</td>\n      <td>55.000</td>\n      <td>2757</td>\n      <td>5.690</td>\n      <td>5.750</td>\n      <td>3.610</td>\n    </tr>\n    <tr>\n      <th>53937</th>\n      <td>0.700</td>\n      <td>Very Good</td>\n      <td>D</td>\n      <td>SI1</td>\n      <td>62.800</td>\n      <td>60.000</td>\n      <td>2757</td>\n      <td>5.660</td>\n      <td>5.680</td>\n      <td>3.560</td>\n    </tr>\n    <tr>\n      <th>53938</th>\n      <td>0.860</td>\n      <td>Premium</td>\n      <td>H</td>\n      <td>SI2</td>\n      <td>61.000</td>\n      <td>58.000</td>\n      <td>2757</td>\n      <td>6.150</td>\n      <td>6.120</td>\n      <td>3.740</td>\n    </tr>\n    <tr>\n      <th>53939</th>\n      <td>0.750</td>\n      <td>Ideal</td>\n      <td>D</td>\n      <td>SI2</td>\n      <td>62.200</td>\n      <td>55.000</td>\n      <td>2757</td>\n      <td>5.830</td>\n      <td>5.870</td>\n      <td>3.640</td>\n    </tr>\n  </tbody>\n</table>\n<p>53940 rows × 10 columns</p>\n</div>"
     },
     "metadata": {}
    }
   ]
  },
  {
   "cell_type": "markdown",
   "source": "# Group by\nSe pueden aplicar funciones cada vez que agrupemos los datos",
   "metadata": {
    "tags": [],
    "cell_id": "00001-226dba44-f7f5-4451-97e8-b81161c5935a",
    "deepnote_cell_type": "markdown"
   }
  },
  {
   "cell_type": "code",
   "source": "df.groupby('cut').mean()",
   "metadata": {
    "tags": [],
    "cell_id": "00001-5488f57c-8c2f-4a9c-983b-b76b5e2c96dc",
    "deepnote_to_be_reexecuted": false,
    "source_hash": "50e9f8ea",
    "execution_start": 1625167351926,
    "execution_millis": 53,
    "deepnote_cell_type": "code"
   },
   "outputs": [
    {
     "output_type": "execute_result",
     "execution_count": 9,
     "data": {
      "application/vnd.deepnote.dataframe.v2+json": {
       "row_count": 5,
       "column_count": 7,
       "columns": [
        {
         "name": "carat",
         "dtype": "float64",
         "stats": {
          "unique_count": 5,
          "nan_count": 0,
          "min": "0.7028369913228676",
          "max": "1.0461366459627353",
          "histogram": [
           {
            "bin_start": 0.7028369913228676,
            "bin_end": 0.7371669567868544,
            "count": 1
           },
           {
            "bin_start": 0.7371669567868544,
            "bin_end": 0.7714969222508411,
            "count": 0
           },
           {
            "bin_start": 0.7714969222508411,
            "bin_end": 0.8058268877148279,
            "count": 0
           },
           {
            "bin_start": 0.8058268877148279,
            "bin_end": 0.8401568531788146,
            "count": 1
           },
           {
            "bin_start": 0.8401568531788146,
            "bin_end": 0.8744868186428014,
            "count": 1
           },
           {
            "bin_start": 0.8744868186428014,
            "bin_end": 0.9088167841067882,
            "count": 1
           },
           {
            "bin_start": 0.9088167841067882,
            "bin_end": 0.943146749570775,
            "count": 0
           },
           {
            "bin_start": 0.943146749570775,
            "bin_end": 0.9774767150347617,
            "count": 0
           },
           {
            "bin_start": 0.9774767150347617,
            "bin_end": 1.0118066804987484,
            "count": 0
           },
           {
            "bin_start": 1.0118066804987484,
            "bin_end": 1.0461366459627353,
            "count": 1
           }
          ]
         }
        },
        {
         "name": "depth",
         "dtype": "float64",
         "stats": {
          "unique_count": 5,
          "nan_count": 0,
          "min": "61.26467261257375",
          "max": "64.04167701863358",
          "histogram": [
           {
            "bin_start": 61.26467261257375,
            "bin_end": 61.54237305317973,
            "count": 1
           },
           {
            "bin_start": 61.54237305317973,
            "bin_end": 61.82007349378571,
            "count": 2
           },
           {
            "bin_start": 61.82007349378571,
            "bin_end": 62.0977739343917,
            "count": 0
           },
           {
            "bin_start": 62.0977739343917,
            "bin_end": 62.37547437499768,
            "count": 1
           },
           {
            "bin_start": 62.37547437499768,
            "bin_end": 62.65317481560366,
            "count": 0
           },
           {
            "bin_start": 62.65317481560366,
            "bin_end": 62.930875256209646,
            "count": 0
           },
           {
            "bin_start": 62.930875256209646,
            "bin_end": 63.20857569681563,
            "count": 0
           },
           {
            "bin_start": 63.20857569681563,
            "bin_end": 63.48627613742161,
            "count": 0
           },
           {
            "bin_start": 63.48627613742161,
            "bin_end": 63.763976578027595,
            "count": 0
           },
           {
            "bin_start": 63.763976578027595,
            "bin_end": 64.04167701863358,
            "count": 1
           }
          ]
         }
        },
        {
         "name": "table",
         "dtype": "float64",
         "stats": {
          "unique_count": 5,
          "nan_count": 0,
          "min": "55.95166813604934",
          "max": "59.05378881987577",
          "histogram": [
           {
            "bin_start": 55.95166813604934,
            "bin_end": 56.26188020443198,
            "count": 1
           },
           {
            "bin_start": 56.26188020443198,
            "bin_end": 56.57209227281463,
            "count": 0
           },
           {
            "bin_start": 56.57209227281463,
            "bin_end": 56.88230434119727,
            "count": 0
           },
           {
            "bin_start": 56.88230434119727,
            "bin_end": 57.192516409579916,
            "count": 0
           },
           {
            "bin_start": 57.192516409579916,
            "bin_end": 57.502728477962556,
            "count": 0
           },
           {
            "bin_start": 57.502728477962556,
            "bin_end": 57.812940546345196,
            "count": 0
           },
           {
            "bin_start": 57.812940546345196,
            "bin_end": 58.12315261472784,
            "count": 1
           },
           {
            "bin_start": 58.12315261472784,
            "bin_end": 58.43336468311048,
            "count": 0
           },
           {
            "bin_start": 58.43336468311048,
            "bin_end": 58.74357675149313,
            "count": 1
           },
           {
            "bin_start": 58.74357675149313,
            "bin_end": 59.05378881987577,
            "count": 2
           }
          ]
         }
        },
        {
         "name": "price",
         "dtype": "float64",
         "stats": {
          "unique_count": 5,
          "nan_count": 0,
          "min": "3457.541970210199",
          "max": "4584.2577042999055",
          "histogram": [
           {
            "bin_start": 3457.541970210199,
            "bin_end": 3570.2135436191697,
            "count": 1
           },
           {
            "bin_start": 3570.2135436191697,
            "bin_end": 3682.8851170281405,
            "count": 0
           },
           {
            "bin_start": 3682.8851170281405,
            "bin_end": 3795.556690437111,
            "count": 0
           },
           {
            "bin_start": 3795.556690437111,
            "bin_end": 3908.2282638460815,
            "count": 0
           },
           {
            "bin_start": 3908.2282638460815,
            "bin_end": 4020.8998372550523,
            "count": 2
           },
           {
            "bin_start": 4020.8998372550523,
            "bin_end": 4133.571410664023,
            "count": 0
           },
           {
            "bin_start": 4133.571410664023,
            "bin_end": 4246.242984072994,
            "count": 0
           },
           {
            "bin_start": 4246.242984072994,
            "bin_end": 4358.914557481964,
            "count": 1
           },
           {
            "bin_start": 4358.914557481964,
            "bin_end": 4471.586130890935,
            "count": 0
           },
           {
            "bin_start": 4471.586130890935,
            "bin_end": 4584.2577042999055,
            "count": 1
           }
          ]
         }
        },
        {
         "name": "x",
         "dtype": "float64",
         "stats": {
          "unique_count": 5,
          "nan_count": 0,
          "min": "5.507450698343484",
          "max": "6.246894409937905",
          "histogram": [
           {
            "bin_start": 5.507450698343484,
            "bin_end": 5.581395069502926,
            "count": 1
           },
           {
            "bin_start": 5.581395069502926,
            "bin_end": 5.6553394406623685,
            "count": 0
           },
           {
            "bin_start": 5.6553394406623685,
            "bin_end": 5.72928381182181,
            "count": 0
           },
           {
            "bin_start": 5.72928381182181,
            "bin_end": 5.803228182981252,
            "count": 1
           },
           {
            "bin_start": 5.803228182981252,
            "bin_end": 5.877172554140694,
            "count": 1
           },
           {
            "bin_start": 5.877172554140694,
            "bin_end": 5.951116925300137,
            "count": 0
           },
           {
            "bin_start": 5.951116925300137,
            "bin_end": 6.025061296459579,
            "count": 1
           },
           {
            "bin_start": 6.025061296459579,
            "bin_end": 6.0990056676190205,
            "count": 0
           },
           {
            "bin_start": 6.0990056676190205,
            "bin_end": 6.172950038778463,
            "count": 0
           },
           {
            "bin_start": 6.172950038778463,
            "bin_end": 6.246894409937905,
            "count": 1
           }
          ]
         }
        },
        {
         "name": "y",
         "dtype": "float64",
         "stats": {
          "unique_count": 5,
          "nan_count": 0,
          "min": "5.520079810681653",
          "max": "6.18265217391304",
          "histogram": [
           {
            "bin_start": 5.520079810681653,
            "bin_end": 5.5863370470047915,
            "count": 1
           },
           {
            "bin_start": 5.5863370470047915,
            "bin_end": 5.652594283327931,
            "count": 0
           },
           {
            "bin_start": 5.652594283327931,
            "bin_end": 5.71885151965107,
            "count": 0
           },
           {
            "bin_start": 5.71885151965107,
            "bin_end": 5.785108755974208,
            "count": 1
           },
           {
            "bin_start": 5.785108755974208,
            "bin_end": 5.851365992297346,
            "count": 1
           },
           {
            "bin_start": 5.851365992297346,
            "bin_end": 5.917623228620485,
            "count": 0
           },
           {
            "bin_start": 5.917623228620485,
            "bin_end": 5.983880464943624,
            "count": 1
           },
           {
            "bin_start": 5.983880464943624,
            "bin_end": 6.050137701266762,
            "count": 0
           },
           {
            "bin_start": 6.050137701266762,
            "bin_end": 6.1163949375899005,
            "count": 0
           },
           {
            "bin_start": 6.1163949375899005,
            "bin_end": 6.18265217391304,
            "count": 1
           }
          ]
         }
        },
        {
         "name": "z",
         "dtype": "float64",
         "stats": {
          "unique_count": 5,
          "nan_count": 0,
          "min": "3.4014481926593225",
          "max": "3.9827701863353964",
          "histogram": [
           {
            "bin_start": 3.4014481926593225,
            "bin_end": 3.45958039202693,
            "count": 1
           },
           {
            "bin_start": 3.45958039202693,
            "bin_end": 3.5177125913945373,
            "count": 0
           },
           {
            "bin_start": 3.5177125913945373,
            "bin_end": 3.5758447907621447,
            "count": 1
           },
           {
            "bin_start": 3.5758447907621447,
            "bin_end": 3.633976990129752,
            "count": 0
           },
           {
            "bin_start": 3.633976990129752,
            "bin_end": 3.6921091894973594,
            "count": 2
           },
           {
            "bin_start": 3.6921091894973594,
            "bin_end": 3.750241388864967,
            "count": 0
           },
           {
            "bin_start": 3.750241388864967,
            "bin_end": 3.808373588232574,
            "count": 0
           },
           {
            "bin_start": 3.808373588232574,
            "bin_end": 3.8665057876001816,
            "count": 0
           },
           {
            "bin_start": 3.8665057876001816,
            "bin_end": 3.924637986967789,
            "count": 0
           },
           {
            "bin_start": 3.924637986967789,
            "bin_end": 3.9827701863353964,
            "count": 1
           }
          ]
         }
        },
        {
         "name": "_deepnote_index_column",
         "dtype": "category"
        }
       ],
       "rows_top": [
        {
         "carat": 0.7028369913228676,
         "depth": 61.70940095587262,
         "table": 55.95166813604934,
         "price": 3457.541970210199,
         "x": 5.507450698343484,
         "y": 5.520079810681653,
         "z": 3.4014481926593225,
         "_deepnote_index_column": "Ideal"
        },
        {
         "carat": 0.8919548981219524,
         "depth": 61.26467261257375,
         "table": 58.74609527953013,
         "price": 4584.2577042999055,
         "x": 5.97388731781595,
         "y": 5.944878543977969,
         "z": 3.6471242114422924,
         "_deepnote_index_column": "Premium"
        },
        {
         "carat": 0.8063813938089939,
         "depth": 61.81827512001363,
         "table": 57.956149644098666,
         "price": 3981.7598907465654,
         "x": 5.740696076808465,
         "y": 5.770025658003609,
         "z": 3.559801357391168,
         "_deepnote_index_column": "Very Good"
        },
        {
         "carat": 0.8491846718304211,
         "depth": 62.36587851610268,
         "table": 58.69463921728494,
         "price": 3928.864451691806,
         "x": 5.838785161027321,
         "y": 5.850743986954751,
         "z": 3.6395067264573817,
         "_deepnote_index_column": "Good"
        },
        {
         "carat": 1.0461366459627353,
         "depth": 64.04167701863358,
         "table": 59.05378881987577,
         "price": 4358.757763975155,
         "x": 6.246894409937905,
         "y": 6.18265217391304,
         "z": 3.9827701863353964,
         "_deepnote_index_column": "Fair"
        }
       ],
       "rows_bottom": null
      },
      "text/plain": "           carat  depth  table     price     x     y     z\ncut                                                       \nIdeal      0.703 61.709 55.952 3,457.542 5.507 5.520 3.401\nPremium    0.892 61.265 58.746 4,584.258 5.974 5.945 3.647\nVery Good  0.806 61.818 57.956 3,981.760 5.741 5.770 3.560\nGood       0.849 62.366 58.695 3,928.864 5.839 5.851 3.640\nFair       1.046 64.042 59.054 4,358.758 6.247 6.183 3.983",
      "text/html": "<div>\n<style scoped>\n    .dataframe tbody tr th:only-of-type {\n        vertical-align: middle;\n    }\n\n    .dataframe tbody tr th {\n        vertical-align: top;\n    }\n\n    .dataframe thead th {\n        text-align: right;\n    }\n</style>\n<table border=\"1\" class=\"dataframe\">\n  <thead>\n    <tr style=\"text-align: right;\">\n      <th></th>\n      <th>carat</th>\n      <th>depth</th>\n      <th>table</th>\n      <th>price</th>\n      <th>x</th>\n      <th>y</th>\n      <th>z</th>\n    </tr>\n    <tr>\n      <th>cut</th>\n      <th></th>\n      <th></th>\n      <th></th>\n      <th></th>\n      <th></th>\n      <th></th>\n      <th></th>\n    </tr>\n  </thead>\n  <tbody>\n    <tr>\n      <th>Ideal</th>\n      <td>0.703</td>\n      <td>61.709</td>\n      <td>55.952</td>\n      <td>3,457.542</td>\n      <td>5.507</td>\n      <td>5.520</td>\n      <td>3.401</td>\n    </tr>\n    <tr>\n      <th>Premium</th>\n      <td>0.892</td>\n      <td>61.265</td>\n      <td>58.746</td>\n      <td>4,584.258</td>\n      <td>5.974</td>\n      <td>5.945</td>\n      <td>3.647</td>\n    </tr>\n    <tr>\n      <th>Very Good</th>\n      <td>0.806</td>\n      <td>61.818</td>\n      <td>57.956</td>\n      <td>3,981.760</td>\n      <td>5.741</td>\n      <td>5.770</td>\n      <td>3.560</td>\n    </tr>\n    <tr>\n      <th>Good</th>\n      <td>0.849</td>\n      <td>62.366</td>\n      <td>58.695</td>\n      <td>3,928.864</td>\n      <td>5.839</td>\n      <td>5.851</td>\n      <td>3.640</td>\n    </tr>\n    <tr>\n      <th>Fair</th>\n      <td>1.046</td>\n      <td>64.042</td>\n      <td>59.054</td>\n      <td>4,358.758</td>\n      <td>6.247</td>\n      <td>6.183</td>\n      <td>3.983</td>\n    </tr>\n  </tbody>\n</table>\n</div>"
     },
     "metadata": {}
    }
   ],
   "execution_count": 9
  },
  {
   "cell_type": "code",
   "source": "df.groupby('cut')['carat'].median()",
   "metadata": {
    "tags": [],
    "cell_id": "00002-99c63065-9ff9-433c-b3cd-c6a104422303",
    "deepnote_to_be_reexecuted": false,
    "source_hash": "85f7af9f",
    "execution_start": 1625167413926,
    "execution_millis": 6,
    "deepnote_cell_type": "code"
   },
   "outputs": [
    {
     "output_type": "execute_result",
     "execution_count": 11,
     "data": {
      "text/plain": "cut\nIdeal       0.540\nPremium     0.860\nVery Good   0.710\nGood        0.820\nFair        1.000\nName: carat, dtype: float64"
     },
     "metadata": {}
    }
   ],
   "execution_count": 11
  },
  {
   "cell_type": "code",
   "source": "df.groupby('cut')['carat'].count()",
   "metadata": {
    "tags": [],
    "cell_id": "00003-07c4ca3f-8b93-416f-8acb-5fa9b0283134",
    "deepnote_to_be_reexecuted": false,
    "source_hash": "1a33d72e",
    "execution_start": 1625167557908,
    "execution_millis": 14,
    "deepnote_cell_type": "code"
   },
   "outputs": [
    {
     "output_type": "execute_result",
     "execution_count": 14,
     "data": {
      "text/plain": "cut\nIdeal        21551\nPremium      13791\nVery Good    12082\nGood          4906\nFair          1610\nName: carat, dtype: int64"
     },
     "metadata": {}
    }
   ],
   "execution_count": 14
  },
  {
   "cell_type": "markdown",
   "source": "## Recorrer una agrupacion",
   "metadata": {
    "tags": [],
    "cell_id": "00005-d0ea56b5-437b-4d62-bcc6-fb45233b85f8",
    "deepnote_cell_type": "markdown"
   }
  },
  {
   "cell_type": "code",
   "source": "for key_group, group in df.groupby('cut'):\n    grouped_price = group['price'].mean()\n    print('Cut: {}, Price: {}, \\n'.format(key_group,grouped_price))",
   "metadata": {
    "tags": [],
    "cell_id": "00004-87a72f11-f84c-44e8-9c27-6686d39a2a0f",
    "deepnote_to_be_reexecuted": false,
    "source_hash": "17f706ae",
    "execution_start": 1625167760134,
    "execution_millis": 24,
    "deepnote_cell_type": "code"
   },
   "outputs": [
    {
     "name": "stdout",
     "text": "Cut: Ideal, Price: 3457.541970210199, \n\nCut: Premium, Price: 4584.2577042999055, \n\nCut: Very Good, Price: 3981.7598907465654, \n\nCut: Good, Price: 3928.864451691806, \n\nCut: Fair, Price: 4358.757763975155, \n\n",
     "output_type": "stream"
    }
   ],
   "execution_count": 16
  },
  {
   "cell_type": "markdown",
   "source": "## Agrupar por multiples paramentros",
   "metadata": {
    "tags": [],
    "cell_id": "00007-db590d2c-061e-4451-87cc-f2702db9fef5",
    "deepnote_cell_type": "markdown"
   }
  },
  {
   "cell_type": "code",
   "source": "df.groupby(['cut','color'])['price'].mean().to_frame()",
   "metadata": {
    "tags": [],
    "cell_id": "00008-b839b5de-9c7e-4cf3-aae1-bbadb64b25f0",
    "deepnote_to_be_reexecuted": false,
    "source_hash": "c6c0ef3a",
    "execution_start": 1625167856542,
    "execution_millis": 37,
    "deepnote_cell_type": "code"
   },
   "outputs": [
    {
     "output_type": "execute_result",
     "execution_count": 22,
     "data": {
      "application/vnd.deepnote.dataframe.v2+json": {
       "row_count": 35,
       "column_count": 1,
       "columns": [
        {
         "name": "price",
         "dtype": "float64",
         "stats": {
          "unique_count": 35,
          "nan_count": 0,
          "min": "2597.5500896746094",
          "max": "6294.591584158416",
          "histogram": [
           {
            "bin_start": 2597.5500896746094,
            "bin_end": 2967.25423912299,
            "count": 2
           },
           {
            "bin_start": 2967.25423912299,
            "bin_end": 3336.9583885713705,
            "count": 1
           },
           {
            "bin_start": 3336.9583885713705,
            "bin_end": 3706.662538019751,
            "count": 8
           },
           {
            "bin_start": 3706.662538019751,
            "bin_end": 4076.366687468132,
            "count": 5
           },
           {
            "bin_start": 4076.366687468132,
            "bin_end": 4446.070836916512,
            "count": 5
           },
           {
            "bin_start": 4446.070836916512,
            "bin_end": 4815.774986364893,
            "count": 5
           },
           {
            "bin_start": 4815.774986364893,
            "bin_end": 5185.479135813273,
            "count": 5
           },
           {
            "bin_start": 5185.479135813273,
            "bin_end": 5555.183285261654,
            "count": 2
           },
           {
            "bin_start": 5555.183285261654,
            "bin_end": 5924.887434710035,
            "count": 0
           },
           {
            "bin_start": 5924.887434710035,
            "bin_end": 6294.591584158416,
            "count": 2
           }
          ]
         }
        },
        {
         "name": "_deepnote_index_column",
         "dtype": "object"
        }
       ],
       "rows_top": [
        {
         "price": 2629.0945659844742,
         "_deepnote_index_column": "('Ideal', 'D')"
        },
        {
         "price": 2597.5500896746094,
         "_deepnote_index_column": "('Ideal', 'E')"
        },
        {
         "price": 3374.9393622582334,
         "_deepnote_index_column": "('Ideal', 'F')"
        },
        {
         "price": 3720.706388206388,
         "_deepnote_index_column": "('Ideal', 'G')"
        },
        {
         "price": 3889.334831460674,
         "_deepnote_index_column": "('Ideal', 'H')"
        },
        {
         "price": 4451.970377448638,
         "_deepnote_index_column": "('Ideal', 'I')"
        },
        {
         "price": 4918.186383928572,
         "_deepnote_index_column": "('Ideal', 'J')"
        },
        {
         "price": 3631.292576419214,
         "_deepnote_index_column": "('Premium', 'D')"
        },
        {
         "price": 3538.9144201968334,
         "_deepnote_index_column": "('Premium', 'E')"
        },
        {
         "price": 4324.890175890176,
         "_deepnote_index_column": "('Premium', 'F')"
        },
        {
         "price": 4500.742134062927,
         "_deepnote_index_column": "('Premium', 'G')"
        },
        {
         "price": 5216.706779661017,
         "_deepnote_index_column": "('Premium', 'H')"
        },
        {
         "price": 5946.180672268908,
         "_deepnote_index_column": "('Premium', 'I')"
        },
        {
         "price": 6294.591584158416,
         "_deepnote_index_column": "('Premium', 'J')"
        },
        {
         "price": 3470.4672835426304,
         "_deepnote_index_column": "('Very Good', 'D')"
        },
        {
         "price": 3214.6520833333334,
         "_deepnote_index_column": "('Very Good', 'E')"
        },
        {
         "price": 3778.8202402957486,
         "_deepnote_index_column": "('Very Good', 'F')"
        },
        {
         "price": 3872.75380600261,
         "_deepnote_index_column": "('Very Good', 'G')"
        },
        {
         "price": 4535.390350877193,
         "_deepnote_index_column": "('Very Good', 'H')"
        },
        {
         "price": 5255.879568106312,
         "_deepnote_index_column": "('Very Good', 'I')"
        },
        {
         "price": 5103.513274336283,
         "_deepnote_index_column": "('Very Good', 'J')"
        },
        {
         "price": 3405.3821752265862,
         "_deepnote_index_column": "('Good', 'D')"
        },
        {
         "price": 3423.6441586280816,
         "_deepnote_index_column": "('Good', 'E')"
        },
        {
         "price": 3495.7502750275025,
         "_deepnote_index_column": "('Good', 'F')"
        },
        {
         "price": 4123.482204362801,
         "_deepnote_index_column": "('Good', 'G')"
        },
        {
         "price": 4276.254985754986,
         "_deepnote_index_column": "('Good', 'H')"
        },
        {
         "price": 5078.532567049809,
         "_deepnote_index_column": "('Good', 'I')"
        },
        {
         "price": 4574.172638436482,
         "_deepnote_index_column": "('Good', 'J')"
        },
        {
         "price": 4291.061349693252,
         "_deepnote_index_column": "('Fair', 'D')"
        },
        {
         "price": 3682.3125,
         "_deepnote_index_column": "('Fair', 'E')"
        },
        {
         "price": 3827.003205128205,
         "_deepnote_index_column": "('Fair', 'F')"
        },
        {
         "price": 4239.254777070064,
         "_deepnote_index_column": "('Fair', 'G')"
        },
        {
         "price": 5135.683168316832,
         "_deepnote_index_column": "('Fair', 'H')"
        },
        {
         "price": 4685.4457142857145,
         "_deepnote_index_column": "('Fair', 'I')"
        },
        {
         "price": 4975.655462184874,
         "_deepnote_index_column": "('Fair', 'J')"
        }
       ],
       "rows_bottom": null
      },
      "text/plain": "                    price\ncut       color          \nIdeal     D     2,629.095\n          E     2,597.550\n          F     3,374.939\n          G     3,720.706\n          H     3,889.335\n          I     4,451.970\n          J     4,918.186\nPremium   D     3,631.293\n          E     3,538.914\n          F     4,324.890\n          G     4,500.742\n          H     5,216.707\n          I     5,946.181\n          J     6,294.592\nVery Good D     3,470.467\n          E     3,214.652\n          F     3,778.820\n          G     3,872.754\n          H     4,535.390\n          I     5,255.880\n          J     5,103.513\nGood      D     3,405.382\n          E     3,423.644\n          F     3,495.750\n          G     4,123.482\n          H     4,276.255\n          I     5,078.533\n          J     4,574.173\nFair      D     4,291.061\n          E     3,682.312\n          F     3,827.003\n          G     4,239.255\n          H     5,135.683\n          I     4,685.446\n          J     4,975.655",
      "text/html": "<div>\n<style scoped>\n    .dataframe tbody tr th:only-of-type {\n        vertical-align: middle;\n    }\n\n    .dataframe tbody tr th {\n        vertical-align: top;\n    }\n\n    .dataframe thead th {\n        text-align: right;\n    }\n</style>\n<table border=\"1\" class=\"dataframe\">\n  <thead>\n    <tr style=\"text-align: right;\">\n      <th></th>\n      <th></th>\n      <th>price</th>\n    </tr>\n    <tr>\n      <th>cut</th>\n      <th>color</th>\n      <th></th>\n    </tr>\n  </thead>\n  <tbody>\n    <tr>\n      <th rowspan=\"7\" valign=\"top\">Ideal</th>\n      <th>D</th>\n      <td>2,629.095</td>\n    </tr>\n    <tr>\n      <th>E</th>\n      <td>2,597.550</td>\n    </tr>\n    <tr>\n      <th>F</th>\n      <td>3,374.939</td>\n    </tr>\n    <tr>\n      <th>G</th>\n      <td>3,720.706</td>\n    </tr>\n    <tr>\n      <th>H</th>\n      <td>3,889.335</td>\n    </tr>\n    <tr>\n      <th>I</th>\n      <td>4,451.970</td>\n    </tr>\n    <tr>\n      <th>J</th>\n      <td>4,918.186</td>\n    </tr>\n    <tr>\n      <th rowspan=\"7\" valign=\"top\">Premium</th>\n      <th>D</th>\n      <td>3,631.293</td>\n    </tr>\n    <tr>\n      <th>E</th>\n      <td>3,538.914</td>\n    </tr>\n    <tr>\n      <th>F</th>\n      <td>4,324.890</td>\n    </tr>\n    <tr>\n      <th>G</th>\n      <td>4,500.742</td>\n    </tr>\n    <tr>\n      <th>H</th>\n      <td>5,216.707</td>\n    </tr>\n    <tr>\n      <th>I</th>\n      <td>5,946.181</td>\n    </tr>\n    <tr>\n      <th>J</th>\n      <td>6,294.592</td>\n    </tr>\n    <tr>\n      <th rowspan=\"7\" valign=\"top\">Very Good</th>\n      <th>D</th>\n      <td>3,470.467</td>\n    </tr>\n    <tr>\n      <th>E</th>\n      <td>3,214.652</td>\n    </tr>\n    <tr>\n      <th>F</th>\n      <td>3,778.820</td>\n    </tr>\n    <tr>\n      <th>G</th>\n      <td>3,872.754</td>\n    </tr>\n    <tr>\n      <th>H</th>\n      <td>4,535.390</td>\n    </tr>\n    <tr>\n      <th>I</th>\n      <td>5,255.880</td>\n    </tr>\n    <tr>\n      <th>J</th>\n      <td>5,103.513</td>\n    </tr>\n    <tr>\n      <th rowspan=\"7\" valign=\"top\">Good</th>\n      <th>D</th>\n      <td>3,405.382</td>\n    </tr>\n    <tr>\n      <th>E</th>\n      <td>3,423.644</td>\n    </tr>\n    <tr>\n      <th>F</th>\n      <td>3,495.750</td>\n    </tr>\n    <tr>\n      <th>G</th>\n      <td>4,123.482</td>\n    </tr>\n    <tr>\n      <th>H</th>\n      <td>4,276.255</td>\n    </tr>\n    <tr>\n      <th>I</th>\n      <td>5,078.533</td>\n    </tr>\n    <tr>\n      <th>J</th>\n      <td>4,574.173</td>\n    </tr>\n    <tr>\n      <th rowspan=\"7\" valign=\"top\">Fair</th>\n      <th>D</th>\n      <td>4,291.061</td>\n    </tr>\n    <tr>\n      <th>E</th>\n      <td>3,682.312</td>\n    </tr>\n    <tr>\n      <th>F</th>\n      <td>3,827.003</td>\n    </tr>\n    <tr>\n      <th>G</th>\n      <td>4,239.255</td>\n    </tr>\n    <tr>\n      <th>H</th>\n      <td>5,135.683</td>\n    </tr>\n    <tr>\n      <th>I</th>\n      <td>4,685.446</td>\n    </tr>\n    <tr>\n      <th>J</th>\n      <td>4,975.655</td>\n    </tr>\n  </tbody>\n</table>\n</div>"
     },
     "metadata": {}
    }
   ],
   "execution_count": 22
  },
  {
   "cell_type": "markdown",
   "source": "## Ejecutar multiples funciones al agrupar",
   "metadata": {
    "tags": [],
    "cell_id": "00009-eff0e7fc-c4dd-462b-b524-16e0b7f377d9",
    "deepnote_cell_type": "markdown"
   }
  },
  {
   "cell_type": "code",
   "source": "def mean_kilo(x):\n    return np.mean(x)\ndf.groupby(['cut','color'])['price'].aggregate(['min',np.mean,max,mean_kilo]).head(10)",
   "metadata": {
    "tags": [],
    "cell_id": "00010-d7677c19-437a-4142-a951-04264fabced3",
    "deepnote_to_be_reexecuted": false,
    "source_hash": "afb15ded",
    "execution_start": 1625168104264,
    "execution_millis": 68,
    "deepnote_cell_type": "code"
   },
   "outputs": [
    {
     "output_type": "execute_result",
     "execution_count": 36,
     "data": {
      "application/vnd.deepnote.dataframe.v2+json": {
       "row_count": 10,
       "column_count": 4,
       "columns": [
        {
         "name": "min",
         "dtype": "int64",
         "stats": {
          "unique_count": 8,
          "nan_count": 0,
          "min": "326",
          "max": "408",
          "histogram": [
           {
            "bin_start": 326,
            "bin_end": 334.2,
            "count": 2
           },
           {
            "bin_start": 334.2,
            "bin_end": 342.4,
            "count": 2
           },
           {
            "bin_start": 342.4,
            "bin_end": 350.6,
            "count": 1
           },
           {
            "bin_start": 350.6,
            "bin_end": 358.8,
            "count": 1
           },
           {
            "bin_start": 358.8,
            "bin_end": 367,
            "count": 1
           },
           {
            "bin_start": 367,
            "bin_end": 375.2,
            "count": 2
           },
           {
            "bin_start": 375.2,
            "bin_end": 383.4,
            "count": 0
           },
           {
            "bin_start": 383.4,
            "bin_end": 391.6,
            "count": 0
           },
           {
            "bin_start": 391.6,
            "bin_end": 399.8,
            "count": 0
           },
           {
            "bin_start": 399.8,
            "bin_end": 408,
            "count": 1
           }
          ]
         }
        },
        {
         "name": "mean",
         "dtype": "float64",
         "stats": {
          "unique_count": 10,
          "nan_count": 0,
          "min": "2597.5500896746094",
          "max": "4918.186383928572",
          "histogram": [
           {
            "bin_start": 2597.5500896746094,
            "bin_end": 2829.6137191000057,
            "count": 2
           },
           {
            "bin_start": 2829.6137191000057,
            "bin_end": 3061.6773485254016,
            "count": 0
           },
           {
            "bin_start": 3061.6773485254016,
            "bin_end": 3293.740977950798,
            "count": 0
           },
           {
            "bin_start": 3293.740977950798,
            "bin_end": 3525.8046073761943,
            "count": 1
           },
           {
            "bin_start": 3525.8046073761943,
            "bin_end": 3757.8682368015907,
            "count": 3
           },
           {
            "bin_start": 3757.8682368015907,
            "bin_end": 3989.9318662269866,
            "count": 1
           },
           {
            "bin_start": 3989.9318662269866,
            "bin_end": 4221.995495652383,
            "count": 0
           },
           {
            "bin_start": 4221.995495652383,
            "bin_end": 4454.059125077779,
            "count": 2
           },
           {
            "bin_start": 4454.059125077779,
            "bin_end": 4686.122754503175,
            "count": 0
           },
           {
            "bin_start": 4686.122754503175,
            "bin_end": 4918.186383928572,
            "count": 1
           }
          ]
         }
        },
        {
         "name": "max",
         "dtype": "int64",
         "stats": {
          "unique_count": 10,
          "nan_count": 0,
          "min": "18477",
          "max": "18806",
          "histogram": [
           {
            "bin_start": 18477,
            "bin_end": 18509.9,
            "count": 2
           },
           {
            "bin_start": 18509.9,
            "bin_end": 18542.8,
            "count": 0
           },
           {
            "bin_start": 18542.8,
            "bin_end": 18575.7,
            "count": 1
           },
           {
            "bin_start": 18575.7,
            "bin_end": 18608.6,
            "count": 0
           },
           {
            "bin_start": 18608.6,
            "bin_end": 18641.5,
            "count": 0
           },
           {
            "bin_start": 18641.5,
            "bin_end": 18674.4,
            "count": 0
           },
           {
            "bin_start": 18674.4,
            "bin_end": 18707.3,
            "count": 1
           },
           {
            "bin_start": 18707.3,
            "bin_end": 18740.2,
            "count": 1
           },
           {
            "bin_start": 18740.2,
            "bin_end": 18773.1,
            "count": 1
           },
           {
            "bin_start": 18773.1,
            "bin_end": 18806,
            "count": 4
           }
          ]
         }
        },
        {
         "name": "mean_kilo",
         "dtype": "float64",
         "stats": {
          "unique_count": 10,
          "nan_count": 0,
          "min": "2597.5500896746094",
          "max": "4918.186383928572",
          "histogram": [
           {
            "bin_start": 2597.5500896746094,
            "bin_end": 2829.6137191000057,
            "count": 2
           },
           {
            "bin_start": 2829.6137191000057,
            "bin_end": 3061.6773485254016,
            "count": 0
           },
           {
            "bin_start": 3061.6773485254016,
            "bin_end": 3293.740977950798,
            "count": 0
           },
           {
            "bin_start": 3293.740977950798,
            "bin_end": 3525.8046073761943,
            "count": 1
           },
           {
            "bin_start": 3525.8046073761943,
            "bin_end": 3757.8682368015907,
            "count": 3
           },
           {
            "bin_start": 3757.8682368015907,
            "bin_end": 3989.9318662269866,
            "count": 1
           },
           {
            "bin_start": 3989.9318662269866,
            "bin_end": 4221.995495652383,
            "count": 0
           },
           {
            "bin_start": 4221.995495652383,
            "bin_end": 4454.059125077779,
            "count": 2
           },
           {
            "bin_start": 4454.059125077779,
            "bin_end": 4686.122754503175,
            "count": 0
           },
           {
            "bin_start": 4686.122754503175,
            "bin_end": 4918.186383928572,
            "count": 1
           }
          ]
         }
        },
        {
         "name": "_deepnote_index_column",
         "dtype": "object"
        }
       ],
       "rows_top": [
        {
         "min": 367,
         "mean": 2629.0945659844742,
         "max": 18693,
         "mean_kilo": 2629.0945659844742,
         "_deepnote_index_column": "('Ideal', 'D')"
        },
        {
         "min": 326,
         "mean": 2597.5500896746094,
         "max": 18729,
         "mean_kilo": 2597.5500896746094,
         "_deepnote_index_column": "('Ideal', 'E')"
        },
        {
         "min": 408,
         "mean": 3374.9393622582334,
         "max": 18780,
         "mean_kilo": 3374.9393622582334,
         "_deepnote_index_column": "('Ideal', 'F')"
        },
        {
         "min": 361,
         "mean": 3720.706388206388,
         "max": 18806,
         "mean_kilo": 3720.706388206388,
         "_deepnote_index_column": "('Ideal', 'G')"
        },
        {
         "min": 357,
         "mean": 3889.334831460674,
         "max": 18760,
         "mean_kilo": 3889.334831460674,
         "_deepnote_index_column": "('Ideal', 'H')"
        },
        {
         "min": 348,
         "mean": 4451.970377448638,
         "max": 18779,
         "mean_kilo": 4451.970377448638,
         "_deepnote_index_column": "('Ideal', 'I')"
        },
        {
         "min": 340,
         "mean": 4918.186383928572,
         "max": 18508,
         "mean_kilo": 4918.186383928572,
         "_deepnote_index_column": "('Ideal', 'J')"
        },
        {
         "min": 367,
         "mean": 3631.292576419214,
         "max": 18575,
         "mean_kilo": 3631.292576419214,
         "_deepnote_index_column": "('Premium', 'D')"
        },
        {
         "min": 326,
         "mean": 3538.9144201968334,
         "max": 18477,
         "mean_kilo": 3538.9144201968334,
         "_deepnote_index_column": "('Premium', 'E')"
        },
        {
         "min": 342,
         "mean": 4324.890175890176,
         "max": 18791,
         "mean_kilo": 4324.890175890176,
         "_deepnote_index_column": "('Premium', 'F')"
        }
       ],
       "rows_bottom": null
      },
      "text/plain": "               min      mean    max  mean_kilo\ncut     color                                 \nIdeal   D      367 2,629.095  18693  2,629.095\n        E      326 2,597.550  18729  2,597.550\n        F      408 3,374.939  18780  3,374.939\n        G      361 3,720.706  18806  3,720.706\n        H      357 3,889.335  18760  3,889.335\n        I      348 4,451.970  18779  4,451.970\n        J      340 4,918.186  18508  4,918.186\nPremium D      367 3,631.293  18575  3,631.293\n        E      326 3,538.914  18477  3,538.914\n        F      342 4,324.890  18791  4,324.890",
      "text/html": "<div>\n<style scoped>\n    .dataframe tbody tr th:only-of-type {\n        vertical-align: middle;\n    }\n\n    .dataframe tbody tr th {\n        vertical-align: top;\n    }\n\n    .dataframe thead th {\n        text-align: right;\n    }\n</style>\n<table border=\"1\" class=\"dataframe\">\n  <thead>\n    <tr style=\"text-align: right;\">\n      <th></th>\n      <th></th>\n      <th>min</th>\n      <th>mean</th>\n      <th>max</th>\n      <th>mean_kilo</th>\n    </tr>\n    <tr>\n      <th>cut</th>\n      <th>color</th>\n      <th></th>\n      <th></th>\n      <th></th>\n      <th></th>\n    </tr>\n  </thead>\n  <tbody>\n    <tr>\n      <th rowspan=\"7\" valign=\"top\">Ideal</th>\n      <th>D</th>\n      <td>367</td>\n      <td>2,629.095</td>\n      <td>18693</td>\n      <td>2,629.095</td>\n    </tr>\n    <tr>\n      <th>E</th>\n      <td>326</td>\n      <td>2,597.550</td>\n      <td>18729</td>\n      <td>2,597.550</td>\n    </tr>\n    <tr>\n      <th>F</th>\n      <td>408</td>\n      <td>3,374.939</td>\n      <td>18780</td>\n      <td>3,374.939</td>\n    </tr>\n    <tr>\n      <th>G</th>\n      <td>361</td>\n      <td>3,720.706</td>\n      <td>18806</td>\n      <td>3,720.706</td>\n    </tr>\n    <tr>\n      <th>H</th>\n      <td>357</td>\n      <td>3,889.335</td>\n      <td>18760</td>\n      <td>3,889.335</td>\n    </tr>\n    <tr>\n      <th>I</th>\n      <td>348</td>\n      <td>4,451.970</td>\n      <td>18779</td>\n      <td>4,451.970</td>\n    </tr>\n    <tr>\n      <th>J</th>\n      <td>340</td>\n      <td>4,918.186</td>\n      <td>18508</td>\n      <td>4,918.186</td>\n    </tr>\n    <tr>\n      <th rowspan=\"3\" valign=\"top\">Premium</th>\n      <th>D</th>\n      <td>367</td>\n      <td>3,631.293</td>\n      <td>18575</td>\n      <td>3,631.293</td>\n    </tr>\n    <tr>\n      <th>E</th>\n      <td>326</td>\n      <td>3,538.914</td>\n      <td>18477</td>\n      <td>3,538.914</td>\n    </tr>\n    <tr>\n      <th>F</th>\n      <td>342</td>\n      <td>4,324.890</td>\n      <td>18791</td>\n      <td>4,324.890</td>\n    </tr>\n  </tbody>\n</table>\n</div>"
     },
     "metadata": {}
    }
   ],
   "execution_count": 36
  },
  {
   "cell_type": "markdown",
   "source": "## Crear un diccionario de funciones a ejecutar",
   "metadata": {
    "tags": [],
    "cell_id": "00012-30361d61-59d2-4762-b0a4-866c71826a49",
    "deepnote_cell_type": "markdown"
   }
  },
  {
   "cell_type": "code",
   "source": "dict_agg = {'carat' : [min,max], 'price' : [np.mean,mean_kilo]}\n\ndf.groupby(['cut','color']).aggregate(dict_agg)",
   "metadata": {
    "tags": [],
    "cell_id": "00011-a308d3f1-56c8-4ddc-85f2-a9d9afb49dfc",
    "deepnote_to_be_reexecuted": false,
    "source_hash": "fea2f794",
    "execution_start": 1625168275580,
    "execution_millis": 118,
    "deepnote_cell_type": "code"
   },
   "outputs": [
    {
     "output_type": "execute_result",
     "execution_count": 40,
     "data": {
      "application/vnd.deepnote.dataframe.v2+json": {
       "row_count": 35,
       "column_count": 4,
       "columns": [
        {
         "name": [
          "carat",
          "min"
         ],
         "dtype": "float64",
         "stats": {
          "unique_count": 9,
          "nan_count": 0,
          "min": "0.2",
          "max": "0.41",
          "histogram": [
           {
            "bin_start": 0.2,
            "bin_end": 0.221,
            "count": 7
           },
           {
            "bin_start": 0.221,
            "bin_end": 0.242,
            "count": 19
           },
           {
            "bin_start": 0.242,
            "bin_end": 0.263,
            "count": 3
           },
           {
            "bin_start": 0.263,
            "bin_end": 0.28400000000000003,
            "count": 1
           },
           {
            "bin_start": 0.28400000000000003,
            "bin_end": 0.305,
            "count": 3
           },
           {
            "bin_start": 0.305,
            "bin_end": 0.326,
            "count": 0
           },
           {
            "bin_start": 0.326,
            "bin_end": 0.347,
            "count": 1
           },
           {
            "bin_start": 0.347,
            "bin_end": 0.368,
            "count": 0
           },
           {
            "bin_start": 0.368,
            "bin_end": 0.389,
            "count": 0
           },
           {
            "bin_start": 0.389,
            "bin_end": 0.41,
            "count": 1
           }
          ]
         }
        },
        {
         "name": [
          "carat",
          "max"
         ],
         "dtype": "float64",
         "stats": {
          "unique_count": 26,
          "nan_count": 0,
          "min": "2.04",
          "max": "5.01",
          "histogram": [
           {
            "bin_start": 2.04,
            "bin_end": 2.337,
            "count": 3
           },
           {
            "bin_start": 2.337,
            "bin_end": 2.634,
            "count": 9
           },
           {
            "bin_start": 2.634,
            "bin_end": 2.931,
            "count": 4
           },
           {
            "bin_start": 2.931,
            "bin_end": 3.2279999999999998,
            "count": 11
           },
           {
            "bin_start": 3.2279999999999998,
            "bin_end": 3.525,
            "count": 3
           },
           {
            "bin_start": 3.525,
            "bin_end": 3.822,
            "count": 0
           },
           {
            "bin_start": 3.822,
            "bin_end": 4.119,
            "count": 3
           },
           {
            "bin_start": 4.119,
            "bin_end": 4.416,
            "count": 1
           },
           {
            "bin_start": 4.416,
            "bin_end": 4.713,
            "count": 0
           },
           {
            "bin_start": 4.713,
            "bin_end": 5.01,
            "count": 1
           }
          ]
         }
        },
        {
         "name": [
          "price",
          "mean"
         ],
         "dtype": "float64",
         "stats": {
          "unique_count": 35,
          "nan_count": 0,
          "min": "2597.5500896746094",
          "max": "6294.591584158416",
          "histogram": [
           {
            "bin_start": 2597.5500896746094,
            "bin_end": 2967.25423912299,
            "count": 2
           },
           {
            "bin_start": 2967.25423912299,
            "bin_end": 3336.9583885713705,
            "count": 1
           },
           {
            "bin_start": 3336.9583885713705,
            "bin_end": 3706.662538019751,
            "count": 8
           },
           {
            "bin_start": 3706.662538019751,
            "bin_end": 4076.366687468132,
            "count": 5
           },
           {
            "bin_start": 4076.366687468132,
            "bin_end": 4446.070836916512,
            "count": 5
           },
           {
            "bin_start": 4446.070836916512,
            "bin_end": 4815.774986364893,
            "count": 5
           },
           {
            "bin_start": 4815.774986364893,
            "bin_end": 5185.479135813273,
            "count": 5
           },
           {
            "bin_start": 5185.479135813273,
            "bin_end": 5555.183285261654,
            "count": 2
           },
           {
            "bin_start": 5555.183285261654,
            "bin_end": 5924.887434710035,
            "count": 0
           },
           {
            "bin_start": 5924.887434710035,
            "bin_end": 6294.591584158416,
            "count": 2
           }
          ]
         }
        },
        {
         "name": [
          "price",
          "mean_kilo"
         ],
         "dtype": "float64",
         "stats": {
          "unique_count": 35,
          "nan_count": 0,
          "min": "2597.5500896746094",
          "max": "6294.591584158416",
          "histogram": [
           {
            "bin_start": 2597.5500896746094,
            "bin_end": 2967.25423912299,
            "count": 2
           },
           {
            "bin_start": 2967.25423912299,
            "bin_end": 3336.9583885713705,
            "count": 1
           },
           {
            "bin_start": 3336.9583885713705,
            "bin_end": 3706.662538019751,
            "count": 8
           },
           {
            "bin_start": 3706.662538019751,
            "bin_end": 4076.366687468132,
            "count": 5
           },
           {
            "bin_start": 4076.366687468132,
            "bin_end": 4446.070836916512,
            "count": 5
           },
           {
            "bin_start": 4446.070836916512,
            "bin_end": 4815.774986364893,
            "count": 5
           },
           {
            "bin_start": 4815.774986364893,
            "bin_end": 5185.479135813273,
            "count": 5
           },
           {
            "bin_start": 5185.479135813273,
            "bin_end": 5555.183285261654,
            "count": 2
           },
           {
            "bin_start": 5555.183285261654,
            "bin_end": 5924.887434710035,
            "count": 0
           },
           {
            "bin_start": 5924.887434710035,
            "bin_end": 6294.591584158416,
            "count": 2
           }
          ]
         }
        },
        {
         "name": "_deepnote_index_column",
         "dtype": "object"
        }
       ],
       "rows_top": [
        {
         "('carat', 'min')": 0.2,
         "('carat', 'max')": 2.75,
         "('price', 'mean')": 2629.0945659844742,
         "('price', 'mean_kilo')": 2629.0945659844742,
         "_deepnote_index_column": "('Ideal', 'D')"
        },
        {
         "('carat', 'min')": 0.2,
         "('carat', 'max')": 2.28,
         "('price', 'mean')": 2597.5500896746094,
         "('price', 'mean_kilo')": 2597.5500896746094,
         "_deepnote_index_column": "('Ideal', 'E')"
        },
        {
         "('carat', 'min')": 0.23,
         "('carat', 'max')": 2.45,
         "('price', 'mean')": 3374.9393622582334,
         "('price', 'mean_kilo')": 3374.9393622582334,
         "_deepnote_index_column": "('Ideal', 'F')"
        },
        {
         "('carat', 'min')": 0.23,
         "('carat', 'max')": 2.54,
         "('price', 'mean')": 3720.706388206388,
         "('price', 'mean_kilo')": 3720.706388206388,
         "_deepnote_index_column": "('Ideal', 'G')"
        },
        {
         "('carat', 'min')": 0.23,
         "('carat', 'max')": 3.5,
         "('price', 'mean')": 3889.334831460674,
         "('price', 'mean_kilo')": 3889.334831460674,
         "_deepnote_index_column": "('Ideal', 'H')"
        },
        {
         "('carat', 'min')": 0.23,
         "('carat', 'max')": 3.22,
         "('price', 'mean')": 4451.970377448638,
         "('price', 'mean_kilo')": 4451.970377448638,
         "_deepnote_index_column": "('Ideal', 'I')"
        },
        {
         "('carat', 'min')": 0.23,
         "('carat', 'max')": 3.01,
         "('price', 'mean')": 4918.186383928572,
         "('price', 'mean_kilo')": 4918.186383928572,
         "_deepnote_index_column": "('Ideal', 'J')"
        },
        {
         "('carat', 'min')": 0.2,
         "('carat', 'max')": 2.57,
         "('price', 'mean')": 3631.292576419214,
         "('price', 'mean_kilo')": 3631.292576419214,
         "_deepnote_index_column": "('Premium', 'D')"
        },
        {
         "('carat', 'min')": 0.2,
         "('carat', 'max')": 3.05,
         "('price', 'mean')": 3538.9144201968334,
         "('price', 'mean_kilo')": 3538.9144201968334,
         "_deepnote_index_column": "('Premium', 'E')"
        },
        {
         "('carat', 'min')": 0.2,
         "('carat', 'max')": 3.01,
         "('price', 'mean')": 4324.890175890176,
         "('price', 'mean_kilo')": 4324.890175890176,
         "_deepnote_index_column": "('Premium', 'F')"
        },
        {
         "('carat', 'min')": 0.23,
         "('carat', 'max')": 3.01,
         "('price', 'mean')": 4500.742134062927,
         "('price', 'mean_kilo')": 4500.742134062927,
         "_deepnote_index_column": "('Premium', 'G')"
        },
        {
         "('carat', 'min')": 0.23,
         "('carat', 'max')": 3.24,
         "('price', 'mean')": 5216.706779661017,
         "('price', 'mean_kilo')": 5216.706779661017,
         "_deepnote_index_column": "('Premium', 'H')"
        },
        {
         "('carat', 'min')": 0.23,
         "('carat', 'max')": 4.01,
         "('price', 'mean')": 5946.180672268908,
         "('price', 'mean_kilo')": 5946.180672268908,
         "_deepnote_index_column": "('Premium', 'I')"
        },
        {
         "('carat', 'min')": 0.3,
         "('carat', 'max')": 4.01,
         "('price', 'mean')": 6294.591584158416,
         "('price', 'mean_kilo')": 6294.591584158416,
         "_deepnote_index_column": "('Premium', 'J')"
        },
        {
         "('carat', 'min')": 0.23,
         "('carat', 'max')": 2.58,
         "('price', 'mean')": 3470.4672835426304,
         "('price', 'mean_kilo')": 3470.4672835426304,
         "_deepnote_index_column": "('Very Good', 'D')"
        },
        {
         "('carat', 'min')": 0.2,
         "('carat', 'max')": 2.51,
         "('price', 'mean')": 3214.6520833333334,
         "('price', 'mean_kilo')": 3214.6520833333334,
         "_deepnote_index_column": "('Very Good', 'E')"
        },
        {
         "('carat', 'min')": 0.23,
         "('carat', 'max')": 2.48,
         "('price', 'mean')": 3778.8202402957486,
         "('price', 'mean_kilo')": 3778.8202402957486,
         "_deepnote_index_column": "('Very Good', 'F')"
        },
        {
         "('carat', 'min')": 0.23,
         "('carat', 'max')": 2.52,
         "('price', 'mean')": 3872.75380600261,
         "('price', 'mean_kilo')": 3872.75380600261,
         "_deepnote_index_column": "('Very Good', 'G')"
        },
        {
         "('carat', 'min')": 0.23,
         "('carat', 'max')": 3,
         "('price', 'mean')": 4535.390350877193,
         "('price', 'mean_kilo')": 4535.390350877193,
         "_deepnote_index_column": "('Very Good', 'H')"
        },
        {
         "('carat', 'min')": 0.24,
         "('carat', 'max')": 4,
         "('price', 'mean')": 5255.879568106312,
         "('price', 'mean_kilo')": 5255.879568106312,
         "_deepnote_index_column": "('Very Good', 'I')"
        },
        {
         "('carat', 'min')": 0.24,
         "('carat', 'max')": 2.74,
         "('price', 'mean')": 5103.513274336283,
         "('price', 'mean_kilo')": 5103.513274336283,
         "_deepnote_index_column": "('Very Good', 'J')"
        },
        {
         "('carat', 'min')": 0.23,
         "('carat', 'max')": 2.04,
         "('price', 'mean')": 3405.3821752265862,
         "('price', 'mean_kilo')": 3405.3821752265862,
         "_deepnote_index_column": "('Good', 'D')"
        },
        {
         "('carat', 'min')": 0.23,
         "('carat', 'max')": 3,
         "('price', 'mean')": 3423.6441586280816,
         "('price', 'mean_kilo')": 3423.6441586280816,
         "_deepnote_index_column": "('Good', 'E')"
        },
        {
         "('carat', 'min')": 0.23,
         "('carat', 'max')": 2.67,
         "('price', 'mean')": 3495.7502750275025,
         "('price', 'mean_kilo')": 3495.7502750275025,
         "_deepnote_index_column": "('Good', 'F')"
        },
        {
         "('carat', 'min')": 0.23,
         "('carat', 'max')": 2.8,
         "('price', 'mean')": 4123.482204362801,
         "('price', 'mean_kilo')": 4123.482204362801,
         "_deepnote_index_column": "('Good', 'G')"
        },
        {
         "('carat', 'min')": 0.25,
         "('carat', 'max')": 3.01,
         "('price', 'mean')": 4276.254985754986,
         "('price', 'mean_kilo')": 4276.254985754986,
         "_deepnote_index_column": "('Good', 'H')"
        },
        {
         "('carat', 'min')": 0.3,
         "('carat', 'max')": 3.01,
         "('price', 'mean')": 5078.532567049809,
         "('price', 'mean_kilo')": 5078.532567049809,
         "_deepnote_index_column": "('Good', 'I')"
        },
        {
         "('carat', 'min')": 0.28,
         "('carat', 'max')": 3,
         "('price', 'mean')": 4574.172638436482,
         "('price', 'mean_kilo')": 4574.172638436482,
         "_deepnote_index_column": "('Good', 'J')"
        },
        {
         "('carat', 'min')": 0.25,
         "('carat', 'max')": 3.4,
         "('price', 'mean')": 4291.061349693252,
         "('price', 'mean_kilo')": 4291.061349693252,
         "_deepnote_index_column": "('Fair', 'D')"
        },
        {
         "('carat', 'min')": 0.22,
         "('carat', 'max')": 2.04,
         "('price', 'mean')": 3682.3125,
         "('price', 'mean_kilo')": 3682.3125,
         "_deepnote_index_column": "('Fair', 'E')"
        },
        {
         "('carat', 'min')": 0.25,
         "('carat', 'max')": 2.58,
         "('price', 'mean')": 3827.003205128205,
         "('price', 'mean_kilo')": 3827.003205128205,
         "_deepnote_index_column": "('Fair', 'F')"
        },
        {
         "('carat', 'min')": 0.23,
         "('carat', 'max')": 2.6,
         "('price', 'mean')": 4239.254777070064,
         "('price', 'mean_kilo')": 4239.254777070064,
         "_deepnote_index_column": "('Fair', 'G')"
        },
        {
         "('carat', 'min')": 0.33,
         "('carat', 'max')": 4.13,
         "('price', 'mean')": 5135.683168316832,
         "('price', 'mean_kilo')": 5135.683168316832,
         "_deepnote_index_column": "('Fair', 'H')"
        },
        {
         "('carat', 'min')": 0.41,
         "('carat', 'max')": 3.02,
         "('price', 'mean')": 4685.4457142857145,
         "('price', 'mean_kilo')": 4685.4457142857145,
         "_deepnote_index_column": "('Fair', 'I')"
        },
        {
         "('carat', 'min')": 0.3,
         "('carat', 'max')": 5.01,
         "('price', 'mean')": 4975.655462184874,
         "('price', 'mean_kilo')": 4975.655462184874,
         "_deepnote_index_column": "('Fair', 'J')"
        }
       ],
       "rows_bottom": null
      },
      "text/plain": "                carat           price          \n                  min   max      mean mean_kilo\ncut       color                                \nIdeal     D     0.200 2.750 2,629.095 2,629.095\n          E     0.200 2.280 2,597.550 2,597.550\n          F     0.230 2.450 3,374.939 3,374.939\n          G     0.230 2.540 3,720.706 3,720.706\n          H     0.230 3.500 3,889.335 3,889.335\n          I     0.230 3.220 4,451.970 4,451.970\n          J     0.230 3.010 4,918.186 4,918.186\nPremium   D     0.200 2.570 3,631.293 3,631.293\n          E     0.200 3.050 3,538.914 3,538.914\n          F     0.200 3.010 4,324.890 4,324.890\n          G     0.230 3.010 4,500.742 4,500.742\n          H     0.230 3.240 5,216.707 5,216.707\n          I     0.230 4.010 5,946.181 5,946.181\n          J     0.300 4.010 6,294.592 6,294.592\nVery Good D     0.230 2.580 3,470.467 3,470.467\n          E     0.200 2.510 3,214.652 3,214.652\n          F     0.230 2.480 3,778.820 3,778.820\n          G     0.230 2.520 3,872.754 3,872.754\n          H     0.230 3.000 4,535.390 4,535.390\n          I     0.240 4.000 5,255.880 5,255.880\n          J     0.240 2.740 5,103.513 5,103.513\nGood      D     0.230 2.040 3,405.382 3,405.382\n          E     0.230 3.000 3,423.644 3,423.644\n          F     0.230 2.670 3,495.750 3,495.750\n          G     0.230 2.800 4,123.482 4,123.482\n          H     0.250 3.010 4,276.255 4,276.255\n          I     0.300 3.010 5,078.533 5,078.533\n          J     0.280 3.000 4,574.173 4,574.173\nFair      D     0.250 3.400 4,291.061 4,291.061\n          E     0.220 2.040 3,682.312 3,682.312\n          F     0.250 2.580 3,827.003 3,827.003\n          G     0.230 2.600 4,239.255 4,239.255\n          H     0.330 4.130 5,135.683 5,135.683\n          I     0.410 3.020 4,685.446 4,685.446\n          J     0.300 5.010 4,975.655 4,975.655",
      "text/html": "<div>\n<style scoped>\n    .dataframe tbody tr th:only-of-type {\n        vertical-align: middle;\n    }\n\n    .dataframe tbody tr th {\n        vertical-align: top;\n    }\n\n    .dataframe thead tr th {\n        text-align: left;\n    }\n\n    .dataframe thead tr:last-of-type th {\n        text-align: right;\n    }\n</style>\n<table border=\"1\" class=\"dataframe\">\n  <thead>\n    <tr>\n      <th></th>\n      <th></th>\n      <th colspan=\"2\" halign=\"left\">carat</th>\n      <th colspan=\"2\" halign=\"left\">price</th>\n    </tr>\n    <tr>\n      <th></th>\n      <th></th>\n      <th>min</th>\n      <th>max</th>\n      <th>mean</th>\n      <th>mean_kilo</th>\n    </tr>\n    <tr>\n      <th>cut</th>\n      <th>color</th>\n      <th></th>\n      <th></th>\n      <th></th>\n      <th></th>\n    </tr>\n  </thead>\n  <tbody>\n    <tr>\n      <th rowspan=\"7\" valign=\"top\">Ideal</th>\n      <th>D</th>\n      <td>0.200</td>\n      <td>2.750</td>\n      <td>2,629.095</td>\n      <td>2,629.095</td>\n    </tr>\n    <tr>\n      <th>E</th>\n      <td>0.200</td>\n      <td>2.280</td>\n      <td>2,597.550</td>\n      <td>2,597.550</td>\n    </tr>\n    <tr>\n      <th>F</th>\n      <td>0.230</td>\n      <td>2.450</td>\n      <td>3,374.939</td>\n      <td>3,374.939</td>\n    </tr>\n    <tr>\n      <th>G</th>\n      <td>0.230</td>\n      <td>2.540</td>\n      <td>3,720.706</td>\n      <td>3,720.706</td>\n    </tr>\n    <tr>\n      <th>H</th>\n      <td>0.230</td>\n      <td>3.500</td>\n      <td>3,889.335</td>\n      <td>3,889.335</td>\n    </tr>\n    <tr>\n      <th>I</th>\n      <td>0.230</td>\n      <td>3.220</td>\n      <td>4,451.970</td>\n      <td>4,451.970</td>\n    </tr>\n    <tr>\n      <th>J</th>\n      <td>0.230</td>\n      <td>3.010</td>\n      <td>4,918.186</td>\n      <td>4,918.186</td>\n    </tr>\n    <tr>\n      <th rowspan=\"7\" valign=\"top\">Premium</th>\n      <th>D</th>\n      <td>0.200</td>\n      <td>2.570</td>\n      <td>3,631.293</td>\n      <td>3,631.293</td>\n    </tr>\n    <tr>\n      <th>E</th>\n      <td>0.200</td>\n      <td>3.050</td>\n      <td>3,538.914</td>\n      <td>3,538.914</td>\n    </tr>\n    <tr>\n      <th>F</th>\n      <td>0.200</td>\n      <td>3.010</td>\n      <td>4,324.890</td>\n      <td>4,324.890</td>\n    </tr>\n    <tr>\n      <th>G</th>\n      <td>0.230</td>\n      <td>3.010</td>\n      <td>4,500.742</td>\n      <td>4,500.742</td>\n    </tr>\n    <tr>\n      <th>H</th>\n      <td>0.230</td>\n      <td>3.240</td>\n      <td>5,216.707</td>\n      <td>5,216.707</td>\n    </tr>\n    <tr>\n      <th>I</th>\n      <td>0.230</td>\n      <td>4.010</td>\n      <td>5,946.181</td>\n      <td>5,946.181</td>\n    </tr>\n    <tr>\n      <th>J</th>\n      <td>0.300</td>\n      <td>4.010</td>\n      <td>6,294.592</td>\n      <td>6,294.592</td>\n    </tr>\n    <tr>\n      <th rowspan=\"7\" valign=\"top\">Very Good</th>\n      <th>D</th>\n      <td>0.230</td>\n      <td>2.580</td>\n      <td>3,470.467</td>\n      <td>3,470.467</td>\n    </tr>\n    <tr>\n      <th>E</th>\n      <td>0.200</td>\n      <td>2.510</td>\n      <td>3,214.652</td>\n      <td>3,214.652</td>\n    </tr>\n    <tr>\n      <th>F</th>\n      <td>0.230</td>\n      <td>2.480</td>\n      <td>3,778.820</td>\n      <td>3,778.820</td>\n    </tr>\n    <tr>\n      <th>G</th>\n      <td>0.230</td>\n      <td>2.520</td>\n      <td>3,872.754</td>\n      <td>3,872.754</td>\n    </tr>\n    <tr>\n      <th>H</th>\n      <td>0.230</td>\n      <td>3.000</td>\n      <td>4,535.390</td>\n      <td>4,535.390</td>\n    </tr>\n    <tr>\n      <th>I</th>\n      <td>0.240</td>\n      <td>4.000</td>\n      <td>5,255.880</td>\n      <td>5,255.880</td>\n    </tr>\n    <tr>\n      <th>J</th>\n      <td>0.240</td>\n      <td>2.740</td>\n      <td>5,103.513</td>\n      <td>5,103.513</td>\n    </tr>\n    <tr>\n      <th rowspan=\"7\" valign=\"top\">Good</th>\n      <th>D</th>\n      <td>0.230</td>\n      <td>2.040</td>\n      <td>3,405.382</td>\n      <td>3,405.382</td>\n    </tr>\n    <tr>\n      <th>E</th>\n      <td>0.230</td>\n      <td>3.000</td>\n      <td>3,423.644</td>\n      <td>3,423.644</td>\n    </tr>\n    <tr>\n      <th>F</th>\n      <td>0.230</td>\n      <td>2.670</td>\n      <td>3,495.750</td>\n      <td>3,495.750</td>\n    </tr>\n    <tr>\n      <th>G</th>\n      <td>0.230</td>\n      <td>2.800</td>\n      <td>4,123.482</td>\n      <td>4,123.482</td>\n    </tr>\n    <tr>\n      <th>H</th>\n      <td>0.250</td>\n      <td>3.010</td>\n      <td>4,276.255</td>\n      <td>4,276.255</td>\n    </tr>\n    <tr>\n      <th>I</th>\n      <td>0.300</td>\n      <td>3.010</td>\n      <td>5,078.533</td>\n      <td>5,078.533</td>\n    </tr>\n    <tr>\n      <th>J</th>\n      <td>0.280</td>\n      <td>3.000</td>\n      <td>4,574.173</td>\n      <td>4,574.173</td>\n    </tr>\n    <tr>\n      <th rowspan=\"7\" valign=\"top\">Fair</th>\n      <th>D</th>\n      <td>0.250</td>\n      <td>3.400</td>\n      <td>4,291.061</td>\n      <td>4,291.061</td>\n    </tr>\n    <tr>\n      <th>E</th>\n      <td>0.220</td>\n      <td>2.040</td>\n      <td>3,682.312</td>\n      <td>3,682.312</td>\n    </tr>\n    <tr>\n      <th>F</th>\n      <td>0.250</td>\n      <td>2.580</td>\n      <td>3,827.003</td>\n      <td>3,827.003</td>\n    </tr>\n    <tr>\n      <th>G</th>\n      <td>0.230</td>\n      <td>2.600</td>\n      <td>4,239.255</td>\n      <td>4,239.255</td>\n    </tr>\n    <tr>\n      <th>H</th>\n      <td>0.330</td>\n      <td>4.130</td>\n      <td>5,135.683</td>\n      <td>5,135.683</td>\n    </tr>\n    <tr>\n      <th>I</th>\n      <td>0.410</td>\n      <td>3.020</td>\n      <td>4,685.446</td>\n      <td>4,685.446</td>\n    </tr>\n    <tr>\n      <th>J</th>\n      <td>0.300</td>\n      <td>5.010</td>\n      <td>4,975.655</td>\n      <td>4,975.655</td>\n    </tr>\n  </tbody>\n</table>\n</div>"
     },
     "metadata": {}
    }
   ],
   "execution_count": 40
  },
  {
   "cell_type": "markdown",
   "source": "## Funciones de filtros",
   "metadata": {
    "tags": [],
    "cell_id": "00013-60ff4317-7c3b-4459-9873-599f6adef96b",
    "deepnote_cell_type": "markdown"
   }
  },
  {
   "cell_type": "code",
   "source": "def f_filter(x):\n    return mean_kilo(x['price']) > 4\n\ndf.groupby(['cut']).filter(f_filter)",
   "metadata": {
    "tags": [],
    "cell_id": "00013-c652afff-7c13-4a68-a5db-9b91da9038ce",
    "deepnote_to_be_reexecuted": false,
    "source_hash": "4cb2e97a",
    "execution_start": 1625169063217,
    "execution_millis": 63,
    "deepnote_cell_type": "code"
   },
   "outputs": [
    {
     "output_type": "execute_result",
     "execution_count": 44,
     "data": {
      "application/vnd.deepnote.dataframe.v2+json": {
       "row_count": 53940,
       "column_count": 10,
       "columns": [
        {
         "name": "carat",
         "dtype": "float64",
         "stats": {
          "unique_count": 273,
          "nan_count": 0,
          "min": "0.2",
          "max": "5.01",
          "histogram": [
           {
            "bin_start": 0.2,
            "bin_end": 0.681,
            "count": 25155
           },
           {
            "bin_start": 0.681,
            "bin_end": 1.162,
            "count": 18626
           },
           {
            "bin_start": 1.162,
            "bin_end": 1.643,
            "count": 7129
           },
           {
            "bin_start": 1.643,
            "bin_end": 2.124,
            "count": 2349
           },
           {
            "bin_start": 2.124,
            "bin_end": 2.605,
            "count": 614
           },
           {
            "bin_start": 2.605,
            "bin_end": 3.0860000000000003,
            "count": 53
           },
           {
            "bin_start": 3.0860000000000003,
            "bin_end": 3.567,
            "count": 6
           },
           {
            "bin_start": 3.567,
            "bin_end": 4.048,
            "count": 5
           },
           {
            "bin_start": 4.048,
            "bin_end": 4.529,
            "count": 2
           },
           {
            "bin_start": 4.529,
            "bin_end": 5.01,
            "count": 1
           }
          ]
         }
        },
        {
         "name": "cut",
         "dtype": "category"
        },
        {
         "name": "color",
         "dtype": "category"
        },
        {
         "name": "clarity",
         "dtype": "category"
        },
        {
         "name": "depth",
         "dtype": "float64"
        },
        {
         "name": "table",
         "dtype": "float64"
        },
        {
         "name": "price",
         "dtype": "int64"
        },
        {
         "name": "x",
         "dtype": "float64"
        },
        {
         "name": "y",
         "dtype": "float64"
        },
        {
         "name": "z",
         "dtype": "float64"
        },
        {
         "name": "_deepnote_index_column",
         "dtype": "int64"
        }
       ],
       "rows_top": [
        {
         "carat": 0.23,
         "cut": "Ideal",
         "color": "E",
         "clarity": "SI2",
         "depth": 61.5,
         "table": 55,
         "price": 326,
         "x": 3.95,
         "y": 3.98,
         "z": 2.43,
         "_deepnote_index_column": 0
        },
        {
         "carat": 0.21,
         "cut": "Premium",
         "color": "E",
         "clarity": "SI1",
         "depth": 59.8,
         "table": 61,
         "price": 326,
         "x": 3.89,
         "y": 3.84,
         "z": 2.31,
         "_deepnote_index_column": 1
        },
        {
         "carat": 0.23,
         "cut": "Good",
         "color": "E",
         "clarity": "VS1",
         "depth": 56.9,
         "table": 65,
         "price": 327,
         "x": 4.05,
         "y": 4.07,
         "z": 2.31,
         "_deepnote_index_column": 2
        },
        {
         "carat": 0.29,
         "cut": "Premium",
         "color": "I",
         "clarity": "VS2",
         "depth": 62.4,
         "table": 58,
         "price": 334,
         "x": 4.2,
         "y": 4.23,
         "z": 2.63,
         "_deepnote_index_column": 3
        },
        {
         "carat": 0.31,
         "cut": "Good",
         "color": "J",
         "clarity": "SI2",
         "depth": 63.3,
         "table": 58,
         "price": 335,
         "x": 4.34,
         "y": 4.35,
         "z": 2.75,
         "_deepnote_index_column": 4
        },
        {
         "carat": 0.24,
         "cut": "Very Good",
         "color": "J",
         "clarity": "VVS2",
         "depth": 62.8,
         "table": 57,
         "price": 336,
         "x": 3.94,
         "y": 3.96,
         "z": 2.48,
         "_deepnote_index_column": 5
        },
        {
         "carat": 0.24,
         "cut": "Very Good",
         "color": "I",
         "clarity": "VVS1",
         "depth": 62.3,
         "table": 57,
         "price": 336,
         "x": 3.95,
         "y": 3.98,
         "z": 2.47,
         "_deepnote_index_column": 6
        },
        {
         "carat": 0.26,
         "cut": "Very Good",
         "color": "H",
         "clarity": "SI1",
         "depth": 61.9,
         "table": 55,
         "price": 337,
         "x": 4.07,
         "y": 4.11,
         "z": 2.53,
         "_deepnote_index_column": 7
        },
        {
         "carat": 0.22,
         "cut": "Fair",
         "color": "E",
         "clarity": "VS2",
         "depth": 65.1,
         "table": 61,
         "price": 337,
         "x": 3.87,
         "y": 3.78,
         "z": 2.49,
         "_deepnote_index_column": 8
        },
        {
         "carat": 0.23,
         "cut": "Very Good",
         "color": "H",
         "clarity": "VS1",
         "depth": 59.4,
         "table": 61,
         "price": 338,
         "x": 4,
         "y": 4.05,
         "z": 2.39,
         "_deepnote_index_column": 9
        },
        {
         "carat": 0.3,
         "cut": "Good",
         "color": "J",
         "clarity": "SI1",
         "depth": 64,
         "table": 55,
         "price": 339,
         "x": 4.25,
         "y": 4.28,
         "z": 2.73,
         "_deepnote_index_column": 10
        },
        {
         "carat": 0.23,
         "cut": "Ideal",
         "color": "J",
         "clarity": "VS1",
         "depth": 62.8,
         "table": 56,
         "price": 340,
         "x": 3.93,
         "y": 3.9,
         "z": 2.46,
         "_deepnote_index_column": 11
        },
        {
         "carat": 0.22,
         "cut": "Premium",
         "color": "F",
         "clarity": "SI1",
         "depth": 60.4,
         "table": 61,
         "price": 342,
         "x": 3.88,
         "y": 3.84,
         "z": 2.33,
         "_deepnote_index_column": 12
        },
        {
         "carat": 0.31,
         "cut": "Ideal",
         "color": "J",
         "clarity": "SI2",
         "depth": 62.2,
         "table": 54,
         "price": 344,
         "x": 4.35,
         "y": 4.37,
         "z": 2.71,
         "_deepnote_index_column": 13
        },
        {
         "carat": 0.2,
         "cut": "Premium",
         "color": "E",
         "clarity": "SI2",
         "depth": 60.2,
         "table": 62,
         "price": 345,
         "x": 3.79,
         "y": 3.75,
         "z": 2.27,
         "_deepnote_index_column": 14
        },
        {
         "carat": 0.32,
         "cut": "Premium",
         "color": "E",
         "clarity": "I1",
         "depth": 60.9,
         "table": 58,
         "price": 345,
         "x": 4.38,
         "y": 4.42,
         "z": 2.68,
         "_deepnote_index_column": 15
        },
        {
         "carat": 0.3,
         "cut": "Ideal",
         "color": "I",
         "clarity": "SI2",
         "depth": 62,
         "table": 54,
         "price": 348,
         "x": 4.31,
         "y": 4.34,
         "z": 2.68,
         "_deepnote_index_column": 16
        },
        {
         "carat": 0.3,
         "cut": "Good",
         "color": "J",
         "clarity": "SI1",
         "depth": 63.4,
         "table": 54,
         "price": 351,
         "x": 4.23,
         "y": 4.29,
         "z": 2.7,
         "_deepnote_index_column": 17
        },
        {
         "carat": 0.3,
         "cut": "Good",
         "color": "J",
         "clarity": "SI1",
         "depth": 63.8,
         "table": 56,
         "price": 351,
         "x": 4.23,
         "y": 4.26,
         "z": 2.71,
         "_deepnote_index_column": 18
        },
        {
         "carat": 0.3,
         "cut": "Very Good",
         "color": "J",
         "clarity": "SI1",
         "depth": 62.7,
         "table": 59,
         "price": 351,
         "x": 4.21,
         "y": 4.27,
         "z": 2.66,
         "_deepnote_index_column": 19
        },
        {
         "carat": 0.3,
         "cut": "Good",
         "color": "I",
         "clarity": "SI2",
         "depth": 63.3,
         "table": 56,
         "price": 351,
         "x": 4.26,
         "y": 4.3,
         "z": 2.71,
         "_deepnote_index_column": 20
        },
        {
         "carat": 0.23,
         "cut": "Very Good",
         "color": "E",
         "clarity": "VS2",
         "depth": 63.8,
         "table": 55,
         "price": 352,
         "x": 3.85,
         "y": 3.92,
         "z": 2.48,
         "_deepnote_index_column": 21
        },
        {
         "carat": 0.23,
         "cut": "Very Good",
         "color": "H",
         "clarity": "VS1",
         "depth": 61,
         "table": 57,
         "price": 353,
         "x": 3.94,
         "y": 3.96,
         "z": 2.41,
         "_deepnote_index_column": 22
        },
        {
         "carat": 0.31,
         "cut": "Very Good",
         "color": "J",
         "clarity": "SI1",
         "depth": 59.4,
         "table": 62,
         "price": 353,
         "x": 4.39,
         "y": 4.43,
         "z": 2.62,
         "_deepnote_index_column": 23
        },
        {
         "carat": 0.31,
         "cut": "Very Good",
         "color": "J",
         "clarity": "SI1",
         "depth": 58.1,
         "table": 62,
         "price": 353,
         "x": 4.44,
         "y": 4.47,
         "z": 2.59,
         "_deepnote_index_column": 24
        },
        {
         "carat": 0.23,
         "cut": "Very Good",
         "color": "G",
         "clarity": "VVS2",
         "depth": 60.4,
         "table": 58,
         "price": 354,
         "x": 3.97,
         "y": 4.01,
         "z": 2.41,
         "_deepnote_index_column": 25
        },
        {
         "carat": 0.24,
         "cut": "Premium",
         "color": "I",
         "clarity": "VS1",
         "depth": 62.5,
         "table": 57,
         "price": 355,
         "x": 3.97,
         "y": 3.94,
         "z": 2.47,
         "_deepnote_index_column": 26
        },
        {
         "carat": 0.3,
         "cut": "Very Good",
         "color": "J",
         "clarity": "VS2",
         "depth": 62.2,
         "table": 57,
         "price": 357,
         "x": 4.28,
         "y": 4.3,
         "z": 2.67,
         "_deepnote_index_column": 27
        },
        {
         "carat": 0.23,
         "cut": "Very Good",
         "color": "D",
         "clarity": "VS2",
         "depth": 60.5,
         "table": 61,
         "price": 357,
         "x": 3.96,
         "y": 3.97,
         "z": 2.4,
         "_deepnote_index_column": 28
        },
        {
         "carat": 0.23,
         "cut": "Very Good",
         "color": "F",
         "clarity": "VS1",
         "depth": 60.9,
         "table": 57,
         "price": 357,
         "x": 3.96,
         "y": 3.99,
         "z": 2.42,
         "_deepnote_index_column": 29
        },
        {
         "carat": 0.23,
         "cut": "Very Good",
         "color": "F",
         "clarity": "VS1",
         "depth": 60,
         "table": 57,
         "price": 402,
         "x": 4,
         "y": 4.03,
         "z": 2.41,
         "_deepnote_index_column": 30
        },
        {
         "carat": 0.23,
         "cut": "Very Good",
         "color": "F",
         "clarity": "VS1",
         "depth": 59.8,
         "table": 57,
         "price": 402,
         "x": 4.04,
         "y": 4.06,
         "z": 2.42,
         "_deepnote_index_column": 31
        },
        {
         "carat": 0.23,
         "cut": "Very Good",
         "color": "E",
         "clarity": "VS1",
         "depth": 60.7,
         "table": 59,
         "price": 402,
         "x": 3.97,
         "y": 4.01,
         "z": 2.42,
         "_deepnote_index_column": 32
        },
        {
         "carat": 0.23,
         "cut": "Very Good",
         "color": "E",
         "clarity": "VS1",
         "depth": 59.5,
         "table": 58,
         "price": 402,
         "x": 4.01,
         "y": 4.06,
         "z": 2.4,
         "_deepnote_index_column": 33
        },
        {
         "carat": 0.23,
         "cut": "Very Good",
         "color": "D",
         "clarity": "VS1",
         "depth": 61.9,
         "table": 58,
         "price": 402,
         "x": 3.92,
         "y": 3.96,
         "z": 2.44,
         "_deepnote_index_column": 34
        },
        {
         "carat": 0.23,
         "cut": "Good",
         "color": "F",
         "clarity": "VS1",
         "depth": 58.2,
         "table": 59,
         "price": 402,
         "x": 4.06,
         "y": 4.08,
         "z": 2.37,
         "_deepnote_index_column": 35
        },
        {
         "carat": 0.23,
         "cut": "Good",
         "color": "E",
         "clarity": "VS1",
         "depth": 64.1,
         "table": 59,
         "price": 402,
         "x": 3.83,
         "y": 3.85,
         "z": 2.46,
         "_deepnote_index_column": 36
        },
        {
         "carat": 0.31,
         "cut": "Good",
         "color": "H",
         "clarity": "SI1",
         "depth": 64,
         "table": 54,
         "price": 402,
         "x": 4.29,
         "y": 4.31,
         "z": 2.75,
         "_deepnote_index_column": 37
        },
        {
         "carat": 0.26,
         "cut": "Very Good",
         "color": "D",
         "clarity": "VS2",
         "depth": 60.8,
         "table": 59,
         "price": 403,
         "x": 4.13,
         "y": 4.16,
         "z": 2.52,
         "_deepnote_index_column": 38
        },
        {
         "carat": 0.33,
         "cut": "Ideal",
         "color": "I",
         "clarity": "SI2",
         "depth": 61.8,
         "table": 55,
         "price": 403,
         "x": 4.49,
         "y": 4.51,
         "z": 2.78,
         "_deepnote_index_column": 39
        },
        {
         "carat": 0.33,
         "cut": "Ideal",
         "color": "I",
         "clarity": "SI2",
         "depth": 61.2,
         "table": 56,
         "price": 403,
         "x": 4.49,
         "y": 4.5,
         "z": 2.75,
         "_deepnote_index_column": 40
        },
        {
         "carat": 0.33,
         "cut": "Ideal",
         "color": "J",
         "clarity": "SI1",
         "depth": 61.1,
         "table": 56,
         "price": 403,
         "x": 4.49,
         "y": 4.55,
         "z": 2.76,
         "_deepnote_index_column": 41
        },
        {
         "carat": 0.26,
         "cut": "Good",
         "color": "D",
         "clarity": "VS2",
         "depth": 65.2,
         "table": 56,
         "price": 403,
         "x": 3.99,
         "y": 4.02,
         "z": 2.61,
         "_deepnote_index_column": 42
        },
        {
         "carat": 0.26,
         "cut": "Good",
         "color": "D",
         "clarity": "VS1",
         "depth": 58.4,
         "table": 63,
         "price": 403,
         "x": 4.19,
         "y": 4.24,
         "z": 2.46,
         "_deepnote_index_column": 43
        },
        {
         "carat": 0.32,
         "cut": "Good",
         "color": "H",
         "clarity": "SI2",
         "depth": 63.1,
         "table": 56,
         "price": 403,
         "x": 4.34,
         "y": 4.37,
         "z": 2.75,
         "_deepnote_index_column": 44
        },
        {
         "carat": 0.29,
         "cut": "Premium",
         "color": "F",
         "clarity": "SI1",
         "depth": 62.4,
         "table": 58,
         "price": 403,
         "x": 4.24,
         "y": 4.26,
         "z": 2.65,
         "_deepnote_index_column": 45
        },
        {
         "carat": 0.32,
         "cut": "Very Good",
         "color": "H",
         "clarity": "SI2",
         "depth": 61.8,
         "table": 55,
         "price": 403,
         "x": 4.35,
         "y": 4.42,
         "z": 2.71,
         "_deepnote_index_column": 46
        },
        {
         "carat": 0.32,
         "cut": "Good",
         "color": "H",
         "clarity": "SI2",
         "depth": 63.8,
         "table": 56,
         "price": 403,
         "x": 4.36,
         "y": 4.38,
         "z": 2.79,
         "_deepnote_index_column": 47
        },
        {
         "carat": 0.25,
         "cut": "Very Good",
         "color": "E",
         "clarity": "VS2",
         "depth": 63.3,
         "table": 60,
         "price": 404,
         "x": 4,
         "y": 4.03,
         "z": 2.54,
         "_deepnote_index_column": 48
        },
        {
         "carat": 0.29,
         "cut": "Very Good",
         "color": "H",
         "clarity": "SI2",
         "depth": 60.7,
         "table": 60,
         "price": 404,
         "x": 4.33,
         "y": 4.37,
         "z": 2.64,
         "_deepnote_index_column": 49
        }
       ],
       "rows_bottom": [
        {
         "carat": 0.73,
         "cut": "Good",
         "color": "E",
         "clarity": "SI1",
         "depth": 57.9,
         "table": 55,
         "price": 2749,
         "x": 6,
         "y": 5.96,
         "z": 3.46,
         "_deepnote_index_column": 53890
        },
        {
         "carat": 0.56,
         "cut": "Ideal",
         "color": "E",
         "clarity": "VVS1",
         "depth": 62.1,
         "table": 56,
         "price": 2750,
         "x": 5.28,
         "y": 5.29,
         "z": 3.28,
         "_deepnote_index_column": 53891
        },
        {
         "carat": 0.7,
         "cut": "Ideal",
         "color": "F",
         "clarity": "VS1",
         "depth": 62.5,
         "table": 56,
         "price": 2751,
         "x": 5.73,
         "y": 5.7,
         "z": 3.57,
         "_deepnote_index_column": 53892
        },
        {
         "carat": 0.7,
         "cut": "Ideal",
         "color": "F",
         "clarity": "VS1",
         "depth": 62,
         "table": 55,
         "price": 2751,
         "x": 5.74,
         "y": 5.71,
         "z": 3.55,
         "_deepnote_index_column": 53893
        },
        {
         "carat": 0.71,
         "cut": "Ideal",
         "color": "G",
         "clarity": "SI1",
         "depth": 60.5,
         "table": 56.4,
         "price": 2751,
         "x": 5.76,
         "y": 5.8,
         "z": 3.5,
         "_deepnote_index_column": 53894
        },
        {
         "carat": 0.7,
         "cut": "Good",
         "color": "F",
         "clarity": "VS1",
         "depth": 57.8,
         "table": 61,
         "price": 2751,
         "x": 5.83,
         "y": 5.79,
         "z": 3.36,
         "_deepnote_index_column": 53895
        },
        {
         "carat": 0.83,
         "cut": "Ideal",
         "color": "G",
         "clarity": "SI2",
         "depth": 62.4,
         "table": 54,
         "price": 2751,
         "x": 6.01,
         "y": 6.08,
         "z": 3.77,
         "_deepnote_index_column": 53896
        },
        {
         "carat": 1.02,
         "cut": "Good",
         "color": "H",
         "clarity": "I1",
         "depth": 64.3,
         "table": 63,
         "price": 2751,
         "x": 6.28,
         "y": 6.23,
         "z": 4.02,
         "_deepnote_index_column": 53897
        },
        {
         "carat": 0.65,
         "cut": "Very Good",
         "color": "D",
         "clarity": "VS1",
         "depth": 60.8,
         "table": 57.2,
         "price": 2752,
         "x": 5.55,
         "y": 5.63,
         "z": 3.4,
         "_deepnote_index_column": 53898
        },
        {
         "carat": 0.72,
         "cut": "Ideal",
         "color": "H",
         "clarity": "VVS2",
         "depth": 62.3,
         "table": 56,
         "price": 2752,
         "x": 5.74,
         "y": 5.81,
         "z": 3.6,
         "_deepnote_index_column": 53899
        },
        {
         "carat": 0.73,
         "cut": "Ideal",
         "color": "H",
         "clarity": "VS2",
         "depth": 62.5,
         "table": 58,
         "price": 2752,
         "x": 5.71,
         "y": 5.75,
         "z": 3.58,
         "_deepnote_index_column": 53900
        },
        {
         "carat": 0.57,
         "cut": "Premium",
         "color": "E",
         "clarity": "VS1",
         "depth": 61.6,
         "table": 58,
         "price": 2753,
         "x": 5.36,
         "y": 5.33,
         "z": 3.29,
         "_deepnote_index_column": 53901
        },
        {
         "carat": 0.77,
         "cut": "Very Good",
         "color": "E",
         "clarity": "SI2",
         "depth": 59.9,
         "table": 61,
         "price": 2753,
         "x": 5.98,
         "y": 6.01,
         "z": 3.59,
         "_deepnote_index_column": 53902
        },
        {
         "carat": 0.75,
         "cut": "Very Good",
         "color": "E",
         "clarity": "SI1",
         "depth": 62.9,
         "table": 57,
         "price": 2753,
         "x": 5.79,
         "y": 5.84,
         "z": 3.66,
         "_deepnote_index_column": 53903
        },
        {
         "carat": 0.7,
         "cut": "Premium",
         "color": "E",
         "clarity": "SI1",
         "depth": 61.3,
         "table": 58,
         "price": 2753,
         "x": 5.68,
         "y": 5.71,
         "z": 3.49,
         "_deepnote_index_column": 53904
        },
        {
         "carat": 0.7,
         "cut": "Premium",
         "color": "E",
         "clarity": "SI1",
         "depth": 60,
         "table": 59,
         "price": 2753,
         "x": 5.75,
         "y": 5.79,
         "z": 3.46,
         "_deepnote_index_column": 53905
        },
        {
         "carat": 0.75,
         "cut": "Very Good",
         "color": "E",
         "clarity": "SI1",
         "depth": 63,
         "table": 55,
         "price": 2753,
         "x": 5.76,
         "y": 5.79,
         "z": 3.64,
         "_deepnote_index_column": 53906
        },
        {
         "carat": 0.7,
         "cut": "Very Good",
         "color": "E",
         "clarity": "SI1",
         "depth": 61,
         "table": 57,
         "price": 2753,
         "x": 5.68,
         "y": 5.73,
         "z": 3.48,
         "_deepnote_index_column": 53907
        },
        {
         "carat": 0.7,
         "cut": "Very Good",
         "color": "E",
         "clarity": "SI1",
         "depth": 61.2,
         "table": 57,
         "price": 2753,
         "x": 5.68,
         "y": 5.73,
         "z": 3.49,
         "_deepnote_index_column": 53908
        },
        {
         "carat": 0.7,
         "cut": "Very Good",
         "color": "E",
         "clarity": "SI1",
         "depth": 62.7,
         "table": 59,
         "price": 2753,
         "x": 5.63,
         "y": 5.67,
         "z": 3.54,
         "_deepnote_index_column": 53909
        },
        {
         "carat": 0.7,
         "cut": "Premium",
         "color": "E",
         "clarity": "SI1",
         "depth": 60.5,
         "table": 58,
         "price": 2753,
         "x": 5.74,
         "y": 5.77,
         "z": 3.48,
         "_deepnote_index_column": 53910
        },
        {
         "carat": 0.57,
         "cut": "Premium",
         "color": "E",
         "clarity": "IF",
         "depth": 59.8,
         "table": 60,
         "price": 2753,
         "x": 5.43,
         "y": 5.38,
         "z": 3.23,
         "_deepnote_index_column": 53911
        },
        {
         "carat": 0.61,
         "cut": "Premium",
         "color": "F",
         "clarity": "VVS1",
         "depth": 61.8,
         "table": 59,
         "price": 2753,
         "x": 5.48,
         "y": 5.4,
         "z": 3.36,
         "_deepnote_index_column": 53912
        },
        {
         "carat": 0.8,
         "cut": "Good",
         "color": "G",
         "clarity": "VS2",
         "depth": 64.2,
         "table": 58,
         "price": 2753,
         "x": 5.84,
         "y": 5.81,
         "z": 3.74,
         "_deepnote_index_column": 53913
        },
        {
         "carat": 0.84,
         "cut": "Good",
         "color": "I",
         "clarity": "VS1",
         "depth": 63.7,
         "table": 59,
         "price": 2753,
         "x": 5.94,
         "y": 5.9,
         "z": 3.77,
         "_deepnote_index_column": 53914
        },
        {
         "carat": 0.77,
         "cut": "Ideal",
         "color": "E",
         "clarity": "SI2",
         "depth": 62.1,
         "table": 56,
         "price": 2753,
         "x": 5.84,
         "y": 5.86,
         "z": 3.63,
         "_deepnote_index_column": 53915
        },
        {
         "carat": 0.74,
         "cut": "Good",
         "color": "D",
         "clarity": "SI1",
         "depth": 63.1,
         "table": 59,
         "price": 2753,
         "x": 5.71,
         "y": 5.74,
         "z": 3.61,
         "_deepnote_index_column": 53916
        },
        {
         "carat": 0.9,
         "cut": "Very Good",
         "color": "J",
         "clarity": "SI1",
         "depth": 63.2,
         "table": 60,
         "price": 2753,
         "x": 6.12,
         "y": 6.09,
         "z": 3.86,
         "_deepnote_index_column": 53917
        },
        {
         "carat": 0.76,
         "cut": "Premium",
         "color": "I",
         "clarity": "VS1",
         "depth": 59.3,
         "table": 62,
         "price": 2753,
         "x": 5.93,
         "y": 5.85,
         "z": 3.49,
         "_deepnote_index_column": 53918
        },
        {
         "carat": 0.76,
         "cut": "Ideal",
         "color": "I",
         "clarity": "VVS1",
         "depth": 62.2,
         "table": 55,
         "price": 2753,
         "x": 5.89,
         "y": 5.87,
         "z": 3.66,
         "_deepnote_index_column": 53919
        },
        {
         "carat": 0.7,
         "cut": "Very Good",
         "color": "E",
         "clarity": "VS2",
         "depth": 62.4,
         "table": 60,
         "price": 2755,
         "x": 5.57,
         "y": 5.61,
         "z": 3.49,
         "_deepnote_index_column": 53920
        },
        {
         "carat": 0.7,
         "cut": "Very Good",
         "color": "E",
         "clarity": "VS2",
         "depth": 62.8,
         "table": 60,
         "price": 2755,
         "x": 5.59,
         "y": 5.65,
         "z": 3.53,
         "_deepnote_index_column": 53921
        },
        {
         "carat": 0.7,
         "cut": "Very Good",
         "color": "D",
         "clarity": "VS1",
         "depth": 63.1,
         "table": 59,
         "price": 2755,
         "x": 5.67,
         "y": 5.58,
         "z": 3.55,
         "_deepnote_index_column": 53922
        },
        {
         "carat": 0.73,
         "cut": "Ideal",
         "color": "I",
         "clarity": "VS2",
         "depth": 61.3,
         "table": 56,
         "price": 2756,
         "x": 5.8,
         "y": 5.84,
         "z": 3.57,
         "_deepnote_index_column": 53923
        },
        {
         "carat": 0.73,
         "cut": "Ideal",
         "color": "I",
         "clarity": "VS2",
         "depth": 61.6,
         "table": 55,
         "price": 2756,
         "x": 5.82,
         "y": 5.84,
         "z": 3.59,
         "_deepnote_index_column": 53924
        },
        {
         "carat": 0.79,
         "cut": "Ideal",
         "color": "I",
         "clarity": "SI1",
         "depth": 61.6,
         "table": 56,
         "price": 2756,
         "x": 5.95,
         "y": 5.97,
         "z": 3.67,
         "_deepnote_index_column": 53925
        },
        {
         "carat": 0.71,
         "cut": "Ideal",
         "color": "E",
         "clarity": "SI1",
         "depth": 61.9,
         "table": 56,
         "price": 2756,
         "x": 5.71,
         "y": 5.73,
         "z": 3.54,
         "_deepnote_index_column": 53926
        },
        {
         "carat": 0.79,
         "cut": "Good",
         "color": "F",
         "clarity": "SI1",
         "depth": 58.1,
         "table": 59,
         "price": 2756,
         "x": 6.06,
         "y": 6.13,
         "z": 3.54,
         "_deepnote_index_column": 53927
        },
        {
         "carat": 0.79,
         "cut": "Premium",
         "color": "E",
         "clarity": "SI2",
         "depth": 61.4,
         "table": 58,
         "price": 2756,
         "x": 6.03,
         "y": 5.96,
         "z": 3.68,
         "_deepnote_index_column": 53928
        },
        {
         "carat": 0.71,
         "cut": "Ideal",
         "color": "G",
         "clarity": "VS1",
         "depth": 61.4,
         "table": 56,
         "price": 2756,
         "x": 5.76,
         "y": 5.73,
         "z": 3.53,
         "_deepnote_index_column": 53929
        },
        {
         "carat": 0.71,
         "cut": "Premium",
         "color": "E",
         "clarity": "SI1",
         "depth": 60.5,
         "table": 55,
         "price": 2756,
         "x": 5.79,
         "y": 5.74,
         "z": 3.49,
         "_deepnote_index_column": 53930
        },
        {
         "carat": 0.71,
         "cut": "Premium",
         "color": "F",
         "clarity": "SI1",
         "depth": 59.8,
         "table": 62,
         "price": 2756,
         "x": 5.74,
         "y": 5.73,
         "z": 3.43,
         "_deepnote_index_column": 53931
        },
        {
         "carat": 0.7,
         "cut": "Very Good",
         "color": "E",
         "clarity": "VS2",
         "depth": 60.5,
         "table": 59,
         "price": 2757,
         "x": 5.71,
         "y": 5.76,
         "z": 3.47,
         "_deepnote_index_column": 53932
        },
        {
         "carat": 0.7,
         "cut": "Very Good",
         "color": "E",
         "clarity": "VS2",
         "depth": 61.2,
         "table": 59,
         "price": 2757,
         "x": 5.69,
         "y": 5.72,
         "z": 3.49,
         "_deepnote_index_column": 53933
        },
        {
         "carat": 0.72,
         "cut": "Premium",
         "color": "D",
         "clarity": "SI1",
         "depth": 62.7,
         "table": 59,
         "price": 2757,
         "x": 5.69,
         "y": 5.73,
         "z": 3.58,
         "_deepnote_index_column": 53934
        },
        {
         "carat": 0.72,
         "cut": "Ideal",
         "color": "D",
         "clarity": "SI1",
         "depth": 60.8,
         "table": 57,
         "price": 2757,
         "x": 5.75,
         "y": 5.76,
         "z": 3.5,
         "_deepnote_index_column": 53935
        },
        {
         "carat": 0.72,
         "cut": "Good",
         "color": "D",
         "clarity": "SI1",
         "depth": 63.1,
         "table": 55,
         "price": 2757,
         "x": 5.69,
         "y": 5.75,
         "z": 3.61,
         "_deepnote_index_column": 53936
        },
        {
         "carat": 0.7,
         "cut": "Very Good",
         "color": "D",
         "clarity": "SI1",
         "depth": 62.8,
         "table": 60,
         "price": 2757,
         "x": 5.66,
         "y": 5.68,
         "z": 3.56,
         "_deepnote_index_column": 53937
        },
        {
         "carat": 0.86,
         "cut": "Premium",
         "color": "H",
         "clarity": "SI2",
         "depth": 61,
         "table": 58,
         "price": 2757,
         "x": 6.15,
         "y": 6.12,
         "z": 3.74,
         "_deepnote_index_column": 53938
        },
        {
         "carat": 0.75,
         "cut": "Ideal",
         "color": "D",
         "clarity": "SI2",
         "depth": 62.2,
         "table": 55,
         "price": 2757,
         "x": 5.83,
         "y": 5.87,
         "z": 3.64,
         "_deepnote_index_column": 53939
        }
       ]
      },
      "text/plain": "       carat        cut color clarity  depth  table  price     x     y     z\n0      0.230      Ideal     E     SI2 61.500 55.000    326 3.950 3.980 2.430\n1      0.210    Premium     E     SI1 59.800 61.000    326 3.890 3.840 2.310\n2      0.230       Good     E     VS1 56.900 65.000    327 4.050 4.070 2.310\n3      0.290    Premium     I     VS2 62.400 58.000    334 4.200 4.230 2.630\n4      0.310       Good     J     SI2 63.300 58.000    335 4.340 4.350 2.750\n...      ...        ...   ...     ...    ...    ...    ...   ...   ...   ...\n53935  0.720      Ideal     D     SI1 60.800 57.000   2757 5.750 5.760 3.500\n53936  0.720       Good     D     SI1 63.100 55.000   2757 5.690 5.750 3.610\n53937  0.700  Very Good     D     SI1 62.800 60.000   2757 5.660 5.680 3.560\n53938  0.860    Premium     H     SI2 61.000 58.000   2757 6.150 6.120 3.740\n53939  0.750      Ideal     D     SI2 62.200 55.000   2757 5.830 5.870 3.640\n\n[53940 rows x 10 columns]",
      "text/html": "<div>\n<style scoped>\n    .dataframe tbody tr th:only-of-type {\n        vertical-align: middle;\n    }\n\n    .dataframe tbody tr th {\n        vertical-align: top;\n    }\n\n    .dataframe thead th {\n        text-align: right;\n    }\n</style>\n<table border=\"1\" class=\"dataframe\">\n  <thead>\n    <tr style=\"text-align: right;\">\n      <th></th>\n      <th>carat</th>\n      <th>cut</th>\n      <th>color</th>\n      <th>clarity</th>\n      <th>depth</th>\n      <th>table</th>\n      <th>price</th>\n      <th>x</th>\n      <th>y</th>\n      <th>z</th>\n    </tr>\n  </thead>\n  <tbody>\n    <tr>\n      <th>0</th>\n      <td>0.230</td>\n      <td>Ideal</td>\n      <td>E</td>\n      <td>SI2</td>\n      <td>61.500</td>\n      <td>55.000</td>\n      <td>326</td>\n      <td>3.950</td>\n      <td>3.980</td>\n      <td>2.430</td>\n    </tr>\n    <tr>\n      <th>1</th>\n      <td>0.210</td>\n      <td>Premium</td>\n      <td>E</td>\n      <td>SI1</td>\n      <td>59.800</td>\n      <td>61.000</td>\n      <td>326</td>\n      <td>3.890</td>\n      <td>3.840</td>\n      <td>2.310</td>\n    </tr>\n    <tr>\n      <th>2</th>\n      <td>0.230</td>\n      <td>Good</td>\n      <td>E</td>\n      <td>VS1</td>\n      <td>56.900</td>\n      <td>65.000</td>\n      <td>327</td>\n      <td>4.050</td>\n      <td>4.070</td>\n      <td>2.310</td>\n    </tr>\n    <tr>\n      <th>3</th>\n      <td>0.290</td>\n      <td>Premium</td>\n      <td>I</td>\n      <td>VS2</td>\n      <td>62.400</td>\n      <td>58.000</td>\n      <td>334</td>\n      <td>4.200</td>\n      <td>4.230</td>\n      <td>2.630</td>\n    </tr>\n    <tr>\n      <th>4</th>\n      <td>0.310</td>\n      <td>Good</td>\n      <td>J</td>\n      <td>SI2</td>\n      <td>63.300</td>\n      <td>58.000</td>\n      <td>335</td>\n      <td>4.340</td>\n      <td>4.350</td>\n      <td>2.750</td>\n    </tr>\n    <tr>\n      <th>...</th>\n      <td>...</td>\n      <td>...</td>\n      <td>...</td>\n      <td>...</td>\n      <td>...</td>\n      <td>...</td>\n      <td>...</td>\n      <td>...</td>\n      <td>...</td>\n      <td>...</td>\n    </tr>\n    <tr>\n      <th>53935</th>\n      <td>0.720</td>\n      <td>Ideal</td>\n      <td>D</td>\n      <td>SI1</td>\n      <td>60.800</td>\n      <td>57.000</td>\n      <td>2757</td>\n      <td>5.750</td>\n      <td>5.760</td>\n      <td>3.500</td>\n    </tr>\n    <tr>\n      <th>53936</th>\n      <td>0.720</td>\n      <td>Good</td>\n      <td>D</td>\n      <td>SI1</td>\n      <td>63.100</td>\n      <td>55.000</td>\n      <td>2757</td>\n      <td>5.690</td>\n      <td>5.750</td>\n      <td>3.610</td>\n    </tr>\n    <tr>\n      <th>53937</th>\n      <td>0.700</td>\n      <td>Very Good</td>\n      <td>D</td>\n      <td>SI1</td>\n      <td>62.800</td>\n      <td>60.000</td>\n      <td>2757</td>\n      <td>5.660</td>\n      <td>5.680</td>\n      <td>3.560</td>\n    </tr>\n    <tr>\n      <th>53938</th>\n      <td>0.860</td>\n      <td>Premium</td>\n      <td>H</td>\n      <td>SI2</td>\n      <td>61.000</td>\n      <td>58.000</td>\n      <td>2757</td>\n      <td>6.150</td>\n      <td>6.120</td>\n      <td>3.740</td>\n    </tr>\n    <tr>\n      <th>53939</th>\n      <td>0.750</td>\n      <td>Ideal</td>\n      <td>D</td>\n      <td>SI2</td>\n      <td>62.200</td>\n      <td>55.000</td>\n      <td>2757</td>\n      <td>5.830</td>\n      <td>5.870</td>\n      <td>3.640</td>\n    </tr>\n  </tbody>\n</table>\n<p>53940 rows × 10 columns</p>\n</div>"
     },
     "metadata": {}
    }
   ],
   "execution_count": 44
  },
  {
   "cell_type": "code",
   "source": "df.groupby(['cut']).filter(f_filter)['cut'].unique()",
   "metadata": {
    "tags": [],
    "cell_id": "00015-d1604fb3-dd93-4d79-b184-952fe3ee0256",
    "deepnote_to_be_reexecuted": false,
    "source_hash": "5dfed0f5",
    "execution_start": 1625169116765,
    "execution_millis": 28,
    "deepnote_cell_type": "code"
   },
   "outputs": [
    {
     "output_type": "execute_result",
     "execution_count": 45,
     "data": {
      "text/plain": "['Ideal', 'Premium', 'Good', 'Very Good', 'Fair']\nCategories (5, object): ['Ideal', 'Premium', 'Good', 'Very Good', 'Fair']"
     },
     "metadata": {}
    }
   ],
   "execution_count": 45
  },
  {
   "cell_type": "markdown",
   "source": "<a style='text-decoration:none;line-height:16px;display:flex;color:#5B5B62;padding:10px;justify-content:end;' href='https://deepnote.com?utm_source=created-in-deepnote-cell&projectId=40d7a071-7e6a-4668-9914-a7e81441c111' target=\"_blank\">\n<img alt='Created in deepnote.com' style='display:inline;max-height:16px;margin:0px;margin-right:7.5px;' src='data:image/svg+xml;base64,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' > </img>\nCreated in <span style='font-weight:600;margin-left:4px;'>Deepnote</span></a>",
   "metadata": {
    "tags": [],
    "created_in_deepnote_cell": true,
    "deepnote_cell_type": "markdown"
   }
  }
 ],
 "nbformat": 4,
 "nbformat_minor": 2,
 "metadata": {
  "orig_nbformat": 2,
  "deepnote": {
   "is_reactive": false
  },
  "deepnote_notebook_id": "bfaf9e83-fc67-48b1-9a51-deb555fd4a00",
  "deepnote_execution_queue": []
 }
}