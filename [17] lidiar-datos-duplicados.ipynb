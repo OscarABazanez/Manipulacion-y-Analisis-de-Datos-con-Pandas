{
 "cells": [
  {
   "cell_type": "markdown",
   "source": "# Datos duplicados",
   "metadata": {
    "tags": [],
    "cell_id": "00000-6272d1c0-2ad3-4a2b-b3d7-755937f6a9aa",
    "deepnote_cell_type": "markdown"
   }
  },
  {
   "cell_type": "code",
   "metadata": {
    "tags": [],
    "cell_id": "00000-4a798d3b-3767-4184-8381-ad62ad530606",
    "deepnote_to_be_reexecuted": false,
    "source_hash": "2f5b4b63",
    "execution_start": 1625182972524,
    "execution_millis": 90,
    "deepnote_cell_type": "code"
   },
   "source": "import pandas as pd\n\ndf = pd.DataFrame({'a': ['w'] * 4 + ['x'] * 3 + ['y'] * 2 + ['z']+['v'], \n    'b': [1, 1, 1, 1, 2, 2, 2, 3, 3, 4,5]})\ndf",
   "execution_count": 1,
   "outputs": [
    {
     "output_type": "execute_result",
     "execution_count": 1,
     "data": {
      "application/vnd.deepnote.dataframe.v2+json": {
       "row_count": 11,
       "column_count": 2,
       "columns": [
        {
         "name": "a",
         "dtype": "object",
         "stats": {
          "unique_count": 5,
          "nan_count": 0,
          "categories": [
           {
            "name": "w",
            "count": 4
           },
           {
            "name": "x",
            "count": 3
           },
           {
            "name": "3 others",
            "count": 4
           }
          ]
         }
        },
        {
         "name": "b",
         "dtype": "int64",
         "stats": {
          "unique_count": 5,
          "nan_count": 0,
          "min": "1",
          "max": "5",
          "histogram": [
           {
            "bin_start": 1,
            "bin_end": 1.4,
            "count": 4
           },
           {
            "bin_start": 1.4,
            "bin_end": 1.8,
            "count": 0
           },
           {
            "bin_start": 1.8,
            "bin_end": 2.2,
            "count": 3
           },
           {
            "bin_start": 2.2,
            "bin_end": 2.6,
            "count": 0
           },
           {
            "bin_start": 2.6,
            "bin_end": 3,
            "count": 0
           },
           {
            "bin_start": 3,
            "bin_end": 3.4000000000000004,
            "count": 2
           },
           {
            "bin_start": 3.4000000000000004,
            "bin_end": 3.8000000000000003,
            "count": 0
           },
           {
            "bin_start": 3.8000000000000003,
            "bin_end": 4.2,
            "count": 1
           },
           {
            "bin_start": 4.2,
            "bin_end": 4.6,
            "count": 0
           },
           {
            "bin_start": 4.6,
            "bin_end": 5,
            "count": 1
           }
          ]
         }
        },
        {
         "name": "_deepnote_index_column",
         "dtype": "int64"
        }
       ],
       "rows_top": [
        {
         "a": "w",
         "b": 1,
         "_deepnote_index_column": 0
        },
        {
         "a": "w",
         "b": 1,
         "_deepnote_index_column": 1
        },
        {
         "a": "w",
         "b": 1,
         "_deepnote_index_column": 2
        },
        {
         "a": "w",
         "b": 1,
         "_deepnote_index_column": 3
        },
        {
         "a": "x",
         "b": 2,
         "_deepnote_index_column": 4
        },
        {
         "a": "x",
         "b": 2,
         "_deepnote_index_column": 5
        },
        {
         "a": "x",
         "b": 2,
         "_deepnote_index_column": 6
        },
        {
         "a": "y",
         "b": 3,
         "_deepnote_index_column": 7
        },
        {
         "a": "y",
         "b": 3,
         "_deepnote_index_column": 8
        },
        {
         "a": "z",
         "b": 4,
         "_deepnote_index_column": 9
        },
        {
         "a": "v",
         "b": 5,
         "_deepnote_index_column": 10
        }
       ],
       "rows_bottom": null
      },
      "text/plain": "    a  b\n0   w  1\n1   w  1\n2   w  1\n3   w  1\n4   x  2\n5   x  2\n6   x  2\n7   y  3\n8   y  3\n9   z  4\n10  v  5",
      "text/html": "<div>\n<style scoped>\n    .dataframe tbody tr th:only-of-type {\n        vertical-align: middle;\n    }\n\n    .dataframe tbody tr th {\n        vertical-align: top;\n    }\n\n    .dataframe thead th {\n        text-align: right;\n    }\n</style>\n<table border=\"1\" class=\"dataframe\">\n  <thead>\n    <tr style=\"text-align: right;\">\n      <th></th>\n      <th>a</th>\n      <th>b</th>\n    </tr>\n  </thead>\n  <tbody>\n    <tr>\n      <th>0</th>\n      <td>w</td>\n      <td>1</td>\n    </tr>\n    <tr>\n      <th>1</th>\n      <td>w</td>\n      <td>1</td>\n    </tr>\n    <tr>\n      <th>2</th>\n      <td>w</td>\n      <td>1</td>\n    </tr>\n    <tr>\n      <th>3</th>\n      <td>w</td>\n      <td>1</td>\n    </tr>\n    <tr>\n      <th>4</th>\n      <td>x</td>\n      <td>2</td>\n    </tr>\n    <tr>\n      <th>5</th>\n      <td>x</td>\n      <td>2</td>\n    </tr>\n    <tr>\n      <th>6</th>\n      <td>x</td>\n      <td>2</td>\n    </tr>\n    <tr>\n      <th>7</th>\n      <td>y</td>\n      <td>3</td>\n    </tr>\n    <tr>\n      <th>8</th>\n      <td>y</td>\n      <td>3</td>\n    </tr>\n    <tr>\n      <th>9</th>\n      <td>z</td>\n      <td>4</td>\n    </tr>\n    <tr>\n      <th>10</th>\n      <td>v</td>\n      <td>5</td>\n    </tr>\n  </tbody>\n</table>\n</div>"
     },
     "metadata": {}
    }
   ]
  },
  {
   "cell_type": "markdown",
   "source": "## Encontrar duplicados\nPara encontrar los registros duplicados usamos **duplicated** , que marca con **True** aquellos casos de filas duplicadas:",
   "metadata": {
    "tags": [],
    "cell_id": "00002-133cebfd-c3f8-42a8-a7fb-9e785602dc20",
    "deepnote_cell_type": "markdown"
   }
  },
  {
   "cell_type": "code",
   "metadata": {
    "tags": [],
    "cell_id": "00003-d1338b0f-02cb-4844-b391-7f722b07abb7",
    "deepnote_to_be_reexecuted": false,
    "source_hash": "47cec7c3",
    "execution_start": 1625182973285,
    "execution_millis": 17,
    "deepnote_cell_type": "code"
   },
   "source": "df.duplicated() # Ver duplicados",
   "execution_count": 2,
   "outputs": [
    {
     "output_type": "execute_result",
     "execution_count": 2,
     "data": {
      "text/plain": "0     False\n1      True\n2      True\n3      True\n4     False\n5      True\n6      True\n7     False\n8      True\n9     False\n10    False\ndtype: bool"
     },
     "metadata": {}
    }
   ]
  },
  {
   "cell_type": "markdown",
   "source": "Podemos usar **keep='first'** para marcar solo la primera ocurrencia o **keep='last'** para marcar la última:",
   "metadata": {
    "tags": [],
    "cell_id": "00004-eb1292e9-26e1-4be5-bc4d-6969d1f7eea0",
    "deepnote_cell_type": "markdown"
   }
  },
  {
   "cell_type": "code",
   "metadata": {
    "tags": [],
    "cell_id": "00005-20246d93-9e92-47b9-bf5e-c35811b164a4",
    "deepnote_to_be_reexecuted": false,
    "source_hash": "b40714e6",
    "execution_start": 1625182974021,
    "execution_millis": 9,
    "deepnote_cell_type": "code"
   },
   "source": "#keep='last' o 'first, marca la primer/ultima ocurrencia\ndf.duplicated(keep='first')",
   "execution_count": 3,
   "outputs": [
    {
     "output_type": "execute_result",
     "execution_count": 3,
     "data": {
      "text/plain": "0     False\n1      True\n2      True\n3      True\n4     False\n5      True\n6      True\n7     False\n8      True\n9     False\n10    False\ndtype: bool"
     },
     "metadata": {}
    }
   ]
  },
  {
   "cell_type": "code",
   "metadata": {
    "tags": [],
    "cell_id": "00006-3b5a2891-d50c-4789-bbed-d6768030e83b",
    "deepnote_to_be_reexecuted": false,
    "source_hash": "ac886054",
    "execution_start": 1625182974581,
    "execution_millis": 8,
    "deepnote_cell_type": "code"
   },
   "source": "df.duplicated(keep='last')",
   "execution_count": 4,
   "outputs": [
    {
     "output_type": "execute_result",
     "execution_count": 4,
     "data": {
      "text/plain": "0      True\n1      True\n2      True\n3     False\n4      True\n5      True\n6     False\n7      True\n8     False\n9     False\n10    False\ndtype: bool"
     },
     "metadata": {}
    }
   ]
  },
  {
   "cell_type": "markdown",
   "source": "## Mostrar los registros no duplicados\nIdentificados los casos duplicados, podemos usar este resultado para filtrar y seleccionar aquellos que no tienen un registro duplicado:",
   "metadata": {
    "tags": [],
    "cell_id": "00006-9335f25c-2258-4243-ba14-26024eb979ab",
    "deepnote_cell_type": "markdown"
   }
  },
  {
   "cell_type": "code",
   "metadata": {
    "tags": [],
    "cell_id": "00007-a934dc0c-239f-4e94-9839-2b729c3ba9d3",
    "deepnote_to_be_reexecuted": false,
    "source_hash": "ef196732",
    "execution_start": 1625182975264,
    "execution_millis": 10,
    "deepnote_cell_type": "code"
   },
   "source": "#Filtra casos que no estan duplicados, ~ = negacion\ndf[~ df.duplicated()]",
   "execution_count": 5,
   "outputs": [
    {
     "output_type": "execute_result",
     "execution_count": 5,
     "data": {
      "application/vnd.deepnote.dataframe.v2+json": {
       "row_count": 5,
       "column_count": 2,
       "columns": [
        {
         "name": "a",
         "dtype": "object",
         "stats": {
          "unique_count": 5,
          "nan_count": 0,
          "categories": [
           {
            "name": "w",
            "count": 1
           },
           {
            "name": "x",
            "count": 1
           },
           {
            "name": "3 others",
            "count": 3
           }
          ]
         }
        },
        {
         "name": "b",
         "dtype": "int64",
         "stats": {
          "unique_count": 5,
          "nan_count": 0,
          "min": "1",
          "max": "5",
          "histogram": [
           {
            "bin_start": 1,
            "bin_end": 1.4,
            "count": 1
           },
           {
            "bin_start": 1.4,
            "bin_end": 1.8,
            "count": 0
           },
           {
            "bin_start": 1.8,
            "bin_end": 2.2,
            "count": 1
           },
           {
            "bin_start": 2.2,
            "bin_end": 2.6,
            "count": 0
           },
           {
            "bin_start": 2.6,
            "bin_end": 3,
            "count": 0
           },
           {
            "bin_start": 3,
            "bin_end": 3.4000000000000004,
            "count": 1
           },
           {
            "bin_start": 3.4000000000000004,
            "bin_end": 3.8000000000000003,
            "count": 0
           },
           {
            "bin_start": 3.8000000000000003,
            "bin_end": 4.2,
            "count": 1
           },
           {
            "bin_start": 4.2,
            "bin_end": 4.6,
            "count": 0
           },
           {
            "bin_start": 4.6,
            "bin_end": 5,
            "count": 1
           }
          ]
         }
        },
        {
         "name": "_deepnote_index_column",
         "dtype": "int64"
        }
       ],
       "rows_top": [
        {
         "a": "w",
         "b": 1,
         "_deepnote_index_column": 0
        },
        {
         "a": "x",
         "b": 2,
         "_deepnote_index_column": 4
        },
        {
         "a": "y",
         "b": 3,
         "_deepnote_index_column": 7
        },
        {
         "a": "z",
         "b": 4,
         "_deepnote_index_column": 9
        },
        {
         "a": "v",
         "b": 5,
         "_deepnote_index_column": 10
        }
       ],
       "rows_bottom": null
      },
      "text/plain": "    a  b\n0   w  1\n4   x  2\n7   y  3\n9   z  4\n10  v  5",
      "text/html": "<div>\n<style scoped>\n    .dataframe tbody tr th:only-of-type {\n        vertical-align: middle;\n    }\n\n    .dataframe tbody tr th {\n        vertical-align: top;\n    }\n\n    .dataframe thead th {\n        text-align: right;\n    }\n</style>\n<table border=\"1\" class=\"dataframe\">\n  <thead>\n    <tr style=\"text-align: right;\">\n      <th></th>\n      <th>a</th>\n      <th>b</th>\n    </tr>\n  </thead>\n  <tbody>\n    <tr>\n      <th>0</th>\n      <td>w</td>\n      <td>1</td>\n    </tr>\n    <tr>\n      <th>4</th>\n      <td>x</td>\n      <td>2</td>\n    </tr>\n    <tr>\n      <th>7</th>\n      <td>y</td>\n      <td>3</td>\n    </tr>\n    <tr>\n      <th>9</th>\n      <td>z</td>\n      <td>4</td>\n    </tr>\n    <tr>\n      <th>10</th>\n      <td>v</td>\n      <td>5</td>\n    </tr>\n  </tbody>\n</table>\n</div>"
     },
     "metadata": {}
    }
   ]
  },
  {
   "cell_type": "markdown",
   "source": "Si quisieras dejar el **primer registro** de los duplicados o **el último**, recuerda usar** keep='first'** o **keep='last'**. Remarco el hecho de **que usé negación '~' para ver los registros no duplicados**.\n\nY si me interesara **ver** cuáles son los registros **duplicados**, podemos usar **keep=False**:",
   "metadata": {
    "tags": [],
    "cell_id": "00008-8cc668cb-0fcf-4535-abc9-1b12188a4776",
    "deepnote_cell_type": "markdown"
   }
  },
  {
   "cell_type": "code",
   "metadata": {
    "tags": [],
    "cell_id": "00009-5e74e862-5f82-46b7-ab51-808d3600bcc9",
    "deepnote_to_be_reexecuted": false,
    "source_hash": "ed2eea9",
    "execution_start": 1625182976100,
    "execution_millis": 9,
    "deepnote_cell_type": "code"
   },
   "source": "# Marca todos los registros duplicados\ndf.duplicated(keep=False)",
   "execution_count": 6,
   "outputs": [
    {
     "output_type": "execute_result",
     "execution_count": 6,
     "data": {
      "text/plain": "0      True\n1      True\n2      True\n3      True\n4      True\n5      True\n6      True\n7      True\n8      True\n9     False\n10    False\ndtype: bool"
     },
     "metadata": {}
    }
   ]
  },
  {
   "cell_type": "code",
   "metadata": {
    "tags": [],
    "cell_id": "00010-a8c0243a-fff3-4c20-85c9-2684aee057bd",
    "deepnote_to_be_reexecuted": false,
    "source_hash": "4ddaef4b",
    "execution_start": 1625182976400,
    "execution_millis": 7,
    "deepnote_cell_type": "code"
   },
   "source": "df[df.duplicated(keep=False)]",
   "execution_count": 7,
   "outputs": [
    {
     "output_type": "execute_result",
     "execution_count": 7,
     "data": {
      "application/vnd.deepnote.dataframe.v2+json": {
       "row_count": 9,
       "column_count": 2,
       "columns": [
        {
         "name": "a",
         "dtype": "object",
         "stats": {
          "unique_count": 3,
          "nan_count": 0,
          "categories": [
           {
            "name": "w",
            "count": 4
           },
           {
            "name": "x",
            "count": 3
           },
           {
            "name": "y",
            "count": 2
           }
          ]
         }
        },
        {
         "name": "b",
         "dtype": "int64",
         "stats": {
          "unique_count": 3,
          "nan_count": 0,
          "min": "1",
          "max": "3",
          "histogram": [
           {
            "bin_start": 1,
            "bin_end": 1.2,
            "count": 4
           },
           {
            "bin_start": 1.2,
            "bin_end": 1.4,
            "count": 0
           },
           {
            "bin_start": 1.4,
            "bin_end": 1.6,
            "count": 0
           },
           {
            "bin_start": 1.6,
            "bin_end": 1.8,
            "count": 0
           },
           {
            "bin_start": 1.8,
            "bin_end": 2,
            "count": 0
           },
           {
            "bin_start": 2,
            "bin_end": 2.2,
            "count": 3
           },
           {
            "bin_start": 2.2,
            "bin_end": 2.4000000000000004,
            "count": 0
           },
           {
            "bin_start": 2.4000000000000004,
            "bin_end": 2.6,
            "count": 0
           },
           {
            "bin_start": 2.6,
            "bin_end": 2.8,
            "count": 0
           },
           {
            "bin_start": 2.8,
            "bin_end": 3,
            "count": 2
           }
          ]
         }
        },
        {
         "name": "_deepnote_index_column",
         "dtype": "int64"
        }
       ],
       "rows_top": [
        {
         "a": "w",
         "b": 1,
         "_deepnote_index_column": 0
        },
        {
         "a": "w",
         "b": 1,
         "_deepnote_index_column": 1
        },
        {
         "a": "w",
         "b": 1,
         "_deepnote_index_column": 2
        },
        {
         "a": "w",
         "b": 1,
         "_deepnote_index_column": 3
        },
        {
         "a": "x",
         "b": 2,
         "_deepnote_index_column": 4
        },
        {
         "a": "x",
         "b": 2,
         "_deepnote_index_column": 5
        },
        {
         "a": "x",
         "b": 2,
         "_deepnote_index_column": 6
        },
        {
         "a": "y",
         "b": 3,
         "_deepnote_index_column": 7
        },
        {
         "a": "y",
         "b": 3,
         "_deepnote_index_column": 8
        }
       ],
       "rows_bottom": null
      },
      "text/plain": "   a  b\n0  w  1\n1  w  1\n2  w  1\n3  w  1\n4  x  2\n5  x  2\n6  x  2\n7  y  3\n8  y  3",
      "text/html": "<div>\n<style scoped>\n    .dataframe tbody tr th:only-of-type {\n        vertical-align: middle;\n    }\n\n    .dataframe tbody tr th {\n        vertical-align: top;\n    }\n\n    .dataframe thead th {\n        text-align: right;\n    }\n</style>\n<table border=\"1\" class=\"dataframe\">\n  <thead>\n    <tr style=\"text-align: right;\">\n      <th></th>\n      <th>a</th>\n      <th>b</th>\n    </tr>\n  </thead>\n  <tbody>\n    <tr>\n      <th>0</th>\n      <td>w</td>\n      <td>1</td>\n    </tr>\n    <tr>\n      <th>1</th>\n      <td>w</td>\n      <td>1</td>\n    </tr>\n    <tr>\n      <th>2</th>\n      <td>w</td>\n      <td>1</td>\n    </tr>\n    <tr>\n      <th>3</th>\n      <td>w</td>\n      <td>1</td>\n    </tr>\n    <tr>\n      <th>4</th>\n      <td>x</td>\n      <td>2</td>\n    </tr>\n    <tr>\n      <th>5</th>\n      <td>x</td>\n      <td>2</td>\n    </tr>\n    <tr>\n      <th>6</th>\n      <td>x</td>\n      <td>2</td>\n    </tr>\n    <tr>\n      <th>7</th>\n      <td>y</td>\n      <td>3</td>\n    </tr>\n    <tr>\n      <th>8</th>\n      <td>y</td>\n      <td>3</td>\n    </tr>\n  </tbody>\n</table>\n</div>"
     },
     "metadata": {}
    }
   ]
  },
  {
   "cell_type": "markdown",
   "source": "## Eliminar registros duplicados de una columna\nPor último, puedes usar el comando 'drop_duplicates' para eliminar los duplicados. Por defecto, la función guarda el primer resultado keep='first':",
   "metadata": {
    "tags": [],
    "cell_id": "00011-5ce020ff-0a8e-4e07-923f-94e27c4924d2",
    "deepnote_cell_type": "markdown"
   }
  },
  {
   "cell_type": "code",
   "metadata": {
    "tags": [],
    "cell_id": "00012-51d00ab6-6191-4007-b807-298d5dd5f83e",
    "deepnote_to_be_reexecuted": false,
    "source_hash": "2c7e8f7",
    "execution_start": 1625182977225,
    "execution_millis": 9,
    "deepnote_cell_type": "code"
   },
   "source": "# descarta los registros duplicados, tiene por defecto el keep = first\ndf.drop_duplicates(['a'],keep='last')",
   "execution_count": 8,
   "outputs": [
    {
     "output_type": "execute_result",
     "execution_count": 8,
     "data": {
      "application/vnd.deepnote.dataframe.v2+json": {
       "row_count": 5,
       "column_count": 2,
       "columns": [
        {
         "name": "a",
         "dtype": "object",
         "stats": {
          "unique_count": 5,
          "nan_count": 0,
          "categories": [
           {
            "name": "w",
            "count": 1
           },
           {
            "name": "x",
            "count": 1
           },
           {
            "name": "3 others",
            "count": 3
           }
          ]
         }
        },
        {
         "name": "b",
         "dtype": "int64",
         "stats": {
          "unique_count": 5,
          "nan_count": 0,
          "min": "1",
          "max": "5",
          "histogram": [
           {
            "bin_start": 1,
            "bin_end": 1.4,
            "count": 1
           },
           {
            "bin_start": 1.4,
            "bin_end": 1.8,
            "count": 0
           },
           {
            "bin_start": 1.8,
            "bin_end": 2.2,
            "count": 1
           },
           {
            "bin_start": 2.2,
            "bin_end": 2.6,
            "count": 0
           },
           {
            "bin_start": 2.6,
            "bin_end": 3,
            "count": 0
           },
           {
            "bin_start": 3,
            "bin_end": 3.4000000000000004,
            "count": 1
           },
           {
            "bin_start": 3.4000000000000004,
            "bin_end": 3.8000000000000003,
            "count": 0
           },
           {
            "bin_start": 3.8000000000000003,
            "bin_end": 4.2,
            "count": 1
           },
           {
            "bin_start": 4.2,
            "bin_end": 4.6,
            "count": 0
           },
           {
            "bin_start": 4.6,
            "bin_end": 5,
            "count": 1
           }
          ]
         }
        },
        {
         "name": "_deepnote_index_column",
         "dtype": "int64"
        }
       ],
       "rows_top": [
        {
         "a": "w",
         "b": 1,
         "_deepnote_index_column": 3
        },
        {
         "a": "x",
         "b": 2,
         "_deepnote_index_column": 6
        },
        {
         "a": "y",
         "b": 3,
         "_deepnote_index_column": 8
        },
        {
         "a": "z",
         "b": 4,
         "_deepnote_index_column": 9
        },
        {
         "a": "v",
         "b": 5,
         "_deepnote_index_column": 10
        }
       ],
       "rows_bottom": null
      },
      "text/plain": "    a  b\n3   w  1\n6   x  2\n8   y  3\n9   z  4\n10  v  5",
      "text/html": "<div>\n<style scoped>\n    .dataframe tbody tr th:only-of-type {\n        vertical-align: middle;\n    }\n\n    .dataframe tbody tr th {\n        vertical-align: top;\n    }\n\n    .dataframe thead th {\n        text-align: right;\n    }\n</style>\n<table border=\"1\" class=\"dataframe\">\n  <thead>\n    <tr style=\"text-align: right;\">\n      <th></th>\n      <th>a</th>\n      <th>b</th>\n    </tr>\n  </thead>\n  <tbody>\n    <tr>\n      <th>3</th>\n      <td>w</td>\n      <td>1</td>\n    </tr>\n    <tr>\n      <th>6</th>\n      <td>x</td>\n      <td>2</td>\n    </tr>\n    <tr>\n      <th>8</th>\n      <td>y</td>\n      <td>3</td>\n    </tr>\n    <tr>\n      <th>9</th>\n      <td>z</td>\n      <td>4</td>\n    </tr>\n    <tr>\n      <th>10</th>\n      <td>v</td>\n      <td>5</td>\n    </tr>\n  </tbody>\n</table>\n</div>"
     },
     "metadata": {}
    }
   ]
  },
  {
   "cell_type": "markdown",
   "source": "<a style='text-decoration:none;line-height:16px;display:flex;color:#5B5B62;padding:10px;justify-content:end;' href='https://deepnote.com?utm_source=created-in-deepnote-cell&projectId=40d7a071-7e6a-4668-9914-a7e81441c111' target=\"_blank\">\n<img alt='Created in deepnote.com' style='display:inline;max-height:16px;margin:0px;margin-right:7.5px;' src='data:image/svg+xml;base64,PD94bWwgdmVyc2lvbj0iMS4wIiBlbmNvZGluZz0iVVRGLTgiPz4KPHN2ZyB3aWR0aD0iODBweCIgaGVpZ2h0PSI4MHB4IiB2aWV3Qm94PSIwIDAgODAgODAiIHZlcnNpb249IjEuMSIgeG1sbnM9Imh0dHA6Ly93d3cudzMub3JnLzIwMDAvc3ZnIiB4bWxuczp4bGluaz0iaHR0cDovL3d3dy53My5vcmcvMTk5OS94bGluayI+CiAgICA8IS0tIEdlbmVyYXRvcjogU2tldGNoIDU0LjEgKDc2NDkwKSAtIGh0dHBzOi8vc2tldGNoYXBwLmNvbSAtLT4KICAgIDx0aXRsZT5Hcm91cCAzPC90aXRsZT4KICAgIDxkZXNjPkNyZWF0ZWQgd2l0aCBTa2V0Y2guPC9kZXNjPgogICAgPGcgaWQ9IkxhbmRpbmciIHN0cm9rZT0ibm9uZSIgc3Ryb2tlLXdpZHRoPSIxIiBmaWxsPSJub25lIiBmaWxsLXJ1bGU9ImV2ZW5vZGQiPgogICAgICAgIDxnIGlkPSJBcnRib2FyZCIgdHJhbnNmb3JtPSJ0cmFuc2xhdGUoLTEyMzUuMDAwMDAwLCAtNzkuMDAwMDAwKSI+CiAgICAgICAgICAgIDxnIGlkPSJHcm91cC0zIiB0cmFuc2Zvcm09InRyYW5zbGF0ZSgxMjM1LjAwMDAwMCwgNzkuMDAwMDAwKSI+CiAgICAgICAgICAgICAgICA8cG9seWdvbiBpZD0iUGF0aC0yMCIgZmlsbD0iIzAyNjVCNCIgcG9pbnRzPSIyLjM3NjIzNzYyIDgwIDM4LjA0NzY2NjcgODAgNTcuODIxNzgyMiA3My44MDU3NTkyIDU3LjgyMTc4MjIgMzIuNzU5MjczOSAzOS4xNDAyMjc4IDMxLjY4MzE2ODMiPjwvcG9seWdvbj4KICAgICAgICAgICAgICAgIDxwYXRoIGQ9Ik0zNS4wMDc3MTgsODAgQzQyLjkwNjIwMDcsNzYuNDU0OTM1OCA0Ny41NjQ5MTY3LDcxLjU0MjI2NzEgNDguOTgzODY2LDY1LjI2MTk5MzkgQzUxLjExMjI4OTksNTUuODQxNTg0MiA0MS42NzcxNzk1LDQ5LjIxMjIyODQgMjUuNjIzOTg0Niw0OS4yMTIyMjg0IEMyNS40ODQ5Mjg5LDQ5LjEyNjg0NDggMjkuODI2MTI5Niw0My4yODM4MjQ4IDM4LjY0NzU4NjksMzEuNjgzMTY4MyBMNzIuODcxMjg3MSwzMi41NTQ0MjUgTDY1LjI4MDk3Myw2Ny42NzYzNDIxIEw1MS4xMTIyODk5LDc3LjM3NjE0NCBMMzUuMDA3NzE4LDgwIFoiIGlkPSJQYXRoLTIyIiBmaWxsPSIjMDAyODY4Ij48L3BhdGg+CiAgICAgICAgICAgICAgICA8cGF0aCBkPSJNMCwzNy43MzA0NDA1IEwyNy4xMTQ1MzcsMC4yNTcxMTE0MzYgQzYyLjM3MTUxMjMsLTEuOTkwNzE3MDEgODAsMTAuNTAwMzkyNyA4MCwzNy43MzA0NDA1IEM4MCw2NC45NjA0ODgyIDY0Ljc3NjUwMzgsNzkuMDUwMzQxNCAzNC4zMjk1MTEzLDgwIEM0Ny4wNTUzNDg5LDc3LjU2NzA4MDggNTMuNDE4MjY3Nyw3MC4zMTM2MTAzIDUzLjQxODI2NzcsNTguMjM5NTg4NSBDNTMuNDE4MjY3Nyw0MC4xMjg1NTU3IDM2LjMwMzk1NDQsMzcuNzMwNDQwNSAyNS4yMjc0MTcsMzcuNzMwNDQwNSBDMTcuODQzMDU4NiwzNy43MzA0NDA1IDkuNDMzOTE5NjYsMzcuNzMwNDQwNSAwLDM3LjczMDQ0MDUgWiIgaWQ9IlBhdGgtMTkiIGZpbGw9IiMzNzkzRUYiPjwvcGF0aD4KICAgICAgICAgICAgPC9nPgogICAgICAgIDwvZz4KICAgIDwvZz4KPC9zdmc+' > </img>\nCreated in <span style='font-weight:600;margin-left:4px;'>Deepnote</span></a>",
   "metadata": {
    "tags": [],
    "created_in_deepnote_cell": true,
    "deepnote_cell_type": "markdown"
   }
  }
 ],
 "nbformat": 4,
 "nbformat_minor": 2,
 "metadata": {
  "orig_nbformat": 2,
  "deepnote": {
   "is_reactive": false
  },
  "deepnote_notebook_id": "b26b9adf-9299-4944-8553-3011199079ff",
  "deepnote_execution_queue": []
 }
}