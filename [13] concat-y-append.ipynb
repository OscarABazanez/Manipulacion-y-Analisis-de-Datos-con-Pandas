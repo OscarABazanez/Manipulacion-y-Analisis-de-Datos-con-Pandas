{
 "cells": [
  {
   "cell_type": "code",
   "metadata": {
    "tags": [],
    "cell_id": "00000-6c61734e-c25c-415e-aadd-c604f7071423",
    "deepnote_to_be_reexecuted": false,
    "source_hash": "6a822f8f",
    "execution_start": 1625080329030,
    "execution_millis": 8,
    "deepnote_cell_type": "code"
   },
   "source": "import pandas as pd\nimport numpy as np\n\nnp.set_printoptions(precision=2)",
   "execution_count": 1,
   "outputs": []
  },
  {
   "cell_type": "code",
   "source": "x1 = np.random.rand(2,5)*10\nx1",
   "metadata": {
    "tags": [],
    "cell_id": "00001-82be9c0e-2a56-445b-8a79-ad30dbc50da7",
    "deepnote_to_be_reexecuted": false,
    "source_hash": "4c672f25",
    "execution_start": 1625080329448,
    "execution_millis": 19,
    "deepnote_cell_type": "code"
   },
   "outputs": [
    {
     "output_type": "execute_result",
     "execution_count": 2,
     "data": {
      "text/plain": "array([[2.76, 7.41, 6.8 , 7.06, 5.07],\n       [4.71, 0.98, 1.4 , 7.68, 0.56]])"
     },
     "metadata": {}
    }
   ],
   "execution_count": 2
  },
  {
   "cell_type": "code",
   "source": "x2 = np.random.rand(2,5)*10\nx2",
   "metadata": {
    "tags": [],
    "cell_id": "00002-cb7ad3c6-c8cf-43cb-8869-f6a6a7980790",
    "deepnote_to_be_reexecuted": false,
    "source_hash": "1e6399c6",
    "execution_start": 1625080330045,
    "execution_millis": 12,
    "deepnote_cell_type": "code"
   },
   "outputs": [
    {
     "output_type": "execute_result",
     "execution_count": 3,
     "data": {
      "text/plain": "array([[0.58, 3.02, 8.69, 3.69, 6.83],\n       [1.38, 0.27, 5.21, 0.72, 0.8 ]])"
     },
     "metadata": {}
    }
   ],
   "execution_count": 3
  },
  {
   "cell_type": "markdown",
   "source": "# Concatencacion con Numpy",
   "metadata": {
    "tags": [],
    "cell_id": "00003-cee487b7-296d-4d68-81ca-14dbbc66229a",
    "deepnote_cell_type": "markdown"
   }
  },
  {
   "cell_type": "code",
   "source": "np.concatenate([x1,x2], axis=1)",
   "metadata": {
    "tags": [],
    "cell_id": "00003-e0269aa0-6659-40aa-a8b4-bfa0bb3424af",
    "deepnote_to_be_reexecuted": false,
    "source_hash": "f9be3cab",
    "execution_start": 1625080331023,
    "execution_millis": 22,
    "deepnote_cell_type": "code"
   },
   "outputs": [
    {
     "output_type": "execute_result",
     "execution_count": 4,
     "data": {
      "text/plain": "array([[2.76, 7.41, 6.8 , 7.06, 5.07, 0.58, 3.02, 8.69, 3.69, 6.83],\n       [4.71, 0.98, 1.4 , 7.68, 0.56, 1.38, 0.27, 5.21, 0.72, 0.8 ]])"
     },
     "metadata": {}
    }
   ],
   "execution_count": 4
  },
  {
   "cell_type": "markdown",
   "source": "# Concatenacion con Pandas",
   "metadata": {
    "tags": [],
    "cell_id": "00005-deaef212-0ed4-491d-9067-ae08a194462f",
    "deepnote_cell_type": "markdown"
   }
  },
  {
   "cell_type": "code",
   "source": "s1 = pd.Series(x1[0],index=['a','b','c','d','e'])\ns1",
   "metadata": {
    "tags": [],
    "cell_id": "00004-19c87763-eba5-4526-a6be-769fbd5859ec",
    "deepnote_to_be_reexecuted": false,
    "source_hash": "32792b51",
    "execution_start": 1625080332634,
    "execution_millis": 19,
    "deepnote_cell_type": "code"
   },
   "outputs": [
    {
     "output_type": "execute_result",
     "execution_count": 5,
     "data": {
      "text/plain": "a    2.764890\nb    7.408717\nc    6.795911\nd    7.064030\ne    5.070932\ndtype: float64"
     },
     "metadata": {}
    }
   ],
   "execution_count": 5
  },
  {
   "cell_type": "code",
   "source": "s2 = pd.Series(x2[0], index=['c','b','e','f','g'])\ns2",
   "metadata": {
    "tags": [],
    "cell_id": "00007-0b45f19a-44f5-4eca-b732-cb5e1127caf9",
    "deepnote_to_be_reexecuted": false,
    "source_hash": "73fc51cd",
    "execution_start": 1625080379564,
    "execution_millis": 6,
    "deepnote_cell_type": "code"
   },
   "outputs": [
    {
     "output_type": "execute_result",
     "execution_count": 8,
     "data": {
      "text/plain": "c    0.581020\nb    3.016793\ne    8.686765\nf    3.686395\ng    6.827822\ndtype: float64"
     },
     "metadata": {}
    }
   ],
   "execution_count": 8
  },
  {
   "cell_type": "markdown",
   "source": "## Resetear indices",
   "metadata": {
    "tags": [],
    "cell_id": "00009-0cbe4271-2a49-4b95-abd4-d20075bd1647",
    "deepnote_cell_type": "markdown"
   }
  },
  {
   "cell_type": "code",
   "source": "s1 = s1.reset_index(drop=True)\ns2 = s2.reset_index(drop=True)",
   "metadata": {
    "tags": [],
    "cell_id": "00009-ceee23f8-0d51-43e5-8b84-cba4413ebe06",
    "deepnote_to_be_reexecuted": false,
    "source_hash": "56ff8763",
    "execution_start": 1625080666267,
    "execution_millis": 2,
    "deepnote_cell_type": "code"
   },
   "outputs": [],
   "execution_count": 48
  },
  {
   "cell_type": "code",
   "source": "con = pd.concat([s1,s2], axis=1)\ncon",
   "metadata": {
    "tags": [],
    "cell_id": "00008-ac7d5dd5-f681-4917-856a-67a3fbd8efb8",
    "deepnote_to_be_reexecuted": false,
    "source_hash": "d01377b3",
    "execution_start": 1625080669900,
    "execution_millis": 6,
    "deepnote_cell_type": "code"
   },
   "outputs": [
    {
     "output_type": "execute_result",
     "execution_count": 51,
     "data": {
      "application/vnd.deepnote.dataframe.v2+json": {
       "row_count": 5,
       "column_count": 2,
       "columns": [
        {
         "name": 0,
         "dtype": "float64",
         "stats": {
          "unique_count": 5,
          "nan_count": 0,
          "min": "2.764889653309861",
          "max": "7.408717001567874",
          "histogram": [
           {
            "bin_start": 2.764889653309861,
            "bin_end": 3.229272388135662,
            "count": 1
           },
           {
            "bin_start": 3.229272388135662,
            "bin_end": 3.693655122961464,
            "count": 0
           },
           {
            "bin_start": 3.693655122961464,
            "bin_end": 4.158037857787265,
            "count": 0
           },
           {
            "bin_start": 4.158037857787265,
            "bin_end": 4.622420592613066,
            "count": 0
           },
           {
            "bin_start": 4.622420592613066,
            "bin_end": 5.086803327438867,
            "count": 1
           },
           {
            "bin_start": 5.086803327438867,
            "bin_end": 5.551186062264669,
            "count": 0
           },
           {
            "bin_start": 5.551186062264669,
            "bin_end": 6.01556879709047,
            "count": 0
           },
           {
            "bin_start": 6.01556879709047,
            "bin_end": 6.479951531916271,
            "count": 0
           },
           {
            "bin_start": 6.479951531916271,
            "bin_end": 6.944334266742073,
            "count": 1
           },
           {
            "bin_start": 6.944334266742073,
            "bin_end": 7.408717001567874,
            "count": 2
           }
          ]
         }
        },
        {
         "name": 1,
         "dtype": "float64",
         "stats": {
          "unique_count": 5,
          "nan_count": 0,
          "min": "0.5810197434327169",
          "max": "8.686764905821638",
          "histogram": [
           {
            "bin_start": 0.5810197434327169,
            "bin_end": 1.391594259671609,
            "count": 1
           },
           {
            "bin_start": 1.391594259671609,
            "bin_end": 2.202168775910501,
            "count": 0
           },
           {
            "bin_start": 2.202168775910501,
            "bin_end": 3.012743292149393,
            "count": 0
           },
           {
            "bin_start": 3.012743292149393,
            "bin_end": 3.8233178083882855,
            "count": 2
           },
           {
            "bin_start": 3.8233178083882855,
            "bin_end": 4.633892324627177,
            "count": 0
           },
           {
            "bin_start": 4.633892324627177,
            "bin_end": 5.4444668408660695,
            "count": 0
           },
           {
            "bin_start": 5.4444668408660695,
            "bin_end": 6.255041357104961,
            "count": 0
           },
           {
            "bin_start": 6.255041357104961,
            "bin_end": 7.065615873343853,
            "count": 1
           },
           {
            "bin_start": 7.065615873343853,
            "bin_end": 7.876190389582746,
            "count": 0
           },
           {
            "bin_start": 7.876190389582746,
            "bin_end": 8.686764905821638,
            "count": 1
           }
          ]
         }
        },
        {
         "name": "_deepnote_index_column",
         "dtype": "int64"
        }
       ],
       "rows_top": [
        {
         "0": 2.764889653309861,
         "1": 0.5810197434327169,
         "_deepnote_index_column": 0
        },
        {
         "0": 7.408717001567874,
         "1": 3.0167931478060983,
         "_deepnote_index_column": 1
        },
        {
         "0": 6.795911498717283,
         "1": 8.686764905821638,
         "_deepnote_index_column": 2
        },
        {
         "0": 7.064030105095002,
         "1": 3.686394511333954,
         "_deepnote_index_column": 3
        },
        {
         "0": 5.0709317482343765,
         "1": 6.8278217515508945,
         "_deepnote_index_column": 4
        }
       ],
       "rows_bottom": null
      },
      "text/plain": "          0         1\n0  2.764890  0.581020\n1  7.408717  3.016793\n2  6.795911  8.686765\n3  7.064030  3.686395\n4  5.070932  6.827822",
      "text/html": "<div>\n<style scoped>\n    .dataframe tbody tr th:only-of-type {\n        vertical-align: middle;\n    }\n\n    .dataframe tbody tr th {\n        vertical-align: top;\n    }\n\n    .dataframe thead th {\n        text-align: right;\n    }\n</style>\n<table border=\"1\" class=\"dataframe\">\n  <thead>\n    <tr style=\"text-align: right;\">\n      <th></th>\n      <th>0</th>\n      <th>1</th>\n    </tr>\n  </thead>\n  <tbody>\n    <tr>\n      <th>0</th>\n      <td>2.764890</td>\n      <td>0.581020</td>\n    </tr>\n    <tr>\n      <th>1</th>\n      <td>7.408717</td>\n      <td>3.016793</td>\n    </tr>\n    <tr>\n      <th>2</th>\n      <td>6.795911</td>\n      <td>8.686765</td>\n    </tr>\n    <tr>\n      <th>3</th>\n      <td>7.064030</td>\n      <td>3.686395</td>\n    </tr>\n    <tr>\n      <th>4</th>\n      <td>5.070932</td>\n      <td>6.827822</td>\n    </tr>\n  </tbody>\n</table>\n</div>"
     },
     "metadata": {}
    }
   ],
   "execution_count": 51
  },
  {
   "cell_type": "markdown",
   "source": "## Concatenar DataFrames",
   "metadata": {
    "tags": [],
    "cell_id": "00011-e8f50b12-3af3-4adf-be67-64c8afed137d",
    "deepnote_cell_type": "markdown"
   }
  },
  {
   "cell_type": "code",
   "source": "df1 = pd.DataFrame(np.random.rand(3,2)*10,columns=['a','b'])\ndf1",
   "metadata": {
    "tags": [],
    "cell_id": "00012-77a4a3d0-d0bc-4167-aa6b-c0cc47dca9e1",
    "deepnote_to_be_reexecuted": false,
    "source_hash": "4c2429d1",
    "execution_start": 1625080754984,
    "execution_millis": 15,
    "deepnote_cell_type": "code"
   },
   "outputs": [
    {
     "output_type": "execute_result",
     "execution_count": 52,
     "data": {
      "application/vnd.deepnote.dataframe.v2+json": {
       "row_count": 3,
       "column_count": 2,
       "columns": [
        {
         "name": "a",
         "dtype": "float64",
         "stats": {
          "unique_count": 3,
          "nan_count": 0,
          "min": "0.5311469392002977",
          "max": "7.619771004244257",
          "histogram": [
           {
            "bin_start": 0.5311469392002977,
            "bin_end": 1.2400093457046935,
            "count": 1
           },
           {
            "bin_start": 1.2400093457046935,
            "bin_end": 1.9488717522090895,
            "count": 1
           },
           {
            "bin_start": 1.9488717522090895,
            "bin_end": 2.6577341587134855,
            "count": 0
           },
           {
            "bin_start": 2.6577341587134855,
            "bin_end": 3.3665965652178813,
            "count": 0
           },
           {
            "bin_start": 3.3665965652178813,
            "bin_end": 4.075458971722277,
            "count": 0
           },
           {
            "bin_start": 4.075458971722277,
            "bin_end": 4.784321378226673,
            "count": 0
           },
           {
            "bin_start": 4.784321378226673,
            "bin_end": 5.493183784731069,
            "count": 0
           },
           {
            "bin_start": 5.493183784731069,
            "bin_end": 6.202046191235465,
            "count": 0
           },
           {
            "bin_start": 6.202046191235465,
            "bin_end": 6.910908597739861,
            "count": 0
           },
           {
            "bin_start": 6.910908597739861,
            "bin_end": 7.619771004244257,
            "count": 1
           }
          ]
         }
        },
        {
         "name": "b",
         "dtype": "float64",
         "stats": {
          "unique_count": 3,
          "nan_count": 0,
          "min": "0.5840149628379376",
          "max": "5.597232297689851",
          "histogram": [
           {
            "bin_start": 0.5840149628379376,
            "bin_end": 1.085336696323129,
            "count": 1
           },
           {
            "bin_start": 1.085336696323129,
            "bin_end": 1.5866584298083204,
            "count": 0
           },
           {
            "bin_start": 1.5866584298083204,
            "bin_end": 2.087980163293512,
            "count": 0
           },
           {
            "bin_start": 2.087980163293512,
            "bin_end": 2.589301896778703,
            "count": 1
           },
           {
            "bin_start": 2.589301896778703,
            "bin_end": 3.0906236302638947,
            "count": 0
           },
           {
            "bin_start": 3.0906236302638947,
            "bin_end": 3.591945363749086,
            "count": 0
           },
           {
            "bin_start": 3.591945363749086,
            "bin_end": 4.093267097234277,
            "count": 0
           },
           {
            "bin_start": 4.093267097234277,
            "bin_end": 4.594588830719468,
            "count": 0
           },
           {
            "bin_start": 4.594588830719468,
            "bin_end": 5.09591056420466,
            "count": 0
           },
           {
            "bin_start": 5.09591056420466,
            "bin_end": 5.597232297689851,
            "count": 1
           }
          ]
         }
        },
        {
         "name": "_deepnote_index_column",
         "dtype": "int64"
        }
       ],
       "rows_top": [
        {
         "a": 0.5311469392002977,
         "b": 2.2063653165351607,
         "_deepnote_index_column": 0
        },
        {
         "a": 1.2734437468895687,
         "b": 0.5840149628379376,
         "_deepnote_index_column": 1
        },
        {
         "a": 7.619771004244257,
         "b": 5.597232297689851,
         "_deepnote_index_column": 2
        }
       ],
       "rows_bottom": null
      },
      "text/plain": "          a         b\n0  0.531147  2.206365\n1  1.273444  0.584015\n2  7.619771  5.597232",
      "text/html": "<div>\n<style scoped>\n    .dataframe tbody tr th:only-of-type {\n        vertical-align: middle;\n    }\n\n    .dataframe tbody tr th {\n        vertical-align: top;\n    }\n\n    .dataframe thead th {\n        text-align: right;\n    }\n</style>\n<table border=\"1\" class=\"dataframe\">\n  <thead>\n    <tr style=\"text-align: right;\">\n      <th></th>\n      <th>a</th>\n      <th>b</th>\n    </tr>\n  </thead>\n  <tbody>\n    <tr>\n      <th>0</th>\n      <td>0.531147</td>\n      <td>2.206365</td>\n    </tr>\n    <tr>\n      <th>1</th>\n      <td>1.273444</td>\n      <td>0.584015</td>\n    </tr>\n    <tr>\n      <th>2</th>\n      <td>7.619771</td>\n      <td>5.597232</td>\n    </tr>\n  </tbody>\n</table>\n</div>"
     },
     "metadata": {}
    }
   ],
   "execution_count": 52
  },
  {
   "cell_type": "code",
   "source": "df2 = pd.DataFrame(np.random.rand(3,2)*-1,columns=['a','b'], index=[2,3,4])\ndf2",
   "metadata": {
    "tags": [],
    "cell_id": "00013-fd99d5fe-4eeb-4f62-a82b-55549e10a8a4",
    "deepnote_to_be_reexecuted": false,
    "source_hash": "6f463d14",
    "execution_start": 1625080759344,
    "execution_millis": 9,
    "deepnote_cell_type": "code"
   },
   "outputs": [
    {
     "output_type": "execute_result",
     "execution_count": 53,
     "data": {
      "application/vnd.deepnote.dataframe.v2+json": {
       "row_count": 3,
       "column_count": 2,
       "columns": [
        {
         "name": "a",
         "dtype": "float64",
         "stats": {
          "unique_count": 3,
          "nan_count": 0,
          "min": "-0.917822871062348",
          "max": "-0.45662163881201234",
          "histogram": [
           {
            "bin_start": -0.917822871062348,
            "bin_end": -0.8717027478373144,
            "count": 1
           },
           {
            "bin_start": -0.8717027478373144,
            "bin_end": -0.8255826246122808,
            "count": 0
           },
           {
            "bin_start": -0.8255826246122808,
            "bin_end": -0.7794625013872473,
            "count": 0
           },
           {
            "bin_start": -0.7794625013872473,
            "bin_end": -0.7333423781622137,
            "count": 0
           },
           {
            "bin_start": -0.7333423781622137,
            "bin_end": -0.6872222549371801,
            "count": 0
           },
           {
            "bin_start": -0.6872222549371801,
            "bin_end": -0.6411021317121466,
            "count": 0
           },
           {
            "bin_start": -0.6411021317121466,
            "bin_end": -0.594982008487113,
            "count": 0
           },
           {
            "bin_start": -0.594982008487113,
            "bin_end": -0.5488618852620795,
            "count": 0
           },
           {
            "bin_start": -0.5488618852620795,
            "bin_end": -0.5027417620370459,
            "count": 0
           },
           {
            "bin_start": -0.5027417620370459,
            "bin_end": -0.45662163881201234,
            "count": 2
           }
          ]
         }
        },
        {
         "name": "b",
         "dtype": "float64",
         "stats": {
          "unique_count": 3,
          "nan_count": 0,
          "min": "-0.34260773058699967",
          "max": "-0.03349120030467456",
          "histogram": [
           {
            "bin_start": -0.34260773058699967,
            "bin_end": -0.31169607755876716,
            "count": 1
           },
           {
            "bin_start": -0.31169607755876716,
            "bin_end": -0.28078442453053465,
            "count": 0
           },
           {
            "bin_start": -0.28078442453053465,
            "bin_end": -0.24987277150230214,
            "count": 0
           },
           {
            "bin_start": -0.24987277150230214,
            "bin_end": -0.21896111847406963,
            "count": 0
           },
           {
            "bin_start": -0.21896111847406963,
            "bin_end": -0.18804946544583712,
            "count": 0
           },
           {
            "bin_start": -0.18804946544583712,
            "bin_end": -0.1571378124176046,
            "count": 1
           },
           {
            "bin_start": -0.1571378124176046,
            "bin_end": -0.1262261593893721,
            "count": 0
           },
           {
            "bin_start": -0.1262261593893721,
            "bin_end": -0.09531450636113958,
            "count": 0
           },
           {
            "bin_start": -0.09531450636113958,
            "bin_end": -0.06440285333290707,
            "count": 0
           },
           {
            "bin_start": -0.06440285333290707,
            "bin_end": -0.03349120030467456,
            "count": 1
           }
          ]
         }
        },
        {
         "name": "_deepnote_index_column",
         "dtype": "int64"
        }
       ],
       "rows_top": [
        {
         "a": -0.917822871062348,
         "b": -0.34260773058699967,
         "_deepnote_index_column": 2
        },
        {
         "a": -0.5000288439898549,
         "b": -0.03349120030467456,
         "_deepnote_index_column": 3
        },
        {
         "a": -0.45662163881201234,
         "b": -0.1635513797690593,
         "_deepnote_index_column": 4
        }
       ],
       "rows_bottom": null
      },
      "text/plain": "          a         b\n2 -0.917823 -0.342608\n3 -0.500029 -0.033491\n4 -0.456622 -0.163551",
      "text/html": "<div>\n<style scoped>\n    .dataframe tbody tr th:only-of-type {\n        vertical-align: middle;\n    }\n\n    .dataframe tbody tr th {\n        vertical-align: top;\n    }\n\n    .dataframe thead th {\n        text-align: right;\n    }\n</style>\n<table border=\"1\" class=\"dataframe\">\n  <thead>\n    <tr style=\"text-align: right;\">\n      <th></th>\n      <th>a</th>\n      <th>b</th>\n    </tr>\n  </thead>\n  <tbody>\n    <tr>\n      <th>2</th>\n      <td>-0.917823</td>\n      <td>-0.342608</td>\n    </tr>\n    <tr>\n      <th>3</th>\n      <td>-0.500029</td>\n      <td>-0.033491</td>\n    </tr>\n    <tr>\n      <th>4</th>\n      <td>-0.456622</td>\n      <td>-0.163551</td>\n    </tr>\n  </tbody>\n</table>\n</div>"
     },
     "metadata": {}
    }
   ],
   "execution_count": 53
  },
  {
   "cell_type": "code",
   "source": "pd.concat([df1,df2], axis=1)",
   "metadata": {
    "tags": [],
    "cell_id": "00014-c6c78371-5810-434a-9fa6-6bc287d297fc",
    "deepnote_to_be_reexecuted": false,
    "source_hash": "356a749b",
    "execution_start": 1625080790002,
    "execution_millis": 9,
    "deepnote_cell_type": "code"
   },
   "outputs": [
    {
     "output_type": "execute_result",
     "execution_count": 55,
     "data": {
      "application/vnd.deepnote.dataframe.v2+json": {
       "row_count": 5,
       "column_count": 4,
       "columns": [
        {
         "name": "a",
         "dtype": "float64",
         "stats": {
          "unique_count": 3,
          "nan_count": 2,
          "min": "0.5311469392002977",
          "max": "7.619771004244257",
          "histogram": [
           {
            "bin_start": 0.5311469392002977,
            "bin_end": 1.2400093457046935,
            "count": 1
           },
           {
            "bin_start": 1.2400093457046935,
            "bin_end": 1.9488717522090895,
            "count": 1
           },
           {
            "bin_start": 1.9488717522090895,
            "bin_end": 2.6577341587134855,
            "count": 0
           },
           {
            "bin_start": 2.6577341587134855,
            "bin_end": 3.3665965652178813,
            "count": 0
           },
           {
            "bin_start": 3.3665965652178813,
            "bin_end": 4.075458971722277,
            "count": 0
           },
           {
            "bin_start": 4.075458971722277,
            "bin_end": 4.784321378226673,
            "count": 0
           },
           {
            "bin_start": 4.784321378226673,
            "bin_end": 5.493183784731069,
            "count": 0
           },
           {
            "bin_start": 5.493183784731069,
            "bin_end": 6.202046191235465,
            "count": 0
           },
           {
            "bin_start": 6.202046191235465,
            "bin_end": 6.910908597739861,
            "count": 0
           },
           {
            "bin_start": 6.910908597739861,
            "bin_end": 7.619771004244257,
            "count": 1
           }
          ]
         }
        },
        {
         "name": "b",
         "dtype": "float64",
         "stats": {
          "unique_count": 3,
          "nan_count": 2,
          "min": "0.5840149628379376",
          "max": "5.597232297689851",
          "histogram": [
           {
            "bin_start": 0.5840149628379376,
            "bin_end": 1.085336696323129,
            "count": 1
           },
           {
            "bin_start": 1.085336696323129,
            "bin_end": 1.5866584298083204,
            "count": 0
           },
           {
            "bin_start": 1.5866584298083204,
            "bin_end": 2.087980163293512,
            "count": 0
           },
           {
            "bin_start": 2.087980163293512,
            "bin_end": 2.589301896778703,
            "count": 1
           },
           {
            "bin_start": 2.589301896778703,
            "bin_end": 3.0906236302638947,
            "count": 0
           },
           {
            "bin_start": 3.0906236302638947,
            "bin_end": 3.591945363749086,
            "count": 0
           },
           {
            "bin_start": 3.591945363749086,
            "bin_end": 4.093267097234277,
            "count": 0
           },
           {
            "bin_start": 4.093267097234277,
            "bin_end": 4.594588830719468,
            "count": 0
           },
           {
            "bin_start": 4.594588830719468,
            "bin_end": 5.09591056420466,
            "count": 0
           },
           {
            "bin_start": 5.09591056420466,
            "bin_end": 5.597232297689851,
            "count": 1
           }
          ]
         }
        },
        {
         "name": "a.1",
         "dtype": "float64",
         "stats": {
          "unique_count": 3,
          "nan_count": 2,
          "min": "-0.917822871062348",
          "max": "-0.45662163881201234",
          "histogram": [
           {
            "bin_start": -0.917822871062348,
            "bin_end": -0.8717027478373144,
            "count": 1
           },
           {
            "bin_start": -0.8717027478373144,
            "bin_end": -0.8255826246122808,
            "count": 0
           },
           {
            "bin_start": -0.8255826246122808,
            "bin_end": -0.7794625013872473,
            "count": 0
           },
           {
            "bin_start": -0.7794625013872473,
            "bin_end": -0.7333423781622137,
            "count": 0
           },
           {
            "bin_start": -0.7333423781622137,
            "bin_end": -0.6872222549371801,
            "count": 0
           },
           {
            "bin_start": -0.6872222549371801,
            "bin_end": -0.6411021317121466,
            "count": 0
           },
           {
            "bin_start": -0.6411021317121466,
            "bin_end": -0.594982008487113,
            "count": 0
           },
           {
            "bin_start": -0.594982008487113,
            "bin_end": -0.5488618852620795,
            "count": 0
           },
           {
            "bin_start": -0.5488618852620795,
            "bin_end": -0.5027417620370459,
            "count": 0
           },
           {
            "bin_start": -0.5027417620370459,
            "bin_end": -0.45662163881201234,
            "count": 2
           }
          ]
         }
        },
        {
         "name": "b.1",
         "dtype": "float64",
         "stats": {
          "unique_count": 3,
          "nan_count": 2,
          "min": "-0.34260773058699967",
          "max": "-0.03349120030467456",
          "histogram": [
           {
            "bin_start": -0.34260773058699967,
            "bin_end": -0.31169607755876716,
            "count": 1
           },
           {
            "bin_start": -0.31169607755876716,
            "bin_end": -0.28078442453053465,
            "count": 0
           },
           {
            "bin_start": -0.28078442453053465,
            "bin_end": -0.24987277150230214,
            "count": 0
           },
           {
            "bin_start": -0.24987277150230214,
            "bin_end": -0.21896111847406963,
            "count": 0
           },
           {
            "bin_start": -0.21896111847406963,
            "bin_end": -0.18804946544583712,
            "count": 0
           },
           {
            "bin_start": -0.18804946544583712,
            "bin_end": -0.1571378124176046,
            "count": 1
           },
           {
            "bin_start": -0.1571378124176046,
            "bin_end": -0.1262261593893721,
            "count": 0
           },
           {
            "bin_start": -0.1262261593893721,
            "bin_end": -0.09531450636113958,
            "count": 0
           },
           {
            "bin_start": -0.09531450636113958,
            "bin_end": -0.06440285333290707,
            "count": 0
           },
           {
            "bin_start": -0.06440285333290707,
            "bin_end": -0.03349120030467456,
            "count": 1
           }
          ]
         }
        },
        {
         "name": "_deepnote_index_column",
         "dtype": "int64"
        }
       ],
       "rows_top": [
        {
         "a": 0.5311469392002977,
         "b": 2.2063653165351607,
         "a.1": "nan",
         "b.1": "nan",
         "_deepnote_index_column": 0
        },
        {
         "a": 1.2734437468895687,
         "b": 0.5840149628379376,
         "a.1": "nan",
         "b.1": "nan",
         "_deepnote_index_column": 1
        },
        {
         "a": 7.619771004244257,
         "b": 5.597232297689851,
         "a.1": -0.917822871062348,
         "b.1": -0.34260773058699967,
         "_deepnote_index_column": 2
        },
        {
         "a": "nan",
         "b": "nan",
         "a.1": -0.5000288439898549,
         "b.1": -0.03349120030467456,
         "_deepnote_index_column": 3
        },
        {
         "a": "nan",
         "b": "nan",
         "a.1": -0.45662163881201234,
         "b.1": -0.1635513797690593,
         "_deepnote_index_column": 4
        }
       ],
       "rows_bottom": null
      },
      "text/plain": "          a         b         a         b\n0  0.531147  2.206365       NaN       NaN\n1  1.273444  0.584015       NaN       NaN\n2  7.619771  5.597232 -0.917823 -0.342608\n3       NaN       NaN -0.500029 -0.033491\n4       NaN       NaN -0.456622 -0.163551",
      "text/html": "<div>\n<style scoped>\n    .dataframe tbody tr th:only-of-type {\n        vertical-align: middle;\n    }\n\n    .dataframe tbody tr th {\n        vertical-align: top;\n    }\n\n    .dataframe thead th {\n        text-align: right;\n    }\n</style>\n<table border=\"1\" class=\"dataframe\">\n  <thead>\n    <tr style=\"text-align: right;\">\n      <th></th>\n      <th>a</th>\n      <th>b</th>\n      <th>a</th>\n      <th>b</th>\n    </tr>\n  </thead>\n  <tbody>\n    <tr>\n      <th>0</th>\n      <td>0.531147</td>\n      <td>2.206365</td>\n      <td>NaN</td>\n      <td>NaN</td>\n    </tr>\n    <tr>\n      <th>1</th>\n      <td>1.273444</td>\n      <td>0.584015</td>\n      <td>NaN</td>\n      <td>NaN</td>\n    </tr>\n    <tr>\n      <th>2</th>\n      <td>7.619771</td>\n      <td>5.597232</td>\n      <td>-0.917823</td>\n      <td>-0.342608</td>\n    </tr>\n    <tr>\n      <th>3</th>\n      <td>NaN</td>\n      <td>NaN</td>\n      <td>-0.500029</td>\n      <td>-0.033491</td>\n    </tr>\n    <tr>\n      <th>4</th>\n      <td>NaN</td>\n      <td>NaN</td>\n      <td>-0.456622</td>\n      <td>-0.163551</td>\n    </tr>\n  </tbody>\n</table>\n</div>"
     },
     "metadata": {}
    }
   ],
   "execution_count": 55
  },
  {
   "cell_type": "markdown",
   "source": "## Guardar solo los indices que comparten los DataFrames",
   "metadata": {
    "tags": [],
    "cell_id": "00015-4179a7d2-8204-45d6-b064-a9255b401cee",
    "deepnote_cell_type": "markdown"
   }
  },
  {
   "cell_type": "code",
   "source": "pd.concat([df1,df2], axis=1, join='inner')",
   "metadata": {
    "tags": [],
    "cell_id": "00015-6d71fd14-8686-439c-ba77-f9c272bc5ddb",
    "deepnote_to_be_reexecuted": false,
    "source_hash": "37762bad",
    "execution_start": 1625080823744,
    "execution_millis": 35,
    "deepnote_cell_type": "code"
   },
   "outputs": [
    {
     "output_type": "execute_result",
     "execution_count": 56,
     "data": {
      "application/vnd.deepnote.dataframe.v2+json": {
       "row_count": 1,
       "column_count": 4,
       "columns": [
        {
         "name": "a",
         "dtype": "float64",
         "stats": {
          "unique_count": 1,
          "nan_count": 0,
          "min": "7.619771004244257",
          "max": "7.619771004244257",
          "histogram": [
           {
            "bin_start": 7.119771004244257,
            "bin_end": 7.219771004244256,
            "count": 0
           },
           {
            "bin_start": 7.219771004244256,
            "bin_end": 7.319771004244257,
            "count": 0
           },
           {
            "bin_start": 7.319771004244257,
            "bin_end": 7.419771004244256,
            "count": 0
           },
           {
            "bin_start": 7.419771004244256,
            "bin_end": 7.519771004244257,
            "count": 0
           },
           {
            "bin_start": 7.519771004244257,
            "bin_end": 7.619771004244257,
            "count": 0
           },
           {
            "bin_start": 7.619771004244257,
            "bin_end": 7.719771004244256,
            "count": 1
           },
           {
            "bin_start": 7.719771004244256,
            "bin_end": 7.819771004244257,
            "count": 0
           },
           {
            "bin_start": 7.819771004244257,
            "bin_end": 7.919771004244256,
            "count": 0
           },
           {
            "bin_start": 7.919771004244256,
            "bin_end": 8.019771004244257,
            "count": 0
           },
           {
            "bin_start": 8.019771004244257,
            "bin_end": 8.119771004244257,
            "count": 0
           }
          ]
         }
        },
        {
         "name": "b",
         "dtype": "float64",
         "stats": {
          "unique_count": 1,
          "nan_count": 0,
          "min": "5.597232297689851",
          "max": "5.597232297689851",
          "histogram": [
           {
            "bin_start": 5.097232297689851,
            "bin_end": 5.197232297689851,
            "count": 0
           },
           {
            "bin_start": 5.197232297689851,
            "bin_end": 5.297232297689852,
            "count": 0
           },
           {
            "bin_start": 5.297232297689852,
            "bin_end": 5.397232297689851,
            "count": 0
           },
           {
            "bin_start": 5.397232297689851,
            "bin_end": 5.497232297689852,
            "count": 0
           },
           {
            "bin_start": 5.497232297689852,
            "bin_end": 5.597232297689851,
            "count": 0
           },
           {
            "bin_start": 5.597232297689851,
            "bin_end": 5.697232297689851,
            "count": 1
           },
           {
            "bin_start": 5.697232297689851,
            "bin_end": 5.797232297689852,
            "count": 0
           },
           {
            "bin_start": 5.797232297689852,
            "bin_end": 5.897232297689851,
            "count": 0
           },
           {
            "bin_start": 5.897232297689851,
            "bin_end": 5.997232297689852,
            "count": 0
           },
           {
            "bin_start": 5.997232297689852,
            "bin_end": 6.097232297689851,
            "count": 0
           }
          ]
         }
        },
        {
         "name": "a.1",
         "dtype": "float64",
         "stats": {
          "unique_count": 1,
          "nan_count": 0,
          "min": "-0.917822871062348",
          "max": "-0.917822871062348",
          "histogram": [
           {
            "bin_start": -1.417822871062348,
            "bin_end": -1.3178228710623479,
            "count": 0
           },
           {
            "bin_start": -1.3178228710623479,
            "bin_end": -1.217822871062348,
            "count": 0
           },
           {
            "bin_start": -1.217822871062348,
            "bin_end": -1.117822871062348,
            "count": 0
           },
           {
            "bin_start": -1.117822871062348,
            "bin_end": -1.0178228710623478,
            "count": 0
           },
           {
            "bin_start": -1.0178228710623478,
            "bin_end": -0.917822871062348,
            "count": 0
           },
           {
            "bin_start": -0.917822871062348,
            "bin_end": -0.8178228710623479,
            "count": 1
           },
           {
            "bin_start": -0.8178228710623479,
            "bin_end": -0.7178228710623479,
            "count": 0
           },
           {
            "bin_start": -0.7178228710623479,
            "bin_end": -0.6178228710623479,
            "count": 0
           },
           {
            "bin_start": -0.6178228710623479,
            "bin_end": -0.5178228710623479,
            "count": 0
           },
           {
            "bin_start": -0.5178228710623479,
            "bin_end": -0.41782287106234794,
            "count": 0
           }
          ]
         }
        },
        {
         "name": "b.1",
         "dtype": "float64",
         "stats": {
          "unique_count": 1,
          "nan_count": 0,
          "min": "-0.34260773058699967",
          "max": "-0.34260773058699967",
          "histogram": [
           {
            "bin_start": -0.8426077305869997,
            "bin_end": -0.7426077305869997,
            "count": 0
           },
           {
            "bin_start": -0.7426077305869997,
            "bin_end": -0.6426077305869997,
            "count": 0
           },
           {
            "bin_start": -0.6426077305869997,
            "bin_end": -0.5426077305869996,
            "count": 0
           },
           {
            "bin_start": -0.5426077305869996,
            "bin_end": -0.44260773058699965,
            "count": 0
           },
           {
            "bin_start": -0.44260773058699965,
            "bin_end": -0.34260773058699967,
            "count": 0
           },
           {
            "bin_start": -0.34260773058699967,
            "bin_end": -0.24260773058699958,
            "count": 1
           },
           {
            "bin_start": -0.24260773058699958,
            "bin_end": -0.1426077305869996,
            "count": 0
           },
           {
            "bin_start": -0.1426077305869996,
            "bin_end": -0.042607730586999626,
            "count": 0
           },
           {
            "bin_start": -0.042607730586999626,
            "bin_end": 0.05739226941300035,
            "count": 0
           },
           {
            "bin_start": 0.05739226941300035,
            "bin_end": 0.15739226941300033,
            "count": 0
           }
          ]
         }
        },
        {
         "name": "_deepnote_index_column",
         "dtype": "int64"
        }
       ],
       "rows_top": [
        {
         "a": 7.619771004244257,
         "b": 5.597232297689851,
         "a.1": -0.917822871062348,
         "b.1": -0.34260773058699967,
         "_deepnote_index_column": 2
        }
       ],
       "rows_bottom": null
      },
      "text/plain": "          a         b         a         b\n2  7.619771  5.597232 -0.917823 -0.342608",
      "text/html": "<div>\n<style scoped>\n    .dataframe tbody tr th:only-of-type {\n        vertical-align: middle;\n    }\n\n    .dataframe tbody tr th {\n        vertical-align: top;\n    }\n\n    .dataframe thead th {\n        text-align: right;\n    }\n</style>\n<table border=\"1\" class=\"dataframe\">\n  <thead>\n    <tr style=\"text-align: right;\">\n      <th></th>\n      <th>a</th>\n      <th>b</th>\n      <th>a</th>\n      <th>b</th>\n    </tr>\n  </thead>\n  <tbody>\n    <tr>\n      <th>2</th>\n      <td>7.619771</td>\n      <td>5.597232</td>\n      <td>-0.917823</td>\n      <td>-0.342608</td>\n    </tr>\n  </tbody>\n</table>\n</div>"
     },
     "metadata": {}
    }
   ],
   "execution_count": 56
  },
  {
   "cell_type": "code",
   "source": "pd.concat([\n    df1.reset_index(drop=True),\n    df2.reset_index(drop=True)\n], axis=1)",
   "metadata": {
    "tags": [],
    "cell_id": "00017-e43a2938-d1e2-4ac0-9fef-a0efdf14e93b",
    "deepnote_to_be_reexecuted": false,
    "source_hash": "6b12005d",
    "execution_start": 1625080938918,
    "execution_millis": 9,
    "deepnote_cell_type": "code"
   },
   "outputs": [
    {
     "output_type": "execute_result",
     "execution_count": 58,
     "data": {
      "application/vnd.deepnote.dataframe.v2+json": {
       "row_count": 3,
       "column_count": 4,
       "columns": [
        {
         "name": "a",
         "dtype": "float64",
         "stats": {
          "unique_count": 3,
          "nan_count": 0,
          "min": "0.5311469392002977",
          "max": "7.619771004244257",
          "histogram": [
           {
            "bin_start": 0.5311469392002977,
            "bin_end": 1.2400093457046935,
            "count": 1
           },
           {
            "bin_start": 1.2400093457046935,
            "bin_end": 1.9488717522090895,
            "count": 1
           },
           {
            "bin_start": 1.9488717522090895,
            "bin_end": 2.6577341587134855,
            "count": 0
           },
           {
            "bin_start": 2.6577341587134855,
            "bin_end": 3.3665965652178813,
            "count": 0
           },
           {
            "bin_start": 3.3665965652178813,
            "bin_end": 4.075458971722277,
            "count": 0
           },
           {
            "bin_start": 4.075458971722277,
            "bin_end": 4.784321378226673,
            "count": 0
           },
           {
            "bin_start": 4.784321378226673,
            "bin_end": 5.493183784731069,
            "count": 0
           },
           {
            "bin_start": 5.493183784731069,
            "bin_end": 6.202046191235465,
            "count": 0
           },
           {
            "bin_start": 6.202046191235465,
            "bin_end": 6.910908597739861,
            "count": 0
           },
           {
            "bin_start": 6.910908597739861,
            "bin_end": 7.619771004244257,
            "count": 1
           }
          ]
         }
        },
        {
         "name": "b",
         "dtype": "float64",
         "stats": {
          "unique_count": 3,
          "nan_count": 0,
          "min": "0.5840149628379376",
          "max": "5.597232297689851",
          "histogram": [
           {
            "bin_start": 0.5840149628379376,
            "bin_end": 1.085336696323129,
            "count": 1
           },
           {
            "bin_start": 1.085336696323129,
            "bin_end": 1.5866584298083204,
            "count": 0
           },
           {
            "bin_start": 1.5866584298083204,
            "bin_end": 2.087980163293512,
            "count": 0
           },
           {
            "bin_start": 2.087980163293512,
            "bin_end": 2.589301896778703,
            "count": 1
           },
           {
            "bin_start": 2.589301896778703,
            "bin_end": 3.0906236302638947,
            "count": 0
           },
           {
            "bin_start": 3.0906236302638947,
            "bin_end": 3.591945363749086,
            "count": 0
           },
           {
            "bin_start": 3.591945363749086,
            "bin_end": 4.093267097234277,
            "count": 0
           },
           {
            "bin_start": 4.093267097234277,
            "bin_end": 4.594588830719468,
            "count": 0
           },
           {
            "bin_start": 4.594588830719468,
            "bin_end": 5.09591056420466,
            "count": 0
           },
           {
            "bin_start": 5.09591056420466,
            "bin_end": 5.597232297689851,
            "count": 1
           }
          ]
         }
        },
        {
         "name": "a.1",
         "dtype": "float64",
         "stats": {
          "unique_count": 3,
          "nan_count": 0,
          "min": "-0.917822871062348",
          "max": "-0.45662163881201234",
          "histogram": [
           {
            "bin_start": -0.917822871062348,
            "bin_end": -0.8717027478373144,
            "count": 1
           },
           {
            "bin_start": -0.8717027478373144,
            "bin_end": -0.8255826246122808,
            "count": 0
           },
           {
            "bin_start": -0.8255826246122808,
            "bin_end": -0.7794625013872473,
            "count": 0
           },
           {
            "bin_start": -0.7794625013872473,
            "bin_end": -0.7333423781622137,
            "count": 0
           },
           {
            "bin_start": -0.7333423781622137,
            "bin_end": -0.6872222549371801,
            "count": 0
           },
           {
            "bin_start": -0.6872222549371801,
            "bin_end": -0.6411021317121466,
            "count": 0
           },
           {
            "bin_start": -0.6411021317121466,
            "bin_end": -0.594982008487113,
            "count": 0
           },
           {
            "bin_start": -0.594982008487113,
            "bin_end": -0.5488618852620795,
            "count": 0
           },
           {
            "bin_start": -0.5488618852620795,
            "bin_end": -0.5027417620370459,
            "count": 0
           },
           {
            "bin_start": -0.5027417620370459,
            "bin_end": -0.45662163881201234,
            "count": 2
           }
          ]
         }
        },
        {
         "name": "b.1",
         "dtype": "float64",
         "stats": {
          "unique_count": 3,
          "nan_count": 0,
          "min": "-0.34260773058699967",
          "max": "-0.03349120030467456",
          "histogram": [
           {
            "bin_start": -0.34260773058699967,
            "bin_end": -0.31169607755876716,
            "count": 1
           },
           {
            "bin_start": -0.31169607755876716,
            "bin_end": -0.28078442453053465,
            "count": 0
           },
           {
            "bin_start": -0.28078442453053465,
            "bin_end": -0.24987277150230214,
            "count": 0
           },
           {
            "bin_start": -0.24987277150230214,
            "bin_end": -0.21896111847406963,
            "count": 0
           },
           {
            "bin_start": -0.21896111847406963,
            "bin_end": -0.18804946544583712,
            "count": 0
           },
           {
            "bin_start": -0.18804946544583712,
            "bin_end": -0.1571378124176046,
            "count": 1
           },
           {
            "bin_start": -0.1571378124176046,
            "bin_end": -0.1262261593893721,
            "count": 0
           },
           {
            "bin_start": -0.1262261593893721,
            "bin_end": -0.09531450636113958,
            "count": 0
           },
           {
            "bin_start": -0.09531450636113958,
            "bin_end": -0.06440285333290707,
            "count": 0
           },
           {
            "bin_start": -0.06440285333290707,
            "bin_end": -0.03349120030467456,
            "count": 1
           }
          ]
         }
        },
        {
         "name": "_deepnote_index_column",
         "dtype": "int64"
        }
       ],
       "rows_top": [
        {
         "a": 0.5311469392002977,
         "b": 2.2063653165351607,
         "a.1": -0.917822871062348,
         "b.1": -0.34260773058699967,
         "_deepnote_index_column": 0
        },
        {
         "a": 1.2734437468895687,
         "b": 0.5840149628379376,
         "a.1": -0.5000288439898549,
         "b.1": -0.03349120030467456,
         "_deepnote_index_column": 1
        },
        {
         "a": 7.619771004244257,
         "b": 5.597232297689851,
         "a.1": -0.45662163881201234,
         "b.1": -0.1635513797690593,
         "_deepnote_index_column": 2
        }
       ],
       "rows_bottom": null
      },
      "text/plain": "          a         b         a         b\n0  0.531147  2.206365 -0.917823 -0.342608\n1  1.273444  0.584015 -0.500029 -0.033491\n2  7.619771  5.597232 -0.456622 -0.163551",
      "text/html": "<div>\n<style scoped>\n    .dataframe tbody tr th:only-of-type {\n        vertical-align: middle;\n    }\n\n    .dataframe tbody tr th {\n        vertical-align: top;\n    }\n\n    .dataframe thead th {\n        text-align: right;\n    }\n</style>\n<table border=\"1\" class=\"dataframe\">\n  <thead>\n    <tr style=\"text-align: right;\">\n      <th></th>\n      <th>a</th>\n      <th>b</th>\n      <th>a</th>\n      <th>b</th>\n    </tr>\n  </thead>\n  <tbody>\n    <tr>\n      <th>0</th>\n      <td>0.531147</td>\n      <td>2.206365</td>\n      <td>-0.917823</td>\n      <td>-0.342608</td>\n    </tr>\n    <tr>\n      <th>1</th>\n      <td>1.273444</td>\n      <td>0.584015</td>\n      <td>-0.500029</td>\n      <td>-0.033491</td>\n    </tr>\n    <tr>\n      <th>2</th>\n      <td>7.619771</td>\n      <td>5.597232</td>\n      <td>-0.456622</td>\n      <td>-0.163551</td>\n    </tr>\n  </tbody>\n</table>\n</div>"
     },
     "metadata": {}
    }
   ],
   "execution_count": 58
  },
  {
   "cell_type": "markdown",
   "source": "## Append : Se puede pegar multiples DataFrames",
   "metadata": {
    "tags": [],
    "cell_id": "00018-4aca8abc-27e5-43e3-9a12-fd78539b7bff",
    "deepnote_cell_type": "markdown"
   }
  },
  {
   "cell_type": "code",
   "source": "df1.append(df2).append(df1)",
   "metadata": {
    "tags": [],
    "cell_id": "00018-fcc590d1-720c-45c3-8105-1031339617c2",
    "deepnote_to_be_reexecuted": false,
    "source_hash": "49f7e7bc",
    "execution_start": 1625081027195,
    "execution_millis": 13,
    "deepnote_cell_type": "code"
   },
   "outputs": [
    {
     "output_type": "execute_result",
     "execution_count": 60,
     "data": {
      "application/vnd.deepnote.dataframe.v2+json": {
       "row_count": 9,
       "column_count": 2,
       "columns": [
        {
         "name": "a",
         "dtype": "float64",
         "stats": {
          "unique_count": 6,
          "nan_count": 0,
          "min": "-0.917822871062348",
          "max": "7.619771004244257",
          "histogram": [
           {
            "bin_start": -0.917822871062348,
            "bin_end": -0.06406348353168745,
            "count": 3
           },
           {
            "bin_start": -0.06406348353168745,
            "bin_end": 0.789695903998973,
            "count": 2
           },
           {
            "bin_start": 0.789695903998973,
            "bin_end": 1.6434552915296334,
            "count": 2
           },
           {
            "bin_start": 1.6434552915296334,
            "bin_end": 2.497214679060294,
            "count": 0
           },
           {
            "bin_start": 2.497214679060294,
            "bin_end": 3.350974066590955,
            "count": 0
           },
           {
            "bin_start": 3.350974066590955,
            "bin_end": 4.204733454121615,
            "count": 0
           },
           {
            "bin_start": 4.204733454121615,
            "bin_end": 5.058492841652276,
            "count": 0
           },
           {
            "bin_start": 5.058492841652276,
            "bin_end": 5.912252229182936,
            "count": 0
           },
           {
            "bin_start": 5.912252229182936,
            "bin_end": 6.766011616713596,
            "count": 0
           },
           {
            "bin_start": 6.766011616713596,
            "bin_end": 7.619771004244257,
            "count": 2
           }
          ]
         }
        },
        {
         "name": "b",
         "dtype": "float64",
         "stats": {
          "unique_count": 6,
          "nan_count": 0,
          "min": "-0.34260773058699967",
          "max": "5.597232297689851",
          "histogram": [
           {
            "bin_start": -0.34260773058699967,
            "bin_end": 0.2513762722406855,
            "count": 3
           },
           {
            "bin_start": 0.2513762722406855,
            "bin_end": 0.8453602750683706,
            "count": 2
           },
           {
            "bin_start": 0.8453602750683706,
            "bin_end": 1.439344277896056,
            "count": 0
           },
           {
            "bin_start": 1.439344277896056,
            "bin_end": 2.033328280723741,
            "count": 0
           },
           {
            "bin_start": 2.033328280723741,
            "bin_end": 2.6273122835514258,
            "count": 2
           },
           {
            "bin_start": 2.6273122835514258,
            "bin_end": 3.2212962863791113,
            "count": 0
           },
           {
            "bin_start": 3.2212962863791113,
            "bin_end": 3.815280289206796,
            "count": 0
           },
           {
            "bin_start": 3.815280289206796,
            "bin_end": 4.409264292034481,
            "count": 0
           },
           {
            "bin_start": 4.409264292034481,
            "bin_end": 5.003248294862167,
            "count": 0
           },
           {
            "bin_start": 5.003248294862167,
            "bin_end": 5.597232297689851,
            "count": 2
           }
          ]
         }
        },
        {
         "name": "_deepnote_index_column",
         "dtype": "int64"
        }
       ],
       "rows_top": [
        {
         "a": "0.5311469392002977",
         "b": "2.2063653165351607",
         "_deepnote_index_column": "0"
        },
        {
         "a": "1.2734437468895687",
         "b": "0.5840149628379376",
         "_deepnote_index_column": "1"
        },
        {
         "a": "7.619771004244257",
         "b": "5.597232297689851",
         "_deepnote_index_column": "2"
        },
        {
         "a": "-0.917822871062348",
         "b": "-0.34260773058699967",
         "_deepnote_index_column": "2"
        },
        {
         "a": "-0.5000288439898549",
         "b": "-0.03349120030467456",
         "_deepnote_index_column": "3"
        },
        {
         "a": "-0.45662163881201234",
         "b": "-0.1635513797690593",
         "_deepnote_index_column": "4"
        },
        {
         "a": "0.5311469392002977",
         "b": "2.2063653165351607",
         "_deepnote_index_column": "0"
        },
        {
         "a": "1.2734437468895687",
         "b": "0.5840149628379376",
         "_deepnote_index_column": "1"
        },
        {
         "a": "7.619771004244257",
         "b": "5.597232297689851",
         "_deepnote_index_column": "2"
        }
       ],
       "rows_bottom": null
      },
      "text/plain": "          a         b\n0  0.531147  2.206365\n1  1.273444  0.584015\n2  7.619771  5.597232\n2 -0.917823 -0.342608\n3 -0.500029 -0.033491\n4 -0.456622 -0.163551\n0  0.531147  2.206365\n1  1.273444  0.584015\n2  7.619771  5.597232",
      "text/html": "<div>\n<style scoped>\n    .dataframe tbody tr th:only-of-type {\n        vertical-align: middle;\n    }\n\n    .dataframe tbody tr th {\n        vertical-align: top;\n    }\n\n    .dataframe thead th {\n        text-align: right;\n    }\n</style>\n<table border=\"1\" class=\"dataframe\">\n  <thead>\n    <tr style=\"text-align: right;\">\n      <th></th>\n      <th>a</th>\n      <th>b</th>\n    </tr>\n  </thead>\n  <tbody>\n    <tr>\n      <th>0</th>\n      <td>0.531147</td>\n      <td>2.206365</td>\n    </tr>\n    <tr>\n      <th>1</th>\n      <td>1.273444</td>\n      <td>0.584015</td>\n    </tr>\n    <tr>\n      <th>2</th>\n      <td>7.619771</td>\n      <td>5.597232</td>\n    </tr>\n    <tr>\n      <th>2</th>\n      <td>-0.917823</td>\n      <td>-0.342608</td>\n    </tr>\n    <tr>\n      <th>3</th>\n      <td>-0.500029</td>\n      <td>-0.033491</td>\n    </tr>\n    <tr>\n      <th>4</th>\n      <td>-0.456622</td>\n      <td>-0.163551</td>\n    </tr>\n    <tr>\n      <th>0</th>\n      <td>0.531147</td>\n      <td>2.206365</td>\n    </tr>\n    <tr>\n      <th>1</th>\n      <td>1.273444</td>\n      <td>0.584015</td>\n    </tr>\n    <tr>\n      <th>2</th>\n      <td>7.619771</td>\n      <td>5.597232</td>\n    </tr>\n  </tbody>\n</table>\n</div>"
     },
     "metadata": {}
    }
   ],
   "execution_count": 60
  },
  {
   "cell_type": "markdown",
   "source": "Append a lo largo de los ejes de las **columnas** debemos usar las Traspuesta del DataFrame.",
   "metadata": {
    "tags": [],
    "cell_id": "00020-c7791415-01d6-4849-af56-9e3072145cdf",
    "deepnote_cell_type": "markdown"
   }
  },
  {
   "cell_type": "code",
   "source": "df1.T.append(df2.T).T",
   "metadata": {
    "tags": [],
    "cell_id": "00021-50a53e23-eb8d-4f93-9bd3-be825bd33180",
    "deepnote_to_be_reexecuted": false,
    "source_hash": "83507dab",
    "execution_start": 1625081127110,
    "execution_millis": 10,
    "deepnote_cell_type": "code"
   },
   "outputs": [
    {
     "output_type": "execute_result",
     "execution_count": 61,
     "data": {
      "application/vnd.deepnote.dataframe.v2+json": {
       "row_count": 5,
       "column_count": 4,
       "columns": [
        {
         "name": "a",
         "dtype": "float64",
         "stats": {
          "unique_count": 3,
          "nan_count": 2,
          "min": "0.5311469392002977",
          "max": "7.619771004244257",
          "histogram": [
           {
            "bin_start": 0.5311469392002977,
            "bin_end": 1.2400093457046935,
            "count": 1
           },
           {
            "bin_start": 1.2400093457046935,
            "bin_end": 1.9488717522090895,
            "count": 1
           },
           {
            "bin_start": 1.9488717522090895,
            "bin_end": 2.6577341587134855,
            "count": 0
           },
           {
            "bin_start": 2.6577341587134855,
            "bin_end": 3.3665965652178813,
            "count": 0
           },
           {
            "bin_start": 3.3665965652178813,
            "bin_end": 4.075458971722277,
            "count": 0
           },
           {
            "bin_start": 4.075458971722277,
            "bin_end": 4.784321378226673,
            "count": 0
           },
           {
            "bin_start": 4.784321378226673,
            "bin_end": 5.493183784731069,
            "count": 0
           },
           {
            "bin_start": 5.493183784731069,
            "bin_end": 6.202046191235465,
            "count": 0
           },
           {
            "bin_start": 6.202046191235465,
            "bin_end": 6.910908597739861,
            "count": 0
           },
           {
            "bin_start": 6.910908597739861,
            "bin_end": 7.619771004244257,
            "count": 1
           }
          ]
         }
        },
        {
         "name": "b",
         "dtype": "float64",
         "stats": {
          "unique_count": 3,
          "nan_count": 2,
          "min": "0.5840149628379376",
          "max": "5.597232297689851",
          "histogram": [
           {
            "bin_start": 0.5840149628379376,
            "bin_end": 1.085336696323129,
            "count": 1
           },
           {
            "bin_start": 1.085336696323129,
            "bin_end": 1.5866584298083204,
            "count": 0
           },
           {
            "bin_start": 1.5866584298083204,
            "bin_end": 2.087980163293512,
            "count": 0
           },
           {
            "bin_start": 2.087980163293512,
            "bin_end": 2.589301896778703,
            "count": 1
           },
           {
            "bin_start": 2.589301896778703,
            "bin_end": 3.0906236302638947,
            "count": 0
           },
           {
            "bin_start": 3.0906236302638947,
            "bin_end": 3.591945363749086,
            "count": 0
           },
           {
            "bin_start": 3.591945363749086,
            "bin_end": 4.093267097234277,
            "count": 0
           },
           {
            "bin_start": 4.093267097234277,
            "bin_end": 4.594588830719468,
            "count": 0
           },
           {
            "bin_start": 4.594588830719468,
            "bin_end": 5.09591056420466,
            "count": 0
           },
           {
            "bin_start": 5.09591056420466,
            "bin_end": 5.597232297689851,
            "count": 1
           }
          ]
         }
        },
        {
         "name": "a.1",
         "dtype": "float64",
         "stats": {
          "unique_count": 3,
          "nan_count": 2,
          "min": "-0.917822871062348",
          "max": "-0.45662163881201234",
          "histogram": [
           {
            "bin_start": -0.917822871062348,
            "bin_end": -0.8717027478373144,
            "count": 1
           },
           {
            "bin_start": -0.8717027478373144,
            "bin_end": -0.8255826246122808,
            "count": 0
           },
           {
            "bin_start": -0.8255826246122808,
            "bin_end": -0.7794625013872473,
            "count": 0
           },
           {
            "bin_start": -0.7794625013872473,
            "bin_end": -0.7333423781622137,
            "count": 0
           },
           {
            "bin_start": -0.7333423781622137,
            "bin_end": -0.6872222549371801,
            "count": 0
           },
           {
            "bin_start": -0.6872222549371801,
            "bin_end": -0.6411021317121466,
            "count": 0
           },
           {
            "bin_start": -0.6411021317121466,
            "bin_end": -0.594982008487113,
            "count": 0
           },
           {
            "bin_start": -0.594982008487113,
            "bin_end": -0.5488618852620795,
            "count": 0
           },
           {
            "bin_start": -0.5488618852620795,
            "bin_end": -0.5027417620370459,
            "count": 0
           },
           {
            "bin_start": -0.5027417620370459,
            "bin_end": -0.45662163881201234,
            "count": 2
           }
          ]
         }
        },
        {
         "name": "b.1",
         "dtype": "float64",
         "stats": {
          "unique_count": 3,
          "nan_count": 2,
          "min": "-0.34260773058699967",
          "max": "-0.03349120030467456",
          "histogram": [
           {
            "bin_start": -0.34260773058699967,
            "bin_end": -0.31169607755876716,
            "count": 1
           },
           {
            "bin_start": -0.31169607755876716,
            "bin_end": -0.28078442453053465,
            "count": 0
           },
           {
            "bin_start": -0.28078442453053465,
            "bin_end": -0.24987277150230214,
            "count": 0
           },
           {
            "bin_start": -0.24987277150230214,
            "bin_end": -0.21896111847406963,
            "count": 0
           },
           {
            "bin_start": -0.21896111847406963,
            "bin_end": -0.18804946544583712,
            "count": 0
           },
           {
            "bin_start": -0.18804946544583712,
            "bin_end": -0.1571378124176046,
            "count": 1
           },
           {
            "bin_start": -0.1571378124176046,
            "bin_end": -0.1262261593893721,
            "count": 0
           },
           {
            "bin_start": -0.1262261593893721,
            "bin_end": -0.09531450636113958,
            "count": 0
           },
           {
            "bin_start": -0.09531450636113958,
            "bin_end": -0.06440285333290707,
            "count": 0
           },
           {
            "bin_start": -0.06440285333290707,
            "bin_end": -0.03349120030467456,
            "count": 1
           }
          ]
         }
        },
        {
         "name": "_deepnote_index_column",
         "dtype": "int64"
        }
       ],
       "rows_top": [
        {
         "a": 0.5311469392002977,
         "b": 2.2063653165351607,
         "a.1": "nan",
         "b.1": "nan",
         "_deepnote_index_column": 0
        },
        {
         "a": 1.2734437468895687,
         "b": 0.5840149628379376,
         "a.1": "nan",
         "b.1": "nan",
         "_deepnote_index_column": 1
        },
        {
         "a": 7.619771004244257,
         "b": 5.597232297689851,
         "a.1": -0.917822871062348,
         "b.1": -0.34260773058699967,
         "_deepnote_index_column": 2
        },
        {
         "a": "nan",
         "b": "nan",
         "a.1": -0.5000288439898549,
         "b.1": -0.03349120030467456,
         "_deepnote_index_column": 3
        },
        {
         "a": "nan",
         "b": "nan",
         "a.1": -0.45662163881201234,
         "b.1": -0.1635513797690593,
         "_deepnote_index_column": 4
        }
       ],
       "rows_bottom": null
      },
      "text/plain": "          a         b         a         b\n0  0.531147  2.206365       NaN       NaN\n1  1.273444  0.584015       NaN       NaN\n2  7.619771  5.597232 -0.917823 -0.342608\n3       NaN       NaN -0.500029 -0.033491\n4       NaN       NaN -0.456622 -0.163551",
      "text/html": "<div>\n<style scoped>\n    .dataframe tbody tr th:only-of-type {\n        vertical-align: middle;\n    }\n\n    .dataframe tbody tr th {\n        vertical-align: top;\n    }\n\n    .dataframe thead th {\n        text-align: right;\n    }\n</style>\n<table border=\"1\" class=\"dataframe\">\n  <thead>\n    <tr style=\"text-align: right;\">\n      <th></th>\n      <th>a</th>\n      <th>b</th>\n      <th>a</th>\n      <th>b</th>\n    </tr>\n  </thead>\n  <tbody>\n    <tr>\n      <th>0</th>\n      <td>0.531147</td>\n      <td>2.206365</td>\n      <td>NaN</td>\n      <td>NaN</td>\n    </tr>\n    <tr>\n      <th>1</th>\n      <td>1.273444</td>\n      <td>0.584015</td>\n      <td>NaN</td>\n      <td>NaN</td>\n    </tr>\n    <tr>\n      <th>2</th>\n      <td>7.619771</td>\n      <td>5.597232</td>\n      <td>-0.917823</td>\n      <td>-0.342608</td>\n    </tr>\n    <tr>\n      <th>3</th>\n      <td>NaN</td>\n      <td>NaN</td>\n      <td>-0.500029</td>\n      <td>-0.033491</td>\n    </tr>\n    <tr>\n      <th>4</th>\n      <td>NaN</td>\n      <td>NaN</td>\n      <td>-0.456622</td>\n      <td>-0.163551</td>\n    </tr>\n  </tbody>\n</table>\n</div>"
     },
     "metadata": {}
    }
   ],
   "execution_count": 61
  },
  {
   "cell_type": "markdown",
   "source": "<a style='text-decoration:none;line-height:16px;display:flex;color:#5B5B62;padding:10px;justify-content:end;' href='https://deepnote.com?utm_source=created-in-deepnote-cell&projectId=40d7a071-7e6a-4668-9914-a7e81441c111' target=\"_blank\">\n<img alt='Created in deepnote.com' style='display:inline;max-height:16px;margin:0px;margin-right:7.5px;' src='data:image/svg+xml;base64,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' > </img>\nCreated in <span style='font-weight:600;margin-left:4px;'>Deepnote</span></a>",
   "metadata": {
    "tags": [],
    "created_in_deepnote_cell": true,
    "deepnote_cell_type": "markdown"
   }
  }
 ],
 "nbformat": 4,
 "nbformat_minor": 2,
 "metadata": {
  "orig_nbformat": 2,
  "deepnote": {
   "is_reactive": false
  },
  "deepnote_notebook_id": "53005142-99f7-4473-a7b8-0d460b63467e",
  "deepnote_execution_queue": []
 }
}