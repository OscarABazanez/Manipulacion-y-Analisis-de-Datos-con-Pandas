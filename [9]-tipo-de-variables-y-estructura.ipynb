{
 "cells": [
  {
   "cell_type": "code",
   "metadata": {
    "tags": [],
    "cell_id": "00000-dc3f51ae-6a53-4d24-9f24-8d0ea27b5430",
    "deepnote_to_be_reexecuted": false,
    "source_hash": "9b82ee11",
    "execution_start": 1624905525957,
    "execution_millis": 13,
    "deepnote_cell_type": "code"
   },
   "source": "import pandas as pd",
   "outputs": [],
   "execution_count": 13
  },
  {
   "cell_type": "code",
   "metadata": {
    "tags": [],
    "cell_id": "00001-25548aba-411f-4805-b229-e339d485cd36",
    "deepnote_to_be_reexecuted": false,
    "source_hash": "bf01c574",
    "execution_start": 1624905528469,
    "execution_millis": 244,
    "deepnote_cell_type": "code"
   },
   "source": "df_meteorites = pd.read_csv('db/Meteorite_Landings.csv')\ndf_meteorites.tail(2) #Ver los ultimos registros\ndf_meteorites.sample(3) #Muestra registros aleatorios",
   "outputs": [
    {
     "output_type": "execute_result",
     "execution_count": 14,
     "data": {
      "application/vnd.deepnote.dataframe.v2+json": {
       "row_count": 3,
       "column_count": 10,
       "columns": [
        {
         "name": "name",
         "dtype": "object",
         "stats": {
          "unique_count": 3,
          "nan_count": 0,
          "categories": [
           {
            "name": "Pecora Escarpment 91011",
            "count": 1
           },
           {
            "name": "Dhofar 071",
            "count": 1
           },
           {
            "name": "Larkman Nunatak 06549",
            "count": 1
           }
          ]
         }
        },
        {
         "name": "id",
         "dtype": "int64",
         "stats": {
          "unique_count": 3,
          "nan_count": 0,
          "min": "6770",
          "max": "47475",
          "histogram": [
           {
            "bin_start": 6770,
            "bin_end": 10840.5,
            "count": 1
           },
           {
            "bin_start": 10840.5,
            "bin_end": 14911,
            "count": 0
           },
           {
            "bin_start": 14911,
            "bin_end": 18981.5,
            "count": 1
           },
           {
            "bin_start": 18981.5,
            "bin_end": 23052,
            "count": 0
           },
           {
            "bin_start": 23052,
            "bin_end": 27122.5,
            "count": 0
           },
           {
            "bin_start": 27122.5,
            "bin_end": 31193,
            "count": 0
           },
           {
            "bin_start": 31193,
            "bin_end": 35263.5,
            "count": 0
           },
           {
            "bin_start": 35263.5,
            "bin_end": 39334,
            "count": 0
           },
           {
            "bin_start": 39334,
            "bin_end": 43404.5,
            "count": 0
           },
           {
            "bin_start": 43404.5,
            "bin_end": 47475,
            "count": 1
           }
          ]
         }
        },
        {
         "name": "nametype",
         "dtype": "object",
         "stats": {
          "unique_count": 1,
          "nan_count": 0,
          "categories": [
           {
            "name": "Valid",
            "count": 3
           }
          ]
         }
        },
        {
         "name": "recclass",
         "dtype": "object",
         "stats": {
          "unique_count": 3,
          "nan_count": 0,
          "categories": [
           {
            "name": "L5",
            "count": 1
           },
           {
            "name": "L6",
            "count": 1
           },
           {
            "name": "H6",
            "count": 1
           }
          ]
         }
        },
        {
         "name": "mass (g)",
         "dtype": "float64",
         "stats": {
          "unique_count": 3,
          "nan_count": 0,
          "min": "19.3",
          "max": "7272.6",
          "histogram": [
           {
            "bin_start": 19.3,
            "bin_end": 744.63,
            "count": 2
           },
           {
            "bin_start": 744.63,
            "bin_end": 1469.96,
            "count": 0
           },
           {
            "bin_start": 1469.96,
            "bin_end": 2195.2900000000004,
            "count": 0
           },
           {
            "bin_start": 2195.2900000000004,
            "bin_end": 2920.6200000000003,
            "count": 0
           },
           {
            "bin_start": 2920.6200000000003,
            "bin_end": 3645.9500000000003,
            "count": 0
           },
           {
            "bin_start": 3645.9500000000003,
            "bin_end": 4371.280000000001,
            "count": 0
           },
           {
            "bin_start": 4371.280000000001,
            "bin_end": 5096.610000000001,
            "count": 0
           },
           {
            "bin_start": 5096.610000000001,
            "bin_end": 5821.9400000000005,
            "count": 0
           },
           {
            "bin_start": 5821.9400000000005,
            "bin_end": 6547.27,
            "count": 0
           },
           {
            "bin_start": 6547.27,
            "bin_end": 7272.6,
            "count": 1
           }
          ]
         }
        },
        {
         "name": "fall",
         "dtype": "object",
         "stats": {
          "unique_count": 1,
          "nan_count": 0,
          "categories": [
           {
            "name": "Found",
            "count": 3
           }
          ]
         }
        },
        {
         "name": "year",
         "dtype": "object",
         "stats": {
          "unique_count": 3,
          "nan_count": 0,
          "categories": [
           {
            "name": "01/01/1991 12:00:00 AM",
            "count": 1
           },
           {
            "name": "01/01/1999 12:00:00 AM",
            "count": 1
           },
           {
            "name": "01/01/2006 12:00:00 AM",
            "count": 1
           }
          ]
         }
        },
        {
         "name": "reclat",
         "dtype": "float64",
         "stats": {
          "unique_count": 2,
          "nan_count": 1,
          "min": "-85.67367",
          "max": "19.15367",
          "histogram": [
           {
            "bin_start": -85.67367,
            "bin_end": -75.190936,
            "count": 1
           },
           {
            "bin_start": -75.190936,
            "bin_end": -64.708202,
            "count": 0
           },
           {
            "bin_start": -64.708202,
            "bin_end": -54.225468,
            "count": 0
           },
           {
            "bin_start": -54.225468,
            "bin_end": -43.742734,
            "count": 0
           },
           {
            "bin_start": -43.742734,
            "bin_end": -33.26,
            "count": 0
           },
           {
            "bin_start": -33.26,
            "bin_end": -22.777265999999997,
            "count": 0
           },
           {
            "bin_start": -22.777265999999997,
            "bin_end": -12.29453199999999,
            "count": 0
           },
           {
            "bin_start": -12.29453199999999,
            "bin_end": -1.811797999999996,
            "count": 0
           },
           {
            "bin_start": -1.811797999999996,
            "bin_end": 8.670935999999998,
            "count": 0
           },
           {
            "bin_start": 8.670935999999998,
            "bin_end": 19.15367,
            "count": 1
           }
          ]
         }
        },
        {
         "name": "reclong",
         "dtype": "float64",
         "stats": {
          "unique_count": 2,
          "nan_count": 1,
          "min": "-69.02959",
          "max": "54.85367",
          "histogram": [
           {
            "bin_start": -69.02959,
            "bin_end": -56.641264,
            "count": 1
           },
           {
            "bin_start": -56.641264,
            "bin_end": -44.252938,
            "count": 0
           },
           {
            "bin_start": -44.252938,
            "bin_end": -31.864611999999994,
            "count": 0
           },
           {
            "bin_start": -31.864611999999994,
            "bin_end": -19.476285999999995,
            "count": 0
           },
           {
            "bin_start": -19.476285999999995,
            "bin_end": -7.087959999999995,
            "count": 0
           },
           {
            "bin_start": -7.087959999999995,
            "bin_end": 5.300366000000011,
            "count": 0
           },
           {
            "bin_start": 5.300366000000011,
            "bin_end": 17.688692000000003,
            "count": 0
           },
           {
            "bin_start": 17.688692000000003,
            "bin_end": 30.07701800000001,
            "count": 0
           },
           {
            "bin_start": 30.07701800000001,
            "bin_end": 42.465344000000016,
            "count": 0
           },
           {
            "bin_start": 42.465344000000016,
            "bin_end": 54.85367,
            "count": 1
           }
          ]
         }
        },
        {
         "name": "GeoLocation",
         "dtype": "object",
         "stats": {
          "unique_count": 2,
          "nan_count": 1,
          "categories": [
           {
            "name": "(-85.67367, -69.02959)",
            "count": 1
           },
           {
            "name": "(19.15367, 54.85367)",
            "count": 1
           },
           {
            "name": "Missing",
            "count": 1
           }
          ]
         }
        },
        {
         "name": "_deepnote_index_column",
         "dtype": "int64"
        }
       ],
       "rows_top": [
        {
         "name": "Pecora Escarpment 91011",
         "id": 18302,
         "nametype": "Valid",
         "recclass": "L5",
         "mass (g)": 7272.6,
         "fall": "Found",
         "year": "01/01/1991 12:00:00 AM",
         "reclat": -85.67367,
         "reclong": -69.02959,
         "GeoLocation": "(-85.67367, -69.02959)",
         "_deepnote_index_column": 31495
        },
        {
         "name": "Dhofar 071",
         "id": 6770,
         "nametype": "Valid",
         "recclass": "L6",
         "mass (g)": 135,
         "fall": "Found",
         "year": "01/01/1999 12:00:00 AM",
         "reclat": 19.15367,
         "reclong": 54.85367,
         "GeoLocation": "(19.15367, 54.85367)",
         "_deepnote_index_column": 6966
        },
        {
         "name": "Larkman Nunatak 06549",
         "id": 47475,
         "nametype": "Valid",
         "recclass": "H6",
         "mass (g)": 19.3,
         "fall": "Found",
         "year": "01/01/2006 12:00:00 AM",
         "reclat": "nan",
         "reclong": "nan",
         "GeoLocation": "nan",
         "_deepnote_index_column": 19389
        }
       ],
       "rows_bottom": null
      },
      "text/plain": "                          name     id nametype recclass  mass (g)   fall  \\\n31495  Pecora Escarpment 91011  18302    Valid       L5    7272.6  Found   \n6966                Dhofar 071   6770    Valid       L6     135.0  Found   \n19389    Larkman Nunatak 06549  47475    Valid       H6      19.3  Found   \n\n                         year    reclat   reclong             GeoLocation  \n31495  01/01/1991 12:00:00 AM -85.67367 -69.02959  (-85.67367, -69.02959)  \n6966   01/01/1999 12:00:00 AM  19.15367  54.85367    (19.15367, 54.85367)  \n19389  01/01/2006 12:00:00 AM       NaN       NaN                     NaN  ",
      "text/html": "<div>\n<style scoped>\n    .dataframe tbody tr th:only-of-type {\n        vertical-align: middle;\n    }\n\n    .dataframe tbody tr th {\n        vertical-align: top;\n    }\n\n    .dataframe thead th {\n        text-align: right;\n    }\n</style>\n<table border=\"1\" class=\"dataframe\">\n  <thead>\n    <tr style=\"text-align: right;\">\n      <th></th>\n      <th>name</th>\n      <th>id</th>\n      <th>nametype</th>\n      <th>recclass</th>\n      <th>mass (g)</th>\n      <th>fall</th>\n      <th>year</th>\n      <th>reclat</th>\n      <th>reclong</th>\n      <th>GeoLocation</th>\n    </tr>\n  </thead>\n  <tbody>\n    <tr>\n      <th>31495</th>\n      <td>Pecora Escarpment 91011</td>\n      <td>18302</td>\n      <td>Valid</td>\n      <td>L5</td>\n      <td>7272.6</td>\n      <td>Found</td>\n      <td>01/01/1991 12:00:00 AM</td>\n      <td>-85.67367</td>\n      <td>-69.02959</td>\n      <td>(-85.67367, -69.02959)</td>\n    </tr>\n    <tr>\n      <th>6966</th>\n      <td>Dhofar 071</td>\n      <td>6770</td>\n      <td>Valid</td>\n      <td>L6</td>\n      <td>135.0</td>\n      <td>Found</td>\n      <td>01/01/1999 12:00:00 AM</td>\n      <td>19.15367</td>\n      <td>54.85367</td>\n      <td>(19.15367, 54.85367)</td>\n    </tr>\n    <tr>\n      <th>19389</th>\n      <td>Larkman Nunatak 06549</td>\n      <td>47475</td>\n      <td>Valid</td>\n      <td>H6</td>\n      <td>19.3</td>\n      <td>Found</td>\n      <td>01/01/2006 12:00:00 AM</td>\n      <td>NaN</td>\n      <td>NaN</td>\n      <td>NaN</td>\n    </tr>\n  </tbody>\n</table>\n</div>"
     },
     "metadata": {}
    }
   ],
   "execution_count": 14
  },
  {
   "cell_type": "markdown",
   "source": "# Tipos de variables en un DataFrame\n## Muestra la cantidad de filas y de columans tiene el Data Frame",
   "metadata": {
    "tags": [],
    "cell_id": "00002-3520f76a-8af4-49c8-80e8-8eeacfda0d7a",
    "deepnote_cell_type": "markdown"
   }
  },
  {
   "cell_type": "code",
   "metadata": {
    "tags": [],
    "cell_id": "00002-ff5585e6-dbdc-4fd4-9f10-426f3f2f9806",
    "deepnote_to_be_reexecuted": false,
    "source_hash": "4f5b9c51",
    "execution_start": 1624905607383,
    "execution_millis": 13,
    "deepnote_cell_type": "code"
   },
   "source": "df_meteorites.shape",
   "outputs": [
    {
     "output_type": "execute_result",
     "execution_count": 17,
     "data": {
      "text/plain": "(45716, 10)"
     },
     "metadata": {}
    }
   ],
   "execution_count": 17
  },
  {
   "cell_type": "markdown",
   "source": "## Muestra la cantidad de registros que tiene el DataFrame",
   "metadata": {
    "tags": [],
    "cell_id": "00004-6c7e7bc8-3f47-4ec7-94b3-56e09c1e3e49",
    "deepnote_cell_type": "markdown"
   }
  },
  {
   "cell_type": "code",
   "metadata": {
    "tags": [],
    "cell_id": "00003-4ab3a386-3860-4b4b-8e87-17d14490d9d5",
    "deepnote_to_be_reexecuted": false,
    "source_hash": "bcb90767",
    "execution_start": 1624905660987,
    "execution_millis": 14,
    "deepnote_cell_type": "code"
   },
   "source": "df_meteorites.size",
   "outputs": [
    {
     "output_type": "execute_result",
     "execution_count": 18,
     "data": {
      "text/plain": "457160"
     },
     "metadata": {}
    }
   ],
   "execution_count": 18
  },
  {
   "cell_type": "code",
   "metadata": {
    "tags": [],
    "cell_id": "00004-b4d6e288-5415-4ac4-88a1-49ec36169880",
    "deepnote_to_be_reexecuted": false,
    "source_hash": "a1ef7f8d",
    "execution_start": 1624906422264,
    "execution_millis": 70,
    "deepnote_cell_type": "code"
   },
   "source": "df_meteorites.describe()",
   "outputs": [
    {
     "output_type": "execute_result",
     "execution_count": 44,
     "data": {
      "application/vnd.deepnote.dataframe.v2+json": {
       "row_count": 8,
       "column_count": 4,
       "columns": [
        {
         "name": "id",
         "dtype": "float64",
         "stats": {
          "unique_count": 8,
          "nan_count": 0,
          "min": "1.0",
          "max": "57458.0",
          "histogram": [
           {
            "bin_start": 1,
            "bin_end": 5746.7,
            "count": 1
           },
           {
            "bin_start": 5746.7,
            "bin_end": 11492.4,
            "count": 0
           },
           {
            "bin_start": 11492.4,
            "bin_end": 17238.1,
            "count": 2
           },
           {
            "bin_start": 17238.1,
            "bin_end": 22983.8,
            "count": 0
           },
           {
            "bin_start": 22983.8,
            "bin_end": 28729.5,
            "count": 2
           },
           {
            "bin_start": 28729.5,
            "bin_end": 34475.2,
            "count": 0
           },
           {
            "bin_start": 34475.2,
            "bin_end": 40220.9,
            "count": 0
           },
           {
            "bin_start": 40220.9,
            "bin_end": 45966.6,
            "count": 2
           },
           {
            "bin_start": 45966.6,
            "bin_end": 51712.299999999996,
            "count": 0
           },
           {
            "bin_start": 51712.299999999996,
            "bin_end": 57458,
            "count": 1
           }
          ]
         }
        },
        {
         "name": "mass (g)",
         "dtype": "float64",
         "stats": {
          "unique_count": 8,
          "nan_count": 0,
          "min": "0.0",
          "max": "60000000.0",
          "histogram": [
           {
            "bin_start": 0,
            "bin_end": 6000000,
            "count": 7
           },
           {
            "bin_start": 6000000,
            "bin_end": 12000000,
            "count": 0
           },
           {
            "bin_start": 12000000,
            "bin_end": 18000000,
            "count": 0
           },
           {
            "bin_start": 18000000,
            "bin_end": 24000000,
            "count": 0
           },
           {
            "bin_start": 24000000,
            "bin_end": 30000000,
            "count": 0
           },
           {
            "bin_start": 30000000,
            "bin_end": 36000000,
            "count": 0
           },
           {
            "bin_start": 36000000,
            "bin_end": 42000000,
            "count": 0
           },
           {
            "bin_start": 42000000,
            "bin_end": 48000000,
            "count": 0
           },
           {
            "bin_start": 48000000,
            "bin_end": 54000000,
            "count": 0
           },
           {
            "bin_start": 54000000,
            "bin_end": 60000000,
            "count": 1
           }
          ]
         }
        },
        {
         "name": "reclat",
         "dtype": "float64",
         "stats": {
          "unique_count": 8,
          "nan_count": 0,
          "min": "-87.36667",
          "max": "38401.0",
          "histogram": [
           {
            "bin_start": -87.36667,
            "bin_end": 3761.4699970000006,
            "count": 7
           },
           {
            "bin_start": 3761.4699970000006,
            "bin_end": 7610.306664000001,
            "count": 0
           },
           {
            "bin_start": 7610.306664000001,
            "bin_end": 11459.143331000003,
            "count": 0
           },
           {
            "bin_start": 11459.143331000003,
            "bin_end": 15307.979998000003,
            "count": 0
           },
           {
            "bin_start": 15307.979998000003,
            "bin_end": 19156.816665000002,
            "count": 0
           },
           {
            "bin_start": 19156.816665000002,
            "bin_end": 23005.653332000005,
            "count": 0
           },
           {
            "bin_start": 23005.653332000005,
            "bin_end": 26854.489999000005,
            "count": 0
           },
           {
            "bin_start": 26854.489999000005,
            "bin_end": 30703.326666000004,
            "count": 0
           },
           {
            "bin_start": 30703.326666000004,
            "bin_end": 34552.163333000004,
            "count": 0
           },
           {
            "bin_start": 34552.163333000004,
            "bin_end": 38401,
            "count": 1
           }
          ]
         }
        },
        {
         "name": "reclong",
         "dtype": "float64",
         "stats": {
          "unique_count": 8,
          "nan_count": 0,
          "min": "-165.43333",
          "max": "38401.0",
          "histogram": [
           {
            "bin_start": -165.43333,
            "bin_end": 3691.210003,
            "count": 7
           },
           {
            "bin_start": 3691.210003,
            "bin_end": 7547.853336,
            "count": 0
           },
           {
            "bin_start": 7547.853336,
            "bin_end": 11404.496669,
            "count": 0
           },
           {
            "bin_start": 11404.496669,
            "bin_end": 15261.140002,
            "count": 0
           },
           {
            "bin_start": 15261.140002,
            "bin_end": 19117.783335,
            "count": 0
           },
           {
            "bin_start": 19117.783335,
            "bin_end": 22974.426668,
            "count": 0
           },
           {
            "bin_start": 22974.426668,
            "bin_end": 26831.070001,
            "count": 0
           },
           {
            "bin_start": 26831.070001,
            "bin_end": 30687.713334,
            "count": 0
           },
           {
            "bin_start": 30687.713334,
            "bin_end": 34544.356667,
            "count": 0
           },
           {
            "bin_start": 34544.356667,
            "bin_end": 38401,
            "count": 1
           }
          ]
         }
        },
        {
         "name": "_deepnote_index_column",
         "dtype": "object"
        }
       ],
       "rows_top": [
        {
         "id": 45716,
         "mass (g)": 45585,
         "reclat": 38401,
         "reclong": 38401,
         "_deepnote_index_column": "count"
        },
        {
         "id": 26889.73510368361,
         "mass (g)": 13278.078548601512,
         "reclat": -39.12258031142418,
         "reclong": 61.074318526236304,
         "_deepnote_index_column": "mean"
        },
        {
         "id": 16860.683030276337,
         "mass (g)": 574988.876410473,
         "reclat": 46.37851135669318,
         "reclong": 80.64729807908505,
         "_deepnote_index_column": "std"
        },
        {
         "id": 1,
         "mass (g)": 0,
         "reclat": -87.36667,
         "reclong": -165.43333,
         "_deepnote_index_column": "min"
        },
        {
         "id": 12688.75,
         "mass (g)": 7.2,
         "reclat": -76.71424,
         "reclong": 0,
         "_deepnote_index_column": "25%"
        },
        {
         "id": 24261.5,
         "mass (g)": 32.6,
         "reclat": -71.5,
         "reclong": 35.66667,
         "_deepnote_index_column": "50%"
        },
        {
         "id": 40656.75,
         "mass (g)": 202.6,
         "reclat": 0,
         "reclong": 157.16667,
         "_deepnote_index_column": "75%"
        },
        {
         "id": 57458,
         "mass (g)": 60000000,
         "reclat": 81.16667,
         "reclong": 354.47333,
         "_deepnote_index_column": "max"
        }
       ],
       "rows_bottom": null
      },
      "text/plain": "            id     mass (g)   reclat  reclong\ncount 45,716.0     45,585.0 38,401.0 38,401.0\nmean  26,889.7     13,278.1    -39.1     61.1\nstd   16,860.7    574,988.9     46.4     80.6\nmin        1.0          0.0    -87.4   -165.4\n25%   12,688.8          7.2    -76.7      0.0\n50%   24,261.5         32.6    -71.5     35.7\n75%   40,656.8        202.6      0.0    157.2\nmax   57,458.0 60,000,000.0     81.2    354.5",
      "text/html": "<div>\n<style scoped>\n    .dataframe tbody tr th:only-of-type {\n        vertical-align: middle;\n    }\n\n    .dataframe tbody tr th {\n        vertical-align: top;\n    }\n\n    .dataframe thead th {\n        text-align: right;\n    }\n</style>\n<table border=\"1\" class=\"dataframe\">\n  <thead>\n    <tr style=\"text-align: right;\">\n      <th></th>\n      <th>id</th>\n      <th>mass (g)</th>\n      <th>reclat</th>\n      <th>reclong</th>\n    </tr>\n  </thead>\n  <tbody>\n    <tr>\n      <th>count</th>\n      <td>45,716.0</td>\n      <td>45,585.0</td>\n      <td>38,401.0</td>\n      <td>38,401.0</td>\n    </tr>\n    <tr>\n      <th>mean</th>\n      <td>26,889.7</td>\n      <td>13,278.1</td>\n      <td>-39.1</td>\n      <td>61.1</td>\n    </tr>\n    <tr>\n      <th>std</th>\n      <td>16,860.7</td>\n      <td>574,988.9</td>\n      <td>46.4</td>\n      <td>80.6</td>\n    </tr>\n    <tr>\n      <th>min</th>\n      <td>1.0</td>\n      <td>0.0</td>\n      <td>-87.4</td>\n      <td>-165.4</td>\n    </tr>\n    <tr>\n      <th>25%</th>\n      <td>12,688.8</td>\n      <td>7.2</td>\n      <td>-76.7</td>\n      <td>0.0</td>\n    </tr>\n    <tr>\n      <th>50%</th>\n      <td>24,261.5</td>\n      <td>32.6</td>\n      <td>-71.5</td>\n      <td>35.7</td>\n    </tr>\n    <tr>\n      <th>75%</th>\n      <td>40,656.8</td>\n      <td>202.6</td>\n      <td>0.0</td>\n      <td>157.2</td>\n    </tr>\n    <tr>\n      <th>max</th>\n      <td>57,458.0</td>\n      <td>60,000,000.0</td>\n      <td>81.2</td>\n      <td>354.5</td>\n    </tr>\n  </tbody>\n</table>\n</div>"
     },
     "metadata": {}
    }
   ],
   "execution_count": 44
  },
  {
   "cell_type": "markdown",
   "source": "## Modifica las decimales que puede tener el DataFrame.",
   "metadata": {
    "tags": [],
    "cell_id": "00007-ec29928f-15fa-4298-a2ba-bb9bafda468a",
    "deepnote_cell_type": "markdown"
   }
  },
  {
   "cell_type": "code",
   "metadata": {
    "tags": [],
    "cell_id": "00008-a0661253-dde3-4c6b-a6b0-117331e78778",
    "deepnote_to_be_reexecuted": false,
    "source_hash": "46b07e48",
    "execution_start": 1624906466399,
    "execution_millis": 91,
    "deepnote_cell_type": "code"
   },
   "source": "pd.options.display.float_format='{:,.2f}'.format\ndf_meteorites.describe()",
   "outputs": [
    {
     "output_type": "execute_result",
     "execution_count": 50,
     "data": {
      "application/vnd.deepnote.dataframe.v2+json": {
       "row_count": 8,
       "column_count": 4,
       "columns": [
        {
         "name": "id",
         "dtype": "float64",
         "stats": {
          "unique_count": 8,
          "nan_count": 0,
          "min": "1.0",
          "max": "57458.0",
          "histogram": [
           {
            "bin_start": 1,
            "bin_end": 5746.7,
            "count": 1
           },
           {
            "bin_start": 5746.7,
            "bin_end": 11492.4,
            "count": 0
           },
           {
            "bin_start": 11492.4,
            "bin_end": 17238.1,
            "count": 2
           },
           {
            "bin_start": 17238.1,
            "bin_end": 22983.8,
            "count": 0
           },
           {
            "bin_start": 22983.8,
            "bin_end": 28729.5,
            "count": 2
           },
           {
            "bin_start": 28729.5,
            "bin_end": 34475.2,
            "count": 0
           },
           {
            "bin_start": 34475.2,
            "bin_end": 40220.9,
            "count": 0
           },
           {
            "bin_start": 40220.9,
            "bin_end": 45966.6,
            "count": 2
           },
           {
            "bin_start": 45966.6,
            "bin_end": 51712.299999999996,
            "count": 0
           },
           {
            "bin_start": 51712.299999999996,
            "bin_end": 57458,
            "count": 1
           }
          ]
         }
        },
        {
         "name": "mass (g)",
         "dtype": "float64",
         "stats": {
          "unique_count": 8,
          "nan_count": 0,
          "min": "0.0",
          "max": "60000000.0",
          "histogram": [
           {
            "bin_start": 0,
            "bin_end": 6000000,
            "count": 7
           },
           {
            "bin_start": 6000000,
            "bin_end": 12000000,
            "count": 0
           },
           {
            "bin_start": 12000000,
            "bin_end": 18000000,
            "count": 0
           },
           {
            "bin_start": 18000000,
            "bin_end": 24000000,
            "count": 0
           },
           {
            "bin_start": 24000000,
            "bin_end": 30000000,
            "count": 0
           },
           {
            "bin_start": 30000000,
            "bin_end": 36000000,
            "count": 0
           },
           {
            "bin_start": 36000000,
            "bin_end": 42000000,
            "count": 0
           },
           {
            "bin_start": 42000000,
            "bin_end": 48000000,
            "count": 0
           },
           {
            "bin_start": 48000000,
            "bin_end": 54000000,
            "count": 0
           },
           {
            "bin_start": 54000000,
            "bin_end": 60000000,
            "count": 1
           }
          ]
         }
        },
        {
         "name": "reclat",
         "dtype": "float64",
         "stats": {
          "unique_count": 8,
          "nan_count": 0,
          "min": "-87.36667",
          "max": "38401.0",
          "histogram": [
           {
            "bin_start": -87.36667,
            "bin_end": 3761.4699970000006,
            "count": 7
           },
           {
            "bin_start": 3761.4699970000006,
            "bin_end": 7610.306664000001,
            "count": 0
           },
           {
            "bin_start": 7610.306664000001,
            "bin_end": 11459.143331000003,
            "count": 0
           },
           {
            "bin_start": 11459.143331000003,
            "bin_end": 15307.979998000003,
            "count": 0
           },
           {
            "bin_start": 15307.979998000003,
            "bin_end": 19156.816665000002,
            "count": 0
           },
           {
            "bin_start": 19156.816665000002,
            "bin_end": 23005.653332000005,
            "count": 0
           },
           {
            "bin_start": 23005.653332000005,
            "bin_end": 26854.489999000005,
            "count": 0
           },
           {
            "bin_start": 26854.489999000005,
            "bin_end": 30703.326666000004,
            "count": 0
           },
           {
            "bin_start": 30703.326666000004,
            "bin_end": 34552.163333000004,
            "count": 0
           },
           {
            "bin_start": 34552.163333000004,
            "bin_end": 38401,
            "count": 1
           }
          ]
         }
        },
        {
         "name": "reclong",
         "dtype": "float64",
         "stats": {
          "unique_count": 8,
          "nan_count": 0,
          "min": "-165.43333",
          "max": "38401.0",
          "histogram": [
           {
            "bin_start": -165.43333,
            "bin_end": 3691.210003,
            "count": 7
           },
           {
            "bin_start": 3691.210003,
            "bin_end": 7547.853336,
            "count": 0
           },
           {
            "bin_start": 7547.853336,
            "bin_end": 11404.496669,
            "count": 0
           },
           {
            "bin_start": 11404.496669,
            "bin_end": 15261.140002,
            "count": 0
           },
           {
            "bin_start": 15261.140002,
            "bin_end": 19117.783335,
            "count": 0
           },
           {
            "bin_start": 19117.783335,
            "bin_end": 22974.426668,
            "count": 0
           },
           {
            "bin_start": 22974.426668,
            "bin_end": 26831.070001,
            "count": 0
           },
           {
            "bin_start": 26831.070001,
            "bin_end": 30687.713334,
            "count": 0
           },
           {
            "bin_start": 30687.713334,
            "bin_end": 34544.356667,
            "count": 0
           },
           {
            "bin_start": 34544.356667,
            "bin_end": 38401,
            "count": 1
           }
          ]
         }
        },
        {
         "name": "_deepnote_index_column",
         "dtype": "object"
        }
       ],
       "rows_top": [
        {
         "id": 45716,
         "mass (g)": 45585,
         "reclat": 38401,
         "reclong": 38401,
         "_deepnote_index_column": "count"
        },
        {
         "id": 26889.73510368361,
         "mass (g)": 13278.078548601512,
         "reclat": -39.12258031142418,
         "reclong": 61.074318526236304,
         "_deepnote_index_column": "mean"
        },
        {
         "id": 16860.683030276337,
         "mass (g)": 574988.876410473,
         "reclat": 46.37851135669318,
         "reclong": 80.64729807908505,
         "_deepnote_index_column": "std"
        },
        {
         "id": 1,
         "mass (g)": 0,
         "reclat": -87.36667,
         "reclong": -165.43333,
         "_deepnote_index_column": "min"
        },
        {
         "id": 12688.75,
         "mass (g)": 7.2,
         "reclat": -76.71424,
         "reclong": 0,
         "_deepnote_index_column": "25%"
        },
        {
         "id": 24261.5,
         "mass (g)": 32.6,
         "reclat": -71.5,
         "reclong": 35.66667,
         "_deepnote_index_column": "50%"
        },
        {
         "id": 40656.75,
         "mass (g)": 202.6,
         "reclat": 0,
         "reclong": 157.16667,
         "_deepnote_index_column": "75%"
        },
        {
         "id": 57458,
         "mass (g)": 60000000,
         "reclat": 81.16667,
         "reclong": 354.47333,
         "_deepnote_index_column": "max"
        }
       ],
       "rows_bottom": null
      },
      "text/plain": "             id      mass (g)    reclat   reclong\ncount 45,716.00     45,585.00 38,401.00 38,401.00\nmean  26,889.74     13,278.08    -39.12     61.07\nstd   16,860.68    574,988.88     46.38     80.65\nmin        1.00          0.00    -87.37   -165.43\n25%   12,688.75          7.20    -76.71      0.00\n50%   24,261.50         32.60    -71.50     35.67\n75%   40,656.75        202.60      0.00    157.17\nmax   57,458.00 60,000,000.00     81.17    354.47",
      "text/html": "<div>\n<style scoped>\n    .dataframe tbody tr th:only-of-type {\n        vertical-align: middle;\n    }\n\n    .dataframe tbody tr th {\n        vertical-align: top;\n    }\n\n    .dataframe thead th {\n        text-align: right;\n    }\n</style>\n<table border=\"1\" class=\"dataframe\">\n  <thead>\n    <tr style=\"text-align: right;\">\n      <th></th>\n      <th>id</th>\n      <th>mass (g)</th>\n      <th>reclat</th>\n      <th>reclong</th>\n    </tr>\n  </thead>\n  <tbody>\n    <tr>\n      <th>count</th>\n      <td>45,716.00</td>\n      <td>45,585.00</td>\n      <td>38,401.00</td>\n      <td>38,401.00</td>\n    </tr>\n    <tr>\n      <th>mean</th>\n      <td>26,889.74</td>\n      <td>13,278.08</td>\n      <td>-39.12</td>\n      <td>61.07</td>\n    </tr>\n    <tr>\n      <th>std</th>\n      <td>16,860.68</td>\n      <td>574,988.88</td>\n      <td>46.38</td>\n      <td>80.65</td>\n    </tr>\n    <tr>\n      <th>min</th>\n      <td>1.00</td>\n      <td>0.00</td>\n      <td>-87.37</td>\n      <td>-165.43</td>\n    </tr>\n    <tr>\n      <th>25%</th>\n      <td>12,688.75</td>\n      <td>7.20</td>\n      <td>-76.71</td>\n      <td>0.00</td>\n    </tr>\n    <tr>\n      <th>50%</th>\n      <td>24,261.50</td>\n      <td>32.60</td>\n      <td>-71.50</td>\n      <td>35.67</td>\n    </tr>\n    <tr>\n      <th>75%</th>\n      <td>40,656.75</td>\n      <td>202.60</td>\n      <td>0.00</td>\n      <td>157.17</td>\n    </tr>\n    <tr>\n      <th>max</th>\n      <td>57,458.00</td>\n      <td>60,000,000.00</td>\n      <td>81.17</td>\n      <td>354.47</td>\n    </tr>\n  </tbody>\n</table>\n</div>"
     },
     "metadata": {}
    }
   ],
   "execution_count": 50
  },
  {
   "cell_type": "markdown",
   "source": "## Para una visualizacion mas compleja con describe(include='all')",
   "metadata": {
    "tags": [],
    "cell_id": "00009-5d7d2491-f49e-4bfc-9489-a2936ec3f57a",
    "deepnote_cell_type": "markdown"
   }
  },
  {
   "cell_type": "code",
   "metadata": {
    "tags": [],
    "cell_id": "00009-aacfaf8c-ebc2-497b-8073-b4bd111f9633",
    "deepnote_to_be_reexecuted": false,
    "source_hash": "4abfd473",
    "execution_start": 1624906022430,
    "execution_millis": 126,
    "deepnote_cell_type": "code"
   },
   "source": "df_meteorites.describe(include='all')",
   "outputs": [
    {
     "output_type": "execute_result",
     "execution_count": 32,
     "data": {
      "application/vnd.deepnote.dataframe.v2+json": {
       "row_count": 11,
       "column_count": 10,
       "columns": [
        {
         "name": "name",
         "dtype": "object",
         "stats": {
          "unique_count": 3,
          "nan_count": 7,
          "categories": [
           {
            "name": "45716",
            "count": 2
           },
           {
            "name": "2 others",
            "count": 2
           },
           {
            "name": "Missing",
            "count": 7
           }
          ]
         }
        },
        {
         "name": "id",
         "dtype": "float64",
         "stats": {
          "unique_count": 8,
          "nan_count": 3,
          "min": "1.0",
          "max": "57458.0",
          "histogram": [
           {
            "bin_start": 1,
            "bin_end": 5746.7,
            "count": 1
           },
           {
            "bin_start": 5746.7,
            "bin_end": 11492.4,
            "count": 0
           },
           {
            "bin_start": 11492.4,
            "bin_end": 17238.1,
            "count": 2
           },
           {
            "bin_start": 17238.1,
            "bin_end": 22983.8,
            "count": 0
           },
           {
            "bin_start": 22983.8,
            "bin_end": 28729.5,
            "count": 2
           },
           {
            "bin_start": 28729.5,
            "bin_end": 34475.2,
            "count": 0
           },
           {
            "bin_start": 34475.2,
            "bin_end": 40220.9,
            "count": 0
           },
           {
            "bin_start": 40220.9,
            "bin_end": 45966.6,
            "count": 2
           },
           {
            "bin_start": 45966.6,
            "bin_end": 51712.299999999996,
            "count": 0
           },
           {
            "bin_start": 51712.299999999996,
            "bin_end": 57458,
            "count": 1
           }
          ]
         }
        },
        {
         "name": "nametype",
         "dtype": "object",
         "stats": {
          "unique_count": 4,
          "nan_count": 7,
          "categories": [
           {
            "name": "45716",
            "count": 1
           },
           {
            "name": "3 others",
            "count": 3
           },
           {
            "name": "Missing",
            "count": 7
           }
          ]
         }
        },
        {
         "name": "recclass",
         "dtype": "object",
         "stats": {
          "unique_count": 4,
          "nan_count": 7,
          "categories": [
           {
            "name": "45716",
            "count": 1
           },
           {
            "name": "3 others",
            "count": 3
           },
           {
            "name": "Missing",
            "count": 7
           }
          ]
         }
        },
        {
         "name": "mass (g)",
         "dtype": "float64",
         "stats": {
          "unique_count": 8,
          "nan_count": 3,
          "min": "0.0",
          "max": "60000000.0",
          "histogram": [
           {
            "bin_start": 0,
            "bin_end": 6000000,
            "count": 7
           },
           {
            "bin_start": 6000000,
            "bin_end": 12000000,
            "count": 0
           },
           {
            "bin_start": 12000000,
            "bin_end": 18000000,
            "count": 0
           },
           {
            "bin_start": 18000000,
            "bin_end": 24000000,
            "count": 0
           },
           {
            "bin_start": 24000000,
            "bin_end": 30000000,
            "count": 0
           },
           {
            "bin_start": 30000000,
            "bin_end": 36000000,
            "count": 0
           },
           {
            "bin_start": 36000000,
            "bin_end": 42000000,
            "count": 0
           },
           {
            "bin_start": 42000000,
            "bin_end": 48000000,
            "count": 0
           },
           {
            "bin_start": 48000000,
            "bin_end": 54000000,
            "count": 0
           },
           {
            "bin_start": 54000000,
            "bin_end": 60000000,
            "count": 1
           }
          ]
         }
        },
        {
         "name": "fall",
         "dtype": "object",
         "stats": {
          "unique_count": 4,
          "nan_count": 7,
          "categories": [
           {
            "name": "45716",
            "count": 1
           },
           {
            "name": "3 others",
            "count": 3
           },
           {
            "name": "Missing",
            "count": 7
           }
          ]
         }
        },
        {
         "name": "year",
         "dtype": "object",
         "stats": {
          "unique_count": 4,
          "nan_count": 7,
          "categories": [
           {
            "name": "45425",
            "count": 1
           },
           {
            "name": "3 others",
            "count": 3
           },
           {
            "name": "Missing",
            "count": 7
           }
          ]
         }
        },
        {
         "name": "reclat",
         "dtype": "float64",
         "stats": {
          "unique_count": 8,
          "nan_count": 3,
          "min": "-87.36667",
          "max": "38401.0",
          "histogram": [
           {
            "bin_start": -87.36667,
            "bin_end": 3761.4699970000006,
            "count": 7
           },
           {
            "bin_start": 3761.4699970000006,
            "bin_end": 7610.306664000001,
            "count": 0
           },
           {
            "bin_start": 7610.306664000001,
            "bin_end": 11459.143331000003,
            "count": 0
           },
           {
            "bin_start": 11459.143331000003,
            "bin_end": 15307.979998000003,
            "count": 0
           },
           {
            "bin_start": 15307.979998000003,
            "bin_end": 19156.816665000002,
            "count": 0
           },
           {
            "bin_start": 19156.816665000002,
            "bin_end": 23005.653332000005,
            "count": 0
           },
           {
            "bin_start": 23005.653332000005,
            "bin_end": 26854.489999000005,
            "count": 0
           },
           {
            "bin_start": 26854.489999000005,
            "bin_end": 30703.326666000004,
            "count": 0
           },
           {
            "bin_start": 30703.326666000004,
            "bin_end": 34552.163333000004,
            "count": 0
           },
           {
            "bin_start": 34552.163333000004,
            "bin_end": 38401,
            "count": 1
           }
          ]
         }
        },
        {
         "name": "reclong",
         "dtype": "float64",
         "stats": {
          "unique_count": 8,
          "nan_count": 3,
          "min": "-165.43333",
          "max": "38401.0",
          "histogram": [
           {
            "bin_start": -165.43333,
            "bin_end": 3691.210003,
            "count": 7
           },
           {
            "bin_start": 3691.210003,
            "bin_end": 7547.853336,
            "count": 0
           },
           {
            "bin_start": 7547.853336,
            "bin_end": 11404.496669,
            "count": 0
           },
           {
            "bin_start": 11404.496669,
            "bin_end": 15261.140002,
            "count": 0
           },
           {
            "bin_start": 15261.140002,
            "bin_end": 19117.783335,
            "count": 0
           },
           {
            "bin_start": 19117.783335,
            "bin_end": 22974.426668,
            "count": 0
           },
           {
            "bin_start": 22974.426668,
            "bin_end": 26831.070001,
            "count": 0
           },
           {
            "bin_start": 26831.070001,
            "bin_end": 30687.713334,
            "count": 0
           },
           {
            "bin_start": 30687.713334,
            "bin_end": 34544.356667,
            "count": 0
           },
           {
            "bin_start": 34544.356667,
            "bin_end": 38401,
            "count": 1
           }
          ]
         }
        },
        {
         "name": "GeoLocation",
         "dtype": "object",
         "stats": {
          "unique_count": 4,
          "nan_count": 7,
          "categories": [
           {
            "name": "38401",
            "count": 1
           },
           {
            "name": "3 others",
            "count": 3
           },
           {
            "name": "Missing",
            "count": 7
           }
          ]
         }
        },
        {
         "name": "_deepnote_index_column",
         "dtype": "object"
        }
       ],
       "rows_top": [
        {
         "name": "45716",
         "id": 45716,
         "nametype": "45716",
         "recclass": "45716",
         "mass (g)": 45585,
         "fall": "45716",
         "year": "45425",
         "reclat": 38401,
         "reclong": 38401,
         "GeoLocation": "38401",
         "_deepnote_index_column": "count"
        },
        {
         "name": "45716",
         "id": "nan",
         "nametype": "2",
         "recclass": "466",
         "mass (g)": "nan",
         "fall": "2",
         "year": "266",
         "reclat": "nan",
         "reclong": "nan",
         "GeoLocation": "17100",
         "_deepnote_index_column": "unique"
        },
        {
         "name": "Northwest Africa 1491",
         "id": "nan",
         "nametype": "Valid",
         "recclass": "L6",
         "mass (g)": "nan",
         "fall": "Found",
         "year": "01/01/2003 12:00:00 AM",
         "reclat": "nan",
         "reclong": "nan",
         "GeoLocation": "(0.0, 0.0)",
         "_deepnote_index_column": "top"
        },
        {
         "name": "1",
         "id": "nan",
         "nametype": "45641",
         "recclass": "8285",
         "mass (g)": "nan",
         "fall": "44609",
         "year": "3323",
         "reclat": "nan",
         "reclong": "nan",
         "GeoLocation": "6214",
         "_deepnote_index_column": "freq"
        },
        {
         "name": "nan",
         "id": 26889.73510368361,
         "nametype": "nan",
         "recclass": "nan",
         "mass (g)": 13278.078548601512,
         "fall": "nan",
         "year": "nan",
         "reclat": -39.12258031142418,
         "reclong": 61.074318526236304,
         "GeoLocation": "nan",
         "_deepnote_index_column": "mean"
        },
        {
         "name": "nan",
         "id": 16860.683030276337,
         "nametype": "nan",
         "recclass": "nan",
         "mass (g)": 574988.876410473,
         "fall": "nan",
         "year": "nan",
         "reclat": 46.37851135669318,
         "reclong": 80.64729807908505,
         "GeoLocation": "nan",
         "_deepnote_index_column": "std"
        },
        {
         "name": "nan",
         "id": 1,
         "nametype": "nan",
         "recclass": "nan",
         "mass (g)": 0,
         "fall": "nan",
         "year": "nan",
         "reclat": -87.36667,
         "reclong": -165.43333,
         "GeoLocation": "nan",
         "_deepnote_index_column": "min"
        },
        {
         "name": "nan",
         "id": 12688.75,
         "nametype": "nan",
         "recclass": "nan",
         "mass (g)": 7.2,
         "fall": "nan",
         "year": "nan",
         "reclat": -76.71424,
         "reclong": 0,
         "GeoLocation": "nan",
         "_deepnote_index_column": "25%"
        },
        {
         "name": "nan",
         "id": 24261.5,
         "nametype": "nan",
         "recclass": "nan",
         "mass (g)": 32.6,
         "fall": "nan",
         "year": "nan",
         "reclat": -71.5,
         "reclong": 35.66667,
         "GeoLocation": "nan",
         "_deepnote_index_column": "50%"
        },
        {
         "name": "nan",
         "id": 40656.75,
         "nametype": "nan",
         "recclass": "nan",
         "mass (g)": 202.6,
         "fall": "nan",
         "year": "nan",
         "reclat": 0,
         "reclong": 157.16667,
         "GeoLocation": "nan",
         "_deepnote_index_column": "75%"
        },
        {
         "name": "nan",
         "id": 57458,
         "nametype": "nan",
         "recclass": "nan",
         "mass (g)": 60000000,
         "fall": "nan",
         "year": "nan",
         "reclat": 81.16667,
         "reclong": 354.47333,
         "GeoLocation": "nan",
         "_deepnote_index_column": "max"
        }
       ],
       "rows_bottom": null
      },
      "text/plain": "                         name       id nametype recclass     mass (g)   fall  \\\ncount                   45716 45,716.0    45716    45716     45,585.0  45716   \nunique                  45716      NaN        2      466          NaN      2   \ntop     Northwest Africa 1491      NaN    Valid       L6          NaN  Found   \nfreq                        1      NaN    45641     8285          NaN  44609   \nmean                      NaN 26,889.7      NaN      NaN     13,278.1    NaN   \nstd                       NaN 16,860.7      NaN      NaN    574,988.9    NaN   \nmin                       NaN      1.0      NaN      NaN          0.0    NaN   \n25%                       NaN 12,688.8      NaN      NaN          7.2    NaN   \n50%                       NaN 24,261.5      NaN      NaN         32.6    NaN   \n75%                       NaN 40,656.8      NaN      NaN        202.6    NaN   \nmax                       NaN 57,458.0      NaN      NaN 60,000,000.0    NaN   \n\n                          year   reclat  reclong GeoLocation  \ncount                    45425 38,401.0 38,401.0       38401  \nunique                     266      NaN      NaN       17100  \ntop     01/01/2003 12:00:00 AM      NaN      NaN  (0.0, 0.0)  \nfreq                      3323      NaN      NaN        6214  \nmean                       NaN    -39.1     61.1         NaN  \nstd                        NaN     46.4     80.6         NaN  \nmin                        NaN    -87.4   -165.4         NaN  \n25%                        NaN    -76.7      0.0         NaN  \n50%                        NaN    -71.5     35.7         NaN  \n75%                        NaN      0.0    157.2         NaN  \nmax                        NaN     81.2    354.5         NaN  ",
      "text/html": "<div>\n<style scoped>\n    .dataframe tbody tr th:only-of-type {\n        vertical-align: middle;\n    }\n\n    .dataframe tbody tr th {\n        vertical-align: top;\n    }\n\n    .dataframe thead th {\n        text-align: right;\n    }\n</style>\n<table border=\"1\" class=\"dataframe\">\n  <thead>\n    <tr style=\"text-align: right;\">\n      <th></th>\n      <th>name</th>\n      <th>id</th>\n      <th>nametype</th>\n      <th>recclass</th>\n      <th>mass (g)</th>\n      <th>fall</th>\n      <th>year</th>\n      <th>reclat</th>\n      <th>reclong</th>\n      <th>GeoLocation</th>\n    </tr>\n  </thead>\n  <tbody>\n    <tr>\n      <th>count</th>\n      <td>45716</td>\n      <td>45,716.0</td>\n      <td>45716</td>\n      <td>45716</td>\n      <td>45,585.0</td>\n      <td>45716</td>\n      <td>45425</td>\n      <td>38,401.0</td>\n      <td>38,401.0</td>\n      <td>38401</td>\n    </tr>\n    <tr>\n      <th>unique</th>\n      <td>45716</td>\n      <td>NaN</td>\n      <td>2</td>\n      <td>466</td>\n      <td>NaN</td>\n      <td>2</td>\n      <td>266</td>\n      <td>NaN</td>\n      <td>NaN</td>\n      <td>17100</td>\n    </tr>\n    <tr>\n      <th>top</th>\n      <td>Northwest Africa 1491</td>\n      <td>NaN</td>\n      <td>Valid</td>\n      <td>L6</td>\n      <td>NaN</td>\n      <td>Found</td>\n      <td>01/01/2003 12:00:00 AM</td>\n      <td>NaN</td>\n      <td>NaN</td>\n      <td>(0.0, 0.0)</td>\n    </tr>\n    <tr>\n      <th>freq</th>\n      <td>1</td>\n      <td>NaN</td>\n      <td>45641</td>\n      <td>8285</td>\n      <td>NaN</td>\n      <td>44609</td>\n      <td>3323</td>\n      <td>NaN</td>\n      <td>NaN</td>\n      <td>6214</td>\n    </tr>\n    <tr>\n      <th>mean</th>\n      <td>NaN</td>\n      <td>26,889.7</td>\n      <td>NaN</td>\n      <td>NaN</td>\n      <td>13,278.1</td>\n      <td>NaN</td>\n      <td>NaN</td>\n      <td>-39.1</td>\n      <td>61.1</td>\n      <td>NaN</td>\n    </tr>\n    <tr>\n      <th>std</th>\n      <td>NaN</td>\n      <td>16,860.7</td>\n      <td>NaN</td>\n      <td>NaN</td>\n      <td>574,988.9</td>\n      <td>NaN</td>\n      <td>NaN</td>\n      <td>46.4</td>\n      <td>80.6</td>\n      <td>NaN</td>\n    </tr>\n    <tr>\n      <th>min</th>\n      <td>NaN</td>\n      <td>1.0</td>\n      <td>NaN</td>\n      <td>NaN</td>\n      <td>0.0</td>\n      <td>NaN</td>\n      <td>NaN</td>\n      <td>-87.4</td>\n      <td>-165.4</td>\n      <td>NaN</td>\n    </tr>\n    <tr>\n      <th>25%</th>\n      <td>NaN</td>\n      <td>12,688.8</td>\n      <td>NaN</td>\n      <td>NaN</td>\n      <td>7.2</td>\n      <td>NaN</td>\n      <td>NaN</td>\n      <td>-76.7</td>\n      <td>0.0</td>\n      <td>NaN</td>\n    </tr>\n    <tr>\n      <th>50%</th>\n      <td>NaN</td>\n      <td>24,261.5</td>\n      <td>NaN</td>\n      <td>NaN</td>\n      <td>32.6</td>\n      <td>NaN</td>\n      <td>NaN</td>\n      <td>-71.5</td>\n      <td>35.7</td>\n      <td>NaN</td>\n    </tr>\n    <tr>\n      <th>75%</th>\n      <td>NaN</td>\n      <td>40,656.8</td>\n      <td>NaN</td>\n      <td>NaN</td>\n      <td>202.6</td>\n      <td>NaN</td>\n      <td>NaN</td>\n      <td>0.0</td>\n      <td>157.2</td>\n      <td>NaN</td>\n    </tr>\n    <tr>\n      <th>max</th>\n      <td>NaN</td>\n      <td>57,458.0</td>\n      <td>NaN</td>\n      <td>NaN</td>\n      <td>60,000,000.0</td>\n      <td>NaN</td>\n      <td>NaN</td>\n      <td>81.2</td>\n      <td>354.5</td>\n      <td>NaN</td>\n    </tr>\n  </tbody>\n</table>\n</div>"
     },
     "metadata": {}
    }
   ],
   "execution_count": 32
  },
  {
   "cell_type": "code",
   "metadata": {
    "tags": [],
    "cell_id": "00011-0b4d8677-2002-473d-943e-91c194a308d7",
    "deepnote_to_be_reexecuted": false,
    "source_hash": "ae4c624b",
    "execution_start": 1624906101465,
    "execution_millis": 34,
    "deepnote_cell_type": "code"
   },
   "source": "df_meteorites.info()",
   "outputs": [
    {
     "name": "stdout",
     "text": "<class 'pandas.core.frame.DataFrame'>\nRangeIndex: 45716 entries, 0 to 45715\nData columns (total 10 columns):\n #   Column       Non-Null Count  Dtype  \n---  ------       --------------  -----  \n 0   name         45716 non-null  object \n 1   id           45716 non-null  int64  \n 2   nametype     45716 non-null  object \n 3   recclass     45716 non-null  object \n 4   mass (g)     45585 non-null  float64\n 5   fall         45716 non-null  object \n 6   year         45425 non-null  object \n 7   reclat       38401 non-null  float64\n 8   reclong      38401 non-null  float64\n 9   GeoLocation  38401 non-null  object \ndtypes: float64(3), int64(1), object(6)\nmemory usage: 3.5+ MB\n",
     "output_type": "stream"
    }
   ],
   "execution_count": 33
  },
  {
   "cell_type": "markdown",
   "source": "## convert_dtypes Nos indica si nuestras columnas tienen el  formato adecuado.",
   "metadata": {
    "tags": [],
    "cell_id": "00012-af403b95-b138-426a-9173-df29d321c7c4",
    "deepnote_cell_type": "markdown"
   }
  },
  {
   "cell_type": "code",
   "metadata": {
    "tags": [],
    "cell_id": "00012-8b7e62c5-b0c5-4908-95b8-ff9513a01424",
    "deepnote_to_be_reexecuted": false,
    "source_hash": "ae3c892e",
    "execution_start": 1624906210065,
    "execution_millis": 37,
    "deepnote_cell_type": "code"
   },
   "source": "df_meteorites.convert_dtypes().dtypes",
   "outputs": [
    {
     "output_type": "execute_result",
     "execution_count": 39,
     "data": {
      "text/plain": "name            string\nid               Int64\nnametype        string\nrecclass        string\nmass (g)       Float64\nfall            string\nyear            string\nreclat         Float64\nreclong        Float64\nGeoLocation     string\ndtype: object"
     },
     "metadata": {}
    }
   ],
   "execution_count": 39
  },
  {
   "cell_type": "code",
   "source": "df_meteorites.nunique()",
   "metadata": {
    "tags": [],
    "cell_id": "00014-e6c65f2a-2016-46f9-9c1c-8f5f028a1b0d",
    "deepnote_to_be_reexecuted": false,
    "source_hash": "ef771a0b",
    "execution_start": 1624907480081,
    "execution_millis": 199,
    "deepnote_cell_type": "code"
   },
   "outputs": [
    {
     "output_type": "execute_result",
     "execution_count": 66,
     "data": {
      "text/plain": "name           45716\nid             45716\nnametype           2\nrecclass         466\nmass (g)       12576\nfall               2\nyear             266\nreclat         12738\nreclong        14640\nGeoLocation    17100\ndtype: int64"
     },
     "metadata": {}
    }
   ],
   "execution_count": 66
  },
  {
   "cell_type": "code",
   "source": "df_meteorites['fall'].unique()",
   "metadata": {
    "tags": [],
    "cell_id": "00015-164d0f64-8070-413d-99a2-f3c7f76c1ec7",
    "deepnote_to_be_reexecuted": false,
    "source_hash": "12de0a32",
    "execution_start": 1624907480421,
    "execution_millis": 57,
    "deepnote_cell_type": "code"
   },
   "outputs": [
    {
     "output_type": "execute_result",
     "execution_count": 67,
     "data": {
      "text/plain": "['Fell', 'Found']\nCategories (2, object): ['Fell', 'Found']"
     },
     "metadata": {}
    }
   ],
   "execution_count": 67
  },
  {
   "cell_type": "markdown",
   "source": "# Estructura del DataFrame\n\nConvertimos la variable a una ** variable categorica**\n\nNos ayuda a reducir espacio de uso en los archivos y en la memoria RAM.",
   "metadata": {
    "tags": [],
    "cell_id": "00015-1429c7ff-f91c-4286-a164-1fbd32783d85",
    "deepnote_cell_type": "markdown"
   }
  },
  {
   "cell_type": "code",
   "source": "df_meteorites[['fall','nametype']] = df_meteorites[['fall','nametype']].astype('category')\ndf_meteorites.dtypes",
   "metadata": {
    "tags": [],
    "cell_id": "00015-ecbf1e92-52e0-4098-8fd4-556aebaeb2e6",
    "deepnote_to_be_reexecuted": false,
    "source_hash": "b038e4bc",
    "execution_start": 1624907497733,
    "execution_millis": 54,
    "deepnote_cell_type": "code"
   },
   "outputs": [
    {
     "output_type": "execute_result",
     "execution_count": 72,
     "data": {
      "text/plain": "name             object\nid                int64\nnametype       category\nrecclass         object\nmass (g)        float64\nfall           category\nyear             object\nreclat          float64\nreclong         float64\nGeoLocation      object\ndtype: object"
     },
     "metadata": {}
    }
   ],
   "execution_count": 72
  },
  {
   "cell_type": "code",
   "source": "df_meteorites['fall'].unique()",
   "metadata": {
    "tags": [],
    "cell_id": "00018-6e64067b-0723-4cc0-9e69-e1da955b15fa",
    "deepnote_to_be_reexecuted": false,
    "source_hash": "12de0a32",
    "execution_start": 1624907482269,
    "execution_millis": 56,
    "deepnote_cell_type": "code"
   },
   "outputs": [
    {
     "output_type": "execute_result",
     "execution_count": 69,
     "data": {
      "text/plain": "['Fell', 'Found']\nCategories (2, object): ['Fell', 'Found']"
     },
     "metadata": {}
    }
   ],
   "execution_count": 69
  },
  {
   "cell_type": "code",
   "source": "df_meteorites['fall'].value_counts()",
   "metadata": {
    "tags": [],
    "cell_id": "00019-0fc7263f-2899-4d87-b2ca-e4d67fc47380",
    "deepnote_to_be_reexecuted": false,
    "source_hash": "b9e9c34",
    "execution_start": 1624907600927,
    "execution_millis": 6,
    "deepnote_cell_type": "code"
   },
   "outputs": [
    {
     "output_type": "execute_result",
     "execution_count": 73,
     "data": {
      "text/plain": "Found    44609\nFell      1107\nName: fall, dtype: int64"
     },
     "metadata": {}
    }
   ],
   "execution_count": 73
  },
  {
   "cell_type": "code",
   "source": "pd.get_dummies(df_meteorites['fall'])",
   "metadata": {
    "tags": [],
    "cell_id": "00020-da3fd1c7-ceb4-45ad-bc05-2c2e6ac9c89f",
    "deepnote_to_be_reexecuted": false,
    "source_hash": "84ffc9c9",
    "execution_start": 1624907659867,
    "execution_millis": 296,
    "deepnote_cell_type": "code"
   },
   "outputs": [
    {
     "output_type": "execute_result",
     "execution_count": 75,
     "data": {
      "application/vnd.deepnote.dataframe.v2+json": {
       "row_count": 45716,
       "column_count": 2,
       "columns": [
        {
         "name": "Fell",
         "dtype": "uint8",
         "stats": {
          "unique_count": 2,
          "nan_count": 0,
          "min": "0",
          "max": "1",
          "histogram": [
           {
            "bin_start": 0,
            "bin_end": 0.1,
            "count": 44609
           },
           {
            "bin_start": 0.1,
            "bin_end": 0.2,
            "count": 0
           },
           {
            "bin_start": 0.2,
            "bin_end": 0.30000000000000004,
            "count": 0
           },
           {
            "bin_start": 0.30000000000000004,
            "bin_end": 0.4,
            "count": 0
           },
           {
            "bin_start": 0.4,
            "bin_end": 0.5,
            "count": 0
           },
           {
            "bin_start": 0.5,
            "bin_end": 0.6000000000000001,
            "count": 0
           },
           {
            "bin_start": 0.6000000000000001,
            "bin_end": 0.7000000000000001,
            "count": 0
           },
           {
            "bin_start": 0.7000000000000001,
            "bin_end": 0.8,
            "count": 0
           },
           {
            "bin_start": 0.8,
            "bin_end": 0.9,
            "count": 0
           },
           {
            "bin_start": 0.9,
            "bin_end": 1,
            "count": 1107
           }
          ]
         }
        },
        {
         "name": "Found",
         "dtype": "uint8",
         "stats": {
          "unique_count": 2,
          "nan_count": 0,
          "min": "0",
          "max": "1",
          "histogram": [
           {
            "bin_start": 0,
            "bin_end": 0.1,
            "count": 1107
           },
           {
            "bin_start": 0.1,
            "bin_end": 0.2,
            "count": 0
           },
           {
            "bin_start": 0.2,
            "bin_end": 0.30000000000000004,
            "count": 0
           },
           {
            "bin_start": 0.30000000000000004,
            "bin_end": 0.4,
            "count": 0
           },
           {
            "bin_start": 0.4,
            "bin_end": 0.5,
            "count": 0
           },
           {
            "bin_start": 0.5,
            "bin_end": 0.6000000000000001,
            "count": 0
           },
           {
            "bin_start": 0.6000000000000001,
            "bin_end": 0.7000000000000001,
            "count": 0
           },
           {
            "bin_start": 0.7000000000000001,
            "bin_end": 0.8,
            "count": 0
           },
           {
            "bin_start": 0.8,
            "bin_end": 0.9,
            "count": 0
           },
           {
            "bin_start": 0.9,
            "bin_end": 1,
            "count": 44609
           }
          ]
         }
        },
        {
         "name": "_deepnote_index_column",
         "dtype": "int64"
        }
       ],
       "rows_top": [
        {
         "Fell": 1,
         "Found": 0,
         "_deepnote_index_column": 0
        },
        {
         "Fell": 1,
         "Found": 0,
         "_deepnote_index_column": 1
        },
        {
         "Fell": 1,
         "Found": 0,
         "_deepnote_index_column": 2
        },
        {
         "Fell": 1,
         "Found": 0,
         "_deepnote_index_column": 3
        },
        {
         "Fell": 1,
         "Found": 0,
         "_deepnote_index_column": 4
        },
        {
         "Fell": 1,
         "Found": 0,
         "_deepnote_index_column": 5
        },
        {
         "Fell": 1,
         "Found": 0,
         "_deepnote_index_column": 6
        },
        {
         "Fell": 1,
         "Found": 0,
         "_deepnote_index_column": 7
        },
        {
         "Fell": 1,
         "Found": 0,
         "_deepnote_index_column": 8
        },
        {
         "Fell": 1,
         "Found": 0,
         "_deepnote_index_column": 9
        },
        {
         "Fell": 1,
         "Found": 0,
         "_deepnote_index_column": 10
        },
        {
         "Fell": 1,
         "Found": 0,
         "_deepnote_index_column": 11
        },
        {
         "Fell": 1,
         "Found": 0,
         "_deepnote_index_column": 12
        },
        {
         "Fell": 1,
         "Found": 0,
         "_deepnote_index_column": 13
        },
        {
         "Fell": 1,
         "Found": 0,
         "_deepnote_index_column": 14
        },
        {
         "Fell": 1,
         "Found": 0,
         "_deepnote_index_column": 15
        },
        {
         "Fell": 1,
         "Found": 0,
         "_deepnote_index_column": 16
        },
        {
         "Fell": 1,
         "Found": 0,
         "_deepnote_index_column": 17
        },
        {
         "Fell": 1,
         "Found": 0,
         "_deepnote_index_column": 18
        },
        {
         "Fell": 1,
         "Found": 0,
         "_deepnote_index_column": 19
        },
        {
         "Fell": 1,
         "Found": 0,
         "_deepnote_index_column": 20
        },
        {
         "Fell": 1,
         "Found": 0,
         "_deepnote_index_column": 21
        },
        {
         "Fell": 1,
         "Found": 0,
         "_deepnote_index_column": 22
        },
        {
         "Fell": 1,
         "Found": 0,
         "_deepnote_index_column": 23
        },
        {
         "Fell": 1,
         "Found": 0,
         "_deepnote_index_column": 24
        },
        {
         "Fell": 1,
         "Found": 0,
         "_deepnote_index_column": 25
        },
        {
         "Fell": 1,
         "Found": 0,
         "_deepnote_index_column": 26
        },
        {
         "Fell": 1,
         "Found": 0,
         "_deepnote_index_column": 27
        },
        {
         "Fell": 1,
         "Found": 0,
         "_deepnote_index_column": 28
        },
        {
         "Fell": 1,
         "Found": 0,
         "_deepnote_index_column": 29
        },
        {
         "Fell": 1,
         "Found": 0,
         "_deepnote_index_column": 30
        },
        {
         "Fell": 1,
         "Found": 0,
         "_deepnote_index_column": 31
        },
        {
         "Fell": 1,
         "Found": 0,
         "_deepnote_index_column": 32
        },
        {
         "Fell": 1,
         "Found": 0,
         "_deepnote_index_column": 33
        },
        {
         "Fell": 1,
         "Found": 0,
         "_deepnote_index_column": 34
        },
        {
         "Fell": 1,
         "Found": 0,
         "_deepnote_index_column": 35
        },
        {
         "Fell": 1,
         "Found": 0,
         "_deepnote_index_column": 36
        },
        {
         "Fell": 0,
         "Found": 1,
         "_deepnote_index_column": 37
        },
        {
         "Fell": 1,
         "Found": 0,
         "_deepnote_index_column": 38
        },
        {
         "Fell": 1,
         "Found": 0,
         "_deepnote_index_column": 39
        },
        {
         "Fell": 1,
         "Found": 0,
         "_deepnote_index_column": 40
        },
        {
         "Fell": 1,
         "Found": 0,
         "_deepnote_index_column": 41
        },
        {
         "Fell": 1,
         "Found": 0,
         "_deepnote_index_column": 42
        },
        {
         "Fell": 1,
         "Found": 0,
         "_deepnote_index_column": 43
        },
        {
         "Fell": 1,
         "Found": 0,
         "_deepnote_index_column": 44
        },
        {
         "Fell": 1,
         "Found": 0,
         "_deepnote_index_column": 45
        },
        {
         "Fell": 1,
         "Found": 0,
         "_deepnote_index_column": 46
        },
        {
         "Fell": 1,
         "Found": 0,
         "_deepnote_index_column": 47
        },
        {
         "Fell": 1,
         "Found": 0,
         "_deepnote_index_column": 48
        },
        {
         "Fell": 1,
         "Found": 0,
         "_deepnote_index_column": 49
        },
        {
         "Fell": 1,
         "Found": 0,
         "_deepnote_index_column": 50
        },
        {
         "Fell": 1,
         "Found": 0,
         "_deepnote_index_column": 51
        },
        {
         "Fell": 1,
         "Found": 0,
         "_deepnote_index_column": 52
        },
        {
         "Fell": 1,
         "Found": 0,
         "_deepnote_index_column": 53
        },
        {
         "Fell": 1,
         "Found": 0,
         "_deepnote_index_column": 54
        },
        {
         "Fell": 1,
         "Found": 0,
         "_deepnote_index_column": 55
        },
        {
         "Fell": 1,
         "Found": 0,
         "_deepnote_index_column": 56
        },
        {
         "Fell": 1,
         "Found": 0,
         "_deepnote_index_column": 57
        },
        {
         "Fell": 1,
         "Found": 0,
         "_deepnote_index_column": 58
        },
        {
         "Fell": 1,
         "Found": 0,
         "_deepnote_index_column": 59
        },
        {
         "Fell": 1,
         "Found": 0,
         "_deepnote_index_column": 60
        },
        {
         "Fell": 1,
         "Found": 0,
         "_deepnote_index_column": 61
        },
        {
         "Fell": 1,
         "Found": 0,
         "_deepnote_index_column": 62
        },
        {
         "Fell": 1,
         "Found": 0,
         "_deepnote_index_column": 63
        },
        {
         "Fell": 1,
         "Found": 0,
         "_deepnote_index_column": 64
        },
        {
         "Fell": 1,
         "Found": 0,
         "_deepnote_index_column": 65
        },
        {
         "Fell": 1,
         "Found": 0,
         "_deepnote_index_column": 66
        },
        {
         "Fell": 1,
         "Found": 0,
         "_deepnote_index_column": 67
        },
        {
         "Fell": 1,
         "Found": 0,
         "_deepnote_index_column": 68
        },
        {
         "Fell": 1,
         "Found": 0,
         "_deepnote_index_column": 69
        },
        {
         "Fell": 1,
         "Found": 0,
         "_deepnote_index_column": 70
        },
        {
         "Fell": 1,
         "Found": 0,
         "_deepnote_index_column": 71
        },
        {
         "Fell": 1,
         "Found": 0,
         "_deepnote_index_column": 72
        },
        {
         "Fell": 1,
         "Found": 0,
         "_deepnote_index_column": 73
        },
        {
         "Fell": 1,
         "Found": 0,
         "_deepnote_index_column": 74
        },
        {
         "Fell": 1,
         "Found": 0,
         "_deepnote_index_column": 75
        },
        {
         "Fell": 1,
         "Found": 0,
         "_deepnote_index_column": 76
        },
        {
         "Fell": 1,
         "Found": 0,
         "_deepnote_index_column": 77
        },
        {
         "Fell": 1,
         "Found": 0,
         "_deepnote_index_column": 78
        },
        {
         "Fell": 1,
         "Found": 0,
         "_deepnote_index_column": 79
        },
        {
         "Fell": 1,
         "Found": 0,
         "_deepnote_index_column": 80
        },
        {
         "Fell": 1,
         "Found": 0,
         "_deepnote_index_column": 81
        },
        {
         "Fell": 1,
         "Found": 0,
         "_deepnote_index_column": 82
        },
        {
         "Fell": 1,
         "Found": 0,
         "_deepnote_index_column": 83
        },
        {
         "Fell": 1,
         "Found": 0,
         "_deepnote_index_column": 84
        },
        {
         "Fell": 1,
         "Found": 0,
         "_deepnote_index_column": 85
        },
        {
         "Fell": 1,
         "Found": 0,
         "_deepnote_index_column": 86
        },
        {
         "Fell": 1,
         "Found": 0,
         "_deepnote_index_column": 87
        },
        {
         "Fell": 1,
         "Found": 0,
         "_deepnote_index_column": 88
        },
        {
         "Fell": 1,
         "Found": 0,
         "_deepnote_index_column": 89
        },
        {
         "Fell": 1,
         "Found": 0,
         "_deepnote_index_column": 90
        },
        {
         "Fell": 1,
         "Found": 0,
         "_deepnote_index_column": 91
        },
        {
         "Fell": 1,
         "Found": 0,
         "_deepnote_index_column": 92
        },
        {
         "Fell": 1,
         "Found": 0,
         "_deepnote_index_column": 93
        },
        {
         "Fell": 1,
         "Found": 0,
         "_deepnote_index_column": 94
        },
        {
         "Fell": 1,
         "Found": 0,
         "_deepnote_index_column": 95
        },
        {
         "Fell": 1,
         "Found": 0,
         "_deepnote_index_column": 96
        },
        {
         "Fell": 1,
         "Found": 0,
         "_deepnote_index_column": 97
        },
        {
         "Fell": 1,
         "Found": 0,
         "_deepnote_index_column": 98
        },
        {
         "Fell": 1,
         "Found": 0,
         "_deepnote_index_column": 99
        },
        {
         "Fell": 1,
         "Found": 0,
         "_deepnote_index_column": 100
        },
        {
         "Fell": 1,
         "Found": 0,
         "_deepnote_index_column": 101
        },
        {
         "Fell": 1,
         "Found": 0,
         "_deepnote_index_column": 102
        },
        {
         "Fell": 1,
         "Found": 0,
         "_deepnote_index_column": 103
        },
        {
         "Fell": 1,
         "Found": 0,
         "_deepnote_index_column": 104
        },
        {
         "Fell": 1,
         "Found": 0,
         "_deepnote_index_column": 105
        },
        {
         "Fell": 1,
         "Found": 0,
         "_deepnote_index_column": 106
        },
        {
         "Fell": 1,
         "Found": 0,
         "_deepnote_index_column": 107
        },
        {
         "Fell": 1,
         "Found": 0,
         "_deepnote_index_column": 108
        },
        {
         "Fell": 1,
         "Found": 0,
         "_deepnote_index_column": 109
        },
        {
         "Fell": 1,
         "Found": 0,
         "_deepnote_index_column": 110
        },
        {
         "Fell": 1,
         "Found": 0,
         "_deepnote_index_column": 111
        },
        {
         "Fell": 1,
         "Found": 0,
         "_deepnote_index_column": 112
        },
        {
         "Fell": 1,
         "Found": 0,
         "_deepnote_index_column": 113
        },
        {
         "Fell": 1,
         "Found": 0,
         "_deepnote_index_column": 114
        },
        {
         "Fell": 1,
         "Found": 0,
         "_deepnote_index_column": 115
        },
        {
         "Fell": 1,
         "Found": 0,
         "_deepnote_index_column": 116
        },
        {
         "Fell": 1,
         "Found": 0,
         "_deepnote_index_column": 117
        },
        {
         "Fell": 1,
         "Found": 0,
         "_deepnote_index_column": 118
        },
        {
         "Fell": 1,
         "Found": 0,
         "_deepnote_index_column": 119
        },
        {
         "Fell": 1,
         "Found": 0,
         "_deepnote_index_column": 120
        },
        {
         "Fell": 1,
         "Found": 0,
         "_deepnote_index_column": 121
        },
        {
         "Fell": 1,
         "Found": 0,
         "_deepnote_index_column": 122
        },
        {
         "Fell": 1,
         "Found": 0,
         "_deepnote_index_column": 123
        },
        {
         "Fell": 1,
         "Found": 0,
         "_deepnote_index_column": 124
        },
        {
         "Fell": 1,
         "Found": 0,
         "_deepnote_index_column": 125
        },
        {
         "Fell": 1,
         "Found": 0,
         "_deepnote_index_column": 126
        },
        {
         "Fell": 1,
         "Found": 0,
         "_deepnote_index_column": 127
        },
        {
         "Fell": 1,
         "Found": 0,
         "_deepnote_index_column": 128
        },
        {
         "Fell": 1,
         "Found": 0,
         "_deepnote_index_column": 129
        },
        {
         "Fell": 1,
         "Found": 0,
         "_deepnote_index_column": 130
        },
        {
         "Fell": 1,
         "Found": 0,
         "_deepnote_index_column": 131
        },
        {
         "Fell": 1,
         "Found": 0,
         "_deepnote_index_column": 132
        },
        {
         "Fell": 1,
         "Found": 0,
         "_deepnote_index_column": 133
        },
        {
         "Fell": 1,
         "Found": 0,
         "_deepnote_index_column": 134
        },
        {
         "Fell": 1,
         "Found": 0,
         "_deepnote_index_column": 135
        },
        {
         "Fell": 1,
         "Found": 0,
         "_deepnote_index_column": 136
        },
        {
         "Fell": 1,
         "Found": 0,
         "_deepnote_index_column": 137
        },
        {
         "Fell": 1,
         "Found": 0,
         "_deepnote_index_column": 138
        },
        {
         "Fell": 1,
         "Found": 0,
         "_deepnote_index_column": 139
        },
        {
         "Fell": 1,
         "Found": 0,
         "_deepnote_index_column": 140
        },
        {
         "Fell": 1,
         "Found": 0,
         "_deepnote_index_column": 141
        },
        {
         "Fell": 1,
         "Found": 0,
         "_deepnote_index_column": 142
        },
        {
         "Fell": 1,
         "Found": 0,
         "_deepnote_index_column": 143
        },
        {
         "Fell": 1,
         "Found": 0,
         "_deepnote_index_column": 144
        },
        {
         "Fell": 1,
         "Found": 0,
         "_deepnote_index_column": 145
        },
        {
         "Fell": 1,
         "Found": 0,
         "_deepnote_index_column": 146
        },
        {
         "Fell": 1,
         "Found": 0,
         "_deepnote_index_column": 147
        },
        {
         "Fell": 1,
         "Found": 0,
         "_deepnote_index_column": 148
        },
        {
         "Fell": 1,
         "Found": 0,
         "_deepnote_index_column": 149
        },
        {
         "Fell": 1,
         "Found": 0,
         "_deepnote_index_column": 150
        },
        {
         "Fell": 1,
         "Found": 0,
         "_deepnote_index_column": 151
        },
        {
         "Fell": 1,
         "Found": 0,
         "_deepnote_index_column": 152
        },
        {
         "Fell": 1,
         "Found": 0,
         "_deepnote_index_column": 153
        },
        {
         "Fell": 1,
         "Found": 0,
         "_deepnote_index_column": 154
        },
        {
         "Fell": 1,
         "Found": 0,
         "_deepnote_index_column": 155
        },
        {
         "Fell": 1,
         "Found": 0,
         "_deepnote_index_column": 156
        },
        {
         "Fell": 1,
         "Found": 0,
         "_deepnote_index_column": 157
        },
        {
         "Fell": 1,
         "Found": 0,
         "_deepnote_index_column": 158
        },
        {
         "Fell": 1,
         "Found": 0,
         "_deepnote_index_column": 159
        },
        {
         "Fell": 1,
         "Found": 0,
         "_deepnote_index_column": 160
        },
        {
         "Fell": 1,
         "Found": 0,
         "_deepnote_index_column": 161
        },
        {
         "Fell": 1,
         "Found": 0,
         "_deepnote_index_column": 162
        },
        {
         "Fell": 1,
         "Found": 0,
         "_deepnote_index_column": 163
        },
        {
         "Fell": 1,
         "Found": 0,
         "_deepnote_index_column": 164
        },
        {
         "Fell": 1,
         "Found": 0,
         "_deepnote_index_column": 165
        },
        {
         "Fell": 1,
         "Found": 0,
         "_deepnote_index_column": 166
        },
        {
         "Fell": 1,
         "Found": 0,
         "_deepnote_index_column": 167
        },
        {
         "Fell": 1,
         "Found": 0,
         "_deepnote_index_column": 168
        },
        {
         "Fell": 1,
         "Found": 0,
         "_deepnote_index_column": 169
        },
        {
         "Fell": 1,
         "Found": 0,
         "_deepnote_index_column": 170
        },
        {
         "Fell": 1,
         "Found": 0,
         "_deepnote_index_column": 171
        },
        {
         "Fell": 1,
         "Found": 0,
         "_deepnote_index_column": 172
        },
        {
         "Fell": 1,
         "Found": 0,
         "_deepnote_index_column": 173
        },
        {
         "Fell": 1,
         "Found": 0,
         "_deepnote_index_column": 174
        },
        {
         "Fell": 1,
         "Found": 0,
         "_deepnote_index_column": 175
        },
        {
         "Fell": 1,
         "Found": 0,
         "_deepnote_index_column": 176
        },
        {
         "Fell": 1,
         "Found": 0,
         "_deepnote_index_column": 177
        },
        {
         "Fell": 1,
         "Found": 0,
         "_deepnote_index_column": 178
        },
        {
         "Fell": 1,
         "Found": 0,
         "_deepnote_index_column": 179
        },
        {
         "Fell": 1,
         "Found": 0,
         "_deepnote_index_column": 180
        },
        {
         "Fell": 1,
         "Found": 0,
         "_deepnote_index_column": 181
        },
        {
         "Fell": 1,
         "Found": 0,
         "_deepnote_index_column": 182
        },
        {
         "Fell": 1,
         "Found": 0,
         "_deepnote_index_column": 183
        },
        {
         "Fell": 1,
         "Found": 0,
         "_deepnote_index_column": 184
        },
        {
         "Fell": 1,
         "Found": 0,
         "_deepnote_index_column": 185
        },
        {
         "Fell": 1,
         "Found": 0,
         "_deepnote_index_column": 186
        },
        {
         "Fell": 1,
         "Found": 0,
         "_deepnote_index_column": 187
        },
        {
         "Fell": 1,
         "Found": 0,
         "_deepnote_index_column": 188
        },
        {
         "Fell": 1,
         "Found": 0,
         "_deepnote_index_column": 189
        },
        {
         "Fell": 1,
         "Found": 0,
         "_deepnote_index_column": 190
        },
        {
         "Fell": 1,
         "Found": 0,
         "_deepnote_index_column": 191
        },
        {
         "Fell": 1,
         "Found": 0,
         "_deepnote_index_column": 192
        },
        {
         "Fell": 1,
         "Found": 0,
         "_deepnote_index_column": 193
        },
        {
         "Fell": 1,
         "Found": 0,
         "_deepnote_index_column": 194
        },
        {
         "Fell": 1,
         "Found": 0,
         "_deepnote_index_column": 195
        },
        {
         "Fell": 1,
         "Found": 0,
         "_deepnote_index_column": 196
        },
        {
         "Fell": 1,
         "Found": 0,
         "_deepnote_index_column": 197
        },
        {
         "Fell": 1,
         "Found": 0,
         "_deepnote_index_column": 198
        },
        {
         "Fell": 1,
         "Found": 0,
         "_deepnote_index_column": 199
        },
        {
         "Fell": 1,
         "Found": 0,
         "_deepnote_index_column": 200
        },
        {
         "Fell": 1,
         "Found": 0,
         "_deepnote_index_column": 201
        },
        {
         "Fell": 1,
         "Found": 0,
         "_deepnote_index_column": 202
        },
        {
         "Fell": 1,
         "Found": 0,
         "_deepnote_index_column": 203
        },
        {
         "Fell": 1,
         "Found": 0,
         "_deepnote_index_column": 204
        },
        {
         "Fell": 1,
         "Found": 0,
         "_deepnote_index_column": 205
        },
        {
         "Fell": 1,
         "Found": 0,
         "_deepnote_index_column": 206
        },
        {
         "Fell": 1,
         "Found": 0,
         "_deepnote_index_column": 207
        },
        {
         "Fell": 1,
         "Found": 0,
         "_deepnote_index_column": 208
        },
        {
         "Fell": 1,
         "Found": 0,
         "_deepnote_index_column": 209
        },
        {
         "Fell": 1,
         "Found": 0,
         "_deepnote_index_column": 210
        },
        {
         "Fell": 1,
         "Found": 0,
         "_deepnote_index_column": 211
        },
        {
         "Fell": 1,
         "Found": 0,
         "_deepnote_index_column": 212
        },
        {
         "Fell": 1,
         "Found": 0,
         "_deepnote_index_column": 213
        },
        {
         "Fell": 1,
         "Found": 0,
         "_deepnote_index_column": 214
        },
        {
         "Fell": 1,
         "Found": 0,
         "_deepnote_index_column": 215
        },
        {
         "Fell": 1,
         "Found": 0,
         "_deepnote_index_column": 216
        },
        {
         "Fell": 1,
         "Found": 0,
         "_deepnote_index_column": 217
        },
        {
         "Fell": 1,
         "Found": 0,
         "_deepnote_index_column": 218
        },
        {
         "Fell": 1,
         "Found": 0,
         "_deepnote_index_column": 219
        },
        {
         "Fell": 1,
         "Found": 0,
         "_deepnote_index_column": 220
        },
        {
         "Fell": 1,
         "Found": 0,
         "_deepnote_index_column": 221
        },
        {
         "Fell": 1,
         "Found": 0,
         "_deepnote_index_column": 222
        },
        {
         "Fell": 1,
         "Found": 0,
         "_deepnote_index_column": 223
        },
        {
         "Fell": 1,
         "Found": 0,
         "_deepnote_index_column": 224
        },
        {
         "Fell": 1,
         "Found": 0,
         "_deepnote_index_column": 225
        },
        {
         "Fell": 1,
         "Found": 0,
         "_deepnote_index_column": 226
        },
        {
         "Fell": 1,
         "Found": 0,
         "_deepnote_index_column": 227
        },
        {
         "Fell": 1,
         "Found": 0,
         "_deepnote_index_column": 228
        },
        {
         "Fell": 1,
         "Found": 0,
         "_deepnote_index_column": 229
        },
        {
         "Fell": 1,
         "Found": 0,
         "_deepnote_index_column": 230
        },
        {
         "Fell": 1,
         "Found": 0,
         "_deepnote_index_column": 231
        },
        {
         "Fell": 1,
         "Found": 0,
         "_deepnote_index_column": 232
        },
        {
         "Fell": 1,
         "Found": 0,
         "_deepnote_index_column": 233
        },
        {
         "Fell": 1,
         "Found": 0,
         "_deepnote_index_column": 234
        },
        {
         "Fell": 1,
         "Found": 0,
         "_deepnote_index_column": 235
        },
        {
         "Fell": 1,
         "Found": 0,
         "_deepnote_index_column": 236
        },
        {
         "Fell": 1,
         "Found": 0,
         "_deepnote_index_column": 237
        },
        {
         "Fell": 1,
         "Found": 0,
         "_deepnote_index_column": 238
        },
        {
         "Fell": 1,
         "Found": 0,
         "_deepnote_index_column": 239
        },
        {
         "Fell": 1,
         "Found": 0,
         "_deepnote_index_column": 240
        },
        {
         "Fell": 1,
         "Found": 0,
         "_deepnote_index_column": 241
        },
        {
         "Fell": 1,
         "Found": 0,
         "_deepnote_index_column": 242
        },
        {
         "Fell": 1,
         "Found": 0,
         "_deepnote_index_column": 243
        },
        {
         "Fell": 1,
         "Found": 0,
         "_deepnote_index_column": 244
        },
        {
         "Fell": 1,
         "Found": 0,
         "_deepnote_index_column": 245
        },
        {
         "Fell": 1,
         "Found": 0,
         "_deepnote_index_column": 246
        },
        {
         "Fell": 1,
         "Found": 0,
         "_deepnote_index_column": 247
        },
        {
         "Fell": 1,
         "Found": 0,
         "_deepnote_index_column": 248
        },
        {
         "Fell": 1,
         "Found": 0,
         "_deepnote_index_column": 249
        }
       ],
       "rows_bottom": [
        {
         "Fell": 0,
         "Found": 1,
         "_deepnote_index_column": 45466
        },
        {
         "Fell": 0,
         "Found": 1,
         "_deepnote_index_column": 45467
        },
        {
         "Fell": 0,
         "Found": 1,
         "_deepnote_index_column": 45468
        },
        {
         "Fell": 0,
         "Found": 1,
         "_deepnote_index_column": 45469
        },
        {
         "Fell": 0,
         "Found": 1,
         "_deepnote_index_column": 45470
        },
        {
         "Fell": 0,
         "Found": 1,
         "_deepnote_index_column": 45471
        },
        {
         "Fell": 0,
         "Found": 1,
         "_deepnote_index_column": 45472
        },
        {
         "Fell": 0,
         "Found": 1,
         "_deepnote_index_column": 45473
        },
        {
         "Fell": 0,
         "Found": 1,
         "_deepnote_index_column": 45474
        },
        {
         "Fell": 0,
         "Found": 1,
         "_deepnote_index_column": 45475
        },
        {
         "Fell": 0,
         "Found": 1,
         "_deepnote_index_column": 45476
        },
        {
         "Fell": 0,
         "Found": 1,
         "_deepnote_index_column": 45477
        },
        {
         "Fell": 0,
         "Found": 1,
         "_deepnote_index_column": 45478
        },
        {
         "Fell": 0,
         "Found": 1,
         "_deepnote_index_column": 45479
        },
        {
         "Fell": 0,
         "Found": 1,
         "_deepnote_index_column": 45480
        },
        {
         "Fell": 0,
         "Found": 1,
         "_deepnote_index_column": 45481
        },
        {
         "Fell": 0,
         "Found": 1,
         "_deepnote_index_column": 45482
        },
        {
         "Fell": 0,
         "Found": 1,
         "_deepnote_index_column": 45483
        },
        {
         "Fell": 0,
         "Found": 1,
         "_deepnote_index_column": 45484
        },
        {
         "Fell": 0,
         "Found": 1,
         "_deepnote_index_column": 45485
        },
        {
         "Fell": 0,
         "Found": 1,
         "_deepnote_index_column": 45486
        },
        {
         "Fell": 0,
         "Found": 1,
         "_deepnote_index_column": 45487
        },
        {
         "Fell": 0,
         "Found": 1,
         "_deepnote_index_column": 45488
        },
        {
         "Fell": 0,
         "Found": 1,
         "_deepnote_index_column": 45489
        },
        {
         "Fell": 0,
         "Found": 1,
         "_deepnote_index_column": 45490
        },
        {
         "Fell": 0,
         "Found": 1,
         "_deepnote_index_column": 45491
        },
        {
         "Fell": 0,
         "Found": 1,
         "_deepnote_index_column": 45492
        },
        {
         "Fell": 0,
         "Found": 1,
         "_deepnote_index_column": 45493
        },
        {
         "Fell": 0,
         "Found": 1,
         "_deepnote_index_column": 45494
        },
        {
         "Fell": 0,
         "Found": 1,
         "_deepnote_index_column": 45495
        },
        {
         "Fell": 0,
         "Found": 1,
         "_deepnote_index_column": 45496
        },
        {
         "Fell": 0,
         "Found": 1,
         "_deepnote_index_column": 45497
        },
        {
         "Fell": 0,
         "Found": 1,
         "_deepnote_index_column": 45498
        },
        {
         "Fell": 0,
         "Found": 1,
         "_deepnote_index_column": 45499
        },
        {
         "Fell": 0,
         "Found": 1,
         "_deepnote_index_column": 45500
        },
        {
         "Fell": 0,
         "Found": 1,
         "_deepnote_index_column": 45501
        },
        {
         "Fell": 0,
         "Found": 1,
         "_deepnote_index_column": 45502
        },
        {
         "Fell": 0,
         "Found": 1,
         "_deepnote_index_column": 45503
        },
        {
         "Fell": 0,
         "Found": 1,
         "_deepnote_index_column": 45504
        },
        {
         "Fell": 0,
         "Found": 1,
         "_deepnote_index_column": 45505
        },
        {
         "Fell": 0,
         "Found": 1,
         "_deepnote_index_column": 45506
        },
        {
         "Fell": 0,
         "Found": 1,
         "_deepnote_index_column": 45507
        },
        {
         "Fell": 0,
         "Found": 1,
         "_deepnote_index_column": 45508
        },
        {
         "Fell": 0,
         "Found": 1,
         "_deepnote_index_column": 45509
        },
        {
         "Fell": 0,
         "Found": 1,
         "_deepnote_index_column": 45510
        },
        {
         "Fell": 0,
         "Found": 1,
         "_deepnote_index_column": 45511
        },
        {
         "Fell": 0,
         "Found": 1,
         "_deepnote_index_column": 45512
        },
        {
         "Fell": 0,
         "Found": 1,
         "_deepnote_index_column": 45513
        },
        {
         "Fell": 0,
         "Found": 1,
         "_deepnote_index_column": 45514
        },
        {
         "Fell": 0,
         "Found": 1,
         "_deepnote_index_column": 45515
        },
        {
         "Fell": 0,
         "Found": 1,
         "_deepnote_index_column": 45516
        },
        {
         "Fell": 0,
         "Found": 1,
         "_deepnote_index_column": 45517
        },
        {
         "Fell": 0,
         "Found": 1,
         "_deepnote_index_column": 45518
        },
        {
         "Fell": 0,
         "Found": 1,
         "_deepnote_index_column": 45519
        },
        {
         "Fell": 0,
         "Found": 1,
         "_deepnote_index_column": 45520
        },
        {
         "Fell": 0,
         "Found": 1,
         "_deepnote_index_column": 45521
        },
        {
         "Fell": 0,
         "Found": 1,
         "_deepnote_index_column": 45522
        },
        {
         "Fell": 0,
         "Found": 1,
         "_deepnote_index_column": 45523
        },
        {
         "Fell": 0,
         "Found": 1,
         "_deepnote_index_column": 45524
        },
        {
         "Fell": 0,
         "Found": 1,
         "_deepnote_index_column": 45525
        },
        {
         "Fell": 0,
         "Found": 1,
         "_deepnote_index_column": 45526
        },
        {
         "Fell": 0,
         "Found": 1,
         "_deepnote_index_column": 45527
        },
        {
         "Fell": 0,
         "Found": 1,
         "_deepnote_index_column": 45528
        },
        {
         "Fell": 0,
         "Found": 1,
         "_deepnote_index_column": 45529
        },
        {
         "Fell": 0,
         "Found": 1,
         "_deepnote_index_column": 45530
        },
        {
         "Fell": 0,
         "Found": 1,
         "_deepnote_index_column": 45531
        },
        {
         "Fell": 0,
         "Found": 1,
         "_deepnote_index_column": 45532
        },
        {
         "Fell": 0,
         "Found": 1,
         "_deepnote_index_column": 45533
        },
        {
         "Fell": 0,
         "Found": 1,
         "_deepnote_index_column": 45534
        },
        {
         "Fell": 0,
         "Found": 1,
         "_deepnote_index_column": 45535
        },
        {
         "Fell": 0,
         "Found": 1,
         "_deepnote_index_column": 45536
        },
        {
         "Fell": 0,
         "Found": 1,
         "_deepnote_index_column": 45537
        },
        {
         "Fell": 0,
         "Found": 1,
         "_deepnote_index_column": 45538
        },
        {
         "Fell": 0,
         "Found": 1,
         "_deepnote_index_column": 45539
        },
        {
         "Fell": 0,
         "Found": 1,
         "_deepnote_index_column": 45540
        },
        {
         "Fell": 0,
         "Found": 1,
         "_deepnote_index_column": 45541
        },
        {
         "Fell": 0,
         "Found": 1,
         "_deepnote_index_column": 45542
        },
        {
         "Fell": 0,
         "Found": 1,
         "_deepnote_index_column": 45543
        },
        {
         "Fell": 0,
         "Found": 1,
         "_deepnote_index_column": 45544
        },
        {
         "Fell": 0,
         "Found": 1,
         "_deepnote_index_column": 45545
        },
        {
         "Fell": 0,
         "Found": 1,
         "_deepnote_index_column": 45546
        },
        {
         "Fell": 0,
         "Found": 1,
         "_deepnote_index_column": 45547
        },
        {
         "Fell": 0,
         "Found": 1,
         "_deepnote_index_column": 45548
        },
        {
         "Fell": 0,
         "Found": 1,
         "_deepnote_index_column": 45549
        },
        {
         "Fell": 0,
         "Found": 1,
         "_deepnote_index_column": 45550
        },
        {
         "Fell": 0,
         "Found": 1,
         "_deepnote_index_column": 45551
        },
        {
         "Fell": 0,
         "Found": 1,
         "_deepnote_index_column": 45552
        },
        {
         "Fell": 0,
         "Found": 1,
         "_deepnote_index_column": 45553
        },
        {
         "Fell": 0,
         "Found": 1,
         "_deepnote_index_column": 45554
        },
        {
         "Fell": 0,
         "Found": 1,
         "_deepnote_index_column": 45555
        },
        {
         "Fell": 0,
         "Found": 1,
         "_deepnote_index_column": 45556
        },
        {
         "Fell": 0,
         "Found": 1,
         "_deepnote_index_column": 45557
        },
        {
         "Fell": 0,
         "Found": 1,
         "_deepnote_index_column": 45558
        },
        {
         "Fell": 0,
         "Found": 1,
         "_deepnote_index_column": 45559
        },
        {
         "Fell": 0,
         "Found": 1,
         "_deepnote_index_column": 45560
        },
        {
         "Fell": 0,
         "Found": 1,
         "_deepnote_index_column": 45561
        },
        {
         "Fell": 0,
         "Found": 1,
         "_deepnote_index_column": 45562
        },
        {
         "Fell": 0,
         "Found": 1,
         "_deepnote_index_column": 45563
        },
        {
         "Fell": 0,
         "Found": 1,
         "_deepnote_index_column": 45564
        },
        {
         "Fell": 0,
         "Found": 1,
         "_deepnote_index_column": 45565
        },
        {
         "Fell": 0,
         "Found": 1,
         "_deepnote_index_column": 45566
        },
        {
         "Fell": 0,
         "Found": 1,
         "_deepnote_index_column": 45567
        },
        {
         "Fell": 0,
         "Found": 1,
         "_deepnote_index_column": 45568
        },
        {
         "Fell": 0,
         "Found": 1,
         "_deepnote_index_column": 45569
        },
        {
         "Fell": 0,
         "Found": 1,
         "_deepnote_index_column": 45570
        },
        {
         "Fell": 0,
         "Found": 1,
         "_deepnote_index_column": 45571
        },
        {
         "Fell": 0,
         "Found": 1,
         "_deepnote_index_column": 45572
        },
        {
         "Fell": 0,
         "Found": 1,
         "_deepnote_index_column": 45573
        },
        {
         "Fell": 0,
         "Found": 1,
         "_deepnote_index_column": 45574
        },
        {
         "Fell": 0,
         "Found": 1,
         "_deepnote_index_column": 45575
        },
        {
         "Fell": 0,
         "Found": 1,
         "_deepnote_index_column": 45576
        },
        {
         "Fell": 0,
         "Found": 1,
         "_deepnote_index_column": 45577
        },
        {
         "Fell": 0,
         "Found": 1,
         "_deepnote_index_column": 45578
        },
        {
         "Fell": 0,
         "Found": 1,
         "_deepnote_index_column": 45579
        },
        {
         "Fell": 0,
         "Found": 1,
         "_deepnote_index_column": 45580
        },
        {
         "Fell": 0,
         "Found": 1,
         "_deepnote_index_column": 45581
        },
        {
         "Fell": 0,
         "Found": 1,
         "_deepnote_index_column": 45582
        },
        {
         "Fell": 0,
         "Found": 1,
         "_deepnote_index_column": 45583
        },
        {
         "Fell": 0,
         "Found": 1,
         "_deepnote_index_column": 45584
        },
        {
         "Fell": 0,
         "Found": 1,
         "_deepnote_index_column": 45585
        },
        {
         "Fell": 0,
         "Found": 1,
         "_deepnote_index_column": 45586
        },
        {
         "Fell": 0,
         "Found": 1,
         "_deepnote_index_column": 45587
        },
        {
         "Fell": 0,
         "Found": 1,
         "_deepnote_index_column": 45588
        },
        {
         "Fell": 0,
         "Found": 1,
         "_deepnote_index_column": 45589
        },
        {
         "Fell": 0,
         "Found": 1,
         "_deepnote_index_column": 45590
        },
        {
         "Fell": 0,
         "Found": 1,
         "_deepnote_index_column": 45591
        },
        {
         "Fell": 0,
         "Found": 1,
         "_deepnote_index_column": 45592
        },
        {
         "Fell": 0,
         "Found": 1,
         "_deepnote_index_column": 45593
        },
        {
         "Fell": 0,
         "Found": 1,
         "_deepnote_index_column": 45594
        },
        {
         "Fell": 0,
         "Found": 1,
         "_deepnote_index_column": 45595
        },
        {
         "Fell": 0,
         "Found": 1,
         "_deepnote_index_column": 45596
        },
        {
         "Fell": 0,
         "Found": 1,
         "_deepnote_index_column": 45597
        },
        {
         "Fell": 0,
         "Found": 1,
         "_deepnote_index_column": 45598
        },
        {
         "Fell": 0,
         "Found": 1,
         "_deepnote_index_column": 45599
        },
        {
         "Fell": 0,
         "Found": 1,
         "_deepnote_index_column": 45600
        },
        {
         "Fell": 0,
         "Found": 1,
         "_deepnote_index_column": 45601
        },
        {
         "Fell": 0,
         "Found": 1,
         "_deepnote_index_column": 45602
        },
        {
         "Fell": 0,
         "Found": 1,
         "_deepnote_index_column": 45603
        },
        {
         "Fell": 0,
         "Found": 1,
         "_deepnote_index_column": 45604
        },
        {
         "Fell": 0,
         "Found": 1,
         "_deepnote_index_column": 45605
        },
        {
         "Fell": 0,
         "Found": 1,
         "_deepnote_index_column": 45606
        },
        {
         "Fell": 0,
         "Found": 1,
         "_deepnote_index_column": 45607
        },
        {
         "Fell": 0,
         "Found": 1,
         "_deepnote_index_column": 45608
        },
        {
         "Fell": 0,
         "Found": 1,
         "_deepnote_index_column": 45609
        },
        {
         "Fell": 0,
         "Found": 1,
         "_deepnote_index_column": 45610
        },
        {
         "Fell": 0,
         "Found": 1,
         "_deepnote_index_column": 45611
        },
        {
         "Fell": 0,
         "Found": 1,
         "_deepnote_index_column": 45612
        },
        {
         "Fell": 0,
         "Found": 1,
         "_deepnote_index_column": 45613
        },
        {
         "Fell": 0,
         "Found": 1,
         "_deepnote_index_column": 45614
        },
        {
         "Fell": 0,
         "Found": 1,
         "_deepnote_index_column": 45615
        },
        {
         "Fell": 0,
         "Found": 1,
         "_deepnote_index_column": 45616
        },
        {
         "Fell": 0,
         "Found": 1,
         "_deepnote_index_column": 45617
        },
        {
         "Fell": 0,
         "Found": 1,
         "_deepnote_index_column": 45618
        },
        {
         "Fell": 0,
         "Found": 1,
         "_deepnote_index_column": 45619
        },
        {
         "Fell": 0,
         "Found": 1,
         "_deepnote_index_column": 45620
        },
        {
         "Fell": 0,
         "Found": 1,
         "_deepnote_index_column": 45621
        },
        {
         "Fell": 0,
         "Found": 1,
         "_deepnote_index_column": 45622
        },
        {
         "Fell": 0,
         "Found": 1,
         "_deepnote_index_column": 45623
        },
        {
         "Fell": 0,
         "Found": 1,
         "_deepnote_index_column": 45624
        },
        {
         "Fell": 0,
         "Found": 1,
         "_deepnote_index_column": 45625
        },
        {
         "Fell": 0,
         "Found": 1,
         "_deepnote_index_column": 45626
        },
        {
         "Fell": 0,
         "Found": 1,
         "_deepnote_index_column": 45627
        },
        {
         "Fell": 0,
         "Found": 1,
         "_deepnote_index_column": 45628
        },
        {
         "Fell": 0,
         "Found": 1,
         "_deepnote_index_column": 45629
        },
        {
         "Fell": 0,
         "Found": 1,
         "_deepnote_index_column": 45630
        },
        {
         "Fell": 0,
         "Found": 1,
         "_deepnote_index_column": 45631
        },
        {
         "Fell": 0,
         "Found": 1,
         "_deepnote_index_column": 45632
        },
        {
         "Fell": 0,
         "Found": 1,
         "_deepnote_index_column": 45633
        },
        {
         "Fell": 0,
         "Found": 1,
         "_deepnote_index_column": 45634
        },
        {
         "Fell": 0,
         "Found": 1,
         "_deepnote_index_column": 45635
        },
        {
         "Fell": 0,
         "Found": 1,
         "_deepnote_index_column": 45636
        },
        {
         "Fell": 0,
         "Found": 1,
         "_deepnote_index_column": 45637
        },
        {
         "Fell": 0,
         "Found": 1,
         "_deepnote_index_column": 45638
        },
        {
         "Fell": 0,
         "Found": 1,
         "_deepnote_index_column": 45639
        },
        {
         "Fell": 0,
         "Found": 1,
         "_deepnote_index_column": 45640
        },
        {
         "Fell": 0,
         "Found": 1,
         "_deepnote_index_column": 45641
        },
        {
         "Fell": 0,
         "Found": 1,
         "_deepnote_index_column": 45642
        },
        {
         "Fell": 0,
         "Found": 1,
         "_deepnote_index_column": 45643
        },
        {
         "Fell": 0,
         "Found": 1,
         "_deepnote_index_column": 45644
        },
        {
         "Fell": 0,
         "Found": 1,
         "_deepnote_index_column": 45645
        },
        {
         "Fell": 0,
         "Found": 1,
         "_deepnote_index_column": 45646
        },
        {
         "Fell": 0,
         "Found": 1,
         "_deepnote_index_column": 45647
        },
        {
         "Fell": 0,
         "Found": 1,
         "_deepnote_index_column": 45648
        },
        {
         "Fell": 0,
         "Found": 1,
         "_deepnote_index_column": 45649
        },
        {
         "Fell": 0,
         "Found": 1,
         "_deepnote_index_column": 45650
        },
        {
         "Fell": 0,
         "Found": 1,
         "_deepnote_index_column": 45651
        },
        {
         "Fell": 0,
         "Found": 1,
         "_deepnote_index_column": 45652
        },
        {
         "Fell": 0,
         "Found": 1,
         "_deepnote_index_column": 45653
        },
        {
         "Fell": 0,
         "Found": 1,
         "_deepnote_index_column": 45654
        },
        {
         "Fell": 0,
         "Found": 1,
         "_deepnote_index_column": 45655
        },
        {
         "Fell": 0,
         "Found": 1,
         "_deepnote_index_column": 45656
        },
        {
         "Fell": 0,
         "Found": 1,
         "_deepnote_index_column": 45657
        },
        {
         "Fell": 0,
         "Found": 1,
         "_deepnote_index_column": 45658
        },
        {
         "Fell": 0,
         "Found": 1,
         "_deepnote_index_column": 45659
        },
        {
         "Fell": 0,
         "Found": 1,
         "_deepnote_index_column": 45660
        },
        {
         "Fell": 0,
         "Found": 1,
         "_deepnote_index_column": 45661
        },
        {
         "Fell": 0,
         "Found": 1,
         "_deepnote_index_column": 45662
        },
        {
         "Fell": 0,
         "Found": 1,
         "_deepnote_index_column": 45663
        },
        {
         "Fell": 0,
         "Found": 1,
         "_deepnote_index_column": 45664
        },
        {
         "Fell": 0,
         "Found": 1,
         "_deepnote_index_column": 45665
        },
        {
         "Fell": 0,
         "Found": 1,
         "_deepnote_index_column": 45666
        },
        {
         "Fell": 0,
         "Found": 1,
         "_deepnote_index_column": 45667
        },
        {
         "Fell": 0,
         "Found": 1,
         "_deepnote_index_column": 45668
        },
        {
         "Fell": 0,
         "Found": 1,
         "_deepnote_index_column": 45669
        },
        {
         "Fell": 0,
         "Found": 1,
         "_deepnote_index_column": 45670
        },
        {
         "Fell": 0,
         "Found": 1,
         "_deepnote_index_column": 45671
        },
        {
         "Fell": 0,
         "Found": 1,
         "_deepnote_index_column": 45672
        },
        {
         "Fell": 0,
         "Found": 1,
         "_deepnote_index_column": 45673
        },
        {
         "Fell": 0,
         "Found": 1,
         "_deepnote_index_column": 45674
        },
        {
         "Fell": 0,
         "Found": 1,
         "_deepnote_index_column": 45675
        },
        {
         "Fell": 0,
         "Found": 1,
         "_deepnote_index_column": 45676
        },
        {
         "Fell": 0,
         "Found": 1,
         "_deepnote_index_column": 45677
        },
        {
         "Fell": 0,
         "Found": 1,
         "_deepnote_index_column": 45678
        },
        {
         "Fell": 0,
         "Found": 1,
         "_deepnote_index_column": 45679
        },
        {
         "Fell": 0,
         "Found": 1,
         "_deepnote_index_column": 45680
        },
        {
         "Fell": 0,
         "Found": 1,
         "_deepnote_index_column": 45681
        },
        {
         "Fell": 0,
         "Found": 1,
         "_deepnote_index_column": 45682
        },
        {
         "Fell": 0,
         "Found": 1,
         "_deepnote_index_column": 45683
        },
        {
         "Fell": 0,
         "Found": 1,
         "_deepnote_index_column": 45684
        },
        {
         "Fell": 0,
         "Found": 1,
         "_deepnote_index_column": 45685
        },
        {
         "Fell": 0,
         "Found": 1,
         "_deepnote_index_column": 45686
        },
        {
         "Fell": 0,
         "Found": 1,
         "_deepnote_index_column": 45687
        },
        {
         "Fell": 0,
         "Found": 1,
         "_deepnote_index_column": 45688
        },
        {
         "Fell": 0,
         "Found": 1,
         "_deepnote_index_column": 45689
        },
        {
         "Fell": 0,
         "Found": 1,
         "_deepnote_index_column": 45690
        },
        {
         "Fell": 0,
         "Found": 1,
         "_deepnote_index_column": 45691
        },
        {
         "Fell": 0,
         "Found": 1,
         "_deepnote_index_column": 45692
        },
        {
         "Fell": 0,
         "Found": 1,
         "_deepnote_index_column": 45693
        },
        {
         "Fell": 0,
         "Found": 1,
         "_deepnote_index_column": 45694
        },
        {
         "Fell": 0,
         "Found": 1,
         "_deepnote_index_column": 45695
        },
        {
         "Fell": 0,
         "Found": 1,
         "_deepnote_index_column": 45696
        },
        {
         "Fell": 0,
         "Found": 1,
         "_deepnote_index_column": 45697
        },
        {
         "Fell": 0,
         "Found": 1,
         "_deepnote_index_column": 45698
        },
        {
         "Fell": 0,
         "Found": 1,
         "_deepnote_index_column": 45699
        },
        {
         "Fell": 0,
         "Found": 1,
         "_deepnote_index_column": 45700
        },
        {
         "Fell": 0,
         "Found": 1,
         "_deepnote_index_column": 45701
        },
        {
         "Fell": 0,
         "Found": 1,
         "_deepnote_index_column": 45702
        },
        {
         "Fell": 0,
         "Found": 1,
         "_deepnote_index_column": 45703
        },
        {
         "Fell": 0,
         "Found": 1,
         "_deepnote_index_column": 45704
        },
        {
         "Fell": 0,
         "Found": 1,
         "_deepnote_index_column": 45705
        },
        {
         "Fell": 0,
         "Found": 1,
         "_deepnote_index_column": 45706
        },
        {
         "Fell": 0,
         "Found": 1,
         "_deepnote_index_column": 45707
        },
        {
         "Fell": 0,
         "Found": 1,
         "_deepnote_index_column": 45708
        },
        {
         "Fell": 0,
         "Found": 1,
         "_deepnote_index_column": 45709
        },
        {
         "Fell": 0,
         "Found": 1,
         "_deepnote_index_column": 45710
        },
        {
         "Fell": 0,
         "Found": 1,
         "_deepnote_index_column": 45711
        },
        {
         "Fell": 0,
         "Found": 1,
         "_deepnote_index_column": 45712
        },
        {
         "Fell": 0,
         "Found": 1,
         "_deepnote_index_column": 45713
        },
        {
         "Fell": 0,
         "Found": 1,
         "_deepnote_index_column": 45714
        },
        {
         "Fell": 0,
         "Found": 1,
         "_deepnote_index_column": 45715
        }
       ]
      },
      "text/plain": "       Fell  Found\n0         1      0\n1         1      0\n2         1      0\n3         1      0\n4         1      0\n...     ...    ...\n45711     0      1\n45712     0      1\n45713     0      1\n45714     0      1\n45715     0      1\n\n[45716 rows x 2 columns]",
      "text/html": "<div>\n<style scoped>\n    .dataframe tbody tr th:only-of-type {\n        vertical-align: middle;\n    }\n\n    .dataframe tbody tr th {\n        vertical-align: top;\n    }\n\n    .dataframe thead th {\n        text-align: right;\n    }\n</style>\n<table border=\"1\" class=\"dataframe\">\n  <thead>\n    <tr style=\"text-align: right;\">\n      <th></th>\n      <th>Fell</th>\n      <th>Found</th>\n    </tr>\n  </thead>\n  <tbody>\n    <tr>\n      <th>0</th>\n      <td>1</td>\n      <td>0</td>\n    </tr>\n    <tr>\n      <th>1</th>\n      <td>1</td>\n      <td>0</td>\n    </tr>\n    <tr>\n      <th>2</th>\n      <td>1</td>\n      <td>0</td>\n    </tr>\n    <tr>\n      <th>3</th>\n      <td>1</td>\n      <td>0</td>\n    </tr>\n    <tr>\n      <th>4</th>\n      <td>1</td>\n      <td>0</td>\n    </tr>\n    <tr>\n      <th>...</th>\n      <td>...</td>\n      <td>...</td>\n    </tr>\n    <tr>\n      <th>45711</th>\n      <td>0</td>\n      <td>1</td>\n    </tr>\n    <tr>\n      <th>45712</th>\n      <td>0</td>\n      <td>1</td>\n    </tr>\n    <tr>\n      <th>45713</th>\n      <td>0</td>\n      <td>1</td>\n    </tr>\n    <tr>\n      <th>45714</th>\n      <td>0</td>\n      <td>1</td>\n    </tr>\n    <tr>\n      <th>45715</th>\n      <td>0</td>\n      <td>1</td>\n    </tr>\n  </tbody>\n</table>\n<p>45716 rows × 2 columns</p>\n</div>"
     },
     "metadata": {}
    }
   ],
   "execution_count": 75
  },
  {
   "cell_type": "markdown",
   "source": "## Agregar nuevas columnas a nuestro DataFrame",
   "metadata": {
    "tags": [],
    "cell_id": "00021-e11f76b1-b1c4-4e41-8ec3-e50ec422ab84",
    "deepnote_cell_type": "markdown"
   }
  },
  {
   "cell_type": "code",
   "source": "df_meteorites[['fell','found']] = pd.get_dummies(df_meteorites['fall'])\ndf_meteorites.head(2)",
   "metadata": {
    "tags": [],
    "cell_id": "00021-8effb8e5-b7b6-4975-9afd-3f2c68826ee3",
    "deepnote_to_be_reexecuted": false,
    "source_hash": "832986aa",
    "execution_start": 1624907813838,
    "execution_millis": 0,
    "deepnote_cell_type": "code"
   },
   "outputs": [
    {
     "output_type": "execute_result",
     "execution_count": 77,
     "data": {
      "application/vnd.deepnote.dataframe.v2+json": {
       "row_count": 2,
       "column_count": 12,
       "columns": [
        {
         "name": "name",
         "dtype": "object",
         "stats": {
          "unique_count": 2,
          "nan_count": 0,
          "categories": [
           {
            "name": "Aachen",
            "count": 1
           },
           {
            "name": "Aarhus",
            "count": 1
           }
          ]
         }
        },
        {
         "name": "id",
         "dtype": "int64",
         "stats": {
          "unique_count": 2,
          "nan_count": 0,
          "min": "1",
          "max": "2",
          "histogram": [
           {
            "bin_start": 1,
            "bin_end": 1.1,
            "count": 1
           },
           {
            "bin_start": 1.1,
            "bin_end": 1.2,
            "count": 0
           },
           {
            "bin_start": 1.2,
            "bin_end": 1.3,
            "count": 0
           },
           {
            "bin_start": 1.3,
            "bin_end": 1.4,
            "count": 0
           },
           {
            "bin_start": 1.4,
            "bin_end": 1.5,
            "count": 0
           },
           {
            "bin_start": 1.5,
            "bin_end": 1.6,
            "count": 0
           },
           {
            "bin_start": 1.6,
            "bin_end": 1.7000000000000002,
            "count": 0
           },
           {
            "bin_start": 1.7000000000000002,
            "bin_end": 1.8,
            "count": 0
           },
           {
            "bin_start": 1.8,
            "bin_end": 1.9,
            "count": 0
           },
           {
            "bin_start": 1.9,
            "bin_end": 2,
            "count": 1
           }
          ]
         }
        },
        {
         "name": "nametype",
         "dtype": "category",
         "stats": {
          "unique_count": 1,
          "nan_count": 0,
          "categories": [
           {
            "name": "Valid",
            "count": 2
           }
          ]
         }
        },
        {
         "name": "recclass",
         "dtype": "object",
         "stats": {
          "unique_count": 2,
          "nan_count": 0,
          "categories": [
           {
            "name": "L5",
            "count": 1
           },
           {
            "name": "H6",
            "count": 1
           }
          ]
         }
        },
        {
         "name": "mass (g)",
         "dtype": "float64",
         "stats": {
          "unique_count": 2,
          "nan_count": 0,
          "min": "21.0",
          "max": "720.0",
          "histogram": [
           {
            "bin_start": 21,
            "bin_end": 90.9,
            "count": 1
           },
           {
            "bin_start": 90.9,
            "bin_end": 160.8,
            "count": 0
           },
           {
            "bin_start": 160.8,
            "bin_end": 230.70000000000002,
            "count": 0
           },
           {
            "bin_start": 230.70000000000002,
            "bin_end": 300.6,
            "count": 0
           },
           {
            "bin_start": 300.6,
            "bin_end": 370.5,
            "count": 0
           },
           {
            "bin_start": 370.5,
            "bin_end": 440.40000000000003,
            "count": 0
           },
           {
            "bin_start": 440.40000000000003,
            "bin_end": 510.30000000000007,
            "count": 0
           },
           {
            "bin_start": 510.30000000000007,
            "bin_end": 580.2,
            "count": 0
           },
           {
            "bin_start": 580.2,
            "bin_end": 650.1,
            "count": 0
           },
           {
            "bin_start": 650.1,
            "bin_end": 720,
            "count": 1
           }
          ]
         }
        },
        {
         "name": "fall",
         "dtype": "category",
         "stats": {
          "unique_count": 1,
          "nan_count": 0,
          "categories": [
           {
            "name": "Fell",
            "count": 2
           }
          ]
         }
        },
        {
         "name": "year",
         "dtype": "object",
         "stats": {
          "unique_count": 2,
          "nan_count": 0,
          "categories": [
           {
            "name": "01/01/1880 12:00:00 AM",
            "count": 1
           },
           {
            "name": "01/01/1951 12:00:00 AM",
            "count": 1
           }
          ]
         }
        },
        {
         "name": "reclat",
         "dtype": "float64",
         "stats": {
          "unique_count": 2,
          "nan_count": 0,
          "min": "50.775",
          "max": "56.18333",
          "histogram": [
           {
            "bin_start": 50.775,
            "bin_end": 51.315833,
            "count": 1
           },
           {
            "bin_start": 51.315833,
            "bin_end": 51.856666,
            "count": 0
           },
           {
            "bin_start": 51.856666,
            "bin_end": 52.397498999999996,
            "count": 0
           },
           {
            "bin_start": 52.397498999999996,
            "bin_end": 52.938331999999996,
            "count": 0
           },
           {
            "bin_start": 52.938331999999996,
            "bin_end": 53.479164999999995,
            "count": 0
           },
           {
            "bin_start": 53.479164999999995,
            "bin_end": 54.019998,
            "count": 0
           },
           {
            "bin_start": 54.019998,
            "bin_end": 54.560831,
            "count": 0
           },
           {
            "bin_start": 54.560831,
            "bin_end": 55.101664,
            "count": 0
           },
           {
            "bin_start": 55.101664,
            "bin_end": 55.642497,
            "count": 0
           },
           {
            "bin_start": 55.642497,
            "bin_end": 56.18333,
            "count": 1
           }
          ]
         }
        },
        {
         "name": "reclong",
         "dtype": "float64",
         "stats": {
          "unique_count": 2,
          "nan_count": 0,
          "min": "6.08333",
          "max": "10.23333",
          "histogram": [
           {
            "bin_start": 6.08333,
            "bin_end": 6.49833,
            "count": 1
           },
           {
            "bin_start": 6.49833,
            "bin_end": 6.91333,
            "count": 0
           },
           {
            "bin_start": 6.91333,
            "bin_end": 7.32833,
            "count": 0
           },
           {
            "bin_start": 7.32833,
            "bin_end": 7.74333,
            "count": 0
           },
           {
            "bin_start": 7.74333,
            "bin_end": 8.15833,
            "count": 0
           },
           {
            "bin_start": 8.15833,
            "bin_end": 8.57333,
            "count": 0
           },
           {
            "bin_start": 8.57333,
            "bin_end": 8.988330000000001,
            "count": 0
           },
           {
            "bin_start": 8.988330000000001,
            "bin_end": 9.40333,
            "count": 0
           },
           {
            "bin_start": 9.40333,
            "bin_end": 9.81833,
            "count": 0
           },
           {
            "bin_start": 9.81833,
            "bin_end": 10.23333,
            "count": 1
           }
          ]
         }
        },
        {
         "name": "GeoLocation",
         "dtype": "object",
         "stats": {
          "unique_count": 2,
          "nan_count": 0,
          "categories": [
           {
            "name": "(50.775, 6.08333)",
            "count": 1
           },
           {
            "name": "(56.18333, 10.23333)",
            "count": 1
           }
          ]
         }
        },
        {
         "name": "fell",
         "dtype": "uint8",
         "stats": {
          "unique_count": 1,
          "nan_count": 0,
          "min": "1",
          "max": "1",
          "histogram": [
           {
            "bin_start": 0.5,
            "bin_end": 0.6,
            "count": 0
           },
           {
            "bin_start": 0.6,
            "bin_end": 0.7,
            "count": 0
           },
           {
            "bin_start": 0.7,
            "bin_end": 0.8,
            "count": 0
           },
           {
            "bin_start": 0.8,
            "bin_end": 0.9,
            "count": 0
           },
           {
            "bin_start": 0.9,
            "bin_end": 1,
            "count": 0
           },
           {
            "bin_start": 1,
            "bin_end": 1.1,
            "count": 2
           },
           {
            "bin_start": 1.1,
            "bin_end": 1.2000000000000002,
            "count": 0
           },
           {
            "bin_start": 1.2000000000000002,
            "bin_end": 1.3,
            "count": 0
           },
           {
            "bin_start": 1.3,
            "bin_end": 1.4,
            "count": 0
           },
           {
            "bin_start": 1.4,
            "bin_end": 1.5,
            "count": 0
           }
          ]
         }
        },
        {
         "name": "found",
         "dtype": "uint8",
         "stats": {
          "unique_count": 1,
          "nan_count": 0,
          "min": "0",
          "max": "0",
          "histogram": [
           {
            "bin_start": -0.5,
            "bin_end": -0.4,
            "count": 0
           },
           {
            "bin_start": -0.4,
            "bin_end": -0.3,
            "count": 0
           },
           {
            "bin_start": -0.3,
            "bin_end": -0.19999999999999996,
            "count": 0
           },
           {
            "bin_start": -0.19999999999999996,
            "bin_end": -0.09999999999999998,
            "count": 0
           },
           {
            "bin_start": -0.09999999999999998,
            "bin_end": 0,
            "count": 0
           },
           {
            "bin_start": 0,
            "bin_end": 0.10000000000000009,
            "count": 2
           },
           {
            "bin_start": 0.10000000000000009,
            "bin_end": 0.20000000000000007,
            "count": 0
           },
           {
            "bin_start": 0.20000000000000007,
            "bin_end": 0.30000000000000004,
            "count": 0
           },
           {
            "bin_start": 0.30000000000000004,
            "bin_end": 0.4,
            "count": 0
           },
           {
            "bin_start": 0.4,
            "bin_end": 0.5,
            "count": 0
           }
          ]
         }
        },
        {
         "name": "_deepnote_index_column",
         "dtype": "int64"
        }
       ],
       "rows_top": [
        {
         "name": "Aachen",
         "id": 1,
         "nametype": "Valid",
         "recclass": "L5",
         "mass (g)": 21,
         "fall": "Fell",
         "year": "01/01/1880 12:00:00 AM",
         "reclat": 50.775,
         "reclong": 6.08333,
         "GeoLocation": "(50.775, 6.08333)",
         "fell": 1,
         "found": 0,
         "_deepnote_index_column": 0
        },
        {
         "name": "Aarhus",
         "id": 2,
         "nametype": "Valid",
         "recclass": "H6",
         "mass (g)": 720,
         "fall": "Fell",
         "year": "01/01/1951 12:00:00 AM",
         "reclat": 56.18333,
         "reclong": 10.23333,
         "GeoLocation": "(56.18333, 10.23333)",
         "fell": 1,
         "found": 0,
         "_deepnote_index_column": 1
        }
       ],
       "rows_bottom": null
      },
      "text/plain": "     name  id nametype recclass  mass (g)  fall                    year  \\\n0  Aachen   1    Valid       L5     21.00  Fell  01/01/1880 12:00:00 AM   \n1  Aarhus   2    Valid       H6    720.00  Fell  01/01/1951 12:00:00 AM   \n\n   reclat  reclong           GeoLocation  fell  found  \n0   50.77     6.08     (50.775, 6.08333)     1      0  \n1   56.18    10.23  (56.18333, 10.23333)     1      0  ",
      "text/html": "<div>\n<style scoped>\n    .dataframe tbody tr th:only-of-type {\n        vertical-align: middle;\n    }\n\n    .dataframe tbody tr th {\n        vertical-align: top;\n    }\n\n    .dataframe thead th {\n        text-align: right;\n    }\n</style>\n<table border=\"1\" class=\"dataframe\">\n  <thead>\n    <tr style=\"text-align: right;\">\n      <th></th>\n      <th>name</th>\n      <th>id</th>\n      <th>nametype</th>\n      <th>recclass</th>\n      <th>mass (g)</th>\n      <th>fall</th>\n      <th>year</th>\n      <th>reclat</th>\n      <th>reclong</th>\n      <th>GeoLocation</th>\n      <th>fell</th>\n      <th>found</th>\n    </tr>\n  </thead>\n  <tbody>\n    <tr>\n      <th>0</th>\n      <td>Aachen</td>\n      <td>1</td>\n      <td>Valid</td>\n      <td>L5</td>\n      <td>21.00</td>\n      <td>Fell</td>\n      <td>01/01/1880 12:00:00 AM</td>\n      <td>50.77</td>\n      <td>6.08</td>\n      <td>(50.775, 6.08333)</td>\n      <td>1</td>\n      <td>0</td>\n    </tr>\n    <tr>\n      <th>1</th>\n      <td>Aarhus</td>\n      <td>2</td>\n      <td>Valid</td>\n      <td>H6</td>\n      <td>720.00</td>\n      <td>Fell</td>\n      <td>01/01/1951 12:00:00 AM</td>\n      <td>56.18</td>\n      <td>10.23</td>\n      <td>(56.18333, 10.23333)</td>\n      <td>1</td>\n      <td>0</td>\n    </tr>\n  </tbody>\n</table>\n</div>"
     },
     "metadata": {}
    }
   ],
   "execution_count": 77
  },
  {
   "cell_type": "markdown",
   "source": "## Manejo del tiempo",
   "metadata": {
    "tags": [],
    "cell_id": "00023-82885e6f-a8dd-46a9-900b-f1b83093a437",
    "deepnote_cell_type": "markdown"
   }
  },
  {
   "cell_type": "code",
   "source": "df_meteorites['year'] = pd.to_datetime(\n    df_meteorites['year'],\n    errors='coerce',\n    format='%m/%d/%Y %H:%M:%S %p'\n)\ndf_meteorites.convert_dtypes().dtypes",
   "metadata": {
    "tags": [],
    "cell_id": "00024-7a9cdcf3-7dc4-4308-b452-fcb92254df6d",
    "deepnote_to_be_reexecuted": false,
    "source_hash": "4e013588",
    "execution_start": 1624908227045,
    "execution_millis": 63,
    "deepnote_cell_type": "code"
   },
   "outputs": [
    {
     "output_type": "execute_result",
     "execution_count": 98,
     "data": {
      "text/plain": "name                   string\nid                      Int64\nnametype             category\nrecclass               string\nmass (g)              Float64\nfall                 category\nyear           datetime64[ns]\nreclat                Float64\nreclong               Float64\nGeoLocation            string\nfell                    UInt8\nfound                   UInt8\ndtype: object"
     },
     "metadata": {}
    }
   ],
   "execution_count": 98
  },
  {
   "cell_type": "markdown",
   "source": "## Renombrar columnas\ninplace=True  - Nos ayuda aplicar los cambios a nuestro DataFrame",
   "metadata": {
    "tags": [],
    "cell_id": "00025-40f38e34-c924-4465-8442-7a7037b5bcff",
    "deepnote_cell_type": "markdown"
   }
  },
  {
   "cell_type": "code",
   "source": "df_meteorites.rename(columns={'mass (g)':'mass'}, inplace=True)\ndf_meteorites.dtypes",
   "metadata": {
    "tags": [],
    "cell_id": "00026-4d19fb5b-c33a-43ca-a10b-9062e1016239",
    "deepnote_to_be_reexecuted": false,
    "source_hash": "1304bb1d",
    "execution_start": 1624908454529,
    "execution_millis": 30,
    "deepnote_cell_type": "code"
   },
   "outputs": [
    {
     "output_type": "execute_result",
     "execution_count": 103,
     "data": {
      "text/plain": "name                   object\nid                      int64\nnametype             category\nrecclass               object\nmass                  float64\nfall                 category\nyear           datetime64[ns]\nreclat                float64\nreclong               float64\nGeoLocation            object\nfell                    uint8\nfound                   uint8\ndtype: object"
     },
     "metadata": {}
    }
   ],
   "execution_count": 103
  },
  {
   "cell_type": "markdown",
   "source": "<a style='text-decoration:none;line-height:16px;display:flex;color:#5B5B62;padding:10px;justify-content:end;' href='https://deepnote.com?utm_source=created-in-deepnote-cell&projectId=40d7a071-7e6a-4668-9914-a7e81441c111' target=\"_blank\">\n<img alt='Created in deepnote.com' style='display:inline;max-height:16px;margin:0px;margin-right:7.5px;' src='data:image/svg+xml;base64,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' > </img>\nCreated in <span style='font-weight:600;margin-left:4px;'>Deepnote</span></a>",
   "metadata": {
    "tags": [],
    "created_in_deepnote_cell": true,
    "deepnote_cell_type": "markdown"
   }
  }
 ],
 "nbformat": 4,
 "nbformat_minor": 2,
 "metadata": {
  "orig_nbformat": 2,
  "deepnote": {
   "is_reactive": false
  },
  "deepnote_notebook_id": "2e8ce63b-f260-441a-86db-4443f708d792",
  "deepnote_execution_queue": []
 }
}