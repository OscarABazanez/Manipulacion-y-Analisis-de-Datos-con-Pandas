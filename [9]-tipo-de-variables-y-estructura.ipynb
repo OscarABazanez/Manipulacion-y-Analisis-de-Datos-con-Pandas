{
 "cells": [
  {
   "cell_type": "code",
   "metadata": {
    "tags": [],
    "cell_id": "00000-dc3f51ae-6a53-4d24-9f24-8d0ea27b5430",
    "deepnote_to_be_reexecuted": false,
    "source_hash": "9b82ee11",
    "execution_start": 1624905525957,
    "execution_millis": 13,
    "deepnote_cell_type": "code"
   },
   "source": "import pandas as pd",
   "outputs": [],
   "execution_count": 13
  },
  {
   "cell_type": "code",
   "metadata": {
    "tags": [],
    "cell_id": "00001-25548aba-411f-4805-b229-e339d485cd36",
    "deepnote_to_be_reexecuted": false,
    "source_hash": "bf01c574",
    "execution_start": 1624905528469,
    "execution_millis": 244,
    "deepnote_cell_type": "code"
   },
   "source": "df_meteorites = pd.read_csv('db/Meteorite_Landings.csv')\ndf_meteorites.tail(2) #Ver los ultimos registros\ndf_meteorites.sample(3) #Muestra registros aleatorios",
   "outputs": [
    {
     "output_type": "execute_result",
     "execution_count": 14,
     "data": {
      "application/vnd.deepnote.dataframe.v2+json": {
       "row_count": 3,
       "column_count": 10,
       "columns": [
        {
         "name": "name",
         "dtype": "object",
         "stats": {
          "unique_count": 3,
          "nan_count": 0,
          "categories": [
           {
            "name": "Pecora Escarpment 91011",
            "count": 1
           },
           {
            "name": "Dhofar 071",
            "count": 1
           },
           {
            "name": "Larkman Nunatak 06549",
            "count": 1
           }
          ]
         }
        },
        {
         "name": "id",
         "dtype": "int64",
         "stats": {
          "unique_count": 3,
          "nan_count": 0,
          "min": "6770",
          "max": "47475",
          "histogram": [
           {
            "bin_start": 6770,
            "bin_end": 10840.5,
            "count": 1
           },
           {
            "bin_start": 10840.5,
            "bin_end": 14911,
            "count": 0
           },
           {
            "bin_start": 14911,
            "bin_end": 18981.5,
            "count": 1
           },
           {
            "bin_start": 18981.5,
            "bin_end": 23052,
            "count": 0
           },
           {
            "bin_start": 23052,
            "bin_end": 27122.5,
            "count": 0
           },
           {
            "bin_start": 27122.5,
            "bin_end": 31193,
            "count": 0
           },
           {
            "bin_start": 31193,
            "bin_end": 35263.5,
            "count": 0
           },
           {
            "bin_start": 35263.5,
            "bin_end": 39334,
            "count": 0
           },
           {
            "bin_start": 39334,
            "bin_end": 43404.5,
            "count": 0
           },
           {
            "bin_start": 43404.5,
            "bin_end": 47475,
            "count": 1
           }
          ]
         }
        },
        {
         "name": "nametype",
         "dtype": "object",
         "stats": {
          "unique_count": 1,
          "nan_count": 0,
          "categories": [
           {
            "name": "Valid",
            "count": 3
           }
          ]
         }
        },
        {
         "name": "recclass",
         "dtype": "object",
         "stats": {
          "unique_count": 3,
          "nan_count": 0,
          "categories": [
           {
            "name": "L5",
            "count": 1
           },
           {
            "name": "L6",
            "count": 1
           },
           {
            "name": "H6",
            "count": 1
           }
          ]
         }
        },
        {
         "name": "mass (g)",
         "dtype": "float64",
         "stats": {
          "unique_count": 3,
          "nan_count": 0,
          "min": "19.3",
          "max": "7272.6",
          "histogram": [
           {
            "bin_start": 19.3,
            "bin_end": 744.63,
            "count": 2
           },
           {
            "bin_start": 744.63,
            "bin_end": 1469.96,
            "count": 0
           },
           {
            "bin_start": 1469.96,
            "bin_end": 2195.2900000000004,
            "count": 0
           },
           {
            "bin_start": 2195.2900000000004,
            "bin_end": 2920.6200000000003,
            "count": 0
           },
           {
            "bin_start": 2920.6200000000003,
            "bin_end": 3645.9500000000003,
            "count": 0
           },
           {
            "bin_start": 3645.9500000000003,
            "bin_end": 4371.280000000001,
            "count": 0
           },
           {
            "bin_start": 4371.280000000001,
            "bin_end": 5096.610000000001,
            "count": 0
           },
           {
            "bin_start": 5096.610000000001,
            "bin_end": 5821.9400000000005,
            "count": 0
           },
           {
            "bin_start": 5821.9400000000005,
            "bin_end": 6547.27,
            "count": 0
           },
           {
            "bin_start": 6547.27,
            "bin_end": 7272.6,
            "count": 1
           }
          ]
         }
        },
        {
         "name": "fall",
         "dtype": "object",
         "stats": {
          "unique_count": 1,
          "nan_count": 0,
          "categories": [
           {
            "name": "Found",
            "count": 3
           }
          ]
         }
        },
        {
         "name": "year",
         "dtype": "object",
         "stats": {
          "unique_count": 3,
          "nan_count": 0,
          "categories": [
           {
            "name": "01/01/1991 12:00:00 AM",
            "count": 1
           },
           {
            "name": "01/01/1999 12:00:00 AM",
            "count": 1
           },
           {
            "name": "01/01/2006 12:00:00 AM",
            "count": 1
           }
          ]
         }
        },
        {
         "name": "reclat",
         "dtype": "float64",
         "stats": {
          "unique_count": 2,
          "nan_count": 1,
          "min": "-85.67367",
          "max": "19.15367",
          "histogram": [
           {
            "bin_start": -85.67367,
            "bin_end": -75.190936,
            "count": 1
           },
           {
            "bin_start": -75.190936,
            "bin_end": -64.708202,
            "count": 0
           },
           {
            "bin_start": -64.708202,
            "bin_end": -54.225468,
            "count": 0
           },
           {
            "bin_start": -54.225468,
            "bin_end": -43.742734,
            "count": 0
           },
           {
            "bin_start": -43.742734,
            "bin_end": -33.26,
            "count": 0
           },
           {
            "bin_start": -33.26,
            "bin_end": -22.777265999999997,
            "count": 0
           },
           {
            "bin_start": -22.777265999999997,
            "bin_end": -12.29453199999999,
            "count": 0
           },
           {
            "bin_start": -12.29453199999999,
            "bin_end": -1.811797999999996,
            "count": 0
           },
           {
            "bin_start": -1.811797999999996,
            "bin_end": 8.670935999999998,
            "count": 0
           },
           {
            "bin_start": 8.670935999999998,
            "bin_end": 19.15367,
            "count": 1
           }
          ]
         }
        },
        {
         "name": "reclong",
         "dtype": "float64",
         "stats": {
          "unique_count": 2,
          "nan_count": 1,
          "min": "-69.02959",
          "max": "54.85367",
          "histogram": [
           {
            "bin_start": -69.02959,
            "bin_end": -56.641264,
            "count": 1
           },
           {
            "bin_start": -56.641264,
            "bin_end": -44.252938,
            "count": 0
           },
           {
            "bin_start": -44.252938,
            "bin_end": -31.864611999999994,
            "count": 0
           },
           {
            "bin_start": -31.864611999999994,
            "bin_end": -19.476285999999995,
            "count": 0
           },
           {
            "bin_start": -19.476285999999995,
            "bin_end": -7.087959999999995,
            "count": 0
           },
           {
            "bin_start": -7.087959999999995,
            "bin_end": 5.300366000000011,
            "count": 0
           },
           {
            "bin_start": 5.300366000000011,
            "bin_end": 17.688692000000003,
            "count": 0
           },
           {
            "bin_start": 17.688692000000003,
            "bin_end": 30.07701800000001,
            "count": 0
           },
           {
            "bin_start": 30.07701800000001,
            "bin_end": 42.465344000000016,
            "count": 0
           },
           {
            "bin_start": 42.465344000000016,
            "bin_end": 54.85367,
            "count": 1
           }
          ]
         }
        },
        {
         "name": "GeoLocation",
         "dtype": "object",
         "stats": {
          "unique_count": 2,
          "nan_count": 1,
          "categories": [
           {
            "name": "(-85.67367, -69.02959)",
            "count": 1
           },
           {
            "name": "(19.15367, 54.85367)",
            "count": 1
           },
           {
            "name": "Missing",
            "count": 1
           }
          ]
         }
        },
        {
         "name": "_deepnote_index_column",
         "dtype": "int64"
        }
       ],
       "rows_top": [
        {
         "name": "Pecora Escarpment 91011",
         "id": 18302,
         "nametype": "Valid",
         "recclass": "L5",
         "mass (g)": 7272.6,
         "fall": "Found",
         "year": "01/01/1991 12:00:00 AM",
         "reclat": -85.67367,
         "reclong": -69.02959,
         "GeoLocation": "(-85.67367, -69.02959)",
         "_deepnote_index_column": 31495
        },
        {
         "name": "Dhofar 071",
         "id": 6770,
         "nametype": "Valid",
         "recclass": "L6",
         "mass (g)": 135,
         "fall": "Found",
         "year": "01/01/1999 12:00:00 AM",
         "reclat": 19.15367,
         "reclong": 54.85367,
         "GeoLocation": "(19.15367, 54.85367)",
         "_deepnote_index_column": 6966
        },
        {
         "name": "Larkman Nunatak 06549",
         "id": 47475,
         "nametype": "Valid",
         "recclass": "H6",
         "mass (g)": 19.3,
         "fall": "Found",
         "year": "01/01/2006 12:00:00 AM",
         "reclat": "nan",
         "reclong": "nan",
         "GeoLocation": "nan",
         "_deepnote_index_column": 19389
        }
       ],
       "rows_bottom": null
      },
      "text/plain": "                          name     id nametype recclass  mass (g)   fall  \\\n31495  Pecora Escarpment 91011  18302    Valid       L5    7272.6  Found   \n6966                Dhofar 071   6770    Valid       L6     135.0  Found   \n19389    Larkman Nunatak 06549  47475    Valid       H6      19.3  Found   \n\n                         year    reclat   reclong             GeoLocation  \n31495  01/01/1991 12:00:00 AM -85.67367 -69.02959  (-85.67367, -69.02959)  \n6966   01/01/1999 12:00:00 AM  19.15367  54.85367    (19.15367, 54.85367)  \n19389  01/01/2006 12:00:00 AM       NaN       NaN                     NaN  ",
      "text/html": "<div>\n<style scoped>\n    .dataframe tbody tr th:only-of-type {\n        vertical-align: middle;\n    }\n\n    .dataframe tbody tr th {\n        vertical-align: top;\n    }\n\n    .dataframe thead th {\n        text-align: right;\n    }\n</style>\n<table border=\"1\" class=\"dataframe\">\n  <thead>\n    <tr style=\"text-align: right;\">\n      <th></th>\n      <th>name</th>\n      <th>id</th>\n      <th>nametype</th>\n      <th>recclass</th>\n      <th>mass (g)</th>\n      <th>fall</th>\n      <th>year</th>\n      <th>reclat</th>\n      <th>reclong</th>\n      <th>GeoLocation</th>\n    </tr>\n  </thead>\n  <tbody>\n    <tr>\n      <th>31495</th>\n      <td>Pecora Escarpment 91011</td>\n      <td>18302</td>\n      <td>Valid</td>\n      <td>L5</td>\n      <td>7272.6</td>\n      <td>Found</td>\n      <td>01/01/1991 12:00:00 AM</td>\n      <td>-85.67367</td>\n      <td>-69.02959</td>\n      <td>(-85.67367, -69.02959)</td>\n    </tr>\n    <tr>\n      <th>6966</th>\n      <td>Dhofar 071</td>\n      <td>6770</td>\n      <td>Valid</td>\n      <td>L6</td>\n      <td>135.0</td>\n      <td>Found</td>\n      <td>01/01/1999 12:00:00 AM</td>\n      <td>19.15367</td>\n      <td>54.85367</td>\n      <td>(19.15367, 54.85367)</td>\n    </tr>\n    <tr>\n      <th>19389</th>\n      <td>Larkman Nunatak 06549</td>\n      <td>47475</td>\n      <td>Valid</td>\n      <td>H6</td>\n      <td>19.3</td>\n      <td>Found</td>\n      <td>01/01/2006 12:00:00 AM</td>\n      <td>NaN</td>\n      <td>NaN</td>\n      <td>NaN</td>\n    </tr>\n  </tbody>\n</table>\n</div>"
     },
     "metadata": {}
    }
   ],
   "execution_count": 14
  },
  {
   "cell_type": "markdown",
   "source": "# Muestra la cantidad de filas y de columans tiene el Data Frame",
   "metadata": {
    "tags": [],
    "cell_id": "00002-3520f76a-8af4-49c8-80e8-8eeacfda0d7a",
    "deepnote_cell_type": "markdown"
   }
  },
  {
   "cell_type": "code",
   "metadata": {
    "tags": [],
    "cell_id": "00002-ff5585e6-dbdc-4fd4-9f10-426f3f2f9806",
    "deepnote_to_be_reexecuted": false,
    "source_hash": "4f5b9c51",
    "execution_start": 1624905607383,
    "execution_millis": 13,
    "deepnote_cell_type": "code"
   },
   "source": "df_meteorites.shape",
   "outputs": [
    {
     "output_type": "execute_result",
     "execution_count": 17,
     "data": {
      "text/plain": "(45716, 10)"
     },
     "metadata": {}
    }
   ],
   "execution_count": 17
  },
  {
   "cell_type": "markdown",
   "source": "# Muestra la cantidad de registros que tiene el DataFrame",
   "metadata": {
    "tags": [],
    "cell_id": "00004-6c7e7bc8-3f47-4ec7-94b3-56e09c1e3e49",
    "deepnote_cell_type": "markdown"
   }
  },
  {
   "cell_type": "code",
   "metadata": {
    "tags": [],
    "cell_id": "00003-4ab3a386-3860-4b4b-8e87-17d14490d9d5",
    "deepnote_to_be_reexecuted": false,
    "source_hash": "bcb90767",
    "execution_start": 1624905660987,
    "execution_millis": 14,
    "deepnote_cell_type": "code"
   },
   "source": "df_meteorites.size",
   "outputs": [
    {
     "output_type": "execute_result",
     "execution_count": 18,
     "data": {
      "text/plain": "457160"
     },
     "metadata": {}
    }
   ],
   "execution_count": 18
  },
  {
   "cell_type": "code",
   "metadata": {
    "tags": [],
    "cell_id": "00004-b4d6e288-5415-4ac4-88a1-49ec36169880",
    "deepnote_to_be_reexecuted": false,
    "source_hash": "a1ef7f8d",
    "execution_start": 1624906422264,
    "execution_millis": 70,
    "deepnote_cell_type": "code"
   },
   "source": "df_meteorites.describe()",
   "outputs": [
    {
     "output_type": "execute_result",
     "execution_count": 44,
     "data": {
      "application/vnd.deepnote.dataframe.v2+json": {
       "row_count": 8,
       "column_count": 4,
       "columns": [
        {
         "name": "id",
         "dtype": "float64",
         "stats": {
          "unique_count": 8,
          "nan_count": 0,
          "min": "1.0",
          "max": "57458.0",
          "histogram": [
           {
            "bin_start": 1,
            "bin_end": 5746.7,
            "count": 1
           },
           {
            "bin_start": 5746.7,
            "bin_end": 11492.4,
            "count": 0
           },
           {
            "bin_start": 11492.4,
            "bin_end": 17238.1,
            "count": 2
           },
           {
            "bin_start": 17238.1,
            "bin_end": 22983.8,
            "count": 0
           },
           {
            "bin_start": 22983.8,
            "bin_end": 28729.5,
            "count": 2
           },
           {
            "bin_start": 28729.5,
            "bin_end": 34475.2,
            "count": 0
           },
           {
            "bin_start": 34475.2,
            "bin_end": 40220.9,
            "count": 0
           },
           {
            "bin_start": 40220.9,
            "bin_end": 45966.6,
            "count": 2
           },
           {
            "bin_start": 45966.6,
            "bin_end": 51712.299999999996,
            "count": 0
           },
           {
            "bin_start": 51712.299999999996,
            "bin_end": 57458,
            "count": 1
           }
          ]
         }
        },
        {
         "name": "mass (g)",
         "dtype": "float64",
         "stats": {
          "unique_count": 8,
          "nan_count": 0,
          "min": "0.0",
          "max": "60000000.0",
          "histogram": [
           {
            "bin_start": 0,
            "bin_end": 6000000,
            "count": 7
           },
           {
            "bin_start": 6000000,
            "bin_end": 12000000,
            "count": 0
           },
           {
            "bin_start": 12000000,
            "bin_end": 18000000,
            "count": 0
           },
           {
            "bin_start": 18000000,
            "bin_end": 24000000,
            "count": 0
           },
           {
            "bin_start": 24000000,
            "bin_end": 30000000,
            "count": 0
           },
           {
            "bin_start": 30000000,
            "bin_end": 36000000,
            "count": 0
           },
           {
            "bin_start": 36000000,
            "bin_end": 42000000,
            "count": 0
           },
           {
            "bin_start": 42000000,
            "bin_end": 48000000,
            "count": 0
           },
           {
            "bin_start": 48000000,
            "bin_end": 54000000,
            "count": 0
           },
           {
            "bin_start": 54000000,
            "bin_end": 60000000,
            "count": 1
           }
          ]
         }
        },
        {
         "name": "reclat",
         "dtype": "float64",
         "stats": {
          "unique_count": 8,
          "nan_count": 0,
          "min": "-87.36667",
          "max": "38401.0",
          "histogram": [
           {
            "bin_start": -87.36667,
            "bin_end": 3761.4699970000006,
            "count": 7
           },
           {
            "bin_start": 3761.4699970000006,
            "bin_end": 7610.306664000001,
            "count": 0
           },
           {
            "bin_start": 7610.306664000001,
            "bin_end": 11459.143331000003,
            "count": 0
           },
           {
            "bin_start": 11459.143331000003,
            "bin_end": 15307.979998000003,
            "count": 0
           },
           {
            "bin_start": 15307.979998000003,
            "bin_end": 19156.816665000002,
            "count": 0
           },
           {
            "bin_start": 19156.816665000002,
            "bin_end": 23005.653332000005,
            "count": 0
           },
           {
            "bin_start": 23005.653332000005,
            "bin_end": 26854.489999000005,
            "count": 0
           },
           {
            "bin_start": 26854.489999000005,
            "bin_end": 30703.326666000004,
            "count": 0
           },
           {
            "bin_start": 30703.326666000004,
            "bin_end": 34552.163333000004,
            "count": 0
           },
           {
            "bin_start": 34552.163333000004,
            "bin_end": 38401,
            "count": 1
           }
          ]
         }
        },
        {
         "name": "reclong",
         "dtype": "float64",
         "stats": {
          "unique_count": 8,
          "nan_count": 0,
          "min": "-165.43333",
          "max": "38401.0",
          "histogram": [
           {
            "bin_start": -165.43333,
            "bin_end": 3691.210003,
            "count": 7
           },
           {
            "bin_start": 3691.210003,
            "bin_end": 7547.853336,
            "count": 0
           },
           {
            "bin_start": 7547.853336,
            "bin_end": 11404.496669,
            "count": 0
           },
           {
            "bin_start": 11404.496669,
            "bin_end": 15261.140002,
            "count": 0
           },
           {
            "bin_start": 15261.140002,
            "bin_end": 19117.783335,
            "count": 0
           },
           {
            "bin_start": 19117.783335,
            "bin_end": 22974.426668,
            "count": 0
           },
           {
            "bin_start": 22974.426668,
            "bin_end": 26831.070001,
            "count": 0
           },
           {
            "bin_start": 26831.070001,
            "bin_end": 30687.713334,
            "count": 0
           },
           {
            "bin_start": 30687.713334,
            "bin_end": 34544.356667,
            "count": 0
           },
           {
            "bin_start": 34544.356667,
            "bin_end": 38401,
            "count": 1
           }
          ]
         }
        },
        {
         "name": "_deepnote_index_column",
         "dtype": "object"
        }
       ],
       "rows_top": [
        {
         "id": 45716,
         "mass (g)": 45585,
         "reclat": 38401,
         "reclong": 38401,
         "_deepnote_index_column": "count"
        },
        {
         "id": 26889.73510368361,
         "mass (g)": 13278.078548601512,
         "reclat": -39.12258031142418,
         "reclong": 61.074318526236304,
         "_deepnote_index_column": "mean"
        },
        {
         "id": 16860.683030276337,
         "mass (g)": 574988.876410473,
         "reclat": 46.37851135669318,
         "reclong": 80.64729807908505,
         "_deepnote_index_column": "std"
        },
        {
         "id": 1,
         "mass (g)": 0,
         "reclat": -87.36667,
         "reclong": -165.43333,
         "_deepnote_index_column": "min"
        },
        {
         "id": 12688.75,
         "mass (g)": 7.2,
         "reclat": -76.71424,
         "reclong": 0,
         "_deepnote_index_column": "25%"
        },
        {
         "id": 24261.5,
         "mass (g)": 32.6,
         "reclat": -71.5,
         "reclong": 35.66667,
         "_deepnote_index_column": "50%"
        },
        {
         "id": 40656.75,
         "mass (g)": 202.6,
         "reclat": 0,
         "reclong": 157.16667,
         "_deepnote_index_column": "75%"
        },
        {
         "id": 57458,
         "mass (g)": 60000000,
         "reclat": 81.16667,
         "reclong": 354.47333,
         "_deepnote_index_column": "max"
        }
       ],
       "rows_bottom": null
      },
      "text/plain": "            id     mass (g)   reclat  reclong\ncount 45,716.0     45,585.0 38,401.0 38,401.0\nmean  26,889.7     13,278.1    -39.1     61.1\nstd   16,860.7    574,988.9     46.4     80.6\nmin        1.0          0.0    -87.4   -165.4\n25%   12,688.8          7.2    -76.7      0.0\n50%   24,261.5         32.6    -71.5     35.7\n75%   40,656.8        202.6      0.0    157.2\nmax   57,458.0 60,000,000.0     81.2    354.5",
      "text/html": "<div>\n<style scoped>\n    .dataframe tbody tr th:only-of-type {\n        vertical-align: middle;\n    }\n\n    .dataframe tbody tr th {\n        vertical-align: top;\n    }\n\n    .dataframe thead th {\n        text-align: right;\n    }\n</style>\n<table border=\"1\" class=\"dataframe\">\n  <thead>\n    <tr style=\"text-align: right;\">\n      <th></th>\n      <th>id</th>\n      <th>mass (g)</th>\n      <th>reclat</th>\n      <th>reclong</th>\n    </tr>\n  </thead>\n  <tbody>\n    <tr>\n      <th>count</th>\n      <td>45,716.0</td>\n      <td>45,585.0</td>\n      <td>38,401.0</td>\n      <td>38,401.0</td>\n    </tr>\n    <tr>\n      <th>mean</th>\n      <td>26,889.7</td>\n      <td>13,278.1</td>\n      <td>-39.1</td>\n      <td>61.1</td>\n    </tr>\n    <tr>\n      <th>std</th>\n      <td>16,860.7</td>\n      <td>574,988.9</td>\n      <td>46.4</td>\n      <td>80.6</td>\n    </tr>\n    <tr>\n      <th>min</th>\n      <td>1.0</td>\n      <td>0.0</td>\n      <td>-87.4</td>\n      <td>-165.4</td>\n    </tr>\n    <tr>\n      <th>25%</th>\n      <td>12,688.8</td>\n      <td>7.2</td>\n      <td>-76.7</td>\n      <td>0.0</td>\n    </tr>\n    <tr>\n      <th>50%</th>\n      <td>24,261.5</td>\n      <td>32.6</td>\n      <td>-71.5</td>\n      <td>35.7</td>\n    </tr>\n    <tr>\n      <th>75%</th>\n      <td>40,656.8</td>\n      <td>202.6</td>\n      <td>0.0</td>\n      <td>157.2</td>\n    </tr>\n    <tr>\n      <th>max</th>\n      <td>57,458.0</td>\n      <td>60,000,000.0</td>\n      <td>81.2</td>\n      <td>354.5</td>\n    </tr>\n  </tbody>\n</table>\n</div>"
     },
     "metadata": {}
    }
   ],
   "execution_count": 44
  },
  {
   "cell_type": "markdown",
   "source": "# Modifica las decimales que puede tener el DataFrame",
   "metadata": {
    "tags": [],
    "cell_id": "00007-ec29928f-15fa-4298-a2ba-bb9bafda468a",
    "deepnote_cell_type": "markdown"
   }
  },
  {
   "cell_type": "code",
   "metadata": {
    "tags": [],
    "cell_id": "00008-a0661253-dde3-4c6b-a6b0-117331e78778",
    "deepnote_to_be_reexecuted": false,
    "source_hash": "46b07e48",
    "execution_start": 1624906466399,
    "execution_millis": 91,
    "deepnote_cell_type": "code"
   },
   "source": "pd.options.display.float_format='{:,.2f}'.format\ndf_meteorites.describe()",
   "outputs": [
    {
     "output_type": "execute_result",
     "execution_count": 50,
     "data": {
      "application/vnd.deepnote.dataframe.v2+json": {
       "row_count": 8,
       "column_count": 4,
       "columns": [
        {
         "name": "id",
         "dtype": "float64",
         "stats": {
          "unique_count": 8,
          "nan_count": 0,
          "min": "1.0",
          "max": "57458.0",
          "histogram": [
           {
            "bin_start": 1,
            "bin_end": 5746.7,
            "count": 1
           },
           {
            "bin_start": 5746.7,
            "bin_end": 11492.4,
            "count": 0
           },
           {
            "bin_start": 11492.4,
            "bin_end": 17238.1,
            "count": 2
           },
           {
            "bin_start": 17238.1,
            "bin_end": 22983.8,
            "count": 0
           },
           {
            "bin_start": 22983.8,
            "bin_end": 28729.5,
            "count": 2
           },
           {
            "bin_start": 28729.5,
            "bin_end": 34475.2,
            "count": 0
           },
           {
            "bin_start": 34475.2,
            "bin_end": 40220.9,
            "count": 0
           },
           {
            "bin_start": 40220.9,
            "bin_end": 45966.6,
            "count": 2
           },
           {
            "bin_start": 45966.6,
            "bin_end": 51712.299999999996,
            "count": 0
           },
           {
            "bin_start": 51712.299999999996,
            "bin_end": 57458,
            "count": 1
           }
          ]
         }
        },
        {
         "name": "mass (g)",
         "dtype": "float64",
         "stats": {
          "unique_count": 8,
          "nan_count": 0,
          "min": "0.0",
          "max": "60000000.0",
          "histogram": [
           {
            "bin_start": 0,
            "bin_end": 6000000,
            "count": 7
           },
           {
            "bin_start": 6000000,
            "bin_end": 12000000,
            "count": 0
           },
           {
            "bin_start": 12000000,
            "bin_end": 18000000,
            "count": 0
           },
           {
            "bin_start": 18000000,
            "bin_end": 24000000,
            "count": 0
           },
           {
            "bin_start": 24000000,
            "bin_end": 30000000,
            "count": 0
           },
           {
            "bin_start": 30000000,
            "bin_end": 36000000,
            "count": 0
           },
           {
            "bin_start": 36000000,
            "bin_end": 42000000,
            "count": 0
           },
           {
            "bin_start": 42000000,
            "bin_end": 48000000,
            "count": 0
           },
           {
            "bin_start": 48000000,
            "bin_end": 54000000,
            "count": 0
           },
           {
            "bin_start": 54000000,
            "bin_end": 60000000,
            "count": 1
           }
          ]
         }
        },
        {
         "name": "reclat",
         "dtype": "float64",
         "stats": {
          "unique_count": 8,
          "nan_count": 0,
          "min": "-87.36667",
          "max": "38401.0",
          "histogram": [
           {
            "bin_start": -87.36667,
            "bin_end": 3761.4699970000006,
            "count": 7
           },
           {
            "bin_start": 3761.4699970000006,
            "bin_end": 7610.306664000001,
            "count": 0
           },
           {
            "bin_start": 7610.306664000001,
            "bin_end": 11459.143331000003,
            "count": 0
           },
           {
            "bin_start": 11459.143331000003,
            "bin_end": 15307.979998000003,
            "count": 0
           },
           {
            "bin_start": 15307.979998000003,
            "bin_end": 19156.816665000002,
            "count": 0
           },
           {
            "bin_start": 19156.816665000002,
            "bin_end": 23005.653332000005,
            "count": 0
           },
           {
            "bin_start": 23005.653332000005,
            "bin_end": 26854.489999000005,
            "count": 0
           },
           {
            "bin_start": 26854.489999000005,
            "bin_end": 30703.326666000004,
            "count": 0
           },
           {
            "bin_start": 30703.326666000004,
            "bin_end": 34552.163333000004,
            "count": 0
           },
           {
            "bin_start": 34552.163333000004,
            "bin_end": 38401,
            "count": 1
           }
          ]
         }
        },
        {
         "name": "reclong",
         "dtype": "float64",
         "stats": {
          "unique_count": 8,
          "nan_count": 0,
          "min": "-165.43333",
          "max": "38401.0",
          "histogram": [
           {
            "bin_start": -165.43333,
            "bin_end": 3691.210003,
            "count": 7
           },
           {
            "bin_start": 3691.210003,
            "bin_end": 7547.853336,
            "count": 0
           },
           {
            "bin_start": 7547.853336,
            "bin_end": 11404.496669,
            "count": 0
           },
           {
            "bin_start": 11404.496669,
            "bin_end": 15261.140002,
            "count": 0
           },
           {
            "bin_start": 15261.140002,
            "bin_end": 19117.783335,
            "count": 0
           },
           {
            "bin_start": 19117.783335,
            "bin_end": 22974.426668,
            "count": 0
           },
           {
            "bin_start": 22974.426668,
            "bin_end": 26831.070001,
            "count": 0
           },
           {
            "bin_start": 26831.070001,
            "bin_end": 30687.713334,
            "count": 0
           },
           {
            "bin_start": 30687.713334,
            "bin_end": 34544.356667,
            "count": 0
           },
           {
            "bin_start": 34544.356667,
            "bin_end": 38401,
            "count": 1
           }
          ]
         }
        },
        {
         "name": "_deepnote_index_column",
         "dtype": "object"
        }
       ],
       "rows_top": [
        {
         "id": 45716,
         "mass (g)": 45585,
         "reclat": 38401,
         "reclong": 38401,
         "_deepnote_index_column": "count"
        },
        {
         "id": 26889.73510368361,
         "mass (g)": 13278.078548601512,
         "reclat": -39.12258031142418,
         "reclong": 61.074318526236304,
         "_deepnote_index_column": "mean"
        },
        {
         "id": 16860.683030276337,
         "mass (g)": 574988.876410473,
         "reclat": 46.37851135669318,
         "reclong": 80.64729807908505,
         "_deepnote_index_column": "std"
        },
        {
         "id": 1,
         "mass (g)": 0,
         "reclat": -87.36667,
         "reclong": -165.43333,
         "_deepnote_index_column": "min"
        },
        {
         "id": 12688.75,
         "mass (g)": 7.2,
         "reclat": -76.71424,
         "reclong": 0,
         "_deepnote_index_column": "25%"
        },
        {
         "id": 24261.5,
         "mass (g)": 32.6,
         "reclat": -71.5,
         "reclong": 35.66667,
         "_deepnote_index_column": "50%"
        },
        {
         "id": 40656.75,
         "mass (g)": 202.6,
         "reclat": 0,
         "reclong": 157.16667,
         "_deepnote_index_column": "75%"
        },
        {
         "id": 57458,
         "mass (g)": 60000000,
         "reclat": 81.16667,
         "reclong": 354.47333,
         "_deepnote_index_column": "max"
        }
       ],
       "rows_bottom": null
      },
      "text/plain": "             id      mass (g)    reclat   reclong\ncount 45,716.00     45,585.00 38,401.00 38,401.00\nmean  26,889.74     13,278.08    -39.12     61.07\nstd   16,860.68    574,988.88     46.38     80.65\nmin        1.00          0.00    -87.37   -165.43\n25%   12,688.75          7.20    -76.71      0.00\n50%   24,261.50         32.60    -71.50     35.67\n75%   40,656.75        202.60      0.00    157.17\nmax   57,458.00 60,000,000.00     81.17    354.47",
      "text/html": "<div>\n<style scoped>\n    .dataframe tbody tr th:only-of-type {\n        vertical-align: middle;\n    }\n\n    .dataframe tbody tr th {\n        vertical-align: top;\n    }\n\n    .dataframe thead th {\n        text-align: right;\n    }\n</style>\n<table border=\"1\" class=\"dataframe\">\n  <thead>\n    <tr style=\"text-align: right;\">\n      <th></th>\n      <th>id</th>\n      <th>mass (g)</th>\n      <th>reclat</th>\n      <th>reclong</th>\n    </tr>\n  </thead>\n  <tbody>\n    <tr>\n      <th>count</th>\n      <td>45,716.00</td>\n      <td>45,585.00</td>\n      <td>38,401.00</td>\n      <td>38,401.00</td>\n    </tr>\n    <tr>\n      <th>mean</th>\n      <td>26,889.74</td>\n      <td>13,278.08</td>\n      <td>-39.12</td>\n      <td>61.07</td>\n    </tr>\n    <tr>\n      <th>std</th>\n      <td>16,860.68</td>\n      <td>574,988.88</td>\n      <td>46.38</td>\n      <td>80.65</td>\n    </tr>\n    <tr>\n      <th>min</th>\n      <td>1.00</td>\n      <td>0.00</td>\n      <td>-87.37</td>\n      <td>-165.43</td>\n    </tr>\n    <tr>\n      <th>25%</th>\n      <td>12,688.75</td>\n      <td>7.20</td>\n      <td>-76.71</td>\n      <td>0.00</td>\n    </tr>\n    <tr>\n      <th>50%</th>\n      <td>24,261.50</td>\n      <td>32.60</td>\n      <td>-71.50</td>\n      <td>35.67</td>\n    </tr>\n    <tr>\n      <th>75%</th>\n      <td>40,656.75</td>\n      <td>202.60</td>\n      <td>0.00</td>\n      <td>157.17</td>\n    </tr>\n    <tr>\n      <th>max</th>\n      <td>57,458.00</td>\n      <td>60,000,000.00</td>\n      <td>81.17</td>\n      <td>354.47</td>\n    </tr>\n  </tbody>\n</table>\n</div>"
     },
     "metadata": {}
    }
   ],
   "execution_count": 50
  },
  {
   "cell_type": "markdown",
   "source": "# Para una visualizacion mas compleja con describe(include='all')",
   "metadata": {
    "tags": [],
    "cell_id": "00009-5d7d2491-f49e-4bfc-9489-a2936ec3f57a",
    "deepnote_cell_type": "markdown"
   }
  },
  {
   "cell_type": "code",
   "metadata": {
    "tags": [],
    "cell_id": "00009-aacfaf8c-ebc2-497b-8073-b4bd111f9633",
    "deepnote_to_be_reexecuted": false,
    "source_hash": "4abfd473",
    "execution_start": 1624906022430,
    "execution_millis": 126,
    "deepnote_cell_type": "code"
   },
   "source": "df_meteorites.describe(include='all')",
   "outputs": [
    {
     "output_type": "execute_result",
     "execution_count": 32,
     "data": {
      "application/vnd.deepnote.dataframe.v2+json": {
       "row_count": 11,
       "column_count": 10,
       "columns": [
        {
         "name": "name",
         "dtype": "object",
         "stats": {
          "unique_count": 3,
          "nan_count": 7,
          "categories": [
           {
            "name": "45716",
            "count": 2
           },
           {
            "name": "2 others",
            "count": 2
           },
           {
            "name": "Missing",
            "count": 7
           }
          ]
         }
        },
        {
         "name": "id",
         "dtype": "float64",
         "stats": {
          "unique_count": 8,
          "nan_count": 3,
          "min": "1.0",
          "max": "57458.0",
          "histogram": [
           {
            "bin_start": 1,
            "bin_end": 5746.7,
            "count": 1
           },
           {
            "bin_start": 5746.7,
            "bin_end": 11492.4,
            "count": 0
           },
           {
            "bin_start": 11492.4,
            "bin_end": 17238.1,
            "count": 2
           },
           {
            "bin_start": 17238.1,
            "bin_end": 22983.8,
            "count": 0
           },
           {
            "bin_start": 22983.8,
            "bin_end": 28729.5,
            "count": 2
           },
           {
            "bin_start": 28729.5,
            "bin_end": 34475.2,
            "count": 0
           },
           {
            "bin_start": 34475.2,
            "bin_end": 40220.9,
            "count": 0
           },
           {
            "bin_start": 40220.9,
            "bin_end": 45966.6,
            "count": 2
           },
           {
            "bin_start": 45966.6,
            "bin_end": 51712.299999999996,
            "count": 0
           },
           {
            "bin_start": 51712.299999999996,
            "bin_end": 57458,
            "count": 1
           }
          ]
         }
        },
        {
         "name": "nametype",
         "dtype": "object",
         "stats": {
          "unique_count": 4,
          "nan_count": 7,
          "categories": [
           {
            "name": "45716",
            "count": 1
           },
           {
            "name": "3 others",
            "count": 3
           },
           {
            "name": "Missing",
            "count": 7
           }
          ]
         }
        },
        {
         "name": "recclass",
         "dtype": "object",
         "stats": {
          "unique_count": 4,
          "nan_count": 7,
          "categories": [
           {
            "name": "45716",
            "count": 1
           },
           {
            "name": "3 others",
            "count": 3
           },
           {
            "name": "Missing",
            "count": 7
           }
          ]
         }
        },
        {
         "name": "mass (g)",
         "dtype": "float64",
         "stats": {
          "unique_count": 8,
          "nan_count": 3,
          "min": "0.0",
          "max": "60000000.0",
          "histogram": [
           {
            "bin_start": 0,
            "bin_end": 6000000,
            "count": 7
           },
           {
            "bin_start": 6000000,
            "bin_end": 12000000,
            "count": 0
           },
           {
            "bin_start": 12000000,
            "bin_end": 18000000,
            "count": 0
           },
           {
            "bin_start": 18000000,
            "bin_end": 24000000,
            "count": 0
           },
           {
            "bin_start": 24000000,
            "bin_end": 30000000,
            "count": 0
           },
           {
            "bin_start": 30000000,
            "bin_end": 36000000,
            "count": 0
           },
           {
            "bin_start": 36000000,
            "bin_end": 42000000,
            "count": 0
           },
           {
            "bin_start": 42000000,
            "bin_end": 48000000,
            "count": 0
           },
           {
            "bin_start": 48000000,
            "bin_end": 54000000,
            "count": 0
           },
           {
            "bin_start": 54000000,
            "bin_end": 60000000,
            "count": 1
           }
          ]
         }
        },
        {
         "name": "fall",
         "dtype": "object",
         "stats": {
          "unique_count": 4,
          "nan_count": 7,
          "categories": [
           {
            "name": "45716",
            "count": 1
           },
           {
            "name": "3 others",
            "count": 3
           },
           {
            "name": "Missing",
            "count": 7
           }
          ]
         }
        },
        {
         "name": "year",
         "dtype": "object",
         "stats": {
          "unique_count": 4,
          "nan_count": 7,
          "categories": [
           {
            "name": "45425",
            "count": 1
           },
           {
            "name": "3 others",
            "count": 3
           },
           {
            "name": "Missing",
            "count": 7
           }
          ]
         }
        },
        {
         "name": "reclat",
         "dtype": "float64",
         "stats": {
          "unique_count": 8,
          "nan_count": 3,
          "min": "-87.36667",
          "max": "38401.0",
          "histogram": [
           {
            "bin_start": -87.36667,
            "bin_end": 3761.4699970000006,
            "count": 7
           },
           {
            "bin_start": 3761.4699970000006,
            "bin_end": 7610.306664000001,
            "count": 0
           },
           {
            "bin_start": 7610.306664000001,
            "bin_end": 11459.143331000003,
            "count": 0
           },
           {
            "bin_start": 11459.143331000003,
            "bin_end": 15307.979998000003,
            "count": 0
           },
           {
            "bin_start": 15307.979998000003,
            "bin_end": 19156.816665000002,
            "count": 0
           },
           {
            "bin_start": 19156.816665000002,
            "bin_end": 23005.653332000005,
            "count": 0
           },
           {
            "bin_start": 23005.653332000005,
            "bin_end": 26854.489999000005,
            "count": 0
           },
           {
            "bin_start": 26854.489999000005,
            "bin_end": 30703.326666000004,
            "count": 0
           },
           {
            "bin_start": 30703.326666000004,
            "bin_end": 34552.163333000004,
            "count": 0
           },
           {
            "bin_start": 34552.163333000004,
            "bin_end": 38401,
            "count": 1
           }
          ]
         }
        },
        {
         "name": "reclong",
         "dtype": "float64",
         "stats": {
          "unique_count": 8,
          "nan_count": 3,
          "min": "-165.43333",
          "max": "38401.0",
          "histogram": [
           {
            "bin_start": -165.43333,
            "bin_end": 3691.210003,
            "count": 7
           },
           {
            "bin_start": 3691.210003,
            "bin_end": 7547.853336,
            "count": 0
           },
           {
            "bin_start": 7547.853336,
            "bin_end": 11404.496669,
            "count": 0
           },
           {
            "bin_start": 11404.496669,
            "bin_end": 15261.140002,
            "count": 0
           },
           {
            "bin_start": 15261.140002,
            "bin_end": 19117.783335,
            "count": 0
           },
           {
            "bin_start": 19117.783335,
            "bin_end": 22974.426668,
            "count": 0
           },
           {
            "bin_start": 22974.426668,
            "bin_end": 26831.070001,
            "count": 0
           },
           {
            "bin_start": 26831.070001,
            "bin_end": 30687.713334,
            "count": 0
           },
           {
            "bin_start": 30687.713334,
            "bin_end": 34544.356667,
            "count": 0
           },
           {
            "bin_start": 34544.356667,
            "bin_end": 38401,
            "count": 1
           }
          ]
         }
        },
        {
         "name": "GeoLocation",
         "dtype": "object",
         "stats": {
          "unique_count": 4,
          "nan_count": 7,
          "categories": [
           {
            "name": "38401",
            "count": 1
           },
           {
            "name": "3 others",
            "count": 3
           },
           {
            "name": "Missing",
            "count": 7
           }
          ]
         }
        },
        {
         "name": "_deepnote_index_column",
         "dtype": "object"
        }
       ],
       "rows_top": [
        {
         "name": "45716",
         "id": 45716,
         "nametype": "45716",
         "recclass": "45716",
         "mass (g)": 45585,
         "fall": "45716",
         "year": "45425",
         "reclat": 38401,
         "reclong": 38401,
         "GeoLocation": "38401",
         "_deepnote_index_column": "count"
        },
        {
         "name": "45716",
         "id": "nan",
         "nametype": "2",
         "recclass": "466",
         "mass (g)": "nan",
         "fall": "2",
         "year": "266",
         "reclat": "nan",
         "reclong": "nan",
         "GeoLocation": "17100",
         "_deepnote_index_column": "unique"
        },
        {
         "name": "Northwest Africa 1491",
         "id": "nan",
         "nametype": "Valid",
         "recclass": "L6",
         "mass (g)": "nan",
         "fall": "Found",
         "year": "01/01/2003 12:00:00 AM",
         "reclat": "nan",
         "reclong": "nan",
         "GeoLocation": "(0.0, 0.0)",
         "_deepnote_index_column": "top"
        },
        {
         "name": "1",
         "id": "nan",
         "nametype": "45641",
         "recclass": "8285",
         "mass (g)": "nan",
         "fall": "44609",
         "year": "3323",
         "reclat": "nan",
         "reclong": "nan",
         "GeoLocation": "6214",
         "_deepnote_index_column": "freq"
        },
        {
         "name": "nan",
         "id": 26889.73510368361,
         "nametype": "nan",
         "recclass": "nan",
         "mass (g)": 13278.078548601512,
         "fall": "nan",
         "year": "nan",
         "reclat": -39.12258031142418,
         "reclong": 61.074318526236304,
         "GeoLocation": "nan",
         "_deepnote_index_column": "mean"
        },
        {
         "name": "nan",
         "id": 16860.683030276337,
         "nametype": "nan",
         "recclass": "nan",
         "mass (g)": 574988.876410473,
         "fall": "nan",
         "year": "nan",
         "reclat": 46.37851135669318,
         "reclong": 80.64729807908505,
         "GeoLocation": "nan",
         "_deepnote_index_column": "std"
        },
        {
         "name": "nan",
         "id": 1,
         "nametype": "nan",
         "recclass": "nan",
         "mass (g)": 0,
         "fall": "nan",
         "year": "nan",
         "reclat": -87.36667,
         "reclong": -165.43333,
         "GeoLocation": "nan",
         "_deepnote_index_column": "min"
        },
        {
         "name": "nan",
         "id": 12688.75,
         "nametype": "nan",
         "recclass": "nan",
         "mass (g)": 7.2,
         "fall": "nan",
         "year": "nan",
         "reclat": -76.71424,
         "reclong": 0,
         "GeoLocation": "nan",
         "_deepnote_index_column": "25%"
        },
        {
         "name": "nan",
         "id": 24261.5,
         "nametype": "nan",
         "recclass": "nan",
         "mass (g)": 32.6,
         "fall": "nan",
         "year": "nan",
         "reclat": -71.5,
         "reclong": 35.66667,
         "GeoLocation": "nan",
         "_deepnote_index_column": "50%"
        },
        {
         "name": "nan",
         "id": 40656.75,
         "nametype": "nan",
         "recclass": "nan",
         "mass (g)": 202.6,
         "fall": "nan",
         "year": "nan",
         "reclat": 0,
         "reclong": 157.16667,
         "GeoLocation": "nan",
         "_deepnote_index_column": "75%"
        },
        {
         "name": "nan",
         "id": 57458,
         "nametype": "nan",
         "recclass": "nan",
         "mass (g)": 60000000,
         "fall": "nan",
         "year": "nan",
         "reclat": 81.16667,
         "reclong": 354.47333,
         "GeoLocation": "nan",
         "_deepnote_index_column": "max"
        }
       ],
       "rows_bottom": null
      },
      "text/plain": "                         name       id nametype recclass     mass (g)   fall  \\\ncount                   45716 45,716.0    45716    45716     45,585.0  45716   \nunique                  45716      NaN        2      466          NaN      2   \ntop     Northwest Africa 1491      NaN    Valid       L6          NaN  Found   \nfreq                        1      NaN    45641     8285          NaN  44609   \nmean                      NaN 26,889.7      NaN      NaN     13,278.1    NaN   \nstd                       NaN 16,860.7      NaN      NaN    574,988.9    NaN   \nmin                       NaN      1.0      NaN      NaN          0.0    NaN   \n25%                       NaN 12,688.8      NaN      NaN          7.2    NaN   \n50%                       NaN 24,261.5      NaN      NaN         32.6    NaN   \n75%                       NaN 40,656.8      NaN      NaN        202.6    NaN   \nmax                       NaN 57,458.0      NaN      NaN 60,000,000.0    NaN   \n\n                          year   reclat  reclong GeoLocation  \ncount                    45425 38,401.0 38,401.0       38401  \nunique                     266      NaN      NaN       17100  \ntop     01/01/2003 12:00:00 AM      NaN      NaN  (0.0, 0.0)  \nfreq                      3323      NaN      NaN        6214  \nmean                       NaN    -39.1     61.1         NaN  \nstd                        NaN     46.4     80.6         NaN  \nmin                        NaN    -87.4   -165.4         NaN  \n25%                        NaN    -76.7      0.0         NaN  \n50%                        NaN    -71.5     35.7         NaN  \n75%                        NaN      0.0    157.2         NaN  \nmax                        NaN     81.2    354.5         NaN  ",
      "text/html": "<div>\n<style scoped>\n    .dataframe tbody tr th:only-of-type {\n        vertical-align: middle;\n    }\n\n    .dataframe tbody tr th {\n        vertical-align: top;\n    }\n\n    .dataframe thead th {\n        text-align: right;\n    }\n</style>\n<table border=\"1\" class=\"dataframe\">\n  <thead>\n    <tr style=\"text-align: right;\">\n      <th></th>\n      <th>name</th>\n      <th>id</th>\n      <th>nametype</th>\n      <th>recclass</th>\n      <th>mass (g)</th>\n      <th>fall</th>\n      <th>year</th>\n      <th>reclat</th>\n      <th>reclong</th>\n      <th>GeoLocation</th>\n    </tr>\n  </thead>\n  <tbody>\n    <tr>\n      <th>count</th>\n      <td>45716</td>\n      <td>45,716.0</td>\n      <td>45716</td>\n      <td>45716</td>\n      <td>45,585.0</td>\n      <td>45716</td>\n      <td>45425</td>\n      <td>38,401.0</td>\n      <td>38,401.0</td>\n      <td>38401</td>\n    </tr>\n    <tr>\n      <th>unique</th>\n      <td>45716</td>\n      <td>NaN</td>\n      <td>2</td>\n      <td>466</td>\n      <td>NaN</td>\n      <td>2</td>\n      <td>266</td>\n      <td>NaN</td>\n      <td>NaN</td>\n      <td>17100</td>\n    </tr>\n    <tr>\n      <th>top</th>\n      <td>Northwest Africa 1491</td>\n      <td>NaN</td>\n      <td>Valid</td>\n      <td>L6</td>\n      <td>NaN</td>\n      <td>Found</td>\n      <td>01/01/2003 12:00:00 AM</td>\n      <td>NaN</td>\n      <td>NaN</td>\n      <td>(0.0, 0.0)</td>\n    </tr>\n    <tr>\n      <th>freq</th>\n      <td>1</td>\n      <td>NaN</td>\n      <td>45641</td>\n      <td>8285</td>\n      <td>NaN</td>\n      <td>44609</td>\n      <td>3323</td>\n      <td>NaN</td>\n      <td>NaN</td>\n      <td>6214</td>\n    </tr>\n    <tr>\n      <th>mean</th>\n      <td>NaN</td>\n      <td>26,889.7</td>\n      <td>NaN</td>\n      <td>NaN</td>\n      <td>13,278.1</td>\n      <td>NaN</td>\n      <td>NaN</td>\n      <td>-39.1</td>\n      <td>61.1</td>\n      <td>NaN</td>\n    </tr>\n    <tr>\n      <th>std</th>\n      <td>NaN</td>\n      <td>16,860.7</td>\n      <td>NaN</td>\n      <td>NaN</td>\n      <td>574,988.9</td>\n      <td>NaN</td>\n      <td>NaN</td>\n      <td>46.4</td>\n      <td>80.6</td>\n      <td>NaN</td>\n    </tr>\n    <tr>\n      <th>min</th>\n      <td>NaN</td>\n      <td>1.0</td>\n      <td>NaN</td>\n      <td>NaN</td>\n      <td>0.0</td>\n      <td>NaN</td>\n      <td>NaN</td>\n      <td>-87.4</td>\n      <td>-165.4</td>\n      <td>NaN</td>\n    </tr>\n    <tr>\n      <th>25%</th>\n      <td>NaN</td>\n      <td>12,688.8</td>\n      <td>NaN</td>\n      <td>NaN</td>\n      <td>7.2</td>\n      <td>NaN</td>\n      <td>NaN</td>\n      <td>-76.7</td>\n      <td>0.0</td>\n      <td>NaN</td>\n    </tr>\n    <tr>\n      <th>50%</th>\n      <td>NaN</td>\n      <td>24,261.5</td>\n      <td>NaN</td>\n      <td>NaN</td>\n      <td>32.6</td>\n      <td>NaN</td>\n      <td>NaN</td>\n      <td>-71.5</td>\n      <td>35.7</td>\n      <td>NaN</td>\n    </tr>\n    <tr>\n      <th>75%</th>\n      <td>NaN</td>\n      <td>40,656.8</td>\n      <td>NaN</td>\n      <td>NaN</td>\n      <td>202.6</td>\n      <td>NaN</td>\n      <td>NaN</td>\n      <td>0.0</td>\n      <td>157.2</td>\n      <td>NaN</td>\n    </tr>\n    <tr>\n      <th>max</th>\n      <td>NaN</td>\n      <td>57,458.0</td>\n      <td>NaN</td>\n      <td>NaN</td>\n      <td>60,000,000.0</td>\n      <td>NaN</td>\n      <td>NaN</td>\n      <td>81.2</td>\n      <td>354.5</td>\n      <td>NaN</td>\n    </tr>\n  </tbody>\n</table>\n</div>"
     },
     "metadata": {}
    }
   ],
   "execution_count": 32
  },
  {
   "cell_type": "code",
   "metadata": {
    "tags": [],
    "cell_id": "00011-0b4d8677-2002-473d-943e-91c194a308d7",
    "deepnote_to_be_reexecuted": false,
    "source_hash": "ae4c624b",
    "execution_start": 1624906101465,
    "execution_millis": 34,
    "deepnote_cell_type": "code"
   },
   "source": "df_meteorites.info()",
   "outputs": [
    {
     "name": "stdout",
     "text": "<class 'pandas.core.frame.DataFrame'>\nRangeIndex: 45716 entries, 0 to 45715\nData columns (total 10 columns):\n #   Column       Non-Null Count  Dtype  \n---  ------       --------------  -----  \n 0   name         45716 non-null  object \n 1   id           45716 non-null  int64  \n 2   nametype     45716 non-null  object \n 3   recclass     45716 non-null  object \n 4   mass (g)     45585 non-null  float64\n 5   fall         45716 non-null  object \n 6   year         45425 non-null  object \n 7   reclat       38401 non-null  float64\n 8   reclong      38401 non-null  float64\n 9   GeoLocation  38401 non-null  object \ndtypes: float64(3), int64(1), object(6)\nmemory usage: 3.5+ MB\n",
     "output_type": "stream"
    }
   ],
   "execution_count": 33
  },
  {
   "cell_type": "markdown",
   "source": "# convert_dtypes Nos indica si nuestras columnas tienen el  formato adecuado.",
   "metadata": {
    "tags": [],
    "cell_id": "00012-af403b95-b138-426a-9173-df29d321c7c4",
    "deepnote_cell_type": "markdown"
   }
  },
  {
   "cell_type": "code",
   "metadata": {
    "tags": [],
    "cell_id": "00012-8b7e62c5-b0c5-4908-95b8-ff9513a01424",
    "deepnote_to_be_reexecuted": false,
    "source_hash": "ae3c892e",
    "execution_start": 1624906210065,
    "execution_millis": 37,
    "deepnote_cell_type": "code"
   },
   "source": "df_meteorites.convert_dtypes().dtypes",
   "outputs": [
    {
     "output_type": "execute_result",
     "execution_count": 39,
     "data": {
      "text/plain": "name            string\nid               Int64\nnametype        string\nrecclass        string\nmass (g)       Float64\nfall            string\nyear            string\nreclat         Float64\nreclong        Float64\nGeoLocation     string\ndtype: object"
     },
     "metadata": {}
    }
   ],
   "execution_count": 39
  },
  {
   "cell_type": "markdown",
   "source": "<a style='text-decoration:none;line-height:16px;display:flex;color:#5B5B62;padding:10px;justify-content:end;' href='https://deepnote.com?utm_source=created-in-deepnote-cell&projectId=40d7a071-7e6a-4668-9914-a7e81441c111' target=\"_blank\">\n<img alt='Created in deepnote.com' style='display:inline;max-height:16px;margin:0px;margin-right:7.5px;' src='data:image/svg+xml;base64,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' > </img>\nCreated in <span style='font-weight:600;margin-left:4px;'>Deepnote</span></a>",
   "metadata": {
    "tags": [],
    "created_in_deepnote_cell": true,
    "deepnote_cell_type": "markdown"
   }
  }
 ],
 "nbformat": 4,
 "nbformat_minor": 2,
 "metadata": {
  "orig_nbformat": 2,
  "deepnote": {
   "is_reactive": false
  },
  "deepnote_notebook_id": "2e8ce63b-f260-441a-86db-4443f708d792",
  "deepnote_execution_queue": []
 }
}